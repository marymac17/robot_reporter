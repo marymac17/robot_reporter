{
 "cells": [
  {
   "cell_type": "markdown",
   "metadata": {},
   "source": [
    "# Part 1: Data cleaning "
   ]
  },
  {
   "cell_type": "markdown",
   "metadata": {},
   "source": [
    "## Part 1: Data import and cleaning"
   ]
  },
  {
   "cell_type": "code",
   "execution_count": 2,
   "metadata": {},
   "outputs": [],
   "source": [
    "#import initial libraries\n",
    "\n",
    "import pandas as pd\n",
    "import numpy as np"
   ]
  },
  {
   "cell_type": "code",
   "execution_count": 3,
   "metadata": {},
   "outputs": [],
   "source": [
    "#import data \n",
    "\n",
    "df = pd.read_csv(\"data/ashli.csv\")"
   ]
  },
  {
   "cell_type": "code",
   "execution_count": 4,
   "metadata": {},
   "outputs": [
    {
     "name": "stdout",
     "output_type": "stream",
     "text": [
      "<class 'pandas.core.frame.DataFrame'>\n",
      "RangeIndex: 42996 entries, 0 to 42995\n",
      "Data columns (total 37 columns):\n",
      " #   Column                        Non-Null Count  Dtype  \n",
      "---  ------                        --------------  -----  \n",
      " 0   id                            42996 non-null  int64  \n",
      " 1   tweet_url                     42996 non-null  object \n",
      " 2   created_at                    42996 non-null  object \n",
      " 3   parsed_created_at             42996 non-null  object \n",
      " 4   user_screen_name              42996 non-null  object \n",
      " 5   text                          42996 non-null  object \n",
      " 6   tweet_type                    42996 non-null  object \n",
      " 7   coordinates                   0 non-null      float64\n",
      " 8   hashtags                      1926 non-null   object \n",
      " 9   media                         2423 non-null   object \n",
      " 10  urls                          6191 non-null   object \n",
      " 11  favorite_count                42996 non-null  int64  \n",
      " 12  in_reply_to_screen_name       3216 non-null   object \n",
      " 13  in_reply_to_status_id         3044 non-null   float64\n",
      " 14  in_reply_to_user_id           3216 non-null   float64\n",
      " 15  lang                          42996 non-null  object \n",
      " 16  place                         192 non-null    object \n",
      " 17  possibly_sensitive            6487 non-null   object \n",
      " 18  retweet_count                 42996 non-null  int64  \n",
      " 19  retweet_or_quote_id           38608 non-null  float64\n",
      " 20  retweet_or_quote_screen_name  38608 non-null  object \n",
      " 21  retweet_or_quote_user_id      38608 non-null  float64\n",
      " 22  source                        42981 non-null  object \n",
      " 23  user_id                       42996 non-null  int64  \n",
      " 24  user_created_at               42996 non-null  object \n",
      " 25  user_default_profile_image    42996 non-null  bool   \n",
      " 26  user_description              35357 non-null  object \n",
      " 27  user_favourites_count         42996 non-null  int64  \n",
      " 28  user_followers_count          42996 non-null  int64  \n",
      " 29  user_friends_count            42996 non-null  int64  \n",
      " 30  user_listed_count             42996 non-null  int64  \n",
      " 31  user_location                 25822 non-null  object \n",
      " 32  user_name                     42995 non-null  object \n",
      " 33  user_statuses_count           42996 non-null  int64  \n",
      " 34  user_time_zone                0 non-null      float64\n",
      " 35  user_urls                     0 non-null      float64\n",
      " 36  user_verified                 42996 non-null  bool   \n",
      "dtypes: bool(2), float64(7), int64(9), object(19)\n",
      "memory usage: 11.6+ MB\n"
     ]
    }
   ],
   "source": [
    "# look at basic info about data\n",
    "\n",
    "df.info()\n",
    "# this data set consists of 42996 Tweets\n",
    "# Twarc filter tracking keyword \"ashli\" started within half-hour after name of \"ashli babbitt\" was published\n",
    "# (Ashley Babbit is the protester who was killed in the capitol during the riots on Jan. 6)"
   ]
  },
  {
   "cell_type": "code",
   "execution_count": 5,
   "metadata": {},
   "outputs": [
    {
     "name": "stdout",
     "output_type": "stream",
     "text": [
      "35 ['en' 'th' 'tl' 'und' 'pt' 'es' 'lt' 'it' 'fr' 'ja' 'de' 'ht' 'zh' 'in'\n",
      " 'el' 'ca' 'is' 'pl' 'nl' 'ko' 'fa' 'hu' 'ar' 'cy' 'cs' 'et' 'no' 'tr'\n",
      " 'lv' 'sv' 'ro' 'sl' 'eu' 'fi' 'da']\n"
     ]
    }
   ],
   "source": [
    "# count number of languages in data set\n",
    "\n",
    "count_lang = df['lang'].unique()\n",
    "print(len(count_lang), count_lang)"
   ]
  },
  {
   "cell_type": "code",
   "execution_count": 7,
   "metadata": {},
   "outputs": [
    {
     "data": {
      "text/plain": [
       "(38884, 37)"
      ]
     },
     "execution_count": 7,
     "metadata": {},
     "output_type": "execute_result"
    }
   ],
   "source": [
    "# tweets are in 35 different languages\n",
    "\n",
    "# I'll be working only with Tweets in English\n",
    "# drop tweets in all other languages\n",
    "# now working with 38884 Tweets \n",
    "\n",
    "df = df[df.lang == 'en']\n",
    "df.shape"
   ]
  },
  {
   "cell_type": "code",
   "execution_count": 8,
   "metadata": {},
   "outputs": [],
   "source": [
    "# drop unnecessary columns \n",
    "\n",
    "df = df.drop(['tweet_url', 'created_at', 'media', 'urls','in_reply_to_screen_name',\n",
    "       'in_reply_to_status_id', 'in_reply_to_user_id', 'retweet_or_quote_id',\n",
    "       'retweet_or_quote_screen_name', 'retweet_or_quote_user_id', 'source',\n",
    "       'user_created_at', 'user_name', 'user_verified', 'user_friends_count', 'user_listed_count',\n",
    "       'user_statuses_count', 'user_default_profile_image', 'user_description',\n",
    "       'user_favourites_count', 'user_followers_count', 'coordinates', 'lang', 'user_location', 'user_time_zone', 'user_urls', 'place'], axis=1)"
   ]
  },
  {
   "cell_type": "code",
   "execution_count": 10,
   "metadata": {},
   "outputs": [
    {
     "data": {
      "text/plain": [
       "id                           1347022076096307201\n",
       "parsed_created_at      2021-01-07 03:27:44+00:00\n",
       "user_screen_name                 unabashedlycri1\n",
       "text                  Her name was Ashli Babbit.\n",
       "tweet_type                               retweet\n",
       "hashtags                                     NaN\n",
       "favorite_count                              5602\n",
       "possibly_sensitive                           NaN\n",
       "retweet_count                                  0\n",
       "user_id                      1279137538104426496\n",
       "Name: 0, dtype: object"
      ]
     },
     "execution_count": 10,
     "metadata": {},
     "output_type": "execute_result"
    }
   ],
   "source": [
    "# check start time & date of data\n",
    "\n",
    "df.iloc[0]\n",
    "\n",
    "# first Tweet downloaded Jan 7, 2021 at 03:27:44"
   ]
  },
  {
   "cell_type": "code",
   "execution_count": 12,
   "metadata": {},
   "outputs": [
    {
     "data": {
      "text/plain": [
       "id                                                  1347064414789271558\n",
       "parsed_created_at                             2021-01-07 06:15:58+00:00\n",
       "user_screen_name                                            Ben18629860\n",
       "text                  Not one of these worthless fuckers have given ...\n",
       "tweet_type                                                      retweet\n",
       "hashtags                                                            NaN\n",
       "favorite_count                                                     1986\n",
       "possibly_sensitive                                                  NaN\n",
       "retweet_count                                                         0\n",
       "user_id                                             1193375422752256002\n",
       "Name: 42995, dtype: object"
      ]
     },
     "execution_count": 12,
     "metadata": {},
     "output_type": "execute_result"
    }
   ],
   "source": [
    "# check end time & date of data \n",
    "\n",
    "df.iloc[-1]\n",
    "\n",
    "# last Tweet on Jan 7, 2021 at 06:15:58"
   ]
  },
  {
   "cell_type": "markdown",
   "metadata": {},
   "source": [
    "# Part 2: Text processing for NLP "
   ]
  },
  {
   "cell_type": "code",
   "execution_count": 13,
   "metadata": {},
   "outputs": [],
   "source": [
    "# create variable for \"text\" column \n",
    "text = df['text'] "
   ]
  },
  {
   "cell_type": "code",
   "execution_count": 14,
   "metadata": {},
   "outputs": [],
   "source": [
    "# tokenize, remove stopwords, remove urls, lowercase, remove punctuation, remove numbers\n",
    "# import necessary libraries: ntlk etc.\n",
    "\n",
    "import string\n",
    "import re\n",
    "import nltk\n",
    "from nltk.corpus import stopwords\n",
    "from nltk.tokenize import TweetTokenizer\n",
    "from nltk import pos_tag\n",
    "from nltk.stem import WordNetLemmatizer \n",
    "\n",
    "\n",
    "stop = stopwords.words('english')\n",
    "\n",
    "punc = list(set(string.punctuation))\n",
    "\n",
    "def tokenizer(text):\n",
    "    tokenizer = TweetTokenizer()\n",
    "    tokens = tokenizer.tokenize(text)\n",
    "    return tokens\n",
    "\n",
    "def remove_url(text):\n",
    "    url = re.compile(r\"https?://\\S+|www\\.\\S+\")\n",
    "    return url.sub(r'', text)\n",
    "\n",
    "def process_text(text):\n",
    "    text = remove_url(text)\n",
    "    text = tokenizer(text)\n",
    "    text = [word.lower() for word in text]\n",
    "    text = [re.sub('[0-9]+', '', word) for word in text]\n",
    "    text = [word for word in text if word not in punc]\n",
    "    text = [word for word in text if word not in stop]\n",
    "    text = [each for each in text if len(each) > 1]\n",
    "    text = [word for word in text if ' ' not in word]\n",
    "     \n",
    "    return text"
   ]
  },
  {
   "cell_type": "code",
   "execution_count": 15,
   "metadata": {},
   "outputs": [],
   "source": [
    "# apply text processing functions to text\n",
    "\n",
    "df['processed_text'] = df['text'].apply(process_text)"
   ]
  },
  {
   "cell_type": "code",
   "execution_count": 16,
   "metadata": {},
   "outputs": [
    {
     "name": "stderr",
     "output_type": "stream",
     "text": [
      "/opt/anaconda3/lib/python3.7/site-packages/ipykernel_launcher.py:3: FutureWarning: Passing a negative integer is deprecated in version 1.0 and will not be supported in future version. Instead, use None to not limit the column width.\n",
      "  This is separate from the ipykernel package so we can avoid doing imports until\n"
     ]
    },
    {
     "data": {
      "text/plain": [
       "0     [name, ashli, babbit]                                                                                                                                                                                                             \n",
       "1     [police, officer, shot, killed, ashli, babbitt]                                                                                                                                                                                   \n",
       "2     [name, ashli, babbit, year, veteran, served, four, tours, us, air, force, high, level, security, official, throughout, time, service]                                                                                             \n",
       "3     [@the_real_fly, believe, young, lady, ashli, babbit]                                                                                                                                                                              \n",
       "4     [living, history, right, beginning, american, revolution]                                                                                                                                                                         \n",
       "5     [police, officer, shot, killed, ashli, babbitt]                                                                                                                                                                                   \n",
       "6     [garrison, critical, thread, insurgent, killed, today, storming, capitol]                                                                                                                                                         \n",
       "7     [ashli, babbit, rednèck, ass, family, friends, online, trying, paint, like, oluwatoyin, salau, fuck, outta]                                                                                                                       \n",
       "8     [ashli, babbit, going, remembered, terrorist, martyr]                                                                                                                                                                             \n",
       "9     [ashli, babbit, stormed, capitol, tried, breach, window, speaker, lobby, killed, peacefully, protest, outside, invading, federal, building, terrorism]                                                                            \n",
       "10    [lin, wood, responsible, death, ashli, babbitt, alone]                                                                                                                                                                            \n",
       "12    [dc, police, murdered, veteran, cold, blood, today, vigils, like, george, floyd, get, plaza, dedicated, even, name, mentioned, house, floor, given, moment, silence, never, forget, ashli, babbit]                                \n",
       "13    [people, celebrating, death, ashli, babbit, twitter, think, think, transpired, summer]                                                                                                                                            \n",
       "14    [police, officer, shot, killed, ashli, babbitt]                                                                                                                                                                                   \n",
       "15    [police, officer, shot, killed, ashli, babbitt]                                                                                                                                                                                   \n",
       "16    [dc, police, murdered, veteran, cold, blood, today, vigils, like, george, floyd, get, plaza, dedicated, even, name, mentioned, house, floor, given, moment, silence, never, forget, ashli, babbit]                                \n",
       "17    [ashli, babbit, truly, defended, constitution, united, states, enemies, foreign, domestic, happened, today, senseless, rest, peace, beautiful, patriot]                                                                           \n",
       "18    [unarmed, woman, shot, dead, capitol, protest, identified, year, air, force, veteran, ashli, babbit, martyr, ashli, babbit, year, veteran, served, four, tours, us, air, force, high, level, security, official, throughout, time]\n",
       "19    [killed, air, force, veteran, ashli, babbit, congress, today, want, know, america, must, told]                                                                                                                                    \n",
       "20    [terrorist, name, ashli, babbit, year, veteran, killed, committing, treason, fixed]                                                                                                                                               \n",
       "Name: processed_text, dtype: object"
      ]
     },
     "execution_count": 16,
     "metadata": {},
     "output_type": "execute_result"
    }
   ],
   "source": [
    "# look at some of processed text\n",
    "\n",
    "pd.set_option('display.max_colwidth', -1)\n",
    "df['processed_text'][:20]"
   ]
  },
  {
   "cell_type": "code",
   "execution_count": 26,
   "metadata": {},
   "outputs": [],
   "source": [
    "# part-of-speech tagging \n",
    "\n",
    "ready_for_pos = df['processed_text']\n",
    "\n",
    "def pos_tagging(text):\n",
    "    pos_tag = [pos_tag(word) for word in ready_for_pos]\n",
    "\n",
    "df['pos_tagged'] = df.processed_text.apply(lambda x: pos_tag(x))"
   ]
  },
  {
   "cell_type": "code",
   "execution_count": 27,
   "metadata": {},
   "outputs": [],
   "source": [
    "# lemmatizing\n",
    "\n",
    "pos_tagged = df['pos_tagged']\n",
    "\n",
    "wordnet = WordNetLemmatizer() \n",
    "\n",
    "lemmatized = [[wordnet.lemmatize(word[0]) for word in words] for words in pos_tagged]"
   ]
  },
  {
   "cell_type": "code",
   "execution_count": 23,
   "metadata": {},
   "outputs": [],
   "source": [
    "pos_tagged = df['pos_tagged']"
   ]
  },
  {
   "cell_type": "code",
   "execution_count": 30,
   "metadata": {},
   "outputs": [],
   "source": [
    "# lemmatizing\n",
    "\n",
    "from nltk.stem import WordNetLemmatizer \n",
    "wordnet = WordNetLemmatizer() \n",
    "\n",
    "lemmatized = [[wordnet.lemmatize(word[0]) for word in words] for words in pos_tagged]"
   ]
  },
  {
   "cell_type": "code",
   "execution_count": 31,
   "metadata": {},
   "outputs": [
    {
     "data": {
      "text/plain": [
       "[['name', 'ashli', 'babbit'],\n",
       " ['police', 'officer', 'shot', 'killed', 'ashli', 'babbitt'],\n",
       " ['name',\n",
       "  'ashli',\n",
       "  'babbit',\n",
       "  'year',\n",
       "  'veteran',\n",
       "  'served',\n",
       "  'four',\n",
       "  'tour',\n",
       "  'u',\n",
       "  'air',\n",
       "  'force',\n",
       "  'high',\n",
       "  'level',\n",
       "  'security',\n",
       "  'official',\n",
       "  'throughout',\n",
       "  'time',\n",
       "  'service'],\n",
       " ['@the_real_fly', 'believe', 'young', 'lady', 'ashli', 'babbit'],\n",
       " ['living', 'history', 'right', 'beginning', 'american', 'revolution'],\n",
       " ['police', 'officer', 'shot', 'killed', 'ashli', 'babbitt'],\n",
       " ['garrison',\n",
       "  'critical',\n",
       "  'thread',\n",
       "  'insurgent',\n",
       "  'killed',\n",
       "  'today',\n",
       "  'storming',\n",
       "  'capitol'],\n",
       " ['ashli',\n",
       "  'babbit',\n",
       "  'rednèck',\n",
       "  'as',\n",
       "  'family',\n",
       "  'friend',\n",
       "  'online',\n",
       "  'trying',\n",
       "  'paint',\n",
       "  'like',\n",
       "  'oluwatoyin',\n",
       "  'salau',\n",
       "  'fuck',\n",
       "  'outta'],\n",
       " ['ashli', 'babbit', 'going', 'remembered', 'terrorist', 'martyr'],\n",
       " ['ashli',\n",
       "  'babbit',\n",
       "  'stormed',\n",
       "  'capitol',\n",
       "  'tried',\n",
       "  'breach',\n",
       "  'window',\n",
       "  'speaker',\n",
       "  'lobby',\n",
       "  'killed',\n",
       "  'peacefully',\n",
       "  'protest',\n",
       "  'outside',\n",
       "  'invading',\n",
       "  'federal',\n",
       "  'building',\n",
       "  'terrorism'],\n",
       " ['lin', 'wood', 'responsible', 'death', 'ashli', 'babbitt', 'alone'],\n",
       " ['dc',\n",
       "  'police',\n",
       "  'murdered',\n",
       "  'veteran',\n",
       "  'cold',\n",
       "  'blood',\n",
       "  'today',\n",
       "  'vigil',\n",
       "  'like',\n",
       "  'george',\n",
       "  'floyd',\n",
       "  'get',\n",
       "  'plaza',\n",
       "  'dedicated',\n",
       "  'even',\n",
       "  'name',\n",
       "  'mentioned',\n",
       "  'house',\n",
       "  'floor',\n",
       "  'given',\n",
       "  'moment',\n",
       "  'silence',\n",
       "  'never',\n",
       "  'forget',\n",
       "  'ashli',\n",
       "  'babbit'],\n",
       " ['people',\n",
       "  'celebrating',\n",
       "  'death',\n",
       "  'ashli',\n",
       "  'babbit',\n",
       "  'twitter',\n",
       "  'think',\n",
       "  'think',\n",
       "  'transpired',\n",
       "  'summer'],\n",
       " ['police', 'officer', 'shot', 'killed', 'ashli', 'babbitt'],\n",
       " ['police', 'officer', 'shot', 'killed', 'ashli', 'babbitt'],\n",
       " ['dc',\n",
       "  'police',\n",
       "  'murdered',\n",
       "  'veteran',\n",
       "  'cold',\n",
       "  'blood',\n",
       "  'today',\n",
       "  'vigil',\n",
       "  'like',\n",
       "  'george',\n",
       "  'floyd',\n",
       "  'get',\n",
       "  'plaza',\n",
       "  'dedicated',\n",
       "  'even',\n",
       "  'name',\n",
       "  'mentioned',\n",
       "  'house',\n",
       "  'floor',\n",
       "  'given',\n",
       "  'moment',\n",
       "  'silence',\n",
       "  'never',\n",
       "  'forget',\n",
       "  'ashli',\n",
       "  'babbit'],\n",
       " ['ashli',\n",
       "  'babbit',\n",
       "  'truly',\n",
       "  'defended',\n",
       "  'constitution',\n",
       "  'united',\n",
       "  'state',\n",
       "  'enemy',\n",
       "  'foreign',\n",
       "  'domestic',\n",
       "  'happened',\n",
       "  'today',\n",
       "  'senseless',\n",
       "  'rest',\n",
       "  'peace',\n",
       "  'beautiful',\n",
       "  'patriot'],\n",
       " ['unarmed',\n",
       "  'woman',\n",
       "  'shot',\n",
       "  'dead',\n",
       "  'capitol',\n",
       "  'protest',\n",
       "  'identified',\n",
       "  'year',\n",
       "  'air',\n",
       "  'force',\n",
       "  'veteran',\n",
       "  'ashli',\n",
       "  'babbit',\n",
       "  'martyr',\n",
       "  'ashli',\n",
       "  'babbit',\n",
       "  'year',\n",
       "  'veteran',\n",
       "  'served',\n",
       "  'four',\n",
       "  'tour',\n",
       "  'u',\n",
       "  'air',\n",
       "  'force',\n",
       "  'high',\n",
       "  'level',\n",
       "  'security',\n",
       "  'official',\n",
       "  'throughout',\n",
       "  'time'],\n",
       " ['killed',\n",
       "  'air',\n",
       "  'force',\n",
       "  'veteran',\n",
       "  'ashli',\n",
       "  'babbit',\n",
       "  'congress',\n",
       "  'today',\n",
       "  'want',\n",
       "  'know',\n",
       "  'america',\n",
       "  'must',\n",
       "  'told'],\n",
       " ['terrorist',\n",
       "  'name',\n",
       "  'ashli',\n",
       "  'babbit',\n",
       "  'year',\n",
       "  'veteran',\n",
       "  'killed',\n",
       "  'committing',\n",
       "  'treason',\n",
       "  'fixed']]"
      ]
     },
     "execution_count": 31,
     "metadata": {},
     "output_type": "execute_result"
    }
   ],
   "source": [
    "# look at lemmatized text\n",
    "\n",
    "df['lemmatized'] = lemmatized\n",
    "lemmatized[:20]"
   ]
  },
  {
   "cell_type": "code",
   "execution_count": 32,
   "metadata": {},
   "outputs": [
    {
     "name": "stderr",
     "output_type": "stream",
     "text": [
      "/opt/anaconda3/lib/python3.7/site-packages/ipykernel_launcher.py:4: FutureWarning: Passing a negative integer is deprecated in version 1.0 and will not be supported in future version. Instead, use None to not limit the column width.\n",
      "  after removing the cwd from sys.path.\n"
     ]
    },
    {
     "data": {
      "text/plain": [
       "3280    police officer shot killed ashli babbitt                                                                                                                                                                    \n",
       "3281    woman murdered federal government cold blood ashli babbit antifa stop lying                                                                                                                                 \n",
       "3282    understood senator appreciate dedication service country however feel compelled point unarmed protester shot killed today year veteran air force completed tour duty name ashli babbit                      \n",
       "3284    dc police murdered veteran cold blood today vigil like george floyd get plaza dedicated even name mentioned house floor given moment silence never forget ashli babbit                                      \n",
       "3285    @daysnights know waiting looked ashli bobbit's profile retweeted lin non-stop know shot yet                                                                                                                 \n",
       "3286    one republican democrat mentioned innocent woman ashli babbit year veteran served tour u air force shot dead cold blood martyr one mentioned antifa infiltrator stormed capitol building party              \n",
       "3287    maybe complied idk ..                                                                                                                                                                                       \n",
       "3288    ashli deserve die police killed need held accountable                                                                                                                                                       \n",
       "3290    police officer shot killed ashli babbitt                                                                                                                                                                    \n",
       "3291    exactly time good men woman must come aid country ashli babbit may god family                                                                                                                               \n",
       "3292    #sayhername unarmed airforce veteran murdered capitol police let get trending people                                                                                                                        \n",
       "3293    say name ashli babbit woman killed cop pro-trump protest patriotic air force veteran                                                                                                                        \n",
       "3295    say name ashli babbit woman killed cop pro-trump protest patriotic air force veteran                                                                                                                        \n",
       "3296    part                                                                                                                                                                                                        \n",
       "3297    @ashli_babbitt @angelwarrior ashli rest peace i'm truly sorry gave life despicable repulsive dishonest corrupt president country's ever life good even like older able trump worth loss yr condolence family\n",
       "3298    ashli babbit proudly served country year murdered expressing first amendment right never forget                                                                                                             \n",
       "3299    dc police murdered veteran cold blood today vigil like george floyd get plaza dedicated even name mentioned house floor given moment silence never forget ashli babbit                                      \n",
       "3300    dc police murdered veteran cold blood today vigil like george floyd get plaza dedicated even name mentioned house floor given moment silence never forget ashli babbit                                      \n",
       "3301    dc police murdered veteran cold blood today vigil like george floyd get plaza dedicated even name mentioned house floor given moment silence never forget ashli babbit                                      \n",
       "3302    killed air force veteran ashli babbit congress today want know america must told                                                                                                                            \n",
       "Name: final_docs, dtype: object"
      ]
     },
     "execution_count": 32,
     "metadata": {},
     "output_type": "execute_result"
    }
   ],
   "source": [
    "# before vectorizing, cast lists of words back into strings\n",
    "\n",
    "df['final_docs'] = df['lemmatized'].apply(lambda x: \" \".join(x))\n",
    "pd.set_option('display.max_colwidth', -1)\n",
    "final_docs = df['final_docs']\n",
    "final_docs[3000:3020]"
   ]
  },
  {
   "cell_type": "code",
   "execution_count": 33,
   "metadata": {},
   "outputs": [],
   "source": [
    "#create document term matrix with TFIDF\n",
    "\n",
    "#import vectorizing tool (usee TFIDF)\n",
    "from sklearn.feature_extraction.text import TfidfVectorizer\n",
    "# set max_features to 2000 (specifies the number of most frequently occurring words for which we want to create feature vectors)\n",
    "# set min_df to 5 (word must occur in at least 5 documents)\n",
    "# set max_df to 0.85 (word must not occur in more than 85 percent of the documents) \n",
    "\n",
    "tfidfconverter = TfidfVectorizer(max_features=2000, min_df=5, max_df=0.85, ngram_range=(1, 2), stop_words='english')  \n",
    "doc_term_matrix_1 = tfidfconverter.fit_transform(df['final_docs'].values.astype('U'))"
   ]
  },
  {
   "cell_type": "code",
   "execution_count": 34,
   "metadata": {},
   "outputs": [],
   "source": [
    "#run NMF model \n",
    "\n",
    "#import NMF tool \n",
    "from sklearn.decomposition import NMF\n",
    "\n",
    "nmf_model = NMF(n_components=6)\n",
    "nmf_Z = nmf_model.fit_transform(doc_term_matrix_1)\n"
   ]
  },
  {
   "cell_type": "code",
   "execution_count": 35,
   "metadata": {},
   "outputs": [],
   "source": [
    "# run LDA model\n",
    "\n",
    "#import LDA tool \n",
    "from sklearn.decomposition import LatentDirichletAllocation\n",
    "\n",
    "lda_model = LatentDirichletAllocation(n_components = 6, max_iter=10, learning_method='online', learning_decay=.9)\n",
    "lda_Z = lda_model.fit_transform(doc_term_matrix_1)"
   ]
  },
  {
   "cell_type": "code",
   "execution_count": 36,
   "metadata": {},
   "outputs": [
    {
     "name": "stdout",
     "output_type": "stream",
     "text": [
      "LDA Model:\n",
      "Topic 0:\n",
      "[('rip ashli', 650.242695136725), ('rip', 643.4811119216748), ('babbit', 587.6304078436988), ('ashli babbit', 583.3517211686361), ('ashli', 520.570899720083), ('country', 453.76511418423127), ('served', 399.18885495960217), ('year', 322.3316977161545), ('died', 307.7789794858823), ('right', 268.7014363009379)]\n",
      "Topic 1:\n",
      "[('babbitt', 873.318541529854), ('ashli babbitt', 868.8433192963549), ('officer', 658.3679489873323), ('killed ashli', 653.4270002806168), ('police officer', 633.4332985341136), ('officer shot', 604.2520561818841), ('shot', 582.7710237403085), ('killed', 575.7002517079698), ('ashli', 545.9840974105908), ('police', 525.7396173628672)]\n",
      "Topic 2:\n",
      "[('floyd', 392.41609082999145), ('george', 391.98289819310804), ('george floyd', 388.0911842705059), ('cold', 384.9161335812381), ('cold blood', 382.4214392822945), ('house', 370.08749652434705), ('like', 366.76503396305264), ('moment', 362.8946004644259), ('forget', 360.4158092291095), ('blood', 358.80832379940824)]\n",
      "Topic 3:\n",
      "[('shot', 458.82898661129934), ('got', 401.82404662794056), ('unarmed', 362.56785471764107), ('veteran', 336.84852772215186), ('today', 323.39716174481515), ('service', 303.8433374490261), ('woman', 302.84026824943857), ('capitol', 288.53083698975485), ('killed', 287.9993820559456), ('police', 287.25158824374967)]\n",
      "Topic 4:\n",
      "[('kind', 942.0136294263134), ('law', 537.2537827489352), ('military', 503.85993942257227), ('prayer', 497.6910141683843), ('stop', 489.3760993057928), ('retweet', 485.9963497123502), ('miss', 477.22542453562374), ('person', 477.11251250176394), ('follow', 476.3740562483411), ('daughter', 475.70960747692)]\n",
      "Topic 5:\n",
      "[('ashli babbit', 1778.5794097180308), ('babbit', 1773.9205146743818), ('ashli', 1396.56729865266), ('veteran ashli', 507.9460612177113), ('force veteran', 487.30416169839935), ('air force', 437.2277079029315), ('air', 436.2598975466454), ('force', 433.72757825722624), ('want', 417.7698337703373), ('told', 376.3785867245345)]\n",
      "====================\n",
      "NMF Model:\n",
      "Topic 0:\n",
      "[('ashli babbit', 5.274914194798545), ('babbit', 5.259079480145871), ('ashli', 3.9596197124823314), ('rip ashli', 0.8688277995286774), ('rip', 0.8621779705433655), ('babbit life', 0.18927690705001082), ('mattered', 0.1888002276001727), ('life mattered', 0.1884256939897771), ('life', 0.18556938695191208), ('say', 0.17394900948577913)]\n",
      "Topic 1:\n",
      "[('kind', 2.3046087409524865), ('retweet', 1.1578954596896514), ('miss ashli', 1.1575844194840506), ('share prayer', 1.1574922810554902), ('retweet share', 1.1574922810554902), ('share', 1.1573466740343317), ('smart kind', 1.1573088795995121), ('kind retweet', 1.1573088795995121), ('person military', 1.1573088795995121), ('kind person', 1.1573088795995121)]\n",
      "Topic 2:\n",
      "[('moment silence', 1.0773599215257288), ('silence', 1.0764958013309014), ('floor given', 1.076423389386721), ('plaza dedicated', 1.076423389386721), ('dedicated mentioned', 1.076423389386721), ('given moment', 1.076423389386721), ('today vigil', 1.076423389386721), ('mentioned house', 1.076423389386721), ('floyd plaza', 1.076423389386721), ('vigil like', 1.076423389386721)]\n",
      "Topic 3:\n",
      "[('officer shot', 2.5644941074798284), ('killed ashli', 2.5553585563272945), ('police officer', 2.5254826216774333), ('officer', 2.501691906790878), ('ashli babbitt', 2.140953880884948), ('babbitt', 2.1397821965394597), ('shot killed', 1.8425122329377663), ('shot', 1.6937402598875586), ('police', 1.6604586891226154), ('killed', 1.5371088662225827)]\n",
      "Topic 4:\n",
      "[('want know', 1.386243401388532), ('killed air', 1.3849822612257663), ('today want', 1.3831231315508357), ('babbit congress', 1.382308500785934), ('congress today', 1.3817262964701376), ('know america', 1.3801539842301958), ('america told', 1.3801539842301958), ('told', 1.3662143709188062), ('want', 1.3422694193393834), ('america', 1.3331726329836102)]\n",
      "Topic 5:\n",
      "[('shot', 1.3093028849988033), ('woman shot', 1.1494065566928826), ('protest', 1.007293539951677), ('woman', 0.9564927875683804), ('air force', 0.9270097483373936), ('air', 0.9259233154935337), ('force', 0.9237508599509658), ('shot killed', 0.9181656003056191), ('force veteran', 0.8577678490796986), ('veteran', 0.8213677941311437)]\n",
      "====================\n"
     ]
    }
   ],
   "source": [
    "def print_topics(model, vectorizer, top_n=10):\n",
    "    for idx, topic in enumerate(model.components_):\n",
    "        print(\"Topic %d:\" % (idx))\n",
    "        print([(vectorizer.get_feature_names()[i], topic[i])\n",
    "                        for i in topic.argsort()[:-top_n - 1:-1]])\n",
    " \n",
    "print(\"LDA Model:\")\n",
    "print_topics(lda_model, tfidfconverter )\n",
    "print(\"=\" * 20)\n",
    " \n",
    "print(\"NMF Model:\")\n",
    "print_topics(nmf_model, tfidfconverter )\n",
    "print(\"=\" * 20)"
   ]
  },
  {
   "cell_type": "markdown",
   "metadata": {},
   "source": [
    "# Part 4: Run visualization and testing of LDA model"
   ]
  },
  {
   "cell_type": "code",
   "execution_count": 37,
   "metadata": {},
   "outputs": [
    {
     "data": {
      "text/html": [
       "\n",
       "<link rel=\"stylesheet\" type=\"text/css\" href=\"https://cdn.rawgit.com/bmabey/pyLDAvis/files/ldavis.v1.0.0.css\">\n",
       "\n",
       "\n",
       "<div id=\"ldavis_el22261402643708430886557447668\"></div>\n",
       "<script type=\"text/javascript\">\n",
       "\n",
       "var ldavis_el22261402643708430886557447668_data = {\"mdsDat\": {\"x\": [1.4650187492370605, 54.85479736328125, 32.212928771972656, 5.111096382141113, 26.350170135498047, 38.10981750488281], \"y\": [-47.625064849853516, -36.4767951965332, -61.44457244873047, -14.110331535339355, -33.37470245361328, -7.222781181335449], \"topics\": [1, 2, 3, 4, 5, 6], \"cluster\": [1, 1, 1, 1, 1, 1], \"Freq\": [21.03373126665263, 19.37758814490275, 18.82172647479055, 16.91067187476722, 12.56756591824217, 11.288716320644665]}, \"tinfo\": {\"Term\": [\"ashli babbit\", \"babbit\", \"ashli\", \"kind\", \"babbitt\", \"ashli babbitt\", \"killed ashli\", \"force veteran\", \"officer\", \"police officer\", \"veteran ashli\", \"officer shot\", \"rip ashli\", \"want\", \"know\", \"floyd\", \"george\", \"george floyd\", \"cold\", \"cold blood\", \"rip\", \"air force\", \"told\", \"air\", \"force\", \"house\", \"moment\", \"killed\", \"want know\", \"killed air\", \"miss ashli\", \"daughter\", \"smart\", \"follow\", \"daughter law\", \"prayer follow\", \"share prayer\", \"kind retweet\", \"wonderful kind\", \"smart kind\", \"law wonderful\", \"person military\", \"strong smart\", \"follow update\", \"stop miss\", \"know daughter\", \"kind person\", \"retweet share\", \"miss\", \"military woman\", \"wonderful\", \"woman strong\", \"ashli know\", \"kind\", \"share\", \"retweet\", \"federal building\", \"terrorism\", \"breach\", \"lobby\", \"update\", \"military\", \"law\", \"strong\", \"stop\", \"prayer\", \"person\", \"know\", \"rip ashli\", \"served country\", \"rest\", \"rest peace\", \"amendment\", \"amendment right\", \"expressing\", \"country year\", \"arm\", \"pray family\", \"proudly\", \"proudly served\", \"babbit proudly\", \"expressing amendment\", \"domestic\", \"word\", \"murdered expressing\", \"year murdered\", \"right forget\", \"state\", \"sister arm\", \"nation word\", \"arm pray\", \"remember sister\", \"family nation\", \"complied\", \"pray\", \"sister\", \"united\", \"united state\", \"country\", \"peace\", \"right\", \"died\", \"rip\", \"served\", \"terrorist\", \"year\", \"family\", \"year veteran\", \"veteran served\", \"babbit\", \"ashli babbit\", \"served tour\", \"ashli\", \"babbit year\", \"tour\", \"remember\", \"trump\", \"patriot\", \"murdered\", \"got\", \"young\", \"year service\", \"ewerickson\", \"babbitt unarmed\", \"wish\", \"happy\", \"young woman\", \"got shot\", \"protest capitol\", \"got wish\", \"shot today\", \"unarmed young\", \"veteran year\", \"service san\", \"erick\", \"police protest\", \"wanted shot\", \"presumably police\", \"presumably\", \"happy erick\", \"diego ewerickson\", \"wish happy\", \"today presumably\", \"today got\", \"ewerickson wanted\", \"ashlibabbit\", \"unarmed woman\", \"police today\", \"high\", \"service\", \"unarmed\", \"wanted\", \"san\", \"shot\", \"san diego\", \"diego\", \"say\", \"killed today\", \"veteran\", \"today\", \"year\", \"woman\", \"woman shot\", \"capitol\", \"police\", \"killed\", \"shot killed\", \"force\", \"air\", \"air force\", \"ashli\", \"babbitt\", \"ashli babbitt\", \"force veteran\", \"killed ashli\", \"police officer\", \"officer shot\", \"mattered\", \"life mattered\", \"babbit life\", \"storming\", \"california\", \"storming capitol\", \"sebgorka\", \"sebgorka usairforce\", \"usairforce ashli\", \"world\", \"bullet\", \"protester killed\", \"vet california\", \"tamir\", \"nypost\", \"perception\", \"catching\", \"babbit catching\", \"fuck perception\", \"bullet storming\", \"care tamir\", \"perception world\", \"tamir fuck\", \"capitol care\", \"catching bullet\", \"california nypost\", \"saying\", \"officer\", \"force vet\", \"babbitt\", \"ashli babbitt\", \"vet\", \"life\", \"fuck\", \"protester\", \"shot killed\", \"shot\", \"police\", \"killed\", \"capitol\", \"ashli\", \"killed capitol\", \"babbit\", \"ashli babbit\", \"floyd\", \"george\", \"george floyd\", \"cold blood\", \"cold\", \"like george\", \"forget ashli\", \"vigil\", \"floor\", \"silence\", \"house floor\", \"moment silence\", \"plaza\", \"dedicated\", \"police murdered\", \"blood today\", \"mentioned house\", \"dedicated mentioned\", \"today vigil\", \"plaza dedicated\", \"floyd plaza\", \"given moment\", \"vigil like\", \"floor given\", \"murdered veteran\", \"silence forget\", \"veteran cold\", \"moment\", \"proud\", \"account\", \"house\", \"dc police\", \"mentioned\", \"blood\", \"like\", \"forget\", \"murdered\", \"told\", \"want know\", \"killed air\", \"congress today\", \"today want\", \"babbit congress\", \"know america\", \"america told\", \"peaceful protest\", \"killed peaceful\", \"protest air\", \"hell\", \"want\", \"man\", \"mike_pence killed\", \"vet police\", \"funeral\", \"whilst\", \"police whilst\", \"whilst breaking\", \"smokin\", \"getting\", \"smokin ashli\", \"babbit pack\", \"want scream\", \"roof\", \"scream roof\", \"roberta\", \"wait\", \"guy\", \"america\", \"peaceful\", \"veteran ashli\", \"congress\", \"scream\", \"ashli babbit\", \"babbit\", \"force veteran\", \"ashli\", \"air force\", \"air\", \"force\", \"know\", \"protest\", \"woman shot\", \"veteran\", \"killed\", \"today\", \"woman\"], \"Freq\": [3132.0, 3133.0, 3173.0, 887.0, 1098.0, 1092.0, 634.0, 737.0, 652.0, 614.0, 650.0, 586.0, 611.0, 444.0, 767.0, 442.0, 441.0, 437.0, 433.0, 431.0, 686.0, 908.0, 395.0, 912.0, 922.0, 423.0, 409.0, 1373.0, 382.0, 376.0, 443.2665663569911, 446.9853563480818, 442.3301367793759, 447.6096844385821, 442.2066924686967, 441.40692404264166, 441.5385660766994, 441.2916933536461, 441.2916340789722, 441.2915888080328, 441.29155601760306, 441.2914382551758, 441.2911614291428, 441.27048211068524, 441.29032041931913, 441.387564946812, 441.2902493110715, 441.536999705248, 448.409645488965, 441.2898160707968, 441.4345446224501, 441.3141542569813, 442.70248150325926, 885.1330543167545, 444.716674894187, 456.6509655169858, 162.11089176802045, 139.27573369130013, 136.1373765338942, 133.54172982401576, 442.0547892390652, 473.43591769533117, 504.8133772304333, 438.3441867317166, 459.8266394000606, 467.6394838842657, 448.3035512985229, 445.61683783243586, 610.4752599730455, 246.27013069794714, 248.71826154959675, 197.22861777821905, 185.44926221884137, 165.13020392368347, 149.04698356699208, 144.01657244622507, 140.84653935682394, 146.88679278752102, 139.32131403770765, 139.32130841540376, 138.85374898986993, 138.73804957985251, 176.8700877836997, 156.19522634348886, 136.84660012548105, 136.83132377736658, 136.42028106640504, 140.35872463669492, 133.5988150110436, 132.90564790262883, 132.6098909972877, 132.60982237202052, 132.60978285136363, 132.0293305648673, 172.80420380320925, 141.80978619818276, 111.82953096076139, 111.5646347480057, 426.0138224083709, 214.32869951913202, 252.26823831747072, 288.95588358186035, 604.1272005455279, 374.7753290155213, 248.46531343059607, 302.61858907841633, 218.28648383714582, 194.38802914171745, 179.28797945006846, 551.6922045868099, 547.6751931234933, 180.2091722786545, 488.73391076572995, 170.98634305154565, 184.9547600700456, 159.72227274661674, 183.57659414287227, 169.24470382832976, 181.5691644396241, 399.6615193454369, 211.8138168771603, 191.7209013416883, 189.93463976567625, 184.72130660362438, 184.5696387733425, 182.77192843892712, 180.06649162541896, 180.4429442745705, 189.97240851353814, 176.7478051877012, 176.320943256533, 175.8617187156725, 173.94337768989786, 172.56915195907862, 172.29113290564536, 171.02689007078774, 169.27807375302885, 169.1427853433289, 169.14278449978718, 169.14278326737895, 169.14278678692867, 169.14278137646198, 169.14280011677135, 169.14278704884197, 169.14278153794532, 163.74793024164276, 143.23066647216143, 135.20726613037974, 117.85765810693333, 302.2081204620027, 360.6165954931982, 180.26825815041508, 218.83410156354412, 456.3596714723048, 218.7065837741339, 218.70650500047418, 275.09768113661625, 197.34523979720365, 335.0356841718881, 321.65671044224547, 253.32566894534875, 301.2104495568392, 254.8700786239116, 286.9780284605737, 285.70566434563415, 286.44943369853223, 260.8385718344237, 244.4338736149508, 235.79660873787728, 235.18528781861488, 258.2671951920415, 222.59644154778934, 221.21611486478312, 207.43812738489018, 633.3654423736202, 613.9855885476812, 585.7002705802657, 232.73888825183354, 229.05641728852032, 225.9803147605373, 157.00828946987195, 149.67395192338896, 143.62052442535483, 139.65394731412277, 126.96822725401952, 126.93367579440516, 123.44088188697019, 120.69574300970221, 120.15038603946763, 113.77024704359422, 112.70082241314711, 111.6694304513125, 100.90219429460397, 100.88273093412208, 100.60499068346917, 100.60486610577274, 100.60482668932778, 100.60484310958613, 100.60481470044554, 100.60483022825093, 100.60471745056947, 100.60462381612234, 87.42977827902418, 77.81880645303816, 638.1546937544636, 179.63627427218674, 846.5058593409776, 842.168035669132, 198.80815472282805, 275.6413926555573, 193.73165091037484, 141.6334792805044, 490.31013978776366, 564.8787501821834, 509.59832572172314, 558.0250654488284, 374.3049195526109, 529.2212584373041, 158.67705345770827, 224.90396902401002, 224.08016080269164, 441.4758107728615, 440.9884605467675, 436.61020593533476, 430.2316314475969, 433.03821153947626, 392.11287363511815, 390.46890618643283, 389.035152902911, 389.1086015009391, 382.003000388329, 381.2727578493518, 380.5867606938989, 380.54157199181776, 379.9149636378556, 379.85800352320024, 379.62059870749175, 379.00017664948734, 379.0001644790654, 379.00016788497095, 379.0001677015591, 379.0001709088902, 379.0001778537518, 379.00017291064046, 379.0001662324016, 378.2615660703212, 378.2615738624736, 378.26156189923745, 408.2635541938935, 113.55528747314172, 99.41780857471572, 416.3557035579581, 387.69625266901227, 387.79672042594876, 403.666412675269, 412.61786791032307, 405.47486536099336, 384.79337694840814, 394.93548747548954, 381.3596231534841, 376.0016444116835, 374.9453175360069, 374.7276910233074, 373.98745683397505, 373.023782241365, 373.02377392142455, 307.0856602651528, 302.7707176757666, 302.5741281561568, 92.46283455497748, 438.36748096776694, 55.26496314571464, 53.590130873298016, 48.940089043125724, 52.63455307572515, 49.43753596480749, 48.92474422536345, 48.893877164126856, 44.13175108345433, 44.584652664033314, 39.69020145166332, 38.57540339690461, 33.34498401673959, 33.34468892322213, 33.34446443710334, 49.73808837533564, 31.548296876701723, 34.59907533128096, 389.6450951170168, 307.4033101260813, 532.9897405802524, 356.01677060264484, 36.729444351758175, 1866.2701624546773, 1861.381566104994, 511.33011663611444, 1465.4233963883535, 458.78470255486286, 457.7691754544239, 455.1120031595975, 319.5264696557553, 230.24061303182847, 260.6605347884644, 373.97506519031526, 388.09875391075917, 242.28018675010426, 195.01778277311791], \"Total\": [3132.0, 3133.0, 3173.0, 887.0, 1098.0, 1092.0, 634.0, 737.0, 652.0, 614.0, 650.0, 586.0, 611.0, 444.0, 767.0, 442.0, 441.0, 437.0, 433.0, 431.0, 686.0, 908.0, 395.0, 912.0, 922.0, 423.0, 409.0, 1373.0, 382.0, 376.0, 444.1154919009837, 447.84752421260936, 443.183803433999, 448.4780445336088, 443.0776093235484, 442.276820824418, 442.4090298533243, 442.16170990592974, 442.1616979973133, 442.16173180435686, 442.16172488372126, 442.1617062081573, 442.1616930231321, 442.1413739903403, 442.16175485041174, 442.25923057198884, 442.1617540090577, 442.40910178367636, 449.2953572962271, 442.16174849321214, 442.39704830145246, 442.28946969860067, 443.74874289697163, 887.2414816857824, 445.938588676658, 458.22345070536613, 162.95848802572417, 140.1233904235564, 136.986025016809, 134.38915336881408, 449.652444433577, 489.8071144588791, 524.8743616988277, 459.55411187259597, 489.27668981988603, 508.3077770000811, 477.41852443753805, 767.7298830027491, 611.3224342294872, 247.11752511040964, 249.57649236325778, 198.0831674323093, 186.29808815729385, 165.97779001733898, 149.894371922181, 144.8638887265898, 141.69359974648216, 147.77405119758612, 140.16854586572987, 140.16855309644154, 139.70097670997686, 139.5853183103392, 177.95960097330527, 157.1612690758701, 137.69384258450006, 137.6785798069309, 137.26752629593938, 141.24719077047874, 134.44741397974394, 133.754681169206, 133.45854735235756, 133.45860946976535, 133.4586077100982, 132.87695198885305, 173.95536196155064, 142.76174736025067, 112.67750875444091, 112.41260604281658, 431.6114316374561, 217.9052200027803, 259.868615889223, 300.5943729203425, 686.7467528620828, 458.8587257740147, 376.11688544654436, 557.4226565735695, 356.43508022542164, 282.51183844108755, 248.6622419793269, 3133.8816072913023, 3132.426343572619, 254.27949652990353, 3173.2502560301114, 231.11228103210794, 301.3533027901086, 208.89112261469265, 421.7977973392169, 305.58234599521523, 590.2365593131371, 400.7690738776701, 212.6534441635938, 192.55903850534062, 190.77299739224136, 185.55981892899518, 185.40813878449345, 183.610163699703, 180.90463828866388, 181.28511001954186, 190.8601496680794, 177.58584527424168, 177.15964531400863, 176.69972650950044, 174.7818492941338, 173.40716025138704, 173.1292884974592, 171.86492484423084, 170.11608877103913, 169.98078762684193, 169.98079833664545, 169.98080263287045, 169.9808100895093, 169.98080716854307, 169.980827438672, 169.98081603087033, 169.98081138137633, 164.5877854472746, 144.0697556302612, 136.04725274551578, 118.70105648583335, 304.812992871026, 418.8819300925487, 194.54767491636434, 289.82780550985666, 1305.5100608155276, 289.69342033073775, 289.6934470470131, 478.93351261102686, 247.91890713330372, 1138.507196504589, 1043.20193993475, 557.4226565735695, 986.8447152646966, 604.9153051847253, 889.6699385325484, 1128.1448459991516, 1373.102498830857, 994.5221218436055, 922.2591589935914, 912.0632275542714, 908.5850349112545, 3173.2502560301114, 1098.6744767992625, 1092.4448683972867, 737.8278149124045, 634.2138176544165, 614.8333842354107, 586.5472043660365, 233.58073622528212, 229.89816233736417, 226.82208723151933, 157.85606071505222, 150.51866293348516, 144.4635283803292, 140.49648372720918, 127.8098181319108, 127.77528486589273, 124.28445337962023, 121.53873854731295, 120.99265815029399, 114.61251264752568, 113.55445985679897, 112.55539637681149, 101.74474711951261, 101.72534550253637, 101.44730605073818, 101.44732306841662, 101.44729906678292, 101.44731893489943, 101.44729383840615, 101.44731914573248, 101.44732313846752, 101.44732028461222, 88.27196646234822, 78.66353955252409, 652.0246642021092, 184.7116948827233, 1098.6744767992625, 1092.4448683972867, 228.42664254459646, 348.0833546313786, 229.66857249243995, 160.71465600580567, 994.5221218436055, 1305.5100608155276, 1128.1448459991516, 1373.102498830857, 889.6699385325484, 3173.2502560301114, 364.3248502875808, 3133.8816072913023, 3132.426343572619, 442.2950455320004, 441.80759809618485, 437.42863401965843, 431.0746884011848, 433.8871219093456, 392.9295278931171, 391.28565783789276, 389.85423542624807, 389.929844350584, 382.8198070373699, 382.08938443096554, 381.40337124352556, 381.3582061746693, 380.7316437445481, 380.67467805686033, 380.4371959613216, 379.81675715811997, 379.81675137622324, 379.81676538776577, 379.816770849763, 379.8167781309625, 379.8167857179873, 379.81678210837487, 379.8167827979969, 379.0781454231872, 379.07818105655, 379.07817863778496, 409.3483901825412, 114.37853589576319, 100.24707758041004, 423.26760178853294, 400.7588606688087, 415.4047865551853, 486.59672629423204, 549.6590154243107, 564.3161288762924, 590.2365593131371, 395.7713809053107, 382.1895418009178, 376.8314934653492, 375.77522979945746, 375.5575496072762, 374.8173208209148, 373.8536296781747, 373.8536402290176, 307.91717465723184, 303.60208059455744, 303.40548360888585, 93.29474875883878, 444.46491303427916, 56.10787452719859, 54.42561321435298, 49.777229672600726, 53.541876096882696, 50.29222453364735, 49.776079593659766, 49.773724133125796, 44.960262553560746, 45.42401989750408, 40.518672256919935, 39.404172850872634, 34.178743612756456, 34.178719546183345, 34.17873925856316, 50.986522367589714, 32.38290872542734, 35.54470036182127, 428.31659853231344, 336.7361754654205, 650.3526239062198, 430.81154367388183, 37.928445128572605, 3132.426343572619, 3133.8816072913023, 737.8278149124045, 3173.2502560301114, 908.5850349112545, 912.0632275542714, 922.2591589935914, 767.7298830027491, 500.6417721078176, 604.9153051847253, 1138.507196504589, 1373.102498830857, 1043.20193993475, 986.8447152646966], \"Category\": [\"Default\", \"Default\", \"Default\", \"Default\", \"Default\", \"Default\", \"Default\", \"Default\", \"Default\", \"Default\", \"Default\", \"Default\", \"Default\", \"Default\", \"Default\", \"Default\", \"Default\", \"Default\", \"Default\", \"Default\", \"Default\", \"Default\", \"Default\", \"Default\", \"Default\", \"Default\", \"Default\", \"Default\", \"Default\", \"Default\", \"Topic1\", \"Topic1\", \"Topic1\", \"Topic1\", \"Topic1\", \"Topic1\", \"Topic1\", \"Topic1\", \"Topic1\", \"Topic1\", \"Topic1\", \"Topic1\", \"Topic1\", \"Topic1\", \"Topic1\", \"Topic1\", \"Topic1\", \"Topic1\", \"Topic1\", \"Topic1\", \"Topic1\", \"Topic1\", \"Topic1\", \"Topic1\", \"Topic1\", \"Topic1\", \"Topic1\", \"Topic1\", \"Topic1\", \"Topic1\", \"Topic1\", \"Topic1\", \"Topic1\", \"Topic1\", \"Topic1\", \"Topic1\", \"Topic1\", \"Topic1\", \"Topic2\", \"Topic2\", \"Topic2\", \"Topic2\", \"Topic2\", \"Topic2\", \"Topic2\", \"Topic2\", \"Topic2\", \"Topic2\", \"Topic2\", \"Topic2\", \"Topic2\", \"Topic2\", \"Topic2\", \"Topic2\", \"Topic2\", \"Topic2\", \"Topic2\", \"Topic2\", \"Topic2\", \"Topic2\", \"Topic2\", \"Topic2\", \"Topic2\", \"Topic2\", \"Topic2\", \"Topic2\", \"Topic2\", \"Topic2\", \"Topic2\", \"Topic2\", \"Topic2\", \"Topic2\", \"Topic2\", \"Topic2\", \"Topic2\", \"Topic2\", \"Topic2\", \"Topic2\", \"Topic2\", \"Topic2\", \"Topic2\", \"Topic2\", \"Topic2\", \"Topic2\", \"Topic2\", \"Topic2\", \"Topic2\", \"Topic2\", \"Topic2\", \"Topic3\", \"Topic3\", \"Topic3\", \"Topic3\", \"Topic3\", \"Topic3\", \"Topic3\", \"Topic3\", \"Topic3\", \"Topic3\", \"Topic3\", \"Topic3\", \"Topic3\", \"Topic3\", \"Topic3\", \"Topic3\", \"Topic3\", \"Topic3\", \"Topic3\", \"Topic3\", \"Topic3\", \"Topic3\", \"Topic3\", \"Topic3\", \"Topic3\", \"Topic3\", \"Topic3\", \"Topic3\", \"Topic3\", \"Topic3\", \"Topic3\", \"Topic3\", \"Topic3\", \"Topic3\", \"Topic3\", \"Topic3\", \"Topic3\", \"Topic3\", \"Topic3\", \"Topic3\", \"Topic3\", \"Topic3\", \"Topic3\", \"Topic3\", \"Topic3\", \"Topic3\", \"Topic3\", \"Topic3\", \"Topic3\", \"Topic3\", \"Topic3\", \"Topic3\", \"Topic3\", \"Topic3\", \"Topic3\", \"Topic4\", \"Topic4\", \"Topic4\", \"Topic4\", \"Topic4\", \"Topic4\", \"Topic4\", \"Topic4\", \"Topic4\", \"Topic4\", \"Topic4\", \"Topic4\", \"Topic4\", \"Topic4\", \"Topic4\", \"Topic4\", \"Topic4\", \"Topic4\", \"Topic4\", \"Topic4\", \"Topic4\", \"Topic4\", \"Topic4\", \"Topic4\", \"Topic4\", \"Topic4\", \"Topic4\", \"Topic4\", \"Topic4\", \"Topic4\", \"Topic4\", \"Topic4\", \"Topic4\", \"Topic4\", \"Topic4\", \"Topic4\", \"Topic4\", \"Topic4\", \"Topic4\", \"Topic4\", \"Topic4\", \"Topic4\", \"Topic4\", \"Topic4\", \"Topic4\", \"Topic4\", \"Topic4\", \"Topic5\", \"Topic5\", \"Topic5\", \"Topic5\", \"Topic5\", \"Topic5\", \"Topic5\", \"Topic5\", \"Topic5\", \"Topic5\", \"Topic5\", \"Topic5\", \"Topic5\", \"Topic5\", \"Topic5\", \"Topic5\", \"Topic5\", \"Topic5\", \"Topic5\", \"Topic5\", \"Topic5\", \"Topic5\", \"Topic5\", \"Topic5\", \"Topic5\", \"Topic5\", \"Topic5\", \"Topic5\", \"Topic5\", \"Topic5\", \"Topic5\", \"Topic5\", \"Topic5\", \"Topic5\", \"Topic5\", \"Topic5\", \"Topic5\", \"Topic6\", \"Topic6\", \"Topic6\", \"Topic6\", \"Topic6\", \"Topic6\", \"Topic6\", \"Topic6\", \"Topic6\", \"Topic6\", \"Topic6\", \"Topic6\", \"Topic6\", \"Topic6\", \"Topic6\", \"Topic6\", \"Topic6\", \"Topic6\", \"Topic6\", \"Topic6\", \"Topic6\", \"Topic6\", \"Topic6\", \"Topic6\", \"Topic6\", \"Topic6\", \"Topic6\", \"Topic6\", \"Topic6\", \"Topic6\", \"Topic6\", \"Topic6\", \"Topic6\", \"Topic6\", \"Topic6\", \"Topic6\", \"Topic6\", \"Topic6\", \"Topic6\", \"Topic6\", \"Topic6\", \"Topic6\", \"Topic6\", \"Topic6\", \"Topic6\", \"Topic6\", \"Topic6\", \"Topic6\", \"Topic6\"], \"logprob\": [30.0, 29.0, 28.0, 27.0, 26.0, 25.0, 24.0, 23.0, 22.0, 21.0, 20.0, 19.0, 18.0, 17.0, 16.0, 15.0, 14.0, 13.0, 12.0, 11.0, 10.0, 9.0, 8.0, 7.0, 6.0, 5.0, 4.0, 3.0, 2.0, 1.0, -4.2899, -4.2815, -4.292, -4.2801, -4.2923, -4.2941, -4.2938, -4.2943, -4.2943, -4.2943, -4.2943, -4.2943, -4.2943, -4.2944, -4.2943, -4.2941, -4.2943, -4.2938, -4.2783, -4.2943, -4.294, -4.2943, -4.2911, -3.5983, -4.2866, -4.2601, -5.2958, -5.4476, -5.4704, -5.4896, -4.2926, -4.224, -4.1598, -4.301, -4.2532, -4.2363, -4.2786, -4.2846, -3.8878, -4.7956, -4.7857, -5.0177, -5.0792, -5.1953, -5.2978, -5.3321, -5.3544, -5.3124, -5.3652, -5.3652, -5.3686, -5.3694, -5.1266, -5.2509, -5.3832, -5.3833, -5.3863, -5.3578, -5.4072, -5.4124, -5.4146, -5.4146, -5.4146, -5.419, -5.1499, -5.3475, -5.585, -5.5874, -4.2476, -4.9345, -4.7715, -4.6357, -3.8982, -4.3757, -4.7867, -4.5895, -4.9162, -5.0322, -5.113, -3.989, -3.9963, -5.1079, -4.1102, -5.1604, -5.0819, -5.2286, -5.0894, -5.1707, -5.1004, -4.2823, -4.9172, -5.0169, -5.0262, -5.0541, -5.0549, -5.0647, -5.0796, -5.0775, -5.026, -5.0982, -5.1006, -5.1032, -5.1142, -5.1221, -5.1237, -5.1311, -5.1414, -5.1422, -5.1422, -5.1422, -5.1422, -5.1422, -5.1422, -5.1422, -5.1422, -5.1746, -5.3085, -5.3661, -5.5034, -4.5618, -4.3851, -5.0785, -4.8846, -4.1496, -4.8852, -4.8852, -4.6558, -4.988, -4.4587, -4.4994, -4.7382, -4.5651, -4.7322, -4.6135, -4.618, -4.6154, -4.709, -4.774, -4.8099, -4.8125, -4.7189, -4.8676, -4.8738, -4.9381, -3.7148, -3.7459, -3.793, -4.7159, -4.7319, -4.7454, -5.1096, -5.1574, -5.1987, -5.2267, -5.3219, -5.3222, -5.3501, -5.3726, -5.3771, -5.4317, -5.4411, -5.4503, -5.5517, -5.5519, -5.5546, -5.5546, -5.5546, -5.5546, -5.5546, -5.5546, -5.5547, -5.5547, -5.695, -5.8115, -3.7073, -4.9749, -3.4247, -3.4299, -4.8735, -4.5467, -4.8994, -5.2126, -3.9708, -3.8292, -3.9322, -3.8414, -4.2408, -3.8944, -5.099, -4.7502, -4.7538, -3.7789, -3.78, -3.79, -3.8047, -3.7982, -3.8975, -3.9017, -3.9054, -3.9052, -3.9236, -3.9255, -3.9273, -3.9274, -3.9291, -3.9292, -3.9299, -3.9315, -3.9315, -3.9315, -3.9315, -3.9315, -3.9315, -3.9315, -3.9315, -3.9334, -3.9334, -3.9334, -3.8571, -5.1367, -5.2697, -3.8375, -3.9088, -3.9085, -3.8684, -3.8465, -3.864, -3.9163, -3.783, -3.818, -3.8321, -3.8349, -3.8355, -3.8375, -3.8401, -3.8401, -4.0346, -4.0487, -4.0494, -5.2349, -3.6787, -5.7496, -5.7803, -5.8711, -5.7983, -5.861, -5.8714, -5.8721, -5.9745, -5.9643, -6.0806, -6.1091, -6.2548, -6.2548, -6.2548, -5.8549, -6.3102, -6.2179, -3.7965, -4.0335, -3.4832, -3.8867, -6.1581, -2.23, -2.2326, -3.5247, -2.4718, -3.6331, -3.6353, -3.6412, -3.9949, -4.3226, -4.1985, -3.8375, -3.8004, -4.2716, -4.4886], \"loglift\": [30.0, 29.0, 28.0, 27.0, 26.0, 25.0, 24.0, 23.0, 22.0, 21.0, 20.0, 19.0, 18.0, 17.0, 16.0, 15.0, 14.0, 13.0, 12.0, 11.0, 10.0, 9.0, 8.0, 7.0, 6.0, 5.0, 4.0, 3.0, 2.0, 1.0, 1.5571, 1.5571, 1.5571, 1.5571, 1.5571, 1.5571, 1.5571, 1.5571, 1.5571, 1.5571, 1.5571, 1.5571, 1.5571, 1.5571, 1.5571, 1.5571, 1.5571, 1.5571, 1.5571, 1.5571, 1.5569, 1.5568, 1.5567, 1.5567, 1.5563, 1.5556, 1.5538, 1.553, 1.5528, 1.5527, 1.542, 1.525, 1.5201, 1.5118, 1.497, 1.4757, 1.4961, 1.0151, 1.6397, 1.6376, 1.6376, 1.6367, 1.6365, 1.6359, 1.6354, 1.6352, 1.6351, 1.635, 1.635, 1.635, 1.635, 1.635, 1.6349, 1.6349, 1.6349, 1.6349, 1.6349, 1.6347, 1.6347, 1.6347, 1.6347, 1.6347, 1.6347, 1.6347, 1.6344, 1.6344, 1.6335, 1.6335, 1.628, 1.6245, 1.6114, 1.6016, 1.5129, 1.4386, 1.2265, 1.0302, 1.1507, 1.2672, 1.314, -0.096, -0.1028, 1.2967, -0.2296, 1.3397, 1.1529, 1.3727, 0.8092, 1.0502, 0.4622, 1.6674, 1.6662, 1.6658, 1.6658, 1.6656, 1.6656, 1.6656, 1.6655, 1.6655, 1.6655, 1.6654, 1.6654, 1.6654, 1.6653, 1.6653, 1.6653, 1.6653, 1.6652, 1.6652, 1.6652, 1.6652, 1.6652, 1.6652, 1.6652, 1.6652, 1.6652, 1.665, 1.6643, 1.664, 1.663, 1.6616, 1.5204, 1.5939, 1.3892, 0.6191, 1.3891, 1.3891, 1.1157, 1.442, 0.4469, 0.4936, 0.8815, 0.4835, 0.8058, 0.5387, 0.2968, 0.1029, 0.3318, 0.3423, 0.3174, 0.3186, -0.8384, 0.0737, 0.0731, 0.4013, 1.7759, 1.7758, 1.7758, 1.7736, 1.7736, 1.7735, 1.7718, 1.7716, 1.7714, 1.7712, 1.7706, 1.7706, 1.7704, 1.7703, 1.7702, 1.7698, 1.7697, 1.7693, 1.7689, 1.7689, 1.7689, 1.7689, 1.7689, 1.7689, 1.7689, 1.7689, 1.7689, 1.7689, 1.7676, 1.7664, 1.7557, 1.7494, 1.5165, 1.517, 1.6384, 1.5439, 1.6071, 1.6508, 1.07, 0.9395, 0.9825, 0.8768, 0.9114, -0.0139, 0.9461, -0.8571, -0.8603, 2.0722, 2.0722, 2.0722, 2.0721, 2.0721, 2.072, 2.072, 2.0719, 2.0719, 2.0719, 2.0719, 2.0719, 2.0719, 2.0719, 2.0719, 2.0719, 2.0719, 2.0719, 2.0719, 2.0719, 2.0719, 2.0719, 2.0719, 2.0719, 2.0719, 2.0719, 2.0719, 2.0714, 2.0668, 2.0657, 2.0576, 2.0409, 2.0053, 1.8872, 1.7873, 1.7435, 1.6462, 2.1793, 2.1792, 2.1792, 2.1792, 2.1792, 2.1792, 2.1791, 2.1791, 2.1787, 2.1786, 2.1786, 2.1724, 2.1676, 2.1662, 2.1659, 2.1644, 2.1643, 2.1642, 2.1641, 2.1635, 2.1628, 2.1627, 2.1607, 2.1601, 2.1567, 2.1567, 2.1567, 2.1566, 2.1553, 2.1544, 2.0867, 2.0902, 1.9824, 1.9907, 2.1492, 1.6635, 1.6604, 1.8147, 1.4088, 1.4981, 1.492, 1.4751, 1.3048, 1.4046, 1.3395, 1.0681, 0.9178, 0.7214, 0.5599]}, \"token.table\": {\"Topic\": [5, 2, 3, 4, 6, 2, 3, 4, 6, 2, 2, 2, 4, 6, 6, 2, 2, 1, 2, 3, 4, 5, 6, 1, 2, 3, 4, 5, 6, 2, 3, 4, 1, 3, 1, 2, 3, 4, 5, 6, 4, 6, 4, 6, 2, 2, 3, 2, 3, 4, 3, 2, 5, 5, 1, 4, 4, 4, 4, 1, 2, 3, 4, 4, 4, 4, 4, 5, 5, 2, 2, 3, 6, 6, 2, 3, 2, 1, 1, 2, 4, 5, 5, 5, 2, 4, 5, 1, 3, 4, 3, 2, 3, 3, 3, 2, 2, 1, 2, 4, 5, 2, 1, 5, 5, 5, 5, 1, 1, 2, 3, 4, 6, 2, 4, 3, 4, 6, 2, 3, 5, 5, 2, 3, 4, 4, 6, 5, 5, 6, 5, 3, 3, 3, 6, 3, 3, 6, 3, 1, 5, 5, 1, 2, 3, 4, 5, 6, 6, 4, 1, 3, 4, 6, 3, 4, 1, 4, 1, 1, 1, 4, 6, 6, 1, 1, 2, 1, 2, 3, 4, 4, 1, 2, 3, 4, 5, 5, 1, 6, 4, 2, 5, 5, 6, 1, 3, 1, 1, 1, 5, 5, 2, 3, 5, 2, 5, 2, 4, 2, 4, 4, 1, 2, 3, 4, 2, 3, 4, 6, 6, 4, 4, 1, 4, 1, 5, 5, 1, 2, 3, 4, 5, 5, 4, 3, 3, 6, 2, 2, 1, 2, 3, 4, 5, 1, 3, 3, 1, 3, 6, 6, 3, 3, 4, 4, 5, 2, 2, 2, 4, 5, 2, 2, 2, 1, 3, 1, 1, 2, 3, 2, 2, 3, 2, 3, 6, 6, 1, 3, 4, 1, 3, 4, 1, 2, 3, 4, 4, 3, 6, 6, 4, 4, 1, 2, 3, 2, 1, 2, 3, 2, 3, 3, 1, 4, 1, 1, 2, 3, 4, 5, 6, 1, 3, 4, 5, 6, 3, 5, 5, 2, 2, 1, 1, 6, 6, 2, 1, 2, 3, 4, 1, 4, 4, 1, 2, 3, 1, 4, 4, 1, 1, 2, 3, 5, 1, 2, 3, 4, 5, 6, 3, 3, 5, 6, 6, 1, 2, 3, 1, 2, 3, 4, 5, 6, 2, 3, 4, 3, 3, 2, 2, 1, 4, 4, 1, 2, 4, 4, 6, 1, 2, 3, 4, 5, 6, 3, 4, 5, 6, 5, 1, 2, 3, 3, 5, 5, 6, 2, 6, 6, 6, 2, 3, 3, 6, 6, 3, 3, 1, 2, 3, 4, 6, 1, 2, 3, 4, 6, 1, 1, 1, 2, 4, 1, 2, 3, 2, 3, 1, 2, 3, 3, 3], \"Freq\": [0.9875599607438957, 0.11950925846696749, 0.258753990809214, 0.11950925846696749, 0.502158168604322, 0.11776553199607911, 0.25864392541194947, 0.11776553199607911, 0.5051811138897225, 0.9930321981823138, 0.994108910491959, 0.021012494100951854, 0.06770692543640042, 0.9105414110412471, 0.9977166459353058, 0.9951049324195084, 0.9965641215084794, 0.08035924664795183, 0.15410067298371938, 0.08130464954969244, 0.1667060450069275, 0.055778771202695976, 0.46167175034999774, 0.027454755696478605, 0.17494425722872411, 0.05618647677418877, 0.07151006134896752, 0.07406399211143065, 0.5957043503445241, 0.02563058403219787, 0.2022985382541332, 0.770748276968236, 0.9983126872831605, 0.9964287419891017, 0.027761099780408242, 0.17613939171017642, 0.05647947886358918, 0.07179594770795235, 0.07402959941442198, 0.593832260819997, 0.9955907547656864, 0.9978194155512218, 0.9963756297212792, 0.9897428921448942, 0.9949823063053302, 0.7399001006625144, 0.25528716923443484, 0.026395443429690735, 0.20297185809727702, 0.7709289856878639, 0.9969830810774319, 0.16851736883740726, 0.8302563050038113, 0.9988508064774874, 0.9928020028562182, 0.995567351169247, 0.9955908233053257, 0.9965541619665174, 0.9855903690228679, 0.19670216157764184, 0.05957265464922867, 0.3225915449873326, 0.4203806196002174, 0.9955905870689464, 0.9955906283222085, 0.9928695695359591, 0.9955906150763051, 0.9979554085278177, 0.9975069554531937, 0.9934002701316733, 0.009284802273144155, 0.16248403978002268, 0.8263474023098297, 0.9979369853625765, 0.9869988808772572, 0.011584493907010062, 0.9940365488308803, 0.9981075607951625, 0.9975678993908231, 0.009981064406971756, 0.022457394915686452, 0.9681632474762604, 0.9980783216825576, 0.9978496172871159, 0.9614285097631717, 0.02994068023483926, 0.006653484496630947, 0.15533661689177644, 0.7559715355399788, 0.08975004531524862, 0.9942298775432779, 0.994607759468683, 0.9934771955267651, 0.995948077543427, 0.9942298699870555, 0.9940333188583937, 0.9958067344229006, 0.23847259912308047, 0.6116120777509593, 0.08977791966986559, 0.058916759783349294, 0.9965636708042512, 0.9941182074199605, 0.9976153547514871, 0.9978495347362486, 0.9970719872513093, 0.9978495469974186, 0.9989340737201395, 0.9974185315885746, 0.1203566252691141, 0.26456771680778235, 0.1203566252691141, 0.49335373421123346, 0.02165536948020357, 0.9744916266091607, 0.2805532616367617, 0.025751265560862185, 0.6925735106105566, 0.25517611961001957, 0.02480878940652968, 0.71768283640318, 0.9967142730326564, 0.10014430686095328, 0.0522492035796278, 0.8446954578706494, 0.9955905877564167, 0.9898793965324976, 0.9981720592862936, 0.999020105255297, 0.9906652934183093, 0.9978495270648893, 0.9980810049282773, 0.9929111110151113, 0.9967010587283183, 0.9846756237560991, 0.9966768522645569, 0.994229921157692, 0.9861219546001927, 0.9940939322143522, 0.014175429384736222, 0.9828297706750447, 0.9971488754324124, 0.08593677464025619, 0.00436966650713167, 0.20828743683994297, 0.4063789851632454, 0.011652444019017789, 0.2825717674611814, 0.9977934607914462, 0.9980861065769495, 0.1591985832265286, 0.40623086754355575, 0.4364237022934146, 0.9980168759272718, 0.7946146676666129, 0.20167884966157687, 0.9974736509371456, 0.0011270888711154188, 0.9973725588011081, 0.9973726582833758, 0.5809334895961096, 0.0026050829129870383, 0.4168132660779262, 0.9977166740927205, 0.9971527319613879, 0.9621350114444501, 0.036199139044444655, 0.9973726244983625, 0.2039741316420868, 0.002872875093550518, 0.792913525819943, 0.9960932165432181, 0.11279720383034005, 0.12007444278713618, 0.01273516817439323, 0.001819309739199033, 0.7513749222892007, 0.9976343648742786, 0.9971042799284099, 0.9802545625451996, 0.9975137666116353, 0.06499684373861477, 0.9340287174289826, 0.9978496020969924, 0.9921799096194521, 0.965686259013516, 0.03266591996663056, 0.997372571243055, 0.9971169136845253, 0.9974882841933548, 0.9967060083418432, 0.9989424025220061, 0.3083509435806464, 0.03896742693601575, 0.652280842189829, 0.9949609759486938, 0.9971558755464955, 0.9943577214448943, 0.9950655730894311, 0.019937896085431468, 0.9784905925004058, 0.9990670753147176, 0.11780785268453853, 0.5530424195468614, 0.28470231065430146, 0.0425417245805278, 0.9820783549713472, 0.013767453574364681, 0.08612083320099956, 0.9116929583692023, 0.9970213592072192, 0.9926802401048006, 0.9955908746159494, 0.9383800105532206, 0.05864875065957629, 0.997372666624345, 0.9990607094095013, 0.9978495661264888, 0.07002646892388445, 0.002659232997109536, 0.25351354572444246, 0.45206960950862113, 0.22248916075816452, 0.9982276781310903, 0.9986445364601549, 0.9949674149916583, 0.9923022867100836, 0.9844085833999948, 0.9945080050952279, 0.9947619274743226, 0.9207020257727148, 0.02360774425058243, 0.009836560104409345, 0.001967312020881869, 0.04524817648028299, 0.9971130731607459, 0.9942299462866212, 0.9942300089290382, 0.17377694960152823, 0.3635333888215878, 0.4594103265327758, 0.9986635587331423, 0.9954932987867019, 0.11199974194854866, 0.8835535198163282, 0.991795715827146, 0.9966904988527903, 0.9916632803849642, 0.9916632292291871, 0.765949256231084, 0.15797703409766106, 0.07659492562310839, 0.9965636576644443, 0.9976901175355141, 0.9945317542810423, 0.9973300128933105, 0.0021823413848868936, 0.9990752862406606, 0.007696196761414859, 0.9697207919382722, 0.019240491903537146, 0.9907660148751667, 0.8795090730065664, 0.11940354964658684, 0.997836764765301, 0.01961302621878098, 0.980651310939049, 0.9655130571936545, 0.15526460589534294, 0.7556210820240024, 0.0897084389617537, 0.15533663121732041, 0.755971605257626, 0.08975005359222957, 0.1545099644344584, 0.03967147735479338, 0.5741924353983252, 0.23176494665168762, 0.9915648398699243, 0.026365436194658844, 0.9755211392023772, 0.965512500339876, 0.9964662195519913, 0.9936638816661565, 0.021793200038054725, 0.8172450014270521, 0.16126968028160496, 0.995477758568882, 0.007865360861939563, 0.7078824775745606, 0.2792203105988545, 0.0065614000937494485, 0.9907714141561668, 0.9976519986210675, 0.9978952512734022, 0.0022424612388166343, 0.9990754486782065, 0.032937317980635636, 0.032937317980635636, 0.34928876742255466, 0.43278103858277056, 0.014553698642606444, 0.13787714503521895, 0.03016524151759158, 0.2624376012030467, 0.4926989447873291, 0.019104652961141333, 0.19506856181375887, 0.9934542355176135, 0.9978585041257024, 0.9971557818138069, 0.994664205402807, 0.9966722009259966, 0.9973288657554127, 0.9973726088876662, 0.978641971843096, 0.9871991793405482, 0.9911701552174204, 0.9401633259277824, 0.026569833124046024, 0.012262999903405857, 0.020438333172343094, 0.9973725569032881, 0.9945769537693108, 0.9967913812882317, 0.953097771697076, 0.004352044619621352, 0.04134442388640284, 0.9973726963654643, 0.9951172339906492, 0.9955906262531207, 0.9919828486867133, 0.018611235684591127, 0.6593694928255143, 0.29512102299851645, 0.02392873159447431, 0.00383434869786591, 0.12461633268064207, 0.30866507017820577, 0.05751523046798865, 0.27415593189741255, 0.23197809622088755, 0.9942298427918348, 0.9942297760667985, 0.9978495804761753, 0.9985154083365939, 0.9980509431896106, 0.03650200577911521, 0.613897369921483, 0.34842823698246334, 0.16121468729556512, 0.43622797738799973, 0.06401171407323909, 0.2821257027672389, 0.05215769294856518, 0.002370804224934781, 0.019098460509462564, 0.8618180304894982, 0.11936537818414103, 0.9925747383579478, 0.9960400249433164, 0.993987187310669, 0.9963295393876073, 0.9829814237011061, 0.015567579108388558, 0.9939324348467982, 0.0744221418772595, 0.052533276619242, 0.8711768372690966, 0.9946557960088583, 0.9843858391133298, 0.03337703979093542, 0.1080362077443436, 0.2942449560516675, 0.011418460981109485, 0.22397750386022452, 0.328500338994996, 0.13377358190307742, 0.00768813689098146, 0.0384406844549073, 0.8195553925786236, 0.9971557881763087, 0.00804303855736278, 0.7198519508839688, 0.26944179167165316, 0.9955267134585695, 0.9978088337931892, 0.9978495365480143, 0.9881755919866865, 0.011249481912679972, 0.9854546155507655, 0.996887560566643, 0.9655123773386299, 0.07196179551371443, 0.9252230851763283, 0.9934392521065936, 0.9743056795433098, 0.9844551689349911, 0.9977987008166462, 0.9942298946282179, 0.3607457125658436, 0.06687982311613955, 0.3050125266357273, 0.06890648442268922, 0.1975994773885941, 0.059512463466280696, 0.024796859777616954, 0.42154661621948825, 0.06281871143662962, 0.43146536013053505, 0.9970845570899995, 0.9968420939813765, 0.9973726851453326, 0.992610971629979, 0.9896652127865346, 0.0017939708553414682, 0.5435731691684649, 0.4538746264013915, 0.9950712753728104, 0.9970967942627885, 0.007079349350583274, 0.6866968870065776, 0.30087234739978913, 0.9969271874896551, 0.9949993637685488], \"Term\": [\"account\", \"air\", \"air\", \"air\", \"air\", \"air force\", \"air force\", \"air force\", \"air force\", \"amendment\", \"amendment right\", \"america\", \"america\", \"america\", \"america told\", \"arm\", \"arm pray\", \"ashli\", \"ashli\", \"ashli\", \"ashli\", \"ashli\", \"ashli\", \"ashli babbit\", \"ashli babbit\", \"ashli babbit\", \"ashli babbit\", \"ashli babbit\", \"ashli babbit\", \"ashli babbitt\", \"ashli babbitt\", \"ashli babbitt\", \"ashli know\", \"ashlibabbit\", \"babbit\", \"babbit\", \"babbit\", \"babbit\", \"babbit\", \"babbit\", \"babbit catching\", \"babbit congress\", \"babbit life\", \"babbit pack\", \"babbit proudly\", \"babbit year\", \"babbit year\", \"babbitt\", \"babbitt\", \"babbitt\", \"babbitt unarmed\", \"blood\", \"blood\", \"blood today\", \"breach\", \"bullet\", \"bullet storming\", \"california\", \"california nypost\", \"capitol\", \"capitol\", \"capitol\", \"capitol\", \"capitol care\", \"care tamir\", \"catching\", \"catching bullet\", \"cold\", \"cold blood\", \"complied\", \"congress\", \"congress\", \"congress\", \"congress today\", \"country\", \"country\", \"country year\", \"daughter\", \"daughter law\", \"dc police\", \"dc police\", \"dc police\", \"dedicated\", \"dedicated mentioned\", \"died\", \"died\", \"died\", \"diego\", \"diego\", \"diego\", \"diego ewerickson\", \"domestic\", \"erick\", \"ewerickson\", \"ewerickson wanted\", \"expressing\", \"expressing amendment\", \"family\", \"family\", \"family\", \"family\", \"family nation\", \"federal building\", \"floor\", \"floor given\", \"floyd\", \"floyd plaza\", \"follow\", \"follow update\", \"force\", \"force\", \"force\", \"force\", \"force vet\", \"force vet\", \"force veteran\", \"force veteran\", \"force veteran\", \"forget\", \"forget\", \"forget\", \"forget ashli\", \"fuck\", \"fuck\", \"fuck\", \"fuck perception\", \"funeral\", \"george\", \"george floyd\", \"getting\", \"given moment\", \"got\", \"got shot\", \"got wish\", \"guy\", \"happy\", \"happy erick\", \"hell\", \"high\", \"house\", \"house\", \"house floor\", \"killed\", \"killed\", \"killed\", \"killed\", \"killed\", \"killed\", \"killed air\", \"killed ashli\", \"killed capitol\", \"killed capitol\", \"killed capitol\", \"killed peaceful\", \"killed today\", \"killed today\", \"kind\", \"kind\", \"kind person\", \"kind retweet\", \"know\", \"know\", \"know\", \"know america\", \"know daughter\", \"law\", \"law\", \"law wonderful\", \"life\", \"life\", \"life\", \"life mattered\", \"like\", \"like\", \"like\", \"like\", \"like\", \"like george\", \"lobby\", \"man\", \"mattered\", \"mentioned\", \"mentioned\", \"mentioned house\", \"mike_pence killed\", \"military\", \"military\", \"military woman\", \"miss\", \"miss ashli\", \"moment\", \"moment silence\", \"murdered\", \"murdered\", \"murdered\", \"murdered expressing\", \"murdered veteran\", \"nation word\", \"nypost\", \"officer\", \"officer\", \"officer shot\", \"patriot\", \"patriot\", \"patriot\", \"patriot\", \"peace\", \"peace\", \"peaceful\", \"peaceful\", \"peaceful protest\", \"perception\", \"perception world\", \"person\", \"person\", \"person military\", \"plaza\", \"plaza dedicated\", \"police\", \"police\", \"police\", \"police\", \"police\", \"police murdered\", \"police officer\", \"police protest\", \"police today\", \"police whilst\", \"pray\", \"pray family\", \"prayer\", \"prayer\", \"prayer\", \"prayer\", \"prayer\", \"prayer follow\", \"presumably\", \"presumably police\", \"protest\", \"protest\", \"protest\", \"protest air\", \"protest capitol\", \"protester\", \"protester\", \"protester killed\", \"proud\", \"proudly\", \"proudly served\", \"remember\", \"remember\", \"remember\", \"remember sister\", \"rest\", \"rest peace\", \"retweet\", \"retweet\", \"retweet share\", \"right\", \"right\", \"right\", \"right forget\", \"rip\", \"rip\", \"rip ashli\", \"roberta\", \"roberta\", \"roof\", \"san\", \"san\", \"san\", \"san diego\", \"san diego\", \"san diego\", \"say\", \"say\", \"say\", \"say\", \"saying\", \"scream\", \"scream\", \"scream roof\", \"sebgorka\", \"sebgorka usairforce\", \"served\", \"served\", \"served\", \"served country\", \"served tour\", \"served tour\", \"served tour\", \"service\", \"service\", \"service san\", \"share\", \"share\", \"share prayer\", \"shot\", \"shot\", \"shot\", \"shot\", \"shot\", \"shot\", \"shot killed\", \"shot killed\", \"shot killed\", \"shot killed\", \"shot killed\", \"shot today\", \"silence\", \"silence forget\", \"sister\", \"sister arm\", \"smart\", \"smart kind\", \"smokin\", \"smokin ashli\", \"state\", \"stop\", \"stop\", \"stop\", \"stop\", \"stop miss\", \"storming\", \"storming capitol\", \"strong\", \"strong\", \"strong\", \"strong smart\", \"tamir\", \"tamir fuck\", \"terrorism\", \"terrorist\", \"terrorist\", \"terrorist\", \"terrorist\", \"today\", \"today\", \"today\", \"today\", \"today\", \"today\", \"today got\", \"today presumably\", \"today vigil\", \"today want\", \"told\", \"tour\", \"tour\", \"tour\", \"trump\", \"trump\", \"trump\", \"trump\", \"trump\", \"trump\", \"unarmed\", \"unarmed\", \"unarmed\", \"unarmed woman\", \"unarmed young\", \"united\", \"united state\", \"update\", \"update\", \"usairforce ashli\", \"vet\", \"vet\", \"vet\", \"vet california\", \"vet police\", \"veteran\", \"veteran\", \"veteran\", \"veteran\", \"veteran\", \"veteran\", \"veteran ashli\", \"veteran ashli\", \"veteran ashli\", \"veteran ashli\", \"veteran cold\", \"veteran served\", \"veteran served\", \"veteran served\", \"veteran year\", \"vigil\", \"vigil like\", \"wait\", \"want\", \"want\", \"want know\", \"want scream\", \"wanted\", \"wanted\", \"wanted shot\", \"whilst\", \"whilst breaking\", \"wish\", \"wish happy\", \"woman\", \"woman\", \"woman\", \"woman\", \"woman\", \"woman shot\", \"woman shot\", \"woman shot\", \"woman shot\", \"woman shot\", \"woman strong\", \"wonderful\", \"wonderful kind\", \"word\", \"world\", \"year\", \"year\", \"year\", \"year murdered\", \"year service\", \"year veteran\", \"year veteran\", \"year veteran\", \"young\", \"young woman\"]}, \"R\": 30, \"lambda.step\": 0.01, \"plot.opts\": {\"xlab\": \"PC1\", \"ylab\": \"PC2\"}, \"topic.order\": [5, 1, 4, 2, 3, 6]};\n",
       "\n",
       "function LDAvis_load_lib(url, callback){\n",
       "  var s = document.createElement('script');\n",
       "  s.src = url;\n",
       "  s.async = true;\n",
       "  s.onreadystatechange = s.onload = callback;\n",
       "  s.onerror = function(){console.warn(\"failed to load library \" + url);};\n",
       "  document.getElementsByTagName(\"head\")[0].appendChild(s);\n",
       "}\n",
       "\n",
       "if(typeof(LDAvis) !== \"undefined\"){\n",
       "   // already loaded: just create the visualization\n",
       "   !function(LDAvis){\n",
       "       new LDAvis(\"#\" + \"ldavis_el22261402643708430886557447668\", ldavis_el22261402643708430886557447668_data);\n",
       "   }(LDAvis);\n",
       "}else if(typeof define === \"function\" && define.amd){\n",
       "   // require.js is available: use it to load d3/LDAvis\n",
       "   require.config({paths: {d3: \"https://cdnjs.cloudflare.com/ajax/libs/d3/3.5.5/d3.min\"}});\n",
       "   require([\"d3\"], function(d3){\n",
       "      window.d3 = d3;\n",
       "      LDAvis_load_lib(\"https://cdn.rawgit.com/bmabey/pyLDAvis/files/ldavis.v1.0.0.js\", function(){\n",
       "        new LDAvis(\"#\" + \"ldavis_el22261402643708430886557447668\", ldavis_el22261402643708430886557447668_data);\n",
       "      });\n",
       "    });\n",
       "}else{\n",
       "    // require.js not available: dynamically load d3 & LDAvis\n",
       "    LDAvis_load_lib(\"https://cdnjs.cloudflare.com/ajax/libs/d3/3.5.5/d3.min.js\", function(){\n",
       "         LDAvis_load_lib(\"https://cdn.rawgit.com/bmabey/pyLDAvis/files/ldavis.v1.0.0.js\", function(){\n",
       "                 new LDAvis(\"#\" + \"ldavis_el22261402643708430886557447668\", ldavis_el22261402643708430886557447668_data);\n",
       "            })\n",
       "         });\n",
       "}\n",
       "</script>"
      ],
      "text/plain": [
       "PreparedData(topic_coordinates=               x          y  topics  cluster       Freq\n",
       "topic                                                  \n",
       "4      1.465019  -47.625065  1       1        21.033731\n",
       "0      54.854797 -36.476795  2       1        19.377588\n",
       "3      32.212929 -61.444572  3       1        18.821726\n",
       "1      5.111096  -14.110332  4       1        16.910672\n",
       "2      26.350170 -33.374702  5       1        12.567566\n",
       "5      38.109818 -7.222781   6       1        11.288716, topic_info=              Term         Freq        Total Category  logprob  loglift\n",
       "68    ashli babbit  3132.000000  3132.000000  Default  30.0000  30.0000\n",
       "113   babbit        3133.000000  3133.000000  Default  29.0000  29.0000\n",
       "66    ashli         3173.000000  3173.000000  Default  28.0000  28.0000\n",
       "929   kind          887.000000   887.000000   Default  27.0000  27.0000\n",
       "164   babbitt       1098.000000  1098.000000  Default  26.0000  26.0000\n",
       "...       ...               ...          ...      ...      ...      ...\n",
       "1943  woman shot    260.660535   604.915305   Topic6  -4.1985   1.3395 \n",
       "1842  veteran       373.975065   1138.507197  Topic6  -3.8375   1.0681 \n",
       "907   killed        388.098754   1373.102499  Topic6  -3.8004   0.9178 \n",
       "1700  today         242.280187   1043.201940  Topic6  -4.2716   0.7214 \n",
       "1935  woman         195.017783   986.844715   Topic6  -4.4886   0.5599 \n",
       "\n",
       "[307 rows x 6 columns], token_table=      Topic      Freq          Term\n",
       "term                               \n",
       "9     5      0.987560  account     \n",
       "29    2      0.119509  air         \n",
       "29    3      0.258754  air         \n",
       "29    4      0.119509  air         \n",
       "29    6      0.502158  air         \n",
       "...  ..           ...  ...         \n",
       "1981  1      0.007079  year veteran\n",
       "1981  2      0.686697  year veteran\n",
       "1981  3      0.300872  year veteran\n",
       "1987  3      0.996927  young       \n",
       "1989  3      0.994999  young woman \n",
       "\n",
       "[425 rows x 3 columns], R=30, lambda_step=0.01, plot_opts={'xlab': 'PC1', 'ylab': 'PC2'}, topic_order=[5, 1, 4, 2, 3, 6])"
      ]
     },
     "execution_count": 37,
     "metadata": {},
     "output_type": "execute_result"
    }
   ],
   "source": [
    "# visualization of LDA model \n",
    "import pyLDAvis.sklearn\n",
    "\n",
    "pyLDAvis.enable_notebook()\n",
    "panel = pyLDAvis.sklearn.prepare(lda_model, doc_term_matrix_1, tfidfconverter, mds='tsne')\n",
    "panel"
   ]
  },
  {
   "cell_type": "code",
   "execution_count": 38,
   "metadata": {},
   "outputs": [
    {
     "name": "stdout",
     "output_type": "stream",
     "text": [
      "Log likelihood:  -967384.3109877736\n",
      "Perplexity:  540.2230953463446\n"
     ]
    }
   ],
   "source": [
    "# test LDA model\n",
    "\n",
    "# log likelihood (higher score is better)\n",
    "print(\"Log likelihood: \", lda_model.score(doc_term_matrix_1))\n",
    "\n",
    "\n",
    "# perplexity (lower score is better)\n",
    "print(\"Perplexity: \", lda_model.perplexity(doc_term_matrix_1))"
   ]
  },
  {
   "cell_type": "code",
   "execution_count": 39,
   "metadata": {},
   "outputs": [
    {
     "data": {
      "text/plain": [
       "GridSearchCV(estimator=LatentDirichletAllocation(),\n",
       "             param_grid={'learning_decay': [0.5, 0.7, 0.9],\n",
       "                         'n_components': [5, 8, 10, 12]})"
      ]
     },
     "execution_count": 39,
     "metadata": {},
     "output_type": "execute_result"
    }
   ],
   "source": [
    "# cross-validation to find best parameters for LDA model\n",
    "\n",
    "#import cross-validation tool\n",
    "from sklearn.model_selection import GridSearchCV\n",
    "\n",
    "# define search parameters\n",
    "search_params = {'n_components': [5, 8, 10, 12], 'learning_decay': [.5, .7, .9]}\n",
    "\n",
    "# initialize model for cross-validation\n",
    "lda = LatentDirichletAllocation()\n",
    "\n",
    "# initialize grid search class \n",
    "model = GridSearchCV(lda, param_grid=search_params)\n",
    "\n",
    "# run grid search \n",
    "model.fit(doc_term_matrix_1)"
   ]
  },
  {
   "cell_type": "code",
   "execution_count": 40,
   "metadata": {},
   "outputs": [
    {
     "name": "stdout",
     "output_type": "stream",
     "text": [
      "Parameters for best model:  {'learning_decay': 0.9, 'n_components': 12}\n",
      "Log likelihood score of best model:  -206301.29833878053\n",
      "Perplexity score of best model:  421.58832173756076\n"
     ]
    }
   ],
   "source": [
    "# what is best model? \n",
    "best_lda_model = model.best_estimator_\n",
    "\n",
    "# print parameters for best model\n",
    "print(\"Parameters for best model: \", model.best_params_)\n",
    "\n",
    "# print log likelihood score\n",
    "print(\"Log likelihood score of best model: \", model.best_score_)\n",
    "\n",
    "# print perplexity score\n",
    "print(\"Perplexity score of best model: \", best_lda_model.perplexity(doc_term_matrix_1))"
   ]
  },
  {
   "cell_type": "code",
   "execution_count": 41,
   "metadata": {},
   "outputs": [],
   "source": [
    "# run LDA model with best parameters\n",
    "\n",
    "#import LDA tool \n",
    "from sklearn.decomposition import LatentDirichletAllocation\n",
    "\n",
    "lda_model_2 = LatentDirichletAllocation(n_components = 12, max_iter=10, learning_method='online', learning_decay=.9)\n",
    "lda_Z_2 = lda_model_2.fit_transform(doc_term_matrix_1)"
   ]
  },
  {
   "cell_type": "code",
   "execution_count": 42,
   "metadata": {},
   "outputs": [
    {
     "name": "stdout",
     "output_type": "stream",
     "text": [
      "Parameters for best model:  {'learning_decay': 0.9, 'n_components': 12}\n",
      "Log likelihood score of best model:  -206301.29833878053\n",
      "Perplexity score of best model:  421.58832173756076\n"
     ]
    }
   ],
   "source": [
    "# what is best model? \n",
    "best_lda_model = model.best_estimator_\n",
    "\n",
    "# print parameters for best model\n",
    "print(\"Parameters for best model: \", model.best_params_)\n",
    "\n",
    "# print log likelihood score\n",
    "print(\"Log likelihood score of best model: \", model.best_score_)\n",
    "\n",
    "# print perplexity score\n",
    "print(\"Perplexity score of best model: \", best_lda_model.perplexity(doc_term_matrix_1))"
   ]
  },
  {
   "cell_type": "code",
   "execution_count": 43,
   "metadata": {},
   "outputs": [
    {
     "name": "stdout",
     "output_type": "stream",
     "text": [
      "LDA Model:\n",
      "Topic 0:\n",
      "[('ashli', 206.62654332087942), ('babbit', 202.6867625893646), ('ashli babbit', 200.43201569050453), ('family', 199.2883137910438), ('nation', 168.88222565758778), ('pray', 160.65675183405114), ('rest', 159.94712882971953), ('arm', 149.93839275063306), ('mike_pence', 147.00189969199758), ('rip ashli', 140.55612760150947)]\n",
      "Topic 1:\n",
      "[('kind', 943.1862411603335), ('prayer', 526.332732626361), ('retweet', 486.6429141634282), ('wonderful', 469.8310877541845), ('woman strong', 469.57787905250296), ('retweet share', 469.56724734990075), ('share prayer', 469.4250606896362), ('military woman', 469.3358698111516), ('know daughter', 469.33294370199826), ('kind retweet', 469.31052808466586)]\n",
      "Topic 2:\n",
      "[('die', 160.89240994870977), ('complied', 140.54771525711675), ('dead', 98.43827622984392), ('thought', 94.4415379160385), ('capitol building', 81.34744117740009), ('maybe', 80.49198758528344), ('antifa', 78.35558862516137), ('building', 74.77224142378006), ('shot dead', 74.6968770733296), ('twitter', 73.72492944736292)]\n",
      "Topic 3:\n",
      "[('ashli babbit', 1626.012967655728), ('babbit', 1619.8722099262916), ('ashli', 1261.9028778849863), ('want', 397.0726435882692), ('america', 377.4139440097539), ('want know', 363.3561438229267), ('killed air', 358.2498885010735), ('told', 357.89742671470134), ('congress today', 357.2432376060668), ('today want', 357.03579420934676)]\n",
      "Topic 4:\n",
      "[('peaceful', 300.33388108610217), ('peaceful protest', 292.57374928905637), ('killed peaceful', 288.46186322009567), ('protest air', 288.27448788437687), ('say', 273.75445479790693), ('woman shot', 245.9509415884594), ('veteran ashli', 241.33147975516627), ('force veteran', 241.02766889567212), ('protest', 231.3318403688513), ('air force', 213.7719724906132)]\n",
      "Topic 5:\n",
      "[('floyd', 387.7420163324231), ('george', 386.4945638252167), ('george floyd', 384.1385810456383), ('like george', 348.4542410345446), ('forget', 347.14248340717495), ('forget ashli', 346.9922824046272), ('moment', 346.4367174400741), ('vigil', 345.7194418074111), ('cold', 342.87901234262233), ('cold blood', 342.2838988304868)]\n",
      "Topic 6:\n",
      "[('rip ashli', 509.6871352582606), ('rip', 505.30046222097945), ('ashli babbit', 285.6682581360877), ('babbit', 285.4392135102411), ('ashli', 247.35352024645084), ('killed capitol', 154.74177470121768), ('california', 154.33388005917507), ('air', 152.3399644327579), ('force', 150.24582180210243), ('air force', 150.18653341874767)]\n",
      "Topic 7:\n",
      "[('fuck', 177.62552916273034), ('storming', 161.89716131448006), ('storming capitol', 148.08459741338362), ('pack', 144.07817854025396), ('care', 134.7387328866057), ('world', 127.26800490109477), ('bullet', 124.43342680151889), ('tamir', 116.19983739459327), ('perception', 104.01591442735145), ('catching', 103.9959145461937)]\n",
      "Topic 8:\n",
      "[('shot', 360.9369001702929), ('capitol', 310.38344133268595), ('san', 281.2611604545499), ('diego', 281.15340098882336), ('san diego', 281.1533431045291), ('woman shot', 261.5768917375362), ('today', 252.4602576853922), ('police', 247.00834387517108), ('babbitt', 227.0898842679853), ('ashli babbitt', 226.78992282361656)]\n",
      "Topic 9:\n",
      "[('person', 503.6987939497935), ('law', 485.2692228776692), ('strong', 480.33250062344507), ('miss', 477.1789412652178), ('follow', 476.31298828595106), ('daughter', 475.64179400898365), ('share', 473.59833642901435), ('miss ashli', 471.6698228331941), ('ashli know', 471.27438442706523), ('update', 470.72792805650323)]\n",
      "Topic 10:\n",
      "[('served', 364.5747553343038), ('served country', 262.2294112042574), ('country', 242.50929739646446), ('babbit', 241.58119537738654), ('ashli babbit', 241.4991319665067), ('mattered', 240.02766967885475), ('life mattered', 236.2284662277773), ('babbit life', 233.05493844890907), ('life', 213.93766648340625), ('year', 211.55308487682922)]\n",
      "Topic 11:\n",
      "[('ashli babbitt', 661.9533604394635), ('babbitt', 661.8966227419614), ('killed ashli', 653.3406891867223), ('officer', 615.3126624980252), ('officer shot', 604.1679324424479), ('police officer', 601.3632006003504), ('shot killed', 426.8144481524844), ('shot', 406.4185022986894), ('police', 382.05294107957167), ('killed', 377.44709045331456)]\n",
      "====================\n"
     ]
    }
   ],
   "source": [
    "# top topics of 2nd LDA model\n",
    "\n",
    "def print_topics(model, vectorizer, top_n=10):\n",
    "    for idx, topic in enumerate(model.components_):\n",
    "        print(\"Topic %d:\" % (idx))\n",
    "        print([(vectorizer.get_feature_names()[i], topic[i])\n",
    "                        for i in topic.argsort()[:-top_n - 1:-1]])\n",
    " \n",
    "print(\"LDA Model:\")\n",
    "print_topics(lda_model_2, tfidfconverter )\n",
    "print(\"=\" * 20)"
   ]
  },
  {
   "cell_type": "code",
   "execution_count": 44,
   "metadata": {},
   "outputs": [
    {
     "data": {
      "text/html": [
       "\n",
       "<link rel=\"stylesheet\" type=\"text/css\" href=\"https://cdn.rawgit.com/bmabey/pyLDAvis/files/ldavis.v1.0.0.css\">\n",
       "\n",
       "\n",
       "<div id=\"ldavis_el22261402642534846243983262510\"></div>\n",
       "<script type=\"text/javascript\">\n",
       "\n",
       "var ldavis_el22261402642534846243983262510_data = {\"mdsDat\": {\"x\": [150.22215270996094, 51.16336441040039, -73.1445541381836, -66.4101333618164, 54.41732406616211], \"y\": [-72.2695541381836, -159.968017578125, 21.523815155029297, -110.60643768310547, 12.44344425201416], \"topics\": [1, 2, 3, 4, 5], \"cluster\": [1, 1, 1, 1, 1], \"Freq\": [27.01455917158312, 20.91414184493024, 18.122814588147033, 18.031078647544696, 15.917405747794911]}, \"tinfo\": {\"Term\": [\"ashli babbit\", \"babbit\", \"ashli\", \"kind\", \"shot\", \"shot killed\", \"rip\", \"babbitt\", \"ashli babbitt\", \"rip ashli\", \"officer\", \"killed ashli\", \"prayer\", \"police officer\", \"retweet\", \"follow\", \"share\", \"ashli know\", \"daughter law\", \"miss ashli\", \"daughter\", \"smart\", \"know daughter\", \"wonderful\", \"share prayer\", \"retweet share\", \"miss\", \"law wonderful\", \"military woman\", \"wonderful kind\", \"kind\", \"prayer\", \"follow\", \"retweet\", \"share\", \"ashli know\", \"daughter law\", \"miss ashli\", \"smart\", \"know daughter\", \"wonderful\", \"share prayer\", \"retweet share\", \"strong smart\", \"stop miss\", \"person military\", \"wonderful kind\", \"military woman\", \"smart kind\", \"law wonderful\", \"kind retweet\", \"kind person\", \"prayer follow\", \"miss\", \"woman strong\", \"follow update\", \"daughter\", \"country\", \"update\", \"served country\", \"person\", \"strong\", \"murder\", \"year veteran\", \"served tour\", \"white\", \"veteran served\", \"babbit year\", \"trump supporter\", \"gonna\", \"say ashli\", \"tour air\", \"mattered\", \"think\", \"life mattered\", \"babbit life\", \"peace ashli\", \"american\", \"security\", \"arrested\", \"black\", \"matter\", \"high\", \"thing\", \"officer killed\", \"protestor\", \"level\", \"said\", \"traitor\", \"real\", \"capital\", \"unarmed protestor\", \"arrested murder\", \"protestor arrested\", \"tour\", \"say\", \"trump\", \"supporter\", \"antifa\", \"life\", \"terrorist\", \"people\", \"going\", \"time\", \"served\", \"capitol\", \"year\", \"dead\", \"ashli\", \"babbit\", \"ashli babbit\", \"veteran\", \"babbitt\", \"ashli babbitt\", \"force\", \"air\", \"air force\", \"want\", \"george\", \"floyd\", \"george floyd\", \"moment\", \"vigil\", \"forget ashli\", \"dc police\", \"like george\", \"told\", \"floor\", \"plaza\", \"silence\", \"moment silence\", \"dedicated\", \"blood today\", \"house floor\", \"floyd plaza\", \"vigil like\", \"given moment\", \"plaza dedicated\", \"floor given\", \"mentioned house\", \"dedicated mentioned\", \"today vigil\", \"police murdered\", \"want know\", \"silence forget\", \"murdered veteran\", \"veteran cold\", \"house\", \"forget\", \"like\", \"today\", \"veteran\", \"america\", \"blood\", \"babbit\", \"ashli babbit\", \"officer\", \"killed ashli\", \"police officer\", \"officer shot\", \"peaceful\", \"san\", \"san diego\", \"diego\", \"peaceful protest\", \"killed peaceful\", \"protest air\", \"ewerickson\", \"year service\", \"wanted\", \"wish\", \"young woman\", \"babbitt unarmed\", \"shot today\", \"veteran year\", \"service san\", \"unarmed young\", \"erick\", \"got wish\", \"police protest\", \"wanted shot\", \"presumably police\", \"wish happy\", \"diego ewerickson\", \"happy erick\", \"today got\", \"ewerickson wanted\", \"today presumably\", \"presumably\", \"shot killed\", \"woman shot\", \"shot\", \"ashli babbitt\", \"babbitt\", \"protest\", \"killed\", \"police\", \"young\", \"force veteran\", \"killed today\", \"woman\", \"force\", \"air force\", \"air\", \"got\", \"unarmed\", \"veteran\", \"capitol\", \"ashli\", \"today\", \"rip\", \"rip ashli\", \"peace\", \"rest peace\", \"domestic\", \"federal\", \"federal building\", \"terrorism\", \"tried\", \"breach\", \"ashlibabbit\", \"california\", \"lobby\", \"speaker\", \"enemy\", \"speaker lobby\", \"way\", \"outside\", \"peacefully\", \"babbit stormed\", \"invading federal\", \"capitol tried\", \"breach window\", \"tried breach\", \"window speaker\", \"peacefully protest\", \"killed peacefully\", \"outside invading\", \"building terrorism\", \"lobby killed\", \"window\", \"ashli babbit\", \"babbit\", \"rest\", \"ashli\", \"building\", \"killed capitol\", \"capitol\", \"protester\", \"invading\", \"happened\", \"killed\", \"stormed\", \"stormed capitol\"], \"Freq\": [3683.0, 3689.0, 3704.0, 1495.0, 1228.0, 892.0, 727.0, 1239.0, 1227.0, 663.0, 649.0, 612.0, 786.0, 587.0, 757.0, 756.0, 752.0, 751.0, 750.0, 749.0, 749.0, 749.0, 749.0, 749.0, 749.0, 749.0, 749.0, 749.0, 749.0, 749.0, 1494.0867003336425, 785.6716888402108, 755.0373074950206, 756.1066193838673, 751.7032754753028, 750.6901879902754, 749.001157249825, 748.7987053764549, 748.3469292255422, 748.2378411910597, 748.1866899220373, 748.1564986896511, 748.1564986896511, 747.9666210100403, 747.9666210100403, 747.9666210100403, 747.9666210100403, 747.9666210100403, 747.9666210100403, 747.9666210100403, 747.9666210100403, 747.9666210100403, 747.9176094141525, 748.0974959957906, 747.8962760406708, 747.8018541014001, 748.5570478241098, 253.31515329625265, 744.2837107024102, 143.41002420894077, 744.7955551731253, 736.162508219812, 202.33305182695412, 192.1157306935865, 182.01269763992374, 183.37750914046237, 177.0775529155705, 161.88836486962094, 161.0226891438818, 162.47233876540892, 160.23575289534784, 157.0012666850907, 144.5400372398429, 139.23132933379088, 137.19188747123965, 136.6171167576824, 141.9363907693274, 130.51155920767573, 125.1302459724074, 120.81105516178413, 119.12422930220391, 117.90544878152251, 115.5838899778403, 114.01860517710406, 114.65032005388395, 110.48693386674472, 108.54728073791557, 110.8895966235668, 105.64659432375456, 104.72473997678651, 105.1631974637879, 108.3478281032299, 108.28191622527, 108.48822934850593, 208.91048029510617, 427.83493756913623, 346.15387820999365, 182.32904122538858, 149.66715489783414, 243.85443439558395, 289.62889210074275, 219.71460696730796, 129.65643187718754, 149.90133264621892, 195.42950472986763, 307.1064905521526, 210.9204025298673, 144.58449311868867, 351.9571171216216, 334.54729461353304, 332.09661515261325, 202.23129431499999, 205.5660889189345, 201.78589067482744, 155.25959111388758, 153.18979228758442, 151.8515244343013, 467.5380763345751, 443.5277564744869, 442.1204726311283, 440.28118638809696, 385.42258985204415, 361.92706039618906, 359.0461068733593, 357.7524394966187, 355.5881288908897, 350.9238914408697, 347.21337411445444, 345.33056163037406, 344.3711986749199, 342.4888807950677, 341.5130382130013, 341.46326500704953, 341.06728759587514, 340.43690852146676, 340.43690852146676, 340.43690852146676, 340.43690852146676, 340.43690852146676, 340.43690852146676, 340.43690852146676, 340.43690852146676, 339.9772543661868, 339.92335788081266, 338.78896523703173, 338.78896523703173, 338.78896523703173, 392.3617914975862, 402.9208956899494, 390.7768141407776, 450.93629579240366, 401.38546596332594, 353.68970408352936, 344.57998239940355, 371.0021413366534, 364.183685403642, 648.2919700840334, 611.6311054592759, 586.5318997410335, 452.66930508816404, 318.0625828226517, 299.451285475481, 299.37292264446535, 299.37292264446535, 293.9497051018175, 290.8150753644454, 290.22549282609447, 225.55980743167152, 217.84873027251467, 213.31026516896992, 210.9576194345094, 210.56297278407934, 209.92012227805225, 209.86448264074943, 205.0015824299617, 204.49419690742295, 202.3990808845614, 201.67010677426686, 200.40038517465265, 198.47850861459216, 196.33208870099457, 195.51952966665357, 195.51952966665357, 195.51952966665357, 195.51952966665357, 195.51952966665357, 195.51952966665357, 195.51952966665357, 195.51952966665357, 869.8776600101284, 591.6535247685897, 1056.2439059793846, 948.1819122492049, 953.2860814764416, 405.15417007512673, 784.5046985427928, 658.4579906460958, 216.0389528300727, 444.0558850026519, 237.99358397898038, 466.18204391842625, 393.7147385313185, 386.0122743856973, 384.7450844493405, 264.47093823389457, 276.99574345364323, 346.94393316573644, 337.50783114350736, 481.2387659302821, 293.1481862040946, 726.1208500628672, 662.9155202808647, 278.6866178627679, 250.93659401476043, 202.66942734033302, 186.66696580413378, 164.59395070289105, 151.65854126987318, 147.99746611235585, 139.2580110607848, 133.5619799630962, 130.8020592560421, 125.2564570975971, 125.18896971141014, 126.70330426517643, 122.8368591618805, 124.69624670739071, 120.97513685753732, 118.7154212391166, 116.51793860041755, 116.45483087269487, 115.36262219583587, 115.21440934979341, 114.65793222489518, 114.62033882117773, 113.80788597790686, 113.42851650803941, 112.47683296152924, 112.47683296152924, 112.47124522865722, 198.7631043667279, 2717.5993657552244, 2713.95728163908, 249.75323431976804, 2174.765004076704, 164.64804717904698, 165.7531609873114, 211.36215399798078, 120.0829478645356, 124.7110091500786, 120.19408048356263, 164.66525905833248, 127.78072359590304, 124.89772731251787], \"Total\": [3683.0, 3689.0, 3704.0, 1495.0, 1228.0, 892.0, 727.0, 1239.0, 1227.0, 663.0, 649.0, 612.0, 786.0, 587.0, 757.0, 756.0, 752.0, 751.0, 750.0, 749.0, 749.0, 749.0, 749.0, 749.0, 749.0, 749.0, 749.0, 749.0, 749.0, 749.0, 1495.138839732467, 786.7232514331154, 756.0866549117543, 757.1583590414434, 752.7527482836094, 751.739156888252, 750.0499639497821, 749.8475315425139, 749.3957280391502, 749.2865927523269, 749.235439244084, 749.2052473943586, 749.2052473943586, 749.0153695533879, 749.0153695533879, 749.0153695533879, 749.0153695533879, 749.0153695533879, 749.0153695533879, 749.0153695533879, 749.0153695533879, 749.0153695533879, 748.9663581144644, 749.1465137483933, 748.9450259151979, 748.8506167235635, 749.61353199074, 254.3730357168295, 748.6285259541405, 144.45978687328886, 761.4888954467339, 755.6275246352295, 203.293701472683, 193.07028309888088, 182.96498740802127, 184.341135427216, 178.02976111794186, 162.8416212622188, 161.97977756610652, 163.44026465802602, 161.1950780555808, 157.95347436911115, 145.492023242272, 140.18826290086355, 138.143803040478, 137.56905196629165, 142.93856419615406, 131.4727170329169, 126.0843201679985, 121.77294192603868, 120.08137660440433, 118.86307264714442, 116.53781700413221, 114.98102477241567, 115.62551214163265, 111.4467717599948, 109.50014808794378, 111.8841954621079, 106.60808405002294, 105.68148436891984, 106.12545673313151, 109.3444674729098, 109.2868413945519, 109.49793681770612, 214.5890627738421, 452.3831489492528, 372.86199195558066, 190.67513941880938, 155.61759693241055, 272.4118407120366, 341.95151024371535, 300.163629402308, 141.0647838630731, 181.76677961946572, 309.1830763422031, 930.0161551790636, 440.6173113781647, 188.12104354356364, 3704.008718210733, 3689.3097116070167, 3683.1863929949295, 987.2587878474087, 1239.8112616217422, 1227.7804245383786, 826.8227921934877, 814.0793995778347, 812.4039838277381, 468.4260512852967, 444.4093038091435, 443.0019800840082, 441.162302002939, 386.3108951805986, 362.810814566533, 359.9260351390239, 358.63599541644123, 356.46710454170477, 351.8060718035124, 348.0934270942359, 346.2097757384609, 345.25036292059474, 343.3677597474248, 342.3921144196975, 342.3424570371358, 341.94620299826835, 341.31578574709647, 341.31578574709647, 341.31578574709647, 341.31578574709647, 341.31578574709647, 341.31578574709647, 341.31578574709647, 341.31578574709647, 340.8561765774352, 340.8025575429877, 339.6678420804419, 339.6678420804419, 339.6678420804419, 395.5350126626131, 490.8013612934653, 541.7415107968475, 983.0285270244067, 987.2587878474087, 438.33809466827165, 394.97825559689204, 3689.3097116070167, 3683.1863929949295, 649.1659994682117, 612.503026490559, 587.4035837651456, 453.53820788501105, 318.941850904747, 300.32273031245654, 300.2443684583452, 300.2443684583452, 294.8187381659896, 291.6839898951187, 291.0943862122616, 226.4340218449613, 218.71942545489588, 214.1853452449924, 211.8268255123577, 211.43245286167925, 210.7893561611236, 210.73437860435695, 205.87057624451097, 205.3631004248312, 203.2682726137016, 202.5393908555266, 201.26926975025694, 199.3473961266279, 197.20124514431058, 196.38841352794566, 196.38841352794566, 196.38841352794566, 196.38841352794566, 196.38841352794566, 196.38841352794566, 196.38841352794566, 196.38841352794566, 892.0416573343452, 609.2089107811621, 1228.088208673666, 1227.7804245383786, 1239.8112616217422, 509.9798818920292, 1307.8224806290891, 1080.623086736916, 225.25230404228788, 712.7805206067898, 269.60771719647585, 1173.68677803343, 826.8227921934877, 812.4039838277381, 814.0793995778347, 354.15644829687056, 437.3153332598698, 987.2587878474087, 930.0161551790636, 3704.008718210733, 983.0285270244067, 727.0371102816449, 663.8298533897134, 279.60433891441227, 251.8518564129235, 203.60040387613847, 187.58036084304356, 165.50387400927306, 152.56917293598016, 148.9085688657583, 140.17432907717247, 134.47876438081786, 131.71809982694103, 126.16587672494089, 126.09810997683452, 127.6330663916369, 123.74589385371088, 125.62381710771108, 121.88576184606691, 119.62522483131234, 117.4264104977198, 117.36319415132763, 116.27100700755808, 116.1227910606284, 115.56623820582509, 115.52865023432045, 114.7162921385458, 114.33718298808371, 113.38511956793916, 113.38511956793916, 113.3795319194106, 206.2514447071091, 3683.1863929949295, 3689.3097116070167, 282.6314105338981, 3704.008718210733, 298.0850781584843, 303.78105364267077, 930.0161551790636, 134.66653896467415, 155.84154726143018, 135.30385616052263, 1307.8224806290891, 220.50703299987455, 191.61617646264833], \"Category\": [\"Default\", \"Default\", \"Default\", \"Default\", \"Default\", \"Default\", \"Default\", \"Default\", \"Default\", \"Default\", \"Default\", \"Default\", \"Default\", \"Default\", \"Default\", \"Default\", \"Default\", \"Default\", \"Default\", \"Default\", \"Default\", \"Default\", \"Default\", \"Default\", \"Default\", \"Default\", \"Default\", \"Default\", \"Default\", \"Default\", \"Topic1\", \"Topic1\", \"Topic1\", \"Topic1\", \"Topic1\", \"Topic1\", \"Topic1\", \"Topic1\", \"Topic1\", \"Topic1\", \"Topic1\", \"Topic1\", \"Topic1\", \"Topic1\", \"Topic1\", \"Topic1\", \"Topic1\", \"Topic1\", \"Topic1\", \"Topic1\", \"Topic1\", \"Topic1\", \"Topic1\", \"Topic1\", \"Topic1\", \"Topic1\", \"Topic1\", \"Topic1\", \"Topic1\", \"Topic1\", \"Topic1\", \"Topic1\", \"Topic2\", \"Topic2\", \"Topic2\", \"Topic2\", \"Topic2\", \"Topic2\", \"Topic2\", \"Topic2\", \"Topic2\", \"Topic2\", \"Topic2\", \"Topic2\", \"Topic2\", \"Topic2\", \"Topic2\", \"Topic2\", \"Topic2\", \"Topic2\", \"Topic2\", \"Topic2\", \"Topic2\", \"Topic2\", \"Topic2\", \"Topic2\", \"Topic2\", \"Topic2\", \"Topic2\", \"Topic2\", \"Topic2\", \"Topic2\", \"Topic2\", \"Topic2\", \"Topic2\", \"Topic2\", \"Topic2\", \"Topic2\", \"Topic2\", \"Topic2\", \"Topic2\", \"Topic2\", \"Topic2\", \"Topic2\", \"Topic2\", \"Topic2\", \"Topic2\", \"Topic2\", \"Topic2\", \"Topic2\", \"Topic2\", \"Topic2\", \"Topic2\", \"Topic2\", \"Topic2\", \"Topic2\", \"Topic2\", \"Topic3\", \"Topic3\", \"Topic3\", \"Topic3\", \"Topic3\", \"Topic3\", \"Topic3\", \"Topic3\", \"Topic3\", \"Topic3\", \"Topic3\", \"Topic3\", \"Topic3\", \"Topic3\", \"Topic3\", \"Topic3\", \"Topic3\", \"Topic3\", \"Topic3\", \"Topic3\", \"Topic3\", \"Topic3\", \"Topic3\", \"Topic3\", \"Topic3\", \"Topic3\", \"Topic3\", \"Topic3\", \"Topic3\", \"Topic3\", \"Topic3\", \"Topic3\", \"Topic3\", \"Topic3\", \"Topic3\", \"Topic3\", \"Topic3\", \"Topic3\", \"Topic3\", \"Topic4\", \"Topic4\", \"Topic4\", \"Topic4\", \"Topic4\", \"Topic4\", \"Topic4\", \"Topic4\", \"Topic4\", \"Topic4\", \"Topic4\", \"Topic4\", \"Topic4\", \"Topic4\", \"Topic4\", \"Topic4\", \"Topic4\", \"Topic4\", \"Topic4\", \"Topic4\", \"Topic4\", \"Topic4\", \"Topic4\", \"Topic4\", \"Topic4\", \"Topic4\", \"Topic4\", \"Topic4\", \"Topic4\", \"Topic4\", \"Topic4\", \"Topic4\", \"Topic4\", \"Topic4\", \"Topic4\", \"Topic4\", \"Topic4\", \"Topic4\", \"Topic4\", \"Topic4\", \"Topic4\", \"Topic4\", \"Topic4\", \"Topic4\", \"Topic4\", \"Topic4\", \"Topic4\", \"Topic4\", \"Topic4\", \"Topic4\", \"Topic4\", \"Topic4\", \"Topic4\", \"Topic4\", \"Topic5\", \"Topic5\", \"Topic5\", \"Topic5\", \"Topic5\", \"Topic5\", \"Topic5\", \"Topic5\", \"Topic5\", \"Topic5\", \"Topic5\", \"Topic5\", \"Topic5\", \"Topic5\", \"Topic5\", \"Topic5\", \"Topic5\", \"Topic5\", \"Topic5\", \"Topic5\", \"Topic5\", \"Topic5\", \"Topic5\", \"Topic5\", \"Topic5\", \"Topic5\", \"Topic5\", \"Topic5\", \"Topic5\", \"Topic5\", \"Topic5\", \"Topic5\", \"Topic5\", \"Topic5\", \"Topic5\", \"Topic5\", \"Topic5\", \"Topic5\", \"Topic5\", \"Topic5\", \"Topic5\", \"Topic5\", \"Topic5\", \"Topic5\"], \"logprob\": [30.0, 29.0, 28.0, 27.0, 26.0, 25.0, 24.0, 23.0, 22.0, 21.0, 20.0, 19.0, 18.0, 17.0, 16.0, 15.0, 14.0, 13.0, 12.0, 11.0, 10.0, 9.0, 8.0, 7.0, 6.0, 5.0, 4.0, 3.0, 2.0, 1.0, -3.325, -3.9677, -4.0075, -4.0061, -4.0119, -4.0133, -4.0155, -4.0158, -4.0164, -4.0166, -4.0166, -4.0167, -4.0167, -4.0169, -4.0169, -4.0169, -4.0169, -4.0169, -4.0169, -4.0169, -4.0169, -4.0169, -4.017, -4.0167, -4.017, -4.0171, -4.0161, -5.0996, -4.0219, -5.6686, -4.0212, -4.0328, -5.0684, -5.1202, -5.1743, -5.1668, -5.2017, -5.2914, -5.2968, -5.2878, -5.3017, -5.3221, -5.4048, -5.4422, -5.4569, -5.4611, -5.423, -5.5069, -5.549, -5.5841, -5.5982, -5.6084, -5.6283, -5.642, -5.6364, -5.6734, -5.6911, -5.6698, -5.7182, -5.727, -5.7228, -5.693, -5.6936, -5.6917, -5.0364, -4.3196, -4.5314, -5.1725, -5.3699, -4.8818, -4.7097, -4.986, -5.5134, -5.3684, -5.1031, -4.6511, -5.0268, -5.4045, -4.5148, -4.5656, -4.5729, -5.0689, -5.0526, -5.0711, -5.3332, -5.3467, -5.3554, -4.0876, -4.1403, -4.1435, -4.1477, -4.2807, -4.3436, -4.3516, -4.3552, -4.3613, -4.3745, -4.3851, -4.3906, -4.3934, -4.3988, -4.4017, -4.4018, -4.403, -4.4048, -4.4048, -4.4048, -4.4048, -4.4048, -4.4048, -4.4048, -4.4048, -4.4062, -4.4064, -4.4097, -4.4097, -4.4097, -4.2629, -4.2363, -4.2669, -4.1238, -4.2402, -4.3667, -4.3928, -4.3189, -4.3374, -3.7557, -3.8139, -3.8558, -4.1148, -4.4678, -4.528, -4.5283, -4.5283, -4.5466, -4.5573, -4.5593, -4.8114, -4.8462, -4.8673, -4.8783, -4.8802, -4.8833, -4.8835, -4.907, -4.9095, -4.9198, -4.9234, -4.9297, -4.9393, -4.9502, -4.9543, -4.9543, -4.9543, -4.9543, -4.9543, -4.9543, -4.9543, -4.9543, -3.4616, -3.8471, -3.2675, -3.3755, -3.3701, -4.2257, -3.5649, -3.7401, -4.8545, -4.1341, -4.7578, -4.0854, -4.2544, -4.2741, -4.2774, -4.6523, -4.606, -4.3808, -4.4084, -4.0536, -4.5493, -3.5176, -3.6087, -4.4752, -4.5801, -4.7937, -4.876, -5.0018, -5.0837, -5.1081, -5.169, -5.2108, -5.2316, -5.275, -5.2755, -5.2635, -5.2945, -5.2794, -5.3097, -5.3286, -5.3473, -5.3478, -5.3572, -5.3585, -5.3634, -5.3637, -5.3708, -5.3741, -5.3826, -5.3826, -5.3826, -4.8132, -2.1978, -2.1992, -4.5848, -2.4206, -5.0015, -4.9948, -4.7517, -5.3171, -5.2793, -5.3162, -5.0014, -5.255, -5.2778], \"loglift\": [30.0, 29.0, 28.0, 27.0, 26.0, 25.0, 24.0, 23.0, 22.0, 21.0, 20.0, 19.0, 18.0, 17.0, 16.0, 15.0, 14.0, 13.0, 12.0, 11.0, 10.0, 9.0, 8.0, 7.0, 6.0, 5.0, 4.0, 3.0, 2.0, 1.0, 1.3081, 1.3075, 1.3074, 1.3074, 1.3074, 1.3074, 1.3074, 1.3074, 1.3074, 1.3074, 1.3074, 1.3074, 1.3074, 1.3074, 1.3074, 1.3074, 1.3074, 1.3074, 1.3074, 1.3074, 1.3074, 1.3074, 1.3074, 1.3074, 1.3074, 1.3074, 1.3074, 1.3046, 1.303, 1.3015, 1.2866, 1.2827, 1.56, 1.5598, 1.5595, 1.5595, 1.5594, 1.5589, 1.5588, 1.5588, 1.5588, 1.5587, 1.5582, 1.5579, 1.5578, 1.5578, 1.5577, 1.5574, 1.5571, 1.5568, 1.5567, 1.5567, 1.5565, 1.5563, 1.5563, 1.5561, 1.556, 1.5558, 1.5557, 1.5557, 1.5556, 1.5556, 1.5555, 1.5555, 1.5379, 1.509, 1.4904, 1.52, 1.5258, 1.454, 1.3987, 1.2527, 1.4804, 1.372, 1.106, 0.4567, 0.828, 1.3015, -0.7889, -0.8357, -0.8414, -0.0208, -0.2322, -0.241, -0.1077, -0.1056, -0.1123, 1.7061, 1.706, 1.706, 1.706, 1.7057, 1.7056, 1.7056, 1.7055, 1.7055, 1.7055, 1.7055, 1.7055, 1.7054, 1.7054, 1.7054, 1.7054, 1.7054, 1.7054, 1.7054, 1.7054, 1.7054, 1.7054, 1.7054, 1.7054, 1.7054, 1.7054, 1.7054, 1.7054, 1.7054, 1.7054, 1.6999, 1.5107, 1.3813, 0.9287, 0.808, 1.4934, 1.5715, -0.589, -0.6059, 1.7117, 1.7116, 1.7116, 1.7112, 1.7103, 1.7102, 1.7102, 1.7102, 1.7101, 1.7101, 1.7101, 1.7092, 1.7091, 1.709, 1.709, 1.709, 1.7089, 1.7089, 1.7088, 1.7088, 1.7088, 1.7088, 1.7087, 1.7087, 1.7087, 1.7086, 1.7086, 1.7086, 1.7086, 1.7086, 1.7086, 1.7086, 1.7086, 1.6879, 1.6838, 1.5623, 1.4547, 1.4503, 1.483, 1.202, 1.2177, 1.6713, 1.2399, 1.5883, 0.7897, 0.9711, 0.9689, 0.9636, 1.4211, 1.2564, 0.6673, 0.6995, -0.3277, 0.5031, 1.8365, 1.8364, 1.8345, 1.8341, 1.8332, 1.8329, 1.8322, 1.8318, 1.8316, 1.8312, 1.8309, 1.8308, 1.8305, 1.8305, 1.8304, 1.8304, 1.8303, 1.8303, 1.8301, 1.83, 1.83, 1.8299, 1.8299, 1.8299, 1.8299, 1.8298, 1.8298, 1.8297, 1.8297, 1.8297, 1.8008, 1.5337, 1.5307, 1.7141, 1.3053, 1.2442, 1.2319, 0.3561, 1.7231, 1.6149, 1.7193, -0.2344, 1.2921, 1.4098]}, \"token.table\": {\"Topic\": [2, 3, 4, 5, 2, 3, 4, 5, 2, 3, 2, 1, 2, 2, 2, 1, 2, 3, 4, 5, 1, 2, 3, 4, 5, 2, 4, 5, 1, 5, 1, 2, 3, 4, 5, 2, 5, 2, 2, 4, 5, 4, 2, 1, 2, 3, 3, 5, 5, 1, 2, 5, 5, 5, 2, 1, 2, 3, 4, 5, 5, 1, 1, 1, 3, 1, 2, 3, 3, 4, 4, 5, 5, 4, 4, 4, 5, 5, 3, 3, 3, 3, 1, 1, 2, 3, 4, 5, 3, 4, 5, 1, 3, 3, 3, 3, 3, 1, 2, 2, 1, 4, 4, 1, 5, 4, 2, 2, 3, 3, 2, 5, 5, 1, 2, 3, 4, 5, 4, 4, 5, 4, 5, 2, 4, 1, 1, 1, 1, 1, 2, 1, 2, 5, 2, 1, 2, 3, 5, 3, 5, 5, 2, 2, 3, 1, 1, 1, 3, 3, 2, 3, 4, 2, 4, 5, 5, 5, 2, 4, 4, 5, 5, 1, 2, 4, 1, 5, 1, 3, 3, 1, 2, 3, 4, 5, 3, 4, 4, 1, 1, 4, 4, 4, 5, 4, 4, 5, 2, 2, 2, 1, 5, 5, 1, 1, 5, 5, 2, 4, 4, 2, 5, 2, 2, 1, 2, 1, 2, 4, 1, 1, 1, 2, 4, 1, 4, 4, 3, 3, 1, 1, 5, 5, 1, 2, 5, 2, 5, 1, 2, 1, 2, 5, 5, 1, 2, 2, 2, 1, 2, 5, 1, 2, 3, 4, 5, 4, 4, 3, 3, 1, 2, 2, 2, 5, 5, 1, 2, 2, 2, 4, 5, 2, 4, 1, 4, 1, 2, 3, 4, 5, 3, 2, 4, 3, 3, 3, 3, 4, 4, 5, 2, 3, 5, 5, 4, 4, 1, 2, 4, 5, 2, 4, 1, 1, 1, 1, 2, 4, 4, 2, 1, 4, 4], \"Freq\": [0.18794235559743036, 0.26901552860024347, 0.4729268425164097, 0.07001774032061131, 0.18709903327139524, 0.2683394029813432, 0.4751330713339379, 0.06893122278419823, 0.1916328994028458, 0.8075957903405644, 0.996404447678688, 0.03213004247952532, 0.9639012743857596, 0.9936525970891945, 0.9882251021428454, 0.10610126214547451, 0.09503217372826216, 0.08180326318086202, 0.12985930557754005, 0.5872016416448016, 0.02905093269336133, 0.09013934256257909, 0.09882747196620117, 0.04425515914969998, 0.7379479912201505, 0.16452453220692784, 0.7721250323374633, 0.06271479693036358, 0.9990167375458907, 0.9964398514291662, 0.02900271551162132, 0.09080289435881442, 0.10056081733468701, 0.04418170680742313, 0.735638971014395, 0.9958635175705719, 0.9963687002275516, 0.9948316575596876, 0.16615432233656316, 0.7686653844016733, 0.06533252480224086, 0.9962552370978341, 0.9909946351800512, 0.027849634363736744, 0.09873961274415755, 0.8734658050444707, 0.9960786136526731, 0.9916223670560538, 0.9903310017751624, 0.023483228490485782, 0.4226981128287441, 0.553533242990022, 0.987783938728316, 0.9945482069063818, 0.9893950351991262, 0.004301000555447176, 0.33010179263057077, 0.07526750972032559, 0.36343454693528643, 0.22687777929983854, 0.9890685817533561, 0.9946022749110957, 0.9991815355986029, 0.9986001413235821, 0.998226626929339, 0.22857623575770983, 0.7707803298806494, 0.9988547796424515, 0.9961449607605567, 0.995855481104493, 0.9980222177012984, 0.9970510673618126, 0.9950399499946639, 0.9973368594955865, 0.9980832304199477, 0.9980222177012984, 0.9969060682022615, 0.9969555153177573, 0.9968588114307029, 0.9961449607605567, 0.9977382040508753, 0.9961449607605567, 0.9985627905152206, 0.9988641035948062, 0.1874645951507925, 0.2672882292150009, 0.4765229063833048, 0.06893859305545273, 0.3591568408492243, 0.6229126458478733, 0.016835476914807388, 0.1772611220366604, 0.8211061170203924, 0.9974271515572186, 0.9990789936087402, 0.997365364180797, 0.9961449607605567, 0.07797835645980455, 0.9215623945249629, 0.9911878222845542, 0.25130136816087567, 0.7454332718479908, 0.9936936733966795, 0.10347081300765437, 0.8868926829227517, 0.9980222177012984, 0.9953850430876602, 0.007584663566962063, 0.9910627060830429, 0.9972328892967028, 0.19250322219705537, 0.8020967591543974, 0.9883848240397246, 0.019880373969021755, 0.10093112938118737, 0.15292595360785965, 0.600234367910849, 0.1261639117264842, 0.9991787363183473, 0.4509827007221764, 0.5464461921159217, 0.9976550310650761, 0.9883049157488595, 0.11498187189281692, 0.8827640487254976, 0.9992383050308086, 0.9986443942345358, 0.9986443942345358, 0.9982829096839957, 0.9986443942345358, 0.9954324437301939, 0.05139277339562944, 0.895702622038113, 0.05139277339562944, 0.9917202001443174, 0.016613089122083154, 0.23442914650050672, 0.7217464274149459, 0.02768848187013859, 0.9986896279186678, 0.990759175498121, 0.9878326193797382, 0.9927389337333847, 0.9966182115602812, 0.9961449607605567, 0.9986443942345358, 0.9984695734047314, 0.9988697281689113, 0.9966066316095337, 0.996016633161975, 0.9936362933858192, 0.9980338377741284, 0.9982038500642874, 0.994590189223409, 0.9988133130226869, 0.9927328521998692, 0.987783938728316, 0.9978385925026819, 0.9934337930324663, 0.9970469510286115, 0.9972229100121559, 0.994773469958414, 0.993755968527289, 0.18323339209856015, 0.7329335683942406, 0.08328790549934552, 0.9783465057135725, 0.021011468579083436, 0.9986443942345358, 0.9965056569073463, 0.9961449607605567, 0.03331411334983296, 0.11752478876191073, 0.22857183326135394, 0.608907960671947, 0.012030096487439681, 0.9974881588298263, 0.99931293615446, 0.9932409645031329, 0.9990806787116081, 0.9987097442975981, 0.9980222177012984, 0.9980222177012984, 0.7941489740682455, 0.20392961309406799, 0.9962404420555757, 0.10396049462348247, 0.8910899539155641, 0.9870182712594808, 0.9863199539531059, 0.9935515253879207, 0.11322166895587142, 0.8845442887177455, 0.9966176290099413, 0.998470123155069, 0.9983912987815418, 0.9985735112183708, 0.9987499004670007, 0.9920972264361739, 0.9955956370299365, 0.995855481104493, 0.9461006692979449, 0.05305237397932402, 0.9925861380508856, 0.9914000395405732, 0.3654792537057619, 0.6306942873683502, 0.9898948565210794, 0.9947258356820515, 0.9933624861427813, 0.9990000059311297, 0.9983912987815418, 0.04885642543934197, 0.091198660820105, 0.8598730877324186, 0.02354150148408261, 0.9752907757691367, 0.9965151457051262, 0.9963783878168369, 0.9980338377741284, 0.9981375286955502, 0.9986443942345358, 0.9912916222373495, 0.993972374917, 0.9986443942345358, 0.41722025256243117, 0.5804803513912086, 0.3444385605557961, 0.6523457586284016, 0.9740248680794092, 0.02514466371400649, 0.9986443942345358, 0.9545030388059409, 0.04195617752993147, 0.996269410621902, 0.14914395308168496, 0.8480734586997773, 0.9914679419986261, 0.9915238060856504, 0.027507776781145885, 0.8252333034343765, 0.14304043926195859, 0.013224438195451509, 0.11088182794647804, 0.4587862789345101, 0.29805849163594555, 0.11901994375906358, 0.9980222177012984, 0.9980222177012984, 0.9961449607605567, 0.9977087609677112, 0.02330034874736164, 0.9739545776397165, 0.9939635745720728, 0.9942960793692005, 0.9938984782898734, 0.9951003146367314, 0.0697308938989346, 0.9279572803473604, 0.9939512352663489, 0.27440153791427047, 0.6334102166854411, 0.09146717930475683, 0.9877042935597735, 0.9937605972767236, 0.9938173262256587, 0.005343103904439025, 0.02127101856017692, 0.20460694043598754, 0.4061751639348069, 0.35147825906578056, 0.016206490331563368, 0.9980338377741284, 0.9942157922839673, 0.9957712449229413, 0.9977651863340906, 0.9961449607605567, 0.9990904620182254, 0.9976450953045255, 0.9944657966975445, 0.9939085316452667, 0.9950342449220739, 0.9927247088713658, 0.03393915620780485, 0.9648417264790236, 0.9954240767701499, 0.9960966911987762, 0.9980222177012984, 0.44645642245198314, 0.10991007346623248, 0.3970394901958476, 0.046008867962608946, 0.02790504160256231, 0.9717520369833463, 0.9987381905447024, 0.9983510667283299, 0.9986443942345358, 0.11347715740811407, 0.47887360426224135, 0.40624822352104834, 0.9967107381824929, 0.9944565104390884, 0.035515729945644045, 0.9589247085323891, 0.9979546523921653], \"Term\": [\"air\", \"air\", \"air\", \"air\", \"air force\", \"air force\", \"air force\", \"air force\", \"america\", \"america\", \"american\", \"antifa\", \"antifa\", \"arrested\", \"arrested murder\", \"ashli\", \"ashli\", \"ashli\", \"ashli\", \"ashli\", \"ashli babbit\", \"ashli babbit\", \"ashli babbit\", \"ashli babbit\", \"ashli babbit\", \"ashli babbitt\", \"ashli babbitt\", \"ashli babbitt\", \"ashli know\", \"ashlibabbit\", \"babbit\", \"babbit\", \"babbit\", \"babbit\", \"babbit\", \"babbit life\", \"babbit stormed\", \"babbit year\", \"babbitt\", \"babbitt\", \"babbitt\", \"babbitt unarmed\", \"black\", \"blood\", \"blood\", \"blood\", \"blood today\", \"breach\", \"breach window\", \"building\", \"building\", \"building\", \"building terrorism\", \"california\", \"capital\", \"capitol\", \"capitol\", \"capitol\", \"capitol\", \"capitol\", \"capitol tried\", \"country\", \"daughter\", \"daughter law\", \"dc police\", \"dead\", \"dead\", \"dedicated\", \"dedicated mentioned\", \"diego\", \"diego ewerickson\", \"domestic\", \"enemy\", \"erick\", \"ewerickson\", \"ewerickson wanted\", \"federal\", \"federal building\", \"floor\", \"floor given\", \"floyd\", \"floyd plaza\", \"follow\", \"follow update\", \"force\", \"force\", \"force\", \"force\", \"force veteran\", \"force veteran\", \"force veteran\", \"forget\", \"forget\", \"forget ashli\", \"george\", \"george floyd\", \"given moment\", \"going\", \"going\", \"gonna\", \"got\", \"got\", \"got wish\", \"happened\", \"happened\", \"happy erick\", \"high\", \"house\", \"house\", \"house floor\", \"invading\", \"invading\", \"invading federal\", \"killed\", \"killed\", \"killed\", \"killed\", \"killed\", \"killed ashli\", \"killed capitol\", \"killed capitol\", \"killed peaceful\", \"killed peacefully\", \"killed today\", \"killed today\", \"kind\", \"kind person\", \"kind retweet\", \"know daughter\", \"law wonderful\", \"level\", \"life\", \"life\", \"life\", \"life mattered\", \"like\", \"like\", \"like\", \"like\", \"like george\", \"lobby\", \"lobby killed\", \"matter\", \"mattered\", \"mentioned house\", \"military woman\", \"miss\", \"miss ashli\", \"moment\", \"moment silence\", \"murder\", \"murdered veteran\", \"officer\", \"officer killed\", \"officer shot\", \"outside\", \"outside invading\", \"peace\", \"peace ashli\", \"peaceful\", \"peaceful protest\", \"peacefully\", \"peacefully protest\", \"people\", \"people\", \"people\", \"person\", \"person\", \"person military\", \"plaza\", \"plaza dedicated\", \"police\", \"police\", \"police\", \"police\", \"police\", \"police murdered\", \"police officer\", \"police protest\", \"prayer\", \"prayer follow\", \"presumably\", \"presumably police\", \"protest\", \"protest\", \"protest air\", \"protester\", \"protester\", \"protestor\", \"protestor arrested\", \"real\", \"rest\", \"rest\", \"rest peace\", \"retweet\", \"retweet share\", \"rip\", \"rip ashli\", \"said\", \"san\", \"san diego\", \"say\", \"say\", \"say ashli\", \"security\", \"served\", \"served\", \"served country\", \"served tour\", \"service san\", \"share\", \"share prayer\", \"shot\", \"shot\", \"shot\", \"shot killed\", \"shot killed\", \"shot today\", \"silence\", \"silence forget\", \"smart\", \"smart kind\", \"speaker\", \"speaker lobby\", \"stop miss\", \"stormed\", \"stormed\", \"stormed capitol\", \"stormed capitol\", \"strong\", \"strong\", \"strong smart\", \"supporter\", \"supporter\", \"terrorism\", \"terrorist\", \"terrorist\", \"thing\", \"think\", \"time\", \"time\", \"time\", \"today\", \"today\", \"today\", \"today\", \"today\", \"today got\", \"today presumably\", \"today vigil\", \"told\", \"tour\", \"tour\", \"tour air\", \"traitor\", \"tried\", \"tried breach\", \"trump\", \"trump\", \"trump supporter\", \"unarmed\", \"unarmed\", \"unarmed\", \"unarmed protestor\", \"unarmed young\", \"update\", \"update\", \"veteran\", \"veteran\", \"veteran\", \"veteran\", \"veteran\", \"veteran cold\", \"veteran served\", \"veteran year\", \"vigil\", \"vigil like\", \"want\", \"want know\", \"wanted\", \"wanted shot\", \"way\", \"white\", \"window\", \"window\", \"window speaker\", \"wish\", \"wish happy\", \"woman\", \"woman\", \"woman\", \"woman\", \"woman shot\", \"woman shot\", \"woman strong\", \"wonderful\", \"wonderful kind\", \"year\", \"year\", \"year\", \"year service\", \"year veteran\", \"young\", \"young\", \"young woman\"]}, \"R\": 30, \"lambda.step\": 0.01, \"plot.opts\": {\"xlab\": \"PC1\", \"ylab\": \"PC2\"}, \"topic.order\": [2, 5, 3, 4, 1]};\n",
       "\n",
       "function LDAvis_load_lib(url, callback){\n",
       "  var s = document.createElement('script');\n",
       "  s.src = url;\n",
       "  s.async = true;\n",
       "  s.onreadystatechange = s.onload = callback;\n",
       "  s.onerror = function(){console.warn(\"failed to load library \" + url);};\n",
       "  document.getElementsByTagName(\"head\")[0].appendChild(s);\n",
       "}\n",
       "\n",
       "if(typeof(LDAvis) !== \"undefined\"){\n",
       "   // already loaded: just create the visualization\n",
       "   !function(LDAvis){\n",
       "       new LDAvis(\"#\" + \"ldavis_el22261402642534846243983262510\", ldavis_el22261402642534846243983262510_data);\n",
       "   }(LDAvis);\n",
       "}else if(typeof define === \"function\" && define.amd){\n",
       "   // require.js is available: use it to load d3/LDAvis\n",
       "   require.config({paths: {d3: \"https://cdnjs.cloudflare.com/ajax/libs/d3/3.5.5/d3.min\"}});\n",
       "   require([\"d3\"], function(d3){\n",
       "      window.d3 = d3;\n",
       "      LDAvis_load_lib(\"https://cdn.rawgit.com/bmabey/pyLDAvis/files/ldavis.v1.0.0.js\", function(){\n",
       "        new LDAvis(\"#\" + \"ldavis_el22261402642534846243983262510\", ldavis_el22261402642534846243983262510_data);\n",
       "      });\n",
       "    });\n",
       "}else{\n",
       "    // require.js not available: dynamically load d3 & LDAvis\n",
       "    LDAvis_load_lib(\"https://cdnjs.cloudflare.com/ajax/libs/d3/3.5.5/d3.min.js\", function(){\n",
       "         LDAvis_load_lib(\"https://cdn.rawgit.com/bmabey/pyLDAvis/files/ldavis.v1.0.0.js\", function(){\n",
       "                 new LDAvis(\"#\" + \"ldavis_el22261402642534846243983262510\", ldavis_el22261402642534846243983262510_data);\n",
       "            })\n",
       "         });\n",
       "}\n",
       "</script>"
      ],
      "text/plain": [
       "PreparedData(topic_coordinates=                x           y  topics  cluster       Freq\n",
       "topic                                                    \n",
       "1      150.222153 -72.269554   1       1        27.014559\n",
       "4      51.163364  -159.968018  2       1        20.914142\n",
       "2     -73.144554   21.523815   3       1        18.122815\n",
       "3     -66.410133  -110.606438  4       1        18.031079\n",
       "0      54.417324   12.443444   5       1        15.917406, topic_info=                 Term         Freq        Total Category  logprob  loglift\n",
       "68    ashli babbit     3683.000000  3683.000000  Default  30.0000  30.0000\n",
       "113   babbit           3689.000000  3689.000000  Default  29.0000  29.0000\n",
       "66    ashli            3704.000000  3704.000000  Default  28.0000  28.0000\n",
       "929   kind             1495.000000  1495.000000  Default  27.0000  27.0000\n",
       "1542  shot             1228.000000  1228.000000  Default  26.0000  26.0000\n",
       "...    ...                     ...          ...      ...      ...      ...\n",
       "878   invading         124.711009   155.841547   Topic5  -5.2793   1.6149 \n",
       "767   happened         120.194080   135.303856   Topic5  -5.3162   1.7193 \n",
       "907   killed           164.665259   1307.822481  Topic5  -5.0014  -0.2344 \n",
       "1619  stormed          127.780724   220.507033   Topic5  -5.2550   1.2921 \n",
       "1621  stormed capitol  124.897727   191.616176   Topic5  -5.2778   1.4098 \n",
       "\n",
       "[254 rows x 6 columns], token_table=      Topic      Freq          Term\n",
       "term                               \n",
       "29    2      0.187942  air         \n",
       "29    3      0.269016  air         \n",
       "29    4      0.472927  air         \n",
       "29    5      0.070018  air         \n",
       "30    2      0.187099  air force   \n",
       "...  ..           ...  ...         \n",
       "1979  4      0.996711  year service\n",
       "1981  2      0.994457  year veteran\n",
       "1987  1      0.035516  young       \n",
       "1987  4      0.958925  young       \n",
       "1989  4      0.997955  young woman \n",
       "\n",
       "[305 rows x 3 columns], R=30, lambda_step=0.01, plot_opts={'xlab': 'PC1', 'ylab': 'PC2'}, topic_order=[2, 5, 3, 4, 1])"
      ]
     },
     "execution_count": 44,
     "metadata": {},
     "output_type": "execute_result"
    }
   ],
   "source": [
    "# 2nd LDA model: running new \"best model\" parameters\n",
    "\n",
    "lda_model_2 = LatentDirichletAllocation(n_components = 5, max_iter=10, learning_method='online', learning_decay=0.5)\n",
    "lda_Z_2 = lda_model_2.fit_transform(doc_term_matrix_1)\n",
    "\n",
    "# visualization of 2nd LDA model \n",
    "pyLDAvis.enable_notebook()\n",
    "panel = pyLDAvis.sklearn.prepare(lda_model_2, doc_term_matrix_1, tfidfconverter, mds='tsne')\n",
    "panel\n",
    "\n",
    "pyLDAvis.enable_notebook()\n",
    "panel = pyLDAvis.sklearn.prepare(lda_model_2, doc_term_matrix_1, tfidfconverter, mds='tsne')\n",
    "panel"
   ]
  },
  {
   "cell_type": "code",
   "execution_count": null,
   "metadata": {},
   "outputs": [],
   "source": []
  }
 ],
 "metadata": {
  "kernelspec": {
   "display_name": "Python 3",
   "language": "python",
   "name": "python3"
  },
  "language_info": {
   "codemirror_mode": {
    "name": "ipython",
    "version": 3
   },
   "file_extension": ".py",
   "mimetype": "text/x-python",
   "name": "python",
   "nbconvert_exporter": "python",
   "pygments_lexer": "ipython3",
   "version": "3.7.7"
  }
 },
 "nbformat": 4,
 "nbformat_minor": 4
}
