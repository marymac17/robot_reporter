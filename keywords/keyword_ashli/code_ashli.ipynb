{
 "cells": [
  {
   "cell_type": "markdown",
   "metadata": {},
   "source": [
    "## Part 1: Data import and cleaning"
   ]
  },
  {
   "cell_type": "code",
   "execution_count": 1,
   "metadata": {},
   "outputs": [],
   "source": [
    "#import initial libraries\n",
    "\n",
    "import pandas as pd\n",
    "import numpy as np"
   ]
  },
  {
   "cell_type": "code",
   "execution_count": 2,
   "metadata": {},
   "outputs": [],
   "source": [
    "#import data \n",
    "\n",
    "df_0 = pd.read_csv(\"data/ashli.csv\")\n",
    "df = pd.read_csv(\"data/ashli_NR.csv\")"
   ]
  },
  {
   "cell_type": "code",
   "execution_count": 3,
   "metadata": {},
   "outputs": [
    {
     "name": "stdout",
     "output_type": "stream",
     "text": [
      "<class 'pandas.core.frame.DataFrame'>\n",
      "RangeIndex: 9965 entries, 0 to 9964\n",
      "Data columns (total 37 columns):\n",
      " #   Column                        Non-Null Count  Dtype  \n",
      "---  ------                        --------------  -----  \n",
      " 0   id                            9965 non-null   int64  \n",
      " 1   tweet_url                     9965 non-null   object \n",
      " 2   created_at                    9965 non-null   object \n",
      " 3   parsed_created_at             9965 non-null   object \n",
      " 4   user_screen_name              9965 non-null   object \n",
      " 5   text                          9965 non-null   object \n",
      " 6   tweet_type                    9965 non-null   object \n",
      " 7   coordinates                   0 non-null      float64\n",
      " 8   hashtags                      677 non-null    object \n",
      " 9   media                         684 non-null    object \n",
      " 10  urls                          3663 non-null   object \n",
      " 11  favorite_count                9965 non-null   int64  \n",
      " 12  in_reply_to_screen_name       3216 non-null   object \n",
      " 13  in_reply_to_status_id         3044 non-null   float64\n",
      " 14  in_reply_to_user_id           3216 non-null   float64\n",
      " 15  lang                          9965 non-null   object \n",
      " 16  place                         192 non-null    object \n",
      " 17  possibly_sensitive            2302 non-null   object \n",
      " 18  retweet_count                 9965 non-null   int64  \n",
      " 19  retweet_or_quote_id           5577 non-null   float64\n",
      " 20  retweet_or_quote_screen_name  5577 non-null   object \n",
      " 21  retweet_or_quote_user_id      5577 non-null   float64\n",
      " 22  source                        9965 non-null   object \n",
      " 23  user_id                       9965 non-null   int64  \n",
      " 24  user_created_at               9965 non-null   object \n",
      " 25  user_default_profile_image    9965 non-null   bool   \n",
      " 26  user_description              8579 non-null   object \n",
      " 27  user_favourites_count         9965 non-null   int64  \n",
      " 28  user_followers_count          9965 non-null   int64  \n",
      " 29  user_friends_count            9965 non-null   int64  \n",
      " 30  user_listed_count             9965 non-null   int64  \n",
      " 31  user_location                 6466 non-null   object \n",
      " 32  user_name                     9965 non-null   object \n",
      " 33  user_statuses_count           9965 non-null   int64  \n",
      " 34  user_time_zone                0 non-null      float64\n",
      " 35  user_urls                     0 non-null      float64\n",
      " 36  user_verified                 9965 non-null   bool   \n",
      "dtypes: bool(2), float64(7), int64(9), object(19)\n",
      "memory usage: 2.7+ MB\n"
     ]
    }
   ],
   "source": [
    "# look at basic info about data\n",
    "\n",
    "df.info()\n",
    "# this data set consists of 9965  Tweets\n",
    "# Twarc filter tracking keyword \"ashli\" started within half-hour after name of \"ashli babbitt\" was published\n",
    "# (Ashley Babbit is the protester who was killed in the capitol during the riots on Jan. 6)"
   ]
  },
  {
   "cell_type": "code",
   "execution_count": 4,
   "metadata": {},
   "outputs": [
    {
     "name": "stdout",
     "output_type": "stream",
     "text": [
      "34 ['en' 'tl' 'und' 'lt' 'it' 'es' 'fr' 'de' 'pt' 'th' 'ja' 'in' 'zh' 'ht'\n",
      " 'ca' 'is' 'pl' 'nl' 'hu' 'ko' 'ar' 'cy' 'et' 'no' 'tr' 'lv' 'sv' 'ro'\n",
      " 'sl' 'eu' 'fa' 'fi' 'cs' 'da']\n"
     ]
    }
   ],
   "source": [
    "# count number of languages in data set\n",
    "\n",
    "count_lang = df['lang'].unique()\n",
    "print(len(count_lang), count_lang)"
   ]
  },
  {
   "cell_type": "code",
   "execution_count": 5,
   "metadata": {},
   "outputs": [
    {
     "data": {
      "text/plain": [
       "(8277, 37)"
      ]
     },
     "execution_count": 5,
     "metadata": {},
     "output_type": "execute_result"
    }
   ],
   "source": [
    "# tweets are in 34 different languages\n",
    "\n",
    "# I'll be working only with Tweets in English\n",
    "# drop tweets in all other languages\n",
    "# now working with 38884 Tweets \n",
    "\n",
    "df = df[df.lang == 'en']\n",
    "df.shape"
   ]
  },
  {
   "cell_type": "code",
   "execution_count": 6,
   "metadata": {},
   "outputs": [],
   "source": [
    "# drop unnecessary columns \n",
    "\n",
    "df = df.drop(['tweet_url', 'created_at', 'media', 'urls','in_reply_to_screen_name',\n",
    "       'in_reply_to_status_id', 'in_reply_to_user_id', 'retweet_or_quote_id',\n",
    "       'retweet_or_quote_screen_name', 'retweet_or_quote_user_id', 'source',\n",
    "       'user_created_at', 'user_name', 'user_verified', 'user_friends_count', 'user_listed_count',\n",
    "       'user_statuses_count', 'user_default_profile_image', 'user_description',\n",
    "       'user_favourites_count', 'user_followers_count', 'coordinates', 'lang', 'user_location', 'user_time_zone', 'user_urls', 'place'], axis=1)"
   ]
  },
  {
   "cell_type": "code",
   "execution_count": 7,
   "metadata": {},
   "outputs": [
    {
     "data": {
      "text/plain": [
       "id                                                  1347022077807652866\n",
       "parsed_created_at                             2021-01-07 03:27:44+00:00\n",
       "user_screen_name                                            creatcburst\n",
       "text                  Her name was Ashli Babbit, a 14-year veteran, ...\n",
       "tweet_type                                                        quote\n",
       "hashtags                                                            NaN\n",
       "favorite_count                                                        0\n",
       "possibly_sensitive                                                  NaN\n",
       "retweet_count                                                         0\n",
       "user_id                                                       765234992\n",
       "Name: 0, dtype: object"
      ]
     },
     "execution_count": 7,
     "metadata": {},
     "output_type": "execute_result"
    }
   ],
   "source": [
    "# check start time & date of data\n",
    "\n",
    "df.iloc[0]\n",
    "\n",
    "# first Tweet downloaded Jan 7, 2021 at 03:27:44"
   ]
  },
  {
   "cell_type": "code",
   "execution_count": 8,
   "metadata": {},
   "outputs": [
    {
     "data": {
      "text/plain": [
       "id                              1347064412721405957\n",
       "parsed_created_at         2021-01-07 06:15:57+00:00\n",
       "user_screen_name                         JASpencer1\n",
       "text                  Sorry for what democrats did.\n",
       "tweet_type                                    quote\n",
       "hashtags                                        NaN\n",
       "favorite_count                                    0\n",
       "possibly_sensitive                              NaN\n",
       "retweet_count                                     0\n",
       "user_id                                   222195944\n",
       "Name: 9964, dtype: object"
      ]
     },
     "execution_count": 8,
     "metadata": {},
     "output_type": "execute_result"
    }
   ],
   "source": [
    "# check end time & date of data \n",
    "\n",
    "df.iloc[-1]\n",
    "\n",
    "# last Tweet on Jan 7, 2021 at 06:15:58"
   ]
  },
  {
   "cell_type": "markdown",
   "metadata": {},
   "source": [
    "# Part 2: Text processing for NLP "
   ]
  },
  {
   "cell_type": "code",
   "execution_count": 9,
   "metadata": {},
   "outputs": [],
   "source": [
    "# create variable for \"text\" column \n",
    "text = df['text'] "
   ]
  },
  {
   "cell_type": "code",
   "execution_count": 10,
   "metadata": {},
   "outputs": [],
   "source": [
    "# tokenize, remove stopwords, remove urls, lowercase, remove punctuation, remove numbers\n",
    "\n",
    "# import necessary libraries: ntlk etc.\n",
    "\n",
    "import string\n",
    "import re\n",
    "import nltk\n",
    "from nltk.corpus import stopwords\n",
    "from nltk.tokenize import TweetTokenizer\n",
    "from nltk import pos_tag\n",
    "from nltk.stem import WordNetLemmatizer \n",
    "\n",
    "\n",
    "stop = stopwords.words('english')\n",
    "\n",
    "punc = list(set(string.punctuation))\n",
    "\n",
    "def tokenizer(text):\n",
    "    tokenizer = TweetTokenizer()\n",
    "    tokens = tokenizer.tokenize(text)\n",
    "    return tokens\n",
    "\n",
    "def remove_url(text):\n",
    "    url = re.compile(r\"https?://\\S+|www\\.\\S+\")\n",
    "    return url.sub(r'', text)\n",
    "\n",
    "def process_text(text):\n",
    "    text = remove_url(text)\n",
    "    text = tokenizer(text)\n",
    "    text = [word.lower() for word in text]\n",
    "    text = [re.sub('[0-9]+', '', word) for word in text]\n",
    "    text = [word for word in text if word not in punc]\n",
    "    text = [word for word in text if word not in stop]\n",
    "    text = [each for each in text if len(each) > 1]\n",
    "    text = [word for word in text if ' ' not in word]\n",
    "     \n",
    "    return text"
   ]
  },
  {
   "cell_type": "code",
   "execution_count": 11,
   "metadata": {},
   "outputs": [],
   "source": [
    "# apply text processing functions to text\n",
    "\n",
    "df['processed_text'] = df['text'].apply(process_text)"
   ]
  },
  {
   "cell_type": "code",
   "execution_count": 12,
   "metadata": {},
   "outputs": [
    {
     "name": "stderr",
     "output_type": "stream",
     "text": [
      "/opt/anaconda3/lib/python3.7/site-packages/ipykernel_launcher.py:3: FutureWarning: Passing a negative integer is deprecated in version 1.0 and will not be supported in future version. Instead, use None to not limit the column width.\n",
      "  This is separate from the ipykernel package so we can avoid doing imports until\n"
     ]
    },
    {
     "data": {
      "text/plain": [
       "0     [name, ashli, babbit, year, veteran, served, four, tours, us, air, force, high, level, security, official, throughout, time, service]                                                                                                   \n",
       "1     [ashli, babbit, rednèck, ass, family, friends, online, trying, paint, like, oluwatoyin, salau, fuck, outta]                                                                                                                             \n",
       "2     [ashli, babbit, going, remembered, terrorist, martyr]                                                                                                                                                                                   \n",
       "3     [people, celebrating, death, ashli, babbit, twitter, think, think, transpired, summer]                                                                                                                                                  \n",
       "4     [tammy, duckworth, needs, oscar, fake, performance, meanwhile, ashli, babbit, true, patriot, air, force, veteran, murdered, capitol, simply, protesting, media, even, cover, murder, instead, attacks, peaceful, protests, capitol, smh]\n",
       "5     [ashli, babbit, die, trump, man, cares, piss, supporters, fire]                                                                                                                                                                         \n",
       "6     [@therightmelissa, ashli, babbit, unarmed, woman, shot, killed, police, peaceful, protester, air, force, veteran, mother, trump, supporter, say, name, trending, rip]                                                                   \n",
       "7     [nancy, pelosi's, #benghazi, ..., security, incompetence, #uscapitol, gunning, conservative, activist, ashli, babbit, ..., #justiceforashli]                                                                                            \n",
       "9     [back, blue, though, right, even, though, trespassing, government, property]                                                                                                                                                            \n",
       "11    [@prudhommeobrien, last, cia, coup, d'état, sitting, president, jfk, getting, shot, head, dallas, like, ashli, babbitt, today, overthrowing, trump, tonight, vesta, would, agree]                                                       \n",
       "13    [broke, law, complied, officers]                                                                                                                                                                                                        \n",
       "14    [sometimes, illegal, activities, fatal, consequences, video, shows, moment, ashli, babbit, fatally, shot, capitol, via, @nypost]                                                                                                        \n",
       "15    [@poodlenoodle, @redxfiress, @lightenupnow, @kkque, @realdealaxelrod, breaking, capitol, overthrow, government, games, especially, ashli]                                                                                               \n",
       "16    [@mjedi, new, ashli, babbit, strain, dm, purchase]                                                                                                                                                                                      \n",
       "17    [@epetrucelli, @scvoteblue, @lindsayawatts, unless, black, seem, ever, recall, outrage, black, person, gets, shot, police, maybe, ashli, followed, orders, meh, thoughts, prayers]                                                      \n",
       "18    [yet, stormed, capital, like, beach, normandy]                                                                                                                                                                                          \n",
       "19    [antifa, got, killed]                                                                                                                                                                                                                   \n",
       "20    [dead, af]                                                                                                                                                                                                                              \n",
       "21    [seriously, fuck, dead, bitch, condolences, husband, stopped, traveling, cross-country, pandemic, commit, treason]                                                                                                                      \n",
       "22    [@foxoregon, rest, peace, ashli, babbit]                                                                                                                                                                                                \n",
       "Name: processed_text, dtype: object"
      ]
     },
     "execution_count": 12,
     "metadata": {},
     "output_type": "execute_result"
    }
   ],
   "source": [
    "# look at some of processed text\n",
    "\n",
    "pd.set_option('display.max_colwidth', -1)\n",
    "df['processed_text'][:20]"
   ]
  },
  {
   "cell_type": "code",
   "execution_count": 13,
   "metadata": {},
   "outputs": [],
   "source": [
    "# part-of-speech tagging \n",
    "\n",
    "ready_for_pos = df['processed_text']\n",
    "\n",
    "def pos_tagging(text):\n",
    "    pos_tag = [pos_tag(word) for word in ready_for_pos]\n",
    "\n",
    "df['pos_tagged'] = df.processed_text.apply(lambda x: pos_tag(x))"
   ]
  },
  {
   "cell_type": "code",
   "execution_count": 14,
   "metadata": {},
   "outputs": [],
   "source": [
    "# lemmatizing\n",
    "\n",
    "pos_tagged = df['pos_tagged']\n",
    "\n",
    "wordnet = WordNetLemmatizer() \n",
    "\n",
    "lemmatized = [[wordnet.lemmatize(word[0]) for word in words] for words in pos_tagged]"
   ]
  },
  {
   "cell_type": "code",
   "execution_count": 15,
   "metadata": {},
   "outputs": [],
   "source": []
  },
  {
   "cell_type": "code",
   "execution_count": 16,
   "metadata": {},
   "outputs": [],
   "source": [
    "# lemmatizing\n",
    "pos_tagged = df['pos_tagged']\n",
    "\n",
    "from nltk.stem import WordNetLemmatizer \n",
    "wordnet = WordNetLemmatizer() \n",
    "\n",
    "lemmatized = [[wordnet.lemmatize(word[0]) for word in words] for words in pos_tagged]"
   ]
  },
  {
   "cell_type": "code",
   "execution_count": 17,
   "metadata": {},
   "outputs": [
    {
     "data": {
      "text/plain": [
       "[['name',\n",
       "  'ashli',\n",
       "  'babbit',\n",
       "  'year',\n",
       "  'veteran',\n",
       "  'served',\n",
       "  'four',\n",
       "  'tour',\n",
       "  'u',\n",
       "  'air',\n",
       "  'force',\n",
       "  'high',\n",
       "  'level',\n",
       "  'security',\n",
       "  'official',\n",
       "  'throughout',\n",
       "  'time',\n",
       "  'service'],\n",
       " ['ashli',\n",
       "  'babbit',\n",
       "  'rednèck',\n",
       "  'as',\n",
       "  'family',\n",
       "  'friend',\n",
       "  'online',\n",
       "  'trying',\n",
       "  'paint',\n",
       "  'like',\n",
       "  'oluwatoyin',\n",
       "  'salau',\n",
       "  'fuck',\n",
       "  'outta'],\n",
       " ['ashli', 'babbit', 'going', 'remembered', 'terrorist', 'martyr'],\n",
       " ['people',\n",
       "  'celebrating',\n",
       "  'death',\n",
       "  'ashli',\n",
       "  'babbit',\n",
       "  'twitter',\n",
       "  'think',\n",
       "  'think',\n",
       "  'transpired',\n",
       "  'summer'],\n",
       " ['tammy',\n",
       "  'duckworth',\n",
       "  'need',\n",
       "  'oscar',\n",
       "  'fake',\n",
       "  'performance',\n",
       "  'meanwhile',\n",
       "  'ashli',\n",
       "  'babbit',\n",
       "  'true',\n",
       "  'patriot',\n",
       "  'air',\n",
       "  'force',\n",
       "  'veteran',\n",
       "  'murdered',\n",
       "  'capitol',\n",
       "  'simply',\n",
       "  'protesting',\n",
       "  'medium',\n",
       "  'even',\n",
       "  'cover',\n",
       "  'murder',\n",
       "  'instead',\n",
       "  'attack',\n",
       "  'peaceful',\n",
       "  'protest',\n",
       "  'capitol',\n",
       "  'smh'],\n",
       " ['ashli',\n",
       "  'babbit',\n",
       "  'die',\n",
       "  'trump',\n",
       "  'man',\n",
       "  'care',\n",
       "  'piss',\n",
       "  'supporter',\n",
       "  'fire'],\n",
       " ['@therightmelissa',\n",
       "  'ashli',\n",
       "  'babbit',\n",
       "  'unarmed',\n",
       "  'woman',\n",
       "  'shot',\n",
       "  'killed',\n",
       "  'police',\n",
       "  'peaceful',\n",
       "  'protester',\n",
       "  'air',\n",
       "  'force',\n",
       "  'veteran',\n",
       "  'mother',\n",
       "  'trump',\n",
       "  'supporter',\n",
       "  'say',\n",
       "  'name',\n",
       "  'trending',\n",
       "  'rip'],\n",
       " ['nancy',\n",
       "  \"pelosi's\",\n",
       "  '#benghazi',\n",
       "  '...',\n",
       "  'security',\n",
       "  'incompetence',\n",
       "  '#uscapitol',\n",
       "  'gunning',\n",
       "  'conservative',\n",
       "  'activist',\n",
       "  'ashli',\n",
       "  'babbit',\n",
       "  '...',\n",
       "  '#justiceforashli'],\n",
       " ['back',\n",
       "  'blue',\n",
       "  'though',\n",
       "  'right',\n",
       "  'even',\n",
       "  'though',\n",
       "  'trespassing',\n",
       "  'government',\n",
       "  'property'],\n",
       " ['@prudhommeobrien',\n",
       "  'last',\n",
       "  'cia',\n",
       "  'coup',\n",
       "  \"d'état\",\n",
       "  'sitting',\n",
       "  'president',\n",
       "  'jfk',\n",
       "  'getting',\n",
       "  'shot',\n",
       "  'head',\n",
       "  'dallas',\n",
       "  'like',\n",
       "  'ashli',\n",
       "  'babbitt',\n",
       "  'today',\n",
       "  'overthrowing',\n",
       "  'trump',\n",
       "  'tonight',\n",
       "  'vesta',\n",
       "  'would',\n",
       "  'agree'],\n",
       " ['broke', 'law', 'complied', 'officer'],\n",
       " ['sometimes',\n",
       "  'illegal',\n",
       "  'activity',\n",
       "  'fatal',\n",
       "  'consequence',\n",
       "  'video',\n",
       "  'show',\n",
       "  'moment',\n",
       "  'ashli',\n",
       "  'babbit',\n",
       "  'fatally',\n",
       "  'shot',\n",
       "  'capitol',\n",
       "  'via',\n",
       "  '@nypost'],\n",
       " ['@poodlenoodle',\n",
       "  '@redxfiress',\n",
       "  '@lightenupnow',\n",
       "  '@kkque',\n",
       "  '@realdealaxelrod',\n",
       "  'breaking',\n",
       "  'capitol',\n",
       "  'overthrow',\n",
       "  'government',\n",
       "  'game',\n",
       "  'especially',\n",
       "  'ashli'],\n",
       " ['@mjedi', 'new', 'ashli', 'babbit', 'strain', 'dm', 'purchase'],\n",
       " ['@epetrucelli',\n",
       "  '@scvoteblue',\n",
       "  '@lindsayawatts',\n",
       "  'unless',\n",
       "  'black',\n",
       "  'seem',\n",
       "  'ever',\n",
       "  'recall',\n",
       "  'outrage',\n",
       "  'black',\n",
       "  'person',\n",
       "  'get',\n",
       "  'shot',\n",
       "  'police',\n",
       "  'maybe',\n",
       "  'ashli',\n",
       "  'followed',\n",
       "  'order',\n",
       "  'meh',\n",
       "  'thought',\n",
       "  'prayer'],\n",
       " ['yet', 'stormed', 'capital', 'like', 'beach', 'normandy'],\n",
       " ['antifa', 'got', 'killed'],\n",
       " ['dead', 'af'],\n",
       " ['seriously',\n",
       "  'fuck',\n",
       "  'dead',\n",
       "  'bitch',\n",
       "  'condolence',\n",
       "  'husband',\n",
       "  'stopped',\n",
       "  'traveling',\n",
       "  'cross-country',\n",
       "  'pandemic',\n",
       "  'commit',\n",
       "  'treason'],\n",
       " ['@foxoregon', 'rest', 'peace', 'ashli', 'babbit']]"
      ]
     },
     "execution_count": 17,
     "metadata": {},
     "output_type": "execute_result"
    }
   ],
   "source": [
    "# look at lemmatized text\n",
    "\n",
    "df['lemmatized'] = lemmatized\n",
    "lemmatized[:20]"
   ]
  },
  {
   "cell_type": "code",
   "execution_count": 18,
   "metadata": {},
   "outputs": [
    {
     "name": "stderr",
     "output_type": "stream",
     "text": [
      "/opt/anaconda3/lib/python3.7/site-packages/ipykernel_launcher.py:4: FutureWarning: Passing a negative integer is deprecated in version 1.0 and will not be supported in future version. Instead, use None to not limit the column width.\n",
      "  after removing the cwd from sys.path.\n"
     ]
    },
    {
     "data": {
      "text/plain": [
       "3609    sn even name lmao name ashli                                                                                                                                            \n",
       "3610    storing federal building like result something protected first amendment                                                                                                \n",
       "3611    remember correctly play stupid game win stupid prize summer                                                                                                             \n",
       "3612    ashli babbitt protester killed capitol air force vet california via @nypost                                                                                             \n",
       "3613    breonna taylor                                                                                                                                                          \n",
       "3614    exactly                                                                                                                                                                 \n",
       "3615    @jd_meadows @radiofreetom ashli babbit article specifically say hard core trump supporter                                                                               \n",
       "3617    one nigga get roberta paulson goin vibe                                                                                                                                 \n",
       "3618    tweet ashli babbitt woman killed today riot                                                                                                                             \n",
       "3619    ashli babbit protester killed capitol air force vet california #smartnews                                                                                               \n",
       "3620    hey asshole ... name ashli babbitt know know human human died today year member air force probably seen sacrifice hardship could ever possibly experience ...           \n",
       "3621    trump blood american hand blood first maga sent storm capitol despite displeasure maga people woman heartbroken family trump play stupid game win stupid prize          \n",
       "3622    @sebgorka family loved one ashli heart broken unarmed gave year life country justification death eternal gratitude service prayer comfort strength family fellow veteran\n",
       "3623    literally tried climb federal building lmao                                                                                                                             \n",
       "3624    @paladinsix @kaitmarieox remember ashli babbit disgraced veteran traitor cult member                                                                                    \n",
       "3625    @secretsunblog shaman others pointed phoenix phoenix death resurrection ash ash ashli ashley babbitt                                                                    \n",
       "3626    idk cry please                                                                                                                                                          \n",
       "3628    wa yuh deyyyy sad poor thing                                                                                                                                            \n",
       "3629    @smeggers @theanabraga congress house belongs consent allow terrorist reside house time stand crime ashli babbit died time consent passed                               \n",
       "3630    play stupid game win stupid prize                                                                                                                                       \n",
       "Name: final_docs, dtype: object"
      ]
     },
     "execution_count": 18,
     "metadata": {},
     "output_type": "execute_result"
    }
   ],
   "source": [
    "# before vectorizing, cast lists of words back into strings\n",
    "\n",
    "df['final_docs'] = df['lemmatized'].apply(lambda x: \" \".join(x))\n",
    "pd.set_option('display.max_colwidth', -1)\n",
    "final_docs = df['final_docs']\n",
    "final_docs[3000:3020]"
   ]
  },
  {
   "cell_type": "code",
   "execution_count": 20,
   "metadata": {},
   "outputs": [],
   "source": [
    "#create document term matrix with TFIDF\n",
    "\n",
    "#import vectorizing tool (usee TFIDF)\n",
    "from sklearn.feature_extraction.text import TfidfVectorizer\n",
    "# set max_features to 2000 (specifies the number of most frequently occurring words for which we want to create feature vectors)\n",
    "# set min_df to 5 (word must occur in at least 5 documents)\n",
    "# set max_df to 0.85 (word must not occur in more than 85 percent of the documents) \n",
    "\n",
    "tfidfconverter = TfidfVectorizer(max_features=2000, min_df=5, max_df=0.85, ngram_range=(1, 2), stop_words='english')  \n",
    "doc_term_matrix_1 = tfidfconverter.fit_transform(df['final_docs'].values.astype('U'))"
   ]
  },
  {
   "cell_type": "code",
   "execution_count": 22,
   "metadata": {},
   "outputs": [],
   "source": [
    "#run NMF model \n",
    "\n",
    "#import NMF tool \n",
    "from sklearn.decomposition import NMF\n",
    "\n",
    "nmf_model = NMF(n_components=6)\n",
    "nmf_Z = nmf_model.fit_transform(doc_term_matrix_1)\n"
   ]
  },
  {
   "cell_type": "code",
   "execution_count": 21,
   "metadata": {},
   "outputs": [],
   "source": [
    "# run LDA model\n",
    "\n",
    "#import LDA tool \n",
    "from sklearn.decomposition import LatentDirichletAllocation\n",
    "\n",
    "lda_model = LatentDirichletAllocation(n_components = 6, max_iter=10, learning_method='online', learning_decay=.7)\n",
    "lda_Z = lda_model.fit_transform(doc_term_matrix_1)"
   ]
  },
  {
   "cell_type": "code",
   "execution_count": 23,
   "metadata": {},
   "outputs": [
    {
     "name": "stdout",
     "output_type": "stream",
     "text": [
      "LDA Model:\n",
      "Topic 0:\n",
      "[('vain', 11.289388952660351), ('lmfao', 10.651157716070793), ('fascist', 10.381222888601966), ('man', 10.32020459480206), ('shame', 10.103833843917283), ('cop', 8.922432228109768), ('street', 8.5530972236664), ('welp', 8.096762441807371), ('comply', 7.75952429928336), ('let', 7.697567349794917)]\n",
      "Topic 1:\n",
      "[('pack', 64.7147670853554), ('ashli', 62.28008556187086), ('veteran', 61.41158511926153), ('shot', 59.96785957007005), ('ashli pack', 48.85795285424942), ('woman', 47.552953027630494), ('year', 46.84266976046674), ('air', 45.045113294280064), ('force', 44.340472382095555), ('air force', 42.75781152020286)]\n",
      "Topic 2:\n",
      "[('federal', 27.478078319452322), ('federal building', 26.88920885038435), ('lol', 22.059476779731217), ('building', 19.022303670099546), ('amendment', 17.321446371356327), ('right', 16.429401925139473), ('friend', 16.374303964911444), ('imagine', 15.384959975702536), ('hear', 13.845775230584039), ('wrong', 13.121843612305906)]\n",
      "Topic 3:\n",
      "[('shot', 48.7816527487569), ('got', 45.56966962049843), ('stupid', 44.92487641610848), ('capitol', 39.654684863481165), ('breaking', 36.907685663390545), ('building', 35.83324497219977), ('antifa', 32.32615251770897), ('law', 31.485738490324906), ('government', 30.450759328826088), ('window', 27.17259494568827)]\n",
      "Topic 4:\n",
      "[('family', 56.95705075574408), ('ashli', 56.24718743772954), ('babbitt', 55.25063960446313), ('ashli babbitt', 52.8511023259124), ('peace', 51.88278335871078), ('rest', 51.40401931575596), ('prayer', 48.23515589869925), ('sorry', 47.27088628304157), ('rest peace', 43.93124327481896), ('loss', 34.618800202647435)]\n",
      "Topic 5:\n",
      "[('terrorist', 83.49599134439059), ('domestic', 58.705478054620094), ('domestic terrorist', 56.33217122574995), ('ashli', 45.279763002637445), ('babbit', 44.427814787824765), ('ashli babbit', 40.28915807370319), ('served', 36.23350055084964), ('died', 35.91036386252744), ('sad', 35.67298545407276), ('floyd', 34.23698677398223)]\n",
      "Topic 6:\n",
      "[('ashli', 103.72636071771664), ('rip', 75.27564642651171), ('babbit', 66.56141855959764), ('ashli babbit', 65.7642195372109), ('rip ashli', 65.7344229593545), ('like', 61.685326296019625), ('police', 56.69738314108184), ('people', 55.1961760493322), ('know', 50.030363003922915), ('death', 48.52212889804453)]\n",
      "Topic 7:\n",
      "[('yes', 21.436569535207543), ('sayhername', 18.581392594591037), ('dumb', 15.264455058384153), ('true', 14.958877557098354), ('forgotten', 14.405483587027092), ('piss', 13.041837459914857), ('happened', 12.789748197115273), ('state', 11.666512491953643), ('ashli', 11.386922698954534), ('united', 10.61164922171335)]\n",
      "Topic 8:\n",
      "[('killed', 46.37692298570185), ('california', 41.72400966682659), ('killed capitol', 39.4507059293989), ('vet', 39.1808139577723), ('protester', 38.847714657019374), ('force vet', 38.81815676074498), ('capitol air', 37.87403156017353), ('vet california', 37.75899969126207), ('protester killed', 36.11487257126205), ('nypost', 35.97844826233202)]\n",
      "Topic 9:\n",
      "[('unarmed', 38.33015694974689), ('blood', 35.12760924248628), ('life', 33.97553495732875), ('matter', 32.497637715908965), ('life matter', 29.639159999373785), ('ashli', 28.745887335670787), ('white', 27.997951952314597), ('killed', 25.052777756034704), ('hand', 22.832984886346424), ('oh', 22.56622497242529)]\n",
      "Topic 10:\n",
      "[('ashli', 185.20979790923593), ('babbit', 156.12988512061602), ('ashli babbit', 155.76506185601926), ('say', 119.04642597085282), ('say ashli', 48.506157218633234), ('forget', 37.46491316055632), ('babbitt', 34.296844033394954), ('ashli babbitt', 33.840723023960905), ('babbit say', 29.603123439085387), ('terrorist', 25.897385192543407)]\n",
      "Topic 11:\n",
      "[('bitch', 32.70118436535819), ('peaceful', 28.11467593554108), ('protestors', 26.850503310680395), ('peaceful protestors', 24.470287020208126), ('girl', 20.91472126166727), ('lmao', 20.52234462669792), ('terrorism', 19.234658994705722), ('broke', 18.70858792700692), ('video', 18.627398313205966), ('went', 16.600764173846873)]\n",
      "==============================\n",
      "NMF Model:\n",
      "Topic 0:\n",
      "[('ashli babbit', 2.819530564136626), ('babbit', 2.8066170304977356), ('ashli', 2.265219422244749), ('rip', 0.23875625150015456), ('rip ashli', 0.20765895984056787), ('babbit say', 0.1721597118509043), ('mike_pence', 0.15525600015182625), ('pack', 0.11707323926110075), ('murdered', 0.09976768044881257), ('died', 0.09496386320210218)]\n",
      "Topic 1:\n",
      "[('force vet', 0.8968986573813862), ('vet', 0.8765447503862397), ('protester killed', 0.8740748770286066), ('killed capitol', 0.862756063346217), ('protester', 0.8591150248241328), ('killed', 0.8505926500707108), ('air', 0.7988338887131445), ('california', 0.7985689200562345), ('air force', 0.7976382569823808), ('vet california', 0.7971292781189517)]\n",
      "Topic 2:\n",
      "[('babbitt', 1.7805171547492882), ('ashli babbitt', 1.7676115713516891), ('ashli', 1.415948592316599), ('rip', 0.22366077200528361), ('rip ashli', 0.20118816281938062), ('pack', 0.14524044484563017), ('ashli pack', 0.11445891671208337), ('babbitt say', 0.11341804230441803), ('say ashli', 0.09037725943633441), ('ashli_babbitt', 0.07947761658599951)]\n",
      "Topic 3:\n",
      "[('say', 2.3984934036134753), ('say ashli', 1.0819215891668543), ('peaceful protestors', 0.5407685163902256), ('protestors', 0.5361752331412751), ('peaceful', 0.5237460891199441), ('babbit say', 0.31523906271069274), ('police', 0.29495564712043537), ('capitol police', 0.27335029921593174), ('individual', 0.2721770209794578), ('opened', 0.2713186347093559)]\n",
      "Topic 4:\n",
      "[('shot', 1.24755004404444), ('woman', 0.9766576713412515), ('veteran', 0.9542309826647168), ('capitol', 0.7688967038210102), ('killed', 0.6859475305843555), ('year', 0.6712928302265148), ('trump', 0.5913055582102568), ('force', 0.5821715232043456), ('police', 0.5762650305306929), ('shot killed', 0.5588940726092214)]\n",
      "Topic 5:\n",
      "[('terrorist', 2.4631414097561133), ('domestic', 1.1359556895518372), ('domestic terrorist', 1.1249978044793347), ('babbit domestic', 0.34831876583652094), ('terrorist ashli', 0.2611362841301987), ('babbit terrorist', 0.2194356256630678), ('building', 0.16010385921898496), ('died', 0.11517571828507976), ('fuck', 0.10530840602794427), ('traitor', 0.10367820271796116)]\n",
      "==============================\n"
     ]
    }
   ],
   "source": [
    "def print_topics(model, vectorizer, top_n=10):\n",
    "    for idx, topic in enumerate(model.components_):\n",
    "        print(\"Topic %d:\" % (idx))\n",
    "        print([(vectorizer.get_feature_names()[i], topic[i])\n",
    "                        for i in topic.argsort()[:-top_n - 1:-1]])\n",
    " \n",
    "print(\"LDA Model:\")\n",
    "print_topics(lda_model, tfidfconverter )\n",
    "print(\"=\" * 30)\n",
    " \n",
    "print(\"NMF Model:\")\n",
    "print_topics(nmf_model, tfidfconverter )\n",
    "print(\"=\" * 30)"
   ]
  },
  {
   "cell_type": "markdown",
   "metadata": {},
   "source": [
    "# Part 4: Run visualization and testing of LDA model"
   ]
  },
  {
   "cell_type": "code",
   "execution_count": 23,
   "metadata": {},
   "outputs": [
    {
     "data": {
      "text/html": [
       "\n",
       "<link rel=\"stylesheet\" type=\"text/css\" href=\"https://cdn.rawgit.com/bmabey/pyLDAvis/files/ldavis.v1.0.0.css\">\n",
       "\n",
       "\n",
       "<div id=\"ldavis_el406781407149838476322406774734\"></div>\n",
       "<script type=\"text/javascript\">\n",
       "\n",
       "var ldavis_el406781407149838476322406774734_data = {\"mdsDat\": {\"x\": [1.4650187492370605, 54.85479736328125, 32.212928771972656, 5.111096382141113, 26.350170135498047, 38.10981750488281], \"y\": [-47.625064849853516, -36.4767951965332, -61.44457244873047, -14.110331535339355, -33.37470245361328, -7.222781181335449], \"topics\": [1, 2, 3, 4, 5, 6], \"cluster\": [1, 1, 1, 1, 1, 1], \"Freq\": [24.60824059208512, 18.176726876264855, 16.754420577129736, 14.937556845066723, 14.63211831691192, 10.890936792541643]}, \"tinfo\": {\"Term\": [\"killed ashli\", \"police officer\", \"officer\", \"officer shot\", \"kind\", \"ashli babbit\", \"babbit\", \"know\", \"want\", \"america\", \"told\", \"want know\", \"killed air\", \"congress today\", \"today want\", \"babbit congress\", \"know america\", \"america told\", \"ashli babbitt\", \"babbitt\", \"rip ashli\", \"congress\", \"floyd\", \"george\", \"george floyd\", \"police\", \"rip\", \"force veteran\", \"veteran ashli\", \"moment\", \"prayer\", \"retweet\", \"miss\", \"smart\", \"miss ashli\", \"daughter\", \"daughter law\", \"retweet share\", \"law wonderful\", \"strong smart\", \"share prayer\", \"follow update\", \"smart kind\", \"prayer follow\", \"stop miss\", \"person military\", \"know daughter\", \"wonderful kind\", \"kind retweet\", \"military woman\", \"kind person\", \"wonderful\", \"woman strong\", \"ashli know\", \"follow\", \"strong\", \"kind\", \"share\", \"federal\", \"federal building\", \"stop\", \"update\", \"person\", \"law\", \"military\", \"woman\", \"peaceful protest\", \"killed peaceful\", \"protest air\", \"protester\", \"california\", \"mike_pence\", \"qanon\", \"protester killed\", \"vet california\", \"california nypost\", \"year air\", \"babbitt protester\", \"llinwood\", \"conspiracy\", \"identified\", \"vain\", \"identified ashli\", \"neck\", \"shoot\", \"medium\", \"named\", \"exactly\", \"die vain\", \"rioter\", \"life matter\", \"shot neck\", \"llinwood ashli\", \"faith\", \"capitol identified\", \"babbitt year\", \"vain let\", \"force vet\", \"woman killed\", \"peaceful\", \"hell\", \"watching\", \"vet\", \"tweet\", \"report\", \"ashli babbit\", \"babbit\", \"ashli\", \"nypost\", \"woman shot\", \"inside\", \"air\", \"force\", \"air force\", \"protest\", \"killed capitol\", \"force veteran\", \"woman\", \"capitol\", \"killed\", \"veteran ashli\", \"shot\", \"babbitt\", \"ashli babbitt\", \"shot killed\", \"veteran\", \"trump\", \"rest\", \"mattered\", \"life mattered\", \"babbit life\", \"peace\", \"rest peace\", \"usairforce\", \"happened\", \"sebgorka\", \"complied\", \"sebgorka usairforce\", \"usairforce ashli\", \"beautiful\", \"truly\", \"enemy\", \"fighting\", \"constitution\", \"peace ashli\", \"senseless\", \"defended\", \"game\", \"beautiful patriot\", \"foreign\", \"foreign domestic\", \"enemy foreign\", \"constitution united\", \"defended constitution\", \"happened today\", \"babbit truly\", \"state enemy\", \"death\", \"got shot\", \"domestic\", \"rip ashli\", \"rip\", \"life\", \"maybe\", \"fucking\", \"patriot\", \"maga\", \"people\", \"united\", \"united state\", \"cop\", \"babbit\", \"ashli babbit\", \"ashli\", \"got\", \"state\", \"shot\", \"served country\", \"amendment\", \"ewerickson\", \"year service\", \"babbitt unarmed\", \"wish\", \"young woman\", \"got wish\", \"shot today\", \"unarmed young\", \"amendment right\", \"veteran year\", \"service san\", \"erick\", \"police protest\", \"wanted shot\", \"presumably police\", \"diego ewerickson\", \"today presumably\", \"wish happy\", \"presumably\", \"today got\", \"ewerickson wanted\", \"happy erick\", \"storming\", \"expressing\", \"country year\", \"proudly\", \"proudly served\", \"babbit proudly\", \"storming capitol\", \"country\", \"happy\", \"wanted\", \"right\", \"served\", \"year\", \"young\", \"got\", \"died\", \"protest capitol\", \"today\", \"shot\", \"care\", \"capitol\", \"killed today\", \"ashli\", \"babbit\", \"ashli babbit\", \"killed ashli\", \"officer shot\", \"george\", \"floyd\", \"george floyd\", \"police officer\", \"like george\", \"forget ashli\", \"floor\", \"vigil\", \"silence\", \"house floor\", \"moment silence\", \"plaza\", \"dedicated\", \"police murdered\", \"blood today\", \"given moment\", \"vigil like\", \"plaza dedicated\", \"dedicated mentioned\", \"today vigil\", \"mentioned house\", \"floyd plaza\", \"floor given\", \"silence forget\", \"murdered veteran\", \"veteran cold\", \"moment\", \"babbitt ashli\", \"officer\", \"police\", \"dc police\", \"ashli babbitt\", \"babbitt\", \"cold\", \"cold blood\", \"house\", \"shot killed\", \"forget\", \"shot\", \"like\", \"blood\", \"killed\", \"ashli\", \"told\", \"want know\", \"killed air\", \"congress today\", \"today want\", \"babbit congress\", \"know america\", \"america told\", \"word\", \"sister\", \"sister arm\", \"family nation\", \"nation word\", \"arm pray\", \"remember sister\", \"really\", \"mother\", \"mother law\", \"decided\", \"owned\", \"dont\", \"circumstance\", \"owned business\", \"know decided\", \"come dc\", \"dont know\", \"circumstance shooting\", \"police confirmed\", \"family confirms\", \"confirmed circumstance\", \"america\", \"arm\", \"want\", \"pray family\", \"congress\", \"babbit remember\", \"pray\", \"nation\", \"remember\", \"family\", \"know\", \"veteran ashli\", \"force veteran\", \"air force\", \"air\", \"force\", \"today\", \"killed\", \"veteran\", \"ashli babbit\", \"babbit\", \"ashli\"], \"Freq\": [693.0, 671.0, 710.0, 640.0, 850.0, 2983.0, 2985.0, 787.0, 485.0, 472.0, 433.0, 418.0, 413.0, 411.0, 411.0, 410.0, 409.0, 409.0, 1147.0, 1153.0, 658.0, 464.0, 416.0, 416.0, 411.0, 1147.0, 724.0, 743.0, 650.0, 385.0, 482.6338587980963, 438.39028320001205, 429.8676996841732, 424.0119314243194, 424.90354355939144, 428.47195550681244, 423.89353448879393, 423.2534534499465, 423.0163024722659, 423.01618638115525, 423.2527757377342, 422.9964452810571, 423.0157998387401, 423.1259339559376, 423.0157568864057, 423.0157068678843, 423.1089560145028, 423.0155124816624, 423.01527435891495, 423.01510546494325, 423.01482647393095, 423.2098515591872, 423.06793274160043, 424.44793047154735, 428.9453450095367, 438.52817944042624, 848.4274612689137, 426.43928329598725, 184.50656644766164, 155.39485028787647, 459.84510810618184, 422.3163477248102, 433.4886287449421, 435.37382760846344, 426.03335911451967, 439.6082099150281, 275.86100164170034, 271.9851755833822, 271.8085667465925, 155.0204277355348, 145.55557666755425, 143.15452941353252, 121.74548866357263, 116.84277241521843, 110.6383290918778, 85.02313499471448, 79.85338637086724, 72.35300516440238, 66.53528984257399, 68.18298041333333, 177.6193180813365, 65.95002327723822, 64.32908633136365, 62.5705722073803, 60.69050828306412, 59.91304230738196, 62.68459689885947, 56.30614050614689, 54.42925151762668, 53.03395516976329, 52.18922357408119, 51.20065472534908, 50.280740191938364, 50.9099459471995, 49.98311643099848, 48.68300499619489, 51.222707043199364, 174.20499893823686, 121.9167845784633, 278.85066985507774, 80.54288110388796, 56.1839078669299, 191.16231566377448, 142.1451437373913, 82.06337560114883, 1682.6941526297283, 1681.8225247201935, 1483.7444574104961, 96.69826009223284, 320.7937362646587, 82.87779870421932, 386.0177103847859, 388.07724664130524, 382.4490033884847, 246.2654266771101, 191.9665335243312, 298.2696985070924, 338.50978972282087, 316.57759111770406, 380.51440961624735, 243.28232212693678, 342.0209750348567, 286.48809594974995, 281.5654576541739, 263.81175330347264, 268.13748674677726, 143.1226703492801, 259.34176847284397, 235.06908999186993, 231.34979383465227, 228.24292286366355, 226.16237817198655, 205.6662335725375, 157.61219816207915, 145.9152758976052, 141.04046262459804, 137.67754369718227, 128.2389999321751, 128.20303137871855, 125.89181162728782, 110.73764909728574, 110.67251793060515, 109.43714834525774, 108.00934469371045, 104.5236704231091, 102.33423191738036, 100.58296542303898, 100.11816482737136, 99.12616779541747, 98.10630567670718, 96.9566755287577, 96.64696925232037, 95.29843603058056, 95.2786421278108, 95.24297303568552, 94.99818050983754, 94.83411301047637, 190.13616194361916, 171.56281719983434, 169.676344982806, 516.4743821933739, 514.3331479492014, 271.43479045982946, 103.59540939624915, 119.35888535309354, 204.8251751330384, 119.6809292746004, 200.02469537321406, 108.6840372128215, 108.42871433805468, 133.11527953026302, 445.6018139120451, 444.8451026373605, 405.4229983498366, 167.69004851597035, 118.02715437894582, 142.92387872346666, 273.51753266065015, 205.96780748192202, 199.11880860893464, 200.97123617425743, 193.65356593425244, 193.49495590262907, 188.77396151844346, 185.29531321917827, 184.84762849760716, 184.36596252393326, 183.40029245166127, 182.3556898611835, 180.9146404556338, 180.62314683042442, 179.29780260531584, 177.4644144687718, 177.32258421367214, 177.32257724110318, 177.3225767147929, 177.322591296481, 177.32256757855384, 177.3225901788338, 177.32258884727847, 177.32258377456435, 168.90107525979028, 165.53760794713912, 159.95055933455663, 154.73518810473172, 154.73518692042805, 154.21590184998334, 154.49734398384624, 403.9445054624782, 184.00871052838022, 190.0451237363983, 237.18848246283738, 294.7100577850279, 315.72749218547733, 186.7147945427767, 212.35339093273947, 199.41154312156, 181.32179772168755, 244.19574826367497, 250.3191423651705, 180.10362151668568, 216.3480697252098, 182.6959015012948, 221.91529029432257, 190.0691928637007, 187.39384269248478, 692.2175417825255, 640.1284855997474, 415.25507114981355, 415.7129924211769, 411.13241875141784, 670.2582592209318, 369.23464500854453, 367.68644768390425, 366.409072972807, 366.3353343276358, 359.7143790848334, 359.02705348866414, 358.3811129443514, 358.3385289610593, 357.74853317544546, 357.6949272785591, 357.4713003096015, 356.8870864199734, 356.88708948304827, 356.8870826393674, 356.8870879153478, 356.8870853085354, 356.8870762999945, 356.8870734800213, 356.8870763027919, 356.19157009333236, 356.1915665867729, 356.1915663089445, 384.6308592766266, 95.71172565858794, 687.7423290977052, 687.9572029272525, 368.1164763713297, 652.9136022462561, 652.0825583823419, 372.79656448391694, 371.9844958062905, 368.6793686003928, 452.41144638347686, 380.8340765057472, 424.78499071769386, 375.7215644664051, 367.32273643902187, 409.09978082501493, 402.7946053289996, 432.93260087757494, 418.051188242425, 412.1776046737452, 411.0196220571675, 410.7811327820998, 409.9696745263895, 408.9132539508061, 408.9132570719664, 191.49592721528396, 173.8702037493434, 163.65032266968925, 162.4358238809905, 162.79162035305868, 162.4287609580132, 162.42835893734915, 129.49590502654598, 110.68033749335834, 89.74453772164479, 83.38491754094723, 82.7287601984271, 82.20286692250276, 80.0289551128272, 72.334369723996, 71.56093736098258, 71.03092008962446, 70.96449367799354, 70.50897881243175, 70.46984344962304, 70.3649228953459, 70.27419755252225, 466.3171594517384, 171.02349624112756, 474.939551615972, 173.7510496661072, 392.1696126050663, 161.16576614193394, 184.03890498731997, 162.51871912629932, 180.26871125266334, 244.57309235657812, 383.7110150551711, 331.1564562618149, 316.6064096323896, 279.237245258157, 279.41666511322717, 276.51318051293396, 272.89470724873763, 256.8300398939625, 236.42551753623, 255.13369864600836, 254.90555119413602, 197.08818389707855], \"Total\": [693.0, 671.0, 710.0, 640.0, 850.0, 2983.0, 2985.0, 787.0, 485.0, 472.0, 433.0, 418.0, 413.0, 411.0, 411.0, 410.0, 409.0, 409.0, 1147.0, 1153.0, 658.0, 464.0, 416.0, 416.0, 411.0, 1147.0, 724.0, 743.0, 650.0, 385.0, 483.501453905648, 439.25341614381415, 430.7327883944663, 424.87490599662436, 425.76892497820353, 429.3456466721382, 424.77381472492243, 424.1329145384452, 423.8958235594264, 423.8958334718264, 424.1329376252849, 423.876326966017, 423.8958505631334, 424.00625930431517, 423.8958955313283, 423.8958529144544, 423.98931353535, 423.8959122829076, 423.8958998379284, 423.89592471594796, 423.89592316946283, 424.12118847365406, 424.01813849092315, 425.4197849556985, 429.9597302848188, 439.57730052349825, 850.557311496049, 427.5217287054491, 185.37484576694925, 156.2589601431149, 468.9515400561817, 431.2377590492889, 457.9071845859831, 516.8912095637061, 472.29333497570593, 949.9338732600415, 276.71960826294213, 272.8432364509307, 272.6666305984693, 155.87808604200217, 146.41139449497163, 144.0905321386465, 122.60606603684134, 117.69848860534894, 111.49401889077619, 85.87875641518245, 80.70980672938148, 73.20864991599903, 67.39239308573167, 69.06567929090325, 179.9440401525043, 66.81982207304317, 65.1850275381013, 63.43312466950048, 61.55122145649684, 60.7775967704018, 63.5935622378742, 57.16874083502975, 55.28646849065244, 53.89088991924615, 53.04596707351715, 52.0633179302802, 51.137026449794675, 51.77797542371551, 50.84251055320125, 49.548758928775065, 52.1368262158039, 179.58534323606037, 127.7131005506503, 305.6873813182141, 83.80841132083394, 57.55507301418261, 221.6872078858097, 166.64205655747529, 88.8198425064781, 2983.720998965948, 2985.881361513385, 3069.879550916523, 109.95595490843245, 580.9785429493581, 93.44586107536901, 912.6440919797918, 921.5087871644803, 909.1119851366823, 477.50124184380553, 361.4474979589659, 743.9720554757766, 949.9338732600415, 887.3404505559506, 1398.5690137589297, 650.0054046976941, 1322.2132699673007, 1153.261388928829, 1147.1881240692455, 1011.5760014815114, 1122.1521411968783, 417.8686831934171, 260.2161426033377, 235.91878926936118, 232.1993728492238, 229.0924794251727, 227.03127605284658, 206.52194995317416, 158.4622936260538, 146.76759706525996, 141.90218766415967, 138.5275730635503, 129.0889949786988, 129.05405636258152, 126.7445500401041, 111.58802591149814, 111.52356966277542, 110.28868112519076, 108.87140512360372, 105.38079710647087, 103.18453915333463, 101.433115498059, 100.97046655538709, 99.97622358995518, 98.95706592518803, 97.80735910285705, 97.49765510205432, 96.14839874912178, 96.12861441803935, 96.09293748833495, 95.8481649246175, 95.68408064221022, 192.91086374849445, 177.98066473769103, 184.3263865716882, 658.4514010407546, 724.5754750863379, 350.16884528641464, 106.44463931423303, 132.74288391920038, 307.69213314679655, 134.5362304751082, 312.6020517445909, 117.16916270486297, 116.89368672361472, 185.97297869885398, 2985.881361513385, 2983.720998965948, 3069.879550916523, 405.34410666613667, 146.77375262791475, 1322.2132699673007, 274.3572819705751, 206.80861141110267, 199.9594574629276, 201.8291315219095, 194.49419058161166, 194.3351931438766, 189.61386857703357, 186.1346693252612, 185.68778985664756, 185.20569595204773, 184.24022671104015, 183.1951345156193, 181.75394116616317, 181.4626140961242, 180.1370941038038, 178.303695914615, 178.16185772926823, 178.16185592633855, 178.16186543536904, 178.16188098238857, 178.1618643123264, 178.16189291791935, 178.16189519365466, 178.16189879443056, 169.74602185142078, 166.37734399204734, 160.79028521857384, 155.5753901338345, 155.57539897306856, 155.05608775578483, 155.33921036436357, 473.1376871488145, 191.4148974340716, 202.8649400160146, 281.3732677510123, 479.2933051933585, 571.1189005073454, 218.08412288046702, 405.34410666613667, 319.51369408249855, 200.33770307909754, 1052.9983182500582, 1322.2132699673007, 196.702413428691, 887.3404505559506, 252.78243193475788, 3069.879550916523, 2985.881361513385, 2983.720998965948, 693.0702925146501, 640.9747625088945, 416.09932624373425, 416.5582578008227, 411.9757554706643, 671.7721218765631, 370.07288180718433, 368.5249979015346, 367.24891641621156, 367.17709445830894, 360.55307399974, 359.8652316832395, 359.21926672789044, 359.1767408360885, 358.58675779064356, 358.53310324045043, 358.30949815289495, 357.72521184933856, 357.72521604966124, 357.7252243158357, 357.7252329688343, 357.7252356961698, 357.7252301929172, 357.7252303995539, 357.7252380247701, 357.02966880434747, 357.02968583017366, 357.0296955699073, 385.57389136375144, 96.54805248159202, 710.5086429029863, 1147.666481876819, 378.2854043911177, 1147.1881240692455, 1153.261388928829, 408.0959578598794, 405.47545629582874, 401.51345861251104, 1011.5760014815114, 551.0057351137107, 1322.2132699673007, 525.3595457019854, 470.00774528115306, 1398.5690137589297, 3069.879550916523, 433.76360511952504, 418.8756851843357, 413.0021262178863, 411.8442068961681, 411.60559953932284, 410.7941595912946, 409.7377385398599, 409.7377467182751, 192.3277068798699, 174.69388619278138, 164.50057729475577, 163.28841578025023, 163.64964472106297, 163.28701675443287, 163.28675419284076, 130.322337423012, 111.50537220118531, 90.56669132404205, 84.20810563048414, 83.55304301366505, 83.02433583317523, 80.85171512069711, 73.15539225787275, 72.38195554189376, 71.85200892886999, 71.78547794259359, 71.32995874027193, 71.29091186487092, 71.18593806014658, 71.09518844848716, 472.1254041826586, 173.11071150844094, 485.99763824581845, 179.7038607431172, 464.3903190337233, 175.13638512978392, 207.8267967917804, 188.28719937310322, 237.52845796930063, 396.40072050562327, 787.1905075766297, 650.0054046976941, 743.9720554757766, 909.1119851366823, 912.6440919797918, 921.5087871644803, 1052.9983182500582, 1398.5690137589297, 1122.1521411968783, 2983.720998965948, 2985.881361513385, 3069.879550916523], \"Category\": [\"Default\", \"Default\", \"Default\", \"Default\", \"Default\", \"Default\", \"Default\", \"Default\", \"Default\", \"Default\", \"Default\", \"Default\", \"Default\", \"Default\", \"Default\", \"Default\", \"Default\", \"Default\", \"Default\", \"Default\", \"Default\", \"Default\", \"Default\", \"Default\", \"Default\", \"Default\", \"Default\", \"Default\", \"Default\", \"Default\", \"Topic1\", \"Topic1\", \"Topic1\", \"Topic1\", \"Topic1\", \"Topic1\", \"Topic1\", \"Topic1\", \"Topic1\", \"Topic1\", \"Topic1\", \"Topic1\", \"Topic1\", \"Topic1\", \"Topic1\", \"Topic1\", \"Topic1\", \"Topic1\", \"Topic1\", \"Topic1\", \"Topic1\", \"Topic1\", \"Topic1\", \"Topic1\", \"Topic1\", \"Topic1\", \"Topic1\", \"Topic1\", \"Topic1\", \"Topic1\", \"Topic1\", \"Topic1\", \"Topic1\", \"Topic1\", \"Topic1\", \"Topic1\", \"Topic2\", \"Topic2\", \"Topic2\", \"Topic2\", \"Topic2\", \"Topic2\", \"Topic2\", \"Topic2\", \"Topic2\", \"Topic2\", \"Topic2\", \"Topic2\", \"Topic2\", \"Topic2\", \"Topic2\", \"Topic2\", \"Topic2\", \"Topic2\", \"Topic2\", \"Topic2\", \"Topic2\", \"Topic2\", \"Topic2\", \"Topic2\", \"Topic2\", \"Topic2\", \"Topic2\", \"Topic2\", \"Topic2\", \"Topic2\", \"Topic2\", \"Topic2\", \"Topic2\", \"Topic2\", \"Topic2\", \"Topic2\", \"Topic2\", \"Topic2\", \"Topic2\", \"Topic2\", \"Topic2\", \"Topic2\", \"Topic2\", \"Topic2\", \"Topic2\", \"Topic2\", \"Topic2\", \"Topic2\", \"Topic2\", \"Topic2\", \"Topic2\", \"Topic2\", \"Topic2\", \"Topic2\", \"Topic2\", \"Topic2\", \"Topic2\", \"Topic2\", \"Topic2\", \"Topic2\", \"Topic2\", \"Topic3\", \"Topic3\", \"Topic3\", \"Topic3\", \"Topic3\", \"Topic3\", \"Topic3\", \"Topic3\", \"Topic3\", \"Topic3\", \"Topic3\", \"Topic3\", \"Topic3\", \"Topic3\", \"Topic3\", \"Topic3\", \"Topic3\", \"Topic3\", \"Topic3\", \"Topic3\", \"Topic3\", \"Topic3\", \"Topic3\", \"Topic3\", \"Topic3\", \"Topic3\", \"Topic3\", \"Topic3\", \"Topic3\", \"Topic3\", \"Topic3\", \"Topic3\", \"Topic3\", \"Topic3\", \"Topic3\", \"Topic3\", \"Topic3\", \"Topic3\", \"Topic3\", \"Topic3\", \"Topic3\", \"Topic3\", \"Topic3\", \"Topic3\", \"Topic3\", \"Topic3\", \"Topic3\", \"Topic3\", \"Topic3\", \"Topic3\", \"Topic4\", \"Topic4\", \"Topic4\", \"Topic4\", \"Topic4\", \"Topic4\", \"Topic4\", \"Topic4\", \"Topic4\", \"Topic4\", \"Topic4\", \"Topic4\", \"Topic4\", \"Topic4\", \"Topic4\", \"Topic4\", \"Topic4\", \"Topic4\", \"Topic4\", \"Topic4\", \"Topic4\", \"Topic4\", \"Topic4\", \"Topic4\", \"Topic4\", \"Topic4\", \"Topic4\", \"Topic4\", \"Topic4\", \"Topic4\", \"Topic4\", \"Topic4\", \"Topic4\", \"Topic4\", \"Topic4\", \"Topic4\", \"Topic4\", \"Topic4\", \"Topic4\", \"Topic4\", \"Topic4\", \"Topic4\", \"Topic4\", \"Topic4\", \"Topic4\", \"Topic4\", \"Topic4\", \"Topic4\", \"Topic4\", \"Topic5\", \"Topic5\", \"Topic5\", \"Topic5\", \"Topic5\", \"Topic5\", \"Topic5\", \"Topic5\", \"Topic5\", \"Topic5\", \"Topic5\", \"Topic5\", \"Topic5\", \"Topic5\", \"Topic5\", \"Topic5\", \"Topic5\", \"Topic5\", \"Topic5\", \"Topic5\", \"Topic5\", \"Topic5\", \"Topic5\", \"Topic5\", \"Topic5\", \"Topic5\", \"Topic5\", \"Topic5\", \"Topic5\", \"Topic5\", \"Topic5\", \"Topic5\", \"Topic5\", \"Topic5\", \"Topic5\", \"Topic5\", \"Topic5\", \"Topic5\", \"Topic5\", \"Topic5\", \"Topic5\", \"Topic5\", \"Topic5\", \"Topic5\", \"Topic5\", \"Topic6\", \"Topic6\", \"Topic6\", \"Topic6\", \"Topic6\", \"Topic6\", \"Topic6\", \"Topic6\", \"Topic6\", \"Topic6\", \"Topic6\", \"Topic6\", \"Topic6\", \"Topic6\", \"Topic6\", \"Topic6\", \"Topic6\", \"Topic6\", \"Topic6\", \"Topic6\", \"Topic6\", \"Topic6\", \"Topic6\", \"Topic6\", \"Topic6\", \"Topic6\", \"Topic6\", \"Topic6\", \"Topic6\", \"Topic6\", \"Topic6\", \"Topic6\", \"Topic6\", \"Topic6\", \"Topic6\", \"Topic6\", \"Topic6\", \"Topic6\", \"Topic6\", \"Topic6\", \"Topic6\", \"Topic6\", \"Topic6\", \"Topic6\", \"Topic6\", \"Topic6\", \"Topic6\", \"Topic6\", \"Topic6\", \"Topic6\", \"Topic6\", \"Topic6\"], \"logprob\": [30.0, 29.0, 28.0, 27.0, 26.0, 25.0, 24.0, 23.0, 22.0, 21.0, 20.0, 19.0, 18.0, 17.0, 16.0, 15.0, 14.0, 13.0, 12.0, 11.0, 10.0, 9.0, 8.0, 7.0, 6.0, 5.0, 4.0, 3.0, 2.0, 1.0, -4.3617, -4.4579, -4.4775, -4.4912, -4.4891, -4.4808, -4.4915, -4.493, -4.4936, -4.4936, -4.493, -4.4936, -4.4936, -4.4933, -4.4936, -4.4936, -4.4934, -4.4936, -4.4936, -4.4936, -4.4936, -4.4931, -4.4935, -4.4902, -4.4797, -4.4576, -3.7976, -4.4855, -5.3233, -5.495, -4.4101, -4.4952, -4.4691, -4.4648, -4.4865, -4.4551, -4.6181, -4.6323, -4.6329, -5.1945, -5.2575, -5.2741, -5.4361, -5.4772, -5.5318, -5.7951, -5.8579, -5.9565, -6.0403, -6.0159, -5.0584, -6.0491, -6.074, -6.1018, -6.1323, -6.1452, -6.0999, -6.2072, -6.2411, -6.2671, -6.2832, -6.3023, -6.3204, -6.308, -6.3264, -6.3527, -6.3019, -5.0778, -5.4347, -4.6074, -5.8493, -6.2094, -4.9849, -5.2812, -5.8306, -2.8099, -2.8104, -2.9357, -5.6665, -4.4672, -5.8207, -4.2822, -4.2768, -4.2915, -4.7316, -4.9807, -4.54, -4.4135, -4.4805, -4.2965, -4.7438, -4.4032, -4.5803, -4.5977, -4.6628, -4.6465, -5.2743, -4.5984, -4.6967, -4.7126, -4.7262, -4.7353, -4.8303, -5.0964, -5.1735, -5.2075, -5.2317, -5.3027, -5.303, -5.3211, -5.4494, -5.45, -5.4612, -5.4743, -5.5072, -5.5283, -5.5456, -5.5502, -5.5602, -5.5705, -5.5823, -5.5855, -5.5996, -5.5998, -5.6001, -5.6027, -5.6044, -4.9088, -5.0116, -5.0227, -3.9095, -3.9137, -4.5528, -5.5161, -5.3744, -4.8344, -5.3717, -4.8581, -5.4681, -5.4705, -5.2654, -4.0571, -4.0588, -4.1516, -5.0344, -5.3857, -5.1943, -4.4304, -4.7141, -4.7479, -4.7386, -4.7757, -4.7765, -4.8012, -4.8198, -4.8223, -4.8249, -4.8301, -4.8358, -4.8438, -4.8454, -4.8527, -4.863, -4.8638, -4.8638, -4.8638, -4.8638, -4.8638, -4.8638, -4.8638, -4.8638, -4.9125, -4.9326, -4.9669, -5.0001, -5.0001, -5.0034, -5.0016, -4.0405, -4.8268, -4.7945, -4.5729, -4.3558, -4.2869, -4.8122, -4.6835, -4.7464, -4.8415, -4.5438, -4.519, -4.8483, -4.6649, -4.834, -4.6395, -4.7944, -4.8086, -3.4812, -3.5595, -3.9922, -3.9911, -4.0022, -3.5135, -4.1097, -4.1139, -4.1174, -4.1176, -4.1358, -4.1377, -4.1395, -4.1396, -4.1413, -4.1414, -4.1421, -4.1437, -4.1437, -4.1437, -4.1437, -4.1437, -4.1437, -4.1437, -4.1437, -4.1457, -4.1457, -4.1457, -4.0688, -5.4598, -3.4877, -3.4874, -4.1127, -3.5397, -3.541, -4.1001, -4.1023, -4.1112, -3.9065, -4.0788, -3.9695, -4.0923, -4.1149, -4.0072, -4.0227, -3.6553, -3.6902, -3.7044, -3.7072, -3.7078, -3.7098, -3.7123, -3.7123, -4.471, -4.5675, -4.6281, -4.6356, -4.6334, -4.6356, -4.6356, -4.8622, -5.0192, -5.2289, -5.3024, -5.3103, -5.3166, -5.3434, -5.4445, -5.4553, -5.4627, -5.4637, -5.4701, -5.4707, -5.4721, -5.4734, -3.581, -4.584, -3.5626, -4.5682, -3.7541, -4.6434, -4.5107, -4.635, -4.5314, -4.2263, -3.7759, -3.9232, -3.9682, -4.0938, -4.0931, -4.1036, -4.1167, -4.1774, -4.2602, -4.184, -4.1849, -4.4422], \"loglift\": [30.0, 29.0, 28.0, 27.0, 26.0, 25.0, 24.0, 23.0, 22.0, 21.0, 20.0, 19.0, 18.0, 17.0, 16.0, 15.0, 14.0, 13.0, 12.0, 11.0, 10.0, 9.0, 8.0, 7.0, 6.0, 5.0, 4.0, 3.0, 2.0, 1.0, 1.4003, 1.4001, 1.4001, 1.4001, 1.4001, 1.4001, 1.4, 1.4, 1.4, 1.4, 1.4, 1.4, 1.4, 1.4, 1.4, 1.4, 1.4, 1.4, 1.4, 1.4, 1.4, 1.3999, 1.3998, 1.3998, 1.3997, 1.3997, 1.3996, 1.3996, 1.3974, 1.3965, 1.3825, 1.3812, 1.3473, 1.2305, 1.299, 0.6316, 1.7019, 1.7019, 1.7019, 1.6995, 1.6992, 1.6985, 1.698, 1.6977, 1.6973, 1.695, 1.6944, 1.6933, 1.6922, 1.6922, 1.692, 1.6919, 1.6918, 1.6913, 1.6909, 1.6907, 1.6906, 1.6898, 1.6894, 1.689, 1.6887, 1.6883, 1.6881, 1.6881, 1.688, 1.6874, 1.6873, 1.6746, 1.6586, 1.6131, 1.6653, 1.6809, 1.5569, 1.546, 1.6259, 1.1323, 1.131, 0.978, 1.5765, 1.1111, 1.585, 0.8446, 0.8402, 0.8392, 1.0429, 1.0722, 0.791, 0.6732, 0.6744, 0.4033, 0.7223, 0.3528, 0.3124, 0.3003, 0.361, 0.2735, 0.6336, 1.7831, 1.7829, 1.7828, 1.7828, 1.7827, 1.7824, 1.7811, 1.7807, 1.7804, 1.7804, 1.7799, 1.7799, 1.7798, 1.7789, 1.7788, 1.7788, 1.7786, 1.7783, 1.7782, 1.7781, 1.778, 1.778, 1.7779, 1.7778, 1.7777, 1.7776, 1.7776, 1.7776, 1.7776, 1.7776, 1.772, 1.7498, 1.7037, 1.5436, 1.4438, 1.5318, 1.7594, 1.6802, 1.3796, 1.6695, 1.34, 1.7113, 1.7113, 1.4521, -0.1157, -0.1167, -0.238, 0.9039, 1.5685, -0.4382, 1.8982, 1.8972, 1.8971, 1.897, 1.897, 1.897, 1.8969, 1.8968, 1.8968, 1.8967, 1.8967, 1.8967, 1.8967, 1.8967, 1.8966, 1.8966, 1.8966, 1.8966, 1.8966, 1.8966, 1.8966, 1.8966, 1.8966, 1.8966, 1.8963, 1.8962, 1.8961, 1.8959, 1.8959, 1.8959, 1.8959, 1.7432, 1.8618, 1.836, 1.7305, 1.415, 1.3086, 1.746, 1.2548, 1.4299, 1.8016, 0.4399, 0.237, 1.8131, 0.49, 1.5766, -0.7258, -0.853, -0.8664, 1.9207, 1.9206, 1.9199, 1.9199, 1.9199, 1.9197, 1.9197, 1.9197, 1.9197, 1.9197, 1.9196, 1.9196, 1.9196, 1.9196, 1.9196, 1.9196, 1.9196, 1.9196, 1.9196, 1.9196, 1.9196, 1.9196, 1.9196, 1.9196, 1.9196, 1.9196, 1.9196, 1.9196, 1.9195, 1.9133, 1.8894, 1.4102, 1.8947, 1.3583, 1.3518, 1.8315, 1.8357, 1.8366, 1.1173, 1.5526, 0.7865, 1.5867, 1.6754, 0.6927, -0.109, 2.2153, 2.2153, 2.2152, 2.2152, 2.2152, 2.2152, 2.2152, 2.2152, 2.2129, 2.2125, 2.2121, 2.212, 2.212, 2.212, 2.212, 2.2109, 2.2098, 2.2081, 2.2074, 2.2073, 2.2073, 2.207, 2.206, 2.2058, 2.2057, 2.2057, 2.2057, 2.2057, 2.2056, 2.2056, 2.2049, 2.2051, 2.1942, 2.1836, 2.0482, 2.1341, 2.0957, 2.0701, 1.9414, 1.7343, 1.4987, 1.5428, 1.3629, 1.0368, 1.0336, 1.0135, 0.8669, 0.5224, 0.6599, -0.2419, -0.2435, -0.5285]}, \"token.table\": {\"Topic\": [1, 2, 4, 6, 1, 2, 4, 6, 4, 4, 2, 6, 6, 2, 6, 6, 1, 2, 3, 4, 5, 6, 1, 2, 3, 4, 5, 6, 1, 2, 3, 4, 5, 6, 1, 1, 2, 3, 4, 5, 6, 6, 3, 4, 1, 6, 3, 1, 2, 3, 4, 5, 6, 5, 2, 4, 2, 3, 3, 2, 4, 5, 5, 2, 2, 1, 2, 3, 4, 5, 6, 2, 3, 4, 6, 6, 4, 5, 4, 5, 6, 3, 6, 1, 3, 6, 6, 2, 3, 3, 1, 2, 3, 1, 2, 3, 4, 4, 1, 1, 2, 5, 3, 4, 6, 5, 5, 3, 3, 2, 1, 2, 3, 4, 4, 1, 3, 6, 6, 3, 3, 4, 4, 4, 2, 4, 2, 1, 2, 3, 6, 6, 6, 1, 1, 3, 5, 5, 5, 5, 1, 1, 1, 2, 4, 6, 1, 2, 2, 4, 6, 3, 3, 1, 3, 4, 5, 5, 1, 3, 3, 5, 5, 5, 1, 3, 4, 1, 3, 4, 3, 3, 1, 4, 4, 1, 2, 4, 5, 6, 5, 2, 5, 2, 2, 4, 1, 2, 3, 4, 5, 6, 6, 5, 1, 2, 5, 6, 2, 1, 2, 4, 1, 2, 1, 1, 1, 2, 6, 6, 1, 6, 1, 3, 6, 1, 1, 2, 3, 2, 3, 1, 2, 3, 5, 5, 2, 2, 1, 3, 3, 1, 3, 2, 5, 2, 1, 2, 3, 1, 1, 1, 5, 5, 6, 6, 5, 2, 1, 6, 6, 2, 2, 3, 1, 3, 5, 5, 6, 6, 1, 2, 3, 3, 3, 2, 3, 2, 1, 3, 4, 1, 2, 1, 5, 5, 1, 2, 3, 4, 5, 6, 6, 5, 1, 5, 4, 2, 6, 2, 6, 1, 1, 4, 4, 1, 2, 4, 2, 4, 5, 2, 2, 4, 4, 2, 6, 1, 2, 6, 6, 2, 5, 3, 3, 1, 1, 1, 4, 2, 1, 3, 6, 3, 6, 3, 3, 3, 1, 2, 3, 4, 4, 4, 1, 1, 2, 1, 2, 3, 4, 5, 6, 1, 2, 3, 4, 5, 6, 2, 4, 5, 5, 6, 6, 1, 1, 2, 3, 6, 3, 1, 2, 4, 1, 4, 4, 1, 1, 1, 2, 3, 4, 5, 6, 4, 4, 5, 6, 6, 3, 1, 2, 3, 4, 6, 2, 6, 4, 2, 3, 2, 3, 1, 2, 3, 3, 2, 2, 1, 2, 2, 1, 2, 3, 4, 5, 6, 2, 3, 6, 5, 4, 5, 5, 2, 3, 6, 6, 1, 4, 4, 1, 2, 4, 4, 1, 2, 3, 4, 6, 2, 5, 1, 2, 4, 6, 1, 1, 1, 6, 1, 2, 3, 4, 2, 4, 1, 4, 4], \"Freq\": [0.09313597792060446, 0.4229469114982744, 0.1775062167427991, 0.3057051510570429, 0.0934978323789456, 0.42019025845596725, 0.17819586876928456, 0.3068928851026567, 0.9960900496087405, 0.9932684260479917, 0.01059040660744782, 0.9870258958141368, 0.998199466062905, 0.005776650048320318, 0.9878071582627743, 0.9921180704993318, 0.11694269890583145, 0.48340658823469046, 0.13192700015838923, 0.0723155408275615, 0.13127550879958239, 0.06417189884247575, 0.07373343555789706, 0.5640607820179125, 0.14914263101483724, 0.0626734202242125, 0.06468433210306425, 0.08546375485119888, 0.013947145776967809, 0.2458184443190576, 0.024407505109693663, 0.1377280645475571, 0.5692178870224986, 0.009588662721665368, 0.9966626259381746, 0.07401499699505369, 0.5633177599352049, 0.149369631944769, 0.06363280284642625, 0.06463753131242245, 0.08540191960967733, 0.9980667700045085, 0.9952312732922796, 0.9931889952141177, 0.07422786527406293, 0.9192835622403179, 0.991150952913031, 0.013873697804849863, 0.2479923482616913, 0.025146077271290375, 0.1378698719356955, 0.5653531855476319, 0.009538167240834282, 0.9943235262907398, 0.9834903400433438, 0.9974590984947476, 0.9889248703572194, 0.9941255853615125, 0.9902354424392035, 0.03829724122787086, 0.17872045906339734, 0.7808381961460336, 0.9963453434540656, 0.9971901470074055, 0.9897674762436698, 0.2535667114679934, 0.3572473223793507, 0.07663349502143801, 0.24342404300927367, 0.025920152727839325, 0.042824600159038884, 0.9834290135551105, 0.08134114737641669, 0.9150879079846879, 0.9894657136286392, 0.9953741913482189, 0.08576414278530375, 0.9140007216833801, 0.08138593714516644, 0.9174414732727854, 0.9881421696961398, 0.9961915664016703, 0.9845954631756734, 0.00215336099615673, 0.15288863072712783, 0.8441175104934381, 0.9979501790190752, 0.9845700599509833, 0.9919960147238441, 0.9880559763442522, 0.1398052565588133, 0.14518238181107535, 0.7151576585508526, 0.010567748323179688, 0.0507251919512625, 0.0845419865854375, 0.8538740645129187, 0.9950849939876681, 0.9968658196896409, 0.998178289955506, 0.023791560275729536, 0.9728104646076078, 0.9849108355437698, 0.010367482479408103, 0.9856533332339115, 0.9983636936448553, 0.9979726535843854, 0.9957300384994358, 0.9882593291823464, 0.9767308615331445, 0.11893073975786586, 0.17213659701796374, 0.0845034203542731, 0.622821505574087, 0.9934786493983374, 0.07595222941429018, 0.922277071459238, 0.9876622218907782, 0.9890579826852761, 0.9953053003561616, 0.9948957223480563, 0.9974506368795109, 0.9952017400171959, 0.9934784304332207, 0.9795562956616037, 0.9977319989429247, 0.9849747809305194, 0.11604418867182016, 0.19677058079134724, 0.07063559310458618, 0.6180614396651292, 0.9833402762896155, 0.992109570209903, 0.9979779038229356, 0.9919431171053369, 0.9883153818502195, 0.9965992645304469, 0.9979726394794659, 0.9986598325915564, 0.9979726607520978, 0.9977678600640505, 0.9979325880916976, 0.10417697729762933, 0.42104861657791853, 0.1747134723428992, 0.3005939865775346, 0.027841915770529375, 0.9688986688144222, 0.40055267910489784, 0.17204947290411718, 0.4260912727391027, 0.9903284730985095, 0.9917454155774924, 0.05263103113439516, 0.04718644170669911, 0.20689439825244996, 0.6914628573173985, 0.9985754076262829, 0.09793368665933916, 0.896469900958566, 0.9903886097737823, 0.9973580196496393, 0.9976315221036501, 0.9979727125030148, 0.06167599229607488, 0.4144626682296232, 0.523012414670715, 0.03371152708550019, 0.9663971097843388, 0.9939040409324368, 0.9947699827440886, 0.9886262454150948, 0.03656977640630603, 0.9612626941086155, 0.9934784103543306, 0.03579592970108276, 0.9664901019292345, 0.019924612309747174, 0.9190227427870884, 0.05977383692924152, 0.9975956785844734, 0.9891964182261512, 0.011114566496923047, 0.9818205563016962, 0.8882148341814319, 0.10701383544354601, 0.11726271523721071, 0.27242130795961755, 0.05291122516800971, 0.08151188742098793, 0.2924417715367023, 0.18375925497538506, 0.9975735567585005, 0.9984557229963403, 0.22963224387687628, 0.5311974798115692, 0.09959952746466923, 0.1383326770342628, 0.996909447117329, 0.08307539348865832, 0.18988661368836188, 0.7239427146868797, 0.9969933695690053, 0.0011756997282653366, 0.9978864548572111, 0.9978865097815974, 0.5106768896865376, 0.0012703405216083024, 0.4878107602975881, 0.998199485987088, 0.9976666545505574, 0.9947230557804881, 0.8415697383733257, 0.054170006148168096, 0.10253608306617532, 0.9978866893476227, 0.042836477893203224, 0.17991320715145354, 0.7739123672705382, 0.9802818737932042, 0.9948347283004825, 0.06662104131606289, 0.0761383329326433, 0.1408559159253901, 0.715700329566847, 0.9971008905004195, 0.9941774869868103, 0.9777651042946155, 0.10406118820602953, 0.8919530417659675, 0.9961054849755432, 0.01878910965253817, 0.9770337019319849, 0.9872058651259392, 0.9979726613285675, 0.9924316183550689, 0.9019818160718123, 0.004234656413482686, 0.09104511288987777, 0.9978864512166558, 0.9982987401604653, 0.9981940321777996, 0.9985115917425799, 0.9966057869362167, 0.9954677322607068, 0.9937428284531841, 0.9971159657836871, 0.9906663156302841, 0.13277588749121966, 0.8656987864427522, 0.9960302711187043, 0.9931719480672417, 0.882171412005637, 0.11822915831003382, 0.009852096902578832, 0.021111636219811783, 0.9683203812820337, 0.9984792497834406, 0.9933809351075987, 0.9842063281705881, 0.10075005715277822, 0.2340001327419365, 0.6662503779457914, 0.9954575595452032, 0.9963864658749342, 0.9126971443730185, 0.0850542141709623, 0.9973995038968891, 0.3007018011410942, 0.6397910662576471, 0.057581195963188246, 0.945606477853142, 0.05241236828747207, 0.997886620243404, 0.9967237833013649, 0.9979726777242988, 0.14464132448003048, 0.036595997760007715, 0.09323266096001964, 0.09758932736002056, 0.5994772966401263, 0.02875399824000606, 0.981892336188408, 0.9985130989701307, 0.001488600028840953, 0.9973620193234385, 0.9936876182584107, 0.11066907807390917, 0.8853526245912734, 0.027823553591580275, 0.9682596649869936, 0.9989628699115641, 0.9976267819584405, 0.9934786026358055, 0.9934786393447145, 0.18638694981470355, 0.5151819062294053, 0.2973814255470551, 0.9975551441809872, 0.9034744694489054, 0.08984828977944916, 0.9943668410082636, 0.9940654411655954, 0.9963015350092356, 0.9963014784029693, 0.995056802192322, 0.9898533325202737, 0.10525054645549514, 0.13472069946303378, 0.757803934479565, 0.992119665803871, 0.9232171290330684, 0.06755247285607817, 0.9953264136837524, 0.9974726659645984, 0.9971464851547022, 0.9973288690888843, 0.1528219092868864, 0.8422975000230716, 0.9834686359683219, 0.10488900413161804, 0.7093808963638378, 0.1849358757057476, 0.7836569246939189, 0.21413881081752434, 0.9936421863608271, 0.991563998318536, 0.9885201875876543, 0.2920967150657792, 0.03755529193702876, 0.05424653279793043, 0.6154895067457491, 0.9986977492705535, 0.9958518579496777, 0.9964405816049234, 0.997328814801255, 0.9910445082412145, 0.09453845520934104, 0.25865721345275705, 0.10815199275948614, 0.18907691041868208, 0.3214307477117595, 0.027983382741964945, 0.07315317869504885, 0.260978907776931, 0.06326761400652874, 0.11862677626224137, 0.44682752392110914, 0.036576589347524426, 0.9795764470542556, 0.9962959877050692, 0.9984660399823956, 0.9971160133335817, 0.996027988111641, 0.996956987610695, 0.9979407915499926, 0.9978866257786121, 0.17033018201406452, 0.8039584591063845, 0.020439621841687742, 0.9928506326484111, 0.9809115883165469, 0.014926915474382236, 0.004264832992680639, 0.9978865199196956, 0.9956050701908421, 0.991378800231942, 0.9986866916858292, 0.9978866660129937, 0.08736956024098086, 0.11870864163176748, 0.06267816278157323, 0.23171926846521013, 0.23931662152964323, 0.2592596733237802, 0.9934784431233303, 0.9934785963734168, 0.9979726459757349, 0.9985286897457162, 0.9982395823196955, 0.994730385212079, 0.3039232302106163, 0.3422127710245522, 0.27759917090103536, 0.019144770406967958, 0.05743431122090387, 0.8521258254576558, 0.14402126627453338, 0.9934899628985498, 0.06827735058712653, 0.930278901749599, 0.06843825551430614, 0.9239164494431329, 0.9785785014056873, 0.018551251211482222, 0.9970826269425033, 0.9918324429910199, 0.9877308551922364, 0.9781953314323667, 0.13532580560738938, 0.861574295700379, 0.9955690996190554, 0.11673996349574886, 0.23882679554855493, 0.09357019974850099, 0.13812743772397765, 0.2013987156491545, 0.21031016324424986, 0.37384304537131496, 0.11538365597880092, 0.5092265350531081, 0.9971159385824654, 0.9934761667181866, 0.9967942050959211, 0.9979727007850613, 0.0020576231679014833, 0.02057623167901483, 0.9773710047532045, 0.9979094389688666, 0.0591526559446531, 0.936583719123674, 0.9926883404860026, 0.017374663042362605, 0.9729811303723059, 0.9931294320793038, 0.9934785096790518, 0.4631901360565035, 0.3568669457344425, 0.0021054097093477432, 0.13895704081695107, 0.04000278447760712, 0.9552661353767344, 0.03915025144986616, 0.1411411849802991, 0.5525161021789757, 0.23236658502854118, 0.0740130604164983, 0.9975988326948779, 0.9973564431485042, 0.9978864804850732, 0.9930966426969401, 0.21886861017724682, 0.16809109261612556, 0.05953226196821114, 0.55329984652808, 0.9912054463002067, 0.9958919135426222, 0.14214698250633886, 0.8574672815704957, 0.9967625333439987], \"Term\": [\"air\", \"air\", \"air\", \"air\", \"air force\", \"air force\", \"air force\", \"air force\", \"amendment\", \"amendment right\", \"america\", \"america\", \"america told\", \"arm\", \"arm\", \"arm pray\", \"ashli\", \"ashli\", \"ashli\", \"ashli\", \"ashli\", \"ashli\", \"ashli babbit\", \"ashli babbit\", \"ashli babbit\", \"ashli babbit\", \"ashli babbit\", \"ashli babbit\", \"ashli babbitt\", \"ashli babbitt\", \"ashli babbitt\", \"ashli babbitt\", \"ashli babbitt\", \"ashli babbitt\", \"ashli know\", \"babbit\", \"babbit\", \"babbit\", \"babbit\", \"babbit\", \"babbit\", \"babbit congress\", \"babbit life\", \"babbit proudly\", \"babbit remember\", \"babbit remember\", \"babbit truly\", \"babbitt\", \"babbitt\", \"babbitt\", \"babbitt\", \"babbitt\", \"babbitt\", \"babbitt ashli\", \"babbitt protester\", \"babbitt unarmed\", \"babbitt year\", \"beautiful\", \"beautiful patriot\", \"blood\", \"blood\", \"blood\", \"blood today\", \"california\", \"california nypost\", \"capitol\", \"capitol\", \"capitol\", \"capitol\", \"capitol\", \"capitol\", \"capitol identified\", \"care\", \"care\", \"circumstance\", \"circumstance shooting\", \"cold\", \"cold\", \"cold blood\", \"cold blood\", \"come dc\", \"complied\", \"confirmed circumstance\", \"congress\", \"congress\", \"congress\", \"congress today\", \"conspiracy\", \"constitution\", \"constitution united\", \"cop\", \"cop\", \"cop\", \"country\", \"country\", \"country\", \"country\", \"country year\", \"daughter\", \"daughter law\", \"dc police\", \"dc police\", \"death\", \"death\", \"decided\", \"dedicated\", \"dedicated mentioned\", \"defended\", \"defended constitution\", \"die vain\", \"died\", \"died\", \"died\", \"died\", \"diego ewerickson\", \"domestic\", \"domestic\", \"dont\", \"dont know\", \"enemy\", \"enemy foreign\", \"erick\", \"ewerickson\", \"ewerickson wanted\", \"exactly\", \"expressing\", \"faith\", \"family\", \"family\", \"family\", \"family\", \"family confirms\", \"family nation\", \"federal\", \"federal building\", \"fighting\", \"floor\", \"floor given\", \"floyd\", \"floyd plaza\", \"follow\", \"follow update\", \"force\", \"force\", \"force\", \"force\", \"force vet\", \"force vet\", \"force veteran\", \"force veteran\", \"force veteran\", \"foreign\", \"foreign domestic\", \"forget\", \"forget\", \"forget\", \"forget\", \"forget ashli\", \"fucking\", \"fucking\", \"game\", \"george\", \"george floyd\", \"given moment\", \"got\", \"got\", \"got\", \"got shot\", \"got shot\", \"got wish\", \"happened\", \"happened today\", \"happy\", \"happy\", \"happy erick\", \"hell\", \"hell\", \"house\", \"house\", \"house\", \"house floor\", \"identified\", \"identified\", \"identified ashli\", \"inside\", \"inside\", \"killed\", \"killed\", \"killed\", \"killed\", \"killed\", \"killed\", \"killed air\", \"killed ashli\", \"killed capitol\", \"killed capitol\", \"killed capitol\", \"killed capitol\", \"killed peaceful\", \"killed today\", \"killed today\", \"killed today\", \"kind\", \"kind\", \"kind person\", \"kind retweet\", \"know\", \"know\", \"know\", \"know america\", \"know daughter\", \"know decided\", \"law\", \"law\", \"law\", \"law wonderful\", \"life\", \"life\", \"life\", \"life matter\", \"life mattered\", \"like\", \"like\", \"like\", \"like\", \"like george\", \"llinwood\", \"llinwood ashli\", \"maga\", \"maga\", \"mattered\", \"maybe\", \"maybe\", \"medium\", \"mentioned house\", \"mike_pence\", \"military\", \"military\", \"military\", \"military woman\", \"miss\", \"miss ashli\", \"moment\", \"moment silence\", \"mother\", \"mother law\", \"murdered veteran\", \"named\", \"nation\", \"nation\", \"nation word\", \"neck\", \"nypost\", \"nypost\", \"officer\", \"officer\", \"officer\", \"officer shot\", \"owned\", \"owned business\", \"patriot\", \"patriot\", \"patriot\", \"peace\", \"peace ashli\", \"peaceful\", \"peaceful\", \"peaceful protest\", \"people\", \"people\", \"people\", \"person\", \"person\", \"person military\", \"plaza\", \"plaza dedicated\", \"police\", \"police\", \"police\", \"police\", \"police\", \"police\", \"police confirmed\", \"police murdered\", \"police officer\", \"police officer\", \"police protest\", \"pray\", \"pray\", \"pray family\", \"pray family\", \"prayer\", \"prayer follow\", \"presumably\", \"presumably police\", \"protest\", \"protest\", \"protest\", \"protest air\", \"protest capitol\", \"protest capitol\", \"protester\", \"protester killed\", \"proudly\", \"proudly served\", \"qanon\", \"really\", \"remember\", \"remember\", \"remember\", \"remember sister\", \"report\", \"report\", \"rest\", \"rest peace\", \"retweet\", \"retweet share\", \"right\", \"right\", \"rioter\", \"rip\", \"rip\", \"rip\", \"rip ashli\", \"rip ashli\", \"sebgorka\", \"sebgorka usairforce\", \"senseless\", \"served\", \"served\", \"served\", \"served\", \"served country\", \"service san\", \"share\", \"share prayer\", \"shoot\", \"shot\", \"shot\", \"shot\", \"shot\", \"shot\", \"shot\", \"shot killed\", \"shot killed\", \"shot killed\", \"shot killed\", \"shot killed\", \"shot killed\", \"shot neck\", \"shot today\", \"silence\", \"silence forget\", \"sister\", \"sister arm\", \"smart\", \"smart kind\", \"state\", \"state\", \"state\", \"state enemy\", \"stop\", \"stop\", \"stop\", \"stop miss\", \"storming\", \"storming capitol\", \"strong\", \"strong smart\", \"today\", \"today\", \"today\", \"today\", \"today\", \"today\", \"today got\", \"today presumably\", \"today vigil\", \"today want\", \"told\", \"truly\", \"trump\", \"trump\", \"trump\", \"trump\", \"trump\", \"tweet\", \"tweet\", \"unarmed young\", \"united\", \"united\", \"united state\", \"united state\", \"update\", \"update\", \"usairforce\", \"usairforce ashli\", \"vain\", \"vain let\", \"vet\", \"vet\", \"vet california\", \"veteran\", \"veteran\", \"veteran\", \"veteran\", \"veteran\", \"veteran\", \"veteran ashli\", \"veteran ashli\", \"veteran ashli\", \"veteran cold\", \"veteran year\", \"vigil\", \"vigil like\", \"want\", \"want\", \"want\", \"want know\", \"wanted\", \"wanted\", \"wanted shot\", \"watching\", \"watching\", \"wish\", \"wish happy\", \"woman\", \"woman\", \"woman\", \"woman\", \"woman\", \"woman killed\", \"woman killed\", \"woman shot\", \"woman shot\", \"woman shot\", \"woman shot\", \"woman strong\", \"wonderful\", \"wonderful kind\", \"word\", \"year\", \"year\", \"year\", \"year\", \"year air\", \"year service\", \"young\", \"young\", \"young woman\"]}, \"R\": 30, \"lambda.step\": 0.01, \"plot.opts\": {\"xlab\": \"PC1\", \"ylab\": \"PC2\"}, \"topic.order\": [5, 3, 1, 2, 4, 6]};\n",
       "\n",
       "function LDAvis_load_lib(url, callback){\n",
       "  var s = document.createElement('script');\n",
       "  s.src = url;\n",
       "  s.async = true;\n",
       "  s.onreadystatechange = s.onload = callback;\n",
       "  s.onerror = function(){console.warn(\"failed to load library \" + url);};\n",
       "  document.getElementsByTagName(\"head\")[0].appendChild(s);\n",
       "}\n",
       "\n",
       "if(typeof(LDAvis) !== \"undefined\"){\n",
       "   // already loaded: just create the visualization\n",
       "   !function(LDAvis){\n",
       "       new LDAvis(\"#\" + \"ldavis_el406781407149838476322406774734\", ldavis_el406781407149838476322406774734_data);\n",
       "   }(LDAvis);\n",
       "}else if(typeof define === \"function\" && define.amd){\n",
       "   // require.js is available: use it to load d3/LDAvis\n",
       "   require.config({paths: {d3: \"https://cdnjs.cloudflare.com/ajax/libs/d3/3.5.5/d3.min\"}});\n",
       "   require([\"d3\"], function(d3){\n",
       "      window.d3 = d3;\n",
       "      LDAvis_load_lib(\"https://cdn.rawgit.com/bmabey/pyLDAvis/files/ldavis.v1.0.0.js\", function(){\n",
       "        new LDAvis(\"#\" + \"ldavis_el406781407149838476322406774734\", ldavis_el406781407149838476322406774734_data);\n",
       "      });\n",
       "    });\n",
       "}else{\n",
       "    // require.js not available: dynamically load d3 & LDAvis\n",
       "    LDAvis_load_lib(\"https://cdnjs.cloudflare.com/ajax/libs/d3/3.5.5/d3.min.js\", function(){\n",
       "         LDAvis_load_lib(\"https://cdn.rawgit.com/bmabey/pyLDAvis/files/ldavis.v1.0.0.js\", function(){\n",
       "                 new LDAvis(\"#\" + \"ldavis_el406781407149838476322406774734\", ldavis_el406781407149838476322406774734_data);\n",
       "            })\n",
       "         });\n",
       "}\n",
       "</script>"
      ],
      "text/plain": [
       "PreparedData(topic_coordinates=               x          y  topics  cluster       Freq\n",
       "topic                                                  \n",
       "4      1.465019  -47.625065  1       1        24.608241\n",
       "2      54.854797 -36.476795  2       1        18.176727\n",
       "0      32.212929 -61.444572  3       1        16.754421\n",
       "1      5.111096  -14.110332  4       1        14.937557\n",
       "3      26.350170 -33.374702  5       1        14.632118\n",
       "5      38.109818 -7.222781   6       1        10.890937, topic_info=                Term        Freq        Total Category  logprob  loglift\n",
       "910   killed ashli    693.000000  693.000000   Default  30.0000  30.0000\n",
       "1281  police officer  671.000000  671.000000   Default  29.0000  29.0000\n",
       "1167  officer         710.000000  710.000000   Default  28.0000  28.0000\n",
       "1170  officer shot    640.000000  640.000000   Default  27.0000  27.0000\n",
       "929   kind            850.000000  850.000000   Default  26.0000  26.0000\n",
       "...    ...                   ...         ...       ...      ...      ...\n",
       "907   killed          256.830040  1398.569014  Topic6  -4.1774   0.5224 \n",
       "1842  veteran         236.425518  1122.152141  Topic6  -4.2602   0.6599 \n",
       "68    ashli babbit    255.133699  2983.720999  Topic6  -4.1840  -0.2419 \n",
       "113   babbit          254.905551  2985.881362  Topic6  -4.1849  -0.2435 \n",
       "66    ashli           197.088184  3069.879551  Topic6  -4.4422  -0.5285 \n",
       "\n",
       "[323 rows x 6 columns], token_table=      Topic      Freq          Term\n",
       "term                               \n",
       "29    1      0.093136  air         \n",
       "29    2      0.422947  air         \n",
       "29    4      0.177506  air         \n",
       "29    6      0.305705  air         \n",
       "30    1      0.093498  air force   \n",
       "...  ..           ...  ...         \n",
       "1974  2      0.991205  year air    \n",
       "1979  4      0.995892  year service\n",
       "1987  1      0.142147  young       \n",
       "1987  4      0.857467  young       \n",
       "1989  4      0.996763  young woman \n",
       "\n",
       "[450 rows x 3 columns], R=30, lambda_step=0.01, plot_opts={'xlab': 'PC1', 'ylab': 'PC2'}, topic_order=[5, 3, 1, 2, 4, 6])"
      ]
     },
     "execution_count": 23,
     "metadata": {},
     "output_type": "execute_result"
    }
   ],
   "source": [
    "# visualization of LDA model \n",
    "import pyLDAvis.sklearn\n",
    "\n",
    "pyLDAvis.enable_notebook()\n",
    "panel = pyLDAvis.sklearn.prepare(lda_model, doc_term_matrix_1, tfidfconverter, mds='tsne')\n",
    "panel"
   ]
  },
  {
   "cell_type": "code",
   "execution_count": 24,
   "metadata": {},
   "outputs": [
    {
     "name": "stdout",
     "output_type": "stream",
     "text": [
      "Log likelihood:  -971121.5064836859\n",
      "Perplexity:  553.5152790163494\n"
     ]
    }
   ],
   "source": [
    "# test LDA model\n",
    "\n",
    "# log likelihood (higher score is better)\n",
    "print(\"Log likelihood: \", lda_model.score(doc_term_matrix_1))\n",
    "\n",
    "\n",
    "# perplexity (lower score is better)\n",
    "print(\"Perplexity: \", lda_model.perplexity(doc_term_matrix_1))"
   ]
  },
  {
   "cell_type": "code",
   "execution_count": null,
   "metadata": {},
   "outputs": [],
   "source": [
    "# # cross-validation to find best parameters for LDA model\n",
    "\n",
    "# #import cross-validation tool\n",
    "# from sklearn.model_selection import GridSearchCV\n",
    "\n",
    "# # define search parameters\n",
    "# search_params = {'n_components': [5, 8, 10, 12], 'learning_decay': [.5, .7, .9]}\n",
    "\n",
    "# # initialize model for cross-validation\n",
    "# lda = LatentDirichletAllocation()\n",
    "\n",
    "# # initialize grid search class \n",
    "# model = GridSearchCV(lda, param_grid=search_params)\n",
    "\n",
    "# # run grid search \n",
    "# model.fit(doc_term_matrix_1)"
   ]
  },
  {
   "cell_type": "code",
   "execution_count": null,
   "metadata": {},
   "outputs": [],
   "source": [
    "# # what is best model? \n",
    "# best_lda_model = model.best_estimator_\n",
    "\n",
    "# # print parameters for best model\n",
    "# print(\"Parameters for best model: \", model.best_params_)\n",
    "\n",
    "# # print log likelihood score\n",
    "# print(\"Log likelihood score of best model: \", model.best_score_)\n",
    "\n",
    "# # print perplexity score\n",
    "# print(\"Perplexity score of best model: \", best_lda_model.perplexity(doc_term_matrix_1))"
   ]
  },
  {
   "cell_type": "code",
   "execution_count": 27,
   "metadata": {},
   "outputs": [],
   "source": [
    "# run LDA model with best parameters\n",
    "\n",
    "#import LDA tool \n",
    "from sklearn.decomposition import LatentDirichletAllocation\n",
    "\n",
    "lda_model_2 = LatentDirichletAllocation(n_components = 12, max_iter=10, learning_method='online', learning_decay=.9)\n",
    "lda_Z_2 = lda_model_2.fit_transform(doc_term_matrix_1)"
   ]
  },
  {
   "cell_type": "code",
   "execution_count": 28,
   "metadata": {},
   "outputs": [
    {
     "name": "stdout",
     "output_type": "stream",
     "text": [
      "Parameters for best model:  {'learning_decay': 0.9, 'n_components': 10}\n",
      "Log likelihood score of best model:  -205986.77421867714\n",
      "Perplexity score of best model:  449.5455606822447\n"
     ]
    }
   ],
   "source": [
    "# # what is best model? \n",
    "# best_lda_model = model.best_estimator_\n",
    "\n",
    "# # print parameters for best model\n",
    "# print(\"Parameters for best model: \", model.best_params_)\n",
    "\n",
    "# # print log likelihood score\n",
    "# print(\"Log likelihood score of best model: \", model.best_score_)\n",
    "\n",
    "# # print perplexity score\n",
    "# print(\"Perplexity score of best model: \", best_lda_model.perplexity(doc_term_matrix_1))"
   ]
  },
  {
   "cell_type": "code",
   "execution_count": null,
   "metadata": {},
   "outputs": [],
   "source": []
  },
  {
   "cell_type": "code",
   "execution_count": null,
   "metadata": {},
   "outputs": [],
   "source": [
    "# # 2nd LDA model: running new \"best model\" parameters\n",
    "\n",
    "# lda_model_2 = LatentDirichletAllocation(n_components = 12, max_iter=10, learning_method='online', learning_decay=0.9)\n",
    "# lda_Z_2 = lda_model_2.fit_transform(doc_term_matrix_1)\n",
    "\n",
    "# # visualization of 2nd LDA model \n",
    "# pyLDAvis.enable_notebook()\n",
    "# panel = pyLDAvis.sklearn.prepare(lda_model_2, doc_term_matrix_1, tfidfconverter, mds='tsne')\n",
    "# panel\n",
    "\n",
    "# pyLDAvis.enable_notebook()\n",
    "# panel = pyLDAvis.sklearn.prepare(lda_model_2, doc_term_matrix_1, tfidfconverter, mds='tsne')\n",
    "# panel"
   ]
  },
  {
   "cell_type": "code",
   "execution_count": null,
   "metadata": {},
   "outputs": [],
   "source": [
    "# # top topics of 2nd LDA model\n",
    "\n",
    "# def print_topics(model, vectorizer, top_n=10):\n",
    "#     for idx, topic in enumerate(model.components_):\n",
    "#         print(\"Topic %d:\" % (idx))\n",
    "#         print([(vectorizer.get_feature_names()[i], topic[i])\n",
    "#                         for i in topic.argsort()[:-top_n - 1:-1]])\n",
    " \n",
    "# print(\"LDA Model 2:\")\n",
    "# print_topics(lda_model_2, tfidfconverter )\n",
    "# print(\"=\" * 20)"
   ]
  },
  {
   "cell_type": "markdown",
   "metadata": {},
   "source": [
    "# Part 5: Plug results of topic modeling back into dataframe\n"
   ]
  },
  {
   "cell_type": "code",
   "execution_count": null,
   "metadata": {},
   "outputs": [],
   "source": [
    "# make results of NMF model a column in dataframe\n",
    "\n",
    "topic_values = nmf_model.transform(doc_term_matrix_1)\n",
    "df['NMF_topic'] = topic_values.argmax(axis=1)\n"
   ]
  },
  {
   "cell_type": "code",
   "execution_count": null,
   "metadata": {},
   "outputs": [],
   "source": [
    "# # make results of LDA2 model a column in dataframe\n",
    "\n",
    "# topic_values = lda_model_2.transform(doc_term_matrix_1)\n",
    "# df['LDA2_topic'] = topic_values.argmax(axis=1)"
   ]
  },
  {
   "cell_type": "code",
   "execution_count": 24,
   "metadata": {},
   "outputs": [],
   "source": [
    "# make results of LDA2 model a column in dataframe\n",
    "\n",
    "topic_values = lda_model.transform(doc_term_matrix_1)\n",
    "df['LDA1_topic'] = topic_values.argmax(axis=1)"
   ]
  },
  {
   "cell_type": "code",
   "execution_count": 25,
   "metadata": {},
   "outputs": [
    {
     "data": {
      "text/html": [
       "<div>\n",
       "<style scoped>\n",
       "    .dataframe tbody tr th:only-of-type {\n",
       "        vertical-align: middle;\n",
       "    }\n",
       "\n",
       "    .dataframe tbody tr th {\n",
       "        vertical-align: top;\n",
       "    }\n",
       "\n",
       "    .dataframe thead th {\n",
       "        text-align: right;\n",
       "    }\n",
       "</style>\n",
       "<table border=\"1\" class=\"dataframe\">\n",
       "  <thead>\n",
       "    <tr style=\"text-align: right;\">\n",
       "      <th></th>\n",
       "      <th>id</th>\n",
       "      <th>parsed_created_at</th>\n",
       "      <th>user_screen_name</th>\n",
       "      <th>text</th>\n",
       "      <th>tweet_type</th>\n",
       "      <th>hashtags</th>\n",
       "      <th>favorite_count</th>\n",
       "      <th>possibly_sensitive</th>\n",
       "      <th>retweet_count</th>\n",
       "      <th>user_id</th>\n",
       "      <th>processed_text</th>\n",
       "      <th>pos_tagged</th>\n",
       "      <th>lemmatized</th>\n",
       "      <th>final_docs</th>\n",
       "      <th>LDA1_topic</th>\n",
       "    </tr>\n",
       "  </thead>\n",
       "  <tbody>\n",
       "    <tr>\n",
       "      <th>0</th>\n",
       "      <td>1347022077807652866</td>\n",
       "      <td>2021-01-07 03:27:44+00:00</td>\n",
       "      <td>creatcburst</td>\n",
       "      <td>Her name was Ashli Babbit, a 14-year veteran, who served four tours with the US Air Force, and was a high level security official throughout her time in service.</td>\n",
       "      <td>quote</td>\n",
       "      <td>NaN</td>\n",
       "      <td>0</td>\n",
       "      <td>NaN</td>\n",
       "      <td>0</td>\n",
       "      <td>765234992</td>\n",
       "      <td>[name, ashli, babbit, year, veteran, served, four, tours, us, air, force, high, level, security, official, throughout, time, service]</td>\n",
       "      <td>[(name, NN), (ashli, NN), (babbit, NN), (year, NN), (veteran, NN), (served, VBD), (four, CD), (tours, NNS), (us, PRP), (air, VBP), (force, JJ), (high, JJ), (level, NN), (security, NN), (official, NN), (throughout, IN), (time, NN), (service, NN)]</td>\n",
       "      <td>[name, ashli, babbit, year, veteran, served, four, tour, u, air, force, high, level, security, official, throughout, time, service]</td>\n",
       "      <td>name ashli babbit year veteran served four tour u air force high level security official throughout time service</td>\n",
       "      <td>5</td>\n",
       "    </tr>\n",
       "  </tbody>\n",
       "</table>\n",
       "</div>"
      ],
      "text/plain": [
       "                    id          parsed_created_at user_screen_name  \\\n",
       "0  1347022077807652866  2021-01-07 03:27:44+00:00  creatcburst       \n",
       "\n",
       "                                                                                                                                                                text  \\\n",
       "0  Her name was Ashli Babbit, a 14-year veteran, who served four tours with the US Air Force, and was a high level security official throughout her time in service.   \n",
       "\n",
       "  tweet_type hashtags  favorite_count possibly_sensitive  retweet_count  \\\n",
       "0  quote      NaN      0               NaN                0               \n",
       "\n",
       "     user_id  \\\n",
       "0  765234992   \n",
       "\n",
       "                                                                                                                          processed_text  \\\n",
       "0  [name, ashli, babbit, year, veteran, served, four, tours, us, air, force, high, level, security, official, throughout, time, service]   \n",
       "\n",
       "                                                                                                                                                                                                                                              pos_tagged  \\\n",
       "0  [(name, NN), (ashli, NN), (babbit, NN), (year, NN), (veteran, NN), (served, VBD), (four, CD), (tours, NNS), (us, PRP), (air, VBP), (force, JJ), (high, JJ), (level, NN), (security, NN), (official, NN), (throughout, IN), (time, NN), (service, NN)]   \n",
       "\n",
       "                                                                                                                            lemmatized  \\\n",
       "0  [name, ashli, babbit, year, veteran, served, four, tour, u, air, force, high, level, security, official, throughout, time, service]   \n",
       "\n",
       "                                                                                                         final_docs  \\\n",
       "0  name ashli babbit year veteran served four tour u air force high level security official throughout time service   \n",
       "\n",
       "   LDA1_topic  \n",
       "0  5           "
      ]
     },
     "execution_count": 25,
     "metadata": {},
     "output_type": "execute_result"
    }
   ],
   "source": [
    "df.head(1)"
   ]
  },
  {
   "cell_type": "code",
   "execution_count": 27,
   "metadata": {},
   "outputs": [
    {
     "data": {
      "text/plain": [
       "5      Ashli Babbit didn't have to die.  But she did so for Trump.  For a man who cares only about himself, and who wouldn't piss on his supporters if they were on fire.                                                                                          \n",
       "35     @debmcleod13 @1lucyhannah Ashli IS a hero.\\n\\nPlease do not let  Ashli Babbit die in vain ...\\n\\nSend the electoral votes back to the states whose legislatures admitted possible fraud and request a forensic audit ...\\n\\nThere is no downside to this ...\n",
       "48     Ashli Babbits death falls directly on your shoulders Mr Trumph, you should be charged with her murder, shame on you sir, shame on you!                                                                                                                      \n",
       "56     THIS🤯🤯🤯🤯🤯🤯👇                                                                                                                                                                                                                                                 \n",
       "61     Not even surprised                                                                                                                                                                                                                                          \n",
       "72     @1lucyhannah @thames_tim Ashli IS a hero.\\n\\nPlease do not let  Ashli Babbit die in vain ...\\n\\nSend the electoral votes back to the states whose legislatures admitted possible fraud and request a forensic audit ...\\n\\nThere is no downside to this ... \n",
       "77     She was a thug who didn’t comply 🤷🏾‍♂️                                                                                                                                                                                                                      \n",
       "92     who’s we?                                                                                                                                                                                                                                                   \n",
       "137    No pity for a cop. One less fascist :)                                                                                                                                                                                                                      \n",
       "155    Please do not let  Ashli Babbit die in vain ...\\n\\nSend the electoral votes back to the states whose legislatures admitted possible fraud and request a forensic audit ...\\n\\nThere is no downside to this ...                                              \n",
       "158    SHE WAS A COP                                                                                                                                                                                                                                               \n",
       "159    This aged poorly 🌚                                                                                                                                                                                                                                          \n",
       "178    go to the doctor then babes XOXO                                                                                                                                                                                                                            \n",
       "188    FIND OUT!!!! NOW!!!!!                                                                                                                                                                                                                                       \n",
       "226    @PDFMakerApp grab this                                                                                                                                                                                                                                      \n",
       "228    @business Please do not let  Ashli Babbit die in vain ...\\n\\nSend the electoral votes back to the states whose legislatures admitted possible fraud and request a forensic audit ...\\n\\nThere is no downside to this ...                                    \n",
       "323    fuq no bich                                                                                                                                                                                                                                                 \n",
       "369    @FREEDPeacock10 So did Ashli Babbit die??                                                                                                                                                                                                                   \n",
       "407    Ashli Babbits death falls directly on your shoulders Mr Trump, you should be charged with murder, shame on you sir, shame on you!                                                                                                                           \n",
       "461    they are both alone now                                                                                                                                                                                                                                     \n",
       "Name: text, dtype: object"
      ]
     },
     "execution_count": 27,
     "metadata": {},
     "output_type": "execute_result"
    }
   ],
   "source": [
    "df['text'][df.LDA1_topic ==0][:20]"
   ]
  },
  {
   "cell_type": "code",
   "execution_count": 29,
   "metadata": {},
   "outputs": [
    {
     "data": {
      "text/plain": [
       "242    A woman who was shot and killed during pro-Trump supporters' storming of U.S. Capitol has been identified as 14-year Air Force veteran, Ashli Babbit, of San Diego.​ https://t.co/OH0BUyLAef                                                                                            \n",
       "244    Who the f cares it was six years ago ...get on with life...                                                                                                                                                                                                                             \n",
       "254    @Its_kvon *Ashli pack                                                                                                                                                                                                                                                                   \n",
       "264    Ashli Babbit, an Air Force veteran, had her life taken at a protest at the Capitol. Ashli, a true patriot, gave up more than her legs and part of an arm for her country. She sacrificed her life for her country. Say her name.\\n\\nTammy is a fraud giving a performance, nothing more.\n",
       "266    @zashu @bdaddyrod @_mlktea Ashli Babbit, the WOMAN, not a 17 year old girl, was a 14 year veteran. If you did research. Also, she was crawling through a window, facing police on the other side of the window. \\n\\nhttps://t.co/wh81FWhx6r                                             \n",
       "272    Just a day ago, Ashli Babbit, an Air Force veteran from California, took to Twitter to vow that \"nothing will stop us\". https://t.co/bJaBFFRcsf https://t.co/lMUrSH6nx5                                                                                                                 \n",
       "275    @MarkDice Smoking onna ashli pack 🍃😤 https://t.co/9OEiTj2yMN                                                                                                                                                                                                                            \n",
       "281    Has Biden asked why the “man in the suit” who shot &amp; killed Ashli Babbit didn’t aim for her leg?                                                                                                                                                                                    \n",
       "284    @JarrettHill Were you shot dead while unarmed, as Ashli Babbitt was?                                                                                                                                                                                                                    \n",
       "303    donald trump.                                                                                                                                                                                                                                                                           \n",
       "308    @Maximus_4EVR @Raiden3pt0 Will there be a vigil for Ashli Babbit, the woman shot at the Capitol?  If so, please let us know.  Thank you. God bless you and yours.                                                                                                                       \n",
       "310    Feds are smoking on an ashli pack                                                                                                                                                                                                                                                       \n",
       "331    @MSNBC You can’t say “A 14 year vet white woman was killed today” can you? Her name was Ashli btw https://t.co/d0HJRTYCO4                                                                                                                                                               \n",
       "343    @0ctoberReignz well...this Lindsay Watts (former US Air Force Vet who owned a business of some kind) is confirmed dead. So sad. https://t.co/XiUFEYEy1m                                                                                                                                 \n",
       "344    @PhizLair Capitol Police did shoot and kill someone. Her name is Ashli Babbit\\n\\n14 year Air Force vet. Didn't get rich singing about being a blowjob queen either. https://t.co/OzZcBtbg6Y                                                                                             \n",
       "348    Say Her Name, Ashli Babbit: Woman Killed by Cops at Pro-Trump Protest was Patriotic Air Force Veteran https://t.co/ie82LUGqPK                                                                                                                                                           \n",
       "392    Smoking that Ashli pack tonite                                                                                                                                                                                                                                                          \n",
       "396    @kmmrow @RoguePOTUSStaff Ashli Babbit San Diego. 14 year USAF veteran.                                                                                                                                                                                                                  \n",
       "400    @MattWalshBlog Ashli Babbitt 14 year Air Force veteran from San Diego. Shot and killed by Capitol police. \\n\\nhttps://t.co/f4JzgonDXE                                                                                                                                                   \n",
       "401    @GrindFaceTV We smoking that Ashli Babbitt pack                                                                                                                                                                                                                                         \n",
       "Name: text, dtype: object"
      ]
     },
     "execution_count": 29,
     "metadata": {},
     "output_type": "execute_result"
    }
   ],
   "source": [
    "df['text'][df.LDA1_topic ==1][20:40]"
   ]
  },
  {
   "cell_type": "code",
   "execution_count": 31,
   "metadata": {},
   "outputs": [
    {
     "data": {
      "text/plain": [
       "792     She was an advocate for treason. The price was heavy                                                                                                                                                       \n",
       "823     @samanthamarika1 Ashli Babbit was an insurgent &amp; seditionist &amp; was treated accordingly.\\n\\nShe should be stripped of all rank. No benefits should be paid to her survivors. https://t.co/KhoV4Z3Nzb\n",
       "892     Condolences to her friends and family she displayed courage and conviction and payed the ultimate price for believing RIP LOVELY PATRIOT 🇺🇸😇                                                               \n",
       "979     Lmao #ripbozo don’t storm a federal building 💀 she should’ve just listened to the officers orders ugly ass bitch https://t.co/Kq1dYHjQbQ                                                                   \n",
       "1015    wrong 😑                                                                                                                                                                                                    \n",
       "1081    @BDormanTV Another one for ya...\\n\\nhttps://t.co/HbKDW9MQC0                                                                                                                                                \n",
       "1149    They stopped tf outta her                                                                                                                                                                                  \n",
       "1156    @22_Stocks @reubing @The_Real_Fly God Bless you Ashli Babbit. My condolences for your loved ones and deepest sympathy for your pain. In Peace.                                                             \n",
       "1172    Just imagine if she was black.                                                                                                                                                                             \n",
       "1175    @JuddDavis4 @dhookstead @TaylerUSA You are wrong Libby.  Here, try some facts for a change.\\nhttps://t.co/jvtmznuuAo                                                                                       \n",
       "1187    @Mike_Pence We’re disgusted by your actions. The people’s house should recognize  the courage Ashli Babbitt tonight!!                                                                                      \n",
       "1208    RiP Ashli and condolences for her family and friends.\\nThe comments on this thread are becoming outrageous, some stating she deserved what happened to her.\\nNo, wrong....she was unarmed.                 \n",
       "1271    Imagine believing this yet trying to break into a federal building. Hopefully they didn't have any children and pass this stupidity to their children                                                      \n",
       "1301    Read below 👇The hate goes on and on and on                                                                                                                                                                 \n",
       "1323    despite my beliefs, grief isn’t something I would wish on anyone. Prayers for Ashli Babbit’s family and friends.                                                                                           \n",
       "1348    Y’all hear something? I dnt                                                                                                                                                                                \n",
       "1362    SHE WILL BE HONORED. \\n\\nTHEY WILL PAY THEIR PRICE.                                                                                                                                                        \n",
       "1385    Seize all her assets n investigate all her friends and family for years and harass them, just like y’all do middle easter or black so called “terrorist”                                                   \n",
       "1386    Who was looting OLAF                                                                                                                                                                                       \n",
       "1397    @samanthamarika1 Ashli Babbit was a domestic terrorist. She got 100% what she went there for.                                                                                                              \n",
       "Name: text, dtype: object"
      ]
     },
     "execution_count": 31,
     "metadata": {},
     "output_type": "execute_result"
    }
   ],
   "source": [
    "df['text'][df.LDA1_topic ==2][20:40]"
   ]
  },
  {
   "cell_type": "code",
   "execution_count": 34,
   "metadata": {},
   "outputs": [
    {
     "data": {
      "text/plain": [
       "439    I don't think it was the police. I think she was targeted by someone in the crowd. She looked to be climbing out the window, not in and then fell backward in to the room.                                                                                                                  \n",
       "442    You spell BREONNA TAYLOR wrong my guy. She was storming the capitol building &amp; rioting BRE was sleep in her bed.                                                                                                                                                                        \n",
       "483    @Ladyy__C And this isn’t correct. Her name was Ashli Babbit but she should’ve complied &amp; backed the blue by not storming the Capitol.                                                                                                                                                   \n",
       "539    You killed a un armed woman                                                                                                                                                                                                                                                                 \n",
       "545    @DEPatriot21 Definitely \"ANTIFA\"\\n\\nhttps://t.co/j9fr5UjUkB                                                                                                                                                                                                                                 \n",
       "547    She was one of the terrorists. Watch her and the others trying to smash their way into Capitol offices—with a swat team standing by watching them do it.  This should have been put down quickly and forcefully.  Was it because they were white?   https://t.co/IO9qKI66Kk                 \n",
       "552    This is the Ashli Babbit, the woman who was killed in a failed insurrection at the Capitol today. Note all the @JackPosobiec and @LLinWood retweets among others. \\n#CapitolBuilding                                                                                                        \n",
       "559    Ok... you forgot to add the whole breaking and entering the capitol building and participating in a violent riot but go off                                                                                                                                                                 \n",
       "562    Watch this beautiful young patriot. Now dead. Shot by Capitol Police because she was a Trump Supporter and not Antifa or BLM.                                                                                                                                                               \n",
       "563    How about not breaking into the Capitol.  Bye bitch.                                                                                                                                                                                                                                        \n",
       "603    @thechrisbuskirk this bunch was violent and vandalizing. she tried to go thru a broken window with a backpack and those in the room were armed.  Bad decision. https://t.co/jPJICitN6T                                                                                                      \n",
       "614    Ashli Babbit was shot and killed inside the US capitol today while attempting to force her way into The Speaker's Lobby.  She was accompanied by a mob literally lifting her up. What did they hope to accomplish in that room? Peaceful protestors don't break into locked rooms.          \n",
       "626    so lemme get this straight, all the other people were Antifa except her? thats what youre going with?                                                                                                                                                                                       \n",
       "630    Ain’t watch her 6 well enough :/                                                                                                                                                                                                                                                            \n",
       "635    Great question. 🙏                                                                                                                                                                                                                                                                           \n",
       "641    But didn’t she storm the capitol, putting other lives in danger, because 45 (based on PURE lies) didn’t get his way Karen?                                                                                                                                                                  \n",
       "644    Not innocent when you break a window &amp; go inside the Capitol.  It’s justice.                                                                                                                                                                                                            \n",
       "659    She was a very dangerous thug! A terrorist!                                                                                                                                                                                                                                                 \n",
       "673    @spl1779 @iamthehedgemage This video makes you think she should be shot? https://t.co/Bl3L2wajCK                                                                                                                                                                                            \n",
       "688    maybe that’s because she was shot while breaking into the Capitol Building????                                                                                                                                                                                                              \n",
       "695    Bye bitch                                                                                                                                                                                                                                                                                   \n",
       "701    Hold these nuts 😭                                                                                                                                                                                                                                                                           \n",
       "708    @YEunuch You’ve got to be kidding me! Cannon was a child murdered at point blank. Ashli broke into the window of the Speaker’s room. The two are not even close lady. I will remember sweet innocent Cannon. Ashli is not a martyr.                                                         \n",
       "713    y’all got 0 chill☠️☠️☠️☠️                                                                                                                                                                                                                                                                   \n",
       "714    Thats a great question                                                                                                                                                                                                                                                                      \n",
       "724    If #MAGA were violent we’d be burning things down after this! Calling for his firing! That’s what BLM &amp; ANTIFA did for months and #Democrats &amp; MSM called it mostly peaceful their right of expression etc!! 😡today’s violence was staged by infiltrators to push certification 🙏🇺🇸🙏\n",
       "741    One thing about them tables, they always turn.                                                                                                                                                                                                                                              \n",
       "744    @ZoomerQlips Her name is Ashli and she should’ve complied &amp; Backed the Blue by not storming the Capitol.                                                                                                                                                                                \n",
       "764    Play stupid games, win stupid prizes 🤷🏻‍♀️ Sucks, but don’t participate in a seditious riot and expect the violence that breaks out not to potentially affect you. Consequences.                                                                                                            \n",
       "780    She tried to climb though the broken window on the door of the floor of THE FUCKING SENATE. On the other side were the Secret Service (?security) who had barricaded the door and were pointing weapons at her.                                                                             \n",
       "Name: text, dtype: object"
      ]
     },
     "execution_count": 34,
     "metadata": {},
     "output_type": "execute_result"
    }
   ],
   "source": [
    "df['text'][df.LDA1_topic ==3][40:70]"
   ]
  },
  {
   "cell_type": "code",
   "execution_count": 35,
   "metadata": {},
   "outputs": [
    {
     "data": {
      "text/plain": [
       "875     Her name is Ashli Babbitt                                                                                                                                                                                                                                                                                                \n",
       "880     Ashli Babbit!!!   Rest in peace, enfolded in the arms of patriot souls that welcome into their ranks in heaven.                                                                                                                                                                                                          \n",
       "897     @mdc_dsa @DemSocialists Her name is Ashli Babbitt                                                                                                                                                                                                                                                                        \n",
       "906     @kayleighmcenany EXACTLY!  “NOW IS THE TIME WHEN ALL GOOD MEN &amp; (NOT ‘WOMEN’) MUST COME TO THE AID OF THEIR COUNTRY!”\\nR.I.P. Ashli Babbit, May GOD BE With your Family!!!                                                                                                                                           \n",
       "918     @kayleighmcenany @realDonaldTrump EXACTLY!  “NOW IS THE TIME WHEN ALL GOOD MEN &amp; (NOT ‘WOMEN’) MUST COME TO THE AID OF THEIR COUNTRY!”\\nR.I.P. Ashli Babbit, May GOD BE With your Family!!!                                                                                                                          \n",
       "919     @lexfridman Her name is Ashli Babbitt                                                                                                                                                                                                                                                                                    \n",
       "951     She went out sad, and her family should be embarrassed                                                                                                                                                                                                                                                                   \n",
       "958     @GreenPartyUS Her name is Ashli Babbitt                                                                                                                                                                                                                                                                                  \n",
       "961     Sincerely, rest in peace to Ashli Babbit.                                                                                                                                                                                                                                                                                \n",
       "972     Thank you for your service Ashli Babbitt. Praying for your family. Rest In Peace.                                                                                                                                                                                                                                        \n",
       "982     @CoriBush @DemSocialists Her name is Ashli Babbitt                                                                                                                                                                                                                                                                       \n",
       "983     @realDonaldTrump @kayleighmcenany IT WAS A SET UP!!!\\n\\n“NOW IS THE TIME WHEN ALL GOOD MEN &amp; (NOT ‘WOMEN’) MUST COME TO THE AID OF THEIR COUNTRY!”\\nR.I.P. Ashli Babbit, May GOD BE With your Family!!!                                                                                                              \n",
       "1029    Check the replies from some truly scummy \"humans\"                                                                                                                                                                                                                                                                        \n",
       "1039    EXACTLY!  “NOW IS THE TIME WHEN ALL GOOD MEN &amp; (NOT ‘WOMEN’) MUST COME TO THE AID OF THEIR COUNTRY!”\\nR.I.P. Ashli Babbit, May GOD BE With your Family!!!                                                                                                                                                            \n",
       "1053    @catturd2 @3Jamri_26_2015 EXACTLY!  “NOW IS THE TIME WHEN ALL GOOD MEN &amp; (NOT ‘WOMEN’) MUST COME TO THE AID OF THEIR COUNTRY!”\\nR.I.P. Ashli Babbit, May GOD BE With your Family!!!                                                                                                                                  \n",
       "1061    So sad. Ashli rest in peace                                                                                                                                                                                                                                                                                              \n",
       "1066    @DemSocialists @IlhanMN @CoriBush Her name is Ashli Babbitt                                                                                                                                                                                                                                                              \n",
       "1158    HELP                                                                                                                                                                                                                                                                                                                     \n",
       "1167    @RichardEngel Well sort of (see Ashli Babbitt).                                                                                                                                                                                                                                                                          \n",
       "1173    @TimWBEN \\n\\nAshli Babbitt.  May she Rest In Peace.\\n\\nhttps://t.co/nwGysixAPO\\n\\nhttps://t.co/eiRf2p6Vaj                                                                                                                                                                                                                \n",
       "1182    Everybody gangsta until that blicky come out.                                                                                                                                                                                                                                                                            \n",
       "1190    @_brooke_king @RealDealAxelrod Rest in peace Ashli Babbit.                                                                                                                                                                                                                                                               \n",
       "1212    @prayingmedic EXACTLY!  “NOW IS THE TIME WHEN ALL GOOD MEN &amp; (NOT ‘WOMEN’) MUST COME TO THE AID OF THEIR COUNTRY!”\\nR.I.P. Ashli Babbit, May GOD BE With your Family!!!                                                                                                                                              \n",
       "1219    Welcome to being black.                                                                                                                                                                                                                                                                                                  \n",
       "1229    @Snydes10 @phuketamine @Ashli_Babbitt @AngelWarrior321 Ashli checked out too                                                                                                                                                                                                                                             \n",
       "1235    @Breaking911 ❤️🙏🏻Give rest O Lord to the soul of thy servant Ashli,amen🙏🏻❤️                                                                                                                                                                                                                                              \n",
       "1258    @MentulaFulmen @thechrisbuskirk @EWErickson Just what I was thinking. Strange how the people that are upset by minorities being killed by police the past few years some of whom pulled knives and guns are quick to condemn Ashli Babbitt without any evidence of what actually happened and what she did where she was.\n",
       "1272    Oh really?                                                                                                                                                                                                                                                                                                               \n",
       "1312    Just saw a tragic video of Ashli Babbit immediately after she was shot by Capitol police. Out respect for her and her family, I will not circulate the footage.\\n\\nPlease join me in prayer tonight as we mourn the loss of a beautiful patriot and 14-year veteran. God rest her soul.                                  \n",
       "1349    IT WAS A SET UP:  “NOW IS THE TIME WHEN ALL GOOD MEN &amp; (NOT ‘WOMEN’) MUST COME TO THE AID OF THEIR COUNTRY!”\\nR.I.P. Ashli Babbit, May GOD BE With your Family!!!                                                                                                                                                    \n",
       "Name: text, dtype: object"
      ]
     },
     "execution_count": 35,
     "metadata": {},
     "output_type": "execute_result"
    }
   ],
   "source": [
    "df['text'][df.LDA1_topic ==4][40:70]"
   ]
  },
  {
   "cell_type": "code",
   "execution_count": 38,
   "metadata": {},
   "outputs": [
    {
     "data": {
      "text/plain": [
       "1613    she was a domestic terrorist                                                                                                                                                                                                                                                                                              \n",
       "1620    @RepMattGaetz Matt I live in Navarre. You should bring Ashli Bobbits name up on the floor. A moment of silence for her death at the hands of the Chamber Guards. She was unarmed and was shot in the chest and died a Patriot doing what she thought was her right. https://t.co/DCwSr2jDqV                               \n",
       "1622    @NBCNews Ashli wanted to vote. https://t.co/V00k3FUYEs                                                                                                                                                                                                                                                                    \n",
       "1635    Ashli Babbitt died fighting a battle that wasn't meant to be won for a man who had no will to seize victory. It is excellent that the right has developed the willingness to follow a leader into war. We have failed to develop the ability to identify a worthy leader.                                                 \n",
       "1657    @GmanPS Okay, Ashli Babbit is a domestic terrorist.. sorry WAS a domestic terrorist before she got her cheeks clapped with that led in the neck                                                                                                                                                                           \n",
       "1658    When an unarmed Black man is murdered, the news reports his crimes committed years ago &amp; calls him a monster\\n\\nWhen a white woman breaks into a fed building protected by secret services &amp; gets shot after numerous warnings, they call her “a great patriot.” \\n\\nCan’t make this shit up                      \n",
       "1667    Fox News trying to defend white supremacy Ashli Babbit, a domestic terrorist who stormed into the capital and tried to assault a police officer! She was killed while storming the capital of USA. Another enemy of the people killed to defend America! 🇺🇸                                                               \n",
       "1677    @RubinReport @theblaze @glennbeck @scrowder Will you guys do a charity for the AF Vet Ashli Babbitt please?                                                                                                                                                                                                               \n",
       "1701    I wonder if it was worth her life?  😶                                                                                                                                                                                                                                                                                     \n",
       "1708    Update on the the lady that shot and killed inside the capital. The woman is Ashli Babbit, a 14-year veteran, who served four tours.Her husband says she was a strong supporter of Trump. Do y’all feel bad for her or was it justified? 🤷‍♂️                                                                             \n",
       "1722    @22_Stocks @The_Real_Fly This was Ashli's last Twitter Post...Killed today, for her passionate support of our country. https://t.co/4cwXWmx914                                                                                                                                                                            \n",
       "1727    @FPWellman @PaulRieckhoff this is sad. I have said that @FoxNews on bases and post create a bubble for some of not seeing the real world                                                                                                                                                                                  \n",
       "1728    The Q grift is so destructive in so many ways. I don’t know how to end it but the sooner the better. It hurts so many. And the pushers are shameless pieces of shit. They are parasites that should be held accountable for the pain &amp; destruction they’ve caused for profit.                                         \n",
       "1736    Fuckers won't let me like this post so I'll RT instead.                                                                                                                                                                                                                                                                   \n",
       "1760    Ashli Babbit served the USA in the Air Force for 14 years. She deployed 4 times for her country.\\nToday she was MURDERED in COLD BLOOD, at the US Capitol. \\nAnd these FUCKING Republicans &amp; some of their Checkmark mouth pieces, don't give a shit (she deserved it, blames her even. )                             \n",
       "1766    Women who died at DC Capitol insurrection today was San Diego women, Ashli Babbit, a 14-year veteran, who served four tours with the US Air Force, and was a high level security official throughout her time in service. @Arethusa99 @RisePDX @amie_zamudio  https://t.co/jH9FnRbQfV                                     \n",
       "1775    @charliekirk11 @GodLovesUSA1 #KUSINews has confirmed the identity of the woman shot &amp; killed inside US Capitol. https://t.co/cokbwEUmDF \\nAshli Babbit, 14-year veteran, who served four tours with the US Air Force, and was a high level security official throughout her time in service MURDERED AT THE #USCAPITOL\n",
       "1776    The shot that killed her completely stopped the siege into a room where officials are protected by secret service.  They killed her because that was their duty, to defend out country from Terrorists.                                                                                                                   \n",
       "1809    Served her country, loved her country, murdered by bootlickers in cold blood.                                                                                                                                                                                                                                             \n",
       "1830    Praying for the family of Ashli Babbitt. So sad. The secret service did not need to kill her! She did not deserve to die like that. She was a veteran of 14 years who served 4 tours serving our country. She was a true Patriot!  Grace and peace to her family.                                                         \n",
       "1844    Domestic Terrorist #ashlibabbit                                                                                                                                                                                                                                                                                           \n",
       "1852    I mean.. that’s the hill she chose to die on. 🥴😭😭                                                                                                                                                                                                                                                                         \n",
       "1855    Ashli Babbit was a domestic terrorist. That’s all.                                                                                                                                                                                                                                                                        \n",
       "1874    You spelled domestic terrorist incorrectly.  If they were a different colour, many people would have died today.                                                                                                                                                                                                          \n",
       "1889    Ashly Babbit, a domestic terrorist, was put down at the Capitol today.                                                                                                                                                                                                                                                    \n",
       "1954    Where the f*ck is Breonna Taylor’s justice ?\\nDon’t forget she was at her home. https://t.co/SfqskDXORn                                                                                                                                                                                                                   \n",
       "1991    Fake AF fake blood not dead                                                                                                                                                                                                                                                                                               \n",
       "2011    @Cleavon_MD DC Police murdered a veteran in cold blood today, but there won't be any vigils for her like George Floyd. She won't get a plaza dedicated to her. She won't even have her name mentioned on the House floor &amp; given a moment of silence.\\n\\nNever forget what they did to Ashli Babbit!                  \n",
       "2023    Ashli Babbit:  Fought for her country.  Died for an elitist Reality TV host.\\n\\nSorry if that's cold, but it's the truth.                                                                                                                                                                                                 \n",
       "2040    To the left George Floyd was a hero and Ashli Babbit a 14 year veteran that had done 4 tours was a terrorist.                                                                                                                                                                                                             \n",
       "Name: text, dtype: object"
      ]
     },
     "execution_count": 38,
     "metadata": {},
     "output_type": "execute_result"
    }
   ],
   "source": [
    "df['text'][df.LDA1_topic ==5][140:170]"
   ]
  },
  {
   "cell_type": "code",
   "execution_count": 39,
   "metadata": {},
   "outputs": [
    {
     "data": {
      "text/plain": [
       "856     @Mike_Pence And what’s the name of the mother fucker who killed Ashli Babbit. You can’t even say her name. Your a pawn mike. Go home...you’re useless...all you had to do was your job                                                                                     \n",
       "871     Did Donnie Drumpf and his cult members learn “how to coup” from Woody Allen’s Bananas? BIG PLAN: Break into the Capitol in order to...sit in chairs and take selfies?! Worth every bit of Ashli Babbit’s death. Really, no. https://t.co/a7DhcjUu1h                        \n",
       "878     The Death of Ashli Babbitt https://t.co/2VtfpE7OXM                                                                                                                                                                                                                         \n",
       "887     🥺 what did she know?                                                                                                                                                                                                                                                       \n",
       "890     @rn_babs @DeaconBlues0 RIP Ashli Babbit †                                                                                                                                                                                                                                  \n",
       "891     Killed by Capitol police. Say her name: Ashli Babbit.                                                                                                                                                                                                                      \n",
       "908     Tweet by Ashli Bobbett. Not ANTIFA, planned by Trump's milita. https://t.co/CGmdBOSLop                                                                                                                                                                                     \n",
       "912     Ashli probably getting laughed at by the demons when they find out how she got there                                                                                                                                                                                       \n",
       "913     Who shot her? Where is the FBI and capital police? The FBI solved a bombing case in GA in hours-right?                                                                                                                                                                     \n",
       "921     WHO shot her?\\nCongress owes we the American people an answer.\\nIf it was law enforcement,\\nSAY SO.\\nThe personal identity of the shooter doesn’t have to be revealed right now.\\nBut we deserve to know if it was LE, a protestor or counter-protestor who did it.        \n",
       "924     Why are you lying ??                                                                                                                                                                                                                                                       \n",
       "925     @CodeMonkeyZ @happy2_p RIP Ashli 💔                                                                                                                                                                                                                                         \n",
       "934     @DavidCornDC Ashli Babbit was ANTIFA?                                                                                                                                                                                                                                      \n",
       "941     WHO MURDERED ASHLI BABBIT                                                                                                                                                                                                                                                  \n",
       "942     @american_mister @ClLubben @RuprectJ @spoooookyyy @RealDealAxelrod You seem stressed here smoke on this new Ashli Babbit strain !                                                                                                                                          \n",
       "945     She is a dead Trump cult follower.  No fvcking martyr here.                                                                                                                                                                                                                \n",
       "946     So you murdered Ashli Babbit?                                                                                                                                                                                                                                              \n",
       "947     oh so now the police need to be held accountable, but when police officers kill black people they’re “heros” or “just doing their job”                                                                                                                                     \n",
       "948     And now she’s going for $50 a eight... tough times                                                                                                                                                                                                                         \n",
       "950     Ashli didn't deserve to die, but y'all like guns. It's just how the bullets sprayed. I do funerals.                                                                                                                                                                        \n",
       "965     We need to honor her and remember her love for the MAGA movement.\\nI want to know who killed her.                                                                                                                                                                          \n",
       "973     Divider \\nAshli Babbit died in the #CapitolRiot desecrating the People’s House \\n\\nIt’s terrible to waste a life for the #WorstPresidentInUSHistory! \\n\\nhttps://t.co/kX0NBV47t9                                                                                           \n",
       "981     @JackPosobiec Did you know Ashli’s second to last tweet was retweeting you?                                                                                                                                                                                                \n",
       "991     Ashli Babbit fucked around and found out. trumpers should take note                                                                                                                                                                                                        \n",
       "993     @WeTheInevitable RIP ASHLI https://t.co/LJjshuvuxn                                                                                                                                                                                                                         \n",
       "994     @HughMint Vicki Weaver was an unfortunate victim who was murdered. Ashli Babbit broke the law and tried to enter restricted space. Don't stain Vicki Weaver's memory. I don't condone her death, but this is completely different.                                         \n",
       "1008    Say here name: Ashli Babbit, the Air Force vet murdered with a head shot by a White House security officer. If it was a BLM protester, Antifa, or a racist crackhead woman beater who couldn't breathe DC would be on fire tonight #JusticeForAshli https://t.co/EbQgRd2de4\n",
       "1010    @SenatorCollins You should go to Ashli’s funeral.                                                                                                                                                                                                                          \n",
       "1017    @vicksiern @catherinevandeh I say no. Antifita are thugs that went after innocent people. Republicans went to the source of the problem. To me, Ashli Babbit lived and died as an American Hero.                                                                           \n",
       "1023    If you want to get into the sick and deranged mind of a Leftist, read the comments in this Tweet which was written yesterday, by the recently murdered, Ashli Babbit.                                                                                                      \n",
       "Name: text, dtype: object"
      ]
     },
     "execution_count": 39,
     "metadata": {},
     "output_type": "execute_result"
    }
   ],
   "source": [
    "df['text'][df.LDA1_topic ==6][140:170]"
   ]
  },
  {
   "cell_type": "code",
   "execution_count": 40,
   "metadata": {},
   "outputs": [
    {
     "data": {
      "text/plain": [
       "7129    RIP bozo                                                                                                                                                                                                                                                \n",
       "7178    #SayHerName\\nAshli - RIP #Patriot                                                                                                                                                                                                                       \n",
       "7219    Her name was Ashli Babbit\\n\\n#SayHerName                                                                                                                                                                                                                \n",
       "7351    Ashli Babbit will NOT be forgotten.                                                                                                                                                                                                                     \n",
       "7384    Her name was Ashli Babbit. #SayHerName                                                                                                                                                                                                                  \n",
       "7397    Think Kent State                                                                                                                                                                                                                                        \n",
       "7420    That is one of the major disadvantages of being a patriot                                                                                                                                                                                               \n",
       "7458    Rest in piss! https://t.co/UcQq4uL4h1                                                                                                                                                                                                                   \n",
       "7488    @whatgives1313 @WeatheredEyes_G Liberty, Freedom, Truth &amp; Ashli Babbit                                                                                                                                                                              \n",
       "7626    if only she didn't believe the fake accusations 🙄🙄🙄                                                                                                                                                                                                     \n",
       "7724    @CassandraRules Ashli? Ugh. I am going to throw up.                                                                                                                                                                                                     \n",
       "7773    If only the election was transparent.                                                                                                                                                                                                                   \n",
       "7820    @LLinWood @Ashli_Babbitt @VP @Mike_Pence @RodRosenstein This morning, Lin Wood, was her last retweet. \\nWithin  6-7 hours, she was gone.\\nI want to cry\\nRIP sweet Ashli                                                                                \n",
       "7835    @saprinaberkstre @LLinWood @VP @Mike_Pence @RodRosenstein @realDonaldTrump Ashli doesn't have to worry about her future hahahahaahahahahahahahhahah                                                                                                     \n",
       "7877    And Ashli spelled with an \"i\" is a terrorist...                                                                                                                                                                                                         \n",
       "7888    🙏🙏🙏 TO A PATRIOT                                                                                                                                                                                                                                        \n",
       "7909    Yes, we will.                                                                                                                                                                                                                                           \n",
       "7915    Should have never happened 🤬 This all can be traced back to demonrats!                                                                                                                                                                                  \n",
       "8036    @LLinWood @Ashli_Babbitt @VP @Mike_Pence @RodRosenstein Lol imagine dying for this cause..\\n\\nWhat a dumb cvnt Ashli Babbitt was \\n\\n🤣🤣🤣🤣🤷‍♂️                                                                                                           \n",
       "8094    What happened here???!!!\\nhttps://t.co/hP1GvIuVrG                                                                                                                                                                                                       \n",
       "8321    @GeneCorvo @StephenCoda @KingofShirgar Her name was Ashli Babbit.   \\nShe was martyred, killed for her beliefs.\\nShe is the patron saint of clear and free elections.\\nHer name was Ashli Babbit.                                                       \n",
       "8345    @craiggers6 @kassnutter @LibertarianBlue @DarrenJBeattie Her name was Ashli Babbit.   \\nShe was martyred, killed for her beliefs.\\nShe is the patron saint of clear and free elections.\\nHer name was Ashli Babbit.                                     \n",
       "8351    @Cir_Supreme Her name was Ashli Babbit.   \\nShe was martyred, killed for her beliefs.\\nShe is the patron saint of clear and free elections.\\nHer name was Ashli Babbit.                                                                                 \n",
       "8366    @Gaming4ever970 @JagerLizard @Covid_Drumpf Her name was Ashli Babbit.   \\nShe was martyred, killed for her beliefs.\\nShe is the patron saint of clear and free elections.\\nHer name was Ashli Babbit.                                                   \n",
       "8414    @contactkennesco @Covid_Drumpf Her name was Ashli Babbit.   \\nShe was martyred, killed for her beliefs.\\nShe is the patron saint of clear and free elections.\\nHer name was Ashli Babbit.                                                               \n",
       "8509    @RomeroClaresse @Covid_Drumpf Her name was Ashli Babbit.   \\nShe was martyred, killed for her beliefs.\\nShe is the patron saint of clear and free elections.\\nHer name was Ashli Babbit.                                                                \n",
       "8520    @Gaming4ever970 @JagerLizard @Covid_Drumpf Her name was Ashli Babbit.   \\nShe was martyred, killed for her beliefs.\\nShe is the patron saint of clear and free elections.\\nHer name was Ashli Babbit.                                                   \n",
       "8527    @craiggers6 @kassnutter @LibertarianBlue @DarrenJBeattie Her name was Ashli Babbit.   \\nShe was martyred, killed for her beliefs.\\nShe is the patron saint of clear and free elections.\\nHer name was Ashli Babbit.                                     \n",
       "8578    Yes Ma'am                                                                                                                                                                                                                                               \n",
       "8685    @RomeroClaresse @Covid_Drumpf Have something real to say and you'll get a better response.\\n\\nHer name was Ashli Babbit.   \\nShe was martyred, killed for her beliefs.\\nShe is the patron saint of clear and free elections.\\nHer name was Ashli Babbit.\n",
       "Name: text, dtype: object"
      ]
     },
     "execution_count": 40,
     "metadata": {},
     "output_type": "execute_result"
    }
   ],
   "source": [
    "df['text'][df.LDA1_topic ==7][140:170]"
   ]
  },
  {
   "cell_type": "code",
   "execution_count": 41,
   "metadata": {},
   "outputs": [
    {
     "data": {
      "text/plain": [
       "3316    @SecretSunBlog The woman killed by police is Ashli Babbitt.\\nAshli comes from Ashley, which means ash tree meadow.\\nAsherah was the consort of Ba al.\\nShe had a sacred tree pole.\\nBabbitt is a form of Robert (splendor, fame) and perhaps Middle English form of 'baby.'\\nAsh tree baby sacrificed.\n",
       "3325    @RealWayneRoot Ashli Babbitt is our modern day Crispus Attucks May her memory forever be a blessing. She was a true patriot.                                                                                                                                                                          \n",
       "3347    Ashli Babbit identified as Air Force vet killed at Capitol https://t.co/5YcwLdVOFU                                                                                                                                                                                                                    \n",
       "3365    Ashli Babbit identified as woman killed at DC protest in Capitol https://t.co/R3l7nLGiAE                                                                                                                                                                                                              \n",
       "3371    the double standards, fuck you.                                                                                                                                                                                                                                                                       \n",
       "3381    Shoulda watched closer                                                                                                                                                                                                                                                                                \n",
       "3403    @MarkDice Ashli Babbitt = Crispus Attucks???                                                                                                                                                                                                                                                          \n",
       "3407    @jemelehill @GirlJustice_ The woman killed was one of the terrorists. Ashli Babbitt                                                                                                                                                                                                                   \n",
       "3433    BREAKING: Ashli Babbit identified as Air Force vet killed at Capitol https://t.co/sH9NFD7XYk                                                                                                                                                                                                          \n",
       "3451    @DeadKennedys Neither will we you f ing weak scum bag.                                                                                                                                                                                                                                                \n",
       "3475    So many dumbass Republicans trying to make Roberta Paulson trend that’s a fucking Fight Club reference her name was Ashli or some shit my brain is melting simulation level 10000                                                                                                                     \n",
       "3480    @jemelehill The woman killed was one of the terrorists. Ashli Babbitt. Fuck her.                                                                                                                                                                                                                      \n",
       "3481    Went from ashli to ashes 🙏🏽                                                                                                                                                                                                                                                                           \n",
       "3521    the killed protester at the Capitol.                                                                                                                                                                                                                                                                  \n",
       "3528    So pointless. QAnon Ashli Babbitt, protester killed at Capitol, was Air Force vet from California https://t.co/wc7m4xJs1u via @nypost                                                                                                                                                                 \n",
       "3560    Poor ash 😂                                                                                                                                                                                                                                                                                            \n",
       "3590    Woman killed in Capitol riot shooting identified as US Air Force veteran, reports say https://t.co/KrH5tafLOZ #Capitol \\n#AshliBabbit                                                                                                                                                                 \n",
       "3601    Her poor family.  Sounds a trifle like PTSD to me.\\nAshli Babbit identified as woman killed at DC protest in Capitol https://t.co/VKegNafZrD                                                                                                                                                          \n",
       "3612    Ashli Babbitt, protester killed at Capitol, was Air Force vet from California https://t.co/DCq21HJ389 via @nypost                                                                                                                                                                                     \n",
       "3617    So where that one nigga get “Roberta Paulson” from??? Was he just goin off vibes???                                                                                                                                                                                                                   \n",
       "3619    Ashli Babbit, protester killed at Capitol, was Air Force vet from California #SmartNews  https://t.co/nf6wV4YUyx                                                                                                                                                                                      \n",
       "3625    @SecretSunBlog Q shaman, as others pointed out, is from Phoenix.\\nPhoenix = death and resurrection from its own ashes.\\nAshes = Ashli (Ashley) Babbitt.                                                                                                                                               \n",
       "3663    @andyharnik @jaketapper IS CNN capable of Finding Out who shot and Killed this Girl? Or should I ask another news organization\\nAshli Babbitt, protester killed at Capitol, was Air Force vet from California https://t.co/LRAq9S4wp1 via @nypost                                                     \n",
       "3768    @ZoeannMurphy @jaketapper @wleaming IS CNN capable of Finding Out who shot and Killed this Girl? Or should I ask another news organization\\nAshli Babbitt, protester killed at Capitol, was Air Force vet from California https://t.co/LRAq9S4wp1 via @nypost                                         \n",
       "3777    I WRONGLY ASSUMED THAT THE PERSON KILLED WAS AN INNOCENT BYSTANDER. TRUMP WASN’T WORTH DYING FOR, ASHLI. Sad outcome. Ashli Babbitt, protester killed at Capitol, was Air Force vet from California https://t.co/8WL6ziaFbO via @nypost                                                               \n",
       "3835    fuck no.                                                                                                                                                                                                                                                                                              \n",
       "3851    Ashli Babbitt, protester killed at Capitol, was Air Force vet from California https://t.co/exCj6rucPp via @nypost                                                                                                                                                                                     \n",
       "3869    An embarrassment to the Air Force that my mom and dad served in.                                                                                                                                                                                                                                      \n",
       "3897    @OANN The blood of the protester female Air Force 14 years in service Ashli Babbit killed in the Capitol on January 6 is on the dammed Dems and the Swamp Monster we must never forget. Her children must be cared for until grown up in all her compatriots’ love. \\nhttps://t.co/8lkDm5KH3F         \n",
       "3907    \"new Opp Pac in the air this Gas or what?\"                                                                                                                                                                                                                                                            \n",
       "Name: text, dtype: object"
      ]
     },
     "execution_count": 41,
     "metadata": {},
     "output_type": "execute_result"
    }
   ],
   "source": [
    "df['text'][df.LDA1_topic ==8][140:170]"
   ]
  },
  {
   "cell_type": "code",
   "execution_count": null,
   "metadata": {},
   "outputs": [],
   "source": [
    "#rich /poor"
   ]
  }
 ],
 "metadata": {
  "kernelspec": {
   "display_name": "Python 3",
   "language": "python",
   "name": "python3"
  },
  "language_info": {
   "codemirror_mode": {
    "name": "ipython",
    "version": 3
   },
   "file_extension": ".py",
   "mimetype": "text/x-python",
   "name": "python",
   "nbconvert_exporter": "python",
   "pygments_lexer": "ipython3",
   "version": "3.7.7"
  }
 },
 "nbformat": 4,
 "nbformat_minor": 4
}
