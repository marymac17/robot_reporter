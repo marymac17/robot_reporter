{
 "cells": [
  {
   "cell_type": "markdown",
   "metadata": {},
   "source": [
    "# Topic modeling of Tweets w/ keyword \"ashli\" on Jan. 6"
   ]
  },
  {
   "cell_type": "markdown",
   "metadata": {},
   "source": [
    "## Part 1: Data import and cleaning"
   ]
  },
  {
   "cell_type": "code",
   "execution_count": 2,
   "metadata": {},
   "outputs": [],
   "source": [
    "# import initial libraries \n",
    "import pandas as pd\n",
    "import numpy as np"
   ]
  },
  {
   "cell_type": "code",
   "execution_count": 3,
   "metadata": {},
   "outputs": [],
   "source": [
    "# import Twitter data, which has been converted from json to csv \n",
    "df = pd.read_csv(\"data/ashli.csv\")"
   ]
  },
  {
   "cell_type": "code",
   "execution_count": 4,
   "metadata": {},
   "outputs": [
    {
     "name": "stdout",
     "output_type": "stream",
     "text": [
      "<class 'pandas.core.frame.DataFrame'>\n",
      "RangeIndex: 42996 entries, 0 to 42995\n",
      "Data columns (total 37 columns):\n",
      " #   Column                        Non-Null Count  Dtype  \n",
      "---  ------                        --------------  -----  \n",
      " 0   id                            42996 non-null  int64  \n",
      " 1   tweet_url                     42996 non-null  object \n",
      " 2   created_at                    42996 non-null  object \n",
      " 3   parsed_created_at             42996 non-null  object \n",
      " 4   user_screen_name              42996 non-null  object \n",
      " 5   text                          42996 non-null  object \n",
      " 6   tweet_type                    42996 non-null  object \n",
      " 7   coordinates                   0 non-null      float64\n",
      " 8   hashtags                      1926 non-null   object \n",
      " 9   media                         2423 non-null   object \n",
      " 10  urls                          6191 non-null   object \n",
      " 11  favorite_count                42996 non-null  int64  \n",
      " 12  in_reply_to_screen_name       3216 non-null   object \n",
      " 13  in_reply_to_status_id         3044 non-null   float64\n",
      " 14  in_reply_to_user_id           3216 non-null   float64\n",
      " 15  lang                          42996 non-null  object \n",
      " 16  place                         192 non-null    object \n",
      " 17  possibly_sensitive            6487 non-null   object \n",
      " 18  retweet_count                 42996 non-null  int64  \n",
      " 19  retweet_or_quote_id           38608 non-null  float64\n",
      " 20  retweet_or_quote_screen_name  38608 non-null  object \n",
      " 21  retweet_or_quote_user_id      38608 non-null  float64\n",
      " 22  source                        42981 non-null  object \n",
      " 23  user_id                       42996 non-null  int64  \n",
      " 24  user_created_at               42996 non-null  object \n",
      " 25  user_default_profile_image    42996 non-null  bool   \n",
      " 26  user_description              35357 non-null  object \n",
      " 27  user_favourites_count         42996 non-null  int64  \n",
      " 28  user_followers_count          42996 non-null  int64  \n",
      " 29  user_friends_count            42996 non-null  int64  \n",
      " 30  user_listed_count             42996 non-null  int64  \n",
      " 31  user_location                 25822 non-null  object \n",
      " 32  user_name                     42995 non-null  object \n",
      " 33  user_statuses_count           42996 non-null  int64  \n",
      " 34  user_time_zone                0 non-null      float64\n",
      " 35  user_urls                     0 non-null      float64\n",
      " 36  user_verified                 42996 non-null  bool   \n",
      "dtypes: bool(2), float64(7), int64(9), object(19)\n",
      "memory usage: 11.6+ MB\n"
     ]
    }
   ],
   "source": [
    "# basic info about data\n",
    "df.info()"
   ]
  },
  {
   "cell_type": "code",
   "execution_count": 5,
   "metadata": {},
   "outputs": [
    {
     "name": "stdout",
     "output_type": "stream",
     "text": [
      "35 ['en' 'th' 'tl' 'und' 'pt' 'es' 'lt' 'it' 'fr' 'ja' 'de' 'ht' 'zh' 'in'\n",
      " 'el' 'ca' 'is' 'pl' 'nl' 'ko' 'fa' 'hu' 'ar' 'cy' 'cs' 'et' 'no' 'tr'\n",
      " 'lv' 'sv' 'ro' 'sl' 'eu' 'fi' 'da']\n"
     ]
    }
   ],
   "source": [
    "# count number of different languages in data set\n",
    "count_lang = df['lang'].unique()\n",
    "print(len(count_lang), count_lang)"
   ]
  },
  {
   "cell_type": "code",
   "execution_count": 6,
   "metadata": {},
   "outputs": [
    {
     "data": {
      "text/plain": [
       "(38884, 37)"
      ]
     },
     "execution_count": 6,
     "metadata": {},
     "output_type": "execute_result"
    }
   ],
   "source": [
    "# tweets are in 35 different languages. \n",
    "# I'll be working only with tweets in English\n",
    "# so, I'll drop tweets in all other languages\n",
    "df = df[df.lang == 'en']\n",
    "df.shape"
   ]
  },
  {
   "cell_type": "code",
   "execution_count": 7,
   "metadata": {},
   "outputs": [],
   "source": [
    "# drop unnecessary columns \n",
    "df = df.drop(['tweet_url', 'created_at', 'media', 'urls','in_reply_to_screen_name',\n",
    "       'in_reply_to_status_id', 'in_reply_to_user_id', 'retweet_or_quote_id',\n",
    "       'retweet_or_quote_screen_name', 'retweet_or_quote_user_id', 'source',\n",
    "       'user_created_at', 'user_name', 'user_verified', 'user_friends_count', 'user_listed_count',\n",
    "       'user_statuses_count', 'user_default_profile_image', 'user_description',\n",
    "       'user_favourites_count', 'user_followers_count', 'coordinates', 'lang', 'user_location', 'user_time_zone', 'user_urls', 'place'], axis=1)"
   ]
  },
  {
   "cell_type": "markdown",
   "metadata": {},
   "source": [
    "## Part 2: Process Tweet text for NLP analysis... "
   ]
  },
  {
   "cell_type": "code",
   "execution_count": 8,
   "metadata": {},
   "outputs": [],
   "source": [
    "text = df['text'] "
   ]
  },
  {
   "cell_type": "code",
   "execution_count": 9,
   "metadata": {},
   "outputs": [],
   "source": [
    "# tokenize, remove stopwords, remove urls, lowercase, remove punctuation, remove numbers\n",
    "\n",
    "import string\n",
    "import re\n",
    "\n",
    "import nltk\n",
    "from nltk.corpus import stopwords\n",
    "from nltk.tokenize import TweetTokenizer\n",
    "from nltk import pos_tag\n",
    "\n",
    "stop = stopwords.words('english')\n",
    "\n",
    "punc = list(set(string.punctuation))\n",
    "\n",
    "def tokenizer(text):\n",
    "    tokenizer = TweetTokenizer()\n",
    "    tokens = tokenizer.tokenize(text)\n",
    "    return tokens\n",
    "\n",
    "def remove_url(text):\n",
    "    url = re.compile(r\"https?://\\S+|www\\.\\S+\")\n",
    "    return url.sub(r'', text)\n",
    "\n",
    "def process_text(text):\n",
    "    text = remove_url(text)\n",
    "    text = tokenizer(text)\n",
    "    text = [word.lower() for word in text]\n",
    "    text = [re.sub('[0-9]+', '', word) for word in text]\n",
    "    text = [word for word in text if word not in punc]\n",
    "    text = [word for word in text if word not in stop]\n",
    "    text = [each for each in text if len(each) > 1]\n",
    "    text = [word for word in text if ' ' not in word]\n",
    "     \n",
    "    return text"
   ]
  },
  {
   "cell_type": "code",
   "execution_count": 10,
   "metadata": {},
   "outputs": [],
   "source": [
    "df['processed_text'] = df['text'].apply(process_text)"
   ]
  },
  {
   "cell_type": "code",
   "execution_count": 11,
   "metadata": {},
   "outputs": [
    {
     "name": "stderr",
     "output_type": "stream",
     "text": [
      "/opt/anaconda3/lib/python3.7/site-packages/ipykernel_launcher.py:1: FutureWarning: Passing a negative integer is deprecated in version 1.0 and will not be supported in future version. Instead, use None to not limit the column width.\n",
      "  \"\"\"Entry point for launching an IPython kernel.\n"
     ]
    },
    {
     "data": {
      "text/plain": [
       "0     [name, ashli, babbit]                                                                                                                                                                                                             \n",
       "1     [police, officer, shot, killed, ashli, babbitt]                                                                                                                                                                                   \n",
       "2     [name, ashli, babbit, year, veteran, served, four, tours, us, air, force, high, level, security, official, throughout, time, service]                                                                                             \n",
       "3     [@the_real_fly, believe, young, lady, ashli, babbit]                                                                                                                                                                              \n",
       "4     [living, history, right, beginning, american, revolution]                                                                                                                                                                         \n",
       "5     [police, officer, shot, killed, ashli, babbitt]                                                                                                                                                                                   \n",
       "6     [garrison, critical, thread, insurgent, killed, today, storming, capitol]                                                                                                                                                         \n",
       "7     [ashli, babbit, rednèck, ass, family, friends, online, trying, paint, like, oluwatoyin, salau, fuck, outta]                                                                                                                       \n",
       "8     [ashli, babbit, going, remembered, terrorist, martyr]                                                                                                                                                                             \n",
       "9     [ashli, babbit, stormed, capitol, tried, breach, window, speaker, lobby, killed, peacefully, protest, outside, invading, federal, building, terrorism]                                                                            \n",
       "10    [lin, wood, responsible, death, ashli, babbitt, alone]                                                                                                                                                                            \n",
       "12    [dc, police, murdered, veteran, cold, blood, today, vigils, like, george, floyd, get, plaza, dedicated, even, name, mentioned, house, floor, given, moment, silence, never, forget, ashli, babbit]                                \n",
       "13    [people, celebrating, death, ashli, babbit, twitter, think, think, transpired, summer]                                                                                                                                            \n",
       "14    [police, officer, shot, killed, ashli, babbitt]                                                                                                                                                                                   \n",
       "15    [police, officer, shot, killed, ashli, babbitt]                                                                                                                                                                                   \n",
       "16    [dc, police, murdered, veteran, cold, blood, today, vigils, like, george, floyd, get, plaza, dedicated, even, name, mentioned, house, floor, given, moment, silence, never, forget, ashli, babbit]                                \n",
       "17    [ashli, babbit, truly, defended, constitution, united, states, enemies, foreign, domestic, happened, today, senseless, rest, peace, beautiful, patriot]                                                                           \n",
       "18    [unarmed, woman, shot, dead, capitol, protest, identified, year, air, force, veteran, ashli, babbit, martyr, ashli, babbit, year, veteran, served, four, tours, us, air, force, high, level, security, official, throughout, time]\n",
       "19    [killed, air, force, veteran, ashli, babbit, congress, today, want, know, america, must, told]                                                                                                                                    \n",
       "20    [terrorist, name, ashli, babbit, year, veteran, killed, committing, treason, fixed]                                                                                                                                               \n",
       "Name: processed_text, dtype: object"
      ]
     },
     "execution_count": 11,
     "metadata": {},
     "output_type": "execute_result"
    }
   ],
   "source": [
    "pd.set_option('display.max_colwidth', -1)\n",
    "df['processed_text'][:20]"
   ]
  },
  {
   "cell_type": "code",
   "execution_count": 12,
   "metadata": {},
   "outputs": [],
   "source": [
    "ready_for_pos = df['processed_text']"
   ]
  },
  {
   "cell_type": "code",
   "execution_count": 13,
   "metadata": {},
   "outputs": [],
   "source": [
    "# part-of-speech tagging \n",
    "def pos_tagging(text):\n",
    "    pos_tag = [pos_tag(word) for word in ready_for_pos]\n",
    "\n",
    "df['pos_tagged'] = df.processed_text.apply(lambda x: pos_tag(x))"
   ]
  },
  {
   "cell_type": "code",
   "execution_count": 14,
   "metadata": {},
   "outputs": [],
   "source": [
    "pos_tagged = df['pos_tagged']"
   ]
  },
  {
   "cell_type": "code",
   "execution_count": 15,
   "metadata": {},
   "outputs": [],
   "source": [
    "# lemmatizing\n",
    "\n",
    "from nltk.stem import WordNetLemmatizer \n",
    "wordnet = WordNetLemmatizer() \n",
    "\n",
    "lemmatized = [[wordnet.lemmatize(word[0]) for word in words] for words in pos_tagged]"
   ]
  },
  {
   "cell_type": "code",
   "execution_count": 16,
   "metadata": {},
   "outputs": [],
   "source": [
    "df['lemmatized'] = lemmatized"
   ]
  },
  {
   "cell_type": "code",
   "execution_count": 17,
   "metadata": {},
   "outputs": [],
   "source": [
    "df['final_docs'] = df['lemmatized'].apply(lambda x: \" \".join(x))"
   ]
  },
  {
   "cell_type": "code",
   "execution_count": 18,
   "metadata": {},
   "outputs": [
    {
     "data": {
      "text/plain": [
       "33259    see please retweet share keep prayer follow @melissa update                                                                                                                   \n",
       "33260    @simplethings_d @chickensith protest defense criminal ashli babbit criminal record storming capitol building involve destruction small business result large scale damage like\n",
       "33261    name ashli babbitt name ashli babbitt name ashli babbitt say name                                                                                                             \n",
       "33262    woman shot killed peaceful protest air force veteran ashli babbit                                                                                                             \n",
       "33263    dc police murdered veteran cold blood today vigil like george floyd get plaza dedicated even name mentioned house floor given moment silence never forget ashli babbit        \n",
       "33264    @mike_pence oh really kept everyone safe tell ashli bobbitt family sure would concur observation condolence family                                                            \n",
       "33265    name ashli babbit                                                                                                                                                             \n",
       "33266    cant stop cry ... already miss ashli know daughter-in-law wonderful kind person serious military woman strong smart kind see please retweet share keep u prayer follow update \n",
       "33267    rip ashli babbit remember sister arm please pray family nation word                                                                                                           \n",
       "33268    cant stop cry ... already miss ashli know daughter-in-law wonderful kind person serious military woman strong smart kind see please retweet share keep u prayer follow update \n",
       "33269    cant stop cry ... already miss ashli know daughter-in-law wonderful kind person serious military woman strong smart kind see please retweet share keep u prayer follow update \n",
       "33270    woman shot killed capitol former police officer ashli babbitt woman shot killed police whilst breaking capitol also air force vet well former police                          \n",
       "33271    cant stop cry ... already miss ashli know daughter-in-law wonderful kind person serious military woman strong smart kind see please retweet share keep u prayer follow update \n",
       "33273    cant stop cry ... already miss ashli know daughter-in-law wonderful kind person serious military woman strong smart kind see please retweet share keep u prayer follow update \n",
       "33274    ashli babbit's blood lie mitch mcconnell                                                                                                                                      \n",
       "33275    cant stop cry ... already miss ashli know daughter-in-law wonderful kind person serious military woman strong smart kind see please retweet share keep u prayer follow update \n",
       "33276    ashli babbitt protester killed capitol air force vet california via @nypost                                                                                                   \n",
       "33278    job ... literally stormed white house think dangerous crazy think law apply action consequence                                                                                \n",
       "33279    get bottom                                                                                                                                                                    \n",
       "33280    ashli babbit truly defended constitution united state enemy foreign domestic happened today senseless rest peace beautiful patriot                                            \n",
       "Name: final_docs, dtype: object"
      ]
     },
     "execution_count": 18,
     "metadata": {},
     "output_type": "execute_result"
    }
   ],
   "source": [
    "df['final_docs'][30000:30020]"
   ]
  },
  {
   "cell_type": "code",
   "execution_count": 19,
   "metadata": {},
   "outputs": [],
   "source": [
    "final_docs = df['final_docs']"
   ]
  },
  {
   "cell_type": "markdown",
   "metadata": {},
   "source": [
    "## Part 3: Modeling..."
   ]
  },
  {
   "cell_type": "code",
   "execution_count": 20,
   "metadata": {},
   "outputs": [],
   "source": [
    "#create document term matrix with TFIDF\n",
    "\n",
    "from sklearn.feature_extraction.text import TfidfVectorizer\n",
    "# initial tuning of parameters\n",
    "#set max_features to 2000 (specifies the number of most frequently occurring words for which we want to create feature vectors)\n",
    "# set min_df to 5 (word must occur in at least 5 documents)\n",
    "# set max_df to 0.85 (word must not occur in more than 85 percent of the documents) \n",
    "\n",
    "tfidfconverter = TfidfVectorizer(max_features=2000, min_df=5, max_df=0.85, ngram_range=(1, 2), stop_words='english')  \n",
    "doc_term_matrix_1 = tfidfconverter.fit_transform(df['final_docs'].values.astype('U'))"
   ]
  },
  {
   "cell_type": "code",
   "execution_count": 21,
   "metadata": {},
   "outputs": [
    {
     "data": {
      "text/plain": [
       "(38884, 2000)"
      ]
     },
     "execution_count": 21,
     "metadata": {},
     "output_type": "execute_result"
    }
   ],
   "source": [
    "doc_term_matrix_1.shape"
   ]
  },
  {
   "cell_type": "code",
   "execution_count": 22,
   "metadata": {},
   "outputs": [],
   "source": [
    "from sklearn.decomposition import NMF\n",
    "\n",
    "nmf_model = NMF(n_components=10)\n",
    "nmf_Z = nmf_model.fit_transform(doc_term_matrix_1)\n",
    "\n"
   ]
  },
  {
   "cell_type": "code",
   "execution_count": 23,
   "metadata": {},
   "outputs": [],
   "source": [
    "from sklearn.decomposition import TruncatedSVD\n",
    "\n",
    "lsi_model = TruncatedSVD(n_components=10)\n",
    "lsi_Z = lsi_model.fit_transform(doc_term_matrix_1)\n"
   ]
  },
  {
   "cell_type": "code",
   "execution_count": 24,
   "metadata": {},
   "outputs": [],
   "source": [
    "from sklearn.decomposition import LatentDirichletAllocation\n",
    "#  LDA model \n",
    "lda_model = LatentDirichletAllocation(n_components = 10, max_iter=10, learning_method='online')\n",
    "lda_Z = lda_model.fit_transform(doc_term_matrix_1)"
   ]
  },
  {
   "cell_type": "code",
   "execution_count": 25,
   "metadata": {},
   "outputs": [
    {
     "name": "stdout",
     "output_type": "stream",
     "text": [
      "LDA Model:\n",
      "Topic 0:\n",
      "[('prayer', 682.116563078855), ('follow', 633.5425875154655), ('daughter law', 627.0622566511838), ('share prayer', 626.1560932248085), ('retweet share', 626.1560932247144), ('wonderful', 626.0854285133433), ('know daughter', 625.9949365299208), ('prayer follow', 625.9642820560556), ('woman strong', 625.9089298500515), ('stop miss', 625.8422552225545)]\n",
      "Topic 1:\n",
      "[('rip ashli', 652.8575535278704), ('rip', 637.2621657537067), ('today', 402.3536645080285), ('want', 374.579433339226), ('force veteran', 361.42247646859994), ('told', 336.1708021050973), ('want know', 323.71572544367785), ('america', 323.34501687140573), ('killed air', 318.62070546581293), ('congress today', 317.56876939634407)]\n",
      "Topic 2:\n",
      "[('kind', 1254.8535018470361), ('law', 654.4445467868667), ('stop', 645.2098255312441), ('smart', 626.8727085507037), ('person', 622.0053448281112), ('know', 587.3684158211906), ('say', 287.7567359544381), ('ashli', 248.52894163498917), ('life', 235.41395177988218), ('mattered', 226.05882357808977)]\n",
      "Topic 3:\n",
      "[('retweet', 642.5131193431506), ('miss', 632.0159906835262), ('federal', 194.88392134232618), ('building', 171.62910532480933), ('federal building', 166.00234948180247), ('window', 152.19500088924352), ('terrorism', 141.67375542398696), ('tried', 139.34076014491083), ('breach', 137.23018742075504), ('invading', 134.13208320182324)]\n",
      "Topic 4:\n",
      "[('peace', 228.57360835274403), ('rest', 224.1198520988429), ('rest peace', 208.1734714424343), ('happened', 135.8793138819471), ('tweet', 134.14044461826435), ('sorry', 122.32706414473654), ('beautiful', 120.19246137723057), ('patriot', 113.05310113111761), ('ashlibabbitt', 112.07613831385382), ('state', 109.05119187087429)]\n",
      "Topic 5:\n",
      "[('george', 370.1037915905919), ('floyd', 370.03232028231884), ('george floyd', 366.3989489171203), ('forget', 328.50731906917355), ('cold', 325.93295079056713), ('cold blood', 323.1785076750224), ('like george', 321.7709214396879), ('forget ashli', 320.2696557900862), ('like', 320.25024646807316), ('vigil', 319.5539827667296)]\n",
      "Topic 6:\n",
      "[('strong', 640.6074799121807), ('daughter', 631.3071058144869), ('update', 630.733472785629), ('military', 621.3318728842671), ('force', 290.5033765325321), ('air', 274.7414378326557), ('air force', 272.59162151601333), ('year', 264.57702462884976), ('capitol', 257.9562145347028), ('veteran', 247.76522366585374)]\n",
      "Topic 7:\n",
      "[('babbitt', 658.1533726695255), ('ashli babbitt', 656.7586351977598), ('officer', 588.3076463553795), ('killed ashli', 586.5536319329482), ('police officer', 564.2933333454403), ('officer shot', 526.5891179398232), ('shot', 437.1531233290345), ('police', 436.97619827087857), ('shot killed', 425.56958279552924), ('killed', 411.7747125234045)]\n",
      "Topic 8:\n",
      "[('share', 630.4558858224002), ('miss ashli', 628.013594114677), ('ashli know', 627.847489163411), ('terrorist', 240.2842119696061), ('fuck', 228.49119518834942), ('got', 219.4471184001477), ('ashli', 202.4896219671468), ('got shot', 177.9158234205036), ('babbit', 173.53868659512787), ('ashli babbit', 172.64945846636078)]\n",
      "Topic 9:\n",
      "[('ashli babbit', 1766.9078715001156), ('babbit', 1763.798970628277), ('ashli', 1378.8337646047903), ('country', 417.1175896903544), ('right', 272.859142124645), ('served country', 267.19482849238454), ('served', 231.21453202484395), ('amendment', 197.94184975813567), ('word', 178.32525225773225), ('died', 176.40626932606006)]\n",
      "====================\n",
      "NMF Model:\n",
      "Topic 0:\n",
      "[('ashli babbit', 5.502491986784844), ('babbit', 5.485698471608715), ('ashli', 4.133940827925046), ('babbit life', 0.2044686552713758), ('mattered', 0.2039288505161989), ('life mattered', 0.20354821995148648), ('life', 0.19916309931568665), ('say', 0.1768834921625322), ('say ashli', 0.13129708889309027), ('terrorist', 0.11959748287175258)]\n",
      "Topic 1:\n",
      "[('kind', 2.304624688304742), ('retweet', 1.1579062582705362), ('miss ashli', 1.1575927275274311), ('retweet share', 1.1575002761415454), ('share prayer', 1.1575002761415454), ('share', 1.1573528220479141), ('smart kind', 1.1573168848168336), ('stop miss', 1.1573168848168336), ('wonderful kind', 1.1573168848168336), ('military woman', 1.1573168848168336)]\n",
      "Topic 2:\n",
      "[('moment silence', 1.0838874229161082), ('silence', 1.0830117856186974), ('floor given', 1.082932878852175), ('vigil like', 1.082932878852175), ('mentioned house', 1.082932878852175), ('floyd plaza', 1.082932878852175), ('plaza dedicated', 1.082932878852175), ('dedicated mentioned', 1.082932878852175), ('given moment', 1.082932878852175), ('today vigil', 1.082932878852175)]\n",
      "Topic 3:\n",
      "[('officer shot', 2.6519980079135057), ('killed ashli', 2.642493936792185), ('police officer', 2.6115604971500357), ('officer', 2.5869782797237395), ('ashli babbitt', 2.2146815319546733), ('babbitt', 2.2134589757665397), ('shot killed', 1.8829597152950122), ('shot', 1.7389477129072601), ('police', 1.7239324937383809), ('killed', 1.5707899848733846)]\n",
      "Topic 4:\n",
      "[('want know', 1.4762635688590984), ('killed air', 1.4743921608611812), ('today want', 1.4727333844711747), ('babbit congress', 1.4718344395507186), ('congress today', 1.471207494035798), ('america told', 1.4697291918653155), ('know america', 1.4697291918653155), ('told', 1.4550230364412569), ('want', 1.4302593404135864), ('america', 1.4201903882960971)]\n",
      "Topic 5:\n",
      "[('today', 1.077808927137782), ('shot', 1.018019305596892), ('wish', 0.8559340268835868), ('got wish', 0.8552830280746047), ('babbitt unarmed', 0.8549276432251736), ('ewerickson', 0.853941996234364), ('service san', 0.8533862708879927), ('veteran year', 0.8529244548242738), ('young woman', 0.8508933744768296), ('police protest', 0.8507148539133093)]\n",
      "Topic 6:\n",
      "[('rip ashli', 3.7462429867885216), ('rip', 3.7052485530873933), ('pray family', 0.7958539005729375), ('sister arm', 0.7947026474956824), ('nation word', 0.7942853602677367), ('sister', 0.7932853226085804), ('family nation', 0.7930465571218748), ('remember sister', 0.7930465571218748), ('arm pray', 0.7930465571218748), ('pray', 0.791507537710028)]\n",
      "Topic 7:\n",
      "[('peaceful protest', 1.8923696865510353), ('killed peaceful', 1.8914624425885933), ('protest air', 1.8914591724085583), ('peaceful', 1.851263702066284), ('woman shot', 1.5979697137173248), ('veteran ashli', 1.4876656617695425), ('air force', 1.4197481956996771), ('air', 1.4182418492103404), ('force', 1.4083287651985659), ('protest', 1.393747883340012)]\n",
      "Topic 8:\n",
      "[('federal building', 0.9727261180497528), ('federal', 0.9574344391540515), ('invading federal', 0.9464887649336252), ('speaker lobby', 0.9445632765797471), ('window speaker', 0.9442065912405432), ('speaker', 0.944205596488968), ('breach window', 0.9438500237097388), ('babbit stormed', 0.9436779478138678), ('tried breach', 0.9436364803528091), ('capitol tried', 0.9431787624071538)]\n",
      "Topic 9:\n",
      "[('served', 1.5583866306322656), ('country', 1.4389013564677544), ('served country', 1.3972961792824643), ('year', 1.097182778210846), ('amendment right', 1.0791477019106257), ('amendment', 1.0760825173300546), ('expressing', 1.0716870733760127), ('country year', 1.0684146950455418), ('expressing amendment', 1.0619494533822242), ('right', 1.0584953305131777)]\n",
      "====================\n",
      "LSI Model:\n",
      "Topic 0:\n",
      "[('ashli babbit', 0.5184606258967505), ('babbit', 0.5170035827686416), ('ashli', 0.42895142875330877), ('killed', 0.10651413173764868), ('veteran', 0.09859325561465372), ('shot', 0.09314310350000081), ('today', 0.08575403339935382), ('shot killed', 0.08284350733720755), ('police', 0.08219016131414861), ('force', 0.08094451927249417)]\n",
      "Topic 1:\n",
      "[('kind', 0.32121679973064765), ('share prayer', 0.1613515921927641), ('retweet share', 0.1613515921927641), ('miss ashli', 0.16134939485934946), ('smart kind', 0.16132575669668436), ('kind person', 0.16132575669668436), ('kind retweet', 0.16132575669668436), ('strong smart', 0.16132575669668436), ('wonderful kind', 0.16132575669668436), ('law wonderful', 0.16132575669668436)]\n",
      "Topic 2:\n",
      "[('moment silence', 0.15839498304730118), ('silence', 0.15825802026944055), ('today vigil', 0.15824819938394388), ('floor given', 0.15824819938394388), ('dedicated mentioned', 0.15824819938394388), ('given moment', 0.15824819938394388), ('floyd plaza', 0.15824819938394388), ('mentioned house', 0.15824819938394388), ('plaza dedicated', 0.15824819938394388), ('vigil like', 0.15824819938394388)]\n",
      "Topic 3:\n",
      "[('shot', 0.2786146638771471), ('shot killed', 0.2643334219880384), ('ashli babbitt', 0.25245971298646175), ('babbitt', 0.25239382188354137), ('killed', 0.2509563497818447), ('officer shot', 0.2470057173722428), ('police officer', 0.24601207574501524), ('killed ashli', 0.24392246965596834), ('officer', 0.24342862442914082), ('police', 0.19803350377629178)]\n",
      "Topic 4:\n",
      "[('force veteran', 0.20906624611004168), ('veteran ashli', 0.20168388295642), ('air force', 0.19500198213213182), ('air', 0.1945241188951524), ('force', 0.19304493074092588), ('want know', 0.1917174327355048), ('killed air', 0.1916338764819796), ('today want', 0.19135744149530926), ('babbit congress', 0.19123666018914873), ('congress today', 0.19114428248857832)]\n",
      "Topic 5:\n",
      "[('woman shot', 0.15712148747515545), ('protest', 0.14554590116222374), ('woman', 0.1316650742143904), ('year', 0.12023418855597325), ('san', 0.11868543060200805), ('san diego', 0.11865946799359778), ('diego', 0.11865946799359778), ('wish', 0.11791841646427476), ('service san', 0.11785724474398492), ('veteran year', 0.11782786579912026)]\n",
      "Topic 6:\n",
      "[('rip ashli', 0.5377155973362916), ('rip', 0.5282851204962886), ('sister arm', 0.11895852104275141), ('nation word', 0.11889591171835996), ('pray family', 0.11878231545484993), ('family nation', 0.11871500268361261), ('arm pray', 0.11871500268361261), ('remember sister', 0.11871500268361261), ('sister', 0.11863936718541311), ('arm', 0.11810687490502951)]\n",
      "Topic 7:\n",
      "[('rip', 0.25936357970732316), ('rip ashli', 0.2504543940495421), ('peaceful protest', 0.2425197450642816), ('killed peaceful', 0.2421928775830483), ('protest air', 0.24218394648009495), ('peaceful', 0.23807936946736463), ('protest', 0.15409844091655242), ('woman shot', 0.15120371854107928), ('veteran ashli', 0.13073715572086222), ('woman', 0.12659973220956405)]\n",
      "Topic 8:\n",
      "[('federal building', 0.18121023046532211), ('federal', 0.17799311667759765), ('invading federal', 0.17649924751988058), ('speaker lobby', 0.1761341492074722), ('window speaker', 0.17608575471855928), ('speaker', 0.17604351081137387), ('breach window', 0.17602362809671487), ('tried breach', 0.17602077580236192), ('babbit stormed', 0.17598589275095014), ('capitol tried', 0.17592374216887827)]\n",
      "Topic 9:\n",
      "[('served', 0.30850640732132195), ('country', 0.2664676213871669), ('served country', 0.2567879546802813), ('year', 0.21372572454536937), ('amendment right', 0.19595243677104612), ('amendment', 0.19568691891918719), ('expressing', 0.1943156465275299), ('country year', 0.19388946266442325), ('right', 0.19299695669318753), ('expressing amendment', 0.19245402457489452)]\n",
      "====================\n"
     ]
    }
   ],
   "source": [
    "def print_topics(model, vectorizer, top_n=10):\n",
    "    for idx, topic in enumerate(model.components_):\n",
    "        print(\"Topic %d:\" % (idx))\n",
    "        print([(vectorizer.get_feature_names()[i], topic[i])\n",
    "                        for i in topic.argsort()[:-top_n - 1:-1]])\n",
    " \n",
    "print(\"LDA Model:\")\n",
    "print_topics(lda_model, tfidfconverter )\n",
    "print(\"=\" * 20)\n",
    " \n",
    "print(\"NMF Model:\")\n",
    "print_topics(nmf_model, tfidfconverter )\n",
    "print(\"=\" * 20)\n",
    " \n",
    "print(\"LSI Model:\")\n",
    "print_topics(lsi_model, tfidfconverter )\n",
    "print(\"=\" * 20)"
   ]
  },
  {
   "cell_type": "code",
   "execution_count": 26,
   "metadata": {},
   "outputs": [],
   "source": [
    "topic_values = nmf_model.transform(doc_term_matrix_1)\n"
   ]
  },
  {
   "cell_type": "code",
   "execution_count": 27,
   "metadata": {},
   "outputs": [],
   "source": [
    "df['NMF_topic'] = topic_values.argmax(axis=1)"
   ]
  },
  {
   "cell_type": "code",
   "execution_count": 28,
   "metadata": {},
   "outputs": [
    {
     "ename": "KeyError",
     "evalue": "\"['nmf_topic'] not found in axis\"",
     "output_type": "error",
     "traceback": [
      "\u001b[0;31m---------------------------------------------------------------------------\u001b[0m",
      "\u001b[0;31mKeyError\u001b[0m                                  Traceback (most recent call last)",
      "\u001b[0;32m<ipython-input-28-9b41afe54f68>\u001b[0m in \u001b[0;36m<module>\u001b[0;34m\u001b[0m\n\u001b[0;32m----> 1\u001b[0;31m \u001b[0mdf\u001b[0m \u001b[0;34m=\u001b[0m \u001b[0mdf\u001b[0m\u001b[0;34m.\u001b[0m\u001b[0mdrop\u001b[0m\u001b[0;34m(\u001b[0m\u001b[0;34m[\u001b[0m\u001b[0;34m'nmf_topic'\u001b[0m\u001b[0;34m]\u001b[0m\u001b[0;34m,\u001b[0m \u001b[0maxis\u001b[0m\u001b[0;34m=\u001b[0m\u001b[0;36m1\u001b[0m\u001b[0;34m)\u001b[0m\u001b[0;34m\u001b[0m\u001b[0;34m\u001b[0m\u001b[0m\n\u001b[0m",
      "\u001b[0;32m/opt/anaconda3/lib/python3.7/site-packages/pandas/core/frame.py\u001b[0m in \u001b[0;36mdrop\u001b[0;34m(self, labels, axis, index, columns, level, inplace, errors)\u001b[0m\n\u001b[1;32m   3995\u001b[0m             \u001b[0mlevel\u001b[0m\u001b[0;34m=\u001b[0m\u001b[0mlevel\u001b[0m\u001b[0;34m,\u001b[0m\u001b[0;34m\u001b[0m\u001b[0;34m\u001b[0m\u001b[0m\n\u001b[1;32m   3996\u001b[0m             \u001b[0minplace\u001b[0m\u001b[0;34m=\u001b[0m\u001b[0minplace\u001b[0m\u001b[0;34m,\u001b[0m\u001b[0;34m\u001b[0m\u001b[0;34m\u001b[0m\u001b[0m\n\u001b[0;32m-> 3997\u001b[0;31m             \u001b[0merrors\u001b[0m\u001b[0;34m=\u001b[0m\u001b[0merrors\u001b[0m\u001b[0;34m,\u001b[0m\u001b[0;34m\u001b[0m\u001b[0;34m\u001b[0m\u001b[0m\n\u001b[0m\u001b[1;32m   3998\u001b[0m         )\n\u001b[1;32m   3999\u001b[0m \u001b[0;34m\u001b[0m\u001b[0m\n",
      "\u001b[0;32m/opt/anaconda3/lib/python3.7/site-packages/pandas/core/generic.py\u001b[0m in \u001b[0;36mdrop\u001b[0;34m(self, labels, axis, index, columns, level, inplace, errors)\u001b[0m\n\u001b[1;32m   3934\u001b[0m         \u001b[0;32mfor\u001b[0m \u001b[0maxis\u001b[0m\u001b[0;34m,\u001b[0m \u001b[0mlabels\u001b[0m \u001b[0;32min\u001b[0m \u001b[0maxes\u001b[0m\u001b[0;34m.\u001b[0m\u001b[0mitems\u001b[0m\u001b[0;34m(\u001b[0m\u001b[0;34m)\u001b[0m\u001b[0;34m:\u001b[0m\u001b[0;34m\u001b[0m\u001b[0;34m\u001b[0m\u001b[0m\n\u001b[1;32m   3935\u001b[0m             \u001b[0;32mif\u001b[0m \u001b[0mlabels\u001b[0m \u001b[0;32mis\u001b[0m \u001b[0;32mnot\u001b[0m \u001b[0;32mNone\u001b[0m\u001b[0;34m:\u001b[0m\u001b[0;34m\u001b[0m\u001b[0;34m\u001b[0m\u001b[0m\n\u001b[0;32m-> 3936\u001b[0;31m                 \u001b[0mobj\u001b[0m \u001b[0;34m=\u001b[0m \u001b[0mobj\u001b[0m\u001b[0;34m.\u001b[0m\u001b[0m_drop_axis\u001b[0m\u001b[0;34m(\u001b[0m\u001b[0mlabels\u001b[0m\u001b[0;34m,\u001b[0m \u001b[0maxis\u001b[0m\u001b[0;34m,\u001b[0m \u001b[0mlevel\u001b[0m\u001b[0;34m=\u001b[0m\u001b[0mlevel\u001b[0m\u001b[0;34m,\u001b[0m \u001b[0merrors\u001b[0m\u001b[0;34m=\u001b[0m\u001b[0merrors\u001b[0m\u001b[0;34m)\u001b[0m\u001b[0;34m\u001b[0m\u001b[0;34m\u001b[0m\u001b[0m\n\u001b[0m\u001b[1;32m   3937\u001b[0m \u001b[0;34m\u001b[0m\u001b[0m\n\u001b[1;32m   3938\u001b[0m         \u001b[0;32mif\u001b[0m \u001b[0minplace\u001b[0m\u001b[0;34m:\u001b[0m\u001b[0;34m\u001b[0m\u001b[0;34m\u001b[0m\u001b[0m\n",
      "\u001b[0;32m/opt/anaconda3/lib/python3.7/site-packages/pandas/core/generic.py\u001b[0m in \u001b[0;36m_drop_axis\u001b[0;34m(self, labels, axis, level, errors)\u001b[0m\n\u001b[1;32m   3968\u001b[0m                 \u001b[0mnew_axis\u001b[0m \u001b[0;34m=\u001b[0m \u001b[0maxis\u001b[0m\u001b[0;34m.\u001b[0m\u001b[0mdrop\u001b[0m\u001b[0;34m(\u001b[0m\u001b[0mlabels\u001b[0m\u001b[0;34m,\u001b[0m \u001b[0mlevel\u001b[0m\u001b[0;34m=\u001b[0m\u001b[0mlevel\u001b[0m\u001b[0;34m,\u001b[0m \u001b[0merrors\u001b[0m\u001b[0;34m=\u001b[0m\u001b[0merrors\u001b[0m\u001b[0;34m)\u001b[0m\u001b[0;34m\u001b[0m\u001b[0;34m\u001b[0m\u001b[0m\n\u001b[1;32m   3969\u001b[0m             \u001b[0;32melse\u001b[0m\u001b[0;34m:\u001b[0m\u001b[0;34m\u001b[0m\u001b[0;34m\u001b[0m\u001b[0m\n\u001b[0;32m-> 3970\u001b[0;31m                 \u001b[0mnew_axis\u001b[0m \u001b[0;34m=\u001b[0m \u001b[0maxis\u001b[0m\u001b[0;34m.\u001b[0m\u001b[0mdrop\u001b[0m\u001b[0;34m(\u001b[0m\u001b[0mlabels\u001b[0m\u001b[0;34m,\u001b[0m \u001b[0merrors\u001b[0m\u001b[0;34m=\u001b[0m\u001b[0merrors\u001b[0m\u001b[0;34m)\u001b[0m\u001b[0;34m\u001b[0m\u001b[0;34m\u001b[0m\u001b[0m\n\u001b[0m\u001b[1;32m   3971\u001b[0m             \u001b[0mresult\u001b[0m \u001b[0;34m=\u001b[0m \u001b[0mself\u001b[0m\u001b[0;34m.\u001b[0m\u001b[0mreindex\u001b[0m\u001b[0;34m(\u001b[0m\u001b[0;34m**\u001b[0m\u001b[0;34m{\u001b[0m\u001b[0maxis_name\u001b[0m\u001b[0;34m:\u001b[0m \u001b[0mnew_axis\u001b[0m\u001b[0;34m}\u001b[0m\u001b[0;34m)\u001b[0m\u001b[0;34m\u001b[0m\u001b[0;34m\u001b[0m\u001b[0m\n\u001b[1;32m   3972\u001b[0m \u001b[0;34m\u001b[0m\u001b[0m\n",
      "\u001b[0;32m/opt/anaconda3/lib/python3.7/site-packages/pandas/core/indexes/base.py\u001b[0m in \u001b[0;36mdrop\u001b[0;34m(self, labels, errors)\u001b[0m\n\u001b[1;32m   5016\u001b[0m         \u001b[0;32mif\u001b[0m \u001b[0mmask\u001b[0m\u001b[0;34m.\u001b[0m\u001b[0many\u001b[0m\u001b[0;34m(\u001b[0m\u001b[0;34m)\u001b[0m\u001b[0;34m:\u001b[0m\u001b[0;34m\u001b[0m\u001b[0;34m\u001b[0m\u001b[0m\n\u001b[1;32m   5017\u001b[0m             \u001b[0;32mif\u001b[0m \u001b[0merrors\u001b[0m \u001b[0;34m!=\u001b[0m \u001b[0;34m\"ignore\"\u001b[0m\u001b[0;34m:\u001b[0m\u001b[0;34m\u001b[0m\u001b[0;34m\u001b[0m\u001b[0m\n\u001b[0;32m-> 5018\u001b[0;31m                 \u001b[0;32mraise\u001b[0m \u001b[0mKeyError\u001b[0m\u001b[0;34m(\u001b[0m\u001b[0;34mf\"{labels[mask]} not found in axis\"\u001b[0m\u001b[0;34m)\u001b[0m\u001b[0;34m\u001b[0m\u001b[0;34m\u001b[0m\u001b[0m\n\u001b[0m\u001b[1;32m   5019\u001b[0m             \u001b[0mindexer\u001b[0m \u001b[0;34m=\u001b[0m \u001b[0mindexer\u001b[0m\u001b[0;34m[\u001b[0m\u001b[0;34m~\u001b[0m\u001b[0mmask\u001b[0m\u001b[0;34m]\u001b[0m\u001b[0;34m\u001b[0m\u001b[0;34m\u001b[0m\u001b[0m\n\u001b[1;32m   5020\u001b[0m         \u001b[0;32mreturn\u001b[0m \u001b[0mself\u001b[0m\u001b[0;34m.\u001b[0m\u001b[0mdelete\u001b[0m\u001b[0;34m(\u001b[0m\u001b[0mindexer\u001b[0m\u001b[0;34m)\u001b[0m\u001b[0;34m\u001b[0m\u001b[0;34m\u001b[0m\u001b[0m\n",
      "\u001b[0;31mKeyError\u001b[0m: \"['nmf_topic'] not found in axis\""
     ]
    }
   ],
   "source": [
    "df = df.drop(['nmf_topic'], axis=1)"
   ]
  },
  {
   "cell_type": "code",
   "execution_count": null,
   "metadata": {},
   "outputs": [],
   "source": [
    "df.head()"
   ]
  },
  {
   "cell_type": "code",
   "execution_count": null,
   "metadata": {},
   "outputs": [],
   "source": [
    "import pyLDAvis.sklearn"
   ]
  },
  {
   "cell_type": "code",
   "execution_count": null,
   "metadata": {},
   "outputs": [],
   "source": [
    "\n",
    "from bokeh.io import push_notebook, show, output_notebook\n",
    "from bokeh.plotting import figure\n",
    "from bokeh.models import ColumnDataSource, LabelSet\n",
    "output_notebook()"
   ]
  },
  {
   "cell_type": "code",
   "execution_count": null,
   "metadata": {},
   "outputs": [],
   "source": []
  },
  {
   "cell_type": "code",
   "execution_count": null,
   "metadata": {},
   "outputs": [],
   "source": [
    "pyLDAvis.enable_notebook()\n",
    "panel = pyLDAvis.sklearn.prepare(lda_model, doc_term_matrix_1, tfidfconverter, mds='tsne')\n",
    "panel"
   ]
  },
  {
   "cell_type": "code",
   "execution_count": null,
   "metadata": {},
   "outputs": [],
   "source": [
    "svd = TruncatedSVD(n_components=2)\n",
    "documents_2d = svd.fit_transform(doc_term_matrix_1)\n",
    "\n",
    "df_new = pd.DataFrame(columns=['x', 'y', 'document'])\n",
    "df_new['x'], df_new['y'], df_new['document'] = documents_2d[:,0], documents_2d[:,1], range(len(final_docs))\n",
    " \n",
    "source = ColumnDataSource(ColumnDataSource.from_df(df_new))\n",
    "labels = LabelSet(x=\"x\", y=\"y\", text=\"document\", y_offset=8,\n",
    "                  text_font_size=\"8pt\", text_color=\"#555555\",\n",
    "                  source=source, text_align='center')\n",
    " \n",
    "plot = figure(plot_width=600, plot_height=600)\n",
    "plot.circle(\"x\", \"y\", size=12, source=source, line_color=\"black\", fill_alpha=0.8)\n",
    "plot.add_layout(labels)\n",
    "show(plot, notebook_handle=True)"
   ]
  },
  {
   "cell_type": "code",
   "execution_count": null,
   "metadata": {},
   "outputs": [],
   "source": [
    "svd_2 = TruncatedSVD(n_components=2)\n",
    "words_2d = svd.fit_transform(doc_term_matrix_1.T)\n",
    " \n",
    "df_new2 = pd.DataFrame(columns=['x', 'y', 'word'])\n",
    "df_new2['x'], df_new2['y'], df_new2['word'] = words_2d[:,0], words_2d[:,1], tfidfconverter.get_feature_names()\n",
    " \n",
    "source = ColumnDataSource(ColumnDataSource.from_df(df_new2))\n",
    "labels = LabelSet(x=\"x\", y=\"y\", text=\"word\", y_offset=8,\n",
    "                  text_font_size=\"8pt\", text_color=\"#555555\",\n",
    "                  source=source, text_align='center')\n",
    " \n",
    "plot = figure(plot_width=600, plot_height=600)\n",
    "plot.circle(\"x\", \"y\", size=12, source=source, line_color=\"black\", fill_alpha=0.8)\n",
    "plot.add_layout(labels)\n",
    "show(plot, notebook_handle=True)"
   ]
  },
  {
   "cell_type": "code",
   "execution_count": 29,
   "metadata": {},
   "outputs": [
    {
     "name": "stdout",
     "output_type": "stream",
     "text": [
      "Log Likelihood:  -994994.0551055479\n",
      "Perplexity:  646.4909768990364\n"
     ]
    }
   ],
   "source": [
    "# Log Likelyhood: Higher the better\n",
    "print(\"Log Likelihood: \", lda_model.score(doc_term_matrix_1))\n",
    "\n",
    "# Perplexity: Lower the better. Perplexity = exp(-1. * log-likelihood per word)\n",
    "print(\"Perplexity: \", lda_model.perplexity(doc_term_matrix_1))"
   ]
  },
  {
   "cell_type": "code",
   "execution_count": 31,
   "metadata": {},
   "outputs": [
    {
     "data": {
      "text/plain": [
       "GridSearchCV(estimator=LatentDirichletAllocation(),\n",
       "             param_grid={'learning_decay': [0.5, 0.7, 0.9],\n",
       "                         'n_components': [5, 8, 10, 12]})"
      ]
     },
     "execution_count": 31,
     "metadata": {},
     "output_type": "execute_result"
    }
   ],
   "source": [
    "from sklearn.model_selection import GridSearchCV\n",
    "\n",
    "# Define Search Param\n",
    "search_params = {'n_components': [5, 8, 10, 12], 'learning_decay': [.5, .7, .9]}\n",
    "\n",
    "# Init the Model\n",
    "lda = LatentDirichletAllocation()\n",
    "\n",
    "# Init Grid Search Class\n",
    "model = GridSearchCV(lda, param_grid=search_params)\n",
    "\n",
    "# Do the Grid Search\n",
    "model.fit(doc_term_matrix_1)"
   ]
  },
  {
   "cell_type": "code",
   "execution_count": 33,
   "metadata": {},
   "outputs": [
    {
     "name": "stdout",
     "output_type": "stream",
     "text": [
      "Best Model's Params:  {'learning_decay': 0.5, 'n_components': 12}\n",
      "Best Log Likelihood Score:  -207088.62880388106\n",
      "Model Perplexity:  432.01850588083096\n"
     ]
    }
   ],
   "source": [
    "# Best Model\n",
    "best_lda_model = model.best_estimator_\n",
    "\n",
    "# Model Parameters\n",
    "print(\"Best Model's Params: \", model.best_params_)\n",
    "\n",
    "# Log Likelihood Score\n",
    "print(\"Best Log Likelihood Score: \", model.best_score_)\n",
    "\n",
    "# Perplexity\n",
    "print(\"Model Perplexity: \", best_lda_model.perplexity(doc_term_matrix_1))"
   ]
  },
  {
   "cell_type": "code",
   "execution_count": 34,
   "metadata": {},
   "outputs": [],
   "source": [
    "# 2nd LDA model\n",
    "lda_model_2 = LatentDirichletAllocation(n_components = 12, max_iter=10, learning_method='online', learning_decay=0.5)\n",
    "lda_Z_2 = lda_model_2.fit_transform(doc_term_matrix_1)"
   ]
  },
  {
   "cell_type": "code",
   "execution_count": 35,
   "metadata": {},
   "outputs": [],
   "source": [
    "import pyLDAvis.sklearn"
   ]
  },
  {
   "cell_type": "code",
   "execution_count": 36,
   "metadata": {},
   "outputs": [
    {
     "data": {
      "text/html": [
       "\n",
       "<link rel=\"stylesheet\" type=\"text/css\" href=\"https://cdn.rawgit.com/bmabey/pyLDAvis/files/ldavis.v1.0.0.css\">\n",
       "\n",
       "\n",
       "<div id=\"ldavis_el431251403162000862249768679160\"></div>\n",
       "<script type=\"text/javascript\">\n",
       "\n",
       "var ldavis_el431251403162000862249768679160_data = {\"mdsDat\": {\"x\": [5.310528755187988, 136.30465698242188, 101.1905517578125, -106.82486724853516, -44.365760803222656, 43.884090423583984, 114.0939712524414, -119.72714233398438, -49.51820755004883, -141.93873596191406, 38.731544494628906, -10.944339752197266], \"y\": [171.04965209960938, 23.800941467285156, -84.98519134521484, 148.84173583984375, 78.63272094726562, 73.4740219116211, 135.9330291748047, -72.07717895507812, -9.617324829101562, 40.05521011352539, -14.776019096374512, -107.19334411621094], \"topics\": [1, 2, 3, 4, 5, 6, 7, 8, 9, 10, 11, 12], \"cluster\": [1, 1, 1, 1, 1, 1, 1, 1, 1, 1, 1, 1], \"Freq\": [12.077758101492696, 11.311724054156326, 10.55052005449449, 10.419226065467114, 8.734976365948011, 8.020198304532917, 7.434107423719942, 7.165649506827935, 6.878838687575609, 6.756516812609373, 5.638792339389312, 5.011692283786277]}, \"tinfo\": {\"Term\": [\"kind\", \"ashli babbit\", \"babbit\", \"strong\", \"ashli\", \"prayer\", \"stop\", \"person\", \"daughter\", \"update\", \"retweet\", \"follow\", \"miss ashli\", \"babbitt\", \"ashli babbitt\", \"officer\", \"rip ashli\", \"killed ashli\", \"police officer\", \"rip\", \"shot killed\", \"shot\", \"share\", \"ashli know\", \"daughter law\", \"smart\", \"know daughter\", \"law\", \"wonderful\", \"retweet share\", \"share\", \"ashli know\", \"daughter law\", \"smart\", \"know daughter\", \"law\", \"wonderful\", \"retweet share\", \"share prayer\", \"miss\", \"kind person\", \"kind retweet\", \"military woman\", \"strong smart\", \"wonderful kind\", \"stop miss\", \"smart kind\", \"person military\", \"law wonderful\", \"prayer follow\", \"woman strong\", \"follow update\", \"breaking\", \"sister\", \"black\", \"really\", \"thing\", \"military\", \"babbitt woman\", \"nationalfile\", \"know\", \"woman\", \"ashli\", \"want\", \"congress\", \"told\", \"want know\", \"killed air\", \"congress today\", \"babbit congress\", \"today want\", \"america told\", \"know america\", \"ewerickson\", \"year service\", \"wish\", \"young woman\", \"babbitt unarmed\", \"shot today\", \"veteran year\", \"service san\", \"unarmed young\", \"erick\", \"got wish\", \"police protest\", \"wanted shot\", \"presumably police\", \"presumably\", \"today got\", \"diego ewerickson\", \"ewerickson wanted\", \"happy erick\", \"today presumably\", \"wish happy\", \"america\", \"killed today\", \"wanted\", \"force veteran\", \"today\", \"happy\", \"air force\", \"air\", \"force\", \"veteran\", \"veteran ashli\", \"san diego\", \"diego\", \"san\", \"killed\", \"know\", \"shot\", \"prayer\", \"update\", \"remember\", \"pray\", \"pray family\", \"babbit remember\", \"sister arm\", \"nation word\", \"family nation\", \"remember sister\", \"arm pray\", \"going\", \"mattered\", \"life mattered\", \"babbit life\", \"loss\", \"account\", \"capitol building\", \"martyr\", \"babbit say\", \"inside\", \"game\", \"soul\", \"home\", \"killed cop\", \"violence\", \"stupid\", \"later\", \"heart\", \"long\", \"tweet\", \"qanon\", \"family\", \"trump\", \"trump supporter\", \"supporter\", \"life\", \"ashli\", \"babbit\", \"ashli babbit\", \"say\", \"capitol\", \"babbitt\", \"ashli babbitt\", \"rip ashli\", \"george\", \"floyd\", \"george floyd\", \"moment\", \"cold\", \"cold blood\", \"mentioned\", \"vigil\", \"forget ashli\", \"like george\", \"floor\", \"plaza\", \"silence\", \"moment silence\", \"dedicated\", \"blood today\", \"house floor\", \"dedicated mentioned\", \"vigil like\", \"plaza dedicated\", \"floyd plaza\", \"mentioned house\", \"floor given\", \"today vigil\", \"given moment\", \"police murdered\", \"silence forget\", \"veteran cold\", \"murdered veteran\", \"rip\", \"dc police\", \"forget\", \"blood\", \"like\", \"given\", \"kind\", \"retweet\", \"follow\", \"miss ashli\", \"rest\", \"peace\", \"rest peace\", \"die\", \"thought\", \"domestic\", \"arm\", \"storming\", \"storming capitol\", \"world\", \"arrested\", \"tamir\", \"bullet\", \"heather\", \"heyer\", \"heather heyer\", \"traitor\", \"enemy\", \"real\", \"sad\", \"domestic terrorist\", \"lmaooooo\", \"perception\", \"catching\", \"babbit die\", \"capitol care\", \"perception world\", \"terrorist\", \"fuck\", \"died\", \"care\", \"state\", \"ashli\", \"babbit\", \"ashli babbit\", \"patriot\", \"stop\", \"person\", \"daughter\", \"word\", \"cop\", \"american\", \"fighting\", \"maga\", \"officer killed\", \"fucking\", \"body\", \"capitol today\", \"steal\", \"hour\", \"trying\", \"break\", \"veteran killed\", \"blake\", \"babbit got\", \"nba\", \"election people\", \"rapist\", \"dead body\", \"walked dead\", \"body laid\", \"feed\", \"babbit shot\", \"cop congress\", \"hour later\", \"later steal\", \"laid hour\", \"game canceled\", \"playoff game\", \"people shame\", \"honor maga\", \"congress walked\", \"rapist jacob\", \"got\", \"people\", \"dead\", \"shot\", \"patriot\", \"killed\", \"death\", \"veteran\", \"shit\", \"officer\", \"killed ashli\", \"police officer\", \"officer shot\", \"peaceful protest\", \"killed peaceful\", \"protest air\", \"babbitt ashli\", \"ashli_babbitt\", \"protestor arrested\", \"unarmed protestor\", \"arrested murder\", \"mike_pence killed\", \"good\", \"shot ashli\", \"invading capitol\", \"love\", \"thread\", \"looking\", \"ashli_babbitt angelwarrior\", \"angelwarrior\", \"lmao\", \"earlier\", \"babbit air\", \"vet shot\", \"peaceful\", \"veteran san\", \"fbi\", \"insurgent\", \"today storming\", \"shot killed\", \"ashli babbitt\", \"babbitt\", \"shot\", \"woman shot\", \"killed\", \"police\", \"protest\", \"veteran ashli\", \"force veteran\", \"force\", \"air force\", \"air\", \"ashli\", \"woman\", \"veteran\", \"ashli babbit\", \"babbit\", \"mike_pence\", \"let\", \"god\", \"say ashli\", \"election\", \"melissa\", \"maybe\", \"justice\", \"capital\", \"hero\", \"way\", \"complied\", \"door\", \"bless\", \"honor\", \"god bless\", \"sick\", \"cassandrarules\", \"patriot veteran\", \"jacob\", \"jacob blake\", \"walked\", \"today capitol\", \"shoot\", \"thank\", \"believe\", \"make\", \"thug\", \"broke\", \"mike_pence ashli\", \"say\", \"video\", \"need\", \"death\", \"babbitt\", \"ashli babbitt\", \"patriot\", \"ashli\", \"police\", \"babbit\", \"ashli babbit\", \"sorry\", \"ashlibabbit\", \"protester\", \"california\", \"iraq\", \"saying\", \"police today\", \"sorry loss\", \"far\", \"feel\", \"okay\", \"nypost\", \"okay ashli\", \"day\", \"establishment okay\", \"iraq america\", \"fighting iraq\", \"babbitt fighting\", \"coming\", \"vet california\", \"hearing\", \"protester killed\", \"life matter\", \"twitter feed\", \"babbit veteran\", \"cassandrarules establishment\", \"murder ashli\", \"kaitmarieox\", \"vile\", \"girl\", \"babbit unarmed\", \"today ashli\", \"white\", \"murder\", \"unarmed woman\", \"killed capitol\", \"matter\", \"vet\", \"unarmed\", \"capitol\", \"capitol police\", \"force vet\", \"killed\", \"ashli\", \"police\", \"rip\", \"woman\", \"strong\", \"served country\", \"amendment\", \"nation\", \"amendment right\", \"gonna\", \"got shot\", \"peace ashli\", \"expressing\", \"look\", \"pack\", \"country year\", \"expressing amendment\", \"murdered expressing\", \"protestor\", \"year murdered\", \"right forget\", \"level\", \"babbit proudly\", \"proudly served\", \"proudly\", \"high level\", \"level security\", \"country served\", \"country lmaooooo\", \"bitch\", \"security official\", \"force high\", \"official time\", \"country died\", \"country\", \"right\", \"served\", \"security\", \"high\", \"year\", \"tour\", \"murdered\", \"said\", \"shame\", \"tonight\", \"babbit terrorist\", \"establishment\", \"lost\", \"fascist\", \"babbit murdered\", \"coup\", \"clear\", \"fighting country\", \"getting\", \"hope\", \"election ashli\", \"guy\", \"like ashli\", \"member\", \"lie\", \"murdered ashli\", \"fought\", \"line\", \"babbit death\", \"murdered government\", \"conspiracy theory\", \"theory\", \"washington\", \"fucked\", \"government rip\", \"literally\", \"blood hand\", \"ashli babbit\", \"babbit\", \"ashli\", \"antifa\", \"trump\", \"murdered\", \"death\", \"like\", \"federal\", \"thought gonna\", \"babbit thought\", \"federal building\", \"invading\", \"terrorism\", \"tried\", \"breach\", \"lobby\", \"speaker\", \"speaker lobby\", \"outside\", \"scream\", \"peacefully\", \"babbit stormed\", \"invading federal\", \"scream roof\", \"roof\", \"want scream\", \"capitol tried\", \"breach window\", \"tried breach\", \"window speaker\", \"peacefully protest\", \"killed peacefully\", \"outside invading\", \"building terrorism\", \"lobby killed\", \"protest outside\", \"babbitt say\", \"window\", \"building\", \"stormed\", \"capitol\", \"stormed capitol\"], \"Freq\": [2017.0, 3260.0, 3263.0, 1309.0, 3371.0, 1433.0, 1273.0, 1269.0, 1264.0, 1360.0, 1021.0, 1019.0, 1011.0, 1185.0, 1174.0, 619.0, 706.0, 584.0, 560.0, 756.0, 823.0, 1162.0, 624.0, 623.0, 622.0, 621.0, 621.0, 621.0, 621.0, 621.0, 623.3065558398666, 622.4662365020389, 621.065525898936, 620.5229969750466, 620.4325136246665, 620.4235619007097, 620.3900944311877, 620.3650579207102, 620.3650579207102, 620.3162342419519, 620.2075987285946, 620.2075987285946, 620.2075987285946, 620.2075987285946, 620.2075987285946, 620.2075987285946, 620.2075987285946, 620.2075987285946, 620.2075987285946, 620.1669551217292, 620.1492645850111, 620.0709684738982, 89.41614759580293, 74.54535907644143, 53.69377125059755, 51.94566904320056, 51.392878752991855, 604.3962921972329, 37.55454882404505, 36.186319547003144, 539.0956143703627, 457.52438010227223, 177.11761029382188, 458.9461882663707, 405.8347792170087, 344.4298617660072, 333.624068050996, 325.21516233698327, 323.2187313046188, 322.57134430221106, 322.37799829975023, 322.190717116584, 322.190717116584, 213.8359274797848, 206.51605453637032, 199.97595074890816, 199.60187709006675, 198.99161346082494, 198.9397728893182, 194.32502537598873, 193.84354486749947, 191.85624911438407, 191.16485413604607, 189.9596589583825, 188.13634758787975, 186.10036123589825, 185.32911274625488, 185.32911274625488, 185.32911274625488, 185.32911274625488, 185.32911274625488, 185.32911274625488, 185.32911274625488, 185.32911274625488, 423.90122667580323, 246.93105115425197, 194.85654561322713, 399.0120947032496, 455.74247551957257, 192.46241752450328, 366.71726103430245, 365.6148476352681, 363.35514174103776, 320.8164793081115, 266.93572978291905, 206.06116527458394, 206.06116527458394, 206.0455412642114, 294.12567395402675, 257.1994500430513, 234.12462362278632, 1432.2728299823536, 1359.1648704370448, 218.18588784439137, 212.00751247813488, 175.8718859997106, 163.26016547000276, 161.25084789310225, 160.424214588458, 159.38618537366807, 159.38618537366807, 159.38618537366807, 147.55026846669446, 143.2538272225561, 135.96476596402877, 135.39462252566457, 129.80049322760644, 107.45637260895785, 102.00682843034538, 95.4007111265056, 94.15456726947733, 90.9053380827976, 90.21051005692486, 88.2020309581916, 86.14148357974253, 78.31775211066488, 75.10865930729477, 73.28141269018816, 72.7274744188742, 71.80745983352591, 69.30947455005021, 174.66662452491346, 137.6023269216549, 304.8126840719202, 302.17208520273147, 128.877033741323, 149.4598486334315, 198.21668306199382, 229.22828965237534, 215.67450876299839, 213.99822849810417, 129.932370611853, 138.66735855649546, 137.16522466380468, 134.0984973194348, 705.9389017453361, 423.55553403760297, 422.21099010768785, 420.4533514123847, 368.05225705118085, 366.62002422947376, 362.30284610211584, 358.64949768820406, 345.6056682251829, 342.84610998381146, 339.5413864077947, 331.5420194986533, 329.742471921536, 328.8258640190447, 327.0272957275531, 326.0953316713094, 326.0478478507061, 325.6692633778242, 325.06700496263625, 325.06700496263625, 325.06700496263625, 325.06700496263625, 325.06700496263625, 325.06700496263625, 325.06700496263625, 325.06700496263625, 324.62795135451375, 323.4926922742347, 323.4926922742347, 323.4926922742347, 668.11903078194, 335.08599199721834, 474.5319641096277, 344.35146340431254, 351.4389080595679, 325.1988845212582, 2016.3891863391761, 1020.3819340930108, 1018.9373610980493, 1010.5171794214594, 195.216942058583, 169.71058336520943, 152.8014508802558, 137.86495435725357, 136.2291334146572, 123.40471292952265, 121.19135205344116, 121.09881625084658, 104.69937650000143, 89.19086365922081, 88.62981509920192, 86.94204349604837, 82.66108444455097, 80.66183252788333, 80.63440236974883, 80.63440236974883, 77.4940149795973, 77.12006617352185, 76.81475652121664, 74.2346557986977, 72.18796891899603, 72.14333792260399, 71.20436495844228, 71.03370757909917, 70.94168053816557, 70.66721750314699, 70.66721750314699, 247.77710222800644, 122.50421613100936, 164.03715871167367, 98.4837804228155, 78.73967918489761, 139.6004171216914, 93.59829063418648, 88.71463411330465, 77.25122000120663, 1271.9913946296356, 1268.865721238541, 1263.3001425301873, 203.43891584653323, 156.22453679877523, 119.74475866970654, 119.54251040811045, 114.58208871789135, 105.18583114408085, 93.12049141330435, 75.8738022891515, 73.44846250030247, 72.09061844964313, 70.43695486558543, 70.12965206344221, 67.58126742459581, 67.51738843828555, 66.53270426469054, 66.2333640949359, 66.20963413769316, 63.03999086542998, 62.967836435775475, 62.8827271235034, 62.88272712350341, 62.8827271235034, 62.85271309577453, 62.77445240015245, 62.76757356715795, 62.42937552837404, 62.052083697070344, 62.052083697070344, 62.052083697070344, 62.052083697070344, 62.052083697070344, 62.052083697070344, 62.052083697070344, 62.052083697070344, 194.59350999117942, 160.9881260639767, 116.3952795851692, 158.4385066432358, 80.05732603399423, 79.29339663220578, 66.1114801958391, 69.50401745078122, 63.11618556511021, 618.842367647647, 583.8347413488889, 559.869266998131, 432.05142624399133, 280.5036174908469, 277.510452928304, 276.9474846329109, 158.25203741393602, 145.3550632065521, 143.965464099442, 143.76652683003283, 143.68690593418705, 109.08952981879939, 78.49270234709952, 77.60965683419592, 70.66765803169227, 65.8664780525279, 40.48529353751972, 32.34132242290838, 29.321715750055407, 29.321715750055407, 25.98957340398031, 24.684156251513333, 22.778400535033615, 19.97751644679957, 287.5561527644408, 19.383324556935086, 19.143610437811713, 17.29476826526783, 11.27852409779403, 566.4531813329619, 708.1146218751929, 709.2420428937219, 588.9106352447222, 292.1991300947657, 556.1588035119786, 418.0045030207994, 212.2006455827145, 219.5661278914568, 252.99319703816795, 251.68212473076855, 248.98915806804365, 248.13663297534123, 377.8302270652324, 197.71160664113273, 179.30564975287646, 158.17520656950225, 157.9730414576395, 232.32056060551338, 195.30986231488924, 186.7204001709318, 174.9077612870757, 145.98268481043024, 134.06075111636275, 120.69640167407574, 115.61089176318934, 114.75173213902838, 112.92766982797671, 112.90239400255558, 108.11647279769521, 106.14709206538906, 92.62546028803433, 85.62335505555528, 84.53077852159736, 82.36817269728496, 80.24369109617938, 79.50473342919891, 78.57305233765851, 78.57305233765851, 78.26360648571227, 76.05038371812687, 75.29127249459475, 67.63172428424807, 65.3898406582054, 64.98931986021748, 64.89531640567138, 64.89163745969566, 64.35035685195348, 281.4585971600803, 93.95787426119485, 85.93841397238546, 115.60791765717846, 184.105135784772, 177.9358655437076, 105.58679277717627, 192.27661580410302, 112.26708541702537, 104.76043406198569, 103.13509706672019, 229.37532883543577, 117.15740207834975, 115.72087911806057, 114.73248056959042, 105.21977322899677, 96.21492864358723, 94.91383301849717, 94.8171199334204, 90.936190107361, 86.4643529663512, 86.05953461272918, 85.02036624888623, 80.58461409848204, 73.86831284183461, 73.51907633943131, 73.51907633943131, 73.51907633943131, 73.36945606537058, 71.43299237181466, 70.47569580268787, 69.92625047862812, 69.63628520555018, 68.39912586564321, 68.18790220591093, 66.7754266436379, 64.08897911550982, 63.37894110865828, 63.135208634025716, 63.081289710433595, 62.80404233933573, 122.1890042476386, 94.97223888828884, 154.8720452949989, 142.30040988650043, 85.1870520696453, 140.0480229048668, 86.97720062816376, 105.41910416008103, 176.4656395005164, 209.3152702988153, 96.69809212813226, 78.11040582569044, 135.63684936806916, 101.78968149939058, 90.70699306133741, 78.00055254366161, 77.5473396584725, 1308.7062385447655, 251.42820852564475, 202.78042160589263, 174.51589462904548, 161.5837878172929, 154.96330711642045, 140.5914833592547, 135.38087443943857, 122.54103680056059, 115.27331674005774, 113.4382382394566, 110.72570421565679, 110.37656164623654, 105.52932799384365, 105.32974106710148, 104.04831165486256, 103.49464390274316, 103.47424004767157, 103.05993001269542, 103.010305695232, 103.010305695232, 96.26182208699846, 91.91390544950757, 90.32058410667815, 88.59367501100105, 88.32774857194391, 84.8470978797517, 83.32792739585436, 81.53019997057127, 81.5133110738462, 413.2133802476262, 244.15413523898965, 299.0116602180883, 111.94565975668007, 101.4708277968854, 151.57287617898967, 93.31353711185888, 92.0517564442967, 108.84283640365368, 98.25301086598719, 97.82895336045019, 72.80104618590458, 68.93946756320247, 61.26596901989935, 57.89536777178067, 50.16861174199848, 49.66573984780639, 46.344562168131944, 46.0060653985509, 43.476706387254225, 42.67117671604791, 41.37041503422586, 40.85285254709459, 40.52700523003208, 35.884748136075274, 35.19317908626608, 32.66223156575829, 32.55520894876764, 31.752124397092572, 29.051008058979168, 28.475929762559804, 28.37350274111042, 28.37350274111042, 28.040658322874876, 27.87834548777703, 26.073183027971364, 25.06146787046256, 23.36582690868707, 1948.4704180646675, 1941.955696201724, 1515.9126869274746, 103.52514722591471, 49.0895754283627, 48.793902932822895, 33.34664381669474, 34.02741989871322, 192.81235030251037, 184.38756369094975, 183.55863459083656, 169.9903407344527, 166.41438043203937, 156.62003192493472, 152.83568500281262, 143.8059880105932, 129.32588985918346, 129.2558031995638, 126.82422061901252, 124.90360251196826, 124.38562247242872, 122.56508675294003, 120.29170237638506, 120.22635005321024, 119.67831389081744, 119.67831389081744, 119.67831389081744, 119.09732377559935, 118.94409219716702, 118.36877627273171, 118.32992047723317, 117.49018021858943, 117.09830533755488, 116.11412878082956, 116.11412878082956, 116.10835279075009, 116.10835279075009, 109.91849158024404, 171.78891493215687, 191.556283790136, 137.6440756498651, 143.40483788785266, 118.90137508602768], \"Total\": [2017.0, 3260.0, 3263.0, 1309.0, 3371.0, 1433.0, 1273.0, 1269.0, 1264.0, 1360.0, 1021.0, 1019.0, 1011.0, 1185.0, 1174.0, 619.0, 706.0, 584.0, 560.0, 756.0, 823.0, 1162.0, 624.0, 623.0, 622.0, 621.0, 621.0, 621.0, 621.0, 621.0, 624.3599004791911, 623.5195789154052, 622.1188689048836, 621.5763408549088, 621.4858558911119, 621.4769295801942, 621.4434374118431, 621.4184001420223, 621.4184001420223, 621.3695794782546, 621.2609409407904, 621.2609409407904, 621.2609409407904, 621.2609409407904, 621.2609409407904, 621.2609409407904, 621.2609409407904, 621.2609409407904, 621.2609409407904, 621.2202973430809, 621.2026068148639, 621.1243107092799, 90.46961886920023, 75.59903294890988, 54.7488733707313, 52.99905739176793, 52.44636963617428, 619.4172239248907, 38.60806147926102, 37.23971480812733, 848.1845570098175, 1000.0910998452525, 3371.919254924869, 459.92287905780887, 406.81262447786787, 345.4064205767772, 334.60060513379693, 326.1916997194412, 324.19526815854476, 323.5478811109641, 323.3545351093013, 323.16725392533704, 323.16725392533704, 214.8124844231065, 207.49270552764943, 200.95248905253573, 200.5784151592871, 199.96815246736116, 199.91631292364994, 195.30156367431528, 194.8200817070548, 192.83278653415184, 192.14139190012895, 190.93619576715264, 189.1128843985632, 187.07689861644442, 186.30564955498903, 186.30564955498903, 186.30564955498903, 186.30564955498903, 186.30564955498903, 186.30564955498903, 186.30564955498903, 186.30564955498903, 450.26992217210244, 264.67314337767203, 201.15557158019968, 679.3708570612048, 929.7094760730166, 199.54126788784043, 788.9233232738472, 789.9502519793566, 800.2942335005303, 952.2910659849929, 546.8896800263907, 247.70825446222088, 247.70825446222088, 247.7660432243575, 1251.6490904675709, 848.1845570098175, 1162.7482394351161, 1433.2785499016443, 1360.1706802479955, 219.19142951040055, 213.01303414315714, 176.8773981577802, 164.26567760044193, 162.256359766153, 161.42972637340313, 160.3916971499437, 160.3916971499437, 160.3916971499437, 148.55580194624795, 144.25934044876217, 136.97027715837643, 136.40013364031665, 130.80604677304237, 108.46190610009788, 103.01236062068413, 96.40623770474714, 95.16008646012918, 91.91089194090613, 91.21609515828168, 89.20756858576821, 87.14705012181645, 79.32334629991433, 76.11427198155211, 74.28693098714605, 73.73307462541662, 72.81300848725554, 70.3150088660556, 185.63569716673985, 148.98702671937286, 367.3146900111981, 369.7085465709261, 143.86083791285026, 172.78607925234235, 275.46622112068593, 3371.919254924869, 3263.6623275638726, 3260.354792287763, 485.47535758380144, 798.7795812957264, 1185.0963264029006, 1174.1093866969595, 706.9186461762275, 424.53524807447565, 423.19070342611536, 421.4330632338973, 369.0320062591393, 367.5997432131524, 363.2825637606509, 359.62920861737666, 346.5854398744806, 343.82581364782413, 340.5210888896645, 332.5217272199884, 330.72217421569775, 329.8055680767712, 328.00699750506243, 327.0750340786376, 327.027550275927, 326.6489652965587, 326.0467067378678, 326.0467067378678, 326.0467067378678, 326.0467067378678, 326.0467067378678, 326.0467067378678, 326.0467067378678, 326.0467067378678, 325.6076535931808, 324.47239404923084, 324.47239404923084, 324.47239404923084, 756.0610043113667, 341.1101005924022, 561.3728541002323, 391.0943439000069, 501.61448082490637, 352.9079499450563, 2017.417526378434, 1021.4102674417605, 1019.9656999617428, 1011.5455159490222, 196.245375768067, 170.73890936302078, 153.82975595061632, 138.89327729654028, 137.25751382779825, 124.43303152267593, 122.21984187249276, 122.12714781644601, 105.72768592166913, 90.21917056404102, 89.65870077721776, 87.97034143213243, 83.68939197501793, 81.69013143374386, 81.66270127362621, 81.66270127362621, 78.52235305174382, 78.14836960402268, 77.84315748992745, 75.26299299520423, 73.21627619905438, 73.17173021996601, 72.2326636412617, 72.06200536773324, 71.96998193732581, 71.69551521492343, 71.69551521492343, 291.49750135440127, 152.74571064808885, 265.3774479371622, 133.8860709915946, 102.42591081319412, 3371.919254924869, 3263.6623275638726, 3260.354792287763, 263.7458820651558, 1273.0034949160672, 1269.8778167110045, 1264.3122545119786, 204.45109874883204, 157.23659075328084, 120.7568356747375, 120.55487083198548, 115.59413274302624, 106.19831822460272, 94.13253000943246, 76.88583066810116, 74.46061653678845, 73.10265294659767, 71.44898199586599, 71.14169837372759, 68.59333982256419, 68.52954041003332, 67.54484904155875, 67.24539029860921, 67.22166021206421, 64.05205326707608, 63.979861817172434, 63.89475251935809, 63.8947525193581, 63.89475251935809, 63.86477299236424, 63.78651714391935, 63.77959901244765, 63.441400940215416, 63.064109069772414, 63.064109069772414, 63.064109069772414, 63.064109069772414, 63.064109069772414, 63.064109069772414, 63.064109069772414, 63.064109069772414, 382.1224974484815, 332.5539117878847, 212.60763057989152, 1162.7482394351161, 263.7458820651558, 1251.6490904675709, 215.89462964976704, 952.2910659849929, 77.28907793116326, 619.8181621972268, 584.8105302121467, 560.845054167219, 433.0272126608235, 281.4794040720818, 278.4862393410744, 277.9232710348421, 159.22782534502957, 146.33089823346089, 144.9412849984867, 144.74233914134626, 144.6627231659215, 110.06531749556005, 79.46851098111821, 78.58545625073859, 71.64356221988304, 66.84229839709565, 41.461086198276895, 33.317893686519675, 30.29751226103396, 30.29751226103396, 26.965376132929727, 25.659954076023432, 23.75419613950717, 20.953482257894166, 301.6778226396301, 20.359141231394325, 20.119428296090483, 18.270562283593613, 12.254311831991954, 823.2896711138948, 1174.1093866969595, 1185.0963264029006, 1162.7482394351161, 538.1157440609187, 1251.6490904675709, 1024.5983246325723, 487.209749525351, 546.8896800263907, 679.3708570612048, 800.2942335005303, 788.9233232738472, 789.9502519793566, 3371.919254924869, 1000.0910998452525, 952.2910659849929, 3260.354792287763, 3263.6623275638726, 233.31721767457756, 196.3065194964074, 187.71703644298356, 175.90446206238852, 146.9793456861283, 135.05742426639807, 121.69303846242988, 116.60754511627671, 115.74837774198004, 113.92430893824921, 113.89903316342325, 109.11310469937658, 107.14377222942606, 93.6220932663307, 86.62000865880715, 85.52741119549717, 83.36480605688385, 81.24038599863609, 80.50139050400206, 79.56970618582888, 79.56970618582888, 79.26026263619897, 77.04707205327229, 76.28794990874009, 68.6283590630261, 66.38648176997826, 65.98597565871297, 65.89195669978761, 65.88827566861897, 65.34699086714927, 485.47535758380144, 127.46707328146232, 112.24353634195636, 215.89462964976704, 1185.0963264029006, 1174.1093866969595, 263.7458820651558, 3371.919254924869, 1024.5983246325723, 3263.6623275638726, 3260.354792287763, 230.37514181310362, 118.15705033887534, 116.72053427564886, 115.73213637990592, 106.21942744806302, 97.21458058847682, 95.91358822574895, 95.81676885373118, 91.9358482910479, 87.46401737444471, 87.05918057892657, 86.02003049673414, 81.58425722502864, 74.86798947447208, 74.51871993702517, 74.51871993702517, 74.51871993702517, 74.36909960518449, 72.43264134039067, 71.4753358440649, 70.92589600103328, 70.63592508275897, 69.39876960042845, 69.1875813084536, 67.77506668877406, 65.08862351284333, 64.37858853954562, 64.13487569245052, 64.0810388828595, 63.80368937098133, 132.74038417182632, 103.93372911621192, 192.5017450723664, 189.7625709296292, 95.51019719644323, 220.0603170377118, 104.04083186624956, 145.4283122802336, 404.5746982801117, 798.7795812957264, 196.7755479334989, 106.1746792093702, 1251.6490904675709, 3371.919254924869, 1024.5983246325723, 756.0610043113667, 1000.0910998452525, 1309.7160544552537, 252.4370464290228, 203.78927408138014, 175.5248697920977, 162.59262761949003, 155.97219133904204, 141.6004232832691, 136.38974534307678, 123.54987451081168, 116.282204520526, 114.44707846562152, 111.73454196954884, 111.38539883267264, 106.53816512818752, 106.33906218315833, 105.05714891668826, 104.5034810229677, 104.48308126837435, 104.06876752058223, 104.01914320222077, 104.01914320222077, 97.27066005698072, 92.92274339213301, 91.32942150111863, 89.60251223946142, 89.33659759286124, 85.85593574539523, 84.33676510615692, 82.53903766765205, 82.5221684302478, 448.5983205754883, 270.16636300792305, 394.002413064297, 121.11164313459814, 110.87005040375263, 467.91475582092454, 220.20650374554796, 507.53304301948924, 109.84923984526176, 99.26071758160921, 98.83535405192178, 73.80740963285092, 69.9461264429149, 62.27237541222233, 58.90174793849894, 51.17497451533828, 50.67215161843973, 47.350953342360995, 47.01246272560956, 44.48308791092023, 43.67755654700386, 42.3767981759173, 41.859244859125724, 41.53345915252554, 36.89114570886379, 36.19955369790616, 33.66859941238902, 33.56167090104537, 32.758545643960595, 30.05742490004228, 29.48229130382969, 29.379894661066988, 29.379894661066988, 29.047168490342578, 28.884723758244704, 27.07955306440398, 26.06785327037595, 24.372191047177598, 3260.354792287763, 3263.6623275638726, 3371.919254924869, 157.44363409754513, 369.7085465709261, 507.53304301948924, 215.89462964976704, 501.61448082490637, 193.7954088785151, 185.3706154991304, 184.54168626207345, 170.97339187340108, 167.39743291429804, 157.60308602465014, 153.8187393765999, 144.78904223555242, 130.30894127795156, 130.23885417162444, 127.80727150091369, 125.88666119243479, 125.36867489895043, 123.5481406839814, 121.27475278102014, 121.20940032879082, 120.66136449259027, 120.66136449259027, 120.66136449259027, 120.08037401246033, 119.9271424689258, 119.35182649245985, 119.31297070484369, 118.47323061480148, 118.08135584689497, 117.09717899636388, 117.09717899636388, 117.09140300633369, 117.09140300633369, 110.90156003008501, 207.51208937507658, 316.40928587022097, 227.92907523889517, 798.7795812957264, 195.76784349163495], \"Category\": [\"Default\", \"Default\", \"Default\", \"Default\", \"Default\", \"Default\", \"Default\", \"Default\", \"Default\", \"Default\", \"Default\", \"Default\", \"Default\", \"Default\", \"Default\", \"Default\", \"Default\", \"Default\", \"Default\", \"Default\", \"Default\", \"Default\", \"Default\", \"Default\", \"Default\", \"Default\", \"Default\", \"Default\", \"Default\", \"Default\", \"Topic1\", \"Topic1\", \"Topic1\", \"Topic1\", \"Topic1\", \"Topic1\", \"Topic1\", \"Topic1\", \"Topic1\", \"Topic1\", \"Topic1\", \"Topic1\", \"Topic1\", \"Topic1\", \"Topic1\", \"Topic1\", \"Topic1\", \"Topic1\", \"Topic1\", \"Topic1\", \"Topic1\", \"Topic1\", \"Topic1\", \"Topic1\", \"Topic1\", \"Topic1\", \"Topic1\", \"Topic1\", \"Topic1\", \"Topic1\", \"Topic1\", \"Topic1\", \"Topic1\", \"Topic2\", \"Topic2\", \"Topic2\", \"Topic2\", \"Topic2\", \"Topic2\", \"Topic2\", \"Topic2\", \"Topic2\", \"Topic2\", \"Topic2\", \"Topic2\", \"Topic2\", \"Topic2\", \"Topic2\", \"Topic2\", \"Topic2\", \"Topic2\", \"Topic2\", \"Topic2\", \"Topic2\", \"Topic2\", \"Topic2\", \"Topic2\", \"Topic2\", \"Topic2\", \"Topic2\", \"Topic2\", \"Topic2\", \"Topic2\", \"Topic2\", \"Topic2\", \"Topic2\", \"Topic2\", \"Topic2\", \"Topic2\", \"Topic2\", \"Topic2\", \"Topic2\", \"Topic2\", \"Topic2\", \"Topic2\", \"Topic2\", \"Topic2\", \"Topic2\", \"Topic2\", \"Topic2\", \"Topic2\", \"Topic3\", \"Topic3\", \"Topic3\", \"Topic3\", \"Topic3\", \"Topic3\", \"Topic3\", \"Topic3\", \"Topic3\", \"Topic3\", \"Topic3\", \"Topic3\", \"Topic3\", \"Topic3\", \"Topic3\", \"Topic3\", \"Topic3\", \"Topic3\", \"Topic3\", \"Topic3\", \"Topic3\", \"Topic3\", \"Topic3\", \"Topic3\", \"Topic3\", \"Topic3\", \"Topic3\", \"Topic3\", \"Topic3\", \"Topic3\", \"Topic3\", \"Topic3\", \"Topic3\", \"Topic3\", \"Topic3\", \"Topic3\", \"Topic3\", \"Topic3\", \"Topic3\", \"Topic3\", \"Topic3\", \"Topic3\", \"Topic3\", \"Topic3\", \"Topic4\", \"Topic4\", \"Topic4\", \"Topic4\", \"Topic4\", \"Topic4\", \"Topic4\", \"Topic4\", \"Topic4\", \"Topic4\", \"Topic4\", \"Topic4\", \"Topic4\", \"Topic4\", \"Topic4\", \"Topic4\", \"Topic4\", \"Topic4\", \"Topic4\", \"Topic4\", \"Topic4\", \"Topic4\", \"Topic4\", \"Topic4\", \"Topic4\", \"Topic4\", \"Topic4\", \"Topic4\", \"Topic4\", \"Topic4\", \"Topic4\", \"Topic4\", \"Topic4\", \"Topic4\", \"Topic4\", \"Topic4\", \"Topic5\", \"Topic5\", \"Topic5\", \"Topic5\", \"Topic5\", \"Topic5\", \"Topic5\", \"Topic5\", \"Topic5\", \"Topic5\", \"Topic5\", \"Topic5\", \"Topic5\", \"Topic5\", \"Topic5\", \"Topic5\", \"Topic5\", \"Topic5\", \"Topic5\", \"Topic5\", \"Topic5\", \"Topic5\", \"Topic5\", \"Topic5\", \"Topic5\", \"Topic5\", \"Topic5\", \"Topic5\", \"Topic5\", \"Topic5\", \"Topic5\", \"Topic5\", \"Topic5\", \"Topic5\", \"Topic5\", \"Topic5\", \"Topic5\", \"Topic5\", \"Topic5\", \"Topic5\", \"Topic6\", \"Topic6\", \"Topic6\", \"Topic6\", \"Topic6\", \"Topic6\", \"Topic6\", \"Topic6\", \"Topic6\", \"Topic6\", \"Topic6\", \"Topic6\", \"Topic6\", \"Topic6\", \"Topic6\", \"Topic6\", \"Topic6\", \"Topic6\", \"Topic6\", \"Topic6\", \"Topic6\", \"Topic6\", \"Topic6\", \"Topic6\", \"Topic6\", \"Topic6\", \"Topic6\", \"Topic6\", \"Topic6\", \"Topic6\", \"Topic6\", \"Topic6\", \"Topic6\", \"Topic6\", \"Topic6\", \"Topic6\", \"Topic6\", \"Topic6\", \"Topic6\", \"Topic6\", \"Topic6\", \"Topic6\", \"Topic6\", \"Topic6\", \"Topic6\", \"Topic6\", \"Topic7\", \"Topic7\", \"Topic7\", \"Topic7\", \"Topic7\", \"Topic7\", \"Topic7\", \"Topic7\", \"Topic7\", \"Topic7\", \"Topic7\", \"Topic7\", \"Topic7\", \"Topic7\", \"Topic7\", \"Topic7\", \"Topic7\", \"Topic7\", \"Topic7\", \"Topic7\", \"Topic7\", \"Topic7\", \"Topic7\", \"Topic7\", \"Topic7\", \"Topic7\", \"Topic7\", \"Topic7\", \"Topic7\", \"Topic7\", \"Topic7\", \"Topic7\", \"Topic7\", \"Topic7\", \"Topic7\", \"Topic7\", \"Topic7\", \"Topic7\", \"Topic7\", \"Topic7\", \"Topic7\", \"Topic7\", \"Topic7\", \"Topic7\", \"Topic7\", \"Topic7\", \"Topic7\", \"Topic7\", \"Topic8\", \"Topic8\", \"Topic8\", \"Topic8\", \"Topic8\", \"Topic8\", \"Topic8\", \"Topic8\", \"Topic8\", \"Topic8\", \"Topic8\", \"Topic8\", \"Topic8\", \"Topic8\", \"Topic8\", \"Topic8\", \"Topic8\", \"Topic8\", \"Topic8\", \"Topic8\", \"Topic8\", \"Topic8\", \"Topic8\", \"Topic8\", \"Topic8\", \"Topic8\", \"Topic8\", \"Topic8\", \"Topic8\", \"Topic8\", \"Topic8\", \"Topic8\", \"Topic8\", \"Topic8\", \"Topic8\", \"Topic8\", \"Topic8\", \"Topic8\", \"Topic8\", \"Topic8\", \"Topic8\", \"Topic9\", \"Topic9\", \"Topic9\", \"Topic9\", \"Topic9\", \"Topic9\", \"Topic9\", \"Topic9\", \"Topic9\", \"Topic9\", \"Topic9\", \"Topic9\", \"Topic9\", \"Topic9\", \"Topic9\", \"Topic9\", \"Topic9\", \"Topic9\", \"Topic9\", \"Topic9\", \"Topic9\", \"Topic9\", \"Topic9\", \"Topic9\", \"Topic9\", \"Topic9\", \"Topic9\", \"Topic9\", \"Topic9\", \"Topic9\", \"Topic9\", \"Topic9\", \"Topic9\", \"Topic9\", \"Topic9\", \"Topic9\", \"Topic9\", \"Topic9\", \"Topic9\", \"Topic9\", \"Topic9\", \"Topic9\", \"Topic9\", \"Topic9\", \"Topic9\", \"Topic9\", \"Topic9\", \"Topic10\", \"Topic10\", \"Topic10\", \"Topic10\", \"Topic10\", \"Topic10\", \"Topic10\", \"Topic10\", \"Topic10\", \"Topic10\", \"Topic10\", \"Topic10\", \"Topic10\", \"Topic10\", \"Topic10\", \"Topic10\", \"Topic10\", \"Topic10\", \"Topic10\", \"Topic10\", \"Topic10\", \"Topic10\", \"Topic10\", \"Topic10\", \"Topic10\", \"Topic10\", \"Topic10\", \"Topic10\", \"Topic10\", \"Topic10\", \"Topic10\", \"Topic10\", \"Topic10\", \"Topic10\", \"Topic10\", \"Topic10\", \"Topic10\", \"Topic10\", \"Topic11\", \"Topic11\", \"Topic11\", \"Topic11\", \"Topic11\", \"Topic11\", \"Topic11\", \"Topic11\", \"Topic11\", \"Topic11\", \"Topic11\", \"Topic11\", \"Topic11\", \"Topic11\", \"Topic11\", \"Topic11\", \"Topic11\", \"Topic11\", \"Topic11\", \"Topic11\", \"Topic11\", \"Topic11\", \"Topic11\", \"Topic11\", \"Topic11\", \"Topic11\", \"Topic11\", \"Topic11\", \"Topic11\", \"Topic11\", \"Topic11\", \"Topic11\", \"Topic11\", \"Topic11\", \"Topic11\", \"Topic11\", \"Topic11\", \"Topic11\", \"Topic12\", \"Topic12\", \"Topic12\", \"Topic12\", \"Topic12\", \"Topic12\", \"Topic12\", \"Topic12\", \"Topic12\", \"Topic12\", \"Topic12\", \"Topic12\", \"Topic12\", \"Topic12\", \"Topic12\", \"Topic12\", \"Topic12\", \"Topic12\", \"Topic12\", \"Topic12\", \"Topic12\", \"Topic12\", \"Topic12\", \"Topic12\", \"Topic12\", \"Topic12\", \"Topic12\", \"Topic12\", \"Topic12\", \"Topic12\", \"Topic12\", \"Topic12\", \"Topic12\", \"Topic12\", \"Topic12\"], \"logprob\": [30.0, 29.0, 28.0, 27.0, 26.0, 25.0, 24.0, 23.0, 22.0, 21.0, 20.0, 19.0, 18.0, 17.0, 16.0, 15.0, 14.0, 13.0, 12.0, 11.0, 10.0, 9.0, 8.0, 7.0, 6.0, 5.0, 4.0, 3.0, 2.0, 1.0, -3.3942, -3.3956, -3.3978, -3.3987, -3.3989, -3.3989, -3.3989, -3.399, -3.399, -3.399, -3.3992, -3.3992, -3.3992, -3.3992, -3.3992, -3.3992, -3.3992, -3.3992, -3.3992, -3.3993, -3.3993, -3.3994, -5.336, -5.5179, -5.846, -5.8791, -5.8898, -3.425, -6.2035, -6.2406, -3.5394, -3.7034, -4.6525, -3.6348, -3.7578, -3.9219, -3.9537, -3.9793, -3.9854, -3.9874, -3.988, -3.9886, -3.9886, -4.3985, -4.4334, -4.4655, -4.4674, -4.4705, -4.4707, -4.4942, -4.4967, -4.507, -4.5106, -4.5169, -4.5266, -4.5375, -4.5416, -4.5416, -4.5416, -4.5416, -4.5416, -4.5416, -4.5416, -4.5416, -3.7142, -4.2546, -4.4915, -3.7748, -3.6418, -4.5038, -3.8592, -3.8622, -3.8684, -3.9929, -4.1767, -4.4356, -4.4356, -4.4356, -4.0797, -4.2139, -4.3079, -2.4271, -2.4795, -4.3087, -4.3375, -4.5243, -4.5987, -4.6111, -4.6163, -4.6227, -4.6227, -4.6227, -4.6999, -4.7295, -4.7817, -4.7859, -4.8281, -5.017, -5.069, -5.136, -5.1491, -5.1843, -5.1919, -5.2144, -5.2381, -5.3333, -5.3751, -5.3998, -5.4074, -5.4201, -5.4555, -4.5312, -4.7697, -3.9744, -3.9831, -4.8352, -4.6871, -4.4047, -4.2594, -4.3203, -4.3281, -4.8271, -4.762, -4.7729, -4.7955, -3.122, -3.6329, -3.6361, -3.6402, -3.7733, -3.7772, -3.7891, -3.7992, -3.8363, -3.8443, -3.854, -3.8778, -3.8832, -3.886, -3.8915, -3.8944, -3.8945, -3.8957, -3.8975, -3.8975, -3.8975, -3.8975, -3.8975, -3.8975, -3.8975, -3.8975, -3.8989, -3.9024, -3.9024, -3.9024, -3.1771, -3.8672, -3.5192, -3.8399, -3.8195, -3.8971, -1.8962, -2.5773, -2.5787, -2.587, -4.2311, -4.3711, -4.4761, -4.579, -4.5909, -4.6898, -4.7079, -4.7086, -4.8541, -5.0145, -5.0208, -5.04, -5.0905, -5.115, -5.1153, -5.1153, -5.155, -5.1599, -5.1638, -5.198, -5.226, -5.2266, -5.2397, -5.2421, -5.2434, -5.2473, -5.2473, -3.9927, -4.6971, -4.4051, -4.9153, -5.1391, -4.5665, -4.9662, -5.0198, -5.1582, -2.2715, -2.274, -2.2784, -4.1045, -4.3686, -4.6345, -4.6362, -4.6786, -4.7641, -4.886, -5.0908, -5.1233, -5.1419, -5.1651, -5.1695, -5.2065, -5.2075, -5.2222, -5.2267, -5.227, -5.2761, -5.2772, -5.2786, -5.2786, -5.2786, -5.2791, -5.2803, -5.2804, -5.2858, -5.2919, -5.2919, -5.2919, -5.2919, -5.2919, -5.2919, -5.2919, -5.2919, -4.149, -4.3385, -4.6629, -4.3545, -5.0371, -5.0467, -5.2285, -5.1785, -5.2749, -2.9161, -2.9744, -3.0163, -3.2754, -3.7074, -3.7181, -3.7202, -4.2798, -4.3648, -4.3744, -4.3758, -4.3763, -4.6518, -4.981, -4.9923, -5.086, -5.1564, -5.643, -5.8676, -5.9657, -5.9657, -6.0863, -6.1378, -6.2182, -6.3494, -3.6826, -6.3796, -6.392, -6.4936, -6.9211, -3.0046, -2.7814, -2.7798, -2.9657, -3.6665, -3.0229, -3.3085, -3.9865, -3.9523, -3.8106, -3.8158, -3.8266, -3.83, -3.4095, -4.0572, -4.1549, -4.2803, -4.2816, -3.8591, -4.0326, -4.0776, -4.1429, -4.3237, -4.4089, -4.5139, -4.557, -4.5644, -4.5805, -4.5807, -4.624, -4.6424, -4.7786, -4.8572, -4.8701, -4.896, -4.9221, -4.9314, -4.9432, -4.9432, -4.9471, -4.9758, -4.9858, -5.0931, -5.1268, -5.133, -5.1344, -5.1345, -5.1429, -3.6672, -4.7644, -4.8536, -4.557, -4.0917, -4.1258, -4.6477, -4.0483, -4.5863, -4.6555, -4.6712, -3.831, -4.5028, -4.5152, -4.5238, -4.6103, -4.6998, -4.7134, -4.7144, -4.7562, -4.8066, -4.8113, -4.8235, -4.877, -4.9641, -4.9688, -4.9688, -4.9688, -4.9708, -4.9976, -5.0111, -5.0189, -5.0231, -5.041, -5.0441, -5.065, -5.1061, -5.1172, -5.1211, -5.1219, -5.1263, -4.4608, -4.7128, -4.2238, -4.3084, -4.8215, -4.3244, -4.8007, -4.6084, -4.0932, -3.9225, -4.6948, -4.9082, -4.3564, -4.6434, -4.7587, -4.9096, -4.9155, -2.0716, -3.7213, -3.9363, -4.0864, -4.1634, -4.2052, -4.3026, -4.3403, -4.44, -4.5011, -4.5172, -4.5414, -4.5445, -4.5894, -4.5913, -4.6036, -4.6089, -4.6091, -4.6131, -4.6136, -4.6136, -4.6813, -4.7276, -4.745, -4.7644, -4.7674, -4.8076, -4.8256, -4.8474, -4.8476, -3.2244, -3.7506, -3.5479, -4.5304, -4.6286, -4.2273, -4.7124, -4.7261, -4.3777, -4.48, -4.4844, -4.7798, -4.8343, -4.9524, -5.0089, -5.1522, -5.1623, -5.2315, -5.2388, -5.2953, -5.3141, -5.345, -5.3576, -5.3656, -5.4873, -5.5067, -5.5814, -5.5846, -5.6096, -5.6985, -5.7185, -5.7221, -5.7221, -5.7339, -5.7397, -5.8067, -5.8462, -5.9163, -1.4928, -1.4961, -1.7438, -4.4278, -5.1739, -5.18, -5.5606, -5.5404, -3.688, -3.7326, -3.7371, -3.8139, -3.8352, -3.8959, -3.9203, -3.9812, -4.0873, -4.0879, -4.1069, -4.1221, -4.1263, -4.141, -4.1598, -4.1603, -4.1649, -4.1649, -4.1649, -4.1697, -4.171, -4.1759, -4.1762, -4.1833, -4.1867, -4.1951, -4.1951, -4.1952, -4.1952, -4.2499, -3.8034, -3.6945, -4.025, -3.984, -4.1714], \"loglift\": [30.0, 29.0, 28.0, 27.0, 26.0, 25.0, 24.0, 23.0, 22.0, 21.0, 20.0, 19.0, 18.0, 17.0, 16.0, 15.0, 14.0, 13.0, 12.0, 11.0, 10.0, 9.0, 8.0, 7.0, 6.0, 5.0, 4.0, 3.0, 2.0, 1.0, 2.1121, 2.1121, 2.1121, 2.1121, 2.1121, 2.1121, 2.1121, 2.1121, 2.1121, 2.1121, 2.1121, 2.1121, 2.1121, 2.1121, 2.1121, 2.1121, 2.1121, 2.1121, 2.1121, 2.1121, 2.1121, 2.1121, 2.1021, 2.0998, 2.0943, 2.0937, 2.0935, 2.0893, 2.0861, 2.0851, 1.6606, 1.3318, -0.8326, 2.1772, 2.1769, 2.1765, 2.1764, 2.1763, 2.1763, 2.1763, 2.1763, 2.1763, 2.1763, 2.1748, 2.1746, 2.1745, 2.1744, 2.1744, 2.1744, 2.1743, 2.1743, 2.1743, 2.1742, 2.1742, 2.1742, 2.1741, 2.1741, 2.1741, 2.1741, 2.1741, 2.1741, 2.1741, 2.1741, 2.1741, 2.119, 2.1099, 2.1475, 1.6472, 1.4664, 2.1432, 1.4133, 1.4089, 1.3897, 1.0913, 1.4621, 1.9953, 1.9953, 1.9949, 0.7311, 0.9861, 0.5766, 2.2483, 2.2483, 2.2444, 2.2443, 2.2433, 2.2429, 2.2428, 2.2427, 2.2427, 2.2427, 2.2427, 2.2422, 2.242, 2.2416, 2.2416, 2.2413, 2.2397, 2.2392, 2.2385, 2.2384, 2.238, 2.2379, 2.2377, 2.2374, 2.2362, 2.2357, 2.2354, 2.2353, 2.2351, 2.2346, 2.1881, 2.1695, 2.0625, 2.0473, 2.139, 2.104, 1.9199, -0.4395, -0.4678, -0.4746, 0.9309, 0.498, 0.0926, 0.0793, 2.2601, 2.2592, 2.2592, 2.2592, 2.2589, 2.2588, 2.2588, 2.2588, 2.2587, 2.2587, 2.2586, 2.2586, 2.2586, 2.2585, 2.2585, 2.2585, 2.2585, 2.2585, 2.2585, 2.2585, 2.2585, 2.2585, 2.2585, 2.2585, 2.2585, 2.2585, 2.2585, 2.2585, 2.2585, 2.2585, 2.1379, 2.2437, 2.0935, 2.1342, 1.9057, 2.1797, 2.4373, 2.4368, 2.4368, 2.4368, 2.4326, 2.4318, 2.4311, 2.4304, 2.4303, 2.4295, 2.4294, 2.4294, 2.4281, 2.4264, 2.4263, 2.4261, 2.4255, 2.4252, 2.4252, 2.4252, 2.4247, 2.4246, 2.4245, 2.4241, 2.4237, 2.4237, 2.4235, 2.4235, 2.4234, 2.4234, 2.4234, 2.2753, 2.2172, 1.9568, 2.1307, 2.1748, -0.7466, -1.1138, -1.1663, 1.2099, 2.5224, 2.5224, 2.5224, 2.5182, 2.5167, 2.5148, 2.5148, 2.5144, 2.5136, 2.5124, 2.51, 2.5095, 2.5093, 2.5089, 2.5089, 2.5083, 2.5083, 2.5081, 2.508, 2.508, 2.5073, 2.5073, 2.5072, 2.5072, 2.5072, 2.5072, 2.5072, 2.5072, 2.5071, 2.507, 2.507, 2.507, 2.507, 2.507, 2.507, 2.507, 2.507, 1.8484, 1.7977, 1.9208, 0.53, 1.331, -0.2359, 1.3398, -0.0943, 2.3206, 2.5975, 2.5974, 2.5974, 2.5968, 2.5956, 2.5956, 2.5956, 2.5929, 2.5924, 2.5923, 2.5923, 2.5923, 2.5902, 2.5867, 2.5866, 2.5854, 2.5844, 2.5753, 2.5693, 2.5664, 2.5664, 2.5622, 2.5603, 2.5571, 2.5514, 2.5512, 2.55, 2.5494, 2.5442, 2.5161, 2.2252, 2.0934, 2.0857, 1.9188, 1.9885, 1.7879, 1.7025, 1.7679, 1.6865, 1.6113, 1.4423, 1.4458, 1.4411, 0.4103, 0.9781, 0.9293, -0.4268, -0.4291, 2.6316, 2.6308, 2.6305, 2.6302, 2.6291, 2.6285, 2.6276, 2.6273, 2.6272, 2.6271, 2.6271, 2.6267, 2.6265, 2.6252, 2.6243, 2.6242, 2.6238, 2.6235, 2.6234, 2.6233, 2.6233, 2.6232, 2.6229, 2.6227, 2.6212, 2.6207, 2.6207, 2.6206, 2.6206, 2.6205, 2.0907, 2.3309, 2.3688, 2.0113, 0.7738, 0.749, 1.7204, -0.2284, 0.4247, -0.8031, -0.8177, 2.6724, 2.6682, 2.6681, 2.668, 2.6673, 2.6664, 2.6662, 2.6662, 2.6658, 2.6652, 2.6652, 2.665, 2.6644, 2.6633, 2.6632, 2.6632, 2.6632, 2.6632, 2.6628, 2.6626, 2.6625, 2.6625, 2.6622, 2.6622, 2.6619, 2.6612, 2.6611, 2.661, 2.661, 2.6609, 2.5939, 2.5866, 2.4592, 2.3889, 2.5623, 2.2248, 2.4976, 2.355, 1.847, 1.3375, 1.9663, 2.3698, 0.4545, -0.8236, 0.2523, 0.4053, 0.1198, 2.6939, 2.6907, 2.6897, 2.6889, 2.6884, 2.6882, 2.6875, 2.6872, 2.6865, 2.6859, 2.6858, 2.6856, 2.6856, 2.6851, 2.6851, 2.685, 2.685, 2.685, 2.6849, 2.6849, 2.6849, 2.6842, 2.6837, 2.6836, 2.6833, 2.6833, 2.6828, 2.6826, 2.6824, 2.6824, 2.6125, 2.5934, 2.4188, 2.616, 2.6061, 1.5674, 1.8361, 0.9875, 2.8663, 2.8653, 2.8653, 2.8618, 2.861, 2.8592, 2.8583, 2.8556, 2.8554, 2.854, 2.8539, 2.8526, 2.8522, 2.8515, 2.8512, 2.851, 2.8478, 2.8473, 2.8452, 2.8451, 2.8443, 2.8414, 2.8408, 2.8406, 2.8406, 2.8402, 2.84, 2.8376, 2.8361, 2.8333, 2.3607, 2.3563, 2.076, 2.4562, 0.8564, 0.5335, 1.0077, 0.1848, 2.9883, 2.9881, 2.9881, 2.9876, 2.9875, 2.9871, 2.987, 2.9866, 2.9858, 2.9858, 2.9857, 2.9856, 2.9855, 2.9854, 2.9853, 2.9853, 2.9852, 2.9852, 2.9852, 2.9852, 2.9852, 2.9851, 2.9851, 2.9851, 2.985, 2.985, 2.985, 2.985, 2.985, 2.9845, 2.8045, 2.4915, 2.489, 1.276, 2.4948]}, \"token.table\": {\"Topic\": [3, 2, 3, 7, 9, 10, 2, 3, 7, 9, 10, 10, 10, 2, 3, 2, 6, 7, 3, 11, 5, 3, 5, 7, 1, 2, 3, 4, 5, 6, 7, 8, 9, 10, 11, 12, 1, 2, 3, 4, 5, 6, 7, 8, 9, 10, 11, 12, 2, 3, 7, 8, 1, 7, 7, 9, 1, 2, 3, 4, 5, 6, 7, 8, 9, 10, 11, 12, 7, 2, 11, 5, 6, 3, 11, 10, 3, 3, 6, 12, 11, 12, 6, 9, 9, 2, 3, 7, 8, 7, 9, 12, 2, 1, 8, 10, 1, 6, 8, 3, 4, 11, 11, 4, 6, 6, 12, 12, 6, 1, 8, 3, 8, 12, 12, 5, 9, 8, 1, 2, 3, 5, 6, 7, 8, 9, 12, 3, 5, 1, 8, 9, 6, 12, 2, 5, 8, 9, 5, 11, 4, 4, 9, 8, 2, 2, 6, 11, 6, 6, 9, 10, 10, 10, 10, 10, 11, 6, 1, 9, 3, 4, 3, 6, 6, 6, 8, 11, 4, 4, 5, 5, 6, 9, 10, 1, 2, 3, 2, 5, 5, 8, 7, 8, 11, 6, 5, 2, 11, 9, 2, 2, 10, 10, 1, 3, 6, 3, 9, 11, 7, 12, 12, 6, 9, 6, 11, 9, 4, 4, 4, 4, 5, 1, 2, 3, 7, 9, 10, 10, 1, 3, 9, 2, 3, 7, 4, 10, 4, 11, 5, 10, 11, 6, 3, 6, 4, 4, 11, 9, 2, 4, 4, 8, 8, 3, 10, 7, 2, 6, 10, 2, 11, 11, 2, 6, 2, 9, 3, 5, 5, 8, 5, 6, 10, 10, 3, 8, 6, 11, 6, 6, 4, 3, 7, 12, 7, 12, 9, 9, 8, 8, 8, 9, 1, 2, 3, 6, 7, 8, 9, 12, 2, 7, 1, 2, 9, 12, 3, 7, 12, 2, 7, 10, 5, 1, 1, 1, 2, 8, 2, 1, 6, 3, 6, 1, 1, 8, 10, 10, 11, 3, 5, 9, 9, 3, 1, 4, 5, 8, 11, 11, 4, 11, 11, 7, 5, 12, 12, 3, 10, 7, 3, 11, 7, 6, 8, 3, 1, 9, 3, 8, 8, 11, 4, 4, 8, 8, 7, 1, 9, 1, 1, 5, 4, 4, 1, 8, 9, 9, 4, 8, 10, 11, 11, 10, 11, 4, 10, 3, 1, 6, 3, 8, 9, 7, 6, 7, 10, 9, 9, 12, 12, 10, 5, 6, 8, 8, 5, 10, 7, 8, 7, 12, 12, 6, 8, 9, 10, 6, 5, 5, 6, 1, 6, 4, 4, 1, 2, 3, 4, 6, 7, 8, 9, 4, 7, 2, 9, 3, 3, 3, 1, 2, 2, 2, 3, 7, 12, 7, 12, 9, 9, 10, 7, 10, 10, 2, 3, 6, 6, 5, 1, 3, 3, 5, 5, 5, 1, 6, 10, 10, 4, 8, 9, 4, 12, 5, 11, 1, 2, 3, 1, 2, 3, 3, 8, 12, 8, 9, 12, 12, 9, 10, 10, 2, 3, 6, 10, 10, 2, 11, 1, 1, 5, 6, 8, 1, 2, 3, 6, 7, 8, 9, 7, 1, 2, 6, 7, 9, 2, 8, 4, 4, 1, 3, 1, 1, 9, 9, 3, 12, 12, 3, 5, 6, 6, 1, 3, 9, 12, 3, 9, 12, 5, 5, 10, 1, 3, 1, 2, 3, 5, 12, 5, 6, 8, 11, 1, 5, 12, 7, 8, 2, 3, 4, 5, 6, 8, 9, 10, 9, 10, 8, 2, 2, 7, 4, 2, 2, 11, 2, 3, 6, 10, 5, 12, 12, 1, 3, 11, 1, 3, 6, 2, 3, 9, 2, 3, 6, 9, 12, 7, 3, 6, 9, 2, 3, 1, 3, 9, 9, 7, 1, 2, 3, 4, 6, 7, 9, 10, 2, 3, 6, 7, 4, 6, 7, 2, 6, 8, 4, 4, 9, 3, 8, 6, 2, 2, 12, 2, 10, 2, 11, 8, 3, 9, 8, 12, 12, 2, 2, 1, 2, 3, 6, 7, 9, 10, 12, 1, 2, 3, 7, 9, 1, 1, 1, 6, 5, 2, 3, 6, 10, 10, 2, 2], \"Freq\": [0.9865214788061284, 0.4633203155299006, 0.08987907760279493, 0.3139438203590583, 0.06709283257673425, 0.06456102757383861, 0.4651909623828027, 0.08999607174163214, 0.31562002624882257, 0.06718016622966906, 0.062109965004788374, 0.9961270087204641, 0.9963551384329864, 0.9416573906483109, 0.0555222518070938, 0.9963880810597019, 0.9937325645334392, 0.9571742970229702, 0.33662840866061017, 0.6605538585038389, 0.9900192812083215, 0.9913231347091324, 0.9926532419998536, 0.9954188394119928, 0.052492360171876, 0.051899226158634466, 0.06791384451615595, 0.07325205063532979, 0.04151938092690757, 0.01809058740386687, 0.11210232850265044, 0.056940865271187524, 0.030249834675318374, 0.02520819556276531, 0.44959558203708483, 0.021056257470074554, 0.0021470056009113537, 0.04539383270498291, 0.06563702837071853, 0.09906897272776675, 0.02729764264015864, 0.013188748691312601, 0.0484609835634277, 0.03159165384198135, 0.021163340923269058, 0.024537206867558326, 0.5974809872250453, 0.02361706161002489, 0.13031153803345724, 0.11412905945413902, 0.6030102544293315, 0.15160427300624438, 0.9975629010430619, 0.9909048721115787, 0.9571742970229702, 0.9902075218063001, 0.0021448297334194736, 0.0453478286494403, 0.06618331748837233, 0.09896857198492715, 0.02880199927734722, 0.013481786895779549, 0.04841187112575383, 0.032172446001292106, 0.021141893086563383, 0.024818744058139625, 0.5950370489000882, 0.023899531315245564, 0.96824998265242, 0.9983066459620046, 0.9648198438968472, 0.9865224096044583, 0.9814799156778042, 0.9897351006707312, 0.9770400566592151, 0.9897301798988746, 0.9922949357471952, 0.9878091067034156, 0.9876695392829686, 0.9894887208442973, 0.9890605884034229, 0.997064694308124, 0.07533502379393041, 0.919087290285951, 0.9885641324067861, 0.1299472427422277, 0.11560241724470903, 0.5982636045729832, 0.1552616406790253, 0.9922888770077152, 0.9815904775981845, 0.9918706280611342, 0.9951584667087466, 0.984250401186611, 0.9791149985205985, 0.985038633338684, 0.9863216660978517, 0.9919335219592612, 0.99335527283543, 0.06136626717909325, 0.8795831629003366, 0.05625241158083548, 0.9436984945456308, 0.9968579091423336, 0.9884786226486244, 0.9859964631823714, 0.9945504008910512, 0.9922691189847533, 0.9913498916352662, 0.9837556641934683, 0.9865184562867224, 0.2717998612571501, 0.12325807661661457, 0.6068089925741025, 0.9906301842130804, 0.9917624927275883, 0.9936738713825986, 0.9935344429306104, 0.048824482890182076, 0.15148108794133414, 0.17401546465987972, 0.053832122160969983, 0.020030557083151622, 0.026290106171636504, 0.08387795778569741, 0.26164915189866805, 0.17902310393066762, 0.9901724354768271, 0.9902990415392307, 0.16770376373772053, 0.33540752747544106, 0.4929474267442088, 0.9803840391777201, 0.9910029093318096, 0.25394725342365543, 0.7319656128093598, 0.9847319041707051, 0.9832747498089506, 0.9852626170710375, 0.9714693528429467, 0.9983684884872059, 0.9964695146737186, 0.9802210534659629, 0.9897986158267299, 0.9980024600295754, 0.9963131227505757, 0.9831265503395107, 0.9530326886128844, 0.9921354771980451, 0.9877766711531771, 0.07579163461063074, 0.9206454439467793, 0.9936723859760281, 0.9932757215796448, 0.9854436666819099, 0.9934260081385662, 0.986735285616032, 0.9989620803663846, 0.9982015190973823, 0.9884064006451243, 0.014658023879435274, 0.9820875999221633, 0.44683250427506116, 0.5456060052200746, 0.9859964631823714, 0.3057046861567046, 0.5372991453663293, 0.1528523430783523, 0.9967131882087364, 0.9967897030816836, 0.9935686066746549, 0.6179877049644136, 0.19217910337307983, 0.13188761996191753, 0.05275504798476701, 0.060555107590440506, 0.8316234775753829, 0.10496218649009688, 0.9929918949956283, 0.9884835119329647, 0.9833878986723161, 0.9893248836994752, 0.9742807771959308, 0.9933368482383934, 0.9675105662725663, 0.9835750266632459, 0.9853052647183626, 0.9940596251081484, 0.9864734976612741, 0.9930390653856704, 0.9962177038951507, 0.9929918949956283, 0.9955493721625467, 0.9875621145393227, 0.06806153056181292, 0.8303506728541177, 0.09800860400901061, 0.9913231347091324, 0.9898206378856133, 0.9846906421276244, 0.9443608297603563, 0.9958956257884637, 0.994306763978094, 0.9864593115759195, 0.983261489485704, 0.9953973586620254, 0.9784639504737532, 0.9930390653856704, 0.9984309981054463, 0.9967897030816836, 0.9971863667692236, 0.9967897030816836, 0.9990532034932361, 0.9981898781131332, 0.453583175793006, 0.09246599175945577, 0.31488418815382235, 0.0724733448925464, 0.06622564274663724, 0.9841496753583767, 0.17895038762050905, 0.07534753162968802, 0.7346384333894582, 0.5873080893195481, 0.0397426526607213, 0.37240337493194403, 0.8461399523162362, 0.1531958650509396, 0.9975981627468203, 0.9832645131792925, 0.8052599282698023, 0.18985803186848998, 0.9693705307466487, 0.9879687711642408, 0.9866679761266752, 0.9831265503395107, 0.9987392140537132, 0.996599547214211, 0.9666595108259977, 0.987403716322604, 0.07650720252746811, 0.9209200304232272, 0.9967897030816836, 0.9961802271303098, 0.9938334250022882, 0.9962586318476537, 0.9937668931192436, 0.9815208443824104, 0.4893718670024439, 0.5103075618474683, 0.9957597352511584, 0.9950968135539144, 0.9601340146997089, 0.9794729966577885, 0.9622069761926175, 0.030068968006019298, 0.9929918949956283, 0.9869455861224539, 0.9888342961766531, 0.9915518383722568, 0.991884896491414, 0.9918866399378361, 0.991884896491414, 0.0721565469742875, 0.9109764055503797, 0.9869368619865808, 0.9868377630658401, 0.9928422004522149, 0.9831265503395107, 0.9844873065123342, 0.9797200470127087, 0.9772798059492139, 0.9980132638841531, 0.990089401575041, 0.9304585012835354, 0.9916520051116108, 0.991017166093614, 0.9900222233134541, 0.9885197324316283, 0.9930390653856704, 0.992840162253479, 0.992840162253479, 0.9947898301463178, 0.9823048586249289, 0.007190513753849272, 0.23489011595907622, 0.023968379179497575, 0.0631167318393436, 0.444213960793355, 0.04314308252309563, 0.108656652280389, 0.0751009214290924, 0.996346627702464, 0.9986140293816997, 0.13178205135017715, 0.036353669337979906, 0.6361892134146483, 0.1908567640243945, 0.9833170641224479, 0.9982539914998139, 0.9908422812463548, 0.9332265331036872, 0.0377824507329428, 0.026447715513059963, 0.9992973559712358, 0.9979703521375721, 0.9979703521375721, 0.6354749040706258, 0.3030000934065878, 0.06012842320519836, 0.9963880810597019, 0.9976091879211291, 0.9831265503395107, 0.9900577233603667, 0.9831265503395107, 0.9976235166425375, 0.9979703521375721, 0.9933444925835421, 0.9858055366441106, 0.9900697788458629, 0.9668627489742907, 0.7187814142673167, 0.07260418325932491, 0.20329171312610975, 0.9798444610980565, 0.9929161480979226, 0.033890568653527416, 0.6997405645522425, 0.04385838296338842, 0.15350434037185948, 0.06778113730705483, 0.9871559180619537, 0.9984697309310163, 0.9768443430851625, 0.9590356267813783, 0.9641994189819283, 0.9839865721851376, 0.9899550923742096, 0.9906790509097012, 0.9812983189896116, 0.9889733383898852, 0.9604448678863247, 0.9938378477682999, 0.9795675786606881, 0.9873987218079825, 0.9948601825289262, 0.9850577997995733, 0.9854134157889879, 0.15378577538258167, 0.8362101536427878, 0.9912703021874035, 0.9943050278702357, 0.9921705580263968, 0.9758439134448006, 0.9982503962350675, 0.9967897030816836, 0.9943543914688081, 0.9793871018500652, 0.990321042815299, 0.9751101142664381, 0.022601890065778365, 0.9979703521375721, 0.9977958697633627, 0.9994607104273401, 0.9972034776343638, 0.9969299511512802, 0.10012511902068341, 0.14228306387149747, 0.7483035211019496, 0.9785862260913223, 0.6305008203923227, 0.0906344929313964, 0.1812689858627928, 0.09654543812257442, 0.9801417515412596, 0.9949486165118389, 0.9497226559308454, 0.9954621900776944, 0.9970097126822006, 0.9911433513174889, 0.9667098737325246, 0.9818263903597406, 0.22272997461373695, 0.7661911126712551, 0.988141942163426, 0.9986799964132602, 0.9887162222092034, 0.9976278334691449, 0.9934693003106904, 0.9878337864900264, 0.9928386033666138, 0.9929566708336207, 0.9906301842130804, 0.9873559160703591, 0.2919476861480549, 0.30332227132265444, 0.4019020095025171, 0.9937716541184821, 0.9956722848600975, 0.9898104850948948, 0.9546608281644589, 0.043092329049090154, 0.9982968413846753, 0.9955633433174566, 0.987564865015022, 0.48413202880227074, 0.19545703026178632, 0.22552734260975343, 0.09321796827869809, 0.9831265503395107, 0.9829348167557045, 0.9902990415392307, 0.999308739235025, 0.9979703521375721, 0.9831265503395107, 0.997816371952046, 0.9967897030816836, 0.02049583675391109, 0.11126311380694591, 0.004879961131883593, 0.21374229757650134, 0.042943657960575615, 0.40796475062546833, 0.10931112935419247, 0.08881529260028138, 0.9981337859031408, 0.998493248427636, 0.9941152375624616, 0.9904748822075276, 0.9952442621775138, 0.9950395123010712, 0.9991079543458373, 0.99803564476515, 0.9929918949956283, 0.9929918949956283, 0.3181381328083109, 0.04720759390058807, 0.4351308655184639, 0.19909289601552357, 0.9966779642762396, 0.9906790509097012, 0.9938268422080109, 0.9909971437053609, 0.9874076171477615, 0.9935057495971797, 0.9902023495786781, 0.9902023495786781, 0.06711993802544752, 0.9262551447511758, 0.9846848400521329, 0.9831265503395107, 0.9891685086125065, 0.9811495252758381, 0.9945644338692357, 0.9913231347091324, 0.99365398668278, 0.9946060113955931, 0.9986192938462497, 0.9977174796534861, 0.09253557593795211, 0.9031472211544126, 0.985613101035005, 0.8835265887154514, 0.011903801344968656, 0.10316627832306169, 0.9987004923675495, 0.99451883794476, 0.9832189374227424, 0.9922690421303048, 0.060540983763530405, 0.8314295103524842, 0.10493770519011937, 0.060555107590440506, 0.8316234775753829, 0.10496218649009688, 0.2677787821136931, 0.578814136722675, 0.15036808534076612, 0.9948582199008248, 0.987506189080645, 0.9890827999892827, 0.99451883794476, 0.06605475570263011, 0.9247665798368216, 0.9900305583071916, 0.0685274990830929, 0.1294408316013977, 0.040608888345536526, 0.7588786009572139, 0.9943073077056189, 0.9957905689194405, 0.9872989273871339, 0.997821928541299, 0.9977174796534861, 0.16819970360596512, 0.8151216405519848, 0.9831172562602507, 0.009460345435864943, 0.20124734836294517, 0.05676207261518966, 0.13588496171515102, 0.5065584965204047, 0.03784138174345977, 0.05160188419562697, 0.9925500686937465, 0.01214639312366229, 0.1664055857941734, 0.07287835874197374, 0.6874858507992856, 0.05951732630594522, 0.9954165174904966, 0.9836285103817962, 0.9975574454929043, 0.9954621900776944, 0.9920761823856304, 0.9922569459344233, 0.9990727754307441, 0.9979703521375721, 0.9940308585280471, 0.9914757211759248, 0.9864633841622171, 0.9904878296150247, 0.9936836809718771, 0.22455255528015503, 0.7712892116144455, 0.9849163757790955, 0.9992117107925667, 0.9979703521375721, 0.19742983624548543, 0.1930425065511413, 0.6054514978194886, 0.1787831922534077, 0.21453983070408925, 0.6078628536615862, 0.9907707022017734, 0.993117356959763, 0.9994532750417024, 0.9979703521375721, 0.9826762127598362, 0.08102504588667672, 0.04630002622095813, 0.8623379883653451, 0.9889696752753764, 0.9961733869566753, 0.8507791622490883, 0.14751412893835, 0.9908440319482354, 0.9530326886128844, 0.9724219303221959, 0.9908382878814496, 0.992606080011981, 0.9647600597994556, 0.9864633447773985, 0.4904758010277472, 0.06023387030165316, 0.24308669086024312, 0.034419354458087525, 0.026890120670380876, 0.05270463651394652, 0.07529233787706646, 0.016134072402228528, 0.9140439856033375, 0.07697212510343895, 0.9864099695761532, 0.9929918949956283, 0.9929918949956283, 0.8976432255691943, 0.9967897030816836, 0.9958109908406158, 0.9959282153052376, 0.9915480238834078, 0.1634829098490141, 0.2997186680565258, 0.104447414625759, 0.4223308504432864, 0.9806124881313651, 0.9946772455689202, 0.9886736002942925, 0.048686999981340226, 0.8168596663535971, 0.13253683328253726, 0.09731626899379724, 0.8966999071571317, 0.9839517694990928, 0.05386894952115756, 0.9427066166202572, 0.982835340013418, 0.4350247327581135, 0.05684982303088983, 0.051906360158638545, 0.4350247327581135, 0.01977385148900516, 0.9948713061724024, 0.031410258674575524, 0.06282051734915105, 0.8899573291129732, 0.9956813021835146, 0.9991393137162888, 0.13752480302089273, 0.13064856286984808, 0.7220052158596868, 0.979358812006374, 0.9544952840697901, 0.00840079287284427, 0.3370818140228763, 0.08085763140112609, 0.2121200200393178, 0.07350693763738736, 0.18796774052989051, 0.05145485634617115, 0.04935465812796008, 0.4882154660280217, 0.009142611723371193, 0.09874020661240888, 0.40227491582833247, 0.9954621900776944, 0.9922728153893209, 0.933241720957341, 0.9933356208223414, 0.2588903875366473, 0.7374453463165105, 0.9983108353464225, 0.9967897030816836, 0.9831301286354666, 0.9853605381416224, 0.9840996913928545, 0.9859964631823713, 0.997993404764513, 0.9982050088237086, 0.99451883794476, 0.9693989506139755, 0.024856383349076295, 0.9942435510508845, 0.9639493780369425, 0.992106753337113, 0.1922060498001758, 0.8051875059196554, 0.1686648720342156, 0.8288673711395738, 0.988995574436817, 0.9952601281177129, 0.9929918949956283, 0.45795828007155337, 0.12298879573974031, 0.08199253049316022, 0.019998178169063466, 0.19798196387372832, 0.07799289485934752, 0.018998269260610292, 0.022997904894422987, 0.024158371397749522, 0.28246711172753286, 0.06690010540915252, 0.5426341883186816, 0.0817667955000753, 0.998064066696323, 0.9976772827180304, 0.9979703521375721, 0.9929024653928874, 0.9864865686924531, 0.4017825846722162, 0.2286741306379103, 0.04487996956444969, 0.3248454939903025, 0.9899373919091732, 0.9976254320536402, 0.9971162641861152], \"Term\": [\"account\", \"air\", \"air\", \"air\", \"air\", \"air\", \"air force\", \"air force\", \"air force\", \"air force\", \"air force\", \"amendment\", \"amendment right\", \"america\", \"america\", \"america told\", \"american\", \"angelwarrior\", \"antifa\", \"antifa\", \"arm\", \"arm pray\", \"arrested\", \"arrested murder\", \"ashli\", \"ashli\", \"ashli\", \"ashli\", \"ashli\", \"ashli\", \"ashli\", \"ashli\", \"ashli\", \"ashli\", \"ashli\", \"ashli\", \"ashli babbit\", \"ashli babbit\", \"ashli babbit\", \"ashli babbit\", \"ashli babbit\", \"ashli babbit\", \"ashli babbit\", \"ashli babbit\", \"ashli babbit\", \"ashli babbit\", \"ashli babbit\", \"ashli babbit\", \"ashli babbitt\", \"ashli babbitt\", \"ashli babbitt\", \"ashli babbitt\", \"ashli know\", \"ashli_babbitt\", \"ashli_babbitt angelwarrior\", \"ashlibabbit\", \"babbit\", \"babbit\", \"babbit\", \"babbit\", \"babbit\", \"babbit\", \"babbit\", \"babbit\", \"babbit\", \"babbit\", \"babbit\", \"babbit\", \"babbit air\", \"babbit congress\", \"babbit death\", \"babbit die\", \"babbit got\", \"babbit life\", \"babbit murdered\", \"babbit proudly\", \"babbit remember\", \"babbit say\", \"babbit shot\", \"babbit stormed\", \"babbit terrorist\", \"babbit thought\", \"babbit unarmed\", \"babbit unarmed\", \"babbit veteran\", \"babbitt\", \"babbitt\", \"babbitt\", \"babbitt\", \"babbitt ashli\", \"babbitt fighting\", \"babbitt say\", \"babbitt unarmed\", \"babbitt woman\", \"believe\", \"bitch\", \"black\", \"blake\", \"bless\", \"blood\", \"blood\", \"blood\", \"blood hand\", \"blood today\", \"body\", \"body laid\", \"breach\", \"breach window\", \"break\", \"breaking\", \"broke\", \"building\", \"building\", \"building\", \"building terrorism\", \"bullet\", \"california\", \"capital\", \"capitol\", \"capitol\", \"capitol\", \"capitol\", \"capitol\", \"capitol\", \"capitol\", \"capitol\", \"capitol\", \"capitol building\", \"capitol care\", \"capitol police\", \"capitol police\", \"capitol police\", \"capitol today\", \"capitol tried\", \"care\", \"care\", \"cassandrarules\", \"cassandrarules establishment\", \"catching\", \"clear\", \"cold\", \"cold blood\", \"coming\", \"complied\", \"congress\", \"congress today\", \"congress walked\", \"conspiracy theory\", \"cop\", \"cop congress\", \"country\", \"country\", \"country died\", \"country lmaooooo\", \"country served\", \"country year\", \"coup\", \"daughter\", \"daughter law\", \"day\", \"dc police\", \"dc police\", \"dead\", \"dead\", \"dead body\", \"death\", \"death\", \"death\", \"dedicated\", \"dedicated mentioned\", \"die\", \"died\", \"died\", \"died\", \"died\", \"diego\", \"diego\", \"diego\", \"diego ewerickson\", \"domestic\", \"domestic terrorist\", \"door\", \"earlier\", \"election\", \"election ashli\", \"election people\", \"enemy\", \"erick\", \"establishment\", \"establishment okay\", \"ewerickson\", \"ewerickson wanted\", \"expressing\", \"expressing amendment\", \"family\", \"family\", \"family\", \"family nation\", \"far\", \"fascist\", \"fbi\", \"federal\", \"federal building\", \"feed\", \"feel\", \"fighting\", \"fighting country\", \"fighting iraq\", \"floor\", \"floor given\", \"floyd\", \"floyd plaza\", \"follow\", \"follow update\", \"force\", \"force\", \"force\", \"force\", \"force\", \"force high\", \"force vet\", \"force vet\", \"force vet\", \"force veteran\", \"force veteran\", \"force veteran\", \"forget\", \"forget\", \"forget ashli\", \"fought\", \"fuck\", \"fuck\", \"fucked\", \"fucking\", \"game\", \"game canceled\", \"george\", \"george floyd\", \"getting\", \"girl\", \"given\", \"given\", \"given moment\", \"god\", \"god bless\", \"going\", \"gonna\", \"good\", \"got\", \"got\", \"got shot\", \"got wish\", \"government rip\", \"guy\", \"happy\", \"happy\", \"happy erick\", \"hearing\", \"heart\", \"heather\", \"heather heyer\", \"hero\", \"heyer\", \"high\", \"high\", \"high level\", \"home\", \"honor\", \"honor maga\", \"hope\", \"hour\", \"hour later\", \"house floor\", \"inside\", \"insurgent\", \"invading\", \"invading capitol\", \"invading federal\", \"iraq\", \"iraq america\", \"jacob\", \"jacob blake\", \"justice\", \"kaitmarieox\", \"killed\", \"killed\", \"killed\", \"killed\", \"killed\", \"killed\", \"killed\", \"killed\", \"killed air\", \"killed ashli\", \"killed capitol\", \"killed capitol\", \"killed capitol\", \"killed capitol\", \"killed cop\", \"killed peaceful\", \"killed peacefully\", \"killed today\", \"killed today\", \"killed today\", \"kind\", \"kind person\", \"kind retweet\", \"know\", \"know\", \"know\", \"know america\", \"know daughter\", \"laid hour\", \"later\", \"later steal\", \"law\", \"law wonderful\", \"let\", \"level\", \"level security\", \"lie\", \"life\", \"life\", \"life\", \"life matter\", \"life mattered\", \"like\", \"like\", \"like\", \"like\", \"like\", \"like ashli\", \"like george\", \"line\", \"literally\", \"lmao\", \"lmaooooo\", \"lobby\", \"lobby killed\", \"long\", \"look\", \"looking\", \"loss\", \"lost\", \"love\", \"maga\", \"make\", \"martyr\", \"matter\", \"matter\", \"mattered\", \"maybe\", \"melissa\", \"member\", \"mentioned\", \"mentioned house\", \"mike_pence\", \"mike_pence ashli\", \"mike_pence killed\", \"military\", \"military\", \"military woman\", \"miss\", \"miss ashli\", \"moment\", \"moment silence\", \"murder\", \"murder\", \"murder\", \"murder ashli\", \"murdered\", \"murdered\", \"murdered\", \"murdered\", \"murdered ashli\", \"murdered expressing\", \"murdered government\", \"murdered veteran\", \"nation\", \"nation word\", \"nationalfile\", \"nba\", \"need\", \"need\", \"nypost\", \"officer\", \"officer killed\", \"officer shot\", \"official time\", \"okay\", \"okay ashli\", \"outside\", \"outside invading\", \"pack\", \"patriot\", \"patriot\", \"patriot\", \"patriot veteran\", \"peace\", \"peace ashli\", \"peaceful\", \"peaceful\", \"peaceful protest\", \"peacefully\", \"peacefully protest\", \"people\", \"people\", \"people\", \"people\", \"people shame\", \"perception\", \"perception world\", \"person\", \"person military\", \"playoff game\", \"plaza\", \"plaza dedicated\", \"police\", \"police\", \"police\", \"police\", \"police\", \"police\", \"police\", \"police\", \"police murdered\", \"police officer\", \"police protest\", \"police today\", \"pray\", \"pray family\", \"prayer\", \"prayer follow\", \"presumably\", \"presumably police\", \"protest\", \"protest\", \"protest\", \"protest\", \"protest air\", \"protest outside\", \"protester\", \"protester killed\", \"protestor\", \"protestor arrested\", \"proudly\", \"proudly served\", \"qanon\", \"qanon\", \"rapist\", \"rapist jacob\", \"real\", \"really\", \"remember\", \"remember sister\", \"rest\", \"rest peace\", \"retweet\", \"retweet share\", \"right\", \"right\", \"right forget\", \"rip\", \"rip\", \"rip\", \"rip ashli\", \"roof\", \"sad\", \"said\", \"san\", \"san\", \"san\", \"san diego\", \"san diego\", \"san diego\", \"say\", \"say\", \"say\", \"say ashli\", \"saying\", \"scream\", \"scream roof\", \"security\", \"security\", \"security official\", \"served\", \"served\", \"served\", \"served\", \"served country\", \"service san\", \"shame\", \"share\", \"share prayer\", \"shit\", \"shit\", \"shoot\", \"shot\", \"shot\", \"shot\", \"shot\", \"shot\", \"shot\", \"shot\", \"shot ashli\", \"shot killed\", \"shot killed\", \"shot killed\", \"shot killed\", \"shot killed\", \"shot today\", \"sick\", \"silence\", \"silence forget\", \"sister\", \"sister arm\", \"smart\", \"smart kind\", \"sorry\", \"sorry loss\", \"soul\", \"speaker\", \"speaker lobby\", \"state\", \"state\", \"steal\", \"stop\", \"stop miss\", \"stormed\", \"stormed\", \"stormed\", \"stormed capitol\", \"stormed capitol\", \"stormed capitol\", \"storming\", \"storming capitol\", \"strong\", \"strong smart\", \"stupid\", \"supporter\", \"supporter\", \"supporter\", \"tamir\", \"terrorism\", \"terrorist\", \"terrorist\", \"thank\", \"theory\", \"thing\", \"thought\", \"thought gonna\", \"thread\", \"thug\", \"today\", \"today\", \"today\", \"today\", \"today\", \"today\", \"today\", \"today\", \"today ashli\", \"today ashli\", \"today capitol\", \"today got\", \"today presumably\", \"today storming\", \"today vigil\", \"today want\", \"told\", \"tonight\", \"tour\", \"tour\", \"tour\", \"tour\", \"traitor\", \"tried\", \"tried breach\", \"trump\", \"trump\", \"trump\", \"trump supporter\", \"trump supporter\", \"trying\", \"tweet\", \"tweet\", \"twitter feed\", \"unarmed\", \"unarmed\", \"unarmed\", \"unarmed\", \"unarmed\", \"unarmed protestor\", \"unarmed woman\", \"unarmed woman\", \"unarmed woman\", \"unarmed young\", \"update\", \"vet\", \"vet\", \"vet\", \"vet california\", \"vet shot\", \"veteran\", \"veteran\", \"veteran\", \"veteran\", \"veteran\", \"veteran\", \"veteran\", \"veteran\", \"veteran ashli\", \"veteran ashli\", \"veteran ashli\", \"veteran ashli\", \"veteran cold\", \"veteran killed\", \"veteran san\", \"veteran year\", \"video\", \"video\", \"vigil\", \"vigil like\", \"vile\", \"violence\", \"walked\", \"walked dead\", \"want\", \"want know\", \"want scream\", \"wanted\", \"wanted\", \"wanted shot\", \"washington\", \"way\", \"white\", \"white\", \"window\", \"window\", \"window speaker\", \"wish\", \"wish happy\", \"woman\", \"woman\", \"woman\", \"woman\", \"woman\", \"woman\", \"woman\", \"woman\", \"woman shot\", \"woman shot\", \"woman shot\", \"woman shot\", \"woman shot\", \"woman strong\", \"wonderful\", \"wonderful kind\", \"word\", \"world\", \"year\", \"year\", \"year\", \"year\", \"year murdered\", \"year service\", \"young woman\"]}, \"R\": 30, \"lambda.step\": 0.01, \"plot.opts\": {\"xlab\": \"PC1\", \"ylab\": \"PC2\"}, \"topic.order\": [10, 7, 2, 6, 5, 11, 4, 3, 8, 9, 12, 1]};\n",
       "\n",
       "function LDAvis_load_lib(url, callback){\n",
       "  var s = document.createElement('script');\n",
       "  s.src = url;\n",
       "  s.async = true;\n",
       "  s.onreadystatechange = s.onload = callback;\n",
       "  s.onerror = function(){console.warn(\"failed to load library \" + url);};\n",
       "  document.getElementsByTagName(\"head\")[0].appendChild(s);\n",
       "}\n",
       "\n",
       "if(typeof(LDAvis) !== \"undefined\"){\n",
       "   // already loaded: just create the visualization\n",
       "   !function(LDAvis){\n",
       "       new LDAvis(\"#\" + \"ldavis_el431251403162000862249768679160\", ldavis_el431251403162000862249768679160_data);\n",
       "   }(LDAvis);\n",
       "}else if(typeof define === \"function\" && define.amd){\n",
       "   // require.js is available: use it to load d3/LDAvis\n",
       "   require.config({paths: {d3: \"https://cdnjs.cloudflare.com/ajax/libs/d3/3.5.5/d3.min\"}});\n",
       "   require([\"d3\"], function(d3){\n",
       "      window.d3 = d3;\n",
       "      LDAvis_load_lib(\"https://cdn.rawgit.com/bmabey/pyLDAvis/files/ldavis.v1.0.0.js\", function(){\n",
       "        new LDAvis(\"#\" + \"ldavis_el431251403162000862249768679160\", ldavis_el431251403162000862249768679160_data);\n",
       "      });\n",
       "    });\n",
       "}else{\n",
       "    // require.js not available: dynamically load d3 & LDAvis\n",
       "    LDAvis_load_lib(\"https://cdnjs.cloudflare.com/ajax/libs/d3/3.5.5/d3.min.js\", function(){\n",
       "         LDAvis_load_lib(\"https://cdn.rawgit.com/bmabey/pyLDAvis/files/ldavis.v1.0.0.js\", function(){\n",
       "                 new LDAvis(\"#\" + \"ldavis_el431251403162000862249768679160\", ldavis_el431251403162000862249768679160_data);\n",
       "            })\n",
       "         });\n",
       "}\n",
       "</script>"
      ],
      "text/plain": [
       "PreparedData(topic_coordinates=                x           y  topics  cluster       Freq\n",
       "topic                                                    \n",
       "9      5.310529    171.049652  1       1        12.077758\n",
       "6      136.304657  23.800941   2       1        11.311724\n",
       "1      101.190552 -84.985191   3       1        10.550520\n",
       "5     -106.824867  148.841736  4       1        10.419226\n",
       "4     -44.365761   78.632721   5       1        8.734976 \n",
       "10     43.884090   73.474022   6       1        8.020198 \n",
       "3      114.093971  135.933029  7       1        7.434107 \n",
       "2     -119.727142 -72.077179   8       1        7.165650 \n",
       "7     -49.518208  -9.617325    9       1        6.878839 \n",
       "8     -141.938736  40.055210   10      1        6.756517 \n",
       "11     38.731544  -14.776019   11      1        5.638792 \n",
       "0     -10.944340  -107.193344  12      1        5.011692 , topic_info=                 Term         Freq        Total Category  logprob  loglift\n",
       "929   kind             2017.000000  2017.000000  Default  30.0000  30.0000\n",
       "68    ashli babbit     3260.000000  3260.000000  Default  29.0000  29.0000\n",
       "113   babbit           3263.000000  3263.000000  Default  28.0000  28.0000\n",
       "1625  strong           1309.000000  1309.000000  Default  27.0000  27.0000\n",
       "66    ashli            3371.000000  3371.000000  Default  26.0000  26.0000\n",
       "...     ...                    ...          ...      ...      ...      ...\n",
       "1928  window           171.788915   207.512089   Topic12 -3.8034   2.8045 \n",
       "265   building         191.556284   316.409286   Topic12 -3.6945   2.4915 \n",
       "1619  stormed          137.644076   227.929075   Topic12 -4.0250   2.4890 \n",
       "292   capitol          143.404838   798.779581   Topic12 -3.9840   1.2760 \n",
       "1621  stormed capitol  118.901375   195.767843   Topic12 -4.1714   2.4948 \n",
       "\n",
       "[524 rows x 6 columns], token_table=      Topic      Freq           Term\n",
       "term                                \n",
       "9     3      0.986521  account      \n",
       "29    2      0.463320  air          \n",
       "29    3      0.089879  air          \n",
       "29    7      0.313944  air          \n",
       "29    9      0.067093  air          \n",
       "...  ..           ...  ...          \n",
       "1973  6      0.044880  year         \n",
       "1973  10     0.324845  year         \n",
       "1977  10     0.989937  year murdered\n",
       "1979  2      0.997625  year service \n",
       "1989  2      0.997116  young woman  \n",
       "\n",
       "[667 rows x 3 columns], R=30, lambda_step=0.01, plot_opts={'xlab': 'PC1', 'ylab': 'PC2'}, topic_order=[10, 7, 2, 6, 5, 11, 4, 3, 8, 9, 12, 1])"
      ]
     },
     "execution_count": 36,
     "metadata": {},
     "output_type": "execute_result"
    }
   ],
   "source": [
    "pyLDAvis.enable_notebook()\n",
    "panel = pyLDAvis.sklearn.prepare(lda_model_2, doc_term_matrix_1, tfidfconverter, mds='tsne')\n",
    "panel"
   ]
  },
  {
   "cell_type": "code",
   "execution_count": null,
   "metadata": {},
   "outputs": [],
   "source": []
  }
 ],
 "metadata": {
  "kernelspec": {
   "display_name": "Python 3",
   "language": "python",
   "name": "python3"
  },
  "language_info": {
   "codemirror_mode": {
    "name": "ipython",
    "version": 3
   },
   "file_extension": ".py",
   "mimetype": "text/x-python",
   "name": "python",
   "nbconvert_exporter": "python",
   "pygments_lexer": "ipython3",
   "version": "3.7.7"
  }
 },
 "nbformat": 4,
 "nbformat_minor": 4
}
