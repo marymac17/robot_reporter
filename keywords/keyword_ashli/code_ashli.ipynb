{
 "cells": [
  {
   "cell_type": "markdown",
   "metadata": {},
   "source": [
    "# Part 1: Data cleaning "
   ]
  },
  {
   "cell_type": "markdown",
   "metadata": {},
   "source": [
    "## Part 1: Data import and cleaning"
   ]
  },
  {
   "cell_type": "code",
   "execution_count": 2,
   "metadata": {},
   "outputs": [],
   "source": [
    "#import initial libraries\n",
    "\n",
    "import pandas as pd\n",
    "import numpy as np"
   ]
  },
  {
   "cell_type": "code",
   "execution_count": 3,
   "metadata": {},
   "outputs": [],
   "source": [
    "#import data \n",
    "\n",
    "df = pd.read_csv(\"data/ashli.csv\")"
   ]
  },
  {
   "cell_type": "code",
   "execution_count": 4,
   "metadata": {},
   "outputs": [
    {
     "name": "stdout",
     "output_type": "stream",
     "text": [
      "<class 'pandas.core.frame.DataFrame'>\n",
      "RangeIndex: 42996 entries, 0 to 42995\n",
      "Data columns (total 37 columns):\n",
      " #   Column                        Non-Null Count  Dtype  \n",
      "---  ------                        --------------  -----  \n",
      " 0   id                            42996 non-null  int64  \n",
      " 1   tweet_url                     42996 non-null  object \n",
      " 2   created_at                    42996 non-null  object \n",
      " 3   parsed_created_at             42996 non-null  object \n",
      " 4   user_screen_name              42996 non-null  object \n",
      " 5   text                          42996 non-null  object \n",
      " 6   tweet_type                    42996 non-null  object \n",
      " 7   coordinates                   0 non-null      float64\n",
      " 8   hashtags                      1926 non-null   object \n",
      " 9   media                         2423 non-null   object \n",
      " 10  urls                          6191 non-null   object \n",
      " 11  favorite_count                42996 non-null  int64  \n",
      " 12  in_reply_to_screen_name       3216 non-null   object \n",
      " 13  in_reply_to_status_id         3044 non-null   float64\n",
      " 14  in_reply_to_user_id           3216 non-null   float64\n",
      " 15  lang                          42996 non-null  object \n",
      " 16  place                         192 non-null    object \n",
      " 17  possibly_sensitive            6487 non-null   object \n",
      " 18  retweet_count                 42996 non-null  int64  \n",
      " 19  retweet_or_quote_id           38608 non-null  float64\n",
      " 20  retweet_or_quote_screen_name  38608 non-null  object \n",
      " 21  retweet_or_quote_user_id      38608 non-null  float64\n",
      " 22  source                        42981 non-null  object \n",
      " 23  user_id                       42996 non-null  int64  \n",
      " 24  user_created_at               42996 non-null  object \n",
      " 25  user_default_profile_image    42996 non-null  bool   \n",
      " 26  user_description              35357 non-null  object \n",
      " 27  user_favourites_count         42996 non-null  int64  \n",
      " 28  user_followers_count          42996 non-null  int64  \n",
      " 29  user_friends_count            42996 non-null  int64  \n",
      " 30  user_listed_count             42996 non-null  int64  \n",
      " 31  user_location                 25822 non-null  object \n",
      " 32  user_name                     42995 non-null  object \n",
      " 33  user_statuses_count           42996 non-null  int64  \n",
      " 34  user_time_zone                0 non-null      float64\n",
      " 35  user_urls                     0 non-null      float64\n",
      " 36  user_verified                 42996 non-null  bool   \n",
      "dtypes: bool(2), float64(7), int64(9), object(19)\n",
      "memory usage: 11.6+ MB\n"
     ]
    }
   ],
   "source": [
    "# look at basic info about data\n",
    "\n",
    "df.info()\n",
    "# this data set consists of 42996 Tweets\n",
    "# Twarc filter tracking keyword \"ashli\" started within half-hour after name of \"ashli babbitt\" was published\n",
    "# (Ashley Babbit is the protester who was killed in the capitol during the riots on Jan. 6)"
   ]
  },
  {
   "cell_type": "code",
   "execution_count": 5,
   "metadata": {},
   "outputs": [
    {
     "name": "stdout",
     "output_type": "stream",
     "text": [
      "35 ['en' 'th' 'tl' 'und' 'pt' 'es' 'lt' 'it' 'fr' 'ja' 'de' 'ht' 'zh' 'in'\n",
      " 'el' 'ca' 'is' 'pl' 'nl' 'ko' 'fa' 'hu' 'ar' 'cy' 'cs' 'et' 'no' 'tr'\n",
      " 'lv' 'sv' 'ro' 'sl' 'eu' 'fi' 'da']\n"
     ]
    }
   ],
   "source": [
    "# count number of languages in data set\n",
    "\n",
    "count_lang = df['lang'].unique()\n",
    "print(len(count_lang), count_lang)"
   ]
  },
  {
   "cell_type": "code",
   "execution_count": 7,
   "metadata": {},
   "outputs": [
    {
     "data": {
      "text/plain": [
       "(38884, 37)"
      ]
     },
     "execution_count": 7,
     "metadata": {},
     "output_type": "execute_result"
    }
   ],
   "source": [
    "# tweets are in 35 different languages\n",
    "\n",
    "# I'll be working only with Tweets in English\n",
    "# drop tweets in all other languages\n",
    "# now working with 38884 Tweets \n",
    "\n",
    "df = df[df.lang == 'en']\n",
    "df.shape"
   ]
  },
  {
   "cell_type": "code",
   "execution_count": 8,
   "metadata": {},
   "outputs": [],
   "source": [
    "# drop unnecessary columns \n",
    "\n",
    "df = df.drop(['tweet_url', 'created_at', 'media', 'urls','in_reply_to_screen_name',\n",
    "       'in_reply_to_status_id', 'in_reply_to_user_id', 'retweet_or_quote_id',\n",
    "       'retweet_or_quote_screen_name', 'retweet_or_quote_user_id', 'source',\n",
    "       'user_created_at', 'user_name', 'user_verified', 'user_friends_count', 'user_listed_count',\n",
    "       'user_statuses_count', 'user_default_profile_image', 'user_description',\n",
    "       'user_favourites_count', 'user_followers_count', 'coordinates', 'lang', 'user_location', 'user_time_zone', 'user_urls', 'place'], axis=1)"
   ]
  },
  {
   "cell_type": "code",
   "execution_count": 10,
   "metadata": {},
   "outputs": [
    {
     "data": {
      "text/plain": [
       "id                           1347022076096307201\n",
       "parsed_created_at      2021-01-07 03:27:44+00:00\n",
       "user_screen_name                 unabashedlycri1\n",
       "text                  Her name was Ashli Babbit.\n",
       "tweet_type                               retweet\n",
       "hashtags                                     NaN\n",
       "favorite_count                              5602\n",
       "possibly_sensitive                           NaN\n",
       "retweet_count                                  0\n",
       "user_id                      1279137538104426496\n",
       "Name: 0, dtype: object"
      ]
     },
     "execution_count": 10,
     "metadata": {},
     "output_type": "execute_result"
    }
   ],
   "source": [
    "# check start time & date of data\n",
    "\n",
    "df.iloc[0]\n",
    "\n",
    "# first Tweet downloaded Jan 7, 2021 at 03:27:44"
   ]
  },
  {
   "cell_type": "code",
   "execution_count": 12,
   "metadata": {},
   "outputs": [
    {
     "data": {
      "text/plain": [
       "id                                                  1347064414789271558\n",
       "parsed_created_at                             2021-01-07 06:15:58+00:00\n",
       "user_screen_name                                            Ben18629860\n",
       "text                  Not one of these worthless fuckers have given ...\n",
       "tweet_type                                                      retweet\n",
       "hashtags                                                            NaN\n",
       "favorite_count                                                     1986\n",
       "possibly_sensitive                                                  NaN\n",
       "retweet_count                                                         0\n",
       "user_id                                             1193375422752256002\n",
       "Name: 42995, dtype: object"
      ]
     },
     "execution_count": 12,
     "metadata": {},
     "output_type": "execute_result"
    }
   ],
   "source": [
    "# check end time & date of data \n",
    "\n",
    "df.iloc[-1]\n",
    "\n",
    "# last Tweet on Jan 7, 2021 at 06:15:58"
   ]
  },
  {
   "cell_type": "markdown",
   "metadata": {},
   "source": [
    "# Part 2: Text processing for NLP "
   ]
  },
  {
   "cell_type": "code",
   "execution_count": 13,
   "metadata": {},
   "outputs": [],
   "source": [
    "# create variable for \"text\" column \n",
    "text = df['text'] "
   ]
  },
  {
   "cell_type": "code",
   "execution_count": 14,
   "metadata": {},
   "outputs": [],
   "source": [
    "# tokenize, remove stopwords, remove urls, lowercase, remove punctuation, remove numbers\n",
    "# import necessary libraries: ntlk etc.\n",
    "\n",
    "import string\n",
    "import re\n",
    "import nltk\n",
    "from nltk.corpus import stopwords\n",
    "from nltk.tokenize import TweetTokenizer\n",
    "from nltk import pos_tag\n",
    "from nltk.stem import WordNetLemmatizer \n",
    "\n",
    "\n",
    "stop = stopwords.words('english')\n",
    "\n",
    "punc = list(set(string.punctuation))\n",
    "\n",
    "def tokenizer(text):\n",
    "    tokenizer = TweetTokenizer()\n",
    "    tokens = tokenizer.tokenize(text)\n",
    "    return tokens\n",
    "\n",
    "def remove_url(text):\n",
    "    url = re.compile(r\"https?://\\S+|www\\.\\S+\")\n",
    "    return url.sub(r'', text)\n",
    "\n",
    "def process_text(text):\n",
    "    text = remove_url(text)\n",
    "    text = tokenizer(text)\n",
    "    text = [word.lower() for word in text]\n",
    "    text = [re.sub('[0-9]+', '', word) for word in text]\n",
    "    text = [word for word in text if word not in punc]\n",
    "    text = [word for word in text if word not in stop]\n",
    "    text = [each for each in text if len(each) > 1]\n",
    "    text = [word for word in text if ' ' not in word]\n",
    "     \n",
    "    return text"
   ]
  },
  {
   "cell_type": "code",
   "execution_count": 15,
   "metadata": {},
   "outputs": [],
   "source": [
    "# apply text processing functions to text\n",
    "\n",
    "df['processed_text'] = df['text'].apply(process_text)"
   ]
  },
  {
   "cell_type": "code",
   "execution_count": 16,
   "metadata": {},
   "outputs": [
    {
     "name": "stderr",
     "output_type": "stream",
     "text": [
      "/opt/anaconda3/lib/python3.7/site-packages/ipykernel_launcher.py:3: FutureWarning: Passing a negative integer is deprecated in version 1.0 and will not be supported in future version. Instead, use None to not limit the column width.\n",
      "  This is separate from the ipykernel package so we can avoid doing imports until\n"
     ]
    },
    {
     "data": {
      "text/plain": [
       "0     [name, ashli, babbit]                                                                                                                                                                                                             \n",
       "1     [police, officer, shot, killed, ashli, babbitt]                                                                                                                                                                                   \n",
       "2     [name, ashli, babbit, year, veteran, served, four, tours, us, air, force, high, level, security, official, throughout, time, service]                                                                                             \n",
       "3     [@the_real_fly, believe, young, lady, ashli, babbit]                                                                                                                                                                              \n",
       "4     [living, history, right, beginning, american, revolution]                                                                                                                                                                         \n",
       "5     [police, officer, shot, killed, ashli, babbitt]                                                                                                                                                                                   \n",
       "6     [garrison, critical, thread, insurgent, killed, today, storming, capitol]                                                                                                                                                         \n",
       "7     [ashli, babbit, rednèck, ass, family, friends, online, trying, paint, like, oluwatoyin, salau, fuck, outta]                                                                                                                       \n",
       "8     [ashli, babbit, going, remembered, terrorist, martyr]                                                                                                                                                                             \n",
       "9     [ashli, babbit, stormed, capitol, tried, breach, window, speaker, lobby, killed, peacefully, protest, outside, invading, federal, building, terrorism]                                                                            \n",
       "10    [lin, wood, responsible, death, ashli, babbitt, alone]                                                                                                                                                                            \n",
       "12    [dc, police, murdered, veteran, cold, blood, today, vigils, like, george, floyd, get, plaza, dedicated, even, name, mentioned, house, floor, given, moment, silence, never, forget, ashli, babbit]                                \n",
       "13    [people, celebrating, death, ashli, babbit, twitter, think, think, transpired, summer]                                                                                                                                            \n",
       "14    [police, officer, shot, killed, ashli, babbitt]                                                                                                                                                                                   \n",
       "15    [police, officer, shot, killed, ashli, babbitt]                                                                                                                                                                                   \n",
       "16    [dc, police, murdered, veteran, cold, blood, today, vigils, like, george, floyd, get, plaza, dedicated, even, name, mentioned, house, floor, given, moment, silence, never, forget, ashli, babbit]                                \n",
       "17    [ashli, babbit, truly, defended, constitution, united, states, enemies, foreign, domestic, happened, today, senseless, rest, peace, beautiful, patriot]                                                                           \n",
       "18    [unarmed, woman, shot, dead, capitol, protest, identified, year, air, force, veteran, ashli, babbit, martyr, ashli, babbit, year, veteran, served, four, tours, us, air, force, high, level, security, official, throughout, time]\n",
       "19    [killed, air, force, veteran, ashli, babbit, congress, today, want, know, america, must, told]                                                                                                                                    \n",
       "20    [terrorist, name, ashli, babbit, year, veteran, killed, committing, treason, fixed]                                                                                                                                               \n",
       "Name: processed_text, dtype: object"
      ]
     },
     "execution_count": 16,
     "metadata": {},
     "output_type": "execute_result"
    }
   ],
   "source": [
    "# look at some of processed text\n",
    "\n",
    "pd.set_option('display.max_colwidth', -1)\n",
    "df['processed_text'][:20]"
   ]
  },
  {
   "cell_type": "code",
   "execution_count": 26,
   "metadata": {},
   "outputs": [],
   "source": [
    "# part-of-speech tagging \n",
    "\n",
    "ready_for_pos = df['processed_text']\n",
    "\n",
    "def pos_tagging(text):\n",
    "    pos_tag = [pos_tag(word) for word in ready_for_pos]\n",
    "\n",
    "df['pos_tagged'] = df.processed_text.apply(lambda x: pos_tag(x))"
   ]
  },
  {
   "cell_type": "code",
   "execution_count": 27,
   "metadata": {},
   "outputs": [],
   "source": [
    "# lemmatizing\n",
    "\n",
    "pos_tagged = df['pos_tagged']\n",
    "\n",
    "wordnet = WordNetLemmatizer() \n",
    "\n",
    "lemmatized = [[wordnet.lemmatize(word[0]) for word in words] for words in pos_tagged]"
   ]
  },
  {
   "cell_type": "code",
   "execution_count": 23,
   "metadata": {},
   "outputs": [],
   "source": [
    "pos_tagged = df['pos_tagged']"
   ]
  },
  {
   "cell_type": "code",
   "execution_count": 30,
   "metadata": {},
   "outputs": [],
   "source": [
    "# lemmatizing\n",
    "\n",
    "from nltk.stem import WordNetLemmatizer \n",
    "wordnet = WordNetLemmatizer() \n",
    "\n",
    "lemmatized = [[wordnet.lemmatize(word[0]) for word in words] for words in pos_tagged]"
   ]
  },
  {
   "cell_type": "code",
   "execution_count": 31,
   "metadata": {},
   "outputs": [
    {
     "data": {
      "text/plain": [
       "[['name', 'ashli', 'babbit'],\n",
       " ['police', 'officer', 'shot', 'killed', 'ashli', 'babbitt'],\n",
       " ['name',\n",
       "  'ashli',\n",
       "  'babbit',\n",
       "  'year',\n",
       "  'veteran',\n",
       "  'served',\n",
       "  'four',\n",
       "  'tour',\n",
       "  'u',\n",
       "  'air',\n",
       "  'force',\n",
       "  'high',\n",
       "  'level',\n",
       "  'security',\n",
       "  'official',\n",
       "  'throughout',\n",
       "  'time',\n",
       "  'service'],\n",
       " ['@the_real_fly', 'believe', 'young', 'lady', 'ashli', 'babbit'],\n",
       " ['living', 'history', 'right', 'beginning', 'american', 'revolution'],\n",
       " ['police', 'officer', 'shot', 'killed', 'ashli', 'babbitt'],\n",
       " ['garrison',\n",
       "  'critical',\n",
       "  'thread',\n",
       "  'insurgent',\n",
       "  'killed',\n",
       "  'today',\n",
       "  'storming',\n",
       "  'capitol'],\n",
       " ['ashli',\n",
       "  'babbit',\n",
       "  'rednèck',\n",
       "  'as',\n",
       "  'family',\n",
       "  'friend',\n",
       "  'online',\n",
       "  'trying',\n",
       "  'paint',\n",
       "  'like',\n",
       "  'oluwatoyin',\n",
       "  'salau',\n",
       "  'fuck',\n",
       "  'outta'],\n",
       " ['ashli', 'babbit', 'going', 'remembered', 'terrorist', 'martyr'],\n",
       " ['ashli',\n",
       "  'babbit',\n",
       "  'stormed',\n",
       "  'capitol',\n",
       "  'tried',\n",
       "  'breach',\n",
       "  'window',\n",
       "  'speaker',\n",
       "  'lobby',\n",
       "  'killed',\n",
       "  'peacefully',\n",
       "  'protest',\n",
       "  'outside',\n",
       "  'invading',\n",
       "  'federal',\n",
       "  'building',\n",
       "  'terrorism'],\n",
       " ['lin', 'wood', 'responsible', 'death', 'ashli', 'babbitt', 'alone'],\n",
       " ['dc',\n",
       "  'police',\n",
       "  'murdered',\n",
       "  'veteran',\n",
       "  'cold',\n",
       "  'blood',\n",
       "  'today',\n",
       "  'vigil',\n",
       "  'like',\n",
       "  'george',\n",
       "  'floyd',\n",
       "  'get',\n",
       "  'plaza',\n",
       "  'dedicated',\n",
       "  'even',\n",
       "  'name',\n",
       "  'mentioned',\n",
       "  'house',\n",
       "  'floor',\n",
       "  'given',\n",
       "  'moment',\n",
       "  'silence',\n",
       "  'never',\n",
       "  'forget',\n",
       "  'ashli',\n",
       "  'babbit'],\n",
       " ['people',\n",
       "  'celebrating',\n",
       "  'death',\n",
       "  'ashli',\n",
       "  'babbit',\n",
       "  'twitter',\n",
       "  'think',\n",
       "  'think',\n",
       "  'transpired',\n",
       "  'summer'],\n",
       " ['police', 'officer', 'shot', 'killed', 'ashli', 'babbitt'],\n",
       " ['police', 'officer', 'shot', 'killed', 'ashli', 'babbitt'],\n",
       " ['dc',\n",
       "  'police',\n",
       "  'murdered',\n",
       "  'veteran',\n",
       "  'cold',\n",
       "  'blood',\n",
       "  'today',\n",
       "  'vigil',\n",
       "  'like',\n",
       "  'george',\n",
       "  'floyd',\n",
       "  'get',\n",
       "  'plaza',\n",
       "  'dedicated',\n",
       "  'even',\n",
       "  'name',\n",
       "  'mentioned',\n",
       "  'house',\n",
       "  'floor',\n",
       "  'given',\n",
       "  'moment',\n",
       "  'silence',\n",
       "  'never',\n",
       "  'forget',\n",
       "  'ashli',\n",
       "  'babbit'],\n",
       " ['ashli',\n",
       "  'babbit',\n",
       "  'truly',\n",
       "  'defended',\n",
       "  'constitution',\n",
       "  'united',\n",
       "  'state',\n",
       "  'enemy',\n",
       "  'foreign',\n",
       "  'domestic',\n",
       "  'happened',\n",
       "  'today',\n",
       "  'senseless',\n",
       "  'rest',\n",
       "  'peace',\n",
       "  'beautiful',\n",
       "  'patriot'],\n",
       " ['unarmed',\n",
       "  'woman',\n",
       "  'shot',\n",
       "  'dead',\n",
       "  'capitol',\n",
       "  'protest',\n",
       "  'identified',\n",
       "  'year',\n",
       "  'air',\n",
       "  'force',\n",
       "  'veteran',\n",
       "  'ashli',\n",
       "  'babbit',\n",
       "  'martyr',\n",
       "  'ashli',\n",
       "  'babbit',\n",
       "  'year',\n",
       "  'veteran',\n",
       "  'served',\n",
       "  'four',\n",
       "  'tour',\n",
       "  'u',\n",
       "  'air',\n",
       "  'force',\n",
       "  'high',\n",
       "  'level',\n",
       "  'security',\n",
       "  'official',\n",
       "  'throughout',\n",
       "  'time'],\n",
       " ['killed',\n",
       "  'air',\n",
       "  'force',\n",
       "  'veteran',\n",
       "  'ashli',\n",
       "  'babbit',\n",
       "  'congress',\n",
       "  'today',\n",
       "  'want',\n",
       "  'know',\n",
       "  'america',\n",
       "  'must',\n",
       "  'told'],\n",
       " ['terrorist',\n",
       "  'name',\n",
       "  'ashli',\n",
       "  'babbit',\n",
       "  'year',\n",
       "  'veteran',\n",
       "  'killed',\n",
       "  'committing',\n",
       "  'treason',\n",
       "  'fixed']]"
      ]
     },
     "execution_count": 31,
     "metadata": {},
     "output_type": "execute_result"
    }
   ],
   "source": [
    "# look at lemmatized text\n",
    "\n",
    "df['lemmatized'] = lemmatized\n",
    "lemmatized[:20]"
   ]
  },
  {
   "cell_type": "code",
   "execution_count": 32,
   "metadata": {},
   "outputs": [
    {
     "name": "stderr",
     "output_type": "stream",
     "text": [
      "/opt/anaconda3/lib/python3.7/site-packages/ipykernel_launcher.py:4: FutureWarning: Passing a negative integer is deprecated in version 1.0 and will not be supported in future version. Instead, use None to not limit the column width.\n",
      "  after removing the cwd from sys.path.\n"
     ]
    },
    {
     "data": {
      "text/plain": [
       "3280    police officer shot killed ashli babbitt                                                                                                                                                                    \n",
       "3281    woman murdered federal government cold blood ashli babbit antifa stop lying                                                                                                                                 \n",
       "3282    understood senator appreciate dedication service country however feel compelled point unarmed protester shot killed today year veteran air force completed tour duty name ashli babbit                      \n",
       "3284    dc police murdered veteran cold blood today vigil like george floyd get plaza dedicated even name mentioned house floor given moment silence never forget ashli babbit                                      \n",
       "3285    @daysnights know waiting looked ashli bobbit's profile retweeted lin non-stop know shot yet                                                                                                                 \n",
       "3286    one republican democrat mentioned innocent woman ashli babbit year veteran served tour u air force shot dead cold blood martyr one mentioned antifa infiltrator stormed capitol building party              \n",
       "3287    maybe complied idk ..                                                                                                                                                                                       \n",
       "3288    ashli deserve die police killed need held accountable                                                                                                                                                       \n",
       "3290    police officer shot killed ashli babbitt                                                                                                                                                                    \n",
       "3291    exactly time good men woman must come aid country ashli babbit may god family                                                                                                                               \n",
       "3292    #sayhername unarmed airforce veteran murdered capitol police let get trending people                                                                                                                        \n",
       "3293    say name ashli babbit woman killed cop pro-trump protest patriotic air force veteran                                                                                                                        \n",
       "3295    say name ashli babbit woman killed cop pro-trump protest patriotic air force veteran                                                                                                                        \n",
       "3296    part                                                                                                                                                                                                        \n",
       "3297    @ashli_babbitt @angelwarrior ashli rest peace i'm truly sorry gave life despicable repulsive dishonest corrupt president country's ever life good even like older able trump worth loss yr condolence family\n",
       "3298    ashli babbit proudly served country year murdered expressing first amendment right never forget                                                                                                             \n",
       "3299    dc police murdered veteran cold blood today vigil like george floyd get plaza dedicated even name mentioned house floor given moment silence never forget ashli babbit                                      \n",
       "3300    dc police murdered veteran cold blood today vigil like george floyd get plaza dedicated even name mentioned house floor given moment silence never forget ashli babbit                                      \n",
       "3301    dc police murdered veteran cold blood today vigil like george floyd get plaza dedicated even name mentioned house floor given moment silence never forget ashli babbit                                      \n",
       "3302    killed air force veteran ashli babbit congress today want know america must told                                                                                                                            \n",
       "Name: final_docs, dtype: object"
      ]
     },
     "execution_count": 32,
     "metadata": {},
     "output_type": "execute_result"
    }
   ],
   "source": [
    "# before vectorizing, cast lists of words back into strings\n",
    "\n",
    "df['final_docs'] = df['lemmatized'].apply(lambda x: \" \".join(x))\n",
    "pd.set_option('display.max_colwidth', -1)\n",
    "final_docs = df['final_docs']\n",
    "final_docs[3000:3020]"
   ]
  },
  {
   "cell_type": "code",
   "execution_count": 33,
   "metadata": {},
   "outputs": [],
   "source": [
    "#create document term matrix with TFIDF\n",
    "\n",
    "#import vectorizing tool (usee TFIDF)\n",
    "from sklearn.feature_extraction.text import TfidfVectorizer\n",
    "# set max_features to 2000 (specifies the number of most frequently occurring words for which we want to create feature vectors)\n",
    "# set min_df to 5 (word must occur in at least 5 documents)\n",
    "# set max_df to 0.85 (word must not occur in more than 85 percent of the documents) \n",
    "\n",
    "tfidfconverter = TfidfVectorizer(max_features=2000, min_df=5, max_df=0.85, ngram_range=(1, 2), stop_words='english')  \n",
    "doc_term_matrix_1 = tfidfconverter.fit_transform(df['final_docs'].values.astype('U'))"
   ]
  },
  {
   "cell_type": "code",
   "execution_count": 34,
   "metadata": {},
   "outputs": [],
   "source": [
    "#run NMF model \n",
    "\n",
    "#import NMF tool \n",
    "from sklearn.decomposition import NMF\n",
    "\n",
    "nmf_model = NMF(n_components=6)\n",
    "nmf_Z = nmf_model.fit_transform(doc_term_matrix_1)\n"
   ]
  },
  {
   "cell_type": "code",
   "execution_count": 35,
   "metadata": {},
   "outputs": [],
   "source": [
    "# run LDA model\n",
    "\n",
    "#import LDA tool \n",
    "from sklearn.decomposition import LatentDirichletAllocation\n",
    "\n",
    "lda_model = LatentDirichletAllocation(n_components = 6, max_iter=10, learning_method='online', learning_decay=.9)\n",
    "lda_Z = lda_model.fit_transform(doc_term_matrix_1)"
   ]
  },
  {
   "cell_type": "code",
   "execution_count": 36,
   "metadata": {},
   "outputs": [
    {
     "name": "stdout",
     "output_type": "stream",
     "text": [
      "LDA Model:\n",
      "Topic 0:\n",
      "[('rip ashli', 650.242695136725), ('rip', 643.4811119216748), ('babbit', 587.6304078436988), ('ashli babbit', 583.3517211686361), ('ashli', 520.570899720083), ('country', 453.76511418423127), ('served', 399.18885495960217), ('year', 322.3316977161545), ('died', 307.7789794858823), ('right', 268.7014363009379)]\n",
      "Topic 1:\n",
      "[('babbitt', 873.318541529854), ('ashli babbitt', 868.8433192963549), ('officer', 658.3679489873323), ('killed ashli', 653.4270002806168), ('police officer', 633.4332985341136), ('officer shot', 604.2520561818841), ('shot', 582.7710237403085), ('killed', 575.7002517079698), ('ashli', 545.9840974105908), ('police', 525.7396173628672)]\n",
      "Topic 2:\n",
      "[('floyd', 392.41609082999145), ('george', 391.98289819310804), ('george floyd', 388.0911842705059), ('cold', 384.9161335812381), ('cold blood', 382.4214392822945), ('house', 370.08749652434705), ('like', 366.76503396305264), ('moment', 362.8946004644259), ('forget', 360.4158092291095), ('blood', 358.80832379940824)]\n",
      "Topic 3:\n",
      "[('shot', 458.82898661129934), ('got', 401.82404662794056), ('unarmed', 362.56785471764107), ('veteran', 336.84852772215186), ('today', 323.39716174481515), ('service', 303.8433374490261), ('woman', 302.84026824943857), ('capitol', 288.53083698975485), ('killed', 287.9993820559456), ('police', 287.25158824374967)]\n",
      "Topic 4:\n",
      "[('kind', 942.0136294263134), ('law', 537.2537827489352), ('military', 503.85993942257227), ('prayer', 497.6910141683843), ('stop', 489.3760993057928), ('retweet', 485.9963497123502), ('miss', 477.22542453562374), ('person', 477.11251250176394), ('follow', 476.3740562483411), ('daughter', 475.70960747692)]\n",
      "Topic 5:\n",
      "[('ashli babbit', 1778.5794097180308), ('babbit', 1773.9205146743818), ('ashli', 1396.56729865266), ('veteran ashli', 507.9460612177113), ('force veteran', 487.30416169839935), ('air force', 437.2277079029315), ('air', 436.2598975466454), ('force', 433.72757825722624), ('want', 417.7698337703373), ('told', 376.3785867245345)]\n",
      "====================\n",
      "NMF Model:\n",
      "Topic 0:\n",
      "[('ashli babbit', 5.274914194798545), ('babbit', 5.259079480145871), ('ashli', 3.9596197124823314), ('rip ashli', 0.8688277995286774), ('rip', 0.8621779705433655), ('babbit life', 0.18927690705001082), ('mattered', 0.1888002276001727), ('life mattered', 0.1884256939897771), ('life', 0.18556938695191208), ('say', 0.17394900948577913)]\n",
      "Topic 1:\n",
      "[('kind', 2.3046087409524865), ('retweet', 1.1578954596896514), ('miss ashli', 1.1575844194840506), ('share prayer', 1.1574922810554902), ('retweet share', 1.1574922810554902), ('share', 1.1573466740343317), ('smart kind', 1.1573088795995121), ('kind retweet', 1.1573088795995121), ('person military', 1.1573088795995121), ('kind person', 1.1573088795995121)]\n",
      "Topic 2:\n",
      "[('moment silence', 1.0773599215257288), ('silence', 1.0764958013309014), ('floor given', 1.076423389386721), ('plaza dedicated', 1.076423389386721), ('dedicated mentioned', 1.076423389386721), ('given moment', 1.076423389386721), ('today vigil', 1.076423389386721), ('mentioned house', 1.076423389386721), ('floyd plaza', 1.076423389386721), ('vigil like', 1.076423389386721)]\n",
      "Topic 3:\n",
      "[('officer shot', 2.5644941074798284), ('killed ashli', 2.5553585563272945), ('police officer', 2.5254826216774333), ('officer', 2.501691906790878), ('ashli babbitt', 2.140953880884948), ('babbitt', 2.1397821965394597), ('shot killed', 1.8425122329377663), ('shot', 1.6937402598875586), ('police', 1.6604586891226154), ('killed', 1.5371088662225827)]\n",
      "Topic 4:\n",
      "[('want know', 1.386243401388532), ('killed air', 1.3849822612257663), ('today want', 1.3831231315508357), ('babbit congress', 1.382308500785934), ('congress today', 1.3817262964701376), ('know america', 1.3801539842301958), ('america told', 1.3801539842301958), ('told', 1.3662143709188062), ('want', 1.3422694193393834), ('america', 1.3331726329836102)]\n",
      "Topic 5:\n",
      "[('shot', 1.3093028849988033), ('woman shot', 1.1494065566928826), ('protest', 1.007293539951677), ('woman', 0.9564927875683804), ('air force', 0.9270097483373936), ('air', 0.9259233154935337), ('force', 0.9237508599509658), ('shot killed', 0.9181656003056191), ('force veteran', 0.8577678490796986), ('veteran', 0.8213677941311437)]\n",
      "====================\n"
     ]
    }
   ],
   "source": [
    "def print_topics(model, vectorizer, top_n=10):\n",
    "    for idx, topic in enumerate(model.components_):\n",
    "        print(\"Topic %d:\" % (idx))\n",
    "        print([(vectorizer.get_feature_names()[i], topic[i])\n",
    "                        for i in topic.argsort()[:-top_n - 1:-1]])\n",
    " \n",
    "print(\"LDA Model:\")\n",
    "print_topics(lda_model, tfidfconverter )\n",
    "print(\"=\" * 20)\n",
    " \n",
    "print(\"NMF Model:\")\n",
    "print_topics(nmf_model, tfidfconverter )\n",
    "print(\"=\" * 20)"
   ]
  },
  {
   "cell_type": "markdown",
   "metadata": {},
   "source": [
    "# Part 4: Run visualization and testing of LDA model"
   ]
  },
  {
   "cell_type": "code",
   "execution_count": 37,
   "metadata": {},
   "outputs": [
    {
     "data": {
      "text/html": [
       "\n",
       "<link rel=\"stylesheet\" type=\"text/css\" href=\"https://cdn.rawgit.com/bmabey/pyLDAvis/files/ldavis.v1.0.0.css\">\n",
       "\n",
       "\n",
       "<div id=\"ldavis_el22261402643708430886557447668\"></div>\n",
       "<script type=\"text/javascript\">\n",
       "\n",
       "var ldavis_el22261402643708430886557447668_data = {\"mdsDat\": {\"x\": [1.4650187492370605, 54.85479736328125, 32.212928771972656, 5.111096382141113, 26.350170135498047, 38.10981750488281], \"y\": [-47.625064849853516, -36.4767951965332, -61.44457244873047, -14.110331535339355, -33.37470245361328, -7.222781181335449], \"topics\": [1, 2, 3, 4, 5, 6], \"cluster\": [1, 1, 1, 1, 1, 1], \"Freq\": [21.03373126665263, 19.37758814490275, 18.82172647479055, 16.91067187476722, 12.56756591824217, 11.288716320644665]}, \"tinfo\": {\"Term\": [\"ashli babbit\", \"babbit\", \"ashli\", \"kind\", \"babbitt\", \"ashli babbitt\", \"killed ashli\", \"force veteran\", \"officer\", \"police officer\", \"veteran ashli\", \"officer shot\", \"rip ashli\", \"want\", \"know\", \"floyd\", \"george\", \"george floyd\", \"cold\", \"cold blood\", \"rip\", \"air force\", \"told\", \"air\", \"force\", \"house\", \"moment\", \"killed\", \"want know\", \"killed air\", \"miss ashli\", \"daughter\", \"smart\", \"follow\", \"daughter law\", \"prayer follow\", \"share prayer\", \"kind retweet\", \"wonderful kind\", \"smart kind\", \"law wonderful\", \"person military\", \"strong smart\", \"follow update\", \"stop miss\", \"know daughter\", \"kind person\", \"retweet share\", \"miss\", \"military woman\", \"wonderful\", \"woman strong\", \"ashli know\", \"kind\", \"share\", \"retweet\", \"federal building\", \"terrorism\", \"breach\", \"lobby\", \"update\", \"military\", \"law\", \"strong\", \"stop\", \"prayer\", \"person\", \"know\", \"rip ashli\", \"served country\", \"rest\", \"rest peace\", \"amendment\", \"amendment right\", \"expressing\", \"country year\", \"arm\", \"pray family\", \"proudly\", \"proudly served\", \"babbit proudly\", \"expressing amendment\", \"domestic\", \"word\", \"murdered expressing\", \"year murdered\", \"right forget\", \"state\", \"sister arm\", \"nation word\", \"arm pray\", \"remember sister\", \"family nation\", \"complied\", \"pray\", \"sister\", \"united\", \"united state\", \"country\", \"peace\", \"right\", \"died\", \"rip\", \"served\", \"terrorist\", \"year\", \"family\", \"year veteran\", \"veteran served\", \"babbit\", \"ashli babbit\", \"served tour\", \"ashli\", \"babbit year\", \"tour\", \"remember\", \"trump\", \"patriot\", \"murdered\", \"got\", \"young\", \"year service\", \"ewerickson\", \"babbitt unarmed\", \"wish\", \"happy\", \"young woman\", \"got shot\", \"protest capitol\", \"got wish\", \"shot today\", \"unarmed young\", \"veteran year\", \"service san\", \"erick\", \"police protest\", \"wanted shot\", \"presumably police\", \"presumably\", \"happy erick\", \"diego ewerickson\", \"wish happy\", \"today presumably\", \"today got\", \"ewerickson wanted\", \"ashlibabbit\", \"unarmed woman\", \"police today\", \"high\", \"service\", \"unarmed\", \"wanted\", \"san\", \"shot\", \"san diego\", \"diego\", \"say\", \"killed today\", \"veteran\", \"today\", \"year\", \"woman\", \"woman shot\", \"capitol\", \"police\", \"killed\", \"shot killed\", \"force\", \"air\", \"air force\", \"ashli\", \"babbitt\", \"ashli babbitt\", \"force veteran\", \"killed ashli\", \"police officer\", \"officer shot\", \"mattered\", \"life mattered\", \"babbit life\", \"storming\", \"california\", \"storming capitol\", \"sebgorka\", \"sebgorka usairforce\", \"usairforce ashli\", \"world\", \"bullet\", \"protester killed\", \"vet california\", \"tamir\", \"nypost\", \"perception\", \"catching\", \"babbit catching\", \"fuck perception\", \"bullet storming\", \"care tamir\", \"perception world\", \"tamir fuck\", \"capitol care\", \"catching bullet\", \"california nypost\", \"saying\", \"officer\", \"force vet\", \"babbitt\", \"ashli babbitt\", \"vet\", \"life\", \"fuck\", \"protester\", \"shot killed\", \"shot\", \"police\", \"killed\", \"capitol\", \"ashli\", \"killed capitol\", \"babbit\", \"ashli babbit\", \"floyd\", \"george\", \"george floyd\", \"cold blood\", \"cold\", \"like george\", \"forget ashli\", \"vigil\", \"floor\", \"silence\", \"house floor\", \"moment silence\", \"plaza\", \"dedicated\", \"police murdered\", \"blood today\", \"mentioned house\", \"dedicated mentioned\", \"today vigil\", \"plaza dedicated\", \"floyd plaza\", \"given moment\", \"vigil like\", \"floor given\", \"murdered veteran\", \"silence forget\", \"veteran cold\", \"moment\", \"proud\", \"account\", \"house\", \"dc police\", \"mentioned\", \"blood\", \"like\", \"forget\", \"murdered\", \"told\", \"want know\", \"killed air\", \"congress today\", \"today want\", \"babbit congress\", \"know america\", \"america told\", \"peaceful protest\", \"killed peaceful\", \"protest air\", \"hell\", \"want\", \"man\", \"mike_pence killed\", \"vet police\", \"funeral\", \"whilst\", \"police whilst\", \"whilst breaking\", \"smokin\", \"getting\", \"smokin ashli\", \"babbit pack\", \"want scream\", \"roof\", \"scream roof\", \"roberta\", \"wait\", \"guy\", \"america\", \"peaceful\", \"veteran ashli\", \"congress\", \"scream\", \"ashli babbit\", \"babbit\", \"force veteran\", \"ashli\", \"air force\", \"air\", \"force\", \"know\", \"protest\", \"woman shot\", \"veteran\", \"killed\", \"today\", \"woman\"], \"Freq\": [3132.0, 3133.0, 3173.0, 887.0, 1098.0, 1092.0, 634.0, 737.0, 652.0, 614.0, 650.0, 586.0, 611.0, 444.0, 767.0, 442.0, 441.0, 437.0, 433.0, 431.0, 686.0, 908.0, 395.0, 912.0, 922.0, 423.0, 409.0, 1373.0, 382.0, 376.0, 443.2665663569911, 446.9853563480818, 442.3301367793759, 447.6096844385821, 442.2066924686967, 441.40692404264166, 441.5385660766994, 441.2916933536461, 441.2916340789722, 441.2915888080328, 441.29155601760306, 441.2914382551758, 441.2911614291428, 441.27048211068524, 441.29032041931913, 441.387564946812, 441.2902493110715, 441.536999705248, 448.409645488965, 441.2898160707968, 441.4345446224501, 441.3141542569813, 442.70248150325926, 885.1330543167545, 444.716674894187, 456.6509655169858, 162.11089176802045, 139.27573369130013, 136.1373765338942, 133.54172982401576, 442.0547892390652, 473.43591769533117, 504.8133772304333, 438.3441867317166, 459.8266394000606, 467.6394838842657, 448.3035512985229, 445.61683783243586, 610.4752599730455, 246.27013069794714, 248.71826154959675, 197.22861777821905, 185.44926221884137, 165.13020392368347, 149.04698356699208, 144.01657244622507, 140.84653935682394, 146.88679278752102, 139.32131403770765, 139.32130841540376, 138.85374898986993, 138.73804957985251, 176.8700877836997, 156.19522634348886, 136.84660012548105, 136.83132377736658, 136.42028106640504, 140.35872463669492, 133.5988150110436, 132.90564790262883, 132.6098909972877, 132.60982237202052, 132.60978285136363, 132.0293305648673, 172.80420380320925, 141.80978619818276, 111.82953096076139, 111.5646347480057, 426.0138224083709, 214.32869951913202, 252.26823831747072, 288.95588358186035, 604.1272005455279, 374.7753290155213, 248.46531343059607, 302.61858907841633, 218.28648383714582, 194.38802914171745, 179.28797945006846, 551.6922045868099, 547.6751931234933, 180.2091722786545, 488.73391076572995, 170.98634305154565, 184.9547600700456, 159.72227274661674, 183.57659414287227, 169.24470382832976, 181.5691644396241, 399.6615193454369, 211.8138168771603, 191.7209013416883, 189.93463976567625, 184.72130660362438, 184.5696387733425, 182.77192843892712, 180.06649162541896, 180.4429442745705, 189.97240851353814, 176.7478051877012, 176.320943256533, 175.8617187156725, 173.94337768989786, 172.56915195907862, 172.29113290564536, 171.02689007078774, 169.27807375302885, 169.1427853433289, 169.14278449978718, 169.14278326737895, 169.14278678692867, 169.14278137646198, 169.14280011677135, 169.14278704884197, 169.14278153794532, 163.74793024164276, 143.23066647216143, 135.20726613037974, 117.85765810693333, 302.2081204620027, 360.6165954931982, 180.26825815041508, 218.83410156354412, 456.3596714723048, 218.7065837741339, 218.70650500047418, 275.09768113661625, 197.34523979720365, 335.0356841718881, 321.65671044224547, 253.32566894534875, 301.2104495568392, 254.8700786239116, 286.9780284605737, 285.70566434563415, 286.44943369853223, 260.8385718344237, 244.4338736149508, 235.79660873787728, 235.18528781861488, 258.2671951920415, 222.59644154778934, 221.21611486478312, 207.43812738489018, 633.3654423736202, 613.9855885476812, 585.7002705802657, 232.73888825183354, 229.05641728852032, 225.9803147605373, 157.00828946987195, 149.67395192338896, 143.62052442535483, 139.65394731412277, 126.96822725401952, 126.93367579440516, 123.44088188697019, 120.69574300970221, 120.15038603946763, 113.77024704359422, 112.70082241314711, 111.6694304513125, 100.90219429460397, 100.88273093412208, 100.60499068346917, 100.60486610577274, 100.60482668932778, 100.60484310958613, 100.60481470044554, 100.60483022825093, 100.60471745056947, 100.60462381612234, 87.42977827902418, 77.81880645303816, 638.1546937544636, 179.63627427218674, 846.5058593409776, 842.168035669132, 198.80815472282805, 275.6413926555573, 193.73165091037484, 141.6334792805044, 490.31013978776366, 564.8787501821834, 509.59832572172314, 558.0250654488284, 374.3049195526109, 529.2212584373041, 158.67705345770827, 224.90396902401002, 224.08016080269164, 441.4758107728615, 440.9884605467675, 436.61020593533476, 430.2316314475969, 433.03821153947626, 392.11287363511815, 390.46890618643283, 389.035152902911, 389.1086015009391, 382.003000388329, 381.2727578493518, 380.5867606938989, 380.54157199181776, 379.9149636378556, 379.85800352320024, 379.62059870749175, 379.00017664948734, 379.0001644790654, 379.00016788497095, 379.0001677015591, 379.0001709088902, 379.0001778537518, 379.00017291064046, 379.0001662324016, 378.2615660703212, 378.2615738624736, 378.26156189923745, 408.2635541938935, 113.55528747314172, 99.41780857471572, 416.3557035579581, 387.69625266901227, 387.79672042594876, 403.666412675269, 412.61786791032307, 405.47486536099336, 384.79337694840814, 394.93548747548954, 381.3596231534841, 376.0016444116835, 374.9453175360069, 374.7276910233074, 373.98745683397505, 373.023782241365, 373.02377392142455, 307.0856602651528, 302.7707176757666, 302.5741281561568, 92.46283455497748, 438.36748096776694, 55.26496314571464, 53.590130873298016, 48.940089043125724, 52.63455307572515, 49.43753596480749, 48.92474422536345, 48.893877164126856, 44.13175108345433, 44.584652664033314, 39.69020145166332, 38.57540339690461, 33.34498401673959, 33.34468892322213, 33.34446443710334, 49.73808837533564, 31.548296876701723, 34.59907533128096, 389.6450951170168, 307.4033101260813, 532.9897405802524, 356.01677060264484, 36.729444351758175, 1866.2701624546773, 1861.381566104994, 511.33011663611444, 1465.4233963883535, 458.78470255486286, 457.7691754544239, 455.1120031595975, 319.5264696557553, 230.24061303182847, 260.6605347884644, 373.97506519031526, 388.09875391075917, 242.28018675010426, 195.01778277311791], \"Total\": [3132.0, 3133.0, 3173.0, 887.0, 1098.0, 1092.0, 634.0, 737.0, 652.0, 614.0, 650.0, 586.0, 611.0, 444.0, 767.0, 442.0, 441.0, 437.0, 433.0, 431.0, 686.0, 908.0, 395.0, 912.0, 922.0, 423.0, 409.0, 1373.0, 382.0, 376.0, 444.1154919009837, 447.84752421260936, 443.183803433999, 448.4780445336088, 443.0776093235484, 442.276820824418, 442.4090298533243, 442.16170990592974, 442.1616979973133, 442.16173180435686, 442.16172488372126, 442.1617062081573, 442.1616930231321, 442.1413739903403, 442.16175485041174, 442.25923057198884, 442.1617540090577, 442.40910178367636, 449.2953572962271, 442.16174849321214, 442.39704830145246, 442.28946969860067, 443.74874289697163, 887.2414816857824, 445.938588676658, 458.22345070536613, 162.95848802572417, 140.1233904235564, 136.986025016809, 134.38915336881408, 449.652444433577, 489.8071144588791, 524.8743616988277, 459.55411187259597, 489.27668981988603, 508.3077770000811, 477.41852443753805, 767.7298830027491, 611.3224342294872, 247.11752511040964, 249.57649236325778, 198.0831674323093, 186.29808815729385, 165.97779001733898, 149.894371922181, 144.8638887265898, 141.69359974648216, 147.77405119758612, 140.16854586572987, 140.16855309644154, 139.70097670997686, 139.5853183103392, 177.95960097330527, 157.1612690758701, 137.69384258450006, 137.6785798069309, 137.26752629593938, 141.24719077047874, 134.44741397974394, 133.754681169206, 133.45854735235756, 133.45860946976535, 133.4586077100982, 132.87695198885305, 173.95536196155064, 142.76174736025067, 112.67750875444091, 112.41260604281658, 431.6114316374561, 217.9052200027803, 259.868615889223, 300.5943729203425, 686.7467528620828, 458.8587257740147, 376.11688544654436, 557.4226565735695, 356.43508022542164, 282.51183844108755, 248.6622419793269, 3133.8816072913023, 3132.426343572619, 254.27949652990353, 3173.2502560301114, 231.11228103210794, 301.3533027901086, 208.89112261469265, 421.7977973392169, 305.58234599521523, 590.2365593131371, 400.7690738776701, 212.6534441635938, 192.55903850534062, 190.77299739224136, 185.55981892899518, 185.40813878449345, 183.610163699703, 180.90463828866388, 181.28511001954186, 190.8601496680794, 177.58584527424168, 177.15964531400863, 176.69972650950044, 174.7818492941338, 173.40716025138704, 173.1292884974592, 171.86492484423084, 170.11608877103913, 169.98078762684193, 169.98079833664545, 169.98080263287045, 169.9808100895093, 169.98080716854307, 169.980827438672, 169.98081603087033, 169.98081138137633, 164.5877854472746, 144.0697556302612, 136.04725274551578, 118.70105648583335, 304.812992871026, 418.8819300925487, 194.54767491636434, 289.82780550985666, 1305.5100608155276, 289.69342033073775, 289.6934470470131, 478.93351261102686, 247.91890713330372, 1138.507196504589, 1043.20193993475, 557.4226565735695, 986.8447152646966, 604.9153051847253, 889.6699385325484, 1128.1448459991516, 1373.102498830857, 994.5221218436055, 922.2591589935914, 912.0632275542714, 908.5850349112545, 3173.2502560301114, 1098.6744767992625, 1092.4448683972867, 737.8278149124045, 634.2138176544165, 614.8333842354107, 586.5472043660365, 233.58073622528212, 229.89816233736417, 226.82208723151933, 157.85606071505222, 150.51866293348516, 144.4635283803292, 140.49648372720918, 127.8098181319108, 127.77528486589273, 124.28445337962023, 121.53873854731295, 120.99265815029399, 114.61251264752568, 113.55445985679897, 112.55539637681149, 101.74474711951261, 101.72534550253637, 101.44730605073818, 101.44732306841662, 101.44729906678292, 101.44731893489943, 101.44729383840615, 101.44731914573248, 101.44732313846752, 101.44732028461222, 88.27196646234822, 78.66353955252409, 652.0246642021092, 184.7116948827233, 1098.6744767992625, 1092.4448683972867, 228.42664254459646, 348.0833546313786, 229.66857249243995, 160.71465600580567, 994.5221218436055, 1305.5100608155276, 1128.1448459991516, 1373.102498830857, 889.6699385325484, 3173.2502560301114, 364.3248502875808, 3133.8816072913023, 3132.426343572619, 442.2950455320004, 441.80759809618485, 437.42863401965843, 431.0746884011848, 433.8871219093456, 392.9295278931171, 391.28565783789276, 389.85423542624807, 389.929844350584, 382.8198070373699, 382.08938443096554, 381.40337124352556, 381.3582061746693, 380.7316437445481, 380.67467805686033, 380.4371959613216, 379.81675715811997, 379.81675137622324, 379.81676538776577, 379.816770849763, 379.8167781309625, 379.8167857179873, 379.81678210837487, 379.8167827979969, 379.0781454231872, 379.07818105655, 379.07817863778496, 409.3483901825412, 114.37853589576319, 100.24707758041004, 423.26760178853294, 400.7588606688087, 415.4047865551853, 486.59672629423204, 549.6590154243107, 564.3161288762924, 590.2365593131371, 395.7713809053107, 382.1895418009178, 376.8314934653492, 375.77522979945746, 375.5575496072762, 374.8173208209148, 373.8536296781747, 373.8536402290176, 307.91717465723184, 303.60208059455744, 303.40548360888585, 93.29474875883878, 444.46491303427916, 56.10787452719859, 54.42561321435298, 49.777229672600726, 53.541876096882696, 50.29222453364735, 49.776079593659766, 49.773724133125796, 44.960262553560746, 45.42401989750408, 40.518672256919935, 39.404172850872634, 34.178743612756456, 34.178719546183345, 34.17873925856316, 50.986522367589714, 32.38290872542734, 35.54470036182127, 428.31659853231344, 336.7361754654205, 650.3526239062198, 430.81154367388183, 37.928445128572605, 3132.426343572619, 3133.8816072913023, 737.8278149124045, 3173.2502560301114, 908.5850349112545, 912.0632275542714, 922.2591589935914, 767.7298830027491, 500.6417721078176, 604.9153051847253, 1138.507196504589, 1373.102498830857, 1043.20193993475, 986.8447152646966], \"Category\": [\"Default\", \"Default\", \"Default\", \"Default\", \"Default\", \"Default\", \"Default\", \"Default\", \"Default\", \"Default\", \"Default\", \"Default\", \"Default\", \"Default\", \"Default\", \"Default\", \"Default\", \"Default\", \"Default\", \"Default\", \"Default\", \"Default\", \"Default\", \"Default\", \"Default\", \"Default\", \"Default\", \"Default\", \"Default\", \"Default\", \"Topic1\", \"Topic1\", \"Topic1\", \"Topic1\", \"Topic1\", \"Topic1\", \"Topic1\", \"Topic1\", \"Topic1\", \"Topic1\", \"Topic1\", \"Topic1\", \"Topic1\", \"Topic1\", \"Topic1\", \"Topic1\", \"Topic1\", \"Topic1\", \"Topic1\", \"Topic1\", \"Topic1\", \"Topic1\", \"Topic1\", \"Topic1\", \"Topic1\", \"Topic1\", \"Topic1\", \"Topic1\", \"Topic1\", \"Topic1\", \"Topic1\", \"Topic1\", \"Topic1\", \"Topic1\", \"Topic1\", \"Topic1\", \"Topic1\", \"Topic1\", \"Topic2\", \"Topic2\", \"Topic2\", \"Topic2\", \"Topic2\", \"Topic2\", \"Topic2\", \"Topic2\", \"Topic2\", \"Topic2\", \"Topic2\", \"Topic2\", \"Topic2\", \"Topic2\", \"Topic2\", \"Topic2\", \"Topic2\", \"Topic2\", \"Topic2\", \"Topic2\", \"Topic2\", \"Topic2\", \"Topic2\", \"Topic2\", \"Topic2\", \"Topic2\", \"Topic2\", \"Topic2\", \"Topic2\", \"Topic2\", \"Topic2\", \"Topic2\", \"Topic2\", \"Topic2\", \"Topic2\", \"Topic2\", \"Topic2\", \"Topic2\", \"Topic2\", \"Topic2\", \"Topic2\", \"Topic2\", \"Topic2\", \"Topic2\", \"Topic2\", \"Topic2\", \"Topic2\", \"Topic2\", \"Topic2\", \"Topic2\", \"Topic2\", \"Topic3\", \"Topic3\", \"Topic3\", \"Topic3\", \"Topic3\", \"Topic3\", \"Topic3\", \"Topic3\", \"Topic3\", \"Topic3\", \"Topic3\", \"Topic3\", \"Topic3\", \"Topic3\", \"Topic3\", \"Topic3\", \"Topic3\", \"Topic3\", \"Topic3\", \"Topic3\", \"Topic3\", \"Topic3\", \"Topic3\", \"Topic3\", \"Topic3\", \"Topic3\", \"Topic3\", \"Topic3\", \"Topic3\", \"Topic3\", \"Topic3\", \"Topic3\", \"Topic3\", \"Topic3\", \"Topic3\", \"Topic3\", \"Topic3\", \"Topic3\", \"Topic3\", \"Topic3\", \"Topic3\", \"Topic3\", \"Topic3\", \"Topic3\", \"Topic3\", \"Topic3\", \"Topic3\", \"Topic3\", \"Topic3\", \"Topic3\", \"Topic3\", \"Topic3\", \"Topic3\", \"Topic3\", \"Topic3\", \"Topic4\", \"Topic4\", \"Topic4\", \"Topic4\", \"Topic4\", \"Topic4\", \"Topic4\", \"Topic4\", \"Topic4\", \"Topic4\", \"Topic4\", \"Topic4\", \"Topic4\", \"Topic4\", \"Topic4\", \"Topic4\", \"Topic4\", \"Topic4\", \"Topic4\", \"Topic4\", \"Topic4\", \"Topic4\", \"Topic4\", \"Topic4\", \"Topic4\", \"Topic4\", \"Topic4\", \"Topic4\", \"Topic4\", \"Topic4\", \"Topic4\", \"Topic4\", \"Topic4\", \"Topic4\", \"Topic4\", \"Topic4\", \"Topic4\", \"Topic4\", \"Topic4\", \"Topic4\", \"Topic4\", \"Topic4\", \"Topic4\", \"Topic4\", \"Topic4\", \"Topic4\", \"Topic4\", \"Topic5\", \"Topic5\", \"Topic5\", \"Topic5\", \"Topic5\", \"Topic5\", \"Topic5\", \"Topic5\", \"Topic5\", \"Topic5\", \"Topic5\", \"Topic5\", \"Topic5\", \"Topic5\", \"Topic5\", \"Topic5\", \"Topic5\", \"Topic5\", \"Topic5\", \"Topic5\", \"Topic5\", \"Topic5\", \"Topic5\", \"Topic5\", \"Topic5\", \"Topic5\", \"Topic5\", \"Topic5\", \"Topic5\", \"Topic5\", \"Topic5\", \"Topic5\", \"Topic5\", \"Topic5\", \"Topic5\", \"Topic5\", \"Topic5\", \"Topic6\", \"Topic6\", \"Topic6\", \"Topic6\", \"Topic6\", \"Topic6\", \"Topic6\", \"Topic6\", \"Topic6\", \"Topic6\", \"Topic6\", \"Topic6\", \"Topic6\", \"Topic6\", \"Topic6\", \"Topic6\", \"Topic6\", \"Topic6\", \"Topic6\", \"Topic6\", \"Topic6\", \"Topic6\", \"Topic6\", \"Topic6\", \"Topic6\", \"Topic6\", \"Topic6\", \"Topic6\", \"Topic6\", \"Topic6\", \"Topic6\", \"Topic6\", \"Topic6\", \"Topic6\", \"Topic6\", \"Topic6\", \"Topic6\", \"Topic6\", \"Topic6\", \"Topic6\", \"Topic6\", \"Topic6\", \"Topic6\", \"Topic6\", \"Topic6\", \"Topic6\", \"Topic6\", \"Topic6\", \"Topic6\"], \"logprob\": [30.0, 29.0, 28.0, 27.0, 26.0, 25.0, 24.0, 23.0, 22.0, 21.0, 20.0, 19.0, 18.0, 17.0, 16.0, 15.0, 14.0, 13.0, 12.0, 11.0, 10.0, 9.0, 8.0, 7.0, 6.0, 5.0, 4.0, 3.0, 2.0, 1.0, -4.2899, -4.2815, -4.292, -4.2801, -4.2923, -4.2941, -4.2938, -4.2943, -4.2943, -4.2943, -4.2943, -4.2943, -4.2943, -4.2944, -4.2943, -4.2941, -4.2943, -4.2938, -4.2783, -4.2943, -4.294, -4.2943, -4.2911, -3.5983, -4.2866, -4.2601, -5.2958, -5.4476, -5.4704, -5.4896, -4.2926, -4.224, -4.1598, -4.301, -4.2532, -4.2363, -4.2786, -4.2846, -3.8878, -4.7956, -4.7857, -5.0177, -5.0792, -5.1953, -5.2978, -5.3321, -5.3544, -5.3124, -5.3652, -5.3652, -5.3686, -5.3694, -5.1266, -5.2509, -5.3832, -5.3833, -5.3863, -5.3578, -5.4072, -5.4124, -5.4146, -5.4146, -5.4146, -5.419, -5.1499, -5.3475, -5.585, -5.5874, -4.2476, -4.9345, -4.7715, -4.6357, -3.8982, -4.3757, -4.7867, -4.5895, -4.9162, -5.0322, -5.113, -3.989, -3.9963, -5.1079, -4.1102, -5.1604, -5.0819, -5.2286, -5.0894, -5.1707, -5.1004, -4.2823, -4.9172, -5.0169, -5.0262, -5.0541, -5.0549, -5.0647, -5.0796, -5.0775, -5.026, -5.0982, -5.1006, -5.1032, -5.1142, -5.1221, -5.1237, -5.1311, -5.1414, -5.1422, -5.1422, -5.1422, -5.1422, -5.1422, -5.1422, -5.1422, -5.1422, -5.1746, -5.3085, -5.3661, -5.5034, -4.5618, -4.3851, -5.0785, -4.8846, -4.1496, -4.8852, -4.8852, -4.6558, -4.988, -4.4587, -4.4994, -4.7382, -4.5651, -4.7322, -4.6135, -4.618, -4.6154, -4.709, -4.774, -4.8099, -4.8125, -4.7189, -4.8676, -4.8738, -4.9381, -3.7148, -3.7459, -3.793, -4.7159, -4.7319, -4.7454, -5.1096, -5.1574, -5.1987, -5.2267, -5.3219, -5.3222, -5.3501, -5.3726, -5.3771, -5.4317, -5.4411, -5.4503, -5.5517, -5.5519, -5.5546, -5.5546, -5.5546, -5.5546, -5.5546, -5.5546, -5.5547, -5.5547, -5.695, -5.8115, -3.7073, -4.9749, -3.4247, -3.4299, -4.8735, -4.5467, -4.8994, -5.2126, -3.9708, -3.8292, -3.9322, -3.8414, -4.2408, -3.8944, -5.099, -4.7502, -4.7538, -3.7789, -3.78, -3.79, -3.8047, -3.7982, -3.8975, -3.9017, -3.9054, -3.9052, -3.9236, -3.9255, -3.9273, -3.9274, -3.9291, -3.9292, -3.9299, -3.9315, -3.9315, -3.9315, -3.9315, -3.9315, -3.9315, -3.9315, -3.9315, -3.9334, -3.9334, -3.9334, -3.8571, -5.1367, -5.2697, -3.8375, -3.9088, -3.9085, -3.8684, -3.8465, -3.864, -3.9163, -3.783, -3.818, -3.8321, -3.8349, -3.8355, -3.8375, -3.8401, -3.8401, -4.0346, -4.0487, -4.0494, -5.2349, -3.6787, -5.7496, -5.7803, -5.8711, -5.7983, -5.861, -5.8714, -5.8721, -5.9745, -5.9643, -6.0806, -6.1091, -6.2548, -6.2548, -6.2548, -5.8549, -6.3102, -6.2179, -3.7965, -4.0335, -3.4832, -3.8867, -6.1581, -2.23, -2.2326, -3.5247, -2.4718, -3.6331, -3.6353, -3.6412, -3.9949, -4.3226, -4.1985, -3.8375, -3.8004, -4.2716, -4.4886], \"loglift\": [30.0, 29.0, 28.0, 27.0, 26.0, 25.0, 24.0, 23.0, 22.0, 21.0, 20.0, 19.0, 18.0, 17.0, 16.0, 15.0, 14.0, 13.0, 12.0, 11.0, 10.0, 9.0, 8.0, 7.0, 6.0, 5.0, 4.0, 3.0, 2.0, 1.0, 1.5571, 1.5571, 1.5571, 1.5571, 1.5571, 1.5571, 1.5571, 1.5571, 1.5571, 1.5571, 1.5571, 1.5571, 1.5571, 1.5571, 1.5571, 1.5571, 1.5571, 1.5571, 1.5571, 1.5571, 1.5569, 1.5568, 1.5567, 1.5567, 1.5563, 1.5556, 1.5538, 1.553, 1.5528, 1.5527, 1.542, 1.525, 1.5201, 1.5118, 1.497, 1.4757, 1.4961, 1.0151, 1.6397, 1.6376, 1.6376, 1.6367, 1.6365, 1.6359, 1.6354, 1.6352, 1.6351, 1.635, 1.635, 1.635, 1.635, 1.635, 1.6349, 1.6349, 1.6349, 1.6349, 1.6349, 1.6347, 1.6347, 1.6347, 1.6347, 1.6347, 1.6347, 1.6347, 1.6344, 1.6344, 1.6335, 1.6335, 1.628, 1.6245, 1.6114, 1.6016, 1.5129, 1.4386, 1.2265, 1.0302, 1.1507, 1.2672, 1.314, -0.096, -0.1028, 1.2967, -0.2296, 1.3397, 1.1529, 1.3727, 0.8092, 1.0502, 0.4622, 1.6674, 1.6662, 1.6658, 1.6658, 1.6656, 1.6656, 1.6656, 1.6655, 1.6655, 1.6655, 1.6654, 1.6654, 1.6654, 1.6653, 1.6653, 1.6653, 1.6653, 1.6652, 1.6652, 1.6652, 1.6652, 1.6652, 1.6652, 1.6652, 1.6652, 1.6652, 1.665, 1.6643, 1.664, 1.663, 1.6616, 1.5204, 1.5939, 1.3892, 0.6191, 1.3891, 1.3891, 1.1157, 1.442, 0.4469, 0.4936, 0.8815, 0.4835, 0.8058, 0.5387, 0.2968, 0.1029, 0.3318, 0.3423, 0.3174, 0.3186, -0.8384, 0.0737, 0.0731, 0.4013, 1.7759, 1.7758, 1.7758, 1.7736, 1.7736, 1.7735, 1.7718, 1.7716, 1.7714, 1.7712, 1.7706, 1.7706, 1.7704, 1.7703, 1.7702, 1.7698, 1.7697, 1.7693, 1.7689, 1.7689, 1.7689, 1.7689, 1.7689, 1.7689, 1.7689, 1.7689, 1.7689, 1.7689, 1.7676, 1.7664, 1.7557, 1.7494, 1.5165, 1.517, 1.6384, 1.5439, 1.6071, 1.6508, 1.07, 0.9395, 0.9825, 0.8768, 0.9114, -0.0139, 0.9461, -0.8571, -0.8603, 2.0722, 2.0722, 2.0722, 2.0721, 2.0721, 2.072, 2.072, 2.0719, 2.0719, 2.0719, 2.0719, 2.0719, 2.0719, 2.0719, 2.0719, 2.0719, 2.0719, 2.0719, 2.0719, 2.0719, 2.0719, 2.0719, 2.0719, 2.0719, 2.0719, 2.0719, 2.0719, 2.0714, 2.0668, 2.0657, 2.0576, 2.0409, 2.0053, 1.8872, 1.7873, 1.7435, 1.6462, 2.1793, 2.1792, 2.1792, 2.1792, 2.1792, 2.1792, 2.1791, 2.1791, 2.1787, 2.1786, 2.1786, 2.1724, 2.1676, 2.1662, 2.1659, 2.1644, 2.1643, 2.1642, 2.1641, 2.1635, 2.1628, 2.1627, 2.1607, 2.1601, 2.1567, 2.1567, 2.1567, 2.1566, 2.1553, 2.1544, 2.0867, 2.0902, 1.9824, 1.9907, 2.1492, 1.6635, 1.6604, 1.8147, 1.4088, 1.4981, 1.492, 1.4751, 1.3048, 1.4046, 1.3395, 1.0681, 0.9178, 0.7214, 0.5599]}, \"token.table\": {\"Topic\": [5, 2, 3, 4, 6, 2, 3, 4, 6, 2, 2, 2, 4, 6, 6, 2, 2, 1, 2, 3, 4, 5, 6, 1, 2, 3, 4, 5, 6, 2, 3, 4, 1, 3, 1, 2, 3, 4, 5, 6, 4, 6, 4, 6, 2, 2, 3, 2, 3, 4, 3, 2, 5, 5, 1, 4, 4, 4, 4, 1, 2, 3, 4, 4, 4, 4, 4, 5, 5, 2, 2, 3, 6, 6, 2, 3, 2, 1, 1, 2, 4, 5, 5, 5, 2, 4, 5, 1, 3, 4, 3, 2, 3, 3, 3, 2, 2, 1, 2, 4, 5, 2, 1, 5, 5, 5, 5, 1, 1, 2, 3, 4, 6, 2, 4, 3, 4, 6, 2, 3, 5, 5, 2, 3, 4, 4, 6, 5, 5, 6, 5, 3, 3, 3, 6, 3, 3, 6, 3, 1, 5, 5, 1, 2, 3, 4, 5, 6, 6, 4, 1, 3, 4, 6, 3, 4, 1, 4, 1, 1, 1, 4, 6, 6, 1, 1, 2, 1, 2, 3, 4, 4, 1, 2, 3, 4, 5, 5, 1, 6, 4, 2, 5, 5, 6, 1, 3, 1, 1, 1, 5, 5, 2, 3, 5, 2, 5, 2, 4, 2, 4, 4, 1, 2, 3, 4, 2, 3, 4, 6, 6, 4, 4, 1, 4, 1, 5, 5, 1, 2, 3, 4, 5, 5, 4, 3, 3, 6, 2, 2, 1, 2, 3, 4, 5, 1, 3, 3, 1, 3, 6, 6, 3, 3, 4, 4, 5, 2, 2, 2, 4, 5, 2, 2, 2, 1, 3, 1, 1, 2, 3, 2, 2, 3, 2, 3, 6, 6, 1, 3, 4, 1, 3, 4, 1, 2, 3, 4, 4, 3, 6, 6, 4, 4, 1, 2, 3, 2, 1, 2, 3, 2, 3, 3, 1, 4, 1, 1, 2, 3, 4, 5, 6, 1, 3, 4, 5, 6, 3, 5, 5, 2, 2, 1, 1, 6, 6, 2, 1, 2, 3, 4, 1, 4, 4, 1, 2, 3, 1, 4, 4, 1, 1, 2, 3, 5, 1, 2, 3, 4, 5, 6, 3, 3, 5, 6, 6, 1, 2, 3, 1, 2, 3, 4, 5, 6, 2, 3, 4, 3, 3, 2, 2, 1, 4, 4, 1, 2, 4, 4, 6, 1, 2, 3, 4, 5, 6, 3, 4, 5, 6, 5, 1, 2, 3, 3, 5, 5, 6, 2, 6, 6, 6, 2, 3, 3, 6, 6, 3, 3, 1, 2, 3, 4, 6, 1, 2, 3, 4, 6, 1, 1, 1, 2, 4, 1, 2, 3, 2, 3, 1, 2, 3, 3, 3], \"Freq\": [0.9875599607438957, 0.11950925846696749, 0.258753990809214, 0.11950925846696749, 0.502158168604322, 0.11776553199607911, 0.25864392541194947, 0.11776553199607911, 0.5051811138897225, 0.9930321981823138, 0.994108910491959, 0.021012494100951854, 0.06770692543640042, 0.9105414110412471, 0.9977166459353058, 0.9951049324195084, 0.9965641215084794, 0.08035924664795183, 0.15410067298371938, 0.08130464954969244, 0.1667060450069275, 0.055778771202695976, 0.46167175034999774, 0.027454755696478605, 0.17494425722872411, 0.05618647677418877, 0.07151006134896752, 0.07406399211143065, 0.5957043503445241, 0.02563058403219787, 0.2022985382541332, 0.770748276968236, 0.9983126872831605, 0.9964287419891017, 0.027761099780408242, 0.17613939171017642, 0.05647947886358918, 0.07179594770795235, 0.07402959941442198, 0.593832260819997, 0.9955907547656864, 0.9978194155512218, 0.9963756297212792, 0.9897428921448942, 0.9949823063053302, 0.7399001006625144, 0.25528716923443484, 0.026395443429690735, 0.20297185809727702, 0.7709289856878639, 0.9969830810774319, 0.16851736883740726, 0.8302563050038113, 0.9988508064774874, 0.9928020028562182, 0.995567351169247, 0.9955908233053257, 0.9965541619665174, 0.9855903690228679, 0.19670216157764184, 0.05957265464922867, 0.3225915449873326, 0.4203806196002174, 0.9955905870689464, 0.9955906283222085, 0.9928695695359591, 0.9955906150763051, 0.9979554085278177, 0.9975069554531937, 0.9934002701316733, 0.009284802273144155, 0.16248403978002268, 0.8263474023098297, 0.9979369853625765, 0.9869988808772572, 0.011584493907010062, 0.9940365488308803, 0.9981075607951625, 0.9975678993908231, 0.009981064406971756, 0.022457394915686452, 0.9681632474762604, 0.9980783216825576, 0.9978496172871159, 0.9614285097631717, 0.02994068023483926, 0.006653484496630947, 0.15533661689177644, 0.7559715355399788, 0.08975004531524862, 0.9942298775432779, 0.994607759468683, 0.9934771955267651, 0.995948077543427, 0.9942298699870555, 0.9940333188583937, 0.9958067344229006, 0.23847259912308047, 0.6116120777509593, 0.08977791966986559, 0.058916759783349294, 0.9965636708042512, 0.9941182074199605, 0.9976153547514871, 0.9978495347362486, 0.9970719872513093, 0.9978495469974186, 0.9989340737201395, 0.9974185315885746, 0.1203566252691141, 0.26456771680778235, 0.1203566252691141, 0.49335373421123346, 0.02165536948020357, 0.9744916266091607, 0.2805532616367617, 0.025751265560862185, 0.6925735106105566, 0.25517611961001957, 0.02480878940652968, 0.71768283640318, 0.9967142730326564, 0.10014430686095328, 0.0522492035796278, 0.8446954578706494, 0.9955905877564167, 0.9898793965324976, 0.9981720592862936, 0.999020105255297, 0.9906652934183093, 0.9978495270648893, 0.9980810049282773, 0.9929111110151113, 0.9967010587283183, 0.9846756237560991, 0.9966768522645569, 0.994229921157692, 0.9861219546001927, 0.9940939322143522, 0.014175429384736222, 0.9828297706750447, 0.9971488754324124, 0.08593677464025619, 0.00436966650713167, 0.20828743683994297, 0.4063789851632454, 0.011652444019017789, 0.2825717674611814, 0.9977934607914462, 0.9980861065769495, 0.1591985832265286, 0.40623086754355575, 0.4364237022934146, 0.9980168759272718, 0.7946146676666129, 0.20167884966157687, 0.9974736509371456, 0.0011270888711154188, 0.9973725588011081, 0.9973726582833758, 0.5809334895961096, 0.0026050829129870383, 0.4168132660779262, 0.9977166740927205, 0.9971527319613879, 0.9621350114444501, 0.036199139044444655, 0.9973726244983625, 0.2039741316420868, 0.002872875093550518, 0.792913525819943, 0.9960932165432181, 0.11279720383034005, 0.12007444278713618, 0.01273516817439323, 0.001819309739199033, 0.7513749222892007, 0.9976343648742786, 0.9971042799284099, 0.9802545625451996, 0.9975137666116353, 0.06499684373861477, 0.9340287174289826, 0.9978496020969924, 0.9921799096194521, 0.965686259013516, 0.03266591996663056, 0.997372571243055, 0.9971169136845253, 0.9974882841933548, 0.9967060083418432, 0.9989424025220061, 0.3083509435806464, 0.03896742693601575, 0.652280842189829, 0.9949609759486938, 0.9971558755464955, 0.9943577214448943, 0.9950655730894311, 0.019937896085431468, 0.9784905925004058, 0.9990670753147176, 0.11780785268453853, 0.5530424195468614, 0.28470231065430146, 0.0425417245805278, 0.9820783549713472, 0.013767453574364681, 0.08612083320099956, 0.9116929583692023, 0.9970213592072192, 0.9926802401048006, 0.9955908746159494, 0.9383800105532206, 0.05864875065957629, 0.997372666624345, 0.9990607094095013, 0.9978495661264888, 0.07002646892388445, 0.002659232997109536, 0.25351354572444246, 0.45206960950862113, 0.22248916075816452, 0.9982276781310903, 0.9986445364601549, 0.9949674149916583, 0.9923022867100836, 0.9844085833999948, 0.9945080050952279, 0.9947619274743226, 0.9207020257727148, 0.02360774425058243, 0.009836560104409345, 0.001967312020881869, 0.04524817648028299, 0.9971130731607459, 0.9942299462866212, 0.9942300089290382, 0.17377694960152823, 0.3635333888215878, 0.4594103265327758, 0.9986635587331423, 0.9954932987867019, 0.11199974194854866, 0.8835535198163282, 0.991795715827146, 0.9966904988527903, 0.9916632803849642, 0.9916632292291871, 0.765949256231084, 0.15797703409766106, 0.07659492562310839, 0.9965636576644443, 0.9976901175355141, 0.9945317542810423, 0.9973300128933105, 0.0021823413848868936, 0.9990752862406606, 0.007696196761414859, 0.9697207919382722, 0.019240491903537146, 0.9907660148751667, 0.8795090730065664, 0.11940354964658684, 0.997836764765301, 0.01961302621878098, 0.980651310939049, 0.9655130571936545, 0.15526460589534294, 0.7556210820240024, 0.0897084389617537, 0.15533663121732041, 0.755971605257626, 0.08975005359222957, 0.1545099644344584, 0.03967147735479338, 0.5741924353983252, 0.23176494665168762, 0.9915648398699243, 0.026365436194658844, 0.9755211392023772, 0.965512500339876, 0.9964662195519913, 0.9936638816661565, 0.021793200038054725, 0.8172450014270521, 0.16126968028160496, 0.995477758568882, 0.007865360861939563, 0.7078824775745606, 0.2792203105988545, 0.0065614000937494485, 0.9907714141561668, 0.9976519986210675, 0.9978952512734022, 0.0022424612388166343, 0.9990754486782065, 0.032937317980635636, 0.032937317980635636, 0.34928876742255466, 0.43278103858277056, 0.014553698642606444, 0.13787714503521895, 0.03016524151759158, 0.2624376012030467, 0.4926989447873291, 0.019104652961141333, 0.19506856181375887, 0.9934542355176135, 0.9978585041257024, 0.9971557818138069, 0.994664205402807, 0.9966722009259966, 0.9973288657554127, 0.9973726088876662, 0.978641971843096, 0.9871991793405482, 0.9911701552174204, 0.9401633259277824, 0.026569833124046024, 0.012262999903405857, 0.020438333172343094, 0.9973725569032881, 0.9945769537693108, 0.9967913812882317, 0.953097771697076, 0.004352044619621352, 0.04134442388640284, 0.9973726963654643, 0.9951172339906492, 0.9955906262531207, 0.9919828486867133, 0.018611235684591127, 0.6593694928255143, 0.29512102299851645, 0.02392873159447431, 0.00383434869786591, 0.12461633268064207, 0.30866507017820577, 0.05751523046798865, 0.27415593189741255, 0.23197809622088755, 0.9942298427918348, 0.9942297760667985, 0.9978495804761753, 0.9985154083365939, 0.9980509431896106, 0.03650200577911521, 0.613897369921483, 0.34842823698246334, 0.16121468729556512, 0.43622797738799973, 0.06401171407323909, 0.2821257027672389, 0.05215769294856518, 0.002370804224934781, 0.019098460509462564, 0.8618180304894982, 0.11936537818414103, 0.9925747383579478, 0.9960400249433164, 0.993987187310669, 0.9963295393876073, 0.9829814237011061, 0.015567579108388558, 0.9939324348467982, 0.0744221418772595, 0.052533276619242, 0.8711768372690966, 0.9946557960088583, 0.9843858391133298, 0.03337703979093542, 0.1080362077443436, 0.2942449560516675, 0.011418460981109485, 0.22397750386022452, 0.328500338994996, 0.13377358190307742, 0.00768813689098146, 0.0384406844549073, 0.8195553925786236, 0.9971557881763087, 0.00804303855736278, 0.7198519508839688, 0.26944179167165316, 0.9955267134585695, 0.9978088337931892, 0.9978495365480143, 0.9881755919866865, 0.011249481912679972, 0.9854546155507655, 0.996887560566643, 0.9655123773386299, 0.07196179551371443, 0.9252230851763283, 0.9934392521065936, 0.9743056795433098, 0.9844551689349911, 0.9977987008166462, 0.9942298946282179, 0.3607457125658436, 0.06687982311613955, 0.3050125266357273, 0.06890648442268922, 0.1975994773885941, 0.059512463466280696, 0.024796859777616954, 0.42154661621948825, 0.06281871143662962, 0.43146536013053505, 0.9970845570899995, 0.9968420939813765, 0.9973726851453326, 0.992610971629979, 0.9896652127865346, 0.0017939708553414682, 0.5435731691684649, 0.4538746264013915, 0.9950712753728104, 0.9970967942627885, 0.007079349350583274, 0.6866968870065776, 0.30087234739978913, 0.9969271874896551, 0.9949993637685488], \"Term\": [\"account\", \"air\", \"air\", \"air\", \"air\", \"air force\", \"air force\", \"air force\", \"air force\", \"amendment\", \"amendment right\", \"america\", \"america\", \"america\", \"america told\", \"arm\", \"arm pray\", \"ashli\", \"ashli\", \"ashli\", \"ashli\", \"ashli\", \"ashli\", \"ashli babbit\", \"ashli babbit\", \"ashli babbit\", \"ashli babbit\", \"ashli babbit\", \"ashli babbit\", \"ashli babbitt\", \"ashli babbitt\", \"ashli babbitt\", \"ashli know\", \"ashlibabbit\", \"babbit\", \"babbit\", \"babbit\", \"babbit\", \"babbit\", \"babbit\", \"babbit catching\", \"babbit congress\", \"babbit life\", \"babbit pack\", \"babbit proudly\", \"babbit year\", \"babbit year\", \"babbitt\", \"babbitt\", \"babbitt\", \"babbitt unarmed\", \"blood\", \"blood\", \"blood today\", \"breach\", \"bullet\", \"bullet storming\", \"california\", \"california nypost\", \"capitol\", \"capitol\", \"capitol\", \"capitol\", \"capitol care\", \"care tamir\", \"catching\", \"catching bullet\", \"cold\", \"cold blood\", \"complied\", \"congress\", \"congress\", \"congress\", \"congress today\", \"country\", \"country\", \"country year\", \"daughter\", \"daughter law\", \"dc police\", \"dc police\", \"dc police\", \"dedicated\", \"dedicated mentioned\", \"died\", \"died\", \"died\", \"diego\", \"diego\", \"diego\", \"diego ewerickson\", \"domestic\", \"erick\", \"ewerickson\", \"ewerickson wanted\", \"expressing\", \"expressing amendment\", \"family\", \"family\", \"family\", \"family\", \"family nation\", \"federal building\", \"floor\", \"floor given\", \"floyd\", \"floyd plaza\", \"follow\", \"follow update\", \"force\", \"force\", \"force\", \"force\", \"force vet\", \"force vet\", \"force veteran\", \"force veteran\", \"force veteran\", \"forget\", \"forget\", \"forget\", \"forget ashli\", \"fuck\", \"fuck\", \"fuck\", \"fuck perception\", \"funeral\", \"george\", \"george floyd\", \"getting\", \"given moment\", \"got\", \"got shot\", \"got wish\", \"guy\", \"happy\", \"happy erick\", \"hell\", \"high\", \"house\", \"house\", \"house floor\", \"killed\", \"killed\", \"killed\", \"killed\", \"killed\", \"killed\", \"killed air\", \"killed ashli\", \"killed capitol\", \"killed capitol\", \"killed capitol\", \"killed peaceful\", \"killed today\", \"killed today\", \"kind\", \"kind\", \"kind person\", \"kind retweet\", \"know\", \"know\", \"know\", \"know america\", \"know daughter\", \"law\", \"law\", \"law wonderful\", \"life\", \"life\", \"life\", \"life mattered\", \"like\", \"like\", \"like\", \"like\", \"like\", \"like george\", \"lobby\", \"man\", \"mattered\", \"mentioned\", \"mentioned\", \"mentioned house\", \"mike_pence killed\", \"military\", \"military\", \"military woman\", \"miss\", \"miss ashli\", \"moment\", \"moment silence\", \"murdered\", \"murdered\", \"murdered\", \"murdered expressing\", \"murdered veteran\", \"nation word\", \"nypost\", \"officer\", \"officer\", \"officer shot\", \"patriot\", \"patriot\", \"patriot\", \"patriot\", \"peace\", \"peace\", \"peaceful\", \"peaceful\", \"peaceful protest\", \"perception\", \"perception world\", \"person\", \"person\", \"person military\", \"plaza\", \"plaza dedicated\", \"police\", \"police\", \"police\", \"police\", \"police\", \"police murdered\", \"police officer\", \"police protest\", \"police today\", \"police whilst\", \"pray\", \"pray family\", \"prayer\", \"prayer\", \"prayer\", \"prayer\", \"prayer\", \"prayer follow\", \"presumably\", \"presumably police\", \"protest\", \"protest\", \"protest\", \"protest air\", \"protest capitol\", \"protester\", \"protester\", \"protester killed\", \"proud\", \"proudly\", \"proudly served\", \"remember\", \"remember\", \"remember\", \"remember sister\", \"rest\", \"rest peace\", \"retweet\", \"retweet\", \"retweet share\", \"right\", \"right\", \"right\", \"right forget\", \"rip\", \"rip\", \"rip ashli\", \"roberta\", \"roberta\", \"roof\", \"san\", \"san\", \"san\", \"san diego\", \"san diego\", \"san diego\", \"say\", \"say\", \"say\", \"say\", \"saying\", \"scream\", \"scream\", \"scream roof\", \"sebgorka\", \"sebgorka usairforce\", \"served\", \"served\", \"served\", \"served country\", \"served tour\", \"served tour\", \"served tour\", \"service\", \"service\", \"service san\", \"share\", \"share\", \"share prayer\", \"shot\", \"shot\", \"shot\", \"shot\", \"shot\", \"shot\", \"shot killed\", \"shot killed\", \"shot killed\", \"shot killed\", \"shot killed\", \"shot today\", \"silence\", \"silence forget\", \"sister\", \"sister arm\", \"smart\", \"smart kind\", \"smokin\", \"smokin ashli\", \"state\", \"stop\", \"stop\", \"stop\", \"stop\", \"stop miss\", \"storming\", \"storming capitol\", \"strong\", \"strong\", \"strong\", \"strong smart\", \"tamir\", \"tamir fuck\", \"terrorism\", \"terrorist\", \"terrorist\", \"terrorist\", \"terrorist\", \"today\", \"today\", \"today\", \"today\", \"today\", \"today\", \"today got\", \"today presumably\", \"today vigil\", \"today want\", \"told\", \"tour\", \"tour\", \"tour\", \"trump\", \"trump\", \"trump\", \"trump\", \"trump\", \"trump\", \"unarmed\", \"unarmed\", \"unarmed\", \"unarmed woman\", \"unarmed young\", \"united\", \"united state\", \"update\", \"update\", \"usairforce ashli\", \"vet\", \"vet\", \"vet\", \"vet california\", \"vet police\", \"veteran\", \"veteran\", \"veteran\", \"veteran\", \"veteran\", \"veteran\", \"veteran ashli\", \"veteran ashli\", \"veteran ashli\", \"veteran ashli\", \"veteran cold\", \"veteran served\", \"veteran served\", \"veteran served\", \"veteran year\", \"vigil\", \"vigil like\", \"wait\", \"want\", \"want\", \"want know\", \"want scream\", \"wanted\", \"wanted\", \"wanted shot\", \"whilst\", \"whilst breaking\", \"wish\", \"wish happy\", \"woman\", \"woman\", \"woman\", \"woman\", \"woman\", \"woman shot\", \"woman shot\", \"woman shot\", \"woman shot\", \"woman shot\", \"woman strong\", \"wonderful\", \"wonderful kind\", \"word\", \"world\", \"year\", \"year\", \"year\", \"year murdered\", \"year service\", \"year veteran\", \"year veteran\", \"year veteran\", \"young\", \"young woman\"]}, \"R\": 30, \"lambda.step\": 0.01, \"plot.opts\": {\"xlab\": \"PC1\", \"ylab\": \"PC2\"}, \"topic.order\": [5, 1, 4, 2, 3, 6]};\n",
       "\n",
       "function LDAvis_load_lib(url, callback){\n",
       "  var s = document.createElement('script');\n",
       "  s.src = url;\n",
       "  s.async = true;\n",
       "  s.onreadystatechange = s.onload = callback;\n",
       "  s.onerror = function(){console.warn(\"failed to load library \" + url);};\n",
       "  document.getElementsByTagName(\"head\")[0].appendChild(s);\n",
       "}\n",
       "\n",
       "if(typeof(LDAvis) !== \"undefined\"){\n",
       "   // already loaded: just create the visualization\n",
       "   !function(LDAvis){\n",
       "       new LDAvis(\"#\" + \"ldavis_el22261402643708430886557447668\", ldavis_el22261402643708430886557447668_data);\n",
       "   }(LDAvis);\n",
       "}else if(typeof define === \"function\" && define.amd){\n",
       "   // require.js is available: use it to load d3/LDAvis\n",
       "   require.config({paths: {d3: \"https://cdnjs.cloudflare.com/ajax/libs/d3/3.5.5/d3.min\"}});\n",
       "   require([\"d3\"], function(d3){\n",
       "      window.d3 = d3;\n",
       "      LDAvis_load_lib(\"https://cdn.rawgit.com/bmabey/pyLDAvis/files/ldavis.v1.0.0.js\", function(){\n",
       "        new LDAvis(\"#\" + \"ldavis_el22261402643708430886557447668\", ldavis_el22261402643708430886557447668_data);\n",
       "      });\n",
       "    });\n",
       "}else{\n",
       "    // require.js not available: dynamically load d3 & LDAvis\n",
       "    LDAvis_load_lib(\"https://cdnjs.cloudflare.com/ajax/libs/d3/3.5.5/d3.min.js\", function(){\n",
       "         LDAvis_load_lib(\"https://cdn.rawgit.com/bmabey/pyLDAvis/files/ldavis.v1.0.0.js\", function(){\n",
       "                 new LDAvis(\"#\" + \"ldavis_el22261402643708430886557447668\", ldavis_el22261402643708430886557447668_data);\n",
       "            })\n",
       "         });\n",
       "}\n",
       "</script>"
      ],
      "text/plain": [
       "PreparedData(topic_coordinates=               x          y  topics  cluster       Freq\n",
       "topic                                                  \n",
       "4      1.465019  -47.625065  1       1        21.033731\n",
       "0      54.854797 -36.476795  2       1        19.377588\n",
       "3      32.212929 -61.444572  3       1        18.821726\n",
       "1      5.111096  -14.110332  4       1        16.910672\n",
       "2      26.350170 -33.374702  5       1        12.567566\n",
       "5      38.109818 -7.222781   6       1        11.288716, topic_info=              Term         Freq        Total Category  logprob  loglift\n",
       "68    ashli babbit  3132.000000  3132.000000  Default  30.0000  30.0000\n",
       "113   babbit        3133.000000  3133.000000  Default  29.0000  29.0000\n",
       "66    ashli         3173.000000  3173.000000  Default  28.0000  28.0000\n",
       "929   kind          887.000000   887.000000   Default  27.0000  27.0000\n",
       "164   babbitt       1098.000000  1098.000000  Default  26.0000  26.0000\n",
       "...       ...               ...          ...      ...      ...      ...\n",
       "1943  woman shot    260.660535   604.915305   Topic6  -4.1985   1.3395 \n",
       "1842  veteran       373.975065   1138.507197  Topic6  -3.8375   1.0681 \n",
       "907   killed        388.098754   1373.102499  Topic6  -3.8004   0.9178 \n",
       "1700  today         242.280187   1043.201940  Topic6  -4.2716   0.7214 \n",
       "1935  woman         195.017783   986.844715   Topic6  -4.4886   0.5599 \n",
       "\n",
       "[307 rows x 6 columns], token_table=      Topic      Freq          Term\n",
       "term                               \n",
       "9     5      0.987560  account     \n",
       "29    2      0.119509  air         \n",
       "29    3      0.258754  air         \n",
       "29    4      0.119509  air         \n",
       "29    6      0.502158  air         \n",
       "...  ..           ...  ...         \n",
       "1981  1      0.007079  year veteran\n",
       "1981  2      0.686697  year veteran\n",
       "1981  3      0.300872  year veteran\n",
       "1987  3      0.996927  young       \n",
       "1989  3      0.994999  young woman \n",
       "\n",
       "[425 rows x 3 columns], R=30, lambda_step=0.01, plot_opts={'xlab': 'PC1', 'ylab': 'PC2'}, topic_order=[5, 1, 4, 2, 3, 6])"
      ]
     },
     "execution_count": 37,
     "metadata": {},
     "output_type": "execute_result"
    }
   ],
   "source": [
    "# visualization of LDA model \n",
    "import pyLDAvis.sklearn\n",
    "\n",
    "pyLDAvis.enable_notebook()\n",
    "panel = pyLDAvis.sklearn.prepare(lda_model, doc_term_matrix_1, tfidfconverter, mds='tsne')\n",
    "panel"
   ]
  },
  {
   "cell_type": "code",
   "execution_count": 38,
   "metadata": {},
   "outputs": [
    {
     "name": "stdout",
     "output_type": "stream",
     "text": [
      "Log likelihood:  -967384.3109877736\n",
      "Perplexity:  540.2230953463446\n"
     ]
    }
   ],
   "source": [
    "# test LDA model\n",
    "\n",
    "# log likelihood (higher score is better)\n",
    "print(\"Log likelihood: \", lda_model.score(doc_term_matrix_1))\n",
    "\n",
    "\n",
    "# perplexity (lower score is better)\n",
    "print(\"Perplexity: \", lda_model.perplexity(doc_term_matrix_1))"
   ]
  },
  {
   "cell_type": "code",
   "execution_count": null,
   "metadata": {},
   "outputs": [],
   "source": [
    "# cross-validation to find best parameters for LDA model\n",
    "\n",
    "#import cross-validation tool\n",
    "from sklearn.model_selection import GridSearchCV\n",
    "\n",
    "# define search parameters\n",
    "search_params = {'n_components': [5, 8, 10, 12], 'learning_decay': [.5, .7, .9]}\n",
    "\n",
    "# initialize model for cross-validation\n",
    "lda = LatentDirichletAllocation()\n",
    "\n",
    "# initialize grid search class \n",
    "model = GridSearchCV(lda, param_grid=search_params)\n",
    "\n",
    "# run grid search \n",
    "model.fit(doc_term_matrix_1)"
   ]
  },
  {
   "cell_type": "code",
   "execution_count": null,
   "metadata": {},
   "outputs": [],
   "source": [
    "# what is best model? \n",
    "best_lda_model = model.best_estimator_\n",
    "\n",
    "# print parameters for best model\n",
    "print(\"Parameters for best model: \", model.best_params_)\n",
    "\n",
    "# print log likelihood score\n",
    "print(\"Log likelihood score of best model: \", model.best_score_)\n",
    "\n",
    "# print perplexity score\n",
    "print(\"Perplexity score of best model: \", best_lda_model.perplexity(doc_term_matrix_1))"
   ]
  },
  {
   "cell_type": "code",
   "execution_count": 34,
   "metadata": {},
   "outputs": [],
   "source": []
  },
  {
   "cell_type": "code",
   "execution_count": 35,
   "metadata": {},
   "outputs": [],
   "source": [
    "import pyLDAvis.sklearn"
   ]
  },
  {
   "cell_type": "code",
   "execution_count": 36,
   "metadata": {},
   "outputs": [
    {
     "data": {
      "text/html": [
       "\n",
       "<link rel=\"stylesheet\" type=\"text/css\" href=\"https://cdn.rawgit.com/bmabey/pyLDAvis/files/ldavis.v1.0.0.css\">\n",
       "\n",
       "\n",
       "<div id=\"ldavis_el431251403162000862249768679160\"></div>\n",
       "<script type=\"text/javascript\">\n",
       "\n",
       "var ldavis_el431251403162000862249768679160_data = {\"mdsDat\": {\"x\": [5.310528755187988, 136.30465698242188, 101.1905517578125, -106.82486724853516, -44.365760803222656, 43.884090423583984, 114.0939712524414, -119.72714233398438, -49.51820755004883, -141.93873596191406, 38.731544494628906, -10.944339752197266], \"y\": [171.04965209960938, 23.800941467285156, -84.98519134521484, 148.84173583984375, 78.63272094726562, 73.4740219116211, 135.9330291748047, -72.07717895507812, -9.617324829101562, 40.05521011352539, -14.776019096374512, -107.19334411621094], \"topics\": [1, 2, 3, 4, 5, 6, 7, 8, 9, 10, 11, 12], \"cluster\": [1, 1, 1, 1, 1, 1, 1, 1, 1, 1, 1, 1], \"Freq\": [12.077758101492696, 11.311724054156326, 10.55052005449449, 10.419226065467114, 8.734976365948011, 8.020198304532917, 7.434107423719942, 7.165649506827935, 6.878838687575609, 6.756516812609373, 5.638792339389312, 5.011692283786277]}, \"tinfo\": {\"Term\": [\"kind\", \"ashli babbit\", \"babbit\", \"strong\", \"ashli\", \"prayer\", \"stop\", \"person\", \"daughter\", \"update\", \"retweet\", \"follow\", \"miss ashli\", \"babbitt\", \"ashli babbitt\", \"officer\", \"rip ashli\", \"killed ashli\", \"police officer\", \"rip\", \"shot killed\", \"shot\", \"share\", \"ashli know\", \"daughter law\", \"smart\", \"know daughter\", \"law\", \"wonderful\", \"retweet share\", \"share\", \"ashli know\", \"daughter law\", \"smart\", \"know daughter\", \"law\", \"wonderful\", \"retweet share\", \"share prayer\", \"miss\", \"kind person\", \"kind retweet\", \"military woman\", \"strong smart\", \"wonderful kind\", \"stop miss\", \"smart kind\", \"person military\", \"law wonderful\", \"prayer follow\", \"woman strong\", \"follow update\", \"breaking\", \"sister\", \"black\", \"really\", \"thing\", \"military\", \"babbitt woman\", \"nationalfile\", \"know\", \"woman\", \"ashli\", \"want\", \"congress\", \"told\", \"want know\", \"killed air\", \"congress today\", \"babbit congress\", \"today want\", \"america told\", \"know america\", \"ewerickson\", \"year service\", \"wish\", \"young woman\", \"babbitt unarmed\", \"shot today\", \"veteran year\", \"service san\", \"unarmed young\", \"erick\", \"got wish\", \"police protest\", \"wanted shot\", \"presumably police\", \"presumably\", \"today got\", \"diego ewerickson\", \"ewerickson wanted\", \"happy erick\", \"today presumably\", \"wish happy\", \"america\", \"killed today\", \"wanted\", \"force veteran\", \"today\", \"happy\", \"air force\", \"air\", \"force\", \"veteran\", \"veteran ashli\", \"san diego\", \"diego\", \"san\", \"killed\", \"know\", \"shot\", \"prayer\", \"update\", \"remember\", \"pray\", \"pray family\", \"babbit remember\", \"sister arm\", \"nation word\", \"family nation\", \"remember sister\", \"arm pray\", \"going\", \"mattered\", \"life mattered\", \"babbit life\", \"loss\", \"account\", \"capitol building\", \"martyr\", \"babbit say\", \"inside\", \"game\", \"soul\", \"home\", \"killed cop\", \"violence\", \"stupid\", \"later\", \"heart\", \"long\", \"tweet\", \"qanon\", \"family\", \"trump\", \"trump supporter\", \"supporter\", \"life\", \"ashli\", \"babbit\", \"ashli babbit\", \"say\", \"capitol\", \"babbitt\", \"ashli babbitt\", \"rip ashli\", \"george\", \"floyd\", \"george floyd\", \"moment\", \"cold\", \"cold blood\", \"mentioned\", \"vigil\", \"forget ashli\", \"like george\", \"floor\", \"plaza\", \"silence\", \"moment silence\", \"dedicated\", \"blood today\", \"house floor\", \"dedicated mentioned\", \"vigil like\", \"plaza dedicated\", \"floyd plaza\", \"mentioned house\", \"floor given\", \"today vigil\", \"given moment\", \"police murdered\", \"silence forget\", \"veteran cold\", \"murdered veteran\", \"rip\", \"dc police\", \"forget\", \"blood\", \"like\", \"given\", \"kind\", \"retweet\", \"follow\", \"miss ashli\", \"rest\", \"peace\", \"rest peace\", \"die\", \"thought\", \"domestic\", \"arm\", \"storming\", \"storming capitol\", \"world\", \"arrested\", \"tamir\", \"bullet\", \"heather\", \"heyer\", \"heather heyer\", \"traitor\", \"enemy\", \"real\", \"sad\", \"domestic terrorist\", \"lmaooooo\", \"perception\", \"catching\", \"babbit die\", \"capitol care\", \"perception world\", \"terrorist\", \"fuck\", \"died\", \"care\", \"state\", \"ashli\", \"babbit\", \"ashli babbit\", \"patriot\", \"stop\", \"person\", \"daughter\", \"word\", \"cop\", \"american\", \"fighting\", \"maga\", \"officer killed\", \"fucking\", \"body\", \"capitol today\", \"steal\", \"hour\", \"trying\", \"break\", \"veteran killed\", \"blake\", \"babbit got\", \"nba\", \"election people\", \"rapist\", \"dead body\", \"walked dead\", \"body laid\", \"feed\", \"babbit shot\", \"cop congress\", \"hour later\", \"later steal\", \"laid hour\", \"game canceled\", \"playoff game\", \"people shame\", \"honor maga\", \"congress walked\", \"rapist jacob\", \"got\", \"people\", \"dead\", \"shot\", \"patriot\", \"killed\", \"death\", \"veteran\", \"shit\", \"officer\", \"killed ashli\", \"police officer\", \"officer shot\", \"peaceful protest\", \"killed peaceful\", \"protest air\", \"babbitt ashli\", \"ashli_babbitt\", \"protestor arrested\", \"unarmed protestor\", \"arrested murder\", \"mike_pence killed\", \"good\", \"shot ashli\", \"invading capitol\", \"love\", \"thread\", \"looking\", \"ashli_babbitt angelwarrior\", \"angelwarrior\", \"lmao\", \"earlier\", \"babbit air\", \"vet shot\", \"peaceful\", \"veteran san\", \"fbi\", \"insurgent\", \"today storming\", \"shot killed\", \"ashli babbitt\", \"babbitt\", \"shot\", \"woman shot\", \"killed\", \"police\", \"protest\", \"veteran ashli\", \"force veteran\", \"force\", \"air force\", \"air\", \"ashli\", \"woman\", \"veteran\", \"ashli babbit\", \"babbit\", \"mike_pence\", \"let\", \"god\", \"say ashli\", \"election\", \"melissa\", \"maybe\", \"justice\", \"capital\", \"hero\", \"way\", \"complied\", \"door\", \"bless\", \"honor\", \"god bless\", \"sick\", \"cassandrarules\", \"patriot veteran\", \"jacob\", \"jacob blake\", \"walked\", \"today capitol\", \"shoot\", \"thank\", \"believe\", \"make\", \"thug\", \"broke\", \"mike_pence ashli\", \"say\", \"video\", \"need\", \"death\", \"babbitt\", \"ashli babbitt\", \"patriot\", \"ashli\", \"police\", \"babbit\", \"ashli babbit\", \"sorry\", \"ashlibabbit\", \"protester\", \"california\", \"iraq\", \"saying\", \"police today\", \"sorry loss\", \"far\", \"feel\", \"okay\", \"nypost\", \"okay ashli\", \"day\", \"establishment okay\", \"iraq america\", \"fighting iraq\", \"babbitt fighting\", \"coming\", \"vet california\", \"hearing\", \"protester killed\", \"life matter\", \"twitter feed\", \"babbit veteran\", \"cassandrarules establishment\", \"murder ashli\", \"kaitmarieox\", \"vile\", \"girl\", \"babbit unarmed\", \"today ashli\", \"white\", \"murder\", \"unarmed woman\", \"killed capitol\", \"matter\", \"vet\", \"unarmed\", \"capitol\", \"capitol police\", \"force vet\", \"killed\", \"ashli\", \"police\", \"rip\", \"woman\", \"strong\", \"served country\", \"amendment\", \"nation\", \"amendment right\", \"gonna\", \"got shot\", \"peace ashli\", \"expressing\", \"look\", \"pack\", \"country year\", \"expressing amendment\", \"murdered expressing\", \"protestor\", \"year murdered\", \"right forget\", \"level\", \"babbit proudly\", \"proudly served\", \"proudly\", \"high level\", \"level security\", \"country served\", \"country lmaooooo\", \"bitch\", \"security official\", \"force high\", \"official time\", \"country died\", \"country\", \"right\", \"served\", \"security\", \"high\", \"year\", \"tour\", \"murdered\", \"said\", \"shame\", \"tonight\", \"babbit terrorist\", \"establishment\", \"lost\", \"fascist\", \"babbit murdered\", \"coup\", \"clear\", \"fighting country\", \"getting\", \"hope\", \"election ashli\", \"guy\", \"like ashli\", \"member\", \"lie\", \"murdered ashli\", \"fought\", \"line\", \"babbit death\", \"murdered government\", \"conspiracy theory\", \"theory\", \"washington\", \"fucked\", \"government rip\", \"literally\", \"blood hand\", \"ashli babbit\", \"babbit\", \"ashli\", \"antifa\", \"trump\", \"murdered\", \"death\", \"like\", \"federal\", \"thought gonna\", \"babbit thought\", \"federal building\", \"invading\", \"terrorism\", \"tried\", \"breach\", \"lobby\", \"speaker\", \"speaker lobby\", \"outside\", \"scream\", \"peacefully\", \"babbit stormed\", \"invading federal\", \"scream roof\", \"roof\", \"want scream\", \"capitol tried\", \"breach window\", \"tried breach\", \"window speaker\", \"peacefully protest\", \"killed peacefully\", \"outside invading\", \"building terrorism\", \"lobby killed\", \"protest outside\", \"babbitt say\", \"window\", \"building\", \"stormed\", \"capitol\", \"stormed capitol\"], \"Freq\": [2017.0, 3260.0, 3263.0, 1309.0, 3371.0, 1433.0, 1273.0, 1269.0, 1264.0, 1360.0, 1021.0, 1019.0, 1011.0, 1185.0, 1174.0, 619.0, 706.0, 584.0, 560.0, 756.0, 823.0, 1162.0, 624.0, 623.0, 622.0, 621.0, 621.0, 621.0, 621.0, 621.0, 623.3065558398666, 622.4662365020389, 621.065525898936, 620.5229969750466, 620.4325136246665, 620.4235619007097, 620.3900944311877, 620.3650579207102, 620.3650579207102, 620.3162342419519, 620.2075987285946, 620.2075987285946, 620.2075987285946, 620.2075987285946, 620.2075987285946, 620.2075987285946, 620.2075987285946, 620.2075987285946, 620.2075987285946, 620.1669551217292, 620.1492645850111, 620.0709684738982, 89.41614759580293, 74.54535907644143, 53.69377125059755, 51.94566904320056, 51.392878752991855, 604.3962921972329, 37.55454882404505, 36.186319547003144, 539.0956143703627, 457.52438010227223, 177.11761029382188, 458.9461882663707, 405.8347792170087, 344.4298617660072, 333.624068050996, 325.21516233698327, 323.2187313046188, 322.57134430221106, 322.37799829975023, 322.190717116584, 322.190717116584, 213.8359274797848, 206.51605453637032, 199.97595074890816, 199.60187709006675, 198.99161346082494, 198.9397728893182, 194.32502537598873, 193.84354486749947, 191.85624911438407, 191.16485413604607, 189.9596589583825, 188.13634758787975, 186.10036123589825, 185.32911274625488, 185.32911274625488, 185.32911274625488, 185.32911274625488, 185.32911274625488, 185.32911274625488, 185.32911274625488, 185.32911274625488, 423.90122667580323, 246.93105115425197, 194.85654561322713, 399.0120947032496, 455.74247551957257, 192.46241752450328, 366.71726103430245, 365.6148476352681, 363.35514174103776, 320.8164793081115, 266.93572978291905, 206.06116527458394, 206.06116527458394, 206.0455412642114, 294.12567395402675, 257.1994500430513, 234.12462362278632, 1432.2728299823536, 1359.1648704370448, 218.18588784439137, 212.00751247813488, 175.8718859997106, 163.26016547000276, 161.25084789310225, 160.424214588458, 159.38618537366807, 159.38618537366807, 159.38618537366807, 147.55026846669446, 143.2538272225561, 135.96476596402877, 135.39462252566457, 129.80049322760644, 107.45637260895785, 102.00682843034538, 95.4007111265056, 94.15456726947733, 90.9053380827976, 90.21051005692486, 88.2020309581916, 86.14148357974253, 78.31775211066488, 75.10865930729477, 73.28141269018816, 72.7274744188742, 71.80745983352591, 69.30947455005021, 174.66662452491346, 137.6023269216549, 304.8126840719202, 302.17208520273147, 128.877033741323, 149.4598486334315, 198.21668306199382, 229.22828965237534, 215.67450876299839, 213.99822849810417, 129.932370611853, 138.66735855649546, 137.16522466380468, 134.0984973194348, 705.9389017453361, 423.55553403760297, 422.21099010768785, 420.4533514123847, 368.05225705118085, 366.62002422947376, 362.30284610211584, 358.64949768820406, 345.6056682251829, 342.84610998381146, 339.5413864077947, 331.5420194986533, 329.742471921536, 328.8258640190447, 327.0272957275531, 326.0953316713094, 326.0478478507061, 325.6692633778242, 325.06700496263625, 325.06700496263625, 325.06700496263625, 325.06700496263625, 325.06700496263625, 325.06700496263625, 325.06700496263625, 325.06700496263625, 324.62795135451375, 323.4926922742347, 323.4926922742347, 323.4926922742347, 668.11903078194, 335.08599199721834, 474.5319641096277, 344.35146340431254, 351.4389080595679, 325.1988845212582, 2016.3891863391761, 1020.3819340930108, 1018.9373610980493, 1010.5171794214594, 195.216942058583, 169.71058336520943, 152.8014508802558, 137.86495435725357, 136.2291334146572, 123.40471292952265, 121.19135205344116, 121.09881625084658, 104.69937650000143, 89.19086365922081, 88.62981509920192, 86.94204349604837, 82.66108444455097, 80.66183252788333, 80.63440236974883, 80.63440236974883, 77.4940149795973, 77.12006617352185, 76.81475652121664, 74.2346557986977, 72.18796891899603, 72.14333792260399, 71.20436495844228, 71.03370757909917, 70.94168053816557, 70.66721750314699, 70.66721750314699, 247.77710222800644, 122.50421613100936, 164.03715871167367, 98.4837804228155, 78.73967918489761, 139.6004171216914, 93.59829063418648, 88.71463411330465, 77.25122000120663, 1271.9913946296356, 1268.865721238541, 1263.3001425301873, 203.43891584653323, 156.22453679877523, 119.74475866970654, 119.54251040811045, 114.58208871789135, 105.18583114408085, 93.12049141330435, 75.8738022891515, 73.44846250030247, 72.09061844964313, 70.43695486558543, 70.12965206344221, 67.58126742459581, 67.51738843828555, 66.53270426469054, 66.2333640949359, 66.20963413769316, 63.03999086542998, 62.967836435775475, 62.8827271235034, 62.88272712350341, 62.8827271235034, 62.85271309577453, 62.77445240015245, 62.76757356715795, 62.42937552837404, 62.052083697070344, 62.052083697070344, 62.052083697070344, 62.052083697070344, 62.052083697070344, 62.052083697070344, 62.052083697070344, 62.052083697070344, 194.59350999117942, 160.9881260639767, 116.3952795851692, 158.4385066432358, 80.05732603399423, 79.29339663220578, 66.1114801958391, 69.50401745078122, 63.11618556511021, 618.842367647647, 583.8347413488889, 559.869266998131, 432.05142624399133, 280.5036174908469, 277.510452928304, 276.9474846329109, 158.25203741393602, 145.3550632065521, 143.965464099442, 143.76652683003283, 143.68690593418705, 109.08952981879939, 78.49270234709952, 77.60965683419592, 70.66765803169227, 65.8664780525279, 40.48529353751972, 32.34132242290838, 29.321715750055407, 29.321715750055407, 25.98957340398031, 24.684156251513333, 22.778400535033615, 19.97751644679957, 287.5561527644408, 19.383324556935086, 19.143610437811713, 17.29476826526783, 11.27852409779403, 566.4531813329619, 708.1146218751929, 709.2420428937219, 588.9106352447222, 292.1991300947657, 556.1588035119786, 418.0045030207994, 212.2006455827145, 219.5661278914568, 252.99319703816795, 251.68212473076855, 248.98915806804365, 248.13663297534123, 377.8302270652324, 197.71160664113273, 179.30564975287646, 158.17520656950225, 157.9730414576395, 232.32056060551338, 195.30986231488924, 186.7204001709318, 174.9077612870757, 145.98268481043024, 134.06075111636275, 120.69640167407574, 115.61089176318934, 114.75173213902838, 112.92766982797671, 112.90239400255558, 108.11647279769521, 106.14709206538906, 92.62546028803433, 85.62335505555528, 84.53077852159736, 82.36817269728496, 80.24369109617938, 79.50473342919891, 78.57305233765851, 78.57305233765851, 78.26360648571227, 76.05038371812687, 75.29127249459475, 67.63172428424807, 65.3898406582054, 64.98931986021748, 64.89531640567138, 64.89163745969566, 64.35035685195348, 281.4585971600803, 93.95787426119485, 85.93841397238546, 115.60791765717846, 184.105135784772, 177.9358655437076, 105.58679277717627, 192.27661580410302, 112.26708541702537, 104.76043406198569, 103.13509706672019, 229.37532883543577, 117.15740207834975, 115.72087911806057, 114.73248056959042, 105.21977322899677, 96.21492864358723, 94.91383301849717, 94.8171199334204, 90.936190107361, 86.4643529663512, 86.05953461272918, 85.02036624888623, 80.58461409848204, 73.86831284183461, 73.51907633943131, 73.51907633943131, 73.51907633943131, 73.36945606537058, 71.43299237181466, 70.47569580268787, 69.92625047862812, 69.63628520555018, 68.39912586564321, 68.18790220591093, 66.7754266436379, 64.08897911550982, 63.37894110865828, 63.135208634025716, 63.081289710433595, 62.80404233933573, 122.1890042476386, 94.97223888828884, 154.8720452949989, 142.30040988650043, 85.1870520696453, 140.0480229048668, 86.97720062816376, 105.41910416008103, 176.4656395005164, 209.3152702988153, 96.69809212813226, 78.11040582569044, 135.63684936806916, 101.78968149939058, 90.70699306133741, 78.00055254366161, 77.5473396584725, 1308.7062385447655, 251.42820852564475, 202.78042160589263, 174.51589462904548, 161.5837878172929, 154.96330711642045, 140.5914833592547, 135.38087443943857, 122.54103680056059, 115.27331674005774, 113.4382382394566, 110.72570421565679, 110.37656164623654, 105.52932799384365, 105.32974106710148, 104.04831165486256, 103.49464390274316, 103.47424004767157, 103.05993001269542, 103.010305695232, 103.010305695232, 96.26182208699846, 91.91390544950757, 90.32058410667815, 88.59367501100105, 88.32774857194391, 84.8470978797517, 83.32792739585436, 81.53019997057127, 81.5133110738462, 413.2133802476262, 244.15413523898965, 299.0116602180883, 111.94565975668007, 101.4708277968854, 151.57287617898967, 93.31353711185888, 92.0517564442967, 108.84283640365368, 98.25301086598719, 97.82895336045019, 72.80104618590458, 68.93946756320247, 61.26596901989935, 57.89536777178067, 50.16861174199848, 49.66573984780639, 46.344562168131944, 46.0060653985509, 43.476706387254225, 42.67117671604791, 41.37041503422586, 40.85285254709459, 40.52700523003208, 35.884748136075274, 35.19317908626608, 32.66223156575829, 32.55520894876764, 31.752124397092572, 29.051008058979168, 28.475929762559804, 28.37350274111042, 28.37350274111042, 28.040658322874876, 27.87834548777703, 26.073183027971364, 25.06146787046256, 23.36582690868707, 1948.4704180646675, 1941.955696201724, 1515.9126869274746, 103.52514722591471, 49.0895754283627, 48.793902932822895, 33.34664381669474, 34.02741989871322, 192.81235030251037, 184.38756369094975, 183.55863459083656, 169.9903407344527, 166.41438043203937, 156.62003192493472, 152.83568500281262, 143.8059880105932, 129.32588985918346, 129.2558031995638, 126.82422061901252, 124.90360251196826, 124.38562247242872, 122.56508675294003, 120.29170237638506, 120.22635005321024, 119.67831389081744, 119.67831389081744, 119.67831389081744, 119.09732377559935, 118.94409219716702, 118.36877627273171, 118.32992047723317, 117.49018021858943, 117.09830533755488, 116.11412878082956, 116.11412878082956, 116.10835279075009, 116.10835279075009, 109.91849158024404, 171.78891493215687, 191.556283790136, 137.6440756498651, 143.40483788785266, 118.90137508602768], \"Total\": [2017.0, 3260.0, 3263.0, 1309.0, 3371.0, 1433.0, 1273.0, 1269.0, 1264.0, 1360.0, 1021.0, 1019.0, 1011.0, 1185.0, 1174.0, 619.0, 706.0, 584.0, 560.0, 756.0, 823.0, 1162.0, 624.0, 623.0, 622.0, 621.0, 621.0, 621.0, 621.0, 621.0, 624.3599004791911, 623.5195789154052, 622.1188689048836, 621.5763408549088, 621.4858558911119, 621.4769295801942, 621.4434374118431, 621.4184001420223, 621.4184001420223, 621.3695794782546, 621.2609409407904, 621.2609409407904, 621.2609409407904, 621.2609409407904, 621.2609409407904, 621.2609409407904, 621.2609409407904, 621.2609409407904, 621.2609409407904, 621.2202973430809, 621.2026068148639, 621.1243107092799, 90.46961886920023, 75.59903294890988, 54.7488733707313, 52.99905739176793, 52.44636963617428, 619.4172239248907, 38.60806147926102, 37.23971480812733, 848.1845570098175, 1000.0910998452525, 3371.919254924869, 459.92287905780887, 406.81262447786787, 345.4064205767772, 334.60060513379693, 326.1916997194412, 324.19526815854476, 323.5478811109641, 323.3545351093013, 323.16725392533704, 323.16725392533704, 214.8124844231065, 207.49270552764943, 200.95248905253573, 200.5784151592871, 199.96815246736116, 199.91631292364994, 195.30156367431528, 194.8200817070548, 192.83278653415184, 192.14139190012895, 190.93619576715264, 189.1128843985632, 187.07689861644442, 186.30564955498903, 186.30564955498903, 186.30564955498903, 186.30564955498903, 186.30564955498903, 186.30564955498903, 186.30564955498903, 186.30564955498903, 450.26992217210244, 264.67314337767203, 201.15557158019968, 679.3708570612048, 929.7094760730166, 199.54126788784043, 788.9233232738472, 789.9502519793566, 800.2942335005303, 952.2910659849929, 546.8896800263907, 247.70825446222088, 247.70825446222088, 247.7660432243575, 1251.6490904675709, 848.1845570098175, 1162.7482394351161, 1433.2785499016443, 1360.1706802479955, 219.19142951040055, 213.01303414315714, 176.8773981577802, 164.26567760044193, 162.256359766153, 161.42972637340313, 160.3916971499437, 160.3916971499437, 160.3916971499437, 148.55580194624795, 144.25934044876217, 136.97027715837643, 136.40013364031665, 130.80604677304237, 108.46190610009788, 103.01236062068413, 96.40623770474714, 95.16008646012918, 91.91089194090613, 91.21609515828168, 89.20756858576821, 87.14705012181645, 79.32334629991433, 76.11427198155211, 74.28693098714605, 73.73307462541662, 72.81300848725554, 70.3150088660556, 185.63569716673985, 148.98702671937286, 367.3146900111981, 369.7085465709261, 143.86083791285026, 172.78607925234235, 275.46622112068593, 3371.919254924869, 3263.6623275638726, 3260.354792287763, 485.47535758380144, 798.7795812957264, 1185.0963264029006, 1174.1093866969595, 706.9186461762275, 424.53524807447565, 423.19070342611536, 421.4330632338973, 369.0320062591393, 367.5997432131524, 363.2825637606509, 359.62920861737666, 346.5854398744806, 343.82581364782413, 340.5210888896645, 332.5217272199884, 330.72217421569775, 329.8055680767712, 328.00699750506243, 327.0750340786376, 327.027550275927, 326.6489652965587, 326.0467067378678, 326.0467067378678, 326.0467067378678, 326.0467067378678, 326.0467067378678, 326.0467067378678, 326.0467067378678, 326.0467067378678, 325.6076535931808, 324.47239404923084, 324.47239404923084, 324.47239404923084, 756.0610043113667, 341.1101005924022, 561.3728541002323, 391.0943439000069, 501.61448082490637, 352.9079499450563, 2017.417526378434, 1021.4102674417605, 1019.9656999617428, 1011.5455159490222, 196.245375768067, 170.73890936302078, 153.82975595061632, 138.89327729654028, 137.25751382779825, 124.43303152267593, 122.21984187249276, 122.12714781644601, 105.72768592166913, 90.21917056404102, 89.65870077721776, 87.97034143213243, 83.68939197501793, 81.69013143374386, 81.66270127362621, 81.66270127362621, 78.52235305174382, 78.14836960402268, 77.84315748992745, 75.26299299520423, 73.21627619905438, 73.17173021996601, 72.2326636412617, 72.06200536773324, 71.96998193732581, 71.69551521492343, 71.69551521492343, 291.49750135440127, 152.74571064808885, 265.3774479371622, 133.8860709915946, 102.42591081319412, 3371.919254924869, 3263.6623275638726, 3260.354792287763, 263.7458820651558, 1273.0034949160672, 1269.8778167110045, 1264.3122545119786, 204.45109874883204, 157.23659075328084, 120.7568356747375, 120.55487083198548, 115.59413274302624, 106.19831822460272, 94.13253000943246, 76.88583066810116, 74.46061653678845, 73.10265294659767, 71.44898199586599, 71.14169837372759, 68.59333982256419, 68.52954041003332, 67.54484904155875, 67.24539029860921, 67.22166021206421, 64.05205326707608, 63.979861817172434, 63.89475251935809, 63.8947525193581, 63.89475251935809, 63.86477299236424, 63.78651714391935, 63.77959901244765, 63.441400940215416, 63.064109069772414, 63.064109069772414, 63.064109069772414, 63.064109069772414, 63.064109069772414, 63.064109069772414, 63.064109069772414, 63.064109069772414, 382.1224974484815, 332.5539117878847, 212.60763057989152, 1162.7482394351161, 263.7458820651558, 1251.6490904675709, 215.89462964976704, 952.2910659849929, 77.28907793116326, 619.8181621972268, 584.8105302121467, 560.845054167219, 433.0272126608235, 281.4794040720818, 278.4862393410744, 277.9232710348421, 159.22782534502957, 146.33089823346089, 144.9412849984867, 144.74233914134626, 144.6627231659215, 110.06531749556005, 79.46851098111821, 78.58545625073859, 71.64356221988304, 66.84229839709565, 41.461086198276895, 33.317893686519675, 30.29751226103396, 30.29751226103396, 26.965376132929727, 25.659954076023432, 23.75419613950717, 20.953482257894166, 301.6778226396301, 20.359141231394325, 20.119428296090483, 18.270562283593613, 12.254311831991954, 823.2896711138948, 1174.1093866969595, 1185.0963264029006, 1162.7482394351161, 538.1157440609187, 1251.6490904675709, 1024.5983246325723, 487.209749525351, 546.8896800263907, 679.3708570612048, 800.2942335005303, 788.9233232738472, 789.9502519793566, 3371.919254924869, 1000.0910998452525, 952.2910659849929, 3260.354792287763, 3263.6623275638726, 233.31721767457756, 196.3065194964074, 187.71703644298356, 175.90446206238852, 146.9793456861283, 135.05742426639807, 121.69303846242988, 116.60754511627671, 115.74837774198004, 113.92430893824921, 113.89903316342325, 109.11310469937658, 107.14377222942606, 93.6220932663307, 86.62000865880715, 85.52741119549717, 83.36480605688385, 81.24038599863609, 80.50139050400206, 79.56970618582888, 79.56970618582888, 79.26026263619897, 77.04707205327229, 76.28794990874009, 68.6283590630261, 66.38648176997826, 65.98597565871297, 65.89195669978761, 65.88827566861897, 65.34699086714927, 485.47535758380144, 127.46707328146232, 112.24353634195636, 215.89462964976704, 1185.0963264029006, 1174.1093866969595, 263.7458820651558, 3371.919254924869, 1024.5983246325723, 3263.6623275638726, 3260.354792287763, 230.37514181310362, 118.15705033887534, 116.72053427564886, 115.73213637990592, 106.21942744806302, 97.21458058847682, 95.91358822574895, 95.81676885373118, 91.9358482910479, 87.46401737444471, 87.05918057892657, 86.02003049673414, 81.58425722502864, 74.86798947447208, 74.51871993702517, 74.51871993702517, 74.51871993702517, 74.36909960518449, 72.43264134039067, 71.4753358440649, 70.92589600103328, 70.63592508275897, 69.39876960042845, 69.1875813084536, 67.77506668877406, 65.08862351284333, 64.37858853954562, 64.13487569245052, 64.0810388828595, 63.80368937098133, 132.74038417182632, 103.93372911621192, 192.5017450723664, 189.7625709296292, 95.51019719644323, 220.0603170377118, 104.04083186624956, 145.4283122802336, 404.5746982801117, 798.7795812957264, 196.7755479334989, 106.1746792093702, 1251.6490904675709, 3371.919254924869, 1024.5983246325723, 756.0610043113667, 1000.0910998452525, 1309.7160544552537, 252.4370464290228, 203.78927408138014, 175.5248697920977, 162.59262761949003, 155.97219133904204, 141.6004232832691, 136.38974534307678, 123.54987451081168, 116.282204520526, 114.44707846562152, 111.73454196954884, 111.38539883267264, 106.53816512818752, 106.33906218315833, 105.05714891668826, 104.5034810229677, 104.48308126837435, 104.06876752058223, 104.01914320222077, 104.01914320222077, 97.27066005698072, 92.92274339213301, 91.32942150111863, 89.60251223946142, 89.33659759286124, 85.85593574539523, 84.33676510615692, 82.53903766765205, 82.5221684302478, 448.5983205754883, 270.16636300792305, 394.002413064297, 121.11164313459814, 110.87005040375263, 467.91475582092454, 220.20650374554796, 507.53304301948924, 109.84923984526176, 99.26071758160921, 98.83535405192178, 73.80740963285092, 69.9461264429149, 62.27237541222233, 58.90174793849894, 51.17497451533828, 50.67215161843973, 47.350953342360995, 47.01246272560956, 44.48308791092023, 43.67755654700386, 42.3767981759173, 41.859244859125724, 41.53345915252554, 36.89114570886379, 36.19955369790616, 33.66859941238902, 33.56167090104537, 32.758545643960595, 30.05742490004228, 29.48229130382969, 29.379894661066988, 29.379894661066988, 29.047168490342578, 28.884723758244704, 27.07955306440398, 26.06785327037595, 24.372191047177598, 3260.354792287763, 3263.6623275638726, 3371.919254924869, 157.44363409754513, 369.7085465709261, 507.53304301948924, 215.89462964976704, 501.61448082490637, 193.7954088785151, 185.3706154991304, 184.54168626207345, 170.97339187340108, 167.39743291429804, 157.60308602465014, 153.8187393765999, 144.78904223555242, 130.30894127795156, 130.23885417162444, 127.80727150091369, 125.88666119243479, 125.36867489895043, 123.5481406839814, 121.27475278102014, 121.20940032879082, 120.66136449259027, 120.66136449259027, 120.66136449259027, 120.08037401246033, 119.9271424689258, 119.35182649245985, 119.31297070484369, 118.47323061480148, 118.08135584689497, 117.09717899636388, 117.09717899636388, 117.09140300633369, 117.09140300633369, 110.90156003008501, 207.51208937507658, 316.40928587022097, 227.92907523889517, 798.7795812957264, 195.76784349163495], \"Category\": [\"Default\", \"Default\", \"Default\", \"Default\", \"Default\", \"Default\", \"Default\", \"Default\", \"Default\", \"Default\", \"Default\", \"Default\", \"Default\", \"Default\", \"Default\", \"Default\", \"Default\", \"Default\", \"Default\", \"Default\", \"Default\", \"Default\", \"Default\", \"Default\", \"Default\", \"Default\", \"Default\", \"Default\", \"Default\", \"Default\", \"Topic1\", \"Topic1\", \"Topic1\", \"Topic1\", \"Topic1\", \"Topic1\", \"Topic1\", \"Topic1\", \"Topic1\", \"Topic1\", \"Topic1\", \"Topic1\", \"Topic1\", \"Topic1\", \"Topic1\", \"Topic1\", \"Topic1\", \"Topic1\", \"Topic1\", \"Topic1\", \"Topic1\", \"Topic1\", \"Topic1\", \"Topic1\", \"Topic1\", \"Topic1\", \"Topic1\", \"Topic1\", \"Topic1\", \"Topic1\", \"Topic1\", \"Topic1\", \"Topic1\", \"Topic2\", \"Topic2\", \"Topic2\", \"Topic2\", \"Topic2\", \"Topic2\", \"Topic2\", \"Topic2\", \"Topic2\", \"Topic2\", \"Topic2\", \"Topic2\", \"Topic2\", \"Topic2\", \"Topic2\", \"Topic2\", \"Topic2\", \"Topic2\", \"Topic2\", \"Topic2\", \"Topic2\", \"Topic2\", \"Topic2\", \"Topic2\", \"Topic2\", \"Topic2\", \"Topic2\", \"Topic2\", \"Topic2\", \"Topic2\", \"Topic2\", \"Topic2\", \"Topic2\", \"Topic2\", \"Topic2\", \"Topic2\", \"Topic2\", \"Topic2\", \"Topic2\", \"Topic2\", \"Topic2\", \"Topic2\", \"Topic2\", \"Topic2\", \"Topic2\", \"Topic2\", \"Topic2\", \"Topic2\", \"Topic3\", \"Topic3\", \"Topic3\", \"Topic3\", \"Topic3\", \"Topic3\", \"Topic3\", \"Topic3\", \"Topic3\", \"Topic3\", \"Topic3\", \"Topic3\", \"Topic3\", \"Topic3\", \"Topic3\", \"Topic3\", \"Topic3\", \"Topic3\", \"Topic3\", \"Topic3\", \"Topic3\", \"Topic3\", \"Topic3\", \"Topic3\", \"Topic3\", \"Topic3\", \"Topic3\", \"Topic3\", \"Topic3\", \"Topic3\", \"Topic3\", \"Topic3\", \"Topic3\", \"Topic3\", \"Topic3\", \"Topic3\", \"Topic3\", \"Topic3\", \"Topic3\", \"Topic3\", \"Topic3\", \"Topic3\", \"Topic3\", \"Topic3\", \"Topic4\", \"Topic4\", \"Topic4\", \"Topic4\", \"Topic4\", \"Topic4\", \"Topic4\", \"Topic4\", \"Topic4\", \"Topic4\", \"Topic4\", \"Topic4\", \"Topic4\", \"Topic4\", \"Topic4\", \"Topic4\", \"Topic4\", \"Topic4\", \"Topic4\", \"Topic4\", \"Topic4\", \"Topic4\", \"Topic4\", \"Topic4\", \"Topic4\", \"Topic4\", \"Topic4\", \"Topic4\", \"Topic4\", \"Topic4\", \"Topic4\", \"Topic4\", \"Topic4\", \"Topic4\", \"Topic4\", \"Topic4\", \"Topic5\", \"Topic5\", \"Topic5\", \"Topic5\", \"Topic5\", \"Topic5\", \"Topic5\", \"Topic5\", \"Topic5\", \"Topic5\", \"Topic5\", \"Topic5\", \"Topic5\", \"Topic5\", \"Topic5\", \"Topic5\", \"Topic5\", \"Topic5\", \"Topic5\", \"Topic5\", \"Topic5\", \"Topic5\", \"Topic5\", \"Topic5\", \"Topic5\", \"Topic5\", \"Topic5\", \"Topic5\", \"Topic5\", \"Topic5\", \"Topic5\", \"Topic5\", \"Topic5\", \"Topic5\", \"Topic5\", \"Topic5\", \"Topic5\", \"Topic5\", \"Topic5\", \"Topic5\", \"Topic6\", \"Topic6\", \"Topic6\", \"Topic6\", \"Topic6\", \"Topic6\", \"Topic6\", \"Topic6\", \"Topic6\", \"Topic6\", \"Topic6\", \"Topic6\", \"Topic6\", \"Topic6\", \"Topic6\", \"Topic6\", \"Topic6\", \"Topic6\", \"Topic6\", \"Topic6\", \"Topic6\", \"Topic6\", \"Topic6\", \"Topic6\", \"Topic6\", \"Topic6\", \"Topic6\", \"Topic6\", \"Topic6\", \"Topic6\", \"Topic6\", \"Topic6\", \"Topic6\", \"Topic6\", \"Topic6\", \"Topic6\", \"Topic6\", \"Topic6\", \"Topic6\", \"Topic6\", \"Topic6\", \"Topic6\", \"Topic6\", \"Topic6\", \"Topic6\", \"Topic6\", \"Topic7\", \"Topic7\", \"Topic7\", \"Topic7\", \"Topic7\", \"Topic7\", \"Topic7\", \"Topic7\", \"Topic7\", \"Topic7\", \"Topic7\", \"Topic7\", \"Topic7\", \"Topic7\", \"Topic7\", \"Topic7\", \"Topic7\", \"Topic7\", \"Topic7\", \"Topic7\", \"Topic7\", \"Topic7\", \"Topic7\", \"Topic7\", \"Topic7\", \"Topic7\", \"Topic7\", \"Topic7\", \"Topic7\", \"Topic7\", \"Topic7\", \"Topic7\", \"Topic7\", \"Topic7\", \"Topic7\", \"Topic7\", \"Topic7\", \"Topic7\", \"Topic7\", \"Topic7\", \"Topic7\", \"Topic7\", \"Topic7\", \"Topic7\", \"Topic7\", \"Topic7\", \"Topic7\", \"Topic7\", \"Topic8\", \"Topic8\", \"Topic8\", \"Topic8\", \"Topic8\", \"Topic8\", \"Topic8\", \"Topic8\", \"Topic8\", \"Topic8\", \"Topic8\", \"Topic8\", \"Topic8\", \"Topic8\", \"Topic8\", \"Topic8\", \"Topic8\", \"Topic8\", \"Topic8\", \"Topic8\", \"Topic8\", \"Topic8\", \"Topic8\", \"Topic8\", \"Topic8\", \"Topic8\", \"Topic8\", \"Topic8\", \"Topic8\", \"Topic8\", \"Topic8\", \"Topic8\", \"Topic8\", \"Topic8\", \"Topic8\", \"Topic8\", \"Topic8\", \"Topic8\", \"Topic8\", \"Topic8\", \"Topic8\", \"Topic9\", \"Topic9\", \"Topic9\", \"Topic9\", \"Topic9\", \"Topic9\", \"Topic9\", \"Topic9\", \"Topic9\", \"Topic9\", \"Topic9\", \"Topic9\", \"Topic9\", \"Topic9\", \"Topic9\", \"Topic9\", \"Topic9\", \"Topic9\", \"Topic9\", \"Topic9\", \"Topic9\", \"Topic9\", \"Topic9\", \"Topic9\", \"Topic9\", \"Topic9\", \"Topic9\", \"Topic9\", \"Topic9\", \"Topic9\", \"Topic9\", \"Topic9\", \"Topic9\", \"Topic9\", \"Topic9\", \"Topic9\", \"Topic9\", \"Topic9\", \"Topic9\", \"Topic9\", \"Topic9\", \"Topic9\", \"Topic9\", \"Topic9\", \"Topic9\", \"Topic9\", \"Topic9\", \"Topic10\", \"Topic10\", \"Topic10\", \"Topic10\", \"Topic10\", \"Topic10\", \"Topic10\", \"Topic10\", \"Topic10\", \"Topic10\", \"Topic10\", \"Topic10\", \"Topic10\", \"Topic10\", \"Topic10\", \"Topic10\", \"Topic10\", \"Topic10\", \"Topic10\", \"Topic10\", \"Topic10\", \"Topic10\", \"Topic10\", \"Topic10\", \"Topic10\", \"Topic10\", \"Topic10\", \"Topic10\", \"Topic10\", \"Topic10\", \"Topic10\", \"Topic10\", \"Topic10\", \"Topic10\", \"Topic10\", \"Topic10\", \"Topic10\", \"Topic10\", \"Topic11\", \"Topic11\", \"Topic11\", \"Topic11\", \"Topic11\", \"Topic11\", \"Topic11\", \"Topic11\", \"Topic11\", \"Topic11\", \"Topic11\", \"Topic11\", \"Topic11\", \"Topic11\", \"Topic11\", \"Topic11\", \"Topic11\", \"Topic11\", \"Topic11\", \"Topic11\", \"Topic11\", \"Topic11\", \"Topic11\", \"Topic11\", \"Topic11\", \"Topic11\", \"Topic11\", \"Topic11\", \"Topic11\", \"Topic11\", \"Topic11\", \"Topic11\", \"Topic11\", \"Topic11\", \"Topic11\", \"Topic11\", \"Topic11\", \"Topic11\", \"Topic12\", \"Topic12\", \"Topic12\", \"Topic12\", \"Topic12\", \"Topic12\", \"Topic12\", \"Topic12\", \"Topic12\", \"Topic12\", \"Topic12\", \"Topic12\", \"Topic12\", \"Topic12\", \"Topic12\", \"Topic12\", \"Topic12\", \"Topic12\", \"Topic12\", \"Topic12\", \"Topic12\", \"Topic12\", \"Topic12\", \"Topic12\", \"Topic12\", \"Topic12\", \"Topic12\", \"Topic12\", \"Topic12\", \"Topic12\", \"Topic12\", \"Topic12\", \"Topic12\", \"Topic12\", \"Topic12\"], \"logprob\": [30.0, 29.0, 28.0, 27.0, 26.0, 25.0, 24.0, 23.0, 22.0, 21.0, 20.0, 19.0, 18.0, 17.0, 16.0, 15.0, 14.0, 13.0, 12.0, 11.0, 10.0, 9.0, 8.0, 7.0, 6.0, 5.0, 4.0, 3.0, 2.0, 1.0, -3.3942, -3.3956, -3.3978, -3.3987, -3.3989, -3.3989, -3.3989, -3.399, -3.399, -3.399, -3.3992, -3.3992, -3.3992, -3.3992, -3.3992, -3.3992, -3.3992, -3.3992, -3.3992, -3.3993, -3.3993, -3.3994, -5.336, -5.5179, -5.846, -5.8791, -5.8898, -3.425, -6.2035, -6.2406, -3.5394, -3.7034, -4.6525, -3.6348, -3.7578, -3.9219, -3.9537, -3.9793, -3.9854, -3.9874, -3.988, -3.9886, -3.9886, -4.3985, -4.4334, -4.4655, -4.4674, -4.4705, -4.4707, -4.4942, -4.4967, -4.507, -4.5106, -4.5169, -4.5266, -4.5375, -4.5416, -4.5416, -4.5416, -4.5416, -4.5416, -4.5416, -4.5416, -4.5416, -3.7142, -4.2546, -4.4915, -3.7748, -3.6418, -4.5038, -3.8592, -3.8622, -3.8684, -3.9929, -4.1767, -4.4356, -4.4356, -4.4356, -4.0797, -4.2139, -4.3079, -2.4271, -2.4795, -4.3087, -4.3375, -4.5243, -4.5987, -4.6111, -4.6163, -4.6227, -4.6227, -4.6227, -4.6999, -4.7295, -4.7817, -4.7859, -4.8281, -5.017, -5.069, -5.136, -5.1491, -5.1843, -5.1919, -5.2144, -5.2381, -5.3333, -5.3751, -5.3998, -5.4074, -5.4201, -5.4555, -4.5312, -4.7697, -3.9744, -3.9831, -4.8352, -4.6871, -4.4047, -4.2594, -4.3203, -4.3281, -4.8271, -4.762, -4.7729, -4.7955, -3.122, -3.6329, -3.6361, -3.6402, -3.7733, -3.7772, -3.7891, -3.7992, -3.8363, -3.8443, -3.854, -3.8778, -3.8832, -3.886, -3.8915, -3.8944, -3.8945, -3.8957, -3.8975, -3.8975, -3.8975, -3.8975, -3.8975, -3.8975, -3.8975, -3.8975, -3.8989, -3.9024, -3.9024, -3.9024, -3.1771, -3.8672, -3.5192, -3.8399, -3.8195, -3.8971, -1.8962, -2.5773, -2.5787, -2.587, -4.2311, -4.3711, -4.4761, -4.579, -4.5909, -4.6898, -4.7079, -4.7086, -4.8541, -5.0145, -5.0208, -5.04, -5.0905, -5.115, -5.1153, -5.1153, -5.155, -5.1599, -5.1638, -5.198, -5.226, -5.2266, -5.2397, -5.2421, -5.2434, -5.2473, -5.2473, -3.9927, -4.6971, -4.4051, -4.9153, -5.1391, -4.5665, -4.9662, -5.0198, -5.1582, -2.2715, -2.274, -2.2784, -4.1045, -4.3686, -4.6345, -4.6362, -4.6786, -4.7641, -4.886, -5.0908, -5.1233, -5.1419, -5.1651, -5.1695, -5.2065, -5.2075, -5.2222, -5.2267, -5.227, -5.2761, -5.2772, -5.2786, -5.2786, -5.2786, -5.2791, -5.2803, -5.2804, -5.2858, -5.2919, -5.2919, -5.2919, -5.2919, -5.2919, -5.2919, -5.2919, -5.2919, -4.149, -4.3385, -4.6629, -4.3545, -5.0371, -5.0467, -5.2285, -5.1785, -5.2749, -2.9161, -2.9744, -3.0163, -3.2754, -3.7074, -3.7181, -3.7202, -4.2798, -4.3648, -4.3744, -4.3758, -4.3763, -4.6518, -4.981, -4.9923, -5.086, -5.1564, -5.643, -5.8676, -5.9657, -5.9657, -6.0863, -6.1378, -6.2182, -6.3494, -3.6826, -6.3796, -6.392, -6.4936, -6.9211, -3.0046, -2.7814, -2.7798, -2.9657, -3.6665, -3.0229, -3.3085, -3.9865, -3.9523, -3.8106, -3.8158, -3.8266, -3.83, -3.4095, -4.0572, -4.1549, -4.2803, -4.2816, -3.8591, -4.0326, -4.0776, -4.1429, -4.3237, -4.4089, -4.5139, -4.557, -4.5644, -4.5805, -4.5807, -4.624, -4.6424, -4.7786, -4.8572, -4.8701, -4.896, -4.9221, -4.9314, -4.9432, -4.9432, -4.9471, -4.9758, -4.9858, -5.0931, -5.1268, -5.133, -5.1344, -5.1345, -5.1429, -3.6672, -4.7644, -4.8536, -4.557, -4.0917, -4.1258, -4.6477, -4.0483, -4.5863, -4.6555, -4.6712, -3.831, -4.5028, -4.5152, -4.5238, -4.6103, -4.6998, -4.7134, -4.7144, -4.7562, -4.8066, -4.8113, -4.8235, -4.877, -4.9641, -4.9688, -4.9688, -4.9688, -4.9708, -4.9976, -5.0111, -5.0189, -5.0231, -5.041, -5.0441, -5.065, -5.1061, -5.1172, -5.1211, -5.1219, -5.1263, -4.4608, -4.7128, -4.2238, -4.3084, -4.8215, -4.3244, -4.8007, -4.6084, -4.0932, -3.9225, -4.6948, -4.9082, -4.3564, -4.6434, -4.7587, -4.9096, -4.9155, -2.0716, -3.7213, -3.9363, -4.0864, -4.1634, -4.2052, -4.3026, -4.3403, -4.44, -4.5011, -4.5172, -4.5414, -4.5445, -4.5894, -4.5913, -4.6036, -4.6089, -4.6091, -4.6131, -4.6136, -4.6136, -4.6813, -4.7276, -4.745, -4.7644, -4.7674, -4.8076, -4.8256, -4.8474, -4.8476, -3.2244, -3.7506, -3.5479, -4.5304, -4.6286, -4.2273, -4.7124, -4.7261, -4.3777, -4.48, -4.4844, -4.7798, -4.8343, -4.9524, -5.0089, -5.1522, -5.1623, -5.2315, -5.2388, -5.2953, -5.3141, -5.345, -5.3576, -5.3656, -5.4873, -5.5067, -5.5814, -5.5846, -5.6096, -5.6985, -5.7185, -5.7221, -5.7221, -5.7339, -5.7397, -5.8067, -5.8462, -5.9163, -1.4928, -1.4961, -1.7438, -4.4278, -5.1739, -5.18, -5.5606, -5.5404, -3.688, -3.7326, -3.7371, -3.8139, -3.8352, -3.8959, -3.9203, -3.9812, -4.0873, -4.0879, -4.1069, -4.1221, -4.1263, -4.141, -4.1598, -4.1603, -4.1649, -4.1649, -4.1649, -4.1697, -4.171, -4.1759, -4.1762, -4.1833, -4.1867, -4.1951, -4.1951, -4.1952, -4.1952, -4.2499, -3.8034, -3.6945, -4.025, -3.984, -4.1714], \"loglift\": [30.0, 29.0, 28.0, 27.0, 26.0, 25.0, 24.0, 23.0, 22.0, 21.0, 20.0, 19.0, 18.0, 17.0, 16.0, 15.0, 14.0, 13.0, 12.0, 11.0, 10.0, 9.0, 8.0, 7.0, 6.0, 5.0, 4.0, 3.0, 2.0, 1.0, 2.1121, 2.1121, 2.1121, 2.1121, 2.1121, 2.1121, 2.1121, 2.1121, 2.1121, 2.1121, 2.1121, 2.1121, 2.1121, 2.1121, 2.1121, 2.1121, 2.1121, 2.1121, 2.1121, 2.1121, 2.1121, 2.1121, 2.1021, 2.0998, 2.0943, 2.0937, 2.0935, 2.0893, 2.0861, 2.0851, 1.6606, 1.3318, -0.8326, 2.1772, 2.1769, 2.1765, 2.1764, 2.1763, 2.1763, 2.1763, 2.1763, 2.1763, 2.1763, 2.1748, 2.1746, 2.1745, 2.1744, 2.1744, 2.1744, 2.1743, 2.1743, 2.1743, 2.1742, 2.1742, 2.1742, 2.1741, 2.1741, 2.1741, 2.1741, 2.1741, 2.1741, 2.1741, 2.1741, 2.1741, 2.119, 2.1099, 2.1475, 1.6472, 1.4664, 2.1432, 1.4133, 1.4089, 1.3897, 1.0913, 1.4621, 1.9953, 1.9953, 1.9949, 0.7311, 0.9861, 0.5766, 2.2483, 2.2483, 2.2444, 2.2443, 2.2433, 2.2429, 2.2428, 2.2427, 2.2427, 2.2427, 2.2427, 2.2422, 2.242, 2.2416, 2.2416, 2.2413, 2.2397, 2.2392, 2.2385, 2.2384, 2.238, 2.2379, 2.2377, 2.2374, 2.2362, 2.2357, 2.2354, 2.2353, 2.2351, 2.2346, 2.1881, 2.1695, 2.0625, 2.0473, 2.139, 2.104, 1.9199, -0.4395, -0.4678, -0.4746, 0.9309, 0.498, 0.0926, 0.0793, 2.2601, 2.2592, 2.2592, 2.2592, 2.2589, 2.2588, 2.2588, 2.2588, 2.2587, 2.2587, 2.2586, 2.2586, 2.2586, 2.2585, 2.2585, 2.2585, 2.2585, 2.2585, 2.2585, 2.2585, 2.2585, 2.2585, 2.2585, 2.2585, 2.2585, 2.2585, 2.2585, 2.2585, 2.2585, 2.2585, 2.1379, 2.2437, 2.0935, 2.1342, 1.9057, 2.1797, 2.4373, 2.4368, 2.4368, 2.4368, 2.4326, 2.4318, 2.4311, 2.4304, 2.4303, 2.4295, 2.4294, 2.4294, 2.4281, 2.4264, 2.4263, 2.4261, 2.4255, 2.4252, 2.4252, 2.4252, 2.4247, 2.4246, 2.4245, 2.4241, 2.4237, 2.4237, 2.4235, 2.4235, 2.4234, 2.4234, 2.4234, 2.2753, 2.2172, 1.9568, 2.1307, 2.1748, -0.7466, -1.1138, -1.1663, 1.2099, 2.5224, 2.5224, 2.5224, 2.5182, 2.5167, 2.5148, 2.5148, 2.5144, 2.5136, 2.5124, 2.51, 2.5095, 2.5093, 2.5089, 2.5089, 2.5083, 2.5083, 2.5081, 2.508, 2.508, 2.5073, 2.5073, 2.5072, 2.5072, 2.5072, 2.5072, 2.5072, 2.5072, 2.5071, 2.507, 2.507, 2.507, 2.507, 2.507, 2.507, 2.507, 2.507, 1.8484, 1.7977, 1.9208, 0.53, 1.331, -0.2359, 1.3398, -0.0943, 2.3206, 2.5975, 2.5974, 2.5974, 2.5968, 2.5956, 2.5956, 2.5956, 2.5929, 2.5924, 2.5923, 2.5923, 2.5923, 2.5902, 2.5867, 2.5866, 2.5854, 2.5844, 2.5753, 2.5693, 2.5664, 2.5664, 2.5622, 2.5603, 2.5571, 2.5514, 2.5512, 2.55, 2.5494, 2.5442, 2.5161, 2.2252, 2.0934, 2.0857, 1.9188, 1.9885, 1.7879, 1.7025, 1.7679, 1.6865, 1.6113, 1.4423, 1.4458, 1.4411, 0.4103, 0.9781, 0.9293, -0.4268, -0.4291, 2.6316, 2.6308, 2.6305, 2.6302, 2.6291, 2.6285, 2.6276, 2.6273, 2.6272, 2.6271, 2.6271, 2.6267, 2.6265, 2.6252, 2.6243, 2.6242, 2.6238, 2.6235, 2.6234, 2.6233, 2.6233, 2.6232, 2.6229, 2.6227, 2.6212, 2.6207, 2.6207, 2.6206, 2.6206, 2.6205, 2.0907, 2.3309, 2.3688, 2.0113, 0.7738, 0.749, 1.7204, -0.2284, 0.4247, -0.8031, -0.8177, 2.6724, 2.6682, 2.6681, 2.668, 2.6673, 2.6664, 2.6662, 2.6662, 2.6658, 2.6652, 2.6652, 2.665, 2.6644, 2.6633, 2.6632, 2.6632, 2.6632, 2.6632, 2.6628, 2.6626, 2.6625, 2.6625, 2.6622, 2.6622, 2.6619, 2.6612, 2.6611, 2.661, 2.661, 2.6609, 2.5939, 2.5866, 2.4592, 2.3889, 2.5623, 2.2248, 2.4976, 2.355, 1.847, 1.3375, 1.9663, 2.3698, 0.4545, -0.8236, 0.2523, 0.4053, 0.1198, 2.6939, 2.6907, 2.6897, 2.6889, 2.6884, 2.6882, 2.6875, 2.6872, 2.6865, 2.6859, 2.6858, 2.6856, 2.6856, 2.6851, 2.6851, 2.685, 2.685, 2.685, 2.6849, 2.6849, 2.6849, 2.6842, 2.6837, 2.6836, 2.6833, 2.6833, 2.6828, 2.6826, 2.6824, 2.6824, 2.6125, 2.5934, 2.4188, 2.616, 2.6061, 1.5674, 1.8361, 0.9875, 2.8663, 2.8653, 2.8653, 2.8618, 2.861, 2.8592, 2.8583, 2.8556, 2.8554, 2.854, 2.8539, 2.8526, 2.8522, 2.8515, 2.8512, 2.851, 2.8478, 2.8473, 2.8452, 2.8451, 2.8443, 2.8414, 2.8408, 2.8406, 2.8406, 2.8402, 2.84, 2.8376, 2.8361, 2.8333, 2.3607, 2.3563, 2.076, 2.4562, 0.8564, 0.5335, 1.0077, 0.1848, 2.9883, 2.9881, 2.9881, 2.9876, 2.9875, 2.9871, 2.987, 2.9866, 2.9858, 2.9858, 2.9857, 2.9856, 2.9855, 2.9854, 2.9853, 2.9853, 2.9852, 2.9852, 2.9852, 2.9852, 2.9852, 2.9851, 2.9851, 2.9851, 2.985, 2.985, 2.985, 2.985, 2.985, 2.9845, 2.8045, 2.4915, 2.489, 1.276, 2.4948]}, \"token.table\": {\"Topic\": [3, 2, 3, 7, 9, 10, 2, 3, 7, 9, 10, 10, 10, 2, 3, 2, 6, 7, 3, 11, 5, 3, 5, 7, 1, 2, 3, 4, 5, 6, 7, 8, 9, 10, 11, 12, 1, 2, 3, 4, 5, 6, 7, 8, 9, 10, 11, 12, 2, 3, 7, 8, 1, 7, 7, 9, 1, 2, 3, 4, 5, 6, 7, 8, 9, 10, 11, 12, 7, 2, 11, 5, 6, 3, 11, 10, 3, 3, 6, 12, 11, 12, 6, 9, 9, 2, 3, 7, 8, 7, 9, 12, 2, 1, 8, 10, 1, 6, 8, 3, 4, 11, 11, 4, 6, 6, 12, 12, 6, 1, 8, 3, 8, 12, 12, 5, 9, 8, 1, 2, 3, 5, 6, 7, 8, 9, 12, 3, 5, 1, 8, 9, 6, 12, 2, 5, 8, 9, 5, 11, 4, 4, 9, 8, 2, 2, 6, 11, 6, 6, 9, 10, 10, 10, 10, 10, 11, 6, 1, 9, 3, 4, 3, 6, 6, 6, 8, 11, 4, 4, 5, 5, 6, 9, 10, 1, 2, 3, 2, 5, 5, 8, 7, 8, 11, 6, 5, 2, 11, 9, 2, 2, 10, 10, 1, 3, 6, 3, 9, 11, 7, 12, 12, 6, 9, 6, 11, 9, 4, 4, 4, 4, 5, 1, 2, 3, 7, 9, 10, 10, 1, 3, 9, 2, 3, 7, 4, 10, 4, 11, 5, 10, 11, 6, 3, 6, 4, 4, 11, 9, 2, 4, 4, 8, 8, 3, 10, 7, 2, 6, 10, 2, 11, 11, 2, 6, 2, 9, 3, 5, 5, 8, 5, 6, 10, 10, 3, 8, 6, 11, 6, 6, 4, 3, 7, 12, 7, 12, 9, 9, 8, 8, 8, 9, 1, 2, 3, 6, 7, 8, 9, 12, 2, 7, 1, 2, 9, 12, 3, 7, 12, 2, 7, 10, 5, 1, 1, 1, 2, 8, 2, 1, 6, 3, 6, 1, 1, 8, 10, 10, 11, 3, 5, 9, 9, 3, 1, 4, 5, 8, 11, 11, 4, 11, 11, 7, 5, 12, 12, 3, 10, 7, 3, 11, 7, 6, 8, 3, 1, 9, 3, 8, 8, 11, 4, 4, 8, 8, 7, 1, 9, 1, 1, 5, 4, 4, 1, 8, 9, 9, 4, 8, 10, 11, 11, 10, 11, 4, 10, 3, 1, 6, 3, 8, 9, 7, 6, 7, 10, 9, 9, 12, 12, 10, 5, 6, 8, 8, 5, 10, 7, 8, 7, 12, 12, 6, 8, 9, 10, 6, 5, 5, 6, 1, 6, 4, 4, 1, 2, 3, 4, 6, 7, 8, 9, 4, 7, 2, 9, 3, 3, 3, 1, 2, 2, 2, 3, 7, 12, 7, 12, 9, 9, 10, 7, 10, 10, 2, 3, 6, 6, 5, 1, 3, 3, 5, 5, 5, 1, 6, 10, 10, 4, 8, 9, 4, 12, 5, 11, 1, 2, 3, 1, 2, 3, 3, 8, 12, 8, 9, 12, 12, 9, 10, 10, 2, 3, 6, 10, 10, 2, 11, 1, 1, 5, 6, 8, 1, 2, 3, 6, 7, 8, 9, 7, 1, 2, 6, 7, 9, 2, 8, 4, 4, 1, 3, 1, 1, 9, 9, 3, 12, 12, 3, 5, 6, 6, 1, 3, 9, 12, 3, 9, 12, 5, 5, 10, 1, 3, 1, 2, 3, 5, 12, 5, 6, 8, 11, 1, 5, 12, 7, 8, 2, 3, 4, 5, 6, 8, 9, 10, 9, 10, 8, 2, 2, 7, 4, 2, 2, 11, 2, 3, 6, 10, 5, 12, 12, 1, 3, 11, 1, 3, 6, 2, 3, 9, 2, 3, 6, 9, 12, 7, 3, 6, 9, 2, 3, 1, 3, 9, 9, 7, 1, 2, 3, 4, 6, 7, 9, 10, 2, 3, 6, 7, 4, 6, 7, 2, 6, 8, 4, 4, 9, 3, 8, 6, 2, 2, 12, 2, 10, 2, 11, 8, 3, 9, 8, 12, 12, 2, 2, 1, 2, 3, 6, 7, 9, 10, 12, 1, 2, 3, 7, 9, 1, 1, 1, 6, 5, 2, 3, 6, 10, 10, 2, 2], \"Freq\": [0.9865214788061284, 0.4633203155299006, 0.08987907760279493, 0.3139438203590583, 0.06709283257673425, 0.06456102757383861, 0.4651909623828027, 0.08999607174163214, 0.31562002624882257, 0.06718016622966906, 0.062109965004788374, 0.9961270087204641, 0.9963551384329864, 0.9416573906483109, 0.0555222518070938, 0.9963880810597019, 0.9937325645334392, 0.9571742970229702, 0.33662840866061017, 0.6605538585038389, 0.9900192812083215, 0.9913231347091324, 0.9926532419998536, 0.9954188394119928, 0.052492360171876, 0.051899226158634466, 0.06791384451615595, 0.07325205063532979, 0.04151938092690757, 0.01809058740386687, 0.11210232850265044, 0.056940865271187524, 0.030249834675318374, 0.02520819556276531, 0.44959558203708483, 0.021056257470074554, 0.0021470056009113537, 0.04539383270498291, 0.06563702837071853, 0.09906897272776675, 0.02729764264015864, 0.013188748691312601, 0.0484609835634277, 0.03159165384198135, 0.021163340923269058, 0.024537206867558326, 0.5974809872250453, 0.02361706161002489, 0.13031153803345724, 0.11412905945413902, 0.6030102544293315, 0.15160427300624438, 0.9975629010430619, 0.9909048721115787, 0.9571742970229702, 0.9902075218063001, 0.0021448297334194736, 0.0453478286494403, 0.06618331748837233, 0.09896857198492715, 0.02880199927734722, 0.013481786895779549, 0.04841187112575383, 0.032172446001292106, 0.021141893086563383, 0.024818744058139625, 0.5950370489000882, 0.023899531315245564, 0.96824998265242, 0.9983066459620046, 0.9648198438968472, 0.9865224096044583, 0.9814799156778042, 0.9897351006707312, 0.9770400566592151, 0.9897301798988746, 0.9922949357471952, 0.9878091067034156, 0.9876695392829686, 0.9894887208442973, 0.9890605884034229, 0.997064694308124, 0.07533502379393041, 0.919087290285951, 0.9885641324067861, 0.1299472427422277, 0.11560241724470903, 0.5982636045729832, 0.1552616406790253, 0.9922888770077152, 0.9815904775981845, 0.9918706280611342, 0.9951584667087466, 0.984250401186611, 0.9791149985205985, 0.985038633338684, 0.9863216660978517, 0.9919335219592612, 0.99335527283543, 0.06136626717909325, 0.8795831629003366, 0.05625241158083548, 0.9436984945456308, 0.9968579091423336, 0.9884786226486244, 0.9859964631823714, 0.9945504008910512, 0.9922691189847533, 0.9913498916352662, 0.9837556641934683, 0.9865184562867224, 0.2717998612571501, 0.12325807661661457, 0.6068089925741025, 0.9906301842130804, 0.9917624927275883, 0.9936738713825986, 0.9935344429306104, 0.048824482890182076, 0.15148108794133414, 0.17401546465987972, 0.053832122160969983, 0.020030557083151622, 0.026290106171636504, 0.08387795778569741, 0.26164915189866805, 0.17902310393066762, 0.9901724354768271, 0.9902990415392307, 0.16770376373772053, 0.33540752747544106, 0.4929474267442088, 0.9803840391777201, 0.9910029093318096, 0.25394725342365543, 0.7319656128093598, 0.9847319041707051, 0.9832747498089506, 0.9852626170710375, 0.9714693528429467, 0.9983684884872059, 0.9964695146737186, 0.9802210534659629, 0.9897986158267299, 0.9980024600295754, 0.9963131227505757, 0.9831265503395107, 0.9530326886128844, 0.9921354771980451, 0.9877766711531771, 0.07579163461063074, 0.9206454439467793, 0.9936723859760281, 0.9932757215796448, 0.9854436666819099, 0.9934260081385662, 0.986735285616032, 0.9989620803663846, 0.9982015190973823, 0.9884064006451243, 0.014658023879435274, 0.9820875999221633, 0.44683250427506116, 0.5456060052200746, 0.9859964631823714, 0.3057046861567046, 0.5372991453663293, 0.1528523430783523, 0.9967131882087364, 0.9967897030816836, 0.9935686066746549, 0.6179877049644136, 0.19217910337307983, 0.13188761996191753, 0.05275504798476701, 0.060555107590440506, 0.8316234775753829, 0.10496218649009688, 0.9929918949956283, 0.9884835119329647, 0.9833878986723161, 0.9893248836994752, 0.9742807771959308, 0.9933368482383934, 0.9675105662725663, 0.9835750266632459, 0.9853052647183626, 0.9940596251081484, 0.9864734976612741, 0.9930390653856704, 0.9962177038951507, 0.9929918949956283, 0.9955493721625467, 0.9875621145393227, 0.06806153056181292, 0.8303506728541177, 0.09800860400901061, 0.9913231347091324, 0.9898206378856133, 0.9846906421276244, 0.9443608297603563, 0.9958956257884637, 0.994306763978094, 0.9864593115759195, 0.983261489485704, 0.9953973586620254, 0.9784639504737532, 0.9930390653856704, 0.9984309981054463, 0.9967897030816836, 0.9971863667692236, 0.9967897030816836, 0.9990532034932361, 0.9981898781131332, 0.453583175793006, 0.09246599175945577, 0.31488418815382235, 0.0724733448925464, 0.06622564274663724, 0.9841496753583767, 0.17895038762050905, 0.07534753162968802, 0.7346384333894582, 0.5873080893195481, 0.0397426526607213, 0.37240337493194403, 0.8461399523162362, 0.1531958650509396, 0.9975981627468203, 0.9832645131792925, 0.8052599282698023, 0.18985803186848998, 0.9693705307466487, 0.9879687711642408, 0.9866679761266752, 0.9831265503395107, 0.9987392140537132, 0.996599547214211, 0.9666595108259977, 0.987403716322604, 0.07650720252746811, 0.9209200304232272, 0.9967897030816836, 0.9961802271303098, 0.9938334250022882, 0.9962586318476537, 0.9937668931192436, 0.9815208443824104, 0.4893718670024439, 0.5103075618474683, 0.9957597352511584, 0.9950968135539144, 0.9601340146997089, 0.9794729966577885, 0.9622069761926175, 0.030068968006019298, 0.9929918949956283, 0.9869455861224539, 0.9888342961766531, 0.9915518383722568, 0.991884896491414, 0.9918866399378361, 0.991884896491414, 0.0721565469742875, 0.9109764055503797, 0.9869368619865808, 0.9868377630658401, 0.9928422004522149, 0.9831265503395107, 0.9844873065123342, 0.9797200470127087, 0.9772798059492139, 0.9980132638841531, 0.990089401575041, 0.9304585012835354, 0.9916520051116108, 0.991017166093614, 0.9900222233134541, 0.9885197324316283, 0.9930390653856704, 0.992840162253479, 0.992840162253479, 0.9947898301463178, 0.9823048586249289, 0.007190513753849272, 0.23489011595907622, 0.023968379179497575, 0.0631167318393436, 0.444213960793355, 0.04314308252309563, 0.108656652280389, 0.0751009214290924, 0.996346627702464, 0.9986140293816997, 0.13178205135017715, 0.036353669337979906, 0.6361892134146483, 0.1908567640243945, 0.9833170641224479, 0.9982539914998139, 0.9908422812463548, 0.9332265331036872, 0.0377824507329428, 0.026447715513059963, 0.9992973559712358, 0.9979703521375721, 0.9979703521375721, 0.6354749040706258, 0.3030000934065878, 0.06012842320519836, 0.9963880810597019, 0.9976091879211291, 0.9831265503395107, 0.9900577233603667, 0.9831265503395107, 0.9976235166425375, 0.9979703521375721, 0.9933444925835421, 0.9858055366441106, 0.9900697788458629, 0.9668627489742907, 0.7187814142673167, 0.07260418325932491, 0.20329171312610975, 0.9798444610980565, 0.9929161480979226, 0.033890568653527416, 0.6997405645522425, 0.04385838296338842, 0.15350434037185948, 0.06778113730705483, 0.9871559180619537, 0.9984697309310163, 0.9768443430851625, 0.9590356267813783, 0.9641994189819283, 0.9839865721851376, 0.9899550923742096, 0.9906790509097012, 0.9812983189896116, 0.9889733383898852, 0.9604448678863247, 0.9938378477682999, 0.9795675786606881, 0.9873987218079825, 0.9948601825289262, 0.9850577997995733, 0.9854134157889879, 0.15378577538258167, 0.8362101536427878, 0.9912703021874035, 0.9943050278702357, 0.9921705580263968, 0.9758439134448006, 0.9982503962350675, 0.9967897030816836, 0.9943543914688081, 0.9793871018500652, 0.990321042815299, 0.9751101142664381, 0.022601890065778365, 0.9979703521375721, 0.9977958697633627, 0.9994607104273401, 0.9972034776343638, 0.9969299511512802, 0.10012511902068341, 0.14228306387149747, 0.7483035211019496, 0.9785862260913223, 0.6305008203923227, 0.0906344929313964, 0.1812689858627928, 0.09654543812257442, 0.9801417515412596, 0.9949486165118389, 0.9497226559308454, 0.9954621900776944, 0.9970097126822006, 0.9911433513174889, 0.9667098737325246, 0.9818263903597406, 0.22272997461373695, 0.7661911126712551, 0.988141942163426, 0.9986799964132602, 0.9887162222092034, 0.9976278334691449, 0.9934693003106904, 0.9878337864900264, 0.9928386033666138, 0.9929566708336207, 0.9906301842130804, 0.9873559160703591, 0.2919476861480549, 0.30332227132265444, 0.4019020095025171, 0.9937716541184821, 0.9956722848600975, 0.9898104850948948, 0.9546608281644589, 0.043092329049090154, 0.9982968413846753, 0.9955633433174566, 0.987564865015022, 0.48413202880227074, 0.19545703026178632, 0.22552734260975343, 0.09321796827869809, 0.9831265503395107, 0.9829348167557045, 0.9902990415392307, 0.999308739235025, 0.9979703521375721, 0.9831265503395107, 0.997816371952046, 0.9967897030816836, 0.02049583675391109, 0.11126311380694591, 0.004879961131883593, 0.21374229757650134, 0.042943657960575615, 0.40796475062546833, 0.10931112935419247, 0.08881529260028138, 0.9981337859031408, 0.998493248427636, 0.9941152375624616, 0.9904748822075276, 0.9952442621775138, 0.9950395123010712, 0.9991079543458373, 0.99803564476515, 0.9929918949956283, 0.9929918949956283, 0.3181381328083109, 0.04720759390058807, 0.4351308655184639, 0.19909289601552357, 0.9966779642762396, 0.9906790509097012, 0.9938268422080109, 0.9909971437053609, 0.9874076171477615, 0.9935057495971797, 0.9902023495786781, 0.9902023495786781, 0.06711993802544752, 0.9262551447511758, 0.9846848400521329, 0.9831265503395107, 0.9891685086125065, 0.9811495252758381, 0.9945644338692357, 0.9913231347091324, 0.99365398668278, 0.9946060113955931, 0.9986192938462497, 0.9977174796534861, 0.09253557593795211, 0.9031472211544126, 0.985613101035005, 0.8835265887154514, 0.011903801344968656, 0.10316627832306169, 0.9987004923675495, 0.99451883794476, 0.9832189374227424, 0.9922690421303048, 0.060540983763530405, 0.8314295103524842, 0.10493770519011937, 0.060555107590440506, 0.8316234775753829, 0.10496218649009688, 0.2677787821136931, 0.578814136722675, 0.15036808534076612, 0.9948582199008248, 0.987506189080645, 0.9890827999892827, 0.99451883794476, 0.06605475570263011, 0.9247665798368216, 0.9900305583071916, 0.0685274990830929, 0.1294408316013977, 0.040608888345536526, 0.7588786009572139, 0.9943073077056189, 0.9957905689194405, 0.9872989273871339, 0.997821928541299, 0.9977174796534861, 0.16819970360596512, 0.8151216405519848, 0.9831172562602507, 0.009460345435864943, 0.20124734836294517, 0.05676207261518966, 0.13588496171515102, 0.5065584965204047, 0.03784138174345977, 0.05160188419562697, 0.9925500686937465, 0.01214639312366229, 0.1664055857941734, 0.07287835874197374, 0.6874858507992856, 0.05951732630594522, 0.9954165174904966, 0.9836285103817962, 0.9975574454929043, 0.9954621900776944, 0.9920761823856304, 0.9922569459344233, 0.9990727754307441, 0.9979703521375721, 0.9940308585280471, 0.9914757211759248, 0.9864633841622171, 0.9904878296150247, 0.9936836809718771, 0.22455255528015503, 0.7712892116144455, 0.9849163757790955, 0.9992117107925667, 0.9979703521375721, 0.19742983624548543, 0.1930425065511413, 0.6054514978194886, 0.1787831922534077, 0.21453983070408925, 0.6078628536615862, 0.9907707022017734, 0.993117356959763, 0.9994532750417024, 0.9979703521375721, 0.9826762127598362, 0.08102504588667672, 0.04630002622095813, 0.8623379883653451, 0.9889696752753764, 0.9961733869566753, 0.8507791622490883, 0.14751412893835, 0.9908440319482354, 0.9530326886128844, 0.9724219303221959, 0.9908382878814496, 0.992606080011981, 0.9647600597994556, 0.9864633447773985, 0.4904758010277472, 0.06023387030165316, 0.24308669086024312, 0.034419354458087525, 0.026890120670380876, 0.05270463651394652, 0.07529233787706646, 0.016134072402228528, 0.9140439856033375, 0.07697212510343895, 0.9864099695761532, 0.9929918949956283, 0.9929918949956283, 0.8976432255691943, 0.9967897030816836, 0.9958109908406158, 0.9959282153052376, 0.9915480238834078, 0.1634829098490141, 0.2997186680565258, 0.104447414625759, 0.4223308504432864, 0.9806124881313651, 0.9946772455689202, 0.9886736002942925, 0.048686999981340226, 0.8168596663535971, 0.13253683328253726, 0.09731626899379724, 0.8966999071571317, 0.9839517694990928, 0.05386894952115756, 0.9427066166202572, 0.982835340013418, 0.4350247327581135, 0.05684982303088983, 0.051906360158638545, 0.4350247327581135, 0.01977385148900516, 0.9948713061724024, 0.031410258674575524, 0.06282051734915105, 0.8899573291129732, 0.9956813021835146, 0.9991393137162888, 0.13752480302089273, 0.13064856286984808, 0.7220052158596868, 0.979358812006374, 0.9544952840697901, 0.00840079287284427, 0.3370818140228763, 0.08085763140112609, 0.2121200200393178, 0.07350693763738736, 0.18796774052989051, 0.05145485634617115, 0.04935465812796008, 0.4882154660280217, 0.009142611723371193, 0.09874020661240888, 0.40227491582833247, 0.9954621900776944, 0.9922728153893209, 0.933241720957341, 0.9933356208223414, 0.2588903875366473, 0.7374453463165105, 0.9983108353464225, 0.9967897030816836, 0.9831301286354666, 0.9853605381416224, 0.9840996913928545, 0.9859964631823713, 0.997993404764513, 0.9982050088237086, 0.99451883794476, 0.9693989506139755, 0.024856383349076295, 0.9942435510508845, 0.9639493780369425, 0.992106753337113, 0.1922060498001758, 0.8051875059196554, 0.1686648720342156, 0.8288673711395738, 0.988995574436817, 0.9952601281177129, 0.9929918949956283, 0.45795828007155337, 0.12298879573974031, 0.08199253049316022, 0.019998178169063466, 0.19798196387372832, 0.07799289485934752, 0.018998269260610292, 0.022997904894422987, 0.024158371397749522, 0.28246711172753286, 0.06690010540915252, 0.5426341883186816, 0.0817667955000753, 0.998064066696323, 0.9976772827180304, 0.9979703521375721, 0.9929024653928874, 0.9864865686924531, 0.4017825846722162, 0.2286741306379103, 0.04487996956444969, 0.3248454939903025, 0.9899373919091732, 0.9976254320536402, 0.9971162641861152], \"Term\": [\"account\", \"air\", \"air\", \"air\", \"air\", \"air\", \"air force\", \"air force\", \"air force\", \"air force\", \"air force\", \"amendment\", \"amendment right\", \"america\", \"america\", \"america told\", \"american\", \"angelwarrior\", \"antifa\", \"antifa\", \"arm\", \"arm pray\", \"arrested\", \"arrested murder\", \"ashli\", \"ashli\", \"ashli\", \"ashli\", \"ashli\", \"ashli\", \"ashli\", \"ashli\", \"ashli\", \"ashli\", \"ashli\", \"ashli\", \"ashli babbit\", \"ashli babbit\", \"ashli babbit\", \"ashli babbit\", \"ashli babbit\", \"ashli babbit\", \"ashli babbit\", \"ashli babbit\", \"ashli babbit\", \"ashli babbit\", \"ashli babbit\", \"ashli babbit\", \"ashli babbitt\", \"ashli babbitt\", \"ashli babbitt\", \"ashli babbitt\", \"ashli know\", \"ashli_babbitt\", \"ashli_babbitt angelwarrior\", \"ashlibabbit\", \"babbit\", \"babbit\", \"babbit\", \"babbit\", \"babbit\", \"babbit\", \"babbit\", \"babbit\", \"babbit\", \"babbit\", \"babbit\", \"babbit\", \"babbit air\", \"babbit congress\", \"babbit death\", \"babbit die\", \"babbit got\", \"babbit life\", \"babbit murdered\", \"babbit proudly\", \"babbit remember\", \"babbit say\", \"babbit shot\", \"babbit stormed\", \"babbit terrorist\", \"babbit thought\", \"babbit unarmed\", \"babbit unarmed\", \"babbit veteran\", \"babbitt\", \"babbitt\", \"babbitt\", \"babbitt\", \"babbitt ashli\", \"babbitt fighting\", \"babbitt say\", \"babbitt unarmed\", \"babbitt woman\", \"believe\", \"bitch\", \"black\", \"blake\", \"bless\", \"blood\", \"blood\", \"blood\", \"blood hand\", \"blood today\", \"body\", \"body laid\", \"breach\", \"breach window\", \"break\", \"breaking\", \"broke\", \"building\", \"building\", \"building\", \"building terrorism\", \"bullet\", \"california\", \"capital\", \"capitol\", \"capitol\", \"capitol\", \"capitol\", \"capitol\", \"capitol\", \"capitol\", \"capitol\", \"capitol\", \"capitol building\", \"capitol care\", \"capitol police\", \"capitol police\", \"capitol police\", \"capitol today\", \"capitol tried\", \"care\", \"care\", \"cassandrarules\", \"cassandrarules establishment\", \"catching\", \"clear\", \"cold\", \"cold blood\", \"coming\", \"complied\", \"congress\", \"congress today\", \"congress walked\", \"conspiracy theory\", \"cop\", \"cop congress\", \"country\", \"country\", \"country died\", \"country lmaooooo\", \"country served\", \"country year\", \"coup\", \"daughter\", \"daughter law\", \"day\", \"dc police\", \"dc police\", \"dead\", \"dead\", \"dead body\", \"death\", \"death\", \"death\", \"dedicated\", \"dedicated mentioned\", \"die\", \"died\", \"died\", \"died\", \"died\", \"diego\", \"diego\", \"diego\", \"diego ewerickson\", \"domestic\", \"domestic terrorist\", \"door\", \"earlier\", \"election\", \"election ashli\", \"election people\", \"enemy\", \"erick\", \"establishment\", \"establishment okay\", \"ewerickson\", \"ewerickson wanted\", \"expressing\", \"expressing amendment\", \"family\", \"family\", \"family\", \"family nation\", \"far\", \"fascist\", \"fbi\", \"federal\", \"federal building\", \"feed\", \"feel\", \"fighting\", \"fighting country\", \"fighting iraq\", \"floor\", \"floor given\", \"floyd\", \"floyd plaza\", \"follow\", \"follow update\", \"force\", \"force\", \"force\", \"force\", \"force\", \"force high\", \"force vet\", \"force vet\", \"force vet\", \"force veteran\", \"force veteran\", \"force veteran\", \"forget\", \"forget\", \"forget ashli\", \"fought\", \"fuck\", \"fuck\", \"fucked\", \"fucking\", \"game\", \"game canceled\", \"george\", \"george floyd\", \"getting\", \"girl\", \"given\", \"given\", \"given moment\", \"god\", \"god bless\", \"going\", \"gonna\", \"good\", \"got\", \"got\", \"got shot\", \"got wish\", \"government rip\", \"guy\", \"happy\", \"happy\", \"happy erick\", \"hearing\", \"heart\", \"heather\", \"heather heyer\", \"hero\", \"heyer\", \"high\", \"high\", \"high level\", \"home\", \"honor\", \"honor maga\", \"hope\", \"hour\", \"hour later\", \"house floor\", \"inside\", \"insurgent\", \"invading\", \"invading capitol\", \"invading federal\", \"iraq\", \"iraq america\", \"jacob\", \"jacob blake\", \"justice\", \"kaitmarieox\", \"killed\", \"killed\", \"killed\", \"killed\", \"killed\", \"killed\", \"killed\", \"killed\", \"killed air\", \"killed ashli\", \"killed capitol\", \"killed capitol\", \"killed capitol\", \"killed capitol\", \"killed cop\", \"killed peaceful\", \"killed peacefully\", \"killed today\", \"killed today\", \"killed today\", \"kind\", \"kind person\", \"kind retweet\", \"know\", \"know\", \"know\", \"know america\", \"know daughter\", \"laid hour\", \"later\", \"later steal\", \"law\", \"law wonderful\", \"let\", \"level\", \"level security\", \"lie\", \"life\", \"life\", \"life\", \"life matter\", \"life mattered\", \"like\", \"like\", \"like\", \"like\", \"like\", \"like ashli\", \"like george\", \"line\", \"literally\", \"lmao\", \"lmaooooo\", \"lobby\", \"lobby killed\", \"long\", \"look\", \"looking\", \"loss\", \"lost\", \"love\", \"maga\", \"make\", \"martyr\", \"matter\", \"matter\", \"mattered\", \"maybe\", \"melissa\", \"member\", \"mentioned\", \"mentioned house\", \"mike_pence\", \"mike_pence ashli\", \"mike_pence killed\", \"military\", \"military\", \"military woman\", \"miss\", \"miss ashli\", \"moment\", \"moment silence\", \"murder\", \"murder\", \"murder\", \"murder ashli\", \"murdered\", \"murdered\", \"murdered\", \"murdered\", \"murdered ashli\", \"murdered expressing\", \"murdered government\", \"murdered veteran\", \"nation\", \"nation word\", \"nationalfile\", \"nba\", \"need\", \"need\", \"nypost\", \"officer\", \"officer killed\", \"officer shot\", \"official time\", \"okay\", \"okay ashli\", \"outside\", \"outside invading\", \"pack\", \"patriot\", \"patriot\", \"patriot\", \"patriot veteran\", \"peace\", \"peace ashli\", \"peaceful\", \"peaceful\", \"peaceful protest\", \"peacefully\", \"peacefully protest\", \"people\", \"people\", \"people\", \"people\", \"people shame\", \"perception\", \"perception world\", \"person\", \"person military\", \"playoff game\", \"plaza\", \"plaza dedicated\", \"police\", \"police\", \"police\", \"police\", \"police\", \"police\", \"police\", \"police\", \"police murdered\", \"police officer\", \"police protest\", \"police today\", \"pray\", \"pray family\", \"prayer\", \"prayer follow\", \"presumably\", \"presumably police\", \"protest\", \"protest\", \"protest\", \"protest\", \"protest air\", \"protest outside\", \"protester\", \"protester killed\", \"protestor\", \"protestor arrested\", \"proudly\", \"proudly served\", \"qanon\", \"qanon\", \"rapist\", \"rapist jacob\", \"real\", \"really\", \"remember\", \"remember sister\", \"rest\", \"rest peace\", \"retweet\", \"retweet share\", \"right\", \"right\", \"right forget\", \"rip\", \"rip\", \"rip\", \"rip ashli\", \"roof\", \"sad\", \"said\", \"san\", \"san\", \"san\", \"san diego\", \"san diego\", \"san diego\", \"say\", \"say\", \"say\", \"say ashli\", \"saying\", \"scream\", \"scream roof\", \"security\", \"security\", \"security official\", \"served\", \"served\", \"served\", \"served\", \"served country\", \"service san\", \"shame\", \"share\", \"share prayer\", \"shit\", \"shit\", \"shoot\", \"shot\", \"shot\", \"shot\", \"shot\", \"shot\", \"shot\", \"shot\", \"shot ashli\", \"shot killed\", \"shot killed\", \"shot killed\", \"shot killed\", \"shot killed\", \"shot today\", \"sick\", \"silence\", \"silence forget\", \"sister\", \"sister arm\", \"smart\", \"smart kind\", \"sorry\", \"sorry loss\", \"soul\", \"speaker\", \"speaker lobby\", \"state\", \"state\", \"steal\", \"stop\", \"stop miss\", \"stormed\", \"stormed\", \"stormed\", \"stormed capitol\", \"stormed capitol\", \"stormed capitol\", \"storming\", \"storming capitol\", \"strong\", \"strong smart\", \"stupid\", \"supporter\", \"supporter\", \"supporter\", \"tamir\", \"terrorism\", \"terrorist\", \"terrorist\", \"thank\", \"theory\", \"thing\", \"thought\", \"thought gonna\", \"thread\", \"thug\", \"today\", \"today\", \"today\", \"today\", \"today\", \"today\", \"today\", \"today\", \"today ashli\", \"today ashli\", \"today capitol\", \"today got\", \"today presumably\", \"today storming\", \"today vigil\", \"today want\", \"told\", \"tonight\", \"tour\", \"tour\", \"tour\", \"tour\", \"traitor\", \"tried\", \"tried breach\", \"trump\", \"trump\", \"trump\", \"trump supporter\", \"trump supporter\", \"trying\", \"tweet\", \"tweet\", \"twitter feed\", \"unarmed\", \"unarmed\", \"unarmed\", \"unarmed\", \"unarmed\", \"unarmed protestor\", \"unarmed woman\", \"unarmed woman\", \"unarmed woman\", \"unarmed young\", \"update\", \"vet\", \"vet\", \"vet\", \"vet california\", \"vet shot\", \"veteran\", \"veteran\", \"veteran\", \"veteran\", \"veteran\", \"veteran\", \"veteran\", \"veteran\", \"veteran ashli\", \"veteran ashli\", \"veteran ashli\", \"veteran ashli\", \"veteran cold\", \"veteran killed\", \"veteran san\", \"veteran year\", \"video\", \"video\", \"vigil\", \"vigil like\", \"vile\", \"violence\", \"walked\", \"walked dead\", \"want\", \"want know\", \"want scream\", \"wanted\", \"wanted\", \"wanted shot\", \"washington\", \"way\", \"white\", \"white\", \"window\", \"window\", \"window speaker\", \"wish\", \"wish happy\", \"woman\", \"woman\", \"woman\", \"woman\", \"woman\", \"woman\", \"woman\", \"woman\", \"woman shot\", \"woman shot\", \"woman shot\", \"woman shot\", \"woman shot\", \"woman strong\", \"wonderful\", \"wonderful kind\", \"word\", \"world\", \"year\", \"year\", \"year\", \"year\", \"year murdered\", \"year service\", \"young woman\"]}, \"R\": 30, \"lambda.step\": 0.01, \"plot.opts\": {\"xlab\": \"PC1\", \"ylab\": \"PC2\"}, \"topic.order\": [10, 7, 2, 6, 5, 11, 4, 3, 8, 9, 12, 1]};\n",
       "\n",
       "function LDAvis_load_lib(url, callback){\n",
       "  var s = document.createElement('script');\n",
       "  s.src = url;\n",
       "  s.async = true;\n",
       "  s.onreadystatechange = s.onload = callback;\n",
       "  s.onerror = function(){console.warn(\"failed to load library \" + url);};\n",
       "  document.getElementsByTagName(\"head\")[0].appendChild(s);\n",
       "}\n",
       "\n",
       "if(typeof(LDAvis) !== \"undefined\"){\n",
       "   // already loaded: just create the visualization\n",
       "   !function(LDAvis){\n",
       "       new LDAvis(\"#\" + \"ldavis_el431251403162000862249768679160\", ldavis_el431251403162000862249768679160_data);\n",
       "   }(LDAvis);\n",
       "}else if(typeof define === \"function\" && define.amd){\n",
       "   // require.js is available: use it to load d3/LDAvis\n",
       "   require.config({paths: {d3: \"https://cdnjs.cloudflare.com/ajax/libs/d3/3.5.5/d3.min\"}});\n",
       "   require([\"d3\"], function(d3){\n",
       "      window.d3 = d3;\n",
       "      LDAvis_load_lib(\"https://cdn.rawgit.com/bmabey/pyLDAvis/files/ldavis.v1.0.0.js\", function(){\n",
       "        new LDAvis(\"#\" + \"ldavis_el431251403162000862249768679160\", ldavis_el431251403162000862249768679160_data);\n",
       "      });\n",
       "    });\n",
       "}else{\n",
       "    // require.js not available: dynamically load d3 & LDAvis\n",
       "    LDAvis_load_lib(\"https://cdnjs.cloudflare.com/ajax/libs/d3/3.5.5/d3.min.js\", function(){\n",
       "         LDAvis_load_lib(\"https://cdn.rawgit.com/bmabey/pyLDAvis/files/ldavis.v1.0.0.js\", function(){\n",
       "                 new LDAvis(\"#\" + \"ldavis_el431251403162000862249768679160\", ldavis_el431251403162000862249768679160_data);\n",
       "            })\n",
       "         });\n",
       "}\n",
       "</script>"
      ],
      "text/plain": [
       "PreparedData(topic_coordinates=                x           y  topics  cluster       Freq\n",
       "topic                                                    \n",
       "9      5.310529    171.049652  1       1        12.077758\n",
       "6      136.304657  23.800941   2       1        11.311724\n",
       "1      101.190552 -84.985191   3       1        10.550520\n",
       "5     -106.824867  148.841736  4       1        10.419226\n",
       "4     -44.365761   78.632721   5       1        8.734976 \n",
       "10     43.884090   73.474022   6       1        8.020198 \n",
       "3      114.093971  135.933029  7       1        7.434107 \n",
       "2     -119.727142 -72.077179   8       1        7.165650 \n",
       "7     -49.518208  -9.617325    9       1        6.878839 \n",
       "8     -141.938736  40.055210   10      1        6.756517 \n",
       "11     38.731544  -14.776019   11      1        5.638792 \n",
       "0     -10.944340  -107.193344  12      1        5.011692 , topic_info=                 Term         Freq        Total Category  logprob  loglift\n",
       "929   kind             2017.000000  2017.000000  Default  30.0000  30.0000\n",
       "68    ashli babbit     3260.000000  3260.000000  Default  29.0000  29.0000\n",
       "113   babbit           3263.000000  3263.000000  Default  28.0000  28.0000\n",
       "1625  strong           1309.000000  1309.000000  Default  27.0000  27.0000\n",
       "66    ashli            3371.000000  3371.000000  Default  26.0000  26.0000\n",
       "...     ...                    ...          ...      ...      ...      ...\n",
       "1928  window           171.788915   207.512089   Topic12 -3.8034   2.8045 \n",
       "265   building         191.556284   316.409286   Topic12 -3.6945   2.4915 \n",
       "1619  stormed          137.644076   227.929075   Topic12 -4.0250   2.4890 \n",
       "292   capitol          143.404838   798.779581   Topic12 -3.9840   1.2760 \n",
       "1621  stormed capitol  118.901375   195.767843   Topic12 -4.1714   2.4948 \n",
       "\n",
       "[524 rows x 6 columns], token_table=      Topic      Freq           Term\n",
       "term                                \n",
       "9     3      0.986521  account      \n",
       "29    2      0.463320  air          \n",
       "29    3      0.089879  air          \n",
       "29    7      0.313944  air          \n",
       "29    9      0.067093  air          \n",
       "...  ..           ...  ...          \n",
       "1973  6      0.044880  year         \n",
       "1973  10     0.324845  year         \n",
       "1977  10     0.989937  year murdered\n",
       "1979  2      0.997625  year service \n",
       "1989  2      0.997116  young woman  \n",
       "\n",
       "[667 rows x 3 columns], R=30, lambda_step=0.01, plot_opts={'xlab': 'PC1', 'ylab': 'PC2'}, topic_order=[10, 7, 2, 6, 5, 11, 4, 3, 8, 9, 12, 1])"
      ]
     },
     "execution_count": 36,
     "metadata": {},
     "output_type": "execute_result"
    }
   ],
   "source": [
    "pyLDAvis.enable_notebook()\n",
    "panel = pyLDAvis.sklearn.prepare(lda_model_2, doc_term_matrix_1, tfidfconverter, mds='tsne')\n",
    "panel"
   ]
  },
  {
   "cell_type": "code",
   "execution_count": null,
   "metadata": {},
   "outputs": [],
   "source": []
  }
 ],
 "metadata": {
  "kernelspec": {
   "display_name": "Python 3",
   "language": "python",
   "name": "python3"
  },
  "language_info": {
   "codemirror_mode": {
    "name": "ipython",
    "version": 3
   },
   "file_extension": ".py",
   "mimetype": "text/x-python",
   "name": "python",
   "nbconvert_exporter": "python",
   "pygments_lexer": "ipython3",
   "version": "3.7.7"
  }
 },
 "nbformat": 4,
 "nbformat_minor": 4
}
