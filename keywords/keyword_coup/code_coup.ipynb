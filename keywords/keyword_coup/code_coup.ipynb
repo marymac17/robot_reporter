{
 "cells": [
  {
   "cell_type": "markdown",
   "metadata": {},
   "source": [
    "# Part 1: Data cleaning"
   ]
  },
  {
   "cell_type": "code",
   "execution_count": 1,
   "metadata": {},
   "outputs": [],
   "source": [
    "#import initial libraries\n",
    "\n",
    "import numpy as np\n",
    "import pandas as pd"
   ]
  },
  {
   "cell_type": "code",
   "execution_count": 2,
   "metadata": {},
   "outputs": [
    {
     "name": "stderr",
     "output_type": "stream",
     "text": [
      "/opt/anaconda3/lib/python3.7/site-packages/IPython/core/interactiveshell.py:3072: DtypeWarning: Columns (7) have mixed types.Specify dtype option on import or set low_memory=False.\n",
      "  interactivity=interactivity, compiler=compiler, result=result)\n"
     ]
    }
   ],
   "source": [
    "#import initial libraries\n",
    "\n",
    "df = pd.read_csv('data/coup.csv')"
   ]
  },
  {
   "cell_type": "code",
   "execution_count": 3,
   "metadata": {},
   "outputs": [
    {
     "name": "stdout",
     "output_type": "stream",
     "text": [
      "<class 'pandas.core.frame.DataFrame'>\n",
      "RangeIndex: 413600 entries, 0 to 413599\n",
      "Data columns (total 37 columns):\n",
      " #   Column                        Non-Null Count   Dtype  \n",
      "---  ------                        --------------   -----  \n",
      " 0   id                            413600 non-null  int64  \n",
      " 1   tweet_url                     413600 non-null  object \n",
      " 2   created_at                    413600 non-null  object \n",
      " 3   parsed_created_at             413600 non-null  object \n",
      " 4   user_screen_name              413600 non-null  object \n",
      " 5   text                          413600 non-null  object \n",
      " 6   tweet_type                    413600 non-null  object \n",
      " 7   coordinates                   7 non-null       object \n",
      " 8   hashtags                      13057 non-null   object \n",
      " 9   media                         11642 non-null   object \n",
      " 10  urls                          52890 non-null   object \n",
      " 11  favorite_count                413600 non-null  int64  \n",
      " 12  in_reply_to_screen_name       31057 non-null   object \n",
      " 13  in_reply_to_status_id         27532 non-null   float64\n",
      " 14  in_reply_to_user_id           31057 non-null   float64\n",
      " 15  lang                          413600 non-null  object \n",
      " 16  place                         1702 non-null    object \n",
      " 17  possibly_sensitive            39368 non-null   object \n",
      " 18  retweet_count                 413600 non-null  int64  \n",
      " 19  retweet_or_quote_id           366954 non-null  float64\n",
      " 20  retweet_or_quote_screen_name  366954 non-null  object \n",
      " 21  retweet_or_quote_user_id      366954 non-null  float64\n",
      " 22  source                        413566 non-null  object \n",
      " 23  user_id                       413600 non-null  int64  \n",
      " 24  user_created_at               413600 non-null  object \n",
      " 25  user_default_profile_image    413600 non-null  bool   \n",
      " 26  user_description              350206 non-null  object \n",
      " 27  user_favourites_count         413600 non-null  int64  \n",
      " 28  user_followers_count          413600 non-null  int64  \n",
      " 29  user_friends_count            413600 non-null  int64  \n",
      " 30  user_listed_count             413600 non-null  int64  \n",
      " 31  user_location                 274043 non-null  object \n",
      " 32  user_name                     413574 non-null  object \n",
      " 33  user_statuses_count           413600 non-null  int64  \n",
      " 34  user_time_zone                0 non-null       float64\n",
      " 35  user_urls                     0 non-null       float64\n",
      " 36  user_verified                 413600 non-null  bool   \n",
      "dtypes: bool(2), float64(6), int64(9), object(20)\n",
      "memory usage: 111.2+ MB\n"
     ]
    }
   ],
   "source": [
    "# look at basic info about data\n",
    "\n",
    "df.info()\n",
    "# this data set consists of 413,600 Tweets"
   ]
  },
  {
   "cell_type": "code",
   "execution_count": 4,
   "metadata": {},
   "outputs": [
    {
     "name": "stdout",
     "output_type": "stream",
     "text": [
      "44 ['en' 'und' 'fr' 'de' 'nl' 'in' 'th' 'ja' 'pt' 'es' 'et' 'ca' 'fa' 'it'\n",
      " 'tr' 'pl' 'ht' 'cy' 'ko' 'ro' 'tl' 'eu' 'zh' 'ar' 'no' 'ru' 'fi' 'pa'\n",
      " 'el' 'vi' 'sv' 'iw' 'sr' 'ur' 'hu' 'lt' 'cs' 'lv' 'da' 'hi' 'is' 'sl'\n",
      " 'ta' 'dv']\n"
     ]
    }
   ],
   "source": [
    "# count number of languages in data set\n",
    "\n",
    "count_lang = df['lang'].unique()\n",
    "print(len(count_lang), count_lang)"
   ]
  },
  {
   "cell_type": "code",
   "execution_count": 5,
   "metadata": {},
   "outputs": [
    {
     "data": {
      "text/plain": [
       "(396586, 37)"
      ]
     },
     "execution_count": 5,
     "metadata": {},
     "output_type": "execute_result"
    }
   ],
   "source": [
    "# tweets are in 44 different languages\n",
    "\n",
    "# I'll be working only with tweets in English\n",
    "# drop tweets in all other languages\n",
    "# now working with 396,586 Tweets \n",
    "\n",
    "df = df[df.lang == 'en']\n",
    "df.shape"
   ]
  },
  {
   "cell_type": "code",
   "execution_count": 6,
   "metadata": {},
   "outputs": [],
   "source": [
    "# drop unnecessary columns \n",
    "df = df.drop(['tweet_url', 'created_at', 'media', 'urls','in_reply_to_screen_name',\n",
    "       'in_reply_to_status_id', 'in_reply_to_user_id', 'retweet_or_quote_id',\n",
    "       'retweet_or_quote_screen_name', 'retweet_or_quote_user_id', 'source',\n",
    "       'user_created_at', 'user_name', 'user_verified', 'user_friends_count', 'user_listed_count',\n",
    "       'user_statuses_count', 'user_default_profile_image', 'user_description',\n",
    "       'user_favourites_count', 'user_followers_count', 'coordinates', 'lang'], axis=1)"
   ]
  },
  {
   "cell_type": "code",
   "execution_count": 7,
   "metadata": {},
   "outputs": [
    {
     "data": {
      "text/plain": [
       "id                                                  1346974253178970113\n",
       "parsed_created_at                             2021-01-07 00:17:42+00:00\n",
       "user_screen_name                                               faby1717\n",
       "text                  Assault on democracy: Sen. Josh Hawley has blo...\n",
       "tweet_type                                                      retweet\n",
       "hashtags                                                            NaN\n",
       "favorite_count                                                     7579\n",
       "place                                                               NaN\n",
       "possibly_sensitive                                                False\n",
       "retweet_count                                                         0\n",
       "user_id                                                       115280140\n",
       "user_location                                                 CA Desert\n",
       "user_time_zone                                                      NaN\n",
       "user_urls                                                           NaN\n",
       "Name: 0, dtype: object"
      ]
     },
     "execution_count": 7,
     "metadata": {},
     "output_type": "execute_result"
    }
   ],
   "source": [
    "# check start time & date of data\n",
    "\n",
    "df.iloc[0]\n",
    "\n",
    "# first Tweet downloaded Jan 7, 2021 at 00:17:42"
   ]
  },
  {
   "cell_type": "code",
   "execution_count": 8,
   "metadata": {},
   "outputs": [
    {
     "data": {
      "text/plain": [
       "id                                                  1347018669625286656\n",
       "parsed_created_at                             2021-01-07 03:14:11+00:00\n",
       "user_screen_name                                                kt_dinh\n",
       "text                  Six Senators voted to sustain the objection to...\n",
       "tweet_type                                                      retweet\n",
       "hashtags                                                            NaN\n",
       "favorite_count                                                        6\n",
       "place                                                               NaN\n",
       "possibly_sensitive                                                  NaN\n",
       "retweet_count                                                         0\n",
       "user_id                                             1249340729689686016\n",
       "user_location                                                       NaN\n",
       "user_time_zone                                                      NaN\n",
       "user_urls                                                           NaN\n",
       "Name: 413599, dtype: object"
      ]
     },
     "execution_count": 8,
     "metadata": {},
     "output_type": "execute_result"
    }
   ],
   "source": [
    "# check end time & date of data \n",
    "\n",
    "df.iloc[-1]\n",
    "\n",
    "# last Tweet on Jan 6, 2021 at 03:14:11"
   ]
  },
  {
   "cell_type": "markdown",
   "metadata": {},
   "source": [
    "# Part 2: Text processing for NLP "
   ]
  },
  {
   "cell_type": "code",
   "execution_count": 9,
   "metadata": {},
   "outputs": [],
   "source": [
    "# tokenize, remove stopwords, remove urls, lowercase, remove punctuation, remove numbers\n",
    "# import necessary libraries: ntlk etc.\n",
    "\n",
    "import string\n",
    "import re\n",
    "import nltk\n",
    "from nltk.corpus import stopwords\n",
    "from nltk.tokenize import TweetTokenizer\n",
    "from nltk import pos_tag\n",
    "\n",
    "stop = stopwords.words('english')\n",
    "\n",
    "punc = list(set(string.punctuation))\n",
    "\n",
    "def tokenizer(text):\n",
    "    tokenizer = TweetTokenizer()\n",
    "    tokens = tokenizer.tokenize(text)\n",
    "    return tokens\n",
    "\n",
    "def remove_url(text):\n",
    "    url = re.compile(r\"https?://\\S+|www\\.\\S+\")\n",
    "    return url.sub(r'', text)\n",
    "\n",
    "def process_text(text):\n",
    "    text = remove_url(text)\n",
    "    text = tokenizer(text)\n",
    "    text = [word.lower() for word in text]\n",
    "    text = [re.sub('[0-9]+', '', word) for word in text]\n",
    "    text = [word for word in text if word not in punc]\n",
    "    text = [word for word in text if word not in stop]\n",
    "    text = [each for each in text if len(each) > 1]\n",
    "    text = [word for word in text if ' ' not in word]\n",
    "     \n",
    "    return text"
   ]
  },
  {
   "cell_type": "code",
   "execution_count": 10,
   "metadata": {},
   "outputs": [],
   "source": [
    "# apply text processing functions to text\n",
    "df['processed_text'] = df['text'].apply(process_text)"
   ]
  },
  {
   "cell_type": "code",
   "execution_count": 11,
   "metadata": {},
   "outputs": [
    {
     "name": "stderr",
     "output_type": "stream",
     "text": [
      "/opt/anaconda3/lib/python3.7/site-packages/ipykernel_launcher.py:2: FutureWarning: Passing a negative integer is deprecated in version 1.0 and will not be supported in future version. Instead, use None to not limit the column width.\n",
      "  \n"
     ]
    },
    {
     "data": {
      "text/plain": [
       "0     [assault, democracy, sen, josh, hawley, blood, hands, capitol, coup, attempt]                                                                                                                                              \n",
       "1     [call, old-fashioned, armed, insurgents, breach, capitol, building, request, president, i'd, call, attempted, coup]                                                                                                        \n",
       "2     [@vritrite, @dreddersart, oh, yeah, like, politics, bad, im, like, ignore, coup, attempt, happening]                                                                                                                       \n",
       "3     [ridiculously, divisive, statement, btw, gun, violence, continues, baltimore, oh, still, picked, trash]                                                                                                                    \n",
       "4     [assault, democracy, sen, josh, hawley, blood, hands, capitol, coup, attempt]                                                                                                                                              \n",
       "5     [sort, editorial, home, state, newspaper, politicians, want]                                                                                                                                                               \n",
       "6     [impeach, remove, president, staging, coup, what's, point, impeachment]                                                                                                                                                    \n",
       "7     [middle, insurrection, spurred, father, fever, dream, attempted, coup, maybe, send, brother, text, ...]                                                                                                                    \n",
       "8     [locked, hours, inciting, coup, main]                                                                                                                                                                                      \n",
       "9     [imagine, obama, lost, spent, next, two, months, inciting, coup, refusing, concede, hundreds, black, protesters, stormed, capitol, building, try, stop, certification, defeat, ..., imagine]                               \n",
       "10    [assault, democracy, sen, josh, hawley, blood, hands, capitol, coup, attempt]                                                                                                                                              \n",
       "11    [@cooper_m, cal, brings, antifa, left, tomorrow, need, slap, enough, enough, coup, d'etat]                                                                                                                                 \n",
       "12    [rosenstein, together, pence's, knowledge, consent, went, help, engineer, entire, coup, attempt, president, trump, ..., promote, pence, presidency, point, pence, would, turn, around, appoint, rod, rosenstein, vp]       \n",
       "13    [make, mistake, so-called, leader, country, swore, protect, defend, constitution, directed, horde, white, supremacist, domestic, terrorists, stage, coup, overturn, legitimately, decided, election, encouraging, #traitor]\n",
       "14    [everyone, supported, president's, attempted, coup, today, led, storming, us, capitol, written, public, life, forever, @hawleymo, @tedcruz, via, @tpm]                                                                     \n",
       "15    [republicans, guilty, participating, trump's, coup, everyone, held, accountable, justice, system, @gop, @gopleader, @kamalaharris, @joebiden, @aoc]                                                                        \n",
       "16    [ughbme]                                                                                                                                                                                                                   \n",
       "17    [every, single, person, participated, attempted, coup, must, held, accountable, full, extent, law]                                                                                                                         \n",
       "18    [twitter, pledges, take, action, calls, violence, capitol, locks, @cnbc, wow, took, trump, account, hours, ..., mr, trump, organize, coup, country, hours]                                                                 \n",
       "19    [every, seditionist, house, member, supported, encouraged, attempted, coup, needs, expelled]                                                                                                                               \n",
       "Name: processed_text, dtype: object"
      ]
     },
     "execution_count": 11,
     "metadata": {},
     "output_type": "execute_result"
    }
   ],
   "source": [
    "# look at some of processed text\n",
    "pd.set_option('display.max_colwidth', -1)\n",
    "df['processed_text'][:20]"
   ]
  },
  {
   "cell_type": "code",
   "execution_count": 20,
   "metadata": {},
   "outputs": [],
   "source": [
    "# part-of-speech tagging \n",
    "\n",
    "ready_for_pos = df['processed_text']\n",
    "\n",
    "def pos_tagging(text):\n",
    "    pos_tag = [pos_tag(word) for word in ready_for_pos]\n",
    "\n",
    "df['pos_tagged'] = df.processed_text.apply(lambda x: pos_tag(x))"
   ]
  },
  {
   "cell_type": "code",
   "execution_count": 33,
   "metadata": {},
   "outputs": [],
   "source": [
    "# lemmatizing\n",
    "\n",
    "pos_tagged = df['pos_tagged']\n",
    "\n",
    "wordnet = WordNetLemmatizer() \n",
    "\n",
    "lemmatized = [[wordnet.lemmatize(word[0]) for word in words] for words in pos_tagged]"
   ]
  },
  {
   "cell_type": "code",
   "execution_count": 34,
   "metadata": {},
   "outputs": [],
   "source": [
    "pos_tagged = df['pos_tagged']"
   ]
  },
  {
   "cell_type": "code",
   "execution_count": 35,
   "metadata": {},
   "outputs": [],
   "source": [
    "# lemmatizing\n",
    "\n",
    "from nltk.stem import WordNetLemmatizer \n",
    "wordnet = WordNetLemmatizer() \n",
    "\n",
    "lemmatized = [[wordnet.lemmatize(word[0]) for word in words] for words in pos_tagged]"
   ]
  },
  {
   "cell_type": "code",
   "execution_count": 26,
   "metadata": {},
   "outputs": [
    {
     "data": {
      "text/plain": [
       "[['assault',\n",
       "  'democracy',\n",
       "  'sen',\n",
       "  'josh',\n",
       "  'hawley',\n",
       "  'blood',\n",
       "  'hand',\n",
       "  'capitol',\n",
       "  'coup',\n",
       "  'attempt'],\n",
       " ['call',\n",
       "  'old-fashioned',\n",
       "  'armed',\n",
       "  'insurgent',\n",
       "  'breach',\n",
       "  'capitol',\n",
       "  'building',\n",
       "  'request',\n",
       "  'president',\n",
       "  \"i'd\",\n",
       "  'call',\n",
       "  'attempted',\n",
       "  'coup'],\n",
       " ['@vritrite',\n",
       "  '@dreddersart',\n",
       "  'oh',\n",
       "  'yeah',\n",
       "  'like',\n",
       "  'politics',\n",
       "  'bad',\n",
       "  'im',\n",
       "  'like',\n",
       "  'ignore',\n",
       "  'coup',\n",
       "  'attempt',\n",
       "  'happening'],\n",
       " ['ridiculously',\n",
       "  'divisive',\n",
       "  'statement',\n",
       "  'btw',\n",
       "  'gun',\n",
       "  'violence',\n",
       "  'continues',\n",
       "  'baltimore',\n",
       "  'oh',\n",
       "  'still',\n",
       "  'picked',\n",
       "  'trash'],\n",
       " ['assault',\n",
       "  'democracy',\n",
       "  'sen',\n",
       "  'josh',\n",
       "  'hawley',\n",
       "  'blood',\n",
       "  'hand',\n",
       "  'capitol',\n",
       "  'coup',\n",
       "  'attempt'],\n",
       " ['sort', 'editorial', 'home', 'state', 'newspaper', 'politician', 'want'],\n",
       " ['impeach',\n",
       "  'remove',\n",
       "  'president',\n",
       "  'staging',\n",
       "  'coup',\n",
       "  \"what's\",\n",
       "  'point',\n",
       "  'impeachment'],\n",
       " ['middle',\n",
       "  'insurrection',\n",
       "  'spurred',\n",
       "  'father',\n",
       "  'fever',\n",
       "  'dream',\n",
       "  'attempted',\n",
       "  'coup',\n",
       "  'maybe',\n",
       "  'send',\n",
       "  'brother',\n",
       "  'text',\n",
       "  '...'],\n",
       " ['locked', 'hour', 'inciting', 'coup', 'main'],\n",
       " ['imagine',\n",
       "  'obama',\n",
       "  'lost',\n",
       "  'spent',\n",
       "  'next',\n",
       "  'two',\n",
       "  'month',\n",
       "  'inciting',\n",
       "  'coup',\n",
       "  'refusing',\n",
       "  'concede',\n",
       "  'hundred',\n",
       "  'black',\n",
       "  'protester',\n",
       "  'stormed',\n",
       "  'capitol',\n",
       "  'building',\n",
       "  'try',\n",
       "  'stop',\n",
       "  'certification',\n",
       "  'defeat',\n",
       "  '...',\n",
       "  'imagine'],\n",
       " ['assault',\n",
       "  'democracy',\n",
       "  'sen',\n",
       "  'josh',\n",
       "  'hawley',\n",
       "  'blood',\n",
       "  'hand',\n",
       "  'capitol',\n",
       "  'coup',\n",
       "  'attempt'],\n",
       " ['@cooper_m',\n",
       "  'cal',\n",
       "  'brings',\n",
       "  'antifa',\n",
       "  'left',\n",
       "  'tomorrow',\n",
       "  'need',\n",
       "  'slap',\n",
       "  'enough',\n",
       "  'enough',\n",
       "  'coup',\n",
       "  \"d'etat\"],\n",
       " ['rosenstein',\n",
       "  'together',\n",
       "  \"pence's\",\n",
       "  'knowledge',\n",
       "  'consent',\n",
       "  'went',\n",
       "  'help',\n",
       "  'engineer',\n",
       "  'entire',\n",
       "  'coup',\n",
       "  'attempt',\n",
       "  'president',\n",
       "  'trump',\n",
       "  '...',\n",
       "  'promote',\n",
       "  'penny',\n",
       "  'presidency',\n",
       "  'point',\n",
       "  'penny',\n",
       "  'would',\n",
       "  'turn',\n",
       "  'around',\n",
       "  'appoint',\n",
       "  'rod',\n",
       "  'rosenstein',\n",
       "  'vp'],\n",
       " ['make',\n",
       "  'mistake',\n",
       "  'so-called',\n",
       "  'leader',\n",
       "  'country',\n",
       "  'swore',\n",
       "  'protect',\n",
       "  'defend',\n",
       "  'constitution',\n",
       "  'directed',\n",
       "  'horde',\n",
       "  'white',\n",
       "  'supremacist',\n",
       "  'domestic',\n",
       "  'terrorist',\n",
       "  'stage',\n",
       "  'coup',\n",
       "  'overturn',\n",
       "  'legitimately',\n",
       "  'decided',\n",
       "  'election',\n",
       "  'encouraging',\n",
       "  '#traitor'],\n",
       " ['everyone',\n",
       "  'supported',\n",
       "  \"president's\",\n",
       "  'attempted',\n",
       "  'coup',\n",
       "  'today',\n",
       "  'led',\n",
       "  'storming',\n",
       "  'u',\n",
       "  'capitol',\n",
       "  'written',\n",
       "  'public',\n",
       "  'life',\n",
       "  'forever',\n",
       "  '@hawleymo',\n",
       "  '@tedcruz',\n",
       "  'via',\n",
       "  '@tpm'],\n",
       " ['republican',\n",
       "  'guilty',\n",
       "  'participating',\n",
       "  \"trump's\",\n",
       "  'coup',\n",
       "  'everyone',\n",
       "  'held',\n",
       "  'accountable',\n",
       "  'justice',\n",
       "  'system',\n",
       "  '@gop',\n",
       "  '@gopleader',\n",
       "  '@kamalaharris',\n",
       "  '@joebiden',\n",
       "  '@aoc'],\n",
       " ['ughbme'],\n",
       " ['every',\n",
       "  'single',\n",
       "  'person',\n",
       "  'participated',\n",
       "  'attempted',\n",
       "  'coup',\n",
       "  'must',\n",
       "  'held',\n",
       "  'accountable',\n",
       "  'full',\n",
       "  'extent',\n",
       "  'law'],\n",
       " ['twitter',\n",
       "  'pledge',\n",
       "  'take',\n",
       "  'action',\n",
       "  'call',\n",
       "  'violence',\n",
       "  'capitol',\n",
       "  'lock',\n",
       "  '@cnbc',\n",
       "  'wow',\n",
       "  'took',\n",
       "  'trump',\n",
       "  'account',\n",
       "  'hour',\n",
       "  '...',\n",
       "  'mr',\n",
       "  'trump',\n",
       "  'organize',\n",
       "  'coup',\n",
       "  'country',\n",
       "  'hour'],\n",
       " ['every',\n",
       "  'seditionist',\n",
       "  'house',\n",
       "  'member',\n",
       "  'supported',\n",
       "  'encouraged',\n",
       "  'attempted',\n",
       "  'coup',\n",
       "  'need',\n",
       "  'expelled']]"
      ]
     },
     "execution_count": 26,
     "metadata": {},
     "output_type": "execute_result"
    }
   ],
   "source": [
    "# look at lemmatized text\n",
    "\n",
    "df['lemmatized'] = lemmatized\n",
    "lemmatized[:20]"
   ]
  },
  {
   "cell_type": "code",
   "execution_count": 37,
   "metadata": {},
   "outputs": [
    {
     "name": "stderr",
     "output_type": "stream",
     "text": [
      "/opt/anaconda3/lib/python3.7/site-packages/ipykernel_launcher.py:4: FutureWarning: Passing a negative integer is deprecated in version 1.0 and will not be supported in future version. Instead, use None to not limit the column width.\n",
      "  after removing the cwd from sys.path.\n"
     ]
    },
    {
     "data": {
      "text/plain": [
       "3170    coup color mayonnaise                                                                                                                                                      \n",
       "3171    protestors terrorist stated attempting coup comparing happening today protest racial economic equality past year mind bogglingly wrong                                     \n",
       "3172    assault democracy sen josh hawley blood hand capitol coup attempt                                                                                                          \n",
       "3173    @codemonkeyz medium coup stand trump patriot america attack                                                                                                                \n",
       "3174    coup etat attempted president united state                                                                                                                                 \n",
       "3175    realizing must trump meant said let's violent coup january th                                                                                                              \n",
       "3176    impeach remove president staging coup what's point impeachment                                                                                                             \n",
       "3177    everything america stand launch coup novelty try home                                                                                                                      \n",
       "3178    leftist burning small business maybe trying set fire ted wheeler condo getting arrested let next day month end                                                             \n",
       "3179    commit sedition arrested minion total lack humanity decency person dy coup trying take america look good orange jumpsuit                                                   \n",
       "3180    fact president trump follower succeed today change fact member congress wanted set aside electoral college slate agitator stormed capitol involved failed coup attempt     \n",
       "3181    ed board biggest paper hawley's state weighs one president donald trump responsible wednesday coup attempt capitol one joshua david hawley year-old junior senator missouri\n",
       "3182    self serving attempt sedition helped inspire terrorist attempted coup                                                                                                      \n",
       "3183    anyone elected house senate challenging result presidential election congress part attempted coup inspired president resign insurrection ...                               \n",
       "3184    call old-fashioned armed insurgent breach capitol building request president i'd call attempted coup                                                                       \n",
       "3185    former police chief charles ramsey cnn close coup attempt country ever seen looking folk                                                                                   \n",
       "3186    quick reminder response people protesting racial injustice v redneck trying stage coup                                                                                     \n",
       "3187    think guy lout douchebags want prosecuted trump humiliated mean get go around calling coup insurrection                                                                    \n",
       "3188    donald trump responsible coup unfolding capitol fascist direct threat country                                                                                              \n",
       "3189    least people arrested today connection violent mob stormed capitol part attempted coup @sunrisemvmt climate activist arrested peaceful sit nancy pelosi office back dec    \n",
       "Name: final_docs, dtype: object"
      ]
     },
     "execution_count": 37,
     "metadata": {},
     "output_type": "execute_result"
    }
   ],
   "source": [
    "# before vectorizing, cast lists of words back into strings\n",
    "\n",
    "df['final_docs'] = df['lemmatized'].apply(lambda x: \" \".join(x))\n",
    "pd.set_option('display.max_colwidth', -1)\n",
    "final_docs = df['final_docs']\n",
    "final_docs[3000:3020]"
   ]
  },
  {
   "cell_type": "markdown",
   "metadata": {},
   "source": [
    " # Part 3: run NMF and LDA models, for topic modeling"
   ]
  },
  {
   "cell_type": "code",
   "execution_count": 38,
   "metadata": {},
   "outputs": [],
   "source": [
    "#create document term matrix with TFIDF\n",
    "\n",
    "#import vectorizing tool (usee TFIDF)\n",
    "from sklearn.feature_extraction.text import TfidfVectorizer\n",
    "# set max_features to 2000 (specifies the number of most frequently occurring words for which we want to create feature vectors)\n",
    "# set min_df to 5 (word must occur in at least 5 documents)\n",
    "# set max_df to 0.85 (word must not occur in more than 85 percent of the documents) \n",
    "\n",
    "tfidfconverter = TfidfVectorizer(max_features=2000, min_df=5, max_df=0.85, ngram_range=(1, 2), stop_words='english')  \n",
    "doc_term_matrix_1 = tfidfconverter.fit_transform(df['final_docs'].values.astype('U'))"
   ]
  },
  {
   "cell_type": "code",
   "execution_count": 39,
   "metadata": {},
   "outputs": [
    {
     "data": {
      "text/plain": [
       "(396586, 2000)"
      ]
     },
     "execution_count": 39,
     "metadata": {},
     "output_type": "execute_result"
    }
   ],
   "source": [
    "doc_term_matrix_1.shape"
   ]
  },
  {
   "cell_type": "code",
   "execution_count": 40,
   "metadata": {},
   "outputs": [],
   "source": [
    "#run NMF model \n",
    "\n",
    "#import NMF tool \n",
    "from sklearn.decomposition import NMF\n",
    "\n",
    "nmf_model = NMF(n_components=6)\n",
    "nmf_Z = nmf_model.fit_transform(doc_term_matrix_1)"
   ]
  },
  {
   "cell_type": "code",
   "execution_count": 41,
   "metadata": {},
   "outputs": [],
   "source": [
    "# run LDA model\n",
    "\n",
    "#import LDA tool \n",
    "from sklearn.decomposition import LatentDirichletAllocation\n",
    "\n",
    "lda_model = LatentDirichletAllocation(n_components = 6, max_iter=10, learning_method='online', learning_decay=.9)\n",
    "lda_Z = lda_model.fit_transform(doc_term_matrix_1)"
   ]
  },
  {
   "cell_type": "code",
   "execution_count": 42,
   "metadata": {},
   "outputs": [
    {
     "name": "stdout",
     "output_type": "stream",
     "text": [
      "LDA Model:\n",
      "Topic 0:\n",
      "[('ve', 2589.2397306017997), ('attempt', 2377.878698379504), ('coup attempt', 2174.8578991500776), ('working', 2037.103727356392), ('said', 2033.5018240878685), ('seen', 1974.8118833499102), ('working coup', 1774.4285685436018), ('sorry', 1755.7154910366428), ('thing', 1735.120494513654), ('make', 1661.1804316656594)]\n",
      "Topic 1:\n",
      "[('white', 3941.7814892406645), ('capitol', 3938.8912844067754), ('black', 3783.726578996251), ('supremacist', 3750.373950044226), ('white supremacist', 3748.7184047511632), ('ago', 3711.9398335047017), ('attempted coup', 3528.640826164163), ('image', 3523.4125008711017), ('thug', 3519.1228678884854), ('worker', 3512.358350072664)]\n",
      "Topic 2:\n",
      "[('coup attempt', 3698.702033065051), ('attempt', 3665.5340777960073), ('hawley', 3603.136581061402), ('josh', 3261.969133553972), ('hand', 3260.885689066252), ('josh hawley', 3197.8813514560434), ('capitol', 3144.4014283668935), ('blood', 2973.303500535873), ('blood hand', 2830.0791200666313), ('capitol coup', 2810.218293671432)]\n",
      "Topic 3:\n",
      "[('remove', 5143.837615683904), ('point', 4922.023939236563), ('impeach', 4910.6873883661265), ('staging', 4741.187375548133), ('staging coup', 4607.881947500445), ('impeach remove', 4599.853647072366), ('remove president', 4483.869213122892), ('impeachment', 4315.361784431158), ('coup point', 4304.87492685248), ('point impeachment', 4296.683776989975)]\n",
      "Topic 4:\n",
      "[('member', 3094.7072205040836), ('attempted coup', 2946.7283625971936), ('attempted', 2673.85920006679), ('today', 2647.1766981140545), ('gop', 2539.8193943052984), ('watching', 2527.4342736983936), ('treason', 2430.5292412971876), ('need', 2170.950431122663), ('watching coup', 2032.4182178911517), ('today coup', 2009.5579386953568)]\n",
      "Topic 5:\n",
      "[('trump', 3196.5278912335148), ('attempt', 2940.6503545631485), ('state', 2765.7266940596965), ('coup attempt', 2643.1344212305216), ('attempted', 2415.2914942966377), ('united', 2288.373887793345), ('united state', 2273.2998776608356), ('election', 1995.8861854654358), ('american', 1894.4092602531327), ('today', 1894.3582503166526)]\n",
      "====================\n",
      "NMF Model:\n",
      "Topic 0:\n",
      "[('cleaning', 2.395854677730032), ('worker cleaning', 2.3956064185949324), ('cleaning white', 2.395414518847121), ('black capitol', 2.395367005355645), ('capitol worker', 2.395358815715967), ('supremacist thug', 2.3951569282913714), ('image black', 2.39512874622203), ('coup couple', 2.3951080433935066), ('thug attempted', 2.395067973234704), ('couple ago', 2.3949998056602992)]\n",
      "Topic 1:\n",
      "[('president staging', 3.212760010920124), ('point impeachment', 3.2125107713955887), ('coup point', 3.2122542974320885), ('staging coup', 3.2052765512043497), ('remove president', 3.1819372824498475), ('impeach remove', 3.151876841206088), ('staging', 3.1482011257342384), ('impeach', 3.127460866955616), ('point', 3.1187711306448356), ('remove', 3.076631435599135)]\n",
      "Topic 2:\n",
      "[('representation', 2.0631642554228122), ('backyard', 2.0625017900851743), ('representation congress', 2.062219970534567), ('endure coup', 2.062206092810139), ('curfew pm', 2.062206092810139), ('pm fear', 2.062206092810139), ('thousand dc', 2.062206092810139), ('resident endure', 2.062206092810139), ('backyard today', 2.062206092810139), ('today curfew', 2.062201520776226)]\n",
      "Topic 3:\n",
      "[('coup attempt', 2.857365905088361), ('attempt', 2.7924084002865714), ('josh', 2.3881930149516153), ('josh hawley', 2.3832418974092087), ('blood', 2.3602061835834305), ('blood hand', 2.341305140282135), ('hawley', 2.3359022713500304), ('hand', 2.3067725199545004), ('sen', 2.300571251356108), ('hawley blood', 2.298395319245534)]\n",
      "Topic 4:\n",
      "[('involved today', 1.9973039549969325), ('member involved', 1.9962975123161788), ('removal gop', 1.9958437073353434), ('calling removal', 1.9957760087765857), ('coup sign', 1.9957420057974906), ('send message', 1.994471467150679), ('petition send', 1.9943239469262646), ('message stand', 1.9943173513025758), ('stand treason', 1.9942941488877737), ('send', 1.9845060558990442)]\n",
      "Topic 5:\n",
      "[('th amendment', 1.4575573618928093), ('amendment', 1.4565584396625677), ('th', 1.4545355961873059), ('joe biden', 1.4199301289839532), ('seditious coup', 1.4197915583754048), ('impeachment removal', 1.4193558839716214), ('joe', 1.4188112878243662), ('expulsion cruz', 1.41488701586366), ('hawley attempted', 1.4146874025316127), ('allowed run', 1.4146042329868045)]\n",
      "====================\n"
     ]
    }
   ],
   "source": [
    "def print_topics(model, vectorizer, top_n=10):\n",
    "    for idx, topic in enumerate(model.components_):\n",
    "        print(\"Topic %d:\" % (idx))\n",
    "        print([(vectorizer.get_feature_names()[i], topic[i])\n",
    "                        for i in topic.argsort()[:-top_n - 1:-1]])\n",
    " \n",
    "print(\"LDA Model:\")\n",
    "print_topics(lda_model, tfidfconverter )\n",
    "print(\"=\" * 20)\n",
    " \n",
    "print(\"NMF Model:\")\n",
    "print_topics(nmf_model, tfidfconverter )\n",
    "print(\"=\" * 20)"
   ]
  },
  {
   "cell_type": "markdown",
   "metadata": {},
   "source": [
    "# Part 4: Run visualization and testing of LDA model"
   ]
  },
  {
   "cell_type": "code",
   "execution_count": null,
   "metadata": {},
   "outputs": [],
   "source": [
    "import pyLDAvis.sklearn"
   ]
  },
  {
   "cell_type": "code",
   "execution_count": 43,
   "metadata": {},
   "outputs": [
    {
     "data": {
      "text/html": [
       "\n",
       "<link rel=\"stylesheet\" type=\"text/css\" href=\"https://cdn.rawgit.com/bmabey/pyLDAvis/files/ldavis.v1.0.0.css\">\n",
       "\n",
       "\n",
       "<div id=\"ldavis_el21411406867819446566300283412\"></div>\n",
       "<script type=\"text/javascript\">\n",
       "\n",
       "var ldavis_el21411406867819446566300283412_data = {\"mdsDat\": {\"x\": [1.4650187492370605, 54.85479736328125, 32.212928771972656, 5.111096382141113, 26.350170135498047, 38.10981750488281], \"y\": [-47.625064849853516, -36.4767951965332, -61.44457244873047, -14.110331535339355, -33.37470245361328, -7.222781181335449], \"topics\": [1, 2, 3, 4, 5, 6], \"cluster\": [1, 1, 1, 1, 1, 1], \"Freq\": [24.29305618457374, 18.700425447620468, 16.000638002140715, 14.350876858538456, 13.913050022230234, 12.741953484896396]}, \"tinfo\": {\"Term\": [\"remove\", \"point\", \"impeach\", \"staging\", \"staging coup\", \"impeach remove\", \"remove president\", \"coup point\", \"point impeachment\", \"president staging\", \"impeachment\", \"member\", \"josh\", \"hand\", \"josh hawley\", \"hawley\", \"president\", \"watching\", \"blood\", \"gop\", \"blood hand\", \"ve\", \"sen\", \"treason\", \"capitol coup\", \"hawley blood\", \"supporter\", \"hand capitol\", \"sen josh\", \"ago\", \"worker\", \"ago\", \"cleaning\", \"cleaning white\", \"worker cleaning\", \"capitol worker\", \"black capitol\", \"image black\", \"ago heart\", \"couple ago\", \"supremacist thug\", \"thug attempted\", \"coup couple\", \"image\", \"safety\", \"curfew\", \"personal\", \"backyard\", \"dc resident\", \"endure\", \"representation congress\", \"today curfew\", \"coup backyard\", \"backyard today\", \"pm fear\", \"resident endure\", \"thousand dc\", \"curfew pm\", \"endure coup\", \"fear personal\", \"couple\", \"thousand\", \"pm\", \"representation\", \"resident\", \"heart\", \"thug\", \"black\", \"dc\", \"supremacist\", \"white supremacist\", \"congress\", \"white\", \"capitol\", \"attempted coup\", \"attempted\", \"today\", \"seditious\", \"etat\", \"coup etat\", \"fucking\", \"control\", \"allowed\", \"joe\", \"seditious coup\", \"joe biden\", \"run\", \"backed\", \"impeachment removal\", \"nuclear\", \"expulsion\", \"happened\", \"allowed run\", \"arsenal\", \"control nuclear\", \"nuclear arsenal\", \"order operation\", \"hawley attempted\", \"expulsion cruz\", \"attempted seditious\", \"removal allowed\", \"run expulsion\", \"arsenal impeachment\", \"operation th\", \"amendment control\", \"inaugurating joe\", \"inaugurating\", \"biden\", \"th amendment\", \"amendment\", \"th\", \"support\", \"really\", \"think\", \"united\", \"united state\", \"state\", \"election\", \"traitor\", \"going\", \"cruz\", \"day\", \"republican\", \"trump\", \"want\", \"american\", \"attempt\", \"coup attempt\", \"attempted\", \"today\", \"right\", \"know\", \"president\", \"josh\", \"josh hawley\", \"hand\", \"blood\", \"blood hand\", \"sen\", \"hawley blood\", \"hand capitol\", \"sen josh\", \"assault\", \"assault democracy\", \"democracy sen\", \"editorial board\", \"coverage\", \"kcstar\", \"enforcement\", \"law enforcement\", \"coverage coup\", \"kcstar editorial\", \"kansa\", \"president donald\", \"kansa city\", \"city star\", \"join\", \"trump attempted\", \"staggering\", \"board sen\", \"commission\", \"blm\", \"enforcement white\", \"group\", \"city\", \"capitol coup\", \"editorial\", \"hawley\", \"peaceful\", \"protest\", \"board\", \"coup attempt\", \"attempt\", \"capitol\", \"democracy\", \"arrest\", \"law\", \"attempted coup\", \"violent\", \"attempted\", \"donald\", \"donald trump\", \"remove\", \"impeach\", \"staging\", \"staging coup\", \"impeach remove\", \"remove president\", \"coup point\", \"point impeachment\", \"president staging\", \"point\", \"petition\", \"sign petition\", \"sign\", \"color\", \"nationalist trump\", \"mayonnaise\", \"coup color\", \"color mayonnaise\", \"coup sign\", \"event\", \"complicit\", \"home\", \"help\", \"coup trump\", \"high\", \"superspreader\", \"superspreader event\", \"start\", \"coup superspreader\", \"yes\", \"nationalist\", \"white nationalist\", \"school\", \"trump supporter\", \"supporter\", \"impeachment\", \"president\", \"calling\", \"trump\", \"removal\", \"white\", \"ve\", \"working\", \"sorry\", \"working coup\", \"heard\", \"sense\", \"seen\", \"ve heard\", \"supposed\", \"make sense\", \"bos\", \"cia\", \"honestly\", \"doomscrolling\", \"doomscrolling coup\", \"sorry bos\", \"work doomscrolling\", \"bos work\", \"crisis\", \"supposed working\", \"thing ve\", \"american thing\", \"coup honestly\", \"friend said\", \"honestly american\", \"said supposed\", \"actual coup\", \"learning\", \"coup involved\", \"learning coup\", \"forget\", \"said\", \"actual\", \"friend\", \"thing\", \"make\", \"work\", \"attempt\", \"coup attempt\", \"fascist\", \"american\", \"live\", \"watching\", \"watching coup\", \"member involved\", \"send\", \"act\", \"expelled\", \"overthrow\", \"armed\", \"coup need\", \"encouraged attempted\", \"seditionist\", \"need expelled\", \"member supported\", \"house member\", \"corrupt\", \"supported encouraged\", \"seditionist house\", \"violence capitol\", \"overthrow democracy\", \"coup act\", \"egged\", \"act insurrection\", \"corrupt president\", \"insurrection egged\", \"president overthrow\", \"egged corrupt\", \"gop member\", \"breach\", \"pandemic\", \"leading\", \"send message\", \"stand treason\", \"removal gop\", \"message stand\", \"petition send\", \"involved today\", \"calling removal\", \"member\", \"gop\", \"message\", \"stand\", \"treason\", \"encouraged\", \"today coup\", \"supported\", \"house\", \"need\", \"involved\", \"insurrection\", \"attempted coup\", \"today\", \"attempted\", \"violence\"], \"Freq\": [5351.0, 5122.0, 5109.0, 4932.0, 4794.0, 4785.0, 4665.0, 4479.0, 4470.0, 4470.0, 5819.0, 3800.0, 3380.0, 3379.0, 3313.0, 4896.0, 8689.0, 2756.0, 3081.0, 3130.0, 2932.0, 2712.0, 2819.0, 3308.0, 3025.0, 2715.0, 3181.0, 2644.0, 2634.0, 3352.0, 3171.216091586119, 3351.4129703667854, 3125.170104440534, 3091.063016474486, 3090.341307165594, 3088.2681802743464, 3088.0260516199883, 3086.840199722022, 3086.6492675156305, 3086.64926745419, 3088.733584823965, 3088.4279442998086, 3088.2161616409585, 3181.1965939713896, 2218.2668814164117, 2208.0548114482544, 2158.711041724697, 2128.593146184859, 2120.9851785528576, 2117.2582457199337, 2117.1040341430094, 2116.1483237845655, 2116.106961848416, 2115.9216171316543, 2115.921617117328, 2115.921617085706, 2115.9216170783957, 2115.921616994709, 2115.9216169835227, 2115.735403648588, 3127.060440663926, 2196.804495019292, 2210.008209527297, 2142.830637184311, 2145.859575162608, 3144.303968334786, 3177.323597031544, 3416.227337175539, 3054.8519484206477, 3386.114124602234, 3384.619376245022, 2833.340204823796, 3558.9309638458967, 3556.3214738213333, 3185.917111540748, 2937.044120525257, 2800.321818052067, 1576.4964156937274, 1437.2971622724683, 1435.5526804694464, 1288.3366141893484, 1282.754530382711, 1487.74589009762, 1236.0521295168057, 1218.972485914726, 1200.2508158061883, 1195.5898221468462, 1138.5165005678095, 1091.510999648505, 1074.5369478413486, 1069.0499450249647, 1047.6958433296254, 1042.5022922295811, 1040.7896620993486, 1040.5502187464172, 1040.581328421886, 1040.5380611595451, 1040.3048416965635, 1040.2632711439603, 1039.784230933039, 1039.6118178388938, 1039.6117955777204, 1039.3950228759115, 1039.3950149028635, 1039.3950144041385, 1039.249073240024, 1039.2490463488043, 1823.0125795267136, 1489.8964848257253, 1531.6585970725848, 1748.9243213321542, 1719.1989887231914, 1452.2119123305308, 1565.2291181087783, 2225.1875126132095, 2210.5297247006715, 2689.3596958743224, 1940.7759545698727, 1571.245709992872, 1423.091208414536, 1444.4013419599037, 1619.2334261872793, 1619.400631556562, 3108.2656489108613, 1371.795861956601, 1842.1010011432093, 2859.4533799043443, 2570.1524299212047, 2348.6006815137753, 1842.0513996885343, 1461.2456892169926, 1387.3855913337536, 1571.7908297546942, 3379.3551505423316, 3312.961089883791, 3378.2327169569735, 3080.301525635266, 2931.9230376712694, 2818.9211752497063, 2714.788414020002, 2643.5001562144284, 2633.4786312402216, 2057.1480467173146, 1872.6591500499694, 1797.065306636953, 1420.9089987423472, 1414.457054990555, 1372.8597784295284, 1370.0033366408359, 1367.6539480586175, 1345.0973081261063, 1254.3567076815625, 1116.0906983567595, 1114.889312927096, 1082.8175467781984, 1053.1933913192556, 1011.6042593300816, 1003.6157854137304, 1004.0570234131728, 979.7702957314056, 944.084469978232, 929.0877361719063, 915.386084735293, 1247.8116728367834, 1210.2439481666574, 2911.3474947324194, 1774.2980686584258, 3732.7999330426132, 1291.2899888015825, 1965.4877454989066, 1437.6474518592217, 3831.8044267149908, 3797.4428813164054, 3257.5566252360763, 2182.096122757502, 1456.8949886580551, 1397.5029553508123, 1873.2118465292178, 1490.1894334520043, 1656.6473380704233, 1387.2124332124906, 1379.8456797702806, 5350.992424325898, 5108.452672234324, 4932.1264830586115, 4793.452522311921, 4785.100902766258, 4664.445494533499, 4478.242674500803, 4469.721647179269, 4469.63106681431, 5120.24577348634, 2211.9816851278915, 2186.0786390705607, 2430.307920813843, 2135.435008248048, 1921.347418904658, 1909.1922099052938, 1903.6392986878654, 1900.6398227468233, 1810.9076468379915, 1474.93601001681, 1421.829684369836, 978.1602259085136, 930.8547118409375, 918.1780988084626, 873.4010737425556, 829.4144851882388, 826.7088377796922, 940.3477459149075, 819.352457164307, 853.9703015760522, 2176.563027422333, 2163.1172081540385, 832.4582138174604, 2443.982429723727, 2689.6762696554483, 4489.1518632526795, 4292.558040870882, 2080.5000254615225, 3676.3033142298823, 1655.751503670928, 1599.3199816439153, 2711.4069894510953, 2133.219732151734, 1838.5548458959702, 1858.1508564726796, 1696.5062639922141, 1648.6276716058287, 2067.988792262782, 1578.9601009556156, 1525.7081003528438, 1507.596333168756, 1500.0678685330313, 1500.2605950776367, 1487.6441578031329, 1444.9490179745762, 1432.63867350385, 1428.9316248408602, 1428.5215844272607, 1428.042811529073, 1402.980588173678, 1393.5159813268456, 1371.2971999528884, 1369.7388194502244, 1369.6011286031696, 1366.8688485112473, 1366.4804921712444, 1366.231435090796, 1355.3354613364554, 1349.3261375596398, 1336.683984109582, 1331.1876906091948, 1391.4158605694752, 2129.447881448929, 1476.1787743425307, 1583.6386036671736, 1816.9881223283637, 1739.5593694643294, 1651.0455027814503, 2490.0733781628383, 2277.4735143770804, 1605.2623715411496, 1612.0323746088313, 1410.9990392910331, 2755.794319153255, 2216.0523172822946, 1925.193717666587, 2099.009598123053, 1882.93401453901, 1728.6187960348434, 1565.6141713931625, 1433.2920642552624, 1382.7116807552272, 1299.6332494922995, 1284.1236008929957, 1271.1637851657802, 1262.1984092277473, 1259.7920474461184, 1281.6070176282471, 1254.4839511676337, 1250.7797654974454, 1244.6036446100775, 1134.1532421956304, 1120.6951334682528, 1095.2330849683142, 1087.7307672527256, 1076.309219190695, 1073.677224859325, 1073.4739859350527, 1073.2887458031857, 2107.9134893765586, 924.7360168604097, 855.3110706795674, 780.7952084727891, 1892.1715959149421, 1889.7741677185247, 1885.2930485991278, 1882.4404719149682, 1882.1306631186544, 1978.7598901228969, 1815.119735920549, 3374.321803917038, 2769.2984665669846, 1942.5664459514205, 2114.5798815045655, 2650.133673269146, 1632.9710673312477, 2191.1265543464915, 1729.9606242910622, 1903.2408837141181, 2367.1012645154456, 1992.5859846747128, 1861.606872355075, 3212.972683895072, 2886.35577287741, 2915.449106012655, 1632.89421972501], \"Total\": [5351.0, 5122.0, 5109.0, 4932.0, 4794.0, 4785.0, 4665.0, 4479.0, 4470.0, 4470.0, 5819.0, 3800.0, 3380.0, 3379.0, 3313.0, 4896.0, 8689.0, 2756.0, 3081.0, 3130.0, 2932.0, 2712.0, 2819.0, 3308.0, 3025.0, 2715.0, 3181.0, 2644.0, 2634.0, 3352.0, 3172.08114710563, 3352.335669487741, 3126.034552366801, 3091.927748945289, 3091.206037588795, 3089.1329095821197, 3088.890780951347, 3087.7049289301294, 3087.5139960896877, 3087.513996081609, 3089.5990796351257, 3089.2951822626246, 3089.0863449888693, 3182.3368367835674, 2219.1318270726483, 2208.9217296639913, 2159.576177256911, 2129.4575906010755, 2121.849637630237, 2118.1227038132015, 2117.96846410544, 2117.012752808858, 2116.9713906005773, 2116.786045738236, 2116.7860457681218, 2116.7860457622864, 2116.7860457665765, 2116.7860457501015, 2116.786045828688, 2116.5998323169524, 3129.2344029643673, 2197.708860203651, 2211.4790644335444, 2143.713908338789, 2146.7758823969157, 3229.36402899722, 3352.5935610364772, 4031.8151607321647, 3662.115413381338, 4758.707002762208, 4756.728235831043, 3837.432622560045, 7162.2331413387965, 9489.606480553304, 10471.933702557231, 11124.052990881182, 9651.532119090878, 1577.4195729516327, 1438.1507898603431, 1436.4063079203097, 1289.191978486842, 1283.6130424768266, 1488.7541601867931, 1236.9054535825562, 1219.8258807179977, 1201.1039160252192, 1196.458023715921, 1139.3701461935098, 1092.3650199601757, 1075.3901434534546, 1069.912448951679, 1048.5511844976775, 1043.3552010417309, 1041.642648997379, 1041.403162362423, 1041.4343204416286, 1041.3910454723941, 1041.1578112421917, 1041.1162263285821, 1040.6371949973056, 1040.4647758615056, 1040.4647715175067, 1040.2479677707613, 1040.247967524147, 1040.2479723370757, 1040.1020071870737, 1040.1020115389479, 1824.5159700229237, 1493.501292639585, 1537.5179072750454, 1761.960613062755, 1820.8783787522873, 1578.8367027871159, 1792.909205838411, 2936.2169542054635, 2918.111163161151, 3909.2921656095846, 2607.899562706625, 1938.6539926141822, 1798.6465978416059, 1858.4986148409619, 2323.707551689313, 2528.310395883469, 10564.602297460899, 1847.309976255391, 3821.2623769181682, 11641.237852487415, 10765.18881955062, 11124.052990881182, 9651.532119090878, 3040.555556756505, 2463.4060501792756, 8689.478657521553, 3380.2001404798443, 3313.804275575092, 3379.120526503948, 3081.144364089616, 2932.7655518872284, 2819.7636408682424, 2715.630681946395, 2644.342391812171, 2634.3209156169596, 2057.9923430895738, 1873.5015357476336, 1797.9075749411033, 1421.751241150914, 1415.2998948850482, 1373.7034089622941, 1370.852920198938, 1368.502093500643, 1345.9491242721313, 1255.1988956711878, 1116.9333618564317, 1115.7322472385367, 1083.659874884522, 1054.0356742528304, 1012.4474767670084, 1004.4662699955054, 1004.9085454213345, 980.6124786699918, 944.927198533251, 929.9345658076421, 916.2282841553651, 1249.012453922332, 1211.401845734701, 3025.978519192019, 1885.0752092715018, 4896.096958829269, 1364.3620024219847, 2311.1038758497007, 1816.3569218927673, 10765.18881955062, 11641.237852487415, 9489.606480553304, 4583.264422400073, 2292.4730391115063, 2102.981377588744, 10471.933702557231, 3303.530976427143, 11124.052990881182, 2090.6972742142266, 2059.5729699808394, 5351.8353730266945, 5109.299346249165, 4932.979596813543, 4794.294319140359, 4785.943156838658, 4665.2870434647575, 4479.084175440586, 4470.563136625258, 4470.472556054986, 5122.105178261069, 2212.8312219857644, 2186.928237926793, 2431.267741602941, 2136.27878257193, 1922.1889382281647, 1910.0336894654927, 1904.480779161527, 1901.4812985600954, 1811.7610089866748, 1475.7817142276717, 1422.6796156447592, 979.020903751692, 931.7130881406721, 919.0433724056717, 874.246571003628, 830.2559800752526, 827.5503245823853, 941.3114238070139, 820.1939310845639, 854.8742587978894, 2179.2214750112894, 2165.6963886364315, 833.3446644924759, 2769.874147979628, 3181.4251161525035, 5819.028234111931, 8689.478657521553, 3738.100193086287, 10564.602297460899, 2607.6226362537586, 7162.2331413387965, 2712.2547146830743, 2134.0721805362236, 1839.3961060725935, 1859.0046343933166, 1697.3476067610297, 1649.4731805217118, 2069.064970026037, 1579.800509222675, 1526.5490367240393, 1508.4367011603474, 1500.908498110785, 1501.1017053286632, 1488.4851806874553, 1445.789380961711, 1433.4789932867839, 1429.7719428569312, 1429.3619025671494, 1428.8831294775339, 1403.821418601003, 1394.3563177686103, 1372.1375378141988, 1370.5791687720293, 1370.4414675316582, 1367.7091790433212, 1367.320826980234, 1367.0717743650587, 1356.1764843512103, 1350.1665532130894, 1337.5243544047753, 1332.028012119673, 1392.2980750012907, 2670.623232212755, 1562.6824404423073, 1824.7623213805393, 2476.4911589560575, 2805.118915160835, 2522.5987582043626, 11641.237852487415, 10765.18881955062, 2777.1221609641148, 3821.2623769181682, 1740.230599888818, 2756.6299200490894, 2216.8860367154402, 1926.0325761128083, 2099.9309388420074, 1883.770302908545, 1729.4535923641404, 1566.4518147489352, 1434.1301601544258, 1383.5452741595354, 1300.4665916833492, 1284.956961468664, 1271.9969633368398, 1263.0315909262345, 1260.6252238300665, 1282.4558035575615, 1255.3171180639945, 1251.6129260300972, 1245.437072845246, 1134.986500797786, 1121.5284580343189, 1096.0664886428328, 1088.563918503319, 1077.1423565285968, 1074.5103459385386, 1074.3071064596704, 1074.1218663708673, 2109.744175637249, 925.5723356483862, 856.1482202843689, 781.6301670467524, 1894.4293400564313, 1892.5548255898489, 1895.2168907466305, 1892.3476514855545, 1892.091032932397, 1993.866253300121, 1892.9506599791976, 3800.31150083563, 3130.13594004468, 2178.6936414440206, 2450.2542676007906, 3308.498699652546, 1844.4595465908233, 2892.1263222039906, 2084.4135824101263, 2578.1607712097057, 3876.4206616559104, 3261.930414422918, 2831.864307296473, 10471.933702557231, 9651.532119090878, 11124.052990881182, 2592.0468987453223], \"Category\": [\"Default\", \"Default\", \"Default\", \"Default\", \"Default\", \"Default\", \"Default\", \"Default\", \"Default\", \"Default\", \"Default\", \"Default\", \"Default\", \"Default\", \"Default\", \"Default\", \"Default\", \"Default\", \"Default\", \"Default\", \"Default\", \"Default\", \"Default\", \"Default\", \"Default\", \"Default\", \"Default\", \"Default\", \"Default\", \"Default\", \"Topic1\", \"Topic1\", \"Topic1\", \"Topic1\", \"Topic1\", \"Topic1\", \"Topic1\", \"Topic1\", \"Topic1\", \"Topic1\", \"Topic1\", \"Topic1\", \"Topic1\", \"Topic1\", \"Topic1\", \"Topic1\", \"Topic1\", \"Topic1\", \"Topic1\", \"Topic1\", \"Topic1\", \"Topic1\", \"Topic1\", \"Topic1\", \"Topic1\", \"Topic1\", \"Topic1\", \"Topic1\", \"Topic1\", \"Topic1\", \"Topic1\", \"Topic1\", \"Topic1\", \"Topic1\", \"Topic1\", \"Topic1\", \"Topic1\", \"Topic1\", \"Topic1\", \"Topic1\", \"Topic1\", \"Topic1\", \"Topic1\", \"Topic1\", \"Topic1\", \"Topic1\", \"Topic1\", \"Topic2\", \"Topic2\", \"Topic2\", \"Topic2\", \"Topic2\", \"Topic2\", \"Topic2\", \"Topic2\", \"Topic2\", \"Topic2\", \"Topic2\", \"Topic2\", \"Topic2\", \"Topic2\", \"Topic2\", \"Topic2\", \"Topic2\", \"Topic2\", \"Topic2\", \"Topic2\", \"Topic2\", \"Topic2\", \"Topic2\", \"Topic2\", \"Topic2\", \"Topic2\", \"Topic2\", \"Topic2\", \"Topic2\", \"Topic2\", \"Topic2\", \"Topic2\", \"Topic2\", \"Topic2\", \"Topic2\", \"Topic2\", \"Topic2\", \"Topic2\", \"Topic2\", \"Topic2\", \"Topic2\", \"Topic2\", \"Topic2\", \"Topic2\", \"Topic2\", \"Topic2\", \"Topic2\", \"Topic2\", \"Topic2\", \"Topic2\", \"Topic2\", \"Topic2\", \"Topic2\", \"Topic2\", \"Topic2\", \"Topic2\", \"Topic3\", \"Topic3\", \"Topic3\", \"Topic3\", \"Topic3\", \"Topic3\", \"Topic3\", \"Topic3\", \"Topic3\", \"Topic3\", \"Topic3\", \"Topic3\", \"Topic3\", \"Topic3\", \"Topic3\", \"Topic3\", \"Topic3\", \"Topic3\", \"Topic3\", \"Topic3\", \"Topic3\", \"Topic3\", \"Topic3\", \"Topic3\", \"Topic3\", \"Topic3\", \"Topic3\", \"Topic3\", \"Topic3\", \"Topic3\", \"Topic3\", \"Topic3\", \"Topic3\", \"Topic3\", \"Topic3\", \"Topic3\", \"Topic3\", \"Topic3\", \"Topic3\", \"Topic3\", \"Topic3\", \"Topic3\", \"Topic3\", \"Topic3\", \"Topic3\", \"Topic3\", \"Topic3\", \"Topic3\", \"Topic3\", \"Topic4\", \"Topic4\", \"Topic4\", \"Topic4\", \"Topic4\", \"Topic4\", \"Topic4\", \"Topic4\", \"Topic4\", \"Topic4\", \"Topic4\", \"Topic4\", \"Topic4\", \"Topic4\", \"Topic4\", \"Topic4\", \"Topic4\", \"Topic4\", \"Topic4\", \"Topic4\", \"Topic4\", \"Topic4\", \"Topic4\", \"Topic4\", \"Topic4\", \"Topic4\", \"Topic4\", \"Topic4\", \"Topic4\", \"Topic4\", \"Topic4\", \"Topic4\", \"Topic4\", \"Topic4\", \"Topic4\", \"Topic4\", \"Topic4\", \"Topic4\", \"Topic4\", \"Topic4\", \"Topic4\", \"Topic5\", \"Topic5\", \"Topic5\", \"Topic5\", \"Topic5\", \"Topic5\", \"Topic5\", \"Topic5\", \"Topic5\", \"Topic5\", \"Topic5\", \"Topic5\", \"Topic5\", \"Topic5\", \"Topic5\", \"Topic5\", \"Topic5\", \"Topic5\", \"Topic5\", \"Topic5\", \"Topic5\", \"Topic5\", \"Topic5\", \"Topic5\", \"Topic5\", \"Topic5\", \"Topic5\", \"Topic5\", \"Topic5\", \"Topic5\", \"Topic5\", \"Topic5\", \"Topic5\", \"Topic5\", \"Topic5\", \"Topic5\", \"Topic5\", \"Topic5\", \"Topic5\", \"Topic5\", \"Topic5\", \"Topic5\", \"Topic6\", \"Topic6\", \"Topic6\", \"Topic6\", \"Topic6\", \"Topic6\", \"Topic6\", \"Topic6\", \"Topic6\", \"Topic6\", \"Topic6\", \"Topic6\", \"Topic6\", \"Topic6\", \"Topic6\", \"Topic6\", \"Topic6\", \"Topic6\", \"Topic6\", \"Topic6\", \"Topic6\", \"Topic6\", \"Topic6\", \"Topic6\", \"Topic6\", \"Topic6\", \"Topic6\", \"Topic6\", \"Topic6\", \"Topic6\", \"Topic6\", \"Topic6\", \"Topic6\", \"Topic6\", \"Topic6\", \"Topic6\", \"Topic6\", \"Topic6\", \"Topic6\", \"Topic6\", \"Topic6\", \"Topic6\", \"Topic6\", \"Topic6\", \"Topic6\", \"Topic6\", \"Topic6\", \"Topic6\", \"Topic6\", \"Topic6\", \"Topic6\", \"Topic6\", \"Topic6\"], \"logprob\": [30.0, 29.0, 28.0, 27.0, 26.0, 25.0, 24.0, 23.0, 22.0, 21.0, 20.0, 19.0, 18.0, 17.0, 16.0, 15.0, 14.0, 13.0, 12.0, 11.0, 10.0, 9.0, 8.0, 7.0, 6.0, 5.0, 4.0, 3.0, 2.0, 1.0, -4.7003, -4.645, -4.7149, -4.7259, -4.7261, -4.7268, -4.7268, -4.7272, -4.7273, -4.7273, -4.7266, -4.7267, -4.7268, -4.6971, -5.0577, -5.0623, -5.0849, -5.0989, -5.1025, -5.1043, -5.1043, -5.1048, -5.1048, -5.1049, -5.1049, -5.1049, -5.1049, -5.1049, -5.1049, -5.105, -4.7143, -5.0674, -5.0614, -5.0922, -5.0908, -4.7088, -4.6983, -4.6258, -4.7376, -4.6347, -4.6351, -4.8129, -4.5849, -4.5857, -4.6956, -4.777, -4.8246, -5.1375, -5.23, -5.2312, -5.3394, -5.3437, -5.1955, -5.3808, -5.3947, -5.4102, -5.4141, -5.463, -5.5052, -5.5208, -5.526, -5.5461, -5.5511, -5.5528, -5.553, -5.553, -5.553, -5.5532, -5.5533, -5.5537, -5.5539, -5.5539, -5.5541, -5.5541, -5.5541, -5.5542, -5.5542, -4.9922, -5.194, -5.1664, -5.0337, -5.0509, -5.2196, -5.1447, -4.7929, -4.7995, -4.6034, -4.9296, -5.1409, -5.2399, -5.225, -5.1108, -5.1107, -4.4587, -5.2766, -4.9818, -4.5421, -4.6488, -4.7389, -4.9819, -5.2134, -5.2653, -5.1405, -4.2191, -4.239, -4.2195, -4.3118, -4.3612, -4.4005, -4.4381, -4.4647, -4.4685, -4.7155, -4.8095, -4.8507, -5.0855, -5.0901, -5.1199, -5.122, -5.1237, -5.1403, -5.2102, -5.327, -5.3281, -5.3572, -5.385, -5.4253, -5.4332, -5.4328, -5.4573, -5.4944, -5.5104, -5.5252, -5.2154, -5.246, -4.3682, -4.8634, -4.1197, -5.1812, -4.7611, -5.0738, -4.0935, -4.1025, -4.2558, -4.6565, -5.0605, -5.1021, -4.8092, -5.0379, -4.932, -5.1095, -5.1148, -3.6507, -3.6971, -3.7322, -3.7607, -3.7625, -3.788, -3.8288, -3.8307, -3.8307, -3.6948, -4.5341, -4.5459, -4.44, -4.5693, -4.675, -4.6813, -4.6842, -4.6858, -4.7342, -4.9394, -4.9761, -5.3501, -5.3996, -5.4134, -5.4634, -5.515, -5.5183, -5.3895, -5.5272, -5.4859, -4.5503, -4.5564, -5.5114, -4.4344, -4.3386, -3.8263, -3.8711, -4.5954, -4.0261, -4.8237, -4.8584, -4.2995, -4.5394, -4.688, -4.6774, -4.7684, -4.7971, -4.5704, -4.8402, -4.8746, -4.8865, -4.8915, -4.8914, -4.8998, -4.9289, -4.9375, -4.9401, -4.9404, -4.9407, -4.9584, -4.9652, -4.9813, -4.9824, -4.9825, -4.9845, -4.9848, -4.985, -4.993, -4.9974, -5.0068, -5.0109, -4.9667, -4.5412, -4.9076, -4.8373, -4.6998, -4.7434, -4.7956, -4.3847, -4.4739, -4.8237, -4.8195, -4.9527, -4.1954, -4.4134, -4.5541, -4.4676, -4.5763, -4.6618, -4.7608, -4.8491, -4.885, -4.947, -4.959, -4.9692, -4.9762, -4.9781, -4.961, -4.9824, -4.9853, -4.9903, -5.0832, -5.0951, -5.1181, -5.125, -5.1355, -5.138, -5.1382, -5.1384, -4.4634, -5.2873, -5.3654, -5.4565, -4.5714, -4.5726, -4.575, -4.5765, -4.5767, -4.5266, -4.6129, -3.9929, -4.1905, -4.5451, -4.4602, -4.2345, -4.7187, -4.4247, -4.661, -4.5655, -4.3474, -4.5197, -4.5876, -4.0419, -4.1491, -4.1391, -4.7187], \"loglift\": [30.0, 29.0, 28.0, 27.0, 26.0, 25.0, 24.0, 23.0, 22.0, 21.0, 20.0, 19.0, 18.0, 17.0, 16.0, 15.0, 14.0, 13.0, 12.0, 11.0, 10.0, 9.0, 8.0, 7.0, 6.0, 5.0, 4.0, 3.0, 2.0, 1.0, 1.4147, 1.4147, 1.4147, 1.4147, 1.4147, 1.4147, 1.4147, 1.4147, 1.4147, 1.4147, 1.4147, 1.4147, 1.4147, 1.4146, 1.4146, 1.4146, 1.4146, 1.4146, 1.4146, 1.4146, 1.4146, 1.4146, 1.4146, 1.4146, 1.4146, 1.4146, 1.4146, 1.4146, 1.4146, 1.4146, 1.4143, 1.4146, 1.4143, 1.4146, 1.4146, 1.3883, 1.3613, 1.2493, 1.2337, 1.0747, 1.0747, 1.1116, 0.7156, 0.4335, 0.225, 0.0833, 0.1776, 1.676, 1.676, 1.676, 1.676, 1.676, 1.6759, 1.6759, 1.6759, 1.6759, 1.6759, 1.6759, 1.6758, 1.6758, 1.6758, 1.6758, 1.6758, 1.6758, 1.6758, 1.6758, 1.6758, 1.6758, 1.6758, 1.6758, 1.6758, 1.6758, 1.6758, 1.6758, 1.6758, 1.6758, 1.6758, 1.6758, 1.6742, 1.6728, 1.6692, 1.6192, 1.593, 1.5408, 1.3993, 1.3989, 1.3026, 1.3812, 1.4665, 1.4424, 1.4245, 1.3154, 1.2311, 0.4532, 1.379, 0.9469, 0.2727, 0.2443, 0.1213, 0.0204, 0.9439, 1.1025, -0.0333, 1.8323, 1.8323, 1.8323, 1.8323, 1.8323, 1.8322, 1.8322, 1.8322, 1.8322, 1.8321, 1.8321, 1.8321, 1.8319, 1.8319, 1.8319, 1.8319, 1.8319, 1.8319, 1.8319, 1.8318, 1.8318, 1.8318, 1.8317, 1.8317, 1.8317, 1.8317, 1.8317, 1.8316, 1.8316, 1.8316, 1.8316, 1.8316, 1.7939, 1.772, 1.5613, 1.7775, 1.6706, 1.5987, 0.7996, 0.7123, 0.7633, 1.0904, 1.3792, 1.4239, 0.1115, 1.0365, -0.0718, 1.4223, 1.432, 1.9412, 1.9412, 1.9412, 1.9412, 1.9412, 1.9412, 1.9412, 1.9412, 1.9412, 1.941, 1.941, 1.941, 1.941, 1.941, 1.9409, 1.9409, 1.9409, 1.9409, 1.9409, 1.9408, 1.9408, 1.9405, 1.9404, 1.9404, 1.9404, 1.9403, 1.9403, 1.9403, 1.9403, 1.9403, 1.9401, 1.9402, 1.9403, 1.8162, 1.7735, 1.6819, 1.2361, 1.3554, 0.8858, 1.4872, 0.4421, 1.972, 1.9719, 1.9719, 1.9719, 1.9718, 1.9718, 1.9718, 1.9718, 1.9718, 1.9718, 1.9718, 1.9718, 1.9718, 1.9718, 1.9718, 1.9718, 1.9718, 1.9718, 1.9717, 1.9717, 1.9717, 1.9717, 1.9717, 1.9717, 1.9717, 1.9717, 1.9717, 1.9717, 1.9717, 1.9717, 1.9717, 1.7459, 1.9154, 1.8306, 1.6627, 1.4945, 1.5485, 0.4301, 0.4191, 1.4242, 1.1093, 1.7626, 2.06, 2.0599, 2.0598, 2.0598, 2.0598, 2.0598, 2.0597, 2.0597, 2.0597, 2.0596, 2.0596, 2.0596, 2.0596, 2.0596, 2.0596, 2.0596, 2.0596, 2.0596, 2.0595, 2.0595, 2.0595, 2.0595, 2.0595, 2.0595, 2.0595, 2.0595, 2.0594, 2.0594, 2.0593, 2.0592, 2.0591, 2.0588, 2.055, 2.055, 2.055, 2.0527, 2.0183, 1.9414, 1.9378, 1.9456, 1.9129, 1.8384, 1.9385, 1.7827, 1.8739, 1.7568, 1.567, 1.5674, 1.6408, 0.8788, 0.8531, 0.7212, 1.5982]}, \"token.table\": {\"Topic\": [6, 6, 2, 5, 5, 1, 1, 2, 2, 2, 4, 2, 1, 2, 5, 6, 5, 6, 1, 3, 2, 2, 3, 3, 1, 2, 3, 4, 5, 6, 1, 2, 3, 4, 5, 6, 1, 2, 3, 4, 5, 6, 2, 2, 1, 1, 1, 2, 1, 2, 3, 6, 1, 3, 3, 3, 1, 3, 5, 3, 5, 5, 6, 2, 3, 4, 5, 4, 6, 1, 2, 3, 4, 5, 6, 1, 3, 1, 5, 3, 3, 1, 1, 4, 4, 3, 4, 1, 2, 3, 4, 2, 2, 6, 6, 6, 1, 2, 3, 4, 5, 6, 1, 4, 1, 2, 5, 5, 6, 4, 4, 4, 4, 1, 2, 1, 3, 3, 5, 2, 6, 1, 1, 1, 2, 4, 5, 1, 3, 1, 1, 3, 6, 3, 1, 2, 3, 1, 2, 3, 5, 5, 3, 5, 3, 6, 6, 1, 2, 3, 1, 4, 6, 6, 1, 1, 3, 3, 2, 4, 6, 2, 2, 1, 2, 5, 6, 1, 5, 3, 5, 5, 2, 1, 2, 1, 6, 1, 6, 3, 3, 3, 2, 2, 3, 6, 2, 3, 5, 1, 2, 3, 5, 4, 4, 4, 5, 5, 2, 3, 4, 6, 6, 1, 1, 4, 4, 1, 2, 3, 4, 2, 2, 2, 1, 2, 3, 4, 6, 6, 2, 5, 6, 2, 6, 2, 2, 3, 3, 3, 3, 3, 3, 3, 1, 2, 3, 1, 2, 3, 6, 3, 6, 5, 5, 1, 5, 1, 2, 5, 5, 4, 2, 3, 4, 6, 6, 6, 1, 5, 6, 4, 6, 2, 4, 4, 1, 2, 4, 6, 6, 2, 2, 2, 2, 6, 6, 6, 3, 4, 1, 4, 4, 6, 1, 2, 1, 1, 4, 4, 1, 2, 3, 4, 6, 3, 6, 4, 1, 3, 1, 2, 2, 4, 2, 4, 6, 4, 4, 1, 1, 1, 2, 3, 4, 1, 1, 1, 2, 3, 4, 5, 2, 2, 1, 1, 2, 5, 5, 4, 6, 6, 2, 2, 5, 3, 3, 6, 1, 6, 5, 4, 4, 5, 5, 3, 4, 4, 2, 3, 4, 6, 4, 6, 4, 2, 3, 4, 5, 6, 4, 4, 2, 3, 1, 2, 6, 6, 2, 4, 5, 5, 1, 3, 5, 1, 1, 2, 4, 2, 4, 1, 5, 6, 5, 1, 2, 4, 1, 1, 1, 4, 6, 1, 1, 2, 3, 4, 5, 6, 2, 3, 6, 1, 1, 2, 3, 1, 2, 4, 6, 1, 2, 3, 4, 5, 6, 3, 2, 4, 2, 3, 6, 2, 3, 6, 5, 5, 1, 2, 5, 6, 6, 1, 3, 4, 2, 4, 6, 6, 6, 1, 2, 3, 4, 5, 2, 4, 1, 3, 5, 1, 2, 5, 5, 1, 1, 5, 5, 4], \"Freq\": [0.9995910844823513, 0.9994819610555398, 0.05503357417624674, 0.9445297149318627, 0.9991324990775274, 0.9996015704811728, 0.9998335242883631, 0.9994934286620576, 0.9996595588526551, 0.9964111590187428, 0.0032519946443170457, 0.9988003126463473, 0.053123805689500606, 0.4820396555667986, 0.42185012202697036, 0.04291775435013842, 0.9995774277143376, 0.9992119542661985, 0.36423547224076447, 0.6355581832991543, 0.9993830427373557, 0.9988003170307214, 0.9995178101158122, 0.9997323003274542, 0.11811458690419249, 0.2455924392429719, 0.3261680628910683, 0.042091743696766784, 0.21389477919377406, 0.05403205466380879, 0.2640224747587568, 0.21116404263136523, 0.14895650005967315, 0.04980199217444715, 0.06400544842636528, 0.2620447783186163, 0.3042418039012206, 0.12987095207333962, 0.1788590391421802, 0.004201707272960987, 0.07601270430174877, 0.3068201242732648, 0.9993876876587068, 0.9996751308652887, 0.999785114010678, 0.999628660752078, 0.0005480905711049685, 0.9991691111243577, 0.8472610632724704, 0.030011296444955773, 0.0840812354945455, 0.03869224996209174, 0.9997116178542665, 0.9989950198196682, 0.9996285912133968, 0.9997389658758316, 0.11066106973652752, 0.7916946183140626, 0.09799836026418855, 0.9993754121191457, 0.9993947012013533, 0.999381944219709, 0.9993816413624924, 0.06393622098252921, 0.3485727863608183, 0.556699899015244, 0.031031805999888657, 0.04067723561312802, 0.9588205537380176, 0.3747257599445433, 0.10664298905058432, 0.3433229825363673, 0.001159162924462873, 0.030454371379070026, 0.14373620263339626, 0.03767376380135034, 0.9620028633836039, 0.999633259683128, 0.9992660688314773, 0.998842790491333, 0.9990174201138262, 0.9996690528049289, 0.9996999448174022, 0.9994013971479927, 0.9997468823067259, 0.9990187619377553, 0.9995222988807279, 0.7382540043426318, 0.1764200356300606, 0.003908863418686719, 0.08130435910868376, 0.9995224086570172, 0.9996128662011085, 0.9996445853679347, 0.9989394563107904, 0.9995288055059743, 0.0944711715741604, 0.2387324591402087, 0.35596217253901935, 0.04709624777590888, 0.21151510095807596, 0.05220530818552424, 0.9995411413659673, 0.9997475536814089, 0.9996483280596441, 0.9997171358005953, 0.999677864730368, 0.9996079664620323, 0.9996058862910239, 0.9997579470717406, 0.9995799617152041, 0.9985443307499421, 0.9988647190796441, 0.9992859585839109, 0.00031956698387717013, 0.9998335242909793, 0.9990815410290455, 0.9992948290132107, 0.9994148695908761, 0.7769712543603742, 0.22222238784683832, 0.9995827241628288, 0.9996286607464747, 0.1764421687668631, 0.6967313932525643, 0.00129104025926973, 0.12523090514916382, 0.8342172911419057, 0.1657511933627289, 0.99959957689029, 0.2138213966469805, 0.47607988518746064, 0.30982284003950233, 0.9994952048960953, 0.18367078043105195, 0.1525806743685041, 0.6634150324423673, 0.18450426643710283, 0.14566126297666013, 0.6700418096926366, 0.9994540138611435, 0.999665852594264, 0.9410765105152343, 0.05835310944570224, 0.9994716085844203, 0.9990269854485256, 0.9989555501978022, 0.25537793307836887, 0.744277129286958, 0.00038345034996752086, 0.10572202592375911, 0.008674627768103313, 0.8853541965820443, 0.999641212095464, 0.9994699533642785, 0.9996286607093631, 0.9993778178633386, 0.998659412532219, 0.999199812795392, 0.9994703049779412, 0.9997377250444053, 0.9991471741892779, 0.9989278561794024, 0.1393528903552618, 0.19084504363898902, 0.5779364057369385, 0.09182167193951359, 0.9997166057051532, 0.9990676744983006, 0.13152397832196908, 0.8680582569249958, 0.9994814840360893, 0.9990754065284824, 0.20849009496918616, 0.7911504137097385, 0.11501097936176577, 0.8846261162575818, 0.0004739911177609719, 0.9991732762401289, 0.9991893964554536, 0.9996683970000007, 0.9998705191078011, 0.9994743370606733, 0.21792869074535973, 0.7624440511269239, 0.01960745483744567, 0.9988879579736233, 0.9997677585724054, 0.9997952059085333, 0.9735663033864512, 0.0003096584934435278, 0.0003096584934435278, 0.025391996462369275, 0.9992346483592979, 0.9985741196534555, 0.998957219659172, 0.9996740439920059, 0.9990340036119021, 0.17415515937329368, 0.04809630236589847, 0.03917521402383666, 0.7381230919540709, 0.999504036712698, 0.9995799197721261, 0.9997716980908621, 0.9997456899349382, 0.9998029318761735, 0.02869894994167985, 0.14710359970106557, 0.0527579498927887, 0.7714346484323404, 0.9996658443345348, 0.99894047744671, 0.9989404816263608, 0.030721810990674638, 0.30721810990674636, 0.0007062485285212561, 0.003884366906866908, 0.6575173800532894, 0.9995250432529871, 0.06499218961343349, 0.32404124727075095, 0.6109878957527026, 0.007021534155978662, 0.9925440067629836, 0.999267968639047, 0.9990809154724328, 0.9995580247101437, 0.9996449498757568, 0.999757295389767, 0.9991643531402085, 0.9993910682679911, 0.9994879469922656, 0.9990448560181797, 0.23950578507228334, 0.5630415659241644, 0.19728781617818594, 0.12030539247574654, 0.18877960795601334, 0.6647705086209236, 0.026628861575659312, 0.9996331072469472, 0.9991937784986814, 0.9991359931037298, 0.9992282353596776, 0.18905540450847122, 0.8108120843813157, 0.20141748606319065, 0.17824556288777935, 0.6202945588494722, 0.9997104942089969, 0.9994588108727119, 0.061310763591028494, 0.039733584988177265, 0.010788589301425615, 0.8878219586100007, 0.9994638843986262, 0.9991832421820281, 0.04039117677034863, 0.06747162483228693, 0.8918188234634932, 0.004755997130302515, 0.9945318443588147, 0.0009177589441613038, 0.9989806107195792, 0.9993814665122043, 0.050820077900381046, 0.33432904040047634, 0.0038695490787092166, 0.6106148446203143, 0.9992162219206684, 0.9996372075234001, 0.9995829593541296, 0.9988003172675095, 0.9996244969897771, 0.9997115680516431, 0.9991308259639277, 0.998658853388742, 0.9462298112291649, 0.052771918209527396, 0.9997331989197794, 0.9996243626818414, 0.004756642171730837, 0.994666729688604, 0.999331187684599, 0.0004521860577758367, 0.9996286607379649, 0.0001952322268281682, 0.9995890013602212, 0.9998740345213682, 0.011738333681470004, 0.18090843673794949, 0.12900658879341054, 0.49404574994657574, 0.18436088782073476, 0.9993437070225862, 0.9987833027894808, 0.9998942939367012, 0.1492793134939282, 0.8502430464219389, 0.07980559343317302, 0.91966445765847, 0.36470000941787123, 0.6350612151377443, 0.999553299763444, 0.004748796849554461, 0.9946091179344622, 0.9998439090576469, 0.9997241234134648, 0.9996669759262128, 0.9995427391286258, 0.2626259817944458, 0.6403485911524213, 0.0023731263415160764, 0.09452953260372371, 0.9996385824886157, 0.9996286607407205, 0.19437237339298802, 0.48050429361616837, 0.2160789328581948, 0.0009866617938730357, 0.10787502279678522, 0.9996171836313167, 0.9995533039366351, 0.9994899685278538, 0.19433666034949476, 0.007863333077725222, 0.7971921963084284, 0.9992160072461767, 0.9983864245494452, 0.999255257960103, 0.9995102910673499, 0.9991000663514169, 0.9993229519630198, 0.9994852892289683, 0.9997291826672369, 0.9994985745247935, 0.9995566812104207, 0.0005278634461870253, 0.998717640185852, 0.9997131323338266, 0.9994785676701715, 0.9995755517210418, 0.9997846542833891, 0.999460093715793, 0.9990958924317301, 0.9998014188394017, 0.9997300292693354, 0.0004081209094185835, 0.0004081209094185835, 0.13590426283638832, 0.8631757234203041, 0.0010567725557840387, 0.9986500652159165, 0.9986068119712072, 0.6878483075927118, 0.1731771306211476, 0.024556875243176027, 0.049369551270135134, 0.06497339908090323, 0.9984872375443309, 0.9993349956298271, 0.9440498717865512, 0.05546773534057107, 0.16647368014114425, 0.0033582586771988754, 0.829969644507722, 0.9989507686583404, 0.15433335127302855, 0.8455330242860424, 0.9996403412462809, 0.9997444571634455, 0.7115378185785729, 0.1559247080287363, 0.13238890304326667, 0.9998060979370836, 0.001135099153279862, 0.9926442095432394, 0.006243045343039241, 0.997655648068843, 0.002008702647118476, 0.15425050019602277, 0.7336993687334381, 0.11185180249816311, 0.9991709739127093, 0.07139234914025881, 0.8728830187851957, 0.055217520038168925, 0.9996774549092979, 0.9996286607386946, 0.94762456055598, 0.014018997276087838, 0.03817939683700518, 0.9995807515351525, 0.29010938009122483, 0.19085052790287005, 0.1163545835151591, 0.07449594438771094, 0.02921815899490193, 0.299019882479741, 0.20227332240252613, 0.040108898117423984, 0.7575741015109996, 0.9995216123249545, 0.18879078030137111, 0.8103560542444098, 0.0005158218041021068, 0.007556297363098697, 0.18860518218294348, 0.002720267050715531, 0.8009675204884619, 0.10449991101561257, 0.2941899668809093, 0.12002344852155501, 0.34795441385271, 0.062283461456769086, 0.0709917873747368, 0.999535803232589, 0.11733385079501103, 0.8823505579784829, 0.75777779186691, 0.16041048987384926, 0.08173782923508242, 0.75768189639659, 0.16003502741619516, 0.0822449819697791, 0.9995373905421634, 0.9994932846153666, 0.09066193984134759, 0.2310914977232647, 0.04861023157450977, 0.6300040330251941, 0.999649060675344, 0.17133182768340322, 0.45103254990860564, 0.3774748924402894, 0.7427015593674902, 0.05250878371621468, 0.204621858193084, 0.9997714890763871, 0.9996003237420571, 0.4969120565844546, 0.0037697739611633253, 0.14744004825883228, 0.22325439125556137, 0.12859117845301565, 0.0009234904811653874, 0.9987549553803665, 0.7116235849888973, 0.15577934312460057, 0.13244397593589521, 0.07928331818507835, 0.2659955325109378, 0.6544837916178218, 0.9997468083020127, 0.9996591678915224, 0.9996098488505362, 0.999497589375841, 0.9994595847827757, 0.9989773246896932], \"Term\": [\"act\", \"act insurrection\", \"actual\", \"actual\", \"actual coup\", \"ago\", \"ago heart\", \"allowed\", \"allowed run\", \"amendment\", \"amendment\", \"amendment control\", \"american\", \"american\", \"american\", \"american\", \"american thing\", \"armed\", \"arrest\", \"arrest\", \"arsenal\", \"arsenal impeachment\", \"assault\", \"assault democracy\", \"attempt\", \"attempt\", \"attempt\", \"attempt\", \"attempt\", \"attempt\", \"attempted\", \"attempted\", \"attempted\", \"attempted\", \"attempted\", \"attempted\", \"attempted coup\", \"attempted coup\", \"attempted coup\", \"attempted coup\", \"attempted coup\", \"attempted coup\", \"attempted seditious\", \"backed\", \"backyard\", \"backyard today\", \"biden\", \"biden\", \"black\", \"black\", \"black\", \"black\", \"black capitol\", \"blm\", \"blood\", \"blood hand\", \"board\", \"board\", \"board\", \"board sen\", \"bos\", \"bos work\", \"breach\", \"calling\", \"calling\", \"calling\", \"calling\", \"calling removal\", \"calling removal\", \"capitol\", \"capitol\", \"capitol\", \"capitol\", \"capitol\", \"capitol\", \"capitol coup\", \"capitol coup\", \"capitol worker\", \"cia\", \"city\", \"city star\", \"cleaning\", \"cleaning white\", \"color\", \"color mayonnaise\", \"commission\", \"complicit\", \"congress\", \"congress\", \"congress\", \"congress\", \"control\", \"control nuclear\", \"corrupt\", \"corrupt president\", \"coup act\", \"coup attempt\", \"coup attempt\", \"coup attempt\", \"coup attempt\", \"coup attempt\", \"coup attempt\", \"coup backyard\", \"coup color\", \"coup couple\", \"coup etat\", \"coup honestly\", \"coup involved\", \"coup need\", \"coup point\", \"coup sign\", \"coup superspreader\", \"coup trump\", \"couple\", \"couple\", \"couple ago\", \"coverage\", \"coverage coup\", \"crisis\", \"cruz\", \"cruz\", \"curfew\", \"curfew pm\", \"day\", \"day\", \"day\", \"day\", \"dc\", \"dc\", \"dc resident\", \"democracy\", \"democracy\", \"democracy\", \"democracy sen\", \"donald\", \"donald\", \"donald\", \"donald trump\", \"donald trump\", \"donald trump\", \"doomscrolling\", \"doomscrolling coup\", \"editorial\", \"editorial\", \"editorial board\", \"egged\", \"egged corrupt\", \"election\", \"election\", \"election\", \"encouraged\", \"encouraged\", \"encouraged\", \"encouraged attempted\", \"endure\", \"endure coup\", \"enforcement\", \"enforcement white\", \"etat\", \"event\", \"expelled\", \"expulsion\", \"expulsion cruz\", \"fascist\", \"fascist\", \"fascist\", \"fascist\", \"fear personal\", \"forget\", \"friend\", \"friend\", \"friend said\", \"fucking\", \"going\", \"going\", \"gop\", \"gop\", \"gop member\", \"gop member\", \"group\", \"hand\", \"hand capitol\", \"happened\", \"hawley\", \"hawley\", \"hawley\", \"hawley attempted\", \"hawley blood\", \"heard\", \"heart\", \"heart\", \"heart\", \"heart\", \"help\", \"high\", \"home\", \"honestly\", \"honestly american\", \"house\", \"house\", \"house\", \"house\", \"house member\", \"image\", \"image black\", \"impeach\", \"impeach remove\", \"impeachment\", \"impeachment\", \"impeachment\", \"impeachment\", \"impeachment removal\", \"inaugurating\", \"inaugurating joe\", \"insurrection\", \"insurrection\", \"insurrection\", \"insurrection\", \"insurrection\", \"insurrection egged\", \"involved\", \"involved\", \"involved\", \"involved today\", \"involved today\", \"joe\", \"joe biden\", \"join\", \"josh\", \"josh hawley\", \"kansa\", \"kansa city\", \"kcstar\", \"kcstar editorial\", \"know\", \"know\", \"know\", \"law\", \"law\", \"law\", \"law\", \"law enforcement\", \"leading\", \"learning\", \"learning coup\", \"live\", \"live\", \"make\", \"make\", \"make\", \"make sense\", \"mayonnaise\", \"member\", \"member\", \"member\", \"member\", \"member involved\", \"member supported\", \"message\", \"message\", \"message\", \"message stand\", \"message stand\", \"nationalist\", \"nationalist\", \"nationalist trump\", \"need\", \"need\", \"need\", \"need\", \"need expelled\", \"nuclear\", \"nuclear arsenal\", \"operation th\", \"order operation\", \"overthrow\", \"overthrow democracy\", \"pandemic\", \"peaceful\", \"peaceful\", \"personal\", \"petition\", \"petition send\", \"petition send\", \"pm\", \"pm\", \"pm fear\", \"point\", \"point\", \"point impeachment\", \"president\", \"president\", \"president\", \"president\", \"president\", \"president donald\", \"president overthrow\", \"president staging\", \"protest\", \"protest\", \"really\", \"really\", \"removal\", \"removal\", \"removal allowed\", \"removal gop\", \"removal gop\", \"remove\", \"remove president\", \"representation\", \"representation congress\", \"republican\", \"republican\", \"republican\", \"republican\", \"resident\", \"resident endure\", \"right\", \"right\", \"right\", \"right\", \"right\", \"run\", \"run expulsion\", \"safety\", \"said\", \"said\", \"said\", \"said supposed\", \"school\", \"seditionist\", \"seditionist house\", \"seditious\", \"seditious coup\", \"seen\", \"sen\", \"sen josh\", \"send\", \"send message\", \"send message\", \"sense\", \"sign\", \"sign petition\", \"sorry\", \"sorry bos\", \"staggering\", \"staging\", \"staging coup\", \"stand\", \"stand\", \"stand\", \"stand\", \"stand treason\", \"stand treason\", \"start\", \"state\", \"state\", \"state\", \"state\", \"state\", \"superspreader\", \"superspreader event\", \"support\", \"support\", \"supported\", \"supported\", \"supported\", \"supported encouraged\", \"supporter\", \"supporter\", \"supposed\", \"supposed working\", \"supremacist\", \"supremacist\", \"supremacist\", \"supremacist thug\", \"th\", \"th\", \"th\", \"th amendment\", \"th amendment\", \"thing\", \"thing\", \"thing\", \"thing ve\", \"think\", \"think\", \"think\", \"thousand\", \"thousand dc\", \"thug\", \"thug\", \"thug\", \"thug attempted\", \"today\", \"today\", \"today\", \"today\", \"today\", \"today\", \"today coup\", \"today coup\", \"today coup\", \"today curfew\", \"traitor\", \"traitor\", \"traitor\", \"treason\", \"treason\", \"treason\", \"treason\", \"trump\", \"trump\", \"trump\", \"trump\", \"trump\", \"trump\", \"trump attempted\", \"trump supporter\", \"trump supporter\", \"united\", \"united\", \"united\", \"united state\", \"united state\", \"united state\", \"ve\", \"ve heard\", \"violence\", \"violence\", \"violence\", \"violence\", \"violence capitol\", \"violent\", \"violent\", \"violent\", \"want\", \"want\", \"want\", \"watching\", \"watching coup\", \"white\", \"white\", \"white\", \"white\", \"white\", \"white nationalist\", \"white nationalist\", \"white supremacist\", \"white supremacist\", \"white supremacist\", \"work\", \"work\", \"work\", \"work doomscrolling\", \"worker\", \"worker cleaning\", \"working\", \"working coup\", \"yes\"]}, \"R\": 30, \"lambda.step\": 0.01, \"plot.opts\": {\"xlab\": \"PC1\", \"ylab\": \"PC2\"}, \"topic.order\": [2, 6, 3, 4, 1, 5]};\n",
       "\n",
       "function LDAvis_load_lib(url, callback){\n",
       "  var s = document.createElement('script');\n",
       "  s.src = url;\n",
       "  s.async = true;\n",
       "  s.onreadystatechange = s.onload = callback;\n",
       "  s.onerror = function(){console.warn(\"failed to load library \" + url);};\n",
       "  document.getElementsByTagName(\"head\")[0].appendChild(s);\n",
       "}\n",
       "\n",
       "if(typeof(LDAvis) !== \"undefined\"){\n",
       "   // already loaded: just create the visualization\n",
       "   !function(LDAvis){\n",
       "       new LDAvis(\"#\" + \"ldavis_el21411406867819446566300283412\", ldavis_el21411406867819446566300283412_data);\n",
       "   }(LDAvis);\n",
       "}else if(typeof define === \"function\" && define.amd){\n",
       "   // require.js is available: use it to load d3/LDAvis\n",
       "   require.config({paths: {d3: \"https://cdnjs.cloudflare.com/ajax/libs/d3/3.5.5/d3.min\"}});\n",
       "   require([\"d3\"], function(d3){\n",
       "      window.d3 = d3;\n",
       "      LDAvis_load_lib(\"https://cdn.rawgit.com/bmabey/pyLDAvis/files/ldavis.v1.0.0.js\", function(){\n",
       "        new LDAvis(\"#\" + \"ldavis_el21411406867819446566300283412\", ldavis_el21411406867819446566300283412_data);\n",
       "      });\n",
       "    });\n",
       "}else{\n",
       "    // require.js not available: dynamically load d3 & LDAvis\n",
       "    LDAvis_load_lib(\"https://cdnjs.cloudflare.com/ajax/libs/d3/3.5.5/d3.min.js\", function(){\n",
       "         LDAvis_load_lib(\"https://cdn.rawgit.com/bmabey/pyLDAvis/files/ldavis.v1.0.0.js\", function(){\n",
       "                 new LDAvis(\"#\" + \"ldavis_el21411406867819446566300283412\", ldavis_el21411406867819446566300283412_data);\n",
       "            })\n",
       "         });\n",
       "}\n",
       "</script>"
      ],
      "text/plain": [
       "PreparedData(topic_coordinates=               x          y  topics  cluster       Freq\n",
       "topic                                                  \n",
       "1      1.465019  -47.625065  1       1        24.293056\n",
       "5      54.854797 -36.476795  2       1        18.700425\n",
       "2      32.212929 -61.444572  3       1        16.000638\n",
       "3      5.111096  -14.110332  4       1        14.350877\n",
       "0      26.350170 -33.374702  5       1        13.913050\n",
       "4      38.109818 -7.222781   6       1        12.741953, topic_info=                Term         Freq         Total Category  logprob  loglift\n",
       "1436  remove          5351.000000  5351.000000   Default  30.0000  30.0000\n",
       "1309  point           5122.000000  5122.000000   Default  29.0000  29.0000\n",
       "884   impeach         5109.000000  5109.000000   Default  28.0000  28.0000\n",
       "1645  staging         4932.000000  4932.000000   Default  27.0000  27.0000\n",
       "1646  staging coup    4794.000000  4794.000000   Default  26.0000  26.0000\n",
       "...            ...            ...          ...       ...      ...      ...\n",
       "928   insurrection    1861.606872  2831.864307   Topic6  -4.5876   1.6408 \n",
       "142   attempted coup  3212.972684  10471.933703  Topic6  -4.0419   0.8788 \n",
       "1797  today           2886.355773  9651.532119   Topic6  -4.1491   0.8531 \n",
       "141   attempted       2915.449106  11124.052991  Topic6  -4.1391   0.7212 \n",
       "1912  violence        1632.894220  2592.046899   Topic6  -4.7187   1.5982 \n",
       "\n",
       "[318 rows x 6 columns], token_table=      Topic      Freq              Term\n",
       "term                                   \n",
       "11    6      0.999591  act             \n",
       "12    6      0.999482  act insurrection\n",
       "23    2      0.055034  actual          \n",
       "23    5      0.944530  actual          \n",
       "24    5      0.999132  actual coup     \n",
       "...  ..           ...     ...          \n",
       "1975  1      0.999659  worker          \n",
       "1976  1      0.999610  worker cleaning \n",
       "1977  5      0.999498  working         \n",
       "1978  5      0.999460  working coup    \n",
       "1995  4      0.998977  yes             \n",
       "\n",
       "[460 rows x 3 columns], R=30, lambda_step=0.01, plot_opts={'xlab': 'PC1', 'ylab': 'PC2'}, topic_order=[2, 6, 3, 4, 1, 5])"
      ]
     },
     "execution_count": 43,
     "metadata": {},
     "output_type": "execute_result"
    }
   ],
   "source": [
    "# visualization of LDA model \n",
    "import pyLDAvis.sklearn\n",
    "\n",
    "pyLDAvis.enable_notebook()\n",
    "panel = pyLDAvis.sklearn.prepare(lda_model, doc_term_matrix_1, tfidfconverter, mds='tsne')\n",
    "panel"
   ]
  },
  {
   "cell_type": "code",
   "execution_count": 44,
   "metadata": {},
   "outputs": [
    {
     "name": "stdout",
     "output_type": "stream",
     "text": [
      "Log Likelihood:  -9807640.522798294\n",
      "Perplexity:  926.679348773292\n"
     ]
    }
   ],
   "source": [
    "# test LDA model\n",
    "\n",
    "# log likelihood (higher score is better)\n",
    "print(\"Log Likelihood: \", lda_model.score(doc_term_matrix_1))\n",
    "\n",
    "# perplexity (lower score is better)\n",
    "print(\"Perplexity: \", lda_model.perplexity(doc_term_matrix_1))"
   ]
  },
  {
   "cell_type": "code",
   "execution_count": null,
   "metadata": {},
   "outputs": [],
   "source": []
  },
  {
   "cell_type": "code",
   "execution_count": null,
   "metadata": {},
   "outputs": [],
   "source": []
  },
  {
   "cell_type": "code",
   "execution_count": null,
   "metadata": {},
   "outputs": [],
   "source": []
  },
  {
   "cell_type": "code",
   "execution_count": null,
   "metadata": {},
   "outputs": [],
   "source": []
  }
 ],
 "metadata": {
  "kernelspec": {
   "display_name": "Python 3",
   "language": "python",
   "name": "python3"
  },
  "language_info": {
   "codemirror_mode": {
    "name": "ipython",
    "version": 3
   },
   "file_extension": ".py",
   "mimetype": "text/x-python",
   "name": "python",
   "nbconvert_exporter": "python",
   "pygments_lexer": "ipython3",
   "version": "3.7.7"
  }
 },
 "nbformat": 4,
 "nbformat_minor": 4
}
