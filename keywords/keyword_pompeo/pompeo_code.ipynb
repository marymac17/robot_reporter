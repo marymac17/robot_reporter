{
 "cells": [
  {
   "cell_type": "markdown",
   "metadata": {},
   "source": [
    "# Part 1: Data import and cleaning"
   ]
  },
  {
   "cell_type": "code",
   "execution_count": 1,
   "metadata": {},
   "outputs": [],
   "source": [
    "#import initial libraries\n",
    "\n",
    "import pandas as pd\n",
    "import numpy as np"
   ]
  },
  {
   "cell_type": "code",
   "execution_count": 2,
   "metadata": {},
   "outputs": [
    {
     "name": "stderr",
     "output_type": "stream",
     "text": [
      "/opt/anaconda3/lib/python3.7/site-packages/IPython/core/interactiveshell.py:3072: DtypeWarning: Columns (7) have mixed types.Specify dtype option on import or set low_memory=False.\n",
      "  interactivity=interactivity, compiler=compiler, result=result)\n"
     ]
    }
   ],
   "source": [
    "#import data (retweets removed in Twarc)\n",
    "df_0 = pd.read_csv('data/pompeo.csv')\n",
    "df = pd.read_csv('data/pompeo_NR.csv')"
   ]
  },
  {
   "cell_type": "code",
   "execution_count": 3,
   "metadata": {},
   "outputs": [
    {
     "name": "stdout",
     "output_type": "stream",
     "text": [
      "<class 'pandas.core.frame.DataFrame'>\n",
      "RangeIndex: 155686 entries, 0 to 155685\n",
      "Data columns (total 37 columns):\n",
      " #   Column                        Non-Null Count   Dtype  \n",
      "---  ------                        --------------   -----  \n",
      " 0   id                            155686 non-null  int64  \n",
      " 1   tweet_url                     155686 non-null  object \n",
      " 2   created_at                    155686 non-null  object \n",
      " 3   parsed_created_at             155686 non-null  object \n",
      " 4   user_screen_name              155686 non-null  object \n",
      " 5   text                          155686 non-null  object \n",
      " 6   tweet_type                    155686 non-null  object \n",
      " 7   coordinates                   3 non-null       object \n",
      " 8   hashtags                      17239 non-null   object \n",
      " 9   media                         5462 non-null    object \n",
      " 10  urls                          21945 non-null   object \n",
      " 11  favorite_count                155686 non-null  int64  \n",
      " 12  in_reply_to_screen_name       14952 non-null   object \n",
      " 13  in_reply_to_status_id         14540 non-null   float64\n",
      " 14  in_reply_to_user_id           14953 non-null   float64\n",
      " 15  lang                          155686 non-null  object \n",
      " 16  place                         374 non-null     object \n",
      " 17  possibly_sensitive            26875 non-null   object \n",
      " 18  retweet_count                 155686 non-null  int64  \n",
      " 19  retweet_or_quote_id           128683 non-null  float64\n",
      " 20  retweet_or_quote_screen_name  128683 non-null  object \n",
      " 21  retweet_or_quote_user_id      128683 non-null  float64\n",
      " 22  source                        155655 non-null  object \n",
      " 23  user_id                       155686 non-null  int64  \n",
      " 24  user_created_at               155686 non-null  object \n",
      " 25  user_default_profile_image    155686 non-null  bool   \n",
      " 26  user_description              123655 non-null  object \n",
      " 27  user_favourites_count         155686 non-null  int64  \n",
      " 28  user_followers_count          155686 non-null  int64  \n",
      " 29  user_friends_count            155686 non-null  int64  \n",
      " 30  user_listed_count             155686 non-null  int64  \n",
      " 31  user_location                 94175 non-null   object \n",
      " 32  user_name                     155677 non-null  object \n",
      " 33  user_statuses_count           155686 non-null  int64  \n",
      " 34  user_time_zone                0 non-null       float64\n",
      " 35  user_urls                     25940 non-null   object \n",
      " 36  user_verified                 155686 non-null  bool   \n",
      "dtypes: bool(2), float64(5), int64(9), object(21)\n",
      "memory usage: 41.9+ MB\n"
     ]
    }
   ],
   "source": [
    "# loot at data before retweets removed\n",
    "\n",
    "df_0.info()\n",
    "\n",
    "# 155686 Tweets before retweets removed"
   ]
  },
  {
   "cell_type": "code",
   "execution_count": 5,
   "metadata": {},
   "outputs": [
    {
     "name": "stdout",
     "output_type": "stream",
     "text": [
      "<class 'pandas.core.frame.DataFrame'>\n",
      "RangeIndex: 30496 entries, 0 to 30495\n",
      "Data columns (total 37 columns):\n",
      " #   Column                        Non-Null Count  Dtype  \n",
      "---  ------                        --------------  -----  \n",
      " 0   id                            30496 non-null  int64  \n",
      " 1   tweet_url                     30496 non-null  object \n",
      " 2   created_at                    30496 non-null  object \n",
      " 3   parsed_created_at             30496 non-null  object \n",
      " 4   user_screen_name              30496 non-null  object \n",
      " 5   text                          30496 non-null  object \n",
      " 6   tweet_type                    30496 non-null  object \n",
      " 7   coordinates                   3 non-null      object \n",
      " 8   hashtags                      3194 non-null   object \n",
      " 9   media                         2532 non-null   object \n",
      " 10  urls                          12308 non-null  object \n",
      " 11  favorite_count                30496 non-null  int64  \n",
      " 12  in_reply_to_screen_name       14952 non-null  object \n",
      " 13  in_reply_to_status_id         14540 non-null  float64\n",
      " 14  in_reply_to_user_id           14953 non-null  float64\n",
      " 15  lang                          30496 non-null  object \n",
      " 16  place                         374 non-null    object \n",
      " 17  possibly_sensitive            14057 non-null  object \n",
      " 18  retweet_count                 30496 non-null  int64  \n",
      " 19  retweet_or_quote_id           3493 non-null   float64\n",
      " 20  retweet_or_quote_screen_name  3493 non-null   object \n",
      " 21  retweet_or_quote_user_id      3493 non-null   float64\n",
      " 22  source                        30481 non-null  object \n",
      " 23  user_id                       30496 non-null  int64  \n",
      " 24  user_created_at               30496 non-null  object \n",
      " 25  user_default_profile_image    30496 non-null  bool   \n",
      " 26  user_description              25217 non-null  object \n",
      " 27  user_favourites_count         30496 non-null  int64  \n",
      " 28  user_followers_count          30496 non-null  int64  \n",
      " 29  user_friends_count            30496 non-null  int64  \n",
      " 30  user_listed_count             30496 non-null  int64  \n",
      " 31  user_location                 18630 non-null  object \n",
      " 32  user_name                     30495 non-null  object \n",
      " 33  user_statuses_count           30496 non-null  int64  \n",
      " 34  user_time_zone                0 non-null      float64\n",
      " 35  user_urls                     7823 non-null   object \n",
      " 36  user_verified                 30496 non-null  bool   \n",
      "dtypes: bool(2), float64(5), int64(9), object(21)\n",
      "memory usage: 8.2+ MB\n"
     ]
    }
   ],
   "source": [
    "# look at basic info about data\n",
    "\n",
    "df.info()\n",
    "# this data set consists of 30496 Tweets"
   ]
  },
  {
   "cell_type": "code",
   "execution_count": null,
   "metadata": {},
   "outputs": [],
   "source": []
  }
 ],
 "metadata": {
  "kernelspec": {
   "display_name": "Python 3",
   "language": "python",
   "name": "python3"
  },
  "language_info": {
   "codemirror_mode": {
    "name": "ipython",
    "version": 3
   },
   "file_extension": ".py",
   "mimetype": "text/x-python",
   "name": "python",
   "nbconvert_exporter": "python",
   "pygments_lexer": "ipython3",
   "version": "3.7.7"
  }
 },
 "nbformat": 4,
 "nbformat_minor": 4
}
