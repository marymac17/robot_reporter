{
 "cells": [
  {
   "cell_type": "markdown",
   "metadata": {},
   "source": [
    "# Part 1: Data cleaning"
   ]
  },
  {
   "cell_type": "code",
   "execution_count": 1,
   "metadata": {},
   "outputs": [],
   "source": [
    "#import initial libraries\n",
    "\n",
    "import numpy as np\n",
    "import pandas as pd"
   ]
  },
  {
   "cell_type": "code",
   "execution_count": 2,
   "metadata": {},
   "outputs": [
    {
     "name": "stderr",
     "output_type": "stream",
     "text": [
      "/opt/anaconda3/lib/python3.7/site-packages/IPython/core/interactiveshell.py:3072: DtypeWarning: Columns (7,16) have mixed types.Specify dtype option on import or set low_memory=False.\n",
      "  interactivity=interactivity, compiler=compiler, result=result)\n"
     ]
    }
   ],
   "source": [
    "#import data (retweets removed in Twarc)\n",
    "\n",
    "df = pd.read_csv('data/jack_NR.csv')"
   ]
  },
  {
   "cell_type": "code",
   "execution_count": 3,
   "metadata": {},
   "outputs": [
    {
     "name": "stdout",
     "output_type": "stream",
     "text": [
      "<class 'pandas.core.frame.DataFrame'>\n",
      "RangeIndex: 32802 entries, 0 to 32801\n",
      "Data columns (total 37 columns):\n",
      " #   Column                        Non-Null Count  Dtype  \n",
      "---  ------                        --------------  -----  \n",
      " 0   id                            32802 non-null  int64  \n",
      " 1   tweet_url                     32802 non-null  object \n",
      " 2   created_at                    32802 non-null  object \n",
      " 3   parsed_created_at             32802 non-null  object \n",
      " 4   user_screen_name              32802 non-null  object \n",
      " 5   text                          32802 non-null  object \n",
      " 6   tweet_type                    32802 non-null  object \n",
      " 7   coordinates                   5 non-null      object \n",
      " 8   hashtags                      3685 non-null   object \n",
      " 9   media                         1982 non-null   object \n",
      " 10  urls                          9883 non-null   object \n",
      " 11  favorite_count                32802 non-null  int64  \n",
      " 12  in_reply_to_screen_name       32802 non-null  object \n",
      " 13  in_reply_to_status_id         8599 non-null   float64\n",
      " 14  in_reply_to_user_id           32802 non-null  int64  \n",
      " 15  lang                          32802 non-null  object \n",
      " 16  place                         856 non-null    object \n",
      " 17  possibly_sensitive            11717 non-null  object \n",
      " 18  retweet_count                 32802 non-null  int64  \n",
      " 19  retweet_or_quote_id           9453 non-null   float64\n",
      " 20  retweet_or_quote_screen_name  9453 non-null   object \n",
      " 21  retweet_or_quote_user_id      9453 non-null   float64\n",
      " 22  source                        32802 non-null  object \n",
      " 23  user_id                       32802 non-null  int64  \n",
      " 24  user_created_at               32802 non-null  object \n",
      " 25  user_default_profile_image    32802 non-null  bool   \n",
      " 26  user_description              28057 non-null  object \n",
      " 27  user_favourites_count         32802 non-null  int64  \n",
      " 28  user_followers_count          32802 non-null  int64  \n",
      " 29  user_friends_count            32802 non-null  int64  \n",
      " 30  user_listed_count             32802 non-null  int64  \n",
      " 31  user_location                 22439 non-null  object \n",
      " 32  user_name                     32798 non-null  object \n",
      " 33  user_statuses_count           32802 non-null  int64  \n",
      " 34  user_time_zone                0 non-null      float64\n",
      " 35  user_urls                     7335 non-null   object \n",
      " 36  user_verified                 32802 non-null  bool   \n",
      "dtypes: bool(2), float64(4), int64(10), object(21)\n",
      "memory usage: 8.8+ MB\n"
     ]
    }
   ],
   "source": [
    "# look at basic info about data\n",
    "\n",
    "df.info()\n",
    "# this data set consists of 32802 Tweets"
   ]
  },
  {
   "cell_type": "code",
   "execution_count": 4,
   "metadata": {},
   "outputs": [
    {
     "name": "stdout",
     "output_type": "stream",
     "text": [
      "43 ['und' 'en' 'es' 'bg' 'it' 'in' 'ar' 'pt' 'et' 'tr' 'tl' 'pl' 'sv' 'fa'\n",
      " 'fr' 'eu' 'no' 'de' 'hi' 'ht' 'fi' 'lv' 'ja' 'ta' 'vi' 'cy' 'nl' 'da'\n",
      " 'ro' 'sl' 'ml' 'ru' 'ur' 'hu' 'ca' 'iw' 'bn' 'zh' 'ko' 'cs' 'sd' 'lt'\n",
      " 'ne']\n"
     ]
    }
   ],
   "source": [
    "# count number of languages in data set\n",
    "\n",
    "count_lang = df['lang'].unique()\n",
    "print(len(count_lang), count_lang)"
   ]
  },
  {
   "cell_type": "code",
   "execution_count": 5,
   "metadata": {},
   "outputs": [
    {
     "data": {
      "text/plain": [
       "(25925, 37)"
      ]
     },
     "execution_count": 5,
     "metadata": {},
     "output_type": "execute_result"
    }
   ],
   "source": [
    "# tweets are in 43 different languages\n",
    "\n",
    "# I'll be working only with tweets in English\n",
    "# drop tweets in all other languages\n",
    "# now working with 64965 Tweets \n",
    "\n",
    "df = df[df.lang == 'en']\n",
    "df.shape"
   ]
  },
  {
   "cell_type": "code",
   "execution_count": 6,
   "metadata": {},
   "outputs": [],
   "source": [
    "# drop unnecessary columns \n",
    "df = df.drop(['tweet_url', 'created_at', 'media', 'urls','in_reply_to_screen_name',\n",
    "       'in_reply_to_status_id', 'in_reply_to_user_id', 'retweet_or_quote_id',\n",
    "       'retweet_or_quote_screen_name', 'retweet_or_quote_user_id', 'source',\n",
    "       'user_created_at', 'user_name', 'user_verified', 'user_friends_count', 'user_listed_count',\n",
    "       'user_statuses_count', 'user_default_profile_image', 'user_description',\n",
    "       'user_favourites_count', 'user_followers_count', 'coordinates', 'lang'], axis=1)"
   ]
  },
  {
   "cell_type": "code",
   "execution_count": 7,
   "metadata": {},
   "outputs": [
    {
     "data": {
      "text/plain": [
       "id                                                  1347439190196314114\n",
       "parsed_created_at                             2021-01-08 07:05:11+00:00\n",
       "user_screen_name                                             SrslySteve\n",
       "text                  @jack You have more in common with the Cuecat ...\n",
       "tweet_type                                                        reply\n",
       "hashtags                                                            NaN\n",
       "favorite_count                                                        0\n",
       "place                                                               NaN\n",
       "possibly_sensitive                                                  NaN\n",
       "retweet_count                                                         0\n",
       "user_id                                                      4707712217\n",
       "user_location                                         Between the Lines\n",
       "user_time_zone                                                      NaN\n",
       "user_urls                                                           NaN\n",
       "Name: 3, dtype: object"
      ]
     },
     "execution_count": 7,
     "metadata": {},
     "output_type": "execute_result"
    }
   ],
   "source": [
    "# check start time & date of data\n",
    "\n",
    "df.iloc[0]\n",
    "\n",
    "# first Tweet 2021-01-08 07:05:11"
   ]
  },
  {
   "cell_type": "code",
   "execution_count": 8,
   "metadata": {},
   "outputs": [
    {
     "data": {
      "text/plain": [
       "id                                                  1344768509704810496\n",
       "parsed_created_at                             2020-12-31 22:12:51+00:00\n",
       "user_screen_name                                             bobinfanti\n",
       "text                  @jack \\nPresident-Elect Kristie  and 102 other...\n",
       "tweet_type                                                     original\n",
       "hashtags                                                            NaN\n",
       "favorite_count                                                        0\n",
       "place                                                               NaN\n",
       "possibly_sensitive                                                  NaN\n",
       "retweet_count                                                         0\n",
       "user_id                                                        42769580\n",
       "user_location                                              USA  / ITALY\n",
       "user_time_zone                                                      NaN\n",
       "user_urls                                                           NaN\n",
       "Name: 32801, dtype: object"
      ]
     },
     "execution_count": 8,
     "metadata": {},
     "output_type": "execute_result"
    }
   ],
   "source": [
    "# check end time & date of data \n",
    "\n",
    "df.iloc[-1]\n",
    "\n",
    "# last Tweet  2020-12-31 22:12:51"
   ]
  },
  {
   "cell_type": "markdown",
   "metadata": {},
   "source": [
    "# Part 2: Text processing for NLP "
   ]
  },
  {
   "cell_type": "code",
   "execution_count": 9,
   "metadata": {},
   "outputs": [],
   "source": [
    "# tokenize, remove stopwords, remove urls, lowercase, remove punctuation, remove numbers\n",
    "# import necessary libraries: ntlk etc.\n",
    "\n",
    "import string\n",
    "import re\n",
    "import nltk\n",
    "from nltk.corpus import stopwords\n",
    "from nltk.tokenize import TweetTokenizer\n",
    "from nltk import pos_tag\n",
    "from nltk.stem import WordNetLemmatizer \n",
    "\n",
    "stop = stopwords.words('english')\n",
    "\n",
    "punc = list(set(string.punctuation))\n",
    "\n",
    "def tokenizer(text):\n",
    "    tokenizer = TweetTokenizer()\n",
    "    tokens = tokenizer.tokenize(text)\n",
    "    return tokens\n",
    "\n",
    "def remove_url(text):\n",
    "    url = re.compile(r\"https?://\\S+|www\\.\\S+\")\n",
    "    return url.sub(r'', text)\n",
    "\n",
    "def process_text(text):\n",
    "    text = remove_url(text)\n",
    "    text = tokenizer(text)\n",
    "    text = [word.lower() for word in text]\n",
    "    text = [re.sub('[0-9]+', '', word) for word in text]\n",
    "    text = [word for word in text if word not in punc]\n",
    "    text = [word for word in text if word not in stop]\n",
    "    text = [each for each in text if len(each) > 1]\n",
    "    text = [word for word in text if ' ' not in word]\n",
    "     \n",
    "    return text"
   ]
  },
  {
   "cell_type": "code",
   "execution_count": 10,
   "metadata": {},
   "outputs": [],
   "source": [
    "# apply text processing functions to text\n",
    "df['processed_text'] = df['text'].apply(process_text)"
   ]
  },
  {
   "cell_type": "code",
   "execution_count": 11,
   "metadata": {},
   "outputs": [
    {
     "name": "stderr",
     "output_type": "stream",
     "text": [
      "/opt/anaconda3/lib/python3.7/site-packages/ipykernel_launcher.py:2: FutureWarning: Passing a negative integer is deprecated in version 1.0 and will not be supported in future version. Instead, use None to not limit the column width.\n",
      "  \n"
     ]
    },
    {
     "data": {
      "text/plain": [
       "3     [@jack, common, cuecat, guy, woz, know, hope, sleep, well, mountain, gold]                                                                                                                            \n",
       "4     [@jack, time, act, responsible]                                                                                                                                                                       \n",
       "7     [@jack, awesome, great, job, fb, walmart, twitter, target, smaller, always, bad]                                                                                                                      \n",
       "8     [@jack, twitter, apparently, give, shit, post, porn, sexually, explicit, media, platform, god, forbid, share, unpopular, opinion, election, pathetic]                                                 \n",
       "11    [@jack, right, thing, trump, clear, present, danger, america, cannot, allowed, incite, widespread, #seditionism, via, social, media, #deletetrumpstwitter, #deletehisaccount, #bantrumpfromtwitter]   \n",
       "12    [@jack, fuck, wrong, twitter, tweet, sucking, dick, sexually, explicit, things, yet, sexually, explicit, option, reporting, tweet, yet, option, misleading, political, election, give, fucking, break]\n",
       "13    [@jack, goddamn, pathetic, restoring, despot's, platform, sow, discontent, culpable, whar, happened, wednesday, blood, head, fuck, coward]                                                            \n",
       "14    [@jack, @twitter, ban, @realdonaldtrump]                                                                                                                                                              \n",
       "15    [@jack, want, answers]                                                                                                                                                                                \n",
       "17    [@jack, please, give, @potus, never, heard, word, father]                                                                                                                                             \n",
       "18    [@jack, @twittersafety, @vp, #pence, finally, deployed, national, guard, according, multiple, sources]                                                                                                \n",
       "19    [@jack, ban, @realdonaldtrump, animals, said, disgusting, things, dancing, music, video, @brandonstraka, posted, @twitter, police, @mikieflex, @tuckercarlson, @kayleighmcenany, @seanhannity]        \n",
       "20    [@jack, time, act, #bantrumpsavedemocracy]                                                                                                                                                            \n",
       "21    [@jack, voice, tweets, android, already]                                                                                                                                                              \n",
       "22    [@jack, probably, put, twitter, jail, cause, i'm, gonna, say, things, republican, idiots, tonight]                                                                                                    \n",
       "23    [@jack, ban, forever, clean, place, @twittersafety, @twitter]                                                                                                                                         \n",
       "24    [@jack, knock, fucking, spam, many, times, call, something, abusive, harmful, remove, fucking, two, faced, liberal, cunts]                                                                            \n",
       "26    [@jack, thought, note, trump, back, twitter, first, post, return, trump, lies, still]                                                                                                                 \n",
       "27    [@jack, forgot]                                                                                                                                                                                       \n",
       "28    [@jack, sh, happens, hands, #shuttrumpdown]                                                                                                                                                           \n",
       "Name: processed_text, dtype: object"
      ]
     },
     "execution_count": 11,
     "metadata": {},
     "output_type": "execute_result"
    }
   ],
   "source": [
    "# look at some of processed text\n",
    "pd.set_option('display.max_colwidth', -1)\n",
    "df['processed_text'][:20]"
   ]
  },
  {
   "cell_type": "code",
   "execution_count": 12,
   "metadata": {},
   "outputs": [],
   "source": [
    "# part-of-speech tagging \n",
    "\n",
    "ready_for_pos = df['processed_text']\n",
    "\n",
    "def pos_tagging(text):\n",
    "    pos_tag = [pos_tag(word) for word in ready_for_pos]\n",
    "\n",
    "df['pos_tagged'] = df.processed_text.apply(lambda x: pos_tag(x))"
   ]
  },
  {
   "cell_type": "code",
   "execution_count": 13,
   "metadata": {},
   "outputs": [],
   "source": [
    "# lemmatizing\n",
    "\n",
    "pos_tagged = df['pos_tagged']\n",
    "\n",
    "wordnet = WordNetLemmatizer() \n",
    "\n",
    "lemmatized = [[wordnet.lemmatize(word[0]) for word in words] for words in pos_tagged]"
   ]
  },
  {
   "cell_type": "code",
   "execution_count": 14,
   "metadata": {},
   "outputs": [],
   "source": [
    "\n",
    "\n",
    "df['lemmatized'] = lemmatized"
   ]
  },
  {
   "cell_type": "code",
   "execution_count": 15,
   "metadata": {},
   "outputs": [
    {
     "name": "stderr",
     "output_type": "stream",
     "text": [
      "/opt/anaconda3/lib/python3.7/site-packages/ipykernel_launcher.py:4: FutureWarning: Passing a negative integer is deprecated in version 1.0 and will not be supported in future version. Instead, use None to not limit the column width.\n",
      "  after removing the cwd from sys.path.\n"
     ]
    },
    {
     "data": {
      "text/plain": [
       "3824    @jack come                                                                                                                                                                       \n",
       "3825    @jack come jack right thing please                                                                                                                                               \n",
       "3826    @jack please nation people great danger would-be dictator tried stage coup yesterday please part keep u safe #removetrumpnow                                                     \n",
       "3827    @jack block twitter zuck                                                                                                                                                         \n",
       "3828    @jack @twitter @twittersafety suspend account @realdonaldtrump @donaldjtrumpjr @ivankatrump @erictrump @potus @flotus january #countryovertrump                                  \n",
       "3830    @jack @twittersupport facebook stepped suspend trump two week please thing something worse happens take responsibility stop allowing trump spread hatred incite violence violence\n",
       "3831    @jack move dude                                                                                                                                                                  \n",
       "3832    @jack @facebook @instagram finally found spine say jack going spend time retweeting fellow billionaire like @elonmusk remove indefinitely @realdonaldtrump                       \n",
       "3833    @jack facebook made move turn #deletetrumpstwitter                                                                                                                               \n",
       "3834    @jack @twittersafety @twitter please #bantrump                                                                                                                                   \n",
       "3836    @jack @twitter please platform foment violent revolution                                                                                                                         \n",
       "3837    @jack @twitter turning back trump account could major mistake please shut                                                                                                        \n",
       "3838    @jack please follow ig fb please let trump platform delete indefinitely                                                                                                          \n",
       "3839    @jack please thing know need done                                                                                                                                                \n",
       "3840    @jack #jack #twitter ban #trump #facebook well character still incites violence                                                                                                  \n",
       "3841    @jack @twittersupport @twittercomms @twitter got showed mark zuckerborg worse mark zuckerborg                                                                                    \n",
       "3842    @jack @twitter @twittersafety keep trump twitter                                                                                                                                 \n",
       "3843    @jack facebook taken action                                                                                                                                                      \n",
       "3844    @jack life constant fear everything except extreme leftism prove wrong                                                                                                           \n",
       "3845    @jack @fipradio time ban trump long past time actually                                                                                                                           \n",
       "Name: final_docs, dtype: object"
      ]
     },
     "execution_count": 15,
     "metadata": {},
     "output_type": "execute_result"
    }
   ],
   "source": [
    "# before vectorizing, cast lists of words back into strings\n",
    "\n",
    "df['final_docs'] = df['lemmatized'].apply(lambda x: \" \".join(x))\n",
    "pd.set_option('display.max_colwidth', -1)\n",
    "final_docs = df['final_docs']\n",
    "final_docs[3000:3020]"
   ]
  },
  {
   "cell_type": "markdown",
   "metadata": {},
   "source": [
    " # Part 3: run NMF and LDA models, for topic modeling"
   ]
  },
  {
   "cell_type": "code",
   "execution_count": 16,
   "metadata": {},
   "outputs": [],
   "source": [
    "#create document term matrix with TFIDF\n",
    "\n",
    "#import vectorizing tool (usee TFIDF)\n",
    "from sklearn.feature_extraction.text import TfidfVectorizer\n",
    "# set max_features to 2000 (specifies the number of most frequently occurring words for which we want to create feature vectors)\n",
    "# set min_df to 5 (word must occur in at least 5 documents)\n",
    "# set max_df to 0.85 (word must not occur in more than 85 percent of the documents) \n",
    "\n",
    "tfidfconverter = TfidfVectorizer(max_features=2000, min_df=5, max_df=0.85, ngram_range=(1, 2), stop_words='english')  \n",
    "doc_term_matrix_1 = tfidfconverter.fit_transform(df['final_docs'].values.astype('U'))"
   ]
  },
  {
   "cell_type": "code",
   "execution_count": 17,
   "metadata": {},
   "outputs": [
    {
     "data": {
      "text/plain": [
       "(25925, 2000)"
      ]
     },
     "execution_count": 17,
     "metadata": {},
     "output_type": "execute_result"
    }
   ],
   "source": [
    "doc_term_matrix_1.shape"
   ]
  },
  {
   "cell_type": "code",
   "execution_count": 18,
   "metadata": {},
   "outputs": [],
   "source": [
    "#run NMF model \n",
    "\n",
    "#import NMF tool \n",
    "from sklearn.decomposition import NMF\n",
    "\n",
    "nmf_model = NMF(n_components=6, max_iter=400)\n",
    "nmf = nmf_model.fit_transform(doc_term_matrix_1)"
   ]
  },
  {
   "cell_type": "code",
   "execution_count": 19,
   "metadata": {},
   "outputs": [],
   "source": [
    "# run LDA model\n",
    "\n",
    "#import LDA tool \n",
    "from sklearn.decomposition import LatentDirichletAllocation\n",
    "\n",
    "lda_model = LatentDirichletAllocation(n_components = 6, max_iter=10, learning_method='online', learning_decay=.9)\n",
    "lda = lda_model.fit_transform(doc_term_matrix_1)"
   ]
  },
  {
   "cell_type": "code",
   "execution_count": 20,
   "metadata": {},
   "outputs": [
    {
     "name": "stdout",
     "output_type": "stream",
     "text": [
      "LDA Model:\n",
      "Topic 0:\n",
      "[('delete', 415.3768662907499), ('account', 373.5986854209935), ('ban', 301.24222779798055), ('time', 290.3529316656378), ('jack delete', 263.74682475237586), ('delete account', 253.03268002008082), ('jack time', 244.48991161925292), ('trump', 225.59821848107546), ('realdonaldtrump', 206.69486436767954), ('deactivate', 203.60509729121716)]\n",
      "Topic 1:\n",
      "[('suspend', 319.189506137023), ('account', 258.7504896738571), ('trump', 247.64415366689792), ('twitter', 231.1296949029342), ('jack suspend', 221.5304092264962), ('remove', 195.9903021684501), ('violence', 142.8376833681999), ('suspend trump', 138.45943120056697), ('trump account', 125.21794966960168), ('realdonaldtrump', 124.05452125673328)]\n",
      "Topic 2:\n",
      "[('verify', 350.8352355528546), ('bitcoin', 334.3093323438503), ('jack jack', 262.0338954083388), ('jack verify', 233.43101826716253), ('thank', 201.24704705741448), ('ericanlewedim', 184.2056320289114), ('suspend account', 151.27411047362298), ('verify ericanlewedim', 151.04049678025825), ('verified', 139.17476758385146), ('twitter', 135.6466904077435)]\n",
      "Topic 3:\n",
      "[('shut', 692.1941071684888), ('jack shut', 524.9236671390465), ('shut trump', 264.4555791323914), ('happy', 249.0413472602008), ('account', 242.6118554976249), ('year', 219.55353468853602), ('new', 217.55598363590485), ('twitter', 213.58303312466919), ('jack happy', 202.4197657783953), ('new year', 193.95895221797494)]\n",
      "Topic 4:\n",
      "[('right', 206.96095176430563), ('thing', 174.29304013248012), ('let', 158.34909792445362), ('follow', 145.74036658602787), ('right thing', 125.72151680421825), ('know', 121.7921077376906), ('btc', 111.14258143120276), ('good', 101.82463145354471), ('twitter', 96.51342703683723), ('jack let', 91.7829182778681)]\n",
      "Topic 5:\n",
      "[('twitter', 324.9707959843358), ('jack twitter', 261.08459044663056), ('twittersupport', 225.9717373794576), ('trump', 221.15468603661031), ('account', 191.44481963905565), ('twittersafety', 179.79513441556077), ('donald', 168.57763838515967), ('jack twittersupport', 157.0545655123034), ('donald trump', 156.61934472141135), ('violence', 147.49422241306922)]\n",
      "==========\n",
      "NMF Model:\n",
      "Topic 0:\n",
      "[('twitter', 3.9318962596057734), ('jack twitter', 3.674983544643241), ('realdonaldtrump', 0.5937587416491305), ('twittersafety', 0.5241124002466407), ('twitter shut', 0.501803346213712), ('twitter twittersafety', 0.47379603993989317), ('twitter twittersupport', 0.3846414058763541), ('twitter account', 0.35480658204039595), ('twittersupport', 0.3324620652715521), ('trump twitter', 0.32770894579214904)]\n",
      "Topic 1:\n",
      "[('jack shut', 2.9407332539034567), ('shut', 2.9317079485204185), ('shut trump', 0.903150587852022), ('shut account', 0.6116352305531914), ('account', 0.3746020103628491), ('shut realdonaldtrump', 0.36781880327725974), ('trump', 0.19659258906457847), ('twitter shut', 0.1946510604980299), ('realdonaldtrump', 0.18514473009515023), ('shut twitter', 0.176117395533327)]\n",
      "Topic 2:\n",
      "[('delete', 2.247889773441289), ('jack delete', 1.9013293539623117), ('delete account', 1.757550912096611), ('account', 1.3299166773253606), ('delete trump', 0.42094405657042056), ('twitter delete', 0.28022128269387864), ('delete realdonaldtrump', 0.2276888908692077), ('realdonaldtrump', 0.19428469253051553), ('realdonaldtrump account', 0.1776206554048606), ('trump account', 0.12600313742000646)]\n",
      "Topic 3:\n",
      "[('happy', 1.7952670427737802), ('year', 1.742061035981552), ('new', 1.7235066236226033), ('new year', 1.683222970061082), ('jack happy', 1.630745348604449), ('happy new', 1.6028247268719664), ('year jack', 0.7231158878769923), ('verify', 0.5333987945621878), ('jack verify', 0.38149690685396825), ('ericanlewedim', 0.3207519532691182)]\n",
      "Topic 4:\n",
      "[('trump', 2.160313007671946), ('account', 1.5647779296139945), ('trump account', 1.3250450418373902), ('suspend', 1.1141427164288422), ('trump twitter', 0.7867276498200537), ('jack suspend', 0.7732296493794779), ('suspend trump', 0.580505102878436), ('twitter account', 0.5359209053437031), ('ban', 0.5210210758931618), ('deactivate', 0.50048551623875)]\n",
      "Topic 5:\n",
      "[('time', 2.8616964055250604), ('jack time', 2.5264556990011133), ('realdonaldtrump', 0.6269406126775889), ('time shut', 0.5083489079715825), ('ban', 0.22381183257629444), ('time ban', 0.21472824683511363), ('realdonaldtrump account', 0.21338369292717316), ('shut realdonaldtrump', 0.18502143447196012), ('time delete', 0.1790017185053353), ('twitter time', 0.17579641735744791)]\n",
      "==========\n"
     ]
    }
   ],
   "source": [
    "def print_topics(model, vectorizer, top_n=10):\n",
    "    for idx, topic in enumerate(model.components_):\n",
    "        print(\"Topic %d:\" % (idx))\n",
    "        print([(vectorizer.get_feature_names()[i], topic[i])\n",
    "                        for i in topic.argsort()[:-top_n - 1:-1]])\n",
    " \n",
    "print(\"LDA Model:\")\n",
    "print_topics(lda_model, tfidfconverter )\n",
    "print(\"=\" * 10)\n",
    " \n",
    "print(\"NMF Model:\")\n",
    "print_topics(nmf_model, tfidfconverter )\n",
    "print(\"=\" * 10)"
   ]
  },
  {
   "cell_type": "markdown",
   "metadata": {},
   "source": [
    "# Part 4: Run visualization and testing of LDA model"
   ]
  },
  {
   "cell_type": "code",
   "execution_count": 21,
   "metadata": {},
   "outputs": [
    {
     "data": {
      "text/html": [
       "\n",
       "<link rel=\"stylesheet\" type=\"text/css\" href=\"https://cdn.rawgit.com/bmabey/pyLDAvis/files/ldavis.v1.0.0.css\">\n",
       "\n",
       "\n",
       "<div id=\"ldavis_el280461405413336383525464629795\"></div>\n",
       "<script type=\"text/javascript\">\n",
       "\n",
       "var ldavis_el280461405413336383525464629795_data = {\"mdsDat\": {\"x\": [1.4650187492370605, 54.85479736328125, 32.212928771972656, 5.111096382141113, 26.350170135498047, 38.10981750488281], \"y\": [-47.625064849853516, -36.4767951965332, -61.44457244873047, -14.110331535339355, -33.37470245361328, -7.222781181335449], \"topics\": [1, 2, 3, 4, 5, 6], \"cluster\": [1, 1, 1, 1, 1, 1], \"Freq\": [21.7947320722272, 17.40392407574085, 16.274688153288473, 16.20340035911931, 15.63415704026427, 12.689098299359912]}, \"tinfo\": {\"Term\": [\"shut\", \"jack shut\", \"delete\", \"verify\", \"bitcoin\", \"suspend\", \"jack delete\", \"delete account\", \"shut trump\", \"right\", \"jack jack\", \"happy\", \"jack verify\", \"jack time\", \"ban\", \"jack suspend\", \"thing\", \"time\", \"deactivate\", \"jack ban\", \"thank\", \"jack happy\", \"follow\", \"new\", \"ericanlewedim\", \"let\", \"remove\", \"new year\", \"happy new\", \"right thing\", \"donald trump\", \"donald\", \"disable\", \"responsible\", \"past\", \"support\", \"late\", \"terrorism\", \"cancel\", \"suspend donald\", \"woman\", \"message\", \"step\", \"jack want\", \"jack like\", \"united\", \"jack complicit\", \"past time\", \"domestic\", \"national\", \"united state\", \"jack disable\", \"state\", \"worse\", \"said\", \"security\", \"bank\", \"read\", \"time remove\", \"jack close\", \"suspending\", \"removed\", \"happening\", \"capitol\", \"act\", \"banned\", \"twitter twittersafety\", \"twittersupport\", \"jack twittersupport\", \"way\", \"twittersafety\", \"people\", \"complicit\", \"twittersafety twittersupport\", \"hour\", \"jack twitter\", \"violence\", \"platform\", \"twitter\", \"twitter twittersupport\", \"coup\", \"terrorist\", \"trump\", \"tweet\", \"inciting\", \"time\", \"today\", \"account\", \"jack twittersafety\", \"realdonaldtrump\", \"sedition\", \"trump account\", \"need\", \"jack shut\", \"shut trump\", \"jack happy\", \"happy\", \"twitter shut\", \"happy new\", \"year jack\", \"pull\", \"need shut\", \"cut\", \"jack going\", \"job\", \"plug\", \"feed\", \"pull plug\", \"save\", \"jack fucking\", \"kick\", \"jack cut\", \"jack make\", \"nice\", \"jack account\", \"censoring\", \"twittersafety shut\", \"war\", \"calling\", \"asshole\", \"ok\", \"jack pull\", \"dorsey\", \"shut account\", \"new year\", \"shut\", \"new\", \"shut realdonaldtrump\", \"twittersupport shut\", \"year\", \"jack need\", \"jack twittersafety\", \"make\", \"need\", \"twittersafety\", \"going\", \"account\", \"twitter\", \"trump\", \"jack twitter\", \"potus\", \"realdonaldtrump\", \"trump account\", \"trump twitter\", \"twitter account\", \"jack remove\", \"remove trump\", \"hand\", \"twitter delete\", \"jack suspend\", \"suspend realdonaldtrump\", \"blood\", \"jack thanks\", \"dionnewarwick\", \"account immediately\", \"jack dionnewarwick\", \"blood hand\", \"jack waiting\", \"suspend trump\", \"dm\", \"jack think\", \"th\", \"crypto\", \"permanent\", \"lock\", \"twitter remove\", \"jack send\", \"damn\", \"platform incite\", \"happened\", \"monster\", \"listening\", \"dionnewarwick twitter\", \"president account\", \"account suspended\", \"maybe\", \"jack stop\", \"remove\", \"waiting\", \"suspend\", \"incite violence\", \"jack trump\", \"incite\", \"immediately\", \"thanks\", \"violence\", \"inciting violence\", \"trump\", \"stop\", \"account\", \"inciting\", \"twitter\", \"think\", \"trump account\", \"realdonaldtrump\", \"jack twitter\", \"platform\", \"trump twitter\", \"twitter account\", \"jack delete\", \"delete account\", \"deactivate\", \"jack deactivate\", \"deactivate trump\", \"fipradio\", \"delete trump\", \"jack fipradio\", \"delete\", \"jack fuck\", \"jack love\", \"jack turn\", \"hey\", \"delete realdonaldtrump\", \"jack ban\", \"jack hey\", \"deactivate realdonaldtrump\", \"neerajka\", \"wrong\", \"jack neerajka\", \"dude\", \"time ban\", \"twitter ban\", \"time delete\", \"hey jack\", \"bitch\", \"rid\", \"jack man\", \"agree\", \"true\", \"deactivate account\", \"ban trump\", \"ban realdonaldtrump\", \"jack time\", \"love\", \"ban\", \"fuck\", \"time\", \"time shut\", \"man\", \"account\", \"permanently\", \"realdonaldtrump\", \"turn\", \"trump\", \"realdonaldtrump twitter\", \"twitter\", \"trump account\", \"twitter account\", \"trump twitter\", \"jack twitter\", \"verify\", \"jack verify\", \"ericanlewedim\", \"verify ericanlewedim\", \"suspend account\", \"verified\", \"jack thank\", \"jack bitcoin\", \"birthday\", \"mazinnamdikanu\", \"block\", \"jack verified\", \"verify mazinnamdikanu\", \"happy birthday\", \"sir\", \"seriously\", \"kindly\", \"square\", \"captjamyl\", \"jack block\", \"jack help\", \"twitter suspend\", \"nengiofficial\", \"michael_saylor\", \"jack really\", \"kindly verify\", \"verify nengiofficial\", \"claudiajng square\", \"claudiajng\", \"jack kindly\", \"thank\", \"bitcoin\", \"jack jack\", \"help\", \"really\", \"pls\", \"wtf\", \"day\", \"twitter\", \"jack twitter\", \"suspend\", \"account\", \"follow\", \"right thing\", \"btc\", \"jack let\", \"jack right\", \"jack follow\", \"jack know\", \"gonna\", \"jack good\", \"bro\", \"shut twitter\", \"jack come\", \"thing\", \"let trump\", \"social\", \"buy\", \"account right\", \"social medium\", \"deletetrumpstwitter\", \"lead\", \"following\", \"code\", \"asap\", \"jack gonna\", \"grow\", \"mark\", \"hard\", \"asking\", \"soon\", \"nazi\", \"feel\", \"right\", \"let\", \"medium\", \"know\", \"come\", \"care\", \"good\", \"stand\", \"facebook\", \"twitter\", \"like\", \"jack twitter\", \"trump\"], \"Freq\": [719.0, 490.0, 406.0, 327.0, 327.0, 398.0, 256.0, 246.0, 247.0, 272.0, 264.0, 233.0, 218.0, 288.0, 383.0, 222.0, 192.0, 470.0, 198.0, 198.0, 192.0, 189.0, 159.0, 220.0, 172.0, 204.0, 227.0, 189.0, 169.0, 137.0, 151.07522960766173, 162.61021568604266, 68.46798136670374, 66.37466870293464, 50.041470629028446, 49.16535082146348, 47.31100581836982, 45.150319690802824, 43.533428041762434, 40.89139910588697, 41.19585565865325, 43.3149810537451, 38.09048581139379, 37.193439709858524, 37.093632651358675, 36.13395120297351, 35.97734915375114, 35.94716099873229, 39.54050707559763, 36.04243101566045, 34.64583846753124, 32.86319440510188, 46.54100815189353, 32.57841238940911, 31.094441084425803, 30.617399257782882, 28.769653700557033, 28.66528997051626, 28.395195927996053, 27.661758729266175, 30.830651394888466, 34.96238588342527, 37.7919259803184, 69.15430497380413, 51.65327471324633, 71.59589979368158, 95.76338381498111, 217.97264041787747, 151.4950441652504, 67.7393724881994, 173.43062737548195, 117.02864213693547, 81.75093564547508, 45.62005065743696, 67.28021395258563, 251.84254549722138, 142.27312441188946, 128.15244908633423, 313.46726489276625, 71.88329837694332, 74.87223778690124, 63.61155060992122, 213.32610624327077, 100.91944256863096, 90.62246602686919, 141.0045144569991, 78.54378138917654, 184.66792933921482, 79.46276944696373, 112.67131473419333, 61.56190707307619, 94.95541891091565, 76.62085762084108, 489.57458635669144, 246.64677717639358, 188.78854070629257, 232.2705608515258, 108.75064274157934, 167.82888696722765, 76.12820739173013, 69.45433997266797, 56.59056656743984, 91.0330210819899, 54.30773975553707, 54.52798848951764, 47.512199776071654, 46.540473738332, 43.46957185010666, 40.284307892525845, 38.62972595383925, 38.03669657669348, 37.22520070816653, 36.68156059677407, 35.82306147299167, 52.80856415450944, 34.25815466269293, 32.87212239621551, 32.77416763683491, 32.87972681937797, 30.965003521454207, 30.415248112650012, 29.0256322498387, 28.887833052675823, 153.88020761007843, 180.89748995283765, 645.5808051912175, 202.90546486210908, 118.67302313184538, 35.64039091974855, 204.76849808301213, 110.36542224622129, 108.34438610873761, 72.79933974749545, 127.02423722477002, 119.26590340848088, 78.22392401905762, 226.27403989581688, 199.20005829556047, 170.53750122798616, 119.05032852306786, 56.9842909165996, 93.87725402191235, 82.40342714939057, 65.40866805181878, 60.759693410228174, 119.43553435913775, 89.87377661088462, 72.48701876586156, 69.91079096879494, 220.06295954987542, 94.67378097210661, 60.0477938424156, 54.998619801485205, 50.23263466907369, 48.848965583809004, 47.22615658465404, 45.3126314940254, 43.73184011134732, 137.5422557741783, 42.47131940167535, 43.45619396999698, 38.191659444362195, 35.009743566286424, 34.86130273223731, 46.58623461440931, 33.195775315009165, 31.622178888209607, 35.32001976946707, 31.48986249913334, 33.96683777353938, 25.584652252145354, 25.129600667907333, 25.19462008012595, 24.763285045128534, 24.50486488740348, 51.09138090627952, 84.1765808271921, 194.6920338785927, 84.36178092762744, 317.075148387236, 61.7613934644865, 108.96480906368708, 82.22215513072764, 80.98985357718975, 80.80321636352606, 141.89150576215567, 78.92463070255133, 246.00372274599457, 104.65891082359889, 257.0364887666085, 94.75334929209998, 229.59865816072337, 68.6005711147287, 124.38848774430048, 123.23276605058724, 120.92199610023457, 84.58438132011621, 89.54239448575473, 66.58631363344368, 255.8703000765166, 245.4761221360261, 197.52464277029293, 137.48507354507782, 108.02073678696001, 107.9213653694901, 108.40074128096455, 105.66275153362955, 402.9720680900819, 70.23466230401684, 68.70690215124391, 67.26980233665957, 66.24866348116595, 62.108623778608234, 195.84511411285936, 53.3123227820722, 51.92332449883297, 47.41856868404177, 46.0634476332349, 42.62060604041856, 56.11525681036273, 40.53224183108247, 40.33873851383274, 37.001242611192275, 32.76002059105811, 32.567474513564875, 29.697371019486106, 28.577406064039117, 28.33993820708366, 26.496133849404924, 40.34335057639234, 155.28579633418246, 79.72694550456131, 237.1884746306723, 111.96056740812314, 292.2459418980866, 108.9239138956612, 281.6818432719874, 68.27299321503408, 100.09272093584049, 362.441549150823, 92.32225304505006, 200.52213716577324, 81.73890618838612, 218.86096226438212, 77.16168290854813, 178.70871410735452, 113.57494868693759, 88.87919161971774, 89.2000310373831, 81.95391746990526, 326.63754990655843, 217.3308953954601, 171.50066534821607, 140.62298425421528, 140.84048522530512, 129.57565399828627, 116.78877199477918, 101.8576945031494, 82.97808443004742, 72.05711803995456, 123.41750003692961, 69.91137620953619, 59.41183588259125, 56.08713762879914, 55.5330376432815, 54.6699946377902, 54.50917862866376, 53.141412536486506, 48.2737170649721, 45.82658883319286, 44.38460761011855, 50.21672854995715, 42.563299943797276, 39.496741194651364, 40.71817512489162, 34.208428261089075, 33.99699954198316, 33.34091189703172, 33.340896694934905, 33.18023075373226, 187.3667058360805, 311.25146553656685, 243.96098485882192, 107.9339384219466, 76.60592022588166, 72.25804746170517, 48.23300704412554, 66.43370264296955, 126.29091413209476, 103.67508017402618, 72.67531044863499, 68.6420718253082, 158.47317318726056, 136.70534919451774, 120.85270517848947, 99.8016585562453, 83.67563577001012, 80.5954749831273, 74.22340454910099, 69.60571799274922, 66.08167176834718, 61.65863961814538, 64.22275720343893, 56.27913532282231, 189.52039013806544, 50.28929507542621, 43.56349321809489, 41.05250122435333, 40.44888502496908, 37.83319868753249, 36.58288777082726, 36.52862023518935, 36.05316225229282, 36.65730370362238, 34.730999631167556, 34.368125795928115, 34.766615277117666, 33.115550788197424, 33.086034200232874, 32.27287983164334, 34.8093164759178, 31.13502014584967, 31.298333552219226, 225.0423785820874, 172.18348359660425, 45.811148293654696, 132.43264192672137, 83.27515809500932, 42.363749132183024, 110.72067974758048, 42.17638551224112, 55.656147168966626, 104.94545468757627, 52.511393755741516, 60.02716164942224, 52.94475804040063], \"Total\": [719.0, 490.0, 406.0, 327.0, 327.0, 398.0, 256.0, 246.0, 247.0, 272.0, 264.0, 233.0, 218.0, 288.0, 383.0, 222.0, 192.0, 470.0, 198.0, 198.0, 192.0, 189.0, 159.0, 220.0, 172.0, 204.0, 227.0, 189.0, 169.0, 137.0, 151.95100625717618, 163.55542474644562, 69.30337149507474, 67.20191535498056, 50.86691093587087, 49.99599215971933, 48.13857213721479, 45.97688432129327, 44.366308727024794, 41.72846377921956, 42.05034400832248, 44.2279002386542, 38.915163966550395, 38.01916208921029, 37.91812210149726, 36.955473059455194, 36.79819582063747, 36.77159436538901, 40.45201468250839, 36.893251863678294, 35.467215618610375, 33.6836105213057, 47.709327042300565, 33.4069891404124, 31.92102520474412, 31.471614917700077, 29.597296078997168, 29.49501529815128, 29.219296180297086, 28.482842774297108, 31.771612038681752, 36.23013441303979, 39.32551110405439, 74.20587774460367, 56.58389302819501, 82.87550262572495, 118.11764157583332, 324.27291812101316, 219.18706676492872, 83.01949596555812, 297.8573970973143, 207.1209605250549, 124.54849965450926, 52.336207419024355, 94.4494464110513, 737.4710294138775, 304.3235938392874, 266.7456951010837, 1152.2110642760756, 109.30744017165875, 120.77089912830391, 94.53537347922298, 911.9954816607296, 228.7632309835957, 188.78268409932082, 470.00371459425634, 150.38623917963196, 1108.6471064234931, 188.51561838208784, 550.9954425271621, 94.90586361403781, 417.5649406562203, 325.0861273548056, 490.44932346258247, 247.62267333518938, 189.6167428689319, 233.3462255449184, 109.57799541475775, 169.55286760991058, 76.95448659652212, 70.30188524662753, 57.419732267453256, 92.41101081356733, 55.13744874910461, 55.363749689817546, 48.341016696015615, 47.369726492725626, 44.298225224266695, 41.114635919625364, 39.46028881068516, 38.86751501406349, 38.05127107408403, 37.509961864402996, 36.657946614442174, 54.08173997374799, 35.08641456123307, 33.698132352132184, 33.60613830171708, 33.71599064042326, 31.795329898116577, 31.25621871810376, 29.85258760843254, 29.728407430246147, 159.28354945247585, 189.5290437814838, 719.1819443089369, 220.38073473859114, 132.27096803883484, 36.969716337886425, 279.53736003950223, 154.82403199691436, 188.51561838208784, 121.37318932717449, 325.0861273548056, 297.8573970973143, 143.56243650619595, 1108.6471064234931, 1152.2110642760756, 911.9954816607296, 737.4710294138775, 86.67128641022872, 550.9954425271621, 417.5649406562203, 326.2583822169864, 274.67315279049103, 120.25321997792066, 90.69041071711314, 73.3064795467587, 70.73679405639146, 222.70777686021972, 95.95178704596871, 60.865144386270394, 55.815786907890924, 51.0508998787463, 49.666961606021296, 48.04395395460535, 46.13178975549834, 44.54779179567295, 140.14512204419773, 43.31969200656671, 44.36520840841637, 39.011033484077906, 35.832076705856196, 35.683381712065, 47.70863029238204, 34.0116107764508, 32.438539229571475, 36.245652301742695, 32.33461748568851, 34.91385492728705, 26.40935244394233, 25.945813713121645, 26.020233964791576, 25.58863594734574, 25.32289534605797, 53.013256417401045, 88.04317538322164, 227.19176806334477, 93.75514407029019, 398.85718300301784, 70.9325481874457, 143.20279283806116, 108.36063205264651, 112.17410310088262, 119.15650465136575, 304.3235938392874, 130.24685126462094, 911.9954816607296, 214.82285291995467, 1108.6471064234931, 188.78268409932082, 1152.2110642760756, 105.75203132406071, 417.5649406562203, 550.9954425271621, 737.4710294138775, 266.7456951010837, 326.2583822169864, 274.67315279049103, 256.6906809937364, 246.4286986801728, 198.43838499571217, 138.30445846068318, 108.84100627343867, 108.74354281403723, 109.22741099235648, 106.48479440110033, 406.66426614909943, 71.05690017975594, 69.52673898343664, 68.08953315937512, 67.07187373356389, 62.92948125087838, 198.54155724426033, 54.13801848327675, 52.74313078648807, 48.2422188199887, 46.89325995748739, 43.444381263362416, 57.213292196366744, 41.3538166627648, 41.16842262363377, 37.85484667685649, 33.581638364729066, 33.38956648354985, 30.52997206144687, 29.3988150166866, 29.17083608307369, 27.32306146825268, 41.66525765740444, 163.49106947580256, 87.30139341657795, 288.14151121878416, 130.52849743269167, 383.18440644490835, 135.88818662152914, 470.00371459425634, 83.59189165637073, 156.512089795285, 1108.6471064234931, 143.18670630615887, 550.9954425271621, 122.86239735789582, 911.9954816607296, 116.38798215774744, 1152.2110642760756, 417.5649406562203, 274.67315279049103, 326.2583822169864, 737.4710294138775, 327.4637865593568, 218.15664123100382, 172.32676581582967, 141.44887132924916, 141.68548394620382, 130.40935433857192, 117.61556333360254, 102.68424840495426, 83.8057976197814, 72.88292413843192, 124.84781855191959, 70.74084679524582, 60.23741641785923, 56.91464266786555, 56.36832268687654, 55.50115819971356, 55.33808060630285, 53.968373170802906, 49.10391878083277, 46.65355905202197, 45.216653309733836, 51.16419325782473, 43.38916793740068, 40.32471825034649, 41.57477765990142, 35.0340101800746, 34.82292363955359, 34.16719800695196, 34.16724088344276, 34.00643240776481, 192.9713010749647, 327.6204114037988, 264.1308767513664, 122.5124731930798, 88.97541286384345, 96.40915571189987, 57.55071760835394, 113.46208821026299, 1152.2110642760756, 737.4710294138775, 398.85718300301784, 1108.6471064234931, 159.28577053285028, 137.52753785784515, 121.7842546741768, 100.60179050622943, 84.47569173162103, 81.39720519596125, 75.02632036575784, 70.44037628181201, 66.88356637449394, 62.46187591641827, 65.10474005551993, 57.0795120049702, 192.25900198535186, 51.09290401977552, 44.368790117844476, 41.85441107286222, 41.25348992440603, 38.635746220522535, 37.38786733237522, 37.334914250129124, 36.858124156560265, 37.48665115572546, 35.53638358145908, 35.16849378081696, 35.58267502456633, 33.919726578543404, 33.89003612451728, 33.077306012788014, 35.68163262495868, 31.93923818171895, 32.11159118418935, 272.86078342450116, 204.59480027777866, 49.46223715627365, 180.583056040754, 105.16695021669477, 46.464119812541526, 174.0822564166968, 50.86280186890483, 97.81148840326443, 1152.2110642760756, 169.17633279783243, 737.4710294138775, 911.9954816607296], \"Category\": [\"Default\", \"Default\", \"Default\", \"Default\", \"Default\", \"Default\", \"Default\", \"Default\", \"Default\", \"Default\", \"Default\", \"Default\", \"Default\", \"Default\", \"Default\", \"Default\", \"Default\", \"Default\", \"Default\", \"Default\", \"Default\", \"Default\", \"Default\", \"Default\", \"Default\", \"Default\", \"Default\", \"Default\", \"Default\", \"Default\", \"Topic1\", \"Topic1\", \"Topic1\", \"Topic1\", \"Topic1\", \"Topic1\", \"Topic1\", \"Topic1\", \"Topic1\", \"Topic1\", \"Topic1\", \"Topic1\", \"Topic1\", \"Topic1\", \"Topic1\", \"Topic1\", \"Topic1\", \"Topic1\", \"Topic1\", \"Topic1\", \"Topic1\", \"Topic1\", \"Topic1\", \"Topic1\", \"Topic1\", \"Topic1\", \"Topic1\", \"Topic1\", \"Topic1\", \"Topic1\", \"Topic1\", \"Topic1\", \"Topic1\", \"Topic1\", \"Topic1\", \"Topic1\", \"Topic1\", \"Topic1\", \"Topic1\", \"Topic1\", \"Topic1\", \"Topic1\", \"Topic1\", \"Topic1\", \"Topic1\", \"Topic1\", \"Topic1\", \"Topic1\", \"Topic1\", \"Topic1\", \"Topic1\", \"Topic1\", \"Topic1\", \"Topic1\", \"Topic1\", \"Topic1\", \"Topic1\", \"Topic1\", \"Topic1\", \"Topic1\", \"Topic1\", \"Topic1\", \"Topic1\", \"Topic2\", \"Topic2\", \"Topic2\", \"Topic2\", \"Topic2\", \"Topic2\", \"Topic2\", \"Topic2\", \"Topic2\", \"Topic2\", \"Topic2\", \"Topic2\", \"Topic2\", \"Topic2\", \"Topic2\", \"Topic2\", \"Topic2\", \"Topic2\", \"Topic2\", \"Topic2\", \"Topic2\", \"Topic2\", \"Topic2\", \"Topic2\", \"Topic2\", \"Topic2\", \"Topic2\", \"Topic2\", \"Topic2\", \"Topic2\", \"Topic2\", \"Topic2\", \"Topic2\", \"Topic2\", \"Topic2\", \"Topic2\", \"Topic2\", \"Topic2\", \"Topic2\", \"Topic2\", \"Topic2\", \"Topic2\", \"Topic2\", \"Topic2\", \"Topic2\", \"Topic2\", \"Topic2\", \"Topic2\", \"Topic2\", \"Topic2\", \"Topic2\", \"Topic2\", \"Topic3\", \"Topic3\", \"Topic3\", \"Topic3\", \"Topic3\", \"Topic3\", \"Topic3\", \"Topic3\", \"Topic3\", \"Topic3\", \"Topic3\", \"Topic3\", \"Topic3\", \"Topic3\", \"Topic3\", \"Topic3\", \"Topic3\", \"Topic3\", \"Topic3\", \"Topic3\", \"Topic3\", \"Topic3\", \"Topic3\", \"Topic3\", \"Topic3\", \"Topic3\", \"Topic3\", \"Topic3\", \"Topic3\", \"Topic3\", \"Topic3\", \"Topic3\", \"Topic3\", \"Topic3\", \"Topic3\", \"Topic3\", \"Topic3\", \"Topic3\", \"Topic3\", \"Topic3\", \"Topic3\", \"Topic3\", \"Topic3\", \"Topic3\", \"Topic3\", \"Topic3\", \"Topic3\", \"Topic3\", \"Topic3\", \"Topic3\", \"Topic3\", \"Topic3\", \"Topic3\", \"Topic3\", \"Topic4\", \"Topic4\", \"Topic4\", \"Topic4\", \"Topic4\", \"Topic4\", \"Topic4\", \"Topic4\", \"Topic4\", \"Topic4\", \"Topic4\", \"Topic4\", \"Topic4\", \"Topic4\", \"Topic4\", \"Topic4\", \"Topic4\", \"Topic4\", \"Topic4\", \"Topic4\", \"Topic4\", \"Topic4\", \"Topic4\", \"Topic4\", \"Topic4\", \"Topic4\", \"Topic4\", \"Topic4\", \"Topic4\", \"Topic4\", \"Topic4\", \"Topic4\", \"Topic4\", \"Topic4\", \"Topic4\", \"Topic4\", \"Topic4\", \"Topic4\", \"Topic4\", \"Topic4\", \"Topic4\", \"Topic4\", \"Topic4\", \"Topic4\", \"Topic4\", \"Topic4\", \"Topic4\", \"Topic4\", \"Topic4\", \"Topic4\", \"Topic4\", \"Topic5\", \"Topic5\", \"Topic5\", \"Topic5\", \"Topic5\", \"Topic5\", \"Topic5\", \"Topic5\", \"Topic5\", \"Topic5\", \"Topic5\", \"Topic5\", \"Topic5\", \"Topic5\", \"Topic5\", \"Topic5\", \"Topic5\", \"Topic5\", \"Topic5\", \"Topic5\", \"Topic5\", \"Topic5\", \"Topic5\", \"Topic5\", \"Topic5\", \"Topic5\", \"Topic5\", \"Topic5\", \"Topic5\", \"Topic5\", \"Topic5\", \"Topic5\", \"Topic5\", \"Topic5\", \"Topic5\", \"Topic5\", \"Topic5\", \"Topic5\", \"Topic5\", \"Topic5\", \"Topic5\", \"Topic5\", \"Topic6\", \"Topic6\", \"Topic6\", \"Topic6\", \"Topic6\", \"Topic6\", \"Topic6\", \"Topic6\", \"Topic6\", \"Topic6\", \"Topic6\", \"Topic6\", \"Topic6\", \"Topic6\", \"Topic6\", \"Topic6\", \"Topic6\", \"Topic6\", \"Topic6\", \"Topic6\", \"Topic6\", \"Topic6\", \"Topic6\", \"Topic6\", \"Topic6\", \"Topic6\", \"Topic6\", \"Topic6\", \"Topic6\", \"Topic6\", \"Topic6\", \"Topic6\", \"Topic6\", \"Topic6\", \"Topic6\", \"Topic6\", \"Topic6\", \"Topic6\", \"Topic6\", \"Topic6\", \"Topic6\", \"Topic6\", \"Topic6\", \"Topic6\"], \"logprob\": [30.0, 29.0, 28.0, 27.0, 26.0, 25.0, 24.0, 23.0, 22.0, 21.0, 20.0, 19.0, 18.0, 17.0, 16.0, 15.0, 14.0, 13.0, 12.0, 11.0, 10.0, 9.0, 8.0, 7.0, 6.0, 5.0, 4.0, 3.0, 2.0, 1.0, -4.4856, -4.4121, -5.277, -5.3081, -5.5906, -5.6082, -5.6467, -5.6934, -5.7299, -5.7925, -5.7851, -5.7349, -5.8634, -5.8873, -5.89, -5.9162, -5.9205, -5.9214, -5.8261, -5.9187, -5.9582, -6.0111, -5.6631, -6.0198, -6.0664, -6.0818, -6.1441, -6.1477, -6.1572, -6.1834, -6.0749, -5.9491, -5.8713, -5.2671, -5.5589, -5.2324, -4.9415, -4.119, -4.4829, -5.2877, -4.3476, -4.741, -5.0997, -5.6831, -5.2945, -3.9746, -4.5457, -4.6502, -3.7557, -5.2284, -5.1876, -5.3506, -4.1406, -4.8891, -4.9967, -4.5546, -5.1398, -4.2849, -5.1281, -4.7789, -5.3834, -4.95, -5.1645, -3.0849, -3.7705, -4.0378, -3.8305, -4.5894, -4.1555, -4.946, -5.0378, -5.2426, -4.7672, -5.2838, -5.2797, -5.4175, -5.4381, -5.5064, -5.5825, -5.6244, -5.6399, -5.6615, -5.6762, -5.6998, -5.3118, -5.7445, -5.7858, -5.7888, -5.7856, -5.8456, -5.8635, -5.9103, -5.915, -4.2423, -4.0805, -2.8083, -3.9657, -4.5021, -5.705, -3.9566, -4.5746, -4.5931, -4.9907, -4.4341, -4.4971, -4.9189, -3.8567, -3.9841, -4.1395, -4.4989, -5.2357, -4.7365, -4.8668, -5.0978, -5.1715, -4.4286, -4.7129, -4.9279, -4.9641, -3.8174, -4.6609, -5.1162, -5.204, -5.2947, -5.3226, -5.3564, -5.3978, -5.4333, -4.2874, -5.4625, -5.4396, -5.5687, -5.6557, -5.66, -5.37, -5.7089, -5.7575, -5.6469, -5.7617, -5.686, -5.9694, -5.9873, -5.9847, -6.002, -6.0125, -5.2777, -4.7784, -3.9399, -4.7762, -3.4522, -5.0881, -4.5203, -4.8019, -4.817, -4.8193, -4.2563, -4.8429, -3.706, -4.5606, -3.6621, -4.6601, -3.775, -4.9831, -4.3879, -4.3973, -4.4162, -4.7736, -4.7166, -5.0129, -3.6623, -3.7038, -3.9211, -4.2834, -4.5246, -4.5256, -4.5211, -4.5467, -3.2081, -4.9551, -4.9771, -4.9983, -5.0135, -5.0781, -3.9296, -5.2308, -5.2572, -5.348, -5.3769, -5.4546, -5.1796, -5.5049, -5.5097, -5.596, -5.7178, -5.7237, -5.8159, -5.8543, -5.8627, -5.93, -5.5095, -4.1617, -4.8284, -3.7381, -4.4888, -3.5294, -4.5163, -3.5662, -4.9835, -4.6009, -3.3141, -4.6817, -3.906, -4.8034, -3.8185, -4.8611, -4.0212, -4.4745, -4.7197, -4.7161, -4.8008, -3.3824, -3.7898, -4.0266, -4.2251, -4.2236, -4.3069, -4.4108, -4.5476, -4.7526, -4.8937, -4.3556, -4.924, -5.0867, -5.1443, -5.1542, -5.1699, -5.1728, -5.1982, -5.2943, -5.3463, -5.3783, -5.2549, -5.4202, -5.495, -5.4645, -5.6387, -5.6449, -5.6644, -5.6644, -5.6692, -3.9381, -3.4306, -3.6742, -4.4897, -4.8325, -4.891, -5.2952, -4.975, -4.3326, -4.5299, -4.8852, -4.9423, -3.8969, -4.0447, -4.1679, -4.3593, -4.5355, -4.573, -4.6554, -4.7196, -4.7716, -4.8409, -4.8001, -4.9322, -3.718, -5.0447, -5.1883, -5.2476, -5.2624, -5.3293, -5.3629, -5.3644, -5.3775, -5.3609, -5.4149, -5.4254, -5.4138, -5.4625, -5.4634, -5.4883, -5.4126, -5.5242, -5.5189, -3.5462, -3.8139, -5.138, -4.0764, -4.5403, -5.2162, -4.2555, -5.2206, -4.9433, -4.309, -5.0015, -4.8677, -4.9932], \"loglift\": [30.0, 29.0, 28.0, 27.0, 26.0, 25.0, 24.0, 23.0, 22.0, 21.0, 20.0, 19.0, 18.0, 17.0, 16.0, 15.0, 14.0, 13.0, 12.0, 11.0, 10.0, 9.0, 8.0, 7.0, 6.0, 5.0, 4.0, 3.0, 2.0, 1.0, 1.5177, 1.5177, 1.5114, 1.5111, 1.5071, 1.5067, 1.5062, 1.5054, 1.5046, 1.5032, 1.503, 1.5026, 1.5021, 1.5015, 1.5015, 1.501, 1.5009, 1.5008, 1.5007, 1.5002, 1.5001, 1.4988, 1.4987, 1.4984, 1.4973, 1.496, 1.4951, 1.495, 1.4949, 1.4943, 1.4934, 1.4879, 1.4837, 1.453, 1.4323, 1.3772, 1.3137, 1.1263, 1.1541, 1.3201, 0.9827, 0.9526, 1.1025, 1.3862, 1.1843, 0.4491, 0.7632, 0.7904, 0.2218, 1.1044, 1.0454, 1.1273, 0.0707, 0.7051, 0.7896, 0.3196, 0.874, -0.2688, 0.6596, -0.0637, 1.0907, 0.0425, 0.0783, 1.7467, 1.7445, 1.7441, 1.7439, 1.7409, 1.7383, 1.7377, 1.7363, 1.7339, 1.7335, 1.7333, 1.7333, 1.7312, 1.7308, 1.7296, 1.7281, 1.7272, 1.7269, 1.7265, 1.7261, 1.7254, 1.7247, 1.7246, 1.7237, 1.7234, 1.7234, 1.722, 1.7212, 1.7204, 1.7198, 1.714, 1.7019, 1.6405, 1.6659, 1.64, 1.7119, 1.4372, 1.41, 1.1946, 1.2373, 0.8088, 0.8332, 1.1413, 0.1593, -0.0067, 0.0718, -0.0752, 1.3291, -0.0213, 0.1257, 0.1414, 0.2398, 1.8087, 1.8065, 1.8043, 1.8038, 1.8036, 1.8022, 1.802, 1.8008, 1.7994, 1.799, 1.7984, 1.7976, 1.7971, 1.7968, 1.7958, 1.7949, 1.7943, 1.7923, 1.7923, 1.7918, 1.7913, 1.7901, 1.7897, 1.7891, 1.7881, 1.7838, 1.7836, 1.7833, 1.7828, 1.7827, 1.7786, 1.7706, 1.6612, 1.71, 1.5861, 1.6771, 1.5423, 1.5395, 1.4898, 1.4271, 1.0525, 1.3146, 0.5053, 1.0965, 0.3539, 1.1262, 0.2025, 1.3828, 0.6045, 0.3179, 0.0075, 0.667, 0.5226, 0.3985, 1.8167, 1.8161, 1.8153, 1.814, 1.8124, 1.8124, 1.8124, 1.8122, 1.8108, 1.8083, 1.8081, 1.8078, 1.8076, 1.8068, 1.8063, 1.8046, 1.8043, 1.8027, 1.8021, 1.8008, 1.8006, 1.7999, 1.7996, 1.7971, 1.7952, 1.795, 1.7923, 1.7916, 1.7911, 1.7892, 1.7877, 1.7685, 1.7292, 1.6254, 1.6665, 1.549, 1.5988, 1.308, 1.6175, 1.3729, 0.7019, 1.3811, 0.8091, 1.4124, 0.3928, 1.4089, -0.0437, 0.518, 0.6916, 0.5231, -0.3771, 1.8532, 1.8519, 1.8509, 1.8499, 1.8497, 1.8493, 1.8487, 1.8476, 1.8458, 1.8443, 1.8442, 1.8439, 1.8419, 1.8411, 1.8408, 1.8406, 1.8406, 1.8403, 1.8387, 1.8378, 1.8371, 1.837, 1.8365, 1.835, 1.8349, 1.8319, 1.8317, 1.8312, 1.8312, 1.8311, 1.8262, 1.8045, 1.7763, 1.729, 1.706, 1.5674, 1.6791, 1.3204, -0.3551, -0.1063, 0.1531, -0.9263, 2.0593, 2.0584, 2.0567, 2.0564, 2.0549, 2.0545, 2.0537, 2.0525, 2.0524, 2.0515, 2.0508, 2.0503, 2.0501, 2.0486, 2.0461, 2.0451, 2.0447, 2.0434, 2.0427, 2.0426, 2.0423, 2.0421, 2.0415, 2.0414, 2.0412, 2.0404, 2.0404, 2.0398, 2.0397, 2.0389, 2.0388, 1.8718, 1.892, 1.9877, 1.7543, 1.831, 1.972, 1.6119, 1.8772, 1.5006, -0.3316, 0.8945, -0.444, -0.782]}, \"token.table\": {\"Topic\": [1, 2, 3, 4, 5, 6, 3, 6, 3, 1, 6, 4, 6, 6, 2, 1, 2, 3, 4, 6, 1, 4, 1, 3, 4, 1, 1, 2, 4, 6, 5, 4, 5, 6, 5, 3, 3, 6, 6, 6, 2, 1, 1, 4, 5, 2, 6, 2, 5, 5, 6, 1, 6, 1, 3, 4, 1, 3, 4, 3, 2, 6, 3, 1, 2, 3, 4, 5, 4, 4, 4, 4, 1, 3, 4, 4, 4, 4, 6, 3, 3, 1, 3, 1, 1, 1, 2, 4, 5, 1, 3, 6, 2, 6, 4, 6, 6, 2, 4, 5, 1, 2, 4, 5, 6, 1, 3, 4, 5, 6, 6, 3, 3, 1, 4, 2, 5, 2, 5, 6, 1, 5, 4, 4, 1, 3, 4, 6, 1, 2, 3, 4, 1, 3, 1, 3, 1, 3, 4, 1, 3, 4, 2, 3, 1, 4, 5, 5, 1, 6, 1, 2, 4, 4, 3, 1, 4, 6, 4, 2, 2, 6, 6, 2, 5, 4, 1, 2, 5, 5, 6, 6, 1, 4, 2, 4, 2, 4, 6, 4, 2, 5, 3, 6, 3, 2, 1, 3, 3, 5, 5, 3, 3, 1, 4, 1, 3, 4, 5, 4, 1, 2, 3, 4, 5, 6, 1, 2, 1, 4, 5, 5, 5, 3, 1, 2, 2, 5, 5, 2, 3, 4, 5, 6, 1, 6, 1, 2, 3, 4, 6, 6, 1, 2, 3, 4, 5, 6, 3, 3, 4, 5, 1, 2, 3, 1, 4, 6, 6, 1, 3, 5, 1, 6, 1, 5, 3, 1, 6, 1, 2, 3, 4, 5, 6, 2, 4, 5, 2, 5, 2, 5, 2, 2, 1, 1, 1, 2, 3, 4, 5, 6, 3, 1, 3, 4, 1, 2, 3, 4, 5, 6, 3, 3, 5, 2, 1, 2, 4, 6, 3, 2, 2, 1, 1, 2, 3, 4, 5, 6, 1, 4, 6, 1, 5, 1, 3, 5, 6, 3, 1, 2, 1, 4, 1, 2, 6, 6, 1, 2, 1, 1, 3, 4, 5, 1, 2, 3, 4, 6, 2, 3, 2, 4, 2, 6, 5, 6, 6, 6, 5, 2, 6, 1, 3, 1, 1, 2, 3, 4, 5, 6, 1, 3, 4, 5, 5, 1, 3, 4, 3, 5, 1, 1, 1, 2, 4, 3, 1, 3, 5, 3, 5, 1, 2, 6, 1, 2, 3, 4, 6, 1, 2, 4, 6, 4, 4, 1, 1, 4, 1, 3, 4, 5, 4, 1, 2, 3, 4, 5, 6, 1, 2, 3, 4, 5, 6, 1, 2, 3, 4, 6, 2, 4, 6, 1, 2, 3, 4, 5, 1, 2, 3, 4, 5, 6, 1, 2, 3, 4, 5, 4, 3, 3, 2, 5, 1, 2, 5, 6, 1, 2, 5, 6, 1, 2, 4, 5, 2, 1, 2, 1, 2, 4, 5, 6, 2, 4, 1, 1, 5, 5, 5, 5, 5, 1, 2, 3, 4, 5, 1, 3, 6, 2, 1, 2, 1, 1, 4, 2, 5, 1, 2, 3, 5, 6, 2], \"Freq\": [0.16687005173071878, 0.20385206319536459, 0.2318140718637553, 0.32652410122443354, 0.06223801929415998, 0.00902000279625507, 0.9865713225763253, 0.9696149361738131, 0.9872488772849494, 0.9189894370486154, 0.0706914951575858, 0.9598627862520174, 0.9849060729483196, 0.9674306603938205, 0.9749859523186237, 0.13048547685926948, 0.005219419074370779, 0.03914564305778084, 0.7620351848581338, 0.06263302889244936, 0.08018199625517944, 0.9163656714877649, 0.04281579429655656, 0.006116542042365223, 0.9480640165666095, 0.9798192349259559, 0.8687730115515566, 0.012066291827104952, 0.06033145913552476, 0.06033145913552476, 0.9903849418218388, 0.988332688184443, 0.9492693042763022, 0.04883700600778403, 0.9851994326104212, 0.9857858813119722, 0.9754661641896639, 0.9926054747853503, 0.9935602949964674, 0.9795861164699028, 0.9787640633769535, 0.9917435383394503, 0.9298454798618396, 0.05390408578909215, 0.9775187233882507, 0.06456594921206803, 0.9039232889689524, 0.9690360336096169, 0.9658374263399069, 0.9658386383713855, 0.9870180146606365, 0.1996825044058979, 0.7892213269375965, 0.6583780633846535, 0.2810150270544253, 0.05620300541088506, 0.6210105293686844, 0.33948575605488085, 0.041400701957912296, 0.9767784403709929, 0.9847311397078651, 0.010821221315471044, 0.9656330560318594, 0.2027108822232974, 0.07932164956563811, 0.07932164956563811, 0.05288109971042541, 0.5816920968146795, 0.9977908256221616, 0.9600324646712343, 0.9859103777988385, 0.9922730751742057, 0.004918061817771616, 0.002459030908885808, 0.9909894562809806, 0.9942023851612063, 0.985229796394271, 0.9887627933207868, 0.989625850307879, 0.9794146649472909, 0.96079074591827, 0.9811932454805987, 0.9695359790100386, 0.9888259043200673, 0.9966040579375054, 0.9937413625575694, 0.9754979330138939, 0.9787935259484369, 0.9981038011461383, 0.388502420526828, 0.040894991634402945, 0.5725298828816413, 0.9921948780349744, 0.9653834910324637, 0.9931624187073915, 0.9919279008504711, 0.9767181815082271, 0.18397478560538227, 0.8021300652394667, 0.007358991424215291, 0.36917735091318676, 0.5433176107778975, 0.00696561039458843, 0.07662171434047273, 0.9937482406390025, 0.09191057336539318, 0.1378658600480898, 0.06318851918870781, 0.0689329300240449, 0.6376296027224152, 0.9836247549077171, 0.9821778435571258, 0.9738254360857522, 0.9662938620035447, 0.025428785842198546, 0.9942307807131885, 0.983929571987246, 0.9908413957734808, 0.005897865451032624, 0.9737375280083164, 0.11427407867226698, 0.8815428926146309, 0.984019028038164, 0.9826798693258527, 0.709374194830225, 0.07411372184793395, 0.1482274436958679, 0.06352604729822911, 0.08023242220092407, 0.04457356788940226, 0.7220917998083166, 0.15155013082396768, 0.23071109430086995, 0.7567323893068535, 0.11278320326036044, 0.8740698252677934, 0.482035735608695, 0.5032241195914948, 0.015891287987099836, 0.37620871079982804, 0.6065405745548248, 0.015355457583666451, 0.9799980552720182, 0.01849052934475506, 0.01007345780782536, 0.9871988651668854, 0.9933363839577829, 0.9859912284228262, 0.9830479429977114, 0.9810875747347629, 0.9783088327338642, 0.9723722481691282, 0.9905682110670785, 0.9973092868386864, 0.9782708568159952, 0.9797049511401605, 0.9954472898799595, 0.9951201617425931, 0.9851260021604904, 0.988335391742989, 0.9793706677601205, 0.9667744149607475, 0.9867894847361057, 0.9967474239900945, 0.9730928049583907, 0.9789793103781904, 0.0719340360115687, 0.0037860018953457205, 0.9237844624643559, 0.970404645930015, 0.986320529105593, 0.9940180934832152, 0.9757867201587758, 0.992423936587014, 0.9864046285558357, 0.9864343166056102, 0.7104840158289657, 0.1937683679533543, 0.08396629277978686, 0.9897712603922576, 0.9714400768330144, 0.9861748470526208, 0.9895784913023471, 0.994368892140803, 0.9864809193019488, 0.9990838534358448, 0.03407419129242025, 0.9540773561877671, 0.9878415702478175, 0.008980377911343795, 0.9947663105446635, 0.9853842980080678, 0.9692279500673464, 0.17352584772846316, 0.8225125182329154, 0.23044243304191406, 0.7611583394414737, 0.006983104031573153, 0.006983104031573153, 0.9839985221102209, 0.34170833829266883, 0.16136227086042695, 0.16407424179925767, 0.11119080849205891, 0.14102248881919666, 0.08135912816492115, 0.4190634212592453, 0.572896829063272, 0.6889092601523921, 0.29198803079306684, 0.013686938943425007, 0.9895273123123598, 0.9946981158837193, 0.9877032783536049, 0.9731934626328989, 0.9934298220070804, 0.9776802037961625, 0.9938906336721707, 0.9704855317801246, 0.044300944813972794, 0.0166128543052398, 0.0996771258314388, 0.0996771258314388, 0.7309655894305511, 0.9763480284797524, 0.9910294624520809, 0.05376480724370944, 0.03910167799542505, 0.05865251699313757, 0.004887709749428131, 0.8406860769016385, 0.9786094754106655, 0.3605705301160279, 0.1477748074246016, 0.005910992296984064, 0.07684289986079283, 0.1004868690487291, 0.3132825917401554, 0.9635465773562031, 0.985146706412672, 0.8580501745050266, 0.13790092090259357, 0.19773724438685894, 0.6014507850100292, 0.19773724438685894, 0.15973206946951862, 0.6389282778780745, 0.1980677661422031, 0.9728852006983689, 0.018863206442676864, 0.9620235285765201, 0.9878857201619008, 0.060652331404292104, 0.9300024148658123, 0.9722369763875645, 0.9671487289229823, 0.984499716726821, 0.9757882046565348, 0.9705929685493707, 0.2368603072254776, 0.3906657015277358, 0.039989402518587125, 0.11073988389762589, 0.12919653121389688, 0.09535934446740008, 0.9926901040656512, 0.9742503796389648, 0.9910307582306683, 0.9211331482345422, 0.0771392291624986, 0.9549987505275587, 0.042209889526079944, 0.9820517329745098, 0.9598089989888587, 0.9829572718311163, 0.9790165648592256, 0.5648872992062376, 0.10621812463707031, 0.02896857944647372, 0.09173383491383344, 0.13035860750913175, 0.08207764176500887, 0.980848740246109, 0.14666165974303672, 0.2025327682165745, 0.6425177474456846, 0.47985779096264025, 0.03374000092706064, 0.3186555643111283, 0.05248444588653878, 0.011246666975686881, 0.10496889177307756, 0.9587248098333243, 0.23856655345817004, 0.7468170369125323, 0.9929456035614633, 0.21921908381594843, 0.6576572514478453, 0.10384061864965978, 0.011537846516628864, 0.9769961967274462, 0.9814815030626795, 0.9706935161015091, 0.9832169845261173, 0.20508336599250454, 0.17060032215305687, 0.2232323364343191, 0.3647943058804727, 0.00907448522090728, 0.027223455662721843, 0.2749424760765122, 0.6615803330591074, 0.06014366664173703, 0.1348687195007823, 0.8654076167966865, 0.12324390200701789, 0.8583057461203032, 0.004401567928822067, 0.01760627171528827, 0.9923871695843709, 0.9660466505860644, 0.027601332873887555, 0.9821148646042054, 0.9826409254361514, 0.08429206905932655, 0.08795694162712336, 0.8245963277542816, 0.9961641292641301, 0.9711467536259695, 0.9728895587983716, 0.9850145942960545, 0.6532789191207506, 0.3371762163203874, 0.010536756760012107, 0.990970310963418, 0.03059031191493529, 0.8982427953203727, 0.019466562127686094, 0.05005687404262139, 0.0027809374468122992, 0.966829283559805, 0.03139056115453912, 0.899668323022037, 0.0982830941116511, 0.9974853945044584, 0.9830313421944726, 0.9934657859357896, 0.9916880736016249, 0.9835451289877031, 0.9808968207222141, 0.9820566544087195, 0.15728586916268233, 0.8257508131040823, 0.9851323192701575, 0.02096026211213101, 0.9764831013602557, 0.29791988668843855, 0.12102995396717817, 0.48877481409821955, 0.023274991147534264, 0.06516997521309593, 0.004654998229506852, 0.9800785599666171, 0.7947706936434977, 0.02256446764287533, 0.18302290421443324, 0.995161932421644, 0.9825427606663457, 0.9900805698854496, 0.01042190073563631, 0.9846935661198309, 0.014270921248113492, 0.9757137901047539, 0.9787527072416073, 0.6769952626681688, 0.10578050979190137, 0.21156101958380275, 0.974083396573163, 0.0051821177264671295, 0.025910588632335644, 0.9690560148493531, 0.6797782482542097, 0.3189083139958021, 0.01040263383949314, 0.00520131691974657, 0.9882502147518483, 0.11347299763186448, 0.03782433254395483, 0.6524697363832208, 0.04728041567994354, 0.1512973301758193, 0.29999762900112853, 0.055318711730704545, 0.5999952580022571, 0.04468049793633829, 0.9914441594194284, 0.9774177746867188, 0.9582708572864506, 0.17944324147684024, 0.8134760280283424, 0.5253140209566436, 0.14628998051957165, 0.059845901121642946, 0.2659817827628575, 0.9515771148196561, 0.2335537886790078, 0.18750092893948514, 0.26973817847434706, 0.24013276864179678, 0.010964966604648255, 0.058114323004635746, 0.22750952187389975, 0.19637663993326082, 0.29695979697224806, 0.2730114262486797, 0.004789674144713678, 0.002394837072356839, 0.14099254611459006, 0.19922859777061638, 0.27585498152854576, 0.2727899261782286, 0.1103419926114183, 0.05697430744094252, 0.6674133157367552, 0.2767323504274351, 0.44150451786214967, 0.2185665930010642, 0.1617392788207875, 0.07431264162036183, 0.10491196464051082, 0.2716516180971194, 0.17271141214481395, 0.1996162049914935, 0.15535348127598841, 0.10935496447360078, 0.09112913706133399, 0.18931591774338202, 0.22208213427589044, 0.24392627863089605, 0.32402147459924996, 0.021844144355005618, 0.9716184748122216, 0.9895840055204639, 0.970256898942545, 0.9947252601896027, 0.9772459373695551, 0.8127490417116612, 0.1777888528744259, 0.008466135851163138, 0.008466135851163138, 0.6586925820139018, 0.17382165358700186, 0.09148508083526415, 0.08233657275173772, 0.5808148519591019, 0.39952004267707003, 0.010071933849001766, 0.006714622566001177, 0.9792827583191562, 0.8789326217642373, 0.11464338544750921, 0.6722732236265444, 0.0770955531681817, 0.19428079398381787, 0.040089687647454485, 0.012335288506909072, 0.9737699816513695, 0.027049166156982486, 0.9741452894428385, 0.9868268311887101, 0.9968610047902765, 0.9985837012262341, 0.9968266178087464, 0.979457677778286, 0.9763683357528637, 0.4666085800596515, 0.032859759159130385, 0.4666085800596515, 0.02957378324321735, 0.0032859759159130386, 0.042664325671571864, 0.8959508391030091, 0.05333040708946483, 0.9819634646422284, 0.8190847126825586, 0.18068045132703497, 0.9750217499263597, 0.987817245705628, 0.9809512079497735, 0.15638380152350315, 0.8340469414586834, 0.0286187148611173, 0.7333545683161309, 0.01430935743055865, 0.1430935743055865, 0.07870146586807257, 0.9875967388161971], \"Term\": [\"account\", \"account\", \"account\", \"account\", \"account\", \"account\", \"account immediately\", \"account right\", \"account suspended\", \"act\", \"act\", \"agree\", \"asap\", \"asking\", \"asshole\", \"ban\", \"ban\", \"ban\", \"ban\", \"ban\", \"ban realdonaldtrump\", \"ban realdonaldtrump\", \"ban trump\", \"ban trump\", \"ban trump\", \"bank\", \"banned\", \"banned\", \"banned\", \"banned\", \"birthday\", \"bitch\", \"bitcoin\", \"bitcoin\", \"block\", \"blood\", \"blood hand\", \"bro\", \"btc\", \"buy\", \"calling\", \"cancel\", \"capitol\", \"capitol\", \"captjamyl\", \"care\", \"care\", \"censoring\", \"claudiajng\", \"claudiajng square\", \"code\", \"come\", \"come\", \"complicit\", \"complicit\", \"complicit\", \"coup\", \"coup\", \"coup\", \"crypto\", \"cut\", \"cut\", \"damn\", \"day\", \"day\", \"day\", \"day\", \"day\", \"deactivate\", \"deactivate account\", \"deactivate realdonaldtrump\", \"deactivate trump\", \"delete\", \"delete\", \"delete\", \"delete account\", \"delete realdonaldtrump\", \"delete trump\", \"deletetrumpstwitter\", \"dionnewarwick\", \"dionnewarwick twitter\", \"disable\", \"dm\", \"domestic\", \"donald\", \"donald trump\", \"dorsey\", \"dude\", \"ericanlewedim\", \"facebook\", \"facebook\", \"facebook\", \"feed\", \"feel\", \"fipradio\", \"follow\", \"following\", \"fuck\", \"fuck\", \"fuck\", \"going\", \"going\", \"going\", \"going\", \"gonna\", \"good\", \"good\", \"good\", \"good\", \"good\", \"grow\", \"hand\", \"happened\", \"happening\", \"happening\", \"happy\", \"happy birthday\", \"happy new\", \"happy new\", \"hard\", \"help\", \"help\", \"hey\", \"hey jack\", \"hour\", \"hour\", \"hour\", \"hour\", \"immediately\", \"immediately\", \"immediately\", \"immediately\", \"incite\", \"incite\", \"incite violence\", \"incite violence\", \"inciting\", \"inciting\", \"inciting\", \"inciting violence\", \"inciting violence\", \"inciting violence\", \"jack account\", \"jack account\", \"jack ban\", \"jack ban\", \"jack bitcoin\", \"jack block\", \"jack close\", \"jack come\", \"jack complicit\", \"jack cut\", \"jack deactivate\", \"jack delete\", \"jack dionnewarwick\", \"jack disable\", \"jack fipradio\", \"jack follow\", \"jack fuck\", \"jack fucking\", \"jack going\", \"jack gonna\", \"jack good\", \"jack happy\", \"jack help\", \"jack hey\", \"jack jack\", \"jack jack\", \"jack jack\", \"jack kindly\", \"jack know\", \"jack let\", \"jack like\", \"jack love\", \"jack make\", \"jack man\", \"jack need\", \"jack need\", \"jack need\", \"jack neerajka\", \"jack pull\", \"jack really\", \"jack remove\", \"jack right\", \"jack send\", \"jack shut\", \"jack stop\", \"jack stop\", \"jack suspend\", \"jack suspend\", \"jack thank\", \"jack thanks\", \"jack think\", \"jack time\", \"jack time\", \"jack trump\", \"jack trump\", \"jack trump\", \"jack trump\", \"jack turn\", \"jack twitter\", \"jack twitter\", \"jack twitter\", \"jack twitter\", \"jack twitter\", \"jack twitter\", \"jack twittersafety\", \"jack twittersafety\", \"jack twittersupport\", \"jack twittersupport\", \"jack twittersupport\", \"jack verified\", \"jack verify\", \"jack waiting\", \"jack want\", \"job\", \"kick\", \"kindly\", \"kindly verify\", \"know\", \"know\", \"know\", \"know\", \"know\", \"late\", \"lead\", \"let\", \"let\", \"let\", \"let\", \"let\", \"let trump\", \"like\", \"like\", \"like\", \"like\", \"like\", \"like\", \"listening\", \"lock\", \"love\", \"love\", \"make\", \"make\", \"make\", \"man\", \"man\", \"man\", \"mark\", \"maybe\", \"maybe\", \"mazinnamdikanu\", \"medium\", \"medium\", \"message\", \"michael_saylor\", \"monster\", \"national\", \"nazi\", \"need\", \"need\", \"need\", \"need\", \"need\", \"need\", \"need shut\", \"neerajka\", \"nengiofficial\", \"new\", \"new\", \"new year\", \"new year\", \"nice\", \"ok\", \"past\", \"past time\", \"people\", \"people\", \"people\", \"people\", \"people\", \"people\", \"permanent\", \"permanently\", \"permanently\", \"permanently\", \"platform\", \"platform\", \"platform\", \"platform\", \"platform\", \"platform\", \"platform incite\", \"pls\", \"pls\", \"plug\", \"potus\", \"potus\", \"potus\", \"potus\", \"president account\", \"pull\", \"pull plug\", \"read\", \"realdonaldtrump\", \"realdonaldtrump\", \"realdonaldtrump\", \"realdonaldtrump\", \"realdonaldtrump\", \"realdonaldtrump\", \"realdonaldtrump twitter\", \"realdonaldtrump twitter\", \"realdonaldtrump twitter\", \"really\", \"really\", \"remove\", \"remove\", \"remove\", \"remove\", \"remove trump\", \"removed\", \"removed\", \"responsible\", \"rid\", \"right\", \"right\", \"right\", \"right thing\", \"said\", \"save\", \"security\", \"sedition\", \"sedition\", \"sedition\", \"seriously\", \"shut\", \"shut\", \"shut\", \"shut\", \"shut\", \"shut account\", \"shut account\", \"shut realdonaldtrump\", \"shut realdonaldtrump\", \"shut trump\", \"shut twitter\", \"sir\", \"social\", \"social medium\", \"soon\", \"square\", \"stand\", \"stand\", \"state\", \"state\", \"step\", \"stop\", \"stop\", \"stop\", \"stop\", \"stop\", \"stop\", \"support\", \"suspend\", \"suspend\", \"suspend\", \"suspend account\", \"suspend donald\", \"suspend realdonaldtrump\", \"suspend realdonaldtrump\", \"suspend trump\", \"suspend trump\", \"suspending\", \"terrorism\", \"terrorist\", \"terrorist\", \"terrorist\", \"th\", \"thank\", \"thank\", \"thank\", \"thanks\", \"thanks\", \"thing\", \"thing\", \"thing\", \"think\", \"think\", \"think\", \"think\", \"think\", \"time\", \"time\", \"time\", \"time\", \"time ban\", \"time delete\", \"time remove\", \"time shut\", \"time shut\", \"today\", \"today\", \"today\", \"today\", \"true\", \"trump\", \"trump\", \"trump\", \"trump\", \"trump\", \"trump\", \"trump account\", \"trump account\", \"trump account\", \"trump account\", \"trump account\", \"trump account\", \"trump twitter\", \"trump twitter\", \"trump twitter\", \"trump twitter\", \"trump twitter\", \"turn\", \"turn\", \"turn\", \"tweet\", \"tweet\", \"tweet\", \"tweet\", \"tweet\", \"twitter\", \"twitter\", \"twitter\", \"twitter\", \"twitter\", \"twitter\", \"twitter account\", \"twitter account\", \"twitter account\", \"twitter account\", \"twitter account\", \"twitter ban\", \"twitter delete\", \"twitter remove\", \"twitter shut\", \"twitter suspend\", \"twitter twittersafety\", \"twitter twittersafety\", \"twitter twittersafety\", \"twitter twittersafety\", \"twitter twittersupport\", \"twitter twittersupport\", \"twitter twittersupport\", \"twitter twittersupport\", \"twittersafety\", \"twittersafety\", \"twittersafety\", \"twittersafety\", \"twittersafety shut\", \"twittersafety twittersupport\", \"twittersafety twittersupport\", \"twittersupport\", \"twittersupport\", \"twittersupport\", \"twittersupport\", \"twittersupport\", \"twittersupport shut\", \"twittersupport shut\", \"united\", \"united state\", \"verified\", \"verify\", \"verify ericanlewedim\", \"verify mazinnamdikanu\", \"verify nengiofficial\", \"violence\", \"violence\", \"violence\", \"violence\", \"violence\", \"waiting\", \"waiting\", \"waiting\", \"war\", \"way\", \"way\", \"woman\", \"worse\", \"wrong\", \"wtf\", \"wtf\", \"year\", \"year\", \"year\", \"year\", \"year\", \"year jack\"]}, \"R\": 30, \"lambda.step\": 0.01, \"plot.opts\": {\"xlab\": \"PC1\", \"ylab\": \"PC2\"}, \"topic.order\": [6, 4, 2, 1, 3, 5]};\n",
       "\n",
       "function LDAvis_load_lib(url, callback){\n",
       "  var s = document.createElement('script');\n",
       "  s.src = url;\n",
       "  s.async = true;\n",
       "  s.onreadystatechange = s.onload = callback;\n",
       "  s.onerror = function(){console.warn(\"failed to load library \" + url);};\n",
       "  document.getElementsByTagName(\"head\")[0].appendChild(s);\n",
       "}\n",
       "\n",
       "if(typeof(LDAvis) !== \"undefined\"){\n",
       "   // already loaded: just create the visualization\n",
       "   !function(LDAvis){\n",
       "       new LDAvis(\"#\" + \"ldavis_el280461405413336383525464629795\", ldavis_el280461405413336383525464629795_data);\n",
       "   }(LDAvis);\n",
       "}else if(typeof define === \"function\" && define.amd){\n",
       "   // require.js is available: use it to load d3/LDAvis\n",
       "   require.config({paths: {d3: \"https://cdnjs.cloudflare.com/ajax/libs/d3/3.5.5/d3.min\"}});\n",
       "   require([\"d3\"], function(d3){\n",
       "      window.d3 = d3;\n",
       "      LDAvis_load_lib(\"https://cdn.rawgit.com/bmabey/pyLDAvis/files/ldavis.v1.0.0.js\", function(){\n",
       "        new LDAvis(\"#\" + \"ldavis_el280461405413336383525464629795\", ldavis_el280461405413336383525464629795_data);\n",
       "      });\n",
       "    });\n",
       "}else{\n",
       "    // require.js not available: dynamically load d3 & LDAvis\n",
       "    LDAvis_load_lib(\"https://cdnjs.cloudflare.com/ajax/libs/d3/3.5.5/d3.min.js\", function(){\n",
       "         LDAvis_load_lib(\"https://cdn.rawgit.com/bmabey/pyLDAvis/files/ldavis.v1.0.0.js\", function(){\n",
       "                 new LDAvis(\"#\" + \"ldavis_el280461405413336383525464629795\", ldavis_el280461405413336383525464629795_data);\n",
       "            })\n",
       "         });\n",
       "}\n",
       "</script>"
      ],
      "text/plain": [
       "PreparedData(topic_coordinates=               x          y  topics  cluster       Freq\n",
       "topic                                                  \n",
       "5      1.465019  -47.625065  1       1        21.794732\n",
       "3      54.854797 -36.476795  2       1        17.403924\n",
       "1      32.212929 -61.444572  3       1        16.274688\n",
       "0      5.111096  -14.110332  4       1        16.203400\n",
       "2      26.350170 -33.374702  5       1        15.634157\n",
       "4      38.109818 -7.222781   6       1        12.689098, topic_info=              Term        Freq        Total Category  logprob  loglift\n",
       "1492  shut          719.000000  719.000000   Default  30.0000  30.0000\n",
       "922   jack shut     490.000000  490.000000   Default  29.0000  29.0000\n",
       "406   delete        406.000000  406.000000   Default  28.0000  28.0000\n",
       "1896  verify        327.000000  327.000000   Default  27.0000  27.0000\n",
       "190   bitcoin       327.000000  327.000000   Default  26.0000  26.0000\n",
       "...       ...              ...         ...       ...      ...      ...\n",
       "531   facebook      55.656147   97.811488    Topic6  -4.9433   1.5006 \n",
       "1768  twitter       104.945455  1152.211064  Topic6  -4.3090  -0.3316 \n",
       "1034  like          52.511394   169.176333   Topic6  -5.0015   0.8945 \n",
       "945   jack twitter  60.027162   737.471029   Topic6  -4.8677  -0.4440 \n",
       "1722  trump         52.944758   911.995482   Topic6  -4.9932  -0.7820 \n",
       "\n",
       "[336 rows x 6 columns], token_table=      Topic      Freq       Term\n",
       "term                            \n",
       "11    1      0.166870  account  \n",
       "11    2      0.203852  account  \n",
       "11    3      0.231814  account  \n",
       "11    4      0.326524  account  \n",
       "11    5      0.062238  account  \n",
       "...  ..           ...      ...  \n",
       "1988  2      0.733355  year     \n",
       "1988  3      0.014309  year     \n",
       "1988  5      0.143094  year     \n",
       "1988  6      0.078701  year     \n",
       "1991  2      0.987597  year jack\n",
       "\n",
       "[497 rows x 3 columns], R=30, lambda_step=0.01, plot_opts={'xlab': 'PC1', 'ylab': 'PC2'}, topic_order=[6, 4, 2, 1, 3, 5])"
      ]
     },
     "execution_count": 21,
     "metadata": {},
     "output_type": "execute_result"
    }
   ],
   "source": [
    "# visualization of LDA model \n",
    "import pyLDAvis.sklearn\n",
    "\n",
    "pyLDAvis.enable_notebook()\n",
    "panel = pyLDAvis.sklearn.prepare(lda_model, doc_term_matrix_1, tfidfconverter, mds='tsne')\n",
    "panel"
   ]
  },
  {
   "cell_type": "code",
   "execution_count": 22,
   "metadata": {},
   "outputs": [
    {
     "name": "stdout",
     "output_type": "stream",
     "text": [
      "Log likelihood:  -456546.9100393462\n",
      "Perplexity:  1673.4211522474343\n"
     ]
    }
   ],
   "source": [
    "# test LDA model\n",
    "\n",
    "# log likelihood (higher score is better)\n",
    "print(\"Log likelihood: \", lda_model.score(doc_term_matrix_1))\n",
    "\n",
    "\n",
    "# perplexity (lower score is better)\n",
    "print(\"Perplexity: \", lda_model.perplexity(doc_term_matrix_1))"
   ]
  },
  {
   "cell_type": "code",
   "execution_count": 23,
   "metadata": {},
   "outputs": [
    {
     "data": {
      "text/plain": [
       "GridSearchCV(estimator=LatentDirichletAllocation(),\n",
       "             param_grid={'learning_decay': [0.5, 0.7, 0.9],\n",
       "                         'n_components': [5, 8, 10, 12]})"
      ]
     },
     "execution_count": 23,
     "metadata": {},
     "output_type": "execute_result"
    }
   ],
   "source": [
    "# cross-validation to find best parameters for LDA model\n",
    "\n",
    "#import cross-validation tool\n",
    "from sklearn.model_selection import GridSearchCV\n",
    "\n",
    "# define search parameters\n",
    "search_params = {'n_components': [5, 8, 10, 12], 'learning_decay': [.5, .7, .9]}\n",
    "\n",
    "# initialize model for cross-validation\n",
    "lda = LatentDirichletAllocation()\n",
    "\n",
    "# initialize grid search class \n",
    "model = GridSearchCV(lda, param_grid=search_params)\n",
    "\n",
    "# run grid search \n",
    "model.fit(doc_term_matrix_1)"
   ]
  },
  {
   "cell_type": "code",
   "execution_count": 24,
   "metadata": {},
   "outputs": [
    {
     "name": "stdout",
     "output_type": "stream",
     "text": [
      "Parameters for best model:  {'learning_decay': 0.9, 'n_components': 5}\n",
      "Log likelihood score of best model:  -101517.11492313529\n",
      "Perplexity score of best model:  1454.57391921786\n"
     ]
    }
   ],
   "source": [
    "# what is best model? \n",
    "best_lda_model = model.best_estimator_\n",
    "\n",
    "# print parameters for best model\n",
    "print(\"Parameters for best model: \", model.best_params_)\n",
    "\n",
    "# print log likelihood score\n",
    "print(\"Log likelihood score of best model: \", model.best_score_)\n",
    "\n",
    "# print perplexity score\n",
    "print(\"Perplexity score of best model: \", best_lda_model.perplexity(doc_term_matrix_1))"
   ]
  },
  {
   "cell_type": "code",
   "execution_count": 25,
   "metadata": {},
   "outputs": [],
   "source": [
    "# run LDA model with best parameters\n",
    "\n",
    "#import LDA tool \n",
    "from sklearn.decomposition import LatentDirichletAllocation\n",
    "\n",
    "lda_model_2 = LatentDirichletAllocation(n_components = 5, max_iter=10, learning_method='online', learning_decay=.5)\n",
    "lda_2 = lda_model_2.fit_transform(doc_term_matrix_1)"
   ]
  },
  {
   "cell_type": "code",
   "execution_count": 52,
   "metadata": {},
   "outputs": [
    {
     "name": "stdout",
     "output_type": "stream",
     "text": [
      "Latent Dirichlet Allocation optimized model learning decay 0.9, number of components 5\n",
      "[('twitter', 327.35265576724504), ('jack twitter', 287.489294835327), ('account', 256.37230808106847), ('suspend', 218.47068595765597), ('need', 203.8870768673765), ('trump', 164.93087012228347), ('shut', 163.28108202395663), ('right', 149.28769429662367), ('jack need', 147.32683418116244), ('twittersupport', 143.5739860872805)]\n",
      "[('verify', 780.9799108961281), ('jack jack', 618.747886671667), ('jack verify', 541.4606373819423), ('ericanlewedim', 334.57359622150597), ('verify ericanlewedim', 288.47759438335976), ('jack shut', 272.6735238875097), ('shut', 254.5639772526102), ('btc', 235.4786782340303), ('verified', 226.4888431936203), ('mazinnamdikanu', 168.23524630448733)]\n",
      "[('follow', 255.4689467984964), ('bitcoin', 253.3606899474227), ('jack bitcoin', 244.47172457591978), ('account', 213.8017084471193), ('pls', 191.68104665557055), ('delete', 165.75396235515373), ('jack follow', 155.5742550084303), ('twitter', 141.32401114614754), ('man', 122.20361148000885), ('know', 120.2695043430123)]\n",
      "[('year', 813.3773072176402), ('happy', 778.393129490518), ('new', 758.1056425101173), ('new year', 700.7226402440849), ('jack happy', 657.8757202567341), ('happy new', 637.3344436247219), ('bitcoin', 514.8079624949972), ('year jack', 290.3295825843114), ('birthday', 217.2723227915301), ('like', 209.8746150725571)]\n",
      "[('love', 235.88709292813348), ('time', 213.81622588811175), ('let', 170.78000344533012), ('help', 165.66089357145958), ('jack time', 156.07579617862723), ('twitter', 135.78496494187152), ('thank', 135.5426955010107), ('jack love', 129.62472465828736), ('realdonaldtrump', 113.83422681715874), ('jack thank', 97.97302999945225)]\n"
     ]
    }
   ],
   "source": [
    "# top topics of 2nd LDA model\n",
    "\n",
    "def print_topics(model, vectorizer, top_n=10):\n",
    "    for idx, topic in enumerate(model.components_):\n",
    "        #print(\"Topic %d:\" % (idx))\n",
    "        print([(vectorizer.get_feature_names()[i], topic[i])\n",
    "                        for i in topic.argsort()[:-top_n - 1:-1]])\n",
    " \n",
    "print(\"Latent Dirichlet Allocation optimized model learning decay 0.9, number of components 5\")\n",
    "print_topics(lda_model_2, tfidfconverter )\n"
   ]
  },
  {
   "cell_type": "code",
   "execution_count": 29,
   "metadata": {},
   "outputs": [
    {
     "data": {
      "text/html": [
       "\n",
       "<link rel=\"stylesheet\" type=\"text/css\" href=\"https://cdn.rawgit.com/bmabey/pyLDAvis/files/ldavis.v1.0.0.css\">\n",
       "\n",
       "\n",
       "<div id=\"ldavis_el280461405416506418725650514474\"></div>\n",
       "<script type=\"text/javascript\">\n",
       "\n",
       "var ldavis_el280461405416506418725650514474_data = {\"mdsDat\": {\"x\": [150.22215270996094, 51.16336441040039, -73.1445541381836, -66.4101333618164, 54.41732406616211], \"y\": [-72.2695541381836, -159.968017578125, 21.523815155029297, -110.60643768310547, 12.44344425201416], \"topics\": [1, 2, 3, 4, 5], \"cluster\": [1, 1, 1, 1, 1], \"Freq\": [26.1592274975644, 19.067808960680825, 18.655855049536083, 18.114422713386567, 18.002685778832138]}, \"tinfo\": {\"Term\": [\"verify\", \"year\", \"happy\", \"new\", \"jack jack\", \"new year\", \"jack happy\", \"happy new\", \"jack verify\", \"bitcoin\", \"love\", \"follow\", \"jack bitcoin\", \"suspend\", \"ericanlewedim\", \"time\", \"let\", \"verify ericanlewedim\", \"shut\", \"pls\", \"jack shut\", \"jack time\", \"need\", \"jack twitter\", \"help\", \"year jack\", \"delete\", \"right\", \"jack need\", \"btc\", \"suspend\", \"right\", \"jack need\", \"jack suspend\", \"twittersafety\", \"fipradio\", \"twitter twittersupport\", \"jack fipradio\", \"remove\", \"follower\", \"shut account\", \"thing\", \"fuck\", \"hey\", \"shut realdonaldtrump\", \"suspend account\", \"donald\", \"immediately\", \"donald trump\", \"twitter shut\", \"jack hey\", \"suspend trump\", \"jack twittersafety\", \"understand\", \"post\", \"shit\", \"complicit\", \"support\", \"end\", \"jack remove\", \"hey jack\", \"need\", \"jack twitter\", \"think\", \"twittersupport\", \"twitter\", \"account\", \"shut\", \"violence\", \"trump\", \"trump account\", \"realdonaldtrump\", \"love\", \"let\", \"jack time\", \"jack love\", \"jack thank\", \"block\", \"money\", \"dm\", \"jack help\", \"bro\", \"jack let\", \"suspended\", \"job\", \"use\", \"cut\", \"crypto\", \"gonna\", \"realdonaldtrump twitter\", \"time shut\", \"thank jack\", \"trying\", \"old\", \"tell\", \"happen\", \"ok\", \"th\", \"january\", \"hand\", \"riot\", \"covid\", \"time\", \"help\", \"thank\", \"today\", \"realdonaldtrump\", \"twitter\", \"people\", \"jack twitter\", \"god\", \"trump\", \"account\", \"violence\", \"verify\", \"jack jack\", \"jack verify\", \"ericanlewedim\", \"verify ericanlewedim\", \"jack shut\", \"btc\", \"verified\", \"mazinnamdikanu\", \"captjamyl\", \"verify mazinnamdikanu\", \"make\", \"sir\", \"nengiofficial\", \"verify captjamyl\", \"jack verified\", \"dionnewarwick\", \"app\", \"jack dionnewarwick\", \"kindly\", \"michael_saylor\", \"really\", \"jack stop\", \"verify nengiofficial\", \"say\", \"great\", \"dionnewarwick twitter\", \"kindly verify\", \"jack ban\", \"verify account\", \"jack kindly\", \"shut\", \"stop\", \"shut trump\", \"going\", \"twitter\", \"account\", \"trump\", \"year\", \"happy\", \"new\", \"new year\", \"jack happy\", \"happy new\", \"year jack\", \"birthday\", \"like\", \"thanks\", \"jack twittersupport\", \"happy birthday\", \"verifycaptjamyl\", \"way\", \"send\", \"jack thanks\", \"long\", \"start\", \"best\", \"fucking\", \"happybirthdaynengi\", \"jack send\", \"gift\", \"heart\", \"neerajka\", \"check\", \"hope\", \"giveaway\", \"president\", \"jack neerajka\", \"look\", \"bitcoin\", \"tweet\", \"twittersupport\", \"day\", \"world\", \"follow\", \"jack bitcoin\", \"pls\", \"delete\", \"jack follow\", \"jack pls\", \"guy\", \"jack delete\", \"deactivate\", \"come\", \"delete account\", \"buy\", \"orange\", \"sat\", \"jack know\", \"jack trump\", \"wish\", \"jack deactivate\", \"jack good\", \"jack want\", \"message\", \"bank\", \"dey\", \"turn\", \"delete trump\", \"coin\", \"deactivate trump\", \"soon\", \"user\", \"cashapp\", \"man\", \"want\", \"know\", \"good\", \"bitcoin\", \"twitter account\", \"account\", \"tweet\", \"twitter\", \"trump\", \"need\", \"jack twitter\"], \"Freq\": [624.0, 554.0, 531.0, 517.0, 494.0, 478.0, 448.0, 434.0, 432.0, 645.0, 333.0, 297.0, 284.0, 355.0, 267.0, 359.0, 241.0, 231.0, 468.0, 223.0, 218.0, 220.0, 417.0, 657.0, 275.0, 198.0, 193.0, 243.0, 239.0, 188.0, 354.44298611788156, 242.20172113802272, 239.02045628485956, 191.41541410751168, 179.75672252813027, 177.90470851357819, 178.5446519937348, 172.9975369003139, 163.46782532571368, 160.89172090107647, 143.939031354659, 139.03708900347812, 136.32475608459848, 131.23691553583927, 127.73109019236769, 126.83618972248053, 126.1305522229095, 121.77157679928528, 116.5295811172238, 114.37938673469644, 111.36848974562282, 105.33166370861356, 101.75609921744034, 104.73354269044353, 106.739385446379, 98.39271087070894, 91.71352632237519, 96.13218382876998, 89.17886191676838, 87.04111630984318, 87.77209880584286, 330.78279604855385, 466.4175593704473, 135.92535401191031, 232.93190175402367, 531.0911727820996, 415.93390910027955, 264.904346482196, 173.20507669833202, 267.58093358343325, 161.8151502447403, 189.07672118945828, 332.25611197386377, 240.55025327272125, 219.83880748971268, 182.581448166673, 137.99880960775675, 135.4889159596073, 127.0726800935616, 126.68406782405299, 117.38330429637588, 110.79025163927422, 102.51280670773092, 97.33671476947953, 96.4351763627446, 93.81552735047114, 90.49301932551249, 93.73899640497439, 88.61281533645159, 80.03384926772827, 70.08569303968795, 71.40916674135218, 69.5410641868077, 63.906520530820956, 63.22583817693102, 62.28615615845875, 61.14981053545543, 57.79933269870873, 55.75577911063911, 54.46182362553734, 53.55150398318053, 53.63083361777264, 301.1684404120972, 233.33978862903925, 190.91713944409702, 122.582352596331, 160.33992001140635, 191.25838534047602, 87.14255153657079, 104.8469049816363, 67.41038112126203, 78.6147553744202, 75.79092485598248, 72.74696861721864, 623.0383567725058, 493.6153429683402, 431.95828863811494, 266.91106992768664, 230.137297851953, 217.52936520903398, 187.85662306415577, 180.68484825524152, 134.21217363772428, 132.01122967647981, 110.61484937076344, 109.56612181331288, 98.17960977135782, 97.33750731243033, 87.06023590124325, 86.67827752632924, 87.45629384035693, 83.97307006388871, 82.65454840122457, 100.07472989093188, 79.56440070479712, 76.3462602138507, 74.55555096143553, 74.35094992253833, 73.70728811964698, 72.76956668052667, 70.04470150803846, 67.11587040726828, 63.14237535385811, 61.14973256761786, 62.470414731253825, 203.08220463565078, 91.37308400300401, 82.87970565734959, 78.19744500957108, 98.9728309139799, 84.37876722585969, 75.69064539542929, 553.819690577803, 529.9993475315599, 516.1858200795574, 477.1143629865261, 447.9403649427657, 433.95403489954253, 197.68222959458896, 147.93834240488394, 142.9013243278473, 140.27940126123195, 110.94711055837783, 95.33430530686115, 88.1018897143973, 77.26962300902582, 75.19591428266429, 61.77766038862778, 61.342098741988735, 55.24856396581403, 55.07106042194955, 53.21417662806634, 54.31173440492902, 51.08377033167525, 51.013041412521346, 51.850037801393064, 48.99538356049381, 47.91186298509159, 47.4192055581044, 47.11400018248104, 45.45877869741385, 43.89683336833138, 52.894624077766466, 350.5270972843601, 76.67307654478554, 75.44320415893185, 58.19001324193206, 49.032165685302665, 296.5803609446616, 283.8134075554773, 222.5273745235256, 192.42796668385014, 180.6100869883441, 129.06231031677646, 129.37748747923467, 115.88709983241235, 115.1813610640153, 100.53904128359768, 93.53249830411849, 91.96271948404463, 87.9934064607144, 87.03108073306846, 83.88898198335283, 79.31534044103404, 85.10257084511723, 76.29978924987327, 76.1467255355757, 69.4356226110579, 64.86572338102499, 63.366847975804156, 62.068424071128476, 58.77662793620877, 57.25271815928937, 57.84637019792363, 56.33522290347078, 56.6900105615859, 54.51646309319736, 54.04052644108066, 141.869262999191, 124.78610413852385, 139.62390911182194, 136.6204044977373, 294.13283225011276, 121.74981528304663, 248.2078102112611, 95.69432949136588, 164.06661851129732, 118.45316656490982, 86.41715846778722, 80.24147454816753], \"Total\": [624.0, 554.0, 531.0, 517.0, 494.0, 478.0, 448.0, 434.0, 432.0, 645.0, 333.0, 297.0, 284.0, 355.0, 267.0, 359.0, 241.0, 231.0, 468.0, 223.0, 218.0, 220.0, 417.0, 657.0, 275.0, 198.0, 193.0, 243.0, 239.0, 188.0, 355.2574049983814, 243.0281995689939, 239.8411565489053, 192.22641771166434, 180.5702252077632, 178.72633329730436, 179.3783386149775, 173.81892147397565, 164.2859663237701, 161.75261567601447, 144.7541243884486, 139.8673237511833, 137.14144466070715, 132.06220378109907, 128.54698210676966, 127.64870459947967, 126.94384826750206, 122.59479444973294, 117.34231390774458, 115.19054029936588, 112.18867972723551, 106.14285517354108, 102.56798092738528, 105.59107247288921, 107.61778461344383, 99.21672292707012, 92.52863904390355, 97.00447502489331, 90.00482984026975, 87.8527565582219, 88.5981787366012, 417.79710517201323, 657.1309016888938, 150.7774540532836, 309.06355457627615, 1001.3928776803847, 849.1168131063131, 468.64197927568176, 246.4848016376383, 540.4774486385378, 263.86750860778716, 391.4636278392387, 333.12178841630146, 241.4187280539309, 220.69544857299485, 183.4375570028832, 138.85616131199058, 136.3570821517527, 127.94479261014166, 127.57829265785588, 118.2409804891312, 111.65705388923698, 103.3698938910227, 98.20369111880561, 97.30725122867942, 94.68959533435276, 91.35001434750636, 94.62756382641277, 89.47460069134756, 80.89420512414638, 70.94234503683828, 72.29072864203448, 70.41587666565138, 64.77593294727987, 64.09826771143314, 63.15236629632471, 62.01560587391846, 58.67363670963221, 56.621673939993684, 55.31966490849252, 54.413277878954744, 54.51538238180125, 359.98359999335685, 275.95806354520164, 253.54319406417508, 154.0300459544939, 391.4636278392387, 1001.3928776803847, 264.6115952318868, 657.1309016888938, 99.21924134165793, 540.4774486385378, 849.1168131063131, 246.4848016376383, 624.018958388541, 494.6138385457111, 432.93582977464104, 267.8890805954526, 231.11511891776257, 218.50776551401518, 188.8654211526282, 181.66629126872022, 135.1895841449544, 132.9994621816414, 111.59191092288613, 110.56803686364124, 99.17237362619315, 98.323506686332, 88.03870964034547, 87.65543309709001, 88.44229776919826, 84.97404546403604, 83.64093649411157, 101.28779159333222, 80.55440822649678, 77.34066184208031, 75.53798681001346, 75.33339873544014, 74.70811707514831, 73.76721204332031, 71.04690649146579, 68.0929494156307, 64.12200718590142, 62.12850804267671, 63.504120820636366, 468.64197927568176, 175.23062912927242, 164.70997840377063, 130.4690187951949, 1001.3928776803847, 849.1168131063131, 540.4774486385378, 554.8406159836873, 531.0034683253256, 517.1942651936492, 478.1190411246098, 448.9413298779004, 434.95744068514205, 198.6857172875918, 148.94650020872012, 143.915671909697, 141.30814637405925, 111.98425123971012, 96.33456276429067, 89.22263901276278, 78.2877751256763, 76.20650713360388, 62.778684485584016, 62.36435851584025, 56.26467395343172, 56.08710188781159, 54.21960624998719, 55.358968818760864, 52.08673125644854, 52.027075937258346, 52.88399058611543, 49.99766511163166, 48.92249753862102, 48.43520853310032, 48.12365430242062, 46.4773519718205, 44.89886472523112, 54.43064996165338, 645.4437532641186, 193.47659678148977, 309.06355457627615, 136.17172731580615, 69.5945597783604, 297.4971472499448, 284.732349991747, 223.49095640617344, 193.33369507042593, 181.51551478807687, 129.979360631516, 130.2988496834755, 116.78986587102679, 116.08539106362016, 101.45711153307785, 94.43574602297744, 92.8759940984755, 88.90990597842293, 87.95001732294459, 84.79676028147102, 80.22651282552685, 86.0884570961357, 77.20243101841885, 77.05705627165311, 70.34505898217147, 65.7842562949882, 64.29800401395643, 62.981717748948164, 59.68600297479388, 58.15701794609875, 58.768140128463855, 57.23799005408949, 57.60918854653516, 55.4376860809786, 54.96112404368637, 167.8592996418159, 147.26740046129413, 183.71430490291056, 182.08482078380672, 645.4437532641186, 188.53042659263267, 849.1168131063131, 193.47659678148977, 1001.3928776803847, 540.4774486385378, 417.79710517201323, 657.1309016888938], \"Category\": [\"Default\", \"Default\", \"Default\", \"Default\", \"Default\", \"Default\", \"Default\", \"Default\", \"Default\", \"Default\", \"Default\", \"Default\", \"Default\", \"Default\", \"Default\", \"Default\", \"Default\", \"Default\", \"Default\", \"Default\", \"Default\", \"Default\", \"Default\", \"Default\", \"Default\", \"Default\", \"Default\", \"Default\", \"Default\", \"Default\", \"Topic1\", \"Topic1\", \"Topic1\", \"Topic1\", \"Topic1\", \"Topic1\", \"Topic1\", \"Topic1\", \"Topic1\", \"Topic1\", \"Topic1\", \"Topic1\", \"Topic1\", \"Topic1\", \"Topic1\", \"Topic1\", \"Topic1\", \"Topic1\", \"Topic1\", \"Topic1\", \"Topic1\", \"Topic1\", \"Topic1\", \"Topic1\", \"Topic1\", \"Topic1\", \"Topic1\", \"Topic1\", \"Topic1\", \"Topic1\", \"Topic1\", \"Topic1\", \"Topic1\", \"Topic1\", \"Topic1\", \"Topic1\", \"Topic1\", \"Topic1\", \"Topic1\", \"Topic1\", \"Topic1\", \"Topic1\", \"Topic2\", \"Topic2\", \"Topic2\", \"Topic2\", \"Topic2\", \"Topic2\", \"Topic2\", \"Topic2\", \"Topic2\", \"Topic2\", \"Topic2\", \"Topic2\", \"Topic2\", \"Topic2\", \"Topic2\", \"Topic2\", \"Topic2\", \"Topic2\", \"Topic2\", \"Topic2\", \"Topic2\", \"Topic2\", \"Topic2\", \"Topic2\", \"Topic2\", \"Topic2\", \"Topic2\", \"Topic2\", \"Topic2\", \"Topic2\", \"Topic2\", \"Topic2\", \"Topic2\", \"Topic2\", \"Topic2\", \"Topic2\", \"Topic2\", \"Topic2\", \"Topic2\", \"Topic2\", \"Topic2\", \"Topic2\", \"Topic3\", \"Topic3\", \"Topic3\", \"Topic3\", \"Topic3\", \"Topic3\", \"Topic3\", \"Topic3\", \"Topic3\", \"Topic3\", \"Topic3\", \"Topic3\", \"Topic3\", \"Topic3\", \"Topic3\", \"Topic3\", \"Topic3\", \"Topic3\", \"Topic3\", \"Topic3\", \"Topic3\", \"Topic3\", \"Topic3\", \"Topic3\", \"Topic3\", \"Topic3\", \"Topic3\", \"Topic3\", \"Topic3\", \"Topic3\", \"Topic3\", \"Topic3\", \"Topic3\", \"Topic3\", \"Topic3\", \"Topic3\", \"Topic3\", \"Topic3\", \"Topic4\", \"Topic4\", \"Topic4\", \"Topic4\", \"Topic4\", \"Topic4\", \"Topic4\", \"Topic4\", \"Topic4\", \"Topic4\", \"Topic4\", \"Topic4\", \"Topic4\", \"Topic4\", \"Topic4\", \"Topic4\", \"Topic4\", \"Topic4\", \"Topic4\", \"Topic4\", \"Topic4\", \"Topic4\", \"Topic4\", \"Topic4\", \"Topic4\", \"Topic4\", \"Topic4\", \"Topic4\", \"Topic4\", \"Topic4\", \"Topic4\", \"Topic4\", \"Topic4\", \"Topic4\", \"Topic4\", \"Topic4\", \"Topic5\", \"Topic5\", \"Topic5\", \"Topic5\", \"Topic5\", \"Topic5\", \"Topic5\", \"Topic5\", \"Topic5\", \"Topic5\", \"Topic5\", \"Topic5\", \"Topic5\", \"Topic5\", \"Topic5\", \"Topic5\", \"Topic5\", \"Topic5\", \"Topic5\", \"Topic5\", \"Topic5\", \"Topic5\", \"Topic5\", \"Topic5\", \"Topic5\", \"Topic5\", \"Topic5\", \"Topic5\", \"Topic5\", \"Topic5\", \"Topic5\", \"Topic5\", \"Topic5\", \"Topic5\", \"Topic5\", \"Topic5\", \"Topic5\", \"Topic5\", \"Topic5\", \"Topic5\", \"Topic5\", \"Topic5\"], \"logprob\": [30.0, 29.0, 28.0, 27.0, 26.0, 25.0, 24.0, 23.0, 22.0, 21.0, 20.0, 19.0, 18.0, 17.0, 16.0, 15.0, 14.0, 13.0, 12.0, 11.0, 10.0, 9.0, 8.0, 7.0, 6.0, 5.0, 4.0, 3.0, 2.0, 1.0, -3.8154, -4.1962, -4.2094, -4.4315, -4.4943, -4.5047, -4.5011, -4.5327, -4.5893, -4.6052, -4.7166, -4.7512, -4.7709, -4.8089, -4.836, -4.843, -4.8486, -4.8838, -4.9278, -4.9464, -4.9731, -5.0288, -5.0634, -5.0345, -5.0156, -5.097, -5.1673, -5.1202, -5.1953, -5.2196, -5.2112, -3.8845, -3.5409, -4.7738, -4.2352, -3.411, -3.6554, -4.1066, -4.5315, -4.0965, -4.5995, -4.4438, -3.5638, -3.8868, -3.9769, -4.1625, -4.4425, -4.4609, -4.525, -4.528, -4.6043, -4.6621, -4.7398, -4.7916, -4.8009, -4.8284, -4.8645, -4.8292, -4.8855, -4.9873, -5.12, -5.1013, -5.1278, -5.2123, -5.223, -5.238, -5.2564, -5.3128, -5.3488, -5.3722, -5.3891, -5.3876, -3.6621, -3.9172, -4.1179, -4.561, -4.2924, -4.1161, -4.9022, -4.7172, -5.1589, -5.0052, -5.0418, -5.0828, -2.9133, -3.1461, -3.2796, -3.761, -3.9092, -3.9656, -4.1122, -4.1511, -4.4485, -4.465, -4.6418, -4.6514, -4.7611, -4.7697, -4.8813, -4.8857, -4.8768, -4.9174, -4.9332, -4.742, -4.9713, -5.0126, -5.0364, -5.0391, -5.0478, -5.0606, -5.0988, -5.1415, -5.2025, -5.2346, -5.2132, -4.0343, -4.833, -4.9305, -4.9887, -4.7531, -4.9126, -5.0212, -3.0016, -3.0456, -3.072, -3.1507, -3.2138, -3.2455, -4.0318, -4.3217, -4.3563, -4.3748, -4.6094, -4.7611, -4.84, -4.9712, -4.9984, -5.1949, -5.202, -5.3066, -5.3098, -5.3441, -5.3237, -5.385, -5.3864, -5.3701, -5.4267, -5.4491, -5.4594, -5.4659, -5.5016, -5.5366, -5.3502, -3.459, -4.9789, -4.9951, -5.2547, -5.426, -3.6199, -3.6639, -3.9072, -4.0525, -4.1159, -4.452, -4.4495, -4.5596, -4.5658, -4.7017, -4.774, -4.7909, -4.835, -4.846, -4.8828, -4.9388, -4.8684, -4.9776, -4.9796, -5.0719, -5.1399, -5.1633, -5.184, -5.2385, -5.2648, -5.2545, -5.2809, -5.2747, -5.3138, -5.3225, -4.3574, -4.4857, -4.3733, -4.3951, -3.6282, -4.5103, -3.798, -4.7511, -4.212, -4.5377, -4.8531, -4.9272], \"loglift\": [30.0, 29.0, 28.0, 27.0, 26.0, 25.0, 24.0, 23.0, 22.0, 21.0, 20.0, 19.0, 18.0, 17.0, 16.0, 15.0, 14.0, 13.0, 12.0, 11.0, 10.0, 9.0, 8.0, 7.0, 6.0, 5.0, 4.0, 3.0, 2.0, 1.0, 1.3387, 1.3376, 1.3375, 1.3367, 1.3365, 1.3364, 1.3363, 1.3362, 1.336, 1.3356, 1.3353, 1.335, 1.335, 1.3347, 1.3346, 1.3346, 1.3345, 1.3342, 1.334, 1.3339, 1.3336, 1.3333, 1.333, 1.3328, 1.3328, 1.3326, 1.3321, 1.3319, 1.3317, 1.3317, 1.3316, 1.1074, 0.9982, 1.2373, 1.0582, 0.7068, 0.6273, 0.7705, 0.9881, 0.6379, 0.852, 0.6132, 1.6546, 1.6536, 1.6533, 1.6525, 1.651, 1.6508, 1.6503, 1.6501, 1.6499, 1.6494, 1.6488, 1.6483, 1.6482, 1.6479, 1.6477, 1.6477, 1.6475, 1.6465, 1.645, 1.6449, 1.6447, 1.6437, 1.6435, 1.6434, 1.6431, 1.6422, 1.6418, 1.6415, 1.6412, 1.6408, 1.4788, 1.4894, 1.3735, 1.4288, 0.7646, 0.0016, 0.5465, -0.1782, 1.2706, -0.2707, -0.759, 0.4369, 1.6774, 1.677, 1.6767, 1.6754, 1.6748, 1.6745, 1.6737, 1.6736, 1.6718, 1.6716, 1.6702, 1.6699, 1.6689, 1.6689, 1.6678, 1.6678, 1.6678, 1.6672, 1.6671, 1.667, 1.6666, 1.6661, 1.6659, 1.6659, 1.6655, 1.6654, 1.6648, 1.6646, 1.6636, 1.6631, 1.6626, 0.8428, 1.0279, 0.9922, 1.1671, -0.6353, -0.6299, -0.2868, 1.7066, 1.7066, 1.7065, 1.7064, 1.7062, 1.7062, 1.7034, 1.7017, 1.7014, 1.7012, 1.6992, 1.698, 1.6958, 1.6954, 1.6951, 1.6924, 1.6919, 1.6902, 1.6902, 1.6897, 1.6894, 1.689, 1.6888, 1.6887, 1.6882, 1.6876, 1.6873, 1.6873, 1.6863, 1.6859, 1.6798, 1.098, 0.7829, 0.2983, 0.8583, 1.3583, 1.7116, 1.7114, 1.7103, 1.71, 1.7096, 1.7076, 1.7076, 1.7069, 1.7068, 1.7056, 1.705, 1.7048, 1.7043, 1.7041, 1.7039, 1.7032, 1.7031, 1.7029, 1.7028, 1.7016, 1.7006, 1.7001, 1.7, 1.6993, 1.699, 1.6988, 1.6988, 1.6986, 1.6979, 1.6978, 1.5464, 1.549, 1.4402, 1.4274, 0.9287, 1.2774, 0.4847, 1.0107, -0.0942, 0.1967, 0.1388, -0.3882]}, \"token.table\": {\"Topic\": [1, 2, 3, 4, 5, 3, 5, 4, 4, 4, 5, 2, 2, 3, 5, 3, 5, 4, 5, 5, 1, 2, 2, 2, 2, 3, 4, 5, 5, 5, 5, 5, 5, 3, 3, 2, 1, 1, 1, 3, 1, 5, 1, 1, 4, 4, 4, 2, 3, 1, 3, 2, 2, 3, 5, 3, 5, 2, 2, 4, 4, 4, 4, 4, 2, 5, 1, 1, 4, 1, 3, 5, 5, 5, 3, 1, 5, 5, 4, 2, 1, 3, 3, 5, 2, 2, 1, 4, 5, 1, 4, 3, 3, 1, 2, 4, 2, 5, 1, 2, 3, 5, 1, 4, 3, 3, 5, 2, 2, 3, 3, 4, 5, 2, 4, 4, 2, 4, 2, 3, 1, 5, 3, 5, 3, 2, 1, 5, 4, 3, 4, 4, 2, 2, 5, 1, 2, 3, 5, 5, 1, 4, 1, 2, 5, 2, 3, 1, 1, 2, 5, 3, 4, 1, 1, 3, 1, 1, 1, 3, 3, 5, 4, 1, 3, 4, 1, 1, 1, 1, 2, 2, 2, 2, 3, 2, 4, 1, 1, 3, 2, 4, 5, 2, 2, 3, 1, 2, 3, 5, 1, 3, 5, 2, 5, 3, 4, 5, 1, 2, 3, 4, 5, 2, 5, 1, 1, 1, 1, 4, 1, 2, 5, 3, 3, 3, 3, 3, 3, 3, 4, 1, 2, 3, 5, 4, 5, 3, 4, 4, 4], \"Freq\": [0.4899208136960009, 0.08950476404061554, 0.09892631815015403, 0.029442356592307744, 0.2920681773956928, 0.9885371414445804, 0.9798126857301094, 0.9806176134758029, 0.9936453679180526, 0.5438119095969763, 0.45550057385045883, 0.9900475858654528, 0.9941154287494566, 0.9954177893054927, 0.9905681321962843, 0.9924852163666917, 0.9825126567112709, 0.9811436949249622, 0.9869293102217503, 0.9954945343291306, 0.9942867521951477, 0.9905461108537816, 0.9933680652757373, 0.9852215201371426, 0.3892144209721574, 0.17624803968550523, 0.4259327625733043, 0.9906500632536499, 0.9783711822703838, 0.9931015901292317, 0.9953857936075242, 0.9801052738438016, 0.9844126552270074, 0.9836922173487382, 0.9852645731789667, 0.9954671547501677, 0.9925648364975265, 0.9970827752040605, 0.988835823121348, 0.9966811614961074, 0.9959360588677432, 0.998328900782611, 0.9953471189762895, 0.9916768802929623, 0.9775061765597481, 0.980258818725524, 0.9766506862641955, 0.675272246532181, 0.3124393976492181, 0.39856205312333604, 0.597843079685004, 0.9946956936641187, 0.148282541530783, 0.09885502768718867, 0.7523965996191582, 0.9895995521306978, 0.9900317640053562, 0.9761447414644421, 0.9817526030470884, 0.9981102414858225, 0.9861465840919832, 0.9977987715680093, 0.9754516955832401, 0.9832843441593926, 0.8443311893360741, 0.1521970384210949, 0.9919567919458641, 0.9932484082050991, 0.970368486550037, 0.9951482895142271, 0.9825019952565034, 0.9974279354215696, 0.984424959129435, 0.9932368629321053, 0.9923370478502869, 0.9952886517357763, 0.9971599409081987, 0.9862821612607856, 0.9979032229486281, 0.9895046498769073, 0.9894046375255904, 0.9987589539598893, 0.9763145950026666, 0.9906038829923892, 0.9964216477632002, 0.99761468147509, 0.9964928598535432, 0.9799802348960953, 0.9924652604324434, 0.9902933431843227, 0.9791361210382348, 0.9976762129582868, 0.9928779302608823, 0.9936199315043994, 0.9938341856500923, 0.9875963554833197, 0.9968488313760362, 0.9847118766311803, 0.7091433362855593, 0.15978551568666036, 0.007608834080317159, 0.12174134528507455, 0.9944623953572082, 0.9912108066195553, 0.9925226186908, 0.9978384099668346, 0.9808791263859433, 0.9890205658587112, 0.9865657367547329, 0.9872858162560927, 0.9839491544277298, 0.2340590735311802, 0.7620527975433774, 0.9982655527294578, 0.9936374413047138, 0.9781227844187043, 0.01837200181707373, 0.9737160963049076, 0.996632497617059, 0.994862558115762, 0.14893425656693363, 0.845946577300183, 0.9912006227959183, 0.9880783588785825, 0.9931175929573223, 0.9926156227942741, 0.7922505826451871, 0.20584154111022987, 0.9800457659491871, 0.9865392648112704, 0.997690876960513, 0.9976594926611213, 0.9836233822179654, 0.988021277163057, 0.9897659774981232, 0.36657501692242966, 0.3287837780644472, 0.19273531817571044, 0.10959459268814907, 0.9978032381530411, 0.9942594561329907, 0.968213508103555, 0.4828034753655737, 0.4087225188279989, 0.10728966119234971, 0.988945992821438, 0.9826654981978591, 0.9921723909074756, 0.9957692170257715, 0.9924048339841959, 0.9891982133504738, 0.990521551032587, 0.984167925037049, 0.9877367152313176, 0.5654636411564659, 0.4331664873764625, 0.9947903081060068, 0.9957448856612181, 0.49177348442992513, 0.5039160396010344, 0.9881784252677854, 0.9894254968364452, 0.9775227711356074, 0.3652329522413884, 0.5193156039682242, 0.11413529757543388, 0.989645065089672, 0.9964605804673174, 0.9949180479228904, 0.9892328581921738, 0.9877429136818351, 0.9828658753091819, 0.9885189201247921, 0.7533233171766993, 0.2445342704971485, 0.9821453087238082, 0.9907425975952128, 0.9937989536946726, 0.9019916197280969, 0.09285207850142174, 0.836149202367982, 0.055558086536078535, 0.10833826874535314, 0.9867167481375342, 0.7985454995990763, 0.20125943485830378, 0.4958578765406249, 0.14616706062204987, 0.14061641275032646, 0.21832548295445425, 0.6139444786314973, 0.10990364123650259, 0.2728642127251099, 0.9940939929268218, 0.9885064681733909, 0.10337167560678033, 0.39798095108610426, 0.4961840429125456, 0.530261410716244, 0.19073433040829119, 0.09886229691319805, 0.01597774495566837, 0.16377188579560079, 0.3500761187084649, 0.6471104012489806, 0.9896646000941413, 0.9978908344346439, 0.9968420861905273, 0.7538902486235922, 0.2426685349646756, 0.9944022495553214, 0.9927173061420553, 0.9921048998989737, 0.9963323340611681, 0.9983671034752336, 0.981835906281517, 0.9882016712354282, 0.9951750498929525, 0.9946957542173899, 0.9823000321527661, 0.9862967625000658, 0.701868832684988, 0.2961643051214111, 0.1493881193739289, 0.8487961328064142, 0.983550750757586, 0.9873565268463319, 0.2873787845442879, 0.7040780221335053, 0.9984849415138852, 0.9965487338649549], \"Term\": [\"account\", \"account\", \"account\", \"account\", \"account\", \"app\", \"bank\", \"best\", \"birthday\", \"bitcoin\", \"bitcoin\", \"block\", \"bro\", \"btc\", \"buy\", \"captjamyl\", \"cashapp\", \"check\", \"coin\", \"come\", \"complicit\", \"covid\", \"crypto\", \"cut\", \"day\", \"day\", \"day\", \"deactivate\", \"deactivate trump\", \"delete\", \"delete account\", \"delete trump\", \"dey\", \"dionnewarwick\", \"dionnewarwick twitter\", \"dm\", \"donald\", \"donald trump\", \"end\", \"ericanlewedim\", \"fipradio\", \"follow\", \"follower\", \"fuck\", \"fucking\", \"gift\", \"giveaway\", \"god\", \"god\", \"going\", \"going\", \"gonna\", \"good\", \"good\", \"good\", \"great\", \"guy\", \"hand\", \"happen\", \"happy\", \"happy birthday\", \"happy new\", \"happybirthdaynengi\", \"heart\", \"help\", \"help\", \"hey\", \"hey jack\", \"hope\", \"immediately\", \"jack ban\", \"jack bitcoin\", \"jack deactivate\", \"jack delete\", \"jack dionnewarwick\", \"jack fipradio\", \"jack follow\", \"jack good\", \"jack happy\", \"jack help\", \"jack hey\", \"jack jack\", \"jack kindly\", \"jack know\", \"jack let\", \"jack love\", \"jack need\", \"jack neerajka\", \"jack pls\", \"jack remove\", \"jack send\", \"jack shut\", \"jack stop\", \"jack suspend\", \"jack thank\", \"jack thanks\", \"jack time\", \"jack trump\", \"jack twitter\", \"jack twitter\", \"jack twitter\", \"jack twitter\", \"jack twittersafety\", \"jack twittersupport\", \"jack verified\", \"jack verify\", \"jack want\", \"january\", \"job\", \"kindly\", \"kindly verify\", \"know\", \"know\", \"let\", \"like\", \"long\", \"look\", \"look\", \"love\", \"make\", \"man\", \"man\", \"mazinnamdikanu\", \"message\", \"michael_saylor\", \"money\", \"need\", \"need\", \"neerajka\", \"nengiofficial\", \"new\", \"new year\", \"ok\", \"old\", \"orange\", \"people\", \"people\", \"people\", \"people\", \"pls\", \"post\", \"president\", \"realdonaldtrump\", \"realdonaldtrump\", \"realdonaldtrump\", \"realdonaldtrump twitter\", \"really\", \"remove\", \"right\", \"riot\", \"sat\", \"say\", \"send\", \"shit\", \"shut\", \"shut\", \"shut account\", \"shut realdonaldtrump\", \"shut trump\", \"shut trump\", \"sir\", \"soon\", \"start\", \"stop\", \"stop\", \"stop\", \"support\", \"suspend\", \"suspend account\", \"suspend trump\", \"suspended\", \"tell\", \"th\", \"thank\", \"thank\", \"thank jack\", \"thanks\", \"thing\", \"think\", \"think\", \"time\", \"time\", \"time\", \"time shut\", \"today\", \"today\", \"trump\", \"trump\", \"trump\", \"trump\", \"trump account\", \"trump account\", \"trump account\", \"trying\", \"turn\", \"tweet\", \"tweet\", \"tweet\", \"twitter\", \"twitter\", \"twitter\", \"twitter\", \"twitter\", \"twitter account\", \"twitter account\", \"twitter shut\", \"twitter twittersupport\", \"twittersafety\", \"twittersupport\", \"twittersupport\", \"understand\", \"use\", \"user\", \"verified\", \"verify\", \"verify account\", \"verify captjamyl\", \"verify ericanlewedim\", \"verify mazinnamdikanu\", \"verify nengiofficial\", \"verifycaptjamyl\", \"violence\", \"violence\", \"want\", \"want\", \"way\", \"wish\", \"world\", \"world\", \"year\", \"year jack\"]}, \"R\": 30, \"lambda.step\": 0.01, \"plot.opts\": {\"xlab\": \"PC1\", \"ylab\": \"PC2\"}, \"topic.order\": [1, 5, 2, 4, 3]};\n",
       "\n",
       "function LDAvis_load_lib(url, callback){\n",
       "  var s = document.createElement('script');\n",
       "  s.src = url;\n",
       "  s.async = true;\n",
       "  s.onreadystatechange = s.onload = callback;\n",
       "  s.onerror = function(){console.warn(\"failed to load library \" + url);};\n",
       "  document.getElementsByTagName(\"head\")[0].appendChild(s);\n",
       "}\n",
       "\n",
       "if(typeof(LDAvis) !== \"undefined\"){\n",
       "   // already loaded: just create the visualization\n",
       "   !function(LDAvis){\n",
       "       new LDAvis(\"#\" + \"ldavis_el280461405416506418725650514474\", ldavis_el280461405416506418725650514474_data);\n",
       "   }(LDAvis);\n",
       "}else if(typeof define === \"function\" && define.amd){\n",
       "   // require.js is available: use it to load d3/LDAvis\n",
       "   require.config({paths: {d3: \"https://cdnjs.cloudflare.com/ajax/libs/d3/3.5.5/d3.min\"}});\n",
       "   require([\"d3\"], function(d3){\n",
       "      window.d3 = d3;\n",
       "      LDAvis_load_lib(\"https://cdn.rawgit.com/bmabey/pyLDAvis/files/ldavis.v1.0.0.js\", function(){\n",
       "        new LDAvis(\"#\" + \"ldavis_el280461405416506418725650514474\", ldavis_el280461405416506418725650514474_data);\n",
       "      });\n",
       "    });\n",
       "}else{\n",
       "    // require.js not available: dynamically load d3 & LDAvis\n",
       "    LDAvis_load_lib(\"https://cdnjs.cloudflare.com/ajax/libs/d3/3.5.5/d3.min.js\", function(){\n",
       "         LDAvis_load_lib(\"https://cdn.rawgit.com/bmabey/pyLDAvis/files/ldavis.v1.0.0.js\", function(){\n",
       "                 new LDAvis(\"#\" + \"ldavis_el280461405416506418725650514474\", ldavis_el280461405416506418725650514474_data);\n",
       "            })\n",
       "         });\n",
       "}\n",
       "</script>"
      ],
      "text/plain": [
       "PreparedData(topic_coordinates=                x           y  topics  cluster       Freq\n",
       "topic                                                    \n",
       "0      150.222153 -72.269554   1       1        26.159227\n",
       "4      51.163364  -159.968018  2       1        19.067809\n",
       "1     -73.144554   21.523815   3       1        18.655855\n",
       "3     -66.410133  -110.606438  4       1        18.114423\n",
       "2      54.417324   12.443444   5       1        18.002686, topic_info=              Term        Freq        Total Category  logprob  loglift\n",
       "1896  verify        624.000000  624.000000   Default  30.0000  30.0000\n",
       "1988  year          554.000000  554.000000   Default  29.0000  29.0000\n",
       "674   happy         531.000000  531.000000   Default  28.0000  28.0000\n",
       "1187  new           517.000000  517.000000   Default  27.0000  27.0000\n",
       "865   jack jack     494.000000  494.000000   Default  26.0000  26.0000\n",
       "...         ...            ...         ...       ...      ...      ...\n",
       "1764  tweet         95.694329   193.476597   Topic5  -4.7511   1.0107 \n",
       "1768  twitter       164.066619  1001.392878  Topic5  -4.2120  -0.0942 \n",
       "1722  trump         118.453167  540.477449   Topic5  -4.5377   0.1967 \n",
       "1161  need          86.417158   417.797105   Topic5  -4.8531   0.1388 \n",
       "945   jack twitter  80.241475   657.130902   Topic5  -4.9272  -0.3882 \n",
       "\n",
       "[230 rows x 6 columns], token_table=      Topic      Freq       Term\n",
       "term                            \n",
       "11    1      0.489921  account  \n",
       "11    2      0.089505  account  \n",
       "11    3      0.098926  account  \n",
       "11    4      0.029442  account  \n",
       "11    5      0.292068  account  \n",
       "...  ..           ...      ...  \n",
       "1963  5      0.987357  wish     \n",
       "1976  3      0.287379  world    \n",
       "1976  4      0.704078  world    \n",
       "1988  4      0.998485  year     \n",
       "1991  4      0.996549  year jack\n",
       "\n",
       "[231 rows x 3 columns], R=30, lambda_step=0.01, plot_opts={'xlab': 'PC1', 'ylab': 'PC2'}, topic_order=[1, 5, 2, 4, 3])"
      ]
     },
     "execution_count": 29,
     "metadata": {},
     "output_type": "execute_result"
    }
   ],
   "source": [
    "# visualization of 2nd LDA model \n",
    "pyLDAvis.enable_notebook()\n",
    "panel = pyLDAvis.sklearn.prepare(lda_model_2, doc_term_matrix_1, tfidfconverter, mds='tsne')\n",
    "panel\n",
    "\n",
    "pyLDAvis.enable_notebook()\n",
    "panel = pyLDAvis.sklearn.prepare(lda_model_2, doc_term_matrix_1, tfidfconverter, mds='tsne')\n",
    "panel"
   ]
  },
  {
   "cell_type": "code",
   "execution_count": 30,
   "metadata": {},
   "outputs": [],
   "source": [
    "# make results of LDA2 model a column in dataframe\n",
    "\n",
    "topic_values = lda_model_2.transform(doc_term_matrix_1)\n",
    "df['LDA2_topic'] = topic_values.argmax(axis=1)"
   ]
  },
  {
   "cell_type": "code",
   "execution_count": 119,
   "metadata": {},
   "outputs": [
    {
     "data": {
      "text/plain": [
       "24699    @jack The Genesis Block.                                                                                                                                                                                                                                                                         \n",
       "24700    @jack #Digibyte\\n#Target\\n#DGB\\n\\n\"Genesis Block Hash: \"USA Today: 10/Jan/2014, Target: Data stolen from up to 110M customers\" https://t.co/9ubW5KMFT0                                                                                                                                           \n",
       "24702    @jack @neo @morpheus where you at? What’s this mean?                                                                                                                                                                                                                                             \n",
       "24714    @jack mama enti Followers count fluctuations , Accounts ni ethestunnava                                                                                                                                                                                                                          \n",
       "24725    @jack verify @MaziNnamdiKanu https://t.co/6DUlBuS3k0                                                                                                                                                                                                                                             \n",
       "24728    @jack @TwitterSupport @twittersecurity \\nPLEASE ban Lin Wood from your platform permanently. This person is inciting violence and spreading disgusting conspiracy theories. \\n #BanLinWood \\n \\n#BeReponsible\\n#DoTheRightThing https://t.co/5F1ybWJfoR                                          \n",
       "24731    @jack suspend Lin Wood now https://t.co/cBFTk2VZxe                                                                                                                                                                                                                                               \n",
       "24745    @jack Dear jack, kindly explain this code.                                                                                                                                                                                                                                                       \n",
       "24746    @jack, I'm of the opinion that you start doing mental check before allowing peeps on this app... Damn I ❤️ this app 🤣🤣🤣😂😂😂 https://t.co/d7VNlacNfp                                                                                                                                               \n",
       "24754    @jack Dear Jack, kindly stop confusing us.                                                                                                                                                                                                                                                       \n",
       "24755    @jack Please verify @EricaNlewedim God bless you                                                                                                                                                                                                                                                 \n",
       "24756    @jack Bitcoin genesis block                                                                                                                                                                                                                                                                      \n",
       "24757    @jack @Bitcoin How does your current job makes you feel. Why not work at home and earn more minimum deposit of $200 and you can make $2,500 In 12-24hrs hours . Let a professional trade and make good profit for you. @PGwandale he has made me realized that only one means of income is wrong.\n",
       "24762    @jack very Mazi Nnamdi Kanu the leader of indigenous people of biafran                                                                                                                                                                                                                           \n",
       "24768    @jack @jack @jack @jack What should I do to you help me ?                                                                                                                                                                                                                                        \n",
       "24773    @jack VERIFY Mazi Nnamdi Kanu the great leader of IPOB. He is the greatest freedom fighter alive.                                                                                                                                                                                                \n",
       "24775    @jack please we are tired of something like this na https://t.co/6iQWuUCzn9                                                                                                                                                                                                                      \n",
       "24776    @jack verify @MaziNnamdiKanu 🙏                                                                                                                                                                                                                                                                   \n",
       "24783    @jack This is completely bonkers. https://t.co/y63u8d0Flp                                                                                                                                                                                                                                        \n",
       "24791    @jack kindly verify @MaziNnamdlKanu A Great and truthful leader of INDIGENOUS PEOPLE OF BIAFRA.                                                                                                                                                                                                  \n",
       "24798    @jack it's long overdue kindly verify @MaziNnamdlKanu                                                                                                                                                                                                                                            \n",
       "24801    @jack please verify me https://t.co/7WL7QstzIu                                                                                                                                                                                                                                                   \n",
       "24811    @jack please please please please please do the needful ooooo @gbemy01 please please verify her account oooo https://t.co/vdxdH7ppGp                                                                                                                                                             \n",
       "24817    @jack A deal that wasn't broken.                                                                                                                                                                                                                                                                 \n",
       "24818    @jack @jack  what's delaying the verification of @MaziNnamdiKanu  account. The greatest freedom fighter of our time. The leader of the largest mass movement in the world who commands the listenership of over 780, 000,000. (Seven hundred and eighty million) people world over. Hmm!!!       \n",
       "24819    @jack Jack is up-to something                                                                                                                                                                                                                                                                    \n",
       "24820    @Jack, why don't you want to verify @victorosimhen9? Let's talk bro.                                                                                                                                                                                                                             \n",
       "24828    @jack With all due respect sir. Could you please verify @MaziNnamdiKanu Twitter handle. We love❤ and can die for him 🔥❤                                                                                                                                                                          \n",
       "24829    @jack please verify @EricaNlewedim @verified #ILoveYouErica                                                                                                                                                                                                                                      \n",
       "24832    @jack @Twitter please 🙏🏿 Verify @EricaNlewedim https://t.co/oxu1pitL7S                                                                                                                                                                                                                           \n",
       "24834    @jack @verified @Twitter please verify @EricaNlewedim 😪🙏\\n#ILoveYouErica https://t.co/fmqFf2KtAm                                                                                                                                                                                                 \n",
       "24839    @Jack pls do thr needful, verify @MaziNnamdiKanu Handle.. https://t.co/we5KKM6UqL                                                                                                                                                                                                                \n",
       "24865    @jack @Twitter @TwitterSupport please create rules that no one can claim that they are the only source of truth. This cult narcissistic behaviors from Lin Wood are certifiable. No one who is decent would claim to be the sole marshal of truth. He’s going to get people injured.             \n",
       "24873    @jack Happy new year @jack @verified please verify @EricaNlewedim thank you                                                                                                                                                                                                                      \n",
       "24875    @jack verify Me 🙏🙏\\n😁😂😁\\n #MyTwitterAnniversary https://t.co/GJRDsDBwCx                                                                                                                                                                                                                          \n",
       "24878    @jack Verify @MaziNnamdiKanu https://t.co/5ZI86bUw17                                                                                                                                                                                                                                             \n",
       "24879    @jack Establishment boot licker and supporter complains about the establishment doing business as usual. \\n\\nShock and horror.                                                                                                                                                                   \n",
       "24892    @jack You are manipulating my followers .\\nYou subtracted 26 this morning for no reason.\\nWe will soon drag you here. You think say na play                                                                                                                                                      \n",
       "24895    @jack Jack💚\\nyou always use numbers and symbols, I want to understand you\\nI want to advance quickly like you . https://t.co/rqpGNQwPsf                                                                                                                                                          \n",
       "24901    @jack @Jack verify @MaziNnamdiKanu                                                                                                                                                                                                                                                               \n",
       "24910    @jack Stop censoring people.                                                                                                                                                                                                                                                                     \n",
       "24913    @jack verify @MaziNnamdiKanu                                                                                                                                                                                                                                                                     \n",
       "24915    @jack Did u see btc                                                                                                                                                                                                                                                                              \n",
       "24926    @jack Omo jack na you know joor\\nI can’t stress my brain                                                                                                                                                                                                                                         \n",
       "24928    @jack Omoo, this one strong pass me ooo                                                                                                                                                                                                                                                          \n",
       "24931    @jack The Genesis Block!!!                                                                                                                                                                                                                                                                       \n",
       "24932    @jack @Bitcoin With a verified GCash app, Coin Ph app, Coinbase app and paypal and luno wallet \\nyou can make up to $1000 per day \\nkindly click on the link to get started and how to earn \\nhttps://t.co/OtccrN8u16                                                                            \n",
       "24936    @jack Ja k my followers are disappearing overnight. Why na 😭                                                                                                                                                                                                                                     \n",
       "24945    @jack verify @gbemy01 #VerifyGbemy                                                                                                                                                                                                                                                               \n",
       "24962    @jack Jack. What is this?                                                                                                                                                                                                                                                                        \n",
       "Name: text, dtype: object"
      ]
     },
     "execution_count": 119,
     "metadata": {},
     "output_type": "execute_result"
    }
   ],
   "source": [
    "df['text'][df.LDA2_topic==1][3100:3150]"
   ]
  },
  {
   "cell_type": "code",
   "execution_count": 80,
   "metadata": {},
   "outputs": [],
   "source": [
    "# make results of NMF model a column in dataframe\n",
    "\n",
    "topic_values = lda_model.transform(doc_term_matrix_1)\n",
    "df['LDA1_topic'] = topic_values.argmax(axis=1)"
   ]
  },
  {
   "cell_type": "code",
   "execution_count": 87,
   "metadata": {},
   "outputs": [
    {
     "data": {
      "text/plain": [
       "2310    @jack Suspend Trump’s account indefinitely. \\n\\n#banTrumpforlife #BanTrumpsTwitter                                                                                                                                                                            \n",
       "2316    @jack, where are your courage, morals, and patriotism? We’re waiting to see them. https://t.co/IT12qstvEc                                                                                                                                                     \n",
       "2322    @jack Out of an abundance of caution Twitter  should lock @realDonaldTrump  account until January 20th. #Stopthetweet                                                                                                                                         \n",
       "2337    @jack permanent ban for DJT, his family, and all their staff—he’s been posting on one of his staff’s accounts                                                                                                                                                 \n",
       "2343    @jack Trump used your platform to organize and incite violence on Capitol Hill. We’ve begged you repeatedly to ban his account, but that didn’t happen.\\nThis is the result. Ban him.\\nIt’s the least - honestly, the very least - you could do at this point.\n",
       "2355    @jack Please, please, keep that deranged man from using your platform. https://t.co/LRzpQ22y0h                                                                                                                                                                \n",
       "2369    @jack Bunker Don getting a permanent ban yet?                                                                                                                                                                                                                 \n",
       "2370    @jack if you have not already, immediately extend the block on @realDonaldTrump through January 20 at noon. Or remove his account. Twitter is this madman's media of choice.                                                                                  \n",
       "2373    @jack trump should be banned forever                                                                                                                                                                                                                          \n",
       "2375    @jack You are closing his account and banning him permanently, aren’t you?\\n@twitter                                                                                                                                                                          \n",
       "2376    @Jack should be sued for libel against the president.                                                                                                                                                                                                         \n",
       "2377    @jack If you give @realDonaldTrump his Twitter handle back, you are an accomplice.                                                                                                                                                                            \n",
       "2378    @jack you are aiding and abetting                                                                                                                                                                                                                             \n",
       "2381    @jack remove Trump’s Twitter feed                                                                                                                                                                                                                             \n",
       "2382    @jack should not allow Trump to spread disinformation until the 20th. Disable his account until then. https://t.co/JQ6sMFoOSy                                                                                                                                 \n",
       "2395    @jack @Twitter suspend Trump and his family for at least 30 days                                                                                                                                                                                              \n",
       "2404    @jack what’s tea? Why are you not banning a terrorist’s account? https://t.co/deUs0xXUhL                                                                                                                                                                      \n",
       "2413    @jack I feel it’s @Twitter‘s responsibility to mute both accounts, @realDonaldTrump and @POTUS, until the @POTUS account can be transferred to @JoeBiden‘s team on 1/20/2021. After that, @realDonaldTrump should be put on a permanent probationary period.  \n",
       "2424    @jack ur turn https://t.co/emHAI83GYv                                                                                                                                                                                                                         \n",
       "2436    @jack SUSPEND TRUMP'S ACCOUNT NOW.                                                                                                                                                                                                                            \n",
       "2439    @jack Make it permanent.  Turn down the voice, turn down the oxygen to the fire.  Permanent.                                                                                                                                                                  \n",
       "2445    @jack @TwitterSafety the president of Mexico does the same, why his account is not locked yet https://t.co/DQvHzoSbTM                                                                                                                                         \n",
       "2446    @jack It is your responsibility to banish President Trump from Twitter immediately and permanently. Otherwise you and your company are complicit in his seditious actions, and are, in fact, profiting from his use of your platform.                         \n",
       "2456    @jack @TwitterSafety probably a good idea for @Twitter https://t.co/7ZOPgTXVbZ                                                                                                                                                                                \n",
       "2462    @jack should remove @realdonaldtrump account now! https://t.co/lpYESoh7fS                                                                                                                                                                                     \n",
       "2473    @jack @fipradio When are you banning the criminal traitor? Are you waiting till he incites another riot? #insurrection                                                                                                                                        \n",
       "2483    @Jack @Twitter \\nPlease remove @realDonaldTrump ,\\nFor inciting violence.\\nPermanently.                                                                                                                                                                       \n",
       "2488    @jack being a super cunt until 20 January 2021...                                                                                                                                                                                                             \n",
       "2497    @jack suspend Trump indefinitely                                                                                                                                                                                                                              \n",
       "2499    @jack @Twitter @TwitterSafety At the VERY LEAST, suspend Trump’s accounts until January 21st. He is USING YOU AS A WEAPON. If you allow it, you will be held accountable. We got along without you before, we can do it again.                                \n",
       "Name: text, dtype: object"
      ]
     },
     "execution_count": 87,
     "metadata": {},
     "output_type": "execute_result"
    }
   ],
   "source": [
    "df['text'][df.LDA1_topic==1][300:330]"
   ]
  },
  {
   "cell_type": "code",
   "execution_count": 77,
   "metadata": {},
   "outputs": [],
   "source": [
    "# make results of NMF model a column in dataframe\n",
    "\n",
    "topic_values = nmf_model.transform(doc_term_matrix_1)\n",
    "df['NMF_topic'] = topic_values.argmax(axis=1)"
   ]
  },
  {
   "cell_type": "code",
   "execution_count": 86,
   "metadata": {},
   "outputs": [
    {
     "data": {
      "text/plain": [
       "6383    @jack she on yo ass lil boy! https://t.co/dSQFo6fF6Z                                                                                                                                                                                                                  \n",
       "6386    @jack Thank you. Thank you.                                                                                                                                                                                                                                           \n",
       "6392    @jack Thanks Jack, you are super human.  Long live:)                                                                                                                                                                                                                  \n",
       "6399    @jack Can you please make this guys famous! @DCPoliceDept https://t.co/bQf8JXuJiQ                                                                                                                                                                                     \n",
       "6403    @jack  Thank you.                                                                                                                                                                                                                                                     \n",
       "6480    @jack @jack stop your bullshit. Unlock our President.                                                                                                                                                                                                                 \n",
       "6486    @jack Thank you for embracing this project!                                                                                                                                                                                                                           \n",
       "6509    @jack. A HEARTY THANK YOU!!!!                                                                                                                                                                                                                                         \n",
       "6537    @jack Thank you for the  12 hours  free of him, make it definitely                                                                                                                                                                                                    \n",
       "6547    @jack you’re 4 years late                                                                                                                                                                                                                                             \n",
       "6550    @jack respect sir                                                                                                                                                                                                                                                     \n",
       "6559    @jack Partial ban after all the incitement and lies all these years is not NEAR ENOUGH!  BAN HIM FOREVER for the good of the world, democracy, usa, safety, truth and the human race.                                                                                 \n",
       "6573    @jack And my 3 cats are my loves. Rescued two brothers from the same litter years ago, Burlingame SPCA, and another cat the Queen, basically just does her own thing.                                                                                                 \n",
       "6581    @jack did you shadowban me? busy day huh..                                                                                                                                                                                                                            \n",
       "6594    @jack urs is comming buddy watch ur six.                                                                                                                                                                                                                              \n",
       "6636    @jack Thank you Sir.                                                                                                                                                                                                                                                  \n",
       "6640    @jack could have ended all this bullshit a year ago.                                                                                                                                                                                                                  \n",
       "6701    @jack Thank You                                                                                                                                                                                                                                                       \n",
       "6718    @jack do it Jack be a human                                                                                                                                                                                                                                           \n",
       "6721    @jack o jack! https://t.co/kRofn4UWAC                                                                                                                                                                                                                                 \n",
       "6781    @Jack is a moron. \\n\\nHey Jack, did Trumpy hurt your feelings?\\n\\nThis will not go well for you or Twitter. Us Patriots will not allow you or the media push Trump around anymore. After four years of liberal crybabies, the wrath is coming. https://t.co/c0V8EaTLmw\n",
       "6807    @jack, Will our new Chinese Overlords treat us well?                                                                                                                                                                                                                  \n",
       "6899    @jack History will not look kindly on you, not that communists as yourself actually care.                                                                                                                                                                             \n",
       "6978    @jack thank you.                                                                                                                                                                                                                                                      \n",
       "6980    @jack Great job annihilating the First Ammendment today Mr Dorsey                                                                                                                                                                                                     \n",
       "6999    @jack Thank you🙏                                                                                                                                                                                                                                                      \n",
       "7023    @jack you’re absolutely the best!!!!!!!!!!!!!!!! Take that Mark!!!!!!                                                                                                                                                                                                 \n",
       "7044    @jack Thank you.                                                                                                                                                                                                                                                      \n",
       "7067    @jack thank you sir... It took a little too long, but I appreciate this finally                                                                                                                                                                                       \n",
       "7077    @Jack don't bring it back... https://t.co/vrJhttdjsH                                                                                                                                                                                                                  \n",
       "Name: text, dtype: object"
      ]
     },
     "execution_count": 86,
     "metadata": {},
     "output_type": "execute_result"
    }
   ],
   "source": [
    "df['text'][df.NMF_topic==3][300:330]"
   ]
  },
  {
   "cell_type": "code",
   "execution_count": null,
   "metadata": {},
   "outputs": [],
   "source": [
    "\n"
   ]
  }
 ],
 "metadata": {
  "kernelspec": {
   "display_name": "Python 3",
   "language": "python",
   "name": "python3"
  },
  "language_info": {
   "codemirror_mode": {
    "name": "ipython",
    "version": 3
   },
   "file_extension": ".py",
   "mimetype": "text/x-python",
   "name": "python",
   "nbconvert_exporter": "python",
   "pygments_lexer": "ipython3",
   "version": "3.7.7"
  }
 },
 "nbformat": 4,
 "nbformat_minor": 4
}
