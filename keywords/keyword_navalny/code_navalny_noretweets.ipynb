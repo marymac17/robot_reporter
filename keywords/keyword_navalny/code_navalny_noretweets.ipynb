{
 "cells": [
  {
   "cell_type": "code",
   "execution_count": 1,
   "metadata": {},
   "outputs": [],
   "source": [
    "import pandas as pd\n",
    "import numpy as np"
   ]
  },
  {
   "cell_type": "code",
   "execution_count": 2,
   "metadata": {},
   "outputs": [
    {
     "name": "stderr",
     "output_type": "stream",
     "text": [
      "/opt/anaconda3/lib/python3.7/site-packages/IPython/core/interactiveshell.py:3072: DtypeWarning: Columns (7) have mixed types.Specify dtype option on import or set low_memory=False.\n",
      "  interactivity=interactivity, compiler=compiler, result=result)\n"
     ]
    }
   ],
   "source": [
    "#import data (duplicate Tweets already removed using Twarc)\n",
    "\n",
    "df = pd.read_csv(\"data/navalny.csv\")"
   ]
  },
  {
   "cell_type": "code",
   "execution_count": 3,
   "metadata": {},
   "outputs": [
    {
     "name": "stdout",
     "output_type": "stream",
     "text": [
      "<class 'pandas.core.frame.DataFrame'>\n",
      "RangeIndex: 85382 entries, 0 to 85381\n",
      "Data columns (total 37 columns):\n",
      " #   Column                        Non-Null Count  Dtype  \n",
      "---  ------                        --------------  -----  \n",
      " 0   id                            85382 non-null  int64  \n",
      " 1   tweet_url                     85382 non-null  object \n",
      " 2   created_at                    85382 non-null  object \n",
      " 3   parsed_created_at             85382 non-null  object \n",
      " 4   user_screen_name              85382 non-null  object \n",
      " 5   text                          85382 non-null  object \n",
      " 6   tweet_type                    85382 non-null  object \n",
      " 7   coordinates                   3 non-null      object \n",
      " 8   hashtags                      21391 non-null  object \n",
      " 9   media                         7274 non-null   object \n",
      " 10  urls                          12356 non-null  object \n",
      " 11  favorite_count                85382 non-null  int64  \n",
      " 12  in_reply_to_screen_name       10206 non-null  object \n",
      " 13  in_reply_to_status_id         9983 non-null   float64\n",
      " 14  in_reply_to_user_id           10207 non-null  float64\n",
      " 15  lang                          85382 non-null  object \n",
      " 16  place                         237 non-null    object \n",
      " 17  possibly_sensitive            19699 non-null  object \n",
      " 18  retweet_count                 85382 non-null  int64  \n",
      " 19  retweet_or_quote_id           69575 non-null  float64\n",
      " 20  retweet_or_quote_screen_name  69575 non-null  object \n",
      " 21  retweet_or_quote_user_id      69575 non-null  float64\n",
      " 22  source                        85335 non-null  object \n",
      " 23  user_id                       85382 non-null  int64  \n",
      " 24  user_created_at               85382 non-null  object \n",
      " 25  user_default_profile_image    85382 non-null  bool   \n",
      " 26  user_description              67494 non-null  object \n",
      " 27  user_favourites_count         85382 non-null  int64  \n",
      " 28  user_followers_count          85382 non-null  int64  \n",
      " 29  user_friends_count            85382 non-null  int64  \n",
      " 30  user_listed_count             85382 non-null  int64  \n",
      " 31  user_location                 52608 non-null  object \n",
      " 32  user_name                     85371 non-null  object \n",
      " 33  user_statuses_count           85382 non-null  int64  \n",
      " 34  user_time_zone                0 non-null      float64\n",
      " 35  user_urls                     17427 non-null  object \n",
      " 36  user_verified                 85382 non-null  bool   \n",
      "dtypes: bool(2), float64(5), int64(9), object(21)\n",
      "memory usage: 23.0+ MB\n"
     ]
    }
   ],
   "source": [
    "df.info()"
   ]
  },
  {
   "cell_type": "code",
   "execution_count": 4,
   "metadata": {},
   "outputs": [
    {
     "data": {
      "text/plain": [
       "(58071, 37)"
      ]
     },
     "execution_count": 4,
     "metadata": {},
     "output_type": "execute_result"
    }
   ],
   "source": [
    "# tweets are in 51 different languages\n",
    "\n",
    "# I'll be working only with Tweets in English\n",
    "# drop tweets in all other languages\n",
    "# now working with 38884 Tweets \n",
    "\n",
    "df = df[df.lang == 'en']\n",
    "df.shape\n",
    "\n",
    "# after non-English removed, just 58,071 Tweets left "
   ]
  },
  {
   "cell_type": "code",
   "execution_count": 5,
   "metadata": {},
   "outputs": [],
   "source": [
    "# drop unnecessary columns \n",
    "\n",
    "df = df.drop(['tweet_url', 'created_at', 'media', 'urls','in_reply_to_screen_name',\n",
    "       'in_reply_to_status_id', 'in_reply_to_user_id', 'retweet_or_quote_id',\n",
    "       'retweet_or_quote_screen_name', 'retweet_or_quote_user_id', 'source',\n",
    "       'user_created_at', 'user_name', 'user_verified', 'user_friends_count', 'user_listed_count',\n",
    "       'user_statuses_count', 'user_default_profile_image', 'user_description',\n",
    "       'user_favourites_count', 'user_followers_count', 'coordinates', 'lang', 'user_location', 'user_time_zone', 'user_urls', 'place'], axis=1)"
   ]
  },
  {
   "cell_type": "code",
   "execution_count": 6,
   "metadata": {},
   "outputs": [],
   "source": [
    "# drop retweets\n",
    "\n",
    "df = df[df.tweet_type != 'retweet']"
   ]
  },
  {
   "cell_type": "code",
   "execution_count": 7,
   "metadata": {},
   "outputs": [
    {
     "name": "stdout",
     "output_type": "stream",
     "text": [
      "<class 'pandas.core.frame.DataFrame'>\n",
      "Int64Index: 9294 entries, 4 to 85364\n",
      "Data columns (total 10 columns):\n",
      " #   Column              Non-Null Count  Dtype \n",
      "---  ------              --------------  ----- \n",
      " 0   id                  9294 non-null   int64 \n",
      " 1   parsed_created_at   9294 non-null   object\n",
      " 2   user_screen_name    9294 non-null   object\n",
      " 3   text                9294 non-null   object\n",
      " 4   tweet_type          9294 non-null   object\n",
      " 5   hashtags            1586 non-null   object\n",
      " 6   favorite_count      9294 non-null   int64 \n",
      " 7   possibly_sensitive  4033 non-null   object\n",
      " 8   retweet_count       9294 non-null   int64 \n",
      " 9   user_id             9294 non-null   int64 \n",
      "dtypes: int64(4), object(6)\n",
      "memory usage: 798.7+ KB\n"
     ]
    }
   ],
   "source": [
    "df.info()\n",
    "\n",
    "# removing retweets reduces data set to 9294 Tweets"
   ]
  },
  {
   "cell_type": "code",
   "execution_count": 8,
   "metadata": {},
   "outputs": [
    {
     "data": {
      "text/plain": [
       "id                                             1353530218187776000\n",
       "parsed_created_at                        2021-01-25 02:28:46+00:00\n",
       "user_screen_name                                    EthanMillenium\n",
       "text                  @teamnavalny @navalny Checkout that ice rink\n",
       "tweet_type                                                   reply\n",
       "hashtags                                                       NaN\n",
       "favorite_count                                                   0\n",
       "possibly_sensitive                                             NaN\n",
       "retweet_count                                                    0\n",
       "user_id                                        1074657406511169536\n",
       "Name: 4, dtype: object"
      ]
     },
     "execution_count": 8,
     "metadata": {},
     "output_type": "execute_result"
    }
   ],
   "source": [
    "# check end time & date of data\n",
    "\n",
    "df.iloc[0]\n",
    "\n",
    "# last Tweet downloaded 2021-01-25 02:28:46+00:00"
   ]
  },
  {
   "cell_type": "code",
   "execution_count": 10,
   "metadata": {},
   "outputs": [
    {
     "data": {
      "text/plain": [
       "id                                                  1353221717569773568\n",
       "parsed_created_at                             2021-01-24 06:02:53+00:00\n",
       "user_screen_name                                          serozhafromru\n",
       "text                  @McFaul @navalny Putin doesn't want to move fr...\n",
       "tweet_type                                                        reply\n",
       "hashtags                                                            NaN\n",
       "favorite_count                                                        0\n",
       "possibly_sensitive                                                  NaN\n",
       "retweet_count                                                         0\n",
       "user_id                                                       289723038\n",
       "Name: 85364, dtype: object"
      ]
     },
     "execution_count": 10,
     "metadata": {},
     "output_type": "execute_result"
    }
   ],
   "source": [
    "# check start time & date of data \n",
    "\n",
    "df.iloc[-1]\n",
    "\n",
    "# first Tweet on  2021-01-24 06:02:53+00:00"
   ]
  },
  {
   "cell_type": "code",
   "execution_count": 11,
   "metadata": {},
   "outputs": [],
   "source": [
    "# create variable for \"text\" column \n",
    "\n",
    "text = df['text'] "
   ]
  },
  {
   "cell_type": "code",
   "execution_count": 12,
   "metadata": {},
   "outputs": [],
   "source": [
    "# tokenize, remove stopwords, remove urls, lowercase, remove punctuation, remove numbers\n",
    "\n",
    "# import necessary libraries: ntlk etc.\n",
    "\n",
    "import string\n",
    "import re\n",
    "import nltk\n",
    "from nltk.corpus import stopwords\n",
    "from nltk.tokenize import TweetTokenizer\n",
    "from nltk import pos_tag\n",
    "from nltk.stem import WordNetLemmatizer \n",
    "\n",
    "\n",
    "stop = stopwords.words('english')\n",
    "\n",
    "punc = list(set(string.punctuation))\n",
    "\n",
    "def tokenizer(text):\n",
    "    tokenizer = TweetTokenizer()\n",
    "    tokens = tokenizer.tokenize(text)\n",
    "    return tokens\n",
    "\n",
    "def remove_url(text):\n",
    "    url = re.compile(r\"https?://\\S+|www\\.\\S+\")\n",
    "    return url.sub(r'', text)\n",
    "\n",
    "def process_text(text):\n",
    "    text = remove_url(text)\n",
    "    text = tokenizer(text)\n",
    "    text = [word.lower() for word in text]\n",
    "    text = [re.sub('[0-9]+', '', word) for word in text]\n",
    "    text = [word for word in text if word not in punc]\n",
    "    text = [word for word in text if word not in stop]\n",
    "    text = [each for each in text if len(each) > 1]\n",
    "    text = [word for word in text if ' ' not in word]\n",
    "     \n",
    "    return text"
   ]
  },
  {
   "cell_type": "code",
   "execution_count": 13,
   "metadata": {},
   "outputs": [],
   "source": [
    "# apply text processing functions to text\n",
    "\n",
    "df['processed_text'] = df['text'].apply(process_text)"
   ]
  },
  {
   "cell_type": "code",
   "execution_count": 14,
   "metadata": {},
   "outputs": [
    {
     "name": "stderr",
     "output_type": "stream",
     "text": [
      "/opt/anaconda3/lib/python3.7/site-packages/ipykernel_launcher.py:3: FutureWarning: Passing a negative integer is deprecated in version 1.0 and will not be supported in future version. Instead, use None to not limit the column width.\n",
      "  This is separate from the ipykernel package so we can avoid doing imports until\n"
     ]
    },
    {
     "data": {
      "text/plain": [
       "4      [@teamnavalny, @navalny, checkout, ice, rink]                                                                                                                                                                                                              \n",
       "8      [alexei, navalny, russian, russian, ever, lived, utterly, unafraid]                                                                                                                                                                                        \n",
       "23     [@bigbrat, @meghanmccain, @navalny, dad, physically, hand, delivered, fake, hillary, clinton, paid, dossier, lindsey, graham, kicked, entire, russia, charade, key, player, shit, show, republic, may, patriotic, soldier, mccain, civil, servant, traitor]\n",
       "35     [residents, russia, hold, demonstration, charlottetown, navalny's, arrest, guardian]                                                                                                                                                                       \n",
       "43     [get, boots, yall, kush, navalny, lover]                                                                                                                                                                                                                   \n",
       "45     [terror, authoritarian, government, putin, arrests, thousands, protesters, supporting, opposition, leader, navalny, putin, unsuccessfully, poisoned, capitol, rioters, succeeded, jan, country, could, looked, like, sooner]                               \n",
       "61     [@imreadinhere, people, get, talking, points, secret, decoder, ring, keys, rush, limbaugh, ads, navalny, born, late, moscow, oblast, less, nazism, temple, mount, jerusalem, learn, basics, repeat, big, words, #maga]                                     \n",
       "104    [@meghanmccain, @benshapiro, @navalny, sounds, like, us, interference, russia, political, process, umm, listen, years, disproven, allegations, way, even, fan, putin, sad, lack, self, awareness]                                                          \n",
       "107    [@meghanmccain, @navalny, absolutely, terrifying]                                                                                                                                                                                                          \n",
       "115    [navalny, trump, belong, sentence, check, notes]                                                                                                                                                                                                           \n",
       "120    [@newtgingrich, clearly, senile, think, equivalency, navalny, trump, spiked, viagra, smoking]                                                                                                                                                              \n",
       "130    [@newtgingrich, lol, think, trump, navalny, metaphor, really, really, dude, put, crack, pipe, walk, away, slowly]                                                                                                                                          \n",
       "137    [@newtgingrich, alexei, navalny, standing, anti-democratic, regime, issue, want]                                                                                                                                                                           \n",
       "155    [@newtgingrich, due, respect, sir, hell, wrong, even, process, nonsense, navalny, president, inciting, coup-trump, get, help, justice, justice, martyr, extremist, cultmembers, ship, sailed, shame]                                                       \n",
       "157    [@meghanmccain, @navalny, wow, can't, even, imagine, ever, say, something, like, god, bless]                                                                                                                                                               \n",
       "165    [@meghanmccain, @navalny, dead, man, walking, thing]                                                                                                                                                                                                       \n",
       "186    [@voicepovertyus, @repadamschiff, @navalny, say, work, putin, said, work, russians, good, faith, putin, forever]                                                                                                                                           \n",
       "216    [@johncornyn, trump, poisoned, trump, watch, let, correct, tweet, current, administration, publicly, condemn, navalny, poisoning, previous, administration, balls]                                                                                         \n",
       "225    [@newtgingrich, insulting, compare, navalny, trump, going, comparing, trump, like, putin, also, believe, fair, election, results]                                                                                                                          \n",
       "232    [@navalny, profile, courage, wife, go, back, russia, poisoned, people, us, complain, wear, masks, equate, tyranny, make, angry, people, like, navalny, actually, live, tyranny, endure]                                                                    \n",
       "Name: processed_text, dtype: object"
      ]
     },
     "execution_count": 14,
     "metadata": {},
     "output_type": "execute_result"
    }
   ],
   "source": [
    "# look at some of processed text\n",
    "\n",
    "pd.set_option('display.max_colwidth', -1)\n",
    "df['processed_text'][:20]"
   ]
  },
  {
   "cell_type": "code",
   "execution_count": 15,
   "metadata": {},
   "outputs": [],
   "source": [
    "# part-of-speech tagging \n",
    "\n",
    "ready_for_pos = df['processed_text']\n",
    "\n",
    "def pos_tagging(text):\n",
    "    pos_tag = [pos_tag(word) for word in ready_for_pos]\n",
    "\n",
    "df['pos_tagged'] = df.processed_text.apply(lambda x: pos_tag(x))"
   ]
  },
  {
   "cell_type": "code",
   "execution_count": 16,
   "metadata": {},
   "outputs": [],
   "source": [
    "# lemmatizing\n",
    "\n",
    "pos_tagged = df['pos_tagged']\n",
    "\n",
    "wordnet = WordNetLemmatizer() \n",
    "\n",
    "lemmatized = [[wordnet.lemmatize(word[0]) for word in words] for words in pos_tagged]"
   ]
  },
  {
   "cell_type": "code",
   "execution_count": 17,
   "metadata": {},
   "outputs": [
    {
     "data": {
      "text/plain": [
       "[['@teamnavalny', '@navalny', 'checkout', 'ice', 'rink'],\n",
       " ['alexei',\n",
       "  'navalny',\n",
       "  'russian',\n",
       "  'russian',\n",
       "  'ever',\n",
       "  'lived',\n",
       "  'utterly',\n",
       "  'unafraid'],\n",
       " ['@bigbrat',\n",
       "  '@meghanmccain',\n",
       "  '@navalny',\n",
       "  'dad',\n",
       "  'physically',\n",
       "  'hand',\n",
       "  'delivered',\n",
       "  'fake',\n",
       "  'hillary',\n",
       "  'clinton',\n",
       "  'paid',\n",
       "  'dossier',\n",
       "  'lindsey',\n",
       "  'graham',\n",
       "  'kicked',\n",
       "  'entire',\n",
       "  'russia',\n",
       "  'charade',\n",
       "  'key',\n",
       "  'player',\n",
       "  'shit',\n",
       "  'show',\n",
       "  'republic',\n",
       "  'may',\n",
       "  'patriotic',\n",
       "  'soldier',\n",
       "  'mccain',\n",
       "  'civil',\n",
       "  'servant',\n",
       "  'traitor'],\n",
       " ['resident',\n",
       "  'russia',\n",
       "  'hold',\n",
       "  'demonstration',\n",
       "  'charlottetown',\n",
       "  \"navalny's\",\n",
       "  'arrest',\n",
       "  'guardian'],\n",
       " ['get', 'boot', 'yall', 'kush', 'navalny', 'lover'],\n",
       " ['terror',\n",
       "  'authoritarian',\n",
       "  'government',\n",
       "  'putin',\n",
       "  'arrest',\n",
       "  'thousand',\n",
       "  'protester',\n",
       "  'supporting',\n",
       "  'opposition',\n",
       "  'leader',\n",
       "  'navalny',\n",
       "  'putin',\n",
       "  'unsuccessfully',\n",
       "  'poisoned',\n",
       "  'capitol',\n",
       "  'rioter',\n",
       "  'succeeded',\n",
       "  'jan',\n",
       "  'country',\n",
       "  'could',\n",
       "  'looked',\n",
       "  'like',\n",
       "  'sooner'],\n",
       " ['@imreadinhere',\n",
       "  'people',\n",
       "  'get',\n",
       "  'talking',\n",
       "  'point',\n",
       "  'secret',\n",
       "  'decoder',\n",
       "  'ring',\n",
       "  'key',\n",
       "  'rush',\n",
       "  'limbaugh',\n",
       "  'ad',\n",
       "  'navalny',\n",
       "  'born',\n",
       "  'late',\n",
       "  'moscow',\n",
       "  'oblast',\n",
       "  'le',\n",
       "  'nazism',\n",
       "  'temple',\n",
       "  'mount',\n",
       "  'jerusalem',\n",
       "  'learn',\n",
       "  'basic',\n",
       "  'repeat',\n",
       "  'big',\n",
       "  'word',\n",
       "  '#maga'],\n",
       " ['@meghanmccain',\n",
       "  '@benshapiro',\n",
       "  '@navalny',\n",
       "  'sound',\n",
       "  'like',\n",
       "  'u',\n",
       "  'interference',\n",
       "  'russia',\n",
       "  'political',\n",
       "  'process',\n",
       "  'umm',\n",
       "  'listen',\n",
       "  'year',\n",
       "  'disproven',\n",
       "  'allegation',\n",
       "  'way',\n",
       "  'even',\n",
       "  'fan',\n",
       "  'putin',\n",
       "  'sad',\n",
       "  'lack',\n",
       "  'self',\n",
       "  'awareness'],\n",
       " ['@meghanmccain', '@navalny', 'absolutely', 'terrifying'],\n",
       " ['navalny', 'trump', 'belong', 'sentence', 'check', 'note'],\n",
       " ['@newtgingrich',\n",
       "  'clearly',\n",
       "  'senile',\n",
       "  'think',\n",
       "  'equivalency',\n",
       "  'navalny',\n",
       "  'trump',\n",
       "  'spiked',\n",
       "  'viagra',\n",
       "  'smoking'],\n",
       " ['@newtgingrich',\n",
       "  'lol',\n",
       "  'think',\n",
       "  'trump',\n",
       "  'navalny',\n",
       "  'metaphor',\n",
       "  'really',\n",
       "  'really',\n",
       "  'dude',\n",
       "  'put',\n",
       "  'crack',\n",
       "  'pipe',\n",
       "  'walk',\n",
       "  'away',\n",
       "  'slowly'],\n",
       " ['@newtgingrich',\n",
       "  'alexei',\n",
       "  'navalny',\n",
       "  'standing',\n",
       "  'anti-democratic',\n",
       "  'regime',\n",
       "  'issue',\n",
       "  'want'],\n",
       " ['@newtgingrich',\n",
       "  'due',\n",
       "  'respect',\n",
       "  'sir',\n",
       "  'hell',\n",
       "  'wrong',\n",
       "  'even',\n",
       "  'process',\n",
       "  'nonsense',\n",
       "  'navalny',\n",
       "  'president',\n",
       "  'inciting',\n",
       "  'coup-trump',\n",
       "  'get',\n",
       "  'help',\n",
       "  'justice',\n",
       "  'justice',\n",
       "  'martyr',\n",
       "  'extremist',\n",
       "  'cultmembers',\n",
       "  'ship',\n",
       "  'sailed',\n",
       "  'shame'],\n",
       " ['@meghanmccain',\n",
       "  '@navalny',\n",
       "  'wow',\n",
       "  \"can't\",\n",
       "  'even',\n",
       "  'imagine',\n",
       "  'ever',\n",
       "  'say',\n",
       "  'something',\n",
       "  'like',\n",
       "  'god',\n",
       "  'bless'],\n",
       " ['@meghanmccain', '@navalny', 'dead', 'man', 'walking', 'thing'],\n",
       " ['@voicepovertyus',\n",
       "  '@repadamschiff',\n",
       "  '@navalny',\n",
       "  'say',\n",
       "  'work',\n",
       "  'putin',\n",
       "  'said',\n",
       "  'work',\n",
       "  'russian',\n",
       "  'good',\n",
       "  'faith',\n",
       "  'putin',\n",
       "  'forever'],\n",
       " ['@johncornyn',\n",
       "  'trump',\n",
       "  'poisoned',\n",
       "  'trump',\n",
       "  'watch',\n",
       "  'let',\n",
       "  'correct',\n",
       "  'tweet',\n",
       "  'current',\n",
       "  'administration',\n",
       "  'publicly',\n",
       "  'condemn',\n",
       "  'navalny',\n",
       "  'poisoning',\n",
       "  'previous',\n",
       "  'administration',\n",
       "  'ball'],\n",
       " ['@newtgingrich',\n",
       "  'insulting',\n",
       "  'compare',\n",
       "  'navalny',\n",
       "  'trump',\n",
       "  'going',\n",
       "  'comparing',\n",
       "  'trump',\n",
       "  'like',\n",
       "  'putin',\n",
       "  'also',\n",
       "  'believe',\n",
       "  'fair',\n",
       "  'election',\n",
       "  'result'],\n",
       " ['@navalny',\n",
       "  'profile',\n",
       "  'courage',\n",
       "  'wife',\n",
       "  'go',\n",
       "  'back',\n",
       "  'russia',\n",
       "  'poisoned',\n",
       "  'people',\n",
       "  'u',\n",
       "  'complain',\n",
       "  'wear',\n",
       "  'mask',\n",
       "  'equate',\n",
       "  'tyranny',\n",
       "  'make',\n",
       "  'angry',\n",
       "  'people',\n",
       "  'like',\n",
       "  'navalny',\n",
       "  'actually',\n",
       "  'live',\n",
       "  'tyranny',\n",
       "  'endure']]"
      ]
     },
     "execution_count": 17,
     "metadata": {},
     "output_type": "execute_result"
    }
   ],
   "source": [
    "# look at lemmatized text\n",
    "\n",
    "df['lemmatized'] = lemmatized\n",
    "lemmatized[:20]"
   ]
  },
  {
   "cell_type": "code",
   "execution_count": 18,
   "metadata": {},
   "outputs": [
    {
     "name": "stderr",
     "output_type": "stream",
     "text": [
      "/opt/anaconda3/lib/python3.7/site-packages/ipykernel_launcher.py:4: FutureWarning: Passing a negative integer is deprecated in version 1.0 and will not be supported in future version. Instead, use None to not limit the column width.\n",
      "  after removing the cwd from sys.path.\n"
     ]
    },
    {
     "data": {
      "text/plain": [
       "24221    alexei navalny fighting corrupt election trump fighting                                                                                                                                         \n",
       "24222    @revmagdalen @dmitrydoreshkin @kilroyjoe navalny poisoned dont think russian would dead simple usually happen fall window add sergei skripal case look insidious lived                          \n",
       "24226    fair point support navalny agree political view russian right political pluralism corruption-free political system                                                                              \n",
       "24228    @loucharbon @hrw @navalny @nytimes anyone else incredibly proud protestors                                                                                                                      \n",
       "24240    latest news russia putin face rising discontent amid alexei navalny protest wall street journal #theusaposts #news                                                                              \n",
       "24241    @johncornyn navalny poisoned putin trump administration trump ignored ignored gop ignored sure biden ignore seems like really desperate find anything even hypothetical undermine biden american\n",
       "24258    navalny foundation limited resource done heroic job exposing extravagant corruption putin gang                                                                                                  \n",
       "24264    @marisha @darkbobcat @mcfaul @navalny world enough alternative source st petersburg's internet research agency need shutdown                                                                    \n",
       "24269    @repadamschiff @navalny american capitol building sent troop cause got taste freedom give nation like smelled                                                                                   \n",
       "24270    @johncornyn hypocrite trump refused hold putin accountable fro navalny poisoning putin bounty head american soldier                                                                             \n",
       "24288    @anonymecitoyen @false_postve interesting politically motivated process dutch authority seem show                                                                                               \n",
       "24299    oh lovely grandmother put putin perspective ... swear warning aptly placed #putin #navalny #putinout #whydoiusehashtags                                                                         \n",
       "24326    protest president putin gain momentum russia navalny poisoned bloody idiot believe poisoning stupid youth brainwashed eu usa people older traitor motherland                                    \n",
       "24354    @artyomlukin navalny nationalist putin moderate                                                                                                                                                 \n",
       "24357    @johncornyn @johncornyn bad buddy trump nothing kiss vlad's ring entire time office perhaps shown little spine navalny poisoned like trumplicans need democrat clean mess made                  \n",
       "24371    kremlin accuses biden administration interfering russia's domestic affair amid #navalny protest erupted yesterday chinese puppet oval revive arm lobby time                                     \n",
       "24392    @yourradiantsun @darkbobcat @mcfaul @navalny medium never tell many people putin done year rule look alternative source compare analyze brain think                                             \n",
       "24400    @johncornyn elected representative like iota bravery navalny country would good hand would tell grow pair would settle single ball                                                              \n",
       "24409    trump much navalny since really rival office yeltsin without integrity                                                                                                                          \n",
       "24414    @senatordurbin navalny poisoned arrested medium need talking video exposé navalny million russian street surprised see repeat bad actually worse                                                \n",
       "Name: final_docs, dtype: object"
      ]
     },
     "execution_count": 18,
     "metadata": {},
     "output_type": "execute_result"
    }
   ],
   "source": [
    "# before vectorizing, cast lists of words back into strings\n",
    "\n",
    "df['final_docs'] = df['lemmatized'].apply(lambda x: \" \".join(x))\n",
    "pd.set_option('display.max_colwidth', -1)\n",
    "final_docs = df['final_docs']\n",
    "final_docs[3000:3020]"
   ]
  },
  {
   "cell_type": "code",
   "execution_count": 19,
   "metadata": {},
   "outputs": [],
   "source": [
    "#create document term matrix with TFIDF\n",
    "\n",
    "#import vectorizing tool (usee TFIDF)\n",
    "from sklearn.feature_extraction.text import TfidfVectorizer\n",
    "# set max_features to 2000 (specifies the number of most frequently occurring words for which we want to create feature vectors)\n",
    "# set min_df to 5 (word must occur in at least 5 documents)\n",
    "# set max_df to 0.85 (word must not occur in more than 85 percent of the documents) \n",
    "\n",
    "tfidfconverter = TfidfVectorizer(max_features=2000, min_df=5, max_df=0.85, ngram_range=(1, 2), stop_words='english')  \n",
    "doc_term_matrix_1 = tfidfconverter.fit_transform(df['final_docs'].values.astype('U'))"
   ]
  },
  {
   "cell_type": "code",
   "execution_count": 20,
   "metadata": {},
   "outputs": [],
   "source": [
    "#run NMF model \n",
    "\n",
    "#import NMF tool \n",
    "from sklearn.decomposition import NMF\n",
    "\n",
    "nmf_model = NMF(n_components=6)\n",
    "nmf_Z = nmf_model.fit_transform(doc_term_matrix_1)"
   ]
  },
  {
   "cell_type": "code",
   "execution_count": 27,
   "metadata": {},
   "outputs": [],
   "source": [
    "# run LDA model\n",
    "\n",
    "#import LDA tool \n",
    "from sklearn.decomposition import LatentDirichletAllocation\n",
    "\n",
    "lda_model = LatentDirichletAllocation(n_components = 5, max_iter=10, learning_method='online', learning_decay=.7)\n",
    "lda_Z = lda_model.fit_transform(doc_term_matrix_1)"
   ]
  },
  {
   "cell_type": "code",
   "execution_count": 28,
   "metadata": {},
   "outputs": [
    {
     "name": "stdout",
     "output_type": "stream",
     "text": [
      "LDA Model:\n",
      "Topic 0:\n",
      "[('alexei', 160.0824794473528), ('alexei navalny', 159.25156436725305), ('russia', 141.7432976865553), ('protest', 129.5625028639081), ('russian', 104.16354899840047), ('support', 101.36902874478842), ('arrested', 94.14136182821055), ('opposition', 93.45675663438386), ('people', 81.99924821705493), ('putin', 77.91231800868768)]\n",
      "Topic 1:\n",
      "[('marisepayne', 43.01468946641939), ('marisepayne navalny', 41.59048524236751), ('russian', 40.89159524082136), ('assange', 40.704903289256286), ('russia', 40.190961542143754), ('eu', 39.1050425601515), ('racist', 38.09542235397977), ('nationalist', 35.30052166150479), ('navalny arrest', 35.016031371645035), ('right', 34.78148006113376)]\n",
      "Topic 2:\n",
      "[('mcfaul', 115.6076143945626), ('putin', 94.76880007758024), ('mcfaul navalny', 86.72470768257675), ('palace', 55.585825630781635), ('video', 51.33511654198279), ('supporter', 49.90312402873531), ('alexey', 47.78671536274178), ('alexey navalny', 43.785898310162544), ('guy', 41.600344650573625), ('putin palace', 36.74251933768741)]\n",
      "Topic 3:\n",
      "[('trump', 183.0609145917858), ('putin', 118.41985495794148), ('repadamschiff', 116.22717805577906), ('repadamschiff navalny', 105.41722660075038), ('like', 100.16068636805213), ('newtgingrich', 90.84188103611261), ('poisoned', 61.08687940141102), ('johncornyn', 58.83955905421976), ('russia', 58.7775846823676), ('think', 57.72422452006921)]\n",
      "Topic 4:\n",
      "[('russia', 100.66953839139961), ('protest', 91.00461636852877), ('navalny protest', 88.1307821976331), ('pro', 80.13128503978808), ('pro navalny', 64.20510361240385), ('anti', 42.27884815970446), ('free', 40.635392241201416), ('photo', 38.63935020318887), ('russia navalny', 36.99234895022847), ('new', 34.42039777128698)]\n",
      "==============================\n",
      "NMF Model:\n",
      "Topic 0:\n",
      "[('putin', 2.4402093121954866), ('russian', 1.0406605867034038), ('people', 0.8841456609158493), ('russia', 0.7532170180193993), ('mcfaul', 0.7386523414352419), ('mcfaul navalny', 0.5737883193485276), ('like', 0.5340698049690048), ('know', 0.4957932495882653), ('right', 0.45605755470403503), ('navalny putin', 0.4072053739945862)]\n",
      "Topic 1:\n",
      "[('trump', 2.253608989256729), ('newtgingrich', 1.360079111849147), ('trump navalny', 0.7814095951846256), ('newtgingrich trump', 0.429456027346812), ('navalny trump', 0.4259536238523087), ('johncornyn', 0.3325047987191753), ('trump putin', 0.3314668428521648), ('like', 0.27608719340304627), ('poisoned', 0.2598780030632274), ('newt', 0.25975687655716106)]\n",
      "Topic 2:\n",
      "[('navalny protest', 1.1291465185442522), ('protest', 1.1205220071894215), ('pro', 0.8649290609553362), ('russia', 0.8631272786411601), ('pro navalny', 0.8282673595419147), ('photo', 0.5153145749161172), ('wave', 0.48028147305120755), ('protest photo', 0.47902370777205533), ('anger roll', 0.47719915998704604), ('roll russia', 0.47719915998704604)]\n",
      "Topic 3:\n",
      "[('repadamschiff', 2.08398371537685), ('repadamschiff navalny', 1.9652149436794335), ('georebekah', 0.8435419891980447), ('georebekah repadamschiff', 0.8302928975031515), ('stand', 0.27749899599132843), ('glidera', 0.19015846017702298), ('navalny stand', 0.17375751824382346), ('glidera georebekah', 0.14176780634697456), ('schiff', 0.13247524833733687), ('adam', 0.1024339768418487)]\n",
      "Topic 4:\n",
      "[('alexei', 1.718513119196162), ('alexei navalny', 1.715224549354715), ('protest', 1.04211118949294), ('release', 0.987349942829233), ('russia', 0.8643180264293064), ('arrested', 0.8490708725066374), ('opposition', 0.7766973627859437), ('opposition leader', 0.7122766324669523), ('leader', 0.7103830976109362), ('thousand', 0.5368108203496702)]\n",
      "Topic 5:\n",
      "[('support', 0.865055728631345), ('support jailed', 0.658991570954751), ('protester', 0.644843053628087), ('street support', 0.6331510830719331), ('jailed navalny', 0.6318278952287039), ('problem putin', 0.6314237799632164), ('problem', 0.6299598796051674), ('street', 0.627249037893072), ('jailed', 0.6246092434372993), ('russia street', 0.6240109824716347)]\n",
      "==============================\n"
     ]
    }
   ],
   "source": [
    "def print_topics(model, vectorizer, top_n=10):\n",
    "    for idx, topic in enumerate(model.components_):\n",
    "        print(\"Topic %d:\" % (idx))\n",
    "        print([(vectorizer.get_feature_names()[i], topic[i])\n",
    "                        for i in topic.argsort()[:-top_n - 1:-1]])\n",
    " \n",
    "print(\"LDA Model:\")\n",
    "print_topics(lda_model, tfidfconverter )\n",
    "print(\"=\" * 30)\n",
    " \n",
    "print(\"NMF Model:\")\n",
    "print_topics(nmf_model, tfidfconverter )\n",
    "print(\"=\" * 30)"
   ]
  },
  {
   "cell_type": "code",
   "execution_count": 29,
   "metadata": {},
   "outputs": [
    {
     "data": {
      "text/html": [
       "\n",
       "<link rel=\"stylesheet\" type=\"text/css\" href=\"https://cdn.rawgit.com/bmabey/pyLDAvis/files/ldavis.v1.0.0.css\">\n",
       "\n",
       "\n",
       "<div id=\"ldavis_el814591404389666071842273301127\"></div>\n",
       "<script type=\"text/javascript\">\n",
       "\n",
       "var ldavis_el814591404389666071842273301127_data = {\"mdsDat\": {\"x\": [150.22215270996094, 51.16336441040039, -73.1445541381836, -66.4101333618164, 54.41732406616211], \"y\": [-72.2695541381836, -159.968017578125, 21.523815155029297, -110.60643768310547, 12.44344425201416], \"topics\": [1, 2, 3, 4, 5], \"cluster\": [1, 1, 1, 1, 1], \"Freq\": [27.713314542080003, 26.234609833702677, 16.08121916310697, 15.067316972316089, 14.903539488794262]}, \"tinfo\": {\"Term\": [\"mcfaul\", \"alexei\", \"alexei navalny\", \"trump\", \"mcfaul navalny\", \"navalny protest\", \"pro\", \"protest\", \"repadamschiff\", \"pro navalny\", \"repadamschiff navalny\", \"palace\", \"arrested\", \"video\", \"opposition\", \"alexey\", \"thousand\", \"supporter\", \"alexey navalny\", \"newtgingrich\", \"support\", \"guy\", \"marisepayne\", \"anti\", \"free\", \"police\", \"release\", \"marisepayne navalny\", \"photo\", \"russia\", \"repadamschiff\", \"repadamschiff navalny\", \"johncornyn\", \"navalny poisoned\", \"georebekah\", \"georebekah repadamschiff\", \"work\", \"change\", \"mean\", \"like navalny\", \"hold\", \"maybe\", \"party\", \"mr\", \"tweet\", \"accountable\", \"return\", \"trump navalny\", \"meghanmccain\", \"word\", \"tell\", \"oh\", \"trump putin\", \"navalny poisoning\", \"yeah\", \"happened\", \"meghanmccain navalny\", \"tomtugendhat\", \"republican\", \"agent\", \"believe\", \"poisoned\", \"newtgingrich trump\", \"trump\", \"sure\", \"poisoning\", \"newtgingrich\", \"like\", \"president\", \"said\", \"need\", \"care\", \"thing\", \"election\", \"think\", \"want\", \"putin\", \"say\", \"know\", \"biden\", \"country\", \"people\", \"russia\", \"make\", \"russian\", \"alexei\", \"alexei navalny\", \"thousand\", \"opposition leader\", \"support navalny\", \"life\", \"stand\", \"navalnyprotests\", \"demanding\", \"navalny release\", \"city\", \"stop\", \"leader alexei\", \"navalny wife\", \"navalny russian\", \"fighting\", \"jailed opposition\", \"newt\", \"protest demanding\", \"act\", \"arrested protest\", \"jailing\", \"demanding navalny\", \"sweep\", \"sweep russia\", \"newtgingrich navalny\", \"lot\", \"truth\", \"matter\", \"turn\", \"opposition\", \"arrested\", \"detained\", \"supporting\", \"critic\", \"leader\", \"wife\", \"police\", \"support\", \"moscow\", \"release\", \"protest\", \"russia\", \"russian\", \"jailed\", \"people\", \"protester\", \"kremlin\", \"putin\", \"arrest\", \"marisepayne\", \"marisepayne navalny\", \"assange\", \"eu\", \"racist\", \"navalny arrest\", \"case\", \"usa\", \"sanction\", \"comment\", \"human\", \"war\", \"embassy\", \"hate\", \"policy\", \"pretty\", \"affair\", \"wish\", \"soviet\", \"potus\", \"bbcworld\", \"claim\", \"mfa_russia\", \"human right\", \"navalny people\", \"family\", \"amazing\", \"propaganda\", \"rt_com\", \"dead\", \"illegal\", \"money\", \"nationalist\", \"russian people\", \"interference\", \"medium\", \"right\", \"politics\", \"arrest\", \"year\", \"russian\", \"far\", \"yes\", \"russia\", \"hero\", \"yesterday\", \"people\", \"putin\", \"western\", \"west\", \"mcfaul\", \"mcfaul navalny\", \"palace\", \"alexey\", \"alexey navalny\", \"guy\", \"navalny supporter\", \"putin palace\", \"home\", \"million\", \"billbrowder\", \"expose\", \"thank\", \"russianprotests\", \"poison\", \"uk\", \"came\", \"black\", \"authority\", \"billion\", \"navalny video\", \"navalny home\", \"fucking\", \"home makeover\", \"makeover\", \"navalny good\", \"wing\", \"makeover expose\", \"film\", \"rule\", \"compare\", \"video\", \"supporter\", \"read\", \"youtube\", \"putin\", \"good\", \"western\", \"view\", \"news\", \"vladimir putin\", \"vladimir\", \"state\", \"russian\", \"russia\", \"right\", \"pro\", \"pro navalny\", \"photo\", \"russia navalny\", \"anger\", \"cia\", \"white\", \"wave\", \"free navalny\", \"thread\", \"kenvogel\", \"markmackinnon\", \"roll\", \"fair\", \"protest photo\", \"wave anger\", \"revolution\", \"roll russia\", \"anger roll\", \"russian_starr\", \"nazi\", \"photo wave\", \"jailed navalny\", \"problem putin\", \"navalny protester\", \"russia street\", \"putin protester\", \"throng russia\", \"protester throng\", \"throng\", \"navalny protest\", \"anti\", \"calling\", \"new\", \"free\", \"protest\", \"russia\", \"release navalny\", \"protester\", \"release\", \"kremlin\", \"street\", \"support\", \"putin\", \"problem\", \"protest russia\"], \"Freq\": [113.0, 141.0, 140.0, 191.0, 85.0, 102.0, 80.0, 235.0, 107.0, 64.0, 97.0, 54.0, 88.0, 61.0, 88.0, 47.0, 68.0, 60.0, 43.0, 105.0, 129.0, 41.0, 42.0, 51.0, 60.0, 86.0, 99.0, 41.0, 39.0, 342.0, 106.25925641114553, 96.3763923283518, 53.793337300683106, 37.54629121214502, 36.58630091403777, 35.89804242424886, 35.948844103087076, 31.91009390193899, 30.3146899717258, 29.93362834822274, 28.987824639705128, 28.491116911631824, 26.474720059289453, 26.265013946925492, 25.697815618700115, 25.106735227897843, 25.326306759661065, 45.30039952957642, 22.962610383954207, 24.403988089060427, 23.255412198779258, 22.776044641575606, 21.614685023604967, 20.87187389109591, 20.987765113724745, 19.832969102431434, 18.67640940605658, 18.378769124612493, 18.70618446574602, 18.139030107908347, 25.31802031659387, 55.847922063083324, 23.525130778351304, 167.36117135298707, 33.42632016675927, 40.20398070595238, 83.05106336879793, 91.57066559760621, 47.14006286169019, 36.472819500896215, 46.22524586708454, 29.3950449752031, 38.22611627157119, 39.766165154791544, 52.773656532114224, 45.38494839828437, 108.26388408146421, 40.1275884202985, 42.18277000982355, 37.10285100451361, 38.6449328920695, 49.638276412540364, 53.73667799965114, 33.45672451178156, 38.67114452190513, 140.27786320563416, 139.5497448484965, 67.44365063370375, 56.29200922913489, 41.136036521561316, 41.193839826493885, 40.693294767442985, 39.64729128110435, 37.644646583781466, 32.80509692288627, 30.51727061171767, 31.71278310699977, 26.87209143511079, 25.72383646761218, 26.29501002992988, 25.083514537175144, 24.210408717579124, 24.26981224551529, 23.47725592345951, 23.511350255367645, 21.611632549706286, 22.009084267417066, 21.077479141701197, 21.47332034049437, 21.294840179832754, 21.31211624524553, 21.240654604679005, 21.222330308695806, 20.92669482990225, 20.190221951368773, 81.89474680839056, 82.49465601807437, 50.99136357286693, 31.020721215917238, 39.614902441276556, 68.05357835763324, 35.263171457732966, 67.0709852609048, 88.82815156686765, 56.62756269686846, 65.37479458497579, 113.53366786963163, 124.20751472511559, 91.27694753264032, 40.58113745068944, 71.85470492503099, 48.248317540381976, 49.91939841682594, 68.27338960133335, 39.38470817084768, 42.05326137598851, 40.660889764574286, 39.79510159299819, 38.2309996027061, 37.243945576574745, 34.23338254647125, 30.111945283700017, 27.80687473334485, 26.614319101893262, 22.393836405324432, 20.748818174154746, 19.678145108153355, 19.21353884164013, 19.1750014908849, 18.80495185281867, 18.635646683317617, 16.39214373510775, 16.28244192206422, 16.046087404981048, 15.894516479109788, 15.462896915543947, 15.437184553958355, 14.989747475033987, 14.854101902402538, 14.393727342791617, 14.244902506785541, 13.802322779813773, 17.959144789881737, 13.530047510484588, 13.577678447224846, 13.600608885591033, 26.69853125732041, 34.51151414911231, 25.691912388396165, 16.119700303464047, 24.24759935107139, 34.004073729195895, 20.19338999096123, 29.080764027094553, 26.68387249852714, 39.977620763387385, 20.608660712985056, 20.400428193848665, 39.29264703871789, 19.07930014606026, 20.399199307973735, 28.77962789131796, 31.298613878715386, 21.808005988797625, 19.50814657611037, 112.51768858156494, 84.40675557971186, 54.10014427360783, 46.509486297070026, 42.615601888578176, 40.48846305489689, 35.144969255426766, 35.7604762470947, 32.450560357520494, 25.82557321659107, 24.23388465675608, 23.310030962742818, 23.910424476452352, 21.367190978440885, 19.437212959245606, 18.960921212016302, 18.330915527702803, 18.37898721927425, 18.04900683051017, 17.184717823323123, 17.099145997203937, 16.9187687930632, 16.69547085300851, 16.259415205223203, 16.25941518548919, 16.10524232130889, 16.007777467625072, 15.580672238984816, 15.672209221560509, 15.755039377254844, 25.562383281966465, 49.963046868657045, 48.56932822390755, 26.53434595080998, 24.099388405252967, 92.2358478740418, 30.168438893027766, 27.7383291026886, 22.61502207621813, 26.506161892862547, 21.78730245080134, 21.943629976293522, 21.163007073179582, 25.261895760262135, 25.156271572983997, 21.19454229880734, 79.44404035319334, 63.654449566509285, 38.30796043317046, 36.6750846601565, 27.165530956220096, 27.134063997052547, 26.54539724406485, 25.516043581865237, 24.513371718306228, 24.183011062817297, 23.75723204925556, 23.89373535700623, 23.339575809607314, 22.832612480466057, 22.292261403937776, 21.97423628005662, 22.326602014843534, 21.889938652918392, 21.88993865260386, 22.26021223986375, 22.169618810106385, 21.51975934245334, 20.659423765443293, 20.483931531301394, 20.077318835759485, 19.641844099036923, 19.51401168568441, 19.157717617608807, 19.15771761499394, 19.15771758491541, 87.37492995140133, 41.916244293578075, 28.157772034999805, 34.12519177943188, 40.28688344851711, 90.22411672942016, 99.80614770289284, 23.925288046107543, 32.50132287744442, 29.036007388168006, 28.69681389627376, 25.00902531929956, 27.688609724215855, 27.695841816530066, 22.744665803710213, 22.963371880348983], \"Total\": [113.0, 141.0, 140.0, 191.0, 85.0, 102.0, 80.0, 235.0, 107.0, 64.0, 97.0, 54.0, 88.0, 61.0, 88.0, 47.0, 68.0, 60.0, 43.0, 105.0, 129.0, 41.0, 42.0, 51.0, 60.0, 86.0, 99.0, 41.0, 39.0, 342.0, 107.02838217312114, 97.14483840069694, 54.558318523382326, 38.312357863151036, 37.35137463185282, 36.6631021803946, 36.73775809061256, 32.69663297376327, 31.100647409264024, 30.72301188521415, 29.760788286938404, 29.273043718244132, 27.254666445515458, 27.04705065295617, 26.47700182104691, 25.8714912887402, 26.10496702738763, 46.731977752165, 23.729326428782816, 25.220047519648993, 24.038714982322848, 23.550838673001522, 22.384657289383856, 21.638829808756263, 21.767595821898027, 20.605843750338327, 19.442547895566765, 19.147012132719972, 19.488343204231857, 18.91685507052297, 26.63680805781479, 60.79785742694057, 24.743912501032135, 191.3061405168709, 35.90750282744338, 45.60776922848279, 105.85386071900274, 122.45699745803648, 58.930109220431206, 43.17119981471721, 59.335873965407465, 32.78534766257782, 47.132288231647074, 50.69949042177198, 81.28718795998293, 67.76374177649852, 327.7675772520848, 72.62451625481961, 86.2008226224998, 62.609351071405015, 70.54088579197204, 165.99274180383682, 342.19925903936144, 48.399312015155644, 212.41779106426833, 141.07830974951324, 140.35049023866986, 68.22594221741458, 57.06772795495901, 41.91910051659941, 41.98075621970888, 41.49433109599487, 40.43034963196432, 38.41995047218215, 33.5790982731431, 31.297098973142127, 32.52622060951883, 27.64465106918203, 26.498575803356218, 27.09676419357925, 25.870667549900297, 24.984612014813997, 25.062371434774068, 24.249267475744702, 24.294142170547982, 22.38395632331483, 22.8143837079102, 21.849571064758038, 22.260191688418605, 22.08060829629722, 22.09877477040958, 22.044322667333535, 22.027858543483454, 21.72865545184323, 20.988277711034428, 88.05517870363664, 88.80879640293392, 54.44446487313245, 32.81290817904226, 43.18182527469788, 79.24244140350484, 38.8546132266041, 86.37831777822647, 129.22382801304747, 75.84801074858241, 99.72837861281009, 235.05494159514734, 342.19925903936144, 212.41779106426833, 59.731402742440466, 165.99274180383682, 84.74328080485662, 94.01322886550022, 327.7675772520848, 78.64329245830476, 42.80763191852912, 41.4151512254681, 40.55182404597532, 38.99645434679616, 38.04268772904432, 35.00416749081779, 30.877138566842163, 28.57298275771187, 27.37884679732555, 23.166175174724213, 21.50918359147433, 20.443980939142204, 19.97586024574948, 19.94213452785356, 19.566402713040308, 19.40317681590717, 17.146873059135025, 17.046401735361215, 16.80872739459206, 16.666662197427712, 16.22083336370039, 16.203920940032784, 15.75250090710863, 15.612766266524044, 15.170093685952573, 15.014013786204064, 14.569819626577175, 18.95985935227346, 14.29088237257301, 14.349376045489137, 14.373810742720014, 31.14765406773921, 45.774127267587026, 38.42473003452045, 18.851149359799976, 43.878114331203115, 92.397002818058, 30.709002618402938, 78.64329245830476, 66.09961928497853, 212.41779106426833, 36.212135899028354, 35.31787353585247, 342.19925903936144, 29.216422043650482, 37.82707974839287, 165.99274180383682, 327.7675772520848, 53.05592370375518, 50.459522618785584, 113.28311982423696, 85.1653566924331, 54.876666571570794, 47.27781628759279, 43.38422366933469, 41.262167142890796, 35.905654362850484, 36.53626623657752, 33.21994485800922, 26.591847771876377, 24.994141311194742, 24.071179872204475, 24.692551504598764, 22.143227539412987, 20.203441723978226, 19.740174310188138, 19.099243103707607, 19.15184283581185, 18.829502980747034, 17.941939089816966, 17.854811449368324, 17.671232197583375, 17.45967990394557, 17.011567356739715, 17.011567352465473, 16.869060061145746, 16.768472866459806, 16.33283004979566, 16.43096078424584, 16.525083613687954, 26.90410362110152, 61.51516226063614, 60.238633262657274, 36.50957943574844, 32.73036327001887, 327.7675772520848, 61.12399050080345, 53.05592370375518, 33.837858394782145, 50.84122482647485, 33.8289097746984, 35.27910199213052, 48.22148506363383, 212.41779106426833, 342.19925903936144, 92.397002818058, 80.19880447930156, 64.40608764115348, 39.06968259809178, 37.44919063548412, 27.92168087323628, 27.901683800528044, 27.30688443677598, 26.268226882462994, 25.27245287315243, 24.94523137692185, 24.50778655690768, 24.65031060905996, 24.089147370903216, 23.595203758047823, 23.040779550823032, 22.72267669357382, 23.08894834571148, 22.638359276467025, 22.638359277644863, 23.02280343307664, 22.931136639393277, 22.26816968735076, 21.408527073951223, 21.233483665106384, 20.840171620160483, 20.39071777120821, 20.262590456806237, 19.906105360893925, 19.906105367803963, 19.906105364894938, 102.33915576718837, 51.395628314375216, 33.238095503875925, 46.32564360237091, 60.13029289507085, 235.05494159514734, 342.19925903936144, 30.850482869926058, 84.74328080485662, 99.72837861281009, 94.01322886550022, 46.21010162999078, 129.22382801304747, 327.7675772520848, 38.70633616457916, 56.628669738542754], \"Category\": [\"Default\", \"Default\", \"Default\", \"Default\", \"Default\", \"Default\", \"Default\", \"Default\", \"Default\", \"Default\", \"Default\", \"Default\", \"Default\", \"Default\", \"Default\", \"Default\", \"Default\", \"Default\", \"Default\", \"Default\", \"Default\", \"Default\", \"Default\", \"Default\", \"Default\", \"Default\", \"Default\", \"Default\", \"Default\", \"Default\", \"Topic1\", \"Topic1\", \"Topic1\", \"Topic1\", \"Topic1\", \"Topic1\", \"Topic1\", \"Topic1\", \"Topic1\", \"Topic1\", \"Topic1\", \"Topic1\", \"Topic1\", \"Topic1\", \"Topic1\", \"Topic1\", \"Topic1\", \"Topic1\", \"Topic1\", \"Topic1\", \"Topic1\", \"Topic1\", \"Topic1\", \"Topic1\", \"Topic1\", \"Topic1\", \"Topic1\", \"Topic1\", \"Topic1\", \"Topic1\", \"Topic1\", \"Topic1\", \"Topic1\", \"Topic1\", \"Topic1\", \"Topic1\", \"Topic1\", \"Topic1\", \"Topic1\", \"Topic1\", \"Topic1\", \"Topic1\", \"Topic1\", \"Topic1\", \"Topic1\", \"Topic1\", \"Topic1\", \"Topic1\", \"Topic1\", \"Topic1\", \"Topic1\", \"Topic1\", \"Topic1\", \"Topic1\", \"Topic1\", \"Topic2\", \"Topic2\", \"Topic2\", \"Topic2\", \"Topic2\", \"Topic2\", \"Topic2\", \"Topic2\", \"Topic2\", \"Topic2\", \"Topic2\", \"Topic2\", \"Topic2\", \"Topic2\", \"Topic2\", \"Topic2\", \"Topic2\", \"Topic2\", \"Topic2\", \"Topic2\", \"Topic2\", \"Topic2\", \"Topic2\", \"Topic2\", \"Topic2\", \"Topic2\", \"Topic2\", \"Topic2\", \"Topic2\", \"Topic2\", \"Topic2\", \"Topic2\", \"Topic2\", \"Topic2\", \"Topic2\", \"Topic2\", \"Topic2\", \"Topic2\", \"Topic2\", \"Topic2\", \"Topic2\", \"Topic2\", \"Topic2\", \"Topic2\", \"Topic2\", \"Topic2\", \"Topic2\", \"Topic2\", \"Topic2\", \"Topic2\", \"Topic3\", \"Topic3\", \"Topic3\", \"Topic3\", \"Topic3\", \"Topic3\", \"Topic3\", \"Topic3\", \"Topic3\", \"Topic3\", \"Topic3\", \"Topic3\", \"Topic3\", \"Topic3\", \"Topic3\", \"Topic3\", \"Topic3\", \"Topic3\", \"Topic3\", \"Topic3\", \"Topic3\", \"Topic3\", \"Topic3\", \"Topic3\", \"Topic3\", \"Topic3\", \"Topic3\", \"Topic3\", \"Topic3\", \"Topic3\", \"Topic3\", \"Topic3\", \"Topic3\", \"Topic3\", \"Topic3\", \"Topic3\", \"Topic3\", \"Topic3\", \"Topic3\", \"Topic3\", \"Topic3\", \"Topic3\", \"Topic3\", \"Topic3\", \"Topic3\", \"Topic3\", \"Topic3\", \"Topic3\", \"Topic3\", \"Topic3\", \"Topic4\", \"Topic4\", \"Topic4\", \"Topic4\", \"Topic4\", \"Topic4\", \"Topic4\", \"Topic4\", \"Topic4\", \"Topic4\", \"Topic4\", \"Topic4\", \"Topic4\", \"Topic4\", \"Topic4\", \"Topic4\", \"Topic4\", \"Topic4\", \"Topic4\", \"Topic4\", \"Topic4\", \"Topic4\", \"Topic4\", \"Topic4\", \"Topic4\", \"Topic4\", \"Topic4\", \"Topic4\", \"Topic4\", \"Topic4\", \"Topic4\", \"Topic4\", \"Topic4\", \"Topic4\", \"Topic4\", \"Topic4\", \"Topic4\", \"Topic4\", \"Topic4\", \"Topic4\", \"Topic4\", \"Topic4\", \"Topic4\", \"Topic4\", \"Topic4\", \"Topic4\", \"Topic5\", \"Topic5\", \"Topic5\", \"Topic5\", \"Topic5\", \"Topic5\", \"Topic5\", \"Topic5\", \"Topic5\", \"Topic5\", \"Topic5\", \"Topic5\", \"Topic5\", \"Topic5\", \"Topic5\", \"Topic5\", \"Topic5\", \"Topic5\", \"Topic5\", \"Topic5\", \"Topic5\", \"Topic5\", \"Topic5\", \"Topic5\", \"Topic5\", \"Topic5\", \"Topic5\", \"Topic5\", \"Topic5\", \"Topic5\", \"Topic5\", \"Topic5\", \"Topic5\", \"Topic5\", \"Topic5\", \"Topic5\", \"Topic5\", \"Topic5\", \"Topic5\", \"Topic5\", \"Topic5\", \"Topic5\", \"Topic5\", \"Topic5\", \"Topic5\", \"Topic5\"], \"logprob\": [30.0, 29.0, 28.0, 27.0, 26.0, 25.0, 24.0, 23.0, 22.0, 21.0, 20.0, 19.0, 18.0, 17.0, 16.0, 15.0, 14.0, 13.0, 12.0, 11.0, 10.0, 9.0, 8.0, 7.0, 6.0, 5.0, 4.0, 3.0, 2.0, 1.0, -4.2991, -4.3967, -4.9798, -5.3394, -5.3653, -5.3843, -5.3829, -5.5021, -5.5533, -5.566, -5.5981, -5.6154, -5.6888, -5.6967, -5.7186, -5.7418, -5.7331, -5.1517, -5.8311, -5.7702, -5.8184, -5.8393, -5.8916, -5.9266, -5.921, -5.9776, -6.0377, -6.0538, -6.0361, -6.0669, -5.7335, -4.9423, -5.8069, -3.8448, -5.4556, -5.271, -4.5455, -4.4479, -5.1119, -5.3684, -5.1314, -5.5841, -5.3215, -5.282, -4.999, -5.1498, -4.2804, -5.2729, -5.223, -5.3513, -5.3106, -5.0602, -4.9809, -5.4547, -5.3099, -3.9665, -3.9717, -4.6988, -4.8796, -5.1933, -5.1919, -5.2041, -5.2301, -5.2819, -5.4196, -5.4918, -5.4534, -5.6191, -5.6627, -5.6408, -5.6879, -5.7234, -5.7209, -5.7541, -5.7527, -5.8369, -5.8187, -5.8619, -5.8433, -5.8517, -5.8509, -5.8542, -5.8551, -5.8691, -5.9049, -4.5047, -4.4974, -4.9785, -5.4755, -5.2309, -4.6898, -5.3473, -4.7044, -4.4234, -4.8736, -4.73, -4.178, -4.0882, -4.3962, -5.2068, -4.6355, -5.0338, -4.9997, -4.6866, -5.2368, -4.6818, -4.7154, -4.737, -4.7771, -4.8032, -4.8875, -5.0158, -5.0954, -5.1393, -5.3119, -5.3882, -5.4412, -5.4651, -5.4671, -5.4866, -5.4956, -5.6239, -5.6306, -5.6452, -5.6547, -5.6823, -5.6839, -5.7133, -5.7224, -5.7539, -5.7643, -5.7959, -5.5326, -5.8158, -5.8123, -5.8106, -5.1361, -4.8794, -5.1745, -5.6407, -5.2324, -4.8942, -5.4154, -5.0506, -5.1367, -4.7324, -5.395, -5.4052, -4.7497, -5.4721, -5.4052, -5.061, -4.9771, -5.3384, -5.4499, -3.6325, -3.9199, -4.3648, -4.5159, -4.6034, -4.6546, -4.7961, -4.7787, -4.8759, -5.1042, -5.1678, -5.2067, -5.1813, -5.2937, -5.3884, -5.4132, -5.447, -5.4444, -5.4625, -5.5116, -5.5166, -5.5272, -5.5405, -5.5669, -5.5669, -5.5764, -5.5825, -5.6096, -5.6037, -5.5984, -5.1145, -4.4443, -4.4726, -5.0771, -5.1734, -3.8312, -4.9488, -5.0328, -5.237, -5.0782, -5.2743, -5.2671, -5.3033, -5.1263, -5.1305, -5.3018, -3.9696, -4.1912, -4.699, -4.7426, -5.0427, -5.0439, -5.0658, -5.1054, -5.1454, -5.159, -5.1768, -5.171, -5.1945, -5.2165, -5.2404, -5.2548, -5.2389, -5.2586, -5.2586, -5.2419, -5.2459, -5.2757, -5.3165, -5.325, -5.3451, -5.367, -5.3735, -5.392, -5.392, -5.392, -3.8745, -4.609, -5.0068, -4.8146, -4.6486, -3.8424, -3.7414, -5.1697, -4.8634, -4.9761, -4.9879, -5.1254, -5.0236, -5.0234, -5.2203, -5.2108], \"loglift\": [30.0, 29.0, 28.0, 27.0, 26.0, 25.0, 24.0, 23.0, 22.0, 21.0, 20.0, 19.0, 18.0, 17.0, 16.0, 15.0, 14.0, 13.0, 12.0, 11.0, 10.0, 9.0, 8.0, 7.0, 6.0, 5.0, 4.0, 3.0, 2.0, 1.0, 1.276, 1.2753, 1.2691, 1.2631, 1.2626, 1.2622, 1.2615, 1.2589, 1.2577, 1.2572, 1.2569, 1.2562, 1.2542, 1.2539, 1.2534, 1.2533, 1.253, 1.2521, 1.2504, 1.2504, 1.2501, 1.2498, 1.2483, 1.2472, 1.2468, 1.245, 1.2431, 1.2423, 1.2423, 1.2413, 1.2325, 1.1983, 1.2327, 1.1495, 1.2117, 1.1571, 1.0407, 0.9926, 1.06, 1.1147, 1.0336, 1.1741, 1.0738, 1.0404, 0.8513, 0.8824, 0.1755, 0.69, 0.5686, 0.76, 0.6815, 0.0761, -0.568, 0.914, -0.4202, 1.3324, 1.3324, 1.3266, 1.3244, 1.3192, 1.3192, 1.3186, 1.3185, 1.3177, 1.3148, 1.3129, 1.3128, 1.3097, 1.3084, 1.3081, 1.3072, 1.3066, 1.306, 1.3057, 1.3053, 1.303, 1.3022, 1.3021, 1.3021, 1.3019, 1.3018, 1.301, 1.3008, 1.3005, 1.2993, 1.2656, 1.2643, 1.2726, 1.2819, 1.2519, 1.1859, 1.2411, 1.0851, 0.9632, 1.0459, 0.9158, 0.6104, 0.3247, 0.4934, 0.9515, 0.5008, 0.7748, 0.7051, -0.2307, 0.6465, 1.8097, 1.8091, 1.8087, 1.8077, 1.8063, 1.8053, 1.8024, 1.8003, 1.7992, 1.7936, 1.7915, 1.7893, 1.7886, 1.7883, 1.7878, 1.7872, 1.7825, 1.7817, 1.7811, 1.7801, 1.7797, 1.779, 1.7779, 1.7777, 1.775, 1.7749, 1.7734, 1.7733, 1.7728, 1.7722, 1.7722, 1.6734, 1.5451, 1.425, 1.671, 1.2344, 0.8279, 1.4083, 0.8327, 0.9204, 0.1573, 1.2638, 1.2787, -0.3368, 1.4014, 1.21, 0.0752, -0.5212, 0.9384, 0.8772, 1.8859, 1.8837, 1.8784, 1.8763, 1.8748, 1.8737, 1.8712, 1.8712, 1.8692, 1.8634, 1.8618, 1.8605, 1.8605, 1.857, 1.854, 1.8524, 1.8516, 1.8515, 1.8503, 1.8495, 1.8494, 1.8491, 1.8479, 1.8474, 1.8474, 1.8463, 1.8462, 1.8455, 1.8454, 1.8449, 1.8415, 1.6846, 1.6773, 1.5735, 1.5865, 0.6247, 1.1865, 1.2441, 1.4897, 1.2413, 1.4527, 1.4178, 1.0691, -0.2366, -0.7176, 0.4203, 1.8941, 1.8918, 1.8839, 1.8827, 1.8761, 1.8757, 1.8753, 1.8745, 1.8731, 1.8725, 1.8725, 1.8724, 1.872, 1.8707, 1.8705, 1.8701, 1.87, 1.87, 1.87, 1.8699, 1.8698, 1.8694, 1.868, 1.8676, 1.8663, 1.8662, 1.8659, 1.8653, 1.8653, 1.8653, 1.7455, 1.6997, 1.7377, 1.5979, 1.5031, 0.946, 0.6714, 1.6494, 0.9452, 0.6697, 0.7169, 1.2896, 0.363, -0.5675, 1.3719, 1.001]}, \"token.table\": {\"Topic\": [1, 2, 3, 1, 2, 2, 4, 4, 3, 5, 5, 2, 5, 2, 3, 4, 1, 2, 2, 3, 4, 3, 1, 2, 1, 2, 3, 4, 4, 4, 2, 3, 5, 4, 1, 2, 3, 1, 5, 2, 3, 3, 2, 4, 1, 2, 4, 2, 3, 3, 2, 2, 2, 4, 1, 2, 5, 3, 3, 4, 5, 3, 2, 3, 5, 2, 4, 2, 5, 5, 4, 1, 1, 1, 2, 4, 4, 1, 3, 1, 3, 1, 4, 4, 3, 3, 3, 1, 3, 2, 5, 5, 2, 2, 1, 5, 1, 2, 3, 4, 2, 3, 5, 1, 2, 2, 2, 1, 2, 3, 5, 1, 2, 1, 2, 4, 4, 4, 3, 3, 5, 2, 1, 4, 4, 1, 3, 4, 1, 1, 3, 4, 3, 4, 1, 2, 3, 5, 1, 3, 5, 3, 4, 4, 3, 1, 1, 3, 5, 5, 2, 2, 4, 4, 2, 2, 5, 1, 3, 5, 1, 4, 5, 2, 4, 5, 2, 1, 2, 2, 1, 2, 1, 1, 2, 5, 2, 4, 1, 1, 2, 3, 4, 5, 5, 5, 4, 1, 2, 1, 4, 2, 4, 3, 2, 3, 5, 3, 1, 2, 4, 3, 5, 5, 1, 3, 5, 5, 3, 1, 2, 3, 4, 5, 2, 5, 2, 3, 5, 2, 4, 5, 5, 1, 2, 3, 4, 5, 4, 5, 3, 4, 5, 1, 2, 5, 2, 5, 1, 1, 1, 1, 5, 1, 2, 3, 4, 5, 5, 5, 3, 4, 1, 2, 3, 4, 5, 5, 5, 1, 2, 3, 4, 5, 3, 5, 5, 4, 1, 2, 4, 3, 1, 2, 3, 4, 5, 3, 2, 2, 4, 5, 2, 2, 5, 2, 3, 4, 5, 2, 1, 2, 4, 1, 2, 1, 3, 2, 2, 1, 4, 1, 3, 1, 2, 3, 4, 2, 5, 5, 5, 1, 1, 2, 1, 2, 1, 2, 2, 1, 4, 3, 2, 4, 2, 3, 4, 2, 4, 2, 4, 1, 2, 3, 3, 5, 5, 1, 3, 5, 3, 4, 5, 5, 2, 4, 4, 3, 1, 1, 1, 1, 2, 3, 4, 1, 3, 2, 3, 2, 4], \"Freq\": [0.9663146094280429, 0.9878924652501386, 0.9331147402106633, 0.9515323732668624, 0.9923566581466152, 0.9975027501644359, 0.9941237495847349, 0.9911437007087378, 0.9608904131154957, 0.9669904946833004, 0.9718018753119076, 0.17511216994856205, 0.8171901264266228, 0.4959100615055898, 0.36875363547851553, 0.1271564260270743, 0.06756087508243476, 0.9233319594599417, 0.9828468069822444, 0.9863921276303207, 0.9559466343006934, 0.9247367051786366, 0.938550893400511, 0.03754203573602044, 0.5909660356933274, 0.25555288029981726, 0.14374849516864718, 0.9602250263845044, 0.947500708529795, 0.9398573366705981, 0.09025787893443435, 0.0601719192896229, 0.8424068700547206, 0.9424457242761511, 0.8845414817150611, 0.09150429121190287, 0.9715926213517696, 0.9786940455207644, 0.9676835345503063, 0.9905071401858336, 0.9257018752135218, 0.9496604352713095, 0.03716905101479302, 0.9663953263846186, 0.5528708572644323, 0.3827567473369147, 0.07088087913646568, 0.9263156373206334, 0.06947367279904751, 0.975652178576854, 0.9890694686739324, 0.9611172657696543, 0.9367343423953415, 0.055102020140902444, 0.7889625648549462, 0.15779251297098923, 0.05917219236412096, 0.9511480239777345, 0.9744475654649349, 0.9554994861950498, 0.9747743751589849, 0.9324621782926688, 0.30376556717537206, 0.5799160827893467, 0.11046020624558985, 0.9663453775121604, 0.9737714190968644, 0.31598049976499476, 0.6652221047684099, 0.9892193735796075, 0.9736719168693527, 0.9905927255605428, 0.9819136368457879, 0.4580852750383166, 0.03272037678845119, 0.4908056518267678, 0.9694110312112325, 0.9705984497563522, 0.95275658548298, 0.3422732593696657, 0.6503191928023648, 0.9744365545830551, 0.9632767344068877, 0.9405364987524828, 0.9763271539661712, 0.9607522295496154, 0.9739936228874211, 0.10609432676105121, 0.8487546140884097, 0.6864061133268615, 0.31809063788317976, 0.9809175534337298, 0.9605912625647259, 0.9643039356952765, 0.9897665738517392, 0.9792806030961391, 0.48723432935125294, 0.2668187994066385, 0.09280653892404818, 0.15081062575157828, 0.5318400463782854, 0.1595520139134856, 0.30846722689940553, 0.13881450148649102, 0.8581260091892172, 0.9766808028226235, 0.9766379572922405, 0.7512841398183597, 0.0653290556363791, 0.09799358345456866, 0.08166131954547388, 0.9764667641338215, 0.9526262302047924, 0.6818278737033795, 0.1446301550279896, 0.1446301550279896, 0.9405364989887973, 0.9796220221002162, 0.9811334595647292, 0.9899758611719663, 0.9736185632962797, 0.9664656907346092, 0.9565113990025328, 0.9975007765969349, 0.986316540695747, 0.9646101447735081, 0.5469697220541868, 0.43301769662623124, 0.9692647648060432, 0.9772381738266067, 0.9522297499586845, 0.977743262636216, 0.8668389581212445, 0.1284205863883325, 0.0922898297649926, 0.7515028995149398, 0.05273704557999578, 0.10547409115999155, 0.9612878067042874, 0.7646240810970905, 0.240310425487657, 0.9713129160668882, 0.9484820103790229, 0.9620155408475042, 0.9228683942119571, 0.9918470728356956, 0.9704776175790357, 0.13680003411254085, 0.850114497699361, 0.9596849951394972, 0.982754204164968, 0.9595241636328247, 0.9747768317018193, 0.9521243082408151, 0.9811848075513149, 0.9893557776303749, 0.9593942221863664, 0.7752477030475321, 0.16853210935815915, 0.03370642187163183, 0.02158631639493986, 0.23744948034433846, 0.7339347574279552, 0.3147052427357774, 0.5310650971166244, 0.1573526213678887, 0.9576108973750175, 0.7840998848434061, 0.2078337044163245, 0.9502789280480451, 0.9699355346087203, 0.04041398060869668, 0.976610655754141, 0.045426061918091384, 0.9312342693208734, 0.022713030959045692, 0.9812901618266331, 0.984024784551601, 0.9539650779427571, 0.3012179897545634, 0.4337539052465712, 0.17470643405764674, 0.042170518565638866, 0.04819487836073014, 0.9726211597597154, 0.9879572640627446, 0.9404338260569765, 0.9210850903305919, 0.06579179216647085, 0.8770435536895183, 0.10963044421118978, 0.7756576155143508, 0.21996260738466664, 0.971052281742989, 0.2605099260112685, 0.6512748150281713, 0.06512748150281712, 0.9600002574282328, 0.7975549446920929, 0.1866617955662345, 0.016969254142384954, 0.9792210925183841, 0.9850520904010364, 0.9936948872998459, 0.3875334502397765, 0.02583556334931843, 0.5942179570343239, 0.9419085589269836, 0.9493741311874043, 0.008508649026595446, 0.48499299451594047, 0.0723235167260613, 0.05105189415957268, 0.3828892061967951, 0.9484822592272414, 0.9548288047925073, 0.47679029234944553, 0.1059533982998768, 0.40615469348286104, 0.5664165883609398, 0.04720138236341164, 0.38941140449814604, 0.9544810322731692, 0.32950177960078586, 0.20746408345234668, 0.0945792145150404, 0.2806867011414102, 0.08542638730390745, 0.9853223579797367, 0.9870406275364445, 0.972591638727769, 0.7395319370226129, 0.2465106456742043, 0.05013618058920043, 0.6517703476596055, 0.29078984741736247, 0.19448642101641053, 0.7779456840656421, 0.9903915003456026, 0.9882151391721423, 0.9749417793439817, 0.9576721538767556, 0.9528368148515635, 0.3030401327533938, 0.01082286188404978, 0.3679773040576925, 0.22728009956504538, 0.08658289507239823, 0.9547868027816221, 0.971801875362469, 0.979645597452312, 0.9682250555602018, 0.1578027963929304, 0.3623619769022846, 0.11396868628378307, 0.07305685018191223, 0.2922274007276489, 0.988005331280551, 0.9808384493575845, 0.18360044045557514, 0.42840102772967537, 0.18830814405700017, 0.1176925900356251, 0.08003096122422507, 0.6766475646450039, 0.3122988759900018, 0.9555743315079003, 0.948371232812464, 0.8338892630852357, 0.09265436256502618, 0.04632718128251309, 0.9861627920222499, 0.5507781953362817, 0.0963861841838493, 0.11015563906725634, 0.08261672930044225, 0.1652334586008845, 0.9518864590038948, 0.9880867799784201, 0.4354905281802929, 0.4354905281802929, 0.10368822099530783, 0.9838216491292926, 0.45444608990798685, 0.5410072498904606, 0.6887274689851616, 0.09286213064968471, 0.007738510887473725, 0.2166783048492643, 0.9780744217964444, 0.06640256897195662, 0.11620449570092409, 0.8134314699064686, 0.030475811364952532, 0.9447501523135284, 0.9190279858386243, 0.05569866580840148, 0.9433881025798062, 0.9510607551297202, 0.9567899123107587, 0.9719530197407998, 0.8062413565247787, 0.1697350224262692, 0.6520092689894932, 0.02460412335809408, 0.09841649343237632, 0.22143711022284673, 0.9820311427358834, 0.9621077326307611, 0.9544810324126545, 0.9544810326044997, 0.9400944583536424, 0.8729463651757305, 0.12022614610204672, 0.9629380600720507, 0.021398623557156684, 0.9828160295504599, 0.9533382447751587, 0.95291287238329, 0.9819842962480845, 0.9625041654365674, 0.9799466943101269, 0.17881770275421927, 0.8128077397919058, 0.02955269770128838, 0.2955269770128838, 0.6797120471296327, 0.36849010507409813, 0.6235986393561661, 0.3251656666815556, 0.6503313333631112, 0.664071947921959, 0.2213573159739863, 0.08854292638959453, 0.9782830486653333, 0.9897889231860539, 0.9681957938618121, 0.21799651342529364, 0.39635729713689755, 0.37653943228005265, 0.4146568085938892, 0.5277450291194954, 0.05654411026280307, 0.9887616458960554, 0.9007939365108694, 0.0772109088437888, 0.9541715651401446, 0.9386145092902187, 0.9516239008392648, 0.9799182604231619, 0.9647367661464096, 0.36308832425384513, 0.15128680177243548, 0.4084743647855758, 0.07564340088621774, 0.3963998564576116, 0.5662855092251595, 0.44941349195009606, 0.5287217552354071, 0.2444213629406316, 0.7332640888218948], \"Term\": [\"accountable\", \"act\", \"affair\", \"agent\", \"alexei\", \"alexei navalny\", \"alexey\", \"alexey navalny\", \"amazing\", \"anger\", \"anger roll\", \"anti\", \"anti\", \"arrest\", \"arrest\", \"arrest\", \"arrested\", \"arrested\", \"arrested protest\", \"assange\", \"authority\", \"bbcworld\", \"believe\", \"believe\", \"biden\", \"biden\", \"biden\", \"billbrowder\", \"billion\", \"black\", \"calling\", \"calling\", \"calling\", \"came\", \"care\", \"care\", \"case\", \"change\", \"cia\", \"city\", \"claim\", \"comment\", \"compare\", \"compare\", \"country\", \"country\", \"country\", \"critic\", \"critic\", \"dead\", \"demanding\", \"demanding navalny\", \"detained\", \"detained\", \"election\", \"election\", \"election\", \"embassy\", \"eu\", \"expose\", \"fair\", \"family\", \"far\", \"far\", \"far\", \"fighting\", \"film\", \"free\", \"free\", \"free navalny\", \"fucking\", \"georebekah\", \"georebekah repadamschiff\", \"good\", \"good\", \"good\", \"guy\", \"happened\", \"hate\", \"hero\", \"hero\", \"hold\", \"home\", \"home makeover\", \"human\", \"human right\", \"illegal\", \"interference\", \"interference\", \"jailed\", \"jailed\", \"jailed navalny\", \"jailed opposition\", \"jailing\", \"johncornyn\", \"kenvogel\", \"know\", \"know\", \"know\", \"know\", \"kremlin\", \"kremlin\", \"kremlin\", \"leader\", \"leader\", \"leader alexei\", \"life\", \"like\", \"like\", \"like\", \"like\", \"like navalny\", \"lot\", \"make\", \"make\", \"make\", \"makeover\", \"makeover expose\", \"marisepayne\", \"marisepayne navalny\", \"markmackinnon\", \"matter\", \"maybe\", \"mcfaul\", \"mcfaul navalny\", \"mean\", \"medium\", \"medium\", \"meghanmccain\", \"meghanmccain navalny\", \"mfa_russia\", \"million\", \"money\", \"money\", \"moscow\", \"moscow\", \"moscow\", \"moscow\", \"mr\", \"nationalist\", \"nationalist\", \"navalny arrest\", \"navalny good\", \"navalny home\", \"navalny people\", \"navalny poisoned\", \"navalny poisoning\", \"navalny protest\", \"navalny protest\", \"navalny protester\", \"navalny release\", \"navalny russian\", \"navalny supporter\", \"navalny video\", \"navalny wife\", \"navalnyprotests\", \"nazi\", \"need\", \"need\", \"need\", \"new\", \"new\", \"new\", \"news\", \"news\", \"news\", \"newt\", \"newtgingrich\", \"newtgingrich\", \"newtgingrich navalny\", \"newtgingrich trump\", \"newtgingrich trump\", \"oh\", \"opposition\", \"opposition\", \"opposition\", \"opposition leader\", \"palace\", \"party\", \"people\", \"people\", \"people\", \"people\", \"people\", \"photo\", \"photo wave\", \"poison\", \"poisoned\", \"poisoned\", \"poisoning\", \"poisoning\", \"police\", \"police\", \"policy\", \"politics\", \"politics\", \"politics\", \"potus\", \"president\", \"president\", \"president\", \"pretty\", \"pro\", \"pro navalny\", \"problem\", \"problem\", \"problem\", \"problem putin\", \"propaganda\", \"protest\", \"protest\", \"protest\", \"protest\", \"protest\", \"protest demanding\", \"protest photo\", \"protest russia\", \"protest russia\", \"protest russia\", \"protester\", \"protester\", \"protester\", \"protester throng\", \"putin\", \"putin\", \"putin\", \"putin\", \"putin\", \"putin palace\", \"putin protester\", \"racist\", \"read\", \"read\", \"release\", \"release\", \"release\", \"release navalny\", \"release navalny\", \"repadamschiff\", \"repadamschiff navalny\", \"republican\", \"return\", \"revolution\", \"right\", \"right\", \"right\", \"right\", \"right\", \"roll\", \"roll russia\", \"rt_com\", \"rule\", \"russia\", \"russia\", \"russia\", \"russia\", \"russia\", \"russia navalny\", \"russia street\", \"russian\", \"russian\", \"russian\", \"russian\", \"russian\", \"russian people\", \"russian people\", \"russian_starr\", \"russianprotests\", \"said\", \"said\", \"said\", \"sanction\", \"say\", \"say\", \"say\", \"say\", \"say\", \"soviet\", \"stand\", \"state\", \"state\", \"state\", \"stop\", \"street\", \"street\", \"support\", \"support\", \"support\", \"support\", \"support navalny\", \"supporter\", \"supporter\", \"supporter\", \"supporting\", \"supporting\", \"sure\", \"sure\", \"sweep\", \"sweep russia\", \"tell\", \"thank\", \"thing\", \"thing\", \"think\", \"think\", \"think\", \"think\", \"thousand\", \"thread\", \"throng\", \"throng russia\", \"tomtugendhat\", \"trump\", \"trump\", \"trump navalny\", \"trump navalny\", \"trump putin\", \"truth\", \"turn\", \"tweet\", \"uk\", \"usa\", \"video\", \"video\", \"view\", \"view\", \"view\", \"vladimir\", \"vladimir\", \"vladimir putin\", \"vladimir putin\", \"want\", \"want\", \"want\", \"war\", \"wave\", \"wave anger\", \"west\", \"west\", \"west\", \"western\", \"western\", \"western\", \"white\", \"wife\", \"wife\", \"wing\", \"wish\", \"word\", \"work\", \"yeah\", \"year\", \"year\", \"year\", \"year\", \"yes\", \"yes\", \"yesterday\", \"yesterday\", \"youtube\", \"youtube\"]}, \"R\": 30, \"lambda.step\": 0.01, \"plot.opts\": {\"xlab\": \"PC1\", \"ylab\": \"PC2\"}, \"topic.order\": [4, 1, 2, 3, 5]};\n",
       "\n",
       "function LDAvis_load_lib(url, callback){\n",
       "  var s = document.createElement('script');\n",
       "  s.src = url;\n",
       "  s.async = true;\n",
       "  s.onreadystatechange = s.onload = callback;\n",
       "  s.onerror = function(){console.warn(\"failed to load library \" + url);};\n",
       "  document.getElementsByTagName(\"head\")[0].appendChild(s);\n",
       "}\n",
       "\n",
       "if(typeof(LDAvis) !== \"undefined\"){\n",
       "   // already loaded: just create the visualization\n",
       "   !function(LDAvis){\n",
       "       new LDAvis(\"#\" + \"ldavis_el814591404389666071842273301127\", ldavis_el814591404389666071842273301127_data);\n",
       "   }(LDAvis);\n",
       "}else if(typeof define === \"function\" && define.amd){\n",
       "   // require.js is available: use it to load d3/LDAvis\n",
       "   require.config({paths: {d3: \"https://cdnjs.cloudflare.com/ajax/libs/d3/3.5.5/d3.min\"}});\n",
       "   require([\"d3\"], function(d3){\n",
       "      window.d3 = d3;\n",
       "      LDAvis_load_lib(\"https://cdn.rawgit.com/bmabey/pyLDAvis/files/ldavis.v1.0.0.js\", function(){\n",
       "        new LDAvis(\"#\" + \"ldavis_el814591404389666071842273301127\", ldavis_el814591404389666071842273301127_data);\n",
       "      });\n",
       "    });\n",
       "}else{\n",
       "    // require.js not available: dynamically load d3 & LDAvis\n",
       "    LDAvis_load_lib(\"https://cdnjs.cloudflare.com/ajax/libs/d3/3.5.5/d3.min.js\", function(){\n",
       "         LDAvis_load_lib(\"https://cdn.rawgit.com/bmabey/pyLDAvis/files/ldavis.v1.0.0.js\", function(){\n",
       "                 new LDAvis(\"#\" + \"ldavis_el814591404389666071842273301127\", ldavis_el814591404389666071842273301127_data);\n",
       "            })\n",
       "         });\n",
       "}\n",
       "</script>"
      ],
      "text/plain": [
       "PreparedData(topic_coordinates=                x           y  topics  cluster       Freq\n",
       "topic                                                    \n",
       "3      150.222153 -72.269554   1       1        27.713315\n",
       "0      51.163364  -159.968018  2       1        26.234610\n",
       "1     -73.144554   21.523815   3       1        16.081219\n",
       "2     -66.410133  -110.606438  4       1        15.067317\n",
       "4      54.417324   12.443444   5       1        14.903539, topic_info=                Term        Freq       Total Category  logprob  loglift\n",
       "960   mcfaul          113.000000  113.000000  Default  30.0000  30.0000\n",
       "48    alexei          141.000000  141.000000  Default  29.0000  29.0000\n",
       "49    alexei navalny  140.000000  140.000000  Default  28.0000  28.0000\n",
       "1835  trump           191.000000  191.000000  Default  27.0000  27.0000\n",
       "961   mcfaul navalny  85.000000   85.000000   Default  26.0000  26.0000\n",
       "...              ...        ...         ...       ...      ...      ...\n",
       "1722  street          25.009025   46.210102   Topic5  -5.1254   1.2896 \n",
       "1737  support         27.688610   129.223828  Topic5  -5.0236   0.3630 \n",
       "1400  putin           27.695842   327.767577  Topic5  -5.0234  -0.5675 \n",
       "1347  problem         22.744666   38.706336   Topic5  -5.2203   1.3719 \n",
       "1375  protest russia  22.963372   56.628670   Topic5  -5.2108   1.0010 \n",
       "\n",
       "[277 rows x 6 columns], token_table=      Topic      Freq         Term\n",
       "term                              \n",
       "12    1      0.966315  accountable\n",
       "16    2      0.987892  act        \n",
       "28    3      0.933115  affair     \n",
       "36    1      0.951532  agent      \n",
       "48    2      0.992357  alexei     \n",
       "...  ..           ...    ...      \n",
       "1987  3      0.566286  yes        \n",
       "1988  2      0.449413  yesterday  \n",
       "1988  3      0.528722  yesterday  \n",
       "1994  2      0.244421  youtube    \n",
       "1994  4      0.733264  youtube    \n",
       "\n",
       "[361 rows x 3 columns], R=30, lambda_step=0.01, plot_opts={'xlab': 'PC1', 'ylab': 'PC2'}, topic_order=[4, 1, 2, 3, 5])"
      ]
     },
     "execution_count": 29,
     "metadata": {},
     "output_type": "execute_result"
    }
   ],
   "source": [
    "# visualization of LDA model \n",
    "import pyLDAvis.sklearn\n",
    "\n",
    "pyLDAvis.enable_notebook()\n",
    "panel = pyLDAvis.sklearn.prepare(lda_model, doc_term_matrix_1, tfidfconverter, mds='tsne')\n",
    "panel"
   ]
  },
  {
   "cell_type": "code",
   "execution_count": 25,
   "metadata": {},
   "outputs": [
    {
     "data": {
      "text/plain": [
       "GridSearchCV(estimator=LatentDirichletAllocation(),\n",
       "             param_grid={'learning_decay': [0.5, 0.7, 0.9],\n",
       "                         'n_components': [5, 8, 10, 12]})"
      ]
     },
     "execution_count": 25,
     "metadata": {},
     "output_type": "execute_result"
    }
   ],
   "source": [
    "# cross-validation to find best parameters for LDA model\n",
    "\n",
    "#import cross-validation tool\n",
    "from sklearn.model_selection import GridSearchCV\n",
    "\n",
    "# define search parameters\n",
    "search_params = {'n_components': [5, 8, 10, 12], 'learning_decay': [.5, .7, .9]}\n",
    "\n",
    "# initialize model for cross-validation\n",
    "lda = LatentDirichletAllocation()\n",
    "\n",
    "# initialize grid search class \n",
    "model = GridSearchCV(lda, param_grid=search_params)\n",
    "\n",
    "# run grid search \n",
    "model.fit(doc_term_matrix_1)"
   ]
  },
  {
   "cell_type": "code",
   "execution_count": 26,
   "metadata": {},
   "outputs": [
    {
     "name": "stdout",
     "output_type": "stream",
     "text": [
      "Parameters for best model:  {'learning_decay': 0.7, 'n_components': 5}\n",
      "Log likelihood score of best model:  -51445.88317500125\n",
      "Perplexity score of best model:  2405.3411475214234\n"
     ]
    }
   ],
   "source": [
    "# what is best model? \n",
    "best_lda_model = model.best_estimator_\n",
    "\n",
    "# print parameters for best model\n",
    "print(\"Parameters for best model: \", model.best_params_)\n",
    "\n",
    "# print log likelihood score\n",
    "print(\"Log likelihood score of best model: \", model.best_score_)\n",
    "\n",
    "# print perplexity score\n",
    "print(\"Perplexity score of best model: \", best_lda_model.perplexity(doc_term_matrix_1))"
   ]
  },
  {
   "cell_type": "code",
   "execution_count": 30,
   "metadata": {},
   "outputs": [],
   "source": [
    "# make results of LDA model a column in dataframe\n",
    "\n",
    "topic_values = lda_model.transform(doc_term_matrix_1)\n",
    "df['LDA_topic'] = topic_values.argmax(axis=1)"
   ]
  },
  {
   "cell_type": "code",
   "execution_count": 60,
   "metadata": {},
   "outputs": [
    {
     "data": {
      "text/plain": [
       "44778    An unusual scene from #Russia where people don't usually fight police at protests. A lone protestor takes on half a dozen riot cops who were unable to arrest him at the time. #navalnyprotests #Navalny https://t.co/oc0DyiATUR                                                                                        \n",
       "44961    Such #Bravery, #courage&gt;“Tens of thousands of people rallied across #Russia on Saturday in some of the largest demonstrations held against President Vladimir #Putin *in years*. #Navalny https://t.co/1EAhfII1YA                                                                                                    \n",
       "45020    @RepAdamSchiff @navalny I also stand with them. The entire world will celebrate soon their freedom!!!                                                                                                                                                                                                                   \n",
       "45046    Massive Protests Sweep Across Russia Demanding Release Of Navalny via @forbes https://t.co/u3h2XfntnW #FreeNavalny #navalnyprotests #Navalny #RussiaProtests #Russia #RussianProtests #RussianRevolution #PutinsPalace #Putin                                                                                           \n",
       "45050    To live the golden life of a monarch... Opposition leader Alexei Navalny’s astonishing inside view of brutality, bribes, insatiable greed, and the richest man in the world — along w/ blueprints for an AquaDisco inside the Putin Palace. \\n\\nhttps://t.co/tXgLIj24Mx                                                 \n",
       "45054    @pussyrrriot #Putin to his police: \"Grab them by the #pussyriot towards the cell!\"\\n#joke #humour #Navalny #feminism                                                                                                                                                                                                    \n",
       "45216    Alexei Navalny has displayed immense courage in his fight for Russian democracy and he should be released from jail immediately. The Russian people deserve so much better than Putin’s corrupt autocracy. https://t.co/QfBq8XUfbv                                                                                      \n",
       "45247    Solidarity to the protestors pelting the police with snowballs in Russian in support of jailed opposition leader Alexei Navalny:\\nhttps://t.co/kBGe2DlQ3V                                                                                                                                                               \n",
       "45262    @kstraith @newtgingrich Navalny also opposes corruption; Trump embraces it.                                                                                                                                                                                                                                             \n",
       "45324    @POETPhylDeGreat @HannaLiubakova @sissyroxx @navalny The dictators here aren’t done. That was just a test run.                                                                                                                                                                                                          \n",
       "45346    Putin Has arrest over 2000 protesters who came put to protest the arrest of Alexi Navalny who was Poinsed by supporters of Putin Regime, after treatment in Germany he quickly Arrested.\\n#ThereAreNoFreedomRussiaTVPro\\n\\n https://t.co/6yFNDP7GO2                                                                     \n",
       "45392    @tsekz76 @JaneLytv @leonardocarella Absolutely incorrect. Russian people are protesting against imprisonments of political figures, such as Navalny, demand his release, as well as show general discontent with corruption and illegally gained wealth of the president. Current protests have nothing to do with race.\n",
       "45426    More than 3300 protesters were arrested across Russia yesterday during pro-Navalny protests\\n-tens of thousands continued to protest overnight\\n-Navalny's wife was arrested &amp; later released w/o explanation\\n-US State Dept strongly condemned the use of force\\nhttps://t.co/9SQjg5vhUB                          \n",
       "45434    @newtgingrich Trump is no Alexei Navalny, old man. Delete your account.\\n\\n“He’s a Lot of Fun to Be With”: Inside Jeffrey Epstein and Donald Trump’s Epic Bromance https://t.co/y8hMlPAp5J #SundayMorning #sundayvibes                                                                                                  \n",
       "45463    @JacobThaisen @notesfrompoland @navalny In Russia poisoning someone is against the law. Being in a government position does not change that, but since Russia is a semi oligarchy with a dictator at its head he won’t face Russian law either.                                                                         \n",
       "45499    Real possibility that if Navalny is a Kremlin project, protests were intentionally provoked by the Kremlin, to arrest as many \"hamsters\" as possible, get them out of the way so that elections can proceed calmly in September. Yesterday 3000 + arrested, will sit in jail.                                           \n",
       "45642    Tens of thousands rally across Russia in support of opposition leader Navalny  https://t.co/coL7xUkFlE                                                                                                                                                                                                                  \n",
       "45698    i know practically nothing about the navalny situation but i love when a cop gets punched in the face                                                                                                                                                                                                                   \n",
       "45770    \"Putin is a thief.\" Thousands of pro-Navalny protesters detained as U.S. condemns crackdown  https://t.co/wKYyac7HmO                                                                                                                                                                                                    \n",
       "45788    The broad scope of the protests — from the Far East to Moscow — signaled widespread fatigue with the stagnant, corruption-plagued political order that President Vladimir Putin has presided over for two decades. \\nhttps://t.co/Vru2hbEJTX                                                                            \n",
       "45816    Kremlin has accused the United States of interfering in Russian domestic affairs after US officials in Washington and Moscow criticized  police actions against protesters backing Navalny.                                                                                                                             \n",
       "45909    According to the monitoring group @OvdInfo, 3,430 people were arrested during the pro-Navalny demonstration. Protests stretched across Russia’s 11 time zones amid subfreezing temperatures. \\nhttps://t.co/vl2ri3bLGf https://t.co/ywXfaHy9Ym                                                                          \n",
       "45920    @VRSoloviev what threaten to Putin for attempt of assassination of Navalny                                                                                                                                                                                                                                              \n",
       "45955    Russian security forces have arrested more than 3,000 protesters who hit the streets to demand the release of jailed opposition leader Alexey Navalny 👇 https://t.co/MEc8KP5vmT                                                                                                                                         \n",
       "46009    Who is Alexei #Navalny, Why Are There #Protests for Him in #Russia? https://t.co/1HBBde9oyx                                                                                                                                                                                                                             \n",
       "46010    YESTERDAY: People protest in Moscow in support of Russian opposition leader Alexey Navalny. https://t.co/Hhkpb8tOgI                                                                                                                                                                                                     \n",
       "46040    The Russian police arrested Covid-19 during the protests for supporting Navalny 😐 https://t.co/3oL9qUGFtf                                                                                                                                                                                                               \n",
       "46058    More than 3,300 arrested across Russia as protests swell for jailed opposition leader Navalny https://t.co/HLcztiM9hG #Russia #AlexeiNavalny                                                                                                                                                                            \n",
       "46089    “We are not a country. We are just pure corruption”: how Moscow came out in support of Alexey Navalny https://t.co/ASqhtcmVjt #Russia #AlexeiNavalny                                                                                                                                                                    \n",
       "46100    A woman stands in front of law enforcement officers during a rally in support of jailed Russian opposition leader Alexei Navalny in Moscow, Russia on January 23, 2021. (Photo by Evgenia Novozhenina/Reuters) https://t.co/ll9efhE6CC                                                                                  \n",
       "Name: text, dtype: object"
      ]
     },
     "execution_count": 60,
     "metadata": {},
     "output_type": "execute_result"
    }
   ],
   "source": [
    "df['text'][df.LDA_topic ==0][1345:1375]"
   ]
  },
  {
   "cell_type": "code",
   "execution_count": 34,
   "metadata": {},
   "outputs": [
    {
     "data": {
      "text/plain": [
       "2746    @TheGhostlyJFK @tonyblunt12 @Brandyski2121 @markmackinnon @bluedillygal @navalny Anytime someone invokes “the deep state” it just means they haven’t got a clue. Either that, or the deep Russian state put them up to it.                                                                             \n",
       "2758    @WalshFreedom @ColMorrisDavis Navalny is now internationally supported due to his fight against the Putin led government. His struggle is a tough one.\\n\\nHowever, don't forget about Navalnys nationalist and staunch anti-immigrant background.\\n\\nA thorough thread on him:\\nhttps://t.co/hVBDnYdb2y\n",
       "2775    @johncusack Mitt has never had the love for Putin, so he's probably glad Navalny is standing up to trump's former lover.                                                                                                                                                                               \n",
       "2839    @v_zilber @MarkAmesExiled Way better than what it would be under neo-nazi Navalny who called them cockroaches.                                                                                                                                                                                         \n",
       "2881    Putin unnerved: US statements about pro-Navalny protests show 'direct support for the violation of the law' | TheHill - The Hill https://t.co/CIyNmKvBax via @GoogleNews                                                                                                                               \n",
       "2906    @JohnCornyn Well, he has at least called for his unconditional release. https://t.co/e7wXlysUSo                                                                                                                                                                                                        \n",
       "2924    Russia Navalny protests: Kremlin hits out at West as it downplays rallies https://t.co/8je7PUT01h                                                                                                                                                                                                      \n",
       "3088    Navalny is an exceptional political pederast.\\n\\nAs Protests Shake Russia, Kremlin Drops Its ‘Navalny Who?’ Tack https://t.co/003AQAmNcL                                                                                                                                                               \n",
       "3194    @RealDalaiLlama @johncusack Navalny or Romney? JK they both are!                                                                                                                                                                                                                                       \n",
       "3363    @anneapplebaum #Navalny is an activist that works for the #German government...\\n\\nYou people are a #leftist gang.                                                                                                                                                                                     \n",
       "3393    Russia Navalny protests: Kremlin hits out at West as it downplays rallies https://t.co/WqwUHpGNoB                                                                                                                                                                                                      \n",
       "3448    @newtgingrich Nobody would ever mistake drama queen Trump for Navalny. \\n\\nIs this an indication of early stage syphilis brought back from Italy by your umpteenth mistress @calistagingrich ?\\n\\n#FreeNalvany \\n#ByeTrump                                                                             \n",
       "3578    @kenvogel @Lawrence @navalny may his vile greed drag him down so the people he has starved tear him to bits.                                                                                                                                                                                           \n",
       "3675    @juliaioffe @newtgingrich ‘s assertions are an insult to @navalny                                                                                                                                                                                                                                      \n",
       "3678    As Protests Shake Russia, Kremlin Drops Its ‘Navalny Who?’ Tack https://t.co/tx2XKcUAKN                                                                                                                                                                                                                \n",
       "3689    @ion_rat @Catheri93283334 @ascending_peaks @QuanDisney @navalny He was not demonized. He brought it on himself because of his own ego and frailiity of character. And he had every indication of dictatorial aspirations.                                                                              \n",
       "3761    @MittRomney Do you really admire this white supremacist, Senator? Russians stand against the oppressive regime, not “with” Navalny, who was just a catalyst. https://t.co/gAMvkl9Rl4                                                                                                                   \n",
       "3764    @perrone_ian navalny \"immigrants are cockroaches\" navalny? the \"Russia only for Russians\" guy? hmm                                                                                                                                                                                                     \n",
       "3775    @jfreegman @ProUdin2016 @markmackinnon If Russian people are so satisfied with Putin, why the protests? https://t.co/hQDL92ohZ9                                                                                                                                                                        \n",
       "3781    A massive protest calling for the release of Russian opposition activist Alexey Navalny, in St Petersburg, Russia https://t.co/C7kArfuDxH                                                                                                                                                              \n",
       "Name: text, dtype: object"
      ]
     },
     "execution_count": 34,
     "metadata": {},
     "output_type": "execute_result"
    }
   ],
   "source": [
    "df['text'][df.LDA_topic ==4][40:60]"
   ]
  },
  {
   "cell_type": "code",
   "execution_count": 35,
   "metadata": {},
   "outputs": [
    {
     "data": {
      "text/plain": [
       "3909    @MaZhavorsiAnni @SamHarrisOrg @CHSommers No, Navalny is making a very specific point about social media. Gingrich never mentioned 'bad tendencies'. He compared an opposition leader who has been arbitrarily locked up and had assassination attempts to a former President who abused his power repeatedly.\n",
       "3962    Alexei Navalny was not a hero. He was a petty thief, a fraudster, and a US bought spy. Also, a Russian supremacist.                                                                                                                                                                                          \n",
       "4097    @afrosabi Navalny being racist doesn’t mean Putin isn’t racist. They both are racist. https://t.co/UeqTNvDgMP                                                                                                                                                                                                \n",
       "4254    @mdunjic @ScepticalAussie @johnpilger The Sceptical Aussie blocked me, not so sceptical after all.\\nThe German excuse is, Navalny explictly denied opening the medical records.\\nIt might be \"chess move\" by him but I smell foul play. There was never a poisoning (by novichok).                           \n",
       "4425    @LouiseMensch @navalny Thanks! Dear Lady.                                                                                                                                                                                                                                                                    \n",
       "4569    @McFaul @navalny Michael i have seen some negative comments about him and wonder if they are true or are they smear tactics. They claim he is a white supremacist?                                                                                                                                           \n",
       "4635    Kremlin critic's investigation into Putin is going viral in Russia\\nhttps://t.co/AU6K0QkBe7                                                                                                                                                                                                                  \n",
       "4636    @calxandr Unfortunately Navalny’s parole will be likely converted into full jail term; Indicated  by Pro-Kremlin media intense bame of US for organizing protests. Need to put pressure by getting Germany and EU to speak up and making life of Putin Mafia misserable incuding their mistresses.           \n",
       "4708    @newtgingrich Absolutely absurd and an  outrageous insult to Alexie Navalny.\\nThe only relevance Putin has to the situation is that  the Kompromat he has on Trump , Graham +others has helped him to destabilize the USA                                                                                    \n",
       "4711    And not a single mention of the fact that Navalny is an ultranationalist and unapologetic racist. The BBC is at it again. https://t.co/csSdaiDFtg                                                                                                                                                            \n",
       "4849    Navalny is the HERO they need! https://t.co/pXUrjakmFj                                                                                                                                                                                                                                                       \n",
       "4921    @acczibit Besides small journalistic team, Navalny has no party or organization. Most likely he will have to form some sort of coalition with Liberals, Reds, and Nationalists to form opposition. This is why he is making statements that appeal to such different groups.                                 \n",
       "4998    @RepAdamSchiff @navalny Yes it’s amazing how the Russian President steps on real democracy and won’t let his own people Breath                                                                                                                                                                               \n",
       "5218    @LouiseMensch @HansCres @911CORLEBRA777 @jaraparilla so....John fucking Pilger is attacking ? #Navalny \\n\\nCalls him a 'fraudster' and claims not proof of poisoning\\n\\nhttps://t.co/GmdgMustk2                                                                                                              \n",
       "5232    #TraitorTrump would never ever be compared to the courageous brave  Russian hero Navalny NO WORRIES #TrumpTreason https://t.co/nalHuZCIc1                                                                                                                                                                    \n",
       "5294    @SamHarrisOrg The irony being is Navalny is also a nationalist                                                                                                                                                                                                                                               \n",
       "5338    @bobclendenin Navalny is immeasurably more intelligent. That's why he's dangerous.                                                                                                                                                                                                                           \n",
       "5346    All the social statistics are better. And I think that’s the origin of Cold War II. Washington’s desire to get back to a Yeltsin-type situation in Russia. Navalny is a sober Yeltsin.                                                                                                                       \n",
       "5463    Going to be honest, not really feeling the pro-Navalny sentiments being disseminated by Western media considering the fact that Navalny is an actual, by-the-definition neo-fascist.\\n\\nNot to say the oligarchs are any better, but this seems like a bad vs. different bad situation.                      \n",
       "5473    @Mikey45995010 @RT_com There is no free speech anywhere: https://t.co/wh6VTFYTnC                                                                                                                                                                                                                             \n",
       "Name: text, dtype: object"
      ]
     },
     "execution_count": 35,
     "metadata": {},
     "output_type": "execute_result"
    }
   ],
   "source": [
    "df['text'][df.LDA_topic ==1][40:60] # topic 1 references to controversial aspects of Navalny? "
   ]
  },
  {
   "cell_type": "code",
   "execution_count": 68,
   "metadata": {},
   "outputs": [
    {
     "data": {
      "text/plain": [
       "67492    @MarisePayne @navalny How concerned is Australia about Julian Assange?                                                                                                                                                                                                                                                                                                                                                                                        \n",
       "67511    @TEK10 @McFaul @tedcruz Navalny calls on the West to adopt sanctions against Russia.\\nWhat will be done to your politician, who will call for sanctions against the United States?                                                                                                                                                                                                                                                                            \n",
       "67539    Backed by the Globohomo Mafia and the CIA, #Navalny the oppotunistic snake, sure is someone to be trusted.\\nWhat's his favorite color btw ? https://t.co/V5aw0MxjWv https://t.co/Ala4onHnXM                                                                                                                                                                                                                                                                   \n",
       "67542    @richimedhurst @MarisePayne @navalny The difference: Julian Assange is not working with US and Nato and is not a far right nationalist and racist thug.                                                                                                                                                                                                                                                                                                       \n",
       "67705    \"Gross Interference\": Russia Livid That US Embassy Posted Times &amp; Locations Of Navalny Protests | ZeroHedge https://t.co/bBO1mtZ0hO                                                                                                                                                                                                                                                                                                                       \n",
       "67853    A gentle reminder that Navalny referred to Georgians with racial slurs, suggested Georgians be expelled from Russia, and wished to missile country into oblivion.                                                                                                                                                                                                                                                                                             \n",
       "67969    @DarthPutinKGB @saatoshi Normal? a kid in manifestation...It s navalny who create that in tik tok and instagram...dou you speak about criminal case between navalny and his brother with french brand Yves Rocher?                                                                                                                                                                                                                                            \n",
       "68035    @felix_light I can't think of any example of Navalny being openly racist in the recent 5 years, tbh.                                                                                                                                                                                                                                                                                                                                                          \n",
       "68056    @richimedhurst @MarisePayne @navalny The response to injustices that governments have no power to fix? \\n\\nRighteous indignation\\n\\nThe response to injustices that governments have the power to fix?\\n\\nShameful silence                                                                                                                                                                                                                                    \n",
       "68088    @RT_com @kingsthings You are really going out of your way to avoid mentioning the widespread protests against Navalny's arrest, aren't you? Just like Pravda.\\nhttps://t.co/Idtfb5hSVO                                                                                                                                                                                                                                                                        \n",
       "68143    @RT_com You are really going out of your way to avoid mentioning the widespread protests against Navalny's arrest, aren't you? Just like Pravda.\\nhttps://t.co/Idtfb5hSVO                                                                                                                                                                                                                                                                                     \n",
       "68164    @RT_com You are really going out of your way to avoid mentioning the widespread protests against Navalny's arrest, aren't you? Just like Pravda.\\nhttps://t.co/Idtfb5hSVO                                                                                                                                                                                                                                                                                     \n",
       "68218    @MarisePayne @navalny Are you doing anything about getting Julian Assange released from jail in the UK? Worry about Australian citizens being treated unjustly first- that's your job.                                                                                                                                                                                                                                                                        \n",
       "68294    This is amazing right now. #Navalny https://t.co/rmfEo1ub1T                                                                                                                                                                                                                                                                                                                                                                                                   \n",
       "68316    @USRepKeating @navalny @mfa_russia Thank you from Russian people 🙏                                                                                                                                                                                                                                                                                                                                                                                            \n",
       "68321    @alinaobykova @NCStaar I also keep forgetting the annexation point. I've seen that before but forgot.\\n\\nLastly, there's the issue of *other oligarchs*. One thing about Putin was he was supposed to (and apparently *did*) control rogue oligarchs, to a point.\\n\\nNavalny being freed, or becoming president-                                                                                                                                              \n",
       "68408    @Ostrov_A @navalny This is amazing. The Russian people are resilient and warriors                                                                                                                                                                                                                                                                                                                                                                             \n",
       "68501    @geol_uk @BlueGirlRules1 @RussianEmbassy @mfa_russia @BBCWorld @SkyNews @ftworldnews @guardianworld @TelegraphWorld @standardnews @MailOnline @thesundaytimes @TheSun After Putin \"tainted Navalny's underpants with novichok\" the Russian pilot of the Russian plane he was on when he became sick made an emergency landing in Russia so that Russian doctors in a Russian hospital could save his life. Then Putin allowed him to be transferred to Berlin.\n",
       "68597    @Eric1961 @RT_com #Navalny is a zionist. He will bring unchecked immigration and senseless wars to Russia.                                                                                                                                                                                                                                                                                                                                                    \n",
       "68604    @MakichyanA @GretaThunberg @ThailandNewHour @RT_com longevity of #Putins political tenure. Has become a self adoration. @navalny right to contest, infirmity, is bravery. And he lnyneeds this support. @Mandela outlived organized, Boer genocide.ny #FreeAnchan #FreeNavalny @euronews @USATODAY @XHNews 🗽@smh                                                                                                                                              \n",
       "68682    @NancyJaneDrew @McFaul @navalny And god help the minorities in Russia if he would have.\\nBut he would not. Outside of the support he's getting as a political prisoner, and the pseudo-support that is actually opposition to Putin, he doesn't have many actual supporters. about 2%, mostly from the far right fascists                                                                                                                                     \n",
       "68886    ‘Hypocrisy is a tool of US diplomacy’: Russia slams Washington’s claim about ‘suppressing’ Navalny protests — RT Russia &amp; Former Soviet Union https://t.co/Wo0Am9m0Zk                                                                                                                                                                                                                                                                                     \n",
       "68986    @radosveta_vass Meanwhile the mobster Borissov is in the first row of the supporters of Navalny.What a hypocrisy!                                                                                                                                                                                                                                                                                                                                             \n",
       "69050    #Navalny FACTS ...he is the ONLY russian leader who supports gay marriage. FACT he spoken openly in support of #BlackLivesMatter and he OPENLY supported the protests ! FACT he is AGAINST Russia's involvement in the syrian civil war ...                                                                                                                                                                                                                   \n",
       "69065    @realTuckFrumper 🤣😂 \\nChildish. 😅😂 Very @GOP ?\\n\\nBetter looking women and most certainly the Smartest men...  \\nOr what You think?\\n#Navalny https://t.co/rq0JJUIydx                                                                                                                                                                                                                                                                                         \n",
       "69231    This. \\n\\nNavalny’s courage &amp; excellent anti-corruption investigations shouldn’t whitewash his nationalist rhetoric + turning a blind eye to the annexation of Crimea, human rights violations, repressions of Crimea Tatars.\\n\\nBut they do, because Western coverage of Russia is so white https://t.co/EUIvSuau5V                                                                                                                                      \n",
       "69339    @DrRadchenko Nah. It's just hypocritical to see the West going crazy over Navalny and making direct demands to Russia, i.e. interfering in internal affairs, when the West has spent the last 4 years hyperventilating over some facebook ads and blaming Russia for interfering in internal affairs.                                                                                                                                                         \n",
       "69341    Alexei Navalny: Tens of thousands protest across Russia https://t.co/0aQ0TnOQVw Putin is shoving 2 fingers up We talk the talk don't walk the walk Innocent citizens are being brutalized by Putin's thugs All economic &amp; social ties with SOVIET UNION must be severed. Putin's a thug.                                                                                                                                                                  \n",
       "69477    @McFaul Could you explain a bit about Navalny. From what I have read he seems very nationalistic and quite racist? Is it a case of \"everyone else than Putin\" or is he dangerous for the west to support?                                                                                                                                                                                                                                                     \n",
       "69537    @MarisePayne @navalny ... and Julian Assange?                                                                                                                                                                                                                                                                                                                                                                                                                 \n",
       "69682    @DmitrijTrubnik1 Jos Navalni olisi amerikkalainen ...\\n\\n\"if he were an American, liberals would hate Navalny far more than they hate Trump or Steve Bannon — and yet he is glorified and exalted as Russia’s last, best hope.\"\\n\\nhttps://t.co/dVPZOLDWwC                                                                                                                                                                                                    \n",
       "69716    In Aleksei Navalny Protests, Russia Faces Biggest Dissent in Years https://t.co/zLzPqkvBsO                                                                                                                                                                                                                                                                                                                                                                    \n",
       "69776    #MapInfluence analyst @Pavel_Havlicek_ argues for more action from the west after the arrest of #Navalny and subsequent repression of #navalnyprotests in #Russia. \\nhttps://t.co/Fy0Vyk2fOb                                                                                                                                                                                                                                                                  \n",
       "69932    \"Gross Interference\": Russia Livid That US Embassy Posted Times &amp; Locations Of Navalny Protests https://t.co/FM1B5PTY1c #Money #Finance #Economics #Market                                                                                                                                                                                                                                                                                                \n",
       "69944    @MarisePayne @navalny Navalny and Assange. Compare and contrast the media coverage or lack of it. One get a year for embezzlement the other 175 years for journalism.                                                                                                                                                                                                                                                                                         \n",
       "70081    Some videos from protests recorded by journalists and people\\nhttps://t.co/1wd4A8S5ra\\n.\\n#freenavalny #navalny #ptotests #policebrutality #russia                                                                                                                                                                                                                                                                                                            \n",
       "70110    @numbakrunch @ZolotorevskiyB @navalny -50c there yesterday!                                                                                                                                                                                                                                                                                                                                                                                                   \n",
       "70137    Russia: Momentum for protest is growing over Putin's 'palace' and Navalny's imprisonment https://t.co/XC0zlVhwlh                                                                                                                                                                                                                                                                                                                                              \n",
       "70165    @tweet_2_defeat @PhoBurns @biannagolodryga @nycsouthpaw @navalny It's a racist term referencing Irish immigrants.                                                                                                                                                                                                                                                                                                                                             \n",
       "70168    \"Alexei #Navalny is not the pleasant liberal our mainstream media paint him to be. Before extensive grooming by the West, he was a racist populist\" argues historian and former ambassador Craig Murray (@CraigMurrayOrg). https://t.co/NfZaZdRroP                                                                                                                                                                                                            \n",
       "70307    @MarisePayne @navalny #FreeJulianAssange \\nSee his Journalism awards below if you still think \"he's not a journalist\" https://t.co/3SYrk142tg                                                                                                                                                                                                                                                                                                                 \n",
       "70532    @MarisePayne @navalny Australia is unconcerned with the extended torture enacted over last 10 years on an #Assange , an award winning Australian journalist.  The slow-motion death sentence playing out in UKs Belmarsh prison is the public face of an assault on free speech Australia strongly supports                                                                                                                                                   \n",
       "70698    I Pray Russian people are freed from the communist leadership. 🙏🙏🙏\\n\\nIn Aleksei Navalny Protests, Russia Faces Biggest Dissent in Years https://t.co/e5irJMOVJ6                                                                                                                                                                                                                                                                                              \n",
       "70755    @XgkXgk @dum_as_hek @RobertM31441195 @kilford_john @dda_hywel @navalny @RussianEmbassy @RUSSIATODAY_mun I wish I could!                                                                                                                                                                                                                                                                                                                                       \n",
       "71058    @richimedhurst Julian Assange is rotting away in a hell hole prison and not a peep - Navalny is a homophobic, islamophobic nazi and all the politicians and the media, in the West, are up in arms + treat him like he is f*king Gandhi - It's so telling!                                                                                                                                                                                                    \n",
       "71218    @MarisePayne @navalny Might we delicately remind Australia that a citizen of your great land has been threatened, persecuted and indicted for more than a decade - for no actual crime by nations not your own - and Australia has said nothing, done nothing to stand for Julian Assange? You are ridiculous.                                                                                                                                                \n",
       "71264    Important aspect for those who blame Navalny for being nationalist. Do not forget that 🇷🇺 has ethnic republics, where racism against other nationalities is systemic and well known. Non-member of a \"titular nationality\" in an ethnic republic --&gt; impeded rights and opportunities                                                                                                                                                                      \n",
       "71269    @enea12 @RussianEmbassy @mfa_russia @BBCWorld @SkyNews @ftworldnews @guardianworld @TelegraphWorld @standardnews @MailOnline @thesundaytimes @TheSun #Russia doesn't \"try\" to poison people. If #Putin wanted #Navalny dead he would have died and they never would have allowed him to leave. Use your brain.                                                                                                                                                \n",
       "71320    Prayers for Alexi Navalny &amp; the Russian people. Holy Mother Russia in turmoil, the People’s response to injustice. The greater the injustice, the greater the number of people. https://t.co/c2qmiE2fJN                                                                                                                                                                                                                                                   \n",
       "71388    @Partisangirl Navalny is like a Russia’s stray dog 😂                                                                                                                                                                                                                                                                                                                                                                                                          \n",
       "Name: text, dtype: object"
      ]
     },
     "execution_count": 68,
     "metadata": {},
     "output_type": "execute_result"
    }
   ],
   "source": [
    "df['text'][df.LDA_topic ==1][1000:1050] # topic 1 references to controversial aspects of Navalny? "
   ]
  },
  {
   "cell_type": "code",
   "execution_count": 69,
   "metadata": {},
   "outputs": [
    {
     "data": {
      "text/plain": [
       "35      P.E.I. residents from Russia hold demonstration in Charlottetown against Navalny's arrest | The Guardian https://t.co/dFrLWAZlPQ                                                                                                                                                                                             \n",
       "256     EU should punish Putin for Navalny arrest by cutting money flows: Germany's Weber | Reuters https://t.co/gv8XnAh4gg                                                                                                                                                                                                          \n",
       "296     @POTUS #FreeNavalny seizures of #Putin  &amp; his cronies the banks &amp; money laundering criminals in the USA in place of sanctions on the Russian people to save life of Navalny #https://www.washingtonpost.com/opinions/2021/01/23/biden-must-act-save-navalnys-life-hopes-freedom-russia/                              \n",
       "310     @DrKevorkO @navalny as of october 2020, navalny never denounced his views, btw. \\n\\nhttps://t.co/uRtNlgDTs0 https://t.co/DQppM7uzlp                                                                                                                                                                                          \n",
       "347     @DrKevorkO @navalny yes, adolf hitler was a german patriot fighting against an authoritarian and corrupt regime\\n\\nand yes, ethnic non-germans were absolutely right in taking him to task about his reproduction of blatantly racist tropes\\n\\nthese two stances are not mutually exclusive                                 \n",
       "415     @Wendilynn66 Nope...very discouraged that Trump still pulls the levers for the GOP. They hate him and want to break from Trumpism, but they lack courage. They should take a page from Aleksei Navalny...that’s real courage.                                                                                                \n",
       "475     @MeghanMcCain @navalny Meghan, idk if you’ve ever been to Russia, but the people are SO nervous to openly talk negatively about Putin. The protests you see, have such tremendous consequences attached to it. They are so brave. I have family protesting- please pray for gods protection.                                 \n",
       "501     Navalny’s whole campaign for the Moscow major elections in 2013 was him promising to deport central Asian labor migrants. It was literally one of his central points.                                                                                                                                                        \n",
       "575     @bagramian @DrKevorkO @navalny He has never expressed regrets lol                                                                                                                                                                                                                                                            \n",
       "621     @SpiritofBellamy @Phonix2326 @ImReadinHere Navalny  describes himself as a nationalist Democrat, and has done some pretty racist things                                                                                                                                                                                      \n",
       "772     @DanLanham2 @SamHarrisOrg Navalny is a dissident. The other is not. That's why the comparison is ridiculous.                                                                                                                                                                                                                 \n",
       "987     You did it!  You typed the most ludicrous tweet of the dad!\\n#Navalny is brave.  #trump is lazy, cowardly and criminal. https://t.co/Srd8gLrSR6                                                                                                                                                                              \n",
       "1110    @RussianEmbassy Andrey Kelin, what case? You must have forgotten something  -  Russian Internal Affairs refused to launch any case about #Navalny citizen. You are talking head of  Kremlin's kleptocrats. Shame!                                                                                                            \n",
       "1182    @MeghanMcCain @navalny That guys a far right white nationalist is no more political opposition to Putin then frickin howie Hawkins is to biden. If you’re *actually* concerned about an innocent man dying in jail it should Julian Assange. #FreeAssange                                                                    \n",
       "1264    @MeghanMcCain @navalny He’s great brave man                                                                                                                                                                                                                                                                                  \n",
       "1292    @MittRomney @karaswisher Cancel culture in Russia often involves Novichok or Polonium-210.  Alexi Navalny returning to Russia after Putin tried to cancel him is a level of courage that few of us will ever know.                                                                                                           \n",
       "1369    @AlexYablon Navalny is absolutely the better poster                                                                                                                                                                                                                                                                          \n",
       "1669    Is the Russian Embassy accidentally acknowledging the Navalny criminal case is fake here? Moronic tweet. https://t.co/djA4qW89nZ                                                                                                                                                                                             \n",
       "1749    @HeerJeet @nealrogers Apparently, you're not familiar with Navalny and his cause.                                                                                                                                                                                                                                            \n",
       "2065    @SamHarrisOrg Agreed. Navalny should not be compared to Biden like that.                                                                                                                                                                                                                                                     \n",
       "2136    @Phonix2326 @ImReadinHere Okay. So Navalny ISN'T a Nationalist? I need to know. Before I lend my support to someone.\\n\\nAssata Shakur should definitely not be railroaded into a verdict for something she did not do, just because an officer was involved. People lied to save their own skins.                            \n",
       "2218    @lolstfu22 @ImReadinHere I'll ignore your rude language &amp; say that it might be feasible to ignore Navalny's racism, but what about railroading Assata Shakur? this cannot be ignored. She was caught up in a horrible situation &amp; blamed for it. This isn't just PC cancel culture, as ppl like you call it.         \n",
       "2300    @ElectronJ2 @DianaJManwaring @Angry_Staffer Yes. That's right.\\n\\n@navalny likes Russia.\\nHe likes freedom.\\nHe likes people.\\n\\nHe hates oppression.\\nHe hates corruption.\\nHe hates injustice.\\n\\n#свободуНавальному \\n#FreeNavalny\\n#23январяЗаСвободу\\n#23januaryForFreedom                                              \n",
       "2301    So... Navalny is bad? Or the US government is like Russia's? https://t.co/CE2D36fYUv                                                                                                                                                                                                                                         \n",
       "2374    @RussianEmbassy If the case is fake, why is Navalny in jail?                                                                                                                                                                                                                                                                 \n",
       "2402    @MarisePayne @navalny Remember JULIAN ASSANGE ??\\n\\nHe is YOUR citizen\\n\\n#FreeAssangeNOW \\n\\nhttps://t.co/X9b2edEppl                                                                                                                                                                                                        \n",
       "2498    @DianaJManwaring @Angry_Staffer @navalny is very brave and devoted person.\\nHe wishes to free Russia from corrupted Putin's power. That's why honest Russian people like him and struggle for him.\\nhttps://t.co/xw0kRbo0Ed                                                                                                  \n",
       "2649    @juliaioffe 1/ During your MSNBC interview you talked about Kremlin's will to absorb the pain provoked by \"typical sanctions\", but you forgot to mention that it was Navalny who introduce, to start, a list with the names of several Russian oligarchs (Putin's front man)                                                 \n",
       "2712    @BenjaminNorton Navalny’s latest video is better journalism than anything @BenjaminNorton will ever do.                                                                                                                                                                                                                      \n",
       "2846    INBOX: @VoCommunism is presenting Russian dissident @navalny their 2021 Dissident Human Rights Award.                                                                                                                                                                                                                        \n",
       "2965    @Angry_Staffer @Uyanga_ts People have protested against arrest of @navalny for his freedom &amp; against Putin oppression. He is a modern Russian hero. Honest Russians like him very much.\\n#свободуНавальному \\n#FreeNavalny\\n#23январяЗаСвободу\\n#23januaryForFreedom \\nhttps://t.co/xw0kRbo0Ed\\n\\nhttps://t.co/yMhN0HahzZ\n",
       "3029    @Epo18047977 @EZaharievaMFA @navalny Who the fuck are you to claim so?? Aha, just a nobody.... so your opinion will be ignored. Bye bye dear Titomacedonian©\\n\\n©COPYRIGHT Josip Broz Tito, 1944.                                                                                                                            \n",
       "3098    @Syricide They were too busy covering Navalny people suffering                                                                                                                                                                                                                                                               \n",
       "3139    Tankies attacking Navalny over the shitty things he did are the same vibe as right wingers looking up George Floyd’s criminal record. It completely misses the point.                                                                                                                                                        \n",
       "3177    @HuXijin_GT @PatriotSerbian This is a Navalny protestor par excellence. Others might not pull their cloth trousers, only the mental ones: \\n\\nhttps://t.co/tUYataZNQt                                                                                                                                                        \n",
       "3397    @Renegade_Inc @anna_novikova Not even close, Assange is a brave hero, Navalny is a bigot, nationalist. His protests are nothing more than child abuse. Average age of the \"protesters\" is probably 16.                                                                                                                       \n",
       "3716    The Navalny Protests in Russia w/ Professor Rouban Azizian: Monday, 25 January, 2021 Zoë Larsen Cumming interviews Professor at Massey University’s Centre for Defence and Security Studies and expert in Russian politics and foreign policy Rouban Azizian… https://t.co/wwCStRsXXw                                        \n",
       "3742    @MarisePayne @navalny &amp; LET'S NOT WORRY ABOUT OUR VERY OWN ASSANGE ROTTING AWAY, FFS.                                                                                                                                                                                                                                    \n",
       "3772    EU should punish Putin for Navalny arrest by cutting money flows: Germany's Weber https://t.co/3izlKAMJW4                                                                                                                                                                                                                    \n",
       "3839    @afrosabi Lol, be careful, any more navalny criticism and they're gonna start calling you progressive again 😜                                                                                                                                                                                                                \n",
       "3909    @MaZhavorsiAnni @SamHarrisOrg @CHSommers No, Navalny is making a very specific point about social media. Gingrich never mentioned 'bad tendencies'. He compared an opposition leader who has been arbitrarily locked up and had assassination attempts to a former President who abused his power repeatedly.                \n",
       "3962    Alexei Navalny was not a hero. He was a petty thief, a fraudster, and a US bought spy. Also, a Russian supremacist.                                                                                                                                                                                                          \n",
       "4097    @afrosabi Navalny being racist doesn’t mean Putin isn’t racist. They both are racist. https://t.co/UeqTNvDgMP                                                                                                                                                                                                                \n",
       "4254    @mdunjic @ScepticalAussie @johnpilger The Sceptical Aussie blocked me, not so sceptical after all.\\nThe German excuse is, Navalny explictly denied opening the medical records.\\nIt might be \"chess move\" by him but I smell foul play. There was never a poisoning (by novichok).                                           \n",
       "4425    @LouiseMensch @navalny Thanks! Dear Lady.                                                                                                                                                                                                                                                                                    \n",
       "4569    @McFaul @navalny Michael i have seen some negative comments about him and wonder if they are true or are they smear tactics. They claim he is a white supremacist?                                                                                                                                                           \n",
       "4635    Kremlin critic's investigation into Putin is going viral in Russia\\nhttps://t.co/AU6K0QkBe7                                                                                                                                                                                                                                  \n",
       "4636    @calxandr Unfortunately Navalny’s parole will be likely converted into full jail term; Indicated  by Pro-Kremlin media intense bame of US for organizing protests. Need to put pressure by getting Germany and EU to speak up and making life of Putin Mafia misserable incuding their mistresses.                           \n",
       "4708    @newtgingrich Absolutely absurd and an  outrageous insult to Alexie Navalny.\\nThe only relevance Putin has to the situation is that  the Kompromat he has on Trump , Graham +others has helped him to destabilize the USA                                                                                                    \n",
       "4711    And not a single mention of the fact that Navalny is an ultranationalist and unapologetic racist. The BBC is at it again. https://t.co/csSdaiDFtg                                                                                                                                                                            \n",
       "Name: text, dtype: object"
      ]
     },
     "execution_count": 69,
     "metadata": {},
     "output_type": "execute_result"
    }
   ],
   "source": [
    "df['text'][df.LDA_topic ==1][0:50] # topic 1 references to controversial aspects of Navalny? "
   ]
  },
  {
   "cell_type": "code",
   "execution_count": 70,
   "metadata": {},
   "outputs": [
    {
     "data": {
      "text/plain": [
       "14763    @jevanaw @MenOfManu @Reuters When Saudi slaughters Yemen, when his prince kills a journalist , no sanction, , but Russia receives sanction because this idiot of Navalny.                                                                                                                                                                                      \n",
       "14769    @vegetablesgooff @seaniepops707 @MarcDaran @LeethalMe @MarisePayne @navalny Are you saying Assange revealed war crimes? Yes he did and they were horrible. Or are you are saying the UN special Rapporteur uncovered war crimes?                                                                                                                               \n",
       "14856    @HHankerman @seaniepops707 @MarcDaran @LeethalMe @MarisePayne @navalny You keep going back to this \\n\\nTrump's DOJ's charges are for revealing war crimes, and you're happy to support Trump in that because you dislike Trump so much &amp; want to punish someone in some sick vengeance seeking\\n\\nI don't like Trump either\\nI also don't like war crimes 🤷\n",
       "14905    @MarisePayne @navalny Marise sticks up for a Russian fraudster but not for our Australian ASSANGE held without conviction in a supermax prison in London in freezing conditions, denying him his winter clothing - where are your scruples? https://t.co/4xPfRwCqqD                                                                                            \n",
       "14975    @vegetablesgooff @seaniepops707 @MarcDaran @LeethalMe @MarisePayne @navalny I disagree with the characterisation of the women as not wanting to go ahead with their complaints. I think it's fanciful that a local police station the women went to was able to mobilise the whole Swedish justice system in 24 hours against Assange at the behest of the US. \n",
       "15005    RUSSIA: Western governments urged to impose sanctions against cronies of Putin and tormentors of Alexei Navalny https://t.co/LzBQtEVDMG https://t.co/LFqOeF7MFz                                                                                                                                                                                                \n",
       "15038    Russia accuses US of meddling in its domestic affairs as thousands arrested at pro-Navalny rallies:  https://t.co/k8HXKia8yX                                                                                                                                                                                                                                   \n",
       "15040    @b_nishanov Navalny is very brave but he needs to stop being homophobic and anti Muslim.                                                                                                                                                                                                                                                                       \n",
       "15099    P.E.I. residents from Russia hold demonstration in Charlottetown against Navalny's arrest | The Journal Pioneer https://t.co/TWQSpxDpsM                                                                                                                                                                                                                        \n",
       "15124    When will we have this video shot in Downtown, Fakra, Paris and London?\\n\\nKremlin critic's investigation into Putin is going viral in Russia\\nhttps://t.co/VA1oURDNtZ                                                                                                                                                                                         \n",
       "15284    @navalny This sense of humour hahaha                                                                                                                                                                                                                                                                                                                           \n",
       "15503    Great White Hype: Protest star #Navalny dark side missed by mainstream https://t.co/Cq560n2Qfy via @YouTube                                                                                                                                                                                                                                                    \n",
       "15570    Putin's government is complaining about foreign governments interfering in Russia's internal affairs ... 👀\\nhttps://t.co/82WOTrdNqp                                                                                                                                                                                                                            \n",
       "15629    @SergeyKadinsky @navalny Apparently he’s sympathetic to far right nationalist and a probable anti semite. Any truth to that?                                                                                                                                                                                                                                   \n",
       "15704    @vegetablesgooff @seaniepops707 @MarcDaran @LeethalMe @MarisePayne @navalny He chose the side that is the enemy of my son's future. It was a conscious decision to participate in the US election of 2016. Assange is many things but dumb is not one of them. Releasing info is one thing. Weaponising it is completely different.                            \n",
       "15712    Options that go beyond the #CBW Act, there is #Magnitsky (human rights), EO 13382 designations (#WMD proliferation), and use of SDN/Entity List(s). Mirror the #EU, or go further to include those responsible for arrests/detentions of #Navalny, his wife, and peaceful protestors.6/7                                                                       \n",
       "15742    @SirajAHashmi Other than the Navalny part. He’s kinda sorta right. List worthy? Maybe                                                                                                                                                                                                                                                                          \n",
       "15821    The minority view (about Navalny) but very much correct. I hope your views on both will gain strong support. Let Assange be released. https://t.co/JeAcLTs6Wb                                                                                                                                                                                                  \n",
       "15831    @Vladislav_Pruss @chestnaya095 @SeattleIndpdnt nope, you are wrong and Navalny is US puppet                                                                                                                                                                                                                                                                    \n",
       "15965    How Hypocrisy Works.  Convicted fraudster Alexei Navalny is arrested for skipping bail, claims without credible evidence to have been poisoned and is a hero in the West. Julian #Assange, convicted of nothing, exposes US war crimes, demonised, denied bail. \\nhttps://t.co/NEJSHkvDc0 https://t.co/nddML1rNJf                                              \n",
       "15997    @HHankerman @seaniepops707 @MarcDaran @LeethalMe @MarisePayne @navalny You disagree with the United Nations Special Rapporteur on Torture; based on what information?\\n\\nYes he revealed war crimes. What a monster                                                                                                                                            \n",
       "16041    @MistrzswiataW @RT_com Ask any black man or woman in America if they can argue with a cop, if you can find one still alive. Sorry, you'll get no sympathy from me or most ppl in the West. Esp as Navalny is a stooge of the West. People are not as blind as you'd all like us to be.                                                                         \n",
       "16112    @liamsunibrow @SammyB55509832 @mjluxmoore I find it sad that Russians have so many reasons to protest, but such an unpleasant gopnik like Navalny, with his racist views, is hijacking all the publicity. And sad, that the Western media portrays him as a hero. He's not really very different from Putin in his views.                                      \n",
       "16120    @b_nishanov @laurenthehough Those people are amazing for standing out in that cold in defense of Navalny and democracy.                                                                                                                                                                                                                                        \n",
       "16194    How Hypocrisy Works.  Convicted fraudster Alexei Navalny is arrested for skipping bail, claims without credible evidence to have been poisoned and is a hero in the West. Julian #Assange, convicted of nothing, exposes US war crimes, demonised, denied bail. \\nhttps://t.co/UqivlKj56E                                                                      \n",
       "16255    @LouiseMensch @navalny Great alliteration! Idiotic message!                                                                                                                                                                                                                                                                                                    \n",
       "16264    @Putin_it_to_ya @navalny or 1000 (better)                                                                                                                                                                                                                                                                                                                      \n",
       "16269    JAMAL KHASHOGGI MURDER \\nATTEMPTED MURDER OF NAVALNY\\n\\n ACOSTA GOP 40 YEAR CORRUPT MONEY LAUNDERING HUMAN RIGHTS VIOLATIONS SMUGGLING FUCKFEST. https://t.co/WLgyQzQFBf                                                                                                                                                                                       \n",
       "16304    @ModernistLawyer @jonathanchait @newtgingrich Navalny is currently riding a Ethnic Russian Nationalist wave.  Putin is bad but Navalny isn't any better.                                                                                                                                                                                                       \n",
       "16306    @MarisePayne @navalny That's rich. Is this a joke? Considering your country has ignored the torture of one of your own citizen's at the hands of a foreign nation, torturing him on behalf of another foreign nation, for years, for doing journalism\\n\\n#FreeAssangeNOW                                                                                       \n",
       "16394    @RT_com @KremlinRussia_E @KremlinRussia 2/....\\nI see he, Navalny, has been arrested &amp; is in jail.\\nDid not know.\\nThe riots which are occurring are creating havoc &amp; for his release🙄\\nAlthough some might say it makes sense, he is wrong, not right, and this is what is most important.                                                            \n",
       "16533    Russia should be hit with severe sanctions ASAP, until Navalny is freed and allowed to run in a true election. https://t.co/V4uhg3JGyr                                                                                                                                                                                                                         \n",
       "16622    On the exact moment a Western politician condemns the imprisonment of #Navalny (for embezzlement) 1.000 people die all over the world as result of Western imperialism (wars and sanctions), but then who cares about them... They are invisible. https://t.co/echuMtAD3A                                                                                      \n",
       "16682    @Scaurus9 @RobynDixon__ @Kira_Yarmysh @navalny I honestly wish him luck!                                                                                                                                                                                                                                                                                       \n",
       "16735    @vegetablesgooff @seaniepops707 @MarcDaran @LeethalMe @MarisePayne @navalny I understand why he is so loved by people. He opened the government's of the world's secrets to the everyman. That's not a small thing but when he took the DNC emails and released them during an election he made a decision to choose sides. We all do choose sides eventually. \n",
       "16790    yes, the media is building up Navalny as a hero, but the American media is like a colouring book for children.  Interesting how liberals want to make a cult hero out of someone who isn't that different from Trump ( or Putin) in his worldview. https://t.co/VFu5ngCxh4                                                                                     \n",
       "16878    @MattieTimmer Did you watch (aka read) the Navalny documentary???                                                                                                                                                                                                                                                                                              \n",
       "16931    @Reuters Russian TV, strictly censured by the Russian government is blaming the West for the demonstrations this weekend and going all out to portray Navalny as not trustworthy and national guard as angels on the streets. Typical old Soviet propaganda system #Soviet  #Putin #Moscow #RF                                                                 \n",
       "16965    @anders_aslund @propornot @navalny @ABlinken @jakejsullivan @AKendallTaylor Considering the US is under new leadership, it's likely that will change.                                                                                                                                                                                                          \n",
       "16985    @ThorJermy @political_nomad @BillyPatriotX @AP Yep,true about elections.Actually the maj of people protesting on the streets/internet  would agree on THAT,not Navalny's agenda or leadership.Many r tired of corruption,pet courts,econ.stagnation, lack of change.If P made steps in that dir-n,many'd be happy 2 continue with him.                         \n",
       "16997    @vegetablesgooff @seaniepops707 @MarcDaran @LeethalMe @MarisePayne @navalny I don't agree he's being tortured. He's being detained. Many people around the world are persecuted. The Uighurs, Rohingya and our own First Nation people are persecuted. To me Julian Assange isn't. He took a course of action and it has bitten him on the arse.               \n",
       "17038    @MayaMitKind @DrKevorkO @textautomat @navalny Recently said that Germans have s better claims than Central Asians to go to Russia without visas because their country is rich unlike Central Asia... a bit rich especially given that Russia is functioning on migrant labour from the region                                                                  \n",
       "17048    @charlotteukcity @MittRomney do you support Navalny's policy to depart all immigrants from asia?                                                                                                                                                                                                                                                               \n",
       "17073    @anders_aslund @_JakubJanda @navalny @ABlinken @jakejsullivan @AKendallTaylor Sham gestures. Nordstream 2 still happening. No action in Belarus.                                                                                                                                                                                                               \n",
       "17074    in the run-up to the demonstrations, arresting members of Mr Navalny's team, including his spokeswoman Kira Yarmysh. They launched an investigation after young Navalny supporters flooded TikTok with anti-Putin videos, pushing for people to support the action this weekend and                                                                            \n",
       "17152    The Kremlin has accused the United States of interfering in Russia's domestic affairs and downplayed the scale of the weekend's protests. https://t.co/SJ7wkfBLxH                                                                                                                                                                                              \n",
       "17177    People in Russia is changed by the film loaded in YouTube by prior to Navalny’s arrest. The documentary is well prepared based on the undisputed facts depicted Putin &amp; his crime Group cheating Russian people &amp; are the cause of their poverty. https://t.co/6LGAn6nJ95                                                                              \n",
       "17265    @dorisnesquik Navalny is an ultranationalist.  His \"opposition\" to Putin is that Putin isn't fighting harder against the West.\\n\\nRussia gets automatically blamed for everything without any investigation, and never is allowed to participate in one or see evidence!\\n\\nPutin killed JFK, too! https://t.co/NNgI8LEtxC                                     \n",
       "17272    @InaudibleShoutX @Alyssafarah @navalny Well considering he is already ordering a review of Russia activities against the USG, he has done more in a week against Russia than Trump ever did in 4 years.                                                                                                                                                        \n",
       "17334    Navalny is a brave man with a conscience no resemblance to drumpf, or a newt. https://t.co/5CIFjVPlFz                                                                                                                                                                                                                                                          \n",
       "Name: text, dtype: object"
      ]
     },
     "execution_count": 70,
     "metadata": {},
     "output_type": "execute_result"
    }
   ],
   "source": [
    "df['text'][df.LDA_topic ==1][200:250] # topic 1 references to controversial aspects of Navalny? "
   ]
  },
  {
   "cell_type": "code",
   "execution_count": 71,
   "metadata": {},
   "outputs": [
    {
     "data": {
      "text/plain": [
       "17396    @makaroni_i_sir in nazi germany, people also had agency &amp; sometimes did horrible stuff, but when we talk about nazism, do we center on their agency solely or discuss the harm of nazi propaganda, brainwashing, etc.? same here. navalny is propaganda. and this propaganda affects young people                                                         \n",
       "17454    @IvanKlyuzhin @navalny That is great. Was shocked because I had not read anything.✌️                                                                                                                                                                                                                                                                          \n",
       "17492    https://t.co/mnMmRRO4z3 Navalny team releases investigation into 'Putin's Palace'                                                                                                                                                                                                                                                                             \n",
       "17520    @anders_aslund @navalny @ABlinken @jakejsullivan @AKendallTaylor But we continue building NordStream 2.                                                                                                                                                                                                                                                       \n",
       "17525    @sagetwitting Nah, I was just taking a cheap shot at the American lefties who are joining the Kremlin in attacking Navalny for supposedly far right positions they know little or nothing about.                                                                                                                                                              \n",
       "17535    @Who_Lives_There @Alyssafarah @navalny Yes, and if he doesn’t then he is no better.                                                                                                                                                                                                                                                                           \n",
       "17554    @Snowden Then call for Navalny's freedom. Loudly. To the Russian press.                                                                                                                                                                                                                                                                                       \n",
       "17557    @anders_aslund @_JakubJanda @navalny @ABlinken @jakejsullivan @AKendallTaylor Europe should look after its own internal affairs rather than Russia. Until the day Russia declares war on us, it will be well done! I believe that the case of Navalny is an isolated case. Russian justice will do its job!                                                   \n",
       "17563    @RusEmbUSA,  I call for the immediate and unconditional release of Aleksei Navalny, who was detained after returning to Russia after receiving life-saving treatment.  He is detained for his peaceful political activism and for exercising his right to freedom of expression.                                                                              \n",
       "17584    forgot that I'm on the tankie blocklist until i noticed that pro navalny people who are getting qt'd have me blocked lmao                                                                                                                                                                                                                                     \n",
       "17622    @makaroni_i_sir i'm not patronising, you just approach politics emotionally, instead of using reason, it's a dead-end. if i let it hurt after each of navalny supporters pelted me with xenophobic slurs because i outed his nationalism, i'd be dead already                                                                                                 \n",
       "17638    @RonanLTynan @navalny @lisanandy @FareedZakaria @camanpour @BorisJohnson @Keir_Starmer @AndrewMarr9 @MarrShow @piersmorgan @BiancaJagger The citizens are right; If they see something that is not right and nothing is done, we become accomplices if we do nothing, if we remain silent. https://t.co/FTotLCRHTX                                            \n",
       "17750    @kenvogel @navalny Would be great to see #FreeNavalny trending on Twitter.                                                                                                                                                                                                                                                                                    \n",
       "17770    @WindsongJoy @revmagdalen @CivilizedDebate @KilroyJoe 2/2 Here is what Navalny had to say about his nationalism to The Spiegel\\nhttps://t.co/rYw52INJlP                                                                                                                                                                                                       \n",
       "17929    European Union lawmakers passed a resolution calling the bloc to stop the completion of Nord Stream 2 in response to Kremlim critic A. Navalny arrest.\\n\\nReuters\\n\\nEurope relies on eastern gas to survive its own winter, but hasn't concerned so much.\\n\\n🇷🇺🚢\\nhttps://t.co/cXcPxe81hn                                                                    \n",
       "17947    @textautomat @MayaMitKind @navalny He’s been less explicit in recent years. But no retractions or apologies either.                                                                                                                                                                                                                                           \n",
       "17982    @newtgingrich Are you trying to suggest Navalny is criminal at the same level trump is? Because that is just batshit crazy. But it is consistent for you.                                                                                                                                                                                                     \n",
       "18001    @vegetablesgooff @seaniepops707 @MarcDaran @LeethalMe @MarisePayne @navalny No there weren't. The Keystone Pipeline is the scariest thing in the world to me. James Hansen explained what it is and what it will do to the world my son must live in. Anyone who by their actions helped to get this underway is someone I can't abide by. They are the enemy.\n",
       "18072    @enbyeita Navalny's also racist as hell, so while his treatment by the government is outrageous he should not be treated as any kind of hero                                                                                                                                                                                                                  \n",
       "18111    @MayaMitKind @DrKevorkO @navalny As far as I'm concerned he never took back any of his racist positions or remarks.                                                                                                                                                                                                                                           \n",
       "18118    Kremlin critic's investigation into Putin is going viral in Russia\\nhttps://t.co/6MazCk2JfB                                                                                                                                                                                                                                                                   \n",
       "18187    @parallaxer @Joyce_Karam @shaltsch It's a start. Much stronger actions directed at Putin &amp; cronies money will be needed to save #Navalny.                                                                                                                                                                                                                 \n",
       "18320    @HHankerman @seaniepops707 @MarcDaran @LeethalMe @MarisePayne @navalny The ongoing torture and persecution of Assange is just an esoteric issue without any consequence?                                                                                                                                                                                      \n",
       "18435    Thank you for taking this first step! #BidenHarris @POTUS @VP #Navalny #navalnyprotests  More will be needed. https://t.co/eTGcQSppbe                                                                                                                                                                                                                         \n",
       "18456    EU should punish Putin for Navalny arrest by cutting money flows: Germany's Weber https://t.co/tuz812pgft                                                                                                                                                                                                                                                     \n",
       "18481    @AbuYusufMir The West should’ve have picked a better candidate to oppose Putin. Navalny is just another imperialist known for his chauvinist and racist remarks.                                                                                                                                                                                              \n",
       "18513    In Aleksei Navalny Protests, Russia Faces Biggest Dissent in Years https://t.co/6M14E2wFyt                                                                                                                                                                                                                                                                    \n",
       "18520    @HHankerman @seaniepops707 @MarcDaran @LeethalMe @MarisePayne @navalny There weren't many politicians who went to Standing Rock                                                                                                                                                                                                                               \n",
       "18581    Monday’s FINANCIAL TIMES: “Poland presses EU to turn up heat on Moscow after Navalny arrest” #TomorrowsPapersToday https://t.co/Pkm5O3U77T                                                                                                                                                                                                                    \n",
       "18595    @vegetablesgooff @seaniepops707 @MarcDaran @LeethalMe @MarisePayne @navalny And this is why assigning a label to people doesn't work. Calling me a bootlicker has no effect on me. Saying that I condone what happened to Floyd George enrages me. I look at the actions people take and their results.                                                       \n",
       "18625    @Artek021 @PriestruYuuru Yes, but it doesn't really matter now. Russian demokracy is fake, no real opposition is allowed to elections. We are fighting for freedom here, and Navalny is a leader of protest, not some party or programm.                                                                                                                      \n",
       "18694    In Aleksei Navalny Protests, Russia Faces Biggest Dissent in Years https://t.co/NyTyQsIyRJ                                                                                                                                                                                                                                                                    \n",
       "18783    @DrMuffDiverLove @cur1029 China is playing hardball since the 20th.  Russia is accusing us of interfering in their domestic affairs because the dissident Alexi Navalny was arrested upon arriving home and crowds are large.\\n\\nIn one Russian city it was minus 60F but they had many protesting for Navalny!                                               \n",
       "18825    \"The US political/economic system seems incapable of adapting to new multipolar paradigm. Like a dinosaur it is doomed to perish because its mode of behavior and ideological depiction of the world are no longer viable.\" #Russia #China #Navalny #Nordstream2 https://t.co/WEJowVtxDQ                                                                      \n",
       "18891    @vegetablesgooff @seaniepops707 @MarcDaran @LeethalMe @MarisePayne @navalny Tulsi is an interesting person. I don't agree with her on a few things but she had her moments. My Hawaiian friends think she's a bag of arse.                                                                                                                                    \n",
       "18906    @McFaul @Russian_Starr You can see the way you are humiliating yourself.......i hope the comments has proven how you are foolishly trying to whitewash navalny's racist and xenophobic behavior.                                                                                                                                                              \n",
       "18946    Amazing display of grit and determination by these brave Russians. #Navalny #PutinsPalace https://t.co/kp57JR5DNW                                                                                                                                                                                                                                             \n",
       "18984    ‘Hypocrisy is a tool of US diplomacy’: Russia slams Washington’s claim about ‘suppressing’ Navalny protests — RT Russia &amp; Former Soviet Union https://t.co/c5fSExmLHR ...This sadly is true                                                                                                                                                               \n",
       "19038    It’s a shame. Wish Biden could negotiate Navalny out o Russia with his family.                                                                                                                                                                                                                                                                                \n",
       "19068    EU should punish Putin for Navalny arrest by cutting money flows: Germany's Weber \\n\\n#russia #news\\n\\nhttps://t.co/BxXhcPPowY                                                                                                                                                                                                                                \n",
       "19118    Russian opposition figure Navalny to face new criminal case over alleged use of ‘anti-corruption’ donations ‘for personal gain’ — RT Russia &amp; Former Soviet Union https://t.co/AxNFRL1uxq                                                                                                                                                                 \n",
       "19202    What doesn’t kill u makes u stronger➡️Russia: Momentum for protest is growing over Putin's 'palace' and Navalny's imprisonment | World News | Sky News https://t.co/KLPA7Bf6mc                                                                                                                                                                                \n",
       "19203    Kremlin critic's investigation into Putin is going viral in Russia\\nhttps://t.co/Yw4GW1ljEA                                                                                                                                                                                                                                                                   \n",
       "19226    @infoscav Understandable! It' OK now with me/ But some followers do not seem to welcome me if I write about something related with Navalny/                                                                                                                                                                                                                   \n",
       "19230    @HHankerman @seaniepops707 @MarcDaran @LeethalMe @MarisePayne @navalny It seems we agree on most things, except being concerned about allowing the ongoing torture &amp; persecution of #JulianAssange                                                                                                                                                        \n",
       "19313    EU should punish Vladimir Putin for Alexei Navalny arrest by cutting money flows – official https://t.co/BASRwYgYCB                                                                                                                                                                                                                                           \n",
       "19320    @yung_mung @superwhaleshark @sustinaanfordd Poor Navalny not being truly cared for by his spook handlers :(                                                                                                                                                                                                                                                   \n",
       "19438    Wow!! Freedom for Navalny! #FreeNavalnay #Navalny https://t.co/szRAwZRvBR                                                                                                                                                                                                                                                                                     \n",
       "19509    @MarisePayne @navalny \"Release Mr Navalny immediately\"!\\nYou think you're talking to Mauritius?\\n\\nGo and remove him from jail, madam busybody.\\nAll Australia does is parrot US &amp; UK narratives.                                                                                                                                                         \n",
       "19591    @RussianEmbassy The Russian Embassy is having to take the Navalny protests seriously! Unfortunately their diplomacy seems to be based on old USSR claims that it must be the Americans! Sign of decay and desperation when a regime says it's foreign interference.                                                                                           \n",
       "Name: text, dtype: object"
      ]
     },
     "execution_count": 71,
     "metadata": {},
     "output_type": "execute_result"
    }
   ],
   "source": [
    "df['text'][df.LDA_topic ==1][250:300]"
   ]
  },
  {
   "cell_type": "code",
   "execution_count": 46,
   "metadata": {},
   "outputs": [
    {
     "data": {
      "text/plain": [
       "65864    Alexei Navalny’s home makeover show exposes Vladimir Putin on every front | Rowan Moore https://t.co/6AxGkRTot6                                                                                                                                                                                                      \n",
       "66135    @Reuters Navalny is a fucking cunt not a critic                                                                                                                                                                                                                                                                      \n",
       "66365    @badiucao @navalny @pussyrrriot Thanks for the lovely cartoon. Watch a movie about Putin filmed by Navalny and his FBK Foundation. FBK exists on donations from Russians. This film explains the nature of Putin, the source of his wealth. The movie has subtitles https://t.co/fVYiUWOQvs                          \n",
       "66416    Navalny reveals investigation into ‘Putin's Palace’ | DW News https://t.co/7nja2mSFK1 via @YouTube                                                                                                                                                                                                                   \n",
       "66418    @kenzzzooo1 @Blondie03252932 @KARABLEG @McFaul @navalny according to what sources clown ?                                                                                                                                                                                                                            \n",
       "66536    @kazbek @MalcolmNance @McFaul what’s up with this? You say navalny is great and brave. What’s the story? I value your perspective.                                                                                                                                                                                   \n",
       "66543    Made a statement on Navalny supporters arrests: \\n\\nThe actions of the Russian authorities are incompatible with respect for democratic pluralism and basic political freedoms. Most, if not all of those arrested on Saturday could be considered prima facie political prisoners https://t.co/E8csmqBEAl           \n",
       "66572    @washingtonpost Navalny knew what would happen                                                                                                                                                                                                                                                                       \n",
       "66597    @Preobraghenskiy @McFaul Which means Navalny is agent of CIA and that palace in Black Sea if kids hospital. Moron.                                                                                                                                                                                                   \n",
       "66600    @SobolLubov @navalny How long will it take Russia to heal, to rebuild its moral genetic base, after the 74 years of killing all the moral people. How long.                                                                                                                                                          \n",
       "66634    @elonmusk @CodeWisdom Say what do you think about @navalny                                                                                                                                                                                                                                                           \n",
       "66920    Police crack down on Russian protests against jailing of Kremlin foe Navalny https://t.co/nL20nQRVoI                                                                                                                                                                                                                 \n",
       "66950    A police officer has been fired for his video in support for Navalny. The official reason: 'for actions discrediting honor of the police'. https://t.co/PHxyPN16PI                                                                                                                                                   \n",
       "67030    He confirms that #Navalny is the Western Intelligence operation!!👇🏻 https://t.co/GYLpQsaW4n                                                                                                                                                                                                                          \n",
       "67031    Police crack down on Russian protests against jailing of Kremlin foe Navalny https://t.co/0rD79jGdt7                                                                                                                                                                                                                 \n",
       "67082    @nejsnave @mikepreece3 \"Novichok\" isn't radioactive; other nations have been accused of using polonium. \"Novichok\" is said to be \"more lethal than VX\" but neither the Skripals nor Navalny died, despite hours of exposure. And Skripal wasn't a dissident: he was a Putin supporter. https://t.co/9oIvLyvF1K       \n",
       "67177    Police crack down on Russian protests against jailing of Kremlin foe Navalny https://t.co/kQMzKlQELy \\nhttps://t.co/wvBuSrHGYU                                                                                                                                                                                       \n",
       "67185    Isn't it interesting how @BBCNews relentlessly report on Alexei Navalny - yet refuses to report on #JulianAssange - an innocent man still detailed by #ToryScum #ToryCorruption https://t.co/7LjqfdqcTb                                                                                                              \n",
       "67236    @Raidin_Blue @ProgressCanada_ we need more context besides the crypto-con Navalny.                                                                                                                                                                                                                                   \n",
       "67637    Seen in Dublin #Navalny https://t.co/220PJa8bna                                                                                                                                                                                                                                                                      \n",
       "67643    Navalny reveals investigation into ‘Putin's Palace’ | DW News\\nhttps://t.co/zjPjuRBKwK                                                                                                                                                                                                                               \n",
       "67662    @McFaul Free elections - is when Trump gets blocked on Twitter?\\nFree elections are when there are no observers at the polling stations?\\nTrump is accused of having ties to Russia.\\nNavalny is accused of having links with foreign intelligence services.\\nNamely, Michael is a double standard.                  \n",
       "67690    A guy who supported @navalny and asked to fight against corruption, was delivered to police station, according to his mother.  https://t.co/6sY3zPRf6a                                                                                                                                                               \n",
       "67725    REUTERS: Police crack down on Russian protests against jailing of Kremlin foe Navalny https://t.co/eRKGQ3tsO2 @Reuters @reuterspictures #photojournalism #photography                                                                                                                                                \n",
       "67757    @SrdjaPopovic @navalny Anyone who thinks pushing 10 year old kids on to protests is a fight for freedom, he is a fucking idiot. Thats just a bad parenting. Kid should stayed home. Btw, mr. Popović i see your hands as well in this suden protests. You have biten to much for your mouth.                         \n",
       "67775    THE STRAITS TIMES: Over 1,600 Navalny supporters detained https://t.co/E28y1aSW8e @STcom  #photojournalism #photography                                                                                                                                                                                              \n",
       "67790    #Navalny's supporters call on not participating in Sunday protest in #Vladivostok https://t.co/JOPE7rlYLu                                                                                                                                                                                                            \n",
       "67857    Alexei Navalny’s home makeover show exposes Vladimir Putin on every front | Rowan Moore https://t.co/IqObedF1Ql https://t.co/VLVh9kK25k                                                                                                                                                                              \n",
       "68054    Alexey Navalny:\\nOne positive thing to be said:despite widespread protests nearThe Kremlin,unlike UK Police,RiotUnit came only equipped with batons not with electric stun guns,live rounds nor\"Dum-dums\"norPoliceSniper Units-PSYOPStactics learned from Israelis&amp;inNorthern Ireland. PE https://t.co/5ySasX2YeS\n",
       "68270    Got up early today and wrote a blog trying to unpack yesterday demo in #russia\\n\\nHas #navaly started a revolution?\\n\\nhttps://t.co/cyttGXfehu                                                                                                                                                                       \n",
       "Name: text, dtype: object"
      ]
     },
     "execution_count": 46,
     "metadata": {},
     "output_type": "execute_result"
    }
   ],
   "source": [
    "df['text'][df.LDA_topic ==2][900:930] "
   ]
  },
  {
   "cell_type": "code",
   "execution_count": 58,
   "metadata": {},
   "outputs": [
    {
     "data": {
      "text/plain": [
       "33939    @ManuelaSchwesig are you a paid agent of Russia? @navalny                                                                                                                                                                                                                                            \n",
       "34004    Source :\\n\\nhttps://t.co/Xcup299hjx                                                                                                                                                                                                                                                                  \n",
       "34252    Alexei Navalny’s home makeover show exposes Vladimir Putin on every front.\\nFirst Trump, now Putin. https://t.co/lWoQ54ReVK                                                                                                                                                                          \n",
       "34258    Police crack down on Russian protests against jailing of Kremlin foe Navalny https://t.co/SgjCKKUf8m                                                                                                                                                                                                 \n",
       "34277    @adnan73_siddiqi PMLN is really submissive. They must look and learn something from Navalny's supporters in Russia.                                                                                                                                                                                  \n",
       "34350    @philippgs @JayCourt4 @DavidCornDC @FemzForever @navalny This person is exaggerating ON PURPOSE a marked tendency of trump to obeisance to Putin and his refusal to stand up to him.\\n\\nHis authoritarian approach - given his love for Putin - influenced what got him canned.                      \n",
       "34375    Mass protests got Alexei Navalny released from prison once. He may not be so lucky this time.  https://t.co/bM9dYkbVZJ via @slate                                                                                                                                                                    \n",
       "34423    Lol here we go again. Kremlin lying and denying the Putin’s multi billion  dollar palace existence. It’s like saying we didn’t poison and lock up navalny. We didn’t occupy Crimea, Donbas, Georgia and Armenia. https://t.co/5qh1MBl1gW                                                             \n",
       "34427    Pole Dancing And Fancy Toilet Brushes: Millions Watch Navalny Video On 'Putin Palace' https://t.co/Hk51DaPhnA                                                                                                                                                                                        \n",
       "34610    Navalny’s video “Putin's palace” grabs attention of millions https://t.co/PYXH3dvbhI                                                                                                                                                                                                                 \n",
       "34617    @RETEU3 Navalny (and his wife) are very brave, but this report exposes not only the scale of Putin's corruption but also the labyrinthine methods used to cover his tracks (in particular, his many \"wallets\"). Killing him would serve no purpose - the cat's out the bag.                          \n",
       "34699    \"Putin does not have a palace in Gelendzhik.\" After years of trying to ignore Navalny, Putin's spokesman comes on prime-time state TV tonight to deny last week's Navalny investigation — now with 81 million views on YouTube. https://t.co/8HXglqs8Zb                                              \n",
       "34709    Just watched Navalny's Putin's Palace.  It's the most comprehensive takedown of a politician I've ever seen.\\nhttps://t.co/UZDkEsycHc                                                                                                                                                                \n",
       "34750    @McFaul @Russian_Starr I’d love to see Navalny campaign on retroceding Crimea. Would be the shortest campaign in Russian political history. You are in such a State of Delusion, clearly having No grasp of Russian strategic tenets.                                                                \n",
       "34879    @Power79646739 Alexei Navalny’s video shows Putin having a palatial mansion in the Black Sea—that’s almost the size of Monaco!🇲🇨.                                                                                                                                                                    \n",
       "34887    @musicwithbob @MwangangiEmily @navalny Dude, my translation is infused with sarcasm and diced with grains of objectivity. In all the fairness the case against him is a valid one, he violated the rules of his parole, legally liable and guilty. The Masquerade with liberal clowns is unnecessary.\n",
       "34940    @radosveta_vass @tomdrabowicz for both Borissov and Duda, Navalny's the perfect distraction to divert attention from what's going on domestically...\"playing the Russia card\"...                                                                                                                     \n",
       "35006    Russian police violence under review after mass arrests at Navalny protests https://t.co/8S3OfKJNYH                                                                                                                                                                                                  \n",
       "35164    @ASLuhn @mathewi @navalny @fbkinfo And no solar panels? Yuck.                                                                                                                                                                                                                                        \n",
       "35294    @cjckem @McFaul @navalny What is Navalny in jail for?                                                                                                                                                                                                                                                \n",
       "Name: text, dtype: object"
      ]
     },
     "execution_count": 58,
     "metadata": {},
     "output_type": "execute_result"
    }
   ],
   "source": [
    "df['text'][df.LDA_topic ==2][46\n",
    "                             0:480] "
   ]
  },
  {
   "cell_type": "code",
   "execution_count": 42,
   "metadata": {},
   "outputs": [
    {
     "data": {
      "text/plain": [
       "7412    Where is the evidence, @navalny ?\\nThe only way to make mountains of money with material that disappears is either that the material never existed or that it existed and was sold twice. https://t.co/EGAmPGznX2                                                                             \n",
       "7415    @newtgingrich it shows how delusional you are that you think Trump is Navalny - that's the best new year joke. Imprisoning Hitler did not deepen the divide in Germany in 1945 .....                                                                                                          \n",
       "7416    @RussianEmbassy It was a professionally attempted hit on Navalny.  There, I fixed it for you.  I guess I’l novichok it up to Russian propaganda.                                                                                                                                              \n",
       "7448    @newtgingrich Shouldn't you be colonizing the moon?🤪🤪🤪\\nIt's laughable that you're comparing Putin's former puppet who wanted to overturn the election he lost by a landslide to Alexei Navalny, who wants to end Putin's dictatorship.\\n#NewtGingrichIsAFuckingMoron\\nhttps://t.co/ldjQJJ9c1X\n",
       "7449    @JohnCornyn When Navalny was poisoned, Trump was president. Why didn't you ask for Trump to hold Russia accountable? \\n\\nThe hypocrisy is stunning.                                                                                                                                           \n",
       "7483    @newtgingrich How in any scenario is Trump Navalny? Trump is obviously Putin.                                                                                                                                                                                                                 \n",
       "7485    @ananavarro @newtgingrich Gingrich is an older, chunkier male version of Ann Coulter. He is reduced now to provocation for attention. He has not added anything relevant to the political conversation in this country since the 90's. Comparing Trump to Navalny is nonsensical.             \n",
       "7504    @newtgingrich Only in your really warped mind could you EVER compare Trump with Navalny!                                                                                                                                                                                                      \n",
       "7532    @newtgingrich Youre WAY off comparing the dictator trump to Navalny. He's Putin's pup through and through                                                                                                                                                                                     \n",
       "7545    Hasn’t Putin tried to kill Navalny several times including recently and didn’t Trump try to have a bunch of congresspeople murdered earlier this month https://t.co/Coe72Ezs3B                                                                                                                \n",
       "7547    @newtgingrich I find it offensive that you think Trump is at all like Navalny. \\n\\nClearly he is much more like Agamemnon or Leonidas. Maybe Aragorn.  \\n\\n🙄🙄🙄                                                                                                                                \n",
       "7600    @Husserl4149 @johnpilger Have you considered that many more people have not supported Navalny? To most ordinary Russians he is not the 'opposition' but a joke. They remember the last western backed guy - yeltsin....who appointed Putin.                                                   \n",
       "7616    yeah because navalny is gay and owned by spooks like you https://t.co/ZHU8SCoLJn                                                                                                                                                                                                              \n",
       "7621    @newtgingrich In this analogy, Putin would be trump and Navalny would be @staceyabrams .                                                                                                                                                                                                      \n",
       "7637    @newtgingrich Again, a Republican who cannot do analogy.\\n\\nTrump is not pro-democracy, thus he can never be an analog to Navalny. Good lord, man.\\n\\nHolding someone accountable for his actual actions, his actual crimes, is not making him a \"martyr.\"\\n\\nNo one is above the law.        \n",
       "7640    @ParlayPrudence @JovanHPulitzer Russia doesn't look much better! #Iam @navalny                                                                                                                                                                                                                \n",
       "7646    Putin and his ruling élite had hoped to crush Alexey Navalny once and for all. Having failed to do so, they won’t be able to easily rid themselves of Navalny the individual, nor the discontent and frustration that he galvanizes. https://t.co/368KeayjpG                                  \n",
       "7658    @newtgingrich Trump will NEVER be Navalny. He’s a decent human being who wants better for Russian ppl. Trumped Putin. How many ppl did he kill while he was in power.                                                                                                                         \n",
       "7675    Let the people rise. Whether they get a spark from @navalny or @pussyrrriot or Mother Theresa or Ghandi. Someone has to keep the spark going. We can fix the lighting later.                                                                                                                  \n",
       "7676    @Bagholio @TheRealHoarse @newtgingrich Trump kowtowed to Putin his entire presidency. In NO way does 45 compare to Navalny. We shouldn't think inside conspiracy theorists' bubbles--why on Earth would we buy into these flat earthers' nuttiness?                                           \n",
       "Name: text, dtype: object"
      ]
     },
     "execution_count": 42,
     "metadata": {},
     "output_type": "execute_result"
    }
   ],
   "source": [
    "df['text'][df.LDA_topic ==3][700] "
   ]
  },
  {
   "cell_type": "code",
   "execution_count": 67,
   "metadata": {},
   "outputs": [
    {
     "data": {
      "text/plain": [
       "82578    Pro-Navalny Protests Sweep Russia in Challenge to Putin https://t.co/Tq0pWjHDVX                                                                                                                                                                                                                                                                          \n",
       "82715    Russia accuses US diplomats of publishing Navalny rally routes https://t.co/b0l9Ctz84F                                                                                                                                                                                                                                                                   \n",
       "82716    Russia: Police detain thousands at pro-Navalny protests https://t.co/ihPq990HaR                                                                                                                                                                                                                                                                          \n",
       "82795    Pinoys in Moscow advised to avoid crowds amid pro-Navalny protests https://t.co/rfAIjEmA0j                                                                                                                                                                                                                                                               \n",
       "82874    Navalny is CIA. Prove me wrong.                                                                                                                                                                                                                                                                                                                          \n",
       "82985    @greggpsmith @steven_pifer @VentingOne #Navalny protesters didn’t ask for permits to rally in public places. Is this how it works in our #Democracy, no permits for rallies?At the same time, US Embassy in RU basically informs ppl where gatherings will be held. I don’t recall RU embassy sending ppl to #DC &amp; #USCapitol https://t.co/TrHcJ0B2bE\n",
       "83321    West probably sent Navalny back to Russia to cause chaos there. https://t.co/wNIVu6v2YZ                                                                                                                                                                                                                                                                  \n",
       "83365    Release all prisoners of conscience!\\n#Russia \\n#Navalny https://t.co/dEUnf5m2nF                                                                                                                                                                                                                                                                         \n",
       "83438    @andraydomise This article explains Navalny’s white nationalist history: https://t.co/llxlglp68B                                                                                                                                                                                                                                                         \n",
       "83525    ...Alexei Navalny must be released from imprisonment in Russia immediately.  Fair election in Russia must prevail.                                                                                                                                                                                                                                       \n",
       "83637    @andraydomise Doesn't Navalny seem like a CIA asset or am I being crazy                                                                                                                                                                                                                                                                                  \n",
       "83850    'The problem is Putin': protesters throng Russia's streets to support jailed Navalny https://t.co/bUfc4xiYov                                                                                                                                                                                                                                             \n",
       "83890    US demands release of Navalny after Russia cracks down on protests. More than 2,000 of his supporters detained after attending peaceful rallies in some of the largest nationwide protests in years https://t.co/Z6FaJrTWy7 via @FT #AlexeiNavalny #JoeBiden #VladimirPutin #RuleOfLaw                                                                   \n",
       "83963    @McFaul @edgarmanuel @navalny Yes.  Dictators don't usually do free and fair elections.  That is why they are dictators.                                                                                                                                                                                                                                 \n",
       "83974    BBC News - In pictures: Tens of thousands gather for pro-#Navalny protests - #Russia \\nhttps://t.co/Ob25yK7MMg                                                                                                                                                                                                                                           \n",
       "84089    'The problem is Putin': protesters throng Russia's streets to support jailed Navalny https://t.co/Wqd85wy6cP                                                                                                                                                                                                                                             \n",
       "84139    Pro-Navalny Protests Sweep Russia in Challenge to Putin https://t.co/IhmtFWOyCO by @nytimes                                                                                                                                                                                                                                                              \n",
       "84170    @SWasserlos CIA is behind this insurrection, Navalny is a known CIA paid traitor.                                                                                                                                                                                                                                                                        \n",
       "84209    Pro-Navalny Protests Sweep Russia in Challenge to Putin https://t.co/SpAP6hh0jE                                                                                                                                                                                                                                                                          \n",
       "84224    @ProgressCanada_ Navalny is a nationalist with ties to neo-nazi groups, with extreme xenophobic and anti-immigrant rhetoric; such as referring to immigrants and Muslims, as “cockroaches that should be exterminated”... you can mutually not like Putin and not defend Navalny...                                                                      \n",
       "84312    @patriciaspendl1 @steven_pifer @John_Scotus cry about this:\\n\\nNavalny is a ultra right nationalist who walked at the russian marches. \\n\\nhere is how he wants to handle refugees:\\nhttps://t.co/vLZ18MRECR\\n\\nPeople are so stupid and uninformed these day's...\\n\\nanyway...dont support Nazis...ever ! https://t.co/ygwLlgzC9r                       \n",
       "84366    @rtvslo Who pays him, for whom he works, and why does he point the finger at others?\\nRussia: Kremlin spokesperson Peskov says CIA works with Navalny\\n•Oct 2, 2020\\nhttps://t.co/DhnoqLh117                                                                                                                                                             \n",
       "84386    Who pays him, for whom he works, and why does he point the finger at others?\\nRussia: Kremlin spokesperson Peskov says CIA works with Navalny\\n•Oct 2, 2020\\nhttps://t.co/DhnoqLh117                                                                                                                                                                     \n",
       "84441    @Vladimi82222415 Thanks!\\nTimeline 2014-21 \\nPutin didn't rescue Donbass: the West criticised Putin for the opposite. \\nAusterity, the Elections &amp; Constitutional referendum: the West accused Putin of poisoning Skripals, Navalny - the same tactics. \\nAfter his ratings rise, the West stops bashing him.                                        \n",
       "84492    Corrupt leadership means ordinary #Russian people have been left behind in #TheGlobalRace, and this will only get worse as the World transitions away from #FossilFuels. #Navalny offers the real chance for change https://t.co/aFOVcKVnpN                                                                                                              \n",
       "84601    There is somebody in the office now: 'US demands release of Navalny after Russia cracks down on protests - https://t.co/l6YI0AAAPY via @FT                                                                                                                                                                                                               \n",
       "84743    https://t.co/Nz9HZj0UV4 Russia: Police detain thousands at pro-Navalny protests                                                                                                                                                                                                                                                                          \n",
       "84918    \"US demands release of @navalny after #Russia cracks down on protests.\"  Rebuking of #Kremlin over Navalny arrest may help protect @JoeBiden from  conservative criticisms for extending New START strategc arms treaty w/o new Russian concessions https://t.co/ys13ORF7rm via @FT                                                                      \n",
       "84970    Well, well, well...the Russian people deserve better than Putin.\\n\\nThe New York Times: Pro-Navalny Protests Sweep Russia in Challenge to Putin.\\nhttps://t.co/lQ2tZvHcvd\\n\\nvia @GoogleNews                                                                                                                                                             \n",
       "85177    @McFaul @navalny Can you please comment on Navalny himself? Is he an anti-Muslim white nationalist?                                                                                                                                                                                                                                                      \n",
       "85226    @cheezuzcrust @meduza_en @navalny I'm glad. Take care. ❤️                                                                                                                                                                                                                                                                                                \n",
       "85308    A massive protest calling for the release of Russian opposition activist Alexey Navalny, in St Petersburg, Russia https://t.co/ARrmlB0vUz                                                                                                                                                                                                                \n",
       "85343    Russia: Police detain thousands at pro-Navalny protests https://t.co/DNY9GMluYt                                                                                                                                                                                                                                                                          \n",
       "Name: text, dtype: object"
      ]
     },
     "execution_count": 67,
     "metadata": {},
     "output_type": "execute_result"
    }
   ],
   "source": [
    "df['text'][df.LDA_topic ==4][1000:1050] # mixed views on Navalny"
   ]
  },
  {
   "cell_type": "code",
   "execution_count": 66,
   "metadata": {},
   "outputs": [
    {
     "data": {
      "text/plain": [
       "82578    Pro-Navalny Protests Sweep Russia in Challenge to Putin https://t.co/Tq0pWjHDVX                                                                                                                                                                                                                                                                          \n",
       "82715    Russia accuses US diplomats of publishing Navalny rally routes https://t.co/b0l9Ctz84F                                                                                                                                                                                                                                                                   \n",
       "82716    Russia: Police detain thousands at pro-Navalny protests https://t.co/ihPq990HaR                                                                                                                                                                                                                                                                          \n",
       "82795    Pinoys in Moscow advised to avoid crowds amid pro-Navalny protests https://t.co/rfAIjEmA0j                                                                                                                                                                                                                                                               \n",
       "82874    Navalny is CIA. Prove me wrong.                                                                                                                                                                                                                                                                                                                          \n",
       "82985    @greggpsmith @steven_pifer @VentingOne #Navalny protesters didn’t ask for permits to rally in public places. Is this how it works in our #Democracy, no permits for rallies?At the same time, US Embassy in RU basically informs ppl where gatherings will be held. I don’t recall RU embassy sending ppl to #DC &amp; #USCapitol https://t.co/TrHcJ0B2bE\n",
       "83321    West probably sent Navalny back to Russia to cause chaos there. https://t.co/wNIVu6v2YZ                                                                                                                                                                                                                                                                  \n",
       "83365    Release all prisoners of conscience!\\n#Russia \\n#Navalny https://t.co/dEUnf5m2nF                                                                                                                                                                                                                                                                         \n",
       "83438    @andraydomise This article explains Navalny’s white nationalist history: https://t.co/llxlglp68B                                                                                                                                                                                                                                                         \n",
       "83525    ...Alexei Navalny must be released from imprisonment in Russia immediately.  Fair election in Russia must prevail.                                                                                                                                                                                                                                       \n",
       "83637    @andraydomise Doesn't Navalny seem like a CIA asset or am I being crazy                                                                                                                                                                                                                                                                                  \n",
       "83850    'The problem is Putin': protesters throng Russia's streets to support jailed Navalny https://t.co/bUfc4xiYov                                                                                                                                                                                                                                             \n",
       "83890    US demands release of Navalny after Russia cracks down on protests. More than 2,000 of his supporters detained after attending peaceful rallies in some of the largest nationwide protests in years https://t.co/Z6FaJrTWy7 via @FT #AlexeiNavalny #JoeBiden #VladimirPutin #RuleOfLaw                                                                   \n",
       "83963    @McFaul @edgarmanuel @navalny Yes.  Dictators don't usually do free and fair elections.  That is why they are dictators.                                                                                                                                                                                                                                 \n",
       "83974    BBC News - In pictures: Tens of thousands gather for pro-#Navalny protests - #Russia \\nhttps://t.co/Ob25yK7MMg                                                                                                                                                                                                                                           \n",
       "84089    'The problem is Putin': protesters throng Russia's streets to support jailed Navalny https://t.co/Wqd85wy6cP                                                                                                                                                                                                                                             \n",
       "84139    Pro-Navalny Protests Sweep Russia in Challenge to Putin https://t.co/IhmtFWOyCO by @nytimes                                                                                                                                                                                                                                                              \n",
       "84170    @SWasserlos CIA is behind this insurrection, Navalny is a known CIA paid traitor.                                                                                                                                                                                                                                                                        \n",
       "84209    Pro-Navalny Protests Sweep Russia in Challenge to Putin https://t.co/SpAP6hh0jE                                                                                                                                                                                                                                                                          \n",
       "84224    @ProgressCanada_ Navalny is a nationalist with ties to neo-nazi groups, with extreme xenophobic and anti-immigrant rhetoric; such as referring to immigrants and Muslims, as “cockroaches that should be exterminated”... you can mutually not like Putin and not defend Navalny...                                                                      \n",
       "84312    @patriciaspendl1 @steven_pifer @John_Scotus cry about this:\\n\\nNavalny is a ultra right nationalist who walked at the russian marches. \\n\\nhere is how he wants to handle refugees:\\nhttps://t.co/vLZ18MRECR\\n\\nPeople are so stupid and uninformed these day's...\\n\\nanyway...dont support Nazis...ever ! https://t.co/ygwLlgzC9r                       \n",
       "84366    @rtvslo Who pays him, for whom he works, and why does he point the finger at others?\\nRussia: Kremlin spokesperson Peskov says CIA works with Navalny\\n•Oct 2, 2020\\nhttps://t.co/DhnoqLh117                                                                                                                                                             \n",
       "84386    Who pays him, for whom he works, and why does he point the finger at others?\\nRussia: Kremlin spokesperson Peskov says CIA works with Navalny\\n•Oct 2, 2020\\nhttps://t.co/DhnoqLh117                                                                                                                                                                     \n",
       "84441    @Vladimi82222415 Thanks!\\nTimeline 2014-21 \\nPutin didn't rescue Donbass: the West criticised Putin for the opposite. \\nAusterity, the Elections &amp; Constitutional referendum: the West accused Putin of poisoning Skripals, Navalny - the same tactics. \\nAfter his ratings rise, the West stops bashing him.                                        \n",
       "84492    Corrupt leadership means ordinary #Russian people have been left behind in #TheGlobalRace, and this will only get worse as the World transitions away from #FossilFuels. #Navalny offers the real chance for change https://t.co/aFOVcKVnpN                                                                                                              \n",
       "84601    There is somebody in the office now: 'US demands release of Navalny after Russia cracks down on protests - https://t.co/l6YI0AAAPY via @FT                                                                                                                                                                                                               \n",
       "84743    https://t.co/Nz9HZj0UV4 Russia: Police detain thousands at pro-Navalny protests                                                                                                                                                                                                                                                                          \n",
       "84918    \"US demands release of @navalny after #Russia cracks down on protests.\"  Rebuking of #Kremlin over Navalny arrest may help protect @JoeBiden from  conservative criticisms for extending New START strategc arms treaty w/o new Russian concessions https://t.co/ys13ORF7rm via @FT                                                                      \n",
       "84970    Well, well, well...the Russian people deserve better than Putin.\\n\\nThe New York Times: Pro-Navalny Protests Sweep Russia in Challenge to Putin.\\nhttps://t.co/lQ2tZvHcvd\\n\\nvia @GoogleNews                                                                                                                                                             \n",
       "85177    @McFaul @navalny Can you please comment on Navalny himself? Is he an anti-Muslim white nationalist?                                                                                                                                                                                                                                                      \n",
       "85226    @cheezuzcrust @meduza_en @navalny I'm glad. Take care. ❤️                                                                                                                                                                                                                                                                                                \n",
       "85308    A massive protest calling for the release of Russian opposition activist Alexey Navalny, in St Petersburg, Russia https://t.co/ARrmlB0vUz                                                                                                                                                                                                                \n",
       "85343    Russia: Police detain thousands at pro-Navalny protests https://t.co/DNY9GMluYt                                                                                                                                                                                                                                                                          \n",
       "Name: text, dtype: object"
      ]
     },
     "execution_count": 66,
     "metadata": {},
     "output_type": "execute_result"
    }
   ],
   "source": [
    "df['text'][df.LDA_topic ==4][1000:1050] # mixed views on Navalny"
   ]
  },
  {
   "cell_type": "code",
   "execution_count": 75,
   "metadata": {},
   "outputs": [
    {
     "data": {
      "text/plain": [
       "26918    https://t.co/di8JUbGvSA\\n\\nchinese russian alliance. things are moving fast                                                                                                                                                                                                                                                                                            \n",
       "26982    @brianjtrautman @johncusack @artemiypanarin freedom for Navalny but also freedom from Navalny, Russia deserves better than both him and Putin                                                                                                                                                                                                                          \n",
       "27073    @LouiseMensch @navalny Pretty bold of them to admit the #Navalny case is fake though. Novel approach.                                                                                                                                                                                                                                                                  \n",
       "27140    .@ClareDalyMEP discusses European Arrest Warrants and Julian #Assange, while @wallacemick  believes he has more support in #Ireland than Alexander Navalny has in #Russia and therefore the #EU should back Wallace to run Ireland\\n Check it out here: https://t.co/miGJglfsCW                                                                                        \n",
       "27173    @LouiseMensch @navalny Then why arrest him and his wife?                                                                                                                                                                                                                                                                                                               \n",
       "27175    @Saleksashenko @anders_aslund @navalny @ABlinken @jakejsullivan @AKendallTaylor Those sanctions are really having a great influence on Putins actions . Those sanctions are only hurting Russian society and infuriate Russian as threats and giving more support to Putin.Navalny is seen as a USA tool . But right now Navalny is playing Putin perfect USA STAY AWAY\n",
       "27209    @RussianEmbassy Actually the Russian population , #Navalny and the world wants to  interfere into the internal affairs of Putin's inner circle                                                                                                                                                                                                                         \n",
       "27216    EU should punish Putin for Navalny arrest by cutting money flows: Germany's Weber https://t.co/PV0yzcLILP https://t.co/F86y7vB7Qj                                                                                                                                                                                                                                      \n",
       "27251    Julian Assange has done way more to help Americans than Alexei Navalny has ever done ( his help for Americans is nothing actually)\\n\\nFree Julian Assange                                                                                                                                                                                                              \n",
       "27438    @LouiseMensch @navalny The Russian State has absolutely no sense or irony. We see you!                                                                                                                                                                                                                                                                                 \n",
       "27461    @rory20s @McFaul @navalny It's hard to get accurate information from a mafia state; Putin's favorability is likely below 50%.                                                                                                                                                                                                                                          \n",
       "27469    @anders_aslund @McFaul @navalny @ABlinken @jakejsullivan @AKendallTaylor navalny alive, hashkudzhi is dead. sanctions agains russia, no sanctions against saudi arabia. no sanctions against israel for illegal settlements. american democracy, greed, double standards.                                                                                              \n",
       "27551    @anders_aslund @McFaul @navalny @ABlinken @jakejsullivan @AKendallTaylor And you don't usually show proof?Why do you have to come up with reasons? Just announce all the sanctions and don't fool people with the reasons!                                                                                                                                             \n",
       "27563    @LouiseMensch @navalny Hi, US #Intelligence, please check the actions of the Russian FSB GRU , Ukrainian SBU, German BND and MI5 MI6 (Boris ) special services! They all work together secretly for the money laundering with criminal community in Europe and in Russia!                                                                                              \n",
       "27572    @LouiseMensch @navalny I can't read the words but it sounds like Darren McCain swear words from A Christmas Story.                                                                                                                                                                                                                                                     \n",
       "27666    @newtgingrich Absurd to even mention Navalny in the same breath as Trump...at no time did Trump show one iota of strength of character as Navalny                                                                                                                                                                                                                      \n",
       "27707    Ukraine's denunciation of Navalny's detention is somewhat shallow when it fails to adequately engage with asylum claims lodged by his supporters - worthy long read from @zaborona_media on this issue, as well as Ukraine's wider dysfunctional asylum system https://t.co/HKH8Hn1lFq                                                                                 \n",
       "27729    Navalny and Trump?  At some point Newt will actually say something that makes sense, right?  Doesn’t he claim to be a serious historian and/or thinker.... https://t.co/xZiGsjWaEz                                                                                                                                                                                     \n",
       "27757    @LouiseMensch @navalny probably more than that is a Pavlov stimulus &amp; response action 😥                                                                                                                                                                                                                                                                            \n",
       "27826    This long and detail-oriented CNN story about the Navalny investigation contains links to three CNN stories -- but no links of any kind to the website for the Navalny investigation (https://t.co/PtMk5cEUKR) https://t.co/fjvYA2vP2c                                                                                                                                 \n",
       "27868    7) If Navalny is being prepared for power by the Criminal Politburo around Putin, who are looking to remove him before they lose more of their money because he is not acceptable to the West, there would be no real changes to the operation of the Mafia State, only cosmetic ones.                                                                                 \n",
       "27869    6) If this were the case, it would explain why Navalny's narratives are populist ones, as per Trump, based on Xenophobia, racism, nationalism and \"Russia for Russians\" slogan, because this is highly popular in Russia                                                                                                                                               \n",
       "27873    3) Navalny's focus on \"corruption\" is suspect.  \"Corruption\" is something he presents as \" bad apples in an otherwise functioning system\". This is not the case in Russia. \"Corruption\" is an endemic ingrained underlying part of the Russian Mafia State.                                                                                                            \n",
       "27874    2) for Russians\".  In this they are close to Trump and no different from each other. Navalny's racism is well-documents, his support for the Russian invasion of Crimea etc.  Why the focus only on corruption and never any disagreement with Putin's war crimes etc?                                                                                                 \n",
       "28024    #russia just fucked themselves w/ #Navalny arrest\\n📌EU lawmakers passed a resolution calling for the bloc to stop the completion of the Nord Stream 2 gas pipeline due to Navalny arrest\\n\\n#oil #energy #naturalgas #investing #investments #emergingmarkets $RUB https://t.co/HsT18zMeEd                                                                             \n",
       "28109    @anders_aslund @McFaul @navalny @ABlinken @jakejsullivan @AKendallTaylor The US government has been pursuing Julian Assange for many years.  The US authorities want him dead just because he told the world about the government's dirty games.  This is a shame for democracy around the world.  Where are the sanctions? #FreeAssange                               \n",
       "28118    @afrosabi The remaining Russian Jews left the soviet at the fall of the empire by 81. Few Russian Jews remain bc of oppression. I suspect Navalny will not change anything or welcome them back.                                                                                                                                                                       \n",
       "28270    @KremlinRussia_E\\nDear Mr President\\n\"WorldwideRiots=Stop=(Telegram=Nexta=Directions=NoLeaderRiots*)=MI6&amp;CIA&amp;UA$MobHRC(GS$-WEB$-WHG$-BHO,EtAl$-NwsCCN=DestroyUS&amp;POTUS&amp;RF)=ToppleGovts=Steal&gt;$=O&amp;GPipeline(UA&amp;BLR&amp;AZ&amp;ARM&amp;KZ)&amp;RFO&amp;GSupply*\"\\nhttps://t.co/SSDuz8aCIJ\\n*https://t.co/fGgkODSuDj                            \n",
       "28341    @COTURBO @cusesean @SovietSergey @Dpol_un @propornot @navalny @RusEmbUSA @RussianEmbassy @mfa_russia No, it is everywhere the same all over the world,  you're just either a little hypocrite or delusional.\\nWhich is pretty clear when you call hitting the limbss \"clubbing people in the head\"                                                                     \n",
       "28367    @vicktop55 The Russian response to the Navalny riots was fantastic. I don't take Putin as a chess player, luckily someone else was. Now Americans are researching \"Navalny\", his policies, his YouTube. Now, the West is exposed to what a psycho he is, and how McFaul is promoting him.                                                                              \n",
       "28512    Moscow says US embassy interferes in Russia’s internal affairs over Navalny case https://t.co/6pZ7RjEVxD via @Instapaper                                                                                                                                                                                                                                               \n",
       "28538    That’s kind of my take as well. I can disagree with Navalny on Crimea, but I still think he should have the right not to be novichoked by Putin just for exercising his constitutional rights, rights that Russia itself signed up for in its international committments. https://t.co/IRRGGv06NG                                                                      \n",
       "28552    @anders_aslund @navalny @ABlinken @jakejsullivan @AKendallTaylor The West certainly needs to expand this list by several thousands more corrupted Russian officials, Russian oligarchs and their relatives. Six is the big joke. Isn’t it?                                                                                                                             \n",
       "28581    5) Navalny is the only real political enemy Putin has. Putin's hatred for him is intense and literally murderous. The feeling is quite mutual.\\nPutin is the only politician Trump has staunchly refused to criticize throughout his career and has always made excuses for.                                                                                           \n",
       "28627    Moscow says US embassy interferes in Russia’s internal affairs over Navalny case\\nhttps://t.co/jEgOamvxnO                                                                                                                                                                                                                                                              \n",
       "28687    @thezambologist Well, according to Bryan MacDonald, a pro-Kremlin Irish journalist, Navalny is pro-annexation of Crimea and to the right of Putin.                                                                                                                                                                                                                     \n",
       "28700    @chessninja @AGHamilton29 Problem is that folks like Kasparov are motivating the West by promising that Navalny's foreign policy, were he to replace Putin, would suddeny turn Russia into Belgium.                                                                                                                                                                    \n",
       "28737    @slenn1 @navalny Too fake                                                                                                                                                                                                                                                                                                                                              \n",
       "28753    @anders_aslund @navalny @ABlinken @jakejsullivan @AKendallTaylor That is Test #1 for Biden’s administration. I told you that sometime ago, do you remember? Test #2 is reaction to the most recent cyber attack/hack                                                                                                                                                   \n",
       "28818    Trying to follow global politics in 2021. \\n\\n#USA #Russia #Navalny https://t.co/YjBXkAnGox                                                                                                                                                                                                                                                                            \n",
       "28924    @kevinabosch @navalny @ABlinken @jakejsullivan @AKendallTaylor Of course, Trump likes dictators, especially when they murder opposition people.\\nGood riddance!                                                                                                                                                                                                        \n",
       "28951    @Clancy_1 @mntklprsn62 @ianbremmer @steveliesman @navalny PS I am German in Germany. I just spent a time in Russia because my wife is Russian. I don’t think everything is good in Russia either. There is also a lot of racism there e. g. Navalny is known for his racist slurs.                                                                                     \n",
       "28972    @navalny They forgot to assemble the Abacus. https://t.co/NB7P25ywE4                                                                                                                                                                                                                                                                                                   \n",
       "29042    @MimiLee1968 @JaneLytv @AdamParkhomenko This was triggered by Navalny's arrest. Not so mysterious.                                                                                                                                                                                                                                                                     \n",
       "29049    @POTUS Also this. “hold Putin and his gang accountable: Anyone involved in persecuting Navalny should no longer be welcome in the West. Same with their families. ‘No visas. No shopping. No holidays. No bank accounts. No investments.’”  https://t.co/6mkAFxZCr3                                                                                                    \n",
       "29180    Remember, the EU sanctioned 6 top Russian officials over @navalny's poisoning. Trump did nothing, not even condemning it.\\nJan 25: EU is likely to impose new sanctions on Russia over Navalny's arrest.\\nThe US has some catch up to do...\\n@ABlinken @jakejsullivan @AKendallTaylor                                                                                  \n",
       "29225    @SenRonJohnson @navalny Hypocrisy at its finest. https://t.co/nFKxtCTYrV                                                                                                                                                                                                                                                                                               \n",
       "29234    From the NYT, 2011. Putin may be bad but Navalny is worse. Don't trust what you see on TV, kids. This guy is a monster. https://t.co/lISa6ZaoC8                                                                                                                                                                                                                        \n",
       "29302    I see the CIA was at it in Russia again for Navalny \\n\\nUSA Embassy orginising protests \\n\\nRussia should do it in the USA also see what they say\\n\\nhow about we do it for Julian Assange and he did nothing                                                                                                                                                          \n",
       "29336    @caitiedelaney Apparently it takes time to reprogram the bots. The Russians are a little tied up with Navalny protests.                                                                                                                                                                                                                                                \n",
       "Name: text, dtype: object"
      ]
     },
     "execution_count": 75,
     "metadata": {},
     "output_type": "execute_result"
    }
   ],
   "source": [
    "df['text'][df.LDA_topic ==1][400:450]  # topic 1 references to controversial aspects of Navalny? "
   ]
  },
  {
   "cell_type": "code",
   "execution_count": 78,
   "metadata": {},
   "outputs": [
    {
     "data": {
      "text/plain": [
       "36365    @aaron_schwa @kvoneggert Regardless of foreign policy, Russia under Navalny would have a dramatically different relationship with western capital, yes? And this, in turn, would change internal power dynamics between various classes/interests?                                                                \n",
       "36584    @ItsMutai Kremlin is unshakable , Navalny is a West puppet                                                                                                                                                                                                                                                        \n",
       "36586    The west-supported and celebrated Pashinyan and his team in Armenia has been another failure, both in terms of diminishing liberal democracy and emboldening cultural fascism, as well as destabilizing the entire region. Save the lesson for Russia and Navalny 😉 https://t.co/Bjj3UD2kFa                       \n",
       "36611    A very good analysis of yesterday’s protests. I also had no idea about the Mordashov story. \\n\\nhttps://t.co/d62QxX2JZj                                                                                                                                                                                           \n",
       "36683    In Aleksei Navalny Protests, Russia Faces Biggest Dissent in Years https://t.co/UK7GAGpIs4                                                                                                                                                                                                                        \n",
       "36818    Thought that occurred to me about Navalny not giving Crimea back to Ukraine, a lot of you also miss the fact that the most powerful non-Palestinian opposition in Israel absolutely refuses to ever give up the Golan Heights, Gaza siege, or the West Bank settlements.                                          \n",
       "37007    @seventiesicon Is that navalny’s documentary? Ive read about it                                                                                                                                                                                                                                                   \n",
       "37039    #Moscow_1/23/2021#Navalny#Amazing russian girls of Moscow protests https://t.co/5k03n8MTZM                                                                                                                                                                                                                        \n",
       "37188    Sharing this because the western media won't.  Far from being the fearless freedom fighter American liberals make him out to be, Navalny is a hardline Russian nationalist with ties to far-right xenophobic groups, including neo-fascists.\\nhttps://t.co/ESXkkDas1M                                             \n",
       "37376    Anti-Kremlin demonstrations break out across Russia https://t.co/98bmuToQiV via @MailOnline                                                                                                                                                                                                                       \n",
       "37619    Navalny, my hero These days ✊  \\n\\nhttps://t.co/56bTR6MOLk                                                                                                                                                                                                                                                        \n",
       "37629    As a friend of mine just remarked on elsewhere, Navalny’s views are consistent with mainstream 🇷🇺 ideas about race, nation, and ethnicity. They’re certainly not more nationalist than the Putin regime. &lt;1/2&gt;                                                                                              \n",
       "37636    Great @navalny is equivalent to the great Indian Counterpart                                                                                                                                                                                                                                                      \n",
       "37700    EU should punish Vladimir Putin for Alexei Navalny arrest by cutting money flows – official https://t.co/jrOvNObQDb                                                                                                                                                                                               \n",
       "37741    In Aleksei Navalny Protests, Russia Faces Biggest Dissent in Years https://t.co/xxD01CTmuc                                                                                                                                                                                                                        \n",
       "37774    🚨📢 @navalny message to the World \\n\\n#cdnpoli #abpoli #onpolin https://t.co/H21AAdx4PO                                                                                                                                                                                                                            \n",
       "37837    Kremlin accuses Biden administration of interfering in Russia's \"domestic affairs\" amid #Navalny protests that erupted yesterday\\n\\nThe Chinese puppet in Oval will revive the Arms Lobby in no time\\n\\n#AlexeiNavalny #BidenNotMyPresident #ChinaLiedMillionsDied #ChineseVirus                                  \n",
       "37897    EU should punish Putin for Navalny arrest by cutting money flows: Germany's Weber | Reuters https://t.co/dHAC1SGdfF                                                                                                                                                                                               \n",
       "37955    Anti-Kremlin demonstrations break out across Russia https://t.co/648b8bTY4h via @MailOnline                                                                                                                                                                                                                       \n",
       "38042    @hendrikbernau @navalny I wish I could understand her language.                                                                                                                                                                                                                                                   \n",
       "38168    @RussianEmbassy Why did Russia arrest Navalny?\\n\\nWhat's his crime?\\n\\nWhy did you just call it the \"fake\" Navalny case in your tweet?\\n\\nBecause he didn't commit a crime? \\n\\nSo Russia's case against Navalny is fake?\\n\\nArresting Navalny on fake charges was the real \"professionally prepared provocation.\"\n",
       "38188    My own complicated feelings on Navalny aside, its absolutely awesome that more and more Russian people are standing up to their government.                                                                                                                                                                       \n",
       "38254    @AnonMLatTw I don't trust any of them.\\nThey want to shape the narrative between 2 absurd contradictions for which neither side have a solution. Navalny is nothing other than a media construct to hide the true opposition. \\nAnd as far as KPRF &amp; Zyuganov - he's been a fraud since the beginning.        \n",
       "38259    @RussianEmbassy Yes, forget Ockam's Razor. It has to be a Western op because as everyone knows, Russians are completely incapable of spontaneous action of their own accord. Maybe if the Kremlin had an interest in bringing prosperity to the whole country, Navalny wouldn't have an audience.                 \n",
       "38325    @Channel4News Navalny and Assange. Compare and contrast the media coverage or lack of it. One gets a year for embezzlement the other 175 years for doing journalism                                                                                                                                               \n",
       "38381    EU should punish Putin for Navalny arrest by cutting money flows: Germany's Weber https://t.co/V44rFeQUkF                                                                                                                                                                                                         \n",
       "38501    @CER_IanBond Things can change. The level of emotion yesterday seems to have been higher than in recent rounds of protests, which will increase the costs of any Kremlin mistakes. But the broad contours of the standoff seem fundamentally unchanged - pending Navalny’s trial, at least.                       \n",
       "38557    EU should punish Putin for Navalny arrest by cutting money flows: Germany's Weber\\n\\nhttps://t.co/bkYoC7gb5r https://t.co/sN820JDrfB                                                                                                                                                                              \n",
       "38570    @PoliticalGeeker @Reuters If you think Navalny is a friend of the west you are mistaken.                                                                                                                                                                                                                          \n",
       "38571    @Darby70861097 @MarisePayne @navalny Him too!                                                                                                                                                                                                                                                                     \n",
       "38636    @Alyssafarah @navalny Please follow back mam                                                                                                                                                                                                                                                                      \n",
       "38673    @Alyssafarah @navalny Wait.... where was this post when 45 was in office ?                                                                                                                                                                                                                                        \n",
       "38697    EU should punish Putin for Navalny arrest by cutting money flows: German leader https://t.co/wEKlxvshBv                                                                                                                                                                                                           \n",
       "38767    @Alyssafarah @navalny Putin will eat brainless Biden for breakfast 🍳                                                                                                                                                                                                                                              \n",
       "38788    #BREAKING: EU should punish Putin for Navalny arrest by cutting money flows says EPP head                                                                                                                                                                                                                         \n",
       "38815    U.S. condemns Russia's arrests of Navalny protesters https://t.co/6NqOdARJHK via @YahooNews                                                                                                                                                                                                                       \n",
       "38820    🚨NEW: EU should punish Putin for Navalny arrest by cutting money flows says EPP head...@GBNews24_7                                                                                                                                                                                                                \n",
       "38838    Kremlin accuses Biden administration of interfering in Russia's \"domestic affairs\" amid #Navalny protests that erupted yesterday\\n\\nThe Chinese puppet in Oval will revive the Arms Lobby in no time                                                                                                              \n",
       "38947    Apparently Navalny is racist against literal Caucasians? https://t.co/MYBlMzFXJ6                                                                                                                                                                                                                                  \n",
       "39127    @rainraised @Billbrowder @VoiceOfFranky The whole thing has to do with Puton seizing Navalny,  the people (including this kid) protesting against that and Putin's police arresting them. Need a graphic explanation?                                                                                             \n",
       "39130    @RussianEmbassy Love how all the Russian state social media accounts have become the NAVALNY 24/7 accounts.                                                                                                                                                                                                       \n",
       "39230    EU should punish Putin for Navalny arrest by cutting money flows says EPP head https://t.co/TFlxfG3OW4                                                                                                                                                                                                            \n",
       "39245    @WashTimes Yea right Putin when you butt out of our elections and promoting hate in division on our free social media platforms and stop poisoning Russians who disagree with your criminality!  Free Navalny &amp; solidarity to Russian resisters!                                                              \n",
       "39281    Firstly- very pot kettle. Secondly- (someone correct me if I'm wrong) Navalny is an ethnic Russian Nationalist so why would the West prop him up? https://t.co/4TfmecHODv                                                                                                                                         \n",
       "39298    @RickRush19 @RLewisReports \"shills\"? can you point out the connection between the OP and Navalny?\\n\\nI guess it doesn't matter because you like to use buzzwords, like using \"racist\" and \"facist\" interchangeably, when the only connection here is the nationalistic/ethnocentric message                       \n",
       "39325    EU should punish Putin for Navalny arrest by cutting money flows: Germany's Weber https://t.co/W8KzJFPYGr                                                                                                                                                                                                         \n",
       "39334    @markcurtis30 @GeorgeSzamuely Navalny and Assange. Compare and contrast the media coverage or lack of it. One get a year for embezzlement the other 175 years for doing journalism.                                                                                                                               \n",
       "39343    Navalny’s brave return was perfectly timed. Democracy prevailed - Putin’s US Puppet ousted. The Russian people emboldened.  \\n \\nPutin scared. https://t.co/1YV01O1P3i                                                                                                                                            \n",
       "39435    @vonderleyen EU Parliament needs to step forward immediately and punish #Russian regime for violence against #navalnyprotest . #Putin #Germany\\n@EU_Commission\\nWe are tired of stupid two faced bulshit coming out of EU and #Germans. Who’s side you are on NOW ! #Putin or #Navalny ?                          \n",
       "39466    @anders_aslund @RobinLuvsDisney @navalny Incredible!!!                                                                                                                                                                                                                                                            \n",
       "Name: text, dtype: object"
      ]
     },
     "execution_count": 78,
     "metadata": {},
     "output_type": "execute_result"
    }
   ],
   "source": [
    "df['text'][df.LDA_topic ==1][550:600]  "
   ]
  },
  {
   "cell_type": "code",
   "execution_count": 79,
   "metadata": {},
   "outputs": [
    {
     "data": {
      "text/plain": [
       "45895    @ABarbashin but, even as navalny himself told der spiegel, there is very little reason for us to view the KPRF as \"left\" in any real sense                                                                                                                                                                                                                         \n",
       "45991    @DanRather @SusanDFoster1 And the voice of #Navalny .                                                                                                                                                                                                                                                                                                              \n",
       "46044    @McFaul - and Navalny is still sitting in prison and posting on instagram ;-)\\nApparently the new trend is to give detainees a smartphone so that they can keep up with their social networking ;-)\\n\\nAnd still alive.  :-) When Magnitsky and Nemtsov and Politkovskaya are all dead.                                                                            \n",
       "46110    Anger Over Corruption And Navalny's Jailing May Be Redefining Russian Politics https://t.co/iyzS4oozQE                                                                                                                                                                                                                                                             \n",
       "46281    @vivendo_amorosa @DanRather Isn’t Navalny a literal fascist?                                                                                                                                                                                                                                                                                                       \n",
       "46359    @EvergreenOcean @KnorFromDK @KremlinRussia_E @navalny They really get a picture of some terrible political war between Navalny and Putin there :)                                                                                                                                                                                                                  \n",
       "46367    In Aleksei Navalny Protests, Russia Faces Biggest Dissent in Years https://t.co/9C8ZAJJE4G                                                                                                                                                                                                                                                                         \n",
       "46387    @JoyceCatanzari2 @celticmaid4 @ByronA @MarisePayne @navalny Algorithm fixed by Google, FB and govt.                                                                                                                                                                                                                                                                \n",
       "46414    @RepAdamSchiff @navalny Dude you are a Russian spy and you counter park Eric cum swallow is a Chinese spy and we will be pushing to open investigations into you and him                                                                                                                                                                                           \n",
       "46442    @brhodes fangirling Navalny on @PodSaveAmerica as if he’s not an ethno-nationalist was also very odd https://t.co/mE95mNPtdK                                                                                                                                                                                                                                       \n",
       "46501    @MarisePayne @navalny Never heard you asking for the release of the Catalan political prisoners or Assange. Is that hypocrisy on yoyr behalf? #FreeAssangeNOW #FreeCatalanPoliticalPrisoners #SpainIsNotADemocracy                                                                                                                                                 \n",
       "46600    @GeorgeAdamson15 @navalny Agree. There are always many worries, but it is a civil duty for every decent person to support a dissident movement against tyranny.                                                                                                                                                                                                    \n",
       "46611    @SenRubioPress @McKinsey welcome to the long list of companies that are putting profit ahead of social responsibility. \\n\\n@BrisRocher chose to play dirty against @navalny in 2014 to secure the Russian market ( one of the biggest markets for @YvesRocherFR )\\n\\nStill, surprised by pandemics?                                                                \n",
       "46720    @lukeharding1968 @navalny Does it matter that Nalvany is a right wing nationalist and racist? Or the fact that he will align with Western foreign policy renders these unfortunate truths immaterial?                                                                                                                                                              \n",
       "46734    @Molly50006314 I’m agree, but not with Navalny                                                                                                                                                                                                                                                                                                                     \n",
       "46736    @BBCSteveR @sima_kotecha @BBCNews @BBCWorld @AntonChicherov @LizaShuvalova Yes, this is a big story. But aren’t you all missing something? While all this is going on, many of the Western freedoms we value are being lost, leading to other dissidents facing arrest: anti-5G, anti-lockdown etc. Wouldn’t it be interesting to compare Navalny with Assange too?\n",
       "46797    Thread about Navalny\\nYet the folks that want to identify with #BlackLivesMatter at @CapeTalk @CNN @thetimes (just a cross-section) treat him like a hero.He is not.\\nSpoke out against Black immigration.Has he changed his mind? No evidence yet.\\nA Western prop for cold warriors. https://t.co/aQGtrTjfUd                                                     \n",
       "46809    This is gross interference in the domestic affairs of other countries -\\n\\nApplying sanctions in @navalny 's name will only serve to eliminate the dwindling support he has at home -\\n\\n(https://t.co/F2By5o1LYQ)\\n-\\nIt also shows who his primary backers are - https://t.co/GMi9chtn35                                                                         \n",
       "46870    I am deeply concerned by Russian opposition leader Navalny's detention upon landing in Russia. This is another example of Putin's continued assault on democracy and human rights. I look forward to cooperating with the Biden Administration to address Putin's conduct.                                                                                         \n",
       "46916    @KnorFromDK @EvergreenOcean @KremlinRussia_E @navalny Russia has an excellent electoral system, one of the best in the world. And about the poor, not necessary, in the EU 17% of the population below the poverty line. We have about 13%                                                                                                                         \n",
       "47059    @GKvelashvili @navalny Agree but worried about Putin staging diversionary activity.                                                                                                                                                                                                                                                                                \n",
       "47157    @anders_aslund Imagine something like this ever being made under the watchful eyes of the Kremlin. Navalny is a hero in the truest sense of the word.                                                                                                                                                                                                              \n",
       "47158    I will definitely watch Navalny's investigative film about Putler's occupation of Crimea and the aggression in Donbas. It will be interesting to see the names of all those soldiers. And also on the approximate number of losses of Russia during the war of 2014-2020.                                                                                          \n",
       "47180    The timeline:\\n\\n1. Trump gone, Bidan in\\n2. Navalny back in Russia, arrested\\n3. Sleeper cells trigger unrest with Western support\\n4. Police crackdown, as always\\n5. muh human rights, virtue signal by msm\\n6. EU &amp; US announce further sanctions\\n\\nBidan in office for 5 days, efficient                                                                 \n",
       "47220    @SueGreenwald @Dereklowe What I am saying that based on your statements you have no nuanced understanding of Russian politics by associating Navalny with those terms.                                                                                                                                                                                             \n",
       "47368    Rule #1 always blame the West, when people want free and democratic Russia free of mafia, corruption and feudalism. Let’s also blame ex Soviet states for US embassy interference in their internal affairs, every country is guilty except Kremlin. Navalny is locked by US too. https://t.co/7a8kyNlt9D                                                          \n",
       "47372    @GordonDimmack ”In all of the years of Assange’s barbaric detention, there has never been a fraction of the official Western public outcry that has been expressed for Navalny.\\n\\nThat’s because Navalny, unlike Assange, is a political asset for a Western agenda to undermine Russia.““                                                                        \n",
       "47483    'The arrest (and expected imprisonment) of Navalny will make him a political prisoner and become another factor exacerbating Russia’s relations with Western governments and institutions' - writes Maria Domańska.\\n\\nMore ⤵️\\n\\nhttps://t.co/sRzDpgPwKs                                                                                                          \n",
       "47490    @Russian_Starr I appreciate your clarification of Navalny’s racist views. Unfortunately, the Putin regime appears to be equally racist. It’s too bad Russians don’t have other real alternatives. Then again, perhaps both Putin &amp; Navalny reflect a racism that is common among Russian people.                                                               \n",
       "47604    @RussianEmbassy Vlad puts the novichok on his (own) skin and Navalny is freed again 🖕                                                                                                                                                                                                                                                                              \n",
       "47605    @TWP_Videos @Partisangirl @BernardGyorgy No one is taking away Navalny's free speech. But we have the same right and a duty to call him out.                                                                                                                                                                                                                       \n",
       "47654    @notesfrompoland @navalny It’s so ironic how they hate the Russian gov even though they are extremely inspired by them                                                                                                                                                                                                                                             \n",
       "47705    What is also almost not reported about #Navalny are his nationalist leanings, ties to neo-Nazi groups, xenophobic comments and extreme anti-immigrant views. https://t.co/x83pnlMfxH                                                                                                                                                                               \n",
       "47712    U.S. condemns Russia's arrests of Navalny protesters  https://t.co/pi3mjgX6pZ                                                                                                                                                                                                                                                                                      \n",
       "47872    @markmackinnon @navalny if only Assange had it this good in prison .... the hypocrisy of the West is staggering                                                                                                                                                                                                                                                    \n",
       "47908    @margreis9 I hate to imagine what a Russian prison is like, for Alexi Navalny or anyone unfortunate enough to be put in one🥺☹️👀🙏                                                                                                                                                                                                                                   \n",
       "47989    “There is no other peaceful tool for applying pressure to a state that breaks the rules of international law.\"\\n\\n#Poland's president calls on EU to step up sanctions on #Russia in wake of #Navalny's arrest https://t.co/4ba2cnCX5H                                                                                                                             \n",
       "48055    @navalny You are brave and admirable!                                                                                                                                                                                                                                                                                                                              \n",
       "48221    @LukeDCoffey Western media and journalists’ reporting of Navalny should be more nuanced. Only a handful of Russia beat journalists report/mention Navalny’s xenophobic and nationalist past/tendencies. \\n\\nhttps://t.co/bOgDAzZbRK                                                                                                                                \n",
       "48229    How about if we take Navalny and family from Russia in exchange for Russia taking tRUmp and his entire family?                                                                                                                                                                                                                                                     \n",
       "48302    Anger Over Corruption And Navalny's Jailing May Be Redefining Russian Politics https://t.co/E2PrjuataQ                                                                                                                                                                                                                                                             \n",
       "48338    Dissidents Expect Biden to Slam Putin's Russia With Magnitsky Sanctions  #Навальный  https://t.co/SrDj0RDHvf                                                                                                                                                                                                                                                       \n",
       "48389    @MaxAbrahms Integral to the USA 'exceptionalism' narrative is that the USA always acts as a noble character viz. Human Rights, Democracy, etc. Nothing new in the US-Russia and Navalny story.                                                                                                                                                                     \n",
       "48460    @lyndonyatsen I do remember hearing about Navalny being pretty darn racist/palling with neo-nazis\\n\\nthought it was just tankie propaganda                                                                                                                                                                                                                         \n",
       "48486    \"Russian internet regulator said Thursday it was planning to fine major social networks\" (Twitter, Facebook and TikTok) for \"spreading information prohibited by law and aimed at attracting minors to participate in unauthorized mass public events\" - @CNN https://t.co/1FITQZ0XNq                                                                              \n",
       "48492    Social Media Platforms Delete Russian Posts Promoting #Navalny  Protests – State Censor https://t.co/8eaJDHAPqo #navalnyprotests                                                                                                                                                                                                                                   \n",
       "48997    @CraigMurrayOrg “In all of the years of Assange’s barbaric detention, there has never been a fraction of the official Western public outcry that has been expressed for Navalny.\\n\\nThat’s because Navalny, unlike Assange, is a political asset for a Western agenda to undermine Russia.“                                                                        \n",
       "49082    #Russia, @mfa_russia endorses position of @RussianEmbassy calling the #Navalny case \"fake\" and instrumental \"to interfere into internal affairs of our country\" https://t.co/3YWGLaY5Wk                                                                                                                                                                            \n",
       "49317    Duda has urged the EU to step up sanctions against Russia in response to the detention of @navalny.\\n\\n\"The only way to [avoid conflict] is to force international law to be observed. The only way to do this without rifles, cannons and bombs is via sanctions\" https://t.co/BiDTqjBV66                                                                         \n",
       "49402    @RadioFreeTom you’re right, navalny is a disgusting muslim-hating far right reactionary getting politically arrested and george floyd was just some regular guy who was executed for cutting a bad check                                                                                                                                                           \n",
       "Name: text, dtype: object"
      ]
     },
     "execution_count": 79,
     "metadata": {},
     "output_type": "execute_result"
    }
   ],
   "source": [
    "df['text'][df.LDA_topic ==1][700:750]  "
   ]
  },
  {
   "cell_type": "code",
   "execution_count": 80,
   "metadata": {},
   "outputs": [
    {
     "data": {
      "text/plain": [
       "49491    @FadilAliriza @RaniaKhalek @MeshkalTn @Ghaya_BM If you say that Putin is maybe certainly behind the protests or the government you will get it. Russiagate Africa. Europeans, especially Germany and France, have the same interests when propagandize Navalny and hide all the popular uprisings happening in Africa: Imperialism XXI.\n",
       "49509    @p_zalewski @Andrew__Roth Free NAVALNY !!! Thoughts and prayers from USA                                                                                                                                                                                                                                                               \n",
       "49596    @PostOpinions @MaxBoot @AlinejadMasih As Navalny was saying, tech titans must be consistent on their content policies and have a process. Then they could go after spreaders of hate wherever they are: in Iran, US, Israel, Philippines, Russia... Otherwise it’s just opportunistic censorship.                                      \n",
       "49606    I wonder if the current Alexi #Navalny theater is just a mere \"coincidence\" that will lead our #war criminal-in-chief to back up from the negotiations of the last remaining nuclear treaty with #Russia.\\n\\n#NewStartTreaty                                                                                                           \n",
       "49638    If Biden helped get Navalny out, he’d be a hero for emerging democracies around the world and we can start building momentum toward free societies again. https://t.co/HZwrpzSxuz                                                                                                                                                      \n",
       "49686    FREE NAVALNY !!!!!!!!!!! Thoughts and prayers from USA https://t.co/4mSq92QemZ                                                                                                                                                                                                                                                         \n",
       "49691    @k8487k @LukaszAdamskiPL @RadwanAnia @navalny Umm, nope.                                                                                                                                                                                                                                                                               \n",
       "49721    @reaurey @Joyce_Karam As everybody knows, the USA 🇺🇸 is bankrolling Navalny...                                                                                                                                                                                                                                                         \n",
       "49963    Navalny's team calls for more protests. It will be interesting to watch the events. https://t.co/h65QJAO80C                                                                                                                                                                                                                            \n",
       "50057    @CaspianReport Western media is generally a loose alliance of bastards anyway. It'd seem to fit that they wish to spread this shite by putting characters like Navalny on a misplaced pedestal as standard.                                                                                                                            \n",
       "50118    .@RT EU useless scumbags fighting for their existence as they syphon billions from Europeans continue to destroy homogenous\\nroute by illegally, unnecessarily targeting Russia, to detriment of Europe, because of Navalny. EU has nothing to do with Russian\\ninternal affairs! Voetsak!                                             \n",
       "50259    A serious reason Not to be naïve they may assassinate #Navalny! We're dealing with a criminal fascist mafia. A govern organized crime gang funded by #fossilfuels #NordStream2 only's a justification enabling the bloodshed regime even more. STOP $$ PutinPipeline! #CDU #SPD #Nawalny https://t.co/ZMmaWrkTxs                       \n",
       "50263    @ASLuhn @alphacentauriii @navalny @RussianEmbassy The brutality at the heart of Russia needs no excuse to expose itself. Worse is going on beyond the gaze of cameras. #RussianProtests                                                                                                                                                \n",
       "50337    @PostOpinions @MaxBoot Absolutely @POTUS should assist with saving NAVALNY'S life!!!                                                                                                                                                                                                                                                   \n",
       "50343    @Jacko29297615 @AnthonyHoll1 @___Paralysed___ @Lila33 @MarisePayne @navalny Empty smear.. Please construct a coherent argument.. Thanks                                                                                                                                                                                                \n",
       "50352    @KilroyJoe @mjluxmoore @liamsunibrow So Navalny is racist? Can you elaborate? Not irony, sheer curiosity because I got the feeling the guy is not what the west thinks but I’m not sure.                                                                                                                                               \n",
       "50537    It will be interesting to watch how much Democrats favor America interfering in the domestic politics of Russia after four years of complaining about Russian interference in American domestic politics. #Navalny                                                                                                                     \n",
       "50567    @MarisePayne @navalny Amazing that Australia is so concerned about a Russian citizen who had a team of reporters fly with him from Germany to Russia to cover his mission to stir up shit in Russia and yet so utterly unconcerned about its own citizen, #JulianAssange, rotting away w/o charge in Belmarsh.                         \n",
       "50631    #RFERL Kremlin Accuses U.S. Of Interference After Statements Criticizing Harsh Crackdown On Navalny Protesters https://t.co/Rc9eEpMtni #CentralAsia                                                                                                                                                                                    \n",
       "50648    So, #Navalny is allowed to give statements out of his jail? \\n\\nWhat a brutal Regime Russia is! Thank god at leas Julian #Assange is… oh, wait… https://t.co/mPwYj7Quw9                                                                                                                                                                \n",
       "50665    @3Wlaser @Reuters Release Assange first. Navalny is a multiple convicted criminal.                                                                                                                                                                                                                                                     \n",
       "50789    Hypocrites continue to inflate the fake #Navalny case to interfere into internal affairs of our country. This is a professionally prepared provocation, encouraged by embassies of Western countries, including US Embassy in Moscow.                                                                                                  \n",
       "50863    @cole_stephen @MoscowTimes Let's do this then. Russia is giving you Navalny, and you are sending him to the finest American prison, the safest and most non-violating of human rights, in Guantanamo.I think Navalny will be more comfortable there. https://t.co/TRsix2tkSU                                                           \n",
       "51031    Peskov: It is believed that the U.S. Ambassador to Russia intervened in the country's internal affairs because of his support for Navalny's protests.\\n#RussianProtests #Bidenpolicy                                                                                                                                                   \n",
       "51056    Most definitely #RussianProtests #Navalny 👇🏽 https://t.co/DjhBUdq3p5                                                                                                                                                                                                                                                                   \n",
       "51198    @antiwar011 @AnthonyHoll1 @___Paralysed___ @Lila33 @MarisePayne @navalny Yawn! Get some education then you can read the words. #China #troll                                                                                                                                                                                           \n",
       "51331    @tashecon @Biz_Ukraine_Mag Why does it have to take #Navalny arrest to get the #EU &amp; others to stop this project? #german leadership time to step up to &amp; join European &amp; American partners &amp; prevent/end completion Nordstream 2.                                                                                     \n",
       "51347    @Jtruneck @jdk308 @Christi44962890 @megmbowles @Allchanges @INechepurenko @navalny Nope.  A Canadian dissident.                                                                                                                                                                                                                        \n",
       "51409    Russian foreign policies under emperor Nicholas I(1825-55), Stalin and Putin are largely the same - because changing ideologies can sculpt basic geopolitical realities only to a limited extent.\\n\\nIf 2021 would replace Putin with Navalny, limit your expectations of actual change. https://t.co/N5ODVAy2sX                       \n",
       "51411    @DarthPutinKGB If the arrests of Navalny, thousands of peaceful citizens, and a small child don’t start a revolution in Russia, maybe nothing ever will.                                                                                                                                                                               \n",
       "51423    The comment post for every #RFERL, Atlantic council person who tagged, #Russia, and #Navalny on Saturday's twitter.  https://t.co/cCuBDJw3wi https://t.co/ZYcV8vaRAx                                                                                                                                                                   \n",
       "51448    @AndreaLongoni7 @soulatude @maddhav_ @disclosetv So lets sum up, Putin is bad because he is a dictator, you don't know how many support Navalny but he is good because he opposes Putin. You have no idea how many Russians support him and Russian elections can be rigged but not the American elections.                            \n",
       "51472    It will be interesting to watch how much Democrats favor America interfering in the domestic politics of Russia after four years of complaining about Russian inference in American domestic politics. #Navalny                                                                                                                        \n",
       "51543    @Cristi15458088 Therefore kind of support I call for has more indirect &amp; impersonal nature. As for the personal support I'm for the message of linking some EU's and US's decisions on policy vs Russia (re dialogue or sanctions) w/ the Kremlin decisions on Navalny (imprisonment/violence/killing).                            \n",
       "51619    @911Scotterz @XSovietNews So.... Somebody put on the wall portrait of famous Russian Nazi - Navalny in Republic of Tatar minority. Such a bullshit. Did you even make research about this issue before publish it ? Unbelievable.                                                                                                      \n",
       "51758    Liberal media trumpets the mass scale of illegal actions in support of Aleksey #Navalny. But a more in-depth study of the issue allows us to conclude that support for the controversial blogger has decreased in #Russia. \\nhttps://t.co/WOOBp5QhQH                                                                                   \n",
       "52022    JUST IN - Kremlin accuses Biden administration of interfering in Russia's \"domestic affairs\" amid #Navalny protests that erupted yesterday (AFP)                                                                                                                                                                                       \n",
       "52074    @kazbek @vikingcson Amazing how thoroughly Navalny's image has been whitewashed in Western media.                                                                                                                                                                                                                                      \n",
       "52174    This thread does an amazing job describing my skepticism towards the uncritical Navalny praise in the US.\\n\\nWay better then I could have put it. https://t.co/a8OssxKX0e                                                                                                                                                              \n",
       "52293    @MarisePayne @navalny Aren't you concerned about #Assange's inhumane treatment? Have you forgotten that the first duty of a government is to protect their citizens' rights?                                                                                                                                                           \n",
       "52331    Navalny's team just called for more protests to be held next weekend. https://t.co/CGotj6i6Pv                                                                                                                                                                                                                                          \n",
       "52340    Russian Platform: NAVALNY: MAKING A MOUNTAIN OUT OF A DUNGHILL https://t.co/PTloYOjLlx                                                                                                                                                                                                                                                 \n",
       "52453    Hopefully Alexei Navalny will not succumb to the same fate as Alexander Valterovich Litvinenko. This is an extreme example of bravery and honor.                                                                                                                                                                                       \n",
       "52470    @TheTruthG3 @soulatude @maddhav_ @disclosetv About the fact that Navalny made investigation about Putin whyereabouts I'm sure because there are video and article about them - here's one example https://t.co/UmaO2rFjru -. About the followers I'm less sure due the fact that polls are not reliable under a dictatorship.          \n",
       "52554    @Jacko29297615 @AnthonyHoll1 @___Paralysed___ @Lila33 @MarisePayne @navalny That sentence doesn't make any sense.. Try again                                                                                                                                                                                                           \n",
       "52587    @esemisanx @RepAdamSchiff @nicharcourt @navalny Follow the money. Russia is on Democrats payroll. Stop being Brainwashed. It is about control of the people and the money not about what Americans want. I have been warning voters for years but they don't want to listen.                                                           \n",
       "52589    @_adwardian_ i’m not really sure characterising navalny as an “avowed ethno-nationalist” really captures why people are protesting or why they support him                                                                                                                                                                             \n",
       "52608    Kremlin accuses Biden administration of interfering in Russia's \"domestic affairs\" amid #Navalny protests that erupted yesterday\\n\\nThe Chinese puppet in Oval will revive the Arms Lobby in no time                                                                                                                                   \n",
       "52709    @Joyce_Karam @nedprice 👍 I hope they’re heavily fined &amp; then released. Navalny should be brought back into court for inciting unauthorised protests - and an additional sentence of 12 months inside! Censure the USA 🇺🇸 embassy in Moscow... @mfa_russia @navalny @POTUS @VP @TulsiGabbard @vonderleyen                           \n",
       "52762    @Aurora_C81 @wolfgangtheoba3 @Reuters Usual hypocrisy from the @StateDept 🇺🇸 #Navalny\\nhttps://t.co/vMKZycEYm6                                                                                                                                                                                                                         \n",
       "Name: text, dtype: object"
      ]
     },
     "execution_count": 80,
     "metadata": {},
     "output_type": "execute_result"
    }
   ],
   "source": [
    "df['text'][df.LDA_topic ==1][750:800]  "
   ]
  },
  {
   "cell_type": "code",
   "execution_count": null,
   "metadata": {},
   "outputs": [],
   "source": []
  }
 ],
 "metadata": {
  "kernelspec": {
   "display_name": "Python 3",
   "language": "python",
   "name": "python3"
  },
  "language_info": {
   "codemirror_mode": {
    "name": "ipython",
    "version": 3
   },
   "file_extension": ".py",
   "mimetype": "text/x-python",
   "name": "python",
   "nbconvert_exporter": "python",
   "pygments_lexer": "ipython3",
   "version": "3.7.7"
  }
 },
 "nbformat": 4,
 "nbformat_minor": 4
}
