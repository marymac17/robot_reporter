{
 "cells": [
  {
   "cell_type": "markdown",
   "metadata": {},
   "source": [
    "# Part 1: Data import and cleaning"
   ]
  },
  {
   "cell_type": "code",
   "execution_count": 1,
   "metadata": {},
   "outputs": [],
   "source": [
    "#import initial libraries\n",
    "\n",
    "import pandas as pd\n",
    "import numpy as np"
   ]
  },
  {
   "cell_type": "code",
   "execution_count": 2,
   "metadata": {},
   "outputs": [],
   "source": [
    "#import data \n",
    "\n",
    "df = pd.read_csv(\"data/stimulus.csv\")"
   ]
  },
  {
   "cell_type": "code",
   "execution_count": 3,
   "metadata": {},
   "outputs": [
    {
     "name": "stdout",
     "output_type": "stream",
     "text": [
      "<class 'pandas.core.frame.DataFrame'>\n",
      "RangeIndex: 26409 entries, 0 to 26408\n",
      "Data columns (total 37 columns):\n",
      " #   Column                        Non-Null Count  Dtype  \n",
      "---  ------                        --------------  -----  \n",
      " 0   id                            26409 non-null  int64  \n",
      " 1   tweet_url                     26409 non-null  object \n",
      " 2   created_at                    26409 non-null  object \n",
      " 3   parsed_created_at             26409 non-null  object \n",
      " 4   user_screen_name              26409 non-null  object \n",
      " 5   text                          26409 non-null  object \n",
      " 6   tweet_type                    26409 non-null  object \n",
      " 7   coordinates                   3 non-null      object \n",
      " 8   hashtags                      2820 non-null   object \n",
      " 9   media                         1894 non-null   object \n",
      " 10  urls                          9372 non-null   object \n",
      " 11  favorite_count                26409 non-null  int64  \n",
      " 12  in_reply_to_screen_name       12629 non-null  object \n",
      " 13  in_reply_to_status_id         11151 non-null  float64\n",
      " 14  in_reply_to_user_id           12629 non-null  float64\n",
      " 15  lang                          26409 non-null  object \n",
      " 16  place                         465 non-null    object \n",
      " 17  possibly_sensitive            10498 non-null  object \n",
      " 18  retweet_count                 26409 non-null  int64  \n",
      " 19  retweet_or_quote_id           1863 non-null   float64\n",
      " 20  retweet_or_quote_screen_name  1863 non-null   object \n",
      " 21  retweet_or_quote_user_id      1863 non-null   float64\n",
      " 22  source                        26311 non-null  object \n",
      " 23  user_id                       26409 non-null  int64  \n",
      " 24  user_created_at               26409 non-null  object \n",
      " 25  user_default_profile_image    26409 non-null  bool   \n",
      " 26  user_description              22099 non-null  object \n",
      " 27  user_favourites_count         26409 non-null  int64  \n",
      " 28  user_followers_count          26409 non-null  int64  \n",
      " 29  user_friends_count            26409 non-null  int64  \n",
      " 30  user_listed_count             26409 non-null  int64  \n",
      " 31  user_location                 17460 non-null  object \n",
      " 32  user_name                     26408 non-null  object \n",
      " 33  user_statuses_count           26409 non-null  int64  \n",
      " 34  user_time_zone                0 non-null      float64\n",
      " 35  user_urls                     8113 non-null   object \n",
      " 36  user_verified                 26409 non-null  bool   \n",
      "dtypes: bool(2), float64(5), int64(9), object(21)\n",
      "memory usage: 7.1+ MB\n"
     ]
    }
   ],
   "source": [
    "# look at basic info about data\n",
    "\n",
    "df.info()\n",
    "# 26409 Tweets, after retweets removed using Twarc"
   ]
  },
  {
   "cell_type": "code",
   "execution_count": 4,
   "metadata": {},
   "outputs": [
    {
     "name": "stdout",
     "output_type": "stream",
     "text": [
      "31 ['en' 'in' 'und' 'et' 'fr' 'es' 'ja' 'tl' 'de' 'ur' 'ro' 'cs' 'zh' 'pt'\n",
      " 'cy' 'el' 'ht' 'iw' 'nl' 'sv' 'th' 'hi' 'tr' 'ar' 'da' 'no' 'pl' 'ko'\n",
      " 'fi' 'ru' 'fa']\n"
     ]
    }
   ],
   "source": [
    "# count number of languages in data set\n",
    "\n",
    "count_lang = df['lang'].unique()\n",
    "print(len(count_lang), count_lang)"
   ]
  },
  {
   "cell_type": "code",
   "execution_count": 6,
   "metadata": {},
   "outputs": [
    {
     "data": {
      "text/plain": [
       "(25386, 37)"
      ]
     },
     "execution_count": 6,
     "metadata": {},
     "output_type": "execute_result"
    }
   ],
   "source": [
    "# tweets are in 31 different languages\n",
    "\n",
    "# I'll be working only with Tweets in English\n",
    "# drop tweets in all other languages\n",
    "# now working with 25386 Tweets \n",
    "\n",
    "df = df[df.lang == 'en']\n",
    "df.shape"
   ]
  },
  {
   "cell_type": "code",
   "execution_count": 7,
   "metadata": {},
   "outputs": [],
   "source": [
    "# drop unnecessary columns \n",
    "\n",
    "df = df.drop(['tweet_url', 'created_at', 'media', 'urls','in_reply_to_screen_name',\n",
    "       'in_reply_to_status_id', 'in_reply_to_user_id', 'retweet_or_quote_id',\n",
    "       'retweet_or_quote_screen_name', 'retweet_or_quote_user_id', 'source',\n",
    "       'user_created_at', 'user_name', 'user_verified', 'user_friends_count', 'user_listed_count',\n",
    "       'user_statuses_count', 'user_default_profile_image', 'user_description',\n",
    "       'user_favourites_count', 'user_followers_count', 'coordinates', 'lang', 'user_location', 'user_time_zone', 'user_urls', 'place'], axis=1)"
   ]
  },
  {
   "cell_type": "code",
   "execution_count": 8,
   "metadata": {},
   "outputs": [
    {
     "data": {
      "text/plain": [
       "id                                                  1357118953080905728\n",
       "parsed_created_at                             2021-02-04 00:09:07+00:00\n",
       "user_screen_name                                          JohnnyRoseATH\n",
       "text                  @chick7667 @Manpree31938145 Of course there's ...\n",
       "tweet_type                                                        reply\n",
       "hashtags                                                            NaN\n",
       "favorite_count                                                        0\n",
       "possibly_sensitive                                                False\n",
       "retweet_count                                                         0\n",
       "user_id                                             1334316647302262788\n",
       "Name: 0, dtype: object"
      ]
     },
     "execution_count": 8,
     "metadata": {},
     "output_type": "execute_result"
    }
   ],
   "source": [
    "# check end time & date of data\n",
    "\n",
    "df.iloc[0]\n",
    "\n",
    "# last Tweet downloaded 2021-02-04 00:09:07+00:00"
   ]
  },
  {
   "cell_type": "code",
   "execution_count": 10,
   "metadata": {},
   "outputs": [
    {
     "data": {
      "text/plain": [
       "id                                                  1356725457362636802\n",
       "parsed_created_at                             2021-02-02 22:05:30+00:00\n",
       "user_screen_name                                        ColleenJudkins3\n",
       "text                  @ReverendWarnock \\n#MSC \\n#SS200 \\n#FPUCRETRO ...\n",
       "tweet_type                                                     original\n",
       "hashtags                                  MSC SS200 FPUCRETRO HAZARDPAY\n",
       "favorite_count                                                        2\n",
       "possibly_sensitive                                                  NaN\n",
       "retweet_count                                                         2\n",
       "user_id                                             1297944424484188162\n",
       "Name: 26408, dtype: object"
      ]
     },
     "execution_count": 10,
     "metadata": {},
     "output_type": "execute_result"
    }
   ],
   "source": [
    "# check first time & date of data \n",
    "\n",
    "df.iloc[-1]\n",
    "\n",
    "# first Tweet 2021-02-02 22:05:30+00:00"
   ]
  },
  {
   "cell_type": "markdown",
   "metadata": {},
   "source": [
    "# Part 2: Text processing for NLP "
   ]
  },
  {
   "cell_type": "code",
   "execution_count": 11,
   "metadata": {},
   "outputs": [],
   "source": [
    "# create variable for \"text\" column \n",
    "text = df['text'] "
   ]
  },
  {
   "cell_type": "code",
   "execution_count": 12,
   "metadata": {},
   "outputs": [],
   "source": [
    "# tokenize, remove stopwords, remove urls, lowercase, remove punctuation, remove numbers\n",
    "\n",
    "# import necessary libraries: ntlk etc.\n",
    "\n",
    "import string\n",
    "import re\n",
    "import nltk\n",
    "from nltk.corpus import stopwords\n",
    "from nltk.tokenize import TweetTokenizer\n",
    "from nltk import pos_tag\n",
    "from nltk.stem import WordNetLemmatizer \n",
    "\n",
    "\n",
    "stop = stopwords.words('english')\n",
    "\n",
    "punc = list(set(string.punctuation))\n",
    "\n",
    "def tokenizer(text):\n",
    "    tokenizer = TweetTokenizer()\n",
    "    tokens = tokenizer.tokenize(text)\n",
    "    return tokens\n",
    "\n",
    "def remove_url(text):\n",
    "    url = re.compile(r\"https?://\\S+|www\\.\\S+\")\n",
    "    return url.sub(r'', text)\n",
    "\n",
    "def process_text(text):\n",
    "    text = remove_url(text)\n",
    "    text = tokenizer(text)\n",
    "    text = [word.lower() for word in text]\n",
    "    text = [re.sub('[0-9]+', '', word) for word in text]\n",
    "    text = [word for word in text if word not in punc]\n",
    "    text = [word for word in text if word not in stop]\n",
    "    text = [each for each in text if len(each) > 1]\n",
    "    text = [word for word in text if ' ' not in word]\n",
    "     \n",
    "    return text"
   ]
  },
  {
   "cell_type": "code",
   "execution_count": 13,
   "metadata": {},
   "outputs": [],
   "source": [
    "# apply text processing functions to text\n",
    "\n",
    "df['processed_text'] = df['text'].apply(process_text)"
   ]
  },
  {
   "cell_type": "code",
   "execution_count": 14,
   "metadata": {},
   "outputs": [
    {
     "name": "stderr",
     "output_type": "stream",
     "text": [
      "/opt/anaconda3/lib/python3.7/site-packages/ipykernel_launcher.py:3: FutureWarning: Passing a negative integer is deprecated in version 1.0 and will not be supported in future version. Instead, use None to not limit the column width.\n",
      "  This is separate from the ipykernel package so we can avoid doing imports until\n"
     ]
    },
    {
     "data": {
      "text/plain": [
       "0     [@chick, @manpree, course, there's, foreign, aid, package, last, one, either, normal, federal, budget, foreign, aid, always, passed, time, covid, bill, here's, what's, bill]                                                                            \n",
       "1     [biden, flexible, gets, aid, tells, lawmakers, go, big, including, stimulus, checks]                                                                                                                                                                     \n",
       "2     [@rneal, @scheerpa, @gopchairwoman, we'll, see, stimulus, discussions]                                                                                                                                                                                   \n",
       "3     [@ezrocks, arizona, sues, biden, admin, biden, insists, stimulus, checks, city, declares, donald, trump, week]                                                                                                                                           \n",
       "4     [poll, finds, rds, americans, support, pres, biden's, #covid, relief, plan, support, stimulus, checks, provision, @cnbc, rpts, nearly, republicans, congress, oppose, also, support, hour, federal, minimum, wage, hike]                                 \n",
       "5     [@repdanbishop, @housegop, joe, biden's, proposed, trillion, economic, stimulus, could, boost, economic, output, years, chief, economist, international, monetary, fund, ..., gita, gopinath, estimates, added, growth, economy, expand, ..., #passit]   \n",
       "6     [@sosocialism, @katedavidson, st, one, said, immediately, even, look, know, congress, works, nothing, ever, done, immediately, secondly, one, said, addition, already, given, nd, stimulus, intended, bring, given]                                      \n",
       "7     [@repkatieporter, @senjeffmerkley, still, paying, one, bill, years, ago, able, pay, another, last, stimulus, check, least, there's]                                                                                                                      \n",
       "8     [oil, price, fundamental, daily, forecast, underpinned, api, crude, gasoline, draw, stimulus, hopes]                                                                                                                                                     \n",
       "9     [@waysandmeansgop, @housegop, joe, biden's, proposed, trillion, economic, stimulus, could, boost, economic, output, years, chief, economist, international, monetary, fund, ..., gita, gopinath, estimates, added, growth, economy, expand, ..., #passit]\n",
       "10    [@senschumer, @speakerpelosi, please, cave, gop, please, please, let, @potus, whittle, threshold, stimulus, checks, poorly, named, rescue, know, rents, cost, food, child, care, even, employed, voted, guys, let, us]                                   \n",
       "11    [chrissy, teigen, using, recent, tragedy, shield, called, insensitive, complaining, spend, bad, wine, rest, us, begging, stimulus, money, promised, survive, hate, celebrities]                                                                          \n",
       "12    [biden, signs, executive, orders, stimulus, checks, minimum, wage, food, ..., via, @youtube]                                                                                                                                                             \n",
       "13    [claim, missing, stimulus, payments, tax, return]                                                                                                                                                                                                        \n",
       "14    [@will_amash, @efird_tyler, @socialistmma, provided, zero, evidence, money, stimulus, checks, still, saved, november]                                                                                                                                    \n",
       "15    [@charles, stimulus, personal, money, already, holding, #doge, wanna, show, support, th, feb, #dogecoin]                                                                                                                                                 \n",
       "16    [ny, times, democrats, press, ahead, stimulus, biden, signals, openness, changes]                                                                                                                                                                        \n",
       "17    [biden, tells, democrats, willing, compromise, stimulus, checks]                                                                                                                                                                                         \n",
       "18    [@mon_lovesyou, album, stimulus, check]                                                                                                                                                                                                                  \n",
       "19    [@aoc, take, stimulus, check, year, income, lose, midterms, ..., period]                                                                                                                                                                                 \n",
       "Name: processed_text, dtype: object"
      ]
     },
     "execution_count": 14,
     "metadata": {},
     "output_type": "execute_result"
    }
   ],
   "source": [
    "# look at some of processed text\n",
    "\n",
    "pd.set_option('display.max_colwidth', -1)\n",
    "df['processed_text'][:20]"
   ]
  },
  {
   "cell_type": "code",
   "execution_count": 15,
   "metadata": {},
   "outputs": [],
   "source": [
    "# part-of-speech tagging \n",
    "\n",
    "ready_for_pos = df['processed_text']\n",
    "\n",
    "def pos_tagging(text):\n",
    "    pos_tag = [pos_tag(word) for word in ready_for_pos]\n",
    "\n",
    "df['pos_tagged'] = df.processed_text.apply(lambda x: pos_tag(x))"
   ]
  },
  {
   "cell_type": "code",
   "execution_count": 18,
   "metadata": {},
   "outputs": [],
   "source": [
    "# lemmatizing\n",
    "\n",
    "pos_tagged = df['pos_tagged']\n",
    "\n",
    "from nltk.stem import WordNetLemmatizer \n",
    "wordnet = WordNetLemmatizer() \n",
    "\n",
    "lemmatized = [[wordnet.lemmatize(word[0]) for word in words] for words in pos_tagged]"
   ]
  },
  {
   "cell_type": "code",
   "execution_count": 19,
   "metadata": {},
   "outputs": [
    {
     "data": {
      "text/plain": [
       "[['@chick',\n",
       "  '@manpree',\n",
       "  'course',\n",
       "  \"there's\",\n",
       "  'foreign',\n",
       "  'aid',\n",
       "  'package',\n",
       "  'last',\n",
       "  'one',\n",
       "  'either',\n",
       "  'normal',\n",
       "  'federal',\n",
       "  'budget',\n",
       "  'foreign',\n",
       "  'aid',\n",
       "  'always',\n",
       "  'passed',\n",
       "  'time',\n",
       "  'covid',\n",
       "  'bill',\n",
       "  \"here's\",\n",
       "  \"what's\",\n",
       "  'bill'],\n",
       " ['biden',\n",
       "  'flexible',\n",
       "  'get',\n",
       "  'aid',\n",
       "  'tell',\n",
       "  'lawmaker',\n",
       "  'go',\n",
       "  'big',\n",
       "  'including',\n",
       "  'stimulus',\n",
       "  'check'],\n",
       " ['@rneal',\n",
       "  '@scheerpa',\n",
       "  '@gopchairwoman',\n",
       "  \"we'll\",\n",
       "  'see',\n",
       "  'stimulus',\n",
       "  'discussion'],\n",
       " ['@ezrocks',\n",
       "  'arizona',\n",
       "  'sue',\n",
       "  'biden',\n",
       "  'admin',\n",
       "  'biden',\n",
       "  'insists',\n",
       "  'stimulus',\n",
       "  'check',\n",
       "  'city',\n",
       "  'declares',\n",
       "  'donald',\n",
       "  'trump',\n",
       "  'week'],\n",
       " ['poll',\n",
       "  'find',\n",
       "  'rds',\n",
       "  'american',\n",
       "  'support',\n",
       "  'pres',\n",
       "  \"biden's\",\n",
       "  '#covid',\n",
       "  'relief',\n",
       "  'plan',\n",
       "  'support',\n",
       "  'stimulus',\n",
       "  'check',\n",
       "  'provision',\n",
       "  '@cnbc',\n",
       "  'rpts',\n",
       "  'nearly',\n",
       "  'republican',\n",
       "  'congress',\n",
       "  'oppose',\n",
       "  'also',\n",
       "  'support',\n",
       "  'hour',\n",
       "  'federal',\n",
       "  'minimum',\n",
       "  'wage',\n",
       "  'hike'],\n",
       " ['@repdanbishop',\n",
       "  '@housegop',\n",
       "  'joe',\n",
       "  \"biden's\",\n",
       "  'proposed',\n",
       "  'trillion',\n",
       "  'economic',\n",
       "  'stimulus',\n",
       "  'could',\n",
       "  'boost',\n",
       "  'economic',\n",
       "  'output',\n",
       "  'year',\n",
       "  'chief',\n",
       "  'economist',\n",
       "  'international',\n",
       "  'monetary',\n",
       "  'fund',\n",
       "  '...',\n",
       "  'gita',\n",
       "  'gopinath',\n",
       "  'estimate',\n",
       "  'added',\n",
       "  'growth',\n",
       "  'economy',\n",
       "  'expand',\n",
       "  '...',\n",
       "  '#passit'],\n",
       " ['@sosocialism',\n",
       "  '@katedavidson',\n",
       "  'st',\n",
       "  'one',\n",
       "  'said',\n",
       "  'immediately',\n",
       "  'even',\n",
       "  'look',\n",
       "  'know',\n",
       "  'congress',\n",
       "  'work',\n",
       "  'nothing',\n",
       "  'ever',\n",
       "  'done',\n",
       "  'immediately',\n",
       "  'secondly',\n",
       "  'one',\n",
       "  'said',\n",
       "  'addition',\n",
       "  'already',\n",
       "  'given',\n",
       "  'nd',\n",
       "  'stimulus',\n",
       "  'intended',\n",
       "  'bring',\n",
       "  'given'],\n",
       " ['@repkatieporter',\n",
       "  '@senjeffmerkley',\n",
       "  'still',\n",
       "  'paying',\n",
       "  'one',\n",
       "  'bill',\n",
       "  'year',\n",
       "  'ago',\n",
       "  'able',\n",
       "  'pay',\n",
       "  'another',\n",
       "  'last',\n",
       "  'stimulus',\n",
       "  'check',\n",
       "  'least',\n",
       "  \"there's\"],\n",
       " ['oil',\n",
       "  'price',\n",
       "  'fundamental',\n",
       "  'daily',\n",
       "  'forecast',\n",
       "  'underpinned',\n",
       "  'api',\n",
       "  'crude',\n",
       "  'gasoline',\n",
       "  'draw',\n",
       "  'stimulus',\n",
       "  'hope'],\n",
       " ['@waysandmeansgop',\n",
       "  '@housegop',\n",
       "  'joe',\n",
       "  \"biden's\",\n",
       "  'proposed',\n",
       "  'trillion',\n",
       "  'economic',\n",
       "  'stimulus',\n",
       "  'could',\n",
       "  'boost',\n",
       "  'economic',\n",
       "  'output',\n",
       "  'year',\n",
       "  'chief',\n",
       "  'economist',\n",
       "  'international',\n",
       "  'monetary',\n",
       "  'fund',\n",
       "  '...',\n",
       "  'gita',\n",
       "  'gopinath',\n",
       "  'estimate',\n",
       "  'added',\n",
       "  'growth',\n",
       "  'economy',\n",
       "  'expand',\n",
       "  '...',\n",
       "  '#passit'],\n",
       " ['@senschumer',\n",
       "  '@speakerpelosi',\n",
       "  'please',\n",
       "  'cave',\n",
       "  'gop',\n",
       "  'please',\n",
       "  'please',\n",
       "  'let',\n",
       "  '@potus',\n",
       "  'whittle',\n",
       "  'threshold',\n",
       "  'stimulus',\n",
       "  'check',\n",
       "  'poorly',\n",
       "  'named',\n",
       "  'rescue',\n",
       "  'know',\n",
       "  'rent',\n",
       "  'cost',\n",
       "  'food',\n",
       "  'child',\n",
       "  'care',\n",
       "  'even',\n",
       "  'employed',\n",
       "  'voted',\n",
       "  'guy',\n",
       "  'let',\n",
       "  'u'],\n",
       " ['chrissy',\n",
       "  'teigen',\n",
       "  'using',\n",
       "  'recent',\n",
       "  'tragedy',\n",
       "  'shield',\n",
       "  'called',\n",
       "  'insensitive',\n",
       "  'complaining',\n",
       "  'spend',\n",
       "  'bad',\n",
       "  'wine',\n",
       "  'rest',\n",
       "  'u',\n",
       "  'begging',\n",
       "  'stimulus',\n",
       "  'money',\n",
       "  'promised',\n",
       "  'survive',\n",
       "  'hate',\n",
       "  'celebrity'],\n",
       " ['biden',\n",
       "  'sign',\n",
       "  'executive',\n",
       "  'order',\n",
       "  'stimulus',\n",
       "  'check',\n",
       "  'minimum',\n",
       "  'wage',\n",
       "  'food',\n",
       "  '...',\n",
       "  'via',\n",
       "  '@youtube'],\n",
       " ['claim', 'missing', 'stimulus', 'payment', 'tax', 'return'],\n",
       " ['@will_amash',\n",
       "  '@efird_tyler',\n",
       "  '@socialistmma',\n",
       "  'provided',\n",
       "  'zero',\n",
       "  'evidence',\n",
       "  'money',\n",
       "  'stimulus',\n",
       "  'check',\n",
       "  'still',\n",
       "  'saved',\n",
       "  'november'],\n",
       " ['@charles',\n",
       "  'stimulus',\n",
       "  'personal',\n",
       "  'money',\n",
       "  'already',\n",
       "  'holding',\n",
       "  '#doge',\n",
       "  'wanna',\n",
       "  'show',\n",
       "  'support',\n",
       "  'th',\n",
       "  'feb',\n",
       "  '#dogecoin'],\n",
       " ['ny',\n",
       "  'time',\n",
       "  'democrat',\n",
       "  'press',\n",
       "  'ahead',\n",
       "  'stimulus',\n",
       "  'biden',\n",
       "  'signal',\n",
       "  'openness',\n",
       "  'change'],\n",
       " ['biden', 'tell', 'democrat', 'willing', 'compromise', 'stimulus', 'check'],\n",
       " ['@mon_lovesyou', 'album', 'stimulus', 'check'],\n",
       " ['@aoc',\n",
       "  'take',\n",
       "  'stimulus',\n",
       "  'check',\n",
       "  'year',\n",
       "  'income',\n",
       "  'lose',\n",
       "  'midterm',\n",
       "  '...',\n",
       "  'period']]"
      ]
     },
     "execution_count": 19,
     "metadata": {},
     "output_type": "execute_result"
    }
   ],
   "source": [
    "# look at lemmatized text\n",
    "\n",
    "df['lemmatized'] = lemmatized\n",
    "lemmatized[:20]"
   ]
  },
  {
   "cell_type": "code",
   "execution_count": 20,
   "metadata": {},
   "outputs": [
    {
     "name": "stderr",
     "output_type": "stream",
     "text": [
      "/opt/anaconda3/lib/python3.7/site-packages/ipykernel_launcher.py:4: FutureWarning: Passing a negative integer is deprecated in version 1.0 and will not be supported in future version. Instead, use None to not limit the column width.\n",
      "  after removing the cwd from sys.path.\n"
     ]
    },
    {
     "data": {
      "text/plain": [
       "3083    stimulus finally arrived defi put leaning toward grt                                                                                                                                                 \n",
       "3084    @leadermcconnell @gop year get pandemic control smart enough know previous stimulus money went work know right pas bill chance failed miserably                                                      \n",
       "3085    faux administration confirmed stimulus zimbabwean goat rancher want measure air speed ... billion dude literally broken every promise week impressive                                                \n",
       "3086    already receive likely eligible prior stimulus payment well #mycaleitc                                                                                                                               \n",
       "3087    covid case going drastically need massive covid stimulus bill either                                                                                                                                 \n",
       "3088    @breaking keep acting like vote pas stimulus bill want                                                                                                                                               \n",
       "3089    really pay attn ga runoff confused controversy around dnc tweet stimulus check thought always supposed say something different ga                                                                    \n",
       "3090    filed tax realized longer eligible receive stimulus payment                                                                                                                                          \n",
       "3091    @gmiasworld blessing peace great video makerights super bowl roll anytime get something free stockpiling training like bandit doe set qicksell training stimulus got ea least made stay safe blessed \n",
       "3092    @potus stimulus need base get next stimulus tax husband lost job year due virus make make big difference                                                                                             \n",
       "3093    @hotdogconey @alaskantush want irrelevant qualify penny stimulus last time either arguing giant campaign promise broken arguing promise always total stimulus check used campaign shorthand          \n",
       "3094    third stimulus check biden tell democrat he's willing compromise                                                                                                                                     \n",
       "3095    @pierrepoilievre unacceptable amount money spent date vaccine stimulus yet government kept asking money government need competence #canpoli                                                          \n",
       "3096    @caseyhorne @cantme @jawsvthereturn @thatoneil @asharangappa_ @foianate promised difference last stimulus month ago wow math                                                                         \n",
       "3097    dear @joebiden people united behind big stimulus package pundit prognosticator politician pick people please                                                                                         \n",
       "3098    @davidtdettman @tedlieu @gopleader enjoy stimulus check depositing right                                                                                                                             \n",
       "3099    good news president biden latest @quinnipiacpoll support proposed stimulus relief bill favor stimulus payment american support raising federal minimum wage hr                                       \n",
       "3100    better stimulus else                                                                                                                                                                                 \n",
       "3101    biden soaring nearly american support stimulus plan via @politicususa                                                                                                                                \n",
       "3102    mean testing individual piece stimulus needle already progressive income tax scale smoothly income way arbitrary cut offs mean testing make sure people fall gap build resentment #covidreliefpackage\n",
       "Name: final_docs, dtype: object"
      ]
     },
     "execution_count": 20,
     "metadata": {},
     "output_type": "execute_result"
    }
   ],
   "source": [
    "# before vectorizing, cast lists of words back into strings\n",
    "\n",
    "df['final_docs'] = df['lemmatized'].apply(lambda x: \" \".join(x))\n",
    "pd.set_option('display.max_colwidth', -1)\n",
    "final_docs = df['final_docs']\n",
    "final_docs[3000:3020]"
   ]
  },
  {
   "cell_type": "markdown",
   "metadata": {},
   "source": [
    "# Part 3: NMF and LDA modeling"
   ]
  },
  {
   "cell_type": "code",
   "execution_count": 23,
   "metadata": {},
   "outputs": [],
   "source": [
    "#create document term matrix with TFIDF\n",
    "\n",
    "#import vectorizing tool (usee TFIDF)\n",
    "from sklearn.feature_extraction.text import TfidfVectorizer\n",
    "# set max_features to 2000 (specifies the number of most frequently occurring words for which we want to create feature vectors)\n",
    "# set min_df to 5 (word must occur in at least 5 documents)\n",
    "# set max_df to 0.85 (word must not occur in more than 85 percent of the documents) \n",
    "\n",
    "tfidfconverter = TfidfVectorizer(max_features=2000, min_df=5, max_df=0.85, ngram_range=(1, 2), stop_words='english')  \n",
    "doc_term_matrix_1 = tfidfconverter.fit_transform(df['final_docs'].values.astype('U'))"
   ]
  },
  {
   "cell_type": "code",
   "execution_count": 28,
   "metadata": {},
   "outputs": [],
   "source": [
    "#run NMF model \n",
    "\n",
    "#import NMF tool \n",
    "from sklearn.decomposition import NMF\n",
    "\n",
    "nmf_model = NMF(n_components=10)\n",
    "nmf_Z = nmf_model.fit_transform(doc_term_matrix_1)"
   ]
  },
  {
   "cell_type": "code",
   "execution_count": 27,
   "metadata": {},
   "outputs": [],
   "source": [
    "# run LDA model\n",
    "\n",
    "#import LDA tool \n",
    "from sklearn.decomposition import LatentDirichletAllocation\n",
    "\n",
    "lda_model = LatentDirichletAllocation(n_components = 10, max_iter=10, learning_method='online', learning_decay=.5)\n",
    "lda_Z = lda_model.fit_transform(doc_term_matrix_1)"
   ]
  },
  {
   "cell_type": "code",
   "execution_count": 29,
   "metadata": {},
   "outputs": [
    {
     "name": "stdout",
     "output_type": "stream",
     "text": [
      "LDA Model:\n",
      "Topic 0:\n",
      "[('check', 243.17387319612098), ('tax', 243.0047088244624), ('stimulus check', 216.6961258813581), ('income', 208.67713707347588), ('year', 175.309986196525), ('payment', 139.880465558418), ('need', 139.4357521062503), ('stimulus payment', 139.27672701125337), ('people', 133.40725674442157), ('money', 133.08592022594766)]\n",
      "Topic 1:\n",
      "[('stimulus check', 275.501361455345), ('check', 265.6008285066058), ('joe', 164.85449406318537), ('new', 111.84332112011639), ('manchin', 98.37373203805818), ('tell', 97.2237227405877), ('biden', 93.81863940222195), ('youtube', 93.37953447986935), ('joe manchin', 92.4027683433445), ('hope', 83.79468351843153)]\n",
      "Topic 2:\n",
      "[('dollar', 158.97466251735355), ('finally', 83.75204911606518), ('gonna', 80.7512906794185), ('check', 79.53937554203253), ('stimulus check', 78.69697585413434), ('increase', 74.25169155458165), ('account', 72.44018277740744), ('million', 68.77937366202619), ('gave', 64.35599932667273), ('understand', 61.443229095289446)]\n",
      "Topic 3:\n",
      "[('covid relief', 127.97104064635808), ('wage', 126.79643449625038), ('stimulus check', 109.48712087249505), ('check', 108.6581114952198), ('fuck', 106.6580866270209), ('minimum', 94.38057714414153), ('fucking', 91.34677154717434), ('best', 89.56726307353696), ('second', 87.28392350501515), ('update', 86.91620301735631)]\n",
      "Topic 4:\n",
      "[('day', 145.56857396694912), ('rich', 124.48707742552658), ('potus', 123.12057179644505), ('deal', 94.28095740397089), ('aid', 91.44684967991645), ('wait', 91.16645590301417), ('check', 86.9211791111442), ('stimulus check', 82.49540170407744), ('ll', 79.44941767496067), ('guy', 68.4265054539724)]\n",
      "Topic 5:\n",
      "[('biden', 229.2891250462443), ('relief', 198.0747397402147), ('trillion', 163.7942974928102), ('gop', 155.99312708451808), ('pas', 144.7832349912186), ('president', 137.81233645330582), ('package', 129.54134727582922), ('democrat', 128.4071988013842), ('big', 123.50312453272994), ('covid', 122.78362101618968)]\n",
      "Topic 6:\n",
      "[('economic', 158.96490839587514), ('economic stimulus', 137.78074956588998), ('marshablackburn', 105.79318522383596), ('want stimulus', 82.37187148886267), ('best economic', 75.39313805010194), ('want', 71.27334231788028), ('economy', 65.86839559696786), ('democrat stimulus', 61.601827083291695), ('folk', 60.79541428573501), ('yahoo', 57.58144345934982)]\n",
      "Topic 7:\n",
      "[('need', 393.33986769666416), ('people', 371.2693732145247), ('check', 323.46548172922513), ('stimulus check', 305.80208857321577), ('money', 277.88597140341625), ('help', 200.14419007685737), ('getting', 195.5036730488618), ('like', 177.79068733440351), ('dems', 176.37846350400957), ('briantylercohen', 175.93342212327755)]\n",
      "Topic 8:\n",
      "[('market', 149.4001066807028), ('cut', 128.52537093544717), ('got', 124.80779473257584), ('got stimulus', 120.39167565169126), ('stock', 110.2658422210349), ('reconciliation', 101.15143151362815), ('tax cut', 97.30403393108222), ('tax', 93.52790965280998), ('real', 85.49767825075837), ('used', 82.51569862007949)]\n",
      "Topic 9:\n",
      "[('package', 293.32901989275643), ('stimulus package', 242.67256792505614), ('republican', 215.96661611194187), ('voted', 204.97199884083128), ('stimulus plan', 179.68933681666954), ('senate', 164.69766509040284), ('republican voted', 145.92599908043383), ('plan', 144.3056512572209), ('democrat', 131.55271829660828), ('vote', 125.51177879549985)]\n",
      "==============================\n",
      "NMF Model:\n",
      "Topic 0:\n",
      "[('check', 3.946211291364172), ('stimulus check', 3.8419205995496744), ('getting', 0.1657703949878803), ('potus', 0.16169881944671938), ('getting stimulus', 0.1366724844768034), ('new', 0.12476011547801633), ('check check', 0.12386373057744575), ('gotten', 0.12039356090002311), ('youtube', 0.11724583544533396), ('promised', 0.1141664063593847)]\n",
      "Topic 1:\n",
      "[('mcconnell', 1.0436387751502576), ('slam', 1.0196511496254181), ('mcconnell slam', 1.0078912488119465), ('tax cut', 1.0001455423511219), ('mechanism', 0.9802260883876085), ('used', 0.9801585629565434), ('using mechanism', 0.9776375212167163), ('force covid', 0.9739765968431129), ('covid stimulus', 0.9723691270465635), ('mechanism force', 0.9718753458918721)]\n",
      "Topic 2:\n",
      "[('republican', 1.303848892413217), ('voted', 1.2589986694360644), ('republican voted', 1.0936723905409407), ('voted advance', 0.9833608364453862), ('advance', 0.9805307315126327), ('advance stimulus', 0.9431704831718769), ('senate republican', 0.908381100200279), ('package american', 0.9040998367784927), ('american', 0.8914636174213617), ('american time', 0.87139615315551)]\n",
      "Topic 3:\n",
      "[('people', 1.5525041165013556), ('money', 1.4718688215017253), ('tax', 0.8707072322022719), ('stimulus money', 0.7094227442950412), ('income', 0.6616252830080653), ('year', 0.5916461632199013), ('payment', 0.5636838232236715), ('like', 0.546940445935116), ('make', 0.49767953260728226), ('want', 0.43627444401569593)]\n",
      "Topic 4:\n",
      "[('biden', 2.095514582205031), ('plan', 1.1315023967007047), ('democrat', 0.8931885497018087), ('stimulus plan', 0.7036792162289041), ('joe', 0.681095374671255), ('biden stimulus', 0.594156573492041), ('republican', 0.5603613648125563), ('gop', 0.5460886101314383), ('relief', 0.5439819631337489), ('support', 0.48031454799991835)]\n",
      "Topic 5:\n",
      "[('economic', 1.6228573943424567), ('economic stimulus', 1.5558308671195156), ('best', 1.5172583884502064), ('marshablackburn', 1.3840071317598797), ('best economic', 1.2781416785898405), ('marshablackburn best', 0.939769968273952), ('job', 0.8074399010489548), ('best stimulus', 0.31511899327465953), ('stimulus job', 0.30329848345156474), ('pandemic', 0.17121977869780344)]\n",
      "Topic 6:\n",
      "[('joebiden', 0.7511555209452955), ('joebiden stimulus', 0.6943507549513483), ('bet', 0.6855521412800537), ('hello', 0.6840722489452818), ('fan', 0.6781934955519181), ('cause', 0.677613899273686), ('ripple effect', 0.6774377417154086), ('hello kitty', 0.6773770056640117), ('terror hello', 0.6773770056640117), ('effect bet', 0.6773770056640117)]\n",
      "Topic 7:\n",
      "[('need', 2.728792810291191), ('need stimulus', 1.4164481675587546), ('people need', 0.4152783750058165), ('help', 0.3549539730168741), ('people', 0.30535741761144153), ('need help', 0.2608208358337728), ('stimulus need', 0.2215017345858366), ('really need', 0.14234507784995062), ('really', 0.13994041538137272), ('check need', 0.13641736877583993)]\n",
      "Topic 8:\n",
      "[('package', 2.3310396566271727), ('stimulus package', 2.0680142354571864), ('democrat', 0.2246806623267347), ('aid', 0.22103982248959167), ('aid package', 0.21993223541854054), ('new', 0.2102438011810973), ('speed ahead', 0.2056281733996851), ('economic aid', 0.20528576235004517), ('speed', 0.2047476490749544), ('democrat speed', 0.20183339174761172)]\n",
      "Topic 9:\n",
      "[('got', 2.246642635568632), ('got stimulus', 1.7577806300030776), ('finally', 0.35759997275415617), ('state', 0.3423150217765498), ('finally got', 0.29884762066913845), ('check got', 0.11960569477640207), ('today', 0.11582044320874801), ('lol', 0.11068238739815331), ('people got', 0.10265704309564878), ('second', 0.09257764976975269)]\n",
      "==============================\n"
     ]
    }
   ],
   "source": [
    "def print_topics(model, vectorizer, top_n=10):\n",
    "    for idx, topic in enumerate(model.components_):\n",
    "        print(\"Topic %d:\" % (idx))\n",
    "        print([(vectorizer.get_feature_names()[i], topic[i])\n",
    "                        for i in topic.argsort()[:-top_n - 1:-1]])\n",
    " \n",
    "print(\"LDA Model:\")\n",
    "print_topics(lda_model, tfidfconverter )\n",
    "print(\"=\" * 30)\n",
    " \n",
    "print(\"NMF Model:\")\n",
    "print_topics(nmf_model, tfidfconverter )\n",
    "print(\"=\" * 30)"
   ]
  },
  {
   "cell_type": "code",
   "execution_count": 32,
   "metadata": {},
   "outputs": [
    {
     "data": {
      "text/html": [
       "\n",
       "<link rel=\"stylesheet\" type=\"text/css\" href=\"https://cdn.rawgit.com/bmabey/pyLDAvis/files/ldavis.v1.0.0.css\">\n",
       "\n",
       "\n",
       "<div id=\"ldavis_el170481403667093090085204536347\"></div>\n",
       "<script type=\"text/javascript\">\n",
       "\n",
       "var ldavis_el170481403667093090085204536347_data = {\"mdsDat\": {\"x\": [32.42095184326172, 0.648955225944519, 71.01968383789062, 3.7859814167022705, -42.666500091552734, -3.6216893196105957, -3.632401704788208, -36.58440017700195, 44.391380310058594, 40.235809326171875], \"y\": [8.115229606628418, 71.70709991455078, 9.971006393432617, 33.18513488769531, -9.22206974029541, -43.52651596069336, -4.171707630157471, 35.804412841796875, 50.61538314819336, -31.591665267944336], \"topics\": [1, 2, 3, 4, 5, 6, 7, 8, 9, 10], \"cluster\": [1, 1, 1, 1, 1, 1, 1, 1, 1, 1], \"Freq\": [17.81680841466069, 14.69768822766222, 11.40774446054046, 8.79241391144865, 8.405044982182883, 8.042705979071275, 8.02639869537561, 7.971685350758446, 7.8937009703134695, 6.945809007986304]}, \"tinfo\": {\"Term\": [\"package\", \"stimulus package\", \"economic\", \"market\", \"voted\", \"stimulus check\", \"dollar\", \"republican\", \"tax\", \"senate\", \"stimulus plan\", \"cut\", \"joe\", \"plan\", \"economic stimulus\", \"vote\", \"got stimulus\", \"need\", \"got\", \"day\", \"check\", \"biden\", \"stock\", \"democrat\", \"republican voted\", \"relief\", \"reconciliation\", \"rich\", \"marshablackburn\", \"tax cut\", \"briantylercohen\", \"jstein_wapo\", \"getting stimulus\", \"look\", \"maybe\", \"yes\", \"talk\", \"people need\", \"white\", \"bad\", \"election\", \"agree\", \"white house\", \"damn\", \"policy\", \"voting\", \"people stimulus\", \"voter\", \"little\", \"hey\", \"vote stimulus\", \"thought\", \"man\", \"step\", \"literally\", \"idea\", \"life\", \"thank\", \"stimulus people\", \"left\", \"getting\", \"sure\", \"dems\", \"month\", \"need\", \"people\", \"stimulus money\", \"need stimulus\", \"thing\", \"help\", \"money\", \"right\", \"trying\", \"congress\", \"think\", \"party\", \"let\", \"like\", \"vote\", \"good\", \"house\", \"check\", \"stimulus check\", \"trump\", \"work\", \"want\", \"time\", \"republican\", \"know\", \"make\", \"waiting\", \"return\", \"lost\", \"lol\", \"student\", \"paid\", \"actually\", \"lower\", \"waiting stimulus\", \"class\", \"qualify\", \"loan\", \"spent\", \"tax return\", \"question\", \"fiscal\", \"dependent\", \"based\", \"middle\", \"threshold\", \"paying\", \"ppl\", \"executive\", \"free\", \"school\", \"love\", \"household\", \"yeah\", \"claim\", \"send stimulus\", \"income\", \"stimulus payment\", \"family\", \"receive\", \"unemployment\", \"year\", \"tax\", \"pay\", \"payment\", \"really\", \"check\", \"stimulus check\", \"money\", \"need\", \"making\", \"people\", \"job\", \"care\", \"make\", \"like\", \"le\", \"pandemic\", \"government\", \"passed\", \"trillion stimulus\", \"bipartisan\", \"sen_joemanchin\", \"proposal\", \"long\", \"pas stimulus\", \"senate democrat\", \"credit\", \"ask\", \"biden trillion\", \"stimulus relief\", \"agreement\", \"relief plan\", \"soon\", \"president biden\", \"administration\", \"breaking\", \"direct\", \"break\", \"provide\", \"far\", \"board\", \"recovery\", \"obama\", \"word\", \"gop senator\", \"wall\", \"leadermcconnell\", \"focus\", \"trillion\", \"president\", \"relief\", \"big\", \"push\", \"pas\", \"biden\", \"gop\", \"plan\", \"democrat\", \"covid\", \"country\", \"package\", \"stimulus package\", \"republican\", \"promise\", \"american people\", \"american\", \"covid relief\", \"wage\", \"fuck\", \"minimum\", \"fucking\", \"second\", \"update\", \"minimum wage\", \"problem\", \"blow\", \"oh\", \"poor\", \"best stimulus\", \"unemployed\", \"hit\", \"file\", \"hour\", \"dont\", \"check update\", \"second stimulus\", \"extra\", \"god\", \"testing\", \"demand\", \"like stimulus\", \"received stimulus\", \"company\", \"billionaire\", \"sending\", \"mind\", \"needed\", \"live\", \"best\", \"received\", \"mean\", \"week\", \"stimulus check\", \"check\", \"payment\", \"person\", \"tell\", \"youtube\", \"joe manchin\", \"price\", \"gotten\", \"wanted\", \"higher\", \"february\", \"earnings\", \"gotten stimulus\", \"democratic\", \"act\", \"washington\", \"compromise\", \"rest\", \"oil\", \"david\", \"holding\", \"hate\", \"post\", \"nice\", \"rd\", \"monthly stimulus\", \"potential\", \"report\", \"republican want\", \"check promised\", \"absolutely\", \"rd stimulus\", \"promised stimulus\", \"joe biden\", \"joe\", \"spend\", \"new stimulus\", \"news\", \"hope\", \"manchin\", \"new\", \"stimulus check\", \"monthly\", \"check\", \"promised\", \"biden\", \"coming\", \"american\", \"come\", \"day\", \"rich\", \"deal\", \"wait\", \"ll\", \"guy\", \"voted stimulus\", \"aid package\", \"potus stimulus\", \"read\", \"speed ahead\", \"local\", \"low\", \"ve\", \"kamalaharris\", \"story\", \"massive\", \"politician\", \"thedemocrats\", \"unity\", \"cnn\", \"funding\", \"suffering\", \"amazon\", \"bold\", \"tweet\", \"potus joebiden\", \"heard\", \"later\", \"big bold\", \"aid\", \"potus\", \"senschumer\", \"vp\", \"joebiden\", \"march\", \"state\", \"time\", \"economic\", \"check\", \"stimulus check\", \"package\", \"market\", \"got stimulus\", \"stock\", \"reconciliation\", \"tax cut\", \"real\", \"used\", \"spending\", \"using\", \"marshablackburn best\", \"lose\", \"force\", \"exactly\", \"virus\", \"hell\", \"im\", \"stock market\", \"treasury\", \"cut stimulus\", \"future\", \"cheque\", \"old\", \"rise\", \"fix\", \"world\", \"stimulus vaccine\", \"govt\", \"stimulus tax\", \"approved\", \"stimulus cheque\", \"cut\", \"got\", \"covid stimulus\", \"budget\", \"use\", \"tax\", \"covid\", \"mcconnell\", \"pas\", \"democrat\", \"best\", \"stimulus plan\", \"republican voted\", \"ahead\", \"advance\", \"majority\", \"paycheck\", \"speed\", \"voted advance\", \"citizen\", \"senate republican\", \"jim_jordan\", \"forward\", \"advance stimulus\", \"economic aid\", \"thehill\", \"stand\", \"tuesday\", \"package american\", \"democrat speed\", \"plan support\", \"deal blow\", \"bipartisan agreement\", \"support bipartisan\", \"forget\", \"manchin deal\", \"blow democrat\", \"ahead economic\", \"american time\", \"th\", \"time check\", \"voted\", \"package\", \"stimulus package\", \"senate\", \"biden stimulus\", \"republican\", \"support\", \"plan\", \"vote\", \"democrat\", \"american\", \"biden\", \"dollar\", \"finally\", \"increase\", \"account\", \"gave\", \"understand\", \"office\", \"feel\", \"wrong\", \"immediately\", \"dollar stimulus\", \"taking\", \"bigger\", \"worth\", \"friend\", \"corporation\", \"asking\", \"bidenlied\", \"health\", \"bitcoin\", \"era\", \"opinion\", \"ya\", \"thousand\", \"nd\", \"million people\", \"btc\", \"pelosi\", \"sen\", \"quit\", \"gonna\", \"reason\", \"billion\", \"million\", \"stimulus check\", \"check\", \"like\", \"going\", \"economic stimulus\", \"want stimulus\", \"best economic\", \"democrat stimulus\", \"folk\", \"yahoo\", \"stimulate\", \"lie\", \"hold\", \"political\", \"limit\", \"save\", \"activity\", \"stimulus republican\", \"possible\", \"recent\", \"stimulate economy\", \"refund\", \"check stimulus\", \"priority\", \"chief\", \"check going\", \"sum\", \"retroactive\", \"rescue\", \"wish\", \"gop stimulus\", \"survival\", \"joy\", \"cover\", \"economic\", \"marshablackburn\", \"great\", \"sign\", \"try\", \"vaccine\", \"economy\", \"want\", \"job\", \"check\", \"stimulus check\", \"say\"], \"Freq\": [464.0, 370.0, 236.0, 194.0, 261.0, 1128.0, 185.0, 500.0, 415.0, 227.0, 176.0, 202.0, 254.0, 275.0, 150.0, 263.0, 156.0, 498.0, 279.0, 152.0, 1199.0, 509.0, 143.0, 391.0, 143.0, 243.0, 131.0, 130.0, 150.0, 126.0, 148.18498427154134, 137.55830104221275, 112.16886114657531, 109.3807561085157, 86.76469986169, 85.82322822146773, 77.11808796866222, 75.05558904401589, 72.46598390709104, 68.26649006968002, 61.55274382747442, 60.54754694890443, 60.37955981966465, 59.07988135215133, 58.95891165791183, 56.966744568909874, 56.78649318241686, 55.517437117541434, 55.29534644009653, 55.29103625944627, 54.2595578770378, 53.73400801476914, 53.70985550545411, 52.48102481906861, 52.193014349845775, 51.139258337172244, 50.055254868844415, 49.594993573561915, 48.80707494547925, 48.388163034887704, 164.66859091431874, 88.2939400021387, 148.5598331729499, 119.48927645488914, 331.3018152239331, 312.71230654371595, 132.83671032589277, 141.4468618951798, 110.28194646111844, 168.57719983300106, 234.05745085117024, 113.81880733799223, 73.61035656832924, 100.49429433604914, 118.58012875944111, 78.8693687948845, 98.39635181955953, 149.74931930679082, 134.04881936162056, 107.84072565957008, 85.25085126892888, 272.4481041973084, 257.57060334831544, 108.98386672276955, 104.44058127573753, 118.14195938119188, 108.98138159755091, 123.90719930622552, 97.71435790732488, 96.8673259049488, 103.69356668019417, 101.97686982079382, 86.53382703587314, 81.54139656202815, 79.18649087234613, 76.39781185259321, 74.48400569949519, 71.23288557296384, 69.85753598711699, 69.02413643485802, 68.78231897522718, 68.77631212515003, 67.35538763947316, 67.29706162963676, 64.55628183014763, 62.37644181294958, 62.33880808781901, 62.0356516207851, 59.12933490113243, 58.95603714607533, 55.30323540840506, 52.71332850920265, 52.48893472197333, 52.25995404385802, 51.82941258005572, 51.70679705582144, 50.90239003770639, 49.93850923374287, 49.63463787605521, 49.19863566075249, 190.56246498248754, 127.18650824029805, 105.81648329045626, 70.42832947510061, 90.48542554238894, 160.09182210455947, 221.9101573146279, 118.83661863774239, 127.73783795166997, 89.84503265014904, 222.0646370056116, 197.88534805117257, 121.53310788325379, 127.33172881655132, 79.10720006085593, 121.82655008735935, 92.29637136164509, 80.63642009204266, 79.55996631744975, 81.49189853213994, 71.34413355517391, 73.31527703747955, 70.72191139804568, 110.58450226555652, 85.76371006270422, 84.80481239756891, 84.41226074957886, 80.51122376388005, 74.15578756784501, 73.79589373781091, 69.63148434279354, 67.30767173340583, 66.96753529493994, 65.61418389792051, 59.94771195968793, 58.052414959997584, 57.64642138376137, 57.50129527578924, 56.029726971381116, 53.07038435144669, 53.059722489024864, 51.5417466250397, 51.328059504819045, 48.82718375285478, 44.31717204197798, 43.8808367829025, 43.84715469462914, 41.89961361701068, 41.069801812996445, 40.73933540682559, 40.59004016853471, 40.58667529691461, 40.03527107481499, 148.05203678371745, 124.5672005567257, 179.03778765698956, 111.63324618811221, 67.75930982876103, 130.86812642867753, 207.25216014887852, 141.00063642409742, 110.34804712311912, 116.06599015494508, 110.98289411403279, 72.3083652435596, 117.09113568337291, 92.34817393965476, 94.15287000032066, 63.83716327852796, 60.15022814883425, 65.50918762554461, 129.52925596338875, 128.34034744232798, 107.95678876641102, 95.52978449756614, 92.45903833712295, 88.34671978962064, 87.9745218225777, 83.13957174601151, 73.19180912349334, 71.4337735448786, 67.82989204706645, 67.74906028753266, 65.743684619428, 58.59438779580301, 58.31989460234509, 57.70996107582849, 57.026097427022826, 54.13724816427968, 53.945084731629215, 53.25909518377519, 51.41309098985506, 50.50890779767712, 49.07633495057714, 48.75530244591755, 46.90539299856875, 44.43143496455889, 44.33585097224752, 42.04423122395906, 40.569392524098404, 40.076381765890936, 67.62430957313083, 56.150139422594826, 90.65786201311566, 68.23358882045306, 83.37561874968382, 65.61378065122767, 110.82027021549813, 109.98116656139969, 68.01196431993439, 51.76291029808628, 104.61116027130988, 100.47487559798896, 99.42389096198373, 87.50381323286298, 83.18776573984117, 77.80800206139101, 73.69321340916939, 66.2911497038243, 64.63759551928808, 61.587833310141924, 59.870495804079034, 57.053041328552226, 51.01126559756166, 50.998247531954455, 49.34847517525633, 49.30779852098218, 46.96886746172918, 46.67099908702509, 45.26515730603587, 44.30963497366927, 43.578352726990495, 43.32272427936015, 40.56514688078033, 40.227961250159794, 39.54686977020145, 38.29884879756983, 38.253683281314096, 37.880335931732645, 37.22109947788504, 36.55262025465321, 88.3349352595905, 177.38078129248706, 79.65617621953504, 64.11311023018618, 84.89610727493063, 90.16173028900971, 105.84855175910731, 120.34161273776942, 296.4350290830568, 57.8585798348448, 285.78221503853183, 84.35536618907004, 100.94734542441921, 52.86612148386323, 61.180583123453246, 51.81003082155059, 151.64750598722372, 129.6856478343035, 98.21812265363026, 94.97355981879211, 82.7672190103378, 71.28399085555426, 70.82954151392485, 66.83727595419937, 63.58476239582658, 57.14546876557512, 55.776835144464734, 55.05482128543749, 53.883749734026104, 53.18982944104738, 48.90287209292877, 48.82066511170714, 46.89563166328138, 45.82133411898385, 45.73984613349919, 44.57514269216117, 43.64375103455477, 43.39540366620219, 41.65775269876109, 41.05369759598368, 40.24466092338854, 39.82570679191698, 39.06293205435815, 37.95296946990349, 36.01440000803689, 35.67078482816252, 95.2656628174189, 128.26207703931334, 64.92956826340637, 47.34160776210631, 70.73880121807368, 51.23160465608279, 62.605440688510804, 64.56569671997588, 63.55559919154573, 90.55100060722292, 85.94040308918541, 50.73543767384833, 193.59027969983703, 156.00161660362028, 142.88072285336222, 131.07041456545008, 126.08501803080524, 110.78653030432444, 106.92252857374933, 102.66892667595127, 100.29206970338171, 79.93074993065308, 75.1902852052811, 72.72504916274556, 71.34897156180233, 63.43220721939468, 60.525624622326774, 57.979562365183625, 56.59121677384729, 54.32710170807272, 51.97742352442715, 51.73208643601093, 51.5619116892475, 51.43566201598434, 50.07542842018992, 49.666013007311804, 49.346328381839285, 48.881580816774864, 48.701851030857874, 46.46885430666664, 45.53525439914806, 44.219875138928685, 166.54112945912843, 161.7239534014337, 103.57672129078999, 76.44247943538296, 76.20569602969053, 121.1919763091256, 102.34744948257293, 64.67549058669339, 64.18086089489613, 55.18852004726339, 52.349264530456, 175.11802253858093, 142.21362741187275, 114.61767007834615, 73.04804769200618, 67.15595387542291, 62.26232604490647, 60.89395644597777, 60.376706978558964, 60.21920262028406, 57.94991965564038, 55.903696064567555, 55.60266418851984, 55.233028671818104, 53.43657809751694, 53.35289912654399, 52.99955095050184, 52.84184146585478, 51.591545946220805, 51.42386344395089, 51.385274617481905, 51.198227054417806, 51.013150623887235, 50.797679109000406, 50.71460817906884, 50.28273358442501, 50.22072673511059, 50.077695889585186, 48.838408475356346, 48.84638187628736, 48.41825482095382, 199.75749117160083, 285.8667009785207, 236.49895409627314, 160.50774040520153, 104.04467891094941, 210.4724043055381, 108.67918784528574, 140.6345013955346, 122.3187468847552, 128.20600429496326, 108.94501552861104, 84.1769067789202, 184.927660014479, 97.42477335192318, 86.37345948010268, 84.2662175212028, 74.86227160303515, 71.47398459855263, 66.73288032185883, 60.589631259146145, 59.42955538699894, 57.80685873675693, 56.711250631034254, 55.528854352198046, 54.55417723718968, 52.885200510125834, 50.26137575161018, 48.150008195198446, 47.302339712151145, 47.25045981386233, 47.14199603058163, 46.80243252497108, 45.45643781305001, 44.302570695737224, 43.863539086793395, 43.7597302983538, 42.90185630849739, 40.0710212915611, 39.46457519994474, 39.440155388731725, 39.24638288806785, 39.21662852846106, 93.93413385522224, 64.06887367624343, 70.0784543620745, 80.0077724787846, 91.54444717460807, 92.52437064551296, 49.424175201759454, 45.56518656063377, 149.4296065456597, 89.33611107351422, 81.76735132132293, 66.81003560042275, 65.93544355884983, 62.449743288317514, 62.2103274042243, 59.17970835005339, 54.026147107153236, 52.95536663653935, 50.05926645083987, 49.48763507323063, 45.67809674412887, 45.235820729945615, 44.20950702806296, 42.72182835898109, 41.4245359511861, 41.08405123596289, 40.49203830216586, 39.92474805957972, 38.19989052228881, 37.42013886626704, 37.338622087677734, 36.98110158065553, 35.8921232286625, 35.10138438641411, 34.92657612647753, 34.21621227587039, 34.198125642086254, 34.118422047077104, 172.40480829872905, 114.73761097264062, 57.19115273112853, 52.155028090509, 51.85121572860403, 61.75905522372128, 71.43732683165413, 77.29924197183817, 48.76122176505534, 46.8809273126849, 43.63634074004069, 40.688844931172646], \"Total\": [464.0, 370.0, 236.0, 194.0, 261.0, 1128.0, 185.0, 500.0, 415.0, 227.0, 176.0, 202.0, 254.0, 275.0, 150.0, 263.0, 156.0, 498.0, 279.0, 152.0, 1199.0, 509.0, 143.0, 391.0, 143.0, 243.0, 131.0, 130.0, 150.0, 126.0, 149.13180876787274, 138.50540381954937, 113.11546021090498, 110.32762817817452, 87.71143019345044, 86.77001894280491, 78.06517019466914, 76.00224647699778, 73.4128714460909, 69.21323174811616, 62.499508202976536, 61.49425878972189, 61.326504421372185, 60.02663062038562, 59.90576664358063, 57.91349197302535, 57.73317923791833, 56.46409353094509, 56.24205235411164, 56.237874500984105, 55.20624968124017, 54.680779917426136, 54.65657074163273, 53.42820059168863, 53.13969125915326, 52.086006670188844, 51.00203123713506, 50.54179700052734, 49.75375308130363, 49.33501537201884, 196.35601806938644, 97.78634626441054, 183.36368932948804, 145.29234206238314, 498.691173632142, 532.6425840764891, 177.00856287754357, 192.92532108727391, 141.25239137127076, 266.32762325401995, 431.5565902962877, 160.28788915807294, 85.58883500979971, 136.7740625990192, 176.2480638409549, 95.58497459993528, 143.96200903752938, 309.94582882486856, 263.27948033253136, 176.75467060554254, 114.57622229435864, 1199.987095315986, 1128.2272689767872, 195.56187646298557, 184.33153878490774, 284.85645240945803, 251.97826482599024, 500.3047491644681, 199.26709928568758, 220.7665093939327, 104.63310779754352, 102.91644141431206, 87.47342425851664, 82.48103880267259, 80.12596914193566, 77.33748090871987, 75.4238014947173, 72.17245486164902, 70.79698289445024, 69.96366309589624, 69.72185692972664, 69.71578770869458, 68.29502437700549, 68.2365293119145, 65.49604096718215, 63.31609581291288, 63.27834709025621, 62.9752027196176, 60.068896880845706, 59.895541964316095, 56.24292073699455, 53.65296539628268, 53.42842642641533, 53.19956043135681, 52.76905091573096, 52.646566099121515, 51.8419442292936, 50.878142578517085, 50.574228197785544, 50.13811663964569, 222.52305636521982, 160.07374196133713, 134.72499541215933, 79.71601186271732, 111.90135020860879, 250.9864464454113, 415.1556277594198, 177.82642006983517, 258.5844134538057, 143.66376980171, 1199.987095315986, 1128.2272689767872, 431.5565902962877, 498.691173632142, 126.21639874503923, 532.6425840764891, 216.07467725338222, 137.39923867862686, 220.7665093939327, 309.94582882486856, 102.51119097376686, 164.75563574324588, 132.11705166611935, 111.52505228576419, 86.70413701367094, 85.74544508753492, 85.35439069209758, 81.45173103365775, 75.09660542038604, 74.73641004680297, 70.5719583954482, 68.2482960662746, 67.90808111475245, 66.55459896249783, 60.88818149468219, 58.99317593182625, 58.586809734411155, 58.44190134346438, 56.97013470675403, 54.0108277174979, 54.00024603936338, 52.48229005781067, 52.26856209730069, 49.768104290951925, 45.25780834812671, 44.82136807844952, 44.7876371988861, 42.840133152149136, 42.010389690019835, 41.67977651835747, 41.53049670130512, 41.52731988338838, 40.97588896308437, 183.67831538281723, 152.04042015674835, 243.07231544685285, 144.27233360745822, 86.56486637957667, 227.368887158191, 509.2407617826178, 309.8004816856811, 275.0268232530094, 391.661641169346, 367.16011058854184, 127.37410134357603, 464.6042236562765, 370.72093700232824, 500.3047491644681, 105.61775372169622, 90.35001954880174, 333.16303311856865, 130.45948567889423, 129.2699989763047, 108.88658784849034, 96.45937237145598, 93.38874064905052, 89.2763793697146, 88.90419290888839, 84.06915255372394, 74.12160505242328, 72.36506803546072, 68.75972914423065, 68.67881631855695, 66.67324461743887, 59.52421325067757, 59.249600105983994, 58.639622379562915, 57.95594521307411, 55.06703382529501, 54.87471096327791, 54.188651996768044, 52.34280559901978, 51.4387454140219, 50.00594468808228, 49.68549317357793, 47.8350788287485, 45.36107874962626, 45.265688459688015, 42.97408146055737, 41.499138727738256, 41.006183456085566, 95.54052854605122, 71.27788434144014, 158.5380314169772, 103.43214478464947, 169.6392174886701, 128.8495584178375, 1128.2272689767872, 1199.987095315986, 258.5844134538057, 81.16693153532918, 105.53460526191621, 101.39812414627157, 100.34734331039668, 88.42730820598165, 84.11100932014287, 78.73148797623348, 74.61661021440031, 67.21440351262264, 65.5610324405549, 62.51099477770029, 60.79382530055807, 57.976520258623005, 51.93457903820098, 51.921572308737126, 50.27187853401879, 50.23105044714083, 47.89236815527084, 47.594312761699086, 46.18851261346198, 45.232954323308405, 44.5017871508926, 44.24593954104485, 41.488357358862665, 41.15155477543306, 40.47017998545429, 39.222307308874846, 39.176869064907414, 38.80378038681175, 38.144306041404434, 37.47584155025291, 105.75206293296664, 254.84801119170652, 101.2054779476367, 76.76493802615535, 113.16423600135887, 124.01087294782131, 160.32166480174433, 205.4910070941872, 1128.2272689767872, 72.388294422547, 1199.987095315986, 143.17109510904032, 509.2407617826178, 97.68500466741109, 333.16303311856865, 125.28117097759865, 152.57444585952896, 130.61264450796173, 99.14594699559937, 95.90037534544753, 83.69411844993284, 72.21076904646088, 71.75633913792603, 67.76396405985027, 64.51139152609417, 58.07230389755852, 56.703480323532176, 55.98157683531682, 54.81065985621498, 54.116595007797265, 49.82958532411206, 49.747478847844356, 47.82238129339752, 46.74809729574735, 46.66659569822564, 45.5019184298963, 44.570539372480404, 44.32214550691416, 42.58459957912056, 41.980480139408314, 41.17145804224872, 40.752453501277884, 39.989678406820744, 38.87968039678608, 36.941155711990376, 36.59760336108087, 137.9574393455469, 295.67049832007234, 104.249415870087, 58.181995402056955, 156.62893369169342, 74.00207294716014, 143.2478409517098, 251.97826482599024, 236.77871637780294, 1199.987095315986, 1128.2272689767872, 464.6042236562765, 194.4923606602107, 156.90289171409972, 143.7820216575731, 131.97197391360712, 126.98626264065811, 111.6881534481456, 107.82386055386671, 103.57042406542942, 101.19341183439332, 80.83212908569256, 76.09181688127694, 73.62635402784247, 72.25046439081059, 64.33408864926989, 61.42708672213692, 58.880934794515895, 57.49242183564161, 55.22842783747991, 52.87879204743768, 52.633438721809014, 52.46315661990385, 52.33704259499732, 50.97673066073964, 50.56752822591672, 50.24771509766082, 49.78283135186323, 49.60325281533572, 47.37014093297946, 46.436652151421534, 45.12108128995006, 202.83242885746324, 279.97106404505627, 170.0767311872909, 104.65875750889299, 126.5832711909382, 415.1556277594198, 367.16011058854184, 111.56475264334836, 227.368887158191, 391.661641169346, 158.5380314169772, 176.05147882375738, 143.1469671874228, 115.55144609774979, 73.98138956233227, 68.08958938990627, 63.195830630532335, 61.82733773214772, 61.30999606342168, 61.15285573769425, 58.88321584117361, 56.83729484817719, 56.53617156565672, 56.16631768456648, 54.3698939214996, 54.286451175254015, 53.93314596189249, 53.7757478595228, 52.524839439114146, 52.3571708569104, 52.318590838217204, 52.131542010904624, 51.94647470712717, 51.73099382573346, 51.64811035287146, 51.21604911929525, 51.15404151370489, 51.011003662969586, 49.771724385570366, 49.780078933113096, 49.35158486946978, 261.0164604519777, 464.6042236562765, 370.72093700232824, 227.3613497377629, 150.7825065202503, 500.3047491644681, 176.6384125316257, 275.0268232530094, 263.27948033253136, 391.661641169346, 333.16303311856865, 509.2407617826178, 185.8423051422335, 98.33937375836862, 87.28833331520856, 85.18087124147915, 75.77698524950665, 72.38871056671877, 67.64762063292127, 61.5042155875232, 60.34421642580919, 58.721769650950435, 57.625712191718996, 56.443526379292976, 55.46875276876872, 53.799704727592065, 51.17596513824557, 49.064772819523355, 48.217049928901886, 48.165061476289964, 48.05664537289298, 47.71690031670991, 46.37091147397959, 45.21715479724634, 44.778110901435696, 44.67442833280916, 43.81641560353461, 40.98563614418397, 40.37901781800387, 40.354804721738205, 40.16124189207294, 40.131525117871014, 114.99906975140097, 81.05216312331449, 105.35711737146165, 144.43120193873182, 1128.2272689767872, 1199.987095315986, 309.94582882486856, 254.24740119755276, 150.35196159943203, 90.25856546131868, 82.68965665970808, 67.73363807635856, 66.85801684291647, 63.372621845558044, 63.132722090438385, 60.10230794072355, 54.9487579527452, 53.87788448244421, 50.9817058814669, 50.41012186384076, 46.60045678512459, 46.15836295321386, 45.13206108590497, 43.644250921134024, 42.346871359463776, 42.006477610649775, 41.414499380325836, 40.84731342648393, 39.122251260991206, 38.34258920428226, 38.2609593013312, 37.903835712557765, 36.81451198940651, 36.023785881965004, 35.84902339940986, 35.13861447937541, 35.12042881887769, 35.04112599263924, 236.77871637780294, 150.28131065487455, 79.71844966141937, 69.40240819811609, 71.87112807511173, 122.49797581504353, 175.5742683760307, 284.85645240945803, 216.07467725338222, 1199.987095315986, 1128.2272689767872, 213.53271664966744], \"Category\": [\"Default\", \"Default\", \"Default\", \"Default\", \"Default\", \"Default\", \"Default\", \"Default\", \"Default\", \"Default\", \"Default\", \"Default\", \"Default\", \"Default\", \"Default\", \"Default\", \"Default\", \"Default\", \"Default\", \"Default\", \"Default\", \"Default\", \"Default\", \"Default\", \"Default\", \"Default\", \"Default\", \"Default\", \"Default\", \"Default\", \"Topic1\", \"Topic1\", \"Topic1\", \"Topic1\", \"Topic1\", \"Topic1\", \"Topic1\", \"Topic1\", \"Topic1\", \"Topic1\", \"Topic1\", \"Topic1\", \"Topic1\", \"Topic1\", \"Topic1\", \"Topic1\", \"Topic1\", \"Topic1\", \"Topic1\", \"Topic1\", \"Topic1\", \"Topic1\", \"Topic1\", \"Topic1\", \"Topic1\", \"Topic1\", \"Topic1\", \"Topic1\", \"Topic1\", \"Topic1\", \"Topic1\", \"Topic1\", \"Topic1\", \"Topic1\", \"Topic1\", \"Topic1\", \"Topic1\", \"Topic1\", \"Topic1\", \"Topic1\", \"Topic1\", \"Topic1\", \"Topic1\", \"Topic1\", \"Topic1\", \"Topic1\", \"Topic1\", \"Topic1\", \"Topic1\", \"Topic1\", \"Topic1\", \"Topic1\", \"Topic1\", \"Topic1\", \"Topic1\", \"Topic1\", \"Topic1\", \"Topic1\", \"Topic1\", \"Topic1\", \"Topic2\", \"Topic2\", \"Topic2\", \"Topic2\", \"Topic2\", \"Topic2\", \"Topic2\", \"Topic2\", \"Topic2\", \"Topic2\", \"Topic2\", \"Topic2\", \"Topic2\", \"Topic2\", \"Topic2\", \"Topic2\", \"Topic2\", \"Topic2\", \"Topic2\", \"Topic2\", \"Topic2\", \"Topic2\", \"Topic2\", \"Topic2\", \"Topic2\", \"Topic2\", \"Topic2\", \"Topic2\", \"Topic2\", \"Topic2\", \"Topic2\", \"Topic2\", \"Topic2\", \"Topic2\", \"Topic2\", \"Topic2\", \"Topic2\", \"Topic2\", \"Topic2\", \"Topic2\", \"Topic2\", \"Topic2\", \"Topic2\", \"Topic2\", \"Topic2\", \"Topic2\", \"Topic2\", \"Topic2\", \"Topic2\", \"Topic2\", \"Topic2\", \"Topic2\", \"Topic2\", \"Topic3\", \"Topic3\", \"Topic3\", \"Topic3\", \"Topic3\", \"Topic3\", \"Topic3\", \"Topic3\", \"Topic3\", \"Topic3\", \"Topic3\", \"Topic3\", \"Topic3\", \"Topic3\", \"Topic3\", \"Topic3\", \"Topic3\", \"Topic3\", \"Topic3\", \"Topic3\", \"Topic3\", \"Topic3\", \"Topic3\", \"Topic3\", \"Topic3\", \"Topic3\", \"Topic3\", \"Topic3\", \"Topic3\", \"Topic3\", \"Topic3\", \"Topic3\", \"Topic3\", \"Topic3\", \"Topic3\", \"Topic3\", \"Topic3\", \"Topic3\", \"Topic3\", \"Topic3\", \"Topic3\", \"Topic3\", \"Topic3\", \"Topic3\", \"Topic3\", \"Topic3\", \"Topic3\", \"Topic3\", \"Topic4\", \"Topic4\", \"Topic4\", \"Topic4\", \"Topic4\", \"Topic4\", \"Topic4\", \"Topic4\", \"Topic4\", \"Topic4\", \"Topic4\", \"Topic4\", \"Topic4\", \"Topic4\", \"Topic4\", \"Topic4\", \"Topic4\", \"Topic4\", \"Topic4\", \"Topic4\", \"Topic4\", \"Topic4\", \"Topic4\", \"Topic4\", \"Topic4\", \"Topic4\", \"Topic4\", \"Topic4\", \"Topic4\", \"Topic4\", \"Topic4\", \"Topic4\", \"Topic4\", \"Topic4\", \"Topic4\", \"Topic4\", \"Topic4\", \"Topic4\", \"Topic4\", \"Topic4\", \"Topic5\", \"Topic5\", \"Topic5\", \"Topic5\", \"Topic5\", \"Topic5\", \"Topic5\", \"Topic5\", \"Topic5\", \"Topic5\", \"Topic5\", \"Topic5\", \"Topic5\", \"Topic5\", \"Topic5\", \"Topic5\", \"Topic5\", \"Topic5\", \"Topic5\", \"Topic5\", \"Topic5\", \"Topic5\", \"Topic5\", \"Topic5\", \"Topic5\", \"Topic5\", \"Topic5\", \"Topic5\", \"Topic5\", \"Topic5\", \"Topic5\", \"Topic5\", \"Topic5\", \"Topic5\", \"Topic5\", \"Topic5\", \"Topic5\", \"Topic5\", \"Topic5\", \"Topic5\", \"Topic5\", \"Topic5\", \"Topic5\", \"Topic5\", \"Topic5\", \"Topic5\", \"Topic6\", \"Topic6\", \"Topic6\", \"Topic6\", \"Topic6\", \"Topic6\", \"Topic6\", \"Topic6\", \"Topic6\", \"Topic6\", \"Topic6\", \"Topic6\", \"Topic6\", \"Topic6\", \"Topic6\", \"Topic6\", \"Topic6\", \"Topic6\", \"Topic6\", \"Topic6\", \"Topic6\", \"Topic6\", \"Topic6\", \"Topic6\", \"Topic6\", \"Topic6\", \"Topic6\", \"Topic6\", \"Topic6\", \"Topic6\", \"Topic6\", \"Topic6\", \"Topic6\", \"Topic6\", \"Topic6\", \"Topic6\", \"Topic6\", \"Topic6\", \"Topic6\", \"Topic6\", \"Topic6\", \"Topic6\", \"Topic7\", \"Topic7\", \"Topic7\", \"Topic7\", \"Topic7\", \"Topic7\", \"Topic7\", \"Topic7\", \"Topic7\", \"Topic7\", \"Topic7\", \"Topic7\", \"Topic7\", \"Topic7\", \"Topic7\", \"Topic7\", \"Topic7\", \"Topic7\", \"Topic7\", \"Topic7\", \"Topic7\", \"Topic7\", \"Topic7\", \"Topic7\", \"Topic7\", \"Topic7\", \"Topic7\", \"Topic7\", \"Topic7\", \"Topic7\", \"Topic7\", \"Topic7\", \"Topic7\", \"Topic7\", \"Topic7\", \"Topic7\", \"Topic7\", \"Topic7\", \"Topic7\", \"Topic7\", \"Topic7\", \"Topic8\", \"Topic8\", \"Topic8\", \"Topic8\", \"Topic8\", \"Topic8\", \"Topic8\", \"Topic8\", \"Topic8\", \"Topic8\", \"Topic8\", \"Topic8\", \"Topic8\", \"Topic8\", \"Topic8\", \"Topic8\", \"Topic8\", \"Topic8\", \"Topic8\", \"Topic8\", \"Topic8\", \"Topic8\", \"Topic8\", \"Topic8\", \"Topic8\", \"Topic8\", \"Topic8\", \"Topic8\", \"Topic8\", \"Topic8\", \"Topic8\", \"Topic8\", \"Topic8\", \"Topic8\", \"Topic8\", \"Topic8\", \"Topic8\", \"Topic8\", \"Topic8\", \"Topic8\", \"Topic8\", \"Topic8\", \"Topic9\", \"Topic9\", \"Topic9\", \"Topic9\", \"Topic9\", \"Topic9\", \"Topic9\", \"Topic9\", \"Topic9\", \"Topic9\", \"Topic9\", \"Topic9\", \"Topic9\", \"Topic9\", \"Topic9\", \"Topic9\", \"Topic9\", \"Topic9\", \"Topic9\", \"Topic9\", \"Topic9\", \"Topic9\", \"Topic9\", \"Topic9\", \"Topic9\", \"Topic9\", \"Topic9\", \"Topic9\", \"Topic9\", \"Topic9\", \"Topic9\", \"Topic9\", \"Topic9\", \"Topic9\", \"Topic9\", \"Topic9\", \"Topic9\", \"Topic9\", \"Topic10\", \"Topic10\", \"Topic10\", \"Topic10\", \"Topic10\", \"Topic10\", \"Topic10\", \"Topic10\", \"Topic10\", \"Topic10\", \"Topic10\", \"Topic10\", \"Topic10\", \"Topic10\", \"Topic10\", \"Topic10\", \"Topic10\", \"Topic10\", \"Topic10\", \"Topic10\", \"Topic10\", \"Topic10\", \"Topic10\", \"Topic10\", \"Topic10\", \"Topic10\", \"Topic10\", \"Topic10\", \"Topic10\", \"Topic10\", \"Topic10\", \"Topic10\", \"Topic10\", \"Topic10\", \"Topic10\", \"Topic10\", \"Topic10\", \"Topic10\", \"Topic10\", \"Topic10\", \"Topic10\", \"Topic10\"], \"logprob\": [30.0, 29.0, 28.0, 27.0, 26.0, 25.0, 24.0, 23.0, 22.0, 21.0, 20.0, 19.0, 18.0, 17.0, 16.0, 15.0, 14.0, 13.0, 12.0, 11.0, 10.0, 9.0, 8.0, 7.0, 6.0, 5.0, 4.0, 3.0, 2.0, 1.0, -4.5547, -4.6291, -4.8331, -4.8583, -5.0899, -5.1009, -5.2078, -5.2349, -5.27, -5.3297, -5.4333, -5.4497, -5.4525, -5.4743, -5.4763, -5.5107, -5.5138, -5.5364, -5.5405, -5.5405, -5.5594, -5.5691, -5.5695, -5.5927, -5.5982, -5.6186, -5.64, -5.6493, -5.6653, -5.6739, -4.4492, -5.0725, -4.5522, -4.7699, -3.7501, -3.8079, -4.664, -4.6012, -4.8501, -4.4258, -4.0976, -4.8185, -5.2544, -4.943, -4.7776, -5.1854, -4.9641, -4.5442, -4.6549, -4.8725, -5.1075, -3.9457, -4.0019, -4.8619, -4.9045, -4.7813, -4.862, -4.7336, -4.9711, -4.9798, -4.7193, -4.7359, -4.9002, -4.9596, -4.9889, -5.0247, -5.0501, -5.0947, -5.1142, -5.1262, -5.1297, -5.1298, -5.1507, -5.1516, -5.1932, -5.2275, -5.2281, -5.233, -5.281, -5.2839, -5.3479, -5.3958, -5.4001, -5.4045, -5.4127, -5.4151, -5.4308, -5.4499, -5.456, -5.4648, -4.1107, -4.515, -4.699, -5.1061, -4.8555, -4.2849, -3.9584, -4.5829, -4.5107, -4.8626, -3.9577, -4.073, -4.5605, -4.5139, -4.9899, -4.5581, -4.8357, -4.9707, -4.9842, -4.9602, -5.0932, -5.0659, -5.1019, -4.4015, -4.6557, -4.6669, -4.6716, -4.7189, -4.8011, -4.806, -4.8641, -4.898, -4.9031, -4.9235, -5.0138, -5.0459, -5.053, -5.0555, -5.0814, -5.1357, -5.1359, -5.1649, -5.1691, -5.219, -5.3159, -5.3258, -5.3266, -5.372, -5.392, -5.4001, -5.4038, -5.4039, -5.4175, -4.1097, -4.2824, -3.9197, -4.3921, -4.8913, -4.2331, -3.7734, -4.1585, -4.4037, -4.3531, -4.3979, -4.8264, -4.3443, -4.5817, -4.5624, -4.951, -5.0104, -4.9251, -3.983, -3.9922, -4.1652, -4.2875, -4.3201, -4.3656, -4.3698, -4.4264, -4.5538, -4.5781, -4.6299, -4.6311, -4.6611, -4.7763, -4.7809, -4.7915, -4.8034, -4.8554, -4.8589, -4.8717, -4.907, -4.9247, -4.9535, -4.9601, -4.9988, -5.0529, -5.0551, -5.1082, -5.1439, -5.1561, -4.6329, -4.8189, -4.3398, -4.624, -4.4235, -4.6631, -4.139, -4.1466, -4.6272, -4.9002, -4.1516, -4.1919, -4.2024, -4.3302, -4.3807, -4.4476, -4.5019, -4.6078, -4.633, -4.6814, -4.7097, -4.7579, -4.8698, -4.87, -4.9029, -4.9038, -4.9523, -4.9587, -4.9893, -5.0106, -5.0273, -5.0332, -5.0989, -5.1073, -5.1243, -5.1564, -5.1576, -5.1674, -5.185, -5.2031, -4.3207, -3.6235, -4.4241, -4.6412, -4.3604, -4.3002, -4.1398, -4.0115, -3.11, -4.7438, -3.1466, -4.3668, -4.1872, -4.8341, -4.688, -4.8543, -3.7362, -3.8927, -4.1706, -4.2042, -4.3417, -4.4911, -4.4975, -4.5555, -4.6054, -4.7122, -4.7364, -4.7494, -4.7709, -4.7839, -4.8679, -4.8696, -4.9098, -4.933, -4.9348, -4.9606, -4.9817, -4.9874, -5.0283, -5.0429, -5.0628, -5.0733, -5.0926, -5.1214, -5.1738, -5.1834, -4.2011, -3.9037, -4.5845, -4.9004, -4.4988, -4.8214, -4.6209, -4.5901, -4.6059, -4.2519, -4.3041, -4.8311, -3.49, -3.7059, -3.7937, -3.88, -3.9188, -4.0481, -4.0836, -4.1242, -4.1477, -4.3746, -4.4357, -4.4691, -4.4882, -4.6058, -4.6527, -4.6956, -4.7199, -4.7607, -4.8049, -4.8097, -4.813, -4.8154, -4.8422, -4.8504, -4.8569, -4.8663, -4.87, -4.917, -4.9373, -4.9666, -3.6405, -3.6698, -4.1154, -4.4192, -4.4223, -3.9584, -4.1274, -4.5864, -4.594, -4.745, -4.7978, -3.5834, -3.7916, -4.0073, -4.4578, -4.5419, -4.6175, -4.6398, -4.6483, -4.6509, -4.6893, -4.7253, -4.7307, -4.7373, -4.7704, -4.772, -4.7786, -4.7816, -4.8055, -4.8088, -4.8095, -4.8132, -4.8168, -4.821, -4.8227, -4.8312, -4.8325, -4.8353, -4.8604, -4.8602, -4.869, -3.4518, -3.0934, -3.283, -3.6706, -4.1041, -3.3995, -4.0605, -3.8027, -3.9423, -3.8953, -4.0581, -4.316, -3.5191, -4.16, -4.2804, -4.3051, -4.4234, -4.4697, -4.5384, -4.6349, -4.6543, -4.682, -4.7011, -4.7222, -4.7399, -4.7709, -4.8218, -4.8647, -4.8825, -4.8836, -4.8859, -4.8931, -4.9223, -4.948, -4.958, -4.9604, -4.9802, -5.0484, -5.0637, -5.0643, -5.0692, -5.07, -4.1965, -4.5791, -4.4895, -4.3569, -4.2222, -4.2116, -4.8386, -4.9199, -3.6043, -4.1187, -4.2073, -4.4093, -4.4225, -4.4768, -4.4806, -4.5306, -4.6217, -4.6417, -4.6979, -4.7094, -4.7895, -4.7993, -4.8222, -4.8564, -4.8873, -4.8955, -4.91, -4.9241, -4.9683, -4.9889, -4.9911, -5.0007, -5.0306, -5.0529, -5.0579, -5.0784, -5.079, -5.0813, -3.4613, -3.8685, -4.5647, -4.6569, -4.6628, -4.4879, -4.3423, -4.2635, -4.7242, -4.7635, -4.8353, -4.9052], \"loglift\": [30.0, 29.0, 28.0, 27.0, 26.0, 25.0, 24.0, 23.0, 22.0, 21.0, 20.0, 19.0, 18.0, 17.0, 16.0, 15.0, 14.0, 13.0, 12.0, 11.0, 10.0, 9.0, 8.0, 7.0, 6.0, 5.0, 4.0, 3.0, 2.0, 1.0, 1.7187, 1.7182, 1.7166, 1.7164, 1.7142, 1.7141, 1.7128, 1.7125, 1.712, 1.7113, 1.7098, 1.7095, 1.7095, 1.7091, 1.7091, 1.7085, 1.7085, 1.7081, 1.7081, 1.708, 1.7077, 1.7076, 1.7076, 1.7071, 1.7071, 1.7067, 1.7063, 1.7061, 1.7058, 1.7056, 1.549, 1.6229, 1.5145, 1.5295, 1.3161, 1.1925, 1.438, 1.4146, 1.4775, 1.2677, 1.1132, 1.3827, 1.5743, 1.4168, 1.3287, 1.5328, 1.3445, 0.9976, 1.05, 1.2309, 1.4294, 0.2424, 0.2479, 1.1404, 1.1569, 0.8449, 0.8869, 0.3293, 1.0124, 0.9013, 1.9085, 1.9083, 1.9067, 1.906, 1.9057, 1.9053, 1.9049, 1.9044, 1.9041, 1.904, 1.9039, 1.9039, 1.9036, 1.9036, 1.903, 1.9025, 1.9025, 1.9024, 1.9017, 1.9017, 1.9006, 1.8998, 1.8997, 1.8997, 1.8995, 1.8995, 1.8992, 1.8988, 1.8987, 1.8986, 1.7624, 1.6875, 1.676, 1.7936, 1.7051, 1.4678, 1.2911, 1.5144, 1.2122, 1.4481, 0.2304, 0.1768, 0.6503, 0.5523, 1.4503, 0.4422, 1.0669, 1.3845, 0.8969, 0.5816, 1.555, 1.1078, 1.2925, 2.1624, 2.16, 2.1598, 2.1598, 2.1593, 2.1583, 2.1582, 2.1575, 2.157, 2.1569, 2.1566, 2.1553, 2.1548, 2.1547, 2.1547, 2.1542, 2.1533, 2.1533, 2.1528, 2.1527, 2.1518, 2.1499, 2.1497, 2.1497, 2.1487, 2.1482, 2.1481, 2.148, 2.148, 2.1477, 1.9553, 1.9716, 1.8651, 1.9144, 1.9259, 1.6185, 1.2719, 1.3837, 1.2576, 0.9546, 0.9745, 1.6047, 0.7926, 0.781, 0.5006, 1.6674, 1.764, 0.5444, 2.4241, 2.4241, 2.4227, 2.4216, 2.4213, 2.4208, 2.4208, 2.4202, 2.4187, 2.4183, 2.4177, 2.4177, 2.4172, 2.4155, 2.4155, 2.4153, 2.4151, 2.4143, 2.4142, 2.414, 2.4134, 2.413, 2.4125, 2.4124, 2.4117, 2.4106, 2.4105, 2.4094, 2.4086, 2.4083, 2.0857, 2.1927, 1.8724, 2.0153, 1.721, 1.7564, 0.1108, 0.0415, 1.0957, 1.9814, 2.4675, 2.4672, 2.4671, 2.4658, 2.4653, 2.4645, 2.4639, 2.4625, 2.4622, 2.4615, 2.461, 2.4603, 2.4584, 2.4584, 2.4578, 2.4578, 2.4569, 2.4567, 2.4561, 2.4557, 2.4554, 2.4553, 2.4538, 2.4536, 2.4533, 2.4525, 2.4525, 2.4523, 2.4518, 2.4514, 2.2964, 2.114, 2.2369, 2.2962, 2.1889, 2.1576, 2.0612, 1.9413, 1.1398, 2.2523, 1.0415, 1.9473, 0.858, 1.8624, 0.7815, 1.5934, 2.5143, 2.5133, 2.511, 2.5107, 2.5093, 2.5075, 2.5074, 2.5066, 2.5059, 2.5043, 2.5039, 2.5037, 2.5033, 2.5031, 2.5016, 2.5016, 2.5008, 2.5004, 2.5003, 2.4998, 2.4994, 2.4993, 2.4984, 2.4981, 2.4976, 2.4974, 2.497, 2.4963, 2.495, 2.4948, 2.1501, 1.6852, 2.0469, 2.3142, 1.7255, 2.1527, 1.6927, 1.1587, 1.2052, -0.0637, -0.0543, 0.3058, 2.5178, 2.5167, 2.5161, 2.5156, 2.5153, 2.5143, 2.514, 2.5137, 2.5135, 2.5112, 2.5105, 2.5101, 2.5099, 2.5083, 2.5077, 2.507, 2.5066, 2.506, 2.5052, 2.5052, 2.5051, 2.5051, 2.5046, 2.5044, 2.5043, 2.5042, 2.5041, 2.5032, 2.5028, 2.5023, 2.3253, 1.9736, 2.0265, 2.2083, 2.015, 1.2912, 1.245, 1.9772, 1.2576, 0.5628, 1.4144, 2.524, 2.5227, 2.5212, 2.5166, 2.5155, 2.5144, 2.5141, 2.5139, 2.5139, 2.5133, 2.5127, 2.5126, 2.5125, 2.512, 2.5119, 2.5118, 2.5118, 2.5113, 2.5113, 2.5113, 2.5112, 2.5111, 2.5111, 2.511, 2.5109, 2.5109, 2.5108, 2.5103, 2.5103, 2.5102, 2.2618, 2.0436, 2.0798, 2.1811, 2.1583, 1.6634, 2.0436, 1.8586, 1.7627, 1.4125, 1.4115, 0.7293, 2.5342, 2.5298, 2.5286, 2.5283, 2.527, 2.5264, 2.5255, 2.5241, 2.5238, 2.5234, 2.5231, 2.5228, 2.5225, 2.522, 2.5211, 2.5203, 2.52, 2.5199, 2.5199, 2.5198, 2.5192, 2.5187, 2.5185, 2.5184, 2.518, 2.5165, 2.5162, 2.5162, 2.5161, 2.516, 2.3368, 2.304, 2.1314, 1.9484, 0.0275, -0.0235, 0.7031, 0.8199, 2.6609, 2.6568, 2.6558, 2.6533, 2.6531, 2.6524, 2.6523, 2.6516, 2.6501, 2.6498, 2.6488, 2.6486, 2.647, 2.6468, 2.6464, 2.6457, 2.645, 2.6448, 2.6445, 2.6442, 2.6432, 2.6427, 2.6426, 2.6424, 2.6417, 2.6411, 2.641, 2.6404, 2.6404, 2.6403, 2.3498, 2.3972, 2.3349, 2.3813, 2.3405, 1.9822, 1.7678, 1.3627, 1.1783, -0.5754, -0.5855, 1.0092]}, \"token.table\": {\"Topic\": [5, 9, 5, 10, 2, 3, 8, 8, 1, 3, 8, 8, 3, 6, 9, 6, 6, 2, 3, 5, 6, 8, 3, 5, 8, 7, 3, 9, 1, 2, 1, 4, 7, 10, 4, 1, 3, 4, 5, 8, 9, 10, 1, 5, 8, 3, 9, 3, 7, 9, 6, 9, 3, 9, 4, 3, 8, 9, 4, 8, 3, 6, 3, 3, 1, 9, 3, 7, 2, 3, 4, 9, 1, 2, 3, 4, 5, 6, 8, 9, 10, 10, 5, 10, 4, 7, 10, 8, 2, 2, 6, 2, 3, 5, 10, 5, 6, 4, 5, 1, 9, 10, 9, 3, 5, 9, 10, 1, 3, 4, 6, 7, 9, 4, 1, 3, 7, 3, 1, 4, 7, 7, 1, 5, 6, 6, 8, 4, 1, 3, 5, 7, 8, 8, 10, 5, 1, 7, 10, 2, 3, 9, 9, 4, 5, 6, 10, 8, 10, 1, 2, 3, 6, 10, 1, 9, 7, 2, 4, 2, 3, 3, 5, 9, 4, 9, 2, 7, 3, 10, 7, 8, 8, 2, 9, 4, 4, 6, 7, 9, 1, 2, 1, 4, 1, 2, 3, 4, 9, 10, 5, 9, 1, 3, 4, 7, 1, 3, 4, 6, 8, 10, 3, 10, 1, 3, 4, 6, 7, 7, 5, 5, 2, 3, 6, 7, 10, 7, 3, 10, 6, 5, 9, 6, 7, 1, 2, 3, 6, 1, 5, 4, 10, 5, 5, 9, 4, 1, 3, 2, 1, 7, 9, 2, 6, 10, 9, 8, 1, 2, 4, 10, 1, 3, 5, 10, 5, 10, 5, 1, 2, 6, 9, 10, 1, 6, 1, 2, 4, 9, 6, 2, 3, 6, 3, 1, 1, 2, 10, 10, 1, 1, 2, 4, 9, 4, 10, 1, 1, 4, 6, 6, 2, 6, 2, 3, 1, 7, 2, 2, 6, 2, 8, 1, 2, 9, 1, 2, 1, 3, 5, 8, 2, 6, 7, 4, 10, 7, 6, 1, 3, 7, 9, 1, 3, 4, 2, 2, 6, 9, 9, 4, 4, 4, 1, 2, 4, 7, 9, 1, 9, 1, 5, 5, 9, 1, 2, 3, 5, 10, 1, 2, 4, 6, 1, 3, 5, 1, 5, 1, 5, 5, 3, 9, 4, 5, 7, 9, 3, 6, 8, 9, 8, 2, 1, 2, 3, 6, 10, 1, 5, 1, 3, 7, 3, 3, 1, 2, 3, 6, 8, 2, 2, 3, 4, 9, 10, 9, 1, 2, 3, 4, 6, 9, 1, 1, 2, 4, 3, 5, 8, 8, 1, 10, 6, 4, 10, 5, 5, 1, 2, 3, 5, 6, 6, 6, 2, 3, 5, 3, 5, 10, 4, 1, 2, 3, 1, 2, 5, 5, 3, 3, 1, 3, 2, 2, 9, 5, 5, 6, 7, 2, 3, 4, 5, 10, 6, 9, 2, 4, 2, 4, 4, 10, 7, 3, 10, 3, 4, 6, 3, 5, 1, 2, 3, 4, 5, 6, 8, 8, 5, 10, 5, 10, 2, 6, 1, 4, 6, 9, 7, 10, 2, 4, 6, 8, 9, 10, 2, 4, 4, 9, 3, 1, 8, 3, 8, 2, 4, 2, 6, 5, 10, 3, 8, 6, 4, 5, 7, 2, 8, 2, 3, 4, 6, 1, 10, 10, 1, 2, 3, 4, 5, 6, 9, 10, 7, 1, 7, 9, 3, 6, 8, 2, 4, 1, 8, 3, 10, 7, 7, 7, 7, 6, 2, 6, 10, 3, 4, 8, 10, 8, 1, 6, 10, 9, 1, 1, 2, 4, 7, 7, 2, 5, 4, 8, 1, 6, 8, 1, 2, 1, 4, 9, 1, 9, 2, 1, 3, 6, 7, 9, 10, 8, 7, 3, 9, 3, 1, 2, 3, 4, 5, 10, 1, 4, 8, 6, 9, 4, 1, 2, 6, 4, 2, 7, 7, 7, 3, 6, 10, 6, 7, 1, 8, 10, 1, 3, 6, 8, 8, 6, 1, 1, 2, 6, 4, 6, 2, 2, 3, 1, 3, 4, 10, 10, 5, 5, 3, 4, 5, 1, 1, 10, 3, 1, 4, 6, 9, 7, 9, 9, 9, 10, 2, 1, 2, 3, 7, 1, 5], \"Freq\": [0.9792860288662768, 0.9861368964150237, 0.9831566252291976, 0.9871147875675702, 0.9811226500587216, 0.9812847208566216, 0.9867346427508582, 0.9792345709555575, 0.9919625213889968, 0.9831645624067776, 0.995227700592485, 0.9801806749451687, 0.20296114608120122, 0.6886181742040756, 0.10148057304060061, 0.9887261013954921, 0.9766443800511012, 0.18309354260888497, 0.19810121003584275, 0.18309354260888497, 0.10805520547409604, 0.3271671499076797, 0.6640839736353521, 0.3209739205904202, 0.9844947227547917, 0.9905968210197907, 0.986627790097353, 0.9747589300735636, 0.9824711010095382, 0.9845144965398609, 0.09461452161310054, 0.57399476445281, 0.3279970082587485, 0.9916596985939098, 0.9899023270683488, 0.11193133833291193, 0.40648749184057487, 0.023564492280613036, 0.19833447669515972, 0.16495144596429126, 0.023564492280613036, 0.06676606146173694, 0.09948103626985057, 0.20559414162435782, 0.6897351848042972, 0.991667007672748, 0.9758110663501699, 0.7763096166776782, 0.10397003794790333, 0.11783270967429044, 0.9836709700582092, 0.9915492462806439, 0.3227119424701502, 0.664406940379721, 0.9773332802598373, 0.991306301031222, 0.9817798086883975, 0.9849759663357919, 0.981136367690668, 0.9774398761162262, 0.9816746316843363, 0.9715468409924513, 0.9757299216508158, 0.9814770095929887, 0.9924106816833796, 0.9658481584614225, 0.25798127784677527, 0.72616952282796, 0.5895229171499038, 0.15283927481664172, 0.11644897128886988, 0.138283153405533, 0.22666910424430503, 0.18500198949351365, 0.037500403275712225, 0.09166765245174101, 0.2383358963745266, 0.07583414884644028, 0.029166980325553954, 0.07750083343647193, 0.03916708786574388, 0.9649843885834315, 0.9699601041890917, 0.9658453101814434, 0.9840598529281864, 0.9911717736837792, 0.9713142463733879, 0.9811479656381176, 0.988645833693401, 0.9862262344014866, 0.987199181779867, 0.3112997723095479, 0.1436768179890221, 0.4150663630793972, 0.12771272710135298, 0.542560244332787, 0.4504273726536345, 0.972038678682305, 0.9822506856445476, 0.7311327754675987, 0.10235858856546383, 0.15353788284819572, 0.9782986293763155, 0.5652640469335978, 0.13346512219265502, 0.2904829130075433, 0.9702884549755069, 0.17975808944551422, 0.3023204231583648, 0.11439151146532724, 0.08987904472275711, 0.2778079564157947, 0.03540689640593462, 0.9964779435048121, 0.16463157425789188, 0.22342856506428185, 0.6114887043864556, 0.9817094911049148, 0.1577656994014868, 0.01972071242518585, 0.8233397437515092, 0.9833810113012924, 0.98289708068277, 0.9813672159126124, 0.9962349798729871, 0.9884418170351408, 0.9782944841595529, 0.9862033537398303, 0.1531934549956535, 0.2961740129915968, 0.08170317599768187, 0.1404273337460157, 0.3268127039907275, 0.9740786059541017, 0.9891687779190083, 0.9869423367153903, 0.8125927251183326, 0.1363410612614652, 0.04908278205412747, 0.9797980328336823, 0.9908104227677677, 0.9954676350920807, 0.9891417881372594, 0.9806230016187131, 0.991442592960024, 0.2702945643893175, 0.7264166417962907, 0.9748041825596077, 0.9910080215445813, 0.3474313210256708, 0.11391190853300683, 0.09112952682640546, 0.039869167986552385, 0.4043872752921742, 0.9920078058637788, 0.9704359601654831, 0.9826926456272074, 0.973264673471478, 0.9743459376383727, 0.7867879280731687, 0.20783077345328985, 0.9722079262333796, 0.9819323917321594, 0.9918019345063319, 0.9890923175558198, 0.9863800865596356, 0.9792138824099058, 0.9887768248552468, 0.9761838244933854, 0.9871665825067413, 0.9914928012379154, 0.9874514217762581, 0.9905163092793778, 0.977451685284043, 0.9770211439086913, 0.991857694634311, 0.9851294637940421, 0.9701696411174882, 0.987965089547787, 0.9897464217275428, 0.8403103791893654, 0.1578764954840626, 0.9901387466503235, 0.9914705265361643, 0.369718626649643, 0.1494607214115578, 0.13372801389455172, 0.1297948370153002, 0.18092613644556996, 0.03539859191326369, 0.1739144502928151, 0.8173979163762309, 0.6110163857622748, 0.17538433295028258, 0.14143897818571177, 0.06789070952914164, 0.23563552775255106, 0.4551316357960233, 0.05164614306905229, 0.0806970985453942, 0.09683651825447304, 0.0806970985453942, 0.9836904951239825, 0.976316693764555, 0.25002583834426106, 0.032146179215690705, 0.08929494226580752, 0.04643336997821991, 0.5786312258824328, 0.994245538088967, 0.9867911545810353, 0.9918255215819637, 0.5374022437272382, 0.10596663960818782, 0.15894995941228174, 0.06055236549039304, 0.1438118680396835, 0.9878384424186549, 0.2759712474770711, 0.7150164139178661, 0.9832328465345402, 0.9742682206849073, 0.9780125024396938, 0.9773742894023688, 0.9930472574083021, 0.6345567836153816, 0.24406030139053136, 0.07885025121847937, 0.041302512543013, 0.977988597329324, 0.9917362875018234, 0.9789095605076027, 0.9827337689131916, 0.9875129458287429, 0.7257428148084104, 0.2661056987630838, 0.9835056574513694, 0.7418642218943635, 0.24437880250637856, 0.9837594009674919, 0.9791497421358198, 0.9850387090899592, 0.9877086529367094, 0.8583380217756759, 0.0539269961325032, 0.08538441054313006, 0.9852404867148026, 0.9852685661692071, 0.16198103565350644, 0.4257787222892169, 0.18512118360400734, 0.226773449914909, 0.03531516670628382, 0.21973881506132154, 0.6945316118902485, 0.05101079635352107, 0.8321350672447951, 0.16075336526319906, 0.9865732039738307, 0.197920009217582, 0.2553806570549445, 0.4533006662725265, 0.09576774639560419, 0.9680975188356628, 0.9963510173205384, 0.9833515507159833, 0.4918022109585598, 0.30110339446442436, 0.15055169723221218, 0.06022067889288487, 0.9745228406136494, 0.6926073078028063, 0.07804026003411901, 0.2243657475980922, 0.9873018561065552, 0.9729398002219735, 0.6807351512748925, 0.24311969688389015, 0.06946277053825434, 0.9816594740120345, 0.9803531111834333, 0.48395553690369497, 0.2613359899279953, 0.09356473713471436, 0.15809214205520702, 0.9825425430626316, 0.9807439577689029, 0.9785529190676856, 0.977915948971929, 0.7856574380314799, 0.19641435950786998, 0.9917064847233192, 0.9897327745662794, 0.9824660738263168, 0.9941678862238457, 0.9853974035943793, 0.9879664939770983, 0.9856513232824962, 0.9945877932351488, 0.9877187412773669, 0.9852098139606129, 0.9837548152699453, 0.9839977094931962, 0.43937823842163737, 0.3623738048838246, 0.19930559268610354, 0.3644534343981825, 0.6259091590751396, 0.9879873410877458, 0.3368228496552667, 0.661170778952931, 0.9762564832663535, 0.2972889694010154, 0.6891698836114447, 0.9974684832939487, 0.23289655811146423, 0.7652315480805254, 0.9897054661914152, 0.9828034223483753, 0.9918889682692283, 0.18823149339229991, 0.5826212890714045, 0.22408511118130942, 0.35958666222964675, 0.14147671956576266, 0.48927365516492916, 0.9822054850954564, 0.3392618723811906, 0.1038556752187318, 0.553896934499903, 0.975951669001389, 0.9754626407219021, 0.995237659543471, 0.9872824630527743, 0.5422232107250313, 0.28269757140364876, 0.06488140983034563, 0.04402667095630596, 0.06719860303857225, 0.8190383492400847, 0.17206688009245474, 0.1934014347441149, 0.8012345153684759, 0.9882290505107612, 0.9813673575921452, 0.6637374341101957, 0.2546666287975675, 0.04812597709560331, 0.016041992365201103, 0.014036743319550966, 0.730852742425737, 0.264350991941224, 0.7117398347573879, 0.2826025814477864, 0.223854078338892, 0.18492293427995427, 0.5839671608840662, 0.15632136634971763, 0.8337139538651607, 0.23859128072649902, 0.7511206985834228, 0.9887243370880547, 0.9803891096891469, 0.9904265571078179, 0.9889509578690016, 0.9754922416277898, 0.9744532260765318, 0.973082012729371, 0.25182724142981305, 0.10977084882838005, 0.6155777012728764, 0.021523695848701972, 0.9900077859405447, 0.9827059157732526, 0.17601825800480303, 0.4430804425638145, 0.16994866290118912, 0.14567028248673353, 0.06069595103613897, 0.8264897315780998, 0.1673903253829063, 0.1407404522226303, 0.5761562262863927, 0.2814809044452606, 0.9901465691710131, 0.9952920686876807, 0.2586792220297473, 0.6691919004682593, 0.0337407680908366, 0.0337407680908366, 0.9810773809189465, 0.9779008500855291, 0.49500276637078244, 0.1430867371540543, 0.26297021963447814, 0.04640650934726085, 0.05027371845953259, 0.9664276724647759, 0.587636079722556, 0.22904665088227422, 0.0732198310197434, 0.048813220679828934, 0.02252917877530566, 0.039426062856784905, 0.9868129361504977, 0.9873005566712878, 0.3572883617927246, 0.6406549935593683, 0.3999609881644384, 0.08362820661620077, 0.5126772666471439, 0.9747968969138593, 0.9848801426919442, 0.9837060328021925, 0.9839972675034326, 0.9901160742868899, 0.9749166987133561, 0.9727421226016831, 0.9720167371143769, 0.19278216908301674, 0.2266036022554758, 0.08117143961390177, 0.06087857971042634, 0.4329143446074762, 0.9752516537704404, 0.992072849244194, 0.9878298358448623, 0.8221497932663523, 0.1775843553455321, 0.9829711705659875, 0.9951676895446565, 0.9792565690272653, 0.9848680414889828, 0.21776641889776616, 0.1704258930504257, 0.605958730845958, 0.1955702020626088, 0.209539502209938, 0.5867106061878264, 0.9873027120787979, 0.9944540032737784, 0.9845663341633133, 0.20793655385629703, 0.785538092346011, 0.989646619273864, 0.9924263976897366, 0.971804582194482, 0.9718405902559929, 0.9700006066393677, 0.9815350205590242, 0.9938386173743566, 0.6264627478745776, 0.07656766918467059, 0.13921394397212833, 0.07656766918467059, 0.06960697198606416, 0.19740373832660407, 0.7896149533064163, 0.8781171857988866, 0.10035624980558705, 0.32871792488485646, 0.6574358497697129, 0.9699945683139761, 0.9852385845206005, 0.9926349975317987, 0.9824139595623569, 0.9760399426969663, 0.7364063639700585, 0.18101608946750042, 0.08228004066704564, 0.989983927490312, 0.9883820633952387, 0.24784893648738232, 0.03997563491731973, 0.18788548411140274, 0.037976853171453745, 0.03397928967972177, 0.029981726187989798, 0.41974416663185715, 0.9919874852401094, 0.9688364251687388, 0.9778752468689279, 0.9746999998586066, 0.9761545053273245, 0.9910952866061242, 0.995309454836707, 0.7112202961733142, 0.14349181414023007, 0.06862651980619698, 0.07486529433403308, 0.9808396762977999, 0.9720270094238308, 0.11707807774026621, 0.20137429371325788, 0.14049369328831945, 0.14985993950754076, 0.19669117060364721, 0.19200804749403658, 0.9854260991549936, 0.9857030562985892, 0.9780645586673952, 0.9710855083815986, 0.9841321497217017, 0.29028680589785366, 0.708123874993249, 0.9918953872267048, 0.9850005501812958, 0.9773003711362834, 0.987972311160168, 0.36451043569735336, 0.6235046926402097, 0.23053955064968934, 0.7492535396114903, 0.9924386213777112, 0.986618577436862, 0.9875937011358326, 0.20749864953817337, 0.7904710458597081, 0.9944924038828975, 0.9810377931801205, 0.9826980988175282, 0.3001790443354445, 0.19546542421842897, 0.06282817207020931, 0.4397972044914652, 0.9732687873469053, 0.9820580825136013, 0.9681943124432787, 0.22867733044068822, 0.17549655591959795, 0.03899923464879954, 0.09838443286401703, 0.26235848763737873, 0.07622577681356274, 0.08154385426567178, 0.03899923464879954, 0.9751539356349653, 0.7513760794273598, 0.13558666094929803, 0.10733943991819427, 0.2481651043070767, 0.11059531822380592, 0.6365974414833707, 0.7933843392670518, 0.19990786501217053, 0.9848503271688489, 0.9940274354365976, 0.9854129081723394, 0.9749045919503693, 0.9710758527208527, 0.9842750737431906, 0.9945610609131958, 0.9914350131735739, 0.9849745381041205, 0.9859475129724659, 0.986272042360422, 0.9670431864658624, 0.2717415725835171, 0.06793539314587928, 0.6170798210750701, 0.04529026209725285, 0.9858693256851789, 0.8999211378861766, 0.09203738910199533, 0.9675964890407468, 0.9921421213778788, 0.9863553721587623, 0.05299217577449984, 0.5347392282699529, 0.11802802786138601, 0.29145696675974914, 0.9922333123272632, 0.9818787777692762, 0.9949343131516963, 0.9798834979649524, 0.9843294958579466, 0.9892802188944393, 0.98571578474384, 0.9763025368687126, 0.7787478776969777, 0.2123857848264485, 0.6751847220709603, 0.07943349671423063, 0.2439743113365655, 0.9875499230542397, 0.9849034815222504, 0.9850482701225137, 0.4325769926039955, 0.051591751411485705, 0.2579587570574285, 0.035717366361797794, 0.15477525423445712, 0.06746613646117361, 0.9726131415425747, 0.9777573274203134, 0.8057565188985021, 0.190550528117889, 0.9918788533289948, 0.5573683479184179, 0.10226942163640695, 0.2761274384182988, 0.05624818190002383, 0.2643620673400772, 0.7235172369307377, 0.8645987527640396, 0.12852143622168158, 0.9855743919815068, 0.9815359950964845, 0.9808159234244291, 0.9911932771211956, 0.1876652959133323, 0.8042798396285671, 0.9889692908076042, 0.9898295808183644, 0.39499690227297096, 0.6003952914549159, 0.9923591999986392, 0.9882066251867624, 0.2938824071212038, 0.1959216047474692, 0.5061308122642955, 0.9793668650506119, 0.9792631142015092, 0.5089648453831389, 0.4633859040055444, 0.02278947068879727, 0.9781501245202303, 0.09961057611071057, 0.13025998414477535, 0.7662352008516198, 0.978633238500512, 0.9894596192195335, 0.9917807317549383, 0.984226612108784, 0.17187447647501036, 0.8078100394325488, 0.9901756092955684, 0.9906113470129367, 0.993949259360923, 0.9887426997328623, 0.9872263338163146, 0.41424373224442385, 0.19659024581091303, 0.11584782342428802, 0.2703115879900054, 0.986055999728269, 0.9907090797464123, 0.9820046863667935, 0.2793956024533514, 0.5122252711644775, 0.201785712882976, 0.9807544451230407, 0.9783698021942059, 0.9715802807256426, 0.9759490521874433, 0.5642007910613454, 0.23327532707344084, 0.13562519015897723, 0.06510009127630907, 0.9751687197072388, 0.9851355182776325, 0.9777241879101727, 0.9826229627429247, 0.9783404598770872, 0.9827402783589848, 0.19921394445048182, 0.6374846222415419, 0.07968557778019274, 0.08366985666920237, 0.991125748822154, 0.986211538349026], \"Term\": [\"absolutely\", \"account\", \"act\", \"activity\", \"actually\", \"administration\", \"advance\", \"advance stimulus\", \"agree\", \"agreement\", \"ahead\", \"ahead economic\", \"aid\", \"aid\", \"aid\", \"aid package\", \"amazon\", \"american\", \"american\", \"american\", \"american\", \"american\", \"american people\", \"american people\", \"american time\", \"approved\", \"ask\", \"asking\", \"bad\", \"based\", \"best\", \"best\", \"best\", \"best economic\", \"best stimulus\", \"biden\", \"biden\", \"biden\", \"biden\", \"biden\", \"biden\", \"biden\", \"biden stimulus\", \"biden stimulus\", \"biden stimulus\", \"biden trillion\", \"bidenlied\", \"big\", \"big\", \"big\", \"big bold\", \"bigger\", \"billion\", \"billion\", \"billionaire\", \"bipartisan\", \"bipartisan agreement\", \"bitcoin\", \"blow\", \"blow democrat\", \"board\", \"bold\", \"break\", \"breaking\", \"briantylercohen\", \"btc\", \"budget\", \"budget\", \"care\", \"care\", \"care\", \"care\", \"check\", \"check\", \"check\", \"check\", \"check\", \"check\", \"check\", \"check\", \"check\", \"check going\", \"check promised\", \"check stimulus\", \"check update\", \"cheque\", \"chief\", \"citizen\", \"claim\", \"class\", \"cnn\", \"come\", \"come\", \"come\", \"come\", \"coming\", \"coming\", \"company\", \"compromise\", \"congress\", \"congress\", \"congress\", \"corporation\", \"country\", \"country\", \"country\", \"cover\", \"covid\", \"covid\", \"covid\", \"covid\", \"covid\", \"covid\", \"covid relief\", \"covid stimulus\", \"covid stimulus\", \"covid stimulus\", \"credit\", \"cut\", \"cut\", \"cut\", \"cut stimulus\", \"damn\", \"david\", \"day\", \"deal\", \"deal blow\", \"demand\", \"democrat\", \"democrat\", \"democrat\", \"democrat\", \"democrat\", \"democrat speed\", \"democrat stimulus\", \"democratic\", \"dems\", \"dems\", \"dems\", \"dependent\", \"direct\", \"dollar\", \"dollar stimulus\", \"dont\", \"earnings\", \"economic\", \"economic\", \"economic aid\", \"economic stimulus\", \"economy\", \"economy\", \"economy\", \"economy\", \"economy\", \"election\", \"era\", \"exactly\", \"executive\", \"extra\", \"family\", \"family\", \"far\", \"february\", \"feel\", \"file\", \"finally\", \"fiscal\", \"fix\", \"focus\", \"folk\", \"force\", \"forget\", \"forward\", \"free\", \"friend\", \"fuck\", \"fucking\", \"funding\", \"future\", \"gave\", \"getting\", \"getting\", \"getting stimulus\", \"god\", \"going\", \"going\", \"going\", \"going\", \"going\", \"going\", \"gonna\", \"gonna\", \"good\", \"good\", \"good\", \"good\", \"gop\", \"gop\", \"gop\", \"gop\", \"gop\", \"gop\", \"gop senator\", \"gop stimulus\", \"got\", \"got\", \"got\", \"got\", \"got\", \"got stimulus\", \"gotten\", \"gotten stimulus\", \"government\", \"government\", \"government\", \"government\", \"government\", \"govt\", \"great\", \"great\", \"guy\", \"hate\", \"health\", \"heard\", \"hell\", \"help\", \"help\", \"help\", \"help\", \"hey\", \"higher\", \"hit\", \"hold\", \"holding\", \"hope\", \"hope\", \"hour\", \"house\", \"house\", \"household\", \"idea\", \"im\", \"immediately\", \"income\", \"income\", \"income\", \"increase\", \"jim_jordan\", \"job\", \"job\", \"job\", \"job\", \"joe\", \"joe\", \"joe\", \"joe\", \"joe biden\", \"joe biden\", \"joe manchin\", \"joebiden\", \"joebiden\", \"joebiden\", \"joebiden\", \"joy\", \"jstein_wapo\", \"kamalaharris\", \"know\", \"know\", \"know\", \"know\", \"later\", \"le\", \"le\", \"le\", \"leadermcconnell\", \"left\", \"let\", \"let\", \"let\", \"lie\", \"life\", \"like\", \"like\", \"like\", \"like\", \"like stimulus\", \"limit\", \"literally\", \"little\", \"live\", \"live\", \"ll\", \"loan\", \"local\", \"lol\", \"long\", \"look\", \"lose\", \"lost\", \"love\", \"low\", \"lower\", \"majority\", \"make\", \"make\", \"make\", \"making\", \"making\", \"man\", \"manchin\", \"manchin\", \"manchin deal\", \"march\", \"march\", \"market\", \"marshablackburn\", \"marshablackburn\", \"marshablackburn best\", \"massive\", \"maybe\", \"mcconnell\", \"mcconnell\", \"mcconnell\", \"mean\", \"mean\", \"mean\", \"middle\", \"million\", \"million\", \"million\", \"million people\", \"mind\", \"minimum\", \"minimum wage\", \"money\", \"money\", \"money\", \"money\", \"money\", \"month\", \"month\", \"monthly\", \"monthly\", \"monthly stimulus\", \"nd\", \"need\", \"need\", \"need\", \"need\", \"need\", \"need stimulus\", \"need stimulus\", \"needed\", \"needed\", \"new\", \"new\", \"new\", \"new stimulus\", \"new stimulus\", \"news\", \"news\", \"nice\", \"obama\", \"office\", \"oh\", \"oil\", \"old\", \"opinion\", \"package\", \"package\", \"package\", \"package\", \"package american\", \"paid\", \"pandemic\", \"pandemic\", \"pandemic\", \"pandemic\", \"pandemic\", \"party\", \"party\", \"pas\", \"pas\", \"pas\", \"pas stimulus\", \"passed\", \"pay\", \"pay\", \"pay\", \"pay\", \"paycheck\", \"paying\", \"payment\", \"payment\", \"payment\", \"payment\", \"payment\", \"pelosi\", \"people\", \"people\", \"people\", \"people\", \"people\", \"people\", \"people need\", \"people stimulus\", \"person\", \"person\", \"plan\", \"plan\", \"plan\", \"plan support\", \"policy\", \"political\", \"politician\", \"poor\", \"possible\", \"post\", \"potential\", \"potus\", \"potus\", \"potus\", \"potus\", \"potus\", \"potus joebiden\", \"potus stimulus\", \"ppl\", \"president\", \"president\", \"president biden\", \"price\", \"priority\", \"problem\", \"promise\", \"promise\", \"promise\", \"promised\", \"promised\", \"promised\", \"promised stimulus\", \"proposal\", \"provide\", \"push\", \"push\", \"qualify\", \"question\", \"quit\", \"rd\", \"rd stimulus\", \"read\", \"real\", \"really\", \"really\", \"really\", \"really\", \"really\", \"reason\", \"reason\", \"receive\", \"receive\", \"received\", \"received\", \"received stimulus\", \"recent\", \"reconciliation\", \"recovery\", \"refund\", \"relief\", \"relief\", \"relief\", \"relief plan\", \"report\", \"republican\", \"republican\", \"republican\", \"republican\", \"republican\", \"republican\", \"republican\", \"republican voted\", \"republican want\", \"rescue\", \"rest\", \"retroactive\", \"return\", \"rich\", \"right\", \"right\", \"right\", \"right\", \"rise\", \"save\", \"say\", \"say\", \"say\", \"say\", \"say\", \"say\", \"school\", \"second\", \"second stimulus\", \"sen\", \"sen_joemanchin\", \"senate\", \"senate\", \"senate democrat\", \"senate republican\", \"send stimulus\", \"sending\", \"senschumer\", \"senschumer\", \"sign\", \"sign\", \"soon\", \"speed\", \"speed ahead\", \"spend\", \"spend\", \"spending\", \"spent\", \"stand\", \"state\", \"state\", \"state\", \"state\", \"step\", \"stimulate\", \"stimulate economy\", \"stimulus check\", \"stimulus check\", \"stimulus check\", \"stimulus check\", \"stimulus check\", \"stimulus check\", \"stimulus check\", \"stimulus check\", \"stimulus cheque\", \"stimulus money\", \"stimulus money\", \"stimulus money\", \"stimulus package\", \"stimulus package\", \"stimulus package\", \"stimulus payment\", \"stimulus payment\", \"stimulus people\", \"stimulus plan\", \"stimulus relief\", \"stimulus republican\", \"stimulus tax\", \"stimulus vaccine\", \"stock\", \"stock market\", \"story\", \"student\", \"suffering\", \"sum\", \"support\", \"support\", \"support\", \"support\", \"support bipartisan\", \"sure\", \"sure\", \"survival\", \"taking\", \"talk\", \"tax\", \"tax\", \"tax\", \"tax\", \"tax cut\", \"tax return\", \"tell\", \"testing\", \"th\", \"thank\", \"thedemocrats\", \"thehill\", \"thing\", \"thing\", \"think\", \"think\", \"think\", \"thought\", \"thousand\", \"threshold\", \"time\", \"time\", \"time\", \"time\", \"time\", \"time\", \"time check\", \"treasury\", \"trillion\", \"trillion\", \"trillion stimulus\", \"trump\", \"trump\", \"trump\", \"trump\", \"try\", \"try\", \"trying\", \"trying\", \"tuesday\", \"tweet\", \"understand\", \"unemployed\", \"unemployment\", \"unemployment\", \"unity\", \"update\", \"use\", \"use\", \"used\", \"using\", \"vaccine\", \"vaccine\", \"vaccine\", \"ve\", \"virus\", \"vote\", \"vote\", \"vote\", \"vote stimulus\", \"voted\", \"voted\", \"voted\", \"voted advance\", \"voted stimulus\", \"voter\", \"voting\", \"vp\", \"vp\", \"wage\", \"wait\", \"waiting\", \"waiting stimulus\", \"wall\", \"want\", \"want\", \"want\", \"want\", \"want stimulus\", \"wanted\", \"washington\", \"week\", \"week\", \"week\", \"white\", \"white house\", \"wish\", \"word\", \"work\", \"work\", \"work\", \"work\", \"world\", \"worth\", \"wrong\", \"ya\", \"yahoo\", \"yeah\", \"year\", \"year\", \"year\", \"year\", \"yes\", \"youtube\"]}, \"R\": 30, \"lambda.step\": 0.01, \"plot.opts\": {\"xlab\": \"PC1\", \"ylab\": \"PC2\"}, \"topic.order\": [8, 1, 6, 4, 2, 5, 9, 10, 3, 7]};\n",
       "\n",
       "function LDAvis_load_lib(url, callback){\n",
       "  var s = document.createElement('script');\n",
       "  s.src = url;\n",
       "  s.async = true;\n",
       "  s.onreadystatechange = s.onload = callback;\n",
       "  s.onerror = function(){console.warn(\"failed to load library \" + url);};\n",
       "  document.getElementsByTagName(\"head\")[0].appendChild(s);\n",
       "}\n",
       "\n",
       "if(typeof(LDAvis) !== \"undefined\"){\n",
       "   // already loaded: just create the visualization\n",
       "   !function(LDAvis){\n",
       "       new LDAvis(\"#\" + \"ldavis_el170481403667093090085204536347\", ldavis_el170481403667093090085204536347_data);\n",
       "   }(LDAvis);\n",
       "}else if(typeof define === \"function\" && define.amd){\n",
       "   // require.js is available: use it to load d3/LDAvis\n",
       "   require.config({paths: {d3: \"https://cdnjs.cloudflare.com/ajax/libs/d3/3.5.5/d3.min\"}});\n",
       "   require([\"d3\"], function(d3){\n",
       "      window.d3 = d3;\n",
       "      LDAvis_load_lib(\"https://cdn.rawgit.com/bmabey/pyLDAvis/files/ldavis.v1.0.0.js\", function(){\n",
       "        new LDAvis(\"#\" + \"ldavis_el170481403667093090085204536347\", ldavis_el170481403667093090085204536347_data);\n",
       "      });\n",
       "    });\n",
       "}else{\n",
       "    // require.js not available: dynamically load d3 & LDAvis\n",
       "    LDAvis_load_lib(\"https://cdnjs.cloudflare.com/ajax/libs/d3/3.5.5/d3.min.js\", function(){\n",
       "         LDAvis_load_lib(\"https://cdn.rawgit.com/bmabey/pyLDAvis/files/ldavis.v1.0.0.js\", function(){\n",
       "                 new LDAvis(\"#\" + \"ldavis_el170481403667093090085204536347\", ldavis_el170481403667093090085204536347_data);\n",
       "            })\n",
       "         });\n",
       "}\n",
       "</script>"
      ],
      "text/plain": [
       "PreparedData(topic_coordinates=               x          y  topics  cluster       Freq\n",
       "topic                                                  \n",
       "7      32.420952  8.115230   1       1        17.816808\n",
       "0      0.648955   71.707100  2       1        14.697688\n",
       "5      71.019684  9.971006   3       1        11.407744\n",
       "3      3.785981   33.185135  4       1        8.792414 \n",
       "1     -42.666500 -9.222070   5       1        8.405045 \n",
       "4     -3.621689  -43.526516  6       1        8.042706 \n",
       "8     -3.632402  -4.171708   7       1        8.026399 \n",
       "9     -36.584400  35.804413  8       1        7.971685 \n",
       "2      44.391380  50.615383  9       1        7.893701 \n",
       "6      40.235809 -31.591665  10      1        6.945809 , topic_info=                  Term        Freq        Total Category  logprob  loglift\n",
       "1185  package           464.000000  464.000000   Default  30.0000  30.0000\n",
       "1666  stimulus package  370.000000  370.000000   Default  29.0000  29.0000\n",
       "511   economic          236.000000  236.000000   Default  28.0000  28.0000\n",
       "1018  market            194.000000  194.000000   Default  27.0000  27.0000\n",
       "1899  voted             261.000000  261.000000   Default  26.0000  26.0000\n",
       "...     ...                    ...         ...       ...      ...      ...\n",
       "1916  want              77.299242   284.856452   Topic10 -4.2635   1.3627 \n",
       "864   job               48.761222   216.074677   Topic10 -4.7242   1.1783 \n",
       "251   check             46.880927   1199.987095  Topic10 -4.7635  -0.5754 \n",
       "1640  stimulus check    43.636341   1128.227269  Topic10 -4.8353  -0.5855 \n",
       "1496  say               40.688845   213.532717   Topic10 -4.9052   1.0092 \n",
       "\n",
       "[482 rows x 6 columns], token_table=      Topic      Freq        Term\n",
       "term                             \n",
       "3     5      0.979286  absolutely\n",
       "8     9      0.986137  account   \n",
       "9     5      0.983157  act       \n",
       "13    10     0.987115  activity  \n",
       "16    2      0.981123  actually  \n",
       "...   ..          ...       ...  \n",
       "1987  2      0.637485  year      \n",
       "1987  3      0.079686  year      \n",
       "1987  7      0.083670  year      \n",
       "1993  1      0.991126  yes       \n",
       "1997  5      0.986212  youtube   \n",
       "\n",
       "[671 rows x 3 columns], R=30, lambda_step=0.01, plot_opts={'xlab': 'PC1', 'ylab': 'PC2'}, topic_order=[8, 1, 6, 4, 2, 5, 9, 10, 3, 7])"
      ]
     },
     "execution_count": 32,
     "metadata": {},
     "output_type": "execute_result"
    }
   ],
   "source": [
    " # visualization of LDA model \n",
    "import pyLDAvis.sklearn\n",
    "\n",
    "pyLDAvis.enable_notebook()\n",
    "panel = pyLDAvis.sklearn.prepare(lda_model, doc_term_matrix_1, tfidfconverter, mds='tsne')\n",
    "panel\n"
   ]
  },
  {
   "cell_type": "code",
   "execution_count": 33,
   "metadata": {},
   "outputs": [],
   "source": [
    "# make results of LDA1 model a column in dataframe\n",
    "\n",
    "topic_values = lda_model.transform(doc_term_matrix_1)\n",
    "df['LDA1_topic'] = topic_values.argmax(axis=1)"
   ]
  },
  {
   "cell_type": "code",
   "execution_count": 34,
   "metadata": {},
   "outputs": [
    {
     "data": {
      "text/html": [
       "<div>\n",
       "<style scoped>\n",
       "    .dataframe tbody tr th:only-of-type {\n",
       "        vertical-align: middle;\n",
       "    }\n",
       "\n",
       "    .dataframe tbody tr th {\n",
       "        vertical-align: top;\n",
       "    }\n",
       "\n",
       "    .dataframe thead th {\n",
       "        text-align: right;\n",
       "    }\n",
       "</style>\n",
       "<table border=\"1\" class=\"dataframe\">\n",
       "  <thead>\n",
       "    <tr style=\"text-align: right;\">\n",
       "      <th></th>\n",
       "      <th>id</th>\n",
       "      <th>parsed_created_at</th>\n",
       "      <th>user_screen_name</th>\n",
       "      <th>text</th>\n",
       "      <th>tweet_type</th>\n",
       "      <th>hashtags</th>\n",
       "      <th>favorite_count</th>\n",
       "      <th>possibly_sensitive</th>\n",
       "      <th>retweet_count</th>\n",
       "      <th>user_id</th>\n",
       "      <th>processed_text</th>\n",
       "      <th>pos_tagged</th>\n",
       "      <th>lemmatized</th>\n",
       "      <th>final_docs</th>\n",
       "      <th>LDA1_topic</th>\n",
       "    </tr>\n",
       "  </thead>\n",
       "  <tbody>\n",
       "    <tr>\n",
       "      <th>0</th>\n",
       "      <td>1357118953080905728</td>\n",
       "      <td>2021-02-04 00:09:07+00:00</td>\n",
       "      <td>JohnnyRoseATH</td>\n",
       "      <td>@chick7667 @Manpree31938145 Of course there's no foreign aid in this package. There wasn't any in the last one either. That was normal federal budget foreign aid we always have that was passed at the same time as the covid bill. Here's what's in this bill: https://t.co/LawC4ZulvB</td>\n",
       "      <td>reply</td>\n",
       "      <td>NaN</td>\n",
       "      <td>0</td>\n",
       "      <td>False</td>\n",
       "      <td>0</td>\n",
       "      <td>1334316647302262788</td>\n",
       "      <td>[@chick, @manpree, course, there's, foreign, aid, package, last, one, either, normal, federal, budget, foreign, aid, always, passed, time, covid, bill, here's, what's, bill]</td>\n",
       "      <td>[(@chick, JJ), (@manpree, NNP), (course, NN), (there's, NN), (foreign, JJ), (aid, NN), (package, NN), (last, JJ), (one, CD), (either, CC), (normal, JJ), (federal, JJ), (budget, NN), (foreign, JJ), (aid, NN), (always, RB), (passed, VBD), (time, NN), (covid, NN), (bill, NN), (here's, VBD), (what's, JJ), (bill, NN)]</td>\n",
       "      <td>[@chick, @manpree, course, there's, foreign, aid, package, last, one, either, normal, federal, budget, foreign, aid, always, passed, time, covid, bill, here's, what's, bill]</td>\n",
       "      <td>@chick @manpree course there's foreign aid package last one either normal federal budget foreign aid always passed time covid bill here's what's bill</td>\n",
       "      <td>4</td>\n",
       "    </tr>\n",
       "    <tr>\n",
       "      <th>1</th>\n",
       "      <td>1357118943295660034</td>\n",
       "      <td>2021-02-04 00:09:04+00:00</td>\n",
       "      <td>NBCScottsbluff</td>\n",
       "      <td>Biden flexible on who gets aid, tells lawmakers to ‘go big’, including stimulus checks https://t.co/QyP1RZ1Bkw</td>\n",
       "      <td>original</td>\n",
       "      <td>NaN</td>\n",
       "      <td>0</td>\n",
       "      <td>False</td>\n",
       "      <td>0</td>\n",
       "      <td>2189073337</td>\n",
       "      <td>[biden, flexible, gets, aid, tells, lawmakers, go, big, including, stimulus, checks]</td>\n",
       "      <td>[(biden, NN), (flexible, JJ), (gets, VBZ), (aid, NN), (tells, NNS), (lawmakers, NNS), (go, VBP), (big, JJ), (including, VBG), (stimulus, NN), (checks, NNS)]</td>\n",
       "      <td>[biden, flexible, get, aid, tell, lawmaker, go, big, including, stimulus, check]</td>\n",
       "      <td>biden flexible get aid tell lawmaker go big including stimulus check</td>\n",
       "      <td>2</td>\n",
       "    </tr>\n",
       "  </tbody>\n",
       "</table>\n",
       "</div>"
      ],
      "text/plain": [
       "                    id          parsed_created_at user_screen_name  \\\n",
       "0  1357118953080905728  2021-02-04 00:09:07+00:00  JohnnyRoseATH     \n",
       "1  1357118943295660034  2021-02-04 00:09:04+00:00  NBCScottsbluff    \n",
       "\n",
       "                                                                                                                                                                                                                                                                                       text  \\\n",
       "0  @chick7667 @Manpree31938145 Of course there's no foreign aid in this package. There wasn't any in the last one either. That was normal federal budget foreign aid we always have that was passed at the same time as the covid bill. Here's what's in this bill: https://t.co/LawC4ZulvB   \n",
       "1  Biden flexible on who gets aid, tells lawmakers to ‘go big’, including stimulus checks https://t.co/QyP1RZ1Bkw                                                                                                                                                                             \n",
       "\n",
       "  tweet_type hashtags  favorite_count possibly_sensitive  retweet_count  \\\n",
       "0  reply      NaN      0               False              0               \n",
       "1  original   NaN      0               False              0               \n",
       "\n",
       "               user_id  \\\n",
       "0  1334316647302262788   \n",
       "1  2189073337            \n",
       "\n",
       "                                                                                                                                                                  processed_text  \\\n",
       "0  [@chick, @manpree, course, there's, foreign, aid, package, last, one, either, normal, federal, budget, foreign, aid, always, passed, time, covid, bill, here's, what's, bill]   \n",
       "1  [biden, flexible, gets, aid, tells, lawmakers, go, big, including, stimulus, checks]                                                                                            \n",
       "\n",
       "                                                                                                                                                                                                                                                                                                                   pos_tagged  \\\n",
       "0  [(@chick, JJ), (@manpree, NNP), (course, NN), (there's, NN), (foreign, JJ), (aid, NN), (package, NN), (last, JJ), (one, CD), (either, CC), (normal, JJ), (federal, JJ), (budget, NN), (foreign, JJ), (aid, NN), (always, RB), (passed, VBD), (time, NN), (covid, NN), (bill, NN), (here's, VBD), (what's, JJ), (bill, NN)]   \n",
       "1  [(biden, NN), (flexible, JJ), (gets, VBZ), (aid, NN), (tells, NNS), (lawmakers, NNS), (go, VBP), (big, JJ), (including, VBG), (stimulus, NN), (checks, NNS)]                                                                                                                                                                 \n",
       "\n",
       "                                                                                                                                                                      lemmatized  \\\n",
       "0  [@chick, @manpree, course, there's, foreign, aid, package, last, one, either, normal, federal, budget, foreign, aid, always, passed, time, covid, bill, here's, what's, bill]   \n",
       "1  [biden, flexible, get, aid, tell, lawmaker, go, big, including, stimulus, check]                                                                                                \n",
       "\n",
       "                                                                                                                                              final_docs  \\\n",
       "0  @chick @manpree course there's foreign aid package last one either normal federal budget foreign aid always passed time covid bill here's what's bill   \n",
       "1  biden flexible get aid tell lawmaker go big including stimulus check                                                                                    \n",
       "\n",
       "   LDA1_topic  \n",
       "0  4           \n",
       "1  2           "
      ]
     },
     "execution_count": 34,
     "metadata": {},
     "output_type": "execute_result"
    }
   ],
   "source": [
    "df.head(2)"
   ]
  },
  {
   "cell_type": "code",
   "execution_count": 37,
   "metadata": {},
   "outputs": [
    {
     "data": {
      "text/plain": [
       "10     @SenSchumer @SpeakerPelosi Please don’t cave to GOP and Please please don’t let @POTUS whittle down the threshold of stimulus checks (poorly named!- it’s a Rescue)! Do you know what rents cost ? Food? Child care if you’re even employed? I voted for you guys. Don’t let us down. ❤️                                   \n",
       "12     Biden signs executive orders on stimulus checks, minimum wage, and food ... https://t.co/1rrdYtx0Ox via @YouTube                                                                                                                                                                                                           \n",
       "13     \"How to claim missing stimulus payments on your 2020 tax return\"  https://t.co/uLL9iQ5GFt                                                                                                                                                                                                                                  \n",
       "20     @RepMTG @mtgreenee Here’s some quick info about the Americans in your district:\\n-Median household income\\n$42,700\\n-High school graduation rate\\n79.1%\\n-College graduation rate\\n16.6%\\nThey need this stimulus. Like a lot. And you don’t even care.                                                                    \n",
       "25     Indefensible\\nhttps://t.co/CFcujSUpyx                                                                                                                                                                                                                                                                                      \n",
       "66     @BvddyCorleone @VujaDeMgmt “debt accelerations ultimately lead to lower interest rates. Debt-funded traditional fiscal stimulus is extremely fleeting when debt levels are already inordinately high. Thus, additional/large deficits provide only transitory gains quickly followed by weaker business conditions”        \n",
       "71     @nisslbodies I'm lucky that I'm in a position to where his pay does not change much. I lost my side hustle hardcore, but I was able to apply my share of the stimulus to a student loan. Other people are not so lucky, especially with kiddos. I can skip it if families can get it.                                      \n",
       "78     @WhiteHouse How about the Administration honor their stimulus promise to families making UNDER 150K and stop negotiating the income threshold with Republicans. Democrats need to stop throwing voters under the bus to “play nice” to the party that has killed so many Americans.                                        \n",
       "84     To make stimulus checks better targeted, send them to everyone now, and tax it back from people who report high incomes on their 2021 tax returns. @EricLevitz writes https://t.co/HzFtdy7tKO                                                                                                                              \n",
       "88     @KimKardashian Were in a middle of pandemic, people are dying, people have lost jobs, republicans are blocking stimulus checks. Just shut up for once.                                                                                                                                                                     \n",
       "90     @robreiner @Rosie Like @AOC saying she was at the Capital?  How about the truth of @JoeBiden saying he won’t ban fracking. Hmmm. Or $2000 stimulus!  LOL meathead!                                                                                                                                                         \n",
       "98     @WhiteHouse Don't tighten the criteria for stimulus that's not what the campaign promise was and lots of families had an AGI over 100K in 2019 that are far from \"wealthy\". Americans need help.                                                                                                                           \n",
       "104    @morenverca @bravingham @DerekJameson18 @harmonyhallgirl @kylegriffin1 Is this the \"crumb offering\" you're referring to..?\\n\\nThe one that \"Senate Republicans are also opposed to\"..?\\n\\nThe GOP made no offer... Trump did...\\n\\nhttps://t.co/thijy2FIEk                                                                 \n",
       "106    @mtgreenee You should be automatically disqualified for stimulus checks if you are giving it to this Qlown.                                                                                                                                                                                                                \n",
       "107    As part of senile Joe Biden's climate change initiatives, Punxsutawney Phil was laid off by Executive Order after seeing his shadow. Phil is now waiting on his stimulus check while AOC claims she's a prisoner of war. #AlexandriaOcasioSmollett                                                                         \n",
       "124    From our 1st two stimulus checks of $1200 last year we spent as down payment for our badly deferred maintenance roof costing $17K. We were able to employ 6 very grateful people for job amid pandemic. DEFINITELY the HELP during these critical time will be reinvested in our economy https://t.co/phFlK2cKCf           \n",
       "126    @josey_keith @WAquilante @POTUS Did you accept your stimulus checks in 2020? If so, aren’t you being hypocritical? \\nDo you think the pandemic has anything to do with everyone wanting “sh** for free”? Maybe the fact that millions lost their jobs maybe? Nah. They must all be irresponsible like you’re implying. 🤦‍♀️\n",
       "138    @EllaPee2003 @aLiciaLokita512 @VP I wasn't making any claim about what the upper middle class think. Is there polling that shows all people support giving stimulus to upper middle class people or to people who have not been negatively impacted financially by pandemic and do not need the $?                         \n",
       "141    @POTUS Please don't decrease the income limits and please find a way for employed dependents to get a stimulus too.                                                                                                                                                                                                        \n",
       "144    Use your stimulus money wisely, because you're not getting your tax return next year.                                                                                                                                                                                                                                      \n",
       "Name: text, dtype: object"
      ]
     },
     "execution_count": 37,
     "metadata": {},
     "output_type": "execute_result"
    }
   ],
   "source": [
    "df['text'][df.LDA1_topic ==0][:20] #generic"
   ]
  },
  {
   "cell_type": "code",
   "execution_count": 40,
   "metadata": {},
   "outputs": [
    {
     "data": {
      "text/plain": [
       "1516    Report: Democrats Open To Capping Income For Stimulus Checks At $50,000 A Year For Individuals https://t.co/GKzjIqGKVi                                                                                           \n",
       "1517    Biden open to negotiating terms of $1,400 stimulus checks: Report https://t.co/YTce79pCan                                                                                                                        \n",
       "1523    Here’s the new Democratic plan for $1,400 stimulus checks - The Washington Post https://t.co/MDHRgC99jt                                                                                                          \n",
       "1527    Report: Democrats Open To Capping Income For Stimulus Checks At $50,000 A Year For Individuals https://t.co/mOKfhkZWmX                                                                                           \n",
       "1531    @ibrahim_zbib @umichvoter99 Not if they skimp on the stimulus checks                                                                                                                                             \n",
       "1555    Ayo where's the Biden stimulus at tho                                                                                                                                                                            \n",
       "1561    Joe Manchin’s Senate career began with a bang. A turbulent, fierce campaign pushed him to settle on a brand for navigating Washington: He’d be a West Virginian first, a Democrat second. https://t.co/CejKU5wmoJ\n",
       "1563    With the arrival of 2021 came a second coronavirus relief act. What does it mean for you, your family and your business? Contact me to discuss.\\n\\n#stimulus #reliefact #2021 https://t.co/hCewNTmert            \n",
       "1568    It is Wednesday February 03, 2021, 18:00:02. Americans still have not gotten their stimulus checks.                                                                                                              \n",
       "1579    https://t.co/d6DHYZe4FI Biden tells Democrats he’s willing to compromise on stimulus checks – POLITICO Our Hashtag https://t.co/tDeW0hb5So 2020 #FWN #freeworldnews #today                                       \n",
       "1581    If we do get stimulus checks, I have a very strong desire to buy a new computer and stream stuff. But I also know how difficult it is to get a streaming following these days.                                   \n",
       "1585    Third Stimulus Check Update &amp; Daily News Report Wednesday Feb 3 https://t.co/BCRdeCDn9Z via @YouTube | @jack https://t.co/KQ27sVQltX                                                                         \n",
       "1586    Here’s the new Democratic plan for $1,400 stimulus checks - The Washington Post https://t.co/dDHPyXwxJQ                                                                                                          \n",
       "1595    Watch “$1,400 Stimulus Check Update [Mid Feb 3]” on YouTube https://t.co/rjVGCoatGv                                                                                                                              \n",
       "1600    Some men get erections from wearing nike. That's a stimulus check.                                                                                                                                               \n",
       "1610    Here’s the new Democratic plan for $1,400 stimulus checks\\nhttps://t.co/1WRFOSyEhd                                                                                                                               \n",
       "1611    The new stimulus is inevitable at this point                                                                                                                                                                     \n",
       "1622    @goldengateblond They'd better agitate for passing the Biden plan https://t.co/nIRhSGwZzy                                                                                                                        \n",
       "1626    Here’s the new Democratic plan for $1,400 stimulus checks https://t.co/tGFxWNUyzL  i never received my last $400.00                                                                                              \n",
       "1627    Report: Democrats Open To Capping Income For Stimulus Checks At $50,000 A Year For Individuals Topline \\nSome senior Democratic official... https://t.co/dGamSYFTG8 https://t.co/IS8SKaAbv9                      \n",
       "Name: text, dtype: object"
      ]
     },
     "execution_count": 40,
     "metadata": {},
     "output_type": "execute_result"
    }
   ],
   "source": [
    "df['text'][df.LDA1_topic ==1][120:140]  "
   ]
  },
  {
   "cell_type": "code",
   "execution_count": 42,
   "metadata": {},
   "outputs": [
    {
     "data": {
      "text/plain": [
       "1960    Biden shows flexibility but tells House to ‘go big’ on virus aid, including stimulus checks https://t.co/ZVFCiyuUzO                                                                                                                                                                                                      \n",
       "1971    Just gonna put this here https://t.co/iwT2iP2GBZ https://t.co/8cdJWI6SVg                                                                                                                                                                                                                                                 \n",
       "1975    @isaac_ru1 @AP False. Used his own stimulus check to give the money to a friend who bought the gun for him. Only reason he didn’t buy himself is because he wasn’t old enough. You’re a shittier defense attorney that fraud Lin wood. Enjoy watching this kid rot in prison. Bye murder advocate.                       \n",
       "1976    @LeaderMcConnell Time to give e us the Stimulus and forget about giving our money away  to other countries QUIT SCHEMING!!!                                                                                                                                                                                              \n",
       "2033    lmaooo is till haven't got my stimulus check                                                                                                                                                                                                                                                                             \n",
       "2062    they could do the impeachment process and stimulus checks at the same time, they just choose not to                                                                                                                                                                                                                      \n",
       "2086    i don’t understand how a stimulus check/package seems like “useless government spending” to some of these politicians while the U.S. Military budget’s $712.6 billion in discretionary spending does not...                                                                                                              \n",
       "2087    Your shot at 4:20 to win $1000 @975thevibe The $1000 Vibe Stimulus!! https://t.co/IFLDwFYqc3                                                                                                                                                                                                                             \n",
       "2130    @bronxmami1970 @TreeNunes @Salem4Congress Do you seriously think that a one-time payment of 600 dollars is a serious incentive to not work and get double that each month? In the US, there is absolutely no serious incentive to be unemployed. There are barely any unemployment benefits or stimulus checks in the US.\n",
       "2141    Under a more \"targeted\" approach some people who got $600 payments wouldn't get the $1,400 follow-up. https://t.co/yevk0nnozj via @HuffPostPol                                                                                                                                                                           \n",
       "2158    Under a more \"targeted\" approach some people who got $600 payments wouldn't get the $1,400 follow-up. https://t.co/0IgCcSIC2Q via @HuffPostPol                                                                                                                                                                           \n",
       "2161    @alana_austin I don't even get my stimulus check for $600 Dollars yet ! \\nI don't know why  ???                                                                                                                                                                                                                          \n",
       "2179    @sgh956 @KellieADennis74 I would think WV poor as it is could really use a bigger stimulus!!                                                                                                                                                                                                                             \n",
       "2181    #TheFive \\nIt’s totally wrong to get another 2T dollar stimulus when we haven’t spent the money for the 2nd one. It’s unconscionable to bail out Democrat cities when the were in debt before Covid. It’s our money and where is it going?                                                                               \n",
       "2194    Under a more \"targeted\" approach some people who got $600 payments wouldn't get the $1,400 follow-up. https://t.co/Ww5xw4Lu1x via @HuffPostPol I vote for none to people in districts that failed to acknowledge Biden as President!                                                                                     \n",
       "2195    @JuneRicki Because you at least have stimulus checks at all? Like idk you guys have the right to complain about the size of support but you did /get them/, whereas the UK has given out exactly no unconditional funds.                                                                                                 \n",
       "2207    🍷$13,000 stimulus checks, please, so we can all drink the #chrissyteigen wine🍷                                                                                                                                                                                                                                           \n",
       "2208    Me listening to Congress explain to us why the stimulus checks aren't out yet and are possibly going to be less than the $2K promised https://t.co/kFidcI9omj                                                                                                                                                            \n",
       "2242    there’s at least a 30% chance that the next stimulus check is like $400 tbh                                                                                                                                                                                                                                              \n",
       "2275    @_SeLLz And of all years they came early or on time...everyone gonna owe around the amount of all stimulus checks combined i feel like                                                                                                                                                                                   \n",
       "Name: text, dtype: object"
      ]
     },
     "execution_count": 42,
     "metadata": {},
     "output_type": "execute_result"
    }
   ],
   "source": [
    "df['text'][df.LDA1_topic == 2][120:140]  "
   ]
  },
  {
   "cell_type": "code",
   "execution_count": 43,
   "metadata": {},
   "outputs": [
    {
     "data": {
      "text/plain": [
       "1630    Finally got my second stimulus check today https://t.co/fgUQZrbb0Z                                                                                                                                                                                                                                                    \n",
       "1641    @melwedde Maybe with all the delays they'll be able to base the stimulus off of 2020 returns and not 2019. So many people did well in '19 and were excluded from relief despite getting hit hard in '20                                                                                                               \n",
       "1645    @MarshaBlackburn The Senator has confused cause and effect.  We wouldn't need a stimulus if there were enough jobs. A good stimulus results in more jobs.                                                                                                                                                             \n",
       "1661    @SenatorCardin @IsabelCGuzman @SBAgov 10,000 EIDL Grant Stimulus Update GOOD &amp; BAD 2/3 🛑 #EIDL #EIDLGrant #EIDLLoan \\nhttps://t.co/AhGWWLhzD7                                                                                                                                                                     \n",
       "1663    When the stimulus hits and you can finally buy the SouljaGame https://t.co/hRgks1XxOs                                                                                                                                                                                                                                 \n",
       "1671    Third stimulus check updates: Biden shows flexibility but tells House to ‘go big’ on COVID-19 relief package\\nhttps://t.co/Yhh3sO9i0w                                                                                                                                                                                 \n",
       "1707    What the poors get for their $1400 stimulus check when they drink with Chrissy Teigen. \\n#chrissyteigen https://t.co/Pc84CFTHlU                                                                                                                                                                                       \n",
       "1717    Same bullshit excuses. I bet when Harris's ad about JOBS, STIMULUS CHECKS &amp; RAISING MIN WAGE was seen in WV, people SAT UP AND LISTENED! And now, if Manchin DOES NOT DELIVER, he is gonna be in serious trouble. https://t.co/5RuhNvQToT                                                                         \n",
       "1719    10,000 EIDL Grant Stimulus Update GOOD &amp; BAD 2/3 🛑 #EIDL #EIDLGrant #EIDLLoan \\nhttps://t.co/AhGWWLhzD7                                                                                                                                                                                                           \n",
       "1727    By all means...limit or remove how much we can get. Less spending will be the result. \\n\\nStimulus becomes a tickle with no laughter afterwards. https://t.co/dtZFUGN2T9                                                                                                                                              \n",
       "1736    Unbelievable changing the $1400.00 it’s should be the same group that’s received the stimulus before! All 🇺🇸 have been impacted by this Pandemic 😷 @JoeBiden @SenSchumer @TeamPelosi Keep your word!                                                                                                                  \n",
       "1768    There is no reason the federal government should be sending stimulus checks to families making upwards of $300,000. \\n \\n#COVID19 relief needs to be targeted at those folks who need it the most.                                                                                                                    \n",
       "1772    I'm gonnacome right out and say that I dont give a single fuck abt anything except getting my taxes and stimulus rn. I hate being fucking poor and even a moment's reprieve is better than this eternal backbreaking bullshit                                                                                         \n",
       "1778    We all knew this was coming it is going to leave a bitter taste in many Americans mouths. That are wealthy planning to take a vacation on covid relief money. Yet the majority of the hard hit will use it to pay bills in the first pl…https://t.co/z02xz31cqF https://t.co/YYkTJwweRo                               \n",
       "1824    @RBReich They just denied my son for extended UI even though he has letters from his doctors &amp; we live here in TN.  I'm high risk &amp; he helps me around the house while his step-Dad is at work.  They don't care.  He also didn't get his last stimulus, it was 'lost' to another bank account                \n",
       "1838    @taytodog @alexkotch @KevinMKruse I don't really give a shit...but don't call it stimulus if it's not. Nobody's loses if it's not needed or used. Just like when UBI gets implemented, it should be tied to some use it or lose it scenario or else the impact will be diminished.                                    \n",
       "1843    @TheDemocrats @POTUS $2000 per month relief payments and $600 per week extra UI NOW, not the watered down \"stimulus\"! 1 in 7 Americans are HUNGRY!                                                                                                                                                                    \n",
       "1855    @CherylR08974781 @thehappyvirgo that’s not true. you have to log on like youre filing &amp; check that you don’t meet the eligibility to file this year &amp; you will get the stimulus if you are over 18 &amp; not a dependent. at least in PA. not trying to be combative - just thought i would put that out there\n",
       "1864    @Betsy7Cat Like \"oops I accidentally ordered a 13,000 dollar bottle of wine\" like Chrissy people are financially suffering from just not getting their stimulus checks, read the fucking room                                                                                                                         \n",
       "1867    did everyone receive their second stimulus check? i’m trying to find out it i should reconcile it on my taxes or wait longer.                                                                                                                                                                                         \n",
       "Name: text, dtype: object"
      ]
     },
     "execution_count": 43,
     "metadata": {},
     "output_type": "execute_result"
    }
   ],
   "source": [
    "df['text'][df.LDA1_topic ==3][120:140]  # high emotion"
   ]
  },
  {
   "cell_type": "code",
   "execution_count": 44,
   "metadata": {},
   "outputs": [
    {
     "data": {
      "text/plain": [
       "14107    Stimulus Checks: COVID-19 Relief Moves Forward Despite No Support From Republicans\\n\\nhttps://t.co/js1vUMqG16 https://t.co/4vQzh2igAU                                                                                                                                                                            \n",
       "14118    @semperdiced Manchin wants to means test the one-time Covid stimulus, but not minimum wage (he thinks $11 an hour nationwide is cool). Make it make sense.                                                                                                                                                       \n",
       "14159    Connecticut for example, has a $13.50 minimum wage, a two dollar increase isn't going to make or break an entire company, and if that's the case, this stimulus bill is aiding in small businesses to ensure that exact thing doesn't happen. if you want to talk inflation, inflation                           \n",
       "14181    @FoxBusiness @mokylatn tell Brittany De Lea no one is OWED stimulus money.  poor headline.                                                                                                                                                                                                                       \n",
       "14201    Well, the stimulus package I was referring to has literally nothing to do with minimum wage but since that's what you wanna bring up, first the rush you're talking about, about replacing people with robots means if a company isn't going to pay $15 an hour they would rather spend                          \n",
       "14225    #stimulus  update: https://t.co/bHlWtL8ipq                                                                                                                                                                                                                                                                       \n",
       "14234    Third stimulus check update: Biden says GOP plan with $1,000 payments is too small as Senate moves ahead with his plan.  Here’s the latest. https://t.co/Zpk3YR3Dxi                                                                                                                                              \n",
       "14238    @MarshaBlackburn You know what the best stimulus for your constitients would be? \\n\\nFor you to be out of a job.                                                                                                                                                                                                 \n",
       "14241    I was told by the IRS they were   not applying stimulus checks to IRS amounts due. If you have not received your stimulus check you can file for it on your 2020 tax return. Can you please verify? https://t.co/omuLdTeWSD via @politico                                                                        \n",
       "14248    Joe Manchin Doesn’t Support $15 Min Wage Says $11 Would be Better for His State https://t.co/fI2VpwVJL6\\nJOE MANCHIN: So not only do you want to hold out on the minimum wage but your thinking about holding out on the stimulus package. Apparently Joe, you have enough money !!! YES                         \n",
       "14255    @Wjnelson70J @ericawerner His argument is about the deficit, and the tax bill had the same effect as a spending bill. They forced thru a historically unpopular bill primarily benefiting the wealthy when no stimulus was needed, causing the bigger deficit used to justify opposing a popular bill when it is.\n",
       "14273    I guess I get extra income tax bc no stimulus 🤔                                                                                                                                                                                                                                                                  \n",
       "14286    I cannot emphasize enough that I dont want stimulus payments to be means tested.\\n\\nI could not care less if a billionaire gets an extra 2k. It doesnt even mean anything to them.\\n\\n2k can still mean a lot to someone making 150k.                                                                            \n",
       "14293    Second stimulus check  Will you get  2 000   600   or nothing    CBS News https://t.co/R7qxTmVRXc https://t.co/pbOlN42zDr                                                                                                                                                                                        \n",
       "14303    https://t.co/sPbzUYsez5: Biden rejects Republican stimulus alternative https://t.co/E9zAfJzxWG                                                                                                                                                                                                                   \n",
       "14325    The (Tax)Buzz this week: The impact of teleworking on taxes, updates on the $1.9 trillion stimulus proposal, tips to avoid an audit, and more.\\nhttps://t.co/berbuW0T0e                                                                                                                                          \n",
       "14352    $2000? $1400? Now $1000?!\\n\\nThis *alleged* stimulus check has more volatility than GameStop stock!                                                                                                                                                                                                              \n",
       "14380    @TeamTurboTax I received my stimulus check after filing and claiming recovery rebate. I tried to amend my return but it won't let me. Do I need to do anything or will IRS handle it? Thanks!                                                                                                                    \n",
       "14393    If you are against the stimulus relief package because of “taxes i have to pay” then you are an asshole.                                                                                                                                                                                                         \n",
       "14412    @IRSnews What happens to those who didn’t get the second stimulus because you sent them to wrong account? We filed our taxes to claim rebate credit, and then you send the stimulus. We edited like you guys said because at that time you said if we wanted the second stim we needed to file                   \n",
       "Name: text, dtype: object"
      ]
     },
     "execution_count": 44,
     "metadata": {},
     "output_type": "execute_result"
    }
   ],
   "source": [
    "df['text'][df.LDA1_topic ==3][1000:1020]  # high emotion"
   ]
  },
  {
   "cell_type": "code",
   "execution_count": 45,
   "metadata": {},
   "outputs": [
    {
     "data": {
      "text/plain": [
       "14889    @Jim_Jordan So the best stimulus is a job but you’d rather have every teacher in Chicago lose their jobs because they *gasp* want to stay safe? Oh the horror...                                                                                                                                                         \n",
       "14890    Sorry but if senate democrats wanted a stimulus to pass they wouldn’t have put a 15 dollar minimum wage in the bill. Democrats don’t care about you anymore than republicans. The sooner you people realize this the better.                                                                                             \n",
       "14894    @Bri71947477 @jokerbit3h @turbotax I'm not saying it was her fault just saying she shouldn't have used TT. If you keep using them and something like this happens again then it would be your fault. I didn't know my stimulus and tax refund would get messed up but I'm going to giving them the chance to do it again.\n",
       "14906    Where’s my fucking stimulus, Joseph Robinette????                                                                                                                                                                                                                                                                        \n",
       "14907    The U.S. Treasury is sending out a second round of stimulus payments, and some people will receive the payment in the form of an Economic Impact Payments (EIP) prepaid card. The card is not a scam, and there are ways to cash or use the card without fees.\\n\\nhttps://t.co/LXMhzSULHr https://t.co/phhcvw2atl        \n",
       "14920    @JohnCornyn What is the risk of not enough stimulus?                                                                                                                                                                                                                                                                     \n",
       "14943    @marwilliamson If we “means test” The billionaires and multinational corporation‘s who received over a trillion $$ in tax breaks, they’d have to give that money back! THEN, we would ALL have the stimulus $$$ needed to help the poor and working-class. Plus #MedicareForAll &amp; #ubi                               \n",
       "14950    Good morning my fellow Americans in my fellow politicians do Republicans and the Democrats since I am the green lightning I am going to make the Republican Party do the truth until no more lie and tell them the America needs help and stimulus package of 1400 Green Lantern saving https://t.co/IWMRrZv8ko          \n",
       "14967    This constituent of @Sen_JoeManchin wants my fellow WVians to know he makes $174K or $87/hr based on a 40 hr work week, but opposes $15 min wage. His position on the stimulus is to the right of @JimJusticeWV. He needs to get w the program or be primaried. https://t.co/wK3Nv6MBkg                                  \n",
       "14980    @MaritsaNBCMT Regarding the debit cards for the stimulus checks you talked about this morning.  I work in a bank and many many customers don’t realize they can get cash advance at the bank and no fees. We’ve done a ton.                                                                                              \n",
       "15009    Even better stimulus would be 2 jobs. How about 3 jobs? https://t.co/pvqhA4W88h                                                                                                                                                                                                                                          \n",
       "15012    I was at a FedEx store yesterday and the manager told me she had 151 people apply for a job in 30 minutes. GOP schumcks saying the best stimulus is a paycheck are Completely divorced from reality. #StimulusChecksNOW                                                                                                  \n",
       "15018    I am retired and have not been financially impacted by Covid-19; why am I receiving a Stimulus check? I can’t even spend it in a restaurant. Double whammy.                                                                                                                                                              \n",
       "15038    Today's ADP beat makes this piece in today's WSJ especially timely:\\n\\n\"The Risks of Too Much ‘Stimulus\" https://t.co/WyEfMO5kyw\\n\\nWE ARE HEADED FOR SOME SERIOUS INFLATION.\\n$GLD\\n$SLV\\n#PEMultiple Compression                                                                                                       \n",
       "15058    @lisaabramowicz1 @carlquintanilla This raging liberal thinks means testing for stimulus check 2.0 is a good thing. Not everyone needs it.                                                                                                                                                                                \n",
       "15101    Pundits saying that most people spending their stimulus check on gamestop stock is just another way of pushing the \"poor people can't manage their money\" lie. Show me the data you scumbags. #StimulusChecks #walstreetbets #MarketManipulation                                                                         \n",
       "15109    @POTUS We needed the 2nd stimulus check,we are poor and struggle to pay back taxes,The 2nd stimulus went to the IRS for owed taxes,Please fix the next Stimulus where we that owe back taxes can get it.God Bless You and God Bless America.                                                                             \n",
       "15111    @todd_butler Also anyone from a poor ass state like Tennessee shouldn’t be lecturing on what the best economic stimulus is until they figure it out in their own state                                                                                                                                                   \n",
       "15122    Stimulus checks in FULL EFFECT\\n\\nNobody in Egypt\\nwill find work to do —\\nneither head nor tail,\\nneither [tall] palm frond nor [lowly] reed.                                                                                                                                                                           \n",
       "15124    When is my Bitcoin gift card... I mean stimulus check going to arrive?                                                                                                                                                                                                                                                   \n",
       "Name: text, dtype: object"
      ]
     },
     "execution_count": 45,
     "metadata": {},
     "output_type": "execute_result"
    }
   ],
   "source": [
    "df['text'][df.LDA1_topic ==3][1050:1070]  # high emotion"
   ]
  },
  {
   "cell_type": "code",
   "execution_count": 46,
   "metadata": {},
   "outputs": [
    {
     "data": {
      "text/plain": [
       "20578    ... wait ... FIVE COVID STIMULUS PACKAGES ?!\\n\\nwe’ve only seen 2 &amp; i’ve only seen information about 3 (the initial two included) ... so where the OTHER TWO PACKAGES AT ?!-\\n\\nthe American people have received $1800&lt; SINCE THE DAMN PANDEMIC BEGAN OUT OF FIVE PASSED PACKAGES ?!- https://t.co/uL32aaReoS\n",
       "20597    @SenatorHagerty Don't even utter the word \"partisan\" after the past 4 years of Repugnant partisan 🐂💩  . It was late summer thru late fall Repugnants drug their feet on stimulus.  You only now plead for \"bipartisanship\" since you lost.                                                                           \n",
       "20599    @TheDemocrats Asking . Will there be retroactive unemployment in this next stimulus aid package? It was promised to all Americans  and was brought up everyday on the campaign trail.....not as much lately! Let's pass retroactive unemployment! Thank you!                                                         \n",
       "20613    The Era of Neoliberal Svengalis Like Larry Summers Might Be Coming to an End https://t.co/qT6u5ib5qT                                                                                                                                                                                                                 \n",
       "20618    \"The time has come to speak about love.\" What strange attractions McCullers serves up in The Ballad of the Sad Cafe. As she says, \"the most outlandish people can be the stimulus for love,\" and, in this story, betrayal. Quite a read two weeks before Valentine's Day. #APStogether                               \n",
       "20659    @SenGillibrand, will you champion a path to citizenship for essential workers in #COVID19 stimulus? Essential workers should not be deportable. #WeAreHome                                                                                                                                                           \n",
       "20660    @PissOffCult45 @schaumburggirl @witnessemptysky @ProudSocialist @JoeBiden @TheDemocrats there's nothing to misinterpret jon ossoff said he spoke with Joe Biden and says those 2,000 dollar stimulus checks will be issued within 2 and a half weeks of this election if he is elected for this Senate seat.         \n",
       "20689    @PissOffCult45 @schaumburggirl @witnessemptysky @ProudSocialist @JoeBiden @TheDemocrats \"stimulus checks will be issued within 2 and a half weeks of this election if he is elected for this Senate seat.\"                                                                                                           \n",
       "20693    This stimulus coming through !!! https://t.co/1VDNM2RHzj                                                                                                                                                                                                                                                             \n",
       "20709    @andrew_leach @OrbitStudios Google is a hypocrisy time machine -there’s a headline for everything \\n\\nhttps://t.co/6wiieKxsRV                                                                                                                                                                                        \n",
       "20718    @POTUS So when's the next stimulus hitting? https://t.co/ME5HX92w3S                                                                                                                                                                                                                                                  \n",
       "20726    RINO Senators Suffer Embarrassing Failure As Biden Balks At Stimulus Deal https://t.co/Kmgf5jkzoC                                                                                                                                                                                                                    \n",
       "20735    Former Pence chief of staff on stimulus negotiations https://t.co/Bh4yB4LMgE                                                                                                                                                                                                                                         \n",
       "20751    @BernieSanders What happened to the $2,000 stimulus checks???? Turtling at its finest. @JoeBiden @KamalaHarris                                                                                                                                                                                                       \n",
       "20774    @AdrienneHB1817 @SenateDems @SenSchumer What about families earning over$150,000 take 1/2 of their stimulus;1/2 used for PPE or \\n#Food4Poor they get Tax break like Corp.                                                                                                                                           \n",
       "20781    @POTUS @JoeBiden Where is my stimulus check?                                                                                                                                                                                                                                                                         \n",
       "20848    @MarshaBlackburn There are no jobs without safety. There is no safety without economic stimulus. Why do you hate Americans so much?                                                                                                                                                                                  \n",
       "20862    @BernieSanders Asking along with Michael D. Will there be retroactive unemployment in this next stimulus aid package? It was promised to all Americans  and was brought up everyday on the campaign trail.....not as much lately! Let's pass retroactive unemployment! Thank you!                                    \n",
       "20880    @CryptoBull I don't get the stimulus, otherwise I would've invested it all :/                                                                                                                                                                                                                                        \n",
       "20888    @windsorcasimir @TaylorRooks what the hell she gotta do with the stimulus checks? go tweet somebody in the government if u that worried lol                                                                                                                                                                          \n",
       "Name: text, dtype: object"
      ]
     },
     "execution_count": 46,
     "metadata": {},
     "output_type": "execute_result"
    }
   ],
   "source": [
    "df['text'][df.LDA1_topic ==4][1050:1070]  "
   ]
  },
  {
   "cell_type": "code",
   "execution_count": 47,
   "metadata": {},
   "outputs": [
    {
     "data": {
      "text/plain": [
       "1301    A series of announcements have been made regarding CFAP funding recently. Below, K·Coe’s Farm Program Services team has summarized what you need to know about the temporary pause on CFAP assistance.\\n\\nhttps://t.co/pwcpjTfUt1 https://t.co/mxohfKAg7t                                                      \n",
       "1337    @POTUS @VP @ewarren @BernieSanders @SenSchumer #BidenHarris #PURPLEPOWER #SS200 #MSC #FPUCRETRO #LALATE I am mentally/physically disabled &amp; lost a son to suicide. I wake every day lost. My only thing now is vaccine, ssdi 200, stimulus, gov't keep promises. Don't let us down!! 🇺🇸                    \n",
       "1363    Dillon approves gift card stimulus program to support local businesses https://t.co/1Uun04fXRO                                                                                                                                                                                                                 \n",
       "1366    @Matthew03066378 @SenateDems @POTUS @SenateGOP He was elected to give those stimulus packages.                                                                                                                                                                                                                 \n",
       "1367    @SteveDaines You voted down a stimulus package! Don’t ever say you’re working hard for Montana!                                                                                                                                                                                                                \n",
       "1399    @SallyGold @mayawiley is that because running isn't a pleasure or because it's not guilt-inducing? I thought it was interesting that G. Meeks credited &amp; cited the city council and the state legislators for seeking state and local stimulus, but not @nycmayor                                          \n",
       "1401    You're on the wrong side of history, @lisamurkowski.  Maybe you need to rethink your stance on cutting off stimulus checks at $50K and no aid to State and local governments. https://t.co/bUQ0VqmS1w                                                                                                          \n",
       "1412    @Jim_Jordan Republicans: 447,000 Americans Dead to COVID-19 NO NATIONAL RESPONSE FOR A YEAR! Ignored Science and Economists!\\n\\nDemocrats: National Plan to battle COVID-19 based on Science on DAY 1. Stimulus plan to help Americans DAY 1. Economic Plan based on Economists recommendations DAY 1.         \n",
       "1445    @JamesGarfieldND No. She is way better. She supports reforming the filibuster before it was even a discussion. She wouldn't be such a flip flopper on stimulus either.                                                                                                                                         \n",
       "1452    Democrat stimulus goalposts would beat Usain Bolt in the 100m                                                                                                                                                                                                                                                  \n",
       "1469    @RepJohnYarmuth @HouseDemocrats I hope your stimulus package will include retro pay.                                                                                                                                                                                                                           \n",
       "1473    @POTUS The stimulus checks should not be targeted!!                                                                                                                                                                                                                                                            \n",
       "1492    @KittyHipoint @NOBOslob @JenniferJJacobs I didn't realize the eviction moratorium was contingent on stiffing everyone's stimulus checks                                                                                                                                                                        \n",
       "1495    President to do Super Bowl interview as GOP ‘plan to ditch Greene from committees’ - follow live https://t.co/YkBIpZF2v3                                                                                                                                                                                       \n",
       "1542    ICYMI: @CLASP_DC published a state-by-state estimate of federal #childcare relief  funding in the year-end #stimulus deal. #ThinkBabies @ZEROTOTHREE                                                                                                                                                           \n",
       "1554    @MrsKellyPierce @tomcoates @ProudSocialist @JoeBiden Where is your $2000 stimulus check? Not there?😂                                                                                                                                                                                                           \n",
       "1556    @POTUS @KamalaHarris @JoeBiden @jrpsaki @SenSanders @SenSchumer @SenateDems @ReverendWarnock @ossoff    LIARS! LIARS!  These people fed us a line of horseshit!   And now we will pay the price!   #stimulus #COVID19 #Biden #BidenHarris2020 #MakeAmericaGreatAgain #2000StimulusCheck https://t.co/5kaJRz0XVd\n",
       "1570    You Might Get $1800 If You Never Got Stimulus Checks, But Only In One State. \\n\\nhttps://t.co/bVQpcdPIjv                                                                                                                                                                                                       \n",
       "1605    @VP If i make it alive.. I need the stimulus...                                                                                                                                                                                                                                                                \n",
       "1675    Wtf is up with this chase stimulus overdraft shit @ChaseSupport                                                                                                                                                                                                                                                \n",
       "Name: text, dtype: object"
      ]
     },
     "execution_count": 47,
     "metadata": {},
     "output_type": "execute_result"
    }
   ],
   "source": [
    "df['text'][df.LDA1_topic ==4][100:120]  #rich /poor"
   ]
  },
  {
   "cell_type": "code",
   "execution_count": 48,
   "metadata": {},
   "outputs": [
    {
     "data": {
      "text/plain": [
       "3698    @RepDrewFerguson @HouseGOP @HouseDemocrats Republicans refuse to help struggling Americans. But are ready to help the top 1%\\n\\nRepublicans against;\\n➡️ A strong stimulus package\\n➡️ Alternate energy sources. (GOP push fossil fuel for the kickbacks from oil companies)\\n➡️ Protecting the environment\\nhttps://t.co/awaHMxBDCN\n",
       "3711    @POTUS @JoeBiden @KamalaHarris @SenSchumer @SpeakerPelosi \\n50k is the cut off? That’s less than 24.00 an hour. You campaigned on championing the little guy and the first chance you get, you fuck us? So glad I manned those phone banks. \\n\\nhttps://t.co/eomUx3ybJM                                                             \n",
       "3733    Repurpose Unspent Stimulus $$$,Keep Your Campaign Stimulus Promises $1,400+$2,000 Or $2,000 Month Til Covid Over https://t.co/Osb6c6rgjg. @JoeBiden @KamalaHarris @SenateDems @AssemblyDems @HouseDemocrats @ACLU @SenSchumer @ReverendWarnock                                                                                      \n",
       "3742    Biden says he won't settle for COVID-19 aid package that 'fails to meet the moment' https://t.co/YiILsPwJcX                                                                                                                                                                                                                         \n",
       "3748    Has Frydenberg cancelled the second installment of $250 due in March that was to be part of the Stimulus Package to Pensioners and qualified card holders that was announced in the last budget??\\n\\nWhy hasn't the MSM picked up on this question!!                                                                                \n",
       "3779    @woodfyred @RepRoKhanna @MollyJongFast That might be a legitimate reason to cut back on many less essential things - but not absolutely not stimulus and survival programs during The worst economic crisis in American history                                                                                                     \n",
       "3789    Time to repeal #GOPTaxScam @SpeakerPelosi @SenSchumer https://t.co/tq9B4LpKFY                                                                                                                                                                                                                                                       \n",
       "3816    @POTUS Where is stimulus                                                                                                                                                                                                                                                                                                            \n",
       "3836    @RepJayapal PLEASE call out your colleagues for denying m4a &amp; recurring, retroactive stimulus checks during a pandemic\\n\\nYou're the one with power                                                                                                                                                                             \n",
       "3848    @MimiFrancoFoto @igorbobic Survival checks keep people alive. \\n\\nStimulus checks boost the economy so we support our local and national economies                                                                                                                                                                                  \n",
       "3854    Since all GOP voted against the $1,400, anyone registered as Republican should be barred from receiving the stimulus.                                                                                                                                                                                                               \n",
       "3864    @LeonNotKennedy Nothing short of regular, recurring and BACKDATED payments is adequate emergency stimulus, but the administration will never do it. Not because they can't afford it, but because adequate support is not part of their ideology.                                                                                   \n",
       "3872    @CivMilAir @WalshFreedom @svdate As soon as the March stimulus check arrives.                                                                                                                                                                                                                                                       \n",
       "3873    Republican Proposal Leaves 29 Million Ineligible for Stimulus Checks https://t.co/pb5MVDQxAo via @Yahoo                                                                                                                                                                                                                             \n",
       "3874    @krystalball Nah, the lockdowns that caused us to be having this discussion in the first place suck. End the lockdowns and the talks about stimulus end too...                                                                                                                                                                      \n",
       "3892    STIMULUS CHECKS: While many were hopeful for a quick passage of a COVID relief package, it now looks like discussions will continue past February — meaning the earliest you could see a payment would likely be mid-March. https://t.co/leJvOHyvuC                                                                                 \n",
       "3895    @POTUS Now $2000 Stimulus checks!                                                                                                                                                                                                                                                                                                   \n",
       "3896    Adult dependents have been left behind during the COVID crisis, don't leave them out of the next stimulus deal https://t.co/qPDZZhpDFC                                                                                                                                                                                              \n",
       "3911    @ToniinTexas1 Agreed! It’s interesting this is finally coming up for discussion. Both of the other stimulus checks have had cut offs.                                                                                                                                                                                               \n",
       "3963    From 2k to 1,400 to let’s try to work with the GOP to 50k will be the cap on income...What in the world is really going on here ? When you all needed votes there were no holes now this blanket of stimulus has more holes than Charlie Browns Halloween costume !!! @POTUS @VP https://t.co/07npmgj7Nz                            \n",
       "Name: text, dtype: object"
      ]
     },
     "execution_count": 48,
     "metadata": {},
     "output_type": "execute_result"
    }
   ],
   "source": [
    "df['text'][df.LDA1_topic ==4][230:250]  #rich /poor"
   ]
  },
  {
   "cell_type": "code",
   "execution_count": 49,
   "metadata": {},
   "outputs": [
    {
     "data": {
      "text/plain": [
       "2159    @DithYoder @kenvogel @GOPLeader Agreed. I didn’t properly convey that I’m all for her side-eye and shade and snark. I just don’t feel that same energy and outrage about the Dems keeping their promise to deliver $2000 stimulus checks. That’s going to go a whole lot further than popping a Q by McCarthy’s name.\n",
       "2162    I hope they learned from the 2009 stimulus that they'll catch way more flack for a bill that's too small than they would if Republicans say it's too big (they'll always say it's too big). https://t.co/nHejCWkr63                                                                                                  \n",
       "2166    Gazette-Mail editorial: Justice, Biden, Harris and COVID-19 #bailout #Coronavirus Stimulus Package #Relief #Covid-19 https://t.co/ptgFL6Hhfl                                                                                                                                                                         \n",
       "2205    Here's how American stimulus checks stack up to other countries' Covid relief https://t.co/GN6jcXK6cp                                                                                                                                                                                                                \n",
       "2213    White House Press Secretary Jen Psaki on Wednesday said the U.S. government is conducting a review of domestic extremist threats, including a review of the Proud Boys. https://t.co/kYoSV5AMVj                                                                                                                      \n",
       "2214    Biden also said he doesn’t want to budge from his proposed $1,400 in direct payments to Americans. https://t.co/FXnFp7ZLoS                                                                                                                                                                                           \n",
       "2222    WoW! Republican @WVGovernor  Justice is WAY more in touch with his constituents in West Virginia &amp; the urgency of what is needed right now in America than Democrat.   @Sen_JoeManchin Panel: Billionaire WV GOP Gov SHAMES Joe Manchin On Stimulus https://t.co/JVz6KDK9wc via @YouTube                         \n",
       "2247    @LeaderMcConnell You absolutely don't care about the American people. You made that abundantly clear when you objected time and time again on the $2,000 stimulus checks!! But yet you line your pockets with donations from big oil,big  gas and big business!!!!                                                   \n",
       "2252    Democrats push forward with $1.9 trillion COVID bill, clearing Senate hurdle https://t.co/ASY8SkQ868 via @CBSPolitics                                                                                                                                                                                                \n",
       "2269    Biden: \"Ask me again about your stimulus check you dog-faced pony soldier!\"\\n\\n#IBelieveTaraReade https://t.co/H4LPOKS5PK                                                                                                                                                                                            \n",
       "2277    @CNNPolitics Hahahahahaha \\nI wonder what’s their position on the Covid-19 stimulus package? \\nOh, I forgot, helping the American people was never an important issue for them and most of their colleagues, sucking up to their leader of the CULT is!                                                              \n",
       "2282    \"The proposed $1,400 relief checks 'will flow largely into household savings and will produce only small stimulative effects,' the report said. 'Sectors affected by the pandemic still face restrictions and are unlikely to grow from stimulus payments.'”                                                         \n",
       "2284    68% Of Americans Approve Of Biden’s $1.9 Trillion Stimulus Plan, Poll Finds ◌ https://t.co/U9gHo7BfsC Good read👍🏻\\n\\n➥ Sarah Hansen 🗞 #Money https://t.co/sfqa03uXIq                                                                                                                                                 \n",
       "2286    WH Press Secretary Jen Psaki Re-Affirms Stimulus Checks Will Be $1,400\\n\\nhttps://t.co/TLL8wZigwl                                                                                                                                                                                                                    \n",
       "2290    @NPC2electricbu1 WOW! $100k position for max stimulus?                                                                                                                                                                                                                                                               \n",
       "2299    @Newsweek I have to ask WHY this is still being negotiated?  Perhaps the lawmakers should have their salaries frozen until they can come to the table with a reasonable stimulus check and agree on it.  Seriously!  People are struggling while the lawmakers play political games.                                 \n",
       "2302    @POTUS don’t go “targeting” the stimulus and cutting out half the country, that is still breaking your promise to your voters.                                                                                                                                                                                       \n",
       "2303    The coronavirus pandemic has given lawmakers a chance to do what they should have done long ago to support families. https://t.co/JWE768mBJO via @HuffPostPol                                                                                                                                                        \n",
       "2305    Over 60% of Republicans Throw Support Behind Biden's $1,400 Stimulus Check, Poll Shows https://t.co/UwDUselVmv                                                                                                                                                                                                       \n",
       "2320    tax season starts February 12th !! pls ask ur filers about benefits regarding stimulus checks &amp; if you had to file for unemployment 🤝                                                                                                                                                                            \n",
       "Name: text, dtype: object"
      ]
     },
     "execution_count": 49,
     "metadata": {},
     "output_type": "execute_result"
    }
   ],
   "source": [
    "df['text'][df.LDA1_topic ==5][230:250] "
   ]
  },
  {
   "cell_type": "code",
   "execution_count": 50,
   "metadata": {},
   "outputs": [
    {
     "data": {
      "text/plain": [
       "8681    White House economist rejects GOP senators' push for $1,000 stimulus checks instead of $1,400 https://t.co/o9mHLmdlce via @Yahoo                                                                                                                                                                                                           \n",
       "8686    @sammy_shear @Armstrongathome @socialiststeve6 @JoeBiden @PeoplesParty_US And Biden does not have a reason to change the amount or delay the checks at all. He and Dems could pass the stimulus checks without Republican input by using the reconciliation  process.                                                                      \n",
       "8695    The American people are still waiting for their stimulus relief. Enough compromising.                                                                                                                                                                                                                                                      \n",
       "8700    Millions of jobless Americans are starting to see larger unemployment checks, as a result of the stimulus package passed late last month. But when you get the boost, and how big it is, can depend on what state you live in. https://t.co/jMw68mwyI5 https://t.co/Ag0MWSY8dc                                                             \n",
       "8711    If @POTUS didn't want to start his presidency with broken promises, then he should have kept his promise of $2,000 stimulus checks instead of cowing to conservatives and negotiating down to any lower amount https://t.co/BIgyMhVLM9                                                                                                     \n",
       "8713    @Jordanfabian You cannot be big &amp; bold and bipartisan at the same time. The GOP does not support a big stimulus. Either agree to scale it back or stop pretending to be bipartisan.                                                                                                                                                    \n",
       "8717    The #coronavirus #pandemic has given lawmakers a chance to do what they should have done long ago to support families. We need a #Congress that supports a #CareEconomy. https://t.co/kpk38bTFn5 via @HuffPostPol #parenting #ChildTaxCredit https://t.co/FaNuqNq8ds                                                                       \n",
       "8719    @__CleopatRah @FEELZ_____ I get that. My point is fuck that. This country is the leading GDP yet we the only first world country that doesn't have universal Healthcare, education or monthly dispersment of stimulus funds. But we got some of the worse covid numbers apparently and highest unemployment rates                          \n",
       "8720    @sammy_shear @Armstrongathome @socialiststeve6 @JoeBiden @PeoplesParty_US \"President-elect Joe Biden said Monday that Americans would receive $2,000 in coronavirus relief payments \"immediately\" if Georgia voted for both Democrats in the US Senate runoffs.\"\\n\\nThen Dems won Georgia and he changed his mind.\\nhttps://t.co/eYum99owS2\n",
       "8721    Biden and Treasury Secretary Janet Yellen joined the Democratic senators for a private virtual meeting Tuesday, both declaring the Republicans’ $618 billion offer was too small. https://t.co/w5VHLDI1Yn                                                                                                                                  \n",
       "8731    The promise is already broken to people who thought $2000 would be separate from any Trump stimulus funds https://t.co/GsUclfBOtm                                                                                                                                                                                                          \n",
       "8747    Rachel Maddow lays out how bipartisanship has been used as a bad faith cudgel by Republicans against gullible Democrats, to the detriment of the American people, in stimulus, healthcare and immigration back during Obama's presidency. -- https://t.co/0dBP5as3PE                                                                       \n",
       "8757    @JoeManchinWV Take a look around at YOUR constituents. We are DROWNING really going to say no to a stimulus package? Please. Walk around Southern WV and talk to those in poverty for once. Talk those living on the street in Charleston. Ask all the young people why they’re leaving.                                                   \n",
       "8761    @willyellforfree Not saying those things shouldn't be discussed, just that they belong in their own separate proposals, not a stimulus package bill.                                                                                                                                                                                       \n",
       "8780    @The_Analyst @rationalwalk @litcapital Based on our lawmaker's performance during the pandemic in terms of managing all the \"stimulus\", I can't imagine any rational individual could possibly believe any type of program such as this won't be a disaster. You can throw UBI into that mix too.                                          \n",
       "8785    So #MoscowMitchTheHypocrite now finds fault with the Democrats threatening to do what he and the GOP have done for the last four years? If that ain’t hypocrisy I don’t know what is… But then again he’s known for that\\n\\nhttps://t.co/oPod6KhG9M                                                                                        \n",
       "8789    @NamiTall the latest stimulus package extended federal tax credits incentivizing the construction of wind and solar power plants                                                                                                                                                                                                           \n",
       "8790    @donwinslow @Sen_JoeManchin I'm so over his shit! West Virginia is poor af and TBH I don't think he has the luxury to reject a \"go big or go home\" stimulus package.                                                                                                                                                                       \n",
       "8821    @joebomb33 Thank you!!!!!!! I’ve been beating that drum since the first stimulus was passed. How in the fuck are Americans ok with this? I’m not saying there shouldn’t be a stimulus bill, but it needs to go to the American people!!!                                                                                                   \n",
       "8826    The \"aid to state and local governments\" in the GOP plan is only for immediate COVID policies. There is no money at all for the impending budget cuts/austerity coming down the line. The damage it will cause will swamp the \"stimulus\" for households/firms.\\n\\nhttps://t.co/2uxp2j5To0                                                  \n",
       "Name: text, dtype: object"
      ]
     },
     "execution_count": 50,
     "metadata": {},
     "output_type": "execute_result"
    }
   ],
   "source": [
    "df['text'][df.LDA1_topic ==5][1000:1020] "
   ]
  },
  {
   "cell_type": "code",
   "execution_count": 52,
   "metadata": {},
   "outputs": [
    {
     "data": {
      "text/plain": [
       "4456    #Biden’s #COVIDー19 #ReliefPlan has a #MedicaidExpansion #problem  https://t.co/ljJYlY6YtF via @voxdotcom #News #HealthCare #COVID #COVID_19 #COVID19 #stimulusBill #StimulusCheck                                                                                                                                                                                    \n",
       "4457    One Trillion In Stimulus Money Still Unspent – Lunch Alert! https://t.co/fO3IjV35AG                                                                                                                                                                                                                                                                                  \n",
       "4466    for the amount of times “$2,000 stimulus checks” has been said in this vid, multiply that by 2,000 and that’s the amount the american people should be receiving from these democrats https://t.co/8Yx01WeNFm                                                                                                                                                        \n",
       "4472    @POTUS @JoeBiden President  Biden. Tell the Republicans to go kick rocks. Pass the 1400 stimulus checks. Omg. They would have ignored you if they had won. Ignore them. Think about the people.                                                                                                                                                                      \n",
       "4482    @therainman222 @krabbejoanne @MarioAntoniBen @AriBerman Even the Republican WV governor is on board with a stimulus package like the one Dems are proposing. Manchin has zero ideological ground to stand on. When a republican governor is telling WV voters he supports this then a Dem has no other recourse. He’s pressure from all sides https://t.co/62goDPITlZ\n",
       "4504    @RebeccaRKaplan @POTUS if you are open to compromise on the stimulus checks for people, you ARE breaking your promise                                                                                                                                                                                                                                                \n",
       "4505    President @JoeBiden doesn't want to budge from his proposed $1,400 in direct payments that he said were promised to Americans #stimulus #StimulusCheck @11AliveNews https://t.co/zjY8SD3pt1                                                                                                                                                                          \n",
       "4510    @tuycoon726 @TuckerCarlson @brithume Most @GOP unfortunately think the way to beat them is to Debate them.\\nTrump said we needed a $1 Trillion stimulus, Dems wanted $3 Trillion so they could bail out Bankrupt Dem Cites. Trump stood his ground, @GOP wanted to split the difference at $2 Trillion. $28 Trillion in Debt!                                        \n",
       "4515    New Quinnipiac poll shows strong support for Biden's stimulus proposal https://t.co/mcr1Zv4If4                                                                                                                                                                                                                                                                       \n",
       "4522    That backed up stimulus bump gon look sweet as a tax credit 😴                                                                                                                                                                                                                                                                                                        \n",
       "4533    President Biden told House Democrats Congress needs to “act fast” on relief for the pandemic and economic crisis, including a third stimulus check for Americans. https://t.co/CwZmPTf3xk                                                                                                                                                                            \n",
       "4547    @POTUS Stick to your original stimulus plan. People have been dealing with this pandemic for over a year and Americans have only been given $1,800. That’s not even enough for one month’s rent in most areas!                                                                                                                                                       \n",
       "4552    @LeaderMcConnell\\nWhat good for the goose, #MoscowMitchMcTraitor\\n https://t.co/8bTJD2CZNY                                                                                                                                                                                                                                                                           \n",
       "4555    @Bigkiddle @FT_From_Canada @FDRLST Another $2 trillion stimulus in addition to our current budget spending will add almost $5 Trillion to the debt this year alone.                                                                                                                                                                                                  \n",
       "4558    📬 I delivered “Please support the WH stimulus package as presented” from Patrick, a 🗳 verified voter in Charles Town, W. Va., to @SenCapito, @Sen_JoeManchin and @RepAlexMooney #WV02 #WVpol\\n\\n📝 Write your own: https://t.co/z5540KFSKD https://t.co/pgq95vsmgA                                                                                                    \n",
       "4566    Unless something changes, Democrats will attempt to pass the president’s relief package, which includes $1,400 stimulus checks, on their own. That won’t be a quick process. https://t.co/tX2giRbOGX                                                                                                                                                                 \n",
       "4573    @lindoyes But for the rest of America that means no stimulus. No anything.                                                                                                                                                                                                                                                                                           \n",
       "4574    @KateDavidson @WhiteHouse There is no purpose to decrease the stimulus check pool except to cave to GOP. The GOP’s only reason is to be stingy. Give the $ out to the original pool. Keep your word.                                                                                                                                                                 \n",
       "4586    @HouseGOP @RepWalberg GOP blame foreign countries for all of America's problems. It's the GOP that America should be weary of. \\n\\nThey are against;\\n➡️ A strong stimulus package\\n➡️ Alternate energy sources. (GOP push fossil fuels for the kickbacks from the oil companies)\\n➡️ Protecting the environment                                                     \n",
       "4589    @BernieSanders DO NOT ALLOW THIS TO HAPPEN! An estimated 29 million people would lose out on stimulus payments under GOP proposal                                                                                                                                                                                                                                    \n",
       "Name: text, dtype: object"
      ]
     },
     "execution_count": 52,
     "metadata": {},
     "output_type": "execute_result"
    }
   ],
   "source": [
    "df['text'][df.LDA1_topic ==5][500:520] #topic 5 is comments to politicians"
   ]
  },
  {
   "cell_type": "code",
   "execution_count": 54,
   "metadata": {},
   "outputs": [
    {
     "data": {
      "text/plain": [
       "22946    Recent market activity reflects new dynamics. Chief Market Strategist David Joy sums up prices, Q4 earnings and a potential stimulus package.   https://t.co/LIqF1mEZWb\n",
       "22948    Recent market activity reflects new dynamics. Chief Market Strategist David Joy sums up prices, Q4 earnings and a potential stimulus package.   https://t.co/00fTvYdAjE\n",
       "22957    Recent market activity reflects new dynamics. Chief Market Strategist David Joy sums up prices, Q4 earnings and a potential stimulus package.   https://t.co/C9VxmpAj71\n",
       "22963    I don't want the stimulus proposals explained to me. I just want to know what and when the deposit will be.                                                            \n",
       "22986    @CBSNews Waste of time...the whole congress are useless, they need to give Americans $2000 stimulus check                                                              \n",
       "22990    Recent market activity reflects new dynamics. Chief Market Strategist David Joy sums up prices, Q4 earnings and a potential stimulus package.   https://t.co/IssY1gPaO2\n",
       "22997    @MarshaBlackburn The best economic stimulus is not impeding progress for the sake of owning the libs                                                                   \n",
       "22998    Recent market activity reflects new dynamics. Chief Market Strategist David Joy sums up prices, Q4 earnings and a potential stimulus package.   https://t.co/PY6uvkIBZt\n",
       "23000    Recent market activity reflects new dynamics. Chief Market Strategist David Joy sums up prices, Q4 earnings and a potential stimulus package.   https://t.co/80FyVEdmWn\n",
       "23001    Recent market activity reflects new dynamics. Chief Market Strategist David Joy sums up prices, Q4 earnings and a potential stimulus package.   https://t.co/DiYD8BtL4l\n",
       "23002    Recent market activity reflects new dynamics. Chief Market Strategist David Joy sums up prices, Q4 earnings and a potential stimulus package.   https://t.co/yQaLY02SEy\n",
       "23004    Recent market activity reflects new dynamics. Chief Market Strategist David Joy sums up prices, Q4 earnings and a potential stimulus package.   https://t.co/wOTGqraynH\n",
       "23006    Recent market activity reflects new dynamics. Chief Market Strategist David Joy sums up prices, Q4 earnings and a potential stimulus package.   https://t.co/CqMcgXX3Et\n",
       "23009    Recent market activity reflects new dynamics. Chief Market Strategist David Joy sums up prices, Q4 earnings and a potential stimulus package.   https://t.co/fETlvdsrkB\n",
       "23011    Recent market activity reflects new dynamics. Chief Market Strategist David Joy sums up prices, Q4 earnings and a potential stimulus package.   https://t.co/fn61fdClpi\n",
       "23012    The best economic stimulus is a job.                                                                                                                                   \n",
       "23014    Recent market activity reflects new dynamics. Chief Market Strategist David Joy sums up prices, Q4 earnings and a potential stimulus package.   https://t.co/sZBhdSaldV\n",
       "23016    Recent market activity reflects new dynamics. Chief Market Strategist David Joy sums up prices, Q4 earnings and a potential stimulus package.   https://t.co/NNqMFBjQTy\n",
       "23018    Recent market activity reflects new dynamics. Chief Market Strategist David Joy sums up prices, Q4 earnings and a potential stimulus package.   https://t.co/PQudeo0wxL\n",
       "23019    Recent market activity reflects new dynamics. Chief Market Strategist David Joy sums up prices, Q4 earnings and a potential stimulus package.   https://t.co/ZfTdZu5yJo\n",
       "Name: text, dtype: object"
      ]
     },
     "execution_count": 54,
     "metadata": {},
     "output_type": "execute_result"
    }
   ],
   "source": [
    "df['text'][df.LDA1_topic ==6][1000:1020]  "
   ]
  },
  {
   "cell_type": "code",
   "execution_count": 56,
   "metadata": {},
   "outputs": [
    {
     "data": {
      "text/plain": [
       "6050    @ericclee1 Not realistic, really. I’m supposed to buy things I don’t want/need? Giving money to people who don’t need it not a real stimulus. Most people will save it instead, widening the wealth gap.                                                                                                                         \n",
       "6057    @SirPrinceJHB Now u know I don’t agree with that my brother. The call we meant to have is now lunch! 😅 \\nBut these policies are just Dom. That stimulus package is a big waste, and the smaller ones they’re sneaking in are going to hurt many and benefit few.                                                                 \n",
       "6060    Imagine the US government/senate playing funny buggers with peoples lives here. Pissing around with farty stimulus packages. Meant to serve their citizens.\\n\\nQuick enough to bail out Wall St.\\n\\nMakes you think the tit's in charge of us do something remotely right albeit not much.                                       \n",
       "6062    #stimulus #COVID19 #Election2020 @GOP \\n81million voted @POTUS supporting the people NOT GOP#GreedOverPeople! He promised to be President of USA. \\nIf Reps don't want to ride with us, get out of the way. Just move on and fix your own 'house' that's burning down @TheDemCoalition                                           \n",
       "6064    @Frank_Schaeffer This and stimulus checks.  He does these two things and he will be SO loved.                                                                                                                                                                                                                                    \n",
       "6072    @UndecidedMatt30 @igorbobic Biden: \"So we were looking at how you spent the stimulus money and want to ask you a few questions\"\\nMe: \"Sure\"\\nBiden: \"It looks like you paid \"rent\" 3 times. Seems a little funny to me\"\\nMe, holding the new PS5: \"Funny 'haha' or...?\"                                                          \n",
       "6078    Square, #btc, Robinhood options and Chime : Americans are saving and investing money, stimulus checks right now  https://t.co/sSB0DITgBe                                                                                                                                                                                         \n",
       "6080    @RepBoebert No offense I’m not on either side but I’m sick and tired of you politicians telling us what we do and do not need yes we need jobs yes we need the schools to open back up yes we need a thriving economy but at the same time to catch back up with everyone we need the stimulus money                             \n",
       "6082    @PystCat @StonedSportsIsh @Breaking911 Then they shouldn't have campaigned on $2000 stimulus checks in the Georgia election                                                                                                                                                                                                      \n",
       "6083    The hunt for GOP votes on a coronavirus bill has Dems scaling back provisions, including the $600/per week in added UI benefits (https://t.co/alDUus4E5z) and now  eligibility for another round of stimulus checks https://t.co/BHPRBO7zol                                                                                      \n",
       "6084    @dexter02011 @melsyjs @cxx113 @RepRashida Funny you focus on her and ignore the 500 other times the Republicans held up the stimulus checks. You people are so fucking selective about your information. Please keep ignoring all the terrible shit you do, and keep shaming everyone else when they might do it once. Hypocrites\n",
       "6086    @MikeMadden @joshchafetz A creative way to do this (and one fairly targeted, by common-sense ideas) would be to up the child stimulus instead of the adult stimulus                                                                                                                                                              \n",
       "6088    Why isn't this Toady screaming about Biden dialing back the stimulus checks? Is HRC's hand THAT far up his ass making his mouth move? https://t.co/QGpdbkLDVk                                                                                                                                                                    \n",
       "6092    @Flip_3xx True but if the Republicans still had control there wouldn’t be another stimulus ppl would be getting nothing                                                                                                                                                                                                          \n",
       "6093    We are currently accepting applications from first-time borrowers and for second draw loans.\\n\\nApply today: https://t.co/GHhRWvD8iB\\n\\n#sba #smallbiz #ppploan #stimulus #smallbusinessowner #sbaloan #PaycheckProtectionProgram #smallbusiness #financing https://t.co/KuJNwmdrqb                                              \n",
       "6094    Remember when the stimulus check goes out they buying, paying, oh see the raises in invome owners Amazon, Walmart, Target these companies sailed in money from them President Trump told us it returned in 40 days. I follow it. Most of the US makes very little.                                                               \n",
       "6097    @EllaPee2003 @aLiciaLokita512 @VP That wouldn't be a wise move. GWB was last pres not to lose house and senate members at their mid-term.  Dems can't afford to lose any and still have majority.\\nHe's been for direct stimulus, he has wanted cap on who gets it reduced to lower amount and doesn't like min wage hike.       \n",
       "6104    @realDailyWire If congress doesn’t give us our refund(it’s not a stimulus that’s our money ) we should just remove all of them and they can do this petty bullshit on Twitter and congress can be fully replaced.                                                                                                                \n",
       "6107    @JStein_WaPo also boldly making unilateral decisions to provide less unemployment insurance, just in case you thought any of the concern trolling over distributional impacts of the stimulus checks was rooted in anything but misanthropic ideological commitment to austerity                                                 \n",
       "6116    It’s like every damn day they be like “BREAKING NEWS: YALL GETTING THE STIMULUS” like no shit that’s how y’all was getting us to begin with!                                                                                                                                                                                     \n",
       "Name: text, dtype: object"
      ]
     },
     "execution_count": 56,
     "metadata": {},
     "output_type": "execute_result"
    }
   ],
   "source": [
    "df['text'][df.LDA1_topic ==7][1500:1520]  "
   ]
  },
  {
   "cell_type": "code",
   "execution_count": 59,
   "metadata": {},
   "outputs": [
    {
     "data": {
      "text/plain": [
       "2215    @RashidaTlaib @indig4ever Give ppl the option to decline/opt-out of receiving stimulus if they don't want/need it (give em tax credit) &amp; roll those funds back into a 'Standalone' $2k/mo bill--and start there.  We've been twisting in the wind through 10 months of utter neglect. PLZ Do the right thing by us                                                                                \n",
       "2218    Why are Dems negotiating with Republicans on the stimulus checks who thought a $1200 check was enough to live on for ten weeks\\n\\nThey have shown us the ENTIRE four fucking years that they don't give a shit about Americans.                                                                                                                                                                       \n",
       "2223    @AugustinKeaton @VP If she stands for all stands for all Americans, by the way I have voting for her 3 times now, than she should not let the stimulus bill remove people and families that are possibly struggling.  I understand people making 300k shouldn’t get the stimulus.  150k by a family should                                                                                            \n",
       "2233    @PriceRip @MrsKlausen @PatTheBerner …  Since the centrist Democrats are the ones who are fine with making the stimulus cheques smaller than promised, later than promised, and possibly even sent to fewer people, she's not talking like one of them.                                                                                                                                                \n",
       "2235    @librals_ls Left voters: stimulus check $2K\\nSleepy Joe: $1.4K is enough\\nLeft voters: NOT ENOUGH SOCIALISM                                                                                                                                                                                                                                                                                           \n",
       "2239    Manchin: Senate Looking at ‘Targeted’ Stimulus Checks\\n\\nhttps://t.co/QjEk9fYh1P                                                                                                                                                                                                                                                                                                                      \n",
       "2245    Why are we wasting so much money and time on i another fake impeachment. when we should be addressing coronavirus stimulus paychecks                                                                                                                                                                                                                                                                  \n",
       "2250    @hercircumstance @purplepeg_25 @ArthurDelaneyHP @JStein_WaPo @igorbobic @IATSE Agreed. The only problem with the stimulus checks last year were many of those who did not need the money sat on it. It does need to be spent to help the economy. The best to way spend is with small businesses and not to pay for an Amazon order. They're doing quite well. 😀                                      \n",
       "2251    Going for a phony compromise when the economy needs stimulus is a mistake. When the midterms come in less than 2 years, the voters will vote on how much their lives have improved, not whether Biden passed a bipartisan relief bill that didn't do enough. \\n\\n https://t.co/oFERSxfUHn                                                                                                             \n",
       "2253    Democrats Consider Withholding Coronavirus Stimulus Checks From Wealthier Households https://t.co/wsVdbhEew3 https://t.co/qJZJCfS4yV                                                                                                                                                                                                                                                                  \n",
       "2254    @HenryJKraven And sadly Henry it’s true of both sides. More so obviously from the right. But our side has been on the defensive so much to actually do anything offensive. So round and round it goes. We needs Bidens stimulus plan. Desperately it will actually swing things in the right direction                                                                                                \n",
       "2256    @HawleyMO @JoeBiden Hoe stop it. Crumbs? U mean like those pennies on the dollar stimulus checks, 2 in a year? FOH                                                                                                                                                                                                                                                                                    \n",
       "2260    I’m probably in the minority opinion here, but targeting the next round of stimulus checks is a good idea. I never had to stop working and don’t need one. If it cuts down the price tag and gets relief to those who need it faster, this makes a lot of sense.                                                                                                                                      \n",
       "2263    @GoldyHA @Nick_Cassella I say 5K now, and then starting in March 3K per month for the next 18 months, then we need U/I reform, first stop letting states decide the amounts one national standard of 823/week+ plus a 500/week stimulus for the next 18 months.                                                                                                                                       \n",
       "2266    @ChrisMurphyCT Chris, please resist lowering the threshold on stimulus checks. This is the stuff that costs Dems elections. The payments are not only popular but popular because they're necessary for most and beneficial for the rest. Why is that bad? What do you get for it?                                                                                                                    \n",
       "2271    @RashidaTlaib #bidendemslied u said if voted 2 senators in georgia we'd get 2k stimulus. That was after we got trump's he never said 1400 plus trump's 600. That's a bribe and quid pro quo, and we voted them in and u all lied u said 2000                                                                                                                                                          \n",
       "2274    My stimulus check also hasn’t arrived and I went home because I thought it would be there....as one of my American friends in London got it over a week ago.                                                                                                                                                                                                                                          \n",
       "2279    @airhasiescardo I seriously doubt we’ll get a 3rd stimulus check this month. Can’t believe majority thinks so...                                                                                                                                                                                                                                                                                      \n",
       "2281    @MBKoss @ArthurDelaneyHP @JStein_WaPo @igorbobic @SenSchumer @SpeakerPelosi @SenatorBaldwin @repmarkpocan Agree. I make just over $45k but am supporting my Grandson &amp; my daughter who has staggered employment because of covid. @POTUS promised to make up the $2k stimulus. People have not recovered from financial losses and even at $50k, you don't know what their personal situations are\n",
       "2291    How Congress learned to stop worrying and start handing out cash - Vox https://t.co/K6xYw0EFcV                                                                                                                                                                                                                                                                                                        \n",
       "Name: text, dtype: object"
      ]
     },
     "execution_count": 59,
     "metadata": {},
     "output_type": "execute_result"
    }
   ],
   "source": [
    "df['text'][df.LDA1_topic ==7][500:520]  # debating specifics of stimulus check amounts"
   ]
  },
  {
   "cell_type": "code",
   "execution_count": 63,
   "metadata": {},
   "outputs": [
    {
     "data": {
      "text/plain": [
       "2420    @DoYouEvenLif Or a Stimulus Check Force                                                                                                                                                                                                                                                                                        \n",
       "2423    McConnell slams Democrats for using the same mechanism to force through COVID-19 stimulus that he used to pass the 2017 tax cuts https://t.co/IWTMPwg3Xy                                                                                                                                                                       \n",
       "2429    @JohnCornyn @AAF The lack of food in the average Americans house after record unemployment and lack of stimulus during a Pandemic suggest otherwise.                                                                                                                                                                           \n",
       "2431    Stock market news today: Investors digest earnings, stimulus progress https://t.co/7YMGkG405T                                                                                                                                                                                                                                  \n",
       "2485    I want the story of the 18 yr old kid who used his first stimulus check to preorder Playstations from Gamestop, flipped them all on Marketplace, and used that money to buy Gamestop stock, which he flips later to become rich.                                                                                               \n",
       "2503    @SaraCarterDC Where is my stimulus? 15 days old man.                                                                                                                                                                                                                                                                           \n",
       "2531    @JohnCornyn @AAF Douglas is wrong. In due time, real unemployment will get worse. Need stricter regulation of trade, commerce, financial markets, (emphasis transportation &amp; big tech), AND about 50M more manufacturing, supply-chain, &amp; construction jobs - so we won't need rescue/stimulus ever again              \n",
       "2535    Missed Drunk Crypto Job Interviews?\\n\\nALL GOOD!\\n\\nDrunk Crypto Job Interviews - Episode 1\\n\\nAvailable here in FULL video format to vibe out to. PRESS PLAY HERE:\\n\\nhttps://t.co/ct0JOualdW\\n\\n#live | #music | #crypto | #defi | #trivia | stimulus | #SouljaBoy | #ETH                                                    \n",
       "2586    These spam calls gettin ridiculous. Niggas tryna steal my stimulus or somethin??                                                                                                                                                                                                                                               \n",
       "2587    @JoeBiden you lying bastard. You said $2000 stimulus. Now you’re stuck in $1400. You’re a joke.                                                                                                                                                                                                                                \n",
       "2612    @Becpt @SteveDeaceShow He is in favor of the 600 dollar stimulus checks which is a slap in the face to hardworking American citizens who got their businesses shutdown due to the useless lockdowns and the virus that isn't even lethal.                                                                                      \n",
       "2626    U.S. economic growth could surpass China this year and Democrats may be better off spending stimulus money on something else, Fed's Bullard says  https://t.co/T7VnyPAwCr                                                                                                                                                      \n",
       "2628    @MichelleObama somebody got stimulus during the pandemic😃🖤🇺🇸\\n\\nEVERY HUMAN'S GREATEST GRANDMAMA IS RELATED TO OBAMA🤎                                                                                                                                                                                                          \n",
       "2632    Keep an eye on $BTC and crypto sympathy plays over the next few weeks. Microstrategy conference &amp; stimulus news could quite easily push $BTC up to $40k                                                                                                                                                                    \n",
       "2645    Ripon College there seems to be confusion. The extra $1000 rally points was our stimulus check from the government.                                                                                                                                                                                                            \n",
       "2706    McConnell slams Democrats for using the same mechanism to force through COVID-19 stimulus that he used to pass the 2017 tax cuts https://t.co/wpI0TmOYl2 via @Yahoo And your point is, you big ass cry baby! Deal with it, Karma is a bitch!                                                                                   \n",
       "2740    @ritholtz @bpmehlman Those so-called Reagan \"tax cuts\" actually led to a higher effective rate and tax cuts only occur because Republicans drive the economy into a ditch. No Republican administration in 40 years has avoided a recession or \"socialist\" stimulus spending, thus driving up the debt. https://t.co/ZBzo2dDizr\n",
       "2752    Let’s all put on our mocked surprise looks...\\n\\nMcConnell slams Democrats for using the same mechanism to force through COVID-19 stimulus that he used to pass the 2017 tax cuts https://t.co/m5kR6Uh2tP                                                                                                                      \n",
       "2770    So dems really gonna fuck up this stimulus check bill so they can lose the midterms again                                                                                                                                                                                                                                      \n",
       "2774    Not to be an asshole, but isn’t the conditional rebate (exactly) how the last set of stimulus checks worked? https://t.co/XLxR0vgwYV                                                                                                                                                                                           \n",
       "Name: text, dtype: object"
      ]
     },
     "execution_count": 63,
     "metadata": {},
     "output_type": "execute_result"
    }
   ],
   "source": [
    "df['text'][df.LDA1_topic ==8][120:140]  #mcconnell #fave tweet in here"
   ]
  },
  {
   "cell_type": "code",
   "execution_count": 66,
   "metadata": {},
   "outputs": [
    {
     "data": {
      "text/plain": [
       "15     @Charles93149380 No stimulus just my personal money. I’m already holding 780k #Doge just wanna show more support on 4th of feb. #Dogecoin🚀🚀                                                                                                                                                             \n",
       "22     Gold Price Analysis: XAU/USD clings to mild gains above $1,830 amid US stimulus chatters https://t.co/SxecUzLma9 #Gold #Commodities #FiscalPolicy #Coronavirus #Macroeconomics                                                                                                                          \n",
       "32     House votes to speed stimulus passage after Biden meets with Dems https://t.co/ka3FEPG3iv via @politico                                                                                                                                                                                                 \n",
       "44     #$1400 is NoT th #$2000StimulusChrcks promised to Georgians of thry voted you in @SenatorWarnock @SenOssoff &gt;\\n\\n@ajc @KeishaBottoms @RepNikema @NikemaWilliams @ReverendWarnock @ossoff @TeamOssoff \\n\\nHouse to speed stimulus passage:\\n\\n#LyinBiden meets w Dems https://t.co/WGcuorIogS         \n",
       "62     @SenSchumer Senator every citizen should be part of the stimulus. Cutting some out is a big mistake. Taxpayers have been trudgeoned on.                                                                                                                                                                 \n",
       "75     Biden changing the criteria of the checks after the fact is going to cut out quite a few dual income families. https://t.co/J4CbcLVToW                                                                                                                                                                  \n",
       "77     Biden Is Soaring As Nearly 70% Of Americans Support His Stimulus Plan https://t.co/A5CwSL8xGb via @politicususa                                                                                                                                                                                         \n",
       "94     House Democrats Move Forward On Biden’s $1.9 Trillion Stimulus Package—All Republicans Vote Against https://t.co/Z5K6ddk5DC @Forbes https://t.co/Pcle27wJXl                                                                                                                                             \n",
       "100    @Jim_Jordan Phony. You won’t even raise the minimum wage or give people stimulus checks                                                                                                                                                                                                                 \n",
       "130    @WhiteHouse While I support PotUS and his desire to help renters &amp; homeowners, what about the landlords? The companies who's jobs depends on rental payments. \\nWhy not offer rental assistance - some of the stimulus funds send to the landlords, and offer tax write-offs to cover the rest.     \n",
       "134    House Democrats Move Forward On Biden’s $1.9 Trillion Stimulus Package—All Republicans Vote Against https://t.co/9nEXOpCO1N                                                                                                                                                                             \n",
       "155    I have a feeling the Stimulus Fund wont pass until the Impeachment Trial is finished. https://t.co/9CWPriW9iw                                                                                                                                                                                           \n",
       "170    Biden Is Soaring As Nearly 70% Of Americans Support His Stimulus Plan https://t.co/XCBYobewxu via @politicususa                                                                                                                                                                                         \n",
       "220    @RepGarbarino Stop whining about unity and get to work. The stimulus package is for ALL Americans                                                                                                                                                                                                       \n",
       "234    @POTUS We support the stimulus package. The stimulus package will drive the economy. look at the example of Australia. https://t.co/PCDw49F9lo                                                                                                                                                          \n",
       "252    @garywhitta I have a similar issue if I forget to not focus on the fact that my perception of reality is entirely just a projection of my personal stimulus input and not actually grounded in factual reality which may or may not even exist at all                                                   \n",
       "306    The poorest 40% of Americans could receive benefits of over $3,000 under Biden's stimulus plan, new report finds #SmartNews  https://t.co/gyheIa8OXB                                                                                                                                                    \n",
       "307    Kevin McCarthy\\nDoes Not Care\\nAs of December 24th, 2020, Kevin McCarthy led his fellow Congressional Republicans in shooting down a stimulus package that would've provided an immediate $2,000 in funds per person.                                                                                   \n",
       "314    @Jim_Jordan WRONG;L in repubLican stands for LIES-LIARS;My GOP son says to you:”IF REPUBLICANS WERE FOR AMERICAN JOBS,GOP wouldnt have let economy tank,&amp; REPUBLICANS WOULD VOTE FOR $1.9 TRILLION PACKAGE.Its not stimulus cks per se,should be known as SURVIVORS’CHECKS,so Americans‘can get by’”\n",
       "318    @lindyli Their constituents should therefore not get a nickel of stimulus funds. They obviously do not need it.                                                                                                                                                                                         \n",
       "Name: text, dtype: object"
      ]
     },
     "execution_count": 66,
     "metadata": {},
     "output_type": "execute_result"
    }
   ],
   "source": [
    "df['text'][df.LDA1_topic ==9][:20]"
   ]
  },
  {
   "cell_type": "code",
   "execution_count": null,
   "metadata": {},
   "outputs": [],
   "source": []
  }
 ],
 "metadata": {
  "kernelspec": {
   "display_name": "Python 3",
   "language": "python",
   "name": "python3"
  },
  "language_info": {
   "codemirror_mode": {
    "name": "ipython",
    "version": 3
   },
   "file_extension": ".py",
   "mimetype": "text/x-python",
   "name": "python",
   "nbconvert_exporter": "python",
   "pygments_lexer": "ipython3",
   "version": "3.7.7"
  }
 },
 "nbformat": 4,
 "nbformat_minor": 4
}
