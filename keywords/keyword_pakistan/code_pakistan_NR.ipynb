{
 "cells": [
  {
   "cell_type": "markdown",
   "metadata": {},
   "source": [
    "# Part 1: Import data, data cleaning"
   ]
  },
  {
   "cell_type": "code",
   "execution_count": 2,
   "metadata": {},
   "outputs": [],
   "source": [
    "#import initial libraries\n",
    "\n",
    "import numpy as np\n",
    "import pandas as pd"
   ]
  },
  {
   "cell_type": "code",
   "execution_count": 3,
   "metadata": {},
   "outputs": [],
   "source": [
    "#import data (retweets removed in Twarc)\n",
    "\n",
    "df = pd.read_csv('data/pakistan_NR.csv')"
   ]
  },
  {
   "cell_type": "code",
   "execution_count": 4,
   "metadata": {},
   "outputs": [
    {
     "name": "stdout",
     "output_type": "stream",
     "text": [
      "<class 'pandas.core.frame.DataFrame'>\n",
      "RangeIndex: 4817 entries, 0 to 4816\n",
      "Data columns (total 37 columns):\n",
      " #   Column                        Non-Null Count  Dtype  \n",
      "---  ------                        --------------  -----  \n",
      " 0   id                            4817 non-null   int64  \n",
      " 1   tweet_url                     4817 non-null   object \n",
      " 2   created_at                    4817 non-null   object \n",
      " 3   parsed_created_at             4817 non-null   object \n",
      " 4   user_screen_name              4817 non-null   object \n",
      " 5   text                          4817 non-null   object \n",
      " 6   tweet_type                    4817 non-null   object \n",
      " 7   coordinates                   0 non-null      float64\n",
      " 8   hashtags                      1858 non-null   object \n",
      " 9   media                         877 non-null    object \n",
      " 10  urls                          1377 non-null   object \n",
      " 11  favorite_count                4817 non-null   int64  \n",
      " 12  in_reply_to_screen_name       1492 non-null   object \n",
      " 13  in_reply_to_status_id         1431 non-null   float64\n",
      " 14  in_reply_to_user_id           1492 non-null   float64\n",
      " 15  lang                          4817 non-null   object \n",
      " 16  place                         121 non-null    object \n",
      " 17  possibly_sensitive            2073 non-null   object \n",
      " 18  retweet_count                 4817 non-null   int64  \n",
      " 19  retweet_or_quote_id           221 non-null    float64\n",
      " 20  retweet_or_quote_screen_name  221 non-null    object \n",
      " 21  retweet_or_quote_user_id      221 non-null    float64\n",
      " 22  source                        4816 non-null   object \n",
      " 23  user_id                       4817 non-null   int64  \n",
      " 24  user_created_at               4817 non-null   object \n",
      " 25  user_default_profile_image    4817 non-null   bool   \n",
      " 26  user_description              4169 non-null   object \n",
      " 27  user_favourites_count         4817 non-null   int64  \n",
      " 28  user_followers_count          4817 non-null   int64  \n",
      " 29  user_friends_count            4817 non-null   int64  \n",
      " 30  user_listed_count             4817 non-null   int64  \n",
      " 31  user_location                 3355 non-null   object \n",
      " 32  user_name                     4817 non-null   object \n",
      " 33  user_statuses_count           4817 non-null   int64  \n",
      " 34  user_time_zone                0 non-null      float64\n",
      " 35  user_urls                     1618 non-null   object \n",
      " 36  user_verified                 4817 non-null   bool   \n",
      "dtypes: bool(2), float64(6), int64(9), object(20)\n",
      "memory usage: 1.3+ MB\n"
     ]
    }
   ],
   "source": [
    "# look at basic info about data\n",
    "\n",
    "df.info()\n",
    "# this data set consists of 4817 Tweets"
   ]
  },
  {
   "cell_type": "code",
   "execution_count": 5,
   "metadata": {},
   "outputs": [
    {
     "name": "stdout",
     "output_type": "stream",
     "text": [
      "31 ['en' 'ja' 'und' 'de' 'hi' 'ta' 'in' 'mr' 'kn' 'da' 'es' 'gu' 'or' 'tl'\n",
      " 'et' 'ht' 'pl' 'pt' 'tr' 'nl' 'eu' 'ur' 'it' 'sv' 'fi' 'fr' 'ca' 'no'\n",
      " 'vi' 'ro' 'pa']\n"
     ]
    }
   ],
   "source": [
    "# count number of languages in data set\n",
    "\n",
    "count_lang = df['lang'].unique()\n",
    "print(len(count_lang), count_lang)"
   ]
  },
  {
   "cell_type": "code",
   "execution_count": 6,
   "metadata": {},
   "outputs": [
    {
     "data": {
      "text/plain": [
       "(4299, 37)"
      ]
     },
     "execution_count": 6,
     "metadata": {},
     "output_type": "execute_result"
    }
   ],
   "source": [
    "# tweets are in 31 different languages\n",
    "\n",
    "# I'll be working only with tweets in English\n",
    "# drop tweets in all other languages\n",
    "# now working with 4299 Tweets \n",
    "\n",
    "df = df[df.lang == 'en']\n",
    "df.shape"
   ]
  },
  {
   "cell_type": "code",
   "execution_count": 7,
   "metadata": {},
   "outputs": [],
   "source": [
    "# drop unnecessary columns \n",
    "df = df.drop(['tweet_url', 'created_at', 'media', 'urls','in_reply_to_screen_name',\n",
    "       'in_reply_to_status_id', 'in_reply_to_user_id', 'retweet_or_quote_id',\n",
    "       'retweet_or_quote_screen_name', 'retweet_or_quote_user_id', 'source',\n",
    "       'user_created_at', 'user_name', 'user_verified', 'user_friends_count', 'user_listed_count',\n",
    "       'user_statuses_count', 'user_default_profile_image', 'user_description',\n",
    "       'user_favourites_count', 'user_followers_count', 'coordinates', 'lang'], axis=1)"
   ]
  },
  {
   "cell_type": "code",
   "execution_count": 8,
   "metadata": {},
   "outputs": [
    {
     "data": {
      "text/plain": [
       "id                                                  1348110393105915911\n",
       "parsed_created_at                             2021-01-10 03:32:19+00:00\n",
       "user_screen_name                                          sharpieforall\n",
       "text                  @JovanHPulitzer election switching USA-&gt;Lea...\n",
       "tweet_type                                                        reply\n",
       "hashtags                                                            NaN\n",
       "favorite_count                                                        0\n",
       "place                                                               NaN\n",
       "possibly_sensitive                                                  NaN\n",
       "retweet_count                                                         0\n",
       "user_id                                             1324148422321020936\n",
       "user_location                                                       NaN\n",
       "user_time_zone                                                      NaN\n",
       "user_urls                                                           NaN\n",
       "Name: 0, dtype: object"
      ]
     },
     "execution_count": 8,
     "metadata": {},
     "output_type": "execute_result"
    }
   ],
   "source": [
    "# check start time & date of data\n",
    "\n",
    "df.iloc[0]\n",
    "\n",
    "# first Tweet 2021-01-10 03:32:19"
   ]
  },
  {
   "cell_type": "code",
   "execution_count": 9,
   "metadata": {},
   "outputs": [
    {
     "data": {
      "text/plain": [
       "id                                                  1345359346360844288\n",
       "parsed_created_at                             2021-01-02 13:20:38+00:00\n",
       "user_screen_name                                          abdulkashmiri\n",
       "text                  @Hussain_NSharif These people R puppies of Gen...\n",
       "tweet_type                                                        reply\n",
       "hashtags                                                            NaN\n",
       "favorite_count                                                        0\n",
       "place                                                               NaN\n",
       "possibly_sensitive                                                  NaN\n",
       "retweet_count                                                         0\n",
       "user_id                                                       245495770\n",
       "user_location                                                       USA\n",
       "user_time_zone                                                      NaN\n",
       "user_urls                                                           NaN\n",
       "Name: 4815, dtype: object"
      ]
     },
     "execution_count": 9,
     "metadata": {},
     "output_type": "execute_result"
    }
   ],
   "source": [
    "# check end time & date of data \n",
    "\n",
    "df.iloc[-1]\n",
    "\n",
    "# last Tweet 2021-01-02 13:20:38"
   ]
  },
  {
   "cell_type": "markdown",
   "metadata": {},
   "source": [
    "# Part 2: Text processing for NLP "
   ]
  },
  {
   "cell_type": "code",
   "execution_count": 10,
   "metadata": {},
   "outputs": [],
   "source": [
    "# tokenize, remove stopwords, remove urls, lowercase, remove punctuation, remove numbers\n",
    "# import necessary libraries: ntlk etc.\n",
    "\n",
    "import string\n",
    "import re\n",
    "import nltk\n",
    "from nltk.corpus import stopwords\n",
    "from nltk.tokenize import TweetTokenizer\n",
    "from nltk import pos_tag\n",
    "from nltk.stem import WordNetLemmatizer \n",
    "\n",
    "stop = stopwords.words('english')\n",
    "\n",
    "punc = list(set(string.punctuation))\n",
    "\n",
    "def tokenizer(text):\n",
    "    tokenizer = TweetTokenizer()\n",
    "    tokens = tokenizer.tokenize(text)\n",
    "    return tokens\n",
    "\n",
    "def remove_url(text):\n",
    "    url = re.compile(r\"https?://\\S+|www\\.\\S+\")\n",
    "    return url.sub(r'', text)\n",
    "\n",
    "def process_text(text):\n",
    "    text = remove_url(text)\n",
    "    text = tokenizer(text)\n",
    "    text = [word.lower() for word in text]\n",
    "    text = [re.sub('[0-9]+', '', word) for word in text]\n",
    "    text = [word for word in text if word not in punc]\n",
    "    text = [word for word in text if word not in stop]\n",
    "    text = [each for each in text if len(each) > 1]\n",
    "    text = [word for word in text if ' ' not in word]\n",
    "     \n",
    "    return text"
   ]
  },
  {
   "cell_type": "code",
   "execution_count": 11,
   "metadata": {},
   "outputs": [],
   "source": [
    "# apply text processing functions to text\n",
    "df['processed_text'] = df['text'].apply(process_text)"
   ]
  },
  {
   "cell_type": "code",
   "execution_count": 12,
   "metadata": {},
   "outputs": [
    {
     "name": "stderr",
     "output_type": "stream",
     "text": [
      "/opt/anaconda3/lib/python3.7/site-packages/ipykernel_launcher.py:2: FutureWarning: Passing a negative integer is deprecated in version 1.0 and will not be supported in future version. Instead, use None to not limit the column width.\n",
      "  \n"
     ]
    },
    {
     "data": {
      "text/plain": [
       "0     [@jovanhpulitzer, election, switching, usa, ->, leaonardo, vatican, ->, pakistan, ->, china, ->, frankfurt-usa, hours, ago, pakistan, complete, power, outage, total, grid, failure, vatican, complete, power, failure, red]              \n",
       "1     [pakistan, experiences, massive, blackout, following, breakdown, national, power, grid]                                                                                                                                                   \n",
       "2     [@teamlarcho, pakistan, national, power, outage, ):]                                                                                                                                                                                      \n",
       "3     [weird, ..., vatican, pakistan]                                                                                                                                                                                                           \n",
       "4     [@rmichanczyk, @jovanhpulitzer, election, switching, usa, ->, leaonardo, vatican, ->, pakistan, ->, china, ->, frankfurt-usa, hours, ago, pakistan, complete, power, outage, total, grid, failure, vatican, complete, power, failure, red]\n",
       "5     [@abpnews, historic, power, blackout, strike, pakistan, modi, government]                                                                                                                                                                 \n",
       "6     [#powerblackout, #pakistan, #cities, #darkness, #dy, massive, power, blackout, pakistan, several, cities, plunged, darkness]                                                                                                              \n",
       "7     [yesterday, power, grid, failure, led, #blackout, throughout, pakistan, look, scared, pakistani, people, indian, army, still, ask, proofs, surgical, strikes]                                                                             \n",
       "8     [deliberate, attempt, divert, attention, media, people, hazara, debacle, pm, engineered, power, cut, pakistan, ppp, pmln, used, steer, public, pressure]                                                                                  \n",
       "9     [pakis, can't, manage, want, kashmir, umpteenth, time, pakistan, gone, total, black, like]                                                                                                                                                \n",
       "11    [meanwhile, please, pray, currently, ventilators, hope, every, hospital, pakistan, adequate, power, back, system, continues, power, supply, time, #blackoutinpakistan]                                                                    \n",
       "13    [last, night, entire, country, fallen, darkness, first, time, ever, history, pakistan, power, transmission, settled, hours, alarming, situation, whole, nation, #blackout, #blackoutinpakistan]                                           \n",
       "14    [power, back, pakistan, yet]                                                                                                                                                                                                              \n",
       "15    [pakistan, blackout, leaves, million, without, power, via, @upi]                                                                                                                                                                          \n",
       "18    [#pakistan, #vatican, power, blackouts, reign, terror, #blackout, #daysofdarkness]                                                                                                                                                        \n",
       "22    [massive, blackout, pakistan, national, power, grid, breaks, #blackoutpakistan, #blackout]                                                                                                                                                \n",
       "24    [much, pakistan, loses, power, massive, blackout]                                                                                                                                                                                         \n",
       "25    [major, power, breakdown, plunges, entire, country, darkness, #pakistan]                                                                                                                                                                  \n",
       "26    [massive, power, grid, failure, plunges, pakistan, darkness, coming, america, plagues, egypt, gms, san, diego, house, bread, link]                                                                                                        \n",
       "28    [massive, power, grid, failure, plunges, pakistan, darkness, rt, world, news]                                                                                                                                                             \n",
       "Name: processed_text, dtype: object"
      ]
     },
     "execution_count": 12,
     "metadata": {},
     "output_type": "execute_result"
    }
   ],
   "source": [
    "# look at some of processed text\n",
    "pd.set_option('display.max_colwidth', -1)\n",
    "df['processed_text'][:20]"
   ]
  },
  {
   "cell_type": "code",
   "execution_count": 13,
   "metadata": {},
   "outputs": [],
   "source": [
    "# part-of-speech tagging \n",
    "\n",
    "ready_for_pos = df['processed_text']\n",
    "\n",
    "def pos_tagging(text):\n",
    "    pos_tag = [pos_tag(word) for word in ready_for_pos]\n",
    "\n",
    "df['pos_tagged'] = df.processed_text.apply(lambda x: pos_tag(x))"
   ]
  },
  {
   "cell_type": "code",
   "execution_count": 14,
   "metadata": {},
   "outputs": [],
   "source": [
    "# lemmatizing\n",
    "\n",
    "pos_tagged = df['pos_tagged']\n",
    "\n",
    "wordnet = WordNetLemmatizer() \n",
    "\n",
    "lemmatized = [[wordnet.lemmatize(word[0]) for word in words] for words in pos_tagged]"
   ]
  },
  {
   "cell_type": "code",
   "execution_count": 15,
   "metadata": {},
   "outputs": [],
   "source": [
    "\n",
    "df['lemmatized'] = lemmatized"
   ]
  },
  {
   "cell_type": "code",
   "execution_count": 16,
   "metadata": {},
   "outputs": [
    {
     "name": "stderr",
     "output_type": "stream",
     "text": [
      "/opt/anaconda3/lib/python3.7/site-packages/ipykernel_launcher.py:4: FutureWarning: Passing a negative integer is deprecated in version 1.0 and will not be supported in future version. Instead, use None to not limit the column width.\n",
      "  after removing the cwd from sys.path.\n"
     ]
    },
    {
     "data": {
      "text/plain": [
       "3352    owned upto mention wmd's iraq bin laden saudi national pakistan taliban still power apparently negotiating endorsing trump slowly surely seems though iraq afghanistan going become kill box                             \n",
       "3353    please allah swt give u strength courage stand tyranny injustice speak truth power allah swt seek refuge disbelief poverty allah swt bless ummat-e-muslimah allah swt forever bless pakistan                             \n",
       "3354    @casey still chandragupta mauryan king annexed present day pakistan afghanistan seleucid empire mauryan power unmatched time                                                                                             \n",
       "3355    @xiaomi_pakistan yes redmi power                                                                                                                                                                                         \n",
       "3356    #psxupdate dgkc informs completion commissioning mw waste heat recovery power plant site hub distt lasbela #pakistan #kse #pakistanstockexchange #stocks                                                                 \n",
       "3357    government provide subsidy r billion fy electricity consumer across pakistan keep electricity tariff current level budgeted subsidy r billion                                                                            \n",
       "3358    power #narendramodi #pakistan shaking                                                                                                                                                                                    \n",
       "3359    @usmankhattak least start saying make pakistan super power year least start something progressive                                                                                                                        \n",
       "3360    @shahid_siddiqui pakistan already learned democracy secularism independent judiciary please tell india learn pakistan suppress minority religion state power discriminatory law still existing pakistan pakistan learned \n",
       "3361    @dch thanks daniel problem dood objecting pakistani near impossible bring pakistani doods power understand nuance woman minority pakistan minoritized damn explain understands                                           \n",
       "3362    @khiladi @karachiwala @ghauraghaura @scrivenshaft_ yes course well tell go pm pakistan opposition leader power put forth political demand illegal accept carry sit people accusing                                       \n",
       "3363    pakistan learned lesson india democracy secularism independent judiciary india learned lesson pakistan suppress minority use religion state power create discriminatory law like good neighbour learning                 \n",
       "3365    terrorist may seize power pakistan enabling environment extremism remains indian defence review                                                                                                                          \n",
       "3366    pakistan's circular debt power sector increased billion billion since june pti elected power                                                                                                                             \n",
       "3367    @derekobrienmp worrying islamist wield enormous political power within @aitcofficial considerable threat india's integrity instigating @cpimspeak @incindia break india already taken part creation pakistan @mahuamoitra\n",
       "3368    @faiqkaleem @palanisamy @shahjhan_malikk @imrankhanpti bjp r hatred towards pak according might go power one day pak military big constant pakistan's politics journey future ...                                        \n",
       "3369    hazara incident result joint effort party favour stability motive derail democracy defame establishment shocked sorry state affair pakistan always suffered crisis due power-hungry                                      \n",
       "3370    gdp growth per cent fiscal year falling decade-high per cent previous year pakistan tehreek-e-insaaf pti government came power                                                                                           \n",
       "3371    @asmashirazi cut crap people never came cave power ab inshallah yeh log road py rulain gy aur chass bhi nahi aygi inko imran khan zindabad pakistan zindabad #پرامن_ترقی_پسند_پاکستان                                    \n",
       "3372    pm aide unhappy unnecessary interference power ministry besides said put forward proposal several meeting implemented #pakistan #pti #imrankhan                                                                          \n",
       "Name: final_docs, dtype: object"
      ]
     },
     "execution_count": 16,
     "metadata": {},
     "output_type": "execute_result"
    }
   ],
   "source": [
    "# before vectorizing, cast lists of words back into strings\n",
    "\n",
    "df['final_docs'] = df['lemmatized'].apply(lambda x: \" \".join(x))\n",
    "pd.set_option('display.max_colwidth', -1)\n",
    "final_docs = df['final_docs']\n",
    "final_docs[3000:3020]"
   ]
  },
  {
   "cell_type": "markdown",
   "metadata": {},
   "source": [
    " # Part 3: run NMF and LDA models, for topic modeling"
   ]
  },
  {
   "cell_type": "code",
   "execution_count": 17,
   "metadata": {},
   "outputs": [],
   "source": [
    "#create document term matrix with TFIDF\n",
    "\n",
    "#import vectorizing tool (usee TFIDF)\n",
    "from sklearn.feature_extraction.text import TfidfVectorizer\n",
    "# set max_features to 2000 (specifies the number of most frequently occurring words for which we want to create feature vectors)\n",
    "# set min_df to 5 (word must occur in at least 5 documents)\n",
    "# set max_df to 0.85 (word must not occur in more than 85 percent of the documents) \n",
    "\n",
    "tfidfconverter = TfidfVectorizer(max_features=2000, min_df=5, max_df=0.85, ngram_range=(1, 2), stop_words='english')  \n",
    "doc_term_matrix_1 = tfidfconverter.fit_transform(df['final_docs'].values.astype('U'))"
   ]
  },
  {
   "cell_type": "code",
   "execution_count": 18,
   "metadata": {},
   "outputs": [
    {
     "data": {
      "text/plain": [
       "(4299, 2000)"
      ]
     },
     "execution_count": 18,
     "metadata": {},
     "output_type": "execute_result"
    }
   ],
   "source": [
    "doc_term_matrix_1.shape"
   ]
  },
  {
   "cell_type": "code",
   "execution_count": 19,
   "metadata": {},
   "outputs": [],
   "source": [
    "#run NMF model \n",
    "\n",
    "#import NMF tool \n",
    "from sklearn.decomposition import NMF\n",
    "\n",
    "nmf_model = NMF(n_components=6, max_iter=400)\n",
    "nmf = nmf_model.fit_transform(doc_term_matrix_1)"
   ]
  },
  {
   "cell_type": "code",
   "execution_count": 20,
   "metadata": {},
   "outputs": [],
   "source": [
    "# run LDA model\n",
    "\n",
    "#import LDA tool \n",
    "from sklearn.decomposition import LatentDirichletAllocation\n",
    "\n",
    "lda_model = LatentDirichletAllocation(n_components = 6, max_iter=10, learning_method='online', learning_decay=.9)\n",
    "lda = lda_model.fit_transform(doc_term_matrix_1)"
   ]
  },
  {
   "cell_type": "code",
   "execution_count": 21,
   "metadata": {},
   "outputs": [
    {
     "name": "stdout",
     "output_type": "stream",
     "text": [
      "LDA Model:\n",
      "Topic 0:\n",
      "[('nationwide', 21.207327355415565), ('nationwide power', 18.707027808273605), ('blackout', 17.11886335449509), ('power blackout', 12.32922631366153), ('tripping', 12.043813795994685), ('wide', 11.078521673176212), ('phase', 10.502830184563688), ('major nationwide', 10.14218994668589), ('major', 9.067612302501725), ('wide power', 8.656485013566353)]\n",
      "Topic 1:\n",
      "[('outage', 34.51177682571763), ('power outage', 33.84078206312509), ('iraq', 33.420329493651096), ('outage pakistan', 30.219399548817506), ('going', 24.678269279732344), ('afghanistan', 20.064412361760468), ('apparently', 18.5028837764831), ('taliban', 18.483656449882407), ('saudi', 18.05995032586004), ('mention', 17.793405973770554)]\n",
      "Topic 2:\n",
      "[('super', 21.365784855521234), ('super power', 21.089533972955874), ('loses', 14.60557203409045), ('loses power', 14.605524155025087), ('pakistan loses', 13.998972478697318), ('power massive', 13.683893773213061), ('pakistan super', 12.06242341146422), ('site', 11.38488426006419), ('knowledge', 11.114486476928002), ('massive blackout', 10.772536084185045)]\n",
      "Topic 3:\n",
      "[('electricity', 38.60496565962232), ('city', 36.0800051054367), ('blackout', 33.67668264999558), ('major', 30.992160103163314), ('karachi', 28.460069540724344), ('power pakistan', 28.26709615525337), ('islamabad', 26.610698835755613), ('outage', 25.81958315700777), ('power outage', 23.55064720321165), ('city pakistan', 22.519088544709234)]\n",
      "Topic 4:\n",
      "[('india', 54.571777048785314), ('people', 41.54397451134615), ('country', 35.76466145807182), ('china', 31.602282867478053), ('world', 30.549509692863218), ('khan', 29.516452072760785), ('like', 28.52921445873254), ('imran', 27.241007597817763), ('state', 26.022053465428513), ('pakistan power', 25.16216941169536)]\n",
      "Topic 5:\n",
      "[('blackout', 93.11205763344591), ('breakdown', 90.94217709405115), ('darkness', 73.92574203980766), ('power breakdown', 65.45742508894794), ('power grid', 58.757769346689194), ('grid', 58.54085338671589), ('massive', 56.675972531228055), ('plunge', 56.6257040398113), ('hope', 50.40743709079208), ('hospital', 50.13792154333899)]\n",
      "==========\n",
      "NMF Model:\n",
      "Topic 0:\n",
      "[('hospital', 0.876441196811713), ('hospital pakistan', 0.8662863627508156), ('hope hospital', 0.8660233383671935), ('ventilator', 0.8601694003441092), ('adequate power', 0.8573343392132565), ('adequate', 0.8573343392132565), ('pakistan adequate', 0.8559249837752931), ('currently ventilator', 0.8540718885984728), ('pray', 0.852442095289759), ('ventilator hope', 0.8472898809681251)]\n",
      "Topic 1:\n",
      "[('darkness', 1.3834282492651093), ('plunge', 1.3559620286114256), ('pakistan darkness', 1.1734815031903012), ('plunge pakistan', 1.143097819373901), ('power grid', 1.0057771216855973), ('grid', 0.9707263366764521), ('breakdown plunge', 0.9646156824683771), ('grid breakdown', 0.9321921796556956), ('national power', 0.8037106842701541), ('national', 0.727548016963943)]\n",
      "Topic 2:\n",
      "[('iraq', 0.9261161032094078), ('endorsing trump', 0.47091906266150324), ('trump slowly', 0.47091906266150324), ('wmd iraq', 0.47091906266150324), ('wmd', 0.47091906266150324), ('apparently negotiating', 0.47091906266150324), ('afghanistan going', 0.47091906266150324), ('saudi national', 0.47091906266150324), ('iraq bin', 0.47091906266150324), ('going kill', 0.47091906266150324)]\n",
      "Topic 3:\n",
      "[('outage', 1.5694963992558695), ('power outage', 1.561496723250616), ('outage pakistan', 1.2101840009965763), ('massive power', 0.4509334160615621), ('massive', 0.37447174051217524), ('city', 0.28749007773176705), ('pakistan power', 0.27289658997649446), ('blackout', 0.2561837141643181), ('nationwide', 0.24939508477584932), ('nationwide power', 0.22713381141390926)]\n",
      "Topic 4:\n",
      "[('power breakdown', 1.3982856116170204), ('breakdown', 1.2593465934841765), ('breakdown pakistan', 1.0656200883107412), ('major', 0.5734303880493408), ('major power', 0.5542367579754962), ('blackout', 0.44403844428376094), ('entire', 0.38656447577533226), ('entire pakistan', 0.3389525520239363), ('country', 0.27704508741896233), ('electricity', 0.26462473532777847)]\n",
      "Topic 5:\n",
      "[('massive blackout', 0.7942271991985738), ('massive', 0.67962934053769), ('blackout', 0.6694467102900908), ('breakdown national', 0.6450743024644006), ('following breakdown', 0.6450743024644006), ('following', 0.6418909367420662), ('experience massive', 0.6375645682956808), ('pakistan experience', 0.6375645682956808), ('experience', 0.6285811767391013), ('blackout following', 0.6245053411362004)]\n",
      "==========\n"
     ]
    }
   ],
   "source": [
    "def print_topics(model, vectorizer, top_n=10):\n",
    "    for idx, topic in enumerate(model.components_):\n",
    "        print(\"Topic %d:\" % (idx))\n",
    "        print([(vectorizer.get_feature_names()[i], topic[i])\n",
    "                        for i in topic.argsort()[:-top_n - 1:-1]])\n",
    " \n",
    "print(\"LDA Model:\")\n",
    "print_topics(lda_model, tfidfconverter )\n",
    "print(\"=\" * 10)\n",
    " \n",
    "print(\"NMF Model:\")\n",
    "print_topics(nmf_model, tfidfconverter )\n",
    "print(\"=\" * 10)"
   ]
  },
  {
   "cell_type": "markdown",
   "metadata": {},
   "source": [
    "# Part 4: Run visualization and testing of LDA model"
   ]
  },
  {
   "cell_type": "code",
   "execution_count": 22,
   "metadata": {},
   "outputs": [
    {
     "data": {
      "text/html": [
       "\n",
       "<link rel=\"stylesheet\" type=\"text/css\" href=\"https://cdn.rawgit.com/bmabey/pyLDAvis/files/ldavis.v1.0.0.css\">\n",
       "\n",
       "\n",
       "<div id=\"ldavis_el240961405511264754724256503878\"></div>\n",
       "<script type=\"text/javascript\">\n",
       "\n",
       "var ldavis_el240961405511264754724256503878_data = {\"mdsDat\": {\"x\": [1.4650187492370605, 54.85479736328125, 32.212928771972656, 5.111096382141113, 26.350170135498047, 38.10981750488281], \"y\": [-47.625064849853516, -36.4767951965332, -61.44457244873047, -14.110331535339355, -33.37470245361328, -7.222781181335449], \"topics\": [1, 2, 3, 4, 5, 6], \"cluster\": [1, 1, 1, 1, 1, 1], \"Freq\": [30.769258320414707, 24.045631148639288, 16.36232202499336, 11.00382745952915, 9.173948596608, 8.645012449815503]}, \"tinfo\": {\"Term\": [\"darkness\", \"breakdown\", \"iraq\", \"outage\", \"power grid\", \"plunge\", \"power outage\", \"outage pakistan\", \"blackout\", \"hospital\", \"super\", \"pray\", \"nationwide\", \"super power\", \"power breakdown\", \"ventilator\", \"massive\", \"hope hospital\", \"electricity\", \"hospital pakistan\", \"hope\", \"going\", \"grid\", \"adequate power\", \"adequate\", \"pakistan adequate\", \"currently ventilator\", \"nationwide power\", \"pakistan darkness\", \"ventilator hope\", \"imran\", \"imran khan\", \"muslim\", \"china\", \"undo\", \"undo pakistan\", \"earth\", \"leader\", \"want\", \"think\", \"power earth\", \"political\", \"party\", \"earth undo\", \"law\", \"change\", \"democracy\", \"came power\", \"came\", \"politics\", \"unitedpakistanforummah\", \"state\", \"india pakistan\", \"better\", \"break pakistan\", \"khan\", \"real\", \"general\", \"love\", \"opposition\", \"year\", \"people pakistan\", \"india\", \"government\", \"war\", \"make\", \"pm\", \"people\", \"allah\", \"world\", \"army\", \"like\", \"imrankhanpti\", \"know\", \"come\", \"country\", \"day\", \"right\", \"pakistani\", \"pakistan power\", \"time\", \"power pakistan\", \"nuclear\", \"pray\", \"ventilator\", \"hope hospital\", \"hospital pakistan\", \"adequate\", \"adequate power\", \"pakistan adequate\", \"currently ventilator\", \"ventilator hope\", \"pray currently\", \"pakistan darkness\", \"supply time\", \"time blackout\", \"plunge\", \"plunge pakistan\", \"breakdown plunge\", \"hospital\", \"darkness\", \"power grid\", \"grid breakdown\", \"currently\", \"country darkness\", \"breakdown national\", \"following breakdown\", \"plunge country\", \"experience massive\", \"pakistan experience\", \"air force\", \"breakdown entire\", \"blackout entire\", \"hope\", \"national power\", \"massive power\", \"entire pakistan\", \"power supply\", \"breakdown\", \"entire\", \"grid\", \"breakdown pakistan\", \"massive\", \"power breakdown\", \"supply\", \"blackout\", \"national\", \"lahore\", \"fault\", \"electric\", \"light\", \"pakistan nuclear\", \"tarbela\", \"major city\", \"peshawar\", \"karachi\", \"sector\", \"gone\", \"rawalpindi\", \"technical\", \"look like\", \"caused\", \"punjab\", \"power sector\", \"area\", \"distribution\", \"technical fault\", \"pakistan karachi\", \"transmission line\", \"power house\", \"trending pakistan\", \"islamabad\", \"station\", \"report major\", \"karachi lahore\", \"electric power\", \"power transmission\", \"restored\", \"plant\", \"power plant\", \"city pakistan\", \"energy\", \"city\", \"line\", \"electricity pakistan\", \"power pakistan\", \"major\", \"electricity\", \"report\", \"including\", \"pakistan electricity\", \"major power\", \"transmission\", \"outage\", \"blackout\", \"power outage\", \"poweroutage\", \"breakdown\", \"power breakdown\", \"country\", \"pakistan power\", \"hit\", \"pakistan blackout\", \"iraq\", \"slowly\", \"kill\", \"negotiating\", \"surely\", \"endorsing\", \"owned\", \"box\", \"taliban power\", \"iraq afghanistan\", \"upto\", \"bin\", \"bin laden\", \"laden\", \"saudi national\", \"negotiating endorsing\", \"endorsing trump\", \"laden saudi\", \"upto mention\", \"pakistan taliban\", \"wmd iraq\", \"surely iraq\", \"wmd\", \"owned upto\", \"afghanistan going\", \"power apparently\", \"apparently negotiating\", \"kill box\", \"slowly surely\", \"mention wmd\", \"mention\", \"apparently\", \"saudi\", \"taliban\", \"going\", \"afghanistan\", \"outage pakistan\", \"outage\", \"power outage\", \"trump\", \"trump slowly\", \"vatican\", \"wide\", \"phase\", \"major nationwide\", \"wide power\", \"naya\", \"naya pakistan\", \"avoid\", \"ha\", \"failure pakistan\", \"nation wide\", \"ke\", \"following tripping\", \"phase avoid\", \"avoid tripping\", \"grid energized\", \"resolution grid\", \"energized phase\", \"energized\", \"transmission resolution\", \"road\", \"country wide\", \"restart\", \"central\", \"cyber attack\", \"resolution\", \"car\", \"fuck\", \"black pakistan\", \"tripping ntdc\", \"blackout plunged\", \"tripping\", \"nationwide power\", \"nationwide\", \"cyber\", \"pakistan major\", \"black\", \"ntdc transmission\", \"power blackout\", \"blackout\", \"power failure\", \"major\", \"hour\", \"blackout pakistan\", \"ntdc\", \"breakdown\", \"following\", \"super power\", \"loses power\", \"loses\", \"pakistan loses\", \"power massive\", \"pakistan super\", \"knowledge\", \"knowledge power\", \"power site\", \"qasim\", \"power bank\", \"muhammad qasim\", \"super\", \"qasim dream\", \"michaelkugelman\", \"digital\", \"country atomic\", \"site\", \"empowered\", \"tax\", \"empowered country\", \"quaideawam\", \"bank\", \"consumption\", \"cnic\", \"cnic empowered\", \"gave right\", \"gave identity\", \"power money\", \"bhutto gave\", \"identity cnic\", \"dream\", \"punjabi\", \"elected pm\", \"gave\", \"muhammad\", \"massive blackout\", \"shaheed zulfiqar\", \"zulfiqar\", \"massive\", \"blackout\"], \"Freq\": [67.0, 106.0, 31.0, 84.0, 53.0, 51.0, 80.0, 48.0, 147.0, 45.0, 24.0, 42.0, 33.0, 22.0, 81.0, 41.0, 65.0, 40.0, 78.0, 40.0, 48.0, 30.0, 65.0, 38.0, 38.0, 38.0, 38.0, 26.0, 38.0, 38.0, 21.418002645371704, 19.312513746986678, 15.814968765009143, 24.84701696972662, 14.065331581937334, 13.285960637288659, 12.945733907398916, 12.809102973004745, 13.963271324578788, 13.321995571994806, 11.797625832060543, 13.69543777193767, 11.026604172712828, 10.782807046625063, 11.425966258229833, 10.050088836838158, 9.712521513561262, 9.226546709946604, 11.048808873054167, 8.749786483013356, 9.04843101699313, 20.459610679202612, 9.321139157429664, 8.001158216203407, 7.840981740614718, 23.207050851783503, 9.553203231541426, 8.020001817053354, 7.517423797565915, 7.544110443248644, 16.556985586749626, 8.64230272538068, 42.90657975834752, 15.447139239656376, 10.516132864387655, 14.310706912241729, 16.95218955327889, 32.66358458982061, 17.120857520249448, 24.019283320084266, 17.885845995883248, 22.43084396028213, 16.197286736852302, 15.087052482193021, 14.593227668622632, 28.119650529416152, 14.233990929656757, 15.143943568517983, 13.526330993867667, 19.78353440443791, 18.416362700577448, 16.452997297428087, 13.998905874852928, 41.62219992330761, 40.56934738583448, 39.56482426344863, 39.25184153180498, 38.1683761516044, 38.168459342008255, 38.06668804943296, 37.77486755453383, 37.219453585816964, 37.20350101822224, 37.83559030994739, 36.259547368303956, 33.50599213841944, 50.15321851419352, 31.078529286212326, 25.52893067841389, 44.40700875423413, 65.4758109804639, 52.041582447773926, 24.88131031876938, 39.07022373912504, 20.766351171124956, 15.892183740645049, 15.893118210053862, 15.834396273182413, 15.275620599356833, 15.276165835613687, 14.667247901245021, 15.07475164764702, 14.160441977212296, 44.6457178771244, 42.461279044086425, 38.59180012648826, 28.83118205256484, 40.33616617089841, 80.54721715685412, 38.24894991804792, 51.8494606238738, 42.00848848543551, 50.19774116829828, 57.97544771459939, 40.00754911989567, 82.4690739299805, 38.23774247135242, 16.979983957807864, 15.507298121206357, 11.11128152407437, 14.03568964030965, 9.454319279362254, 9.451387701979323, 11.80762506450985, 8.196353697311872, 25.61049300564464, 8.110548754023315, 8.496468975254176, 8.061917976823025, 9.178825195320128, 6.753705968454459, 6.40155004183495, 6.456207967127439, 6.168883749452927, 9.424571659142625, 6.23457643669243, 6.157498992443372, 5.694031960984795, 6.857593507609343, 5.883125407248622, 5.5657267550983045, 23.94629132698492, 6.253090267251853, 5.311576893361282, 5.647668393363457, 5.273898509048185, 5.588263305190117, 15.393609715263052, 19.714744488945147, 17.72433749225893, 20.264355251926407, 9.504621149604542, 32.46747928968313, 11.459566099579455, 12.936522596662414, 25.436841162250225, 27.889056926446344, 34.739627097332296, 12.182163915563539, 8.032625776382211, 11.102307871904134, 18.526978377385987, 10.68982023356892, 23.234386441150555, 30.304790514544706, 21.19262866217528, 12.071472115152005, 18.44810183601612, 16.48721869248865, 12.53851297614206, 12.386211361648272, 10.204784823533489, 10.533108112975528, 30.69374712227675, 15.948733071304057, 15.729008460846517, 15.450451967640802, 15.837428741207194, 15.22869440073601, 15.090654098878934, 15.036667913145855, 14.97372589817275, 15.007748752923456, 14.95364827094223, 14.97602871893239, 14.976215032617217, 14.976156254470514, 14.84343737442027, 14.842920680434268, 14.842604063512958, 14.84313624077678, 14.843113672520202, 14.84348454335817, 14.84298921830294, 14.842733685225918, 14.843303189969973, 14.843402060200894, 14.843036566769769, 14.843348079165896, 14.842887269328562, 14.843250933561446, 14.84283816134909, 14.843549449765156, 16.34173904559122, 16.993334424669225, 16.586537498025987, 16.975675750758448, 22.6649039121967, 18.427466411004524, 27.753963590175132, 31.69614922049957, 31.0798972602279, 16.1558325697032, 14.843857900296697, 14.996272445737473, 11.114952955914513, 10.537368328487046, 10.175542139373107, 8.684951524022589, 8.355922754153562, 8.141980442861387, 8.65574854265442, 7.310587661263966, 7.822005159380679, 6.754055122628909, 6.510350917009412, 6.485504165627003, 5.974328095894, 5.97493505181219, 5.798784973161117, 5.789429101264328, 5.79813784528136, 5.797902137660909, 5.789597822144253, 5.191635602838377, 5.526169396850859, 5.220717908995724, 5.043245739703011, 4.368724640520274, 6.405781096337079, 4.167051061781764, 3.8270918279481037, 5.482432972252477, 6.38506363482368, 3.668550304214262, 12.083419403908213, 18.7685451333628, 21.27706681721393, 6.5770209217587015, 7.799180500458093, 8.181252224851068, 6.1382124554337505, 12.36977048941244, 17.17515806324996, 6.792225869084085, 9.09743078887555, 7.256237471578474, 8.074032914024706, 6.4408329384451015, 6.224655486215327, 6.115507220105849, 21.628050861153515, 14.978473193564566, 14.978522295211961, 14.356433345630638, 14.033309170567378, 12.37043489848873, 11.398292590384342, 8.814240049715668, 8.58702066689142, 7.050567608500336, 6.784217616469776, 6.111072517320438, 21.91135575287013, 5.894421050926565, 5.846033680724186, 5.216583119599901, 5.717465788335819, 11.675594924988417, 5.2336672796762285, 4.984964980306723, 5.012361402351448, 5.031802285419455, 8.338062929919747, 4.385450467129954, 4.6346412276368145, 4.634309909108802, 4.632582837481598, 4.833623844627123, 4.354215480715523, 4.611046747382722, 4.626156854776918, 7.26057309083241, 8.036035929340235, 4.872471574043845, 9.928738774810892, 6.333026455528734, 11.047610565085916, 4.99424172174938, 5.021325625701275, 8.396147849714197, 6.251634177227461], \"Total\": [67.0, 106.0, 31.0, 84.0, 53.0, 51.0, 80.0, 48.0, 147.0, 45.0, 24.0, 42.0, 33.0, 22.0, 81.0, 41.0, 65.0, 40.0, 78.0, 40.0, 48.0, 30.0, 65.0, 38.0, 38.0, 38.0, 38.0, 26.0, 38.0, 38.0, 22.252021948767343, 20.154143804098236, 16.675660992326957, 26.271406742553104, 14.879033129097467, 14.097430046679957, 13.756966523294107, 13.625564697983704, 14.901676203662436, 14.22231377939305, 12.60350858998761, 14.645253460180323, 11.84015481101989, 11.589899401441164, 12.345149925357244, 10.910627317204092, 10.557186662197124, 10.062156784308254, 12.054002359924505, 9.566194929881005, 9.900239147141528, 22.48829332493559, 10.254779691949677, 8.813685612760448, 8.662114460937378, 25.65185876850593, 10.564700111493183, 8.887572203066544, 8.34102893566045, 8.39020700297281, 18.427151406828948, 9.624389731435956, 52.34810848394944, 18.00348856375554, 11.893024696546322, 16.66264447292843, 20.550180483862267, 44.4531691415238, 21.842943326156636, 33.651758710952166, 23.243211541081045, 31.016032500437937, 23.801696416190143, 21.369803970326046, 20.466403752179595, 78.264390246279, 20.212699484204382, 23.717062462164538, 18.33066077910262, 73.2776824635962, 58.40319338376191, 45.20154245176734, 25.92122154231417, 42.43982494456476, 41.3855448421753, 40.36304904438977, 40.046516019055225, 38.96234847965638, 38.96281193622889, 38.86148693295064, 38.56870058166546, 38.01179075284391, 37.99610971886227, 38.663340909762944, 37.053527730737336, 34.29649391346482, 51.37538875158353, 31.880166046478614, 26.321568202514847, 45.80110077600523, 67.54530063221614, 53.740745011994825, 25.696729092187773, 40.56430034246807, 21.581464549144616, 16.681279038784893, 16.682969713328518, 16.64597177743141, 16.063728092542465, 16.065085388813635, 15.46766753440997, 15.901724703083246, 14.97994742546441, 48.32482060623232, 47.74218483015369, 43.40709427183578, 32.73960337620284, 48.030674479055726, 106.9132363688818, 45.55038363570332, 65.3192926729794, 51.976999714913745, 65.18881017175039, 81.90731505804774, 49.934998513889916, 147.34686078078687, 61.1775691369783, 18.032189857021073, 16.62286245193761, 11.9305519791606, 15.223757034364873, 10.288460806206434, 10.321445280435801, 12.904600575590154, 8.989785397235016, 28.11310228992234, 8.907957542142723, 9.340792272506937, 8.875611469591824, 10.124771132030375, 7.559190590502558, 7.203310992086345, 7.271393591604417, 6.959437829158647, 10.662287904500953, 7.082289845094503, 7.007809712908805, 6.483360607071229, 7.815833692908921, 6.72866286894882, 6.369584325838831, 27.468584003339515, 7.1730189316245, 6.10713644592504, 6.499407828701732, 6.076735412574412, 6.440465650416174, 17.82429073367244, 23.124026604444285, 21.106618079866696, 25.592746855485565, 11.523907588715783, 48.232196008912915, 14.921065460310574, 18.560453467081214, 45.20154245176734, 54.767235624510306, 78.35454426624788, 18.345712588666046, 10.082090258530116, 16.664743900615, 37.195346916611165, 16.99474242940362, 84.12836725593436, 147.34686078078687, 80.9273624586944, 22.840533574252476, 106.9132363688818, 81.90731505804774, 78.264390246279, 73.2776824635962, 19.00147152903451, 31.217804493289314, 31.563986738378254, 16.739520733091524, 16.521734337728027, 16.237349069624518, 16.64655181305234, 16.014887420531508, 15.877455692171697, 15.825410722800997, 15.759338480810191, 15.79532037738563, 15.741424957721037, 15.765553420667135, 15.76733373024475, 15.767754299225174, 15.628413977587899, 15.628461310548209, 15.628287731328417, 15.629224301593604, 15.62929251061005, 15.629745700162614, 15.629301936739289, 15.629485373592471, 15.630354692755152, 15.630476573411714, 15.630138145410358, 15.630505259134265, 15.630076037062311, 15.630601280554762, 15.630180166907701, 15.631333812262504, 17.217432111851355, 17.918627779774265, 17.8982916598927, 18.82087332309064, 30.38005065509627, 22.02286898131227, 48.981578946654096, 84.12836725593436, 80.9273624586944, 24.86058798564191, 15.63353631756703, 16.723652137448926, 11.926148391730276, 11.318542767118144, 11.089409792628924, 9.466124806206647, 9.150776819197837, 8.933480898277125, 9.54620227220181, 8.085574034760285, 8.715992913785914, 7.527139623041504, 7.297958669591932, 7.273866733075406, 6.742294034800348, 6.743901350407123, 6.567158788803752, 6.5579956511884525, 6.567998190562876, 6.567802481144448, 6.5598778092179995, 6.0012998534477875, 6.39260199001503, 6.042079233352087, 5.85307342010866, 5.140693128992342, 7.608271295631084, 4.950630167946931, 4.61557900059137, 6.615097220941028, 7.719014939508026, 4.447315107170724, 15.904345258352222, 26.637066253588962, 33.62026652540963, 8.564914726984739, 11.800816215686103, 14.56997899962687, 8.960860301695671, 51.88591009289586, 147.34686078078687, 13.373955426180153, 54.767235624510306, 19.830742676022062, 48.2080325455155, 15.009315687933837, 106.9132363688818, 23.573196281104728, 22.516625922910595, 15.774807077755675, 15.77690587023475, 15.153176817589346, 14.820909416994484, 13.174836794018553, 12.193880920929317, 9.582844862756511, 9.355164612475289, 7.830476959126393, 7.555451848908132, 6.884897719215042, 24.769026996195077, 6.668843333064112, 6.683558237572852, 5.995084110517824, 6.62362156180048, 13.532771452965868, 6.077476819418638, 5.801209213833069, 5.839322966582231, 5.887415093373198, 9.791099732283886, 5.154109040056802, 5.45303496828922, 5.454672966620083, 5.453320778101672, 5.690296771875081, 5.127845566053757, 5.432868483230259, 5.452768387895398, 8.650772477375963, 9.742838588906338, 5.795402275797263, 13.88162340765155, 9.651818951751089, 31.338506933889377, 6.376802818433841, 6.556889178812412, 65.18881017175039, 147.34686078078687], \"Category\": [\"Default\", \"Default\", \"Default\", \"Default\", \"Default\", \"Default\", \"Default\", \"Default\", \"Default\", \"Default\", \"Default\", \"Default\", \"Default\", \"Default\", \"Default\", \"Default\", \"Default\", \"Default\", \"Default\", \"Default\", \"Default\", \"Default\", \"Default\", \"Default\", \"Default\", \"Default\", \"Default\", \"Default\", \"Default\", \"Default\", \"Topic1\", \"Topic1\", \"Topic1\", \"Topic1\", \"Topic1\", \"Topic1\", \"Topic1\", \"Topic1\", \"Topic1\", \"Topic1\", \"Topic1\", \"Topic1\", \"Topic1\", \"Topic1\", \"Topic1\", \"Topic1\", \"Topic1\", \"Topic1\", \"Topic1\", \"Topic1\", \"Topic1\", \"Topic1\", \"Topic1\", \"Topic1\", \"Topic1\", \"Topic1\", \"Topic1\", \"Topic1\", \"Topic1\", \"Topic1\", \"Topic1\", \"Topic1\", \"Topic1\", \"Topic1\", \"Topic1\", \"Topic1\", \"Topic1\", \"Topic1\", \"Topic1\", \"Topic1\", \"Topic1\", \"Topic1\", \"Topic1\", \"Topic1\", \"Topic1\", \"Topic1\", \"Topic1\", \"Topic1\", \"Topic1\", \"Topic1\", \"Topic1\", \"Topic1\", \"Topic1\", \"Topic2\", \"Topic2\", \"Topic2\", \"Topic2\", \"Topic2\", \"Topic2\", \"Topic2\", \"Topic2\", \"Topic2\", \"Topic2\", \"Topic2\", \"Topic2\", \"Topic2\", \"Topic2\", \"Topic2\", \"Topic2\", \"Topic2\", \"Topic2\", \"Topic2\", \"Topic2\", \"Topic2\", \"Topic2\", \"Topic2\", \"Topic2\", \"Topic2\", \"Topic2\", \"Topic2\", \"Topic2\", \"Topic2\", \"Topic2\", \"Topic2\", \"Topic2\", \"Topic2\", \"Topic2\", \"Topic2\", \"Topic2\", \"Topic2\", \"Topic2\", \"Topic2\", \"Topic2\", \"Topic2\", \"Topic2\", \"Topic2\", \"Topic2\", \"Topic3\", \"Topic3\", \"Topic3\", \"Topic3\", \"Topic3\", \"Topic3\", \"Topic3\", \"Topic3\", \"Topic3\", \"Topic3\", \"Topic3\", \"Topic3\", \"Topic3\", \"Topic3\", \"Topic3\", \"Topic3\", \"Topic3\", \"Topic3\", \"Topic3\", \"Topic3\", \"Topic3\", \"Topic3\", \"Topic3\", \"Topic3\", \"Topic3\", \"Topic3\", \"Topic3\", \"Topic3\", \"Topic3\", \"Topic3\", \"Topic3\", \"Topic3\", \"Topic3\", \"Topic3\", \"Topic3\", \"Topic3\", \"Topic3\", \"Topic3\", \"Topic3\", \"Topic3\", \"Topic3\", \"Topic3\", \"Topic3\", \"Topic3\", \"Topic3\", \"Topic3\", \"Topic3\", \"Topic3\", \"Topic3\", \"Topic3\", \"Topic3\", \"Topic3\", \"Topic3\", \"Topic3\", \"Topic3\", \"Topic3\", \"Topic4\", \"Topic4\", \"Topic4\", \"Topic4\", \"Topic4\", \"Topic4\", \"Topic4\", \"Topic4\", \"Topic4\", \"Topic4\", \"Topic4\", \"Topic4\", \"Topic4\", \"Topic4\", \"Topic4\", \"Topic4\", \"Topic4\", \"Topic4\", \"Topic4\", \"Topic4\", \"Topic4\", \"Topic4\", \"Topic4\", \"Topic4\", \"Topic4\", \"Topic4\", \"Topic4\", \"Topic4\", \"Topic4\", \"Topic4\", \"Topic4\", \"Topic4\", \"Topic4\", \"Topic4\", \"Topic4\", \"Topic4\", \"Topic4\", \"Topic4\", \"Topic4\", \"Topic4\", \"Topic4\", \"Topic4\", \"Topic5\", \"Topic5\", \"Topic5\", \"Topic5\", \"Topic5\", \"Topic5\", \"Topic5\", \"Topic5\", \"Topic5\", \"Topic5\", \"Topic5\", \"Topic5\", \"Topic5\", \"Topic5\", \"Topic5\", \"Topic5\", \"Topic5\", \"Topic5\", \"Topic5\", \"Topic5\", \"Topic5\", \"Topic5\", \"Topic5\", \"Topic5\", \"Topic5\", \"Topic5\", \"Topic5\", \"Topic5\", \"Topic5\", \"Topic5\", \"Topic5\", \"Topic5\", \"Topic5\", \"Topic5\", \"Topic5\", \"Topic5\", \"Topic5\", \"Topic5\", \"Topic5\", \"Topic5\", \"Topic5\", \"Topic5\", \"Topic5\", \"Topic5\", \"Topic5\", \"Topic5\", \"Topic6\", \"Topic6\", \"Topic6\", \"Topic6\", \"Topic6\", \"Topic6\", \"Topic6\", \"Topic6\", \"Topic6\", \"Topic6\", \"Topic6\", \"Topic6\", \"Topic6\", \"Topic6\", \"Topic6\", \"Topic6\", \"Topic6\", \"Topic6\", \"Topic6\", \"Topic6\", \"Topic6\", \"Topic6\", \"Topic6\", \"Topic6\", \"Topic6\", \"Topic6\", \"Topic6\", \"Topic6\", \"Topic6\", \"Topic6\", \"Topic6\", \"Topic6\", \"Topic6\", \"Topic6\", \"Topic6\", \"Topic6\", \"Topic6\", \"Topic6\", \"Topic6\", \"Topic6\", \"Topic6\"], \"logprob\": [30.0, 29.0, 28.0, 27.0, 26.0, 25.0, 24.0, 23.0, 22.0, 21.0, 20.0, 19.0, 18.0, 17.0, 16.0, 15.0, 14.0, 13.0, 12.0, 11.0, 10.0, 9.0, 8.0, 7.0, 6.0, 5.0, 4.0, 3.0, 2.0, 1.0, -5.3136, -5.4171, -5.6169, -5.1651, -5.7342, -5.7912, -5.8171, -5.8277, -5.7414, -5.7884, -5.91, -5.7608, -5.9776, -5.9999, -5.942, -6.0703, -6.1045, -6.1558, -5.9755, -6.2088, -6.1753, -5.3594, -6.1456, -6.2983, -6.3185, -5.2334, -6.121, -6.2959, -6.3606, -6.3571, -5.5711, -6.2212, -4.6188, -5.6404, -6.025, -5.7169, -5.5475, -4.8916, -5.5376, -5.199, -5.4939, -5.2674, -5.593, -5.664, -5.6973, -5.0414, -5.7222, -5.6603, -5.7732, -5.393, -5.4646, -5.5774, -5.7389, -4.4027, -4.4283, -4.4534, -4.4613, -4.4893, -4.4893, -4.492, -4.4997, -4.5145, -4.5149, -4.4981, -4.5406, -4.6196, -4.2162, -4.6948, -4.8915, -4.3379, -3.9496, -4.1793, -4.9172, -4.4659, -5.098, -5.3655, -5.3654, -5.3691, -5.405, -5.405, -5.4457, -5.4183, -5.4809, -4.3325, -4.3827, -4.4783, -4.7698, -4.4341, -3.7425, -4.4872, -4.183, -4.3934, -4.2153, -4.0713, -4.4422, -3.7189, -4.4875, -4.9143, -5.005, -5.3384, -5.1047, -5.4999, -5.5002, -5.2776, -5.6426, -4.5033, -5.6532, -5.6067, -5.6592, -5.5294, -5.8362, -5.8898, -5.8813, -5.9268, -5.503, -5.9162, -5.9287, -6.0069, -5.821, -5.9742, -6.0297, -4.5705, -5.9133, -6.0764, -6.0151, -6.0836, -6.0257, -5.0124, -4.765, -4.8714, -4.7375, -5.4946, -4.2661, -5.3075, -5.1863, -4.5101, -4.4181, -4.1985, -5.2464, -5.6628, -5.3392, -4.8271, -5.377, -4.6007, -4.335, -4.6927, -5.2555, -4.8314, -4.9437, -5.2175, -5.2297, -5.4235, -5.3918, -3.9255, -4.5802, -4.5941, -4.612, -4.5872, -4.6264, -4.6355, -4.6391, -4.6433, -4.641, -4.6446, -4.6431, -4.6431, -4.6431, -4.652, -4.6521, -4.6521, -4.6521, -4.6521, -4.652, -4.6521, -4.6521, -4.652, -4.652, -4.6521, -4.652, -4.6521, -4.652, -4.6521, -4.652, -4.5559, -4.5168, -4.541, -4.5178, -4.2288, -4.4358, -4.0262, -3.8934, -3.913, -4.5673, -4.652, -4.6418, -4.7594, -4.8128, -4.8477, -5.0061, -5.0447, -5.0707, -5.0095, -5.1784, -5.1108, -5.2576, -5.2943, -5.2981, -5.3802, -5.3801, -5.4101, -5.4117, -5.4102, -5.4102, -5.4117, -5.5207, -5.4582, -5.5151, -5.5497, -5.6932, -5.3105, -5.7405, -5.8256, -5.4662, -5.3138, -5.8679, -4.6759, -4.2355, -4.1101, -5.2841, -5.1137, -5.0659, -5.3532, -4.6525, -4.3243, -5.2519, -4.9597, -5.1859, -5.0791, -5.3051, -5.3392, -5.3569, -4.0343, -4.4017, -4.4017, -4.4441, -4.4669, -4.593, -4.6749, -4.932, -4.9581, -5.1552, -5.1937, -5.2982, -4.0213, -5.3343, -5.3426, -5.4565, -5.3648, -4.6508, -5.4532, -5.5019, -5.4964, -5.4926, -4.9875, -5.63, -5.5748, -5.5748, -5.5752, -5.5327, -5.6372, -5.5799, -5.5766, -5.1259, -5.0244, -5.5247, -4.8129, -5.2626, -4.7061, -5.5, -5.4946, -4.9806, -5.2755], \"loglift\": [30.0, 29.0, 28.0, 27.0, 26.0, 25.0, 24.0, 23.0, 22.0, 21.0, 20.0, 19.0, 18.0, 17.0, 16.0, 15.0, 14.0, 13.0, 12.0, 11.0, 10.0, 9.0, 8.0, 7.0, 6.0, 5.0, 4.0, 3.0, 2.0, 1.0, 1.1405, 1.136, 1.1257, 1.1229, 1.1224, 1.1194, 1.1179, 1.1169, 1.1136, 1.1133, 1.1126, 1.1116, 1.1075, 1.1065, 1.1013, 1.0965, 1.0953, 1.092, 1.0916, 1.0894, 1.0887, 1.0841, 1.0832, 1.0819, 1.0791, 1.0785, 1.078, 1.0759, 1.0747, 1.0724, 1.0716, 1.071, 0.9798, 1.0255, 1.0556, 1.0265, 0.9862, 0.8705, 0.9351, 0.8414, 0.9167, 0.8546, 0.7937, 0.8305, 0.8404, 0.155, 0.828, 0.7301, 0.8747, -0.1308, 0.0245, 0.168, 0.5626, 1.4058, 1.4053, 1.4052, 1.4052, 1.4046, 1.4046, 1.4046, 1.4044, 1.4042, 1.4041, 1.4036, 1.4036, 1.4019, 1.4011, 1.3998, 1.3946, 1.3943, 1.3941, 1.3931, 1.393, 1.3877, 1.3867, 1.3768, 1.3767, 1.3752, 1.3749, 1.3749, 1.3721, 1.3718, 1.369, 1.346, 1.308, 1.3076, 1.2981, 1.2506, 1.142, 1.2505, 1.1943, 1.2123, 1.1639, 1.0796, 1.2036, 0.8449, 0.9553, 1.7501, 1.7407, 1.739, 1.7289, 1.7256, 1.7221, 1.7214, 1.7178, 1.717, 1.7164, 1.7154, 1.714, 1.7121, 1.6975, 1.6922, 1.6913, 1.6896, 1.6868, 1.6827, 1.6808, 1.6804, 1.6794, 1.6759, 1.6753, 1.673, 1.6729, 1.6706, 1.6697, 1.6685, 1.6683, 1.6636, 1.6507, 1.6355, 1.5767, 1.6175, 1.4144, 1.5462, 1.4492, 1.2353, 1.1353, 0.9968, 1.4008, 1.5829, 1.404, 1.1132, 1.3466, 0.5235, 0.2287, 0.4703, 1.1725, 0.0531, 0.2072, -0.0211, 0.0325, 1.1885, 0.7237, 2.179, 2.1585, 2.1578, 2.1573, 2.1571, 2.1566, 2.1561, 2.1558, 2.1558, 2.1558, 2.1556, 2.1556, 2.1554, 2.1554, 2.1554, 2.1554, 2.1553, 2.1553, 2.1553, 2.1553, 2.1553, 2.1553, 2.1553, 2.1553, 2.1553, 2.1553, 2.1553, 2.1552, 2.1552, 2.1552, 2.1547, 2.1539, 2.1308, 2.1037, 1.914, 2.0287, 1.6389, 1.2308, 1.2499, 1.7759, 2.1551, 2.0979, 2.3184, 2.3173, 2.3028, 2.3027, 2.2979, 2.296, 2.2909, 2.288, 2.2806, 2.2804, 2.2746, 2.2741, 2.2679, 2.2677, 2.2644, 2.2642, 2.2641, 2.2641, 2.2639, 2.2439, 2.2432, 2.2427, 2.2399, 2.2261, 2.2168, 2.2165, 2.2015, 2.201, 2.1991, 2.1963, 2.114, 2.0387, 1.9313, 2.1247, 1.9747, 1.8117, 2.0105, 0.955, 0.2395, 1.7113, 0.5937, 1.3834, 0.6019, 1.5428, -0.4547, 1.0395, 2.4079, 2.3964, 2.3963, 2.3942, 2.3936, 2.3852, 2.3807, 2.3646, 2.3625, 2.3433, 2.3405, 2.329, 2.3256, 2.3247, 2.3143, 2.3091, 2.3011, 2.3006, 2.2987, 2.2965, 2.2955, 2.2911, 2.2875, 2.2867, 2.2856, 2.2852, 2.2851, 2.285, 2.2846, 2.2842, 2.2838, 2.273, 2.2556, 2.2747, 2.1131, 2.0268, 1.4056, 2.2038, 2.1814, 0.3987, -0.7118]}, \"token.table\": {\"Topic\": [2, 2, 1, 4, 4, 2, 1, 2, 5, 6, 4, 4, 3, 1, 3, 6, 5, 5, 1, 6, 1, 6, 4, 4, 2, 3, 4, 5, 5, 1, 2, 3, 4, 5, 6, 2, 1, 2, 3, 4, 5, 5, 4, 1, 1, 2, 3, 5, 2, 2, 1, 2, 3, 2, 1, 1, 5, 3, 5, 1, 1, 4, 2, 3, 4, 2, 3, 4, 6, 6, 1, 2, 3, 6, 1, 2, 3, 4, 5, 6, 2, 5, 2, 3, 2, 2, 5, 5, 2, 3, 1, 4, 1, 6, 3, 1, 6, 1, 1, 6, 3, 3, 1, 2, 3, 5, 2, 3, 6, 6, 4, 4, 5, 5, 3, 5, 1, 2, 4, 5, 2, 5, 2, 5, 3, 2, 5, 2, 5, 5, 1, 4, 6, 6, 6, 1, 1, 4, 3, 1, 5, 2, 3, 5, 2, 5, 5, 1, 2, 3, 4, 2, 3, 2, 2, 4, 2, 1, 3, 4, 5, 6, 1, 1, 1, 2, 3, 5, 6, 1, 3, 1, 4, 5, 1, 4, 4, 2, 3, 6, 2, 3, 5, 3, 5, 1, 3, 4, 4, 1, 3, 4, 6, 6, 4, 4, 3, 1, 1, 1, 3, 1, 3, 4, 2, 3, 4, 5, 3, 6, 6, 1, 2, 3, 5, 3, 5, 2, 3, 1, 3, 2, 3, 6, 2, 6, 2, 3, 4, 4, 6, 1, 6, 6, 1, 5, 1, 2, 3, 4, 5, 6, 2, 3, 5, 1, 2, 3, 5, 1, 2, 5, 5, 5, 4, 4, 3, 5, 3, 5, 1, 2, 3, 1, 1, 2, 3, 4, 1, 2, 3, 4, 4, 4, 2, 2, 3, 4, 5, 2, 2, 3, 5, 2, 3, 6, 3, 5, 3, 1, 2, 3, 4, 5, 6, 4, 1, 2, 3, 1, 1, 2, 3, 4, 6, 1, 3, 5, 5, 3, 5, 2, 3, 2, 2, 1, 3, 5, 6, 1, 1, 4, 6, 1, 2, 3, 4, 5, 1, 2, 3, 5, 1, 2, 3, 4, 5, 2, 3, 3, 6, 6, 1, 2, 3, 4, 1, 3, 4, 6, 3, 5, 3, 6, 2, 3, 3, 2, 3, 5, 2, 2, 3, 1, 6, 6, 6, 6, 3, 1, 1, 2, 3, 5, 3, 3, 5, 5, 5, 3, 5, 1, 2, 3, 4, 5, 6, 5, 4, 5, 4, 3, 1, 6, 1, 6, 4, 4, 1, 2, 3, 1, 6, 6, 2, 3, 2, 4, 4, 4, 6, 4, 3, 6, 3, 3, 1, 1, 2, 3, 5, 6, 2, 3, 5, 3, 5, 3, 3, 5, 3, 5, 1, 4, 4, 1, 1, 1, 4, 4, 1, 4, 2, 2, 1, 1, 3, 5, 5, 4, 4, 1, 2, 4, 6, 1, 3, 1, 6], \"Freq\": [0.9753005525280681, 0.9752889514800744, 0.13622203367534358, 0.8173322020520616, 0.9596844161230019, 0.9697648314867398, 0.7782833909403923, 0.04578137593767014, 0.04578137593767014, 0.09156275187534028, 0.9487333633431925, 0.9596882295666211, 0.8440965091742422, 0.7744196609055521, 0.0860466289895058, 0.1290699434842587, 0.9427832915512034, 0.8896927295114994, 0.10213357307583451, 0.8170685846066761, 0.9076793014284065, 0.9203241373196492, 0.9514413861511789, 0.9513339577018746, 0.06863427874711485, 0.2745371149884594, 0.06863427874711485, 0.5490742299769188, 0.7558467900020867, 0.02714682877398346, 0.5565099898666609, 0.20360121580487595, 0.047506950354471056, 0.11537402228942971, 0.04072024316097519, 0.9345827193092415, 0.04148686213468066, 0.5393292077508486, 0.20743431067340332, 0.04148686213468066, 0.16594744853872265, 0.8994190660226692, 0.9478426982238282, 0.9235620281949349, 0.009353378814104073, 0.7576236839424298, 0.1683608186538733, 0.056120272884624435, 0.9432939055404218, 0.9591590646496062, 0.01923927901735102, 0.8080497187287429, 0.17315351115615918, 0.9877830910361898, 0.9125599673492094, 0.8944404458133004, 0.8079779471102836, 0.8329502928016965, 0.8542520554794573, 0.9165375838868406, 0.9516049233673604, 0.038064196934694414, 0.22806342879281902, 0.6634572473972917, 0.08293215592466147, 0.03907357055679466, 0.7814714111358932, 0.11722071167038399, 0.9169205825886441, 0.9166452380550661, 0.7329084377318881, 0.048860562515459206, 0.19544225006183683, 0.7760798168825541, 0.3577616833388826, 0.39609329226804857, 0.1661036386930526, 0.025554405952777328, 0.051108811905554656, 0.9058488538359425, 0.9730572247392885, 0.9385849470015093, 0.9614365259782293, 0.02465221861482639, 0.9852548679865091, 0.11675539475593215, 0.817287763291525, 0.7781051892479067, 0.9623171322298898, 0.01480487895738292, 0.6926338567958515, 0.24736923456994697, 0.9472220507199819, 0.8340166556175517, 0.8471836272213367, 0.11559661320596075, 0.8091762924417253, 0.9449757675856544, 0.9491022845834355, 0.8627528792748315, 0.9220026046752893, 0.8228102197198919, 0.025525003287671762, 0.4466875575342559, 0.4466875575342559, 0.0765750098630153, 0.26938996985542357, 0.7004139216241013, 0.8227098430098648, 0.8562636505318203, 0.9366285011013942, 0.9597980442816552, 0.9135475704736011, 0.9135203491104801, 0.8677612105976974, 0.08677612105976974, 0.04390742383193364, 0.8342410528067391, 0.02195371191596682, 0.08781484766386728, 0.8857773769207904, 0.09163214244008176, 0.9337807458882289, 0.9178529720172853, 0.9625297716480228, 0.7211580388708881, 0.2545263666603135, 0.9590618621825542, 0.8248707627151134, 0.8666301669817592, 0.21611305190330984, 0.07203768396776994, 0.7203768396776995, 0.8786887925974355, 0.9168725265672938, 0.9001333341899267, 0.23041436235478252, 0.7570757620228569, 0.8564583995242743, 0.8331718570476315, 0.055544790469842106, 0.7960894533922412, 0.10716588795664786, 0.09185647539141245, 0.9728864677800728, 0.9136371135458621, 0.8657393983292531, 0.10525500601066462, 0.31576501803199386, 0.5262750300533231, 0.05262750300533231, 0.9311984904543333, 0.062079899363622223, 0.9910054108154589, 0.9606756006844969, 0.02183353637919311, 0.9738674890330719, 0.15128026463816652, 0.45384079391449955, 0.05042675487938884, 0.3529872841557219, 0.9169654099190241, 0.9437344636972776, 0.9427341684510782, 0.6722209930010133, 0.042013812062563334, 0.12604143618769, 0.08402762412512667, 0.08402762412512667, 0.09918578135659258, 0.7934862508527406, 0.8214241401517749, 0.15282309584219067, 0.019102886980273834, 0.8776395271626636, 0.9821319549063011, 0.9496483541717646, 0.036405225689042586, 0.8737254165370221, 0.07281045137808517, 0.03557060297676462, 0.9248356773958802, 0.03557060297676462, 0.9231610260712799, 0.9591723270736758, 0.8966211847477599, 0.07796705954328347, 0.9684213335559677, 0.9596559806474456, 0.7019250162906918, 0.09359000217209223, 0.14038500325813835, 0.9020918009064559, 0.939178305492378, 0.9513085830324676, 0.9597405290594334, 0.9427584855081161, 0.8910381863735594, 0.9540888974622627, 0.0656868076482488, 0.9196153070754832, 0.7093105799295693, 0.1934483399807916, 0.0322413899967986, 0.06701934273125194, 0.7372127700437714, 0.06701934273125194, 0.06701934273125194, 0.9260250705670617, 0.9507567658307142, 0.9508832612699116, 0.9591142845455856, 0.3104045659078672, 0.5112545791423695, 0.16433182901004734, 0.9299009240703457, 0.9017612467208986, 0.48393149929087864, 0.5108165825848163, 0.8402027674986169, 0.06001448339275835, 0.7670028010676521, 0.09204033612811825, 0.12272044817082434, 0.6381924972428107, 0.3510058734835459, 0.8984706452766346, 0.09215083541298816, 0.9292907267505149, 0.9596110082578344, 0.8977254011598038, 0.3108222413823586, 0.6216444827647172, 0.8714726412354125, 0.9594822062742909, 0.9299681353820163, 0.03269172064555138, 0.6211426922654761, 0.08172930161387844, 0.21249618419608393, 0.03269172064555138, 0.01634586032277569, 0.8797251351067839, 0.04189167310032304, 0.04189167310032304, 0.2082077485825259, 0.14871982041608992, 0.029743964083217982, 0.6246232457475777, 0.2627917028609279, 0.037541671837275414, 0.7132917649082329, 0.8742427181937636, 0.8955075956498488, 0.9237961157132941, 0.9597873841793986, 0.5330023144513706, 0.3997517358385279, 0.22319285567051395, 0.6695785670115418, 0.540098003373267, 0.15431371524950485, 0.3086274304990097, 0.9534925654594038, 0.10697937323115166, 0.23773194051367033, 0.2733917315907209, 0.38037110482187253, 0.06124751517845727, 0.22457422232101001, 0.14291086874973363, 0.5716434749989345, 0.9447357492797588, 0.9596636372249718, 0.9778318587130492, 0.5445610373930806, 0.3523630241955227, 0.03203300219959297, 0.06406600439918594, 0.9828431559675319, 0.24002769102574584, 0.660076150320801, 0.06000692275643646, 0.9337018532403649, 0.9254459783489383, 0.923898676068323, 0.2542197035500208, 0.6779192094667222, 0.8747664173994637, 0.27293439595249, 0.4094015939287351, 0.16376063757149403, 0.10917375838099602, 0.04094015939287351, 0.9108272221973986, 0.9597085127139297, 0.7637476994806607, 0.10910681421152295, 0.10910681421152295, 0.9290419065941655, 0.7423542716367241, 0.08998233595596655, 0.06748675196697491, 0.044991167977983276, 0.06748675196697491, 0.9351242261733724, 0.8898988848455222, 0.9718565566546647, 0.8899048260178216, 0.8649012709644666, 0.12973519064466998, 0.973228645368817, 0.01946457290737634, 0.9611935075903939, 0.9723914221401668, 0.8272433428674669, 0.097322746219702, 0.048661373109851, 0.048661373109851, 0.9559411203135041, 0.9408129424466946, 0.9596618760122417, 0.9264833050337813, 0.01927305502032465, 0.5589185955894148, 0.0770922200812986, 0.1156383301219479, 0.2312766602438958, 0.024417843492764955, 0.7081174612901837, 0.19534274794211964, 0.07325353047829486, 0.9521158266621847, 0.14954438954424096, 0.14954438954424096, 0.14954438954424096, 0.5234053634048433, 0.9676084689260208, 0.018607855171654246, 0.8917076270366544, 0.9446114004277508, 0.7800546932380191, 0.11121084051878782, 0.23477844109521873, 0.25949196121050494, 0.38305956178693584, 0.353970221637302, 0.5530784713082844, 0.04424627770466275, 0.022123138852331376, 0.8528130812756756, 0.14213551354594592, 0.8621386018941365, 0.9620354502365817, 0.8328011303993329, 0.14574019781988326, 0.9316096576980095, 0.26269088594163315, 0.5253817718832663, 0.1751272572944221, 0.9896365042707111, 0.9737839024512613, 0.825151317201097, 0.10263949165068256, 0.8211159332054605, 0.8939429917920293, 0.8997062459470313, 0.8492691479539023, 0.901346349759484, 0.9465484012292167, 0.10901729711145682, 0.05450864855572841, 0.6541037826687409, 0.16352594566718523, 0.8187143097705355, 0.13143590194716537, 0.7886154116829922, 0.9149136899645044, 0.8275296974591392, 0.8415482121632485, 0.11220642828843314, 0.6324560650767467, 0.04216373767178311, 0.08432747534356622, 0.08432747534356622, 0.12649121301534932, 0.04216373767178311, 0.833152837235331, 0.9498113184787557, 0.05587125402816209, 0.9597902910372682, 0.8980734317774574, 0.1568183976316838, 0.784091988158419, 0.07389469359440325, 0.8867363231328389, 0.9558218694021745, 0.9596818360263101, 0.8893516155725117, 0.04446758077862559, 0.8364678885130389, 0.08074600590112936, 0.8882060649124229, 0.9770558020247194, 0.8010413775995928, 0.18023430995990838, 0.9715674108443015, 0.9611600155808011, 0.9597244977332364, 0.9032524531761936, 0.053132497245658446, 0.9518166018367572, 0.8719709067352623, 0.8618892744080711, 0.8889089820043351, 0.8561876314860035, 0.9140566156567238, 0.30820232520033086, 0.582159947600625, 0.03424470280003676, 0.01712235140001838, 0.03424470280003676, 0.9913549789021315, 0.6472590005817471, 0.3530503639536803, 0.8956178285050892, 0.9146511832230695, 0.941976696290906, 0.18862769584460193, 0.7545107833784077, 0.12955020917004928, 0.7773012550202957, 0.32179448067038297, 0.6435889613407659, 0.9594758150236846, 0.9409213541316453, 0.9221538930822069, 0.9090689493696269, 0.9528997559171176, 0.9597363405808133, 0.059795551341367645, 0.8969332701205146, 0.9906840699175139, 0.9733821866109212, 0.9394916255500956, 0.9249118942126092, 0.08408289947387357, 0.922343043092397, 0.9507586456180016, 0.9596711203842784, 0.959735761757855, 0.7131870939092719, 0.17829677347731798, 0.059432257825772654, 0.029716128912886327, 0.9225517077859328, 0.05426774751681958, 0.1525113468794543, 0.7625567343972715], \"Term\": [\"adequate\", \"adequate power\", \"afghanistan\", \"afghanistan\", \"afghanistan going\", \"air force\", \"allah\", \"allah\", \"allah\", \"allah\", \"apparently\", \"apparently negotiating\", \"area\", \"army\", \"army\", \"army\", \"avoid\", \"avoid tripping\", \"bank\", \"bank\", \"better\", \"bhutto gave\", \"bin\", \"bin laden\", \"black\", \"black\", \"black\", \"black\", \"black pakistan\", \"blackout\", \"blackout\", \"blackout\", \"blackout\", \"blackout\", \"blackout\", \"blackout entire\", \"blackout pakistan\", \"blackout pakistan\", \"blackout pakistan\", \"blackout pakistan\", \"blackout pakistan\", \"blackout plunged\", \"box\", \"break pakistan\", \"breakdown\", \"breakdown\", \"breakdown\", \"breakdown\", \"breakdown entire\", \"breakdown national\", \"breakdown pakistan\", \"breakdown pakistan\", \"breakdown pakistan\", \"breakdown plunge\", \"came\", \"came power\", \"car\", \"caused\", \"central\", \"change\", \"china\", \"china\", \"city\", \"city\", \"city\", \"city pakistan\", \"city pakistan\", \"city pakistan\", \"cnic\", \"cnic empowered\", \"come\", \"come\", \"come\", \"consumption\", \"country\", \"country\", \"country\", \"country\", \"country\", \"country atomic\", \"country darkness\", \"country wide\", \"currently\", \"currently\", \"currently ventilator\", \"cyber\", \"cyber\", \"cyber attack\", \"darkness\", \"darkness\", \"day\", \"day\", \"democracy\", \"digital\", \"distribution\", \"dream\", \"dream\", \"earth\", \"earth undo\", \"elected pm\", \"electric\", \"electric power\", \"electricity\", \"electricity\", \"electricity\", \"electricity\", \"electricity pakistan\", \"electricity pakistan\", \"empowered\", \"empowered country\", \"endorsing\", \"endorsing trump\", \"energized\", \"energized phase\", \"energy\", \"energy\", \"entire\", \"entire\", \"entire\", \"entire\", \"entire pakistan\", \"entire pakistan\", \"experience massive\", \"failure pakistan\", \"fault\", \"following\", \"following\", \"following breakdown\", \"following tripping\", \"fuck\", \"gave\", \"gave\", \"gave\", \"gave identity\", \"gave right\", \"general\", \"going\", \"going\", \"gone\", \"government\", \"government\", \"grid\", \"grid\", \"grid\", \"grid breakdown\", \"grid energized\", \"ha\", \"hit\", \"hit\", \"hit\", \"hit\", \"hope\", \"hope\", \"hope hospital\", \"hospital\", \"hospital\", \"hospital pakistan\", \"hour\", \"hour\", \"hour\", \"hour\", \"identity cnic\", \"imran\", \"imran khan\", \"imrankhanpti\", \"imrankhanpti\", \"imrankhanpti\", \"imrankhanpti\", \"imrankhanpti\", \"including\", \"including\", \"india\", \"india\", \"india\", \"india pakistan\", \"iraq\", \"iraq afghanistan\", \"islamabad\", \"islamabad\", \"islamabad\", \"karachi\", \"karachi\", \"karachi\", \"karachi lahore\", \"ke\", \"khan\", \"khan\", \"kill\", \"kill box\", \"know\", \"know\", \"know\", \"knowledge\", \"knowledge power\", \"laden\", \"laden saudi\", \"lahore\", \"law\", \"leader\", \"light\", \"light\", \"like\", \"like\", \"like\", \"line\", \"line\", \"line\", \"line\", \"look like\", \"loses\", \"loses power\", \"love\", \"major\", \"major\", \"major\", \"major city\", \"major nationwide\", \"major power\", \"major power\", \"make\", \"make\", \"massive\", \"massive\", \"massive\", \"massive blackout\", \"massive blackout\", \"massive power\", \"massive power\", \"mention\", \"mention wmd\", \"michaelkugelman\", \"muhammad\", \"muhammad\", \"muhammad qasim\", \"muslim\", \"nation wide\", \"national\", \"national\", \"national\", \"national\", \"national\", \"national\", \"national power\", \"national power\", \"national power\", \"nationwide\", \"nationwide\", \"nationwide\", \"nationwide\", \"nationwide power\", \"nationwide power\", \"nationwide power\", \"naya\", \"naya pakistan\", \"negotiating\", \"negotiating endorsing\", \"ntdc\", \"ntdc\", \"ntdc transmission\", \"ntdc transmission\", \"nuclear\", \"nuclear\", \"nuclear\", \"opposition\", \"outage\", \"outage\", \"outage\", \"outage\", \"outage pakistan\", \"outage pakistan\", \"outage pakistan\", \"outage pakistan\", \"owned\", \"owned upto\", \"pakistan adequate\", \"pakistan blackout\", \"pakistan blackout\", \"pakistan blackout\", \"pakistan blackout\", \"pakistan darkness\", \"pakistan electricity\", \"pakistan electricity\", \"pakistan electricity\", \"pakistan experience\", \"pakistan karachi\", \"pakistan loses\", \"pakistan major\", \"pakistan major\", \"pakistan nuclear\", \"pakistan power\", \"pakistan power\", \"pakistan power\", \"pakistan power\", \"pakistan power\", \"pakistan super\", \"pakistan taliban\", \"pakistani\", \"pakistani\", \"pakistani\", \"party\", \"people\", \"people\", \"people\", \"people\", \"people\", \"people pakistan\", \"peshawar\", \"phase\", \"phase avoid\", \"plant\", \"plant\", \"plunge\", \"plunge\", \"plunge country\", \"plunge pakistan\", \"pm\", \"pm\", \"pm\", \"pm\", \"political\", \"politics\", \"power apparently\", \"power bank\", \"power blackout\", \"power blackout\", \"power blackout\", \"power blackout\", \"power blackout\", \"power breakdown\", \"power breakdown\", \"power breakdown\", \"power breakdown\", \"power earth\", \"power failure\", \"power failure\", \"power failure\", \"power failure\", \"power grid\", \"power grid\", \"power house\", \"power massive\", \"power money\", \"power outage\", \"power outage\", \"power outage\", \"power outage\", \"power pakistan\", \"power pakistan\", \"power pakistan\", \"power pakistan\", \"power plant\", \"power plant\", \"power sector\", \"power site\", \"power supply\", \"power supply\", \"power transmission\", \"poweroutage\", \"poweroutage\", \"poweroutage\", \"pray\", \"pray currently\", \"punjab\", \"punjabi\", \"punjabi\", \"qasim\", \"qasim dream\", \"quaideawam\", \"rawalpindi\", \"real\", \"report\", \"report\", \"report\", \"report\", \"report major\", \"resolution\", \"resolution\", \"resolution grid\", \"restart\", \"restored\", \"restored\", \"right\", \"right\", \"right\", \"right\", \"right\", \"right\", \"road\", \"saudi\", \"saudi\", \"saudi national\", \"sector\", \"shaheed zulfiqar\", \"shaheed zulfiqar\", \"site\", \"site\", \"slowly\", \"slowly surely\", \"state\", \"state\", \"station\", \"super\", \"super\", \"super power\", \"supply\", \"supply\", \"supply time\", \"surely\", \"surely iraq\", \"taliban\", \"taliban\", \"taliban power\", \"tarbela\", \"tax\", \"technical\", \"technical fault\", \"think\", \"time\", \"time\", \"time\", \"time\", \"time\", \"time blackout\", \"transmission\", \"transmission\", \"transmission line\", \"transmission resolution\", \"trending pakistan\", \"tripping\", \"tripping\", \"tripping ntdc\", \"tripping ntdc\", \"trump\", \"trump\", \"trump slowly\", \"undo\", \"undo pakistan\", \"unitedpakistanforummah\", \"upto\", \"upto mention\", \"vatican\", \"vatican\", \"ventilator\", \"ventilator hope\", \"want\", \"war\", \"war\", \"wide\", \"wide power\", \"wmd\", \"wmd iraq\", \"world\", \"world\", \"world\", \"world\", \"year\", \"year\", \"zulfiqar\", \"zulfiqar\"]}, \"R\": 30, \"lambda.step\": 0.01, \"plot.opts\": {\"xlab\": \"PC1\", \"ylab\": \"PC2\"}, \"topic.order\": [5, 6, 4, 2, 1, 3]};\n",
       "\n",
       "function LDAvis_load_lib(url, callback){\n",
       "  var s = document.createElement('script');\n",
       "  s.src = url;\n",
       "  s.async = true;\n",
       "  s.onreadystatechange = s.onload = callback;\n",
       "  s.onerror = function(){console.warn(\"failed to load library \" + url);};\n",
       "  document.getElementsByTagName(\"head\")[0].appendChild(s);\n",
       "}\n",
       "\n",
       "if(typeof(LDAvis) !== \"undefined\"){\n",
       "   // already loaded: just create the visualization\n",
       "   !function(LDAvis){\n",
       "       new LDAvis(\"#\" + \"ldavis_el240961405511264754724256503878\", ldavis_el240961405511264754724256503878_data);\n",
       "   }(LDAvis);\n",
       "}else if(typeof define === \"function\" && define.amd){\n",
       "   // require.js is available: use it to load d3/LDAvis\n",
       "   require.config({paths: {d3: \"https://cdnjs.cloudflare.com/ajax/libs/d3/3.5.5/d3.min\"}});\n",
       "   require([\"d3\"], function(d3){\n",
       "      window.d3 = d3;\n",
       "      LDAvis_load_lib(\"https://cdn.rawgit.com/bmabey/pyLDAvis/files/ldavis.v1.0.0.js\", function(){\n",
       "        new LDAvis(\"#\" + \"ldavis_el240961405511264754724256503878\", ldavis_el240961405511264754724256503878_data);\n",
       "      });\n",
       "    });\n",
       "}else{\n",
       "    // require.js not available: dynamically load d3 & LDAvis\n",
       "    LDAvis_load_lib(\"https://cdnjs.cloudflare.com/ajax/libs/d3/3.5.5/d3.min.js\", function(){\n",
       "         LDAvis_load_lib(\"https://cdn.rawgit.com/bmabey/pyLDAvis/files/ldavis.v1.0.0.js\", function(){\n",
       "                 new LDAvis(\"#\" + \"ldavis_el240961405511264754724256503878\", ldavis_el240961405511264754724256503878_data);\n",
       "            })\n",
       "         });\n",
       "}\n",
       "</script>"
      ],
      "text/plain": [
       "PreparedData(topic_coordinates=               x          y  topics  cluster       Freq\n",
       "topic                                                  \n",
       "4      1.465019  -47.625065  1       1        30.769258\n",
       "5      54.854797 -36.476795  2       1        24.045631\n",
       "3      32.212929 -61.444572  3       1        16.362322\n",
       "1      5.111096  -14.110332  4       1        11.003827\n",
       "0      26.350170 -33.374702  5       1        9.173949 \n",
       "2      38.109818 -7.222781   6       1        8.645012 , topic_info=                  Term        Freq       Total Category  logprob  loglift\n",
       "399   darkness          67.000000   67.000000   Default  30.0000  30.0000\n",
       "204   breakdown         106.000000  106.000000  Default  29.0000  29.0000\n",
       "813   iraq              31.000000   31.000000   Default  28.0000  28.0000\n",
       "1156  outage            84.000000   84.000000   Default  27.0000  27.0000\n",
       "1386  power grid        53.000000   53.000000   Default  26.0000  26.0000\n",
       "...          ...              ...         ...       ...      ...      ...\n",
       "1003  massive blackout  11.047611   31.338507   Topic6  -4.7061   1.4056 \n",
       "1641  shaheed zulfiqar  4.994242    6.376803    Topic6  -5.5000   2.2038 \n",
       "1996  zulfiqar          5.021326    6.556889    Topic6  -5.4946   2.1814 \n",
       "1002  massive           8.396148    65.188810   Topic6  -4.9806   0.3987 \n",
       "154   blackout          6.251634    147.346861  Topic6  -5.2755  -0.7118 \n",
       "\n",
       "[312 rows x 6 columns], token_table=      Topic      Freq               Term\n",
       "term                                    \n",
       "19    2      0.975301  adequate         \n",
       "20    2      0.975289  adequate power   \n",
       "25    1      0.136222  afghanistan      \n",
       "25    4      0.817332  afghanistan      \n",
       "26    4      0.959684  afghanistan going\n",
       "...  ..           ...          ...      \n",
       "1966  6      0.029716  world            \n",
       "1979  1      0.922552  year             \n",
       "1979  3      0.054268  year             \n",
       "1996  1      0.152511  zulfiqar         \n",
       "1996  6      0.762557  zulfiqar         \n",
       "\n",
       "[459 rows x 3 columns], R=30, lambda_step=0.01, plot_opts={'xlab': 'PC1', 'ylab': 'PC2'}, topic_order=[5, 6, 4, 2, 1, 3])"
      ]
     },
     "execution_count": 22,
     "metadata": {},
     "output_type": "execute_result"
    }
   ],
   "source": [
    "# visualization of LDA model \n",
    "import pyLDAvis.sklearn\n",
    "\n",
    "pyLDAvis.enable_notebook()\n",
    "panel = pyLDAvis.sklearn.prepare(lda_model, doc_term_matrix_1, tfidfconverter, mds='tsne')\n",
    "panel"
   ]
  },
  {
   "cell_type": "code",
   "execution_count": 23,
   "metadata": {},
   "outputs": [
    {
     "name": "stdout",
     "output_type": "stream",
     "text": [
      "Log likelihood:  -107361.38821173174\n",
      "Perplexity:  1987.4068926693155\n"
     ]
    }
   ],
   "source": [
    "# test LDA model\n",
    "\n",
    "# log likelihood (higher score is better)\n",
    "print(\"Log likelihood: \", lda_model.score(doc_term_matrix_1))\n",
    "\n",
    "\n",
    "# perplexity (lower score is better)\n",
    "print(\"Perplexity: \", lda_model.perplexity(doc_term_matrix_1))"
   ]
  },
  {
   "cell_type": "code",
   "execution_count": 24,
   "metadata": {},
   "outputs": [
    {
     "data": {
      "text/plain": [
       "GridSearchCV(estimator=LatentDirichletAllocation(),\n",
       "             param_grid={'learning_decay': [0.5, 0.7, 0.9],\n",
       "                         'n_components': [5, 8, 10, 12]})"
      ]
     },
     "execution_count": 24,
     "metadata": {},
     "output_type": "execute_result"
    }
   ],
   "source": [
    "# cross-validation to find best parameters for LDA model\n",
    "\n",
    "#import cross-validation tool\n",
    "from sklearn.model_selection import GridSearchCV\n",
    "\n",
    "# define search parameters\n",
    "search_params = {'n_components': [5, 8, 10, 12], 'learning_decay': [.5, .7, .9]}\n",
    "\n",
    "# initialize model for cross-validation\n",
    "lda = LatentDirichletAllocation()\n",
    "\n",
    "# initialize grid search class \n",
    "model = GridSearchCV(lda, param_grid=search_params)\n",
    "\n",
    "# run grid search \n",
    "model.fit(doc_term_matrix_1)"
   ]
  },
  {
   "cell_type": "code",
   "execution_count": 25,
   "metadata": {},
   "outputs": [
    {
     "name": "stdout",
     "output_type": "stream",
     "text": [
      "Parameters for best model:  {'learning_decay': 0.5, 'n_components': 5}\n",
      "Log likelihood score of best model:  -28300.971682239877\n",
      "Perplexity score of best model:  2095.38592666388\n"
     ]
    }
   ],
   "source": [
    "# what is best model? \n",
    "best_lda_model = model.best_estimator_\n",
    "\n",
    "# print parameters for best model\n",
    "print(\"Parameters for best model: \", model.best_params_)\n",
    "\n",
    "# print log likelihood score\n",
    "print(\"Log likelihood score of best model: \", model.best_score_)\n",
    "\n",
    "# print perplexity score\n",
    "print(\"Perplexity score of best model: \", best_lda_model.perplexity(doc_term_matrix_1))"
   ]
  },
  {
   "cell_type": "code",
   "execution_count": 26,
   "metadata": {},
   "outputs": [],
   "source": [
    "# run LDA model with best parameters\n",
    "\n",
    "#import LDA tool \n",
    "from sklearn.decomposition import LatentDirichletAllocation\n",
    "\n",
    "lda_model_2 = LatentDirichletAllocation(n_components = 5, max_iter=10, learning_method='online', learning_decay=.7)\n",
    "lda_2 = lda_model_2.fit_transform(doc_term_matrix_1)"
   ]
  },
  {
   "cell_type": "code",
   "execution_count": 27,
   "metadata": {},
   "outputs": [
    {
     "name": "stdout",
     "output_type": "stream",
     "text": [
      "LDA Model 2:\n",
      "Topic 0:\n",
      "[('india', 67.54758180145308), ('people', 54.54414857709085), ('country', 42.611285886920406), ('world', 36.208673766671026), ('china', 35.50897410394422), ('like', 32.92647799303344), ('army', 29.777839247238465), ('state', 29.606741778673364), ('power pakistan', 28.49743610588298), ('nuclear', 28.082935829522818)]\n",
      "Topic 1:\n",
      "[('power breakdown', 64.43839134424574), ('blackout', 60.65054934888083), ('breakdown', 60.05950225554813), ('pakistan power', 49.43320647531248), ('major', 42.08514862801497), ('power blackout', 42.05838654287263), ('breakdown pakistan', 42.05012969439131), ('city', 40.39246082434444), ('country', 38.70955292131782), ('entire', 37.99241677903017)]\n",
      "Topic 2:\n",
      "[('hope', 49.40399869678017), ('power supply', 48.82806045831825), ('supply', 48.290107016578624), ('hospital', 45.9493780830317), ('pray', 42.91889783114101), ('ventilator', 41.50456271149436), ('currently', 40.8826666935611), ('hope hospital', 40.50661094920823), ('hospital pakistan', 40.179256865916116), ('time', 39.53547396150783)]\n",
      "Topic 3:\n",
      "[('electricity', 29.96205364051613), ('nationwide', 29.491127476899063), ('imran', 28.79717557313431), ('blackout', 26.14248422977364), ('imran khan', 25.9272010340919), ('nationwide power', 25.407074200152213), ('outage', 24.6822471647078), ('power outage', 22.01359836330449), ('plant', 21.98960985322171), ('power plant', 20.084746950037978)]\n",
      "Topic 4:\n",
      "[('national', 51.45666961239985), ('power grid', 50.10023397383951), ('grid', 49.60435739732721), ('massive', 46.172480947079464), ('national power', 40.544598553476256), ('darkness', 38.05943792354616), ('iraq', 37.31404611054926), ('plunge', 35.24414271952792), ('breakdown', 34.922323878802274), ('outage pakistan', 33.85380421940931)]\n",
      "====================\n"
     ]
    }
   ],
   "source": [
    "# top topics of 2nd LDA model\n",
    "\n",
    "def print_topics(model, vectorizer, top_n=10):\n",
    "    for idx, topic in enumerate(model.components_):\n",
    "        print(\"Topic %d:\" % (idx))\n",
    "        print([(vectorizer.get_feature_names()[i], topic[i])\n",
    "                        for i in topic.argsort()[:-top_n - 1:-1]])\n",
    " \n",
    "print(\"LDA Model 2:\")\n",
    "print_topics(lda_model_2, tfidfconverter )\n",
    "print(\"=\" * 20)"
   ]
  },
  {
   "cell_type": "code",
   "execution_count": 28,
   "metadata": {},
   "outputs": [],
   "source": [
    "# make results of NMF model a column in dataframe\n",
    "\n",
    "topic_values = nmf_model.transform(doc_term_matrix_1)\n",
    "df['NMF_topic'] = topic_values.argmax(axis=1)"
   ]
  },
  {
   "cell_type": "code",
   "execution_count": 29,
   "metadata": {},
   "outputs": [],
   "source": [
    "# make results of NMF model a column in dataframe\n",
    "\n",
    "topic_values = lda_model_2.transform(doc_term_matrix_1)\n",
    "df['LDA2_topic'] = topic_values.argmax(axis=1)"
   ]
  },
  {
   "cell_type": "code",
   "execution_count": 39,
   "metadata": {},
   "outputs": [
    {
     "data": {
      "text/html": [
       "\n",
       "<link rel=\"stylesheet\" type=\"text/css\" href=\"https://cdn.rawgit.com/bmabey/pyLDAvis/files/ldavis.v1.0.0.css\">\n",
       "\n",
       "\n",
       "<div id=\"ldavis_el24096140551129409744894664459\"></div>\n",
       "<script type=\"text/javascript\">\n",
       "\n",
       "var ldavis_el24096140551129409744894664459_data = {\"mdsDat\": {\"x\": [150.22215270996094, 51.16336441040039, -73.1445541381836, -66.4101333618164, 54.41732406616211], \"y\": [-72.2695541381836, -159.968017578125, 21.523815155029297, -110.60643768310547, 12.44344425201416], \"topics\": [1, 2, 3, 4, 5], \"cluster\": [1, 1, 1, 1, 1], \"Freq\": [34.10915548419606, 18.103601356843306, 17.691951202094465, 16.72235210470683, 13.372939852159341]}, \"tinfo\": {\"Term\": [\"hope\", \"power supply\", \"supply\", \"hospital\", \"pray\", \"ventilator\", \"time\", \"currently\", \"hope hospital\", \"hospital pakistan\", \"adequate power\", \"adequate\", \"pakistan adequate\", \"currently ventilator\", \"power grid\", \"ventilator hope\", \"pray currently\", \"breakdown\", \"supply time\", \"power breakdown\", \"national\", \"grid\", \"time blackout\", \"massive\", \"blackout\", \"electricity\", \"iraq\", \"national power\", \"blackout electricity\", \"darkness\", \"china\", \"state\", \"army\", \"know\", \"year\", \"muslim\", \"india\", \"new\", \"political\", \"want\", \"turkey\", \"nuclear power\", \"leader\", \"today\", \"man\", \"terrorist\", \"people\", \"usa\", \"thing\", \"money\", \"came\", \"party\", \"justice\", \"gave\", \"atomic\", \"transfer\", \"make\", \"happened\", \"atomic power\", \"change\", \"day\", \"world\", \"imrankhanpti\", \"like\", \"nuclear\", \"government\", \"million\", \"pm\", \"come\", \"need\", \"country\", \"super power\", \"right\", \"power pakistan\", \"super\", \"time\", \"pakistan power\", \"power cut\", \"city pakistan\", \"lahore\", \"breaking\", \"power break\", \"blackout entire\", \"plunge country\", \"cut\", \"breakdown country\", \"major city\", \"reported\", \"soon\", \"trending\", \"ho\", \"including\", \"break pakistan\", \"cut plunge\", \"breaking power\", \"sector\", \"jani\", \"rawalpindi\", \"peshawar\", \"quetta\", \"ki\", \"naya\", \"naya pakistan\", \"dream\", \"multiple\", \"entire country\", \"qasim\", \"country darkness\", \"major power\", \"karachi\", \"city\", \"power blackout\", \"entire\", \"power breakdown\", \"break\", \"breakdown pakistan\", \"major\", \"hai\", \"entire pakistan\", \"pakistan power\", \"blackout pakistan\", \"breakdown\", \"islamabad\", \"pakistan blackout\", \"blackout\", \"country\", \"power pakistan\", \"darkness\", \"outage\", \"power outage\", \"electricity\", \"massive power\", \"massive\", \"imran\", \"imran khan\", \"undo\", \"undo pakistan\", \"earth\", \"transmission\", \"fault\", \"power earth\", \"tripping\", \"earth undo\", \"line\", \"ntdc\", \"nationwide power\", \"look\", \"site\", \"restore\", \"tripped\", \"phase\", \"major nationwide\", \"drop\", \"technical\", \"knowledge power\", \"house\", \"power site\", \"ntdc transmission\", \"baloch\", \"january\", \"huge\", \"punjab\", \"restoration\", \"plant\", \"nationwide\", \"power plant\", \"frequency\", \"tarbela\", \"knowledge\", \"electricity pakistan\", \"khan\", \"electricity\", \"outage\", \"hour\", \"power outage\", \"blackout\", \"major\", \"breakdown\", \"grid\", \"breakdown pakistan\", \"power breakdown\", \"iraq\", \"plunge pakistan\", \"grid breakdown\", \"apparently\", \"mention\", \"surely\", \"slowly\", \"kill\", \"negotiating\", \"endorsing\", \"owned\", \"box\", \"iraq afghanistan\", \"taliban power\", \"bin\", \"bin laden\", \"laden\", \"upto\", \"slowly surely\", \"mention wmd\", \"saudi national\", \"kill box\", \"negotiating endorsing\", \"endorsing trump\", \"owned upto\", \"apparently negotiating\", \"upto mention\", \"trump slowly\", \"wmd\", \"afghanistan going\", \"power grid\", \"air\", \"massive blackout\", \"national power\", \"pakistan darkness\", \"national\", \"grid\", \"massive\", \"saudi\", \"taliban\", \"plunge\", \"outage pakistan\", \"darkness\", \"massive power\", \"power outage\", \"going\", \"outage\", \"breakdown\", \"breakdown plunge\", \"blackout\", \"afghanistan\", \"power supply\", \"hope\", \"hospital\", \"pray\", \"ventilator\", \"hope hospital\", \"currently\", \"hospital pakistan\", \"adequate power\", \"adequate\", \"pakistan adequate\", \"currently ventilator\", \"ventilator hope\", \"pray currently\", \"supply time\", \"time blackout\", \"vatican\", \"supply\", \"electricitybreakdown\", \"pakistan vatican\", \"company\", \"nation wide\", \"lose\", \"blackout electricitybreakdown\", \"patient\", \"prayer\", \"digital\", \"black pakistan\", \"fine\", \"vatican power\", \"blackout electricity\", \"failure pakistan\", \"time\", \"electricity\", \"power failure\", \"blackout\", \"blackoutpakistan\"], \"Freq\": [52.0, 52.0, 53.0, 49.0, 46.0, 44.0, 61.0, 43.0, 43.0, 43.0, 41.0, 41.0, 41.0, 41.0, 50.0, 40.0, 40.0, 105.0, 39.0, 82.0, 60.0, 61.0, 37.0, 60.0, 143.0, 80.0, 36.0, 45.0, 38.0, 64.0, 26.485517954459556, 22.083146887225908, 22.210765473512808, 19.455204539877332, 18.163622084694953, 17.183828000254604, 50.38255077000355, 15.226481667883718, 14.484705841025924, 14.380232296592986, 14.359558934114027, 13.84230288215654, 13.429935306997256, 13.26160896645466, 13.069183976956872, 12.837647194160652, 40.68351910760453, 12.467084573296011, 12.51423890000182, 12.216468112257356, 12.023653582988123, 11.668072192340382, 11.530395719230022, 11.318714519842134, 11.132145045316433, 10.761904450340392, 15.517526832694191, 10.576447584782585, 10.354504133671488, 10.3106863912933, 17.413359625459336, 27.00741160099613, 19.730078235723063, 24.559279620661787, 20.946566886147924, 15.965552766418629, 15.422415351577326, 16.87490203862422, 16.60350838917746, 14.824576842412695, 31.78300713833578, 14.970153521076348, 16.443048536317004, 21.255735336904323, 15.372513664131242, 18.875013783605564, 18.076299692494928, 24.509100633801324, 24.66737103983511, 17.841969176335475, 21.700232106703407, 15.387652836176212, 15.019049989249895, 14.521005023310687, 26.30285023543018, 13.294296133977852, 11.743840372968117, 11.3136906402295, 10.981657720513, 10.221292112355902, 9.933017904460037, 9.428507827189888, 9.196765897609763, 8.911553391471873, 8.893407608165637, 8.564945561850099, 8.359418528751902, 8.414018538059882, 8.286875134316508, 8.466147816852782, 8.214390078321978, 8.148477998160265, 7.931101696916762, 7.920564410579871, 7.757457415958553, 13.743380151589982, 6.857177866351049, 17.78954002594834, 32.237656840285965, 25.040059677310722, 37.80659886256745, 39.36587463061549, 35.56020187110208, 60.313146641284796, 17.204434000793615, 39.35814637261803, 39.39092344905965, 15.07350737159478, 24.76555722142171, 46.26857016288119, 31.17539228031955, 56.214587161088744, 20.249972613766296, 20.52225328667046, 56.76779634692395, 36.23142808282567, 22.499172664149864, 24.26856016049078, 25.40237490400794, 24.769347914624387, 17.92690188647414, 15.698496248702469, 15.672525335701023, 26.770898825190525, 24.102866405814794, 17.853410973239157, 16.89306061893719, 16.616004353442644, 15.366106912361493, 15.297535906515002, 15.118526186245049, 14.159025226890229, 13.777923744110655, 13.892423484079973, 13.74751551621396, 23.619337637088726, 13.51888137329501, 13.018312915111263, 9.855609290724972, 9.778699332430131, 9.487981883818007, 9.436289070576109, 9.2186600586829, 9.033095845286734, 8.87858357201204, 8.8899589026568, 8.635390415764364, 7.755476963231509, 7.61320441607368, 7.518204414022192, 7.190446810026298, 7.163734695550809, 6.931606975615725, 20.442338836007536, 27.416021683092122, 18.671509195875572, 13.846332179561688, 9.072070249086586, 10.063535624984722, 13.299241369075174, 17.718970911009443, 27.853811724282455, 22.945512137002254, 11.886146360547512, 20.464639424992804, 24.303001472384878, 13.781472895347012, 15.676340729355177, 13.49724764917725, 13.136367476955867, 12.039426845257863, 35.84270776641426, 29.505888322028408, 23.580077687062275, 19.60331916292947, 18.953059012516597, 18.482536707920456, 18.3438484512584, 18.35801154339691, 18.056162261427442, 17.757453373335448, 17.641835467137334, 17.580436007247943, 17.537894717528882, 17.478330842403835, 17.449528637042206, 17.449528758593043, 17.44952886294902, 17.430219695778604, 17.33755217298118, 17.337552456264106, 17.337552432176672, 17.337552205144462, 17.3375523354108, 17.337552494508092, 17.337552020107932, 17.337552347564998, 17.33755174992404, 17.33755217091024, 17.33755218451511, 17.33755210168492, 48.124720648979114, 18.19854151559965, 25.476699908495824, 38.945875586726615, 32.257832250343114, 49.42767037608262, 47.64839709062034, 44.351843714118694, 19.188632628198583, 19.682384926137818, 33.85442319043222, 32.51890743294761, 36.55870787118908, 25.302329788078218, 32.32423846087301, 21.937141077948628, 32.01968376791343, 33.545294059067544, 19.023254789329453, 20.39902626914576, 17.793176040905717, 51.51802793615126, 52.12569496162953, 48.48075720212492, 45.2833259543666, 43.79107425480881, 42.738144724415605, 43.13491760790254, 42.39275650604775, 41.20205666671856, 41.20205682014153, 41.105424591742434, 40.78186717485658, 40.22503891413171, 40.16945450625751, 39.16291676867768, 36.31124539710431, 15.143149003390638, 50.9504383128946, 12.093603125160305, 8.54821331209764, 7.947617326710082, 6.793064448805076, 6.423187859321644, 6.292797368796921, 6.037364541148013, 6.011439742987534, 5.961682884829799, 5.965896441573639, 5.904592241707282, 5.632629950442624, 32.63775083877152, 7.467904369877287, 41.71350721081034, 33.214430450277945, 9.007417715228282, 37.48480581278682, 8.302668822795862], \"Total\": [52.0, 52.0, 53.0, 49.0, 46.0, 44.0, 61.0, 43.0, 43.0, 43.0, 41.0, 41.0, 41.0, 41.0, 50.0, 40.0, 40.0, 105.0, 39.0, 82.0, 60.0, 61.0, 37.0, 60.0, 143.0, 80.0, 36.0, 45.0, 38.0, 64.0, 27.27511876244962, 22.870110847660857, 23.021182733222613, 20.256741469005, 18.947852830183937, 17.962377035281307, 52.91371873340388, 16.00836877245348, 15.264744428775137, 15.159822675172967, 15.140345015916465, 14.637088430899976, 14.207471650541374, 14.05204716956519, 13.848776927889455, 13.621036408027441, 43.19133067511505, 13.257914731940572, 13.30954267645356, 12.99474447437977, 12.80386658716981, 12.446922898211009, 12.307362331427939, 12.096969985523875, 11.911433948794599, 11.539722788760438, 16.679445047209093, 11.372088670845361, 11.133764202025867, 11.090947211534564, 19.234855425678056, 33.398526229257094, 23.40819634809961, 30.318853216227648, 25.51437903908466, 18.409246615634725, 18.45963716529074, 21.121858894679846, 20.63622942936474, 18.143316063328957, 76.03932552205251, 19.03875412990377, 22.986595048882066, 44.3579659484504, 22.050107404242553, 61.21137225669628, 70.44980878554043, 25.25671466469404, 25.663615516228017, 18.587027175087528, 22.647469826213467, 16.13969669238413, 15.75740916436331, 15.260607563430199, 27.778135993419145, 14.061459887290203, 12.490031238925706, 12.05697038126308, 11.746455554142775, 10.964448510752865, 10.674300533333982, 10.184240359578556, 9.938668518274458, 9.650009899776242, 9.63236469598263, 9.31039947356061, 9.097961908436105, 9.159396785575604, 9.028490608327358, 9.225577858829212, 8.962453762858845, 8.894195945811608, 8.6769350893737, 8.66821327071483, 8.506964843200842, 15.189161227444535, 7.6049334742524906, 19.831569546730965, 37.295363713662596, 29.050538475519474, 47.478565219973156, 50.32506830096947, 45.33640600326509, 82.62602229521723, 20.411166014841776, 53.05122649019464, 53.7315626030129, 18.013175673064296, 32.96555479814138, 70.44980878554043, 46.26084454227287, 105.80361581038439, 27.652797387055756, 29.497109378421516, 143.46403465008115, 76.03932552205251, 44.3579659484504, 64.17263371703149, 82.11320801526597, 79.06142213562498, 80.18578429338106, 41.54948451899738, 60.741021711262796, 27.537093049476734, 24.85528935434304, 18.594513382789735, 17.6335640437729, 17.36045988935758, 16.107381640003624, 16.04443979787611, 15.860437201790457, 14.901237493930882, 14.517984030583051, 14.644645573972117, 14.49695969670549, 24.918045858067156, 14.276505019858801, 13.766923315993203, 10.602400690777822, 10.521685863886312, 10.228492001866343, 10.178577256057022, 9.963592392938013, 9.778262964178522, 9.619165158172896, 9.642667554554043, 9.375134680580398, 8.495451088654683, 8.376027251938144, 8.27878495036173, 7.943621765742731, 7.9171315143699585, 7.685489021692839, 23.23447433451232, 31.587256359559266, 21.30139669671505, 15.782080893447707, 10.125779271720209, 11.908951008023367, 18.35869895403548, 28.843136110901003, 80.18578429338106, 82.11320801526597, 18.700281595467906, 79.06142213562498, 143.46403465008115, 53.7315626030129, 105.80361581038439, 61.69765620433316, 53.05122649019464, 82.62602229521723, 36.595762424127784, 30.240607520642598, 24.31443060912241, 20.343914666229495, 19.688808459806822, 19.221318856034184, 19.079321268186753, 19.09781902771657, 18.79259072835851, 18.491067590122633, 18.375696263235646, 18.313906719078656, 18.271380741424995, 18.211983123027075, 18.182991644927696, 18.182992017206317, 18.182992523518102, 18.16419976495133, 18.070894895683747, 18.070895295729706, 18.07089549048406, 18.07089572008044, 18.070895880435067, 18.07089608201425, 18.07089567103895, 18.070896013175926, 18.070895416646422, 18.07089586913008, 18.07089598625554, 18.070896009588157, 50.65957425189355, 18.975916064021945, 27.352182008619124, 45.38242393135312, 36.9080286255754, 60.81919055780055, 61.69765620433316, 60.741021711262796, 20.588108462663914, 21.593253173171664, 48.45469543978635, 48.10958520549029, 64.17263371703149, 41.54948451899738, 79.06142213562498, 31.624063324809747, 82.11320801526597, 105.80361581038439, 24.89159736838776, 143.46403465008115, 24.38654771459901, 52.23901947549707, 52.86434912720867, 49.196719664439065, 46.0000327536135, 44.50590610219058, 43.452658350907775, 43.85643162503782, 43.10722796219263, 41.9165127868269, 41.91651346984479, 41.8198788285696, 41.496322620657295, 40.93948474865142, 40.88390696768591, 39.87737445688807, 37.02570955503594, 15.865211976433441, 53.96889448664638, 12.815782657331516, 9.26443634755592, 8.684469083331122, 7.5214150229947885, 7.1439531738162, 7.008642123354585, 6.762067814943196, 6.733294206520836, 6.677824912949109, 6.684921780297826, 6.627803963512321, 6.35211318828446, 38.914936237224744, 8.53547801742609, 61.21137225669628, 80.18578429338106, 12.899590199626534, 143.46403465008115, 12.464616852804138], \"Category\": [\"Default\", \"Default\", \"Default\", \"Default\", \"Default\", \"Default\", \"Default\", \"Default\", \"Default\", \"Default\", \"Default\", \"Default\", \"Default\", \"Default\", \"Default\", \"Default\", \"Default\", \"Default\", \"Default\", \"Default\", \"Default\", \"Default\", \"Default\", \"Default\", \"Default\", \"Default\", \"Default\", \"Default\", \"Default\", \"Default\", \"Topic1\", \"Topic1\", \"Topic1\", \"Topic1\", \"Topic1\", \"Topic1\", \"Topic1\", \"Topic1\", \"Topic1\", \"Topic1\", \"Topic1\", \"Topic1\", \"Topic1\", \"Topic1\", \"Topic1\", \"Topic1\", \"Topic1\", \"Topic1\", \"Topic1\", \"Topic1\", \"Topic1\", \"Topic1\", \"Topic1\", \"Topic1\", \"Topic1\", \"Topic1\", \"Topic1\", \"Topic1\", \"Topic1\", \"Topic1\", \"Topic1\", \"Topic1\", \"Topic1\", \"Topic1\", \"Topic1\", \"Topic1\", \"Topic1\", \"Topic1\", \"Topic1\", \"Topic1\", \"Topic1\", \"Topic1\", \"Topic1\", \"Topic1\", \"Topic1\", \"Topic1\", \"Topic1\", \"Topic2\", \"Topic2\", \"Topic2\", \"Topic2\", \"Topic2\", \"Topic2\", \"Topic2\", \"Topic2\", \"Topic2\", \"Topic2\", \"Topic2\", \"Topic2\", \"Topic2\", \"Topic2\", \"Topic2\", \"Topic2\", \"Topic2\", \"Topic2\", \"Topic2\", \"Topic2\", \"Topic2\", \"Topic2\", \"Topic2\", \"Topic2\", \"Topic2\", \"Topic2\", \"Topic2\", \"Topic2\", \"Topic2\", \"Topic2\", \"Topic2\", \"Topic2\", \"Topic2\", \"Topic2\", \"Topic2\", \"Topic2\", \"Topic2\", \"Topic2\", \"Topic2\", \"Topic2\", \"Topic2\", \"Topic2\", \"Topic2\", \"Topic2\", \"Topic2\", \"Topic2\", \"Topic2\", \"Topic2\", \"Topic2\", \"Topic2\", \"Topic2\", \"Topic2\", \"Topic2\", \"Topic2\", \"Topic2\", \"Topic2\", \"Topic3\", \"Topic3\", \"Topic3\", \"Topic3\", \"Topic3\", \"Topic3\", \"Topic3\", \"Topic3\", \"Topic3\", \"Topic3\", \"Topic3\", \"Topic3\", \"Topic3\", \"Topic3\", \"Topic3\", \"Topic3\", \"Topic3\", \"Topic3\", \"Topic3\", \"Topic3\", \"Topic3\", \"Topic3\", \"Topic3\", \"Topic3\", \"Topic3\", \"Topic3\", \"Topic3\", \"Topic3\", \"Topic3\", \"Topic3\", \"Topic3\", \"Topic3\", \"Topic3\", \"Topic3\", \"Topic3\", \"Topic3\", \"Topic3\", \"Topic3\", \"Topic3\", \"Topic3\", \"Topic3\", \"Topic3\", \"Topic3\", \"Topic3\", \"Topic3\", \"Topic3\", \"Topic3\", \"Topic3\", \"Topic4\", \"Topic4\", \"Topic4\", \"Topic4\", \"Topic4\", \"Topic4\", \"Topic4\", \"Topic4\", \"Topic4\", \"Topic4\", \"Topic4\", \"Topic4\", \"Topic4\", \"Topic4\", \"Topic4\", \"Topic4\", \"Topic4\", \"Topic4\", \"Topic4\", \"Topic4\", \"Topic4\", \"Topic4\", \"Topic4\", \"Topic4\", \"Topic4\", \"Topic4\", \"Topic4\", \"Topic4\", \"Topic4\", \"Topic4\", \"Topic4\", \"Topic4\", \"Topic4\", \"Topic4\", \"Topic4\", \"Topic4\", \"Topic4\", \"Topic4\", \"Topic4\", \"Topic4\", \"Topic4\", \"Topic4\", \"Topic4\", \"Topic4\", \"Topic4\", \"Topic4\", \"Topic4\", \"Topic4\", \"Topic4\", \"Topic4\", \"Topic4\", \"Topic5\", \"Topic5\", \"Topic5\", \"Topic5\", \"Topic5\", \"Topic5\", \"Topic5\", \"Topic5\", \"Topic5\", \"Topic5\", \"Topic5\", \"Topic5\", \"Topic5\", \"Topic5\", \"Topic5\", \"Topic5\", \"Topic5\", \"Topic5\", \"Topic5\", \"Topic5\", \"Topic5\", \"Topic5\", \"Topic5\", \"Topic5\", \"Topic5\", \"Topic5\", \"Topic5\", \"Topic5\", \"Topic5\", \"Topic5\", \"Topic5\", \"Topic5\", \"Topic5\", \"Topic5\", \"Topic5\", \"Topic5\", \"Topic5\"], \"logprob\": [30.0, 29.0, 28.0, 27.0, 26.0, 25.0, 24.0, 23.0, 22.0, 21.0, 20.0, 19.0, 18.0, 17.0, 16.0, 15.0, 14.0, 13.0, 12.0, 11.0, 10.0, 9.0, 8.0, 7.0, 6.0, 5.0, 4.0, 3.0, 2.0, 1.0, -5.2043, -5.3861, -5.3803, -5.5128, -5.5815, -5.6369, -4.5613, -5.7579, -5.8078, -5.8151, -5.8165, -5.8532, -5.8834, -5.896, -5.9107, -5.9285, -4.7751, -5.9578, -5.954, -5.9781, -5.994, -6.0241, -6.0359, -6.0545, -6.0711, -6.1049, -5.7389, -6.1223, -6.1435, -6.1477, -5.6237, -5.1848, -5.4988, -5.2798, -5.4389, -5.7105, -5.7451, -5.6551, -5.6713, -5.7846, -5.022, -5.7749, -5.681, -5.4243, -5.7483, -5.5431, -5.5863, -4.6484, -4.642, -4.9659, -4.7701, -5.1139, -5.1381, -5.1719, -4.5778, -5.2601, -5.3841, -5.4214, -5.4512, -5.523, -5.5516, -5.6037, -5.6286, -5.6601, -5.6622, -5.6998, -5.7241, -5.7176, -5.7328, -5.7114, -5.7416, -5.7496, -5.7767, -5.778, -5.7988, -5.2269, -5.9222, -4.9689, -4.3743, -4.627, -4.215, -4.1746, -4.2762, -3.7479, -5.0023, -4.1748, -4.1739, -5.1345, -4.638, -4.013, -4.4078, -3.8183, -4.8393, -4.826, -3.8085, -4.2575, -4.734, -4.6583, -4.6126, -4.6379, -4.9612, -5.0939, -5.0956, -4.5371, -4.6421, -4.9423, -4.9976, -5.0141, -5.0923, -5.0968, -5.1085, -5.1741, -5.2014, -5.1931, -5.2036, -4.6624, -5.2204, -5.2581, -5.5364, -5.5443, -5.5744, -5.5799, -5.6032, -5.6236, -5.6408, -5.6395, -5.6686, -5.7761, -5.7946, -5.8071, -5.8517, -5.8554, -5.8884, -4.8069, -4.5133, -4.8975, -5.1964, -5.6193, -5.5155, -5.2368, -4.9498, -4.4975, -4.6913, -5.3491, -4.8058, -4.6339, -5.2011, -5.0723, -5.222, -5.2491, -5.3363, -4.189, -4.3835, -4.6077, -4.7924, -4.8261, -4.8513, -4.8588, -4.858, -4.8746, -4.8913, -4.8978, -4.9013, -4.9037, -4.9071, -4.9088, -4.9088, -4.9088, -4.9099, -4.9152, -4.9152, -4.9152, -4.9152, -4.9152, -4.9152, -4.9152, -4.9152, -4.9152, -4.9152, -4.9152, -4.9152, -3.8943, -4.8668, -4.5303, -4.1059, -4.2943, -3.8676, -3.9042, -3.9759, -4.8138, -4.7884, -4.246, -4.2863, -4.1692, -4.5372, -4.2923, -4.6799, -4.3017, -4.2552, -4.8224, -4.7526, -4.8893, -3.6027, -3.5909, -3.6634, -3.7316, -3.7652, -3.7895, -3.7803, -3.7976, -3.8261, -3.8261, -3.8284, -3.8363, -3.8501, -3.8515, -3.8769, -3.9525, -4.827, -3.6137, -5.0519, -5.3989, -5.4717, -5.6287, -5.6847, -5.7052, -5.7466, -5.7509, -5.7592, -5.7585, -5.7689, -5.816, -4.0591, -5.534, -3.8138, -4.0416, -5.3465, -3.9206, -5.428], \"loglift\": [30.0, 29.0, 28.0, 27.0, 26.0, 25.0, 24.0, 23.0, 22.0, 21.0, 20.0, 19.0, 18.0, 17.0, 16.0, 15.0, 14.0, 13.0, 12.0, 11.0, 10.0, 9.0, 8.0, 7.0, 6.0, 5.0, 4.0, 3.0, 2.0, 1.0, 1.0462, 1.0406, 1.0398, 1.0352, 1.0333, 1.0313, 1.0266, 1.0255, 1.0232, 1.0228, 1.0227, 1.0198, 1.0193, 1.0177, 1.0177, 1.0164, 1.0158, 1.0141, 1.014, 1.0138, 1.0127, 1.011, 1.0104, 1.0091, 1.0079, 1.0058, 1.0034, 1.0031, 1.003, 1.0027, 0.9761, 0.8632, 0.9047, 0.8649, 0.8783, 0.9332, 0.8958, 0.8511, 0.8582, 0.8736, 0.2033, 0.8352, 0.7406, 0.3399, 0.7149, -0.1009, -0.2847, 1.679, 1.6695, 1.6681, 1.6663, 1.6613, 1.6611, 1.6594, 1.6545, 1.653, 1.6475, 1.6454, 1.6417, 1.6389, 1.6371, 1.632, 1.6315, 1.6294, 1.6292, 1.6256, 1.6244, 1.6242, 1.6233, 1.6232, 1.6219, 1.6215, 1.6192, 1.6189, 1.6168, 1.609, 1.6056, 1.6004, 1.5633, 1.5605, 1.4813, 1.4635, 1.4662, 1.3943, 1.5381, 1.4105, 1.3986, 1.5309, 1.423, 1.2886, 1.3144, 1.0767, 1.3975, 1.3463, 0.7819, 0.9677, 1.0302, 0.7367, 0.5358, 0.5484, 0.211, 0.7357, 0.3543, 1.7038, 1.7013, 1.6914, 1.6892, 1.6882, 1.6849, 1.6844, 1.6842, 1.681, 1.6797, 1.6793, 1.679, 1.6785, 1.6775, 1.6761, 1.659, 1.6588, 1.6569, 1.6563, 1.6544, 1.6528, 1.6519, 1.6508, 1.6499, 1.6409, 1.6366, 1.6357, 1.6324, 1.6321, 1.6288, 1.604, 1.5904, 1.6003, 1.6012, 1.6222, 1.5637, 1.4097, 1.2448, 0.6747, 0.4571, 1.2789, 0.3805, -0.0434, 0.3714, -0.1774, 0.2123, 0.3362, -0.1941, 1.7676, 1.7638, 1.7578, 1.7513, 1.7503, 1.7492, 1.7491, 1.7489, 1.7484, 1.7479, 1.7477, 1.7475, 1.7475, 1.7473, 1.7472, 1.7472, 1.7472, 1.7472, 1.747, 1.747, 1.747, 1.747, 1.747, 1.747, 1.747, 1.747, 1.747, 1.747, 1.747, 1.747, 1.7371, 1.7466, 1.7174, 1.6355, 1.6538, 1.581, 1.53, 1.474, 1.718, 1.6958, 1.4299, 1.3968, 1.2258, 1.2924, 0.894, 1.4227, 0.8467, 0.6397, 1.5196, -0.1622, 1.4732, 1.998, 1.9979, 1.9973, 1.9962, 1.9957, 1.9954, 1.9953, 1.9952, 1.9947, 1.9947, 1.9947, 1.9946, 1.9943, 1.9943, 1.9939, 1.9925, 1.9654, 1.9544, 1.9539, 1.9315, 1.9233, 1.9101, 1.9056, 1.9042, 1.8986, 1.8985, 1.8985, 1.8981, 1.8964, 1.8917, 1.836, 1.8783, 1.6284, 1.1306, 1.6528, 0.6698, 1.6056]}, \"token.table\": {\"Topic\": [5, 5, 1, 4, 4, 4, 4, 4, 1, 1, 1, 3, 4, 4, 5, 1, 2, 3, 4, 5, 3, 5, 5, 2, 2, 3, 4, 3, 5, 4, 1, 2, 2, 2, 3, 4, 2, 2, 3, 2, 4, 2, 2, 1, 1, 1, 2, 3, 4, 2, 1, 2, 5, 1, 2, 3, 4, 2, 3, 5, 5, 1, 2, 2, 2, 3, 4, 1, 3, 5, 2, 3, 3, 3, 2, 3, 4, 5, 2, 3, 5, 5, 4, 4, 1, 2, 4, 2, 4, 2, 4, 5, 3, 5, 3, 4, 1, 1, 4, 5, 1, 3, 3, 4, 4, 1, 2, 1, 2, 5, 5, 5, 5, 2, 3, 5, 3, 3, 3, 3, 1, 2, 2, 1, 2, 4, 4, 2, 3, 5, 2, 3, 1, 2, 5, 1, 3, 2, 4, 4, 1, 1, 3, 3, 4, 2, 1, 1, 3, 3, 3, 5, 2, 3, 2, 3, 2, 3, 1, 2, 1, 2, 4, 1, 4, 2, 4, 4, 4, 1, 5, 1, 2, 1, 5, 1, 3, 4, 3, 4, 2, 3, 5, 2, 3, 2, 2, 1, 2, 5, 4, 4, 1, 3, 3, 1, 2, 1, 1, 2, 3, 4, 5, 2, 3, 4, 5, 4, 4, 5, 1, 2, 3, 2, 4, 1, 2, 3, 5, 5, 1, 5, 1, 5, 2, 3, 3, 5, 2, 4, 2, 4, 1, 2, 3, 1, 2, 3, 4, 5, 2, 2, 3, 4, 2, 3, 1, 3, 5, 3, 4, 1, 2, 3, 4, 5, 1, 2, 3, 5, 3, 5, 5, 5, 5, 3, 2, 2, 2, 2, 3, 3, 1, 2, 3, 5, 4, 5, 4, 2, 3, 4, 4, 2, 1, 1, 2, 5, 1, 2, 3, 5, 5, 4, 3, 4, 4, 3, 5, 3, 1, 1, 1, 5, 5, 1, 1, 3, 2, 3, 3, 4, 1, 3, 3, 4, 4, 1, 5, 5, 5, 5, 1, 4, 1, 4, 1], \"Freq\": [0.9781347876057455, 0.978134803544179, 0.24603728540092204, 0.7381118562027661, 0.9407391858699228, 0.9485708062404288, 0.9830949612268879, 0.9407391856831498, 0.95564160429738, 0.9234824327018298, 0.8981688329792747, 0.9551067301206387, 0.9349396585540586, 0.9349396394121018, 0.897542289527386, 0.03485194050338366, 0.3973121217385737, 0.16728931441624156, 0.13940776201353464, 0.2579043597250391, 0.15418244458693467, 0.8480034452281406, 0.8560859428114425, 0.9519331410092305, 0.6701131444254632, 0.2377820835058095, 0.08646621218393073, 0.3209083798753211, 0.6418167597506422, 0.9828596528368444, 0.14697837437697484, 0.8328774548028574, 0.9055538962237741, 0.5292824784018745, 0.15122356525767844, 0.32135007617256667, 0.9245128247139097, 0.735138517621422, 0.245046172540474, 0.20087099779100484, 0.7633097916058185, 0.9714109420972029, 0.9343500048076075, 0.9372168882191158, 0.9016362452433295, 0.95324974481119, 0.8003611698024578, 0.08424854418973239, 0.1053106802371655, 0.974141776095095, 0.8237939037356071, 0.14537539477687186, 0.9211846945664319, 0.42083487432722605, 0.47343923361812934, 0.0920576287590807, 0.013151089822725814, 0.9076437423465114, 0.05042465235258396, 0.980471926390179, 0.9880393589283928, 0.035999535758515534, 0.935987929721404, 0.9326415302650297, 0.3739911954654648, 0.0467488994331831, 0.5765697596759249, 0.883812205695366, 0.051988953276198, 0.8984961537948195, 0.922912225409548, 0.903288657851862, 0.9792367315350586, 0.964321215019118, 0.2244786923096269, 0.34918907692608625, 0.012471038461645939, 0.411544269234316, 0.1634102725640349, 0.7081111811108179, 0.0544700908546783, 0.936345467214612, 0.9734429833361841, 0.9407391820995473, 0.02205732849507261, 0.7940638258226139, 0.19851595645565348, 0.9217098818270558, 0.06583642013050399, 0.7583673368485069, 0.2426775477915222, 0.8201063825258237, 0.9349033178450789, 0.905277228027785, 0.8870820074057801, 0.06336300052898429, 0.9093186155841843, 0.2529719194472973, 0.6956727784800676, 0.03162148993091216, 0.8691284512648886, 0.10864105640811107, 0.21070492462381388, 0.7779874139956204, 0.9870681483692881, 0.11102983928539968, 0.8327237946404976, 0.9672805338038486, 0.9368295345228234, 0.983649678063211, 0.9895827236333328, 0.9756748077391816, 0.9743145636002452, 0.16042539170784803, 0.6417015668313921, 0.2139005222771307, 0.9333516839693884, 0.8812101339200027, 0.9804956518644969, 0.9655892417042575, 0.8544015823595779, 0.12816023735393667, 0.8837183414995949, 0.9449345310979914, 0.03779738124391965, 0.9837204532802685, 0.9851472231209261, 0.7232541330289419, 0.18081353325723548, 0.07232541330289419, 0.8793178165081108, 0.9663253784180552, 0.9750261410080483, 0.860569246283238, 0.10326830955398857, 0.3813732306260084, 0.6240652864789229, 0.8926126942102247, 0.9425160000666405, 0.9407392009411876, 0.9379593469696027, 0.08397045208484562, 0.8397045208484561, 0.9356321314800563, 0.9349396133783806, 0.9684173714517226, 0.9150115037888981, 0.8245694460046127, 0.16491388920092254, 0.9559808005788926, 0.980632163160789, 0.839871126534118, 0.7258303706546801, 0.2605544920298852, 0.960766211905179, 0.8842100200835358, 0.8580154961265944, 0.1340649212697804, 0.9592645291683262, 0.059954033073020385, 0.9387110549683171, 0.26341341566589466, 0.7243868930812104, 0.036560154494617046, 0.9140038623654262, 0.38508299646135036, 0.6016921819708599, 0.9650152287675016, 0.9407392230321446, 0.8125836854585733, 0.10834449139447644, 0.9234502474180241, 0.940405908271029, 0.9464226236098359, 0.9306759404446243, 0.032884357415103475, 0.14797960836796564, 0.8056667566700352, 0.13220977374579615, 0.8593635293476749, 0.0316583367867393, 0.8547750932419611, 0.0633166735734786, 0.040131557895670716, 0.9631573894960972, 0.8994629811104289, 0.921984539194869, 0.826750741024559, 0.055116716068303935, 0.11023343213660787, 0.957824296829789, 0.9407391925934064, 0.9370098985857549, 0.9657197297155743, 0.941680425973338, 0.8230652985060217, 0.15677434257257558, 0.9564743744011934, 0.012178308754105506, 0.30445771885263767, 0.2801011013444267, 0.3897058801313762, 0.012178308754105506, 0.06235763595105032, 0.22864466515385118, 0.6859339954615535, 0.020785878650350108, 0.9795547195679707, 0.9407392034942017, 0.9803949975099044, 0.10170488102792327, 0.7119341671954629, 0.20340976205584654, 0.10837750345810132, 0.8670200276648106, 0.255501048339175, 0.6529471235334472, 0.07097251342754861, 0.014194502685509721, 0.9714568336771312, 0.9640937039727911, 0.8873025477119387, 0.949264571365068, 0.04630558884707649, 0.8860838812438109, 0.8798951007008476, 0.8607898638916975, 0.08607898638916975, 0.28892968726627355, 0.70168638336095, 0.9829228579303286, 0.9920435619397409, 0.8048534025706394, 0.04734431779827291, 0.14203295339481872, 0.9171460462586585, 0.7749616903997067, 0.13909568802046018, 0.05961243772305437, 0.019870812574351457, 0.9293854950247038, 0.7261634813500284, 0.14523269627000568, 0.1210272468916714, 0.9898357855286342, 0.9457494651097433, 0.07752184251783066, 0.15504368503566132, 0.697696582660476, 0.03947921058427063, 0.9475010540224952, 0.012648393780275819, 0.3162098445068955, 0.25296787560551637, 0.4047486009688262, 0.012648393780275819, 0.47342116688589087, 0.4959650319756952, 0.8919602911733034, 0.0938905569656109, 0.9599862089066891, 0.9954245030267236, 0.9782601730096606, 0.9783800758478259, 0.8910942869820422, 0.884158610640063, 0.920455126096688, 0.8671543530840955, 0.873419962829709, 0.9123353257211575, 0.9108073644034885, 0.943182614169468, 0.6960578531085293, 0.08700723163856616, 0.13051084745784924, 0.04350361581928308, 0.9228628280473694, 0.048571727791966814, 0.9407392128935734, 0.9666609929636132, 0.9442923231000888, 0.9434297869921382, 0.9407392438578385, 0.9364526983733819, 0.9619542356634511, 0.6802687952945718, 0.13605375905891437, 0.13605375905891437, 0.7878666795974751, 0.15757333591949504, 0.03705838370461458, 0.9449887844676719, 0.9779981889771452, 0.9364601947877904, 0.04631076160596499, 0.9262152321192998, 0.9334513372409919, 0.8888204807244473, 0.09875783119160526, 0.9204088735361696, 0.9544060826633252, 0.9767428014637058, 0.31039983747336225, 0.6861470091516428, 0.9722973693856887, 0.9251321065984051, 0.9532291374203441, 0.9312500526309393, 0.9120385754188158, 0.9504180346538477, 0.9395192852742635, 0.9407391931819243, 0.9246817021198881, 0.9680274836694576, 0.964070562127987, 0.9359069058909103, 0.9407392167374317, 0.9051197147233085, 0.9454648335163345, 0.9445675513254579, 0.988632832212674, 0.9770518668122132, 0.9234936516063349, 0.940739187084578, 0.8084189049140741, 0.1796486455364609, 0.949975712885314], \"Term\": [\"adequate\", \"adequate power\", \"afghanistan\", \"afghanistan\", \"afghanistan going\", \"air\", \"apparently\", \"apparently negotiating\", \"army\", \"atomic\", \"atomic power\", \"baloch\", \"bin\", \"bin laden\", \"black pakistan\", \"blackout\", \"blackout\", \"blackout\", \"blackout\", \"blackout\", \"blackout electricity\", \"blackout electricity\", \"blackout electricitybreakdown\", \"blackout entire\", \"blackout pakistan\", \"blackout pakistan\", \"blackout pakistan\", \"blackoutpakistan\", \"blackoutpakistan\", \"box\", \"break\", \"break\", \"break pakistan\", \"breakdown\", \"breakdown\", \"breakdown\", \"breakdown country\", \"breakdown pakistan\", \"breakdown pakistan\", \"breakdown plunge\", \"breakdown plunge\", \"breaking\", \"breaking power\", \"came\", \"change\", \"china\", \"city\", \"city\", \"city\", \"city pakistan\", \"come\", \"come\", \"company\", \"country\", \"country\", \"country\", \"country\", \"country darkness\", \"country darkness\", \"currently\", \"currently ventilator\", \"cut\", \"cut\", \"cut plunge\", \"darkness\", \"darkness\", \"darkness\", \"day\", \"day\", \"digital\", \"dream\", \"drop\", \"earth\", \"earth undo\", \"electricity\", \"electricity\", \"electricity\", \"electricity\", \"electricity pakistan\", \"electricity pakistan\", \"electricity pakistan\", \"electricitybreakdown\", \"endorsing\", \"endorsing trump\", \"entire\", \"entire\", \"entire\", \"entire country\", \"entire country\", \"entire pakistan\", \"entire pakistan\", \"failure pakistan\", \"fault\", \"fine\", \"frequency\", \"frequency\", \"gave\", \"going\", \"going\", \"going\", \"government\", \"government\", \"grid\", \"grid\", \"grid breakdown\", \"hai\", \"hai\", \"happened\", \"ho\", \"hope\", \"hope hospital\", \"hospital\", \"hospital pakistan\", \"hour\", \"hour\", \"hour\", \"house\", \"huge\", \"imran\", \"imran khan\", \"imrankhanpti\", \"imrankhanpti\", \"including\", \"india\", \"india\", \"iraq\", \"iraq afghanistan\", \"islamabad\", \"islamabad\", \"islamabad\", \"jani\", \"january\", \"justice\", \"karachi\", \"karachi\", \"khan\", \"khan\", \"ki\", \"kill\", \"kill box\", \"know\", \"knowledge\", \"knowledge\", \"knowledge power\", \"laden\", \"lahore\", \"leader\", \"like\", \"like\", \"line\", \"look\", \"lose\", \"major\", \"major\", \"major city\", \"major nationwide\", \"major power\", \"major power\", \"make\", \"make\", \"man\", \"massive\", \"massive\", \"massive blackout\", \"massive blackout\", \"massive power\", \"massive power\", \"mention\", \"mention wmd\", \"million\", \"million\", \"money\", \"multiple\", \"muslim\", \"nation wide\", \"national\", \"national\", \"national\", \"national power\", \"national power\", \"nationwide\", \"nationwide\", \"nationwide\", \"nationwide power\", \"nationwide power\", \"naya\", \"naya pakistan\", \"need\", \"need\", \"need\", \"negotiating\", \"negotiating endorsing\", \"new\", \"ntdc\", \"ntdc transmission\", \"nuclear\", \"nuclear\", \"nuclear power\", \"outage\", \"outage\", \"outage\", \"outage\", \"outage\", \"outage pakistan\", \"outage pakistan\", \"outage pakistan\", \"outage pakistan\", \"owned\", \"owned upto\", \"pakistan adequate\", \"pakistan blackout\", \"pakistan blackout\", \"pakistan blackout\", \"pakistan darkness\", \"pakistan darkness\", \"pakistan power\", \"pakistan power\", \"pakistan power\", \"pakistan power\", \"pakistan vatican\", \"party\", \"patient\", \"people\", \"people\", \"peshawar\", \"phase\", \"plant\", \"plant\", \"plunge\", \"plunge\", \"plunge country\", \"plunge pakistan\", \"pm\", \"pm\", \"pm\", \"political\", \"power blackout\", \"power blackout\", \"power blackout\", \"power blackout\", \"power break\", \"power breakdown\", \"power breakdown\", \"power breakdown\", \"power cut\", \"power earth\", \"power failure\", \"power failure\", \"power failure\", \"power grid\", \"power grid\", \"power outage\", \"power outage\", \"power outage\", \"power outage\", \"power outage\", \"power pakistan\", \"power pakistan\", \"power plant\", \"power plant\", \"power site\", \"power supply\", \"pray\", \"pray currently\", \"prayer\", \"punjab\", \"qasim\", \"quetta\", \"rawalpindi\", \"reported\", \"restoration\", \"restore\", \"right\", \"right\", \"right\", \"right\", \"saudi\", \"saudi\", \"saudi national\", \"sector\", \"site\", \"slowly\", \"slowly surely\", \"soon\", \"state\", \"super\", \"super\", \"super\", \"super power\", \"super power\", \"supply\", \"supply\", \"supply time\", \"surely\", \"taliban\", \"taliban\", \"taliban power\", \"tarbela\", \"tarbela\", \"technical\", \"terrorist\", \"thing\", \"time\", \"time\", \"time blackout\", \"today\", \"transfer\", \"transmission\", \"trending\", \"tripped\", \"tripping\", \"trump slowly\", \"turkey\", \"undo\", \"undo pakistan\", \"upto\", \"upto mention\", \"usa\", \"vatican\", \"vatican power\", \"ventilator\", \"ventilator hope\", \"want\", \"wmd\", \"world\", \"world\", \"year\"]}, \"R\": 30, \"lambda.step\": 0.01, \"plot.opts\": {\"xlab\": \"PC1\", \"ylab\": \"PC2\"}, \"topic.order\": [1, 2, 4, 5, 3]};\n",
       "\n",
       "function LDAvis_load_lib(url, callback){\n",
       "  var s = document.createElement('script');\n",
       "  s.src = url;\n",
       "  s.async = true;\n",
       "  s.onreadystatechange = s.onload = callback;\n",
       "  s.onerror = function(){console.warn(\"failed to load library \" + url);};\n",
       "  document.getElementsByTagName(\"head\")[0].appendChild(s);\n",
       "}\n",
       "\n",
       "if(typeof(LDAvis) !== \"undefined\"){\n",
       "   // already loaded: just create the visualization\n",
       "   !function(LDAvis){\n",
       "       new LDAvis(\"#\" + \"ldavis_el24096140551129409744894664459\", ldavis_el24096140551129409744894664459_data);\n",
       "   }(LDAvis);\n",
       "}else if(typeof define === \"function\" && define.amd){\n",
       "   // require.js is available: use it to load d3/LDAvis\n",
       "   require.config({paths: {d3: \"https://cdnjs.cloudflare.com/ajax/libs/d3/3.5.5/d3.min\"}});\n",
       "   require([\"d3\"], function(d3){\n",
       "      window.d3 = d3;\n",
       "      LDAvis_load_lib(\"https://cdn.rawgit.com/bmabey/pyLDAvis/files/ldavis.v1.0.0.js\", function(){\n",
       "        new LDAvis(\"#\" + \"ldavis_el24096140551129409744894664459\", ldavis_el24096140551129409744894664459_data);\n",
       "      });\n",
       "    });\n",
       "}else{\n",
       "    // require.js not available: dynamically load d3 & LDAvis\n",
       "    LDAvis_load_lib(\"https://cdnjs.cloudflare.com/ajax/libs/d3/3.5.5/d3.min.js\", function(){\n",
       "         LDAvis_load_lib(\"https://cdn.rawgit.com/bmabey/pyLDAvis/files/ldavis.v1.0.0.js\", function(){\n",
       "                 new LDAvis(\"#\" + \"ldavis_el24096140551129409744894664459\", ldavis_el24096140551129409744894664459_data);\n",
       "            })\n",
       "         });\n",
       "}\n",
       "</script>"
      ],
      "text/plain": [
       "PreparedData(topic_coordinates=                x           y  topics  cluster       Freq\n",
       "topic                                                    \n",
       "0      150.222153 -72.269554   1       1        34.109155\n",
       "1      51.163364  -159.968018  2       1        18.103601\n",
       "3     -73.144554   21.523815   3       1        17.691951\n",
       "4     -66.410133  -110.606438  4       1        16.722352\n",
       "2      54.417324   12.443444   5       1        13.372940, topic_info=                  Term       Freq       Total Category  logprob  loglift\n",
       "730   hope              52.000000  52.000000   Default  30.0000  30.0000\n",
       "1416  power supply      52.000000  52.000000   Default  29.0000  29.0000\n",
       "1746  supply            53.000000  53.000000   Default  28.0000  28.0000\n",
       "734   hospital          49.000000  49.000000   Default  27.0000  27.0000\n",
       "1431  pray              46.000000  46.000000   Default  26.0000  26.0000\n",
       "...    ...                    ...        ...       ...      ...      ...\n",
       "1820  time              41.713507  61.211372   Topic5  -3.8138   1.6284 \n",
       "486   electricity       33.214430  80.185784   Topic5  -4.0416   1.1306 \n",
       "1383  power failure     9.007418   12.899590   Topic5  -5.3465   1.6528 \n",
       "154   blackout          37.484806  143.464035  Topic5  -3.9206   0.6698 \n",
       "178   blackoutpakistan  8.302669   12.464617   Topic5  -5.4280   1.6056 \n",
       "\n",
       "[269 rows x 6 columns], token_table=      Topic      Freq               Term\n",
       "term                                    \n",
       "19    5      0.978135  adequate         \n",
       "20    5      0.978135  adequate power   \n",
       "25    1      0.246037  afghanistan      \n",
       "25    4      0.738112  afghanistan      \n",
       "26    4      0.940739  afghanistan going\n",
       "...  ..           ...          ...      \n",
       "1925  1      0.923494  want             \n",
       "1957  4      0.940739  wmd              \n",
       "1966  1      0.808419  world            \n",
       "1966  4      0.179649  world            \n",
       "1979  1      0.949976  year             \n",
       "\n",
       "[327 rows x 3 columns], R=30, lambda_step=0.01, plot_opts={'xlab': 'PC1', 'ylab': 'PC2'}, topic_order=[1, 2, 4, 5, 3])"
      ]
     },
     "execution_count": 39,
     "metadata": {},
     "output_type": "execute_result"
    }
   ],
   "source": [
    "# visualization of 2nd LDA model \n",
    "pyLDAvis.enable_notebook()\n",
    "panel = pyLDAvis.sklearn.prepare(lda_model_2, doc_term_matrix_1, tfidfconverter, mds='tsne')\n",
    "panel\n",
    "\n",
    "pyLDAvis.enable_notebook()\n",
    "panel = pyLDAvis.sklearn.prepare(lda_model_2, doc_term_matrix_1, tfidfconverter, mds='tsne')\n",
    "panel"
   ]
  },
  {
   "cell_type": "code",
   "execution_count": 77,
   "metadata": {},
   "outputs": [
    {
     "data": {
      "text/plain": [
       "3      Weird...Vatican and Pakistan\\nhttps://t.co/E7XqAAdpGE                                                                                                                                                                                                                                          \n",
       "11     Meanwhile,please pray for all those who are currently on ventilators.I hope every hospital in Pakistan have an adequate power back system for continues power supply during this time #blackoutinPakistan https://t.co/OnM5bPNeXH                                                              \n",
       "18     #Pakistan &amp; #Vatican Out Of Power? Blackouts? or Reign of Terror is over?\\n\\n #Blackout #10daysofdarkness ?                                                                                                                                                                                \n",
       "30     Meanwhile, please pray for all those who are currently on ventilators. I hope every hospital in Pakistan has adequate power supply during this time.                                                                                                                                           \n",
       "32     Power is completely out in Pakistan and the Vatican. What is going on?                                                                                                                                                                                                                         \n",
       "48     Blackouts in Pakistan and the Vatican. No power no water, prepare. Walkie talkies. Amazon is about to take down Parler!!! GO TO GAB.                                                                                                                                                           \n",
       "61     Pakistan and Vatican without power? Any ideas                                                                                                                                                                                                                                                  \n",
       "70     @CassandraRules Someone with some fucking journalism skills needs to find out what in the fuck is going on in Pakistan and the Vatican having no power for hours.                                                                                                                              \n",
       "85     Post in thread 'Pakistan and the Vatican are having an extended power blackout' https://t.co/1X4XrCWZ6b                                                                                                                                                                                        \n",
       "100    Pakistan and the Vatican are having an extended power blackout https://t.co/z7m33OFKjO                                                                                                                                                                                                         \n",
       "101    Breaking! BACKOUT AT THE VATICAN https://t.co/UCAiDD0mJh                                                                                                                                                                                                                                       \n",
       "102    Is it true Pakistan, Italy and Vatican without power?                                                                                                                                                                                                                                          \n",
       "106    BREAKING: Jan 9th 2021\\n-- &gt; Pakistan got hit with a nationwide power outage! 212 MILLION people are currently without power!!!\\n\\n#PakistanPowerOutage \\n#blackout #BlackOutPakistan \\n\\nhttps://t.co/E8K96Kgkmo                                                                           \n",
       "108    #Pakistan hit by nationwide #PowerBlackout https://t.co/Lu1DKOJv8S                                                                                                                                                                                                                             \n",
       "143    Vatican has been dark for about an hour or so. \\n\\nPakistan dark since 11:41pm their time. \\n\\nThat 212 million people in Pakistan without power.                                                                                                                                              \n",
       "147    @ImranKhanPTI @KElectricPk @Dasu_HPP @wapda @ImranIsmailPTI @PTIofficial \\n\\nPlease pray for all those who are currently on ventilators and that every hospital in Pakistan has adequate power supply during this time.. 💔\\n\\n#blackout #BlackOutPakistan #Loadshedding https://t.co/txADlRa50x\n",
       "149    So Pakistan is without power. The Vatican is without power. Strange things are afoot...                                                                                                                                                                                                        \n",
       "171    Pakistan and the Vatican are having an extended power blackout https://t.co/iyUEzePV9U                                                                                                                                                                                                         \n",
       "178    Pakistan hit by nationwide power blackout | Malay Mail https://t.co/jbmrMYCoVi                                                                                                                                                                                                                 \n",
       "179    @PoliticalAvengr You know Pakistan and Vatican have power outages.¿¿                                                                                                                                                                                                                           \n",
       "Name: text, dtype: object"
      ]
     },
     "execution_count": 77,
     "metadata": {},
     "output_type": "execute_result"
    }
   ],
   "source": [
    "df['text'][df.LDA2_topic==2][:20]"
   ]
  },
  {
   "cell_type": "code",
   "execution_count": null,
   "metadata": {},
   "outputs": [],
   "source": []
  }
 ],
 "metadata": {
  "kernelspec": {
   "display_name": "Python 3",
   "language": "python",
   "name": "python3"
  },
  "language_info": {
   "codemirror_mode": {
    "name": "ipython",
    "version": 3
   },
   "file_extension": ".py",
   "mimetype": "text/x-python",
   "name": "python",
   "nbconvert_exporter": "python",
   "pygments_lexer": "ipython3",
   "version": "3.7.7"
  }
 },
 "nbformat": 4,
 "nbformat_minor": 4
}
