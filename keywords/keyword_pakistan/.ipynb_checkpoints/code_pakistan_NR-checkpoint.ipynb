{
 "cells": [
  {
   "cell_type": "code",
   "execution_count": 1,
   "metadata": {},
   "outputs": [],
   "source": [
    "#import initial libraries\n",
    "\n",
    "import numpy as np\n",
    "import pandas as pd"
   ]
  },
  {
   "cell_type": "code",
   "execution_count": 2,
   "metadata": {},
   "outputs": [],
   "source": [
    "#import data (retweets removed in Twarc)\n",
    "\n",
    "df = pd.read_csv('data/pakistan_NR.csv')"
   ]
  },
  {
   "cell_type": "code",
   "execution_count": 4,
   "metadata": {},
   "outputs": [
    {
     "name": "stdout",
     "output_type": "stream",
     "text": [
      "<class 'pandas.core.frame.DataFrame'>\n",
      "RangeIndex: 4817 entries, 0 to 4816\n",
      "Data columns (total 37 columns):\n",
      " #   Column                        Non-Null Count  Dtype  \n",
      "---  ------                        --------------  -----  \n",
      " 0   id                            4817 non-null   int64  \n",
      " 1   tweet_url                     4817 non-null   object \n",
      " 2   created_at                    4817 non-null   object \n",
      " 3   parsed_created_at             4817 non-null   object \n",
      " 4   user_screen_name              4817 non-null   object \n",
      " 5   text                          4817 non-null   object \n",
      " 6   tweet_type                    4817 non-null   object \n",
      " 7   coordinates                   0 non-null      float64\n",
      " 8   hashtags                      1858 non-null   object \n",
      " 9   media                         877 non-null    object \n",
      " 10  urls                          1377 non-null   object \n",
      " 11  favorite_count                4817 non-null   int64  \n",
      " 12  in_reply_to_screen_name       1492 non-null   object \n",
      " 13  in_reply_to_status_id         1431 non-null   float64\n",
      " 14  in_reply_to_user_id           1492 non-null   float64\n",
      " 15  lang                          4817 non-null   object \n",
      " 16  place                         121 non-null    object \n",
      " 17  possibly_sensitive            2073 non-null   object \n",
      " 18  retweet_count                 4817 non-null   int64  \n",
      " 19  retweet_or_quote_id           221 non-null    float64\n",
      " 20  retweet_or_quote_screen_name  221 non-null    object \n",
      " 21  retweet_or_quote_user_id      221 non-null    float64\n",
      " 22  source                        4816 non-null   object \n",
      " 23  user_id                       4817 non-null   int64  \n",
      " 24  user_created_at               4817 non-null   object \n",
      " 25  user_default_profile_image    4817 non-null   bool   \n",
      " 26  user_description              4169 non-null   object \n",
      " 27  user_favourites_count         4817 non-null   int64  \n",
      " 28  user_followers_count          4817 non-null   int64  \n",
      " 29  user_friends_count            4817 non-null   int64  \n",
      " 30  user_listed_count             4817 non-null   int64  \n",
      " 31  user_location                 3355 non-null   object \n",
      " 32  user_name                     4817 non-null   object \n",
      " 33  user_statuses_count           4817 non-null   int64  \n",
      " 34  user_time_zone                0 non-null      float64\n",
      " 35  user_urls                     1618 non-null   object \n",
      " 36  user_verified                 4817 non-null   bool   \n",
      "dtypes: bool(2), float64(6), int64(9), object(20)\n",
      "memory usage: 1.3+ MB\n"
     ]
    }
   ],
   "source": [
    "# look at basic info about data\n",
    "\n",
    "df.info()\n",
    "# this data set consists of 4817 Tweets"
   ]
  },
  {
   "cell_type": "code",
   "execution_count": 5,
   "metadata": {},
   "outputs": [
    {
     "name": "stdout",
     "output_type": "stream",
     "text": [
      "31 ['en' 'ja' 'und' 'de' 'hi' 'ta' 'in' 'mr' 'kn' 'da' 'es' 'gu' 'or' 'tl'\n",
      " 'et' 'ht' 'pl' 'pt' 'tr' 'nl' 'eu' 'ur' 'it' 'sv' 'fi' 'fr' 'ca' 'no'\n",
      " 'vi' 'ro' 'pa']\n"
     ]
    }
   ],
   "source": [
    "# count number of languages in data set\n",
    "\n",
    "count_lang = df['lang'].unique()\n",
    "print(len(count_lang), count_lang)"
   ]
  },
  {
   "cell_type": "code",
   "execution_count": 6,
   "metadata": {},
   "outputs": [
    {
     "data": {
      "text/plain": [
       "(4299, 37)"
      ]
     },
     "execution_count": 6,
     "metadata": {},
     "output_type": "execute_result"
    }
   ],
   "source": [
    "# tweets are in 31 different languages\n",
    "\n",
    "# I'll be working only with tweets in English\n",
    "# drop tweets in all other languages\n",
    "# now working with 4299 Tweets \n",
    "\n",
    "df = df[df.lang == 'en']\n",
    "df.shape"
   ]
  },
  {
   "cell_type": "code",
   "execution_count": 7,
   "metadata": {},
   "outputs": [],
   "source": [
    "# drop unnecessary columns \n",
    "df = df.drop(['tweet_url', 'created_at', 'media', 'urls','in_reply_to_screen_name',\n",
    "       'in_reply_to_status_id', 'in_reply_to_user_id', 'retweet_or_quote_id',\n",
    "       'retweet_or_quote_screen_name', 'retweet_or_quote_user_id', 'source',\n",
    "       'user_created_at', 'user_name', 'user_verified', 'user_friends_count', 'user_listed_count',\n",
    "       'user_statuses_count', 'user_default_profile_image', 'user_description',\n",
    "       'user_favourites_count', 'user_followers_count', 'coordinates', 'lang'], axis=1)"
   ]
  },
  {
   "cell_type": "code",
   "execution_count": 10,
   "metadata": {},
   "outputs": [
    {
     "data": {
      "text/plain": [
       "id                                                  1348110393105915911\n",
       "parsed_created_at                             2021-01-10 03:32:19+00:00\n",
       "user_screen_name                                          sharpieforall\n",
       "text                  @JovanHPulitzer election switching USA-&gt;Lea...\n",
       "tweet_type                                                        reply\n",
       "hashtags                                                            NaN\n",
       "favorite_count                                                        0\n",
       "place                                                               NaN\n",
       "possibly_sensitive                                                  NaN\n",
       "retweet_count                                                         0\n",
       "user_id                                             1324148422321020936\n",
       "user_location                                                       NaN\n",
       "user_time_zone                                                      NaN\n",
       "user_urls                                                           NaN\n",
       "Name: 0, dtype: object"
      ]
     },
     "execution_count": 10,
     "metadata": {},
     "output_type": "execute_result"
    }
   ],
   "source": [
    "# check start time & date of data\n",
    "\n",
    "df.iloc[0]\n",
    "\n",
    "# first Tweet 2021-01-10 03:32:19"
   ]
  },
  {
   "cell_type": "code",
   "execution_count": 11,
   "metadata": {},
   "outputs": [
    {
     "data": {
      "text/plain": [
       "id                                                  1345359346360844288\n",
       "parsed_created_at                             2021-01-02 13:20:38+00:00\n",
       "user_screen_name                                          abdulkashmiri\n",
       "text                  @Hussain_NSharif These people R puppies of Gen...\n",
       "tweet_type                                                        reply\n",
       "hashtags                                                            NaN\n",
       "favorite_count                                                        0\n",
       "place                                                               NaN\n",
       "possibly_sensitive                                                  NaN\n",
       "retweet_count                                                         0\n",
       "user_id                                                       245495770\n",
       "user_location                                                       USA\n",
       "user_time_zone                                                      NaN\n",
       "user_urls                                                           NaN\n",
       "Name: 4815, dtype: object"
      ]
     },
     "execution_count": 11,
     "metadata": {},
     "output_type": "execute_result"
    }
   ],
   "source": [
    "# check end time & date of data \n",
    "\n",
    "df.iloc[-1]\n",
    "\n",
    "# last Tweet 2021-01-02 13:20:38"
   ]
  },
  {
   "cell_type": "markdown",
   "metadata": {},
   "source": [
    "# Part 2: Text processing for NLP "
   ]
  },
  {
   "cell_type": "code",
   "execution_count": 12,
   "metadata": {},
   "outputs": [],
   "source": [
    "# tokenize, remove stopwords, remove urls, lowercase, remove punctuation, remove numbers\n",
    "# import necessary libraries: ntlk etc.\n",
    "\n",
    "import string\n",
    "import re\n",
    "import nltk\n",
    "from nltk.corpus import stopwords\n",
    "from nltk.tokenize import TweetTokenizer\n",
    "from nltk import pos_tag\n",
    "from nltk.stem import WordNetLemmatizer \n",
    "\n",
    "stop = stopwords.words('english')\n",
    "\n",
    "punc = list(set(string.punctuation))\n",
    "\n",
    "def tokenizer(text):\n",
    "    tokenizer = TweetTokenizer()\n",
    "    tokens = tokenizer.tokenize(text)\n",
    "    return tokens\n",
    "\n",
    "def remove_url(text):\n",
    "    url = re.compile(r\"https?://\\S+|www\\.\\S+\")\n",
    "    return url.sub(r'', text)\n",
    "\n",
    "def process_text(text):\n",
    "    text = remove_url(text)\n",
    "    text = tokenizer(text)\n",
    "    text = [word.lower() for word in text]\n",
    "    text = [re.sub('[0-9]+', '', word) for word in text]\n",
    "    text = [word for word in text if word not in punc]\n",
    "    text = [word for word in text if word not in stop]\n",
    "    text = [each for each in text if len(each) > 1]\n",
    "    text = [word for word in text if ' ' not in word]\n",
    "     \n",
    "    return text"
   ]
  },
  {
   "cell_type": "code",
   "execution_count": 13,
   "metadata": {},
   "outputs": [],
   "source": [
    "# apply text processing functions to text\n",
    "df['processed_text'] = df['text'].apply(process_text)"
   ]
  },
  {
   "cell_type": "code",
   "execution_count": 14,
   "metadata": {},
   "outputs": [
    {
     "name": "stderr",
     "output_type": "stream",
     "text": [
      "/opt/anaconda3/lib/python3.7/site-packages/ipykernel_launcher.py:2: FutureWarning: Passing a negative integer is deprecated in version 1.0 and will not be supported in future version. Instead, use None to not limit the column width.\n",
      "  \n"
     ]
    },
    {
     "data": {
      "text/plain": [
       "0     [@jovanhpulitzer, election, switching, usa, ->, leaonardo, vatican, ->, pakistan, ->, china, ->, frankfurt-usa, hours, ago, pakistan, complete, power, outage, total, grid, failure, vatican, complete, power, failure, red]              \n",
       "1     [pakistan, experiences, massive, blackout, following, breakdown, national, power, grid]                                                                                                                                                   \n",
       "2     [@teamlarcho, pakistan, national, power, outage, ):]                                                                                                                                                                                      \n",
       "3     [weird, ..., vatican, pakistan]                                                                                                                                                                                                           \n",
       "4     [@rmichanczyk, @jovanhpulitzer, election, switching, usa, ->, leaonardo, vatican, ->, pakistan, ->, china, ->, frankfurt-usa, hours, ago, pakistan, complete, power, outage, total, grid, failure, vatican, complete, power, failure, red]\n",
       "5     [@abpnews, historic, power, blackout, strike, pakistan, modi, government]                                                                                                                                                                 \n",
       "6     [#powerblackout, #pakistan, #cities, #darkness, #dy, massive, power, blackout, pakistan, several, cities, plunged, darkness]                                                                                                              \n",
       "7     [yesterday, power, grid, failure, led, #blackout, throughout, pakistan, look, scared, pakistani, people, indian, army, still, ask, proofs, surgical, strikes]                                                                             \n",
       "8     [deliberate, attempt, divert, attention, media, people, hazara, debacle, pm, engineered, power, cut, pakistan, ppp, pmln, used, steer, public, pressure]                                                                                  \n",
       "9     [pakis, can't, manage, want, kashmir, umpteenth, time, pakistan, gone, total, black, like]                                                                                                                                                \n",
       "11    [meanwhile, please, pray, currently, ventilators, hope, every, hospital, pakistan, adequate, power, back, system, continues, power, supply, time, #blackoutinpakistan]                                                                    \n",
       "13    [last, night, entire, country, fallen, darkness, first, time, ever, history, pakistan, power, transmission, settled, hours, alarming, situation, whole, nation, #blackout, #blackoutinpakistan]                                           \n",
       "14    [power, back, pakistan, yet]                                                                                                                                                                                                              \n",
       "15    [pakistan, blackout, leaves, million, without, power, via, @upi]                                                                                                                                                                          \n",
       "18    [#pakistan, #vatican, power, blackouts, reign, terror, #blackout, #daysofdarkness]                                                                                                                                                        \n",
       "22    [massive, blackout, pakistan, national, power, grid, breaks, #blackoutpakistan, #blackout]                                                                                                                                                \n",
       "24    [much, pakistan, loses, power, massive, blackout]                                                                                                                                                                                         \n",
       "25    [major, power, breakdown, plunges, entire, country, darkness, #pakistan]                                                                                                                                                                  \n",
       "26    [massive, power, grid, failure, plunges, pakistan, darkness, coming, america, plagues, egypt, gms, san, diego, house, bread, link]                                                                                                        \n",
       "28    [massive, power, grid, failure, plunges, pakistan, darkness, rt, world, news]                                                                                                                                                             \n",
       "Name: processed_text, dtype: object"
      ]
     },
     "execution_count": 14,
     "metadata": {},
     "output_type": "execute_result"
    }
   ],
   "source": [
    "# look at some of processed text\n",
    "pd.set_option('display.max_colwidth', -1)\n",
    "df['processed_text'][:20]"
   ]
  },
  {
   "cell_type": "code",
   "execution_count": 15,
   "metadata": {},
   "outputs": [],
   "source": [
    "# part-of-speech tagging \n",
    "\n",
    "ready_for_pos = df['processed_text']\n",
    "\n",
    "def pos_tagging(text):\n",
    "    pos_tag = [pos_tag(word) for word in ready_for_pos]\n",
    "\n",
    "df['pos_tagged'] = df.processed_text.apply(lambda x: pos_tag(x))"
   ]
  },
  {
   "cell_type": "code",
   "execution_count": 16,
   "metadata": {},
   "outputs": [],
   "source": [
    "# lemmatizing\n",
    "\n",
    "pos_tagged = df['pos_tagged']\n",
    "\n",
    "wordnet = WordNetLemmatizer() \n",
    "\n",
    "lemmatized = [[wordnet.lemmatize(word[0]) for word in words] for words in pos_tagged]"
   ]
  },
  {
   "cell_type": "code",
   "execution_count": 17,
   "metadata": {},
   "outputs": [],
   "source": [
    "\n",
    "df['lemmatized'] = lemmatized"
   ]
  },
  {
   "cell_type": "code",
   "execution_count": 18,
   "metadata": {},
   "outputs": [
    {
     "name": "stderr",
     "output_type": "stream",
     "text": [
      "/opt/anaconda3/lib/python3.7/site-packages/ipykernel_launcher.py:4: FutureWarning: Passing a negative integer is deprecated in version 1.0 and will not be supported in future version. Instead, use None to not limit the column width.\n",
      "  after removing the cwd from sys.path.\n"
     ]
    },
    {
     "data": {
      "text/plain": [
       "3352    owned upto mention wmd's iraq bin laden saudi national pakistan taliban still power apparently negotiating endorsing trump slowly surely seems though iraq afghanistan going become kill box                             \n",
       "3353    please allah swt give u strength courage stand tyranny injustice speak truth power allah swt seek refuge disbelief poverty allah swt bless ummat-e-muslimah allah swt forever bless pakistan                             \n",
       "3354    @casey still chandragupta mauryan king annexed present day pakistan afghanistan seleucid empire mauryan power unmatched time                                                                                             \n",
       "3355    @xiaomi_pakistan yes redmi power                                                                                                                                                                                         \n",
       "3356    #psxupdate dgkc informs completion commissioning mw waste heat recovery power plant site hub distt lasbela #pakistan #kse #pakistanstockexchange #stocks                                                                 \n",
       "3357    government provide subsidy r billion fy electricity consumer across pakistan keep electricity tariff current level budgeted subsidy r billion                                                                            \n",
       "3358    power #narendramodi #pakistan shaking                                                                                                                                                                                    \n",
       "3359    @usmankhattak least start saying make pakistan super power year least start something progressive                                                                                                                        \n",
       "3360    @shahid_siddiqui pakistan already learned democracy secularism independent judiciary please tell india learn pakistan suppress minority religion state power discriminatory law still existing pakistan pakistan learned \n",
       "3361    @dch thanks daniel problem dood objecting pakistani near impossible bring pakistani doods power understand nuance woman minority pakistan minoritized damn explain understands                                           \n",
       "3362    @khiladi @karachiwala @ghauraghaura @scrivenshaft_ yes course well tell go pm pakistan opposition leader power put forth political demand illegal accept carry sit people accusing                                       \n",
       "3363    pakistan learned lesson india democracy secularism independent judiciary india learned lesson pakistan suppress minority use religion state power create discriminatory law like good neighbour learning                 \n",
       "3365    terrorist may seize power pakistan enabling environment extremism remains indian defence review                                                                                                                          \n",
       "3366    pakistan's circular debt power sector increased billion billion since june pti elected power                                                                                                                             \n",
       "3367    @derekobrienmp worrying islamist wield enormous political power within @aitcofficial considerable threat india's integrity instigating @cpimspeak @incindia break india already taken part creation pakistan @mahuamoitra\n",
       "3368    @faiqkaleem @palanisamy @shahjhan_malikk @imrankhanpti bjp r hatred towards pak according might go power one day pak military big constant pakistan's politics journey future ...                                        \n",
       "3369    hazara incident result joint effort party favour stability motive derail democracy defame establishment shocked sorry state affair pakistan always suffered crisis due power-hungry                                      \n",
       "3370    gdp growth per cent fiscal year falling decade-high per cent previous year pakistan tehreek-e-insaaf pti government came power                                                                                           \n",
       "3371    @asmashirazi cut crap people never came cave power ab inshallah yeh log road py rulain gy aur chass bhi nahi aygi inko imran khan zindabad pakistan zindabad #پرامن_ترقی_پسند_پاکستان                                    \n",
       "3372    pm aide unhappy unnecessary interference power ministry besides said put forward proposal several meeting implemented #pakistan #pti #imrankhan                                                                          \n",
       "Name: final_docs, dtype: object"
      ]
     },
     "execution_count": 18,
     "metadata": {},
     "output_type": "execute_result"
    }
   ],
   "source": [
    "# before vectorizing, cast lists of words back into strings\n",
    "\n",
    "df['final_docs'] = df['lemmatized'].apply(lambda x: \" \".join(x))\n",
    "pd.set_option('display.max_colwidth', -1)\n",
    "final_docs = df['final_docs']\n",
    "final_docs[3000:3020]"
   ]
  },
  {
   "cell_type": "markdown",
   "metadata": {},
   "source": [
    " # Part 3: run NMF and LDA models, for topic modeling"
   ]
  },
  {
   "cell_type": "code",
   "execution_count": 19,
   "metadata": {},
   "outputs": [],
   "source": [
    "#create document term matrix with TFIDF\n",
    "\n",
    "#import vectorizing tool (usee TFIDF)\n",
    "from sklearn.feature_extraction.text import TfidfVectorizer\n",
    "# set max_features to 2000 (specifies the number of most frequently occurring words for which we want to create feature vectors)\n",
    "# set min_df to 5 (word must occur in at least 5 documents)\n",
    "# set max_df to 0.85 (word must not occur in more than 85 percent of the documents) \n",
    "\n",
    "tfidfconverter = TfidfVectorizer(max_features=2000, min_df=5, max_df=0.85, ngram_range=(1, 2), stop_words='english')  \n",
    "doc_term_matrix_1 = tfidfconverter.fit_transform(df['final_docs'].values.astype('U'))"
   ]
  },
  {
   "cell_type": "code",
   "execution_count": 20,
   "metadata": {},
   "outputs": [
    {
     "data": {
      "text/plain": [
       "(4299, 2000)"
      ]
     },
     "execution_count": 20,
     "metadata": {},
     "output_type": "execute_result"
    }
   ],
   "source": [
    "doc_term_matrix_1.shape"
   ]
  },
  {
   "cell_type": "code",
   "execution_count": 21,
   "metadata": {},
   "outputs": [],
   "source": [
    "#run NMF model \n",
    "\n",
    "#import NMF tool \n",
    "from sklearn.decomposition import NMF\n",
    "\n",
    "nmf_model = NMF(n_components=6, max_iter=400)\n",
    "nmf = nmf_model.fit_transform(doc_term_matrix_1)"
   ]
  },
  {
   "cell_type": "code",
   "execution_count": 22,
   "metadata": {},
   "outputs": [],
   "source": [
    "# run LDA model\n",
    "\n",
    "#import LDA tool \n",
    "from sklearn.decomposition import LatentDirichletAllocation\n",
    "\n",
    "lda_model = LatentDirichletAllocation(n_components = 6, max_iter=10, learning_method='online', learning_decay=.9)\n",
    "lda = lda_model.fit_transform(doc_term_matrix_1)"
   ]
  },
  {
   "cell_type": "code",
   "execution_count": 23,
   "metadata": {},
   "outputs": [
    {
     "name": "stdout",
     "output_type": "stream",
     "text": [
      "LDA Model:\n",
      "Topic 0:\n",
      "[('india', 56.64692912597984), ('people', 42.76642478396147), ('country', 35.95942930715081), ('world', 32.24550387466819), ('china', 28.273587667317337), ('state', 25.781144354059926), ('nuclear', 25.19054954821597), ('like', 23.652870931240844), ('army', 23.02894939555789), ('imrankhanpti', 22.792651612570776)]\n",
      "Topic 1:\n",
      "[('hospital', 50.71755302654042), ('hope', 50.18034704923685), ('power supply', 49.2066145067946), ('supply', 48.627426617952764), ('pray', 46.990781923042704), ('ventilator', 45.81751306440049), ('currently', 44.73183031071467), ('hope hospital', 44.66850703755199), ('hospital pakistan', 44.317216664174424), ('adequate power', 43.0949036049894)]\n",
      "Topic 2:\n",
      "[('city', 40.2590791167241), ('blackout', 39.76256174046756), ('electricity', 39.59544351911732), ('outage', 32.8075150200913), ('power pakistan', 31.035654355484283), ('power outage', 30.646148494961256), ('karachi', 27.4302273905765), ('islamabad', 23.31419951150724), ('plant', 23.20855871414796), ('major', 22.75873245268372)]\n",
      "Topic 3:\n",
      "[('iraq', 33.51168001913561), ('afghanistan', 22.612643935650812), ('taliban', 19.493316610208595), ('going', 19.20409123545443), ('saudi', 18.58354959464832), ('apparently', 18.323540994219222), ('mention', 17.786900483015092), ('trump', 17.35291515859185), ('slowly', 17.345101910281752), ('surely', 17.258150421249706)]\n",
      "Topic 4:\n",
      "[('outage', 59.23225170676537), ('power outage', 58.17220731867625), ('outage pakistan', 39.210865521373876), ('pakistan power', 36.99706084206597), ('cut', 32.00577673263576), ('blackout', 29.985861561071484), ('power blackout', 29.481501980919905), ('power cut', 29.22430766853415), ('nationwide', 28.916382725111685), ('nationwide power', 27.602873294292333)]\n",
      "Topic 5:\n",
      "[('breakdown', 97.06562836512141), ('power breakdown', 71.65853972782784), ('power grid', 59.51793869134339), ('grid', 57.92596104872917), ('darkness', 55.855026063330484), ('massive', 51.704620035493065), ('breakdown pakistan', 49.173476020416324), ('national power', 48.535576265983096), ('national', 45.401097324443086), ('pakistan darkness', 42.645414728949035)]\n",
      "==========\n",
      "NMF Model:\n",
      "Topic 0:\n",
      "[('hospital', 0.8764415433914668), ('hospital pakistan', 0.8662867053050973), ('hope hospital', 0.8660236807978678), ('ventilator', 0.8601697404951589), ('adequate power', 0.8573346782243988), ('adequate', 0.8573346782243988), ('pakistan adequate', 0.8559253222289577), ('currently ventilator', 0.8540722263223859), ('pray', 0.8524424324252925), ('ventilator hope', 0.8472902160062064)]\n",
      "Topic 1:\n",
      "[('darkness', 1.383392167909888), ('plunge', 1.3559266674879302), ('pakistan darkness', 1.1734509089105132), ('plunge pakistan', 1.1430680205944028), ('power grid', 1.0057509220493848), ('grid', 0.9707010504186083), ('breakdown plunge', 0.9645905357710101), ('grid breakdown', 0.9321678905878608), ('national power', 0.8036897532565769), ('national', 0.7275290702948682)]\n",
      "Topic 2:\n",
      "[('iraq', 0.9261159449305706), ('endorsing trump', 0.470918982178914), ('trump slowly', 0.470918982178914), ('wmd iraq', 0.470918982178914), ('wmd', 0.470918982178914), ('apparently negotiating', 0.470918982178914), ('afghanistan going', 0.470918982178914), ('saudi national', 0.470918982178914), ('iraq bin', 0.470918982178914), ('going kill', 0.470918982178914)]\n",
      "Topic 3:\n",
      "[('outage', 1.569486139997067), ('power outage', 1.5614865157478095), ('outage pakistan', 1.2101760860452944), ('massive power', 0.45093046589307717), ('massive', 0.37446927458782175), ('city', 0.2874882107154424), ('pakistan power', 0.27289482071924703), ('blackout', 0.2561820381597104), ('nationwide', 0.24939345583300487), ('nationwide power', 0.22713232754645063)]\n",
      "Topic 4:\n",
      "[('power breakdown', 1.3981974608162413), ('breakdown', 1.2592672049858749), ('breakdown pakistan', 1.0655529275120066), ('major', 0.5733942055276522), ('major power', 0.5542018076939292), ('blackout', 0.44401028372313195), ('entire', 0.38654004362244637), ('entire pakistan', 0.33893112253112934), ('country', 0.27702760629441997), ('electricity', 0.26460802843374864)]\n",
      "Topic 5:\n",
      "[('massive blackout', 0.794222198797224), ('massive', 0.6796250945182174), ('blackout', 0.66944265503798), ('breakdown national', 0.6450702222069502), ('following breakdown', 0.6450702222069502), ('following', 0.6418868885602617), ('experience massive', 0.6375605359318798), ('pakistan experience', 0.6375605359318798), ('experience', 0.6285772011720319), ('blackout following', 0.6245014016284335)]\n",
      "==========\n"
     ]
    }
   ],
   "source": [
    "def print_topics(model, vectorizer, top_n=10):\n",
    "    for idx, topic in enumerate(model.components_):\n",
    "        print(\"Topic %d:\" % (idx))\n",
    "        print([(vectorizer.get_feature_names()[i], topic[i])\n",
    "                        for i in topic.argsort()[:-top_n - 1:-1]])\n",
    " \n",
    "print(\"LDA Model:\")\n",
    "print_topics(lda_model, tfidfconverter )\n",
    "print(\"=\" * 10)\n",
    " \n",
    "print(\"NMF Model:\")\n",
    "print_topics(nmf_model, tfidfconverter )\n",
    "print(\"=\" * 10)"
   ]
  },
  {
   "cell_type": "markdown",
   "metadata": {},
   "source": [
    "# Part 4: Run visualization and testing of LDA model"
   ]
  },
  {
   "cell_type": "code",
   "execution_count": 24,
   "metadata": {},
   "outputs": [
    {
     "data": {
      "text/html": [
       "\n",
       "<link rel=\"stylesheet\" type=\"text/css\" href=\"https://cdn.rawgit.com/bmabey/pyLDAvis/files/ldavis.v1.0.0.css\">\n",
       "\n",
       "\n",
       "<div id=\"ldavis_el167901405688611666725435038248\"></div>\n",
       "<script type=\"text/javascript\">\n",
       "\n",
       "var ldavis_el167901405688611666725435038248_data = {\"mdsDat\": {\"x\": [1.4650187492370605, 54.85479736328125, 32.212928771972656, 5.111096382141113, 26.350170135498047, 38.10981750488281], \"y\": [-47.625064849853516, -36.4767951965332, -61.44457244873047, -14.110331535339355, -33.37470245361328, -7.222781181335449], \"topics\": [1, 2, 3, 4, 5, 6], \"cluster\": [1, 1, 1, 1, 1, 1], \"Freq\": [31.51868788525265, 17.78150537641128, 15.703939798986855, 12.14983606415645, 11.848578625783993, 10.997452249408765]}, \"tinfo\": {\"Term\": [\"breakdown\", \"outage\", \"power outage\", \"hospital\", \"power breakdown\", \"hope\", \"power grid\", \"power supply\", \"supply\", \"pray\", \"ventilator\", \"hope hospital\", \"currently\", \"hospital pakistan\", \"adequate power\", \"adequate\", \"pakistan adequate\", \"currently ventilator\", \"ventilator hope\", \"pray currently\", \"supply time\", \"outage pakistan\", \"grid\", \"darkness\", \"time blackout\", \"time\", \"breakdown pakistan\", \"blackout\", \"national power\", \"pakistan darkness\", \"super power\", \"muslim\", \"undo\", \"undo pakistan\", \"political\", \"earth\", \"power earth\", \"leader\", \"earth undo\", \"justice\", \"way\", \"gave\", \"money\", \"happening\", \"party\", \"pti\", \"democracy\", \"pakistan super\", \"came power\", \"atomic\", \"bhutto\", \"ali\", \"atomic power\", \"pakistan nuclear\", \"want\", \"transfer power\", \"politics\", \"constitution\", \"people pakistan\", \"muhammad\", \"state\", \"nuclear power\", \"india\", \"year\", \"china\", \"people\", \"super\", \"world\", \"make\", \"nuclear\", \"army\", \"turkey\", \"imrankhanpti\", \"pm\", \"government\", \"like\", \"know\", \"come\", \"country\", \"day\", \"allah\", \"right\", \"time\", \"power pakistan\", \"pakistan power\", \"pakistani\", \"lahore\", \"pakistan city\", \"trending\", \"area\", \"wide\", \"gone\", \"coal\", \"plant\", \"rawalpindi\", \"complete\", \"power plant\", \"wide power\", \"city plunge\", \"different\", \"peshawar\", \"transmission line\", \"punjab\", \"look like\", \"blackout massive\", \"quetta\", \"nation wide\", \"restored\", \"station\", \"karachi\", \"trending pakistan\", \"karachi lahore\", \"report major\", \"omarayubkhan\", \"complete power\", \"black pakistan\", \"fault\", \"light\", \"city\", \"tarbela\", \"islamabad\", \"city pakistan\", \"tripped\", \"black\", \"power pakistan\", \"imran khan\", \"line\", \"electricity\", \"electricity pakistan\", \"pakistan electricity\", \"outage\", \"power outage\", \"imran\", \"blackout\", \"report\", \"major\", \"khan\", \"poweroutage\", \"failure\", \"pakistan power\", \"breakdown\", \"major power\", \"power breakdown\", \"outage pakistan\", \"blackout pakistan\", \"pakistan blackout\", \"power grid\", \"pakistan darkness\", \"plunge pakistan\", \"massive blackout\", \"grid breakdown\", \"breakdown plunge\", \"breakdown national\", \"following breakdown\", \"pakistan experience\", \"experience massive\", \"breakdown entire\", \"air force\", \"red alert\", \"loses power\", \"loses\", \"plunged\", \"pakistan loses\", \"power massive\", \"force red\", \"darkness official\", \"pakistan air\", \"red\", \"grid failure\", \"failure plunge\", \"plunged darkness\", \"pakistan national\", \"world news\", \"national power\", \"experience\", \"guy ready\", \"air\", \"breakdown country\", \"breakdown\", \"breakdown pakistan\", \"power breakdown\", \"grid\", \"darkness\", \"massive\", \"alert\", \"national\", \"plunge\", \"entire\", \"massive power\", \"following\", \"blackout\", \"country\", \"entire pakistan\", \"major\", \"major power\", \"iraq\", \"taliban\", \"saudi\", \"surely\", \"kill\", \"slowly\", \"negotiating\", \"endorsing\", \"owned\", \"box\", \"iraq afghanistan\", \"taliban power\", \"bin laden\", \"laden\", \"bin\", \"pakistan taliban\", \"surely iraq\", \"kill box\", \"national pakistan\", \"laden saudi\", \"wmd iraq\", \"power apparently\", \"owned upto\", \"negotiating endorsing\", \"apparently negotiating\", \"upto\", \"iraq bin\", \"slowly surely\", \"endorsing trump\", \"going kill\", \"mention\", \"afghanistan\", \"apparently\", \"wmd\", \"going\", \"upto mention\", \"trump\", \"hospital\", \"pray\", \"ventilator\", \"hope hospital\", \"hospital pakistan\", \"adequate\", \"adequate power\", \"pakistan adequate\", \"currently ventilator\", \"ventilator hope\", \"pray currently\", \"supply time\", \"time blackout\", \"currently\", \"hope\", \"power supply\", \"multiple\", \"electricitybreakdown\", \"backup\", \"power bank\", \"multiple city\", \"blackout electricitybreakdown\", \"blackout reported\", \"supply\", \"cyber\", \"patient\", \"reported multiple\", \"outrage\", \"pakistan medium\", \"pakistan lost\", \"blackout electricity\", \"bank\", \"time\", \"electricity\", \"blackout\", \"blackoutpakistan\", \"nationwide power\", \"cut\", \"power cut\", \"blackout entire\", \"cut plunge\", \"major nationwide\", \"break pakistan\", \"breaking power\", \"power break\", \"plunge country\", \"avoid\", \"cut pakistan\", \"break\", \"sector\", \"outage plunge\", \"power sector\", \"following tripping\", \"rn\", \"phase avoid\", \"avoid tripping\", \"energized phase\", \"grid energized\", \"energized\", \"transmission resolution\", \"resolution grid\", \"resolution\", \"developing\", \"pakistan nationwide\", \"india power\", \"outage hit\", \"nationwide\", \"bbc\", \"outage pakistan\", \"power outage\", \"outage\", \"breaking\", \"tripping\", \"country darkness\", \"power blackout\", \"pakistan power\", \"entire pakistan\", \"entire\", \"blackout\", \"blackout pakistan\", \"major\", \"hit\", \"country\", \"plunge\", \"darkness\", \"vatican\"], \"Freq\": [109.0, 85.0, 82.0, 49.0, 83.0, 52.0, 55.0, 51.0, 53.0, 46.0, 45.0, 43.0, 44.0, 43.0, 42.0, 42.0, 42.0, 41.0, 41.0, 41.0, 40.0, 49.0, 66.0, 69.0, 37.0, 61.0, 53.0, 149.0, 49.0, 40.0, 16.962011793589607, 16.140460885064186, 14.325576263710614, 13.53077820826151, 14.028017145080186, 13.171290345255766, 12.007769165058454, 12.971286797881907, 10.974024261852872, 10.759866404414641, 13.357880462676707, 10.850319549216552, 11.950586952246633, 10.110870538644958, 11.13656406955676, 9.553037052195727, 9.891352967084595, 9.667010707121694, 9.381795674541804, 10.531333659560541, 8.635041223695575, 8.594385864132583, 9.80408395227308, 8.43429998646037, 13.804880690111021, 9.671118690456673, 8.830045368364779, 7.707435085443756, 8.828309929923735, 7.526453058108566, 20.637362836704884, 13.159951203033472, 45.344892914881605, 16.37054952908517, 22.63252085991776, 34.23378781695834, 17.001568042732334, 25.811971500369257, 14.313261783962535, 20.16460184788727, 18.434278087016025, 12.814524670595784, 18.24512577406813, 15.929282974484705, 14.383410733707729, 18.933716550130463, 15.169416160132839, 14.79482632495795, 28.784904960808927, 13.965116133245536, 14.384861832111167, 14.460116478243382, 15.974851906711582, 14.781188216135238, 15.165470626955234, 13.403913034192328, 16.49034548962982, 10.933004443241776, 9.10831335621272, 9.499951755463629, 9.61301808587995, 8.276343350574916, 10.367526414474073, 20.274057545386725, 7.823668522496012, 11.33482420096812, 18.379001333060792, 7.549692025030294, 7.165365750614999, 6.958872403229963, 7.791682189740651, 6.752978642474116, 6.28443657369231, 6.527406162416881, 6.137829687774037, 7.65977575705372, 5.882452412419564, 15.210305070205921, 6.102199522332959, 23.961936432553163, 5.411715927245575, 5.494881839412148, 5.157855146533337, 5.813734976427507, 5.11623942501347, 5.114515013187839, 13.577562376974639, 12.286503070568799, 35.1687020633115, 8.399927177372776, 20.366341070235553, 19.191298537743247, 8.535677116020935, 10.290277777969646, 27.111491502410626, 14.949388229672836, 10.814211758014746, 34.58897686534627, 12.320307418069023, 11.03739233225309, 28.659317264410713, 26.77123494758651, 13.459609466437792, 34.73496457954552, 11.472887270684112, 19.8811075297189, 13.178909233300097, 12.112498530962721, 12.200299280788977, 14.788152847254478, 15.772892258670414, 12.578974763281359, 14.07096447768866, 12.701176329644492, 12.480609961257231, 11.824635805541623, 54.84311580681081, 39.29584038079928, 32.32256829704671, 30.13521055993246, 25.891457208028225, 26.155151377340175, 16.521798238587568, 16.521991191543272, 15.88161736775779, 15.880868483603637, 15.655769554959114, 15.230858610221038, 14.13632011262409, 13.462514245339685, 13.462846585182204, 18.831984984165334, 12.906931610704383, 12.611216697927267, 10.638929193383587, 10.123683270281683, 10.051452779560062, 14.819181640060872, 11.127583958357194, 9.38281815046794, 14.082794405082295, 13.083171424975594, 7.832879606822328, 44.72336052681142, 16.420535173979736, 7.146918584512271, 17.20381317685153, 12.871080792224392, 89.44163078119966, 45.31115659090135, 66.03013611107826, 53.37617968409788, 51.467905813566205, 47.6434924781111, 15.86906505145536, 41.83507851697274, 36.895515285090205, 26.84990831439063, 25.95806464603791, 17.490517013467336, 39.11139988744579, 23.282414645550077, 18.090116114942894, 19.361162497653837, 17.635320791980085, 31.0158715889945, 18.04153669647739, 17.199525286891006, 15.97283624764208, 15.845095334800735, 16.053311956909713, 15.570692669914656, 15.34504932139741, 15.208037263575864, 15.154627853628698, 15.123688658905845, 15.088264592140991, 15.091057713120335, 15.09237995732662, 15.091643463531238, 14.957357124430636, 14.95755767031485, 14.958175445903459, 14.95757525127694, 14.958531360894474, 14.958356755332774, 14.957978132483966, 14.957475453192115, 14.957646007472922, 14.95777892849901, 15.06423725005814, 14.95751535346744, 14.957904310483356, 14.95840469411751, 14.957232819058417, 16.462207237369356, 20.92854969357908, 16.95888102917733, 14.95811670148603, 17.773851606427247, 14.957996248076864, 16.060543307475857, 49.01696249233082, 45.41515230046181, 44.2812238633507, 43.1707447104621, 42.83123331789247, 41.64825663698877, 41.64990516224179, 41.53836429138945, 41.21960603795249, 40.61317086304625, 40.59614991338805, 39.56714505510124, 36.55548045254739, 43.2319447155941, 48.49776935960288, 47.55668666412116, 8.146488841774667, 11.553386618831215, 6.819976650054625, 6.3945095094246245, 6.324189233506655, 6.289329085131726, 5.746779573402928, 46.99691929899382, 7.3499790984598805, 5.806232240785587, 5.02905025467757, 4.85019559217085, 4.507749081039837, 4.368770860153554, 30.038632925050695, 7.627561956441184, 38.65410871666066, 30.58276479159924, 39.64297739451303, 7.644678223748872, 25.593580289962606, 29.67598364909029, 27.09698576516885, 14.851849678846984, 10.490805908849165, 9.569875852037542, 9.2424550999016, 8.748537602898336, 15.195210253558496, 15.780810744741903, 8.036214224500945, 7.468349080208968, 19.088754300023933, 8.129993453261537, 8.410774713387935, 6.344899232548596, 5.984864297770272, 5.56843622160848, 5.518806981907296, 5.513437757035345, 5.354887683320369, 5.353787323195891, 5.352706221787811, 5.344483865196349, 5.345043577394762, 6.199069134999938, 5.03088189336911, 4.548755017986767, 4.079327578261681, 4.1325299277121745, 26.81147556922868, 4.240361815737126, 36.356593180019416, 53.93768405127408, 54.92056474156414, 15.621603937545832, 10.956156214774545, 15.057557148986248, 27.335458159473088, 34.30393774802577, 14.830674365593989, 17.68700153888987, 27.80310394663433, 14.348871914722263, 14.65219848006899, 9.431791325452055, 15.074688343943123, 10.89118586037721, 11.125783777015242, 8.694645526720587], \"Total\": [109.0, 85.0, 82.0, 49.0, 83.0, 52.0, 55.0, 51.0, 53.0, 46.0, 45.0, 43.0, 44.0, 43.0, 42.0, 42.0, 42.0, 41.0, 41.0, 41.0, 40.0, 49.0, 66.0, 69.0, 37.0, 61.0, 53.0, 149.0, 49.0, 40.0, 17.776858775785605, 16.934561046850185, 15.112638051064257, 14.318009343102286, 14.853168177521415, 13.969415273289577, 12.798874249926897, 13.84581153626584, 11.765085723058807, 11.550527833616588, 14.356317032061213, 11.685119799707941, 12.889645586140484, 10.912136697464828, 12.032673075699345, 10.342954788501808, 10.710229312950359, 10.476246512927752, 10.208198213886085, 11.484968890788124, 9.422862233236069, 9.381211959034045, 10.745536112195536, 9.245789283042914, 15.165739187844727, 10.630008975733329, 9.710208964019621, 8.493618983651041, 9.758863309341292, 8.330393651172017, 22.878116433841928, 14.690569830864375, 52.753714381182746, 18.73977767441162, 26.953246554258868, 44.76123685700428, 20.313442928961027, 34.05406451467326, 16.912460629784004, 25.581697568946122, 23.208036384251205, 14.847958351406628, 23.398811522020715, 20.79290256791444, 18.234603193742995, 31.570378568689467, 21.419843227698227, 20.60459271039016, 79.63883505480152, 20.526054429083896, 22.500297794864657, 23.71912478831846, 61.84108765118317, 44.813891683986625, 75.12903503889999, 18.649047939770128, 17.543204612335263, 11.732008347951252, 9.902685486286414, 10.331307374544998, 10.500146678285825, 9.075211696516684, 11.37617304084917, 22.251717372836648, 8.625763406486294, 12.500960135166215, 20.285258715109688, 8.350088556853594, 7.945641896599937, 7.753444728111726, 8.753919574582259, 7.596074416287409, 7.069252120686077, 7.353645458064818, 6.9195075523231715, 8.653450830216462, 6.657970962303926, 17.23499941223309, 6.962287419759902, 27.361949897193323, 6.192376951803984, 6.323655912453126, 5.93944415099058, 6.6951434991343906, 5.89681555018256, 5.896678052030559, 16.291555646480504, 15.026518884629912, 47.7334961072664, 10.078498962419095, 26.897888112787868, 25.238678911902884, 10.46365763994366, 13.220337921046706, 44.813891683986625, 21.71885006442448, 14.376638729580943, 79.9373431761727, 18.560888735689254, 16.499671184977515, 85.88636615195227, 82.68186994647351, 23.732260067604535, 149.9668601025474, 18.22564705349641, 54.42275007269329, 26.968425855648093, 22.60266243828876, 25.986566192962215, 75.12903503889999, 109.42329093212034, 37.70749774841341, 83.65144427665876, 49.70305692766633, 48.73904285486269, 31.458671884052908, 55.83653036764603, 40.16396987750985, 33.109671492625644, 31.001790949458403, 26.676731949620883, 27.331093266517676, 17.297337760993326, 17.299254434474506, 16.657681314108086, 16.659738231764717, 16.48384277312657, 16.037414567488945, 14.9095875106619, 14.25470764325382, 14.25521618038348, 19.98359998019282, 13.698653745629803, 13.396562601498168, 11.411982248885089, 10.892552879752717, 10.82932957198712, 15.991494361017665, 12.042234740518996, 10.168838651965496, 15.267141119037326, 14.247387467045703, 8.618956712428254, 49.23076454929796, 18.1242126328222, 7.916109514116859, 19.176673017301127, 14.403993744637113, 109.42329093212034, 53.55237020167281, 83.65144427665876, 66.69848343609573, 69.9137817518879, 65.95925520129262, 18.18322945375786, 62.33146852530769, 53.19310782498006, 46.90900641032077, 44.55960795053373, 23.773203911823224, 149.9668601025474, 79.63883505480152, 33.72949912489195, 54.42275007269329, 37.70749774841341, 31.7951253506886, 18.829019485868862, 17.97306058162871, 16.752476965724284, 16.623338334478273, 16.844104018156543, 16.34042176692789, 16.115377207333317, 15.977085034915097, 15.922509206047526, 15.891786891172618, 15.857272850422746, 15.861280259653046, 15.86359790015371, 15.865079750094365, 15.723935320573252, 15.724180740258237, 15.725012445719246, 15.724511107305192, 15.72554942728387, 15.725468324853503, 15.72510753322663, 15.724619542143511, 15.724818704832343, 15.725049289120083, 15.837298943988754, 15.725355706931685, 15.725823839822395, 15.72647099763154, 15.725311524371651, 17.337766660740424, 22.51612802871264, 18.021473264293626, 15.726490730726644, 30.779294738135256, 15.726530134391549, 25.11094544223274, 49.8512465686502, 46.20604424464444, 45.05244056120849, 43.93804816302909, 43.593465324351016, 42.41112804844852, 42.41298304169769, 42.30111386222142, 41.982576117066905, 41.374436202404816, 41.35961239267066, 40.328274657069024, 37.318522478773325, 44.13994748077565, 52.282006679628665, 51.81307938519179, 8.92682415435316, 12.714130472689549, 7.6134390105254965, 7.155744659485112, 7.0891341947650615, 7.052864226756878, 6.504739330852103, 53.59193652203218, 8.408746058270092, 6.666727230753237, 5.788030034847592, 5.636740495828048, 5.269519902446284, 5.144091589015358, 38.7080358494437, 9.416238547248255, 61.84108765118317, 79.9373431761727, 149.9668601025474, 13.231443101009218, 26.389568948479567, 30.664670059964998, 28.008611710816034, 15.619505145533994, 11.293337948299, 10.33833395725923, 10.028389063000846, 9.529229552563836, 16.657617577020634, 17.35920186964356, 8.8984476525221, 8.277670879202091, 21.20034472108319, 9.103121968716682, 9.418245480357722, 7.123879161311622, 6.7745809473312155, 6.339334123952713, 6.286752323074348, 6.287695387567275, 6.122265396452666, 6.123145403776985, 6.123304440469436, 6.115126483239725, 6.116397942996932, 7.117539486239401, 5.806347086673146, 5.316118806156672, 4.859462133409852, 4.923860999206999, 33.24907439017444, 5.057105508580705, 49.70305692766633, 82.68186994647351, 85.88636615195227, 23.04908385113261, 14.881395707766256, 22.49106789968992, 52.37826219907369, 75.12903503889999, 33.72949912489195, 46.90900641032077, 149.9668601025474, 48.73904285486269, 54.42275007269329, 19.8550007736285, 79.63883505480152, 53.19310782498006, 69.9137817518879, 16.032664201160593], \"Category\": [\"Default\", \"Default\", \"Default\", \"Default\", \"Default\", \"Default\", \"Default\", \"Default\", \"Default\", \"Default\", \"Default\", \"Default\", \"Default\", \"Default\", \"Default\", \"Default\", \"Default\", \"Default\", \"Default\", \"Default\", \"Default\", \"Default\", \"Default\", \"Default\", \"Default\", \"Default\", \"Default\", \"Default\", \"Default\", \"Default\", \"Topic1\", \"Topic1\", \"Topic1\", \"Topic1\", \"Topic1\", \"Topic1\", \"Topic1\", \"Topic1\", \"Topic1\", \"Topic1\", \"Topic1\", \"Topic1\", \"Topic1\", \"Topic1\", \"Topic1\", \"Topic1\", \"Topic1\", \"Topic1\", \"Topic1\", \"Topic1\", \"Topic1\", \"Topic1\", \"Topic1\", \"Topic1\", \"Topic1\", \"Topic1\", \"Topic1\", \"Topic1\", \"Topic1\", \"Topic1\", \"Topic1\", \"Topic1\", \"Topic1\", \"Topic1\", \"Topic1\", \"Topic1\", \"Topic1\", \"Topic1\", \"Topic1\", \"Topic1\", \"Topic1\", \"Topic1\", \"Topic1\", \"Topic1\", \"Topic1\", \"Topic1\", \"Topic1\", \"Topic1\", \"Topic1\", \"Topic1\", \"Topic1\", \"Topic1\", \"Topic1\", \"Topic1\", \"Topic1\", \"Topic1\", \"Topic2\", \"Topic2\", \"Topic2\", \"Topic2\", \"Topic2\", \"Topic2\", \"Topic2\", \"Topic2\", \"Topic2\", \"Topic2\", \"Topic2\", \"Topic2\", \"Topic2\", \"Topic2\", \"Topic2\", \"Topic2\", \"Topic2\", \"Topic2\", \"Topic2\", \"Topic2\", \"Topic2\", \"Topic2\", \"Topic2\", \"Topic2\", \"Topic2\", \"Topic2\", \"Topic2\", \"Topic2\", \"Topic2\", \"Topic2\", \"Topic2\", \"Topic2\", \"Topic2\", \"Topic2\", \"Topic2\", \"Topic2\", \"Topic2\", \"Topic2\", \"Topic2\", \"Topic2\", \"Topic2\", \"Topic2\", \"Topic2\", \"Topic2\", \"Topic2\", \"Topic2\", \"Topic2\", \"Topic2\", \"Topic2\", \"Topic2\", \"Topic2\", \"Topic2\", \"Topic2\", \"Topic2\", \"Topic2\", \"Topic2\", \"Topic2\", \"Topic2\", \"Topic2\", \"Topic2\", \"Topic3\", \"Topic3\", \"Topic3\", \"Topic3\", \"Topic3\", \"Topic3\", \"Topic3\", \"Topic3\", \"Topic3\", \"Topic3\", \"Topic3\", \"Topic3\", \"Topic3\", \"Topic3\", \"Topic3\", \"Topic3\", \"Topic3\", \"Topic3\", \"Topic3\", \"Topic3\", \"Topic3\", \"Topic3\", \"Topic3\", \"Topic3\", \"Topic3\", \"Topic3\", \"Topic3\", \"Topic3\", \"Topic3\", \"Topic3\", \"Topic3\", \"Topic3\", \"Topic3\", \"Topic3\", \"Topic3\", \"Topic3\", \"Topic3\", \"Topic3\", \"Topic3\", \"Topic3\", \"Topic3\", \"Topic3\", \"Topic3\", \"Topic3\", \"Topic3\", \"Topic3\", \"Topic3\", \"Topic3\", \"Topic3\", \"Topic4\", \"Topic4\", \"Topic4\", \"Topic4\", \"Topic4\", \"Topic4\", \"Topic4\", \"Topic4\", \"Topic4\", \"Topic4\", \"Topic4\", \"Topic4\", \"Topic4\", \"Topic4\", \"Topic4\", \"Topic4\", \"Topic4\", \"Topic4\", \"Topic4\", \"Topic4\", \"Topic4\", \"Topic4\", \"Topic4\", \"Topic4\", \"Topic4\", \"Topic4\", \"Topic4\", \"Topic4\", \"Topic4\", \"Topic4\", \"Topic4\", \"Topic4\", \"Topic4\", \"Topic4\", \"Topic4\", \"Topic4\", \"Topic4\", \"Topic5\", \"Topic5\", \"Topic5\", \"Topic5\", \"Topic5\", \"Topic5\", \"Topic5\", \"Topic5\", \"Topic5\", \"Topic5\", \"Topic5\", \"Topic5\", \"Topic5\", \"Topic5\", \"Topic5\", \"Topic5\", \"Topic5\", \"Topic5\", \"Topic5\", \"Topic5\", \"Topic5\", \"Topic5\", \"Topic5\", \"Topic5\", \"Topic5\", \"Topic5\", \"Topic5\", \"Topic5\", \"Topic5\", \"Topic5\", \"Topic5\", \"Topic5\", \"Topic5\", \"Topic5\", \"Topic5\", \"Topic5\", \"Topic6\", \"Topic6\", \"Topic6\", \"Topic6\", \"Topic6\", \"Topic6\", \"Topic6\", \"Topic6\", \"Topic6\", \"Topic6\", \"Topic6\", \"Topic6\", \"Topic6\", \"Topic6\", \"Topic6\", \"Topic6\", \"Topic6\", \"Topic6\", \"Topic6\", \"Topic6\", \"Topic6\", \"Topic6\", \"Topic6\", \"Topic6\", \"Topic6\", \"Topic6\", \"Topic6\", \"Topic6\", \"Topic6\", \"Topic6\", \"Topic6\", \"Topic6\", \"Topic6\", \"Topic6\", \"Topic6\", \"Topic6\", \"Topic6\", \"Topic6\", \"Topic6\", \"Topic6\", \"Topic6\", \"Topic6\", \"Topic6\", \"Topic6\", \"Topic6\", \"Topic6\", \"Topic6\", \"Topic6\", \"Topic6\", \"Topic6\"], \"logprob\": [30.0, 29.0, 28.0, 27.0, 26.0, 25.0, 24.0, 23.0, 22.0, 21.0, 20.0, 19.0, 18.0, 17.0, 16.0, 15.0, 14.0, 13.0, 12.0, 11.0, 10.0, 9.0, 8.0, 7.0, 6.0, 5.0, 4.0, 3.0, 2.0, 1.0, -5.571, -5.6206, -5.7399, -5.797, -5.7609, -5.8239, -5.9164, -5.8392, -6.0064, -6.0261, -5.8098, -6.0177, -5.9212, -6.0883, -5.9917, -6.1451, -6.1103, -6.1332, -6.1632, -6.0476, -6.2461, -6.2508, -6.1191, -6.2696, -5.7769, -6.1328, -6.2238, -6.3597, -6.224, -6.3835, -5.3748, -5.8248, -4.5876, -5.6064, -5.2825, -4.8687, -5.5686, -5.1511, -5.7407, -5.398, -5.4877, -5.8514, -5.498, -5.6338, -5.7359, -5.461, -5.6826, -5.7077, -5.0421, -5.7654, -5.7358, -5.7305, -5.6309, -5.7086, -5.6829, -5.8064, -5.0267, -5.4377, -5.6203, -5.5782, -5.5664, -5.7161, -5.4908, -4.8202, -5.7724, -5.4016, -4.9183, -5.808, -5.8602, -5.8895, -5.7765, -5.9195, -5.9914, -5.9535, -6.015, -5.7935, -6.0575, -5.1075, -6.0209, -4.653, -6.1409, -6.1257, -6.189, -6.0693, -6.1971, -6.1974, -5.2211, -5.321, -4.2694, -5.7013, -4.8156, -4.8751, -5.6853, -5.4983, -4.5296, -5.1248, -5.4486, -4.286, -5.3183, -5.4282, -4.474, -4.5422, -5.2298, -4.2818, -5.3895, -4.8397, -5.2509, -5.3353, -5.328, -5.1357, -5.0712, -5.2975, -5.1854, -5.2878, -5.3053, -5.3593, -3.7008, -4.0341, -4.2295, -4.2996, -4.4513, -4.4412, -4.9006, -4.9006, -4.9401, -4.9401, -4.9544, -4.9819, -5.0565, -5.1054, -5.1053, -4.7697, -5.1475, -5.1707, -5.3407, -5.3904, -5.3975, -5.0093, -5.2958, -5.4664, -5.0603, -5.1339, -5.6469, -3.9048, -4.9067, -5.7386, -4.8601, -5.1503, -3.2117, -3.8917, -3.5152, -3.7279, -3.7643, -3.8415, -4.9409, -3.9715, -4.0972, -4.415, -4.4488, -4.8436, -4.0388, -4.5576, -4.8099, -4.742, -4.8354, -4.0142, -4.556, -4.6038, -4.6778, -4.6858, -4.6728, -4.7033, -4.7179, -4.7268, -4.7304, -4.7324, -4.7347, -4.7346, -4.7345, -4.7345, -4.7435, -4.7434, -4.7434, -4.7434, -4.7434, -4.7434, -4.7434, -4.7435, -4.7434, -4.7434, -4.7363, -4.7435, -4.7434, -4.7434, -4.7435, -4.6476, -4.4076, -4.6179, -4.7434, -4.5709, -4.7434, -4.6723, -3.5314, -3.6077, -3.633, -3.6584, -3.6663, -3.6943, -3.6943, -3.6969, -3.7046, -3.7195, -3.7199, -3.7456, -3.8247, -3.657, -3.542, -3.5616, -5.326, -4.9766, -5.5037, -5.5681, -5.5792, -5.5847, -5.6749, -3.5735, -5.4289, -5.6646, -5.8083, -5.8445, -5.9178, -5.9491, -4.0211, -5.3918, -3.7689, -4.0031, -3.7436, -5.3895, -4.1067, -3.9587, -4.0496, -4.6509, -4.9985, -5.0904, -5.1252, -5.1801, -4.628, -4.5902, -5.2651, -5.3383, -4.3999, -5.2535, -5.2195, -5.5014, -5.5598, -5.6319, -5.6409, -5.6418, -5.671, -5.6712, -5.6714, -5.6729, -5.6728, -5.5246, -5.7334, -5.8342, -5.9431, -5.9301, -4.0602, -5.9044, -3.7556, -3.3612, -3.3431, -4.6004, -4.9551, -4.6371, -4.0408, -3.8138, -4.6523, -4.4762, -4.0239, -4.6853, -4.6644, -5.1049, -4.636, -4.9611, -4.9397, -5.1863], \"loglift\": [30.0, 29.0, 28.0, 27.0, 26.0, 25.0, 24.0, 23.0, 22.0, 21.0, 20.0, 19.0, 18.0, 17.0, 16.0, 15.0, 14.0, 13.0, 12.0, 11.0, 10.0, 9.0, 8.0, 7.0, 6.0, 5.0, 4.0, 3.0, 2.0, 1.0, 1.1077, 1.1066, 1.1011, 1.098, 1.0974, 1.0958, 1.0908, 1.0893, 1.085, 1.0837, 1.0825, 1.0805, 1.0789, 1.0783, 1.0772, 1.0751, 1.0751, 1.0742, 1.0702, 1.0679, 1.0673, 1.067, 1.0629, 1.0627, 1.0606, 1.0601, 1.0596, 1.0575, 1.0544, 1.0531, 1.0515, 1.0446, 1.0033, 1.0194, 0.9799, 0.8865, 0.9766, 0.8775, 0.9877, 0.9166, 0.9243, 1.0073, 0.9058, 0.8881, 0.9173, 0.6433, 0.8096, 0.8234, 0.1369, 0.7695, 0.7072, 0.6597, -0.199, 0.0454, -0.4456, 0.8243, 1.6651, 1.6565, 1.6434, 1.6431, 1.6387, 1.6349, 1.6342, 1.6339, 1.6294, 1.6291, 1.6283, 1.6262, 1.6236, 1.6189, 1.6106, 1.6094, 1.6093, 1.6078, 1.6071, 1.605, 1.6032, 1.602, 1.5952, 1.5943, 1.5923, 1.5865, 1.5859, 1.5859, 1.585, 1.5847, 1.5448, 1.5257, 1.4215, 1.5448, 1.4488, 1.4531, 1.5234, 1.4765, 1.2245, 1.3535, 1.4423, 0.8893, 1.3172, 1.325, 0.6295, 0.5993, 1.1599, 0.2643, 1.2642, 0.72, 1.011, 1.1032, 0.9709, 0.1016, -0.2099, 0.6292, -0.0555, 0.3626, 0.3647, 0.7485, 1.8333, 1.8294, 1.8272, 1.8229, 1.8214, 1.8073, 1.8054, 1.8053, 1.8035, 1.8034, 1.7997, 1.7997, 1.798, 1.7941, 1.7941, 1.7919, 1.7917, 1.7908, 1.7811, 1.7781, 1.7767, 1.7751, 1.7723, 1.7708, 1.7705, 1.766, 1.7556, 1.7552, 1.7525, 1.749, 1.7427, 1.7387, 1.6496, 1.6842, 1.6147, 1.6284, 1.545, 1.526, 1.7151, 1.4525, 1.4854, 1.2933, 1.3109, 1.5444, 0.5073, 0.6215, 1.2283, 0.8177, 1.0913, 2.083, 2.0651, 2.0639, 2.0602, 2.0599, 2.0598, 2.0596, 2.0589, 2.0585, 2.0584, 2.0583, 2.0581, 2.0581, 2.058, 2.0579, 2.0579, 2.0579, 2.0579, 2.0579, 2.0578, 2.0578, 2.0578, 2.0578, 2.0578, 2.0578, 2.0578, 2.0578, 2.0578, 2.0578, 2.0578, 2.056, 2.0347, 2.0471, 2.0578, 1.5587, 2.0578, 1.6609, 2.1161, 2.1157, 2.1157, 2.1153, 2.1153, 2.1148, 2.1148, 2.1148, 2.1146, 2.1144, 2.1143, 2.1139, 2.1123, 2.1122, 2.0578, 2.0472, 2.0415, 2.0372, 2.0229, 2.0205, 2.0188, 2.0184, 2.0091, 2.0016, 1.9984, 1.9948, 1.9924, 1.9827, 1.9768, 1.9696, 1.8794, 1.9223, 1.663, 1.1722, 0.8025, 1.5844, 2.1769, 2.1747, 2.1744, 2.1571, 2.1338, 2.1303, 2.1259, 2.122, 2.1156, 2.1122, 2.1056, 2.1046, 2.1026, 2.0944, 2.0944, 2.0917, 2.0836, 2.0778, 2.0772, 2.0761, 2.0736, 2.0732, 2.073, 2.0728, 2.0727, 2.0693, 2.0642, 2.0516, 2.0325, 2.0323, 1.9923, 2.0314, 1.8948, 1.7803, 1.7604, 1.8185, 1.9013, 1.8063, 1.5572, 1.4236, 1.3858, 1.2321, 0.5222, 0.9847, 0.8953, 1.4631, 0.543, 0.6215, 0.3695, 1.5956]}, \"token.table\": {\"Topic\": [5, 5, 1, 4, 3, 5, 3, 2, 3, 1, 1, 2, 3, 5, 4, 4, 2, 1, 2, 4, 1, 1, 6, 6, 5, 5, 6, 6, 1, 4, 4, 1, 2, 2, 1, 2, 3, 4, 5, 6, 2, 3, 5, 5, 6, 2, 2, 3, 4, 5, 6, 5, 2, 3, 4, 5, 6, 4, 5, 6, 6, 1, 2, 3, 5, 6, 1, 3, 3, 3, 2, 3, 3, 6, 2, 3, 4, 6, 6, 1, 1, 2, 6, 2, 3, 5, 6, 2, 3, 5, 2, 2, 1, 2, 3, 2, 6, 2, 1, 1, 2, 3, 4, 5, 6, 3, 6, 5, 5, 6, 6, 6, 5, 2, 3, 6, 3, 1, 2, 3, 6, 1, 6, 2, 1, 1, 1, 2, 3, 4, 5, 6, 2, 3, 5, 2, 5, 4, 4, 6, 6, 1, 3, 6, 3, 6, 1, 3, 3, 1, 2, 3, 5, 3, 2, 3, 5, 3, 6, 3, 6, 3, 1, 1, 3, 4, 5, 6, 4, 2, 1, 2, 3, 2, 3, 6, 3, 6, 3, 3, 1, 3, 4, 6, 2, 5, 6, 5, 5, 5, 1, 2, 1, 2, 1, 2, 6, 1, 2, 4, 5, 6, 6, 4, 4, 4, 2, 3, 4, 5, 1, 2, 3, 5, 6, 2, 1, 2, 4, 4, 1, 2, 4, 4, 2, 1, 2, 5, 1, 2, 6, 1, 2, 5, 2, 3, 3, 2, 3, 6, 6, 2, 3, 6, 1, 2, 6, 2, 3, 6, 3, 2, 3, 6, 4, 1, 1, 5, 5, 1, 2, 1, 2, 3, 4, 6, 4, 2, 3, 4, 2, 4, 6, 6, 4, 4, 1, 3, 4, 1, 4, 2, 2, 3, 4, 6, 6, 2, 6, 6, 5, 4, 4, 5, 3, 2, 3, 4, 5, 6, 2, 3, 2, 3, 4, 5, 3, 3, 5, 5, 3, 6, 6, 1, 1, 2, 3, 4, 5, 6, 1, 4, 1, 2, 3, 5, 1, 5, 1, 2, 3, 4, 5, 6, 1, 2, 6, 2, 4, 2, 3, 6, 3, 6, 3, 3, 2, 3, 1, 2, 5, 1, 1, 4, 5, 2, 3, 5, 6, 5, 6, 1, 2, 3, 5, 6, 6, 1, 3, 3, 2, 4, 6, 1, 2, 4, 2, 4, 6, 2, 5, 2, 3, 4, 5, 6, 5, 5, 1, 2, 2, 2, 2, 3, 3, 2, 3, 5, 6, 2, 5, 6, 6, 2, 4, 1, 2, 5, 6, 6, 4, 6, 4, 4, 1, 6, 2, 1, 4, 1, 2, 5, 5, 4, 4, 4, 4, 2, 4, 1, 2, 3, 5, 5, 1, 2, 6, 2, 2, 2, 4, 2, 6, 1, 4, 1, 2, 1, 1, 4, 4, 1, 2, 6, 5, 5, 1, 2, 1, 2, 2, 4, 4, 1, 3, 3, 1, 2, 4], \"Freq\": [0.9903061279582362, 0.9902628154852566, 0.0444126094293298, 0.9326647980159258, 0.8864937095534069, 0.05214668879725923, 0.9353128546298234, 0.10999146246744786, 0.8799316997395829, 0.9593643166044297, 0.6222139870164421, 0.044443856215460154, 0.044443856215460154, 0.22221928107730077, 0.9433191033100776, 0.9538920816215353, 0.8711385378170853, 0.7755934066104214, 0.08617704517893572, 0.08617704517893572, 0.9577735999635917, 0.9306189933744304, 0.8990332148251217, 0.9542447001907665, 0.919426817542319, 0.8495961481708502, 0.10619951852135627, 0.7909662935078083, 0.9551238017951106, 0.9454727134233776, 0.9456991966881817, 0.15128206343470318, 0.756410317173516, 0.8479350501895245, 0.01333627975295608, 0.23338489567673143, 0.26005745518264356, 0.04667697913534628, 0.26672559505912163, 0.18670791654138513, 0.15500657339827875, 0.05166885779942625, 0.7750328669913938, 0.8507182056954162, 0.9603377226255387, 0.8671137295002368, 0.246209184610665, 0.3077614807633312, 0.06155229615266625, 0.082069728203555, 0.28724404871244247, 0.9224043723845913, 0.07557754602925555, 0.1511550920585111, 0.07557754602925555, 0.6046203682340444, 0.1511550920585111, 0.9420625735485744, 0.04716904433188419, 0.8962118423057996, 0.8974522172464342, 0.0091388221966413, 0.1462211551462608, 0.8133551755010757, 0.0091388221966413, 0.0182776443932826, 0.06942518982780865, 0.9025274677615125, 0.9706474527944797, 0.982810200904798, 0.1493864785045519, 0.8402989415881044, 0.9512974745087, 0.03658836440418077, 0.1301570170587315, 0.1301570170587315, 0.0433856723529105, 0.694170757646568, 0.9444625035377129, 0.8816443226736538, 0.8533294849545975, 0.11130384586364316, 0.03710128195454772, 0.7332377230728759, 0.16759719384522878, 0.0628489476919608, 0.020949649230653598, 0.7528127786054347, 0.07924345037951945, 0.1584869007590389, 0.8809860916328747, 0.8790302295941126, 0.7279930358650591, 0.19413147623068241, 0.048532869057670604, 0.8799324116758126, 0.07999385560689205, 0.84791527858544, 0.941883549921278, 0.3641439503735126, 0.11301019149522805, 0.28880382271002725, 0.025113375887828457, 0.025113375887828457, 0.18835031915871342, 0.31123466574464026, 0.6669314265956576, 0.9741742447411806, 0.976595621137516, 0.9783245650885781, 0.8456485045313556, 0.8854777963592418, 0.8324665712928059, 0.10012332081880233, 0.7294699088227027, 0.1573366470009751, 0.9180584304151682, 0.6820599666813237, 0.048718569048665984, 0.048718569048665984, 0.24359284524332991, 0.9336868247917363, 0.8611266128881804, 0.9028245180648602, 0.9306044487672178, 0.9349698131345283, 0.0125097978024628, 0.437842923086198, 0.1125881802221652, 0.0375293934073884, 0.3878037318763468, 0.0250195956049256, 0.6465207658362908, 0.10775346097271514, 0.21550692194543028, 0.07865264574309971, 0.9438317489171966, 0.930788017371026, 0.9538058476220793, 0.8165525736323965, 0.8166911553519186, 0.04263573571577432, 0.5755824321629534, 0.3837216214419689, 0.5336574946858972, 0.44471457890491434, 0.05517481063916903, 0.8827969702267044, 0.9603992438184407, 0.03848142123028259, 0.4617770547633911, 0.4617770547633911, 0.03848142123028259, 0.8850568199605, 0.8593408943745926, 0.06138149245532804, 0.06138149245532804, 0.7150908250757619, 0.25238499708556306, 0.9827013103016659, 0.8856636368576636, 0.9638991509187339, 0.9413681835144673, 0.1949362404514765, 0.032489373408579415, 0.5848087213544295, 0.032489373408579415, 0.1624468670428971, 0.9538761745198155, 0.8815221360699079, 0.7677710258484785, 0.1645223626818168, 0.0548407875606056, 0.11994275713427359, 0.7946207660145626, 0.059971378567136795, 0.974632126944976, 0.8165737819839805, 0.9134517169797275, 0.8842727589249297, 0.9164108072732684, 0.3525560174894292, 0.15109543606689824, 0.4532863082006947, 0.05738111810404037, 0.9180978896646459, 0.01912703936801346, 0.9786506637812284, 0.9829242671499108, 0.9863863696098619, 0.421367369627404, 0.5477775805156252, 0.2762577200082988, 0.690644300020747, 0.7692698401822728, 0.1282116400303788, 0.042737213343459604, 0.8530205034444267, 0.03791202237530785, 0.018956011187653925, 0.018956011187653925, 0.05686803356296178, 0.8231363657510851, 0.9749922246910915, 0.9438837874381529, 0.9538734944728817, 0.74355279924343, 0.1115329198865145, 0.074355279924343, 0.074355279924343, 0.9523374306744377, 0.8771304709706315, 0.036547102957109646, 0.036547102957109646, 0.07309420591421929, 0.7906818570177956, 0.4820451912760553, 0.4820451912760553, 0.9625022169472774, 0.9538943165722827, 0.7002852374102972, 0.2801140949641189, 0.9455610318926867, 0.9538617438685456, 0.9120340527037928, 0.9389121010313888, 0.7985881555224591, 0.13309802592040984, 0.6018299704154836, 0.3484278776089642, 0.03167526160081493, 0.06955728795928007, 0.7651301675520807, 0.06955728795928007, 0.9519088239864798, 0.9119468856522306, 0.9119794193851726, 0.3674933731442402, 0.3491187044870282, 0.2756200298581801, 0.9672738413502628, 0.3447590207851167, 0.47735864416400775, 0.18563947273044745, 0.827792023080606, 0.05912800164861471, 0.05912800164861471, 0.16676962113096191, 0.7277219831169247, 0.10612612253788486, 0.9676860297815826, 0.22441849154285975, 0.5834880780114353, 0.17953479323428778, 0.9228408890881166, 0.9309798256131209, 0.9603387708904328, 0.8961753767826608, 0.8463656964528437, 0.9448133881790806, 0.9011754532981259, 0.03208652142036352, 0.08021630355090881, 0.673816949827634, 0.19251912852218114, 0.01604326071018176, 0.9539247292102707, 0.04062500386312852, 0.9140625869203917, 0.04062500386312852, 0.06015205044598256, 0.12030410089196512, 0.8120526810207646, 0.9852377676482658, 0.9791668922758846, 0.9539060692248489, 0.7818089454813272, 0.15636178909626544, 0.03909044727406636, 0.8849214257630398, 0.06807087890484921, 0.8961719791033209, 0.3376554545187357, 0.011643291535128816, 0.011643291535128816, 0.6403810344320849, 0.8123706174167408, 0.2615533289817387, 0.7243015264109688, 0.8494151078016015, 0.8870374649499437, 0.9388445994510356, 0.9539181510750413, 0.9928816564215738, 0.9234181981004256, 0.3814528484936792, 0.22251416162131288, 0.15893868687236634, 0.03178773737447327, 0.22251416162131288, 0.93760587904124, 0.9710195510787487, 0.6666799523868808, 0.18182180519642205, 0.060607268398807354, 0.060607268398807354, 0.9605178354834374, 0.9489983644668228, 0.777591131647337, 0.9488530440275662, 0.9124479859952628, 0.07018830661502021, 0.9405357897963885, 0.8652587415843737, 0.19965649754763076, 0.19965649754763076, 0.09317303218889435, 0.0266208663396841, 0.0266208663396841, 0.4525547277746297, 0.9545403487460837, 0.9539596604912224, 0.6970865237724431, 0.10724408058037586, 0.10724408058037586, 0.05362204029018793, 0.9141775838832615, 0.8999918239225896, 0.759585802077309, 0.0670222766538802, 0.0670222766538802, 0.022340758884626735, 0.04468151776925347, 0.022340758884626735, 0.9222385553228418, 0.9138763421163558, 0.9543878447347326, 0.8988070298077132, 0.044940351490385666, 0.09399713993871864, 0.6955788355465179, 0.206793707865181, 0.057606335101657136, 0.9217013616265142, 0.9664849742507172, 0.9507796402466153, 0.06550014781438368, 0.9170020694013715, 0.7694933378223792, 0.1923733344555948, 0.0480933336138987, 0.94255985205819, 0.9268595591864972, 0.9538885485078876, 0.8384871575939836, 0.1145513376750806, 0.24819456496267464, 0.1145513376750806, 0.5154810195378627, 0.06003259441971528, 0.9004889162957291, 0.011954366223405776, 0.16736112712768086, 0.7889881707447812, 0.011954366223405776, 0.02390873244681155, 0.9639892286975958, 0.9375824596501947, 0.9850182244108286, 0.9703981824819884, 0.32655284668185697, 0.012094549877105813, 0.6531056933637139, 0.3347176385790203, 0.6024917494422366, 0.04462901847720271, 0.8873438713696321, 0.04929688174275734, 0.8422377561630765, 0.07720058424366112, 0.9264070109239334, 0.5309109063042096, 0.0884851510507016, 0.0884851510507016, 0.22121287762675396, 0.0442425755253508, 0.9738985610138174, 0.9913052281714713, 0.9668417008954666, 0.8487460763271936, 0.9244866766984199, 0.9274541420860511, 0.06253324282424111, 0.9379986423636166, 0.9389931136584797, 0.6035451014557949, 0.054867736495981353, 0.16460320948794407, 0.10973547299196271, 0.8418296178719182, 0.8638517716557871, 0.842987947112906, 0.8174746062304252, 0.8703220488277633, 0.058021469921850886, 0.5902410027748968, 0.21080035813389172, 0.042160071626778345, 0.08432014325355669, 0.946471645551768, 0.945860051090946, 0.8788193794933635, 0.9498872711040808, 0.9538450991683884, 0.9179077333891104, 0.04370989206614811, 0.861785737683164, 0.8368842278215168, 0.14768545196850297, 0.9562994348110709, 0.11195714111829753, 0.876997605426664, 0.9918599379750187, 0.9550826443597649, 0.9539447712907462, 0.9559711812667123, 0.9459381913580499, 0.7937689957433698, 0.09922112446792122, 0.2587276616195459, 0.0808523942561081, 0.03234095770244324, 0.6306486751976432, 0.9914647617961161, 0.9407329780086223, 0.9215286233887713, 0.8176445759059846, 0.9088443748378675, 0.8074443850746816, 0.8601198844315838, 0.09556887604795375, 0.20159399420004465, 0.7391779787334971, 0.3185861726474557, 0.6371723452949114, 0.8755412489939022, 0.06734932684568479, 0.9263769801602637, 0.9777895561120382, 0.9471312029311311, 0.9538022610084385, 0.37423599251618234, 0.062372665419363725, 0.5613539887742734, 0.976639654853356, 0.990950059099946, 0.9231333749442915, 0.06593809821030654, 0.9055247227382747, 0.952367648413891, 0.9580736713784612, 0.9538046508171582, 0.9538666633090394, 0.7634918289650003, 0.20555549241365392, 0.9281865853281595, 0.8537988165060959, 0.053362426031630994, 0.053362426031630994], \"Term\": [\"adequate\", \"adequate power\", \"afghanistan\", \"afghanistan\", \"air\", \"air\", \"air force\", \"alert\", \"alert\", \"ali\", \"allah\", \"allah\", \"allah\", \"allah\", \"apparently\", \"apparently negotiating\", \"area\", \"army\", \"army\", \"army\", \"atomic\", \"atomic power\", \"avoid\", \"avoid tripping\", \"backup\", \"bank\", \"bank\", \"bbc\", \"bhutto\", \"bin\", \"bin laden\", \"black\", \"black\", \"black pakistan\", \"blackout\", \"blackout\", \"blackout\", \"blackout\", \"blackout\", \"blackout\", \"blackout electricity\", \"blackout electricity\", \"blackout electricity\", \"blackout electricitybreakdown\", \"blackout entire\", \"blackout massive\", \"blackout pakistan\", \"blackout pakistan\", \"blackout pakistan\", \"blackout pakistan\", \"blackout pakistan\", \"blackout reported\", \"blackoutpakistan\", \"blackoutpakistan\", \"blackoutpakistan\", \"blackoutpakistan\", \"blackoutpakistan\", \"box\", \"break\", \"break\", \"break pakistan\", \"breakdown\", \"breakdown\", \"breakdown\", \"breakdown\", \"breakdown\", \"breakdown country\", \"breakdown country\", \"breakdown entire\", \"breakdown national\", \"breakdown pakistan\", \"breakdown pakistan\", \"breakdown plunge\", \"breakdown plunge\", \"breaking\", \"breaking\", \"breaking\", \"breaking\", \"breaking power\", \"came power\", \"china\", \"china\", \"china\", \"city\", \"city\", \"city\", \"city\", \"city pakistan\", \"city pakistan\", \"city pakistan\", \"city plunge\", \"coal\", \"come\", \"come\", \"come\", \"complete\", \"complete\", \"complete power\", \"constitution\", \"country\", \"country\", \"country\", \"country\", \"country\", \"country\", \"country darkness\", \"country darkness\", \"currently\", \"currently ventilator\", \"cut\", \"cut pakistan\", \"cut plunge\", \"cyber\", \"darkness\", \"darkness\", \"darkness\", \"darkness official\", \"day\", \"day\", \"day\", \"day\", \"democracy\", \"developing\", \"different\", \"earth\", \"earth undo\", \"electricity\", \"electricity\", \"electricity\", \"electricity\", \"electricity\", \"electricity\", \"electricity pakistan\", \"electricity pakistan\", \"electricity pakistan\", \"electricitybreakdown\", \"electricitybreakdown\", \"endorsing\", \"endorsing trump\", \"energized\", \"energized phase\", \"entire\", \"entire\", \"entire\", \"entire pakistan\", \"entire pakistan\", \"experience\", \"experience\", \"experience massive\", \"failure\", \"failure\", \"failure\", \"failure\", \"failure plunge\", \"fault\", \"fault\", \"fault\", \"following\", \"following\", \"following breakdown\", \"following tripping\", \"force red\", \"gave\", \"going\", \"going\", \"going\", \"going\", \"going\", \"going kill\", \"gone\", \"government\", \"government\", \"government\", \"grid\", \"grid\", \"grid\", \"grid breakdown\", \"grid energized\", \"grid failure\", \"guy ready\", \"happening\", \"hit\", \"hit\", \"hit\", \"hope\", \"hope\", \"hope\", \"hope hospital\", \"hospital\", \"hospital pakistan\", \"imran\", \"imran\", \"imran khan\", \"imran khan\", \"imrankhanpti\", \"imrankhanpti\", \"imrankhanpti\", \"india\", \"india\", \"india\", \"india\", \"india\", \"india power\", \"iraq\", \"iraq afghanistan\", \"iraq bin\", \"islamabad\", \"islamabad\", \"islamabad\", \"islamabad\", \"justice\", \"karachi\", \"karachi\", \"karachi\", \"karachi\", \"karachi lahore\", \"khan\", \"khan\", \"kill\", \"kill box\", \"know\", \"know\", \"laden\", \"laden saudi\", \"lahore\", \"leader\", \"light\", \"light\", \"like\", \"like\", \"like\", \"line\", \"line\", \"line\", \"look like\", \"loses\", \"loses power\", \"major\", \"major\", \"major\", \"major nationwide\", \"major power\", \"major power\", \"major power\", \"make\", \"make\", \"make\", \"massive\", \"massive\", \"massive\", \"massive blackout\", \"massive power\", \"massive power\", \"massive power\", \"mention\", \"money\", \"muhammad\", \"multiple\", \"multiple city\", \"muslim\", \"nation wide\", \"national\", \"national\", \"national\", \"national\", \"national\", \"national pakistan\", \"national power\", \"national power\", \"national power\", \"nationwide\", \"nationwide\", \"nationwide\", \"nationwide power\", \"negotiating\", \"negotiating endorsing\", \"nuclear\", \"nuclear\", \"nuclear\", \"nuclear power\", \"nuclear power\", \"omarayubkhan\", \"outage\", \"outage\", \"outage\", \"outage\", \"outage hit\", \"outage pakistan\", \"outage pakistan\", \"outage plunge\", \"outrage\", \"owned\", \"owned upto\", \"pakistan adequate\", \"pakistan air\", \"pakistan blackout\", \"pakistan blackout\", \"pakistan blackout\", \"pakistan blackout\", \"pakistan blackout\", \"pakistan city\", \"pakistan darkness\", \"pakistan electricity\", \"pakistan electricity\", \"pakistan electricity\", \"pakistan electricity\", \"pakistan experience\", \"pakistan loses\", \"pakistan lost\", \"pakistan medium\", \"pakistan national\", \"pakistan national\", \"pakistan nationwide\", \"pakistan nuclear\", \"pakistan power\", \"pakistan power\", \"pakistan power\", \"pakistan power\", \"pakistan power\", \"pakistan power\", \"pakistan super\", \"pakistan taliban\", \"pakistani\", \"pakistani\", \"pakistani\", \"pakistani\", \"party\", \"patient\", \"people\", \"people\", \"people\", \"people\", \"people\", \"people\", \"people pakistan\", \"peshawar\", \"phase avoid\", \"plant\", \"plant\", \"plunge\", \"plunge\", \"plunge\", \"plunge country\", \"plunge country\", \"plunge pakistan\", \"plunged\", \"plunged darkness\", \"plunged darkness\", \"pm\", \"pm\", \"pm\", \"political\", \"politics\", \"power apparently\", \"power bank\", \"power blackout\", \"power blackout\", \"power blackout\", \"power blackout\", \"power break\", \"power break\", \"power breakdown\", \"power breakdown\", \"power breakdown\", \"power breakdown\", \"power breakdown\", \"power cut\", \"power earth\", \"power grid\", \"power massive\", \"power outage\", \"power outage\", \"power outage\", \"power pakistan\", \"power pakistan\", \"power pakistan\", \"power plant\", \"power plant\", \"power sector\", \"power supply\", \"power supply\", \"poweroutage\", \"poweroutage\", \"poweroutage\", \"poweroutage\", \"poweroutage\", \"pray\", \"pray currently\", \"pti\", \"punjab\", \"quetta\", \"rawalpindi\", \"red\", \"red\", \"red alert\", \"report\", \"report\", \"report\", \"report\", \"report major\", \"reported multiple\", \"resolution\", \"resolution grid\", \"restored\", \"restored\", \"right\", \"right\", \"right\", \"right\", \"rn\", \"saudi\", \"sector\", \"slowly\", \"slowly surely\", \"state\", \"state\", \"station\", \"super\", \"super\", \"super power\", \"supply\", \"supply\", \"supply time\", \"surely\", \"surely iraq\", \"taliban\", \"taliban power\", \"tarbela\", \"tarbela\", \"time\", \"time\", \"time\", \"time\", \"time blackout\", \"transfer power\", \"transmission line\", \"transmission resolution\", \"trending\", \"trending pakistan\", \"tripped\", \"tripped\", \"tripping\", \"tripping\", \"trump\", \"trump\", \"turkey\", \"turkey\", \"undo\", \"undo pakistan\", \"upto\", \"upto mention\", \"vatican\", \"vatican\", \"vatican\", \"ventilator\", \"ventilator hope\", \"want\", \"want\", \"way\", \"wide\", \"wide power\", \"wmd\", \"wmd iraq\", \"world\", \"world\", \"world news\", \"year\", \"year\", \"year\"]}, \"R\": 30, \"lambda.step\": 0.01, \"plot.opts\": {\"xlab\": \"PC1\", \"ylab\": \"PC2\"}, \"topic.order\": [1, 3, 6, 4, 2, 5]};\n",
       "\n",
       "function LDAvis_load_lib(url, callback){\n",
       "  var s = document.createElement('script');\n",
       "  s.src = url;\n",
       "  s.async = true;\n",
       "  s.onreadystatechange = s.onload = callback;\n",
       "  s.onerror = function(){console.warn(\"failed to load library \" + url);};\n",
       "  document.getElementsByTagName(\"head\")[0].appendChild(s);\n",
       "}\n",
       "\n",
       "if(typeof(LDAvis) !== \"undefined\"){\n",
       "   // already loaded: just create the visualization\n",
       "   !function(LDAvis){\n",
       "       new LDAvis(\"#\" + \"ldavis_el167901405688611666725435038248\", ldavis_el167901405688611666725435038248_data);\n",
       "   }(LDAvis);\n",
       "}else if(typeof define === \"function\" && define.amd){\n",
       "   // require.js is available: use it to load d3/LDAvis\n",
       "   require.config({paths: {d3: \"https://cdnjs.cloudflare.com/ajax/libs/d3/3.5.5/d3.min\"}});\n",
       "   require([\"d3\"], function(d3){\n",
       "      window.d3 = d3;\n",
       "      LDAvis_load_lib(\"https://cdn.rawgit.com/bmabey/pyLDAvis/files/ldavis.v1.0.0.js\", function(){\n",
       "        new LDAvis(\"#\" + \"ldavis_el167901405688611666725435038248\", ldavis_el167901405688611666725435038248_data);\n",
       "      });\n",
       "    });\n",
       "}else{\n",
       "    // require.js not available: dynamically load d3 & LDAvis\n",
       "    LDAvis_load_lib(\"https://cdnjs.cloudflare.com/ajax/libs/d3/3.5.5/d3.min.js\", function(){\n",
       "         LDAvis_load_lib(\"https://cdn.rawgit.com/bmabey/pyLDAvis/files/ldavis.v1.0.0.js\", function(){\n",
       "                 new LDAvis(\"#\" + \"ldavis_el167901405688611666725435038248\", ldavis_el167901405688611666725435038248_data);\n",
       "            })\n",
       "         });\n",
       "}\n",
       "</script>"
      ],
      "text/plain": [
       "PreparedData(topic_coordinates=               x          y  topics  cluster       Freq\n",
       "topic                                                  \n",
       "0      1.465019  -47.625065  1       1        31.518688\n",
       "2      54.854797 -36.476795  2       1        17.781505\n",
       "5      32.212929 -61.444572  3       1        15.703940\n",
       "3      5.111096  -14.110332  4       1        12.149836\n",
       "1      26.350170 -33.374702  5       1        11.848579\n",
       "4      38.109818 -7.222781   6       1        10.997452, topic_info=                 Term        Freq       Total Category  logprob  loglift\n",
       "204   breakdown        109.000000  109.000000  Default  30.0000  30.0000\n",
       "1156  outage           85.000000   85.000000   Default  29.0000  29.0000\n",
       "1399  power outage     82.000000   82.000000   Default  28.0000  28.0000\n",
       "734   hospital         49.000000   49.000000   Default  27.0000  27.0000\n",
       "1366  power breakdown  83.000000   83.000000   Default  26.0000  26.0000\n",
       "...               ...        ...         ...       ...      ...      ...\n",
       "717   hit              9.431791    19.855001   Topic6  -5.1049   1.4631 \n",
       "351   country          15.074688   79.638835   Topic6  -4.6360   0.5430 \n",
       "1323  plunge           10.891186   53.193108   Topic6  -4.9611   0.6215 \n",
       "399   darkness         11.125784   69.913782   Topic6  -4.9397   0.3695 \n",
       "1908  vatican          8.694646    16.032664   Topic6  -5.1863   1.5956 \n",
       "\n",
       "[318 rows x 6 columns], token_table=      Topic      Freq            Term\n",
       "term                                 \n",
       "19    5      0.990306  adequate      \n",
       "20    5      0.990263  adequate power\n",
       "25    1      0.044413  afghanistan   \n",
       "25    4      0.932665  afghanistan   \n",
       "33    3      0.886494  air           \n",
       "...  ..           ...          ...   \n",
       "1966  3      0.205555  world         \n",
       "1968  3      0.928187  world news    \n",
       "1979  1      0.853799  year          \n",
       "1979  2      0.053362  year          \n",
       "1979  4      0.053362  year          \n",
       "\n",
       "[469 rows x 3 columns], R=30, lambda_step=0.01, plot_opts={'xlab': 'PC1', 'ylab': 'PC2'}, topic_order=[1, 3, 6, 4, 2, 5])"
      ]
     },
     "execution_count": 24,
     "metadata": {},
     "output_type": "execute_result"
    }
   ],
   "source": [
    "# visualization of LDA model \n",
    "import pyLDAvis.sklearn\n",
    "\n",
    "pyLDAvis.enable_notebook()\n",
    "panel = pyLDAvis.sklearn.prepare(lda_model, doc_term_matrix_1, tfidfconverter, mds='tsne')\n",
    "panel"
   ]
  },
  {
   "cell_type": "code",
   "execution_count": 25,
   "metadata": {},
   "outputs": [
    {
     "name": "stdout",
     "output_type": "stream",
     "text": [
      "Log likelihood:  -106826.77647033977\n",
      "Perplexity:  1913.6512668072046\n"
     ]
    }
   ],
   "source": [
    "# test LDA model\n",
    "\n",
    "# log likelihood (higher score is better)\n",
    "print(\"Log likelihood: \", lda_model.score(doc_term_matrix_1))\n",
    "\n",
    "\n",
    "# perplexity (lower score is better)\n",
    "print(\"Perplexity: \", lda_model.perplexity(doc_term_matrix_1))"
   ]
  },
  {
   "cell_type": "code",
   "execution_count": 26,
   "metadata": {},
   "outputs": [
    {
     "data": {
      "text/plain": [
       "GridSearchCV(estimator=LatentDirichletAllocation(),\n",
       "             param_grid={'learning_decay': [0.5, 0.7, 0.9],\n",
       "                         'n_components': [5, 8, 10, 12]})"
      ]
     },
     "execution_count": 26,
     "metadata": {},
     "output_type": "execute_result"
    }
   ],
   "source": [
    "# cross-validation to find best parameters for LDA model\n",
    "\n",
    "#import cross-validation tool\n",
    "from sklearn.model_selection import GridSearchCV\n",
    "\n",
    "# define search parameters\n",
    "search_params = {'n_components': [5, 8, 10, 12], 'learning_decay': [.5, .7, .9]}\n",
    "\n",
    "# initialize model for cross-validation\n",
    "lda = LatentDirichletAllocation()\n",
    "\n",
    "# initialize grid search class \n",
    "model = GridSearchCV(lda, param_grid=search_params)\n",
    "\n",
    "# run grid search \n",
    "model.fit(doc_term_matrix_1)"
   ]
  },
  {
   "cell_type": "code",
   "execution_count": 27,
   "metadata": {},
   "outputs": [
    {
     "name": "stdout",
     "output_type": "stream",
     "text": [
      "Parameters for best model:  {'learning_decay': 0.7, 'n_components': 5}\n",
      "Log likelihood score of best model:  -28174.578554428903\n",
      "Perplexity score of best model:  1915.371969472813\n"
     ]
    }
   ],
   "source": [
    "# what is best model? \n",
    "best_lda_model = model.best_estimator_\n",
    "\n",
    "# print parameters for best model\n",
    "print(\"Parameters for best model: \", model.best_params_)\n",
    "\n",
    "# print log likelihood score\n",
    "print(\"Log likelihood score of best model: \", model.best_score_)\n",
    "\n",
    "# print perplexity score\n",
    "print(\"Perplexity score of best model: \", best_lda_model.perplexity(doc_term_matrix_1))"
   ]
  },
  {
   "cell_type": "code",
   "execution_count": 28,
   "metadata": {},
   "outputs": [],
   "source": [
    "# run LDA model with best parameters\n",
    "\n",
    "#import LDA tool \n",
    "from sklearn.decomposition import LatentDirichletAllocation\n",
    "\n",
    "lda_model_2 = LatentDirichletAllocation(n_components = 5, max_iter=10, learning_method='online', learning_decay=.7)\n",
    "lda_2 = lda_model_2.fit_transform(doc_term_matrix_1)"
   ]
  },
  {
   "cell_type": "code",
   "execution_count": 29,
   "metadata": {},
   "outputs": [
    {
     "name": "stdout",
     "output_type": "stream",
     "text": [
      "LDA Model 2:\n",
      "Topic 0:\n",
      "[('darkness', 54.71191461789629), ('power grid', 51.99679257245476), ('grid', 50.56938466508646), ('plunge', 45.69171521418555), ('breakdown', 45.595335967632636), ('entire', 45.28965846671042), ('national power', 42.06377833030134), ('blackout', 41.72521547967076), ('national', 40.88482485476535), ('pakistan darkness', 37.76285820530724)]\n",
      "Topic 1:\n",
      "[('india', 67.33468128432084), ('people', 51.38813855555734), ('country', 43.29386644626801), ('like', 35.85362657893056), ('world', 35.70393371543479), ('china', 35.496074509332004), ('pakistan power', 30.106198582988124), ('power pakistan', 30.02539394522121), ('army', 29.803569603847098), ('state', 29.61051496075051)]\n",
      "Topic 2:\n",
      "[('outage', 35.57835231998211), ('power outage', 34.25711574616273), ('outage pakistan', 33.022291817200696), ('blackout', 32.77540423742288), ('power pakistan', 20.682672903458844), ('break', 18.94095408107506), ('massive', 17.36109789592935), ('electricity', 16.098091256348766), ('power break', 14.610692447059714), ('hai', 14.336773616364939)]\n",
      "Topic 3:\n",
      "[('hope', 49.42063407132101), ('power supply', 48.8243638773475), ('supply', 46.35809879666343), ('hospital', 45.907376685483776), ('pray', 42.917767037126104), ('ventilator', 41.501342130523874), ('currently', 40.87661799626575), ('hope hospital', 40.50646525514702), ('hospital pakistan', 40.179226136475336), ('adequate power', 39.05069764526707)]\n",
      "Topic 4:\n",
      "[('breakdown pakistan', 55.97039954477108), ('power breakdown', 55.61556972039874), ('breakdown', 53.752312707441035), ('major', 50.70108212290987), ('blackout', 45.98409036229957), ('outage', 44.209880567576405), ('power outage', 42.37819843055021), ('city', 40.653028052983274), ('electricity', 37.75727122938275), ('nationwide', 32.94724599925255)]\n",
      "====================\n"
     ]
    }
   ],
   "source": [
    "# top topics of 2nd LDA model\n",
    "\n",
    "def print_topics(model, vectorizer, top_n=10):\n",
    "    for idx, topic in enumerate(model.components_):\n",
    "        print(\"Topic %d:\" % (idx))\n",
    "        print([(vectorizer.get_feature_names()[i], topic[i])\n",
    "                        for i in topic.argsort()[:-top_n - 1:-1]])\n",
    " \n",
    "print(\"LDA Model 2:\")\n",
    "print_topics(lda_model_2, tfidfconverter )\n",
    "print(\"=\" * 20)"
   ]
  },
  {
   "cell_type": "code",
   "execution_count": null,
   "metadata": {},
   "outputs": [],
   "source": []
  }
 ],
 "metadata": {
  "kernelspec": {
   "display_name": "Python 3",
   "language": "python",
   "name": "python3"
  },
  "language_info": {
   "codemirror_mode": {
    "name": "ipython",
    "version": 3
   },
   "file_extension": ".py",
   "mimetype": "text/x-python",
   "name": "python",
   "nbconvert_exporter": "python",
   "pygments_lexer": "ipython3",
   "version": "3.7.7"
  }
 },
 "nbformat": 4,
 "nbformat_minor": 4
}
