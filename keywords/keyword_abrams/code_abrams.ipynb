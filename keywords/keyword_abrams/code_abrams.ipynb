{
 "cells": [
  {
   "cell_type": "code",
   "execution_count": 1,
   "metadata": {},
   "outputs": [],
   "source": [
    "import pandas as pd\n",
    "import numpy as np\n"
   ]
  },
  {
   "cell_type": "code",
   "execution_count": 2,
   "metadata": {},
   "outputs": [],
   "source": [
    "df = pd.read_csv('data/abrams.csv')"
   ]
  },
  {
   "cell_type": "code",
   "execution_count": 3,
   "metadata": {},
   "outputs": [
    {
     "name": "stdout",
     "output_type": "stream",
     "text": [
      "<class 'pandas.core.frame.DataFrame'>\n",
      "RangeIndex: 6824 entries, 0 to 6823\n",
      "Data columns (total 37 columns):\n",
      " #   Column                        Non-Null Count  Dtype  \n",
      "---  ------                        --------------  -----  \n",
      " 0   id                            6824 non-null   int64  \n",
      " 1   tweet_url                     6824 non-null   object \n",
      " 2   created_at                    6824 non-null   object \n",
      " 3   parsed_created_at             6824 non-null   object \n",
      " 4   user_screen_name              6824 non-null   object \n",
      " 5   text                          6824 non-null   object \n",
      " 6   tweet_type                    6824 non-null   object \n",
      " 7   coordinates                   1 non-null      object \n",
      " 8   hashtags                      261 non-null    object \n",
      " 9   media                         570 non-null    object \n",
      " 10  urls                          626 non-null    object \n",
      " 11  favorite_count                6824 non-null   int64  \n",
      " 12  in_reply_to_screen_name       470 non-null    object \n",
      " 13  in_reply_to_status_id         444 non-null    float64\n",
      " 14  in_reply_to_user_id           470 non-null    float64\n",
      " 15  lang                          6824 non-null   object \n",
      " 16  place                         43 non-null     object \n",
      " 17  possibly_sensitive            837 non-null    object \n",
      " 18  retweet_count                 6824 non-null   int64  \n",
      " 19  retweet_or_quote_id           5996 non-null   float64\n",
      " 20  retweet_or_quote_screen_name  5996 non-null   object \n",
      " 21  retweet_or_quote_user_id      5996 non-null   float64\n",
      " 22  source                        6822 non-null   object \n",
      " 23  user_id                       6824 non-null   int64  \n",
      " 24  user_created_at               6824 non-null   object \n",
      " 25  user_default_profile_image    6824 non-null   bool   \n",
      " 26  user_description              5795 non-null   object \n",
      " 27  user_favourites_count         6824 non-null   int64  \n",
      " 28  user_followers_count          6824 non-null   int64  \n",
      " 29  user_friends_count            6824 non-null   int64  \n",
      " 30  user_listed_count             6824 non-null   int64  \n",
      " 31  user_location                 4662 non-null   object \n",
      " 32  user_name                     6824 non-null   object \n",
      " 33  user_statuses_count           6824 non-null   int64  \n",
      " 34  user_time_zone                0 non-null      float64\n",
      " 35  user_urls                     0 non-null      float64\n",
      " 36  user_verified                 6824 non-null   bool   \n",
      "dtypes: bool(2), float64(6), int64(9), object(20)\n",
      "memory usage: 1.8+ MB\n"
     ]
    }
   ],
   "source": [
    "df.info()"
   ]
  },
  {
   "cell_type": "code",
   "execution_count": 4,
   "metadata": {},
   "outputs": [
    {
     "name": "stdout",
     "output_type": "stream",
     "text": [
      "23 ['en' 'und' 'es' 'fr' 'pt' 'ca' 'sv' 'ro' 'cy' 'de' 'zh' 'no' 'in' 'tl'\n",
      " 'iw' 'ht' 'da' 'cs' 'ar' 'fi' 'tr' 'pl' 'it']\n"
     ]
    }
   ],
   "source": [
    "# count number of different languages in data set\n",
    "count_lang = df['lang'].unique()\n",
    "print(len(count_lang), count_lang)"
   ]
  },
  {
   "cell_type": "code",
   "execution_count": 5,
   "metadata": {},
   "outputs": [
    {
     "data": {
      "text/plain": [
       "(6659, 37)"
      ]
     },
     "execution_count": 5,
     "metadata": {},
     "output_type": "execute_result"
    }
   ],
   "source": [
    "# tweets are in 23 different languages. \n",
    "# I'll be working only with tweets in English\n",
    "# so, I'll drop tweets in all other languages\n",
    "df = df[df.lang == 'en']\n",
    "df.shape"
   ]
  },
  {
   "cell_type": "code",
   "execution_count": 6,
   "metadata": {},
   "outputs": [],
   "source": [
    "# drop unnecessary columns \n",
    "df = df.drop(['tweet_url', 'created_at', 'media', 'urls','in_reply_to_screen_name',\n",
    "       'in_reply_to_status_id', 'in_reply_to_user_id', 'retweet_or_quote_id',\n",
    "       'retweet_or_quote_screen_name', 'retweet_or_quote_user_id', 'source',\n",
    "       'user_created_at', 'user_name', 'user_verified', 'user_friends_count', 'user_listed_count',\n",
    "       'user_statuses_count', 'user_default_profile_image', 'user_description',\n",
    "       'user_favourites_count', 'user_followers_count', 'coordinates', 'lang', 'user_location', 'user_time_zone', 'user_urls', 'place'], axis=1)"
   ]
  },
  {
   "cell_type": "code",
   "execution_count": 7,
   "metadata": {},
   "outputs": [],
   "source": [
    "text = df['text'] "
   ]
  },
  {
   "cell_type": "code",
   "execution_count": 8,
   "metadata": {},
   "outputs": [],
   "source": [
    "# tokenize, remove stopwords, remove urls, lowercase, remove punctuation, remove numbers\n",
    "\n",
    "import string\n",
    "import re\n",
    "\n",
    "import nltk\n",
    "from nltk.corpus import stopwords\n",
    "from nltk.tokenize import TweetTokenizer\n",
    "from nltk import pos_tag\n",
    "\n",
    "stop = stopwords.words('english')\n",
    "\n",
    "punc = list(set(string.punctuation))\n",
    "\n",
    "def tokenizer(text):\n",
    "    tokenizer = TweetTokenizer()\n",
    "    tokens = tokenizer.tokenize(text)\n",
    "    return tokens\n",
    "\n",
    "def remove_url(text):\n",
    "    url = re.compile(r\"https?://\\S+|www\\.\\S+\")\n",
    "    return url.sub(r'', text)\n",
    "\n",
    "def process_text(text):\n",
    "    text = remove_url(text)\n",
    "    text = tokenizer(text)\n",
    "    text = [word.lower() for word in text]\n",
    "    text = [re.sub('[0-9]+', '', word) for word in text]\n",
    "    text = [word for word in text if word not in punc]\n",
    "    text = [word for word in text if word not in stop]\n",
    "    text = [each for each in text if len(each) > 1]\n",
    "    text = [word for word in text if ' ' not in word]\n",
    "     \n",
    "    return text"
   ]
  },
  {
   "cell_type": "code",
   "execution_count": 9,
   "metadata": {},
   "outputs": [],
   "source": [
    "df['processed_text'] = df['text'].apply(process_text)"
   ]
  },
  {
   "cell_type": "code",
   "execution_count": 10,
   "metadata": {},
   "outputs": [
    {
     "name": "stderr",
     "output_type": "stream",
     "text": [
      "/opt/anaconda3/lib/python3.7/site-packages/ipykernel_launcher.py:1: FutureWarning: Passing a negative integer is deprecated in version 1.0 and will not be supported in future version. Instead, use None to not limit the column width.\n",
      "  \"\"\"Entry point for launching an IPython kernel.\n"
     ]
    },
    {
     "data": {
      "text/plain": [
       "0     [stacey, abrams, brags, allowing, fake, voters, signature, verification]                                                                                                                                                   \n",
       "1     [stacey, abrams, damn, thing]                                                                                                                                                                                              \n",
       "2     [house, cards, shit, republicans, stole, election, abrams, abrams, plotted, took, washington]                                                                                                                              \n",
       "3     [actually, happens, actually, win, discussion, stacey, abrams, saved, america]                                                                                                                                             \n",
       "4     [chuck, schumer, stacey, abrams, years, team, many, women's, groups, black, women's, groups, worked, worked, worked, change, georgia, stacey, would, first, tell, alone, huge, thank, many, organizations]                 \n",
       "5     [stacey, abrams, spent, decade, building, democratic, infrastructure, georgia, jon, ossoff, rev, raphael, warnock, look, flip, georgia, two, senate, seats, many, see, person, responsible, shifting, political, landscape]\n",
       "6     [stacey, abrams, tweet]                                                                                                                                                                                                    \n",
       "7     [@kirkacevedo, passed, ;)]                                                                                                                                                                                                 \n",
       "8     [::, next, time, tempted, think, one, person, can't, make, difference, want, remember, one, name, stacey, abrams]                                                                                                          \n",
       "9     [stacey, abrams, back, carrying, democracy]                                                                                                                                                                                \n",
       "10    [get, power, ask, get, power, take, stacey, abrams, #garunnoff, #democrats, #magaiscancelled]                                                                                                                              \n",
       "11    [amazing, look, back, @staceyabrams, built, african-americans, eligible, vote, georgia, remained, unregistered, stacey, abrams, ran, governor, set, shape, new, electorate, state]                                         \n",
       "12    [stacey, abrams, walking, around, georgia, today]                                                                                                                                                                          \n",
       "13    [good, argument, made, stacey, abrams, one, consequential, women, us, history]                                                                                                                                             \n",
       "14    [thats, play, long, game, stacey, abrams, love, thank, taking, notes]                                                                                                                                                      \n",
       "15    [lesson, stacey, abrams, needs, run, everything, need, actually, find, abrams, every, red, state, give, resources, fucking, listen]                                                                                        \n",
       "16    [let, mince, words, happened, black, women, saved, country, ..., time, right, stacy, abrams, got, dems, georgia, twice, time, right]                                                                                       \n",
       "17    [national, holiday, honor, ms, abrams]                                                                                                                                                                                     \n",
       "18    [give, stacey, abrams, fair, fight, new, georgia, project, every, single, organizer, made, possible, credit, done, georgia, remarkable]                                                                                    \n",
       "19    [stacey, abrams, tweet]                                                                                                                                                                                                    \n",
       "Name: processed_text, dtype: object"
      ]
     },
     "execution_count": 10,
     "metadata": {},
     "output_type": "execute_result"
    }
   ],
   "source": [
    "pd.set_option('display.max_colwidth', -1)\n",
    "df['processed_text'][:20]"
   ]
  },
  {
   "cell_type": "code",
   "execution_count": 11,
   "metadata": {},
   "outputs": [],
   "source": [
    "ready_for_pos = df['processed_text']"
   ]
  },
  {
   "cell_type": "code",
   "execution_count": 12,
   "metadata": {},
   "outputs": [],
   "source": [
    "# part-of-speech tagging \n",
    "def pos_tagging(text):\n",
    "    pos_tag = [pos_tag(word) for word in ready_for_pos]\n",
    "\n",
    "df['pos_tagged'] = df.processed_text.apply(lambda x: pos_tag(x))"
   ]
  },
  {
   "cell_type": "code",
   "execution_count": 13,
   "metadata": {},
   "outputs": [],
   "source": [
    "pos_tagged = df['pos_tagged']"
   ]
  },
  {
   "cell_type": "code",
   "execution_count": 14,
   "metadata": {},
   "outputs": [],
   "source": [
    "# lemmatizing\n",
    "\n",
    "from nltk.stem import WordNetLemmatizer \n",
    "wordnet = WordNetLemmatizer() \n",
    "\n",
    "lemmatized = [[wordnet.lemmatize(word[0]) for word in words] for words in pos_tagged]"
   ]
  },
  {
   "cell_type": "code",
   "execution_count": 15,
   "metadata": {},
   "outputs": [],
   "source": [
    "df['lemmatized'] = lemmatized"
   ]
  },
  {
   "cell_type": "code",
   "execution_count": 16,
   "metadata": {},
   "outputs": [],
   "source": [
    "df['final_docs'] = df['lemmatized'].apply(lambda x: \" \".join(x))"
   ]
  },
  {
   "cell_type": "code",
   "execution_count": 17,
   "metadata": {},
   "outputs": [
    {
     "data": {
      "text/plain": [
       "3083    good morning @staceyabrams stacey abrams                                                                                                                                                               \n",
       "3084    guess good idea stacey abrams run senate instead helped biden two senator win revolutionized organizing put stake gop                                                                                  \n",
       "3085    give stacey abrams fair fight new georgia project every single organizer made possible credit done georgia remarkable                                                                                  \n",
       "3086    stacey abrams spent decade building democratic infrastructure georgia democrat move closer flipping georgia senate seat many see person responsible shifting political landscape                       \n",
       "3087    stacey abrams destroyed election integrity georgia brian kemp sat watched happen georgia blue state stolen state                                                                                       \n",
       "3088                                                                                                                                                                                                           \n",
       "3089    obama signed aca joe biden said big bleep ing deal yesterday's election ga stacey abrams may saved america's future                                                                                    \n",
       "3090    atheist fully onboard prayer                                                                                                                                                                           \n",
       "3091    pretty sure people progressive alberta paying attention stacey abrams spent last decade organizing georgia masterclass community based organizing done sure hell done #ableg                           \n",
       "3093    @jeffinbmore @vanjones abrams insisted race forever                                                                                                                                                    \n",
       "3094    good argument made stacey abrams one consequential woman u history                                                                                                                                     \n",
       "3095    stole election stacey abrams spun block em crazy                                                                                                                                                       \n",
       "3096    stacey abrams brag allowing fake voter signature verification                                                                                                                                          \n",
       "3097    bet day come president joseph biden bestows stacey abrams medal freedom bringing honor back                                                                                                            \n",
       "3098    know hate stacey abrams patron saint candle simultaneously also really want black catholic feel like get pas lol                                                                                       \n",
       "3099    stole election stacey abrams spun block em crazy                                                                                                                                                       \n",
       "3100    wanna take moment thank georgia coming thru america twice historic seeing georgia turn completely blue congrats senator warnock senator ossoff praise queen stacey abrams driving force behind movement\n",
       "3101    celebrate stacey abrams funding empowering grassroots organizer people color every state supporting candidate marginalized community advocating policy disrupt status quo                              \n",
       "3102    @staceyabrams congratulation many many blessing amazing path helped create thank tireless triumphant work m abrams god used lead u victory way go georgia ... y'all made fave color blue               \n",
       "3103    stacey abrams pull biden put charge everything vaccine rollout writing directing alternate game throne ending running major league baseball etc                                                        \n",
       "Name: final_docs, dtype: object"
      ]
     },
     "execution_count": 17,
     "metadata": {},
     "output_type": "execute_result"
    }
   ],
   "source": [
    "df['final_docs'][3000:3020]"
   ]
  },
  {
   "cell_type": "code",
   "execution_count": 18,
   "metadata": {},
   "outputs": [],
   "source": [
    "final_docs = df['final_docs']"
   ]
  },
  {
   "cell_type": "code",
   "execution_count": 19,
   "metadata": {},
   "outputs": [],
   "source": [
    "#create document term matrix with TFIDF\n",
    "\n",
    "from sklearn.feature_extraction.text import TfidfVectorizer\n",
    "# initial tuning of parameters\n",
    "#set max_features to 2000 (specifies the number of most frequently occurring words for which we want to create feature vectors)\n",
    "# set min_df to 5 (word must occur in at least 5 documents)\n",
    "# set max_df to 0.85 (word must not occur in more than 85 percent of the documents) \n",
    "\n",
    "tfidfconverter = TfidfVectorizer(max_features=2000, min_df=5, max_df=0.85, ngram_range=(1, 2), stop_words='english')  \n",
    "doc_term_matrix_1 = tfidfconverter.fit_transform(df['final_docs'].values.astype('U'))"
   ]
  },
  {
   "cell_type": "code",
   "execution_count": 20,
   "metadata": {},
   "outputs": [],
   "source": [
    "from sklearn.decomposition import NMF\n",
    "\n",
    "nmf_model = NMF(n_components=10)\n",
    "nmf_Z = nmf_model.fit_transform(doc_term_matrix_1)\n"
   ]
  },
  {
   "cell_type": "code",
   "execution_count": 21,
   "metadata": {},
   "outputs": [],
   "source": [
    "from sklearn.decomposition import LatentDirichletAllocation\n",
    "#  LDA model \n",
    "lda_model = LatentDirichletAllocation(n_components = 10, max_iter=10, learning_method='online')\n",
    "lda_Z = lda_model.fit_transform(doc_term_matrix_1)"
   ]
  },
  {
   "cell_type": "code",
   "execution_count": 22,
   "metadata": {},
   "outputs": [
    {
     "name": "stdout",
     "output_type": "stream",
     "text": [
      "LDA Model:\n",
      "Topic 0:\n",
      "[('president', 31.99579936668867), ('mcconnell', 31.31803817465682), ('biden', 27.569885149012975), ('mitch mcconnell', 27.452868502004083), ('mitch', 26.77208849354789), ('american', 24.375810467677073), ('america', 22.14469200099454), ('power', 21.894561031410518), ('fact', 20.734354662031322), ('medal', 19.553887173266823)]\n",
      "Topic 1:\n",
      "[('stacey', 136.58723361525503), ('stacey abrams', 135.7136584841917), ('tweet', 125.5378676184316), ('carrying', 122.02203094684948), ('abrams tweet', 121.46089611237687), ('carrying democracy', 121.05831502880673), ('abrams carrying', 121.05831496535741), ('democracy', 104.42116132059934), ('absolutely', 36.64458886360368), ('day', 36.05101868999824)]\n",
      "Topic 2:\n",
      "[('state', 141.90970979301954), ('lead', 90.5573367919726), ('follow', 88.03895374755996), ('abrams state', 87.14168257983332), ('follow lead', 85.77980609457458), ('invest', 85.5181462702445), ('state stacey', 85.38181613985952), ('trust', 85.3647244065772), ('invest follow', 85.15675367977357), ('trust invest', 85.15675367843923)]\n",
      "Topic 3:\n",
      "[('election stacey', 90.66714686015378), ('block', 90.0218073931621), ('spun block', 89.881676797573), ('spun', 89.88167678504341), ('crazy', 88.82315414077567), ('em crazy', 88.39420396096241), ('abrams spun', 88.3942039580516), ('block em', 88.39420394598963), ('em', 88.39420394089919), ('stole', 86.77232072377197)]\n",
      "Topic 4:\n",
      "[('stacy', 81.64364517239274), ('stacy abrams', 79.99871132757146), ('state', 28.225508208582117), ('secretary', 25.474200291994052), ('secretary state', 25.25833499216149), ('praise', 22.181113504757082), ('problem', 22.000743715819784), ('stacey abrams', 18.323034875943314), ('stacey', 17.61823761274981), ('georgia republican', 17.476793455955814)]\n",
      "Topic 5:\n",
      "[('georgia', 56.13552110762659), ('stacey abrams', 36.24852099519088), ('kemp', 35.63744940525976), ('got', 34.54815674593854), ('stacey', 34.47654091427), ('democrat', 31.8806107918578), ('woman', 31.328583136953036), ('people', 31.178374750597403), ('stacy', 28.723121936738096), ('stacy abrams', 28.464661255746467)]\n",
      "Topic 6:\n",
      "[('woman', 66.88964093339602), ('stacey', 55.51733965442243), ('stacey abrams', 53.55281448081997), ('need', 43.32969432029462), ('want', 42.91470285118778), ('saving', 42.72007903122322), ('good', 38.65881312321175), ('history', 35.72465651130257), ('black', 34.258530351660355), ('staceyabrams', 32.782995930211534)]\n",
      "Topic 7:\n",
      "[('stacey', 51.623581591520534), ('like', 50.76412854988541), ('way', 49.39226409083457), ('make', 47.37104212570035), ('stacey abrams', 44.06323518225417), ('talk', 39.11753118915844), ('abrams way', 37.91177720175763), ('thank', 37.50993919927888), ('talk stacey', 37.13161999956784), ('sound', 35.90248983548481)]\n",
      "Topic 8:\n",
      "[('goddess', 43.382095039806515), ('abrams goddess', 43.07679475989039), ('stacey abrams', 26.434557392225038), ('stacey', 25.703051569433043), ('running', 24.266281272523653), ('game', 20.550196928028925), ('vaccine', 19.876098882611466), ('charge', 17.861311892685354), ('major', 17.61028651159932), ('pull', 17.366028517697632)]\n",
      "Topic 9:\n",
      "[('queen', 45.58605961499168), ('owe', 39.39234439628382), ('year', 31.06281359638765), ('world', 30.000974781954536), ('senate', 29.49637066563415), ('leader', 26.900874959695273), ('american', 26.813961126789568), ('thank', 25.330543399121964), ('republican', 25.09396253602225), ('party', 24.865593278430243)]\n",
      "====================\n",
      "NMF Model:\n",
      "Topic 0:\n",
      "[('state', 1.9575812483590433), ('invest', 1.25428708273544), ('listen trust', 1.2538793828430461), ('trust invest', 1.2538793828430461), ('invest follow', 1.2538793828430461), ('follow lead', 1.252939422265512), ('trust', 1.2525413786503807), ('state listen', 1.251873864147089), ('state stacey', 1.2501126498727588), ('abrams state', 1.2491225618239978)]\n",
      "Topic 1:\n",
      "[('spun block', 1.1637645222994772), ('spun', 1.1637645222994772), ('em crazy', 1.1634887526578281), ('block em', 1.1634887526578281), ('abrams spun', 1.1634887526578281), ('em', 1.1634887526578281), ('block', 1.1629535934618656), ('election stacey', 1.1597873437705561), ('crazy', 1.1558151438549402), ('stole election', 1.1148834528147773)]\n",
      "Topic 2:\n",
      "[('carrying', 2.0667405080916406), ('carrying democracy', 2.0625686138383004), ('abrams carrying', 2.0625686138383004), ('democracy', 1.7620146796046565), ('stacey abrams', 0.6431056385477741), ('stacey', 0.6170962897498176), ('saved', 0.018427331105597335), ('world', 0.016731576659883254), ('saved democracy', 0.014650757850514621), ('weird', 0.01178794884818166)]\n",
      "Topic 3:\n",
      "[('cat', 0.5735225245253155), ('abrams raphael', 0.572983503762151), ('happiness', 0.5724380315459746), ('cat happiness', 0.5724380315459746), ('tea cat', 0.5723761894469949), ('boiled', 0.5723761894469949), ('boiled egg', 0.5723761894469949), ('egg', 0.5719830923311333), ('uk', 0.5719640622692137), ('tea', 0.5717093468335898)]\n",
      "Topic 4:\n",
      "[('abrams tweet', 2.2744112677815087), ('tweet', 2.2297126985892284), ('stacey abrams', 0.7088403795044365), ('stacey', 0.6752292556744905), ('thats tweet', 0.031527079012675194), ('tweet pas', 0.031527079012675194), ('abrams thats', 0.031527079012675194), ('thats', 0.031312002653391645), ('pas', 0.025304947895126276), ('white', 0.010434153112341065)]\n",
      "Topic 5:\n",
      "[('georgia', 0.7556323468865028), ('senate seat', 0.6072820808697811), ('georgia senate', 0.6047080247970078), ('shifting', 0.6038324904454415), ('political landscape', 0.6038324904454415), ('infrastructure georgia', 0.6038324904454415), ('democratic infrastructure', 0.6038324904454415), ('person responsible', 0.6038324904454415), ('shifting political', 0.6038324904454415), ('responsible shifting', 0.6038324904454415)]\n",
      "Topic 6:\n",
      "[('stacey', 2.0280885100567425), ('stacey abrams', 1.9775486664397084), ('woman', 0.9359404081149894), ('work', 0.5263513720882267), ('black', 0.4943854084121321), ('black woman', 0.47316571154587345), ('thank', 0.44099620882796153), ('good', 0.41533817221090336), ('georgia', 0.40023361629359927), ('goddess', 0.39905342374135444)]\n",
      "Topic 7:\n",
      "[('talk stacey', 0.9081856318658404), ('like dad', 0.9049065368927988), ('asking talk', 0.9049065368927988), ('make sound', 0.9049065368927988), ('way make', 0.9049065368927988), ('dad', 0.9048710852325504), ('sound like', 0.9044707505802334), ('sound', 0.9031468943017872), ('asking', 0.9006802086133336), ('abrams way', 0.9005793303734442)]\n",
      "Topic 8:\n",
      "[('state', 0.5954928456201629), ('secretary state', 0.453981979585191), ('secretary', 0.45381079765246696), ('match', 0.4351299378591642), ('united', 0.43465229393276916), ('united state', 0.43465229393276916), ('president united', 0.43438118852364016), ('signature match', 0.4334126776619715), ('praise problem', 0.43329365338817305), ('eliminated', 0.43329365338817305)]\n",
      "Topic 9:\n",
      "[('american', 0.8081662530567624), ('mcconnell', 0.41790424582385605), ('mitch mcconnell', 0.4169469202768572), ('mitch', 0.40937861135150216), ('john ossoff', 0.39712847884158065), ('ossoff stacey', 0.3968677087193207), ('justice', 0.39012524445788704), ('american democracy', 0.3892165599864527), ('lose', 0.3887031024192305), ('warnock john', 0.3868251543359518)]\n",
      "====================\n"
     ]
    }
   ],
   "source": [
    "def print_topics(model, vectorizer, top_n=10):\n",
    "    for idx, topic in enumerate(model.components_):\n",
    "        print(\"Topic %d:\" % (idx))\n",
    "        print([(vectorizer.get_feature_names()[i], topic[i])\n",
    "                        for i in topic.argsort()[:-top_n - 1:-1]])\n",
    " \n",
    "print(\"LDA Model:\")\n",
    "print_topics(lda_model, tfidfconverter )\n",
    "print(\"=\" * 20)\n",
    " \n",
    "print(\"NMF Model:\")\n",
    "print_topics(nmf_model, tfidfconverter )\n",
    "print(\"=\" * 20)\n",
    " \n"
   ]
  },
  {
   "cell_type": "code",
   "execution_count": 23,
   "metadata": {},
   "outputs": [],
   "source": [
    "import pyLDAvis.sklearn"
   ]
  },
  {
   "cell_type": "code",
   "execution_count": 24,
   "metadata": {},
   "outputs": [
    {
     "data": {
      "text/html": [
       "\n",
       "<link rel=\"stylesheet\" type=\"text/css\" href=\"https://cdn.rawgit.com/bmabey/pyLDAvis/files/ldavis.v1.0.0.css\">\n",
       "\n",
       "\n",
       "<div id=\"ldavis_el44638140674977920208105276213\"></div>\n",
       "<script type=\"text/javascript\">\n",
       "\n",
       "var ldavis_el44638140674977920208105276213_data = {\"mdsDat\": {\"x\": [32.42095184326172, 0.648955225944519, 71.01968383789062, 3.7859814167022705, -42.666500091552734, -3.6216893196105957, -3.632401704788208, -36.58440017700195, 44.391380310058594, 40.235809326171875], \"y\": [8.115229606628418, 71.70709991455078, 9.971006393432617, 33.18513488769531, -9.22206974029541, -43.52651596069336, -4.171707630157471, 35.804412841796875, 50.61538314819336, -31.591665267944336], \"topics\": [1, 2, 3, 4, 5, 6, 7, 8, 9, 10], \"cluster\": [1, 1, 1, 1, 1, 1, 1, 1, 1, 1], \"Freq\": [12.639199529205344, 11.914760295034926, 11.156322049218495, 11.073139758903482, 10.421421070767426, 10.046528679960815, 9.315781943985032, 8.83065965790291, 8.08046571075304, 6.521721304268535]}, \"tinfo\": {\"Term\": [\"state\", \"carrying\", \"abrams tweet\", \"carrying democracy\", \"abrams carrying\", \"tweet\", \"lead\", \"follow\", \"abrams state\", \"stacy\", \"election stacey\", \"follow lead\", \"invest\", \"state stacey\", \"trust\", \"block\", \"invest follow\", \"trust invest\", \"listen trust\", \"spun\", \"spun block\", \"state listen\", \"stacy abrams\", \"abrams spun\", \"block em\", \"em crazy\", \"em\", \"crazy\", \"stole\", \"listen\", \"kemp\", \"liberal\", \"flipping\", \"georgia democrat\", \"flipping georgia\", \"closer\", \"closer flipping\", \"democrat closer\", \"harris\", \"politics\", \"job\", \"turned\", \"thank georgia\", \"saying\", \"brian kemp\", \"brian\", \"governor kemp\", \"abrams said\", \"weird\", \"abrams got\", \"georgia blue\", \"work georgia\", \"giving\", \"clearly\", \"effective\", \"stolen\", \"kemp stole\", \"white liberal\", \"hat\", \"got work\", \"got\", \"fuck\", \"blue\", \"seat\", \"said\", \"democrat\", \"person\", \"people\", \"georgia\", \"political\", \"woman\", \"stop\", \"work\", \"governor\", \"stacy\", \"stacy abrams\", \"democratic\", \"black\", \"decade\", \"stacey abrams\", \"black woman\", \"stacey\", \"thank\", \"state\", \"senate\", \"election\", \"abrams way\", \"talk stacey\", \"sound\", \"asking\", \"dad\", \"sound like\", \"asking talk\", \"like dad\", \"way make\", \"make sound\", \"mother\", \"mother abrams\", \"stacey mother\", \"effort\", \"suppression\", \"worked\", \"yes\", \"voter suppression\", \"lewis\", \"john lewis\", \"race\", \"candidate\", \"activist\", \"deserves\", \"women\", \"mf\", \"took\", \"piece\", \"love stacey\", \"beat\", \"talk\", \"love\", \"way\", \"thank stacey\", \"make\", \"like\", \"trump\", \"voter\", \"thank\", \"stacey\", \"stacey abrams\", \"georgia\", \"year\", \"carrying\", \"abrams tweet\", \"carrying democracy\", \"abrams carrying\", \"far\", \"warnock jon\", \"uk\", \"abrams raphael\", \"quite\", \"tea\", \"election georgia\", \"cat\", \"egg\", \"cat happiness\", \"happiness\", \"boiled\", \"tea cat\", \"boiled egg\", \"frankly\", \"far important\", \"cup tea\", \"white englishman\", \"uk election\", \"georgia absolutely\", \"absolutely quite\", \"cup\", \"frankly soft\", \"englishman uk\", \"englishman\", \"ossoff really\", \"tweet\", \"democracy\", \"absolutely\", \"stacey abrams\", \"stacey\", \"important\", \"day\", \"raphael\", \"raphael warnock\", \"warnock\", \"really\", \"election stacey\", \"block\", \"spun\", \"spun block\", \"abrams spun\", \"block em\", \"em crazy\", \"em\", \"crazy\", \"flip\", \"fight\", \"pundit\", \"flip georgia\", \"single\", \"abrams like\", \"project\", \"remarkable\", \"rev\", \"fair fight\", \"stacey flip\", \"rev raphael\", \"warnock look\", \"ossoff rev\", \"look flip\", \"georgia jon\", \"shit abrams\", \"new georgia\", \"flip shit\", \"abrams fair\", \"project single\", \"stole election\", \"stole\", \"fair\", \"election\", \"idea\", \"look\", \"stacey\", \"stacey abrams\", \"georgia\", \"senate\", \"democratic\", \"queen\", \"owe\", \"republican party\", \"motherfucking\", \"abrams cheated\", \"governor year\", \"knew\", \"torched\", \"american royalty\", \"cheated governor\", \"royalty\", \"motherfucking senate\", \"party flipped\", \"torched republican\", \"year torched\", \"senate american\", \"flipped motherfucking\", \"making\", \"house\", \"mobilization\", \"needed\", \"date\", \"lol\", \"followed\", \"world thank\", \"date time\", \"therealkripke\", \"stacey saved\", \"let know\", \"democracy real\", \"staceyabrams let\", \"flipped\", \"senator\", \"world\", \"lot\", \"real\", \"party\", \"leader\", \"year\", \"republican\", \"cheated\", \"time\", \"senate\", \"american\", \"saved\", \"governor\", \"thank\", \"stacey\", \"stacey abrams\", \"saving\", \"consequential\", \"argument\", \"woman history\", \"good argument\", \"argument stacey\", \"abrams consequential\", \"consequential woman\", \"dnc\", \"damn\", \"praising\", \"dear\", \"listen stacey\", \"okay\", \"praising stacey\", \"abrams american\", \"dear white\", \"sphere\", \"woman sphere\", \"actually\", \"pta\", \"damn hard\", \"sphere office\", \"work damn\", \"want work\", \"woman praising\", \"pta listen\", \"stacey want\", \"okay black\", \"abrams okay\", \"history\", \"need\", \"want\", \"good\", \"woman\", \"hard\", \"black woman\", \"white woman\", \"hero\", \"black\", \"staceyabrams\", \"stacey\", \"stacey abrams\", \"office\", \"let\", \"work\", \"thing\", \"secretary\", \"secretary state\", \"problem\", \"georgia republican\", \"meaningful\", \"phone\", \"air\", \"match\", \"cnn\", \"united\", \"united state\", \"receiving\", \"president united\", \"signature match\", \"eliminated meaningful\", \"state consistently\", \"republican secretary\", \"taped\", \"meaningful signature\", \"caved stacey\", \"taped leaked\", \"state caved\", \"praise problem\", \"match taped\", \"leaked\", \"cnn receiving\", \"source cnn\", \"lavishing air\", \"consistently source\", \"leaked phone\", \"stacy\", \"stacy abrams\", \"praise\", \"receiving lavishing\", \"eliminated\", \"abrams eliminated\", \"state\", \"source\", \"stacey abrams\", \"stacey\", \"signature\", \"thank\", \"georgia\", \"lead\", \"follow\", \"abrams state\", \"follow lead\", \"invest\", \"state stacey\", \"trust\", \"invest follow\", \"listen trust\", \"trust invest\", \"state listen\", \"human\", \"super\", \"believing\", \"abrams super\", \"believing stacey\", \"believe happen\", \"instead believing\", \"super human\", \"happen work\", \"human believe\", \"wait\", \"verification\", \"signature verification\", \"brag\", \"abrams brag\", \"donnaimamtx\", \"book\", \"berniesanders\", \"donnaimamtx berniesanders\", \"listen\", \"believe\", \"instead\", \"state\", \"happen\", \"work\", \"stacey abrams\", \"stacey\", \"mcconnell\", \"mitch mcconnell\", \"fact\", \"medal\", \"justice\", \"bet\", \"freedom\", \"medal freedom\", \"john ossoff\", \"ossoff stacey\", \"lose\", \"honor\", \"bc\", \"american democracy\", \"commitment\", \"abrams kind\", \"kind american\", \"warnock john\", \"fact mitch\", \"black president\", \"veto power\", \"bc raphael\", \"power american\", \"president lose\", \"unrelenting commitment\", \"unrelenting\", \"mcconnell man\", \"democracy bc\", \"veto\", \"commitment undermine\", \"undermine\", \"kind\", \"mitch\", \"president\", \"power\", \"biden\", \"man\", \"american\", \"america\", \"organizing\", \"john\", \"ossoff\", \"stacey abrams\", \"stacey\", \"warnock\", \"goddess\", \"abrams goddess\", \"running\", \"game\", \"major\", \"pull\", \"rollout\", \"vaccine rollout\", \"league\", \"writing\", \"ending\", \"hell\", \"abrams pull\", \"charge vaccine\", \"major league\", \"game throne\", \"throne\", \"running major\", \"writing directing\", \"league baseball\", \"baseball\", \"pull biden\", \"rollout writing\", \"ending running\", \"throne ending\", \"alternate\", \"alternate game\", \"directing\", \"biden charge\", \"directing alternate\", \"vaccine\", \"charge\", \"stacey abrams\", \"stacey\"], \"Freq\": [189.0, 102.0, 102.0, 102.0, 102.0, 111.0, 80.0, 78.0, 77.0, 106.0, 84.0, 76.0, 76.0, 76.0, 76.0, 84.0, 75.0, 75.0, 75.0, 84.0, 84.0, 75.0, 105.0, 82.0, 82.0, 82.0, 82.0, 83.0, 90.0, 85.0, 33.08304582651909, 20.57818844050399, 19.388653260699872, 18.971090821491288, 18.730802223178838, 18.074132078261922, 17.796442031219154, 17.57437169194849, 15.842949147027454, 15.419100759533851, 14.87334560061929, 14.112339698562446, 13.850415847970039, 13.740014979271026, 13.568658394158792, 13.568658380430467, 13.249682798775568, 13.052217388576121, 13.007427301704796, 12.760045226651933, 12.377746368539082, 11.966186228506874, 11.872357895877986, 11.742996947153035, 11.530128574657757, 11.498495711735941, 11.466676401553649, 11.369242561694062, 11.293463920439004, 10.873727920486926, 32.07183095092544, 16.615118952637406, 23.642235011551495, 26.286368964046122, 24.286914691185082, 29.595488044348805, 24.27197772119948, 28.94358653282755, 52.111866822462446, 21.05080082199548, 29.083028356309942, 15.431578203315949, 26.140008504151492, 21.534281116745774, 26.664320123133002, 26.424385259771615, 18.684396903991168, 23.05287403073301, 17.227726923610703, 33.65031732743608, 19.61148759906768, 32.005348363632166, 21.847007009522464, 22.284725466967192, 18.041839193249782, 17.75748372083727, 34.07418208425346, 33.372995790076665, 32.268283531579016, 31.861000070287226, 31.219009663855175, 31.164702221382623, 30.972217769033584, 30.97221776831382, 30.97221776457261, 30.972217743234328, 24.178629311296078, 23.379264207713582, 23.379264178391132, 18.522470799927696, 17.946374709975476, 17.752301560218516, 15.991254409530256, 15.804093990748875, 14.920509390271434, 14.92050935608216, 14.2249057426163, 13.172203831565767, 12.298297807500244, 11.558386150179624, 11.454745648466966, 11.30769705568165, 11.301395326272624, 11.128864457771213, 11.053877553089617, 11.017331818309808, 35.15788440442866, 23.7503020210283, 44.3925641161081, 25.796737969576974, 42.57593903662005, 45.62556248291764, 20.696559970736637, 31.790148220652625, 33.7130198735777, 46.39801794649804, 39.60296271080123, 25.101712578172346, 17.100019400646268, 101.99892253096708, 101.52986667222851, 101.19334681235674, 101.19334675931907, 26.960725868534617, 26.752598838210037, 26.06510193513243, 25.888803523510703, 25.8518872580091, 25.83607200835653, 25.488372498401045, 25.395147383194573, 25.280873497941453, 25.114831919734957, 25.114831871727166, 25.092905984888286, 25.092905958591885, 25.092905958085726, 25.00684210138142, 24.81202753183957, 24.81202756830001, 24.81202754673602, 24.812027523023634, 24.81202754230594, 24.812027547762817, 24.812027541483264, 24.812027540438308, 24.812027554307566, 24.812027544351338, 24.812027543220005, 104.93783077166374, 87.28625365015223, 30.631424109847238, 113.44383330378096, 114.17405981637785, 26.98457619688499, 30.13525536323257, 29.709615399698997, 29.709615368095502, 29.505574426041058, 25.973134001994957, 84.01451408863946, 83.41652591299791, 83.28667728140705, 83.28667729301729, 81.9083466389691, 81.90834662779217, 81.90834664166634, 81.90834662307525, 82.30582292908973, 30.682245595915877, 23.157351909334142, 22.169487266083074, 17.60324933521251, 17.187722732789254, 16.93158370279991, 16.530109542827958, 16.313988536342617, 15.437306131343922, 15.212602296667884, 14.878467838000779, 14.794481160781102, 14.77726088085141, 14.66211604474743, 14.662116053647985, 14.6621160234668, 14.411208008038868, 14.366117108965339, 14.296036785297355, 13.708607331540886, 13.43388139112523, 78.65887094666512, 80.40546785039659, 16.174137521794094, 66.5136816501849, 19.7410110720365, 18.72253753724403, 46.17967570434505, 43.87742415714161, 30.719109796298795, 22.26953114355315, 17.831389344081355, 43.56222667385236, 37.64348685318338, 22.2960778972427, 20.13834813908434, 19.109366484895133, 18.55982998162603, 18.49008160890849, 18.287405860506148, 18.287405842493968, 18.287405839016852, 18.287405856800014, 18.287405873402644, 18.28740585526698, 18.287405851112304, 18.287405876911475, 18.28740585936084, 18.287405900078667, 16.09176044712152, 15.617428835029658, 13.521675902033529, 13.191830541801886, 13.046357307750789, 12.892650222120908, 12.767837620812898, 12.735199713321661, 12.45048485942227, 12.450484824666868, 12.450484846811486, 12.450484845304565, 12.45048484038637, 12.450484851499166, 23.46460697503729, 18.11878051032246, 28.669055297296076, 22.38246967998839, 17.838184828719353, 23.761663541951993, 25.706587114930624, 29.683752849927227, 23.979894146847062, 20.74886381511369, 22.074179612780128, 28.186853521547977, 25.62353189756574, 22.65200845815206, 22.015515310371025, 24.20597179584957, 23.464519879959294, 21.321910658838558, 39.013330460926056, 27.41957024242053, 27.371033407001843, 26.27847161104286, 26.106940820784637, 26.10694082906364, 26.10694081571715, 26.1069408261593, 22.668194832409522, 20.53458366368407, 16.763645070805474, 16.368074506787178, 15.87401210699227, 15.588550976799828, 15.55528089427982, 15.079123783587262, 14.66170622536824, 14.589122730196866, 14.589122707603085, 14.455854506108532, 14.448791370026186, 14.448791406617469, 14.448791394501738, 14.448791377611428, 14.4487913896177, 14.448791395917732, 14.44879139195957, 14.448791390589381, 14.448791416141464, 14.448791383013194, 32.62488885050673, 39.57005046861126, 39.19106710318029, 35.30445368560123, 61.08574060080674, 19.95386898391516, 29.932469685442822, 15.917491113928332, 22.758328134634596, 31.285975963156382, 29.93847115286844, 50.70019455409791, 48.906127887214076, 18.364049681882765, 18.78931935269375, 22.01922901593863, 16.511142355321354, 24.385692594088063, 24.179051177159977, 21.06065615193842, 16.730013419940335, 16.47030897053779, 16.34481814863735, 16.255776646103815, 16.19495878074545, 16.1780241245019, 16.064155034921836, 16.064155035541084, 15.882439164020443, 15.269009970302871, 15.09068920737021, 14.93764811012301, 14.937648130151251, 14.937648131614905, 14.937648133077207, 14.937648107675322, 14.937648115079337, 14.937648126979925, 14.93764812420415, 14.937648130005437, 14.937648128633743, 14.937648112762117, 14.937648117613236, 14.937648125204394, 14.93764810692938, 14.937648130313029, 14.937648122001475, 78.15502785618266, 76.58038171939971, 21.233318774351254, 14.937648133974662, 14.937648147354645, 14.937648139922095, 27.019437650520043, 14.937648140541143, 17.54009510618213, 16.865413695013633, 15.171355354712007, 15.312256491230174, 14.938568569075665, 79.76421615836338, 77.54598783319146, 76.75565836999594, 75.5560978020796, 75.32562403234222, 75.2055424754618, 75.19048782879982, 75.00730419514811, 75.00730419248289, 75.00730419397279, 74.84137182406211, 36.49038969060105, 32.87852577647379, 31.93684902266646, 31.835972148664286, 31.72201622765246, 31.722016220830255, 31.7220162161881, 31.72201623534209, 31.722016225554754, 31.722016228407316, 11.44155839275006, 10.637202570258289, 10.45112923652945, 10.302003875482493, 10.30200386723656, 10.009904160059254, 9.233924274084394, 9.135994990421196, 9.135994994869172, 69.98434292212231, 33.17923897269452, 30.991799557952714, 124.99613137810853, 29.111327190035084, 25.311296397595086, 39.55393016026407, 37.851780900537356, 32.27594912021999, 28.292557216811783, 21.368547173362412, 20.151973249001188, 20.122745145722035, 19.349984445770968, 18.073416315287012, 17.24916440153986, 17.14200843227251, 17.05112169174696, 16.892138486999322, 16.62505247706184, 16.357493455070347, 15.020692301312959, 14.81753622720595, 14.544895631827604, 14.446513376977679, 14.414337258226759, 14.22239239340246, 14.222392439009067, 14.222392412380584, 14.222392417664125, 14.222392415302858, 14.222392455391518, 14.22239243149567, 14.222392454016449, 14.222392429745474, 14.222392448748696, 14.222392438769758, 14.222392423032097, 14.22239243245167, 17.987990966179606, 27.590954492131033, 32.97444069327713, 22.56424026046455, 28.41315300011133, 18.998211952732508, 25.121382572920123, 22.822021875093853, 14.667796767000008, 16.207772640528795, 17.44201921055538, 17.90749204433451, 17.26994971251387, 15.227254525799617, 44.62970150318989, 44.31562122769848, 24.96414451149586, 21.14119094267217, 18.116732944251883, 17.8654504428513, 17.75645778094272, 17.756457781025183, 17.63923788425245, 17.092984342133352, 17.038790335188445, 16.97239980517489, 16.951080291459473, 16.94544530166116, 16.90542984286413, 16.674308320038453, 16.6743083527494, 16.363805285530372, 16.36380530549801, 16.363805313995492, 16.36380531348758, 16.363805296674332, 16.3638053141453, 16.36380528472924, 16.363805277836995, 16.363805267816332, 16.36380529703212, 16.36380528512558, 16.36380527572911, 16.363805333145056, 20.447706810030358, 18.374977453128512, 27.1947771240973, 26.44223424922932], \"Total\": [189.0, 102.0, 102.0, 102.0, 102.0, 111.0, 80.0, 78.0, 77.0, 106.0, 84.0, 76.0, 76.0, 76.0, 76.0, 84.0, 75.0, 75.0, 75.0, 84.0, 84.0, 75.0, 105.0, 82.0, 82.0, 82.0, 82.0, 83.0, 90.0, 85.0, 33.925870673378355, 21.42096890762837, 20.231416801833852, 19.813850815847637, 19.573562161551134, 18.916892699471386, 18.639200508275692, 18.417130217997784, 16.68577359501168, 16.26232032825812, 15.71626389054689, 14.955175341508903, 14.693441801479903, 14.582884485162836, 14.411432139654552, 14.41143217407258, 14.0924440663421, 13.894995235223568, 13.850269198079502, 13.602811418365922, 13.220544614158865, 12.808956643666018, 12.715251246698463, 12.585776055151442, 12.37289041441338, 12.34126278072015, 12.309436009529293, 12.212005533685884, 12.136223058428934, 11.716487565493626, 34.67953136498003, 18.19259839614511, 33.716326235541246, 40.87141402649041, 37.62841976284821, 50.983991877316754, 45.06056936936619, 61.737876669213584, 178.53458521655347, 39.5887381844341, 99.11579541933446, 21.532162724174214, 88.1630497660176, 56.92139776423158, 106.88420353705226, 105.07498754738802, 39.64213911711741, 85.31906641615178, 31.38029767146113, 402.99887048009055, 52.9461263932282, 411.35119482220443, 97.45910922522638, 189.76603923742502, 74.07669076072798, 129.99759806650894, 34.91991588518582, 34.218710132630726, 33.114000213831815, 32.70673892437605, 32.06472300048671, 32.01041537372351, 31.817930893546336, 31.817930938292882, 31.817930942150902, 31.817930940318057, 25.02435193310926, 24.224977355483045, 24.224977407239226, 19.36823341258776, 18.792135409713463, 18.598050749983653, 16.837107635028325, 16.64984589299639, 15.766242642499893, 15.766242633447835, 15.0706694744019, 14.018004058488676, 13.144094669991599, 12.404336268255102, 12.300476724481241, 12.15342326501227, 12.147291183470669, 11.97469042658878, 11.899594580088854, 11.863071424949535, 39.035998499559916, 26.295415506182824, 51.220587718525415, 29.810790601844356, 52.47167886453498, 85.97663101609496, 29.49172477944734, 64.34783444210989, 97.45910922522638, 411.35119482220443, 402.99887048009055, 178.53458521655347, 50.90664843461306, 102.85093911093651, 102.38186896526892, 102.04536001791776, 102.04536004236992, 27.812829908864813, 27.6046315056112, 26.91711263046438, 26.740807729020272, 26.70393032440107, 26.688097090819948, 26.340395842277353, 26.247148747790007, 26.132880975192496, 25.966833227419556, 25.966833270472467, 25.9449072335221, 25.944907277549202, 25.944907283084177, 25.85885159045225, 25.664028692398627, 25.66402875518848, 25.664028739591792, 25.664028759233382, 25.664028781918322, 25.664028792153537, 25.66402879564239, 25.664028809879856, 25.664028824593338, 25.664028817031316, 25.664028821802063, 111.46641070872933, 116.90986363211019, 35.196417183950565, 402.99887048009055, 411.35119482220443, 30.26598279142694, 50.13012381471061, 52.39215414148287, 52.39215422527156, 63.292444508772334, 45.44244239051872, 84.85745122564693, 84.25946159344761, 84.12960630345027, 84.12960637148105, 82.75127535571106, 82.75127534785172, 82.75127537439386, 82.7512753589851, 83.63891957451744, 31.525207737734743, 24.000486542437176, 23.012415347106405, 18.446195618919436, 18.030759359755656, 17.7748004195402, 17.373079116432542, 17.156921051948114, 16.28025375789674, 16.055594719225926, 15.721396140958264, 15.637410637015728, 15.620212901671856, 15.505044489365694, 15.5050445023287, 15.505044470486782, 15.25414107992973, 15.209048072515229, 15.138964958788012, 14.55153694093848, 14.276809917874923, 87.0216136047646, 90.09100235999135, 17.692356221767184, 129.99759806650894, 24.958092609236683, 25.733039896334045, 411.35119482220443, 402.99887048009055, 178.53458521655347, 74.07669076072798, 39.64213911711741, 44.402319009566405, 38.483584779056216, 23.13612220478791, 20.978426891831997, 19.949417840249865, 19.399861784876627, 19.330124810429222, 19.127436466678866, 19.12743650225724, 19.127436515681296, 19.127436539265727, 19.12743658961916, 19.127436577033976, 19.127436608687333, 19.12743664623137, 19.127436631273447, 19.127436692298016, 16.9318932472429, 16.457535880586338, 14.361779941906343, 14.03189303367974, 13.88639016502252, 13.732755121423521, 13.607870859847164, 13.575230943612468, 13.290515429308986, 13.29051542152417, 13.290515452112091, 13.290515481720417, 13.290515487461375, 13.290515500600701, 28.131315975753235, 20.778671317164417, 37.41642558263399, 27.685167021993866, 21.827609030953436, 33.62254351172409, 38.92538864917084, 50.90664843461306, 45.754400571979744, 34.56416939753814, 40.25108487402955, 74.07669076072798, 65.46156333109134, 47.84073309751539, 56.92139776423158, 97.45910922522638, 411.35119482220443, 402.99887048009055, 39.857779351858774, 28.263845047066123, 28.21530108006498, 27.122739167265824, 26.951208318989334, 26.95120835341907, 26.951208356368696, 26.951208403681385, 23.51250241462928, 21.378908439631658, 17.607915931775704, 17.212374946074842, 16.718283518643833, 16.43282341174847, 16.399549558119112, 15.923393802129656, 15.505974544171343, 15.433390916603724, 15.433391045577238, 15.300188504702133, 15.293059470233198, 15.293059545608804, 15.293059593709257, 15.293059577162813, 15.29305959493381, 15.293059611061171, 15.293059607808935, 15.29305961509789, 15.293059646776136, 15.29305961704724, 35.66803054222358, 47.62041684738395, 52.28052853967617, 47.14253791395749, 99.11579541933446, 25.51333507311292, 52.9461263932282, 18.059122023157485, 37.14355614510886, 85.31906641615178, 84.67033932614908, 411.35119482220443, 402.99887048009055, 30.16797408138568, 40.69690585630728, 88.1630497660176, 39.63389949547432, 25.22556114570722, 25.018919662571975, 21.900535795139014, 17.569897624731727, 17.310213583539706, 17.184685281259778, 17.09570024980999, 17.034828265054998, 17.017926852273302, 16.904022102179287, 16.90402212895941, 16.722304203925315, 16.108874931748176, 15.930553698552028, 15.777512282087807, 15.777512315249938, 15.777512322087023, 15.777512329833623, 15.777512303413696, 15.777512317470718, 15.77751233902996, 15.777512338959509, 15.777512345606096, 15.777512355590808, 15.777512339722154, 15.77751234759753, 15.777512357178006, 15.777512337969844, 15.77751236700534, 15.777512363042751, 106.88420353705226, 105.07498754738802, 29.358793040497037, 15.777512385407242, 15.77751243632548, 15.777512414327369, 189.76603923742502, 15.777512468297608, 402.99887048009055, 411.35119482220443, 24.136242666096365, 97.45910922522638, 178.53458521655347, 80.6117754416393, 78.39350810768377, 77.6031698856655, 76.40360877112285, 76.1731344765881, 76.05306174827014, 76.03800305571836, 75.85481436517223, 75.85481442890313, 75.85481443726893, 75.68888198730453, 37.337998518435654, 33.72606197584341, 32.78435931980585, 32.683484950602214, 32.56952544320884, 32.569525454929504, 32.56952545415738, 32.569525483591086, 32.56952547538172, 32.56952549947476, 12.289142446569768, 11.484719648965855, 11.298641752485402, 11.149514453525896, 11.149514453446717, 10.857499868479536, 10.08151791043154, 9.983554870418446, 9.983554903468418, 85.7653234508019, 41.306359561251774, 38.81826084806663, 189.76603923742502, 45.37271109284505, 88.1630497660176, 402.99887048009055, 411.35119482220443, 33.10853917784365, 29.1251137182136, 22.20119213504076, 20.984511333667683, 20.955422865718727, 20.182560563827195, 18.905964681790035, 18.081701859252423, 17.974543738254624, 17.883657613435663, 17.724682667785803, 17.457623257379336, 17.190069677531028, 15.853225491209766, 15.6500968405545, 15.377430130468122, 15.279047665920213, 15.246869633110089, 15.054924383646918, 15.05492443513412, 15.054924417649788, 15.054924427593681, 15.054924427471123, 15.054924475170985, 15.054924453092811, 15.05492447811532, 15.054924473268457, 15.054924495940298, 15.054924486546096, 15.054924471584288, 15.054924483115247, 19.94604810569799, 37.104575094656944, 52.27170674819386, 33.2589358759403, 56.27680433844964, 27.43296851432179, 65.46156333109134, 52.487492177018616, 17.257034161487233, 29.465772410952894, 56.87654083445361, 402.99887048009055, 411.35119482220443, 63.292444508772334, 45.4624204192242, 45.148336951860024, 25.796884067940983, 21.97394706002339, 18.94950404572732, 18.698228347985008, 18.589174052284363, 18.58917408697343, 18.471959601713134, 17.92571223536132, 17.8715058694491, 17.805173217672973, 17.783795977164896, 17.7781622527238, 17.738144728140576, 17.507023382233267, 17.507023509899128, 17.19652002638109, 17.19652007201117, 17.196520091190013, 17.196520131985686, 17.19652012045574, 17.19652015959082, 17.196520129833857, 17.19652013578601, 17.19652012620491, 17.196520158494415, 17.19652016434084, 17.196520166422694, 17.196520233862664, 22.893559262659103, 26.686032399639195, 402.99887048009055, 411.35119482220443], \"Category\": [\"Default\", \"Default\", \"Default\", \"Default\", \"Default\", \"Default\", \"Default\", \"Default\", \"Default\", \"Default\", \"Default\", \"Default\", \"Default\", \"Default\", \"Default\", \"Default\", \"Default\", \"Default\", \"Default\", \"Default\", \"Default\", \"Default\", \"Default\", \"Default\", \"Default\", \"Default\", \"Default\", \"Default\", \"Default\", \"Default\", \"Topic1\", \"Topic1\", \"Topic1\", \"Topic1\", \"Topic1\", \"Topic1\", \"Topic1\", \"Topic1\", \"Topic1\", \"Topic1\", \"Topic1\", \"Topic1\", \"Topic1\", \"Topic1\", \"Topic1\", \"Topic1\", \"Topic1\", \"Topic1\", \"Topic1\", \"Topic1\", \"Topic1\", \"Topic1\", \"Topic1\", \"Topic1\", \"Topic1\", \"Topic1\", \"Topic1\", \"Topic1\", \"Topic1\", \"Topic1\", \"Topic1\", \"Topic1\", \"Topic1\", \"Topic1\", \"Topic1\", \"Topic1\", \"Topic1\", \"Topic1\", \"Topic1\", \"Topic1\", \"Topic1\", \"Topic1\", \"Topic1\", \"Topic1\", \"Topic1\", \"Topic1\", \"Topic1\", \"Topic1\", \"Topic1\", \"Topic1\", \"Topic1\", \"Topic1\", \"Topic1\", \"Topic1\", \"Topic1\", \"Topic1\", \"Topic2\", \"Topic2\", \"Topic2\", \"Topic2\", \"Topic2\", \"Topic2\", \"Topic2\", \"Topic2\", \"Topic2\", \"Topic2\", \"Topic2\", \"Topic2\", \"Topic2\", \"Topic2\", \"Topic2\", \"Topic2\", \"Topic2\", \"Topic2\", \"Topic2\", \"Topic2\", \"Topic2\", \"Topic2\", \"Topic2\", \"Topic2\", \"Topic2\", \"Topic2\", \"Topic2\", \"Topic2\", \"Topic2\", \"Topic2\", \"Topic2\", \"Topic2\", \"Topic2\", \"Topic2\", \"Topic2\", \"Topic2\", \"Topic2\", \"Topic2\", \"Topic2\", \"Topic2\", \"Topic2\", \"Topic2\", \"Topic2\", \"Topic3\", \"Topic3\", \"Topic3\", \"Topic3\", \"Topic3\", \"Topic3\", \"Topic3\", \"Topic3\", \"Topic3\", \"Topic3\", \"Topic3\", \"Topic3\", \"Topic3\", \"Topic3\", \"Topic3\", \"Topic3\", \"Topic3\", \"Topic3\", \"Topic3\", \"Topic3\", \"Topic3\", \"Topic3\", \"Topic3\", \"Topic3\", \"Topic3\", \"Topic3\", \"Topic3\", \"Topic3\", \"Topic3\", \"Topic3\", \"Topic3\", \"Topic3\", \"Topic3\", \"Topic3\", \"Topic3\", \"Topic3\", \"Topic3\", \"Topic3\", \"Topic3\", \"Topic3\", \"Topic3\", \"Topic4\", \"Topic4\", \"Topic4\", \"Topic4\", \"Topic4\", \"Topic4\", \"Topic4\", \"Topic4\", \"Topic4\", \"Topic4\", \"Topic4\", \"Topic4\", \"Topic4\", \"Topic4\", \"Topic4\", \"Topic4\", \"Topic4\", \"Topic4\", \"Topic4\", \"Topic4\", \"Topic4\", \"Topic4\", \"Topic4\", \"Topic4\", \"Topic4\", \"Topic4\", \"Topic4\", \"Topic4\", \"Topic4\", \"Topic4\", \"Topic4\", \"Topic4\", \"Topic4\", \"Topic4\", \"Topic4\", \"Topic4\", \"Topic4\", \"Topic4\", \"Topic4\", \"Topic4\", \"Topic4\", \"Topic5\", \"Topic5\", \"Topic5\", \"Topic5\", \"Topic5\", \"Topic5\", \"Topic5\", \"Topic5\", \"Topic5\", \"Topic5\", \"Topic5\", \"Topic5\", \"Topic5\", \"Topic5\", \"Topic5\", \"Topic5\", \"Topic5\", \"Topic5\", \"Topic5\", \"Topic5\", \"Topic5\", \"Topic5\", \"Topic5\", \"Topic5\", \"Topic5\", \"Topic5\", \"Topic5\", \"Topic5\", \"Topic5\", \"Topic5\", \"Topic5\", \"Topic5\", \"Topic5\", \"Topic5\", \"Topic5\", \"Topic5\", \"Topic5\", \"Topic5\", \"Topic5\", \"Topic5\", \"Topic5\", \"Topic5\", \"Topic5\", \"Topic5\", \"Topic5\", \"Topic5\", \"Topic5\", \"Topic5\", \"Topic5\", \"Topic6\", \"Topic6\", \"Topic6\", \"Topic6\", \"Topic6\", \"Topic6\", \"Topic6\", \"Topic6\", \"Topic6\", \"Topic6\", \"Topic6\", \"Topic6\", \"Topic6\", \"Topic6\", \"Topic6\", \"Topic6\", \"Topic6\", \"Topic6\", \"Topic6\", \"Topic6\", \"Topic6\", \"Topic6\", \"Topic6\", \"Topic6\", \"Topic6\", \"Topic6\", \"Topic6\", \"Topic6\", \"Topic6\", \"Topic6\", \"Topic6\", \"Topic6\", \"Topic6\", \"Topic6\", \"Topic6\", \"Topic6\", \"Topic6\", \"Topic6\", \"Topic6\", \"Topic6\", \"Topic6\", \"Topic6\", \"Topic6\", \"Topic6\", \"Topic6\", \"Topic6\", \"Topic6\", \"Topic7\", \"Topic7\", \"Topic7\", \"Topic7\", \"Topic7\", \"Topic7\", \"Topic7\", \"Topic7\", \"Topic7\", \"Topic7\", \"Topic7\", \"Topic7\", \"Topic7\", \"Topic7\", \"Topic7\", \"Topic7\", \"Topic7\", \"Topic7\", \"Topic7\", \"Topic7\", \"Topic7\", \"Topic7\", \"Topic7\", \"Topic7\", \"Topic7\", \"Topic7\", \"Topic7\", \"Topic7\", \"Topic7\", \"Topic7\", \"Topic7\", \"Topic7\", \"Topic7\", \"Topic7\", \"Topic7\", \"Topic7\", \"Topic7\", \"Topic7\", \"Topic7\", \"Topic7\", \"Topic7\", \"Topic7\", \"Topic7\", \"Topic8\", \"Topic8\", \"Topic8\", \"Topic8\", \"Topic8\", \"Topic8\", \"Topic8\", \"Topic8\", \"Topic8\", \"Topic8\", \"Topic8\", \"Topic8\", \"Topic8\", \"Topic8\", \"Topic8\", \"Topic8\", \"Topic8\", \"Topic8\", \"Topic8\", \"Topic8\", \"Topic8\", \"Topic8\", \"Topic8\", \"Topic8\", \"Topic8\", \"Topic8\", \"Topic8\", \"Topic8\", \"Topic8\", \"Topic8\", \"Topic8\", \"Topic8\", \"Topic8\", \"Topic8\", \"Topic8\", \"Topic8\", \"Topic8\", \"Topic8\", \"Topic9\", \"Topic9\", \"Topic9\", \"Topic9\", \"Topic9\", \"Topic9\", \"Topic9\", \"Topic9\", \"Topic9\", \"Topic9\", \"Topic9\", \"Topic9\", \"Topic9\", \"Topic9\", \"Topic9\", \"Topic9\", \"Topic9\", \"Topic9\", \"Topic9\", \"Topic9\", \"Topic9\", \"Topic9\", \"Topic9\", \"Topic9\", \"Topic9\", \"Topic9\", \"Topic9\", \"Topic9\", \"Topic9\", \"Topic9\", \"Topic9\", \"Topic9\", \"Topic9\", \"Topic9\", \"Topic9\", \"Topic9\", \"Topic9\", \"Topic9\", \"Topic9\", \"Topic9\", \"Topic9\", \"Topic9\", \"Topic9\", \"Topic9\", \"Topic9\", \"Topic10\", \"Topic10\", \"Topic10\", \"Topic10\", \"Topic10\", \"Topic10\", \"Topic10\", \"Topic10\", \"Topic10\", \"Topic10\", \"Topic10\", \"Topic10\", \"Topic10\", \"Topic10\", \"Topic10\", \"Topic10\", \"Topic10\", \"Topic10\", \"Topic10\", \"Topic10\", \"Topic10\", \"Topic10\", \"Topic10\", \"Topic10\", \"Topic10\", \"Topic10\", \"Topic10\", \"Topic10\", \"Topic10\", \"Topic10\", \"Topic10\", \"Topic10\", \"Topic10\", \"Topic10\"], \"logprob\": [30.0, 29.0, 28.0, 27.0, 26.0, 25.0, 24.0, 23.0, 22.0, 21.0, 20.0, 19.0, 18.0, 17.0, 16.0, 15.0, 14.0, 13.0, 12.0, 11.0, 10.0, 9.0, 8.0, 7.0, 6.0, 5.0, 4.0, 3.0, 2.0, 1.0, -4.5429, -5.0177, -5.0773, -5.099, -5.1118, -5.1475, -5.1629, -5.1755, -5.2792, -5.3063, -5.3424, -5.3949, -5.4136, -5.4216, -5.4342, -5.4342, -5.458, -5.473, -5.4764, -5.4956, -5.526, -5.5599, -5.5677, -5.5787, -5.597, -5.5997, -5.6025, -5.611, -5.6177, -5.6556, -4.574, -5.2316, -4.8789, -4.7729, -4.852, -4.6543, -4.8526, -4.6766, -4.0886, -4.995, -4.6718, -5.3055, -4.7785, -4.9723, -4.7586, -4.7677, -5.1143, -4.9042, -5.1954, -4.5259, -5.0658, -4.576, -4.9579, -4.938, -5.1493, -5.1651, -4.4544, -4.4752, -4.5088, -4.5215, -4.5419, -4.5436, -4.5498, -4.5498, -4.5498, -4.5498, -4.7975, -4.8311, -4.8311, -5.0639, -5.0955, -5.1064, -5.2109, -5.2227, -5.2802, -5.2802, -5.3279, -5.4048, -5.4735, -5.5355, -5.5445, -5.5574, -5.558, -5.5734, -5.5801, -5.5835, -4.4231, -4.8153, -4.1898, -4.7327, -4.2316, -4.1625, -4.953, -4.5238, -4.465, -4.1457, -4.304, -4.76, -5.1438, -3.2922, -3.2968, -3.3001, -3.3001, -4.6228, -4.6305, -4.6566, -4.6633, -4.6648, -4.6654, -4.6789, -4.6826, -4.6871, -4.6937, -4.6937, -4.6946, -4.6946, -4.6946, -4.698, -4.7058, -4.7058, -4.7058, -4.7058, -4.7058, -4.7058, -4.7058, -4.7058, -4.7058, -4.7058, -4.7058, -3.2638, -3.448, -4.4951, -3.1858, -3.1794, -4.6219, -4.5115, -4.5257, -4.5257, -4.5326, -4.6601, -3.4787, -3.4858, -3.4874, -3.4874, -3.5041, -3.5041, -3.5041, -3.5041, -3.4992, -4.486, -4.7674, -4.8109, -5.0416, -5.0655, -5.0805, -5.1045, -5.1176, -5.1729, -5.1875, -5.2098, -5.2154, -5.2166, -5.2244, -5.2244, -5.2244, -5.2417, -5.2448, -5.2497, -5.2916, -5.3119, -3.5445, -3.5226, -5.1263, -3.7123, -4.927, -4.9799, -4.0771, -4.1283, -4.4848, -4.8064, -5.0287, -4.0748, -4.2208, -4.7446, -4.8464, -4.8988, -4.928, -4.9318, -4.9428, -4.9428, -4.9428, -4.9428, -4.9428, -4.9428, -4.9428, -4.9428, -4.9428, -4.9428, -5.0707, -5.1006, -5.2447, -5.2694, -5.2805, -5.2923, -5.3021, -5.3046, -5.3272, -5.3272, -5.3272, -5.3272, -5.3272, -5.3272, -4.6935, -4.9521, -4.4932, -4.7407, -4.9677, -4.6809, -4.6023, -4.4584, -4.6718, -4.8165, -4.7546, -4.5102, -4.6055, -4.7288, -4.7573, -4.6624, -4.6935, -4.7893, -4.1485, -4.5011, -4.5029, -4.5436, -4.5502, -4.5502, -4.5502, -4.5502, -4.6914, -4.7903, -4.9932, -5.017, -5.0477, -5.0658, -5.068, -5.0991, -5.1271, -5.1321, -5.1321, -5.1413, -5.1418, -5.1418, -5.1418, -5.1418, -5.1418, -5.1418, -5.1418, -5.1418, -5.1418, -5.1418, -4.3273, -4.1343, -4.1439, -4.2484, -3.7001, -4.8189, -4.4134, -5.045, -4.6874, -4.3692, -4.4132, -3.8864, -3.9225, -4.902, -4.8791, -4.7205, -5.0083, -4.5429, -4.5514, -4.6894, -4.9196, -4.9353, -4.9429, -4.9484, -4.9522, -4.9532, -4.9603, -4.9603, -4.9716, -5.011, -5.0228, -5.033, -5.033, -5.033, -5.033, -5.033, -5.033, -5.033, -5.033, -5.033, -5.033, -5.033, -5.033, -5.033, -5.033, -5.033, -5.033, -3.3782, -3.3985, -4.6813, -5.033, -5.033, -5.033, -4.4403, -5.033, -4.8724, -4.9116, -5.0174, -5.0082, -5.0329, -3.3043, -3.3325, -3.3427, -3.3585, -3.3616, -3.3631, -3.3633, -3.3658, -3.3658, -3.3658, -3.368, -4.0863, -4.1906, -4.2196, -4.2228, -4.2264, -4.2264, -4.2264, -4.2264, -4.2264, -4.2264, -5.2461, -5.319, -5.3367, -5.351, -5.351, -5.3798, -5.4605, -5.4712, -5.4712, -3.4351, -4.1814, -4.2497, -2.8551, -4.3122, -4.4521, -4.0057, -4.0497, -4.1203, -4.252, -4.5327, -4.5913, -4.5927, -4.6319, -4.7002, -4.7468, -4.7531, -4.7584, -4.7677, -4.7837, -4.7999, -4.8852, -4.8988, -4.9174, -4.9241, -4.9264, -4.9398, -4.9398, -4.9398, -4.9398, -4.9398, -4.9398, -4.9398, -4.9398, -4.9398, -4.9398, -4.9398, -4.9398, -4.9398, -4.7049, -4.2771, -4.0989, -4.4782, -4.2477, -4.6502, -4.3709, -4.4669, -4.9089, -4.8091, -4.7357, -4.7094, -4.7456, -4.8715, -3.5819, -3.5889, -4.1628, -4.3291, -4.4834, -4.4974, -4.5035, -4.5035, -4.5102, -4.5416, -4.5448, -4.5487, -4.55, -4.5503, -4.5526, -4.5664, -4.5664, -4.5852, -4.5852, -4.5852, -4.5852, -4.5852, -4.5852, -4.5852, -4.5852, -4.5852, -4.5852, -4.5852, -4.5852, -4.5852, -4.3624, -4.4693, -4.0773, -4.1053], \"loglift\": [30.0, 29.0, 28.0, 27.0, 26.0, 25.0, 24.0, 23.0, 22.0, 21.0, 20.0, 19.0, 18.0, 17.0, 16.0, 15.0, 14.0, 13.0, 12.0, 11.0, 10.0, 9.0, 8.0, 7.0, 6.0, 5.0, 4.0, 3.0, 2.0, 1.0, 2.0432, 2.0282, 2.0258, 2.0249, 2.0244, 2.0228, 2.0221, 2.0215, 2.0165, 2.0151, 2.0132, 2.0104, 2.0093, 2.0088, 2.0081, 2.0081, 2.0067, 2.0058, 2.0056, 2.0044, 2.0025, 2.0003, 1.9998, 1.9991, 1.9978, 1.9976, 1.9974, 1.9969, 1.9964, 1.9937, 1.9902, 1.9777, 1.7134, 1.627, 1.6305, 1.5245, 1.4497, 1.3108, 0.837, 1.4368, 0.8422, 1.7352, 0.8526, 1.0963, 0.6799, 0.688, 1.3162, 0.7598, 1.4687, -0.4145, 1.0752, -0.4852, 0.573, -0.0735, 0.656, 0.0777, 2.1029, 2.1024, 2.1015, 2.1012, 2.1007, 2.1006, 2.1005, 2.1005, 2.1005, 2.1005, 2.093, 2.0919, 2.0919, 2.0827, 2.0813, 2.0809, 2.0758, 2.0753, 2.0723, 2.0723, 2.0696, 2.0652, 2.0609, 2.0568, 2.0562, 2.0553, 2.0552, 2.0541, 2.0537, 2.0534, 2.0228, 2.0256, 1.9843, 1.9828, 1.9184, 1.4938, 1.7732, 1.4222, 1.0658, -0.0548, -0.1926, 0.1655, 1.0365, 2.1848, 2.1848, 2.1848, 2.1848, 2.162, 2.1618, 2.161, 2.1608, 2.1607, 2.1607, 2.1603, 2.1602, 2.16, 2.1598, 2.1598, 2.1598, 2.1598, 2.1598, 2.1597, 2.1594, 2.1594, 2.1594, 2.1594, 2.1594, 2.1594, 2.1594, 2.1594, 2.1594, 2.1594, 2.1594, 2.1328, 1.901, 2.0542, 0.9255, 0.9114, 2.0784, 1.6842, 1.6259, 1.6259, 1.43, 1.6338, 2.1907, 2.1906, 2.1906, 2.1906, 2.1904, 2.1904, 2.1904, 2.1904, 2.1846, 2.1735, 2.1649, 2.1633, 2.1539, 2.1528, 2.152, 2.1509, 2.1503, 2.1475, 2.1467, 2.1455, 2.1452, 2.1452, 2.1447, 2.1447, 2.1447, 2.1438, 2.1436, 2.1434, 2.141, 2.1398, 2.0996, 2.0869, 2.1109, 1.5305, 1.9661, 1.8826, 0.0137, -0.0169, 0.4408, 0.9988, 1.4017, 2.2422, 2.2392, 2.2243, 2.2204, 2.2183, 2.217, 2.2169, 2.2164, 2.2164, 2.2164, 2.2164, 2.2164, 2.2164, 2.2164, 2.2164, 2.2164, 2.2164, 2.2104, 2.2089, 2.201, 2.1996, 2.1989, 2.1982, 2.1976, 2.1974, 2.196, 2.196, 2.196, 2.196, 2.196, 2.196, 2.0799, 2.1243, 1.995, 2.0487, 2.0595, 1.9142, 1.8464, 1.7219, 1.6152, 1.751, 1.6606, 1.2951, 1.3234, 1.5137, 1.3114, 0.8685, -0.6027, -0.6779, 2.2765, 2.2676, 2.2676, 2.2663, 2.2661, 2.2661, 2.2661, 2.2661, 2.2614, 2.2576, 2.2488, 2.2476, 2.2461, 2.2452, 2.2451, 2.2435, 2.242, 2.2417, 2.2417, 2.2412, 2.2412, 2.2412, 2.2412, 2.2412, 2.2412, 2.2412, 2.2412, 2.2412, 2.2412, 2.2412, 2.2088, 2.1128, 2.0098, 2.0088, 1.8139, 2.0522, 1.7276, 2.1717, 1.8081, 1.2947, 1.2583, 0.2044, 0.1889, 1.8016, 1.5251, 0.9107, 1.4223, 2.3396, 2.3393, 2.3344, 2.3245, 2.3237, 2.3234, 2.3231, 2.3229, 2.3228, 2.3225, 2.3225, 2.3219, 2.3199, 2.3193, 2.3188, 2.3188, 2.3188, 2.3188, 2.3188, 2.3188, 2.3188, 2.3188, 2.3188, 2.3188, 2.3188, 2.3188, 2.3188, 2.3188, 2.3188, 2.3188, 2.0604, 2.0571, 2.0494, 2.3188, 2.3188, 2.3188, 0.4242, 2.3188, -0.761, -0.8207, 1.9092, 0.5227, -0.1074, 2.4164, 2.4161, 2.416, 2.4158, 2.4158, 2.4157, 2.4157, 2.4157, 2.4157, 2.4157, 2.4157, 2.404, 2.4015, 2.4007, 2.4007, 2.4006, 2.4006, 2.4006, 2.4006, 2.4006, 2.4006, 2.3555, 2.3503, 2.349, 2.3479, 2.3479, 2.3457, 2.3391, 2.3382, 2.3382, 2.2236, 2.2078, 2.2018, 2.0094, 1.9832, 1.179, 0.1057, 0.0412, 2.4903, 2.4867, 2.4775, 2.4752, 2.4752, 2.4736, 2.4707, 2.4686, 2.4683, 2.468, 2.4676, 2.4669, 2.4661, 2.4618, 2.4611, 2.4601, 2.4597, 2.4596, 2.4588, 2.4588, 2.4588, 2.4588, 2.4588, 2.4588, 2.4588, 2.4588, 2.4588, 2.4588, 2.4588, 2.4588, 2.4588, 2.4124, 2.2195, 2.055, 2.1278, 1.8323, 2.1483, 1.558, 1.6829, 2.3532, 1.918, 1.3337, -0.598, -0.6548, 1.091, 2.7115, 2.7114, 2.6972, 2.6914, 2.6851, 2.6845, 2.6842, 2.6842, 2.6839, 2.6825, 2.6823, 2.6821, 2.6821, 2.6821, 2.6819, 2.6813, 2.6813, 2.6804, 2.6804, 2.6804, 2.6804, 2.6804, 2.6804, 2.6804, 2.6804, 2.6804, 2.6804, 2.6804, 2.6804, 2.6804, 2.617, 2.3569, 0.0341, -0.0145]}, \"token.table\": {\"Topic\": [6, 8, 3, 5, 6, 7, 4, 10, 1, 9, 4, 6, 10, 3, 1, 4, 8, 8, 3, 2, 1, 3, 3, 2, 6, 7, 10, 10, 1, 2, 7, 9, 5, 6, 9, 9, 5, 6, 6, 2, 2, 10, 9, 9, 2, 7, 8, 8, 8, 8, 8, 9, 3, 4, 6, 9, 10, 10, 1, 2, 5, 6, 7, 9, 10, 9, 1, 2, 6, 4, 4, 1, 2, 3, 3, 8, 8, 1, 1, 2, 3, 3, 3, 3, 7, 3, 6, 10, 10, 4, 5, 9, 5, 1, 1, 1, 7, 7, 9, 9, 6, 6, 7, 4, 9, 3, 3, 2, 6, 6, 5, 5, 3, 5, 6, 9, 6, 6, 1, 4, 1, 3, 5, 9, 9, 5, 1, 2, 3, 4, 5, 8, 1, 1, 2, 4, 2, 10, 10, 6, 8, 8, 1, 2, 3, 1, 2, 3, 4, 6, 7, 8, 9, 10, 3, 4, 7, 7, 4, 4, 10, 10, 3, 3, 9, 9, 4, 7, 4, 3, 3, 4, 4, 4, 4, 5, 10, 5, 1, 1, 8, 8, 5, 3, 3, 9, 1, 6, 10, 10, 1, 2, 3, 4, 5, 6, 7, 8, 9, 10, 3, 1, 1, 4, 7, 1, 10, 1, 4, 5, 6, 6, 1, 7, 1, 1, 2, 5, 7, 1, 5, 1, 2, 8, 8, 3, 2, 6, 1, 1, 10, 1, 5, 6, 5, 6, 9, 5, 8, 8, 1, 4, 3, 10, 1, 2, 4, 6, 8, 8, 8, 8, 1, 2, 9, 2, 9, 9, 1, 1, 1, 9, 9, 5, 7, 8, 5, 6, 8, 9, 10, 10, 7, 7, 2, 5, 6, 7, 9, 5, 2, 1, 1, 2, 4, 6, 7, 2, 1, 6, 8, 6, 8, 5, 2, 4, 5, 4, 9, 5, 7, 2, 7, 2, 10, 10, 2, 6, 7, 10, 2, 5, 2, 9, 7, 7, 9, 9, 7, 7, 9, 9, 2, 1, 6, 9, 9, 5, 2, 2, 5, 5, 1, 6, 5, 4, 1, 6, 6, 6, 4, 9, 2, 3, 4, 8, 9, 3, 4, 9, 5, 4, 5, 9, 5, 1, 2, 4, 5, 6, 8, 1, 2, 4, 7, 7, 2, 1, 4, 5, 1, 6, 9, 10, 9, 1, 7, 7, 6, 6, 2, 5, 7, 9, 9, 7, 7, 4, 4, 6, 6, 10, 10, 4, 5, 3, 2, 3, 4, 9, 3, 4, 9, 2, 5, 6, 1, 2, 3, 6, 7, 7, 4, 5, 7, 10, 5, 7, 4, 4, 10, 10, 5, 10, 10, 1, 6, 9, 1, 5, 7, 9, 6, 1, 1, 4, 7, 7, 1, 2, 4, 5, 7, 5, 4, 5, 4, 7, 8, 7, 8, 4, 2, 2, 7, 7, 6, 6, 4, 4, 1, 2, 3, 4, 5, 6, 7, 8, 9, 10, 1, 2, 3, 4, 5, 6, 7, 8, 9, 10, 4, 2, 5, 6, 1, 2, 5, 6, 7, 9, 5, 1, 7, 8, 1, 7, 8, 1, 5, 6, 7, 8, 7, 7, 8, 8, 1, 4, 1, 4, 1, 1, 8, 8, 8, 2, 2, 6, 2, 7, 7, 3, 3, 1, 2, 5, 6, 7, 1, 1, 2, 7, 5, 3, 4, 6, 10, 10, 5, 6, 7, 9, 2, 5, 5, 2, 6, 9, 8, 8, 1, 3, 10, 3, 3, 9, 7, 7, 9, 9, 6, 10, 10, 8, 9, 9, 2, 5, 7, 8, 9, 10, 2, 8, 1, 2, 6, 6, 2, 3, 4, 8, 9, 10, 9, 3, 4, 1, 2, 6, 2, 1, 3, 1, 1, 6, 1, 2, 6, 7, 10, 6, 6, 6, 2, 1, 2, 6, 8, 9, 6, 1, 2, 5, 7, 10, 5, 10, 10, 2, 5, 7, 5, 2], \"Freq\": [0.9420102389224239, 0.8969000436524516, 0.9897559277370781, 0.9524087445632462, 0.9647062816705241, 0.9507202153350031, 0.9620976847203805, 0.9745652436083204, 0.9556847919282309, 0.9754555782555435, 0.9564101761340484, 0.915447945053071, 0.9559263962445744, 0.9722967332727083, 0.9355886619554377, 0.9909212836602015, 0.9922275096938159, 0.9790877578803108, 0.9962701504755841, 0.9736564117677018, 0.11364793123954631, 0.8807714671064839, 0.9741260891837623, 0.9129575144795933, 0.9150214061544044, 0.935907846195293, 0.930420799241726, 0.9304207974946965, 0.3429388460643812, 0.15241726491750276, 0.07620863245875138, 0.4381996366378204, 0.39717963759125735, 0.21386595870298472, 0.3819034976839013, 0.946179691212816, 0.9410565810988738, 0.9569275877433884, 0.9647062817761046, 0.9783916419790382, 0.9742933977610644, 0.9304207989289561, 0.9307699328824387, 0.9299282814292881, 0.9272472200467085, 0.16946543036841438, 0.7989084574510964, 0.9825135476500071, 0.9760751975612957, 0.9825135480035804, 0.9014824996522284, 0.9414068120797975, 0.12438517222658706, 0.017769310318083865, 0.08884655159041933, 0.4975406889063482, 0.2487703444531741, 0.9304207970657357, 0.2695763205824983, 0.14064851508652088, 0.02344141918108681, 0.3633419973068456, 0.011720709590543405, 0.14064851508652088, 0.04688283836217362, 0.9299282809635223, 0.3777424594097973, 0.0566613689114696, 0.5666136891146959, 0.9850525796197878, 0.9909212837543148, 0.711821324551694, 0.26693299670688525, 0.9635802423567261, 0.9635802405160165, 0.8927227110004464, 0.8969000436460822, 0.9714509863348084, 0.9714509886548711, 0.9273788155402752, 0.9917264818552733, 0.9897559279742439, 0.952484410410673, 0.9627666100462865, 0.9507202211713842, 0.14989114680285262, 0.11241836010213946, 0.6745101606128368, 0.9562293199003414, 0.2603852531934713, 0.6075655907847664, 0.11572677919709835, 0.9410565804384196, 0.9534572955545574, 0.9515304805055532, 0.965706656356216, 0.9401850259958472, 0.9507202193560049, 0.9584605228211823, 0.9299282787120303, 0.9552840370812422, 0.9647062799769878, 0.9507202181865305, 0.9804048213098059, 0.011956156357436657, 0.9741260890513364, 0.9741260905868401, 0.9667945673358679, 0.9822765301277381, 0.915447949329401, 0.9361684242997012, 0.9028995198739194, 0.5984425674048813, 0.03989617116032542, 0.09974042790081356, 0.25932511254211527, 0.929563761545218, 0.9673690587631245, 0.541741196274906, 0.4142726795043399, 0.04276799103738508, 0.7441630440505004, 0.10264317848972418, 0.10264317848972418, 0.9299282772075829, 0.9028995159233002, 0.5884199901841597, 0.13729799770963724, 0.15691199738244258, 0.019613999672805322, 0.07845599869122129, 0.039227999345610644, 0.9773509654837456, 0.4792879603158406, 0.05045136424377269, 0.4540622781939542, 0.9674036353488844, 0.9304207971783748, 0.930420793416884, 0.9782029830091412, 0.9210223459482649, 0.9014824966679236, 0.9698623036393345, 0.9809877646172708, 0.9566492122981802, 0.13846409678116436, 0.03846224910587899, 0.13077164695998858, 0.5153941380187784, 0.007692449821175798, 0.07692449821175798, 0.023077349463527394, 0.03846224910587899, 0.030769799284703192, 0.9491125399062543, 0.9898953926465827, 0.9507202140094424, 0.9507202233034852, 0.9909212836209959, 0.9909212834364807, 0.9512348944842463, 0.9304207990453812, 0.9741260882394798, 0.9741260879524491, 0.9458951515876085, 0.9299282841438375, 0.904345345495302, 0.056521584093456374, 0.9342537764756921, 0.9707750016259317, 0.974126092970146, 0.9583139058173619, 0.9833400705205795, 0.9758109678473867, 0.9247659954370359, 0.8175941722678034, 0.1421902908291832, 0.9410565717489998, 0.9391334371737015, 0.9706970986263401, 0.9949803482816046, 0.9947174122058565, 0.9553294658578211, 0.966786939959493, 0.9741260885109269, 0.9520804837500492, 0.9344459559774696, 0.054967409175145275, 0.9556771909314705, 0.9710388584533558, 0.2912600935943398, 0.1400288911511249, 0.11202311292089993, 0.17363582502739489, 0.05041040081440497, 0.028005778230224983, 0.08401733469067495, 0.03360693387626998, 0.022404622584179985, 0.06161271210649496, 0.974126089572259, 0.9076781895314893, 0.9589251567798877, 0.9674270866202214, 0.9675639757895045, 0.94374855574449, 0.98982851297929, 0.06363679455432522, 0.042424529702883476, 0.12727358910865044, 0.7424292698004609, 0.9647062830085014, 0.922734499010968, 0.0576709061881855, 0.9388479216583848, 0.38649788768582244, 0.07027234321560408, 0.38649788768582244, 0.14054468643120815, 0.9224801559474516, 0.9793884209428573, 0.30855550975017004, 0.02203967926786929, 0.6391506987682094, 0.9825135470330324, 0.9627666084500232, 0.19597594691841055, 0.7839037876736422, 0.9589007011807534, 0.9063775399513775, 0.9547786922469377, 0.18845799181567527, 0.18845799181567527, 0.6192191159657902, 0.05607262216601539, 0.9251982657392539, 0.9737866231483774, 0.9721990045225387, 0.9641652318943926, 0.982513546306226, 0.16026865765053092, 0.8013432882526547, 0.8920906413667805, 0.09912118237408672, 0.07728321502454474, 0.02576107167484825, 0.0515221433496965, 0.0515221433496965, 0.7985932219202957, 0.9825135476732996, 0.9845991045970589, 0.9887309148097433, 0.954425307723567, 0.4411898598377721, 0.5430029044157195, 0.9513997944048975, 0.9457820041250596, 0.9544068916270013, 0.972709007757172, 0.8936233952135907, 0.05013524457079445, 0.9024344022743, 0.9162874745935168, 0.9311890211018411, 0.9507202199361493, 0.9924108427300152, 0.667944519047309, 0.25690173809511885, 0.05138034761902377, 0.025690173809511885, 0.9744499440292538, 0.9304208011362133, 0.9507202198305588, 0.9507202184253079, 0.09828757041439976, 0.3194346038467992, 0.4668659594683989, 0.04914378520719988, 0.04914378520719988, 0.9028995163133158, 0.9513997938586591, 0.9803478120227113, 0.18609708022875165, 0.5350291056576609, 0.08141747260007884, 0.13957281017156373, 0.05815533757148489, 0.9742933963908853, 0.01165972399758553, 0.16323613596619743, 0.8161806798309872, 0.9570360487161962, 0.9887309139790419, 0.9466417980263552, 0.15544218701381815, 0.7383503883156362, 0.07772109350690908, 0.9674270846334658, 0.9591144912792771, 0.7946493507704898, 0.18060212517511132, 0.9127066272961877, 0.07605888560801563, 0.9244012412326962, 0.949892934219489, 0.9583865878053441, 0.8194896929258199, 0.03811579967096836, 0.07623159934193673, 0.05717369950645255, 0.9742933963288727, 0.944962253562835, 0.2916199169558876, 0.6925973027702331, 0.9392522044276883, 0.9507202188743465, 0.9665180281168826, 0.9299282786080009, 0.9243097968019535, 0.9507202220184313, 0.953083904694596, 0.9401769884454259, 0.9050947835962574, 0.1617051262463857, 0.053901708748795234, 0.7546239224831333, 0.9613696369017092, 0.9748095331240453, 0.9590657957557751, 0.9494332920313016, 0.9533603307399112, 0.9410565768007282, 0.146995773313659, 0.8399758475066229, 0.9264608822770412, 0.9205046846620112, 0.36462508123100146, 0.5966592238325479, 0.9736610440638566, 0.9154479432734888, 0.1158947697086576, 0.869210772814932, 0.07032776503835751, 0.4043846489705557, 0.1758194125958938, 0.017581941259589378, 0.29889300141301944, 0.9741260880583972, 0.967427085442284, 0.9505885410839119, 0.9874339986299978, 0.1784516985726501, 0.7138067942906005, 0.08922584928632506, 0.9410565774199104, 0.46972784884358093, 0.06479004811635598, 0.04859253608726699, 0.16197512029088998, 0.17817263231997899, 0.09718507217453398, 0.5326164390704763, 0.04438470325587303, 0.26630821953523814, 0.1553464613955556, 0.93106156662923, 0.9186041232076813, 0.530453885702702, 0.3536359238018013, 0.10103883537194323, 0.9223776003191465, 0.09020132247136074, 0.6915434722804323, 0.21046975243317506, 0.9299282814368584, 0.23842942011765658, 0.7152882603529697, 0.9507202194760046, 0.9654748503950633, 0.975636552900241, 0.019130808274871434, 0.07652323309948574, 0.24870050757332865, 0.6313166730707573, 0.9299282784904835, 0.9311637258066515, 0.9588806500643288, 0.9785254465295297, 0.9105675619960223, 0.9154479538414114, 0.9154479456060791, 0.9626580478647191, 0.9304207995527859, 0.9560056894578123, 0.9909392342890981, 0.9736394487309665, 0.9289567410246458, 0.5726048201604047, 0.19086827338680157, 0.22904192806416188, 0.5726048192446606, 0.19086827308155352, 0.22904192769786422, 0.13744061457879975, 0.8246436874727985, 0.045813538192933254, 0.06601757832950306, 0.3080820322043476, 0.5721523455223598, 0.022005859443167686, 0.9568059404304005, 0.95072021707767, 0.9325682592788553, 0.5245397098415433, 0.30598149740756697, 0.15299074870378349, 0.9508940091718224, 0.9507202208932152, 0.9213615600263139, 0.9592380956277443, 0.9683055282269541, 0.9304207974353755, 0.9410565792780821, 0.969109289872287, 0.9304208046427117, 0.6378157826254505, 0.13287828804696886, 0.21260526087515016, 0.27173496638317934, 0.48076186360100964, 0.1463188280524812, 0.08361075888713211, 0.9784789979319615, 0.9600295479432835, 0.6361414357513628, 0.34253769617381075, 0.9514159015679308, 0.9592740343582354, 0.2429914162626547, 0.04049856937710911, 0.2969895087654668, 0.3779866475196851, 0.04049856937710911, 0.9410565747513662, 0.09625254519271793, 0.8662729067344614, 0.9177835662225626, 0.6214720413409731, 0.33145175538185234, 0.94158685779788, 0.8850621357031933, 0.9428332806628048, 0.9663586336100072, 0.9684347934281123, 0.9507202120828683, 0.9507202187787053, 0.971918619897234, 0.9154479464500909, 0.9865730228265202, 0.9865730220287353, 0.07779240805130308, 0.11182658657374818, 0.27713545368276726, 0.11182658657374818, 0.05591329328687409, 0.1239816503317643, 0.04132721677725476, 0.09237848456092242, 0.04132721677725476, 0.06320633154168376, 0.08436748212096964, 0.09925586131878782, 0.2803978082255756, 0.1091814474506666, 0.0521093271923636, 0.12158843011551507, 0.044665137593454515, 0.09925586131878782, 0.044665137593454515, 0.06699770639018178, 0.9541137355429368, 0.9494332900028563, 0.902899518324776, 0.9154479451697597, 0.17715766960871845, 0.09448409045798319, 0.21258920353046215, 0.3543153392174369, 0.11810511307247898, 0.04724204522899159, 0.9028995150306718, 0.2526098254606934, 0.7297617179975587, 0.009355919461507163, 0.24744233244162125, 0.7328099845386475, 0.009517012786216202, 0.11593222943582011, 0.0474268211328355, 0.03161788075522367, 0.1422804633985065, 0.6587058490671598, 0.9507202198765142, 0.9507202213052038, 0.9908985049162164, 0.9861535916626777, 0.09989898840327281, 0.8879910080290917, 0.09193118431858158, 0.907820445145993, 0.8913188379056715, 0.6966322980254771, 0.2322107660084924, 0.9784717831461184, 0.9825135467853832, 0.9578475041583611, 0.8966082935061743, 0.07685213944338637, 0.9643846852231706, 0.9507202204264211, 0.950720219872269, 0.9742170793039929, 0.9635802407215825, 0.22573569751349118, 0.34886425979357727, 0.24625712456017218, 0.020521427046681015, 0.1539107028501076, 0.9528060334094044, 0.10063470104058206, 0.8721674090183779, 0.03354490034686068, 0.9028995204027858, 0.2523092637185971, 0.30277111646231647, 0.428925748321615, 0.9710388513722829, 0.9304207987233389, 0.5465691190399353, 0.22359645778906448, 0.14906430519270963, 0.07453215259635482, 0.9055516850512453, 0.9410565828493052, 0.9410565758625873, 0.7120641521324251, 0.06781563353642144, 0.20344690060926432, 0.9863488911596252, 0.9887309138699977, 0.9361307828429292, 0.9419878089945268, 0.053827874799687245, 0.9659282686425138, 0.9741260904333082, 0.9299282779997741, 0.9465202957784384, 0.9465202942789177, 0.9299282783086148, 0.9299282798542312, 0.08736081519932688, 0.8736081519932688, 0.9683055264200092, 0.9577943856026557, 0.9299282777878538, 0.9299282820435127, 0.49729723272643456, 0.0777026926135054, 0.18648646227241295, 0.10878376965890756, 0.03108107704540216, 0.09324323113620647, 0.9609698553864849, 0.8950990720325158, 0.1530206412111677, 0.07651032060558385, 0.7459756259044426, 0.9154479463767886, 0.0789983707977498, 0.47399022478649877, 0.1579967415954996, 0.01579967415954996, 0.23699511239324939, 0.03159934831909992, 0.918221270128631, 0.9780967369374848, 0.9602942094594963, 0.09761699782666891, 0.8590295808746865, 0.019523399565333784, 0.9742933962727492, 0.9386099153800272, 0.9741260911788414, 0.900752949190642, 0.05537367756404131, 0.885978841024661, 0.2925870682599898, 0.05044604625172239, 0.6154417642710132, 0.020178418500688956, 0.020178418500688956, 0.9586052440964058, 0.9154479454113992, 0.9719186117751202, 0.894274282728169, 0.29490812839396224, 0.10208358290560232, 0.24953764710258344, 0.2835655080711175, 0.05671310161422351, 0.9154479474405668, 0.9368444545351753, 0.9678433639082215, 0.7750606731782448, 0.16035738065756788, 0.05345246021918929, 0.9576264340546538, 0.948358412585961, 0.930420802173888, 0.33394459314750635, 0.5893139879073641, 0.05893139879073642, 0.9410565740154467, 0.9502819811351217], \"Term\": [\"abrams american\", \"abrams brag\", \"abrams carrying\", \"abrams cheated\", \"abrams consequential\", \"abrams eliminated\", \"abrams fair\", \"abrams goddess\", \"abrams got\", \"abrams kind\", \"abrams like\", \"abrams okay\", \"abrams pull\", \"abrams raphael\", \"abrams said\", \"abrams spun\", \"abrams state\", \"abrams super\", \"abrams tweet\", \"abrams way\", \"absolutely\", \"absolutely\", \"absolutely quite\", \"activist\", \"actually\", \"air\", \"alternate\", \"alternate game\", \"america\", \"america\", \"america\", \"america\", \"american\", \"american\", \"american\", \"american democracy\", \"american royalty\", \"argument\", \"argument stacey\", \"asking\", \"asking talk\", \"baseball\", \"bc\", \"bc raphael\", \"beat\", \"believe\", \"believe\", \"believe happen\", \"believing\", \"believing stacey\", \"berniesanders\", \"bet\", \"biden\", \"biden\", \"biden\", \"biden\", \"biden\", \"biden charge\", \"black\", \"black\", \"black\", \"black\", \"black\", \"black\", \"black\", \"black president\", \"black woman\", \"black woman\", \"black woman\", \"block\", \"block em\", \"blue\", \"blue\", \"boiled\", \"boiled egg\", \"book\", \"brag\", \"brian\", \"brian kemp\", \"candidate\", \"carrying\", \"carrying democracy\", \"cat\", \"cat happiness\", \"caved stacey\", \"charge\", \"charge\", \"charge\", \"charge vaccine\", \"cheated\", \"cheated\", \"cheated\", \"cheated governor\", \"clearly\", \"closer\", \"closer flipping\", \"cnn\", \"cnn receiving\", \"commitment\", \"commitment undermine\", \"consequential\", \"consequential woman\", \"consistently source\", \"crazy\", \"crazy\", \"cup\", \"cup tea\", \"dad\", \"damn\", \"damn hard\", \"date\", \"date time\", \"day\", \"day\", \"day\", \"day\", \"dear\", \"dear white\", \"decade\", \"decade\", \"democracy\", \"democracy\", \"democracy\", \"democracy\", \"democracy bc\", \"democracy real\", \"democrat\", \"democrat\", \"democrat\", \"democrat\", \"democrat\", \"democrat\", \"democrat closer\", \"democratic\", \"democratic\", \"democratic\", \"deserves\", \"directing\", \"directing alternate\", \"dnc\", \"donnaimamtx\", \"donnaimamtx berniesanders\", \"effective\", \"effort\", \"egg\", \"election\", \"election\", \"election\", \"election\", \"election\", \"election\", \"election\", \"election\", \"election\", \"election georgia\", \"election stacey\", \"eliminated\", \"eliminated meaningful\", \"em\", \"em crazy\", \"ending\", \"ending running\", \"englishman\", \"englishman uk\", \"fact\", \"fact mitch\", \"fair\", \"fair\", \"fair fight\", \"far\", \"far important\", \"fight\", \"flip\", \"flip georgia\", \"flip shit\", \"flipped\", \"flipped\", \"flipped motherfucking\", \"flipping\", \"flipping georgia\", \"follow\", \"follow lead\", \"followed\", \"frankly\", \"frankly soft\", \"freedom\", \"fuck\", \"fuck\", \"game\", \"game throne\", \"georgia\", \"georgia\", \"georgia\", \"georgia\", \"georgia\", \"georgia\", \"georgia\", \"georgia\", \"georgia\", \"georgia\", \"georgia absolutely\", \"georgia blue\", \"georgia democrat\", \"georgia jon\", \"georgia republican\", \"giving\", \"goddess\", \"good\", \"good\", \"good\", \"good\", \"good argument\", \"got\", \"got\", \"got work\", \"governor\", \"governor\", \"governor\", \"governor\", \"governor kemp\", \"governor year\", \"happen\", \"happen\", \"happen\", \"happen work\", \"happiness\", \"hard\", \"hard\", \"harris\", \"hat\", \"hell\", \"hero\", \"hero\", \"hero\", \"history\", \"history\", \"honor\", \"house\", \"human\", \"human believe\", \"idea\", \"idea\", \"important\", \"important\", \"instead\", \"instead\", \"instead\", \"instead\", \"instead\", \"instead believing\", \"invest\", \"invest follow\", \"job\", \"john\", \"john\", \"john lewis\", \"john ossoff\", \"justice\", \"kemp\", \"kemp stole\", \"kind\", \"kind\", \"kind american\", \"knew\", \"lavishing air\", \"lead\", \"leader\", \"leader\", \"leader\", \"leader\", \"league\", \"league baseball\", \"leaked\", \"leaked phone\", \"let\", \"let\", \"let\", \"let\", \"let\", \"let know\", \"lewis\", \"liberal\", \"like\", \"like\", \"like\", \"like\", \"like\", \"like dad\", \"listen\", \"listen\", \"listen\", \"listen stacey\", \"listen trust\", \"lol\", \"look\", \"look\", \"look\", \"look flip\", \"lose\", \"lot\", \"lot\", \"love\", \"love\", \"love stacey\", \"major\", \"major league\", \"make\", \"make\", \"make\", \"make\", \"make sound\", \"making\", \"man\", \"man\", \"match\", \"match taped\", \"mcconnell\", \"mcconnell man\", \"meaningful\", \"meaningful signature\", \"medal\", \"medal freedom\", \"mf\", \"mitch\", \"mitch\", \"mitch\", \"mitch mcconnell\", \"mobilization\", \"mother\", \"mother abrams\", \"motherfucking\", \"motherfucking senate\", \"need\", \"need\", \"needed\", \"new georgia\", \"office\", \"office\", \"okay\", \"okay black\", \"organizing\", \"organizing\", \"ossoff\", \"ossoff\", \"ossoff\", \"ossoff\", \"ossoff\", \"ossoff really\", \"ossoff rev\", \"ossoff stacey\", \"owe\", \"party\", \"party\", \"party\", \"party flipped\", \"people\", \"people\", \"people\", \"people\", \"people\", \"people\", \"person\", \"person\", \"person\", \"person\", \"phone\", \"piece\", \"political\", \"political\", \"political\", \"politics\", \"power\", \"power\", \"power\", \"power american\", \"praise\", \"praise\", \"praise problem\", \"praising\", \"praising stacey\", \"president\", \"president\", \"president\", \"president\", \"president lose\", \"president united\", \"problem\", \"project\", \"project single\", \"pta\", \"pta listen\", \"pull\", \"pull biden\", \"pundit\", \"queen\", \"quite\", \"race\", \"raphael\", \"raphael\", \"raphael\", \"raphael warnock\", \"raphael warnock\", \"raphael warnock\", \"real\", \"real\", \"real\", \"really\", \"really\", \"really\", \"really\", \"receiving\", \"receiving lavishing\", \"remarkable\", \"republican\", \"republican\", \"republican\", \"republican party\", \"republican secretary\", \"rev\", \"rev raphael\", \"rollout\", \"rollout writing\", \"royalty\", \"running\", \"running major\", \"said\", \"said\", \"said\", \"saved\", \"saved\", \"saved\", \"saved\", \"saving\", \"saying\", \"seat\", \"seat\", \"secretary\", \"secretary state\", \"senate\", \"senate\", \"senate\", \"senate\", \"senate\", \"senate american\", \"senator\", \"senator\", \"shit abrams\", \"signature\", \"signature\", \"signature match\", \"signature verification\", \"single\", \"sound\", \"sound like\", \"source\", \"source cnn\", \"sphere\", \"sphere office\", \"spun\", \"spun block\", \"stacey\", \"stacey\", \"stacey\", \"stacey\", \"stacey\", \"stacey\", \"stacey\", \"stacey\", \"stacey\", \"stacey\", \"stacey abrams\", \"stacey abrams\", \"stacey abrams\", \"stacey abrams\", \"stacey abrams\", \"stacey abrams\", \"stacey abrams\", \"stacey abrams\", \"stacey abrams\", \"stacey abrams\", \"stacey flip\", \"stacey mother\", \"stacey saved\", \"stacey want\", \"staceyabrams\", \"staceyabrams\", \"staceyabrams\", \"staceyabrams\", \"staceyabrams\", \"staceyabrams\", \"staceyabrams let\", \"stacy\", \"stacy\", \"stacy\", \"stacy abrams\", \"stacy abrams\", \"stacy abrams\", \"state\", \"state\", \"state\", \"state\", \"state\", \"state caved\", \"state consistently\", \"state listen\", \"state stacey\", \"stole\", \"stole\", \"stole election\", \"stole election\", \"stolen\", \"stop\", \"stop\", \"super\", \"super human\", \"suppression\", \"talk\", \"talk\", \"talk stacey\", \"taped\", \"taped leaked\", \"tea\", \"tea cat\", \"thank\", \"thank\", \"thank\", \"thank\", \"thank\", \"thank georgia\", \"thank stacey\", \"thank stacey\", \"thank stacey\", \"therealkripke\", \"thing\", \"thing\", \"thing\", \"throne\", \"throne ending\", \"time\", \"time\", \"time\", \"time\", \"took\", \"torched\", \"torched republican\", \"trump\", \"trump\", \"trump\", \"trust\", \"trust invest\", \"turned\", \"tweet\", \"tweet\", \"uk\", \"uk election\", \"undermine\", \"united\", \"united state\", \"unrelenting\", \"unrelenting commitment\", \"vaccine\", \"vaccine\", \"vaccine rollout\", \"verification\", \"veto\", \"veto power\", \"voter\", \"voter\", \"voter\", \"voter\", \"voter\", \"voter\", \"voter suppression\", \"wait\", \"want\", \"want\", \"want\", \"want work\", \"warnock\", \"warnock\", \"warnock\", \"warnock\", \"warnock\", \"warnock\", \"warnock john\", \"warnock jon\", \"warnock look\", \"way\", \"way\", \"way\", \"way make\", \"weird\", \"white englishman\", \"white liberal\", \"white woman\", \"white woman\", \"woman\", \"woman\", \"woman\", \"woman\", \"woman\", \"woman history\", \"woman praising\", \"woman sphere\", \"women\", \"work\", \"work\", \"work\", \"work\", \"work\", \"work damn\", \"work georgia\", \"worked\", \"world\", \"world\", \"world\", \"world thank\", \"writing\", \"writing directing\", \"year\", \"year\", \"year\", \"year torched\", \"yes\"]}, \"R\": 30, \"lambda.step\": 0.01, \"plot.opts\": {\"xlab\": \"PC1\", \"ylab\": \"PC2\"}, \"topic.order\": [6, 8, 2, 4, 10, 7, 5, 3, 1, 9]};\n",
       "\n",
       "function LDAvis_load_lib(url, callback){\n",
       "  var s = document.createElement('script');\n",
       "  s.src = url;\n",
       "  s.async = true;\n",
       "  s.onreadystatechange = s.onload = callback;\n",
       "  s.onerror = function(){console.warn(\"failed to load library \" + url);};\n",
       "  document.getElementsByTagName(\"head\")[0].appendChild(s);\n",
       "}\n",
       "\n",
       "if(typeof(LDAvis) !== \"undefined\"){\n",
       "   // already loaded: just create the visualization\n",
       "   !function(LDAvis){\n",
       "       new LDAvis(\"#\" + \"ldavis_el44638140674977920208105276213\", ldavis_el44638140674977920208105276213_data);\n",
       "   }(LDAvis);\n",
       "}else if(typeof define === \"function\" && define.amd){\n",
       "   // require.js is available: use it to load d3/LDAvis\n",
       "   require.config({paths: {d3: \"https://cdnjs.cloudflare.com/ajax/libs/d3/3.5.5/d3.min\"}});\n",
       "   require([\"d3\"], function(d3){\n",
       "      window.d3 = d3;\n",
       "      LDAvis_load_lib(\"https://cdn.rawgit.com/bmabey/pyLDAvis/files/ldavis.v1.0.0.js\", function(){\n",
       "        new LDAvis(\"#\" + \"ldavis_el44638140674977920208105276213\", ldavis_el44638140674977920208105276213_data);\n",
       "      });\n",
       "    });\n",
       "}else{\n",
       "    // require.js not available: dynamically load d3 & LDAvis\n",
       "    LDAvis_load_lib(\"https://cdnjs.cloudflare.com/ajax/libs/d3/3.5.5/d3.min.js\", function(){\n",
       "         LDAvis_load_lib(\"https://cdn.rawgit.com/bmabey/pyLDAvis/files/ldavis.v1.0.0.js\", function(){\n",
       "                 new LDAvis(\"#\" + \"ldavis_el44638140674977920208105276213\", ldavis_el44638140674977920208105276213_data);\n",
       "            })\n",
       "         });\n",
       "}\n",
       "</script>"
      ],
      "text/plain": [
       "PreparedData(topic_coordinates=               x          y  topics  cluster       Freq\n",
       "topic                                                  \n",
       "5      32.420952  8.115230   1       1        12.639200\n",
       "7      0.648955   71.707100  2       1        11.914760\n",
       "1      71.019684  9.971006   3       1        11.156322\n",
       "3      3.785981   33.185135  4       1        11.073140\n",
       "9     -42.666500 -9.222070   5       1        10.421421\n",
       "6     -3.621689  -43.526516  6       1        10.046529\n",
       "4     -3.632402  -4.171708   7       1        9.315782 \n",
       "2     -36.584400  35.804413  8       1        8.830660 \n",
       "0      44.391380  50.615383  9       1        8.080466 \n",
       "8      40.235809 -31.591665  10      1        6.521721 , topic_info=                     Term        Freq       Total Category  logprob  loglift\n",
       "1647  state                189.000000  189.000000  Default  30.0000  30.0000\n",
       "306   carrying             102.000000  102.000000  Default  29.0000  29.0000\n",
       "87    abrams tweet         102.000000  102.000000  Default  28.0000  28.0000\n",
       "307   carrying democracy   102.000000  102.000000  Default  27.0000  27.0000\n",
       "13    abrams carrying      102.000000  102.000000  Default  26.0000  26.0000\n",
       "...               ...             ...         ...      ...      ...      ...\n",
       "505   directing alternate  16.363805   17.196520   Topic10 -4.5852   2.6804 \n",
       "1832  vaccine              20.447707   22.893559   Topic10 -4.3624   2.6170 \n",
       "325   charge               18.374977   26.686032   Topic10 -4.4693   2.3569 \n",
       "1619  stacey abrams        27.194777   402.998870  Topic10 -4.0773   0.0341 \n",
       "1618  stacey               26.442234   411.351195  Topic10 -4.1053  -0.0145 \n",
       "\n",
       "[467 rows x 6 columns], token_table=      Topic      Freq                  Term\n",
       "term                                       \n",
       "5     6      0.942010  abrams american     \n",
       "12    8      0.896900  abrams brag         \n",
       "13    3      0.989756  abrams carrying     \n",
       "15    5      0.952409  abrams cheated      \n",
       "17    6      0.964706  abrams consequential\n",
       "...  ..           ...             ...      \n",
       "1985  2      0.333945  year                \n",
       "1985  5      0.589314  year                \n",
       "1985  7      0.058931  year                \n",
       "1990  5      0.941057  year torched        \n",
       "1994  2      0.950282  yes                 \n",
       "\n",
       "[624 rows x 3 columns], R=30, lambda_step=0.01, plot_opts={'xlab': 'PC1', 'ylab': 'PC2'}, topic_order=[6, 8, 2, 4, 10, 7, 5, 3, 1, 9])"
      ]
     },
     "execution_count": 24,
     "metadata": {},
     "output_type": "execute_result"
    }
   ],
   "source": [
    "pyLDAvis.enable_notebook()\n",
    "panel = pyLDAvis.sklearn.prepare(lda_model, doc_term_matrix_1, tfidfconverter, mds='tsne')\n",
    "panel"
   ]
  },
  {
   "cell_type": "code",
   "execution_count": 25,
   "metadata": {},
   "outputs": [
    {
     "name": "stdout",
     "output_type": "stream",
     "text": [
      "Log Likelihood:  -167336.67622249882\n",
      "Perplexity:  901.0673248447437\n"
     ]
    }
   ],
   "source": [
    "# Log Likelyhood: Higher the better\n",
    "print(\"Log Likelihood: \", lda_model.score(doc_term_matrix_1))\n",
    "\n",
    "# Perplexity: Lower the better. Perplexity = exp(-1. * log-likelihood per word)\n",
    "print(\"Perplexity: \", lda_model.perplexity(doc_term_matrix_1))"
   ]
  },
  {
   "cell_type": "code",
   "execution_count": 26,
   "metadata": {},
   "outputs": [
    {
     "data": {
      "text/plain": [
       "GridSearchCV(estimator=LatentDirichletAllocation(),\n",
       "             param_grid={'learning_decay': [0.5, 0.7, 0.9],\n",
       "                         'n_components': [5, 8, 10, 12]})"
      ]
     },
     "execution_count": 26,
     "metadata": {},
     "output_type": "execute_result"
    }
   ],
   "source": [
    "from sklearn.model_selection import GridSearchCV\n",
    "\n",
    "# Define Search Param\n",
    "search_params = {'n_components': [5, 8, 10, 12], 'learning_decay': [.5, .7, .9]}\n",
    "\n",
    "# Init the Model\n",
    "lda = LatentDirichletAllocation()\n",
    "\n",
    "# Init Grid Search Class\n",
    "model = GridSearchCV(lda, param_grid=search_params)\n",
    "\n",
    "# Do the Grid Search\n",
    "model.fit(doc_term_matrix_1)"
   ]
  },
  {
   "cell_type": "code",
   "execution_count": 27,
   "metadata": {},
   "outputs": [
    {
     "name": "stdout",
     "output_type": "stream",
     "text": [
      "Best Model's Params:  {'learning_decay': 0.9, 'n_components': 5}\n",
      "Best Log Likelihood Score:  -39593.25449893281\n",
      "Model Perplexity:  1000.9217320781232\n"
     ]
    }
   ],
   "source": [
    "# Best Model\n",
    "best_lda_model = model.best_estimator_\n",
    "\n",
    "# Model Parameters\n",
    "print(\"Best Model's Params: \", model.best_params_)\n",
    "\n",
    "# Log Likelihood Score\n",
    "print(\"Best Log Likelihood Score: \", model.best_score_)\n",
    "\n",
    "# Perplexity\n",
    "print(\"Model Perplexity: \", best_lda_model.perplexity(doc_term_matrix_1))"
   ]
  },
  {
   "cell_type": "code",
   "execution_count": 30,
   "metadata": {},
   "outputs": [
    {
     "data": {
      "text/html": [
       "\n",
       "<link rel=\"stylesheet\" type=\"text/css\" href=\"https://cdn.rawgit.com/bmabey/pyLDAvis/files/ldavis.v1.0.0.css\">\n",
       "\n",
       "\n",
       "<div id=\"ldavis_el446381406749067551521597207421\"></div>\n",
       "<script type=\"text/javascript\">\n",
       "\n",
       "var ldavis_el446381406749067551521597207421_data = {\"mdsDat\": {\"x\": [150.22215270996094, 51.16336441040039, -73.1445541381836, -66.4101333618164, 54.41732406616211], \"y\": [-72.2695541381836, -159.968017578125, 21.523815155029297, -110.60643768310547, 12.44344425201416], \"topics\": [1, 2, 3, 4, 5], \"cluster\": [1, 1, 1, 1, 1], \"Freq\": [21.643622066344637, 21.014080437850943, 20.85191350610654, 19.003975049245103, 17.486408940452783]}, \"tinfo\": {\"Term\": [\"carrying\", \"carrying democracy\", \"abrams carrying\", \"tweet\", \"abrams tweet\", \"democracy\", \"state\", \"lead\", \"election stacey\", \"block\", \"spun block\", \"spun\", \"crazy\", \"follow\", \"em\", \"abrams spun\", \"block em\", \"em crazy\", \"abrams state\", \"follow lead\", \"invest\", \"trust\", \"state stacey\", \"listen trust\", \"invest follow\", \"trust invest\", \"state listen\", \"stole\", \"stole election\", \"listen\", \"far\", \"warnock jon\", \"office\", \"uk\", \"abrams raphael\", \"quite\", \"tea\", \"cat\", \"egg\", \"election georgia\", \"happiness\", \"cat happiness\", \"tea cat\", \"boiled egg\", \"boiled\", \"frankly\", \"englishman uk\", \"soft\", \"happiness far\", \"cup tea\", \"uk election\", \"white englishman\", \"ossoff really\", \"englishman\", \"cup\", \"far important\", \"soft boiled\", \"quite frankly\", \"really day\", \"important stacey\", \"really\", \"black woman\", \"absolutely\", \"white\", \"day\", \"important\", \"staceyabrams\", \"woman\", \"black\", \"georgia absolutely\", \"georgia\", \"hero\", \"raphael\", \"raphael warnock\", \"warnock\", \"stacey\", \"work\", \"stacy\", \"need\", \"stacy abrams\", \"know\", \"stacey abrams\", \"election\", \"want\", \"election stacey\", \"block\", \"spun block\", \"spun\", \"lead\", \"em\", \"abrams spun\", \"block em\", \"em crazy\", \"crazy\", \"follow\", \"abrams state\", \"follow lead\", \"invest\", \"trust\", \"state stacey\", \"listen trust\", \"invest follow\", \"trust invest\", \"state listen\", \"queen\", \"owe\", \"saving\", \"kind\", \"ossoff stacey\", \"john ossoff\", \"lose\", \"justice\", \"american democracy\", \"bc\", \"stole\", \"stole election\", \"mcconnell\", \"listen\", \"mitch mcconnell\", \"state\", \"america\", \"election\", \"stacey abrams\", \"stacey\", \"american\", \"tweet\", \"abrams tweet\", \"instead\", \"human\", \"super\", \"history\", \"believing\", \"abrams super\", \"human believe\", \"believing stacey\", \"super human\", \"believe happen\", \"instead believing\", \"happen work\", \"come\", \"consequential\", \"argument\", \"woman history\", \"good argument\", \"argument stacey\", \"consequential woman\", \"abrams consequential\", \"thank stacey\", \"better\", \"pundit\", \"senator\", \"medal\", \"getting\", \"single\", \"like stacey\", \"folk\", \"believe\", \"organizer\", \"good\", \"happen\", \"thank\", \"stacey abrams\", \"stacey\", \"work\", \"georgia\", \"like\", \"woman\", \"stacy\", \"goddess\", \"abrams goddess\", \"senate seat\", \"spent\", \"abrams spent\", \"georgia senate\", \"spent decade\", \"decade\", \"democratic infrastructure\", \"shifting\", \"person responsible\", \"seat person\", \"decade building\", \"political landscape\", \"responsible shifting\", \"infrastructure\", \"shifting political\", \"infrastructure georgia\", \"building democratic\", \"landscape\", \"building\", \"running\", \"flipping\", \"georgia democrat\", \"flipping georgia\", \"closer\", \"game\", \"closer flipping\", \"democrat closer\", \"major\", \"flip georgia\", \"responsible\", \"seat\", \"democratic\", \"person\", \"political\", \"senate\", \"georgia\", \"voter\", \"stacey abrams\", \"stacey\", \"carrying\", \"carrying democracy\", \"abrams carrying\", \"talk stacey\", \"sound\", \"asking\", \"cheated\", \"dad\", \"sound like\", \"like dad\", \"way make\", \"asking talk\", \"make sound\", \"determined\", \"fucking abrams\", \"mother\", \"stacey fucking\", \"pessimistic\", \"optimistic\", \"mother abrams\", \"stacey mother\", \"optimistic pessimistic\", \"pessimistic determined\", \"determined stacey\", \"secretary\", \"secretary state\", \"signature\", \"republican party\", \"motherfucking\", \"abrams cheated\", \"democracy\", \"talk\", \"abrams way\", \"republican\", \"way\", \"make\", \"stacey\", \"stacey abrams\", \"governor\", \"like\", \"fucking\", \"year\", \"state\"], \"Freq\": [114.0, 113.0, 113.0, 118.0, 109.0, 125.0, 194.0, 83.0, 82.0, 81.0, 81.0, 81.0, 81.0, 80.0, 80.0, 80.0, 80.0, 80.0, 80.0, 78.0, 78.0, 78.0, 78.0, 78.0, 78.0, 78.0, 78.0, 87.0, 84.0, 88.0, 29.970934505778484, 29.62101340155162, 29.24032411357455, 28.965851134506458, 28.740548023821923, 28.77701253361216, 28.532040265035054, 28.21040840920516, 28.102377988229364, 28.249640122680578, 27.960244829926815, 27.96026658739507, 27.88091651642516, 27.880757546298472, 27.880800622797924, 27.827317287901696, 27.630284497899336, 27.6302493865761, 27.63040848195232, 27.63013716692994, 27.630222851542783, 27.62995486028631, 27.629883061646982, 27.63020539929919, 27.630138282354704, 27.62999626015966, 27.630153289157246, 27.629986229500446, 27.63049117530782, 27.630448808689977, 45.15928146728304, 48.38467014462606, 34.65580651012939, 48.78460270610209, 41.147565801851385, 30.24640216965669, 52.74770045696909, 56.30886809914011, 48.41781462526946, 27.630638947872246, 56.268689506269325, 30.405137204004802, 34.222123814739575, 34.21965339842451, 35.91556064018293, 58.019469306688954, 37.72235442817881, 38.91870685149442, 31.828546231130236, 38.19522801066079, 31.910690620645465, 49.4707805925893, 38.49264175389781, 30.281923625307783, 81.62172227935393, 81.16065724699317, 81.05688646309147, 81.05666947967978, 82.52939097839416, 79.59385552346863, 79.59415095923045, 79.5939502340255, 79.59444115651148, 80.53411865409383, 80.10009994383348, 79.45984541924174, 78.21332583619386, 78.05404132569244, 77.94123297765353, 77.90733587424202, 77.74540666097425, 77.74574257650642, 77.74559095704993, 77.54970785451185, 36.46491583078469, 30.540970007556883, 33.008618013149544, 17.095236792324826, 15.484440539693686, 15.553886507934608, 15.327056571266661, 17.8290154415268, 13.675363606406709, 14.803919805153443, 79.70762912491284, 76.67322106194635, 26.66021533905978, 72.7294830485982, 23.7820396768634, 138.85536817320352, 38.56842810944872, 70.28889303032668, 133.25762188904235, 128.31287124536834, 33.30520146357247, 118.06774864142386, 109.11909417553453, 35.833343351163535, 34.14765339949381, 30.885629316818015, 34.306291319300186, 29.89071223668174, 29.824097200443635, 29.711554097788266, 29.711841890834044, 29.711392649781356, 29.71148637558665, 29.711618210199052, 29.711155125670384, 29.390256465909424, 27.397942731178635, 27.3862055902889, 26.32795432636478, 26.13894910938213, 26.138691101987238, 26.13854158931142, 26.13875472372508, 28.19602609018474, 24.460346115782535, 21.475407136721515, 18.971743932972508, 17.481073597902874, 18.067609158775074, 16.297857628386428, 15.980468422302748, 16.84984211927826, 35.08665059948625, 31.2402968157312, 38.800113870780095, 33.609300498791015, 48.78306807570669, 102.33872121856894, 99.9071133073138, 43.98570463193252, 38.26978202076182, 28.426551372598855, 28.63270848933949, 27.02287247741198, 44.17608092743974, 43.745511511518195, 33.17985729922441, 32.91761641349722, 31.320565884996277, 30.914846160036912, 30.543292390323597, 32.9567154807024, 30.11249754024104, 30.112403665654266, 30.112494868399747, 30.112835270367434, 30.11249451895369, 30.112392318026366, 30.112347112346633, 30.436674447218916, 30.111901067957028, 30.112008384084664, 30.11255086323911, 30.11223539593201, 33.43184671366171, 23.048006739799288, 20.981447840205135, 20.335511046281407, 20.241617013158347, 19.514615267476465, 19.811975565749982, 19.264400327368467, 19.035834269398727, 17.081204774057362, 18.5416105463704, 30.109201598880674, 36.91396143654393, 35.0489529139483, 38.11558680174943, 32.3677262550131, 40.63874846802833, 48.7358080889139, 31.488636688983206, 48.054515082471845, 45.89364519751, 113.82753782920867, 112.76979446722478, 112.76989686950441, 33.38398040565301, 32.348603690671894, 32.15670758914824, 34.05162863598107, 31.42381499364317, 31.272711119233225, 31.095428165602588, 31.09579588348401, 31.095370776961918, 31.09536614388342, 25.95383217793012, 25.598762472888144, 25.7933995534117, 25.117132524802933, 25.21441390555117, 25.07762661454339, 24.857351725921742, 24.857298378649457, 24.89935085373796, 24.899601105853197, 24.89958654050779, 24.896823205809298, 24.63503539056794, 24.510028063775245, 22.52105015073439, 20.301294092187288, 19.19815755968713, 100.01864048198092, 34.35570078543965, 30.445181343944622, 35.31679716618887, 37.87134739869411, 35.44148981241361, 87.42719320831692, 77.22323745884357, 30.696390088684726, 30.210268478868358, 25.74682610088798, 25.73710749006467, 26.43858731535941], \"Total\": [114.0, 113.0, 113.0, 118.0, 109.0, 125.0, 194.0, 83.0, 82.0, 81.0, 81.0, 81.0, 81.0, 80.0, 80.0, 80.0, 80.0, 80.0, 80.0, 78.0, 78.0, 78.0, 78.0, 78.0, 78.0, 78.0, 78.0, 87.0, 84.0, 88.0, 30.739917028069524, 30.381650505024187, 29.99744105626518, 29.72861468876752, 29.501915836737, 29.53991575378506, 29.293694332558296, 28.971683225439627, 28.86434222533838, 29.016047063369136, 28.721006110349194, 28.721234470442518, 28.641556982582692, 28.641991937106607, 28.642119949775623, 28.589067765571773, 28.39056484695391, 28.39077674755255, 28.391066538043678, 28.390787803923548, 28.391003406921286, 28.390800736903774, 28.3907338447517, 28.391097337907585, 28.391059655497862, 28.391064990577032, 28.391282912021932, 28.39112191693002, 28.391659748498796, 28.391637861801943, 48.36821653800446, 53.546879621601455, 37.81203810255692, 60.09149892421223, 51.28855346943235, 32.81721476538243, 82.62826459036283, 99.13040117615579, 85.0658326585041, 28.391956905008918, 181.32457586833533, 36.6647830021579, 55.41002029021139, 55.41062996311526, 66.40218927619566, 419.56029226519803, 86.58896984172836, 98.87103635916223, 46.93023306286364, 97.04583827534776, 49.12699381837073, 410.344876241516, 129.23341935319348, 52.31174174895366, 82.37580034753663, 81.9143977712242, 81.81027105015916, 81.81102953600933, 83.30245704232415, 80.34705022327014, 80.34794686096961, 80.34782714289115, 80.348626698767, 81.30678996461857, 80.86909386010399, 80.22824775832002, 78.98099907621688, 78.82093865669522, 78.70857273876555, 78.67521411450267, 78.51239069326007, 78.51361679912111, 78.5136842546426, 78.3173262630422, 37.34718057196646, 31.298118772433455, 33.85542575511251, 17.88317029452221, 16.243335746969446, 16.31730039459201, 16.103410614183176, 18.80445986138774, 14.429265477731084, 15.629192717586937, 87.81971919522405, 84.66307107360485, 29.334617069928235, 88.40090708593522, 26.081169620256482, 194.54692746093903, 49.974701886184434, 129.23341935319348, 410.344876241516, 419.56029226519803, 62.38901898054211, 118.86218705152133, 109.88460845919478, 36.59733613794218, 34.9053827521049, 31.644471465085896, 35.14926620436015, 30.64723160809716, 30.58126743018188, 30.466722371007478, 30.467386384119937, 30.4675421591685, 30.46785317845196, 30.468473910095387, 30.46813068464047, 30.195883578600863, 28.15878496405934, 28.146961473031674, 27.088678164851807, 26.899259767400295, 26.89964006080167, 26.89972574340579, 26.900322455869453, 29.030214101280386, 25.235779122133923, 22.231487525675636, 19.759110444883255, 18.238707940550025, 18.851053745229652, 17.06249115475513, 16.740078525853843, 17.676889541076104, 39.03025982170501, 35.588955487554486, 45.7173562836576, 43.918087586957064, 96.3203082980177, 410.344876241516, 419.56029226519803, 86.58896984172836, 181.32457586833533, 84.63183818892284, 99.13040117615579, 98.87103635916223, 44.91454205367069, 44.484621448974615, 33.93329911617278, 33.67424194573378, 32.073197183722094, 31.66819232595927, 31.296494771271597, 33.77825549783035, 30.864095426654114, 30.864146909293307, 30.864482949499987, 30.86503219971499, 30.86474248963499, 30.86478396395434, 30.864787275364932, 31.19731647711341, 30.864439615122507, 30.864580492030484, 30.865243713539815, 30.865155949469923, 34.37550559902904, 23.791139491410505, 21.72072294172099, 21.074578964206218, 20.98025509765692, 20.253480935148936, 20.563331436714932, 20.002448919762752, 19.773873436274528, 17.831677819376893, 19.35873505821839, 33.874647217576175, 43.56502560465266, 41.82991088416344, 46.844902892860205, 41.563527431196256, 75.72431306382362, 181.32457586833533, 66.45728740210842, 410.344876241516, 419.56029226519803, 114.57327049961239, 113.51584161839644, 113.51621014893027, 34.132006361586065, 33.09441935899838, 32.90995306209468, 34.852979411565144, 32.16942665936533, 32.01758286989236, 31.839560537824052, 31.84031986024636, 31.839954280520203, 31.840324638616934, 26.70418072532564, 26.3481621026979, 26.556619502877805, 25.86631809450341, 25.967943877415568, 25.827627081055518, 25.601497331516043, 25.601749168048194, 25.647577429265837, 25.648521844720218, 25.648701824811397, 25.650905991886106, 25.3837887831273, 25.257009940232596, 23.29941309638843, 21.053111889520785, 19.945614715297282, 125.85173647378235, 39.34406029783045, 34.87607869289203, 45.145267106323914, 51.204828206909724, 52.57020610231333, 419.56029226519803, 410.344876241516, 57.52417216537859, 84.63183818892284, 44.50215739633845, 50.02363659061612, 194.54692746093903], \"Category\": [\"Default\", \"Default\", \"Default\", \"Default\", \"Default\", \"Default\", \"Default\", \"Default\", \"Default\", \"Default\", \"Default\", \"Default\", \"Default\", \"Default\", \"Default\", \"Default\", \"Default\", \"Default\", \"Default\", \"Default\", \"Default\", \"Default\", \"Default\", \"Default\", \"Default\", \"Default\", \"Default\", \"Default\", \"Default\", \"Default\", \"Topic1\", \"Topic1\", \"Topic1\", \"Topic1\", \"Topic1\", \"Topic1\", \"Topic1\", \"Topic1\", \"Topic1\", \"Topic1\", \"Topic1\", \"Topic1\", \"Topic1\", \"Topic1\", \"Topic1\", \"Topic1\", \"Topic1\", \"Topic1\", \"Topic1\", \"Topic1\", \"Topic1\", \"Topic1\", \"Topic1\", \"Topic1\", \"Topic1\", \"Topic1\", \"Topic1\", \"Topic1\", \"Topic1\", \"Topic1\", \"Topic1\", \"Topic1\", \"Topic1\", \"Topic1\", \"Topic1\", \"Topic1\", \"Topic1\", \"Topic1\", \"Topic1\", \"Topic1\", \"Topic1\", \"Topic1\", \"Topic1\", \"Topic1\", \"Topic1\", \"Topic1\", \"Topic1\", \"Topic1\", \"Topic1\", \"Topic1\", \"Topic1\", \"Topic1\", \"Topic1\", \"Topic1\", \"Topic2\", \"Topic2\", \"Topic2\", \"Topic2\", \"Topic2\", \"Topic2\", \"Topic2\", \"Topic2\", \"Topic2\", \"Topic2\", \"Topic2\", \"Topic2\", \"Topic2\", \"Topic2\", \"Topic2\", \"Topic2\", \"Topic2\", \"Topic2\", \"Topic2\", \"Topic2\", \"Topic2\", \"Topic2\", \"Topic2\", \"Topic2\", \"Topic2\", \"Topic2\", \"Topic2\", \"Topic2\", \"Topic2\", \"Topic2\", \"Topic2\", \"Topic2\", \"Topic2\", \"Topic2\", \"Topic2\", \"Topic2\", \"Topic2\", \"Topic2\", \"Topic2\", \"Topic2\", \"Topic2\", \"Topic3\", \"Topic3\", \"Topic3\", \"Topic3\", \"Topic3\", \"Topic3\", \"Topic3\", \"Topic3\", \"Topic3\", \"Topic3\", \"Topic3\", \"Topic3\", \"Topic3\", \"Topic3\", \"Topic3\", \"Topic3\", \"Topic3\", \"Topic3\", \"Topic3\", \"Topic3\", \"Topic3\", \"Topic3\", \"Topic3\", \"Topic3\", \"Topic3\", \"Topic3\", \"Topic3\", \"Topic3\", \"Topic3\", \"Topic3\", \"Topic3\", \"Topic3\", \"Topic3\", \"Topic3\", \"Topic3\", \"Topic3\", \"Topic3\", \"Topic3\", \"Topic3\", \"Topic3\", \"Topic3\", \"Topic3\", \"Topic3\", \"Topic4\", \"Topic4\", \"Topic4\", \"Topic4\", \"Topic4\", \"Topic4\", \"Topic4\", \"Topic4\", \"Topic4\", \"Topic4\", \"Topic4\", \"Topic4\", \"Topic4\", \"Topic4\", \"Topic4\", \"Topic4\", \"Topic4\", \"Topic4\", \"Topic4\", \"Topic4\", \"Topic4\", \"Topic4\", \"Topic4\", \"Topic4\", \"Topic4\", \"Topic4\", \"Topic4\", \"Topic4\", \"Topic4\", \"Topic4\", \"Topic4\", \"Topic4\", \"Topic4\", \"Topic4\", \"Topic4\", \"Topic4\", \"Topic4\", \"Topic4\", \"Topic4\", \"Topic4\", \"Topic4\", \"Topic5\", \"Topic5\", \"Topic5\", \"Topic5\", \"Topic5\", \"Topic5\", \"Topic5\", \"Topic5\", \"Topic5\", \"Topic5\", \"Topic5\", \"Topic5\", \"Topic5\", \"Topic5\", \"Topic5\", \"Topic5\", \"Topic5\", \"Topic5\", \"Topic5\", \"Topic5\", \"Topic5\", \"Topic5\", \"Topic5\", \"Topic5\", \"Topic5\", \"Topic5\", \"Topic5\", \"Topic5\", \"Topic5\", \"Topic5\", \"Topic5\", \"Topic5\", \"Topic5\", \"Topic5\", \"Topic5\", \"Topic5\", \"Topic5\", \"Topic5\", \"Topic5\", \"Topic5\", \"Topic5\", \"Topic5\", \"Topic5\"], \"logprob\": [30.0, 29.0, 28.0, 27.0, 26.0, 25.0, 24.0, 23.0, 22.0, 21.0, 20.0, 19.0, 18.0, 17.0, 16.0, 15.0, 14.0, 13.0, 12.0, 11.0, 10.0, 9.0, 8.0, 7.0, 6.0, 5.0, 4.0, 3.0, 2.0, 1.0, -5.1796, -5.1914, -5.2043, -5.2137, -5.2215, -5.2203, -5.2288, -5.2402, -5.244, -5.2388, -5.2491, -5.2491, -5.2519, -5.2519, -5.2519, -5.2538, -5.2609, -5.2609, -5.2609, -5.2609, -5.2609, -5.261, -5.261, -5.2609, -5.2609, -5.261, -5.2609, -5.261, -5.2609, -5.2609, -4.7697, -4.7007, -5.0344, -4.6924, -4.8627, -5.1705, -4.6143, -4.549, -4.7, -5.2609, -4.5497, -5.1652, -5.047, -5.0471, -4.9987, -4.5191, -4.9496, -4.9184, -5.1195, -4.9371, -5.1169, -4.6785, -4.9294, -5.1693, -4.1482, -4.1539, -4.1552, -4.1552, -4.1372, -4.1734, -4.1734, -4.1734, -4.1734, -4.1617, -4.1671, -4.1751, -4.1909, -4.1929, -4.1944, -4.1948, -4.1969, -4.1969, -4.1969, -4.1994, -4.954, -5.1313, -5.0536, -5.7115, -5.8105, -5.806, -5.8207, -5.6695, -5.9347, -5.8554, -4.172, -4.2108, -5.2672, -4.2636, -5.3814, -3.6169, -4.8979, -4.2977, -3.6581, -3.6959, -5.0446, -3.7713, -3.8501, -4.9637, -5.0119, -5.1123, -5.0073, -5.145, -5.1473, -5.1511, -5.151, -5.1511, -5.1511, -5.1511, -5.1511, -5.1619, -5.2321, -5.2326, -5.272, -5.2792, -5.2792, -5.2792, -5.2792, -5.2034, -5.3455, -5.4757, -5.5996, -5.6815, -5.6485, -5.7516, -5.7712, -5.7182, -4.9848, -5.1009, -4.8842, -5.0278, -4.6552, -3.9143, -3.9383, -4.7587, -4.8979, -5.1953, -5.188, -5.2459, -4.6616, -4.6714, -4.9478, -4.9558, -5.0055, -5.0186, -5.0306, -4.9546, -5.0449, -5.0449, -5.0449, -5.0448, -5.0449, -5.0449, -5.0449, -5.0341, -5.0449, -5.0449, -5.0449, -5.0449, -4.9403, -5.3122, -5.4062, -5.4374, -5.4421, -5.4786, -5.4635, -5.4915, -5.5035, -5.6118, -5.5298, -5.045, -4.8412, -4.893, -4.8092, -4.9726, -4.7451, -4.5634, -5.0002, -4.5775, -4.6235, -3.6319, -3.6412, -3.6412, -4.8585, -4.89, -4.8959, -4.8387, -4.919, -4.9238, -4.9295, -4.9295, -4.9295, -4.9295, -5.1102, -5.124, -5.1164, -5.143, -5.1392, -5.1446, -5.1534, -5.1534, -5.1517, -5.1517, -5.1517, -5.1518, -5.1624, -5.1675, -5.2521, -5.3559, -5.4118, -3.7612, -4.8298, -4.9506, -4.8022, -4.7324, -4.7987, -3.8958, -4.0199, -4.9424, -4.9584, -5.1183, -5.1186, -5.0917], \"loglift\": [30.0, 29.0, 28.0, 27.0, 26.0, 25.0, 24.0, 23.0, 22.0, 21.0, 20.0, 19.0, 18.0, 17.0, 16.0, 15.0, 14.0, 13.0, 12.0, 11.0, 10.0, 9.0, 8.0, 7.0, 6.0, 5.0, 4.0, 3.0, 2.0, 1.0, 1.5051, 1.5051, 1.5049, 1.5045, 1.5043, 1.5043, 1.5041, 1.5038, 1.5037, 1.5037, 1.5036, 1.5036, 1.5035, 1.5035, 1.5035, 1.5035, 1.5033, 1.5033, 1.5033, 1.5033, 1.5033, 1.5033, 1.5033, 1.5033, 1.5033, 1.5033, 1.5033, 1.5033, 1.5033, 1.5033, 1.4618, 1.4291, 1.4433, 1.322, 1.3102, 1.4489, 1.0816, 0.9649, 0.9669, 1.5033, 0.3603, 1.3433, 1.0486, 1.0485, 0.9159, -0.448, 0.6995, 0.5981, 1.1422, 0.598, 1.099, -0.5852, 0.3193, 0.9838, 1.5508, 1.5507, 1.5507, 1.5507, 1.5507, 1.5506, 1.5506, 1.5506, 1.5505, 1.5504, 1.5504, 1.5504, 1.5502, 1.5502, 1.5502, 1.5502, 1.5502, 1.5501, 1.5501, 1.5501, 1.5361, 1.5355, 1.5346, 1.5149, 1.5121, 1.5121, 1.5106, 1.5067, 1.5063, 1.5057, 1.4631, 1.4609, 1.4644, 1.3648, 1.4677, 1.2227, 1.3009, 0.951, 0.4353, 0.3752, 0.9323, 1.561, 1.5607, 1.5466, 1.5458, 1.5435, 1.5434, 1.5427, 1.5427, 1.5426, 1.5426, 1.5426, 1.5426, 1.5426, 1.5426, 1.5407, 1.5403, 1.5403, 1.5392, 1.5391, 1.539, 1.539, 1.539, 1.5386, 1.5365, 1.5331, 1.5271, 1.5253, 1.5253, 1.5219, 1.5213, 1.5198, 1.4612, 1.4374, 1.4037, 1.3002, 0.8874, 0.179, 0.1328, 0.8904, 0.0121, 0.4767, 0.3258, 0.2706, 1.6439, 1.6438, 1.6381, 1.6378, 1.6368, 1.6364, 1.6362, 1.6359, 1.6359, 1.6359, 1.6359, 1.6358, 1.6358, 1.6358, 1.6358, 1.6358, 1.6358, 1.6358, 1.6358, 1.6358, 1.6327, 1.6288, 1.6259, 1.6248, 1.6247, 1.6234, 1.6233, 1.6229, 1.6225, 1.6175, 1.6174, 1.5427, 1.4949, 1.4837, 1.4543, 1.4105, 1.0381, 0.3466, 0.9136, -0.4841, -0.5524, 1.7372, 1.7372, 1.7372, 1.7216, 1.721, 1.7206, 1.7205, 1.7203, 1.7202, 1.7201, 1.7201, 1.7201, 1.7201, 1.7152, 1.7149, 1.7146, 1.7144, 1.7143, 1.7143, 1.7142, 1.7142, 1.7141, 1.7141, 1.7141, 1.7139, 1.7138, 1.7137, 1.7098, 1.7074, 1.7056, 1.514, 1.6082, 1.6079, 1.4982, 1.4421, 1.3495, 0.1753, 0.0734, 1.1157, 0.7136, 1.1965, 1.0792, -0.2521]}, \"token.table\": {\"Topic\": [5, 5, 3, 4, 1, 4, 2, 2, 3, 3, 3, 5, 1, 2, 2, 4, 5, 1, 2, 5, 2, 3, 3, 5, 5, 2, 2, 3, 3, 3, 3, 3, 1, 2, 3, 4, 5, 1, 2, 5, 2, 2, 1, 1, 4, 4, 5, 5, 1, 1, 5, 4, 4, 3, 3, 3, 2, 1, 1, 5, 1, 3, 4, 4, 1, 2, 5, 4, 2, 3, 4, 5, 4, 5, 5, 1, 1, 2, 3, 4, 5, 1, 2, 2, 2, 1, 1, 1, 1, 4, 4, 4, 3, 2, 2, 1, 1, 3, 5, 5, 4, 1, 2, 3, 4, 5, 1, 4, 4, 3, 4, 1, 2, 3, 3, 1, 2, 5, 1, 3, 3, 1, 1, 1, 2, 3, 3, 3, 1, 4, 1, 4, 4, 3, 3, 2, 2, 2, 2, 2, 1, 2, 3, 4, 2, 1, 2, 3, 4, 5, 5, 3, 1, 2, 2, 2, 4, 1, 2, 4, 5, 5, 2, 4, 3, 2, 4, 5, 5, 5, 1, 2, 3, 1, 5, 5, 1, 3, 4, 5, 1, 2, 2, 2, 4, 4, 5, 5, 2, 3, 4, 4, 3, 2, 1, 1, 1, 2, 4, 1, 2, 4, 1, 5, 1, 1, 3, 5, 5, 3, 4, 4, 4, 2, 4, 5, 4, 5, 5, 1, 2, 3, 4, 5, 4, 3, 4, 4, 5, 3, 1, 1, 5, 5, 4, 4, 2, 2, 1, 2, 3, 4, 5, 1, 2, 3, 4, 5, 5, 5, 1, 2, 3, 1, 2, 3, 5, 1, 2, 3, 5, 1, 2, 4, 5, 2, 2, 1, 2, 1, 2, 3, 3, 1, 5, 5, 1, 1, 1, 3, 4, 5, 3, 2, 2, 3, 1, 1, 2, 3, 4, 5, 1, 2, 3, 4, 5, 1, 2, 3, 4, 1, 2, 3, 5, 5, 1, 2, 1, 1, 2, 3, 4, 5, 3, 1, 2, 3, 5, 2, 3, 5], \"Freq\": [0.9954525424320191, 0.9525903448555013, 0.9665311649201808, 0.9891058655061167, 0.9829870087246336, 0.9665391268112564, 0.9956694990405706, 0.9846905822744627, 0.9809926965417984, 0.9919496599969843, 0.11469179305456798, 0.8601884479092597, 0.9256311417297878, 0.07933981214826753, 0.7803948503549072, 0.06003037310422363, 0.16008099494459635, 0.20837000184366483, 0.528939235449303, 0.24042692520422865, 0.9702503583156346, 0.9592509666050238, 0.9665556840623816, 0.9723502169578372, 0.9736194884854439, 0.9597424685358873, 0.07686343912913637, 0.8967401231732577, 0.9846443667785939, 0.9788812374189726, 0.9846594526282193, 0.9510306729127281, 0.5642688550724648, 0.2116008206521743, 0.03526680344202905, 0.10580041032608715, 0.08228920803140112, 0.8964107776064737, 0.0373504490669364, 0.0373504490669364, 0.9888371544428857, 0.9956709825858443, 0.9775812701398643, 0.9775856393467214, 0.959985880205704, 0.971967053894985, 0.9949964725881302, 0.9954557741805719, 0.9664609329779498, 0.9748884585311, 0.9755263559682331, 0.9874845743326506, 0.9498836905528945, 0.9603958077435311, 0.9588481901638027, 0.9665526053318091, 0.9962267608307734, 0.9862259577401108, 0.9862354011934272, 0.9636478861824888, 0.7993986421246163, 0.17547775071028163, 0.9769598670398967, 0.9719828380254465, 0.09535029341847708, 0.11124200898822324, 0.7945857784873089, 0.9608638419392893, 0.023906338284325493, 0.09562535313730197, 0.8367218399513922, 0.047812676568650986, 0.972003215558105, 0.9736303190661899, 0.9747082004679133, 0.970055017412466, 0.294041589166239, 0.5416555589904403, 0.04642761934203774, 0.038689682785031446, 0.0696414290130566, 0.964983270769097, 0.9954379763722944, 0.9956806102737343, 0.9956610745809753, 0.9862246487603917, 0.9862431463037336, 0.9759297649569488, 0.986225772414426, 0.9814690858085743, 0.9668186485479896, 0.9532772555388808, 0.9617076556651438, 0.9892530777999388, 0.9875793027729339, 0.9793953489354013, 0.11235410354311026, 0.31459148992070873, 0.5842413384241734, 0.9867860953131813, 0.9726050499916016, 0.3088384447161929, 0.08272458340612308, 0.20956894462884515, 0.27023363912666876, 0.12684436122272208, 0.9861947907880992, 0.9490106556324889, 0.9789002062674876, 0.9548537839458966, 0.9796381748125618, 0.08749412313305316, 0.06562059234978987, 0.8530677005472683, 0.9665693489272101, 0.2259919527850965, 0.2259919527850965, 0.5389038874106147, 0.22769661771360536, 0.7741685002262583, 0.9846353985583873, 0.9748962098479764, 0.9862257186597885, 0.818223852524488, 0.16364477050489762, 0.9673032660858909, 0.9740618013406456, 0.9846809129868326, 0.9141543611935588, 0.06094362407957058, 0.9862058728803085, 0.9616211709109093, 0.9719879396302268, 0.9836781525384605, 0.984624306702143, 0.9895847642684031, 0.9934582455877022, 0.9805543572209302, 0.957219730461943, 0.9506144447557638, 0.6513730540547303, 0.14248785557447227, 0.20355407939210324, 0.9719698176517789, 0.9963691702134251, 0.21268591566945258, 0.03544765261157543, 0.33084475770803734, 0.05907942101929238, 0.3544765261157543, 0.9736315287132594, 0.9557900206554679, 0.16968151679052776, 0.8257833817139018, 0.9934737601449186, 0.9314796945430094, 0.9533595308416157, 0.20924399608766134, 0.09511090731257334, 0.019022181462514668, 0.6657763511880134, 0.9736081636052868, 0.9204142646770215, 0.06817883442052011, 0.9320835694837784, 0.9202041300080308, 0.07668367750066923, 0.9790402726967005, 0.9765053846762476, 0.9499783264798506, 0.6818632235884189, 0.12784935442282855, 0.17046580589710472, 0.9667491285541885, 0.9679557445034283, 0.9747509318939845, 0.028098604926736374, 0.8710567527288277, 0.05619720985347275, 0.028098604926736374, 0.9862372756235066, 0.9234556395104117, 0.9904748660901617, 0.17077631729319495, 0.811187507142676, 0.971991011451109, 0.9627254324799511, 0.974715040163076, 0.048119111240276104, 0.16841688934096638, 0.7699057798444177, 0.97198153193088, 0.9446061571789398, 0.9639281854390453, 0.9817225019094417, 0.9862237949569442, 0.6136074273556323, 0.18047277275165657, 0.19852005002682221, 0.6136006759467001, 0.1804707870431471, 0.1985178657474618, 0.9303630197868068, 0.06202420131912045, 0.9862051126292641, 0.1550550134859972, 0.06645214863685595, 0.775275067429986, 0.9871493288200104, 0.0885618079128931, 0.885618079128931, 0.9719814276492625, 0.9667464649309405, 0.9747329789529132, 0.8493051360917476, 0.1377251572040672, 0.9719737146516576, 0.9746244443727641, 0.9848805556015969, 0.02641159647515477, 0.06602899118788692, 0.171675377088506, 0.5414377277406728, 0.19808697356366076, 0.9724960690389233, 0.9615817499982733, 0.9720015942176224, 0.9719923761486678, 0.9898242135216807, 0.9377294238503371, 0.9862357852683182, 0.9862182024942505, 0.9669303955109033, 0.9682179984033323, 0.9799775167375608, 0.9905262626553386, 0.9900865501802254, 0.9900957295488928, 0.13823996471844155, 0.30508130144759515, 0.2383447667559337, 0.1096385927077295, 0.2073599470776623, 0.11941175054702073, 0.32411760862762773, 0.2485713990978799, 0.11697477604606113, 0.18764703657388973, 0.9665078697579498, 0.9764957790931256, 0.6414270015563359, 0.0968191700462394, 0.2662527176271583, 0.3944532335873096, 0.30342556429793044, 0.2730830078681374, 0.020228370953195365, 0.39156753834391905, 0.3091322671136203, 0.2679146314984709, 0.020608817807574686, 0.10794310798980036, 0.7144805719324882, 0.041121183996114426, 0.1336438479873719, 0.9959481984615204, 0.9914177022318621, 0.0910957137339044, 0.910957137339044, 0.08268067660709237, 0.9094874426780162, 0.9796339949682219, 0.9846544182420109, 0.10166718863585546, 0.8641711034047713, 0.9668344617777851, 0.9899741449738597, 0.9776004850932919, 0.28031471739543495, 0.5087193019398635, 0.11420229227221425, 0.10382026570201296, 0.9645123491791627, 0.9909975150849538, 0.9934573920518547, 0.9927463302425387, 0.9754911321501026, 0.986227911662116, 0.1655198463554956, 0.12037807007672409, 0.46646502154730585, 0.24075614015344818, 0.5734850149698956, 0.22939400598795823, 0.09558083582831593, 0.03823233433132637, 0.05734850149698956, 0.5421507994301258, 0.19577667757198985, 0.03011948885722921, 0.2409559108578337, 0.9874381247009252, 0.058588225076696414, 0.19529408358898803, 0.7421175176381546, 0.9736083097175312, 0.8154231609665638, 0.1830541789924939, 0.9862349519294892, 0.5649124722141233, 0.05043861359054672, 0.292543958825171, 0.02017544543621869, 0.08070178174487476, 0.9598105836605793, 0.4388549727460472, 0.0230976301445288, 0.5081478631796336, 0.0346464452167932, 0.119943298986894, 0.35982989696068196, 0.519754295609874], \"Term\": [\"abrams carrying\", \"abrams cheated\", \"abrams consequential\", \"abrams goddess\", \"abrams raphael\", \"abrams spent\", \"abrams spun\", \"abrams state\", \"abrams super\", \"abrams tweet\", \"abrams way\", \"abrams way\", \"absolutely\", \"absolutely\", \"america\", \"america\", \"america\", \"american\", \"american\", \"american\", \"american democracy\", \"argument\", \"argument stacey\", \"asking\", \"asking talk\", \"bc\", \"believe\", \"believe\", \"believe happen\", \"believing\", \"believing stacey\", \"better\", \"black\", \"black\", \"black\", \"black\", \"black\", \"black woman\", \"black woman\", \"black woman\", \"block\", \"block em\", \"boiled\", \"boiled egg\", \"building\", \"building democratic\", \"carrying\", \"carrying democracy\", \"cat\", \"cat happiness\", \"cheated\", \"closer\", \"closer flipping\", \"come\", \"consequential\", \"consequential woman\", \"crazy\", \"cup\", \"cup tea\", \"dad\", \"day\", \"day\", \"decade\", \"decade building\", \"democracy\", \"democracy\", \"democracy\", \"democrat closer\", \"democratic\", \"democratic\", \"democratic\", \"democratic\", \"democratic infrastructure\", \"determined\", \"determined stacey\", \"egg\", \"election\", \"election\", \"election\", \"election\", \"election\", \"election georgia\", \"election stacey\", \"em\", \"em crazy\", \"englishman\", \"englishman uk\", \"far\", \"far important\", \"flip georgia\", \"flipping\", \"flipping georgia\", \"folk\", \"follow\", \"follow lead\", \"frankly\", \"fucking\", \"fucking\", \"fucking\", \"fucking abrams\", \"game\", \"georgia\", \"georgia\", \"georgia\", \"georgia\", \"georgia\", \"georgia absolutely\", \"georgia democrat\", \"georgia senate\", \"getting\", \"goddess\", \"good\", \"good\", \"good\", \"good argument\", \"governor\", \"governor\", \"governor\", \"happen\", \"happen\", \"happen work\", \"happiness\", \"happiness far\", \"hero\", \"hero\", \"history\", \"human\", \"human believe\", \"important\", \"important\", \"important stacey\", \"infrastructure\", \"infrastructure georgia\", \"instead\", \"instead believing\", \"invest\", \"invest follow\", \"john ossoff\", \"justice\", \"kind\", \"know\", \"know\", \"know\", \"landscape\", \"lead\", \"like\", \"like\", \"like\", \"like\", \"like\", \"like dad\", \"like stacey\", \"listen\", \"listen\", \"listen trust\", \"lose\", \"major\", \"make\", \"make\", \"make\", \"make\", \"make sound\", \"mcconnell\", \"mcconnell\", \"medal\", \"mitch mcconnell\", \"mitch mcconnell\", \"mother\", \"mother abrams\", \"motherfucking\", \"need\", \"need\", \"need\", \"office\", \"optimistic\", \"optimistic pessimistic\", \"organizer\", \"organizer\", \"organizer\", \"organizer\", \"ossoff really\", \"ossoff stacey\", \"owe\", \"person\", \"person\", \"person responsible\", \"pessimistic\", \"pessimistic determined\", \"political\", \"political\", \"political\", \"political landscape\", \"pundit\", \"queen\", \"quite\", \"quite frankly\", \"raphael\", \"raphael\", \"raphael\", \"raphael warnock\", \"raphael warnock\", \"raphael warnock\", \"really\", \"really\", \"really day\", \"republican\", \"republican\", \"republican\", \"republican party\", \"responsible\", \"responsible\", \"responsible shifting\", \"running\", \"saving\", \"seat\", \"seat\", \"seat person\", \"secretary\", \"secretary state\", \"senate\", \"senate\", \"senate\", \"senate\", \"senate\", \"senate seat\", \"senator\", \"shifting\", \"shifting political\", \"signature\", \"single\", \"soft\", \"soft boiled\", \"sound\", \"sound like\", \"spent\", \"spent decade\", \"spun\", \"spun block\", \"stacey\", \"stacey\", \"stacey\", \"stacey\", \"stacey\", \"stacey abrams\", \"stacey abrams\", \"stacey abrams\", \"stacey abrams\", \"stacey abrams\", \"stacey fucking\", \"stacey mother\", \"staceyabrams\", \"staceyabrams\", \"staceyabrams\", \"stacy\", \"stacy\", \"stacy\", \"stacy\", \"stacy abrams\", \"stacy abrams\", \"stacy abrams\", \"stacy abrams\", \"state\", \"state\", \"state\", \"state\", \"state listen\", \"state stacey\", \"stole\", \"stole\", \"stole election\", \"stole election\", \"super\", \"super human\", \"talk\", \"talk\", \"talk stacey\", \"tea\", \"tea cat\", \"thank\", \"thank\", \"thank\", \"thank\", \"thank stacey\", \"trust\", \"trust invest\", \"tweet\", \"uk\", \"uk election\", \"voter\", \"voter\", \"voter\", \"voter\", \"want\", \"want\", \"want\", \"want\", \"want\", \"warnock\", \"warnock\", \"warnock\", \"warnock\", \"warnock jon\", \"way\", \"way\", \"way\", \"way make\", \"white\", \"white\", \"white englishman\", \"woman\", \"woman\", \"woman\", \"woman\", \"woman\", \"woman history\", \"work\", \"work\", \"work\", \"work\", \"year\", \"year\", \"year\"]}, \"R\": 30, \"lambda.step\": 0.01, \"plot.opts\": {\"xlab\": \"PC1\", \"ylab\": \"PC2\"}, \"topic.order\": [5, 2, 3, 4, 1]};\n",
       "\n",
       "function LDAvis_load_lib(url, callback){\n",
       "  var s = document.createElement('script');\n",
       "  s.src = url;\n",
       "  s.async = true;\n",
       "  s.onreadystatechange = s.onload = callback;\n",
       "  s.onerror = function(){console.warn(\"failed to load library \" + url);};\n",
       "  document.getElementsByTagName(\"head\")[0].appendChild(s);\n",
       "}\n",
       "\n",
       "if(typeof(LDAvis) !== \"undefined\"){\n",
       "   // already loaded: just create the visualization\n",
       "   !function(LDAvis){\n",
       "       new LDAvis(\"#\" + \"ldavis_el446381406749067551521597207421\", ldavis_el446381406749067551521597207421_data);\n",
       "   }(LDAvis);\n",
       "}else if(typeof define === \"function\" && define.amd){\n",
       "   // require.js is available: use it to load d3/LDAvis\n",
       "   require.config({paths: {d3: \"https://cdnjs.cloudflare.com/ajax/libs/d3/3.5.5/d3.min\"}});\n",
       "   require([\"d3\"], function(d3){\n",
       "      window.d3 = d3;\n",
       "      LDAvis_load_lib(\"https://cdn.rawgit.com/bmabey/pyLDAvis/files/ldavis.v1.0.0.js\", function(){\n",
       "        new LDAvis(\"#\" + \"ldavis_el446381406749067551521597207421\", ldavis_el446381406749067551521597207421_data);\n",
       "      });\n",
       "    });\n",
       "}else{\n",
       "    // require.js not available: dynamically load d3 & LDAvis\n",
       "    LDAvis_load_lib(\"https://cdnjs.cloudflare.com/ajax/libs/d3/3.5.5/d3.min.js\", function(){\n",
       "         LDAvis_load_lib(\"https://cdn.rawgit.com/bmabey/pyLDAvis/files/ldavis.v1.0.0.js\", function(){\n",
       "                 new LDAvis(\"#\" + \"ldavis_el446381406749067551521597207421\", ldavis_el446381406749067551521597207421_data);\n",
       "            })\n",
       "         });\n",
       "}\n",
       "</script>"
      ],
      "text/plain": [
       "PreparedData(topic_coordinates=                x           y  topics  cluster       Freq\n",
       "topic                                                    \n",
       "4      150.222153 -72.269554   1       1        21.643622\n",
       "1      51.163364  -159.968018  2       1        21.014080\n",
       "2     -73.144554   21.523815   3       1        20.851914\n",
       "3     -66.410133  -110.606438  4       1        19.003975\n",
       "0      54.417324   12.443444   5       1        17.486409, topic_info=                    Term        Freq       Total Category  logprob  loglift\n",
       "306   carrying            114.000000  114.000000  Default  30.0000  30.0000\n",
       "307   carrying democracy  113.000000  113.000000  Default  29.0000  29.0000\n",
       "13    abrams carrying     113.000000  113.000000  Default  28.0000  28.0000\n",
       "1800  tweet               118.000000  118.000000  Default  27.0000  27.0000\n",
       "87    abrams tweet        109.000000  109.000000  Default  26.0000  26.0000\n",
       "...            ...               ...         ...      ...      ...      ...\n",
       "753   governor            30.696390   57.524172   Topic5  -4.9424   1.1157 \n",
       "998   like                30.210268   84.631838   Topic5  -4.9584   0.7136 \n",
       "662   fucking             25.746826   44.502157   Topic5  -5.1183   1.1965 \n",
       "1985  year                25.737107   50.023637   Topic5  -5.1186   1.0792 \n",
       "1647  state               26.438587   194.546927  Topic5  -5.0917  -0.2521 \n",
       "\n",
       "[252 rows x 6 columns], token_table=      Topic      Freq                  Term\n",
       "term                                       \n",
       "13    5      0.995453  abrams carrying     \n",
       "15    5      0.952590  abrams cheated      \n",
       "17    3      0.966531  abrams consequential\n",
       "33    4      0.989106  abrams goddess      \n",
       "61    1      0.982987  abrams raphael      \n",
       "...  ..           ...             ...      \n",
       "1952  3      0.508148  work                \n",
       "1952  5      0.034646  work                \n",
       "1985  2      0.119943  year                \n",
       "1985  3      0.359830  year                \n",
       "1985  5      0.519754  year                \n",
       "\n",
       "[322 rows x 3 columns], R=30, lambda_step=0.01, plot_opts={'xlab': 'PC1', 'ylab': 'PC2'}, topic_order=[5, 2, 3, 4, 1])"
      ]
     },
     "execution_count": 30,
     "metadata": {},
     "output_type": "execute_result"
    }
   ],
   "source": [
    "# 2nd LDA model\n",
    "lda_model_2 = LatentDirichletAllocation(n_components = 5, max_iter=10, learning_method='online', learning_decay=0.9)\n",
    "lda_Z_2 = lda_model_2.fit_transform(doc_term_matrix_1)\n",
    "\n",
    "\n",
    "pyLDAvis.enable_notebook()\n",
    "panel = pyLDAvis.sklearn.prepare(lda_model_2, doc_term_matrix_1, tfidfconverter, mds='tsne')\n",
    "panel\n",
    "\n",
    "pyLDAvis.enable_notebook()\n",
    "panel = pyLDAvis.sklearn.prepare(lda_model_2, doc_term_matrix_1, tfidfconverter, mds='tsne')\n",
    "panel"
   ]
  },
  {
   "cell_type": "code",
   "execution_count": null,
   "metadata": {},
   "outputs": [],
   "source": []
  }
 ],
 "metadata": {
  "kernelspec": {
   "display_name": "Python 3",
   "language": "python",
   "name": "python3"
  },
  "language_info": {
   "codemirror_mode": {
    "name": "ipython",
    "version": 3
   },
   "file_extension": ".py",
   "mimetype": "text/x-python",
   "name": "python",
   "nbconvert_exporter": "python",
   "pygments_lexer": "ipython3",
   "version": "3.7.7"
  }
 },
 "nbformat": 4,
 "nbformat_minor": 4
}
