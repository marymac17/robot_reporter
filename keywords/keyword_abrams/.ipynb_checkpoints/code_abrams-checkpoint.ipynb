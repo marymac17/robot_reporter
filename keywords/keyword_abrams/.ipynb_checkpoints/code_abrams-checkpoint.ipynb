{
 "cells": [
  {
   "cell_type": "markdown",
   "metadata": {},
   "source": [
    "# Part 1: Data cleaning \n"
   ]
  },
  {
   "cell_type": "code",
   "execution_count": 1,
   "metadata": {},
   "outputs": [],
   "source": [
    "#import initial libraries\n",
    "\n",
    "import pandas as pd\n",
    "import numpy as np\n"
   ]
  },
  {
   "cell_type": "code",
   "execution_count": 2,
   "metadata": {},
   "outputs": [],
   "source": [
    "#import data \n",
    "\n",
    "df = pd.read_csv('data/abrams.csv')"
   ]
  },
  {
   "cell_type": "code",
   "execution_count": 3,
   "metadata": {},
   "outputs": [
    {
     "name": "stdout",
     "output_type": "stream",
     "text": [
      "<class 'pandas.core.frame.DataFrame'>\n",
      "RangeIndex: 6824 entries, 0 to 6823\n",
      "Data columns (total 37 columns):\n",
      " #   Column                        Non-Null Count  Dtype  \n",
      "---  ------                        --------------  -----  \n",
      " 0   id                            6824 non-null   int64  \n",
      " 1   tweet_url                     6824 non-null   object \n",
      " 2   created_at                    6824 non-null   object \n",
      " 3   parsed_created_at             6824 non-null   object \n",
      " 4   user_screen_name              6824 non-null   object \n",
      " 5   text                          6824 non-null   object \n",
      " 6   tweet_type                    6824 non-null   object \n",
      " 7   coordinates                   1 non-null      object \n",
      " 8   hashtags                      261 non-null    object \n",
      " 9   media                         570 non-null    object \n",
      " 10  urls                          626 non-null    object \n",
      " 11  favorite_count                6824 non-null   int64  \n",
      " 12  in_reply_to_screen_name       470 non-null    object \n",
      " 13  in_reply_to_status_id         444 non-null    float64\n",
      " 14  in_reply_to_user_id           470 non-null    float64\n",
      " 15  lang                          6824 non-null   object \n",
      " 16  place                         43 non-null     object \n",
      " 17  possibly_sensitive            837 non-null    object \n",
      " 18  retweet_count                 6824 non-null   int64  \n",
      " 19  retweet_or_quote_id           5996 non-null   float64\n",
      " 20  retweet_or_quote_screen_name  5996 non-null   object \n",
      " 21  retweet_or_quote_user_id      5996 non-null   float64\n",
      " 22  source                        6822 non-null   object \n",
      " 23  user_id                       6824 non-null   int64  \n",
      " 24  user_created_at               6824 non-null   object \n",
      " 25  user_default_profile_image    6824 non-null   bool   \n",
      " 26  user_description              5795 non-null   object \n",
      " 27  user_favourites_count         6824 non-null   int64  \n",
      " 28  user_followers_count          6824 non-null   int64  \n",
      " 29  user_friends_count            6824 non-null   int64  \n",
      " 30  user_listed_count             6824 non-null   int64  \n",
      " 31  user_location                 4662 non-null   object \n",
      " 32  user_name                     6824 non-null   object \n",
      " 33  user_statuses_count           6824 non-null   int64  \n",
      " 34  user_time_zone                0 non-null      float64\n",
      " 35  user_urls                     0 non-null      float64\n",
      " 36  user_verified                 6824 non-null   bool   \n",
      "dtypes: bool(2), float64(6), int64(9), object(20)\n",
      "memory usage: 1.8+ MB\n"
     ]
    }
   ],
   "source": [
    "# look at basic info about data\n",
    "\n",
    "df.info()\n",
    "# this data set consists of 6824 Tweets"
   ]
  },
  {
   "cell_type": "code",
   "execution_count": 4,
   "metadata": {},
   "outputs": [
    {
     "name": "stdout",
     "output_type": "stream",
     "text": [
      "23 ['en' 'und' 'es' 'fr' 'pt' 'ca' 'sv' 'ro' 'cy' 'de' 'zh' 'no' 'in' 'tl'\n",
      " 'iw' 'ht' 'da' 'cs' 'ar' 'fi' 'tr' 'pl' 'it']\n"
     ]
    }
   ],
   "source": [
    "# count number of languages in data set\n",
    "\n",
    "count_lang = df['lang'].unique()\n",
    "print(len(count_lang), count_lang)"
   ]
  },
  {
   "cell_type": "code",
   "execution_count": 5,
   "metadata": {},
   "outputs": [
    {
     "data": {
      "text/plain": [
       "(6659, 37)"
      ]
     },
     "execution_count": 5,
     "metadata": {},
     "output_type": "execute_result"
    }
   ],
   "source": [
    "# tweets are in 23 different languages\n",
    "\n",
    "# I'll be working only with tweets in English\n",
    "# drop tweets in all other languages\n",
    "# now working with 6659 Tweets \n",
    "\n",
    "df = df[df.lang == 'en']\n",
    "df.shape"
   ]
  },
  {
   "cell_type": "code",
   "execution_count": 5,
   "metadata": {},
   "outputs": [],
   "source": [
    "# drop unnecessary columns \n",
    "df = df.drop(['tweet_url', 'created_at', 'media', 'urls','in_reply_to_screen_name',\n",
    "       'in_reply_to_status_id', 'in_reply_to_user_id', 'retweet_or_quote_id',\n",
    "       'retweet_or_quote_screen_name', 'retweet_or_quote_user_id', 'source',\n",
    "       'user_created_at', 'user_name', 'user_verified', 'user_friends_count', 'user_listed_count',\n",
    "       'user_statuses_count', 'user_default_profile_image', 'user_description',\n",
    "       'user_favourites_count', 'user_followers_count', 'coordinates', 'lang', 'user_location', 'user_time_zone', 'user_urls', 'place'], axis=1)"
   ]
  },
  {
   "cell_type": "code",
   "execution_count": 33,
   "metadata": {},
   "outputs": [
    {
     "data": {
      "text/plain": [
       "id                    1346889904639381509                                                                                                          \n",
       "parsed_created_at     2021-01-06 18:42:31+00:00                                                                                                    \n",
       "user_screen_name      dragonwick2                                                                                                                  \n",
       "text                  Stacey Abrams brags about allowing fake voters by having no signature verification. \\nhttps://t.co/3Nvxc1J7QI                \n",
       "tweet_type            retweet                                                                                                                      \n",
       "hashtags              NaN                                                                                                                          \n",
       "favorite_count        3071                                                                                                                         \n",
       "possibly_sensitive    False                                                                                                                        \n",
       "retweet_count         0                                                                                                                            \n",
       "user_id               828492452                                                                                                                    \n",
       "processed_text        [stacey, abrams, brags, allowing, fake, voters, signature, verification]                                                     \n",
       "pos_tagged            [(stacey, JJ), (abrams, NNS), (brags, VBP), (allowing, VBG), (fake, JJ), (voters, NNS), (signature, VBP), (verification, NN)]\n",
       "lemmatized            [stacey, abrams, brag, allowing, fake, voter, signature, verification]                                                       \n",
       "final_docs            stacey abrams brag allowing fake voter signature verification                                                                \n",
       "Name: 0, dtype: object"
      ]
     },
     "execution_count": 33,
     "metadata": {},
     "output_type": "execute_result"
    }
   ],
   "source": [
    "# check start time & date of data\n",
    "\n",
    "df.iloc[0]\n",
    "\n",
    "# first Tweet downloaded Jan 6, 2021 at 18:42:31"
   ]
  },
  {
   "cell_type": "code",
   "execution_count": 37,
   "metadata": {},
   "outputs": [
    {
     "data": {
      "text/plain": [
       "id                    1346894809219420160                                                                                                                   \n",
       "parsed_created_at     2021-01-06 19:02:01+00:00                                                                                                             \n",
       "user_screen_name      schultziepie                                                                                                                          \n",
       "text                  Stacy Abrams is a QUEEN!! We all owe her for saving us once again.  #StacyAbramsSavedAmerica #thankyouqueen https://t.co/dCOUvziquj   \n",
       "tweet_type            original                                                                                                                              \n",
       "hashtags              StacyAbramsSavedAmerica thankyouqueen                                                                                                 \n",
       "favorite_count        0                                                                                                                                     \n",
       "possibly_sensitive    False                                                                                                                                 \n",
       "retweet_count         0                                                                                                                                     \n",
       "user_id               17032152                                                                                                                              \n",
       "processed_text        [stacy, abrams, queen, owe, saving, us, #stacyabramssavedamerica, #thankyouqueen]                                                     \n",
       "pos_tagged            [(stacy, NN), (abrams, NNS), (queen, JJ), (owe, VBP), (saving, VBG), (us, PRP), (#stacyabramssavedamerica, VBP), (#thankyouqueen, JJ)]\n",
       "lemmatized            [stacy, abrams, queen, owe, saving, u, #stacyabramssavedamerica, #thankyouqueen]                                                      \n",
       "final_docs            stacy abrams queen owe saving u #stacyabramssavedamerica #thankyouqueen                                                               \n",
       "Name: 6823, dtype: object"
      ]
     },
     "execution_count": 37,
     "metadata": {},
     "output_type": "execute_result"
    }
   ],
   "source": [
    "# check end time & date of data \n",
    "\n",
    "df.iloc[-1]\n",
    "\n",
    "# last Tweet on Jan 6, 2021 at 19:02:01"
   ]
  },
  {
   "cell_type": "markdown",
   "metadata": {},
   "source": [
    "# Part 2: Text processing for NLP "
   ]
  },
  {
   "cell_type": "code",
   "execution_count": 11,
   "metadata": {},
   "outputs": [],
   "source": [
    "# create variable for \"text\" column \n",
    "text = df['text'] "
   ]
  },
  {
   "cell_type": "code",
   "execution_count": 17,
   "metadata": {},
   "outputs": [],
   "source": [
    "# tokenize, remove stopwords, remove urls, lowercase, remove punctuation, remove numbers\n",
    "#import necessary libraries: ntlk etc.\n",
    "\n",
    "import string\n",
    "import re\n",
    "import nltk\n",
    "from nltk.corpus import stopwords\n",
    "from nltk.tokenize import TweetTokenizer\n",
    "from nltk import pos_tag\n",
    "from nltk.stem import WordNetLemmatizer \n",
    "\n",
    "stop = stopwords.words('english')\n",
    "\n",
    "punc = list(set(string.punctuation))\n",
    "\n",
    "def tokenizer(text):\n",
    "    tokenizer = TweetTokenizer()\n",
    "    tokens = tokenizer.tokenize(text)\n",
    "    return tokens\n",
    "\n",
    "def remove_url(text):\n",
    "    url = re.compile(r\"https?://\\S+|www\\.\\S+\")\n",
    "    return url.sub(r'', text)\n",
    "\n",
    "def process_text(text):\n",
    "    text = remove_url(text)\n",
    "    text = tokenizer(text)\n",
    "    text = [word.lower() for word in text]\n",
    "    text = [re.sub('[0-9]+', '', word) for word in text]\n",
    "    text = [word for word in text if word not in punc]\n",
    "    text = [word for word in text if word not in stop]\n",
    "    text = [each for each in text if len(each) > 1]\n",
    "    text = [word for word in text if ' ' not in word]\n",
    "     \n",
    "    return text"
   ]
  },
  {
   "cell_type": "code",
   "execution_count": 13,
   "metadata": {},
   "outputs": [],
   "source": [
    "# apply text processing functions to text\n",
    "df['processed_text'] = df['text'].apply(process_text)"
   ]
  },
  {
   "cell_type": "code",
   "execution_count": 10,
   "metadata": {},
   "outputs": [
    {
     "name": "stderr",
     "output_type": "stream",
     "text": [
      "/opt/anaconda3/lib/python3.7/site-packages/ipykernel_launcher.py:1: FutureWarning: Passing a negative integer is deprecated in version 1.0 and will not be supported in future version. Instead, use None to not limit the column width.\n",
      "  \"\"\"Entry point for launching an IPython kernel.\n"
     ]
    },
    {
     "data": {
      "text/plain": [
       "0     [stacey, abrams, brags, allowing, fake, voters, signature, verification]                                                                                                                                                   \n",
       "1     [stacey, abrams, damn, thing]                                                                                                                                                                                              \n",
       "2     [house, cards, shit, republicans, stole, election, abrams, abrams, plotted, took, washington]                                                                                                                              \n",
       "3     [actually, happens, actually, win, discussion, stacey, abrams, saved, america]                                                                                                                                             \n",
       "4     [chuck, schumer, stacey, abrams, years, team, many, women's, groups, black, women's, groups, worked, worked, worked, change, georgia, stacey, would, first, tell, alone, huge, thank, many, organizations]                 \n",
       "5     [stacey, abrams, spent, decade, building, democratic, infrastructure, georgia, jon, ossoff, rev, raphael, warnock, look, flip, georgia, two, senate, seats, many, see, person, responsible, shifting, political, landscape]\n",
       "6     [stacey, abrams, tweet]                                                                                                                                                                                                    \n",
       "7     [@kirkacevedo, passed, ;)]                                                                                                                                                                                                 \n",
       "8     [::, next, time, tempted, think, one, person, can't, make, difference, want, remember, one, name, stacey, abrams]                                                                                                          \n",
       "9     [stacey, abrams, back, carrying, democracy]                                                                                                                                                                                \n",
       "10    [get, power, ask, get, power, take, stacey, abrams, #garunnoff, #democrats, #magaiscancelled]                                                                                                                              \n",
       "11    [amazing, look, back, @staceyabrams, built, african-americans, eligible, vote, georgia, remained, unregistered, stacey, abrams, ran, governor, set, shape, new, electorate, state]                                         \n",
       "12    [stacey, abrams, walking, around, georgia, today]                                                                                                                                                                          \n",
       "13    [good, argument, made, stacey, abrams, one, consequential, women, us, history]                                                                                                                                             \n",
       "14    [thats, play, long, game, stacey, abrams, love, thank, taking, notes]                                                                                                                                                      \n",
       "15    [lesson, stacey, abrams, needs, run, everything, need, actually, find, abrams, every, red, state, give, resources, fucking, listen]                                                                                        \n",
       "16    [let, mince, words, happened, black, women, saved, country, ..., time, right, stacy, abrams, got, dems, georgia, twice, time, right]                                                                                       \n",
       "17    [national, holiday, honor, ms, abrams]                                                                                                                                                                                     \n",
       "18    [give, stacey, abrams, fair, fight, new, georgia, project, every, single, organizer, made, possible, credit, done, georgia, remarkable]                                                                                    \n",
       "19    [stacey, abrams, tweet]                                                                                                                                                                                                    \n",
       "Name: processed_text, dtype: object"
      ]
     },
     "execution_count": 10,
     "metadata": {},
     "output_type": "execute_result"
    }
   ],
   "source": [
    "# look at some of processed text\n",
    "pd.set_option('display.max_colwidth', -1)\n",
    "df['processed_text'][:20]"
   ]
  },
  {
   "cell_type": "code",
   "execution_count": 19,
   "metadata": {},
   "outputs": [],
   "source": [
    "# part-of-speech tagging \n",
    "\n",
    "ready_for_pos = df['processed_text']\n",
    "\n",
    "def pos_tagging(text):\n",
    "    pos_tag = [pos_tag(word) for word in ready_for_pos]\n",
    "\n",
    "df['pos_tagged'] = df.processed_text.apply(lambda x: pos_tag(x))"
   ]
  },
  {
   "cell_type": "code",
   "execution_count": 21,
   "metadata": {},
   "outputs": [],
   "source": [
    "# lemmatizing\n",
    "\n",
    "pos_tagged = df['pos_tagged']\n",
    "\n",
    "wordnet = WordNetLemmatizer() \n",
    "\n",
    "lemmatized = [[wordnet.lemmatize(word[0]) for word in words] for words in pos_tagged]"
   ]
  },
  {
   "cell_type": "code",
   "execution_count": 22,
   "metadata": {},
   "outputs": [
    {
     "data": {
      "text/plain": [
       "[['stacey',\n",
       "  'abrams',\n",
       "  'brag',\n",
       "  'allowing',\n",
       "  'fake',\n",
       "  'voter',\n",
       "  'signature',\n",
       "  'verification'],\n",
       " ['stacey', 'abrams', 'damn', 'thing'],\n",
       " ['house',\n",
       "  'card',\n",
       "  'shit',\n",
       "  'republican',\n",
       "  'stole',\n",
       "  'election',\n",
       "  'abrams',\n",
       "  'abrams',\n",
       "  'plotted',\n",
       "  'took',\n",
       "  'washington'],\n",
       " ['actually',\n",
       "  'happens',\n",
       "  'actually',\n",
       "  'win',\n",
       "  'discussion',\n",
       "  'stacey',\n",
       "  'abrams',\n",
       "  'saved',\n",
       "  'america'],\n",
       " ['chuck',\n",
       "  'schumer',\n",
       "  'stacey',\n",
       "  'abrams',\n",
       "  'year',\n",
       "  'team',\n",
       "  'many',\n",
       "  \"women's\",\n",
       "  'group',\n",
       "  'black',\n",
       "  \"women's\",\n",
       "  'group',\n",
       "  'worked',\n",
       "  'worked',\n",
       "  'worked',\n",
       "  'change',\n",
       "  'georgia',\n",
       "  'stacey',\n",
       "  'would',\n",
       "  'first',\n",
       "  'tell',\n",
       "  'alone',\n",
       "  'huge',\n",
       "  'thank',\n",
       "  'many',\n",
       "  'organization'],\n",
       " ['stacey',\n",
       "  'abrams',\n",
       "  'spent',\n",
       "  'decade',\n",
       "  'building',\n",
       "  'democratic',\n",
       "  'infrastructure',\n",
       "  'georgia',\n",
       "  'jon',\n",
       "  'ossoff',\n",
       "  'rev',\n",
       "  'raphael',\n",
       "  'warnock',\n",
       "  'look',\n",
       "  'flip',\n",
       "  'georgia',\n",
       "  'two',\n",
       "  'senate',\n",
       "  'seat',\n",
       "  'many',\n",
       "  'see',\n",
       "  'person',\n",
       "  'responsible',\n",
       "  'shifting',\n",
       "  'political',\n",
       "  'landscape'],\n",
       " ['stacey', 'abrams', 'tweet'],\n",
       " ['@kirkacevedo', 'passed', ';)'],\n",
       " ['::',\n",
       "  'next',\n",
       "  'time',\n",
       "  'tempted',\n",
       "  'think',\n",
       "  'one',\n",
       "  'person',\n",
       "  \"can't\",\n",
       "  'make',\n",
       "  'difference',\n",
       "  'want',\n",
       "  'remember',\n",
       "  'one',\n",
       "  'name',\n",
       "  'stacey',\n",
       "  'abrams'],\n",
       " ['stacey', 'abrams', 'back', 'carrying', 'democracy'],\n",
       " ['get',\n",
       "  'power',\n",
       "  'ask',\n",
       "  'get',\n",
       "  'power',\n",
       "  'take',\n",
       "  'stacey',\n",
       "  'abrams',\n",
       "  '#garunnoff',\n",
       "  '#democrats',\n",
       "  '#magaiscancelled'],\n",
       " ['amazing',\n",
       "  'look',\n",
       "  'back',\n",
       "  '@staceyabrams',\n",
       "  'built',\n",
       "  'african-american',\n",
       "  'eligible',\n",
       "  'vote',\n",
       "  'georgia',\n",
       "  'remained',\n",
       "  'unregistered',\n",
       "  'stacey',\n",
       "  'abrams',\n",
       "  'ran',\n",
       "  'governor',\n",
       "  'set',\n",
       "  'shape',\n",
       "  'new',\n",
       "  'electorate',\n",
       "  'state'],\n",
       " ['stacey', 'abrams', 'walking', 'around', 'georgia', 'today'],\n",
       " ['good',\n",
       "  'argument',\n",
       "  'made',\n",
       "  'stacey',\n",
       "  'abrams',\n",
       "  'one',\n",
       "  'consequential',\n",
       "  'woman',\n",
       "  'u',\n",
       "  'history'],\n",
       " ['thats',\n",
       "  'play',\n",
       "  'long',\n",
       "  'game',\n",
       "  'stacey',\n",
       "  'abrams',\n",
       "  'love',\n",
       "  'thank',\n",
       "  'taking',\n",
       "  'note'],\n",
       " ['lesson',\n",
       "  'stacey',\n",
       "  'abrams',\n",
       "  'need',\n",
       "  'run',\n",
       "  'everything',\n",
       "  'need',\n",
       "  'actually',\n",
       "  'find',\n",
       "  'abrams',\n",
       "  'every',\n",
       "  'red',\n",
       "  'state',\n",
       "  'give',\n",
       "  'resource',\n",
       "  'fucking',\n",
       "  'listen'],\n",
       " ['let',\n",
       "  'mince',\n",
       "  'word',\n",
       "  'happened',\n",
       "  'black',\n",
       "  'woman',\n",
       "  'saved',\n",
       "  'country',\n",
       "  '...',\n",
       "  'time',\n",
       "  'right',\n",
       "  'stacy',\n",
       "  'abrams',\n",
       "  'got',\n",
       "  'dems',\n",
       "  'georgia',\n",
       "  'twice',\n",
       "  'time',\n",
       "  'right'],\n",
       " ['national', 'holiday', 'honor', 'm', 'abrams'],\n",
       " ['give',\n",
       "  'stacey',\n",
       "  'abrams',\n",
       "  'fair',\n",
       "  'fight',\n",
       "  'new',\n",
       "  'georgia',\n",
       "  'project',\n",
       "  'every',\n",
       "  'single',\n",
       "  'organizer',\n",
       "  'made',\n",
       "  'possible',\n",
       "  'credit',\n",
       "  'done',\n",
       "  'georgia',\n",
       "  'remarkable'],\n",
       " ['stacey', 'abrams', 'tweet']]"
      ]
     },
     "execution_count": 22,
     "metadata": {},
     "output_type": "execute_result"
    }
   ],
   "source": [
    "# look at lemmatized text\n",
    "\n",
    "df['lemmatized'] = lemmatized\n",
    "lemmatized[:20]"
   ]
  },
  {
   "cell_type": "code",
   "execution_count": 24,
   "metadata": {},
   "outputs": [
    {
     "name": "stderr",
     "output_type": "stream",
     "text": [
      "/opt/anaconda3/lib/python3.7/site-packages/ipykernel_launcher.py:2: FutureWarning: Passing a negative integer is deprecated in version 1.0 and will not be supported in future version. Instead, use None to not limit the column width.\n",
      "  \n"
     ]
    },
    {
     "data": {
      "text/plain": [
       "3000    purely political revenge thriller standpoint ever equivalent stacey abrams getting screwed come back year later take president senator                                                                           \n",
       "3001    bet day come president joseph biden bestows stacey abrams medal freedom bringing honor back                                                                                                                      \n",
       "3002    georgia republican secretary state ... caved stacey abrams eliminated meaningful signature match taped leaked phone call president united state consistently source cnn receiving lavishing on-air praise problem\n",
       "3003    love united state today think love #georgia thank stepping america                                                                                                                                               \n",
       "3004    stacey abrams goddess                                                                                                                                                                                            \n",
       "3005    love stacey abrams lost governor race voter suppression shit like oh word let go turning bitch blue                                                                                                              \n",
       "3006    fact mitch mcconnell man unrelenting commitment undermine america's first black president could lose veto power american democracy bc raphael warnock john ossoff stacey abrams kind american justice            \n",
       "3007    brace we're going see piece artwork mf doom kobe rbg john lewis looking lovingly stacey abrams                                                                                                                   \n",
       "3008    asking talk stacey abrams way make sound like dad get                                                                                                                                                            \n",
       "3009    dear white woman praising stacey abrams okay find black woman sphere office pta listen stacey would want work damn hard already done                                                                             \n",
       "3010    @staceyabrams let u know date time ... @therealkripke @jensenackles @jarpad p stacey saved imaginary world saved democracy real world thank                                                                      \n",
       "3011    @realdonaldtrump stacey yvonne abrams atlanta trumpslayer saviour democracy                                                                                                                                      \n",
       "3012    glad voted hard .. stacey abrams mf goat                                                                                                                                                                         \n",
       "3013    stacey abrams destroyed election integrity georgia brian kemp sat watched happen georgia blue state stolen state                                                                                                 \n",
       "3014                                                                                                                                                                                                                     \n",
       "3015    good argument made stacey abrams one consequential woman u history                                                                                                                                               \n",
       "3016    @daniboubetv e una película con potencial de pertenecer un universo cinematográfico el monstruo parecía el hijito de cloverfield una pena que jj abrams sea tenga la capacidad de haber creado una franquicia    \n",
       "3017    @staceyabrams let u know date time ... @therealkripke @jensenackles @jarpad p stacey saved imaginary world saved democracy real world thank                                                                      \n",
       "3018    white englishman uk election georgia absolutely nothing quite frankly soft boiled egg cup tea cat happiness far important stacey abrams raphael warnock jon ossoff really made day                               \n",
       "3019    oh gop see happens screw stacey abrams gubernatorial race yeah ... well suck #byemitch #election                                                                                                                 \n",
       "Name: final_docs, dtype: object"
      ]
     },
     "execution_count": 24,
     "metadata": {},
     "output_type": "execute_result"
    }
   ],
   "source": [
    "# before vectorizing, cast lists of words back into strings\n",
    "\n",
    "df['final_docs'] = df['lemmatized'].apply(lambda x: \" \".join(x))\n",
    "pd.set_option('display.max_colwidth', -1)\n",
    "final_docs = df['final_docs']\n",
    "final_docs[3000:3020]"
   ]
  },
  {
   "cell_type": "code",
   "execution_count": 40,
   "metadata": {},
   "outputs": [],
   "source": [
    "#create document term matrix with TFIDF\n",
    "\n",
    "#import vectorizing tool (usee TFIDF)\n",
    "from sklearn.feature_extraction.text import TfidfVectorizer\n",
    "# set max_features to 2000 (specifies the number of most frequently occurring words for which we want to create feature vectors)\n",
    "# set min_df to 5 (word must occur in at least 5 documents)\n",
    "# set max_df to 0.85 (word must not occur in more than 85 percent of the documents) \n",
    "\n",
    "tfidfconverter = TfidfVectorizer(max_features=2000, min_df=5, max_df=0.85, ngram_range=(1, 2), stop_words='english')  \n",
    "doc_term_matrix_1 = tfidfconverter.fit_transform(df['final_docs'].values.astype('U'))"
   ]
  },
  {
   "cell_type": "code",
   "execution_count": 42,
   "metadata": {},
   "outputs": [],
   "source": [
    "#run NMF model \n",
    "\n",
    "#import NMF tool \n",
    "from sklearn.decomposition import NMF\n",
    "\n",
    "nmf_model = NMF(n_components=6)\n",
    "nmf_Z = nmf_model.fit_transform(doc_term_matrix_1)\n"
   ]
  },
  {
   "cell_type": "code",
   "execution_count": 43,
   "metadata": {},
   "outputs": [],
   "source": [
    "# run LDA model\n",
    "\n",
    "#import LDA tool \n",
    "from sklearn.decomposition import LatentDirichletAllocation\n",
    "\n",
    "lda_model = LatentDirichletAllocation(n_components = 6, max_iter=10, learning_method='online', learning_decay=.9)\n",
    "lda_Z = lda_model.fit_transform(doc_term_matrix_1)"
   ]
  },
  {
   "cell_type": "code",
   "execution_count": 44,
   "metadata": {},
   "outputs": [
    {
     "name": "stdout",
     "output_type": "stream",
     "text": [
      "LDA Model:\n",
      "Topic 0:\n",
      "[('georgia', 46.90926049278204), ('warnock', 46.89032457508805), ('goddess', 45.12989346541082), ('abrams goddess', 44.694352098793686), ('raphael warnock', 44.42748582864614), ('raphael', 44.42733930009444), ('ossoff', 43.90292189377928), ('jon ossoff', 43.16316758084813), ('jon', 43.163077799803716), ('stacey', 38.18277561889214)]\n",
      "Topic 1:\n",
      "[('georgia', 53.78071115935211), ('state', 41.426934028601075), ('stacey abrams', 39.837374501495326), ('stacey', 38.49952120937702), ('happen', 28.549719346752518), ('believe', 26.713263502520043), ('secretary', 26.330734398193663), ('secretary state', 26.047753169664176), ('signature', 25.89995111911189), ('human', 24.247514278183534)]\n",
      "Topic 2:\n",
      "[('tweet', 130.0184420217782), ('abrams tweet', 124.31883577630158), ('stacey', 89.42319407709648), ('stacey abrams', 88.42042626623793), ('woman', 56.270982614495416), ('black', 51.724421985920884), ('voter', 43.727107713738384), ('black woman', 42.54816644353765), ('georgia', 37.25152464118944), ('like', 33.54809190806285)]\n",
      "Topic 3:\n",
      "[('election stacey', 91.24741365878452), ('block', 90.73141541972387), ('spun block', 90.61600640347818), ('spun', 90.6159792395087), ('crazy', 89.94597672165793), ('em', 89.58595028385533), ('block em', 88.99107151799429), ('em crazy', 88.99068406052184), ('abrams spun', 88.99021475169472), ('stole', 87.32244659017435)]\n",
      "Topic 4:\n",
      "[('stacey', 169.3117545291353), ('stacey abrams', 162.76915048763283), ('democracy', 122.9489402020693), ('carrying', 121.48533123361094), ('carrying democracy', 120.36814117239685), ('abrams carrying', 120.36796556786612), ('staceyabrams', 86.20806310585029), ('thank', 78.92707734532871), ('stacy', 73.28675666013726), ('stacy abrams', 71.39951575215662)]\n",
      "Topic 5:\n",
      "[('state', 141.6493770378565), ('lead', 92.18062675626585), ('follow', 89.47686892408211), ('abrams state', 88.76537166389325), ('follow lead', 87.37832565448436), ('invest', 87.19973731976616), ('trust', 87.07710329374339), ('state stacey', 87.0369081493118), ('trust invest', 86.85673121325483), ('listen trust', 86.85669777737715)]\n",
      "====================\n",
      "NMF Model:\n",
      "Topic 0:\n",
      "[('state', 1.9998367397358647), ('invest', 1.2433755736943135), ('invest follow', 1.2428512935067542), ('listen trust', 1.2428512935067542), ('trust invest', 1.2428512935067542), ('follow lead', 1.242007187043171), ('trust', 1.241586070943437), ('state listen', 1.2408547243744985), ('state stacey', 1.239251195362947), ('abrams state', 1.2387089090768255)]\n",
      "Topic 1:\n",
      "[('em', 1.1529701652981343), ('spun', 1.152237003629654), ('spun block', 1.152237003629654), ('em crazy', 1.1516669751147708), ('abrams spun', 1.1516669751147708), ('block em', 1.1516669751147708), ('block', 1.1514717287718728), ('election stacey', 1.148522839931224), ('crazy', 1.1442996783990076), ('stole election', 1.1067263255253914)]\n",
      "Topic 2:\n",
      "[('carrying', 1.981043398440673), ('carrying democracy', 1.9768649415950659), ('abrams carrying', 1.9768649415950659), ('democracy', 1.7152173680700342), ('stacey abrams', 0.7583436093055742), ('stacey', 0.7393272626418895), ('american', 0.045756701698293), ('saved', 0.04536298677423124), ('world', 0.036748651158730675), ('thank', 0.03585168117728696)]\n",
      "Topic 3:\n",
      "[('cat', 0.5651712828564281), ('abrams raphael', 0.564931849910652), ('boiled egg', 0.5640858404999141), ('boiled', 0.5640858404999141), ('tea cat', 0.5640858404999141), ('happiness', 0.5640791146215309), ('cat happiness', 0.5640791146215309), ('uk', 0.5637905054742026), ('egg', 0.563732755562341), ('tea', 0.563584575158125)]\n",
      "Topic 4:\n",
      "[('abrams tweet', 1.9246391418975484), ('tweet', 1.8961604998556085), ('stacey abrams', 1.2297373478128044), ('stacey', 1.2114946416232848), ('woman', 0.14894445020387548), ('like', 0.12791085524924659), ('goddess', 0.11042151358914357), ('abrams goddess', 0.11013880920151645), ('black', 0.09334635572999586), ('way', 0.08872280219291101)]\n",
      "Topic 5:\n",
      "[('georgia', 0.8191297575999182), ('senate seat', 0.5842086371442156), ('georgia senate', 0.581073718657674), ('democratic infrastructure', 0.5797169705768127), ('decade building', 0.5797169705768127), ('shifting', 0.5797169705768127), ('landscape', 0.5797169705768127), ('political landscape', 0.5797169705768127), ('person responsible', 0.5797169705768127), ('shifting political', 0.5797169705768127)]\n",
      "====================\n"
     ]
    }
   ],
   "source": [
    "def print_topics(model, vectorizer, top_n=10):\n",
    "    for idx, topic in enumerate(model.components_):\n",
    "        print(\"Topic %d:\" % (idx))\n",
    "        print([(vectorizer.get_feature_names()[i], topic[i])\n",
    "                        for i in topic.argsort()[:-top_n - 1:-1]])\n",
    " \n",
    "print(\"LDA Model:\")\n",
    "print_topics(lda_model, tfidfconverter )\n",
    "print(\"=\" * 20)\n",
    " \n",
    "print(\"NMF Model:\")\n",
    "print_topics(nmf_model, tfidfconverter )\n",
    "print(\"=\" * 20)\n",
    " "
   ]
  },
  {
   "cell_type": "code",
   "execution_count": 46,
   "metadata": {},
   "outputs": [
    {
     "data": {
      "text/html": [
       "\n",
       "<link rel=\"stylesheet\" type=\"text/css\" href=\"https://cdn.rawgit.com/bmabey/pyLDAvis/files/ldavis.v1.0.0.css\">\n",
       "\n",
       "\n",
       "<div id=\"ldavis_el10281405365838084645920952459\"></div>\n",
       "<script type=\"text/javascript\">\n",
       "\n",
       "var ldavis_el10281405365838084645920952459_data = {\"mdsDat\": {\"x\": [1.4650187492370605, 54.85479736328125, 32.212928771972656, 5.111096382141113, 26.350170135498047, 38.10981750488281], \"y\": [-47.625064849853516, -36.4767951965332, -61.44457244873047, -14.110331535339355, -33.37470245361328, -7.222781181335449], \"topics\": [1, 2, 3, 4, 5, 6], \"cluster\": [1, 1, 1, 1, 1, 1], \"Freq\": [21.19423211759835, 18.16928719133725, 16.715968712442947, 15.981021148463872, 14.221049112951567, 13.718441717206018]}, \"tinfo\": {\"Term\": [\"state\", \"tweet\", \"abrams tweet\", \"carrying\", \"lead\", \"carrying democracy\", \"abrams carrying\", \"follow\", \"abrams state\", \"follow lead\", \"invest\", \"trust\", \"state stacey\", \"listen trust\", \"invest follow\", \"trust invest\", \"state listen\", \"democracy\", \"listen\", \"election stacey\", \"block\", \"spun\", \"spun block\", \"em\", \"crazy\", \"block em\", \"em crazy\", \"abrams spun\", \"staceyabrams\", \"stole\", \"election stacey\", \"block\", \"spun\", \"spun block\", \"em\", \"em crazy\", \"block em\", \"abrams spun\", \"crazy\", \"abrams way\", \"talk stacey\", \"sound\", \"asking\", \"dad\", \"sound like\", \"way make\", \"asking talk\", \"like dad\", \"make sound\", \"mcconnell\", \"mitch mcconnell\", \"motherfucking\", \"talk\", \"abrams cheated\", \"governor year\", \"cheated governor\", \"senate american\", \"torched republican\", \"year torched\", \"torched\", \"stole election\", \"stole\", \"way\", \"year\", \"make\", \"election\", \"cheated\", \"american\", \"like\", \"stacey abrams\", \"stacey\", \"carrying\", \"carrying democracy\", \"abrams carrying\", \"got\", \"argument\", \"consequential\", \"mother\", \"woman history\", \"good argument\", \"abrams consequential\", \"consequential woman\", \"argument stacey\", \"mother abrams\", \"stacey mother\", \"yes\", \"date\", \"governor kemp\", \"lesson\", \"world thank\", \"abrams got\", \"imaginary\", \"stacey saved\", \"imaginary world\", \"date time\", \"know date\", \"jensenackles jarpad\", \"let know\", \"democracy real\", \"saved imaginary\", \"staceyabrams let\", \"great\", \"democracy\", \"staceyabrams\", \"actually\", \"history\", \"saved\", \"good\", \"need\", \"dnc\", \"stacy\", \"stacy abrams\", \"thank\", \"world\", \"god\", \"stacey\", \"stacey abrams\", \"thank stacey\", \"woman\", \"time\", \"georgia\", \"work\", \"abrams tweet\", \"fight\", \"credit\", \"tweet\", \"praising\", \"medal\", \"white woman\", \"single\", \"praising stacey\", \"dear\", \"remarkable\", \"project\", \"listen stacey\", \"freedom\", \"okay\", \"medal freedom\", \"fair fight\", \"dear white\", \"woman sphere\", \"sphere\", \"damn hard\", \"pta\", \"abrams okay\", \"pta listen\", \"woman praising\", \"okay black\", \"stacey want\", \"want work\", \"sphere office\", \"work damn\", \"think\", \"new\", \"honor\", \"hard\", \"black woman\", \"damn\", \"voter\", \"black\", \"woman\", \"fair\", \"want\", \"organizer\", \"stacey abrams\", \"stacey\", \"possible\", \"white\", \"people\", \"work\", \"like\", \"ga\", \"biden\", \"georgia\", \"goddess\", \"abrams goddess\", \"jon\", \"jon ossoff\", \"flip\", \"warnock jon\", \"abrams raphael\", \"quite\", \"tea\", \"uk\", \"cat\", \"election georgia\", \"egg\", \"cat happiness\", \"happiness\", \"boiled\", \"tea cat\", \"boiled egg\", \"frankly\", \"egg cup\", \"quite frankly\", \"cup\", \"englishman uk\", \"far important\", \"happiness far\", \"really day\", \"georgia absolutely\", \"white englishman\", \"uk election\", \"ossoff really\", \"far\", \"raphael warnock\", \"raphael\", \"warnock\", \"ossoff\", \"absolutely\", \"absolutely quite\", \"important\", \"day\", \"georgia\", \"really\", \"stacey\", \"stacey abrams\", \"secretary\", \"secretary state\", \"signature\", \"super\", \"abrams super\", \"believing\", \"happen work\", \"human believe\", \"believing stacey\", \"believe happen\", \"super human\", \"instead believing\", \"flipping\", \"georgia democrat\", \"flipping georgia\", \"closer\", \"closer flipping\", \"democrat closer\", \"match\", \"georgia republican\", \"meaningful\", \"phone\", \"air\", \"united state\", \"united\", \"cnn\", \"receiving\", \"abrams american\", \"president united\", \"integrity\", \"human\", \"believe\", \"happen\", \"instead\", \"georgia\", \"state\", \"republican\", \"stacey abrams\", \"stacey\", \"democrat\", \"seat\", \"person\", \"election\", \"lead\", \"follow\", \"abrams state\", \"follow lead\", \"invest\", \"trust\", \"listen trust\", \"state stacey\", \"invest follow\", \"trust invest\", \"state listen\", \"determined\", \"fucking abrams\", \"pessimistic\", \"stacey fucking\", \"optimistic\", \"determined stacey\", \"pessimistic determined\", \"optimistic pessimistic\", \"pundit\", \"running\", \"major\", \"vaccine rollout\", \"rollout\", \"league\", \"pull\", \"charge vaccine\", \"ending\", \"writing\", \"major league\", \"listen\", \"fucking\", \"state\", \"vaccine\", \"stacey\", \"better\", \"stacey abrams\", \"charge\", \"run\"], \"Freq\": [206.0, 123.0, 114.0, 105.0, 89.0, 104.0, 104.0, 87.0, 86.0, 85.0, 84.0, 84.0, 84.0, 84.0, 84.0, 84.0, 84.0, 118.0, 94.0, 82.0, 81.0, 81.0, 81.0, 80.0, 81.0, 80.0, 80.0, 80.0, 84.0, 87.0, 81.4735412576679, 81.01281363665062, 80.90974228356484, 80.9097665378938, 79.99004381486267, 79.45853891777688, 79.45888487314264, 79.45811987847969, 80.31150639290186, 34.38680971640994, 33.223347223399095, 32.253917502095554, 32.07930684585973, 31.392534726820674, 31.247789830196204, 31.08331254494128, 31.083418475662082, 31.083078966506832, 31.083497161677187, 28.1497797806388, 24.952616855229078, 20.083430682927926, 37.47948366009682, 19.044487216346564, 18.61528657860533, 18.35376092195419, 18.3541460677953, 18.354027223069227, 18.354132359671357, 18.35407177445923, 76.40698906853913, 77.96899297978241, 47.02525543969479, 42.59804139578155, 37.745275235773434, 72.33955308125351, 27.91805872975065, 41.35709442081265, 48.06950203433796, 76.08662695203301, 75.54481694607172, 104.9469581055569, 103.98185641501023, 103.98170471635541, 32.54855983269658, 26.597272505583167, 26.608660450720222, 25.84821179007781, 25.566686875475995, 25.38219039175092, 25.38209137972896, 25.38241930386537, 25.382099114624317, 25.013487852616418, 25.01331048337292, 18.15022930049157, 13.264956351022807, 12.964727738761464, 12.971273358176845, 12.853195416478616, 12.678964359218384, 12.613329125191783, 12.613154863922423, 12.61290537187227, 12.613412832280419, 12.613262101867651, 12.612911602585623, 12.6133742559219, 12.613352994571875, 12.612905852984591, 12.61309479020515, 16.065031551185776, 106.2113190579121, 74.47215145451072, 13.666315889380899, 30.62573492942499, 41.18002149073815, 40.27699273553262, 38.154904153833584, 20.301129809996596, 63.309883611492864, 61.67956174058257, 68.18236074630374, 29.358459983675033, 16.063175761185125, 146.26254403652212, 140.61061564918083, 21.660097331484323, 42.89510305018492, 23.670603577725654, 34.21322372290476, 27.83764147322737, 113.76996420952878, 23.24191990746331, 24.684621804251943, 118.98593968506403, 18.233423463342138, 17.982896255058574, 17.774036863593434, 17.233336028833836, 16.977984888251967, 16.72844900139593, 16.625843074684408, 16.44703543213868, 16.301839091646972, 16.17286585270223, 16.012680743984607, 15.482864508536549, 15.228122861149556, 15.065002194593081, 15.062971490283342, 15.062613089542626, 14.882758286705045, 14.882719467606767, 14.88264693175713, 14.882523960860325, 14.882719062535623, 14.882820606254295, 14.882625905294015, 14.882637233456245, 14.882588027407957, 14.882833955921754, 27.270764826231105, 28.576243768477546, 15.030538343248638, 22.64173806208172, 38.93781133997007, 18.699578708467474, 40.01671547608362, 47.33543072013354, 51.4962003795288, 16.053126054973035, 29.845712195424717, 24.59118883766602, 80.91765554981805, 81.83533513746418, 19.15933649536881, 29.181073266032875, 27.592590279472574, 30.30487861530621, 30.70142341540386, 19.80841507132507, 23.500459864214495, 34.09060741852922, 44.986610265697756, 44.55245170226992, 43.02603905626315, 43.02612855226113, 33.18615840937363, 32.67711553927068, 31.691649431820007, 31.72673587018301, 31.461876240345983, 31.925428548356493, 31.107474273303065, 31.154040232130768, 30.993189282580573, 30.830134649778103, 30.829922984010324, 30.742355319717586, 30.742866040218747, 30.742487889214193, 30.68290993485865, 30.464881804787684, 30.464994836186744, 30.46482037093082, 30.46500578851471, 30.464588324076143, 30.464598897247345, 30.464462093708626, 30.464633809777077, 30.464714393073553, 30.464624144384793, 30.464619953246203, 32.8517136461761, 44.28643270762307, 44.28628664428584, 46.74145217090541, 43.763534214291084, 34.762150811885036, 30.465127341537304, 31.863687907318273, 36.29478676174041, 46.76032796882803, 32.86237099562476, 38.06154886995701, 36.328247635671936, 25.93358046145017, 25.65486751907007, 25.509294808776506, 23.676994369556418, 22.37635657023215, 21.561078648705266, 21.33524780305616, 21.335447273040106, 21.335512264867546, 21.33537415041896, 21.33558318345638, 21.335520917193293, 21.09896629691717, 20.44920433169319, 20.35227629341855, 19.619961334351043, 19.36742023717509, 19.13658751631545, 17.633456124020444, 17.718111794748186, 17.472032477626154, 17.35016392950459, 17.15554868243048, 17.078996194462654, 17.079160153935742, 17.041368738029057, 16.73911575588162, 16.46836992155668, 16.174379633732507, 16.113063590197758, 23.881782141502786, 26.310339770775595, 28.1190958305219, 23.147397762043045, 52.96952143578456, 40.802079830162896, 23.062059998371122, 39.23649608034962, 37.918822008974445, 22.03984353767996, 20.242044941694992, 18.98094499495537, 19.95512455785622, 88.85069323961815, 86.24460597166363, 85.55881084279105, 84.22187049178774, 84.04973348314951, 83.93152948942209, 83.71908590325775, 83.89278635463026, 83.71899489423504, 83.71911813129759, 83.51023861110619, 26.406498143161805, 26.047260755053696, 25.66210719443343, 25.555869248244225, 25.512886469016063, 25.334720487041785, 25.334566848123618, 25.33435838874336, 23.259470179147208, 22.704872220565644, 16.80645431134183, 16.39922300603351, 16.398872968691954, 16.280808846591608, 16.314092450753538, 15.763020188971211, 15.720023374074362, 15.728226021551016, 15.613269969205055, 77.79134262584533, 38.890361352810835, 136.53243408781782, 19.1916680229159, 51.34962152150712, 19.11505088553251, 46.60635700119668, 17.92273044371779, 18.151661050172603], \"Total\": [206.0, 123.0, 114.0, 105.0, 89.0, 104.0, 104.0, 87.0, 86.0, 85.0, 84.0, 84.0, 84.0, 84.0, 84.0, 84.0, 84.0, 118.0, 94.0, 82.0, 81.0, 81.0, 81.0, 80.0, 81.0, 80.0, 80.0, 80.0, 84.0, 87.0, 82.27281905050428, 81.81175417417667, 81.70798834930444, 81.70806116086989, 80.7887280087822, 80.25727125653846, 80.2576452515097, 80.25720910978835, 81.20717386599577, 35.18590193430624, 34.018767426351616, 33.04950622650997, 32.875670338313235, 32.18789103593879, 32.04333983922307, 31.877664076035963, 31.878335163616978, 31.8782332508805, 31.87884705966846, 28.95527000715983, 25.75212592530108, 20.882007809064756, 39.04642760803013, 19.842262098671274, 19.413425463970775, 19.151198756642966, 19.151608729469565, 19.15152237631895, 19.151668627494917, 19.151859359062424, 84.30441554036497, 87.38698947068012, 51.796906757534444, 51.875773509481746, 52.46325331277016, 132.7443651572282, 34.380241672356576, 63.93897190225226, 85.62271407971659, 419.7859988682501, 430.97268852049655, 105.74722048317729, 104.78214701255078, 104.78227698924451, 33.366447093562414, 27.39633621489601, 27.409332451515155, 26.656675499034414, 26.366896758286604, 26.18149006252963, 26.181849610323006, 26.18242002701049, 26.18217377507329, 25.813771183428567, 25.8136109068442, 18.980489937392775, 14.06664342496866, 13.769741229639688, 13.777632990928499, 13.655161617459825, 13.478930498926518, 13.414750719876906, 13.415034630127952, 13.414781887702393, 13.415327002036015, 13.415202241341717, 13.414858326081943, 13.41537763982142, 13.415357049133494, 13.414882531552108, 13.415209774937738, 17.12823476054181, 118.26407330263007, 84.11739128165226, 14.575347899525497, 34.391112207141994, 47.41743617494728, 46.747550733328396, 45.44310316182039, 22.6684811668246, 86.55933314909122, 84.79603763626241, 97.8703152412442, 36.12953339031216, 18.03701235181073, 430.97268852049655, 419.7859988682501, 29.170848974613243, 99.91556717174379, 38.923321731797905, 186.680808048132, 82.12043891280041, 114.58897682104632, 24.039263622241673, 25.55026479377209, 123.70031127881701, 19.027850758834354, 18.774860630363687, 18.56821984706468, 18.029030871991377, 17.771227994261285, 17.522619178827565, 17.423484499167333, 17.239215769346274, 17.096001344265698, 16.964613705552587, 16.806866931460995, 16.27567302141139, 16.019456726943137, 15.858646216153742, 15.856602683988227, 15.856417603684573, 15.676074951407033, 15.676518802607136, 15.676487821428841, 15.676412666552883, 15.676803438175542, 15.677073249046071, 15.676941793789783, 15.67696114608061, 15.676947773549237, 15.677315787393304, 29.071468563599147, 32.64852134513468, 15.860921098191808, 26.51114179982244, 54.10033725665934, 21.71113055334551, 66.82799881590911, 85.57934691853616, 99.91556717174379, 17.849421951318753, 53.18976683238273, 37.73310795401516, 419.7859988682501, 430.97268852049655, 25.316740679045736, 64.51390483412514, 61.64041201639422, 82.12043891280041, 85.62271407971659, 29.059805290232116, 49.96476113835335, 186.680808048132, 45.76972927993789, 45.32976528964164, 43.812601515393844, 43.813636048880106, 33.980644296909425, 33.461782773175166, 32.47730364623133, 32.518659488368755, 32.249541331435985, 32.72615329597813, 31.89299905879178, 31.941238331741026, 31.779729421474443, 31.615508721858294, 31.615308192305136, 31.527365711761256, 31.528442477202596, 31.528418447186493, 31.468727153702375, 31.249570906704648, 31.24969749708838, 31.249614186496625, 31.249872500186246, 31.249451512410808, 31.249534984089156, 31.249492579138078, 31.249698394409307, 31.24984913292504, 31.24977756942155, 31.249878898710683, 33.838949220571166, 55.84318261732453, 55.84299281584125, 67.85510248160836, 62.212147861694135, 41.34545832436577, 31.250677735280824, 35.72266655777036, 54.84926050386355, 186.680808048132, 50.767320763539026, 430.97268852049655, 419.7859988682501, 26.71530833959915, 26.43708110549657, 26.294219069369284, 24.457570818107676, 23.156113421453256, 22.340904569210537, 22.114308804764246, 22.114707107223907, 22.11503536307337, 22.114920983056393, 22.115420023895965, 22.115611427898926, 21.879249210590185, 21.22932127235597, 21.131521771226325, 20.399498738968582, 20.146938261923665, 19.916531207000748, 18.4173668970557, 18.505923437472468, 18.255810708298544, 18.139813504571773, 17.93914501681959, 17.86228607882896, 17.86292917619665, 17.828609628434503, 17.524659075441292, 17.24763425330082, 16.95615575498987, 16.894054787587866, 27.307670340113894, 32.27448336796404, 37.72830741462001, 30.275854361994597, 186.680808048132, 206.09005138554377, 46.11027178850324, 419.7859988682501, 430.97268852049655, 47.416457183914446, 44.29953564924741, 47.053866042977106, 132.7443651572282, 89.63635433677094, 87.02954511987056, 86.34307202640825, 85.00526445488438, 84.83274131621567, 84.71476749371641, 84.50136489753466, 84.67671758624806, 84.50175824213827, 84.50254375623673, 84.2934017957186, 27.21275916261759, 26.84805007260328, 26.46199498503944, 26.356044918108942, 26.31697306176444, 26.133878024446513, 26.134126446792006, 26.13412969462791, 24.042940991894312, 23.496443495828508, 17.61054305598155, 17.185123425184237, 17.185095270962524, 17.069394023889416, 17.105580232869485, 16.549103332310533, 16.50576031577668, 16.51519825823606, 16.398980842891547, 94.11894848153823, 46.26895480640728, 206.09005138554377, 21.485715848801668, 430.97268852049655, 26.930259823168335, 419.7859988682501, 25.886630073424122, 40.18963251787761], \"Category\": [\"Default\", \"Default\", \"Default\", \"Default\", \"Default\", \"Default\", \"Default\", \"Default\", \"Default\", \"Default\", \"Default\", \"Default\", \"Default\", \"Default\", \"Default\", \"Default\", \"Default\", \"Default\", \"Default\", \"Default\", \"Default\", \"Default\", \"Default\", \"Default\", \"Default\", \"Default\", \"Default\", \"Default\", \"Default\", \"Default\", \"Topic1\", \"Topic1\", \"Topic1\", \"Topic1\", \"Topic1\", \"Topic1\", \"Topic1\", \"Topic1\", \"Topic1\", \"Topic1\", \"Topic1\", \"Topic1\", \"Topic1\", \"Topic1\", \"Topic1\", \"Topic1\", \"Topic1\", \"Topic1\", \"Topic1\", \"Topic1\", \"Topic1\", \"Topic1\", \"Topic1\", \"Topic1\", \"Topic1\", \"Topic1\", \"Topic1\", \"Topic1\", \"Topic1\", \"Topic1\", \"Topic1\", \"Topic1\", \"Topic1\", \"Topic1\", \"Topic1\", \"Topic1\", \"Topic1\", \"Topic1\", \"Topic1\", \"Topic1\", \"Topic1\", \"Topic2\", \"Topic2\", \"Topic2\", \"Topic2\", \"Topic2\", \"Topic2\", \"Topic2\", \"Topic2\", \"Topic2\", \"Topic2\", \"Topic2\", \"Topic2\", \"Topic2\", \"Topic2\", \"Topic2\", \"Topic2\", \"Topic2\", \"Topic2\", \"Topic2\", \"Topic2\", \"Topic2\", \"Topic2\", \"Topic2\", \"Topic2\", \"Topic2\", \"Topic2\", \"Topic2\", \"Topic2\", \"Topic2\", \"Topic2\", \"Topic2\", \"Topic2\", \"Topic2\", \"Topic2\", \"Topic2\", \"Topic2\", \"Topic2\", \"Topic2\", \"Topic2\", \"Topic2\", \"Topic2\", \"Topic2\", \"Topic2\", \"Topic2\", \"Topic2\", \"Topic2\", \"Topic2\", \"Topic2\", \"Topic2\", \"Topic2\", \"Topic2\", \"Topic3\", \"Topic3\", \"Topic3\", \"Topic3\", \"Topic3\", \"Topic3\", \"Topic3\", \"Topic3\", \"Topic3\", \"Topic3\", \"Topic3\", \"Topic3\", \"Topic3\", \"Topic3\", \"Topic3\", \"Topic3\", \"Topic3\", \"Topic3\", \"Topic3\", \"Topic3\", \"Topic3\", \"Topic3\", \"Topic3\", \"Topic3\", \"Topic3\", \"Topic3\", \"Topic3\", \"Topic3\", \"Topic3\", \"Topic3\", \"Topic3\", \"Topic3\", \"Topic3\", \"Topic3\", \"Topic3\", \"Topic3\", \"Topic3\", \"Topic3\", \"Topic3\", \"Topic3\", \"Topic3\", \"Topic3\", \"Topic3\", \"Topic3\", \"Topic3\", \"Topic3\", \"Topic3\", \"Topic3\", \"Topic3\", \"Topic3\", \"Topic3\", \"Topic3\", \"Topic4\", \"Topic4\", \"Topic4\", \"Topic4\", \"Topic4\", \"Topic4\", \"Topic4\", \"Topic4\", \"Topic4\", \"Topic4\", \"Topic4\", \"Topic4\", \"Topic4\", \"Topic4\", \"Topic4\", \"Topic4\", \"Topic4\", \"Topic4\", \"Topic4\", \"Topic4\", \"Topic4\", \"Topic4\", \"Topic4\", \"Topic4\", \"Topic4\", \"Topic4\", \"Topic4\", \"Topic4\", \"Topic4\", \"Topic4\", \"Topic4\", \"Topic4\", \"Topic4\", \"Topic4\", \"Topic4\", \"Topic4\", \"Topic4\", \"Topic4\", \"Topic4\", \"Topic4\", \"Topic4\", \"Topic4\", \"Topic4\", \"Topic5\", \"Topic5\", \"Topic5\", \"Topic5\", \"Topic5\", \"Topic5\", \"Topic5\", \"Topic5\", \"Topic5\", \"Topic5\", \"Topic5\", \"Topic5\", \"Topic5\", \"Topic5\", \"Topic5\", \"Topic5\", \"Topic5\", \"Topic5\", \"Topic5\", \"Topic5\", \"Topic5\", \"Topic5\", \"Topic5\", \"Topic5\", \"Topic5\", \"Topic5\", \"Topic5\", \"Topic5\", \"Topic5\", \"Topic5\", \"Topic5\", \"Topic5\", \"Topic5\", \"Topic5\", \"Topic5\", \"Topic5\", \"Topic5\", \"Topic5\", \"Topic5\", \"Topic5\", \"Topic5\", \"Topic5\", \"Topic5\", \"Topic6\", \"Topic6\", \"Topic6\", \"Topic6\", \"Topic6\", \"Topic6\", \"Topic6\", \"Topic6\", \"Topic6\", \"Topic6\", \"Topic6\", \"Topic6\", \"Topic6\", \"Topic6\", \"Topic6\", \"Topic6\", \"Topic6\", \"Topic6\", \"Topic6\", \"Topic6\", \"Topic6\", \"Topic6\", \"Topic6\", \"Topic6\", \"Topic6\", \"Topic6\", \"Topic6\", \"Topic6\", \"Topic6\", \"Topic6\", \"Topic6\", \"Topic6\", \"Topic6\", \"Topic6\", \"Topic6\", \"Topic6\", \"Topic6\", \"Topic6\", \"Topic6\"], \"logprob\": [30.0, 29.0, 28.0, 27.0, 26.0, 25.0, 24.0, 23.0, 22.0, 21.0, 20.0, 19.0, 18.0, 17.0, 16.0, 15.0, 14.0, 13.0, 12.0, 11.0, 10.0, 9.0, 8.0, 7.0, 6.0, 5.0, 4.0, 3.0, 2.0, 1.0, -4.1634, -4.169, -4.1703, -4.1703, -4.1817, -4.1884, -4.1884, -4.1884, -4.1777, -5.026, -5.0604, -5.09, -5.0954, -5.1171, -5.1217, -5.127, -5.127, -5.127, -5.127, -5.2261, -5.3467, -5.5637, -4.9398, -5.6169, -5.6397, -5.6538, -5.6538, -5.6538, -5.6538, -5.6538, -4.2276, -4.2073, -4.713, -4.8118, -4.9328, -4.2823, -5.2344, -4.8414, -4.691, -4.2318, -4.2389, -3.7562, -3.7654, -3.7654, -4.9269, -5.1288, -5.1284, -5.1574, -5.1684, -5.1756, -5.1756, -5.1756, -5.1756, -5.1902, -5.1902, -5.511, -5.8245, -5.8474, -5.8469, -5.8561, -5.8697, -5.8749, -5.8749, -5.8749, -5.8749, -5.8749, -5.8749, -5.8749, -5.8749, -5.8749, -5.8749, -5.633, -3.7442, -4.0992, -5.7947, -4.9878, -4.6917, -4.7139, -4.768, -5.399, -4.2616, -4.2877, -4.1875, -5.0301, -5.6331, -3.4242, -3.4636, -5.3342, -4.6509, -5.2454, -4.877, -5.0833, -3.5921, -5.1803, -5.1201, -3.5473, -5.423, -5.4369, -5.4485, -5.4794, -5.4944, -5.5092, -5.5153, -5.5261, -5.535, -5.5429, -5.5529, -5.5865, -5.6031, -5.6139, -5.614, -5.6141, -5.6261, -5.6261, -5.6261, -5.6261, -5.6261, -5.6261, -5.6261, -5.6261, -5.6261, -5.6261, -5.0205, -4.9737, -5.6162, -5.2065, -4.6643, -5.3978, -4.637, -4.469, -4.3848, -5.5504, -4.9302, -5.1239, -3.9328, -3.9216, -5.3735, -4.9528, -5.0087, -4.915, -4.902, -5.3402, -5.1693, -4.7973, -4.4749, -4.4846, -4.5195, -4.5195, -4.7792, -4.7946, -4.8253, -4.8242, -4.8325, -4.8179, -4.8439, -4.8424, -4.8475, -4.8528, -4.8528, -4.8557, -4.8557, -4.8557, -4.8576, -4.8647, -4.8647, -4.8647, -4.8647, -4.8647, -4.8647, -4.8648, -4.8647, -4.8647, -4.8647, -4.8647, -4.7893, -4.4906, -4.4906, -4.4367, -4.5025, -4.7328, -4.8647, -4.8198, -4.6896, -4.4363, -4.789, -4.6421, -4.6887, -4.9091, -4.9199, -4.9256, -5.0001, -5.0566, -5.0937, -5.1043, -5.1043, -5.1043, -5.1043, -5.1043, -5.1043, -5.1154, -5.1467, -5.1514, -5.1881, -5.201, -5.213, -5.2948, -5.29, -5.304, -5.311, -5.3223, -5.3268, -5.3268, -5.329, -5.3469, -5.3632, -5.3812, -5.385, -4.9915, -4.8947, -4.8282, -5.0228, -4.1949, -4.4559, -5.0264, -4.495, -4.5292, -5.0718, -5.1569, -5.2212, -5.1711, -3.6417, -3.6715, -3.6794, -3.6952, -3.6972, -3.6986, -3.7012, -3.6991, -3.7012, -3.7012, -3.7037, -4.855, -4.8687, -4.8836, -4.8878, -4.8895, -4.8965, -4.8965, -4.8965, -4.9819, -5.0061, -5.3069, -5.3314, -5.3314, -5.3387, -5.3366, -5.371, -5.3737, -5.3732, -5.3805, -3.7746, -4.4679, -3.2121, -5.1742, -4.19, -5.1782, -4.2869, -5.2426, -5.2299], \"loglift\": [30.0, 29.0, 28.0, 27.0, 26.0, 25.0, 24.0, 23.0, 22.0, 21.0, 20.0, 19.0, 18.0, 17.0, 16.0, 15.0, 14.0, 13.0, 12.0, 11.0, 10.0, 9.0, 8.0, 7.0, 6.0, 5.0, 4.0, 3.0, 2.0, 1.0, 1.5417, 1.5416, 1.5416, 1.5416, 1.5415, 1.5414, 1.5414, 1.5414, 1.5404, 1.5285, 1.5278, 1.5271, 1.5269, 1.5264, 1.5263, 1.5262, 1.5262, 1.5262, 1.5262, 1.5232, 1.5199, 1.5124, 1.5105, 1.5104, 1.5095, 1.5089, 1.5089, 1.5089, 1.5089, 1.5089, 1.4531, 1.4374, 1.4548, 1.3544, 1.2222, 0.9444, 1.3432, 1.1158, 0.9741, -0.1564, -0.1899, 1.6978, 1.6978, 1.6978, 1.6806, 1.6758, 1.6758, 1.6746, 1.6746, 1.6744, 1.6744, 1.6744, 1.6744, 1.6739, 1.6739, 1.6607, 1.6468, 1.6452, 1.6451, 1.6449, 1.6443, 1.6438, 1.6438, 1.6438, 1.6438, 1.6438, 1.6438, 1.6438, 1.6438, 1.6438, 1.6438, 1.6414, 1.5979, 1.5836, 1.641, 1.5895, 1.5644, 1.5565, 1.5306, 1.5951, 1.3926, 1.3871, 1.344, 1.4979, 1.5895, 0.6248, 0.6117, 1.4077, 0.8599, 1.2081, 0.0086, 0.6236, 1.7816, 1.7551, 1.7543, 1.7499, 1.7462, 1.7457, 1.7451, 1.7437, 1.7431, 1.7424, 1.7419, 1.7418, 1.7412, 1.741, 1.7404, 1.7389, 1.7381, 1.7375, 1.7375, 1.7374, 1.7369, 1.7368, 1.7368, 1.7368, 1.7368, 1.7368, 1.7368, 1.7368, 1.7368, 1.7368, 1.7249, 1.6556, 1.735, 1.631, 1.4599, 1.6395, 1.276, 1.1966, 1.126, 1.6827, 1.211, 1.3607, 0.1425, 0.1275, 1.5101, 0.9954, 0.985, 0.7919, 0.7632, 1.4056, 1.0345, 0.0884, 1.8165, 1.8165, 1.8157, 1.8156, 1.8101, 1.81, 1.8093, 1.8091, 1.809, 1.809, 1.8088, 1.8088, 1.8087, 1.8086, 1.8086, 1.8086, 1.8085, 1.8085, 1.8085, 1.8083, 1.8083, 1.8083, 1.8083, 1.8083, 1.8083, 1.8083, 1.8083, 1.8083, 1.8083, 1.8083, 1.8042, 1.6019, 1.6019, 1.461, 1.482, 1.6603, 1.8083, 1.7194, 1.4209, 0.4494, 1.3988, -0.5931, -0.6134, 1.9207, 1.9204, 1.9201, 1.918, 1.9162, 1.9149, 1.9146, 1.9146, 1.9146, 1.9146, 1.9145, 1.9145, 1.9141, 1.913, 1.9129, 1.9115, 1.911, 1.9105, 1.907, 1.9069, 1.9066, 1.9059, 1.9058, 1.9056, 1.9056, 1.9053, 1.9046, 1.9042, 1.9032, 1.9031, 1.8164, 1.7461, 1.6565, 1.682, 0.6908, 0.3309, 1.2576, -0.4197, -0.4802, 1.1843, 1.1672, 1.0426, 0.0555, 1.9776, 1.9774, 1.9773, 1.9772, 1.9772, 1.9771, 1.9771, 1.9771, 1.9771, 1.9771, 1.9771, 1.9564, 1.9561, 1.9557, 1.9556, 1.9554, 1.9554, 1.9554, 1.9553, 1.9533, 1.9522, 1.9397, 1.9396, 1.9396, 1.9391, 1.9391, 1.9378, 1.9377, 1.9376, 1.9373, 1.7959, 1.8127, 1.5747, 1.8735, -0.141, 1.6437, -0.2116, 1.6188, 1.1916]}, \"token.table\": {\"Topic\": [5, 2, 1, 2, 4, 2, 3, 4, 1, 6, 5, 3, 1, 3, 4, 5, 4, 2, 5, 1, 2, 3, 4, 5, 6, 2, 2, 1, 1, 1, 5, 6, 5, 5, 5, 2, 3, 5, 6, 1, 3, 4, 6, 1, 2, 3, 6, 2, 3, 1, 1, 4, 4, 2, 2, 4, 4, 1, 6, 6, 1, 5, 1, 5, 5, 5, 2, 2, 1, 3, 4, 1, 2, 3, 3, 2, 2, 2, 3, 4, 3, 3, 1, 2, 5, 2, 1, 2, 3, 4, 5, 5, 6, 6, 1, 2, 4, 4, 1, 2, 3, 4, 5, 4, 1, 1, 1, 6, 4, 2, 3, 3, 4, 4, 3, 4, 5, 5, 6, 6, 4, 3, 2, 6, 6, 1, 2, 3, 1, 2, 3, 4, 5, 6, 4, 5, 5, 1, 2, 4, 2, 3, 6, 2, 2, 2, 1, 2, 1, 2, 4, 5, 5, 4, 4, 3, 4, 2, 3, 3, 3, 5, 5, 2, 2, 3, 4, 3, 5, 6, 5, 5, 6, 6, 2, 4, 4, 2, 6, 6, 2, 2, 1, 2, 3, 5, 1, 2, 3, 6, 3, 6, 6, 6, 1, 2, 3, 4, 1, 5, 1, 5, 3, 3, 1, 2, 2, 1, 2, 3, 5, 1, 3, 6, 3, 3, 6, 6, 2, 3, 6, 1, 2, 3, 4, 5, 4, 1, 2, 3, 5, 1, 2, 3, 4, 5, 6, 6, 6, 5, 3, 6, 3, 3, 5, 3, 3, 3, 6, 6, 4, 4, 1, 4, 1, 4, 2, 3, 4, 5, 4, 5, 3, 1, 3, 5, 6, 2, 4, 6, 6, 1, 2, 5, 2, 1, 4, 5, 5, 5, 1, 5, 3, 1, 1, 3, 3, 1, 1, 1, 2, 3, 4, 5, 6, 1, 2, 3, 4, 5, 6, 6, 2, 2, 3, 1, 2, 6, 2, 1, 2, 1, 2, 4, 1, 2, 3, 4, 5, 6, 6, 6, 1, 2, 1, 2, 5, 5, 1, 2, 1, 4, 4, 1, 2, 3, 4, 6, 2, 3, 6, 3, 5, 1, 2, 3, 1, 1, 6, 6, 1, 3, 4, 4, 5, 5, 1, 6, 6, 2, 3, 5, 6, 1, 2, 3, 3, 1, 3, 4, 5, 4, 1, 5, 1, 3, 4, 5, 4, 3, 2, 3, 5, 6, 2, 3, 3, 2, 3, 4, 5, 3, 1, 2, 3, 2, 6, 1, 3, 6, 1, 2], \"Freq\": [0.927663456044005, 0.9925342623607539, 0.9575521130361606, 0.9548599649026697, 0.9927251930925617, 0.9644682121504625, 0.9568469781538617, 0.9853034706504425, 0.9843352500824126, 0.9960266409526949, 0.9500730800367319, 0.994860091804763, 0.9662961052832929, 0.09674581349707069, 0.8465258680993686, 0.07255936012280302, 0.9599791804236982, 0.9605259576998346, 0.9476482844673446, 0.6412364600212749, 0.06255965463622194, 0.03127982731811097, 0.06255965463622194, 0.1876789639086658, 0.03127982731811097, 0.9855332402191607, 0.95484814266267, 0.9733641830173504, 0.9724472699371255, 0.030984229510319896, 0.8055899672683173, 0.12393691804127958, 0.9495851247259439, 0.984740789337583, 0.9495802134264183, 0.037132950315603395, 0.22279770189362036, 0.037132950315603395, 0.7055260559964645, 0.10007052742941985, 0.48033853166121526, 0.12008463291530382, 0.3202256877741435, 0.22201618362531197, 0.1869609967371048, 0.5491979279152454, 0.035055186888207156, 0.2587784237569925, 0.7208827518944791, 0.9900777806029137, 0.9843299009388013, 0.9832727632056959, 0.9832399316803141, 0.9929338995411595, 0.9925354935468435, 0.9720001541044911, 0.980531430720495, 0.2704098594581602, 0.6953396386066977, 0.9668197532346987, 0.8144212675070691, 0.1745188430372291, 0.9398889452680527, 0.9804162472774182, 0.9430713368447006, 0.953523597986409, 0.9850659459788292, 0.9548391620869777, 0.9851346400998046, 0.9784634406643716, 0.960011852337153, 0.9630950957733617, 0.09211864831662653, 0.875127159007952, 0.9568721791964672, 0.9241721430803215, 0.9690408588644182, 0.12762250458248064, 0.20054965005818387, 0.656344309281329, 0.9701745969883863, 0.9458562726950098, 0.08455653285686052, 0.8962992482827215, 0.016911306571372103, 0.9690386884514325, 0.042179448208089235, 0.1265383446242677, 0.27416641335258, 0.06326917231213385, 0.46397393028898154, 0.9539813837321941, 0.955434171324914, 0.9566127146003419, 0.08822823131736797, 0.8822823131736797, 0.9754645670158677, 0.9600131819270341, 0.5423959044492779, 0.10546587030958181, 0.03013310580273766, 0.16573208191505712, 0.1506655290136883, 0.9705321903313407, 0.9845292884673984, 0.9902371527783373, 0.9843344878681503, 0.9693585568855462, 0.9600039168102591, 0.056024223234081696, 0.8963875717453071, 0.9363613420654577, 0.9752075865269139, 0.9600168498344815, 0.9567680758207534, 0.9711410917244258, 0.9598135565746652, 0.9464533703026037, 0.9881701654483829, 0.9881740917891277, 0.985104985294989, 0.9431396598652367, 0.15128934788539133, 0.8428977953614659, 0.9684129733701347, 0.2752943428251064, 0.0344117928531383, 0.6882358570627659, 0.058924107491348895, 0.18212905951871475, 0.18212905951871475, 0.25176664109939983, 0.2839070633674083, 0.04285389635734465, 0.9600092654131701, 0.942093237151357, 0.9726615405504149, 0.055441554315929176, 0.8870648690548668, 0.9831825686529615, 0.8556598019044928, 0.08556598019044928, 0.04278299009522464, 0.9548730778993916, 0.9890174973519097, 0.9440990780579955, 0.9787041465331274, 0.9341301204522886, 0.15903178306045485, 0.05301059435348495, 0.05301059435348495, 0.7421483209487894, 0.9496114115705854, 0.9805376500345204, 0.9600142855013567, 0.8675597668959715, 0.11315996959512671, 0.9013956807585373, 0.08723184007340684, 0.945720611504085, 0.10985924330546491, 0.8788739464437193, 0.9495943083569133, 0.9690824877377436, 0.9690802361771806, 0.08398029288066802, 0.8957897907271256, 0.09908886349268188, 0.7596812867772278, 0.13211848465690917, 0.9495554788735536, 0.9470787327951172, 0.9901837273758298, 0.9940621561896915, 0.9690747143206611, 0.9814527901268695, 0.9814296159311593, 0.9690498708948132, 0.9929007115307245, 0.93735020573122, 0.9435583026895469, 0.9690372011154992, 0.5605989078471744, 0.0233582878269656, 0.3620534613179668, 0.058395719567413996, 0.9724503787907932, 0.021249706167215703, 0.14874794317050993, 0.8287385405214125, 0.9358913630038221, 0.994066783440213, 0.9653308217673516, 0.9756703878909345, 0.7243164996546327, 0.09530480258613588, 0.11436576310336306, 0.0762438420689087, 0.972431654820405, 0.977338405680433, 0.9670087688036196, 0.9312103566166092, 0.958728821181738, 0.9216208743114227, 0.9707936374852016, 0.9753654389851353, 0.9684753080963631, 0.9577623082450012, 0.8362104996369656, 0.0880221578565227, 0.04401107892826135, 0.06125851700472316, 0.8882484965684858, 0.06125851700472316, 0.9519918296044452, 0.9568112466982783, 0.9879555653676233, 0.9566035024743511, 0.18551347555390368, 0.6625481269782274, 0.15901155047477458, 0.20896240439890817, 0.01607403110760832, 0.04822209332282496, 0.7072573687347661, 0.01607403110760832, 0.9600037202460246, 0.19467747874249144, 0.34068558779936003, 0.4542474503991467, 0.032446246457081905, 0.042504477701646885, 0.021252238850823443, 0.10626119425411722, 0.27627910506070474, 0.4037925381656454, 0.1487656719557641, 0.9825411883986588, 0.9566036213568859, 0.9371650924479181, 0.7504915518499582, 0.2369973321631447, 0.9459817731460218, 0.956602436561484, 0.9436101101684862, 0.9281164650453664, 0.9568450871570654, 0.956851565409727, 0.9353672767705921, 0.9566217380708157, 0.9840504037826568, 0.9600092929794019, 0.1969808465723846, 0.7879233862895384, 0.19698017706797769, 0.7879207082719107, 0.2560702397621221, 0.019697710750932473, 0.6500244547807716, 0.059093132252797415, 0.9600155882219915, 0.9700616672094615, 0.9756946149785611, 0.4554299765640499, 0.043374283482290464, 0.4988042600463403, 0.9310393540287806, 0.2488203890779963, 0.2985844668935956, 0.44787670034039334, 0.9788715472655832, 0.0632678660425979, 0.8646608359155046, 0.0632678660425979, 0.9690729657470877, 0.02257360004668556, 0.49661920102708235, 0.4514720009337112, 0.9732247769516149, 0.9834671193936877, 0.9398688253432451, 0.9888105036094407, 0.9429236724204624, 0.9682444203759956, 0.9674397286781586, 0.9459892123750849, 0.9568189048450229, 0.9913351391509265, 0.9913342557538377, 0.17634528132375035, 0.3387685667535204, 0.19026727721773065, 0.08817264066187518, 0.08817264066187518, 0.11833696509883247, 0.18104462798877818, 0.33588542824233847, 0.1929554587775136, 0.08575798167889494, 0.09290448015213618, 0.11196180941411282, 0.9864909579864805, 0.968481321354833, 0.9690619784763095, 0.9568192698107775, 0.08321703625546034, 0.8797229547005808, 0.02377629607298867, 0.9690493267042732, 0.25416092291407605, 0.7278244610721268, 0.2594460851386747, 0.731166239936265, 0.011793003869939759, 0.004852247807582162, 0.09219270834406108, 0.004852247807582162, 0.0388179824606573, 0.19894216011086865, 0.6647579496387562, 0.9965192792144083, 0.9920082213205916, 0.8925813839389716, 0.10299015968526595, 0.9014948922053933, 0.08303242428207569, 0.9812912401844542, 0.949563697063373, 0.94758988892471, 0.025610537538505677, 0.9700527825249055, 0.9612539813018064, 0.9832391822848624, 0.07152321909606031, 0.6947969855045859, 0.0613056163680517, 0.132828835464112, 0.03065280818402585, 0.7541775701881739, 0.06856159728983399, 0.171403993224585, 0.9287456511160614, 0.03439798707837265, 0.12845769008237842, 0.6165969123954164, 0.23122384214828115, 0.9398565258094703, 0.9398730631595732, 0.9915626576704064, 0.9940529156413751, 0.03233621612304688, 0.9620024296606445, 0.9778112236592326, 0.9600068331160065, 0.9516916196842703, 0.9517258835166137, 0.0930850996110305, 0.8843084463047898, 0.9310378287159999, 0.11971030319249236, 0.5985515159624618, 0.17956545478873853, 0.1047465152934308, 0.2632085236267024, 0.16920547947430867, 0.5640182649143622, 0.9568180886733998, 0.19158470807001665, 0.08842371141693077, 0.692652406099291, 0.029474570472310255, 0.9861996960441284, 0.9073900922310061, 0.07722468870051115, 0.9724677418664517, 0.4495154970787045, 0.4495154970787045, 0.09300320629214576, 0.9600046346589177, 0.9693982594053299, 0.4303633679633501, 0.5104309713053687, 0.030025351253256987, 0.030025351253256987, 0.9860849472863622, 0.956827714218358, 0.9459781706674651, 0.340962619911613, 0.3653170927624425, 0.06088618212707375, 0.23136749208288024, 0.9567964442013754, 0.11071275005927884, 0.8026674379297717, 0.05535637502963942, 0.9520209547265908, 0.9688045974271526, 0.8289033028517744, 0.13493774697587024, 0.038553641993105785, 0.939865885845501, 0.9483422219011772], \"Term\": [\"abrams american\", \"abrams carrying\", \"abrams cheated\", \"abrams consequential\", \"abrams goddess\", \"abrams got\", \"abrams okay\", \"abrams raphael\", \"abrams spun\", \"abrams state\", \"abrams super\", \"abrams tweet\", \"abrams way\", \"absolutely\", \"absolutely\", \"absolutely\", \"absolutely quite\", \"actually\", \"air\", \"american\", \"american\", \"american\", \"american\", \"american\", \"american\", \"argument\", \"argument stacey\", \"asking\", \"asking talk\", \"believe\", \"believe\", \"believe\", \"believe happen\", \"believing\", \"believing stacey\", \"better\", \"better\", \"better\", \"better\", \"biden\", \"biden\", \"biden\", \"biden\", \"black\", \"black\", \"black\", \"black\", \"black woman\", \"black woman\", \"block\", \"block em\", \"boiled\", \"boiled egg\", \"carrying\", \"carrying democracy\", \"cat\", \"cat happiness\", \"charge\", \"charge\", \"charge vaccine\", \"cheated\", \"cheated\", \"cheated governor\", \"closer\", \"closer flipping\", \"cnn\", \"consequential\", \"consequential woman\", \"crazy\", \"credit\", \"cup\", \"dad\", \"damn\", \"damn\", \"damn hard\", \"date\", \"date time\", \"day\", \"day\", \"day\", \"dear\", \"dear white\", \"democracy\", \"democracy\", \"democracy\", \"democracy real\", \"democrat\", \"democrat\", \"democrat\", \"democrat\", \"democrat\", \"democrat closer\", \"determined\", \"determined stacey\", \"dnc\", \"dnc\", \"egg\", \"egg cup\", \"election\", \"election\", \"election\", \"election\", \"election\", \"election georgia\", \"election stacey\", \"em\", \"em crazy\", \"ending\", \"englishman uk\", \"fair\", \"fair\", \"fair fight\", \"far\", \"far important\", \"fight\", \"flip\", \"flipping\", \"flipping georgia\", \"follow\", \"follow lead\", \"frankly\", \"freedom\", \"fucking\", \"fucking\", \"fucking abrams\", \"ga\", \"ga\", \"ga\", \"georgia\", \"georgia\", \"georgia\", \"georgia\", \"georgia\", \"georgia\", \"georgia absolutely\", \"georgia democrat\", \"georgia republican\", \"god\", \"god\", \"goddess\", \"good\", \"good\", \"good\", \"good argument\", \"got\", \"governor kemp\", \"governor year\", \"great\", \"happen\", \"happen\", \"happen\", \"happen\", \"happen work\", \"happiness\", \"happiness far\", \"hard\", \"hard\", \"history\", \"history\", \"honor\", \"human\", \"human\", \"human believe\", \"imaginary\", \"imaginary world\", \"important\", \"important\", \"instead\", \"instead\", \"instead\", \"instead believing\", \"integrity\", \"invest\", \"invest follow\", \"jensenackles jarpad\", \"jon\", \"jon ossoff\", \"know date\", \"lead\", \"league\", \"lesson\", \"let know\", \"like\", \"like\", \"like\", \"like\", \"like dad\", \"listen\", \"listen\", \"listen\", \"listen stacey\", \"listen trust\", \"major\", \"major league\", \"make\", \"make\", \"make\", \"make\", \"make sound\", \"match\", \"mcconnell\", \"meaningful\", \"medal\", \"medal freedom\", \"mitch mcconnell\", \"mother\", \"mother abrams\", \"motherfucking\", \"need\", \"need\", \"need\", \"new\", \"new\", \"new\", \"okay\", \"okay black\", \"optimistic\", \"optimistic pessimistic\", \"organizer\", \"organizer\", \"organizer\", \"ossoff\", \"ossoff\", \"ossoff\", \"ossoff\", \"ossoff\", \"ossoff really\", \"people\", \"people\", \"people\", \"people\", \"person\", \"person\", \"person\", \"person\", \"person\", \"person\", \"pessimistic\", \"pessimistic determined\", \"phone\", \"possible\", \"possible\", \"praising\", \"praising stacey\", \"president united\", \"project\", \"pta\", \"pta listen\", \"pull\", \"pundit\", \"quite\", \"quite frankly\", \"raphael\", \"raphael\", \"raphael warnock\", \"raphael warnock\", \"really\", \"really\", \"really\", \"really\", \"really day\", \"receiving\", \"remarkable\", \"republican\", \"republican\", \"republican\", \"rollout\", \"run\", \"run\", \"run\", \"running\", \"saved\", \"saved\", \"saved\", \"saved imaginary\", \"seat\", \"seat\", \"seat\", \"secretary\", \"secretary state\", \"senate american\", \"signature\", \"single\", \"sound\", \"sound like\", \"sphere\", \"sphere office\", \"spun\", \"spun block\", \"stacey\", \"stacey\", \"stacey\", \"stacey\", \"stacey\", \"stacey\", \"stacey abrams\", \"stacey abrams\", \"stacey abrams\", \"stacey abrams\", \"stacey abrams\", \"stacey abrams\", \"stacey fucking\", \"stacey mother\", \"stacey saved\", \"stacey want\", \"staceyabrams\", \"staceyabrams\", \"staceyabrams\", \"staceyabrams let\", \"stacy\", \"stacy\", \"stacy abrams\", \"stacy abrams\", \"stacy abrams\", \"state\", \"state\", \"state\", \"state\", \"state\", \"state\", \"state listen\", \"state stacey\", \"stole\", \"stole\", \"stole election\", \"stole election\", \"super\", \"super human\", \"talk\", \"talk\", \"talk stacey\", \"tea\", \"tea cat\", \"thank\", \"thank\", \"thank\", \"thank\", \"thank\", \"thank stacey\", \"thank stacey\", \"thank stacey\", \"think\", \"think\", \"time\", \"time\", \"time\", \"torched\", \"torched republican\", \"trust\", \"trust invest\", \"tweet\", \"tweet\", \"uk\", \"uk election\", \"united\", \"united state\", \"vaccine\", \"vaccine\", \"vaccine rollout\", \"voter\", \"voter\", \"voter\", \"voter\", \"want\", \"want\", \"want\", \"want work\", \"warnock\", \"warnock\", \"warnock\", \"warnock\", \"warnock jon\", \"way\", \"way\", \"way make\", \"white\", \"white\", \"white\", \"white englishman\", \"white woman\", \"woman\", \"woman\", \"woman\", \"woman\", \"woman history\", \"woman praising\", \"woman sphere\", \"work\", \"work\", \"work\", \"work\", \"work damn\", \"world\", \"world\", \"world\", \"world thank\", \"writing\", \"year\", \"year\", \"year\", \"year torched\", \"yes\"]}, \"R\": 30, \"lambda.step\": 0.01, \"plot.opts\": {\"xlab\": \"PC1\", \"ylab\": \"PC2\"}, \"topic.order\": [4, 5, 3, 1, 2, 6]};\n",
       "\n",
       "function LDAvis_load_lib(url, callback){\n",
       "  var s = document.createElement('script');\n",
       "  s.src = url;\n",
       "  s.async = true;\n",
       "  s.onreadystatechange = s.onload = callback;\n",
       "  s.onerror = function(){console.warn(\"failed to load library \" + url);};\n",
       "  document.getElementsByTagName(\"head\")[0].appendChild(s);\n",
       "}\n",
       "\n",
       "if(typeof(LDAvis) !== \"undefined\"){\n",
       "   // already loaded: just create the visualization\n",
       "   !function(LDAvis){\n",
       "       new LDAvis(\"#\" + \"ldavis_el10281405365838084645920952459\", ldavis_el10281405365838084645920952459_data);\n",
       "   }(LDAvis);\n",
       "}else if(typeof define === \"function\" && define.amd){\n",
       "   // require.js is available: use it to load d3/LDAvis\n",
       "   require.config({paths: {d3: \"https://cdnjs.cloudflare.com/ajax/libs/d3/3.5.5/d3.min\"}});\n",
       "   require([\"d3\"], function(d3){\n",
       "      window.d3 = d3;\n",
       "      LDAvis_load_lib(\"https://cdn.rawgit.com/bmabey/pyLDAvis/files/ldavis.v1.0.0.js\", function(){\n",
       "        new LDAvis(\"#\" + \"ldavis_el10281405365838084645920952459\", ldavis_el10281405365838084645920952459_data);\n",
       "      });\n",
       "    });\n",
       "}else{\n",
       "    // require.js not available: dynamically load d3 & LDAvis\n",
       "    LDAvis_load_lib(\"https://cdnjs.cloudflare.com/ajax/libs/d3/3.5.5/d3.min.js\", function(){\n",
       "         LDAvis_load_lib(\"https://cdn.rawgit.com/bmabey/pyLDAvis/files/ldavis.v1.0.0.js\", function(){\n",
       "                 new LDAvis(\"#\" + \"ldavis_el10281405365838084645920952459\", ldavis_el10281405365838084645920952459_data);\n",
       "            })\n",
       "         });\n",
       "}\n",
       "</script>"
      ],
      "text/plain": [
       "PreparedData(topic_coordinates=               x          y  topics  cluster       Freq\n",
       "topic                                                  \n",
       "3      1.465019  -47.625065  1       1        21.194232\n",
       "4      54.854797 -36.476795  2       1        18.169287\n",
       "2      32.212929 -61.444572  3       1        16.715969\n",
       "0      5.111096  -14.110332  4       1        15.981021\n",
       "1      26.350170 -33.374702  5       1        14.221049\n",
       "5      38.109818 -7.222781   6       1        13.718442, topic_info=               Term        Freq       Total Category  logprob  loglift\n",
       "1650  state          206.000000  206.000000  Default  30.0000  30.0000\n",
       "1803  tweet          123.000000  123.000000  Default  29.0000  29.0000\n",
       "87    abrams tweet   114.000000  114.000000  Default  28.0000  28.0000\n",
       "307   carrying       105.000000  105.000000  Default  27.0000  27.0000\n",
       "961   lead           89.000000   89.000000   Default  26.0000  26.0000\n",
       "...    ...                 ...         ...       ...      ...      ...\n",
       "1623  stacey         51.349622   430.972689  Topic6  -4.1900  -0.1410 \n",
       "219   better         19.115051   26.930260   Topic6  -5.1782   1.6437 \n",
       "1624  stacey abrams  46.606357   419.785999  Topic6  -4.2869  -0.2116 \n",
       "326   charge         17.922730   25.886630   Topic6  -5.2426   1.6188 \n",
       "1487  run            18.151661   40.189633   Topic6  -5.2299   1.1916 \n",
       "\n",
       "[299 rows x 6 columns], token_table=      Topic      Freq                  Term\n",
       "term                                       \n",
       "5     5      0.927663  abrams american     \n",
       "13    2      0.992534  abrams carrying     \n",
       "15    1      0.957552  abrams cheated      \n",
       "17    2      0.954860  abrams consequential\n",
       "33    4      0.992725  abrams goddess      \n",
       "...  ..           ...                   ...\n",
       "1986  1      0.828903  year                \n",
       "1986  3      0.134938  year                \n",
       "1986  6      0.038554  year                \n",
       "1991  1      0.939866  year torched        \n",
       "1995  2      0.948342  yes                 \n",
       "\n",
       "[402 rows x 3 columns], R=30, lambda_step=0.01, plot_opts={'xlab': 'PC1', 'ylab': 'PC2'}, topic_order=[4, 5, 3, 1, 2, 6])"
      ]
     },
     "execution_count": 46,
     "metadata": {},
     "output_type": "execute_result"
    }
   ],
   "source": [
    "# visualization of LDA model \n",
    "import pyLDAvis.sklearn\n",
    "\n",
    "pyLDAvis.enable_notebook()\n",
    "panel = pyLDAvis.sklearn.prepare(lda_model, doc_term_matrix_1, tfidfconverter, mds='tsne')\n",
    "panel"
   ]
  },
  {
   "cell_type": "code",
   "execution_count": 47,
   "metadata": {},
   "outputs": [
    {
     "name": "stdout",
     "output_type": "stream",
     "text": [
      "Log Likelihood:  -169848.26881632584\n",
      "Perplexity:  965.7075167769015\n"
     ]
    }
   ],
   "source": [
    "# test LDA model\n",
    "\n",
    "# log likelihood (higher score is better)\n",
    "print(\"Log Likelihood: \", lda_model.score(doc_term_matrix_1))\n",
    "\n",
    "# perplexity (lower score is better)\n",
    "print(\"Perplexity: \", lda_model.perplexity(doc_term_matrix_1))"
   ]
  },
  {
   "cell_type": "code",
   "execution_count": 48,
   "metadata": {},
   "outputs": [
    {
     "data": {
      "text/plain": [
       "GridSearchCV(estimator=LatentDirichletAllocation(),\n",
       "             param_grid={'learning_decay': [0.5, 0.7, 0.9],\n",
       "                         'n_components': [5, 8, 10, 12]})"
      ]
     },
     "execution_count": 48,
     "metadata": {},
     "output_type": "execute_result"
    }
   ],
   "source": [
    "# cross-validation to find best parameters for LDA model\n",
    "\n",
    "#import cross-validation tool\n",
    "from sklearn.model_selection import GridSearchCV\n",
    "\n",
    "# define search parameters\n",
    "search_params = {'n_components': [5, 8, 10, 12], 'learning_decay': [.5, .7, .9]}\n",
    "\n",
    "# initialize model for cross-validation\n",
    "lda = LatentDirichletAllocation()\n",
    "\n",
    "# initialize grid search class \n",
    "model = GridSearchCV(lda, param_grid=search_params)\n",
    "\n",
    "# run grid search \n",
    "model.fit(doc_term_matrix_1)"
   ]
  },
  {
   "cell_type": "code",
   "execution_count": 49,
   "metadata": {},
   "outputs": [
    {
     "name": "stdout",
     "output_type": "stream",
     "text": [
      "Parameters for best model:  {'learning_decay': 0.5, 'n_components': 5}\n",
      "Log likelihood score of best model:  -39802.840257914075\n",
      "Perplexity score of best model:  1038.9778572241667\n"
     ]
    }
   ],
   "source": [
    "# what is best model? \n",
    "best_lda_model = model.best_estimator_\n",
    "\n",
    "# print parameters for best model\n",
    "print(\"Parameters for best model: \", model.best_params_)\n",
    "\n",
    "# print log likelihood score\n",
    "print(\"Log likelihood score of best model: \", model.best_score_)\n",
    "\n",
    "# print perplexity score\n",
    "print(\"Perplexity score of best model: \", best_lda_model.perplexity(doc_term_matrix_1))"
   ]
  },
  {
   "cell_type": "code",
   "execution_count": 50,
   "metadata": {},
   "outputs": [
    {
     "data": {
      "text/html": [
       "\n",
       "<link rel=\"stylesheet\" type=\"text/css\" href=\"https://cdn.rawgit.com/bmabey/pyLDAvis/files/ldavis.v1.0.0.css\">\n",
       "\n",
       "\n",
       "<div id=\"ldavis_el10281405365836794401943035567\"></div>\n",
       "<script type=\"text/javascript\">\n",
       "\n",
       "var ldavis_el10281405365836794401943035567_data = {\"mdsDat\": {\"x\": [150.22215270996094, 51.16336441040039, -73.1445541381836, -66.4101333618164, 54.41732406616211], \"y\": [-72.2695541381836, -159.968017578125, 21.523815155029297, -110.60643768310547, 12.44344425201416], \"topics\": [1, 2, 3, 4, 5], \"cluster\": [1, 1, 1, 1, 1], \"Freq\": [28.35296978650425, 19.206739715461218, 19.181227790020213, 17.493289963416565, 15.76577274459775]}, \"tinfo\": {\"Term\": [\"carrying\", \"carrying democracy\", \"abrams carrying\", \"tweet\", \"abrams tweet\", \"state\", \"democracy\", \"lead\", \"election stacey\", \"follow\", \"block\", \"spun\", \"spun block\", \"crazy\", \"abrams state\", \"em\", \"em crazy\", \"abrams spun\", \"block em\", \"follow lead\", \"invest\", \"state stacey\", \"trust\", \"listen trust\", \"trust invest\", \"invest follow\", \"state listen\", \"stole\", \"stole election\", \"listen\", \"talk\", \"abrams way\", \"talk stacey\", \"sound\", \"like\", \"asking\", \"sound like\", \"dad\", \"make sound\", \"like dad\", \"asking talk\", \"way make\", \"right\", \"new\", \"happen\", \"mother\", \"stacey mother\", \"mother abrams\", \"believe\", \"instead\", \"human\", \"today\", \"lot\", \"ga\", \"love\", \"credit\", \"fight\", \"country\", \"god\", \"dnc\", \"people\", \"way\", \"leader\", \"make\", \"stacy\", \"stacy abrams\", \"staceyabrams\", \"vote\", \"voter\", \"thank\", \"need\", \"stacey\", \"stacey abrams\", \"georgia\", \"work\", \"want\", \"black\", \"tweet\", \"abrams tweet\", \"election stacey\", \"block\", \"spun\", \"spun block\", \"crazy\", \"em\", \"abrams spun\", \"block em\", \"em crazy\", \"cheated\", \"mitch\", \"mcconnell\", \"mitch mcconnell\", \"republican party\", \"morning\", \"motherfucking\", \"abrams cheated\", \"governor year\", \"motherfucking senate\", \"american royalty\", \"torched republican\", \"senate american\", \"torched\", \"party flipped\", \"flipped motherfucking\", \"year torched\", \"royalty\", \"cheated governor\", \"stole election\", \"stole\", \"american\", \"election\", \"party\", \"year\", \"stacey abrams\", \"stacey\", \"republican\", \"power\", \"president\", \"governor\", \"georgia\", \"carrying\", \"carrying democracy\", \"abrams carrying\", \"history\", \"spent\", \"building\", \"flip\", \"senate seat\", \"decade\", \"abrams spent\", \"georgia senate\", \"spent decade\", \"infrastructure\", \"infrastructure georgia\", \"seat person\", \"person responsible\", \"landscape\", \"political landscape\", \"responsible shifting\", \"building democratic\", \"decade building\", \"democratic infrastructure\", \"shifting political\", \"shifting\", \"consequential\", \"argument\", \"woman history\", \"consequential woman\", \"abrams consequential\", \"argument stacey\", \"good argument\", \"democratic\", \"democracy\", \"seat\", \"woman\", \"political\", \"black woman\", \"stacey\", \"responsible\", \"stacey abrams\", \"georgia\", \"fucking\", \"person\", \"good\", \"lead\", \"follow\", \"abrams state\", \"follow lead\", \"invest\", \"state stacey\", \"trust\", \"invest follow\", \"trust invest\", \"listen trust\", \"state listen\", \"goddess\", \"abrams goddess\", \"running\", \"charge\", \"vaccine\", \"game\", \"queen\", \"saved america\", \"pull\", \"rollout\", \"vaccine rollout\", \"major\", \"league\", \"abrams pull\", \"writing\", \"ending\", \"major league\", \"charge vaccine\", \"throne\", \"game throne\", \"listen\", \"state\", \"stacey abrams\", \"stacey\", \"america\", \"saved\", \"voter\", \"really\", \"absolutely\", \"important\", \"warnock jon\", \"far\", \"tea\", \"abrams raphael\", \"uk\", \"election georgia\", \"quite\", \"cat\", \"egg\", \"tea cat\", \"boiled egg\", \"boiled\", \"cat happiness\", \"happiness\", \"frankly\", \"egg cup\", \"frankly soft\", \"uk election\", \"quite frankly\", \"englishman\", \"englishman uk\", \"happiness far\", \"far important\", \"white englishman\", \"really day\", \"cup\", \"cup tea\", \"soft boiled\", \"soft\", \"absolutely quite\", \"ossoff really\", \"important stacey\", \"georgia absolutely\", \"day\", \"white\", \"thing\", \"world\", \"said\", \"saved\", \"election\", \"jon ossoff\", \"jon\", \"ossoff\", \"warnock\", \"georgia\"], \"Freq\": [135.0, 134.0, 134.0, 126.0, 119.0, 194.0, 144.0, 86.0, 89.0, 84.0, 88.0, 88.0, 88.0, 88.0, 83.0, 87.0, 87.0, 87.0, 87.0, 81.0, 81.0, 81.0, 81.0, 80.0, 80.0, 80.0, 80.0, 95.0, 92.0, 91.0, 44.53265874687923, 41.65193627909281, 41.461377417261204, 40.16511820980003, 89.95831818376175, 39.06908922622901, 38.906523163698814, 38.72855873376222, 38.66566196321222, 38.66566196321222, 38.66566196321222, 38.66566196321222, 30.18301919581748, 29.445036901602645, 29.07238927745361, 28.199095837371075, 27.793219151214778, 27.793219151214778, 26.810499434173444, 25.73402256436701, 25.29356814696193, 24.8488641487951, 23.65827365888999, 23.21188305826888, 22.931014222767285, 22.220323274619602, 22.200990770415444, 21.746971087356414, 21.48122326810164, 20.582441485989637, 54.18068390343486, 56.36878470475123, 35.06359850005722, 50.868615211364045, 73.61161588606782, 72.54854725199516, 63.375561044814184, 30.059587599547456, 44.31072173021587, 59.77056331648276, 34.89203655941681, 103.67633849581264, 98.19793572300271, 57.421771686625966, 41.36625846268606, 33.81611179275878, 32.56267537951682, 125.81058213823782, 118.66187299571895, 89.14108228146893, 88.22321577901103, 88.01479462568979, 88.01479462568979, 87.4797624015367, 87.17811231534559, 87.0700425875042, 87.0700425875042, 87.0700425875042, 34.23235311482074, 31.2836622960008, 29.98281928568733, 25.160127814444348, 23.891873525566222, 22.363294565514526, 22.060906184436412, 21.276808888202844, 20.471597816925843, 20.263529676434274, 20.263529676434274, 20.263529676434274, 20.263529676434274, 20.263529676434274, 20.263529676434274, 20.263529676434274, 20.263529676434274, 20.263529676434274, 20.263529676434274, 83.48060506144476, 84.72717548136312, 51.713512578175575, 80.19568138629928, 26.646059787532117, 35.703571869148384, 110.2082340843179, 106.68620449751917, 30.148104868658972, 23.19420931263789, 24.82562086590788, 23.39297661775894, 23.31321825648988, 134.64182155695457, 133.97828555373974, 133.97828555373974, 37.395454969576065, 35.192694513322714, 34.842480951625014, 33.127989420347596, 32.24663192321808, 31.332205422112914, 30.47253182359742, 29.97794266903453, 29.580989525421554, 29.19083708091628, 29.099756450560502, 29.099756450560502, 29.099756450560502, 29.099756450560502, 29.099756450560502, 29.099756450560502, 29.099756450560502, 29.099756450560502, 29.099756450560502, 29.099756450560502, 29.099756450560502, 28.682965370639053, 28.53738896109641, 27.095765550843584, 26.9937625990295, 26.9937625990295, 26.9937625990295, 26.9937625990295, 40.654528872897174, 117.30779040229126, 37.08413510515168, 65.59502731733282, 34.86065241233623, 40.73745699345964, 84.09787379679373, 30.336314336030714, 73.87763774620136, 47.762119619281634, 31.10568906083371, 30.311978974626822, 30.20470109972108, 85.43832002589599, 83.72195686486874, 82.37663350615716, 81.12915617739829, 80.52527244441468, 80.46569537117315, 80.30673858245903, 80.16665817521718, 80.16665817521718, 80.16665817521718, 80.08792328850195, 35.527630339243345, 35.52506185599601, 25.604319044325898, 25.059847870812032, 21.077489790435404, 20.738614709409237, 20.3661751861871, 19.311926630564496, 18.123249165498503, 17.410137134822694, 17.410137134822694, 17.40899849642412, 17.29326600229814, 17.0573690427884, 16.910529599634312, 16.698124237965725, 16.519805588755162, 16.315237919489654, 16.264542699314095, 16.264542699314095, 76.96590812688137, 132.94715257597954, 131.22866350204612, 127.3139042381701, 22.682271784577328, 19.774919578681512, 18.315321772111893, 52.179989830722015, 42.63187468690583, 35.23334250637484, 32.24581706794095, 31.90895250079506, 31.674784566729002, 30.98181435073753, 30.98899330375931, 30.77601267668495, 30.569617889557655, 30.30508387202494, 30.131747915973328, 29.97880010565768, 29.97880010565768, 29.97880010565768, 29.68301852980177, 29.68301852980177, 29.62516325194891, 29.355791188710324, 29.355791188710324, 29.355791188710324, 29.355791188710324, 29.355791188710324, 29.355791188710324, 29.355791188710324, 29.355791188710324, 29.355791188710324, 29.355791188710324, 29.355791188710324, 29.355791188710324, 29.355791188710324, 29.355791188710324, 29.355791188710324, 29.355791188710324, 29.355791188710324, 29.355791188710324, 44.554878871074195, 43.369982228519504, 33.67990155534302, 33.838343900081796, 33.21088907744195, 34.781979087076564, 34.79967827254365, 30.047787048957865, 30.047787048957865, 30.620050412259566, 30.599398240046842, 31.525425555711035], \"Total\": [135.0, 134.0, 134.0, 126.0, 119.0, 194.0, 144.0, 86.0, 89.0, 84.0, 88.0, 88.0, 88.0, 88.0, 83.0, 87.0, 87.0, 87.0, 87.0, 81.0, 81.0, 81.0, 81.0, 80.0, 80.0, 80.0, 80.0, 95.0, 92.0, 91.0, 45.322309867170446, 42.44118629886827, 42.25063229717787, 40.95430783499787, 91.73959822799262, 39.858238511542694, 39.69567190688062, 39.51762535070245, 39.45471299451722, 39.45471299451722, 39.45471299451722, 39.45471299451722, 30.978772929166517, 30.2368349649757, 29.86211823262322, 28.988288773115354, 28.582353252790945, 28.582353252790945, 27.600757040538312, 26.524259205786297, 26.08527947466376, 25.649776105855913, 24.452868101689084, 24.004201396105408, 23.723997168444726, 23.011807900066387, 22.995131261634935, 22.54968120483038, 22.27510514619737, 21.37679924910328, 56.54475166627719, 59.295613027008486, 37.42687960771905, 58.06178132504152, 89.07970359458352, 87.7332703092877, 86.61461678130132, 33.598373604836645, 63.228638693403624, 100.97573092253701, 46.393054902039744, 447.3216106441505, 435.87682867002354, 177.2734874313304, 77.92732639808223, 52.60399930792105, 83.28104038044933, 126.58070469902742, 119.4287780241992, 89.90821169497916, 88.99002756092975, 88.78156340340864, 88.78156340340864, 88.24673752562906, 87.94488115661044, 87.83681144367793, 87.83681144367793, 87.83681144367793, 35.000695966087825, 32.053098249117006, 30.757150219937053, 25.92831528484451, 24.660488680092225, 23.133659239890143, 22.828710589136488, 22.043887737751856, 21.238412522074974, 21.030292344282543, 21.030292344282543, 21.030292344282543, 21.030292344282543, 21.030292344282543, 21.030292344282543, 21.030292344282543, 21.030292344282543, 21.030292344282543, 21.030292344282543, 92.51027691931031, 95.2483909830562, 63.976358017103415, 136.31651503573036, 33.58210607721833, 57.38483790320534, 435.87682867002354, 447.3216106441505, 46.47226980410223, 35.96995190020438, 48.04824972238051, 57.494937127119016, 177.2734874313304, 135.39595440802495, 134.73231023272362, 134.73231023272362, 38.16770110830242, 35.952346824062424, 35.607754551500115, 33.884441573591296, 33.0027136522202, 32.08994304893906, 31.229199907530294, 30.732467913299548, 30.335141891915786, 29.94532789642487, 29.853734953204373, 29.853734953204373, 29.853734953204373, 29.853734953204373, 29.853734953204373, 29.853734953204373, 29.853734953204373, 29.853734953204373, 29.853734953204373, 29.853734953204373, 29.853734953204373, 29.437579482348177, 29.291652062016386, 27.849761528962787, 27.747754909719013, 27.747754909719013, 27.747754909719013, 27.747754909719013, 42.54877109329144, 144.39739864018864, 41.788266398044186, 104.9244542898266, 41.0535788574778, 56.22750613540891, 447.3216106441505, 33.26206364601527, 435.87682867002354, 177.2734874313304, 48.5793286056415, 45.499401667477436, 53.27215338197105, 86.20807783646863, 84.49198084487722, 83.14547449235751, 81.89731746389589, 81.29334660364096, 81.23420161104579, 81.074917504163, 80.93471016586125, 80.93471016586125, 80.93471016586125, 80.85597531377286, 36.29578948003936, 36.29320744466718, 26.37316573109158, 25.83177404245532, 21.847820030276267, 21.51502920982408, 21.142453856625806, 20.085609748951146, 18.892395389795325, 18.17967715028706, 18.17967715028706, 18.17960390159566, 18.062316581294365, 17.825613827288244, 17.679136399633776, 17.46637253519524, 17.28785153827831, 17.083367952607087, 17.032615672132515, 17.032615672132515, 91.11570345741626, 194.7446898051257, 435.87682867002354, 447.3216106441505, 50.08709439613396, 55.12057436080413, 63.228638693403624, 52.93618648118571, 43.38201241843107, 35.987523241645725, 32.9918726915677, 32.65634839421759, 32.42114881611374, 31.727985215548504, 31.735337959651872, 31.522962284418988, 31.316456667233897, 31.051051958127015, 30.877863303726432, 30.724758517586608, 30.724758517586608, 30.724758517586608, 30.428967623145233, 30.428967623145233, 30.371606904385196, 30.10173028233298, 30.10173028233298, 30.10173028233298, 30.10173028233298, 30.10173028233298, 30.10173028233298, 30.10173028233298, 30.10173028233298, 30.10173028233298, 30.10173028233298, 30.10173028233298, 30.10173028233298, 30.10173028233298, 30.10173028233298, 30.10173028233298, 30.10173028233298, 30.10173028233298, 30.10173028233298, 56.91409391584588, 68.78866019413688, 40.37785545167409, 44.265183984271445, 44.42845163929713, 55.12057436080413, 136.31651503573036, 42.60317428271871, 42.60317428271871, 59.864927901173004, 63.05079736601385, 177.2734874313304], \"Category\": [\"Default\", \"Default\", \"Default\", \"Default\", \"Default\", \"Default\", \"Default\", \"Default\", \"Default\", \"Default\", \"Default\", \"Default\", \"Default\", \"Default\", \"Default\", \"Default\", \"Default\", \"Default\", \"Default\", \"Default\", \"Default\", \"Default\", \"Default\", \"Default\", \"Default\", \"Default\", \"Default\", \"Default\", \"Default\", \"Default\", \"Topic1\", \"Topic1\", \"Topic1\", \"Topic1\", \"Topic1\", \"Topic1\", \"Topic1\", \"Topic1\", \"Topic1\", \"Topic1\", \"Topic1\", \"Topic1\", \"Topic1\", \"Topic1\", \"Topic1\", \"Topic1\", \"Topic1\", \"Topic1\", \"Topic1\", \"Topic1\", \"Topic1\", \"Topic1\", \"Topic1\", \"Topic1\", \"Topic1\", \"Topic1\", \"Topic1\", \"Topic1\", \"Topic1\", \"Topic1\", \"Topic1\", \"Topic1\", \"Topic1\", \"Topic1\", \"Topic1\", \"Topic1\", \"Topic1\", \"Topic1\", \"Topic1\", \"Topic1\", \"Topic1\", \"Topic1\", \"Topic1\", \"Topic1\", \"Topic1\", \"Topic1\", \"Topic1\", \"Topic2\", \"Topic2\", \"Topic2\", \"Topic2\", \"Topic2\", \"Topic2\", \"Topic2\", \"Topic2\", \"Topic2\", \"Topic2\", \"Topic2\", \"Topic2\", \"Topic2\", \"Topic2\", \"Topic2\", \"Topic2\", \"Topic2\", \"Topic2\", \"Topic2\", \"Topic2\", \"Topic2\", \"Topic2\", \"Topic2\", \"Topic2\", \"Topic2\", \"Topic2\", \"Topic2\", \"Topic2\", \"Topic2\", \"Topic2\", \"Topic2\", \"Topic2\", \"Topic2\", \"Topic2\", \"Topic2\", \"Topic2\", \"Topic2\", \"Topic2\", \"Topic2\", \"Topic2\", \"Topic2\", \"Topic2\", \"Topic2\", \"Topic3\", \"Topic3\", \"Topic3\", \"Topic3\", \"Topic3\", \"Topic3\", \"Topic3\", \"Topic3\", \"Topic3\", \"Topic3\", \"Topic3\", \"Topic3\", \"Topic3\", \"Topic3\", \"Topic3\", \"Topic3\", \"Topic3\", \"Topic3\", \"Topic3\", \"Topic3\", \"Topic3\", \"Topic3\", \"Topic3\", \"Topic3\", \"Topic3\", \"Topic3\", \"Topic3\", \"Topic3\", \"Topic3\", \"Topic3\", \"Topic3\", \"Topic3\", \"Topic3\", \"Topic3\", \"Topic3\", \"Topic3\", \"Topic3\", \"Topic3\", \"Topic3\", \"Topic3\", \"Topic3\", \"Topic3\", \"Topic3\", \"Topic3\", \"Topic4\", \"Topic4\", \"Topic4\", \"Topic4\", \"Topic4\", \"Topic4\", \"Topic4\", \"Topic4\", \"Topic4\", \"Topic4\", \"Topic4\", \"Topic4\", \"Topic4\", \"Topic4\", \"Topic4\", \"Topic4\", \"Topic4\", \"Topic4\", \"Topic4\", \"Topic4\", \"Topic4\", \"Topic4\", \"Topic4\", \"Topic4\", \"Topic4\", \"Topic4\", \"Topic4\", \"Topic4\", \"Topic4\", \"Topic4\", \"Topic4\", \"Topic4\", \"Topic4\", \"Topic4\", \"Topic4\", \"Topic4\", \"Topic4\", \"Topic4\", \"Topic5\", \"Topic5\", \"Topic5\", \"Topic5\", \"Topic5\", \"Topic5\", \"Topic5\", \"Topic5\", \"Topic5\", \"Topic5\", \"Topic5\", \"Topic5\", \"Topic5\", \"Topic5\", \"Topic5\", \"Topic5\", \"Topic5\", \"Topic5\", \"Topic5\", \"Topic5\", \"Topic5\", \"Topic5\", \"Topic5\", \"Topic5\", \"Topic5\", \"Topic5\", \"Topic5\", \"Topic5\", \"Topic5\", \"Topic5\", \"Topic5\", \"Topic5\", \"Topic5\", \"Topic5\", \"Topic5\", \"Topic5\", \"Topic5\", \"Topic5\", \"Topic5\", \"Topic5\", \"Topic5\", \"Topic5\", \"Topic5\", \"Topic5\", \"Topic5\", \"Topic5\", \"Topic5\", \"Topic5\"], \"logprob\": [30.0, 29.0, 28.0, 27.0, 26.0, 25.0, 24.0, 23.0, 22.0, 21.0, 20.0, 19.0, 18.0, 17.0, 16.0, 15.0, 14.0, 13.0, 12.0, 11.0, 10.0, 9.0, 8.0, 7.0, 6.0, 5.0, 4.0, 3.0, 2.0, 1.0, -5.0584, -5.1253, -5.1299, -5.1616, -4.3553, -5.1893, -5.1935, -5.1981, -5.1997, -5.1997, -5.1997, -5.1997, -5.4474, -5.4721, -5.4849, -5.5154, -5.5298, -5.5298, -5.5658, -5.6068, -5.6241, -5.6418, -5.6909, -5.71, -5.7222, -5.7536, -5.7545, -5.7752, -5.7875, -5.8302, -4.8623, -4.8227, -5.2975, -4.9254, -4.5558, -4.5704, -4.7056, -5.4515, -5.0634, -4.7641, -5.3024, -4.2134, -4.2677, -4.8042, -5.1322, -5.3337, -5.3715, -3.6304, -3.6889, -3.975, -3.9853, -3.9877, -3.9877, -3.9938, -3.9972, -3.9985, -3.9985, -3.9985, -4.932, -5.0221, -5.0645, -5.2399, -5.2916, -5.3578, -5.3714, -5.4076, -5.4461, -5.4563, -5.4563, -5.4563, -5.4563, -5.4563, -5.4563, -5.4563, -5.4563, -5.4563, -5.4563, -4.0406, -4.0257, -4.5195, -4.0807, -5.1825, -4.8899, -3.7628, -3.7953, -5.059, -5.3213, -5.2533, -5.3127, -5.3162, -3.5612, -3.5662, -3.5662, -4.8423, -4.903, -4.913, -4.9635, -4.9904, -5.0192, -5.047, -5.0634, -5.0767, -5.09, -5.0931, -5.0931, -5.0931, -5.0931, -5.0931, -5.0931, -5.0931, -5.0931, -5.0931, -5.0931, -5.0931, -5.1075, -5.1126, -5.1645, -5.1682, -5.1682, -5.1682, -5.1682, -4.7587, -3.699, -4.8507, -4.2803, -4.9125, -4.7567, -4.0319, -5.0515, -4.1614, -4.5976, -5.0265, -5.0523, -5.0558, -3.9239, -3.9442, -3.9604, -3.9757, -3.9832, -3.9839, -3.9859, -3.9876, -3.9876, -3.9876, -3.9886, -4.8014, -4.8015, -5.129, -5.1505, -5.3235, -5.3397, -5.3579, -5.411, -5.4745, -5.5147, -5.5147, -5.5147, -5.5214, -5.5351, -5.5438, -5.5564, -5.5672, -5.5796, -5.5827, -5.5827, -4.0284, -3.4818, -3.4948, -3.5251, -5.2501, -5.3873, -5.464, -4.3131, -4.5151, -4.7058, -4.7944, -4.8049, -4.8122, -4.8344, -4.8341, -4.841, -4.8477, -4.8564, -4.8622, -4.8673, -4.8673, -4.8673, -4.8772, -4.8772, -4.8791, -4.8883, -4.8883, -4.8883, -4.8883, -4.8883, -4.8883, -4.8883, -4.8883, -4.8883, -4.8883, -4.8883, -4.8883, -4.8883, -4.8883, -4.8883, -4.8883, -4.8883, -4.8883, -4.471, -4.498, -4.7509, -4.7462, -4.7649, -4.7187, -4.7181, -4.865, -4.865, -4.8461, -4.8468, -4.817], \"loglift\": [30.0, 29.0, 28.0, 27.0, 26.0, 25.0, 24.0, 23.0, 22.0, 21.0, 20.0, 19.0, 18.0, 17.0, 16.0, 15.0, 14.0, 13.0, 12.0, 11.0, 10.0, 9.0, 8.0, 7.0, 6.0, 5.0, 4.0, 3.0, 2.0, 1.0, 1.2429, 1.2417, 1.2416, 1.241, 1.2408, 1.2404, 1.2404, 1.2403, 1.2402, 1.2402, 1.2402, 1.2402, 1.2344, 1.2339, 1.2336, 1.2328, 1.2324, 1.2324, 1.2314, 1.2302, 1.2296, 1.2287, 1.2274, 1.2269, 1.2264, 1.2254, 1.2253, 1.2242, 1.2241, 1.2226, 1.2177, 1.2098, 1.1952, 1.1282, 1.0697, 1.0704, 0.948, 1.1491, 0.9049, 0.7361, 0.9755, -0.2016, -0.2299, 0.1332, 0.6271, 0.8186, 0.3214, 1.6438, 1.6435, 1.6413, 1.6413, 1.6412, 1.6412, 1.6412, 1.6412, 1.6411, 1.6411, 1.6411, 1.6277, 1.6256, 1.6244, 1.6198, 1.6182, 1.616, 1.6157, 1.6145, 1.6131, 1.6128, 1.6128, 1.6128, 1.6128, 1.6128, 1.6128, 1.6128, 1.6128, 1.6128, 1.6128, 1.5472, 1.5329, 1.4371, 1.1194, 1.4186, 1.1754, 0.2749, 0.2165, 1.2172, 1.2111, 0.9896, 0.7506, -0.3788, 1.6457, 1.6456, 1.6456, 1.6308, 1.6299, 1.6295, 1.6287, 1.6281, 1.6273, 1.6267, 1.6264, 1.6261, 1.6257, 1.6257, 1.6257, 1.6257, 1.6257, 1.6257, 1.6257, 1.6257, 1.6257, 1.6257, 1.6257, 1.6257, 1.6253, 1.6252, 1.6238, 1.6237, 1.6237, 1.6237, 1.6237, 1.6057, 1.4435, 1.5318, 1.1815, 1.4877, 1.329, -0.0201, 1.5592, -0.1237, 0.3398, 1.2054, 1.2451, 1.0838, 1.7344, 1.7342, 1.7341, 1.7339, 1.7339, 1.7338, 1.7338, 1.7338, 1.7338, 1.7338, 1.7338, 1.722, 1.722, 1.7138, 1.713, 1.7075, 1.7066, 1.7059, 1.7041, 1.7018, 1.7001, 1.7001, 1.7, 1.6998, 1.6993, 1.6989, 1.6984, 1.6979, 1.6973, 1.6972, 1.6972, 1.5746, 1.3616, 0.5429, 0.4867, 0.9512, 0.7182, 0.5043, 1.8329, 1.8299, 1.8261, 1.8245, 1.8242, 1.824, 1.8235, 1.8235, 1.8233, 1.8232, 1.823, 1.8229, 1.8228, 1.8228, 1.8228, 1.8225, 1.8225, 1.8224, 1.8222, 1.8222, 1.8222, 1.8222, 1.8222, 1.8222, 1.8222, 1.8222, 1.8222, 1.8222, 1.8222, 1.8222, 1.8222, 1.8222, 1.8222, 1.8222, 1.8222, 1.8222, 1.6025, 1.3861, 1.6659, 1.5787, 1.5563, 1.3869, 0.482, 1.4982, 1.4982, 1.1769, 1.1244, 0.1204]}, \"token.table\": {\"Topic\": [3, 2, 3, 4, 4, 5, 3, 2, 4, 2, 1, 5, 5, 1, 2, 4, 1, 2, 4, 2, 3, 3, 1, 1, 1, 1, 2, 3, 4, 2, 3, 4, 2, 2, 5, 5, 3, 3, 3, 3, 5, 5, 4, 4, 2, 2, 3, 3, 1, 2, 1, 5, 5, 1, 2, 5, 3, 3, 2, 3, 5, 2, 3, 3, 1, 5, 5, 1, 2, 5, 5, 2, 2, 2, 4, 5, 5, 5, 5, 1, 3, 2, 4, 4, 5, 5, 3, 5, 1, 4, 4, 1, 2, 3, 4, 5, 5, 3, 1, 4, 1, 3, 3, 1, 2, 5, 2, 1, 5, 5, 3, 1, 5, 5, 3, 3, 1, 4, 4, 3, 5, 3, 5, 3, 4, 1, 4, 4, 1, 3, 1, 3, 4, 5, 4, 1, 1, 4, 4, 1, 5, 1, 2, 2, 2, 2, 1, 1, 2, 2, 1, 5, 1, 1, 2, 3, 4, 5, 5, 2, 4, 2, 1, 4, 1, 2, 3, 3, 1, 3, 3, 2, 3, 2, 3, 4, 4, 4, 5, 5, 5, 5, 2, 3, 5, 2, 3, 4, 3, 1, 4, 2, 4, 1, 5, 4, 5, 4, 2, 3, 3, 2, 3, 3, 3, 5, 5, 1, 1, 3, 3, 2, 2, 1, 2, 3, 4, 5, 1, 2, 3, 4, 5, 1, 1, 5, 1, 5, 1, 5, 1, 2, 3, 4, 5, 4, 4, 2, 5, 2, 5, 1, 1, 5, 5, 1, 2, 4, 5, 2, 5, 4, 1, 2, 2, 4, 4, 2, 5, 5, 4, 4, 1, 4, 1, 4, 1, 2, 3, 1, 2, 3, 4, 5, 5, 1, 5, 1, 3, 4, 5, 5, 1, 2, 3, 4, 5, 3, 1, 2, 3, 5, 1, 5, 4, 1, 2, 3, 2], \"Freq\": [0.9945647021753082, 0.9526450256791992, 0.9730516968975712, 0.9919211481896658, 0.9536838486860768, 0.9770554225046805, 0.9606394044301501, 0.9904731122416197, 0.9862232490781829, 0.9964097595965328, 0.9896047604380929, 0.991194220896291, 0.9633997689833931, 0.29947834229245673, 0.23958267383396542, 0.4592001248484337, 0.12504619281174592, 0.8128002532763484, 0.06252309640587296, 0.9510091287645535, 0.9900431678828187, 0.9730516968975712, 0.9784677260312405, 0.9884750652075353, 0.9782340375788984, 0.39624865214516375, 0.21613562844281659, 0.28818083792375543, 0.10806781422140829, 0.0711395591753095, 0.7291804815469224, 0.19563378773210113, 0.9888748482491266, 0.9904731122416197, 0.9764112542277017, 0.9764112542277017, 0.9829319607721653, 0.9714027422517618, 0.9970755816910769, 0.9945647021753082, 0.9661508421825972, 0.9859026560329656, 0.9678003515713527, 0.9365834678728117, 0.9714092552028851, 0.9510091287645535, 0.9851353443441039, 0.9730516968975712, 0.9756235487394547, 0.9858721403126436, 0.9560309253205843, 0.9633997689833931, 0.9633997689833931, 0.9869014054840405, 0.21084408402852547, 0.7906653151069706, 0.9660347465473268, 0.9714027422517618, 0.06925332515801155, 0.8102639043487352, 0.11773065276861965, 0.023502441417342545, 0.9636000981110443, 0.9714027422517618, 0.9823734486761817, 0.9715698170209696, 0.9633997689833931, 0.15405323408169305, 0.5868694631683545, 0.2567553901361551, 0.9834101161020177, 0.9898984566831299, 0.9892559846100899, 0.9904731122416197, 0.9732988326994924, 0.9633997689833931, 0.9633997689833931, 0.9799013537492206, 0.9633997689833931, 0.9567242626140077, 0.9738982986728455, 0.9510091287645535, 0.9941771888887246, 0.9890433839387783, 0.9877646610679812, 0.9633997689833931, 0.6381315034559778, 0.34994308254037493, 0.9581655986160683, 0.9760618865630493, 0.9393742163852142, 0.32153708276360177, 0.1297430333958393, 0.27076806969566464, 0.09589702468388123, 0.18051204646377642, 0.9633997689833931, 0.9761663165039027, 0.9427564926033561, 0.9918505842061369, 0.412973732115839, 0.5631459983397805, 0.9730516968975712, 0.2608925367956416, 0.4000352230866505, 0.33046387994114607, 0.9416899676099717, 0.9711300375309146, 0.9859026560329656, 0.9633997689833931, 0.969406040332662, 0.9583949454818809, 0.9725592885341179, 0.9633997689833931, 0.9684315396480353, 0.9714027422517618, 0.9802347276989387, 0.9963915053827072, 0.9884510593298509, 0.28166915264029063, 0.7041728816007266, 0.28166915264029063, 0.7041728816007266, 0.9714027422517618, 0.9859864891227446, 0.9351567741378439, 0.053437529950733934, 0.9411860280206518, 0.9810376515529385, 0.010900418350588206, 0.9884750652075353, 0.13170067885837383, 0.8450793560078986, 0.021950113143062302, 0.9884510593298509, 0.9814799597410906, 0.9694824964231696, 0.9351138832297593, 0.9833494903839869, 0.8783747042566908, 0.12056123391758501, 0.9884750652075353, 0.9753829527598347, 0.9671451963572346, 0.9641968529522192, 0.9509952477412075, 0.9659073089532652, 0.9796254266525769, 0.9636987561824518, 0.9510091287645535, 0.7544232660234058, 0.23710445503592753, 0.9590950915858633, 0.033408542699686634, 0.2004512561981198, 0.2004512561981198, 0.05011281404952995, 0.5178324118451428, 0.9633997689833931, 0.8039996043701516, 0.17866657874892258, 0.9510091287645535, 0.9549957937511845, 0.035370214583377205, 0.3076963539502339, 0.021978310996445278, 0.6593493298933584, 0.9714027422517618, 0.1461504737706227, 0.8525444303286324, 0.9714027422517618, 0.6394225953877163, 0.3336117888979389, 0.5203103160770326, 0.4370606655047074, 0.04162482528616261, 0.9527643069402756, 0.9459639895930162, 0.9898948763394103, 0.9633997689833931, 0.9823148106537964, 0.9633997689833931, 0.6455462607370174, 0.3012549216772748, 0.04303641738246783, 0.9732167237778455, 0.9019284046615051, 0.06012856031076701, 0.9714027422517618, 0.9684050452416402, 0.9351101155133312, 0.9510091287645535, 0.9858505522281062, 0.24758909199235876, 0.7427672759770764, 0.3628409215964532, 0.6349716127937931, 0.9459508691784756, 0.09572064947368125, 0.8854160076315516, 0.9714027422517618, 0.9510091287645535, 0.9696172362434583, 0.9714027422517618, 0.9714027422517618, 0.9633997689833931, 0.9633997689833931, 0.9766982306515175, 0.9824748675746678, 0.9735108578941214, 0.9889520249119026, 0.9911967826038685, 0.9911967826038685, 0.23249491534790434, 0.23920149944447852, 0.1877843547040766, 0.2839120600883063, 0.058123728836976085, 0.22483415853745686, 0.2523648718277577, 0.1697727319568552, 0.30054362008578417, 0.050472974365551544, 0.9796254266525769, 0.7273599115386339, 0.2655440946887076, 0.8307167291079711, 0.16838852617053468, 0.8320674670242174, 0.170972767196757, 0.1232382768640109, 0.015404784608001362, 0.09756363585067529, 0.682945450954727, 0.08729377944534106, 0.9894135800050506, 0.9848068721478274, 0.8924035264293411, 0.10498865016815777, 0.8971976169998345, 0.08647687874697199, 0.9928884942511742, 0.9703996785567299, 0.9870100588198644, 0.9764112542277017, 0.5942021855333602, 0.10893706734778272, 0.08913032783000403, 0.2079707649366761, 0.1485963019304245, 0.8420457109390722, 0.9393742163852142, 0.9746673770884274, 0.9510091287645535, 0.9510091287645535, 0.9867416762513782, 0.9884510593298509, 0.9954123758403133, 0.9768290490371718, 0.9633997689833931, 0.9611942963141689, 0.9351101155133312, 0.8929003633581049, 0.08929003633581048, 0.6958871946200913, 0.2846811250718555, 0.6463386899725763, 0.09504980734890828, 0.2471294991071615, 0.047580682962418554, 0.20618295950381374, 0.19032273184967421, 0.06344091061655807, 0.49166705727832505, 0.969935847508856, 0.944420626438125, 0.033729308087075895, 0.9884750652075353, 0.26167103631906774, 0.10176095856852634, 0.6251030312066618, 0.9633997689833931, 0.18108266684444627, 0.019061333352046975, 0.6290240006175501, 0.14296000014035232, 0.028592000028070462, 0.9694876551068825, 0.5261312288651674, 0.038497406990134195, 0.20531950394738238, 0.21815197294409377, 0.2259111812017602, 0.7680980160859847, 0.9615854313082938, 0.2962455000513373, 0.6273434118734202, 0.06970482354149113, 0.9510091287645535], \"Term\": [\"abrams carrying\", \"abrams cheated\", \"abrams consequential\", \"abrams goddess\", \"abrams pull\", \"abrams raphael\", \"abrams spent\", \"abrams spun\", \"abrams state\", \"abrams tweet\", \"abrams way\", \"absolutely\", \"absolutely quite\", \"america\", \"america\", \"america\", \"american\", \"american\", \"american\", \"american royalty\", \"argument\", \"argument stacey\", \"asking\", \"asking talk\", \"believe\", \"black\", \"black\", \"black\", \"black\", \"black woman\", \"black woman\", \"black woman\", \"block\", \"block em\", \"boiled\", \"boiled egg\", \"building\", \"building democratic\", \"carrying\", \"carrying democracy\", \"cat\", \"cat happiness\", \"charge\", \"charge vaccine\", \"cheated\", \"cheated governor\", \"consequential\", \"consequential woman\", \"country\", \"crazy\", \"credit\", \"cup\", \"cup tea\", \"dad\", \"day\", \"day\", \"decade\", \"decade building\", \"democracy\", \"democracy\", \"democracy\", \"democratic\", \"democratic\", \"democratic infrastructure\", \"dnc\", \"egg\", \"egg cup\", \"election\", \"election\", \"election\", \"election georgia\", \"election stacey\", \"em\", \"em crazy\", \"ending\", \"englishman\", \"englishman uk\", \"far\", \"far important\", \"fight\", \"flip\", \"flipped motherfucking\", \"follow\", \"follow lead\", \"frankly\", \"frankly soft\", \"fucking\", \"fucking\", \"ga\", \"game\", \"game throne\", \"georgia\", \"georgia\", \"georgia\", \"georgia\", \"georgia\", \"georgia absolutely\", \"georgia senate\", \"god\", \"goddess\", \"good\", \"good\", \"good argument\", \"governor\", \"governor\", \"governor\", \"governor year\", \"happen\", \"happiness\", \"happiness far\", \"history\", \"human\", \"important\", \"important stacey\", \"infrastructure\", \"infrastructure georgia\", \"instead\", \"invest\", \"invest follow\", \"jon\", \"jon\", \"jon ossoff\", \"jon ossoff\", \"landscape\", \"lead\", \"leader\", \"leader\", \"league\", \"like\", \"like\", \"like dad\", \"listen\", \"listen\", \"listen\", \"listen trust\", \"lot\", \"love\", \"major\", \"major league\", \"make\", \"make\", \"make sound\", \"mcconnell\", \"mitch\", \"mitch mcconnell\", \"morning\", \"mother\", \"mother abrams\", \"motherfucking\", \"motherfucking senate\", \"need\", \"need\", \"new\", \"ossoff\", \"ossoff\", \"ossoff\", \"ossoff\", \"ossoff\", \"ossoff really\", \"party\", \"party\", \"party flipped\", \"people\", \"people\", \"person\", \"person\", \"person\", \"person responsible\", \"political\", \"political\", \"political landscape\", \"power\", \"power\", \"president\", \"president\", \"president\", \"pull\", \"queen\", \"quite\", \"quite frankly\", \"really\", \"really day\", \"republican\", \"republican\", \"republican\", \"republican party\", \"responsible\", \"responsible\", \"responsible shifting\", \"right\", \"rollout\", \"royalty\", \"running\", \"said\", \"said\", \"saved\", \"saved\", \"saved america\", \"seat\", \"seat\", \"seat person\", \"senate american\", \"senate seat\", \"shifting\", \"shifting political\", \"soft\", \"soft boiled\", \"sound\", \"sound like\", \"spent\", \"spent decade\", \"spun\", \"spun block\", \"stacey\", \"stacey\", \"stacey\", \"stacey\", \"stacey\", \"stacey abrams\", \"stacey abrams\", \"stacey abrams\", \"stacey abrams\", \"stacey abrams\", \"stacey mother\", \"staceyabrams\", \"staceyabrams\", \"stacy\", \"stacy\", \"stacy abrams\", \"stacy abrams\", \"state\", \"state\", \"state\", \"state\", \"state\", \"state listen\", \"state stacey\", \"stole\", \"stole\", \"stole election\", \"stole election\", \"talk\", \"talk stacey\", \"tea\", \"tea cat\", \"thank\", \"thank\", \"thank\", \"thank\", \"thing\", \"thing\", \"throne\", \"today\", \"torched\", \"torched republican\", \"trust\", \"trust invest\", \"tweet\", \"uk\", \"uk election\", \"vaccine\", \"vaccine rollout\", \"vote\", \"vote\", \"voter\", \"voter\", \"want\", \"want\", \"want\", \"warnock\", \"warnock\", \"warnock\", \"warnock\", \"warnock\", \"warnock jon\", \"way\", \"way\", \"way make\", \"white\", \"white\", \"white\", \"white englishman\", \"woman\", \"woman\", \"woman\", \"woman\", \"woman\", \"woman history\", \"work\", \"work\", \"work\", \"work\", \"world\", \"world\", \"writing\", \"year\", \"year\", \"year\", \"year torched\"]}, \"R\": 30, \"lambda.step\": 0.01, \"plot.opts\": {\"xlab\": \"PC1\", \"ylab\": \"PC2\"}, \"topic.order\": [1, 5, 3, 2, 4]};\n",
       "\n",
       "function LDAvis_load_lib(url, callback){\n",
       "  var s = document.createElement('script');\n",
       "  s.src = url;\n",
       "  s.async = true;\n",
       "  s.onreadystatechange = s.onload = callback;\n",
       "  s.onerror = function(){console.warn(\"failed to load library \" + url);};\n",
       "  document.getElementsByTagName(\"head\")[0].appendChild(s);\n",
       "}\n",
       "\n",
       "if(typeof(LDAvis) !== \"undefined\"){\n",
       "   // already loaded: just create the visualization\n",
       "   !function(LDAvis){\n",
       "       new LDAvis(\"#\" + \"ldavis_el10281405365836794401943035567\", ldavis_el10281405365836794401943035567_data);\n",
       "   }(LDAvis);\n",
       "}else if(typeof define === \"function\" && define.amd){\n",
       "   // require.js is available: use it to load d3/LDAvis\n",
       "   require.config({paths: {d3: \"https://cdnjs.cloudflare.com/ajax/libs/d3/3.5.5/d3.min\"}});\n",
       "   require([\"d3\"], function(d3){\n",
       "      window.d3 = d3;\n",
       "      LDAvis_load_lib(\"https://cdn.rawgit.com/bmabey/pyLDAvis/files/ldavis.v1.0.0.js\", function(){\n",
       "        new LDAvis(\"#\" + \"ldavis_el10281405365836794401943035567\", ldavis_el10281405365836794401943035567_data);\n",
       "      });\n",
       "    });\n",
       "}else{\n",
       "    // require.js not available: dynamically load d3 & LDAvis\n",
       "    LDAvis_load_lib(\"https://cdnjs.cloudflare.com/ajax/libs/d3/3.5.5/d3.min.js\", function(){\n",
       "         LDAvis_load_lib(\"https://cdn.rawgit.com/bmabey/pyLDAvis/files/ldavis.v1.0.0.js\", function(){\n",
       "                 new LDAvis(\"#\" + \"ldavis_el10281405365836794401943035567\", ldavis_el10281405365836794401943035567_data);\n",
       "            })\n",
       "         });\n",
       "}\n",
       "</script>"
      ],
      "text/plain": [
       "PreparedData(topic_coordinates=                x           y  topics  cluster       Freq\n",
       "topic                                                    \n",
       "0      150.222153 -72.269554   1       1        28.352970\n",
       "4      51.163364  -159.968018  2       1        19.206740\n",
       "2     -73.144554   21.523815   3       1        19.181228\n",
       "1     -66.410133  -110.606438  4       1        17.493290\n",
       "3      54.417324   12.443444   5       1        15.765773, topic_info=                    Term        Freq       Total Category  logprob  loglift\n",
       "307   carrying            135.000000  135.000000  Default  30.0000  30.0000\n",
       "308   carrying democracy  134.000000  134.000000  Default  29.0000  29.0000\n",
       "13    abrams carrying     134.000000  134.000000  Default  28.0000  28.0000\n",
       "1803  tweet               126.000000  126.000000  Default  27.0000  27.0000\n",
       "87    abrams tweet        119.000000  119.000000  Default  26.0000  26.0000\n",
       "...            ...               ...         ...      ...      ...      ...\n",
       "908   jon ossoff          30.047787   42.603174   Topic5  -4.8650   1.4982 \n",
       "907   jon                 30.047787   42.603174   Topic5  -4.8650   1.4982 \n",
       "1233  ossoff              30.620050   59.864928   Topic5  -4.8461   1.1769 \n",
       "1891  warnock             30.599398   63.050797   Topic5  -4.8468   1.1244 \n",
       "690   georgia             31.525426   177.273487  Topic5  -4.8170   0.1204 \n",
       "\n",
       "[250 rows x 6 columns], token_table=      Topic      Freq                  Term\n",
       "term                                       \n",
       "13    3      0.994565  abrams carrying     \n",
       "15    2      0.952645  abrams cheated      \n",
       "17    3      0.973052  abrams consequential\n",
       "33    4      0.991921  abrams goddess      \n",
       "59    4      0.953684  abrams pull         \n",
       "...  ..           ...             ...      \n",
       "1977  4      0.961585  writing             \n",
       "1986  1      0.296246  year                \n",
       "1986  2      0.627343  year                \n",
       "1986  3      0.069705  year                \n",
       "1991  2      0.951009  year torched        \n",
       "\n",
       "[299 rows x 3 columns], R=30, lambda_step=0.01, plot_opts={'xlab': 'PC1', 'ylab': 'PC2'}, topic_order=[1, 5, 3, 2, 4])"
      ]
     },
     "execution_count": 50,
     "metadata": {},
     "output_type": "execute_result"
    }
   ],
   "source": [
    "# 2nd LDA model: running new \"best model\" parameters\n",
    "\n",
    "lda_model_2 = LatentDirichletAllocation(n_components = 5, max_iter=10, learning_method='online', learning_decay=0.5)\n",
    "lda_Z_2 = lda_model_2.fit_transform(doc_term_matrix_1)\n",
    "\n",
    "\n",
    "pyLDAvis.enable_notebook()\n",
    "panel = pyLDAvis.sklearn.prepare(lda_model_2, doc_term_matrix_1, tfidfconverter, mds='tsne')\n",
    "panel\n",
    "\n",
    "pyLDAvis.enable_notebook()\n",
    "panel = pyLDAvis.sklearn.prepare(lda_model_2, doc_term_matrix_1, tfidfconverter, mds='tsne')\n",
    "panel"
   ]
  },
  {
   "cell_type": "code",
   "execution_count": null,
   "metadata": {},
   "outputs": [],
   "source": []
  }
 ],
 "metadata": {
  "kernelspec": {
   "display_name": "Python 3",
   "language": "python",
   "name": "python3"
  },
  "language_info": {
   "codemirror_mode": {
    "name": "ipython",
    "version": 3
   },
   "file_extension": ".py",
   "mimetype": "text/x-python",
   "name": "python",
   "nbconvert_exporter": "python",
   "pygments_lexer": "ipython3",
   "version": "3.7.7"
  }
 },
 "nbformat": 4,
 "nbformat_minor": 4
}
