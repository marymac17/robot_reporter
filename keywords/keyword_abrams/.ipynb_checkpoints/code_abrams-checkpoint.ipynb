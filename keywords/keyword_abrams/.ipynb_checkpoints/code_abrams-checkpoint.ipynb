{
 "cells": [
  {
   "cell_type": "markdown",
   "metadata": {},
   "source": [
    "# Part 1: Data cleaning \n"
   ]
  },
  {
   "cell_type": "code",
   "execution_count": 1,
   "metadata": {},
   "outputs": [],
   "source": [
    "#import initial libraries\n",
    "\n",
    "import pandas as pd\n",
    "import numpy as np\n"
   ]
  },
  {
   "cell_type": "code",
   "execution_count": 2,
   "metadata": {},
   "outputs": [],
   "source": [
    "#import data \n",
    "\n",
    "df = pd.read_csv('data/abrams.csv')"
   ]
  },
  {
   "cell_type": "code",
   "execution_count": 3,
   "metadata": {},
   "outputs": [
    {
     "name": "stdout",
     "output_type": "stream",
     "text": [
      "<class 'pandas.core.frame.DataFrame'>\n",
      "RangeIndex: 6824 entries, 0 to 6823\n",
      "Data columns (total 37 columns):\n",
      " #   Column                        Non-Null Count  Dtype  \n",
      "---  ------                        --------------  -----  \n",
      " 0   id                            6824 non-null   int64  \n",
      " 1   tweet_url                     6824 non-null   object \n",
      " 2   created_at                    6824 non-null   object \n",
      " 3   parsed_created_at             6824 non-null   object \n",
      " 4   user_screen_name              6824 non-null   object \n",
      " 5   text                          6824 non-null   object \n",
      " 6   tweet_type                    6824 non-null   object \n",
      " 7   coordinates                   1 non-null      object \n",
      " 8   hashtags                      261 non-null    object \n",
      " 9   media                         570 non-null    object \n",
      " 10  urls                          626 non-null    object \n",
      " 11  favorite_count                6824 non-null   int64  \n",
      " 12  in_reply_to_screen_name       470 non-null    object \n",
      " 13  in_reply_to_status_id         444 non-null    float64\n",
      " 14  in_reply_to_user_id           470 non-null    float64\n",
      " 15  lang                          6824 non-null   object \n",
      " 16  place                         43 non-null     object \n",
      " 17  possibly_sensitive            837 non-null    object \n",
      " 18  retweet_count                 6824 non-null   int64  \n",
      " 19  retweet_or_quote_id           5996 non-null   float64\n",
      " 20  retweet_or_quote_screen_name  5996 non-null   object \n",
      " 21  retweet_or_quote_user_id      5996 non-null   float64\n",
      " 22  source                        6822 non-null   object \n",
      " 23  user_id                       6824 non-null   int64  \n",
      " 24  user_created_at               6824 non-null   object \n",
      " 25  user_default_profile_image    6824 non-null   bool   \n",
      " 26  user_description              5795 non-null   object \n",
      " 27  user_favourites_count         6824 non-null   int64  \n",
      " 28  user_followers_count          6824 non-null   int64  \n",
      " 29  user_friends_count            6824 non-null   int64  \n",
      " 30  user_listed_count             6824 non-null   int64  \n",
      " 31  user_location                 4662 non-null   object \n",
      " 32  user_name                     6824 non-null   object \n",
      " 33  user_statuses_count           6824 non-null   int64  \n",
      " 34  user_time_zone                0 non-null      float64\n",
      " 35  user_urls                     0 non-null      float64\n",
      " 36  user_verified                 6824 non-null   bool   \n",
      "dtypes: bool(2), float64(6), int64(9), object(20)\n",
      "memory usage: 1.8+ MB\n"
     ]
    }
   ],
   "source": [
    "# look at basic info about data\n",
    "\n",
    "df.info()\n",
    "# this data set consists of 6824 Tweets"
   ]
  },
  {
   "cell_type": "code",
   "execution_count": 4,
   "metadata": {},
   "outputs": [
    {
     "name": "stdout",
     "output_type": "stream",
     "text": [
      "23 ['en' 'und' 'es' 'fr' 'pt' 'ca' 'sv' 'ro' 'cy' 'de' 'zh' 'no' 'in' 'tl'\n",
      " 'iw' 'ht' 'da' 'cs' 'ar' 'fi' 'tr' 'pl' 'it']\n"
     ]
    }
   ],
   "source": [
    "# count number of languages in data set\n",
    "\n",
    "count_lang = df['lang'].unique()\n",
    "print(len(count_lang), count_lang)"
   ]
  },
  {
   "cell_type": "code",
   "execution_count": 5,
   "metadata": {},
   "outputs": [
    {
     "data": {
      "text/plain": [
       "(6659, 37)"
      ]
     },
     "execution_count": 5,
     "metadata": {},
     "output_type": "execute_result"
    }
   ],
   "source": [
    "# tweets are in 23 different languages\n",
    "\n",
    "# I'll be working only with tweets in English\n",
    "# drop tweets in all other languages\n",
    "# now working with 6659 Tweets \n",
    "\n",
    "df = df[df.lang == 'en']\n",
    "df.shape"
   ]
  },
  {
   "cell_type": "code",
   "execution_count": 6,
   "metadata": {},
   "outputs": [],
   "source": [
    "# drop unnecessary columns \n",
    "df = df.drop(['tweet_url', 'created_at', 'media', 'urls','in_reply_to_screen_name',\n",
    "       'in_reply_to_status_id', 'in_reply_to_user_id', 'retweet_or_quote_id',\n",
    "       'retweet_or_quote_screen_name', 'retweet_or_quote_user_id', 'source',\n",
    "       'user_created_at', 'user_name', 'user_verified', 'user_friends_count', 'user_listed_count',\n",
    "       'user_statuses_count', 'user_default_profile_image', 'user_description',\n",
    "       'user_favourites_count', 'user_followers_count', 'coordinates', 'lang', 'user_location', 'user_time_zone', 'user_urls', 'place'], axis=1)"
   ]
  },
  {
   "cell_type": "code",
   "execution_count": 7,
   "metadata": {},
   "outputs": [
    {
     "data": {
      "text/plain": [
       "id                                                  1346889904639381509\n",
       "parsed_created_at                             2021-01-06 18:42:31+00:00\n",
       "user_screen_name                                            dragonwick2\n",
       "text                  Stacey Abrams brags about allowing fake voters...\n",
       "tweet_type                                                      retweet\n",
       "hashtags                                                            NaN\n",
       "favorite_count                                                     3071\n",
       "possibly_sensitive                                                False\n",
       "retweet_count                                                         0\n",
       "user_id                                                       828492452\n",
       "Name: 0, dtype: object"
      ]
     },
     "execution_count": 7,
     "metadata": {},
     "output_type": "execute_result"
    }
   ],
   "source": [
    "# check start time & date of data\n",
    "\n",
    "df.iloc[0]\n",
    "\n",
    "# first Tweet downloaded Jan 6, 2021 at 18:42:31"
   ]
  },
  {
   "cell_type": "code",
   "execution_count": 8,
   "metadata": {},
   "outputs": [
    {
     "data": {
      "text/plain": [
       "id                                                  1346894809219420160\n",
       "parsed_created_at                             2021-01-06 19:02:01+00:00\n",
       "user_screen_name                                           schultziepie\n",
       "text                  Stacy Abrams is a QUEEN!! We all owe her for s...\n",
       "tweet_type                                                     original\n",
       "hashtags                          StacyAbramsSavedAmerica thankyouqueen\n",
       "favorite_count                                                        0\n",
       "possibly_sensitive                                                False\n",
       "retweet_count                                                         0\n",
       "user_id                                                        17032152\n",
       "Name: 6823, dtype: object"
      ]
     },
     "execution_count": 8,
     "metadata": {},
     "output_type": "execute_result"
    }
   ],
   "source": [
    "# check end time & date of data \n",
    "\n",
    "df.iloc[-1]\n",
    "\n",
    "# last Tweet on Jan 6, 2021 at 19:02:01"
   ]
  },
  {
   "cell_type": "markdown",
   "metadata": {},
   "source": [
    "# Part 2: Text processing for NLP "
   ]
  },
  {
   "cell_type": "code",
   "execution_count": 9,
   "metadata": {},
   "outputs": [],
   "source": [
    "# create variable for \"text\" column \n",
    "text = df['text'] "
   ]
  },
  {
   "cell_type": "code",
   "execution_count": 10,
   "metadata": {},
   "outputs": [],
   "source": [
    "# tokenize, remove stopwords, remove urls, lowercase, remove punctuation, remove numbers\n",
    "# import necessary libraries: ntlk etc.\n",
    "\n",
    "import string\n",
    "import re\n",
    "import nltk\n",
    "from nltk.corpus import stopwords\n",
    "from nltk.tokenize import TweetTokenizer\n",
    "from nltk import pos_tag\n",
    "from nltk.stem import WordNetLemmatizer \n",
    "\n",
    "stop = stopwords.words('english')\n",
    "\n",
    "punc = list(set(string.punctuation))\n",
    "\n",
    "def tokenizer(text):\n",
    "    tokenizer = TweetTokenizer()\n",
    "    tokens = tokenizer.tokenize(text)\n",
    "    return tokens\n",
    "\n",
    "def remove_url(text):\n",
    "    url = re.compile(r\"https?://\\S+|www\\.\\S+\")\n",
    "    return url.sub(r'', text)\n",
    "\n",
    "def process_text(text):\n",
    "    text = remove_url(text)\n",
    "    text = tokenizer(text)\n",
    "    text = [word.lower() for word in text]\n",
    "    text = [re.sub('[0-9]+', '', word) for word in text]\n",
    "    text = [word for word in text if word not in punc]\n",
    "    text = [word for word in text if word not in stop]\n",
    "    text = [each for each in text if len(each) > 1]\n",
    "    text = [word for word in text if ' ' not in word]\n",
    "     \n",
    "    return text"
   ]
  },
  {
   "cell_type": "code",
   "execution_count": 11,
   "metadata": {},
   "outputs": [],
   "source": [
    "# apply text processing functions to text\n",
    "df['processed_text'] = df['text'].apply(process_text)"
   ]
  },
  {
   "cell_type": "code",
   "execution_count": 12,
   "metadata": {},
   "outputs": [
    {
     "name": "stderr",
     "output_type": "stream",
     "text": [
      "/opt/anaconda3/lib/python3.7/site-packages/ipykernel_launcher.py:2: FutureWarning: Passing a negative integer is deprecated in version 1.0 and will not be supported in future version. Instead, use None to not limit the column width.\n",
      "  \n"
     ]
    },
    {
     "data": {
      "text/plain": [
       "0     [stacey, abrams, brags, allowing, fake, voters, signature, verification]                                                                                                                                                   \n",
       "1     [stacey, abrams, damn, thing]                                                                                                                                                                                              \n",
       "2     [house, cards, shit, republicans, stole, election, abrams, abrams, plotted, took, washington]                                                                                                                              \n",
       "3     [actually, happens, actually, win, discussion, stacey, abrams, saved, america]                                                                                                                                             \n",
       "4     [chuck, schumer, stacey, abrams, years, team, many, women's, groups, black, women's, groups, worked, worked, worked, change, georgia, stacey, would, first, tell, alone, huge, thank, many, organizations]                 \n",
       "5     [stacey, abrams, spent, decade, building, democratic, infrastructure, georgia, jon, ossoff, rev, raphael, warnock, look, flip, georgia, two, senate, seats, many, see, person, responsible, shifting, political, landscape]\n",
       "6     [stacey, abrams, tweet]                                                                                                                                                                                                    \n",
       "7     [@kirkacevedo, passed, ;)]                                                                                                                                                                                                 \n",
       "8     [::, next, time, tempted, think, one, person, can't, make, difference, want, remember, one, name, stacey, abrams]                                                                                                          \n",
       "9     [stacey, abrams, back, carrying, democracy]                                                                                                                                                                                \n",
       "10    [get, power, ask, get, power, take, stacey, abrams, #garunnoff, #democrats, #magaiscancelled]                                                                                                                              \n",
       "11    [amazing, look, back, @staceyabrams, built, african-americans, eligible, vote, georgia, remained, unregistered, stacey, abrams, ran, governor, set, shape, new, electorate, state]                                         \n",
       "12    [stacey, abrams, walking, around, georgia, today]                                                                                                                                                                          \n",
       "13    [good, argument, made, stacey, abrams, one, consequential, women, us, history]                                                                                                                                             \n",
       "14    [thats, play, long, game, stacey, abrams, love, thank, taking, notes]                                                                                                                                                      \n",
       "15    [lesson, stacey, abrams, needs, run, everything, need, actually, find, abrams, every, red, state, give, resources, fucking, listen]                                                                                        \n",
       "16    [let, mince, words, happened, black, women, saved, country, ..., time, right, stacy, abrams, got, dems, georgia, twice, time, right]                                                                                       \n",
       "17    [national, holiday, honor, ms, abrams]                                                                                                                                                                                     \n",
       "18    [give, stacey, abrams, fair, fight, new, georgia, project, every, single, organizer, made, possible, credit, done, georgia, remarkable]                                                                                    \n",
       "19    [stacey, abrams, tweet]                                                                                                                                                                                                    \n",
       "Name: processed_text, dtype: object"
      ]
     },
     "execution_count": 12,
     "metadata": {},
     "output_type": "execute_result"
    }
   ],
   "source": [
    "# look at some of processed text\n",
    "pd.set_option('display.max_colwidth', -1)\n",
    "df['processed_text'][:20]"
   ]
  },
  {
   "cell_type": "code",
   "execution_count": 13,
   "metadata": {},
   "outputs": [],
   "source": [
    "# part-of-speech tagging \n",
    "\n",
    "ready_for_pos = df['processed_text']\n",
    "\n",
    "def pos_tagging(text):\n",
    "    pos_tag = [pos_tag(word) for word in ready_for_pos]\n",
    "\n",
    "df['pos_tagged'] = df.processed_text.apply(lambda x: pos_tag(x))"
   ]
  },
  {
   "cell_type": "code",
   "execution_count": 14,
   "metadata": {},
   "outputs": [],
   "source": [
    "# lemmatizing\n",
    "\n",
    "pos_tagged = df['pos_tagged']\n",
    "\n",
    "wordnet = WordNetLemmatizer() \n",
    "\n",
    "lemmatized = [[wordnet.lemmatize(word[0]) for word in words] for words in pos_tagged]"
   ]
  },
  {
   "cell_type": "code",
   "execution_count": 15,
   "metadata": {},
   "outputs": [
    {
     "data": {
      "text/plain": [
       "[['stacey',\n",
       "  'abrams',\n",
       "  'brag',\n",
       "  'allowing',\n",
       "  'fake',\n",
       "  'voter',\n",
       "  'signature',\n",
       "  'verification'],\n",
       " ['stacey', 'abrams', 'damn', 'thing'],\n",
       " ['house',\n",
       "  'card',\n",
       "  'shit',\n",
       "  'republican',\n",
       "  'stole',\n",
       "  'election',\n",
       "  'abrams',\n",
       "  'abrams',\n",
       "  'plotted',\n",
       "  'took',\n",
       "  'washington'],\n",
       " ['actually',\n",
       "  'happens',\n",
       "  'actually',\n",
       "  'win',\n",
       "  'discussion',\n",
       "  'stacey',\n",
       "  'abrams',\n",
       "  'saved',\n",
       "  'america'],\n",
       " ['chuck',\n",
       "  'schumer',\n",
       "  'stacey',\n",
       "  'abrams',\n",
       "  'year',\n",
       "  'team',\n",
       "  'many',\n",
       "  \"women's\",\n",
       "  'group',\n",
       "  'black',\n",
       "  \"women's\",\n",
       "  'group',\n",
       "  'worked',\n",
       "  'worked',\n",
       "  'worked',\n",
       "  'change',\n",
       "  'georgia',\n",
       "  'stacey',\n",
       "  'would',\n",
       "  'first',\n",
       "  'tell',\n",
       "  'alone',\n",
       "  'huge',\n",
       "  'thank',\n",
       "  'many',\n",
       "  'organization'],\n",
       " ['stacey',\n",
       "  'abrams',\n",
       "  'spent',\n",
       "  'decade',\n",
       "  'building',\n",
       "  'democratic',\n",
       "  'infrastructure',\n",
       "  'georgia',\n",
       "  'jon',\n",
       "  'ossoff',\n",
       "  'rev',\n",
       "  'raphael',\n",
       "  'warnock',\n",
       "  'look',\n",
       "  'flip',\n",
       "  'georgia',\n",
       "  'two',\n",
       "  'senate',\n",
       "  'seat',\n",
       "  'many',\n",
       "  'see',\n",
       "  'person',\n",
       "  'responsible',\n",
       "  'shifting',\n",
       "  'political',\n",
       "  'landscape'],\n",
       " ['stacey', 'abrams', 'tweet'],\n",
       " ['@kirkacevedo', 'passed', ';)'],\n",
       " ['::',\n",
       "  'next',\n",
       "  'time',\n",
       "  'tempted',\n",
       "  'think',\n",
       "  'one',\n",
       "  'person',\n",
       "  \"can't\",\n",
       "  'make',\n",
       "  'difference',\n",
       "  'want',\n",
       "  'remember',\n",
       "  'one',\n",
       "  'name',\n",
       "  'stacey',\n",
       "  'abrams'],\n",
       " ['stacey', 'abrams', 'back', 'carrying', 'democracy'],\n",
       " ['get',\n",
       "  'power',\n",
       "  'ask',\n",
       "  'get',\n",
       "  'power',\n",
       "  'take',\n",
       "  'stacey',\n",
       "  'abrams',\n",
       "  '#garunnoff',\n",
       "  '#democrats',\n",
       "  '#magaiscancelled'],\n",
       " ['amazing',\n",
       "  'look',\n",
       "  'back',\n",
       "  '@staceyabrams',\n",
       "  'built',\n",
       "  'african-american',\n",
       "  'eligible',\n",
       "  'vote',\n",
       "  'georgia',\n",
       "  'remained',\n",
       "  'unregistered',\n",
       "  'stacey',\n",
       "  'abrams',\n",
       "  'ran',\n",
       "  'governor',\n",
       "  'set',\n",
       "  'shape',\n",
       "  'new',\n",
       "  'electorate',\n",
       "  'state'],\n",
       " ['stacey', 'abrams', 'walking', 'around', 'georgia', 'today'],\n",
       " ['good',\n",
       "  'argument',\n",
       "  'made',\n",
       "  'stacey',\n",
       "  'abrams',\n",
       "  'one',\n",
       "  'consequential',\n",
       "  'woman',\n",
       "  'u',\n",
       "  'history'],\n",
       " ['thats',\n",
       "  'play',\n",
       "  'long',\n",
       "  'game',\n",
       "  'stacey',\n",
       "  'abrams',\n",
       "  'love',\n",
       "  'thank',\n",
       "  'taking',\n",
       "  'note'],\n",
       " ['lesson',\n",
       "  'stacey',\n",
       "  'abrams',\n",
       "  'need',\n",
       "  'run',\n",
       "  'everything',\n",
       "  'need',\n",
       "  'actually',\n",
       "  'find',\n",
       "  'abrams',\n",
       "  'every',\n",
       "  'red',\n",
       "  'state',\n",
       "  'give',\n",
       "  'resource',\n",
       "  'fucking',\n",
       "  'listen'],\n",
       " ['let',\n",
       "  'mince',\n",
       "  'word',\n",
       "  'happened',\n",
       "  'black',\n",
       "  'woman',\n",
       "  'saved',\n",
       "  'country',\n",
       "  '...',\n",
       "  'time',\n",
       "  'right',\n",
       "  'stacy',\n",
       "  'abrams',\n",
       "  'got',\n",
       "  'dems',\n",
       "  'georgia',\n",
       "  'twice',\n",
       "  'time',\n",
       "  'right'],\n",
       " ['national', 'holiday', 'honor', 'm', 'abrams'],\n",
       " ['give',\n",
       "  'stacey',\n",
       "  'abrams',\n",
       "  'fair',\n",
       "  'fight',\n",
       "  'new',\n",
       "  'georgia',\n",
       "  'project',\n",
       "  'every',\n",
       "  'single',\n",
       "  'organizer',\n",
       "  'made',\n",
       "  'possible',\n",
       "  'credit',\n",
       "  'done',\n",
       "  'georgia',\n",
       "  'remarkable'],\n",
       " ['stacey', 'abrams', 'tweet']]"
      ]
     },
     "execution_count": 15,
     "metadata": {},
     "output_type": "execute_result"
    }
   ],
   "source": [
    "# look at lemmatized text\n",
    "\n",
    "df['lemmatized'] = lemmatized\n",
    "lemmatized[:20]"
   ]
  },
  {
   "cell_type": "code",
   "execution_count": 16,
   "metadata": {},
   "outputs": [
    {
     "name": "stderr",
     "output_type": "stream",
     "text": [
      "/opt/anaconda3/lib/python3.7/site-packages/ipykernel_launcher.py:4: FutureWarning: Passing a negative integer is deprecated in version 1.0 and will not be supported in future version. Instead, use None to not limit the column width.\n",
      "  after removing the cwd from sys.path.\n"
     ]
    },
    {
     "data": {
      "text/plain": [
       "3083    good morning @staceyabrams stacey abrams                                                                                                                                                               \n",
       "3084    guess good idea stacey abrams run senate instead helped biden two senator win revolutionized organizing put stake gop                                                                                  \n",
       "3085    give stacey abrams fair fight new georgia project every single organizer made possible credit done georgia remarkable                                                                                  \n",
       "3086    stacey abrams spent decade building democratic infrastructure georgia democrat move closer flipping georgia senate seat many see person responsible shifting political landscape                       \n",
       "3087    stacey abrams destroyed election integrity georgia brian kemp sat watched happen georgia blue state stolen state                                                                                       \n",
       "3088                                                                                                                                                                                                           \n",
       "3089    obama signed aca joe biden said big bleep ing deal yesterday's election ga stacey abrams may saved america's future                                                                                    \n",
       "3090    atheist fully onboard prayer                                                                                                                                                                           \n",
       "3091    pretty sure people progressive alberta paying attention stacey abrams spent last decade organizing georgia masterclass community based organizing done sure hell done #ableg                           \n",
       "3093    @jeffinbmore @vanjones abrams insisted race forever                                                                                                                                                    \n",
       "3094    good argument made stacey abrams one consequential woman u history                                                                                                                                     \n",
       "3095    stole election stacey abrams spun block em crazy                                                                                                                                                       \n",
       "3096    stacey abrams brag allowing fake voter signature verification                                                                                                                                          \n",
       "3097    bet day come president joseph biden bestows stacey abrams medal freedom bringing honor back                                                                                                            \n",
       "3098    know hate stacey abrams patron saint candle simultaneously also really want black catholic feel like get pas lol                                                                                       \n",
       "3099    stole election stacey abrams spun block em crazy                                                                                                                                                       \n",
       "3100    wanna take moment thank georgia coming thru america twice historic seeing georgia turn completely blue congrats senator warnock senator ossoff praise queen stacey abrams driving force behind movement\n",
       "3101    celebrate stacey abrams funding empowering grassroots organizer people color every state supporting candidate marginalized community advocating policy disrupt status quo                              \n",
       "3102    @staceyabrams congratulation many many blessing amazing path helped create thank tireless triumphant work m abrams god used lead u victory way go georgia ... y'all made fave color blue               \n",
       "3103    stacey abrams pull biden put charge everything vaccine rollout writing directing alternate game throne ending running major league baseball etc                                                        \n",
       "Name: final_docs, dtype: object"
      ]
     },
     "execution_count": 16,
     "metadata": {},
     "output_type": "execute_result"
    }
   ],
   "source": [
    "# before vectorizing, cast lists of words back into strings\n",
    "\n",
    "df['final_docs'] = df['lemmatized'].apply(lambda x: \" \".join(x))\n",
    "pd.set_option('display.max_colwidth', -1)\n",
    "final_docs = df['final_docs']\n",
    "final_docs[3000:3020]"
   ]
  },
  {
   "cell_type": "code",
   "execution_count": 17,
   "metadata": {},
   "outputs": [],
   "source": [
    "#create document term matrix with TFIDF\n",
    "\n",
    "#import vectorizing tool (usee TFIDF)\n",
    "from sklearn.feature_extraction.text import TfidfVectorizer\n",
    "# set max_features to 2000 (specifies the number of most frequently occurring words for which we want to create feature vectors)\n",
    "# set min_df to 5 (word must occur in at least 5 documents)\n",
    "# set max_df to 0.85 (word must not occur in more than 85 percent of the documents) \n",
    "\n",
    "tfidfconverter = TfidfVectorizer(max_features=2000, min_df=5, max_df=0.85, ngram_range=(1, 2), stop_words='english')  \n",
    "doc_term_matrix_1 = tfidfconverter.fit_transform(df['final_docs'].values.astype('U'))"
   ]
  },
  {
   "cell_type": "markdown",
   "metadata": {},
   "source": [
    "# Part 3: run NMF and LDA models, for topic modeling"
   ]
  },
  {
   "cell_type": "code",
   "execution_count": 18,
   "metadata": {},
   "outputs": [],
   "source": [
    "#run NMF model \n",
    "\n",
    "#import NMF tool \n",
    "from sklearn.decomposition import NMF\n",
    "\n",
    "nmf_model = NMF(n_components=6)\n",
    "nmf_Z = nmf_model.fit_transform(doc_term_matrix_1)\n"
   ]
  },
  {
   "cell_type": "code",
   "execution_count": 19,
   "metadata": {},
   "outputs": [],
   "source": [
    "# run LDA model\n",
    "\n",
    "#import LDA tool \n",
    "from sklearn.decomposition import LatentDirichletAllocation\n",
    "\n",
    "lda_model = LatentDirichletAllocation(n_components = 6, max_iter=10, learning_method='online', learning_decay=.9)\n",
    "lda_Z = lda_model.fit_transform(doc_term_matrix_1)"
   ]
  },
  {
   "cell_type": "code",
   "execution_count": 20,
   "metadata": {},
   "outputs": [
    {
     "name": "stdout",
     "output_type": "stream",
     "text": [
      "LDA Model:\n",
      "Topic 0:\n",
      "[('warnock', 51.087305554155506), ('georgia', 49.31615812431324), ('raphael warnock', 48.96188815239803), ('raphael', 48.961643856104324), ('stacey', 47.34381725930895), ('goddess', 44.87749260452265), ('abrams goddess', 44.43981031139755), ('ossoff', 44.33475644730052), ('fucking', 43.885129461171374), ('stacey abrams', 42.92092915455827)]\n",
      "Topic 1:\n",
      "[('state', 134.21048737564496), ('lead', 91.0051543315015), ('follow', 88.32754492515112), ('abrams state', 87.62138801343116), ('follow lead', 86.24750837088325), ('invest', 86.07149693856188), ('trust', 85.94635602063347), ('state stacey', 85.90964134970554), ('invest follow', 85.7311290070955), ('trust invest', 85.73096996237854)]\n",
      "Topic 2:\n",
      "[('stacey abrams', 153.13208162255603), ('stacey', 148.81733179518542), ('carrying', 119.58444173924158), ('carrying democracy', 118.47411411486952), ('abrams carrying', 118.47376024136989), ('democracy', 106.36655630207743), ('election stacey', 89.98597294449864), ('block', 89.47825766597919), ('spun block', 89.36401229209635), ('spun', 89.36389233477217)]\n",
      "Topic 3:\n",
      "[('stacey', 41.270407785752305), ('biden', 38.35098396936087), ('stacey abrams', 37.40153515446833), ('president', 25.552556961629655), ('running', 23.402886796041898), ('love', 23.093232681803073), ('shit', 22.563124069038867), ('said', 20.92745899841495), ('game', 20.114370799617983), ('charge', 19.874140286364977)]\n",
      "Topic 4:\n",
      "[('like', 82.75827866342588), ('stacey', 76.19317712610626), ('stacey abrams', 73.43395978046874), ('woman', 73.01755787214776), ('black', 63.013359526186846), ('black woman', 54.596009401827125), ('make', 46.973432886684236), ('way', 43.0316814429144), ('stacy', 42.38379739831518), ('stacy abrams', 41.83803291246244)]\n",
      "Topic 5:\n",
      "[('tweet', 131.8539427686523), ('abrams tweet', 122.01120683963394), ('stacey abrams', 90.66112670633866), ('stacey', 87.18836013243303), ('georgia', 74.25312168306212), ('thank', 51.7131121775946), ('state', 46.260824912538084), ('democrat', 37.15152537529813), ('hero', 35.81997558006998), ('leader', 35.186769079092265)]\n",
      "====================\n",
      "NMF Model:\n",
      "Topic 0:\n",
      "[('state', 1.9776047054635313), ('invest', 1.2319871978765933), ('trust invest', 1.231475322105991), ('listen trust', 1.231475322105991), ('invest follow', 1.231475322105991), ('follow lead', 1.2306174647014085), ('trust', 1.2302040819723665), ('state listen', 1.2295050492529012), ('state stacey', 1.2278959699106016), ('abrams state', 1.2272930390243195)]\n",
      "Topic 1:\n",
      "[('spun block', 1.1583641248229586), ('spun', 1.1583641248229586), ('em crazy', 1.1578452699932757), ('abrams spun', 1.1578452699932757), ('em', 1.1578452699932757), ('block em', 1.1578452699932757), ('block', 1.1575899514039703), ('election stacey', 1.1545987065903247), ('crazy', 1.1503860968209214), ('stole election', 1.1121633974272922)]\n",
      "Topic 2:\n",
      "[('carrying', 1.9906401141198111), ('carrying democracy', 1.9864701060238115), ('abrams carrying', 1.9864701060238115), ('democracy', 1.7224806263999477), ('stacey abrams', 0.7620540196422098), ('stacey', 0.7411374998513642), ('american', 0.04729596615512278), ('saved', 0.04612903401132371), ('thank', 0.03764299559726487), ('world', 0.03732526491122434)]\n",
      "Topic 3:\n",
      "[('cat', 0.5646780364706263), ('abrams raphael', 0.5645466325882141), ('boiled egg', 0.5636002834353132), ('tea cat', 0.5636002834353132), ('boiled', 0.5636002834353132), ('cat happiness', 0.5635939565222535), ('happiness', 0.5635939565222535), ('uk', 0.5632889049074199), ('egg', 0.5632335345783968), ('tea', 0.5630861639675653)]\n",
      "Topic 4:\n",
      "[('abrams tweet', 1.982699079125193), ('tweet', 1.9519841961745314), ('stacey abrams', 1.1870125035746426), ('stacey', 1.161934824925595), ('woman', 0.14131784906916486), ('like', 0.12293242307999443), ('goddess', 0.10546201297548795), ('abrams goddess', 0.10519884775211291), ('black', 0.08832219713007676), ('way', 0.08436997361753033)]\n",
      "Topic 5:\n",
      "[('georgia', 0.810699283255892), ('senate seat', 0.5843935792186239), ('georgia senate', 0.581294154485656), ('landscape', 0.579966101164603), ('political landscape', 0.579966101164603), ('infrastructure georgia', 0.579966101164603), ('democratic infrastructure', 0.579966101164603), ('decade building', 0.579966101164603), ('shifting', 0.579966101164603), ('person responsible', 0.579966101164603)]\n",
      "====================\n"
     ]
    }
   ],
   "source": [
    "def print_topics(model, vectorizer, top_n=10):\n",
    "    for idx, topic in enumerate(model.components_):\n",
    "        print(\"Topic %d:\" % (idx))\n",
    "        print([(vectorizer.get_feature_names()[i], topic[i])\n",
    "                        for i in topic.argsort()[:-top_n - 1:-1]])\n",
    " \n",
    "print(\"LDA Model:\")\n",
    "print_topics(lda_model, tfidfconverter )\n",
    "print(\"=\" * 20)\n",
    " \n",
    "print(\"NMF Model:\")\n",
    "print_topics(nmf_model, tfidfconverter )\n",
    "print(\"=\" * 20)\n",
    " "
   ]
  },
  {
   "cell_type": "markdown",
   "metadata": {},
   "source": [
    "# Part 4: Run visualization and testing of LDA model"
   ]
  },
  {
   "cell_type": "code",
   "execution_count": 21,
   "metadata": {},
   "outputs": [
    {
     "data": {
      "text/html": [
       "\n",
       "<link rel=\"stylesheet\" type=\"text/css\" href=\"https://cdn.rawgit.com/bmabey/pyLDAvis/files/ldavis.v1.0.0.css\">\n",
       "\n",
       "\n",
       "<div id=\"ldavis_el19171404168612622881609866720\"></div>\n",
       "<script type=\"text/javascript\">\n",
       "\n",
       "var ldavis_el19171404168612622881609866720_data = {\"mdsDat\": {\"x\": [1.4650187492370605, 54.85479736328125, 32.212928771972656, 5.111096382141113, 26.350170135498047, 38.10981750488281], \"y\": [-47.625064849853516, -36.4767951965332, -61.44457244873047, -14.110331535339355, -33.37470245361328, -7.222781181335449], \"topics\": [1, 2, 3, 4, 5, 6], \"cluster\": [1, 1, 1, 1, 1, 1], \"Freq\": [20.134455662469332, 19.223289716600192, 17.408729069344975, 15.356375431073314, 14.035972698071106, 13.841177422441087]}, \"tinfo\": {\"Term\": [\"state\", \"tweet\", \"carrying\", \"abrams tweet\", \"abrams carrying\", \"carrying democracy\", \"lead\", \"follow\", \"abrams state\", \"follow lead\", \"invest\", \"trust\", \"state stacey\", \"invest follow\", \"listen trust\", \"trust invest\", \"state listen\", \"listen\", \"democracy\", \"election stacey\", \"block\", \"spun block\", \"spun\", \"crazy\", \"abrams spun\", \"block em\", \"em\", \"em crazy\", \"stole election\", \"stole\", \"talk\", \"saving\", \"talk stacey\", \"sound\", \"asking\", \"dad\", \"sound like\", \"like dad\", \"asking talk\", \"make sound\", \"way make\", \"hard\", \"white woman\", \"praising\", \"dear\", \"like stacey\", \"listen stacey\", \"abrams like\", \"okay\", \"praising stacey\", \"sphere\", \"dear white\", \"woman sphere\", \"integrity\", \"work damn\", \"pta\", \"sphere office\", \"damn hard\", \"okay black\", \"abrams okay\", \"black woman\", \"like\", \"think\", \"make\", \"abrams way\", \"way\", \"woman\", \"black\", \"liberal\", \"want\", \"people\", \"damn\", \"white\", \"stacy\", \"stacy abrams\", \"stacey\", \"stacey abrams\", \"work\", \"need\", \"voter\", \"staceyabrams\", \"georgia\", \"abrams tweet\", \"tweet\", \"secretary\", \"secretary state\", \"flipping\", \"moment\", \"georgia democrat\", \"flipping georgia\", \"closer\", \"closer flipping\", \"democrat closer\", \"georgia republican\", \"meaningful\", \"match\", \"air\", \"united state\", \"united\", \"cnn\", \"receiving\", \"phone\", \"abrams american\", \"president united\", \"house\", \"signature match\", \"leaked\", \"abrams eliminated\", \"source cnn\", \"lavishing air\", \"phone president\", \"receiving lavishing\", \"hero\", \"leader\", \"thank stacey\", \"democrat\", \"voting\", \"thank\", \"georgia\", \"stacey abrams\", \"stacey\", \"democratic\", \"senate\", \"state\", \"praise\", \"lot\", \"building\", \"political\", \"voter\", \"seat\", \"republican\", \"stacy\", \"stacy abrams\", \"staceyabrams\", \"american\", \"people\", \"goddess\", \"abrams goddess\", \"jon\", \"jon ossoff\", \"far\", \"warnock jon\", \"uk\", \"abrams raphael\", \"quite\", \"tea\", \"election georgia\", \"cat\", \"egg\", \"cat happiness\", \"happiness\", \"tea cat\", \"boiled egg\", \"boiled\", \"frankly\", \"absolutely quite\", \"uk election\", \"frankly soft\", \"white englishman\", \"really day\", \"georgia absolutely\", \"englishman\", \"egg cup\", \"far important\", \"soft boiled\", \"cup\", \"englishman uk\", \"fucking\", \"raphael\", \"raphael warnock\", \"warnock\", \"ossoff\", \"absolutely\", \"day\", \"senate\", \"georgia\", \"really\", \"important\", \"stacey\", \"stacey abrams\", \"election\", \"governor\", \"carrying\", \"abrams carrying\", \"carrying democracy\", \"election stacey\", \"block\", \"spun block\", \"spun\", \"crazy\", \"abrams spun\", \"block em\", \"em\", \"em crazy\", \"human\", \"super\", \"believing\", \"abrams super\", \"owe\", \"instead believing\", \"super human\", \"human believe\", \"believing stacey\", \"happen work\", \"believe happen\", \"morning\", \"worked\", \"thing know\", \"biden victory\", \"novelist\", \"cheated stacey\", \"lawyer\", \"stole election\", \"stole\", \"democracy\", \"instead\", \"believe\", \"happen\", \"stacey abrams\", \"stacey\", \"election\", \"running\", \"game\", \"medal\", \"bet\", \"freedom\", \"major\", \"vaccine rollout\", \"rollout\", \"medal freedom\", \"league\", \"pull\", \"charge vaccine\", \"writing\", \"ending\", \"major league\", \"abrams pull\", \"stacey flip\", \"game throne\", \"throne\", \"pull biden\", \"running major\", \"directing\", \"directing alternate\", \"alternate game\", \"baseball\", \"biden charge\", \"shit abrams\", \"rollout writing\", \"throne ending\", \"alternate\", \"league baseball\", \"biden\", \"getting\", \"love\", \"shit\", \"vaccine\", \"charge\", \"president\", \"said\", \"stacey\", \"stacey abrams\", \"come\", \"need\", \"lead\", \"follow\", \"abrams state\", \"follow lead\", \"invest\", \"state stacey\", \"trust\", \"invest follow\", \"listen trust\", \"trust invest\", \"state listen\", \"consequential\", \"argument\", \"woman history\", \"consequential woman\", \"argument stacey\", \"abrams consequential\", \"good argument\", \"mother\", \"mother abrams\", \"stacey mother\", \"remarkable\", \"john ossoff\", \"ossoff stacey\", \"lose\", \"project\", \"bc\", \"new georgia\", \"american democracy\", \"commitment\", \"listen\", \"history\", \"state\", \"justice\", \"good\", \"world\", \"stacey\", \"stacey abrams\", \"american\", \"saved\"], \"Freq\": [204.0, 122.0, 99.0, 113.0, 98.0, 98.0, 90.0, 87.0, 86.0, 85.0, 85.0, 85.0, 85.0, 85.0, 85.0, 85.0, 84.0, 94.0, 113.0, 74.0, 74.0, 74.0, 74.0, 73.0, 73.0, 73.0, 73.0, 73.0, 78.0, 81.0, 36.96427263201749, 33.08139872532287, 31.811659899111003, 30.821988674902354, 30.64734866721303, 29.93935297516229, 29.794362471526064, 29.625847093553, 29.626104923084558, 29.625996081999315, 29.625771625502615, 24.896275140951506, 17.524068153325842, 17.001291948906022, 16.492714181851834, 16.188359295398417, 16.07416533136647, 15.95672943956536, 15.786247900442937, 15.756322300722875, 14.85538395704916, 14.856755475992511, 14.8555936789095, 14.752611497355074, 14.677512790630349, 14.677367335834571, 14.677453403476678, 14.677593582651422, 14.677285291165612, 14.677290576405555, 49.54871128583455, 75.10743186056929, 25.38024180689869, 42.63082759541307, 28.90254270591543, 39.05348363954994, 66.26722233809798, 57.18789326402738, 18.613695463240965, 34.56043736324824, 33.05991284337048, 18.148303996113953, 30.669615888265238, 38.465495253141036, 37.970185664842184, 69.14926158038116, 66.64512867521529, 32.05166147022821, 25.244783033525454, 25.28550795180902, 27.36100249686438, 30.715849892156918, 112.58153111052455, 121.66356799802054, 24.118063311258403, 23.858331122797008, 19.650743010358365, 19.445612183493548, 19.045734377787344, 18.956961996537647, 18.274678012441033, 18.04076328565753, 17.82563801324438, 16.496914689381683, 16.266946805675957, 16.053574046121494, 15.990841091714481, 15.902458361646058, 15.902833348327224, 15.860647031399859, 15.58622862166083, 16.123126660045163, 15.340521965123195, 15.057974475448571, 15.535599190866517, 14.94912146889589, 14.770355057871178, 14.770153940955936, 14.770229875356303, 14.770310543806755, 14.770435623457294, 14.770499421347209, 33.051617139122605, 32.46734820813083, 24.57382956420598, 34.28025767616542, 18.924320227717903, 47.71644751531728, 68.51444506898956, 83.65435209751013, 80.44997941563331, 23.942556708750622, 30.747853216251553, 42.68554204151712, 19.43735301451549, 18.278960961615866, 19.23586793267537, 20.181890932857023, 22.37493013892297, 19.798593122115484, 19.80244779075308, 21.686808107677816, 21.00789020735207, 20.651299091152314, 19.719127242627206, 18.99736252385124, 43.38549408968801, 42.9623629956922, 41.43263746881597, 41.43254094869445, 31.852652563810217, 31.48153289594907, 30.786368573874526, 30.54531450205123, 30.583315576095167, 30.322717051997962, 30.026983479575982, 29.98104579016892, 29.867270906284148, 29.71499418563867, 29.715012566477945, 29.630119029764913, 29.630462717147495, 29.630406618943173, 29.573177312657485, 29.3639048921398, 29.363894618277616, 29.363899407847235, 29.363832056276113, 29.364228435095868, 29.36386065529709, 29.363885398412595, 29.36409437145551, 29.363845704369616, 29.363985142944514, 29.36354878638892, 29.36412269209224, 42.4261230822634, 47.33386352174116, 47.33409969615269, 49.38885540487016, 42.86080175562816, 34.10990122767729, 39.02561404491791, 41.17906602113382, 47.67659159756369, 32.7900936709598, 30.20366388408524, 45.769823238297775, 41.49397860903091, 31.86942285655277, 30.08517035702177, 98.49985553504597, 97.58500435963667, 97.5852958397664, 74.1200544677969, 73.70185724364504, 73.60775509574569, 73.60765628875265, 73.14810620738491, 72.27900182237074, 72.27901036483826, 72.27912164477401, 72.27901361517468, 31.430836502597533, 28.42807273927285, 27.51025372023134, 27.449021458236672, 27.713863387824432, 27.34561411066771, 27.34558975048098, 27.34581911218965, 27.34583444069794, 27.34574096613374, 27.345884312420317, 19.548872647808558, 16.205725373457177, 12.193033431520117, 11.140326078928656, 10.85790982756067, 10.866070717546412, 10.632236047356939, 69.43386517161501, 69.4079813066009, 87.6124876876597, 28.983511102551507, 30.04510485709259, 29.82113512987551, 126.13252776220467, 122.5785350480638, 58.04468861091944, 23.014428571961705, 19.780497768166512, 19.196193858285977, 18.681339284127592, 17.263528078943732, 17.044093168500385, 16.624823205474375, 16.624814146899507, 16.527527656388894, 16.509304169412356, 16.542876783467825, 15.980905528807593, 15.947097303314532, 15.935192806565823, 15.830286097525068, 15.761029732350638, 15.743296165085646, 15.641652533211102, 15.641640103870094, 15.303977887765852, 15.304021074058436, 15.304011314194284, 15.303916474941751, 15.303825387514772, 15.303789887929456, 15.303984515223874, 15.301999321378519, 15.303977551133716, 15.303938257107143, 15.303829866714084, 15.304096551786513, 37.71440630036212, 18.36072684569358, 22.70991432308841, 22.188604840622897, 18.02220343226236, 19.544254776596684, 25.12841694059168, 20.580089734619243, 40.58537138595952, 36.780717131008295, 18.492560717002178, 18.005189855400932, 89.42850215113934, 86.79728197119809, 86.10335913394039, 84.75328177325102, 84.58031971555657, 84.42126825322416, 84.45734684736726, 84.24584861317877, 84.24565805298414, 84.24569232389034, 84.033145786976, 30.080449773177634, 30.06791767895145, 28.905143913102485, 28.69689436308684, 28.696966519032145, 28.69718672941626, 28.69687605215754, 26.615489503293944, 25.63659074410218, 25.63684670716586, 17.240372904964094, 16.8266412388997, 16.746633530789722, 16.595552229711757, 16.9912774125069, 16.05068285282015, 14.890144421724763, 14.787193953812007, 14.622108062629996, 78.52935565443241, 33.7702630765235, 131.8853085536029, 18.27769594840521, 29.462805432807638, 23.84704775772982, 53.87845594675495, 47.4959900797329, 24.558077119682473, 22.33337879476488], \"Total\": [204.0, 122.0, 99.0, 113.0, 98.0, 98.0, 90.0, 87.0, 86.0, 85.0, 85.0, 85.0, 85.0, 85.0, 85.0, 85.0, 84.0, 94.0, 113.0, 74.0, 74.0, 74.0, 74.0, 73.0, 73.0, 73.0, 73.0, 73.0, 78.0, 81.0, 37.76141302097329, 33.8913311246608, 32.59898716415579, 31.609050954370627, 31.435064799378956, 30.72701841154437, 30.582371532189008, 30.413063898694435, 30.41347794384717, 30.41403027581323, 30.413937202067725, 25.874364999664486, 18.314888476299984, 17.792520846842336, 17.283365147655473, 16.98361674419786, 16.86487839792623, 16.74604432895035, 16.576982778810923, 16.546493071536318, 15.645162489166434, 15.647094726607563, 15.646376178965628, 15.540194193679723, 15.466609017704092, 15.466812134234903, 15.467017268550915, 15.467282136377138, 15.466975545943146, 15.467104293799663, 53.555277267173274, 83.8844269982827, 28.53031263677633, 51.43863321558779, 33.59994420206848, 49.77473466811657, 101.02227815843777, 84.76164142384566, 21.156131823789817, 52.785969562843434, 61.74506455645426, 21.57894981162002, 61.62099662154178, 99.74580597609852, 97.9202826080151, 412.41142661509053, 402.2026943547022, 86.81871394336983, 48.47227759499093, 63.54748815862294, 85.75705699379715, 181.5068569846219, 113.38204283591655, 122.65598177149154, 24.90578265388709, 24.64628933460209, 20.43746586899087, 20.24046529839016, 19.831028973919413, 19.742460386432498, 19.06125816523815, 18.82507608857468, 18.61057347801797, 17.28525259996401, 17.05433102089434, 16.841697451611225, 16.778418370411647, 16.690056047677533, 16.690862839167806, 16.652549400119614, 16.375251699932946, 16.94390074174685, 16.126114336990142, 15.845324028919011, 16.349349076882092, 15.735951114268897, 15.55700593330475, 15.556805149997505, 15.55689601853732, 15.557069995568575, 15.557244849812855, 15.557418551755537, 36.86333965491843, 38.1347086568603, 29.855013660500052, 50.31084536401157, 22.431190988128968, 97.23622521857416, 181.5068569846219, 402.2026943547022, 412.41142661509053, 40.48206232385985, 75.20674463008217, 204.36208374227087, 28.234373998094036, 26.559477630470756, 32.910046370909576, 40.65356555728171, 63.54748815862294, 41.37244929799612, 45.097915731777015, 99.74580597609852, 97.9202826080151, 85.75705699379715, 64.51588786963293, 61.74506455645426, 44.163372643947326, 43.741412423860346, 42.21625473389288, 42.21676696501798, 32.64433310504164, 32.264535387590165, 31.56862040846455, 31.32756044421194, 31.36875654415195, 31.104741830628875, 30.81023948693574, 30.76346947338682, 30.650054189223976, 30.496414152757122, 30.496765454933254, 30.411846252786148, 30.41231521376556, 30.412575636153573, 30.35603611012685, 30.14516430697911, 30.145236253437417, 30.145262371176848, 30.145317668071247, 30.14574106479952, 30.145375319169098, 30.145627011859027, 30.145917096800577, 30.145698143482438, 30.145900723849138, 30.145525919955933, 30.146159623688384, 46.353651976093325, 58.18355456962324, 58.18399401167892, 69.15808770765507, 61.25577905306621, 39.8501785917514, 54.805854219893, 75.20674463008217, 181.5068569846219, 50.54926181515027, 34.48814314409784, 412.41142661509053, 402.2026943547022, 125.38993766954606, 58.06559480483474, 99.30149189057968, 98.38744991023546, 98.3882242522995, 74.9266264025074, 74.50782117985868, 74.41340967625236, 74.41375960261016, 73.95404823073426, 73.083847562359, 73.08514503791145, 73.08560245524933, 73.08575458176327, 32.23641881998233, 29.230468191575135, 28.31220097267865, 28.250549475581153, 28.523791252886724, 28.14700481491017, 28.146997924232465, 28.147770060075903, 28.147825956210976, 28.14773810951226, 28.147888649062242, 20.378009490922487, 17.211600211546966, 13.058435169305312, 11.943720865571747, 11.660674392307952, 11.672357620310597, 11.434527056849932, 78.16285399347089, 81.53142531501213, 113.81544541639862, 34.45722733265528, 36.51906500984222, 41.3965063836309, 402.2026943547022, 412.41142661509053, 125.38993766954606, 23.789646558952313, 20.56361861713185, 19.971531339724812, 19.45804712050676, 18.03962425791791, 17.8307920449861, 17.399156899918754, 17.39990621395502, 17.30346745868872, 17.284601363982503, 17.322024772431327, 16.754729354337126, 16.72223826346984, 16.710071418530685, 16.606165751574128, 16.536531499866694, 16.5185538963231, 16.416278152516483, 16.416756158559682, 16.07791068483392, 16.078515450689665, 16.078708435108982, 16.078618065607703, 16.078585005465005, 16.078670682628598, 16.078966436751223, 16.07701019345153, 16.079197496935283, 16.079197450144303, 16.079289333432506, 16.07974271316708, 52.239481456165315, 20.52835479269438, 28.578916826092176, 30.480119545916626, 21.640330324526925, 26.287796927318844, 51.321180352601246, 38.38939694514178, 412.41142661509053, 402.2026943547022, 32.336324164136734, 48.47227759499093, 90.2105660194178, 87.57349548674341, 86.87981089895206, 85.52782822697922, 85.35546723360021, 85.19668830097388, 85.23351362397146, 85.02017237995234, 85.02050353507443, 85.02131550303476, 84.80812572606874, 30.8602328865342, 30.848575634597204, 29.684259366506346, 29.475909952589586, 29.476390629198143, 29.476795003181312, 29.476640138198633, 27.398730893021433, 26.41115765996112, 26.41194106721545, 18.015862898120446, 17.61068264783759, 17.530367737878755, 17.376797143260166, 17.826119764110878, 16.860090618567202, 15.66537826109063, 15.564666642382065, 15.40121018646952, 94.61882000113901, 38.297209385964784, 204.36208374227087, 20.309560547619462, 48.60428632156153, 37.4697438169494, 412.41142661509053, 402.2026943547022, 64.51588786963293, 47.80960770903023], \"Category\": [\"Default\", \"Default\", \"Default\", \"Default\", \"Default\", \"Default\", \"Default\", \"Default\", \"Default\", \"Default\", \"Default\", \"Default\", \"Default\", \"Default\", \"Default\", \"Default\", \"Default\", \"Default\", \"Default\", \"Default\", \"Default\", \"Default\", \"Default\", \"Default\", \"Default\", \"Default\", \"Default\", \"Default\", \"Default\", \"Default\", \"Topic1\", \"Topic1\", \"Topic1\", \"Topic1\", \"Topic1\", \"Topic1\", \"Topic1\", \"Topic1\", \"Topic1\", \"Topic1\", \"Topic1\", \"Topic1\", \"Topic1\", \"Topic1\", \"Topic1\", \"Topic1\", \"Topic1\", \"Topic1\", \"Topic1\", \"Topic1\", \"Topic1\", \"Topic1\", \"Topic1\", \"Topic1\", \"Topic1\", \"Topic1\", \"Topic1\", \"Topic1\", \"Topic1\", \"Topic1\", \"Topic1\", \"Topic1\", \"Topic1\", \"Topic1\", \"Topic1\", \"Topic1\", \"Topic1\", \"Topic1\", \"Topic1\", \"Topic1\", \"Topic1\", \"Topic1\", \"Topic1\", \"Topic1\", \"Topic1\", \"Topic1\", \"Topic1\", \"Topic1\", \"Topic1\", \"Topic1\", \"Topic1\", \"Topic1\", \"Topic2\", \"Topic2\", \"Topic2\", \"Topic2\", \"Topic2\", \"Topic2\", \"Topic2\", \"Topic2\", \"Topic2\", \"Topic2\", \"Topic2\", \"Topic2\", \"Topic2\", \"Topic2\", \"Topic2\", \"Topic2\", \"Topic2\", \"Topic2\", \"Topic2\", \"Topic2\", \"Topic2\", \"Topic2\", \"Topic2\", \"Topic2\", \"Topic2\", \"Topic2\", \"Topic2\", \"Topic2\", \"Topic2\", \"Topic2\", \"Topic2\", \"Topic2\", \"Topic2\", \"Topic2\", \"Topic2\", \"Topic2\", \"Topic2\", \"Topic2\", \"Topic2\", \"Topic2\", \"Topic2\", \"Topic2\", \"Topic2\", \"Topic2\", \"Topic2\", \"Topic2\", \"Topic2\", \"Topic2\", \"Topic2\", \"Topic2\", \"Topic2\", \"Topic2\", \"Topic2\", \"Topic2\", \"Topic3\", \"Topic3\", \"Topic3\", \"Topic3\", \"Topic3\", \"Topic3\", \"Topic3\", \"Topic3\", \"Topic3\", \"Topic3\", \"Topic3\", \"Topic3\", \"Topic3\", \"Topic3\", \"Topic3\", \"Topic3\", \"Topic3\", \"Topic3\", \"Topic3\", \"Topic3\", \"Topic3\", \"Topic3\", \"Topic3\", \"Topic3\", \"Topic3\", \"Topic3\", \"Topic3\", \"Topic3\", \"Topic3\", \"Topic3\", \"Topic3\", \"Topic3\", \"Topic3\", \"Topic3\", \"Topic3\", \"Topic3\", \"Topic3\", \"Topic3\", \"Topic3\", \"Topic3\", \"Topic3\", \"Topic3\", \"Topic3\", \"Topic3\", \"Topic3\", \"Topic3\", \"Topic4\", \"Topic4\", \"Topic4\", \"Topic4\", \"Topic4\", \"Topic4\", \"Topic4\", \"Topic4\", \"Topic4\", \"Topic4\", \"Topic4\", \"Topic4\", \"Topic4\", \"Topic4\", \"Topic4\", \"Topic4\", \"Topic4\", \"Topic4\", \"Topic4\", \"Topic4\", \"Topic4\", \"Topic4\", \"Topic4\", \"Topic4\", \"Topic4\", \"Topic4\", \"Topic4\", \"Topic4\", \"Topic4\", \"Topic4\", \"Topic4\", \"Topic4\", \"Topic4\", \"Topic4\", \"Topic4\", \"Topic4\", \"Topic4\", \"Topic4\", \"Topic4\", \"Topic5\", \"Topic5\", \"Topic5\", \"Topic5\", \"Topic5\", \"Topic5\", \"Topic5\", \"Topic5\", \"Topic5\", \"Topic5\", \"Topic5\", \"Topic5\", \"Topic5\", \"Topic5\", \"Topic5\", \"Topic5\", \"Topic5\", \"Topic5\", \"Topic5\", \"Topic5\", \"Topic5\", \"Topic5\", \"Topic5\", \"Topic5\", \"Topic5\", \"Topic5\", \"Topic5\", \"Topic5\", \"Topic5\", \"Topic5\", \"Topic5\", \"Topic5\", \"Topic5\", \"Topic5\", \"Topic5\", \"Topic5\", \"Topic5\", \"Topic5\", \"Topic5\", \"Topic5\", \"Topic5\", \"Topic5\", \"Topic5\", \"Topic6\", \"Topic6\", \"Topic6\", \"Topic6\", \"Topic6\", \"Topic6\", \"Topic6\", \"Topic6\", \"Topic6\", \"Topic6\", \"Topic6\", \"Topic6\", \"Topic6\", \"Topic6\", \"Topic6\", \"Topic6\", \"Topic6\", \"Topic6\", \"Topic6\", \"Topic6\", \"Topic6\", \"Topic6\", \"Topic6\", \"Topic6\", \"Topic6\", \"Topic6\", \"Topic6\", \"Topic6\", \"Topic6\", \"Topic6\", \"Topic6\", \"Topic6\", \"Topic6\", \"Topic6\", \"Topic6\", \"Topic6\", \"Topic6\", \"Topic6\", \"Topic6\", \"Topic6\"], \"logprob\": [30.0, 29.0, 28.0, 27.0, 26.0, 25.0, 24.0, 23.0, 22.0, 21.0, 20.0, 19.0, 18.0, 17.0, 16.0, 15.0, 14.0, 13.0, 12.0, 11.0, 10.0, 9.0, 8.0, 7.0, 6.0, 5.0, 4.0, 3.0, 2.0, 1.0, -4.8976, -5.0086, -5.0477, -5.0793, -5.085, -5.1084, -5.1133, -5.1189, -5.1189, -5.1189, -5.1189, -5.2929, -5.644, -5.6743, -5.7047, -5.7233, -5.7304, -5.7377, -5.7484, -5.7503, -5.8092, -5.8091, -5.8092, -5.8162, -5.8213, -5.8213, -5.8213, -5.8213, -5.8213, -5.8213, -4.6046, -4.1887, -5.2736, -4.755, -5.1436, -4.8426, -4.3139, -4.4612, -5.5837, -4.9649, -5.0093, -5.609, -5.0843, -4.8578, -4.8708, -4.2713, -4.3082, -5.0402, -5.279, -5.2773, -5.1985, -5.0828, -3.7376, -3.66, -5.2783, -5.2891, -5.4832, -5.4936, -5.5144, -5.5191, -5.5558, -5.5686, -5.5806, -5.6581, -5.6721, -5.6853, -5.6893, -5.6948, -5.6948, -5.6974, -5.7149, -5.681, -5.7308, -5.7494, -5.7181, -5.7566, -5.7686, -5.7687, -5.7687, -5.7686, -5.7686, -5.7686, -4.9632, -4.981, -5.2596, -4.9267, -5.5208, -4.596, -4.2342, -4.0346, -4.0736, -5.2856, -5.0354, -4.7074, -5.4941, -5.5555, -5.5045, -5.4565, -5.3533, -5.4757, -5.4755, -5.3846, -5.4164, -5.4335, -5.4797, -5.517, -4.592, -4.6018, -4.638, -4.638, -4.901, -4.9127, -4.935, -4.9429, -4.9417, -4.9502, -4.96, -4.9616, -4.9654, -4.9705, -4.9705, -4.9733, -4.9733, -4.9733, -4.9752, -4.9823, -4.9823, -4.9823, -4.9824, -4.9823, -4.9824, -4.9824, -4.9823, -4.9824, -4.9823, -4.9824, -4.9823, -4.6144, -4.5049, -4.5049, -4.4624, -4.6042, -4.8325, -4.6979, -4.6442, -4.4977, -4.872, -4.9542, -4.5385, -4.6366, -4.9005, -4.9581, -3.6466, -3.656, -3.6559, -3.931, -3.9366, -3.9379, -3.9379, -3.9442, -3.9561, -3.9561, -3.9561, -3.9561, -4.7889, -4.8893, -4.9221, -4.9243, -4.9147, -4.9281, -4.9281, -4.9281, -4.9281, -4.9281, -4.9281, -5.2638, -5.4513, -5.7358, -5.8261, -5.8518, -5.851, -5.8728, -3.9963, -3.9967, -3.7638, -4.8699, -4.834, -4.8415, -3.3993, -3.4279, -4.1755, -5.0106, -5.1621, -5.1921, -5.2192, -5.2982, -5.311, -5.3359, -5.3359, -5.3417, -5.3428, -5.3408, -5.3754, -5.3775, -5.3782, -5.3848, -5.3892, -5.3904, -5.3968, -5.3968, -5.4187, -5.4187, -5.4187, -5.4187, -5.4187, -5.4187, -5.4187, -5.4188, -5.4187, -5.4187, -5.4187, -5.4186, -4.5167, -5.2366, -5.024, -5.0472, -5.2552, -5.1741, -4.9228, -5.1224, -4.4434, -4.5418, -5.2294, -5.2561, -3.6394, -3.6692, -3.6772, -3.693, -3.6951, -3.697, -3.6965, -3.6991, -3.6991, -3.6991, -3.7016, -4.7289, -4.7293, -4.7688, -4.776, -4.776, -4.776, -4.776, -4.8513, -4.8888, -4.8888, -5.2855, -5.3098, -5.3146, -5.3237, -5.3001, -5.357, -5.4321, -5.439, -5.4503, -3.7693, -4.6132, -3.2509, -5.2271, -4.7497, -4.9611, -4.1461, -4.2721, -4.9318, -5.0267], \"loglift\": [30.0, 29.0, 28.0, 27.0, 26.0, 25.0, 24.0, 23.0, 22.0, 21.0, 20.0, 19.0, 18.0, 17.0, 16.0, 15.0, 14.0, 13.0, 12.0, 11.0, 10.0, 9.0, 8.0, 7.0, 6.0, 5.0, 4.0, 3.0, 2.0, 1.0, 1.5814, 1.5785, 1.5783, 1.5775, 1.5774, 1.5768, 1.5766, 1.5765, 1.5765, 1.5765, 1.5765, 1.5642, 1.5586, 1.5572, 1.5559, 1.5548, 1.5547, 1.5545, 1.5539, 1.5538, 1.5509, 1.5509, 1.5509, 1.5507, 1.5504, 1.5503, 1.5503, 1.5503, 1.5503, 1.5503, 1.525, 1.4922, 1.4857, 1.4149, 1.4521, 1.3602, 1.1811, 1.2092, 1.4747, 1.1792, 0.978, 1.4296, 0.905, 0.6499, 0.6554, -0.183, -0.1948, 0.6063, 0.9504, 0.6812, 0.4603, -0.1738, 1.642, 1.6409, 1.6169, 1.6166, 1.6098, 1.609, 1.6086, 1.6084, 1.6069, 1.6065, 1.606, 1.6024, 1.6018, 1.6011, 1.601, 1.6007, 1.6007, 1.6003, 1.5997, 1.5994, 1.5991, 1.5981, 1.598, 1.5978, 1.5972, 1.5972, 1.5972, 1.5972, 1.5971, 1.5971, 1.5399, 1.4882, 1.4544, 1.2654, 1.479, 0.9372, 0.6748, 0.0788, 0.0147, 1.1238, 0.7546, 0.083, 1.2757, 1.2754, 1.112, 0.9487, 0.6052, 0.912, 0.826, 0.1231, 0.1098, 0.2253, 0.4637, 0.4703, 1.7304, 1.7302, 1.7295, 1.7294, 1.7236, 1.7236, 1.7231, 1.7229, 1.7228, 1.7227, 1.7224, 1.7224, 1.7223, 1.7222, 1.7222, 1.7222, 1.7222, 1.7221, 1.7221, 1.7219, 1.7219, 1.7219, 1.7219, 1.7219, 1.7219, 1.7219, 1.7219, 1.7219, 1.7219, 1.7219, 1.7219, 1.6597, 1.5418, 1.5418, 1.4115, 1.3911, 1.5927, 1.4086, 1.1459, 0.4113, 1.3154, 1.6155, -0.4502, -0.5232, 0.3784, 1.0907, 1.8655, 1.8655, 1.8654, 1.8628, 1.8628, 1.8628, 1.8627, 1.8627, 1.8626, 1.8625, 1.8625, 1.8625, 1.8483, 1.8458, 1.8449, 1.8449, 1.8448, 1.8448, 1.8448, 1.8447, 1.8447, 1.8447, 1.8447, 1.8321, 1.8134, 1.8051, 1.804, 1.8023, 1.8021, 1.8009, 1.7552, 1.7127, 1.612, 1.7006, 1.6785, 1.5457, 0.714, 0.6604, 1.1034, 1.9304, 1.9247, 1.924, 1.9228, 1.9196, 1.9184, 1.918, 1.918, 1.9177, 1.9177, 1.9175, 1.9163, 1.9161, 1.9161, 1.9157, 1.9155, 1.9155, 1.9152, 1.9152, 1.9142, 1.9142, 1.9142, 1.9142, 1.9142, 1.9142, 1.9141, 1.9141, 1.9141, 1.9141, 1.9141, 1.9141, 1.6378, 1.852, 1.7337, 1.6461, 1.7806, 1.6671, 1.2494, 1.3401, -0.3551, -0.4284, 1.4047, 0.9732, 1.9688, 1.9686, 1.9685, 1.9684, 1.9684, 1.9684, 1.9684, 1.9684, 1.9684, 1.9684, 1.9683, 1.9519, 1.9519, 1.9509, 1.9507, 1.9507, 1.9507, 1.9507, 1.9485, 1.9478, 1.9477, 1.9335, 1.932, 1.9318, 1.9315, 1.9296, 1.9283, 1.9268, 1.9263, 1.9256, 1.7911, 1.8517, 1.5396, 1.8721, 1.4769, 1.5256, -0.0578, -0.1588, 1.0117, 1.2164]}, \"token.table\": {\"Topic\": [2, 4, 6, 2, 3, 1, 1, 5, 3, 4, 6, 4, 2, 1, 2, 1, 3, 3, 2, 5, 5, 1, 2, 3, 4, 6, 6, 6, 6, 1, 1, 5, 6, 1, 4, 4, 4, 4, 5, 2, 3, 4, 5, 5, 4, 1, 2, 4, 5, 6, 1, 2, 5, 4, 4, 3, 3, 2, 3, 4, 4, 3, 3, 1, 5, 5, 4, 2, 2, 2, 1, 2, 3, 5, 6, 6, 6, 4, 3, 1, 1, 2, 1, 2, 3, 5, 1, 1, 1, 2, 4, 6, 2, 4, 5, 2, 2, 3, 5, 5, 5, 3, 3, 1, 2, 3, 4, 5, 3, 4, 4, 4, 5, 3, 3, 3, 3, 2, 2, 6, 6, 3, 3, 5, 3, 5, 5, 5, 1, 2, 3, 4, 5, 6, 3, 2, 2, 1, 5, 3, 1, 2, 3, 4, 6, 6, 1, 2, 3, 4, 5, 1, 4, 4, 3, 1, 2, 4, 2, 6, 2, 4, 4, 1, 3, 2, 3, 4, 5, 4, 1, 6, 6, 6, 3, 3, 5, 6, 2, 4, 6, 1, 2, 4, 5, 5, 2, 1, 5, 1, 5, 1, 1, 1, 5, 6, 1, 6, 6, 1, 2, 4, 1, 5, 5, 5, 1, 3, 5, 1, 2, 2, 5, 5, 2, 4, 6, 6, 1, 2, 5, 6, 4, 1, 1, 2, 3, 6, 6, 4, 1, 2, 4, 5, 6, 2, 2, 1, 2, 3, 5, 1, 2, 4, 1, 1, 2, 4, 5, 6, 2, 6, 1, 5, 5, 3, 3, 6, 3, 6, 1, 2, 3, 5, 3, 2, 2, 6, 1, 2, 3, 5, 5, 5, 5, 5, 2, 3, 4, 5, 1, 2, 3, 4, 6, 1, 2, 3, 4, 2, 2, 1, 2, 3, 5, 1, 5, 5, 2, 3, 1, 1, 2, 1, 1, 4, 4, 1, 2, 3, 4, 5, 6, 1, 2, 3, 4, 5, 6, 5, 6, 1, 2, 3, 5, 6, 1, 2, 3, 4, 5, 1, 2, 3, 4, 5, 1, 2, 3, 4, 5, 6, 6, 6, 3, 4, 3, 4, 4, 4, 1, 1, 3, 3, 1, 2, 3, 4, 6, 1, 2, 4, 1, 4, 5, 5, 5, 6, 6, 2, 3, 3, 2, 2, 1, 5, 5, 1, 2, 4, 5, 2, 4, 5, 1, 4, 5, 1, 2, 3, 5, 6, 3, 1, 2, 1, 1, 2, 3, 3, 1, 1, 2, 3, 4, 5, 6, 6, 1, 1, 2, 3, 4, 5, 1, 4, 1, 2, 5, 6, 5], \"Freq\": [0.9301682777724665, 0.9960619986533958, 0.9838247338922073, 0.9642082584033911, 0.9830501032596762, 0.9554495190448887, 0.9698001458497366, 0.9675547741150543, 0.9895440168475531, 0.985169807029738, 0.989873241091934, 0.9557336229278625, 0.9966304819849697, 0.8630966713990764, 0.11904781674470019, 0.1254699521229988, 0.8531956744363919, 0.9620116747310616, 0.9536059744591677, 0.9328770500330249, 0.9329179150342893, 0.031000115879074534, 0.31000115879074536, 0.232500869093059, 0.0465001738186118, 0.38750144848843165, 0.9637212504863742, 0.9724922263948709, 0.9838382305625218, 0.9861598885780712, 0.9864047793346562, 0.9329129438670577, 0.9489865957410676, 0.1642977441613838, 0.8214887208069189, 0.9592193694037338, 0.9889729176131546, 0.9592215058457223, 0.9764597589023194, 0.03828521922979309, 0.019142609614896545, 0.21056870576386202, 0.7274191653660688, 0.9328957840048063, 0.9209860246908432, 0.6724739993527828, 0.11797789462329523, 0.05898894731164762, 0.035393368386988575, 0.11797789462329523, 0.9336148098078753, 0.018672296196157505, 0.03734459239231501, 0.9931843238492665, 0.9851523173779221, 0.9864340448803318, 0.9864424917712633, 0.5773313044248644, 0.39501615565911774, 0.986893531347809, 0.9960541593747646, 0.9751825952515762, 0.9837222123797711, 0.2282427856769036, 0.7608092855896786, 0.954954249729987, 0.9423974451279101, 0.9443238134629771, 0.9561714340652554, 0.960813843908193, 0.15462487246912723, 0.15462487246912723, 0.09277492348147634, 0.5566495408888581, 0.9739494376343233, 0.9721248737915533, 0.9838542744446207, 0.9870994454859637, 0.9620001348459604, 0.9763394416663862, 0.8341462470201957, 0.13902437450336597, 0.9697889951022391, 0.03649245191901517, 0.7116028124207958, 0.2372009374735986, 0.9257456440518723, 0.9586444168764958, 0.043930768637835474, 0.008786153727567095, 0.7731815280259045, 0.16693692082377481, 0.6757986226230445, 0.15901144061718692, 0.15901144061718692, 0.9671921191069608, 0.5928551714583613, 0.37053448216147583, 0.024702298810765053, 0.9329107534064398, 0.9329159968097709, 0.9787910916825548, 0.9619876518229331, 0.13557706715511716, 0.07975121597359833, 0.25520389111551467, 0.4625570526468703, 0.06380097277887867, 0.9737022658561515, 0.9876328823677508, 0.9851461516525906, 0.9851441010908822, 0.9575063803890599, 0.9619969088250064, 0.9619799125992902, 0.9802620227232601, 0.9619946389023954, 0.9785949064431406, 0.9623927123620957, 0.9934512664641755, 0.9938285790961693, 0.9882713240676348, 0.9620085452541332, 0.9423699605349817, 0.9060774763045919, 0.06471981973604228, 0.9725914671135608, 0.9746423550667804, 0.1707924456133713, 0.3801509273329878, 0.2644528190142524, 0.0661132047535631, 0.044075469835708724, 0.08264150594195387, 0.9620049408228543, 0.9580945106271423, 0.9256445578373158, 0.09742621949966292, 0.8768359754969663, 0.9736575226415194, 0.20574317116480037, 0.10287158558240019, 0.04114863423296008, 0.02057431711648004, 0.5966551963779211, 0.9838299027309779, 0.1033314137255754, 0.2583285343139385, 0.516657068627877, 0.0688876091503836, 0.0688876091503836, 0.2657229066158502, 0.7246988362250459, 0.9592244994945298, 0.9837108805631419, 0.9662072866454569, 0.8951983273603653, 0.08138166612366957, 0.1044462524589566, 0.8877931459011311, 0.9786322332932466, 0.9616452799274368, 0.9592234106777833, 0.11598188929126338, 0.8698641696844753, 0.02902148772290495, 0.0580429754458099, 0.8416231439642435, 0.0580429754458099, 0.9592494895121995, 0.9652389032629063, 0.9958354485644444, 0.9880008196714396, 0.9653231700298356, 0.9711898949454552, 0.9711781111512819, 0.0492378945204313, 0.8862821013677634, 0.9641918435973319, 0.9619986856745749, 0.9865806626337182, 0.07866849139964023, 0.8391305749294957, 0.05244566093309348, 0.9835343981623115, 0.9328507469038718, 0.9641958140472069, 0.898084780254334, 0.094535240026772, 0.8940872899034693, 0.09536931092303673, 0.9864182083044857, 0.9420843770197597, 0.13739338537347545, 0.021137443903611608, 0.8349290341926585, 0.9487171874282486, 0.987996971405216, 0.9783160763083252, 0.18825671459229587, 0.6777241725322651, 0.07530268583691835, 0.17495414645789045, 0.804789073706296, 0.9534068905694117, 0.9634975490042506, 0.835947561432667, 0.07776256385420158, 0.09720320481775198, 0.986386865796524, 0.950023003677061, 0.9381781073908666, 0.9513541889603444, 0.9824620435520665, 0.9387135977309365, 0.9814501268590108, 0.9854471035692025, 0.9844324256719565, 0.5157587231383465, 0.1031517446276693, 0.37134628065960945, 0.9575255541231785, 0.9433416653205092, 0.9651937396262222, 0.9698082185133066, 0.09794994191163853, 0.7019745837000761, 0.19589988382327705, 0.9697457722616529, 0.9816366888874313, 0.5344556724825787, 0.30771690233845445, 0.04858687931659807, 0.04858687931659807, 0.04858687931659807, 0.9442925949500375, 0.9641810066504444, 0.04919617683181956, 0.4919617683181956, 0.3197751494068271, 0.1229904420795489, 0.24792474593106034, 0.6729385960985923, 0.07083564169458867, 0.955457641237892, 0.966972272059485, 0.2922769877259792, 0.01948513251506528, 0.487128312876632, 0.2143364576657181, 0.9466515151488082, 0.9536567814508856, 0.9698184648404928, 0.9814095189989659, 0.9329570423692738, 0.9882444640853736, 0.8077883922296145, 0.17186987068715204, 0.8077822913044775, 0.17186857261797395, 0.23739219068879547, 0.019782682557399622, 0.6528285243941876, 0.07913073022959849, 0.9619932692204612, 0.977084217891168, 0.9641702413609848, 0.9436128647367522, 0.110869868792559, 0.443479475170236, 0.3991315276532124, 0.0443479475170236, 0.9770167603757376, 0.9328823781696207, 0.9668071336412873, 0.9329219507859848, 0.05209771861897148, 0.3646840303328004, 0.05209771861897148, 0.5470260454992005, 0.18824668160370805, 0.06274889386790268, 0.14641408569177292, 0.12549778773580536, 0.46015855503128633, 0.9737003211416435, 0.483413487462264, 0.4109014643429244, 0.0966826974924528, 0.9636316326021691, 0.9737774183436719, 0.02659335954291544, 0.41219707291518926, 0.5451638706297665, 0.01329667977145772, 0.2624661621798576, 0.7217819459946083, 0.9330092983401715, 0.9532312277202261, 0.9619881743011716, 0.9807317544822898, 0.9809572801907779, 0.9642026264189378, 0.9587628131306927, 0.9698056024350279, 0.9944397433375259, 0.9944444196543208, 0.16730865234827424, 0.19398104620089768, 0.11153910156551616, 0.2982458585338802, 0.09941528617796005, 0.13093720618560595, 0.1665826732152937, 0.20884991865798014, 0.10193865077353792, 0.3132748779869702, 0.09199341655172934, 0.11685650210625079, 0.9686077909980653, 0.9844032263222492, 0.3148428939434445, 0.2448778064004568, 0.1982344147051317, 0.1049476313144815, 0.13993017508597533, 0.38096839890296447, 0.2205606519964531, 0.14035677854319745, 0.14035677854319745, 0.11028032599822656, 0.38807077540939994, 0.21446016535782628, 0.14297344357188418, 0.14297344357188418, 0.11233627709219472, 0.07829240976118758, 0.21041085123319161, 0.048932756100742235, 0.004893275610074224, 0.01467982683022267, 0.6459123805297975, 0.9904711285722905, 0.9859538166935979, 0.13491730283751832, 0.846299445071706, 0.10235040804252436, 0.8827722693667726, 0.9579046020231116, 0.9592497243464467, 0.979836214800797, 0.9816255897418064, 0.9644831699088068, 0.9864577030489092, 0.1645477286272078, 0.49364318588162337, 0.1542634955880073, 0.09255809735280439, 0.09255809735280439, 0.16747605802020768, 0.8373802901010384, 0.9189462477255137, 0.8762609901363063, 0.035050439605452254, 0.035050439605452254, 0.9746139764436724, 0.9328823808843384, 0.9855278332251629, 0.9879875358668344, 0.9946518566643278, 0.9819877967073884, 0.9620093787353606, 0.9586083208624431, 0.95865465965445, 0.1386300465386072, 0.8317802792316431, 0.9770588366887698, 0.39340658025061026, 0.346197790620537, 0.1258901056801953, 0.11015384247017086, 0.8470348279792712, 0.08916156083992328, 0.04458078041996164, 0.6630549801369349, 0.0757777120156497, 0.2652219920547739, 0.02891924959600381, 0.08675774878801143, 0.7085216151020933, 0.014459624798001905, 0.14459624798001905, 0.9608072649303812, 0.7835300431040092, 0.20090513925743828, 0.9863898843705252, 0.5030752779023192, 0.09736940862625532, 0.38947763450502126, 0.9620067805991535, 0.9828069673092763, 0.6533212396624954, 0.009898806661552961, 0.049494033307764806, 0.029696419984658884, 0.029696419984658884, 0.21777374655416515, 0.9769487472111763, 0.958688441874829, 0.368584128312163, 0.09214603207804074, 0.1727738101463264, 0.24188333420485697, 0.11518254009755094, 0.969831201062238, 0.9296056033921748, 0.21350559638417405, 0.08006459864406526, 0.05337639909604351, 0.6405167891525221, 0.9568097133834298], \"Term\": [\"abrams american\", \"abrams carrying\", \"abrams consequential\", \"abrams eliminated\", \"abrams goddess\", \"abrams like\", \"abrams okay\", \"abrams pull\", \"abrams raphael\", \"abrams spun\", \"abrams state\", \"abrams super\", \"abrams tweet\", \"abrams way\", \"abrams way\", \"absolutely\", \"absolutely\", \"absolutely quite\", \"air\", \"alternate\", \"alternate game\", \"american\", \"american\", \"american\", \"american\", \"american\", \"american democracy\", \"argument\", \"argument stacey\", \"asking\", \"asking talk\", \"baseball\", \"bc\", \"believe\", \"believe\", \"believe happen\", \"believing\", \"believing stacey\", \"bet\", \"biden\", \"biden\", \"biden\", \"biden\", \"biden charge\", \"biden victory\", \"black\", \"black\", \"black\", \"black\", \"black\", \"black woman\", \"black woman\", \"black woman\", \"block\", \"block em\", \"boiled\", \"boiled egg\", \"building\", \"building\", \"carrying\", \"carrying democracy\", \"cat\", \"cat happiness\", \"charge\", \"charge\", \"charge vaccine\", \"cheated stacey\", \"closer\", \"closer flipping\", \"cnn\", \"come\", \"come\", \"come\", \"come\", \"commitment\", \"consequential\", \"consequential woman\", \"crazy\", \"cup\", \"dad\", \"damn\", \"damn\", \"damn hard\", \"day\", \"day\", \"day\", \"dear\", \"dear white\", \"democracy\", \"democracy\", \"democracy\", \"democracy\", \"democrat\", \"democrat\", \"democrat\", \"democrat closer\", \"democratic\", \"democratic\", \"democratic\", \"directing\", \"directing alternate\", \"egg\", \"egg cup\", \"election\", \"election\", \"election\", \"election\", \"election\", \"election georgia\", \"election stacey\", \"em\", \"em crazy\", \"ending\", \"englishman\", \"englishman uk\", \"far\", \"far important\", \"flipping\", \"flipping georgia\", \"follow\", \"follow lead\", \"frankly\", \"frankly soft\", \"freedom\", \"fucking\", \"fucking\", \"game\", \"game throne\", \"georgia\", \"georgia\", \"georgia\", \"georgia\", \"georgia\", \"georgia\", \"georgia absolutely\", \"georgia democrat\", \"georgia republican\", \"getting\", \"getting\", \"goddess\", \"good\", \"good\", \"good\", \"good\", \"good\", \"good argument\", \"governor\", \"governor\", \"governor\", \"governor\", \"governor\", \"happen\", \"happen\", \"happen work\", \"happiness\", \"hard\", \"hero\", \"hero\", \"history\", \"history\", \"house\", \"human\", \"human believe\", \"important\", \"important\", \"instead\", \"instead\", \"instead\", \"instead\", \"instead believing\", \"integrity\", \"invest\", \"invest follow\", \"john ossoff\", \"jon\", \"jon ossoff\", \"justice\", \"justice\", \"lavishing air\", \"lawyer\", \"lead\", \"leader\", \"leader\", \"leader\", \"league\", \"league baseball\", \"leaked\", \"liberal\", \"liberal\", \"like\", \"like\", \"like dad\", \"like stacey\", \"listen\", \"listen\", \"listen\", \"listen stacey\", \"listen trust\", \"lose\", \"lot\", \"lot\", \"lot\", \"love\", \"love\", \"major\", \"major league\", \"make\", \"make\", \"make\", \"make sound\", \"match\", \"meaningful\", \"medal\", \"medal freedom\", \"moment\", \"morning\", \"mother\", \"mother abrams\", \"need\", \"need\", \"need\", \"new georgia\", \"novelist\", \"okay\", \"okay black\", \"ossoff\", \"ossoff\", \"ossoff\", \"ossoff stacey\", \"owe\", \"people\", \"people\", \"people\", \"people\", \"people\", \"phone\", \"phone president\", \"political\", \"political\", \"political\", \"political\", \"praise\", \"praise\", \"praise\", \"praising\", \"praising stacey\", \"president\", \"president\", \"president\", \"president\", \"president united\", \"project\", \"pta\", \"pull\", \"pull biden\", \"quite\", \"raphael\", \"raphael\", \"raphael warnock\", \"raphael warnock\", \"really\", \"really\", \"really\", \"really\", \"really day\", \"receiving\", \"receiving lavishing\", \"remarkable\", \"republican\", \"republican\", \"republican\", \"republican\", \"rollout\", \"rollout writing\", \"running\", \"running major\", \"said\", \"said\", \"said\", \"said\", \"saved\", \"saved\", \"saved\", \"saved\", \"saved\", \"saving\", \"seat\", \"seat\", \"seat\", \"secretary\", \"secretary state\", \"senate\", \"senate\", \"senate\", \"senate\", \"shit\", \"shit\", \"shit abrams\", \"signature match\", \"soft boiled\", \"sound\", \"sound like\", \"source cnn\", \"sphere\", \"sphere office\", \"spun\", \"spun block\", \"stacey\", \"stacey\", \"stacey\", \"stacey\", \"stacey\", \"stacey\", \"stacey abrams\", \"stacey abrams\", \"stacey abrams\", \"stacey abrams\", \"stacey abrams\", \"stacey abrams\", \"stacey flip\", \"stacey mother\", \"staceyabrams\", \"staceyabrams\", \"staceyabrams\", \"staceyabrams\", \"staceyabrams\", \"stacy\", \"stacy\", \"stacy\", \"stacy\", \"stacy\", \"stacy abrams\", \"stacy abrams\", \"stacy abrams\", \"stacy abrams\", \"stacy abrams\", \"state\", \"state\", \"state\", \"state\", \"state\", \"state\", \"state listen\", \"state stacey\", \"stole\", \"stole\", \"stole election\", \"stole election\", \"super\", \"super human\", \"talk\", \"talk stacey\", \"tea\", \"tea cat\", \"thank\", \"thank\", \"thank\", \"thank\", \"thank\", \"thank stacey\", \"thank stacey\", \"thing know\", \"think\", \"think\", \"think\", \"throne\", \"throne ending\", \"trust\", \"trust invest\", \"tweet\", \"uk\", \"uk election\", \"united\", \"united state\", \"vaccine\", \"vaccine\", \"vaccine rollout\", \"voter\", \"voter\", \"voter\", \"voter\", \"voting\", \"voting\", \"voting\", \"want\", \"want\", \"want\", \"warnock\", \"warnock\", \"warnock\", \"warnock\", \"warnock\", \"warnock jon\", \"way\", \"way\", \"way make\", \"white\", \"white\", \"white\", \"white englishman\", \"white woman\", \"woman\", \"woman\", \"woman\", \"woman\", \"woman\", \"woman\", \"woman history\", \"woman sphere\", \"work\", \"work\", \"work\", \"work\", \"work\", \"work damn\", \"worked\", \"world\", \"world\", \"world\", \"world\", \"writing\"]}, \"R\": 30, \"lambda.step\": 0.01, \"plot.opts\": {\"xlab\": \"PC1\", \"ylab\": \"PC2\"}, \"topic.order\": [5, 6, 1, 3, 4, 2]};\n",
       "\n",
       "function LDAvis_load_lib(url, callback){\n",
       "  var s = document.createElement('script');\n",
       "  s.src = url;\n",
       "  s.async = true;\n",
       "  s.onreadystatechange = s.onload = callback;\n",
       "  s.onerror = function(){console.warn(\"failed to load library \" + url);};\n",
       "  document.getElementsByTagName(\"head\")[0].appendChild(s);\n",
       "}\n",
       "\n",
       "if(typeof(LDAvis) !== \"undefined\"){\n",
       "   // already loaded: just create the visualization\n",
       "   !function(LDAvis){\n",
       "       new LDAvis(\"#\" + \"ldavis_el19171404168612622881609866720\", ldavis_el19171404168612622881609866720_data);\n",
       "   }(LDAvis);\n",
       "}else if(typeof define === \"function\" && define.amd){\n",
       "   // require.js is available: use it to load d3/LDAvis\n",
       "   require.config({paths: {d3: \"https://cdnjs.cloudflare.com/ajax/libs/d3/3.5.5/d3.min\"}});\n",
       "   require([\"d3\"], function(d3){\n",
       "      window.d3 = d3;\n",
       "      LDAvis_load_lib(\"https://cdn.rawgit.com/bmabey/pyLDAvis/files/ldavis.v1.0.0.js\", function(){\n",
       "        new LDAvis(\"#\" + \"ldavis_el19171404168612622881609866720\", ldavis_el19171404168612622881609866720_data);\n",
       "      });\n",
       "    });\n",
       "}else{\n",
       "    // require.js not available: dynamically load d3 & LDAvis\n",
       "    LDAvis_load_lib(\"https://cdnjs.cloudflare.com/ajax/libs/d3/3.5.5/d3.min.js\", function(){\n",
       "         LDAvis_load_lib(\"https://cdn.rawgit.com/bmabey/pyLDAvis/files/ldavis.v1.0.0.js\", function(){\n",
       "                 new LDAvis(\"#\" + \"ldavis_el19171404168612622881609866720\", ldavis_el19171404168612622881609866720_data);\n",
       "            })\n",
       "         });\n",
       "}\n",
       "</script>"
      ],
      "text/plain": [
       "PreparedData(topic_coordinates=               x          y  topics  cluster       Freq\n",
       "topic                                                  \n",
       "4      1.465019  -47.625065  1       1        20.134456\n",
       "5      54.854797 -36.476795  2       1        19.223290\n",
       "0      32.212929 -61.444572  3       1        17.408729\n",
       "2      5.111096  -14.110332  4       1        15.356375\n",
       "3      26.350170 -33.374702  5       1        14.035973\n",
       "1      38.109818 -7.222781   6       1        13.841177, topic_info=                 Term        Freq       Total Category  logprob  loglift\n",
       "1647  state            204.000000  204.000000  Default  30.0000  30.0000\n",
       "1800  tweet            122.000000  122.000000  Default  29.0000  29.0000\n",
       "306   carrying         99.000000   99.000000   Default  28.0000  28.0000\n",
       "87    abrams tweet     113.000000  113.000000  Default  27.0000  27.0000\n",
       "13    abrams carrying  98.000000   98.000000   Default  26.0000  26.0000\n",
       "...               ...        ...         ...       ...      ...      ...\n",
       "1966  world            23.847048   37.469744   Topic6  -4.9611   1.5256 \n",
       "1618  stacey           53.878456   412.411427  Topic6  -4.1461  -0.0578 \n",
       "1619  stacey abrams    47.495990   402.202694  Topic6  -4.2721  -0.1588 \n",
       "150   american         24.558077   64.515888   Topic6  -4.9318   1.0117 \n",
       "1504  saved            22.333379   47.809608   Topic6  -5.0267   1.2164 \n",
       "\n",
       "[304 rows x 6 columns], token_table=      Topic      Freq                  Term\n",
       "term                                       \n",
       "5     2      0.930168  abrams american     \n",
       "13    4      0.996062  abrams carrying     \n",
       "17    6      0.983825  abrams consequential\n",
       "26    2      0.964208  abrams eliminated   \n",
       "33    3      0.983050  abrams goddess      \n",
       "...  ..           ...                ...   \n",
       "1966  1      0.213506  world               \n",
       "1966  2      0.080065  world               \n",
       "1966  5      0.053376  world               \n",
       "1966  6      0.640517  world               \n",
       "1976  5      0.956810  writing             \n",
       "\n",
       "[421 rows x 3 columns], R=30, lambda_step=0.01, plot_opts={'xlab': 'PC1', 'ylab': 'PC2'}, topic_order=[5, 6, 1, 3, 4, 2])"
      ]
     },
     "execution_count": 21,
     "metadata": {},
     "output_type": "execute_result"
    }
   ],
   "source": [
    "# visualization of LDA model \n",
    "import pyLDAvis.sklearn\n",
    "\n",
    "pyLDAvis.enable_notebook()\n",
    "panel = pyLDAvis.sklearn.prepare(lda_model, doc_term_matrix_1, tfidfconverter, mds='tsne')\n",
    "panel"
   ]
  },
  {
   "cell_type": "code",
   "execution_count": 22,
   "metadata": {},
   "outputs": [
    {
     "name": "stdout",
     "output_type": "stream",
     "text": [
      "Log Likelihood:  -169071.29047048374\n",
      "Perplexity:  966.9105409189247\n"
     ]
    }
   ],
   "source": [
    "# test LDA model\n",
    "\n",
    "# log likelihood (higher score is better)\n",
    "print(\"Log Likelihood: \", lda_model.score(doc_term_matrix_1))\n",
    "\n",
    "# perplexity (lower score is better)\n",
    "print(\"Perplexity: \", lda_model.perplexity(doc_term_matrix_1))"
   ]
  },
  {
   "cell_type": "code",
   "execution_count": 23,
   "metadata": {},
   "outputs": [
    {
     "data": {
      "text/plain": [
       "GridSearchCV(estimator=LatentDirichletAllocation(),\n",
       "             param_grid={'learning_decay': [0.5, 0.7, 0.9],\n",
       "                         'n_components': [5, 8, 10, 12]})"
      ]
     },
     "execution_count": 23,
     "metadata": {},
     "output_type": "execute_result"
    }
   ],
   "source": [
    "# cross-validation to find best parameters for LDA model\n",
    "\n",
    "#import cross-validation tool\n",
    "from sklearn.model_selection import GridSearchCV\n",
    "\n",
    "# define search parameters\n",
    "search_params = {'n_components': [5, 8, 10, 12], 'learning_decay': [.5, .7, .9]}\n",
    "\n",
    "# initialize model for cross-validation\n",
    "lda = LatentDirichletAllocation()\n",
    "\n",
    "# initialize grid search class \n",
    "model = GridSearchCV(lda, param_grid=search_params)\n",
    "\n",
    "# run grid search \n",
    "model.fit(doc_term_matrix_1)"
   ]
  },
  {
   "cell_type": "code",
   "execution_count": 24,
   "metadata": {},
   "outputs": [
    {
     "name": "stdout",
     "output_type": "stream",
     "text": [
      "Parameters for best model:  {'learning_decay': 0.9, 'n_components': 5}\n",
      "Log likelihood score of best model:  -39683.51244595625\n",
      "Perplexity score of best model:  976.449507372202\n"
     ]
    }
   ],
   "source": [
    "# what is best model? \n",
    "best_lda_model = model.best_estimator_\n",
    "\n",
    "# print parameters for best model\n",
    "print(\"Parameters for best model: \", model.best_params_)\n",
    "\n",
    "# print log likelihood score\n",
    "print(\"Log likelihood score of best model: \", model.best_score_)\n",
    "\n",
    "# print perplexity score\n",
    "print(\"Perplexity score of best model: \", best_lda_model.perplexity(doc_term_matrix_1))"
   ]
  },
  {
   "cell_type": "code",
   "execution_count": 27,
   "metadata": {},
   "outputs": [
    {
     "name": "stdout",
     "output_type": "stream",
     "text": [
      "LDA Model:\n",
      "Topic 0:\n",
      "[('stacey', 204.96052899778172), ('stacey abrams', 192.35578751666122), ('carrying', 128.46987865355473), ('carrying democracy', 127.81259238491126), ('abrams carrying', 127.81259238491126), ('democracy', 125.15240996785563), ('thank', 75.95232604573981), ('saving', 69.37350716714845), ('black', 67.34770941130847), ('woman', 65.14144808575594)]\n",
      "Topic 1:\n",
      "[('stole', 95.84988889636267), ('stole election', 93.13224689581352), ('election stacey', 91.2018483521999), ('block', 90.26344415827228), ('spun', 90.04666809958727), ('spun block', 90.04666809958727), ('crazy', 89.49133612848495), ('block em', 89.0559831649791), ('em crazy', 89.0559831649791), ('em', 89.0559831649791)]\n",
      "Topic 2:\n",
      "[('day', 53.70175758723745), ('really', 49.11880549392248), ('good', 41.04132302026038), ('stacey abrams', 38.258305347578755), ('absolutely', 38.100134941319226), ('warnock', 37.420676240449524), ('history', 36.43702872163451), ('stacey', 36.33228624978522), ('georgia', 34.8499043765373), ('raphael warnock', 33.09563624848206)]\n",
      "Topic 3:\n",
      "[('tweet', 127.5157734080766), ('abrams tweet', 119.83382686672813), ('stacy', 86.96238434709967), ('stacy abrams', 85.36397737091252), ('stacey', 78.14387371715928), ('stacey abrams', 74.89653860276316), ('owe', 64.49488803749124), ('fucking', 42.159120623292644), ('mitch', 32.66105480024854), ('mcconnell', 31.290873927793495)]\n",
      "Topic 4:\n",
      "[('state', 175.5109904048657), ('lead', 88.21305232754112), ('follow', 86.39850244411525), ('abrams state', 84.95366039303984), ('follow lead', 83.65359438661152), ('invest', 83.0422753536093), ('state stacey', 82.98276475252585), ('trust', 82.8161404252495), ('invest follow', 82.66834400107876), ('trust invest', 82.66834400107876)]\n",
      "====================\n"
     ]
    }
   ],
   "source": [
    "# top topics of 2nd LDA model\n",
    "\n",
    "def print_topics(model, vectorizer, top_n=10):\n",
    "    for idx, topic in enumerate(model.components_):\n",
    "        print(\"Topic %d:\" % (idx))\n",
    "        print([(vectorizer.get_feature_names()[i], topic[i])\n",
    "                        for i in topic.argsort()[:-top_n - 1:-1]])\n",
    " \n",
    "print(\"LDA Model:\")\n",
    "print_topics(lda_model_2, tfidfconverter )\n",
    "print(\"=\" * 20)"
   ]
  },
  {
   "cell_type": "code",
   "execution_count": 26,
   "metadata": {},
   "outputs": [
    {
     "data": {
      "text/html": [
       "\n",
       "<link rel=\"stylesheet\" type=\"text/css\" href=\"https://cdn.rawgit.com/bmabey/pyLDAvis/files/ldavis.v1.0.0.css\">\n",
       "\n",
       "\n",
       "<div id=\"ldavis_el19171404168540601125883413866\"></div>\n",
       "<script type=\"text/javascript\">\n",
       "\n",
       "var ldavis_el19171404168540601125883413866_data = {\"mdsDat\": {\"x\": [150.22215270996094, 51.16336441040039, -73.1445541381836, -66.4101333618164, 54.41732406616211], \"y\": [-72.2695541381836, -159.968017578125, 21.523815155029297, -110.60643768310547, 12.44344425201416], \"topics\": [1, 2, 3, 4, 5], \"cluster\": [1, 1, 1, 1, 1], \"Freq\": [26.402080494273182, 21.01158395790856, 19.28479593684381, 17.020860640763022, 16.280678970211433]}, \"tinfo\": {\"Term\": [\"tweet\", \"abrams tweet\", \"state\", \"stole\", \"stole election\", \"election stacey\", \"block\", \"spun block\", \"spun\", \"crazy\", \"carrying\", \"abrams spun\", \"em\", \"block em\", \"em crazy\", \"carrying democracy\", \"abrams carrying\", \"lead\", \"follow\", \"abrams state\", \"follow lead\", \"invest\", \"state stacey\", \"trust\", \"invest follow\", \"listen trust\", \"trust invest\", \"state listen\", \"stacy\", \"stacy abrams\", \"carrying\", \"carrying democracy\", \"abrams carrying\", \"saving\", \"know\", \"thank stacey\", \"party\", \"politician\", \"think\", \"supporter\", \"say\", \"possible\", \"mother\", \"thing know\", \"ga\", \"mother abrams\", \"stacey mother\", \"flipped\", \"biden victory\", \"fight\", \"lauded\", \"novelist\", \"credit\", \"lawyer\", \"politician lawyer\", \"entrepreneur\", \"romance novelist\", \"boosting\", \"boosting joe\", \"novelist lauded\", \"democrat supporter\", \"entrepreneur romance\", \"supporter boosting\", \"lawyer entrepreneur\", \"victory thing\", \"lauded democrat\", \"democracy\", \"black woman\", \"georgia politician\", \"time\", \"world\", \"want\", \"people\", \"black\", \"organizer\", \"thank\", \"year\", \"staceyabrams\", \"stacey\", \"stacey abrams\", \"woman\", \"let\", \"like\", \"georgia\", \"thing\", \"american\", \"victory\", \"work\", \"democrat\", \"hero\", \"voter\", \"stole\", \"stole election\", \"election stacey\", \"block\", \"spun\", \"spun block\", \"crazy\", \"abrams spun\", \"em\", \"block em\", \"em crazy\", \"queen\", \"goddess\", \"abrams goddess\", \"got\", \"building\", \"spent\", \"flip\", \"senate seat\", \"decade\", \"abrams spent\", \"georgia senate\", \"spent decade\", \"infrastructure\", \"responsible shifting\", \"political landscape\", \"landscape\", \"infrastructure georgia\", \"democratic infrastructure\", \"shifting political\", \"seat person\", \"shifting\", \"decade building\", \"person responsible\", \"building democratic\", \"election\", \"seat\", \"democratic\", \"person\", \"responsible\", \"georgia\", \"stacey abrams\", \"stacey\", \"senate\", \"lead\", \"follow\", \"abrams state\", \"follow lead\", \"invest\", \"state stacey\", \"trust\", \"trust invest\", \"listen trust\", \"invest follow\", \"state listen\", \"happen\", \"human\", \"super\", \"believing\", \"abrams super\", \"believe happen\", \"happen work\", \"believing stacey\", \"super human\", \"human believe\", \"instead believing\", \"talk\", \"talk stacey\", \"abrams way\", \"sound\", \"asking\", \"sound like\", \"dad\", \"like dad\", \"make sound\", \"way make\", \"asking talk\", \"state\", \"listen\", \"instead\", \"believe\", \"way\", \"stacey abrams\", \"stacey\", \"tweet\", \"abrams tweet\", \"owe\", \"mitch\", \"mcconnell\", \"better\", \"mitch mcconnell\", \"love\", \"determined\", \"pessimistic\", \"fucking abrams\", \"optimistic\", \"determined stacey\", \"optimistic pessimistic\", \"pessimistic determined\", \"stacey fucking\", \"pundit\", \"morning\", \"fuck\", \"fact\", \"suppression\", \"justice\", \"kind\", \"yes\", \"voter suppression\", \"race\", \"making\", \"hell\", \"forget\", \"john ossoff\", \"fucking\", \"man\", \"stacy\", \"stacy abrams\", \"going\", \"stacey\", \"stacey abrams\", \"american\", \"win\", \"day\", \"really\", \"history\", \"important\", \"warnock jon\", \"far\", \"tea\", \"abrams raphael\", \"uk\", \"election georgia\", \"quite\", \"cat\", \"egg\", \"boiled egg\", \"boiled\", \"tea cat\", \"consequential\", \"happiness\", \"cat happiness\", \"argument\", \"frankly\", \"happiness far\", \"absolutely quite\", \"georgia absolutely\", \"quite frankly\", \"white englishman\", \"ossoff really\", \"egg cup\", \"far important\", \"frankly soft\", \"englishman uk\", \"important stacey\", \"cup tea\", \"really day\", \"soft boiled\", \"soft\", \"uk election\", \"englishman\", \"cup\", \"absolutely\", \"good\", \"warnock\", \"raphael\", \"raphael warnock\", \"georgia\", \"stacey abrams\", \"stacey\", \"ossoff\", \"jon ossoff\", \"jon\"], \"Freq\": [124.0, 117.0, 184.0, 95.0, 93.0, 91.0, 90.0, 90.0, 90.0, 89.0, 105.0, 89.0, 89.0, 89.0, 89.0, 105.0, 105.0, 80.0, 78.0, 77.0, 76.0, 75.0, 75.0, 75.0, 75.0, 75.0, 75.0, 75.0, 125.0, 124.0, 105.0040278611228, 104.46679916293516, 104.46679916293516, 56.70198925809833, 47.97385080575053, 27.919949981916425, 26.141704095828995, 23.684978192813926, 23.478419102342677, 23.458857054051506, 22.780746366773506, 22.572525195702227, 22.099956167034215, 21.85275653466228, 21.943013599878388, 21.635765502858156, 21.635765502858156, 21.46898268565629, 21.05730784855189, 20.509828251698096, 20.458802085301087, 20.42877859954172, 20.374597478951546, 20.18725156396584, 20.18225677332768, 20.18225677332768, 20.18225677332768, 20.18225677332768, 20.18225677332768, 20.18225677332768, 20.18225677332768, 20.18225677332768, 20.18225677332768, 20.18225677332768, 20.18225677332768, 20.18225677332768, 102.29251619821432, 41.563775767775454, 20.18225677332768, 31.188949953358645, 29.42840983540206, 40.01110523559422, 44.73119076724996, 55.046216510240015, 29.60219061832197, 62.07914449527092, 36.635193616482084, 52.24718275257569, 167.52316825449137, 157.22076399025875, 53.24294302601753, 27.490363161246854, 44.07558694129129, 52.75365376258049, 28.766454939885328, 31.355937305494972, 26.59484035048777, 33.73847136226377, 28.943594269218547, 25.57835592655893, 27.292793417752804, 95.14607365122524, 92.4483869984896, 90.53216316013467, 89.60064956551177, 89.38546526970347, 89.38546526970347, 88.83421104049397, 88.40205482615768, 88.40205482615768, 88.40205482615768, 88.40205482615768, 68.05142974817393, 37.16240882149646, 37.15652857546001, 34.76740730463375, 33.89139734954046, 31.93459806218788, 32.11131140785814, 31.231541185427922, 30.346729308915236, 29.50937624749743, 29.033974918566653, 28.653114608864808, 28.282836019349936, 28.19075931456179, 28.19075931456179, 28.19075931456179, 28.19075931456179, 28.19075931456179, 28.19075931456179, 28.19075931456179, 28.19075931456179, 28.19075931456179, 28.19075931456179, 28.19075931456179, 81.58880484045814, 34.21198125085261, 33.58683013880194, 34.64222180486505, 29.383721478568035, 56.968547179403785, 66.09481617377024, 63.23778759044433, 36.046402180372304, 79.57119119790133, 77.93440512256981, 76.63110816068705, 75.45840414424183, 74.90697346165621, 74.85329286346615, 74.70299201961032, 74.5696745885074, 74.5696745885074, 74.5696745885074, 74.49046625592182, 52.011424395028286, 50.38402318939265, 45.08724329260822, 44.43374338832413, 44.17315754489689, 44.079256409107415, 44.079256409107415, 44.079256409107415, 44.079256409107415, 44.079256409107415, 44.079256409107415, 43.34297336236469, 39.92450601708784, 39.928939115353714, 38.527598895510714, 37.364820299951226, 37.157826636331464, 36.967270962898404, 36.89590624407491, 36.89590624407491, 36.89590624407491, 36.89590624407491, 158.31691803366346, 69.71428046391708, 46.04670087763309, 45.92764650071129, 43.556839969653964, 64.85867777414309, 62.10015301682264, 123.75783060721261, 116.30227422082402, 62.59419690167864, 31.698519950834815, 30.36871887774032, 27.96458856270715, 25.51829715392362, 25.43205437831777, 24.259903377273467, 23.6171906840119, 23.403277575692368, 23.103669033102893, 23.064090977749032, 23.064090977749032, 23.064090977749032, 22.97305646408909, 22.82633109590609, 22.70579414064063, 19.182346583177765, 18.629651789352675, 18.37314215112674, 17.716499056005105, 17.7485741892767, 17.46017858867023, 16.341620657311463, 16.16342365414134, 15.689050691416142, 14.93501467298836, 14.685773518361199, 14.636545569111156, 40.91667382943566, 23.457511652616624, 84.39956676407546, 82.84826550531035, 24.034235812637846, 75.84094130481175, 72.6893065048864, 24.98349998442232, 18.43933021016046, 57.56045886498925, 52.648202035798136, 39.055185288619285, 35.41395233845183, 32.38153656400994, 32.07299333769539, 31.788886841871506, 31.15348017213133, 31.16318493014132, 30.916910855424607, 30.750848781198485, 30.442369688915786, 30.265391345487668, 30.11739935473816, 30.11739935473816, 30.11739935473816, 29.994773238602733, 29.844981836931556, 29.844981836931556, 29.84711795162571, 29.78737902023653, 29.519091249184516, 29.519091249184516, 29.519091249184516, 29.519091249184516, 29.519091249184516, 29.519091249184516, 29.519091249184516, 29.519091249184516, 29.519091249184516, 29.519091249184516, 29.519091249184516, 29.519091249184516, 29.519091249184516, 29.519091249184516, 29.519091249184516, 29.519091249184516, 29.519091249184516, 29.519091249184516, 40.83779281297749, 43.990317851977764, 40.10951209444912, 35.473699455679146, 35.473699455679146, 37.3540192619546, 41.00732844034258, 38.94291662157418, 31.668441376583502, 30.110279855081266, 30.110279855081266], \"Total\": [124.0, 117.0, 184.0, 95.0, 93.0, 91.0, 90.0, 90.0, 90.0, 89.0, 105.0, 89.0, 89.0, 89.0, 89.0, 105.0, 105.0, 80.0, 78.0, 77.0, 76.0, 75.0, 75.0, 75.0, 75.0, 75.0, 75.0, 75.0, 125.0, 124.0, 105.79153840172951, 105.2543030417658, 105.2543030417658, 57.60503470105606, 48.76832303754546, 28.71090773167745, 26.932031111767675, 24.475335782139524, 24.273351719312902, 24.25644129943747, 23.5755566742997, 23.364282328217424, 22.887554449200714, 22.640972269889158, 22.737368059686435, 22.423298156217307, 22.423298156217307, 22.257103623008867, 21.845482554952287, 21.298880277873913, 21.24685644560645, 21.21645818896666, 21.163719686003013, 20.97494740848699, 20.96982325688221, 20.96982325688221, 20.96982325688221, 20.96982325688221, 20.96982325688221, 20.96982325688221, 20.96982325688221, 20.96982325688221, 20.96982325688221, 20.96982325688221, 20.96982325688221, 20.96982325688221, 113.33807112092764, 44.74655711901399, 20.96982325688221, 33.70735945461202, 32.28030631392624, 46.55866699095905, 54.21909444346645, 73.77631509483005, 34.09698360172578, 88.41895452570478, 46.035432296501945, 76.17897607720602, 407.64496678814425, 401.87089288340104, 92.67637453016307, 33.906851493522055, 88.63545994017333, 175.21954880558627, 43.112704792036894, 56.934266289330274, 38.00624763346376, 89.52844762732663, 53.105174244066255, 33.95904837825092, 61.52475858437937, 95.89909516711715, 93.20089706190116, 91.28512786026943, 90.35322335920608, 90.13794156786477, 90.13794156786477, 89.58729091524994, 89.15444020782734, 89.15444020782734, 89.15444020782734, 89.15444020782734, 68.8569133263454, 37.91494389930549, 37.90901893756225, 35.538413477236276, 34.65694789774922, 32.693535250648836, 32.880443179648246, 31.984608106885315, 31.10356177967512, 30.264222798423745, 29.786591018651738, 29.40563685068299, 29.0357026797034, 28.943129117931623, 28.943129117931623, 28.943129117931623, 28.943129117931623, 28.943129117931623, 28.943129117931623, 28.943129117931623, 28.943129117931623, 28.943129117931623, 28.943129117931623, 28.943129117931623, 136.18283739249654, 40.597239221622324, 39.99416396438894, 45.14820616687752, 31.998392111904767, 175.21954880558627, 401.87089288340104, 407.64496678814425, 71.84850240918001, 80.34370806358442, 78.70623416065699, 77.40183922695013, 76.22904307563556, 75.67750364413818, 75.62446238376873, 75.47381496832686, 75.34018034957136, 75.34018034957136, 75.34018034957136, 75.26097117923742, 52.788323239235815, 51.170097999699315, 45.85921438781533, 45.20480329389404, 44.944156046848235, 44.84979182401452, 44.84979182401452, 44.84979182401452, 44.84979182401452, 44.84979182401452, 44.84979182401452, 44.121678130504094, 40.69760140070093, 40.70493784619643, 39.2989728637567, 38.13692067386651, 37.92874445426495, 37.737865525451504, 37.666418993640335, 37.666418993640335, 37.666418993640335, 37.666418993640335, 184.3490993417294, 83.24287242198884, 50.403063231638015, 52.45046445271211, 56.839688419091054, 401.87089288340104, 407.64496678814425, 124.51766957699199, 117.05913672207801, 63.36282823062902, 32.45893544736985, 31.12951685731746, 28.72855136250615, 26.276074749127726, 26.19718120118388, 25.01783621418793, 24.37409242127734, 24.160136687301236, 23.860671461304168, 23.820904426249456, 23.820904426249456, 23.820904426249456, 23.7298619728805, 23.583129073358034, 23.46763940905072, 19.947415598666783, 19.391647157126886, 19.137251120426832, 18.475348889809148, 18.51585950931497, 18.22556907172591, 17.10545143754893, 16.928876198894258, 16.463087226392442, 15.695673804108559, 15.443953455853023, 15.393532720520927, 44.31411306976406, 26.7045347541627, 125.64148165340029, 124.2347166783256, 34.50242070882379, 407.64496678814425, 401.87089288340104, 56.934266289330274, 32.547465400294655, 58.3050288561447, 53.39698129713004, 39.800680256659966, 36.154645843631044, 33.118309872565725, 32.81215689581017, 32.52723385394979, 31.890281239745814, 31.900387951793896, 31.653872531502664, 31.489134714338718, 31.178920798853813, 31.001996772683125, 30.85393849746711, 30.85393849746711, 30.85393849746711, 30.731489506757367, 30.581516943475357, 30.581516943475357, 30.583716376628644, 30.524445235912754, 30.25561409674298, 30.25561409674298, 30.25561409674298, 30.25561409674298, 30.25561409674298, 30.25561409674298, 30.25561409674298, 30.25561409674298, 30.25561409674298, 30.25561409674298, 30.25561409674298, 30.25561409674298, 30.25561409674298, 30.25561409674298, 30.25561409674298, 30.25561409674298, 30.25561409674298, 30.25561409674298, 43.34216782921948, 55.00639916558748, 65.9747552983616, 56.09819171292855, 56.09819171292855, 175.21954880558627, 401.87089288340104, 407.64496678814425, 59.60736743521421, 42.34020032640426, 42.34020032640426], \"Category\": [\"Default\", \"Default\", \"Default\", \"Default\", \"Default\", \"Default\", \"Default\", \"Default\", \"Default\", \"Default\", \"Default\", \"Default\", \"Default\", \"Default\", \"Default\", \"Default\", \"Default\", \"Default\", \"Default\", \"Default\", \"Default\", \"Default\", \"Default\", \"Default\", \"Default\", \"Default\", \"Default\", \"Default\", \"Default\", \"Default\", \"Topic1\", \"Topic1\", \"Topic1\", \"Topic1\", \"Topic1\", \"Topic1\", \"Topic1\", \"Topic1\", \"Topic1\", \"Topic1\", \"Topic1\", \"Topic1\", \"Topic1\", \"Topic1\", \"Topic1\", \"Topic1\", \"Topic1\", \"Topic1\", \"Topic1\", \"Topic1\", \"Topic1\", \"Topic1\", \"Topic1\", \"Topic1\", \"Topic1\", \"Topic1\", \"Topic1\", \"Topic1\", \"Topic1\", \"Topic1\", \"Topic1\", \"Topic1\", \"Topic1\", \"Topic1\", \"Topic1\", \"Topic1\", \"Topic1\", \"Topic1\", \"Topic1\", \"Topic1\", \"Topic1\", \"Topic1\", \"Topic1\", \"Topic1\", \"Topic1\", \"Topic1\", \"Topic1\", \"Topic1\", \"Topic1\", \"Topic1\", \"Topic1\", \"Topic1\", \"Topic1\", \"Topic1\", \"Topic1\", \"Topic1\", \"Topic1\", \"Topic1\", \"Topic1\", \"Topic1\", \"Topic1\", \"Topic2\", \"Topic2\", \"Topic2\", \"Topic2\", \"Topic2\", \"Topic2\", \"Topic2\", \"Topic2\", \"Topic2\", \"Topic2\", \"Topic2\", \"Topic2\", \"Topic2\", \"Topic2\", \"Topic2\", \"Topic2\", \"Topic2\", \"Topic2\", \"Topic2\", \"Topic2\", \"Topic2\", \"Topic2\", \"Topic2\", \"Topic2\", \"Topic2\", \"Topic2\", \"Topic2\", \"Topic2\", \"Topic2\", \"Topic2\", \"Topic2\", \"Topic2\", \"Topic2\", \"Topic2\", \"Topic2\", \"Topic2\", \"Topic2\", \"Topic2\", \"Topic2\", \"Topic2\", \"Topic2\", \"Topic2\", \"Topic2\", \"Topic2\", \"Topic3\", \"Topic3\", \"Topic3\", \"Topic3\", \"Topic3\", \"Topic3\", \"Topic3\", \"Topic3\", \"Topic3\", \"Topic3\", \"Topic3\", \"Topic3\", \"Topic3\", \"Topic3\", \"Topic3\", \"Topic3\", \"Topic3\", \"Topic3\", \"Topic3\", \"Topic3\", \"Topic3\", \"Topic3\", \"Topic3\", \"Topic3\", \"Topic3\", \"Topic3\", \"Topic3\", \"Topic3\", \"Topic3\", \"Topic3\", \"Topic3\", \"Topic3\", \"Topic3\", \"Topic3\", \"Topic3\", \"Topic3\", \"Topic3\", \"Topic3\", \"Topic3\", \"Topic3\", \"Topic4\", \"Topic4\", \"Topic4\", \"Topic4\", \"Topic4\", \"Topic4\", \"Topic4\", \"Topic4\", \"Topic4\", \"Topic4\", \"Topic4\", \"Topic4\", \"Topic4\", \"Topic4\", \"Topic4\", \"Topic4\", \"Topic4\", \"Topic4\", \"Topic4\", \"Topic4\", \"Topic4\", \"Topic4\", \"Topic4\", \"Topic4\", \"Topic4\", \"Topic4\", \"Topic4\", \"Topic4\", \"Topic4\", \"Topic4\", \"Topic4\", \"Topic4\", \"Topic4\", \"Topic4\", \"Topic4\", \"Topic4\", \"Topic4\", \"Topic4\", \"Topic4\", \"Topic5\", \"Topic5\", \"Topic5\", \"Topic5\", \"Topic5\", \"Topic5\", \"Topic5\", \"Topic5\", \"Topic5\", \"Topic5\", \"Topic5\", \"Topic5\", \"Topic5\", \"Topic5\", \"Topic5\", \"Topic5\", \"Topic5\", \"Topic5\", \"Topic5\", \"Topic5\", \"Topic5\", \"Topic5\", \"Topic5\", \"Topic5\", \"Topic5\", \"Topic5\", \"Topic5\", \"Topic5\", \"Topic5\", \"Topic5\", \"Topic5\", \"Topic5\", \"Topic5\", \"Topic5\", \"Topic5\", \"Topic5\", \"Topic5\", \"Topic5\", \"Topic5\", \"Topic5\", \"Topic5\", \"Topic5\", \"Topic5\", \"Topic5\", \"Topic5\", \"Topic5\", \"Topic5\", \"Topic5\", \"Topic5\", \"Topic5\"], \"logprob\": [30.0, 29.0, 28.0, 27.0, 26.0, 25.0, 24.0, 23.0, 22.0, 21.0, 20.0, 19.0, 18.0, 17.0, 16.0, 15.0, 14.0, 13.0, 12.0, 11.0, 10.0, 9.0, 8.0, 7.0, 6.0, 5.0, 4.0, 3.0, 2.0, 1.0, -4.1246, -4.1297, -4.1297, -4.7408, -4.9079, -5.4492, -5.5151, -5.6137, -5.6225, -5.6233, -5.6527, -5.6619, -5.683, -5.6943, -5.6901, -5.7042, -5.7042, -5.712, -5.7313, -5.7577, -5.7602, -5.7616, -5.7643, -5.7735, -5.7738, -5.7738, -5.7738, -5.7738, -5.7738, -5.7738, -5.7738, -5.7738, -5.7738, -5.7738, -5.7738, -5.7738, -4.1508, -5.0514, -5.7738, -5.3385, -5.3966, -5.0894, -4.9779, -4.7704, -5.3907, -4.6502, -5.1776, -4.8226, -3.6575, -3.7209, -4.8037, -5.4648, -4.9927, -4.813, -5.4194, -5.3332, -5.4979, -5.2599, -5.4132, -5.5368, -5.472, -3.9948, -4.0236, -4.0445, -4.0549, -4.0573, -4.0573, -4.0634, -4.0683, -4.0683, -4.0683, -4.0683, -4.33, -4.9349, -4.9351, -5.0015, -5.0271, -5.0865, -5.081, -5.1088, -5.1375, -5.1655, -5.1818, -5.195, -5.208, -5.2112, -5.2112, -5.2112, -5.2112, -5.2112, -5.2112, -5.2112, -5.2112, -5.2112, -5.2112, -5.2112, -4.1485, -5.0176, -5.0361, -5.0051, -5.1698, -4.5077, -4.3591, -4.4033, -4.9654, -4.0878, -4.1086, -4.1255, -4.1409, -4.1482, -4.1489, -4.1509, -4.1527, -4.1527, -4.1527, -4.1538, -4.513, -4.5448, -4.6559, -4.6705, -4.6763, -4.6785, -4.6785, -4.6785, -4.6785, -4.6785, -4.6785, -4.6953, -4.7775, -4.7774, -4.8131, -4.8437, -4.8493, -4.8544, -4.8564, -4.8564, -4.8564, -4.8564, -3.3999, -4.2201, -4.6348, -4.6374, -4.6904, -4.2923, -4.3357, -3.5213, -3.5834, -4.2029, -4.8833, -4.9262, -5.0086, -5.1002, -5.1036, -5.1508, -5.1776, -5.1867, -5.1996, -5.2013, -5.2013, -5.2013, -5.2053, -5.2117, -5.217, -5.3856, -5.4148, -5.4287, -5.4651, -5.4633, -5.4797, -5.5459, -5.5568, -5.5866, -5.6359, -5.6527, -5.6561, -4.628, -5.1844, -3.904, -3.9226, -5.1601, -4.0109, -4.0534, -5.1214, -5.4251, -4.2423, -4.3315, -4.6301, -4.728, -4.8175, -4.8271, -4.836, -4.8562, -4.8559, -4.8638, -4.8692, -4.8793, -4.8851, -4.89, -4.89, -4.89, -4.8941, -4.8991, -4.8991, -4.899, -4.901, -4.9101, -4.9101, -4.9101, -4.9101, -4.9101, -4.9101, -4.9101, -4.9101, -4.9101, -4.9101, -4.9101, -4.9101, -4.9101, -4.9101, -4.9101, -4.9101, -4.9101, -4.9101, -4.5855, -4.5112, -4.6035, -4.7263, -4.7263, -4.6747, -4.5814, -4.633, -4.8398, -4.8903, -4.8903], \"loglift\": [30.0, 29.0, 28.0, 27.0, 26.0, 25.0, 24.0, 23.0, 22.0, 21.0, 20.0, 19.0, 18.0, 17.0, 16.0, 15.0, 14.0, 13.0, 12.0, 11.0, 10.0, 9.0, 8.0, 7.0, 6.0, 5.0, 4.0, 3.0, 2.0, 1.0, 1.3243, 1.3242, 1.3242, 1.3159, 1.3153, 1.3038, 1.3019, 1.2989, 1.2984, 1.2983, 1.2974, 1.2973, 1.2967, 1.2963, 1.2962, 1.296, 1.296, 1.2957, 1.295, 1.294, 1.2939, 1.2939, 1.2937, 1.2934, 1.2934, 1.2934, 1.2934, 1.2934, 1.2934, 1.2934, 1.2934, 1.2934, 1.2934, 1.2934, 1.2934, 1.2934, 1.2292, 1.2579, 1.2934, 1.2541, 1.2392, 1.1802, 1.1394, 1.0389, 1.1904, 0.9781, 1.1033, 0.9546, 0.4425, 0.3932, 0.7775, 1.1219, 0.6331, 0.1313, 0.9271, 0.7352, 0.9747, 0.3558, 0.7248, 1.0483, 0.5189, 1.5522, 1.552, 1.5518, 1.5517, 1.5517, 1.5517, 1.5517, 1.5516, 1.5516, 1.5516, 1.5516, 1.5483, 1.54, 1.54, 1.5382, 1.5378, 1.5366, 1.5364, 1.5363, 1.5355, 1.5348, 1.5345, 1.5342, 1.5338, 1.5338, 1.5338, 1.5338, 1.5338, 1.5338, 1.5338, 1.5338, 1.5338, 1.5338, 1.5338, 1.5338, 1.0478, 1.389, 1.3855, 1.2952, 1.4749, 0.4366, -0.2449, -0.3034, 0.8703, 1.6362, 1.636, 1.6358, 1.6357, 1.6356, 1.6356, 1.6356, 1.6356, 1.6356, 1.6356, 1.6356, 1.631, 1.6304, 1.6289, 1.6286, 1.6285, 1.6285, 1.6285, 1.6285, 1.6285, 1.6285, 1.6285, 1.628, 1.6267, 1.6266, 1.626, 1.6254, 1.6253, 1.6252, 1.6252, 1.6252, 1.6252, 1.6252, 1.4936, 1.4685, 1.5555, 1.5131, 1.3797, -0.1781, -0.2358, 1.7646, 1.7642, 1.7585, 1.747, 1.746, 1.7438, 1.7415, 1.7411, 1.74, 1.7392, 1.7389, 1.7385, 1.7384, 1.7384, 1.7384, 1.7383, 1.7381, 1.7377, 1.7316, 1.7306, 1.73, 1.7288, 1.7284, 1.7278, 1.725, 1.7245, 1.7226, 1.7211, 1.7204, 1.7203, 1.691, 1.6411, 1.3729, 1.3656, 1.4092, 0.089, 0.0608, 0.947, 1.2025, 1.8023, 1.8011, 1.7963, 1.7945, 1.7927, 1.7924, 1.7922, 1.7918, 1.7918, 1.7916, 1.7915, 1.7913, 1.7911, 1.791, 1.791, 1.791, 1.7909, 1.7908, 1.7908, 1.7908, 1.7907, 1.7905, 1.7905, 1.7905, 1.7905, 1.7905, 1.7905, 1.7905, 1.7905, 1.7905, 1.7905, 1.7905, 1.7905, 1.7905, 1.7905, 1.7905, 1.7905, 1.7905, 1.7905, 1.7557, 1.5917, 1.3175, 1.3569, 1.3569, 0.2696, -0.4672, -0.5331, 1.1827, 1.4743, 1.4743]}, \"token.table\": {\"Topic\": [1, 2, 5, 2, 2, 3, 3, 4, 3, 4, 5, 5, 1, 4, 5, 3, 3, 2, 3, 3, 3, 3, 4, 1, 1, 2, 4, 5, 1, 4, 2, 2, 5, 5, 1, 1, 2, 2, 1, 1, 5, 5, 5, 2, 1, 5, 5, 3, 5, 2, 2, 1, 4, 1, 2, 4, 1, 1, 2, 2, 4, 4, 5, 5, 1, 2, 3, 4, 5, 5, 2, 2, 2, 5, 5, 1, 1, 4, 5, 5, 1, 2, 1, 3, 3, 4, 5, 5, 4, 4, 5, 4, 1, 1, 2, 3, 4, 5, 5, 1, 2, 2, 4, 5, 2, 4, 5, 2, 3, 3, 5, 5, 4, 1, 4, 5, 3, 3, 5, 5, 2, 2, 2, 3, 3, 3, 3, 4, 2, 5, 2, 5, 4, 4, 1, 2, 1, 1, 1, 1, 3, 1, 4, 1, 3, 4, 3, 1, 3, 5, 3, 4, 3, 4, 4, 5, 4, 4, 4, 4, 1, 1, 1, 1, 4, 4, 1, 4, 2, 4, 5, 5, 4, 1, 1, 4, 5, 1, 2, 4, 2, 4, 4, 2, 1, 1, 1, 4, 2, 5, 5, 4, 2, 4, 5, 2, 4, 5, 5, 5, 1, 2, 2, 1, 1, 1, 2, 4, 2, 1, 2, 4, 5, 2, 2, 2, 5, 5, 3, 3, 2, 2, 2, 2, 1, 2, 3, 4, 5, 1, 2, 3, 4, 5, 4, 1, 1, 2, 4, 2, 4, 5, 2, 4, 5, 2, 3, 4, 5, 3, 3, 2, 2, 3, 3, 1, 1, 4, 3, 3, 5, 5, 1, 2, 1, 1, 4, 1, 1, 1, 4, 3, 3, 4, 5, 5, 1, 2, 4, 1, 1, 3, 4, 5, 4, 1, 3, 4, 2, 4, 5, 5, 1, 3, 4, 3, 5, 1, 2, 4, 1, 2, 4, 5, 1, 2, 3, 4, 5, 1, 5, 1, 3, 4, 4], \"Freq\": [0.9880831186420181, 0.976021037657043, 0.9720829918979758, 0.9912694669153207, 0.9870512314907005, 0.9948084020875538, 0.9789926849251751, 0.9909521225618414, 0.982681760899377, 0.046144438549556896, 0.9459609902659164, 0.9915515151691964, 0.5444875647024809, 0.4391028747600653, 0.9809141449835473, 0.9701884511445207, 0.9823073440097172, 0.11439364860933565, 0.8770179726715733, 0.9810524912278522, 0.973347892124181, 0.9810524912278522, 0.9746401636019494, 0.9612971444862581, 0.7454967075721322, 0.040663456776661756, 0.20331728388330877, 0.013554485592220585, 0.9386196995735587, 0.0670442642552542, 0.9960906390931753, 0.9870512314907005, 0.9723231931139938, 0.9723231931139938, 0.95375148159325, 0.95375148159325, 0.9810442656494894, 0.9674144038093203, 0.9925179422316013, 0.9880831186420181, 0.9621885309482183, 0.9809846926641935, 0.9761973949685542, 0.9934444840417653, 0.9450134615621157, 0.9915515151691964, 0.9915515151691964, 0.9804476083854328, 0.9947683954175326, 0.9645197618365287, 0.9674144038093203, 0.8999623779653854, 0.08823160568288091, 0.5460861472126765, 0.33895002240786815, 0.11298334080262272, 0.95375148159325, 0.1500218883270679, 0.8501240338533846, 0.9674144038093203, 0.9593155776753106, 0.9655384862152899, 0.9676796052838114, 0.9915515151691964, 0.05140148446037363, 0.602131675107234, 0.04405841525174883, 0.11014603812937207, 0.19826286863286974, 0.9793430478102825, 0.9968765135465891, 0.9870512314907005, 0.9870512314907005, 0.9915515151691964, 0.9915515151691964, 0.95375148159325, 0.95375148159325, 0.9798033063435281, 0.9752482929302988, 0.9915515151691964, 0.9859673243863246, 0.9732228919531959, 0.9435189931133131, 0.9910269603394388, 0.9838769709542846, 0.9712538983543251, 0.9828188446387969, 0.9915515151691964, 0.9525043435336001, 0.9252131467790717, 0.06769852293505403, 0.9519813690494966, 0.9675702105120163, 0.30247766508522295, 0.32530616811052276, 0.09131401210119938, 0.06848550907589954, 0.21116365298402356, 0.9915515151691964, 0.95375148159325, 0.9735924457364326, 0.975868515017841, 0.6956033665737007, 0.2898347360723753, 0.1272579210089299, 0.0727188120051028, 0.7999069320561308, 0.9848498167319385, 0.9850663330285535, 0.9810524912278522, 0.9809846926641935, 0.9915515151691964, 0.9556773533400996, 0.7656280503034268, 0.23557786163182365, 0.979882749453108, 0.977133168677805, 0.9810524912278522, 0.968063693705509, 0.9915515151691964, 0.964330028753622, 0.9674144038093203, 0.07936025597525984, 0.912642943715488, 0.9810524912278522, 0.9910474895244425, 0.995484742032831, 0.9744351912153139, 0.2834185929091257, 0.7085464822728142, 0.2834185929091257, 0.7085464822728142, 0.9742711819601227, 0.9721395861177574, 0.9842454488961216, 0.9674144038093203, 0.9413157212786514, 0.95375148159325, 0.9535184813816266, 0.95375148159325, 0.9957220288698599, 0.7962992377855662, 0.17695538617457027, 0.49641531763584096, 0.39487582084669165, 0.10153949678914928, 0.9823073440097172, 0.13214344579842152, 0.8409128368990461, 0.02402608105425846, 0.995484742032831, 0.954301144386871, 0.9823073440097172, 0.971871179443789, 0.8612769408542031, 0.1123404705462004, 0.9637155673666696, 0.9858610443921062, 0.9894933032515867, 0.9800730102887824, 0.9612210884666313, 0.9811223954090831, 0.9426644080679186, 0.95375148159325, 0.9639292857830948, 0.9655384862152899, 0.8798432245625851, 0.11731242994167802, 0.23487029544152002, 0.23487029544152002, 0.5368463895806171, 0.9915515151691964, 0.994273799942951, 0.9653932112323889, 0.8299659089091006, 0.12910580805252675, 0.03688737372929336, 0.19934346819304527, 0.7752245985285094, 0.044298548487343395, 0.9674144038093203, 0.9846520471486038, 0.9655384862152899, 0.9674144038093203, 0.9805789883182566, 0.95375148159325, 0.9844085804519886, 0.975273464706734, 0.987555159170669, 0.9844665558842433, 0.9915515151691964, 0.945130663844365, 0.19608475182748017, 0.16043297876793833, 0.6239060285419824, 0.19608475182748017, 0.16043297876793833, 0.6239060285419824, 0.9925654730382413, 0.9915515151691964, 0.06250314056423838, 0.9062955381814564, 0.9674144038093203, 0.95375148159325, 0.9894968433888476, 0.9755867196583684, 0.8374953728846518, 0.1477933010972915, 0.9674144038093203, 0.2505271424794535, 0.501054284958907, 0.1809362695684942, 0.05567269832876744, 0.9692161897499266, 0.9674144038093203, 0.9674144038093203, 0.9915515151691964, 0.9915515151691964, 0.9923923491641068, 0.9755134405942478, 0.9787867771003728, 0.9862054730274081, 0.9873755540888626, 0.9873755540888626, 0.41212332712870386, 0.15454624767326394, 0.15209313263083118, 0.18643674322488984, 0.09567148665487768, 0.3906727329106466, 0.1642318495038387, 0.16174348814771994, 0.18165037899667008, 0.1020228156008695, 0.9692428900886733, 0.9811223954090831, 0.6826030314098596, 0.19690472059899797, 0.10501585098613224, 0.15122394093070451, 0.6685690020094305, 0.16714225050235762, 0.16098559673770535, 0.6680902264614772, 0.1690348765745906, 0.07594287170369131, 0.8570695520845162, 0.048820417523801556, 0.016273472507933852, 0.9832453506846948, 0.9917425874633027, 0.990624570903924, 0.9871149624117506, 0.9812640840170254, 0.9810524912278522, 0.9482017463350402, 0.95375148159325, 0.9405739563498257, 0.9745776185759216, 0.9828589062575831, 0.9837910024468384, 0.9723231931139938, 0.7012071148384323, 0.29405459654514904, 0.9752391063939406, 0.6726555464308616, 0.32473026379420905, 0.9716897197590051, 0.9475411663771275, 0.9196804644915139, 0.059334223515581534, 0.9937221277535037, 0.995484742032831, 0.9958426014657148, 0.971775015615656, 0.9915515151691964, 0.7104095163613844, 0.2104917085515213, 0.0789343907068205, 0.95375148159325, 0.4388477195399362, 0.14628257317997873, 0.14628257317997873, 0.26005790787551775, 0.9353743196088761, 0.8591311260643988, 0.02147827815160997, 0.10739139075804985, 0.2273596913268507, 0.15157312755123378, 0.6062925102049351, 0.9662328821468, 0.15834006572381423, 0.7741069879830917, 0.07037336254391743, 0.9823073440097172, 0.9915515151691964, 0.30724358646708844, 0.12289743458683537, 0.5530384556407592, 0.5718825349900828, 0.07553165556472792, 0.10790236509246845, 0.2373852032034306, 0.37976755881582197, 0.24573194982200244, 0.3350890224845488, 0.033508902248454875, 0.011169634082818293, 0.8983805704312334, 0.06195728071939541, 0.8037287401081165, 0.06516719514390133, 0.13033439028780266, 0.9327555113970523], \"Term\": [\"abrams carrying\", \"abrams goddess\", \"abrams raphael\", \"abrams spent\", \"abrams spun\", \"abrams state\", \"abrams super\", \"abrams tweet\", \"abrams way\", \"absolutely\", \"absolutely\", \"absolutely quite\", \"american\", \"american\", \"argument\", \"asking\", \"asking talk\", \"believe\", \"believe\", \"believe happen\", \"believing\", \"believing stacey\", \"better\", \"biden victory\", \"black\", \"black\", \"black\", \"black\", \"black woman\", \"black woman\", \"block\", \"block em\", \"boiled\", \"boiled egg\", \"boosting\", \"boosting joe\", \"building\", \"building democratic\", \"carrying\", \"carrying democracy\", \"cat\", \"cat happiness\", \"consequential\", \"crazy\", \"credit\", \"cup\", \"cup tea\", \"dad\", \"day\", \"decade\", \"decade building\", \"democracy\", \"democracy\", \"democrat\", \"democrat\", \"democrat\", \"democrat supporter\", \"democratic\", \"democratic\", \"democratic infrastructure\", \"determined\", \"determined stacey\", \"egg\", \"egg cup\", \"election\", \"election\", \"election\", \"election\", \"election\", \"election georgia\", \"election stacey\", \"em\", \"em crazy\", \"englishman\", \"englishman uk\", \"entrepreneur\", \"entrepreneur romance\", \"fact\", \"far\", \"far important\", \"fight\", \"flip\", \"flipped\", \"follow\", \"follow lead\", \"forget\", \"frankly\", \"frankly soft\", \"fuck\", \"fucking\", \"fucking\", \"fucking abrams\", \"ga\", \"georgia\", \"georgia\", \"georgia\", \"georgia\", \"georgia\", \"georgia absolutely\", \"georgia politician\", \"georgia senate\", \"goddess\", \"going\", \"going\", \"good\", \"good\", \"good\", \"got\", \"happen\", \"happen work\", \"happiness\", \"happiness far\", \"hell\", \"hero\", \"hero\", \"history\", \"human\", \"human believe\", \"important\", \"important stacey\", \"infrastructure\", \"infrastructure georgia\", \"instead\", \"instead\", \"instead believing\", \"invest\", \"invest follow\", \"john ossoff\", \"jon\", \"jon\", \"jon ossoff\", \"jon ossoff\", \"justice\", \"kind\", \"know\", \"landscape\", \"lauded\", \"lauded democrat\", \"lawyer\", \"lawyer entrepreneur\", \"lead\", \"let\", \"let\", \"like\", \"like\", \"like\", \"like dad\", \"listen\", \"listen\", \"listen\", \"listen trust\", \"love\", \"make sound\", \"making\", \"man\", \"man\", \"mcconnell\", \"mitch\", \"mitch mcconnell\", \"morning\", \"mother\", \"mother abrams\", \"novelist\", \"novelist lauded\", \"optimistic\", \"optimistic pessimistic\", \"organizer\", \"organizer\", \"ossoff\", \"ossoff\", \"ossoff\", \"ossoff really\", \"owe\", \"party\", \"people\", \"people\", \"people\", \"person\", \"person\", \"person\", \"person responsible\", \"pessimistic\", \"pessimistic determined\", \"political landscape\", \"politician\", \"politician lawyer\", \"possible\", \"pundit\", \"queen\", \"quite\", \"quite frankly\", \"race\", \"raphael\", \"raphael\", \"raphael\", \"raphael warnock\", \"raphael warnock\", \"raphael warnock\", \"really\", \"really day\", \"responsible\", \"responsible\", \"responsible shifting\", \"romance novelist\", \"saving\", \"say\", \"seat\", \"seat\", \"seat person\", \"senate\", \"senate\", \"senate\", \"senate\", \"senate seat\", \"shifting\", \"shifting political\", \"soft\", \"soft boiled\", \"sound\", \"sound like\", \"spent\", \"spent decade\", \"spun\", \"spun block\", \"stacey\", \"stacey\", \"stacey\", \"stacey\", \"stacey\", \"stacey abrams\", \"stacey abrams\", \"stacey abrams\", \"stacey abrams\", \"stacey abrams\", \"stacey fucking\", \"stacey mother\", \"staceyabrams\", \"staceyabrams\", \"staceyabrams\", \"stacy\", \"stacy\", \"stacy\", \"stacy abrams\", \"stacy abrams\", \"stacy abrams\", \"state\", \"state\", \"state\", \"state\", \"state listen\", \"state stacey\", \"stole\", \"stole election\", \"super\", \"super human\", \"supporter\", \"supporter boosting\", \"suppression\", \"talk\", \"talk stacey\", \"tea\", \"tea cat\", \"thank\", \"thank\", \"thank stacey\", \"thing\", \"thing\", \"thing know\", \"think\", \"time\", \"time\", \"trust\", \"trust invest\", \"tweet\", \"uk\", \"uk election\", \"victory\", \"victory\", \"victory\", \"victory thing\", \"voter\", \"voter\", \"voter\", \"voter\", \"voter suppression\", \"want\", \"want\", \"want\", \"warnock\", \"warnock\", \"warnock\", \"warnock jon\", \"way\", \"way\", \"way\", \"way make\", \"white englishman\", \"win\", \"win\", \"win\", \"woman\", \"woman\", \"woman\", \"woman\", \"work\", \"work\", \"work\", \"work\", \"work\", \"world\", \"world\", \"year\", \"year\", \"year\", \"yes\"]}, \"R\": 30, \"lambda.step\": 0.01, \"plot.opts\": {\"xlab\": \"PC1\", \"ylab\": \"PC2\"}, \"topic.order\": [1, 2, 5, 4, 3]};\n",
       "\n",
       "function LDAvis_load_lib(url, callback){\n",
       "  var s = document.createElement('script');\n",
       "  s.src = url;\n",
       "  s.async = true;\n",
       "  s.onreadystatechange = s.onload = callback;\n",
       "  s.onerror = function(){console.warn(\"failed to load library \" + url);};\n",
       "  document.getElementsByTagName(\"head\")[0].appendChild(s);\n",
       "}\n",
       "\n",
       "if(typeof(LDAvis) !== \"undefined\"){\n",
       "   // already loaded: just create the visualization\n",
       "   !function(LDAvis){\n",
       "       new LDAvis(\"#\" + \"ldavis_el19171404168540601125883413866\", ldavis_el19171404168540601125883413866_data);\n",
       "   }(LDAvis);\n",
       "}else if(typeof define === \"function\" && define.amd){\n",
       "   // require.js is available: use it to load d3/LDAvis\n",
       "   require.config({paths: {d3: \"https://cdnjs.cloudflare.com/ajax/libs/d3/3.5.5/d3.min\"}});\n",
       "   require([\"d3\"], function(d3){\n",
       "      window.d3 = d3;\n",
       "      LDAvis_load_lib(\"https://cdn.rawgit.com/bmabey/pyLDAvis/files/ldavis.v1.0.0.js\", function(){\n",
       "        new LDAvis(\"#\" + \"ldavis_el19171404168540601125883413866\", ldavis_el19171404168540601125883413866_data);\n",
       "      });\n",
       "    });\n",
       "}else{\n",
       "    // require.js not available: dynamically load d3 & LDAvis\n",
       "    LDAvis_load_lib(\"https://cdnjs.cloudflare.com/ajax/libs/d3/3.5.5/d3.min.js\", function(){\n",
       "         LDAvis_load_lib(\"https://cdn.rawgit.com/bmabey/pyLDAvis/files/ldavis.v1.0.0.js\", function(){\n",
       "                 new LDAvis(\"#\" + \"ldavis_el19171404168540601125883413866\", ldavis_el19171404168540601125883413866_data);\n",
       "            })\n",
       "         });\n",
       "}\n",
       "</script>"
      ],
      "text/plain": [
       "PreparedData(topic_coordinates=                x           y  topics  cluster       Freq\n",
       "topic                                                    \n",
       "0      150.222153 -72.269554   1       1        26.402080\n",
       "1      51.163364  -159.968018  2       1        21.011584\n",
       "4     -73.144554   21.523815   3       1        19.284796\n",
       "3     -66.410133  -110.606438  4       1        17.020861\n",
       "2      54.417324   12.443444   5       1        16.280679, topic_info=                Term        Freq       Total Category  logprob  loglift\n",
       "1800  tweet           124.000000  124.000000  Default  30.0000  30.0000\n",
       "87    abrams tweet    117.000000  117.000000  Default  29.0000  29.0000\n",
       "1647  state           184.000000  184.000000  Default  28.0000  28.0000\n",
       "1671  stole           95.000000   95.000000   Default  27.0000  27.0000\n",
       "1672  stole election  93.000000   93.000000   Default  26.0000  26.0000\n",
       "...              ...        ...         ...       ...      ...      ...\n",
       "1619  stacey abrams   41.007328   401.870893  Topic5  -4.5814  -0.4672 \n",
       "1618  stacey          38.942917   407.644967  Topic5  -4.6330  -0.5331 \n",
       "1228  ossoff          31.668441   59.607367   Topic5  -4.8398   1.1827 \n",
       "905   jon ossoff      30.110280   42.340200   Topic5  -4.8903   1.4743 \n",
       "904   jon             30.110280   42.340200   Topic5  -4.8903   1.4743 \n",
       "\n",
       "[264 rows x 6 columns], token_table=      Topic      Freq             Term\n",
       "term                                  \n",
       "13    1      0.988083  abrams carrying\n",
       "33    2      0.976021  abrams goddess \n",
       "61    5      0.972083  abrams raphael \n",
       "77    2      0.991269  abrams spent   \n",
       "78    2      0.987051  abrams spun    \n",
       "...  ..           ...           ...   \n",
       "1966  5      0.061957  world          \n",
       "1985  1      0.803729  year           \n",
       "1985  3      0.065167  year           \n",
       "1985  4      0.130334  year           \n",
       "1994  4      0.932756  yes            \n",
       "\n",
       "[315 rows x 3 columns], R=30, lambda_step=0.01, plot_opts={'xlab': 'PC1', 'ylab': 'PC2'}, topic_order=[1, 2, 5, 4, 3])"
      ]
     },
     "execution_count": 26,
     "metadata": {},
     "output_type": "execute_result"
    }
   ],
   "source": [
    "# 2nd LDA model: running new \"best model\" parameters\n",
    "\n",
    "lda_model_2 = LatentDirichletAllocation(n_components = 5, max_iter=10, learning_method='online', learning_decay=0.5)\n",
    "lda_Z_2 = lda_model_2.fit_transform(doc_term_matrix_1)\n",
    "\n",
    "# visualization of 2nd LDA model \n",
    "pyLDAvis.enable_notebook()\n",
    "panel = pyLDAvis.sklearn.prepare(lda_model_2, doc_term_matrix_1, tfidfconverter, mds='tsne')\n",
    "panel\n",
    "\n",
    "pyLDAvis.enable_notebook()\n",
    "panel = pyLDAvis.sklearn.prepare(lda_model_2, doc_term_matrix_1, tfidfconverter, mds='tsne')\n",
    "panel"
   ]
  },
  {
   "cell_type": "code",
   "execution_count": null,
   "metadata": {},
   "outputs": [],
   "source": []
  }
 ],
 "metadata": {
  "kernelspec": {
   "display_name": "Python 3",
   "language": "python",
   "name": "python3"
  },
  "language_info": {
   "codemirror_mode": {
    "name": "ipython",
    "version": 3
   },
   "file_extension": ".py",
   "mimetype": "text/x-python",
   "name": "python",
   "nbconvert_exporter": "python",
   "pygments_lexer": "ipython3",
   "version": "3.7.7"
  }
 },
 "nbformat": 4,
 "nbformat_minor": 4
}
