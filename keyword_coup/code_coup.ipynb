{
 "cells": [
  {
   "cell_type": "code",
   "execution_count": 8,
   "metadata": {},
   "outputs": [],
   "source": [
    "import numpy as np\n",
    "import pandas as pd"
   ]
  },
  {
   "cell_type": "code",
   "execution_count": 9,
   "metadata": {},
   "outputs": [],
   "source": [
    "df = pd.read_csv('data/coup.csv')"
   ]
  },
  {
   "cell_type": "code",
   "execution_count": 10,
   "metadata": {},
   "outputs": [
    {
     "name": "stdout",
     "output_type": "stream",
     "text": [
      "<class 'pandas.core.frame.DataFrame'>\n",
      "RangeIndex: 413600 entries, 0 to 413599\n",
      "Data columns (total 37 columns):\n",
      " #   Column                        Non-Null Count   Dtype  \n",
      "---  ------                        --------------   -----  \n",
      " 0   id                            413600 non-null  int64  \n",
      " 1   tweet_url                     413600 non-null  object \n",
      " 2   created_at                    413600 non-null  object \n",
      " 3   parsed_created_at             413600 non-null  object \n",
      " 4   user_screen_name              413600 non-null  object \n",
      " 5   text                          413600 non-null  object \n",
      " 6   tweet_type                    413600 non-null  object \n",
      " 7   coordinates                   7 non-null       object \n",
      " 8   hashtags                      13057 non-null   object \n",
      " 9   media                         11642 non-null   object \n",
      " 10  urls                          52890 non-null   object \n",
      " 11  favorite_count                413600 non-null  int64  \n",
      " 12  in_reply_to_screen_name       31057 non-null   object \n",
      " 13  in_reply_to_status_id         27532 non-null   float64\n",
      " 14  in_reply_to_user_id           31057 non-null   float64\n",
      " 15  lang                          413600 non-null  object \n",
      " 16  place                         1702 non-null    object \n",
      " 17  possibly_sensitive            39368 non-null   object \n",
      " 18  retweet_count                 413600 non-null  int64  \n",
      " 19  retweet_or_quote_id           366954 non-null  float64\n",
      " 20  retweet_or_quote_screen_name  366954 non-null  object \n",
      " 21  retweet_or_quote_user_id      366954 non-null  float64\n",
      " 22  source                        413566 non-null  object \n",
      " 23  user_id                       413600 non-null  int64  \n",
      " 24  user_created_at               413600 non-null  object \n",
      " 25  user_default_profile_image    413600 non-null  bool   \n",
      " 26  user_description              350206 non-null  object \n",
      " 27  user_favourites_count         413600 non-null  int64  \n",
      " 28  user_followers_count          413600 non-null  int64  \n",
      " 29  user_friends_count            413600 non-null  int64  \n",
      " 30  user_listed_count             413600 non-null  int64  \n",
      " 31  user_location                 274043 non-null  object \n",
      " 32  user_name                     413574 non-null  object \n",
      " 33  user_statuses_count           413600 non-null  int64  \n",
      " 34  user_time_zone                0 non-null       float64\n",
      " 35  user_urls                     0 non-null       float64\n",
      " 36  user_verified                 413600 non-null  bool   \n",
      "dtypes: bool(2), float64(6), int64(9), object(20)\n",
      "memory usage: 111.2+ MB\n"
     ]
    }
   ],
   "source": [
    "df.info()"
   ]
  },
  {
   "cell_type": "code",
   "execution_count": 11,
   "metadata": {},
   "outputs": [
    {
     "name": "stdout",
     "output_type": "stream",
     "text": [
      "44 ['en' 'und' 'fr' 'de' 'nl' 'in' 'th' 'ja' 'pt' 'es' 'et' 'ca' 'fa' 'it'\n",
      " 'tr' 'pl' 'ht' 'cy' 'ko' 'ro' 'tl' 'eu' 'zh' 'ar' 'no' 'ru' 'fi' 'pa'\n",
      " 'el' 'vi' 'sv' 'iw' 'sr' 'ur' 'hu' 'lt' 'cs' 'lv' 'da' 'hi' 'is' 'sl'\n",
      " 'ta' 'dv']\n"
     ]
    }
   ],
   "source": [
    "# count number of different languages in data set\n",
    "count_lang = df['lang'].unique()\n",
    "print(len(count_lang), count_lang)"
   ]
  },
  {
   "cell_type": "code",
   "execution_count": 12,
   "metadata": {},
   "outputs": [
    {
     "data": {
      "text/plain": [
       "(396586, 37)"
      ]
     },
     "execution_count": 12,
     "metadata": {},
     "output_type": "execute_result"
    }
   ],
   "source": [
    "# tweets are in 44 different languages. \n",
    "# I'll be working only with tweets in English\n",
    "# so, I'll drop tweets in all other languages\n",
    "df = df[df.lang == 'en']\n",
    "df.shape"
   ]
  },
  {
   "cell_type": "code",
   "execution_count": 25,
   "metadata": {},
   "outputs": [],
   "source": [
    "# drop unnecessary columns \n",
    "df = df.drop(['tweet_url', 'created_at', 'media', 'urls','in_reply_to_screen_name',\n",
    "       'in_reply_to_status_id', 'in_reply_to_user_id', 'retweet_or_quote_id',\n",
    "       'retweet_or_quote_screen_name', 'retweet_or_quote_user_id', 'source',\n",
    "       'user_created_at', 'user_name', 'user_verified', 'user_friends_count', 'user_listed_count',\n",
    "       'user_statuses_count', 'user_default_profile_image', 'user_description',\n",
    "       'user_favourites_count', 'user_followers_count', 'coordinates', 'lang'], axis=1)"
   ]
  },
  {
   "cell_type": "code",
   "execution_count": null,
   "metadata": {},
   "outputs": [],
   "source": []
  },
  {
   "cell_type": "code",
   "execution_count": 26,
   "metadata": {},
   "outputs": [],
   "source": [
    "# tokenize, remove stopwords, remove urls, lowercase, remove punctuation, remove numbers\n",
    "\n",
    "import string\n",
    "import re\n",
    "\n",
    "import nltk\n",
    "from nltk.corpus import stopwords\n",
    "from nltk.tokenize import TweetTokenizer\n",
    "from nltk import pos_tag\n",
    "\n",
    "stop = stopwords.words('english')\n",
    "\n",
    "punc = list(set(string.punctuation))\n",
    "\n",
    "def tokenizer(text):\n",
    "    tokenizer = TweetTokenizer()\n",
    "    tokens = tokenizer.tokenize(text)\n",
    "    return tokens\n",
    "\n",
    "def remove_url(text):\n",
    "    url = re.compile(r\"https?://\\S+|www\\.\\S+\")\n",
    "    return url.sub(r'', text)\n",
    "\n",
    "def process_text(text):\n",
    "    text = remove_url(text)\n",
    "    text = tokenizer(text)\n",
    "    text = [word.lower() for word in text]\n",
    "    text = [re.sub('[0-9]+', '', word) for word in text]\n",
    "    text = [word for word in text if word not in punc]\n",
    "    text = [word for word in text if word not in stop]\n",
    "    text = [each for each in text if len(each) > 1]\n",
    "    text = [word for word in text if ' ' not in word]\n",
    "     \n",
    "    return text"
   ]
  },
  {
   "cell_type": "code",
   "execution_count": 27,
   "metadata": {},
   "outputs": [],
   "source": [
    "df['processed_text'] = df['text'].apply(process_text)"
   ]
  },
  {
   "cell_type": "code",
   "execution_count": 28,
   "metadata": {},
   "outputs": [
    {
     "name": "stderr",
     "output_type": "stream",
     "text": [
      "/opt/anaconda3/lib/python3.7/site-packages/ipykernel_launcher.py:1: FutureWarning: Passing a negative integer is deprecated in version 1.0 and will not be supported in future version. Instead, use None to not limit the column width.\n",
      "  \"\"\"Entry point for launching an IPython kernel.\n"
     ]
    },
    {
     "data": {
      "text/plain": [
       "0     [assault, democracy, sen, josh, hawley, blood, hands, capitol, coup, attempt]                                                                                                                                              \n",
       "1     [call, old-fashioned, armed, insurgents, breach, capitol, building, request, president, i'd, call, attempted, coup]                                                                                                        \n",
       "2     [@vritrite, @dreddersart, oh, yeah, like, politics, bad, im, like, ignore, coup, attempt, happening]                                                                                                                       \n",
       "3     [ridiculously, divisive, statement, btw, gun, violence, continues, baltimore, oh, still, picked, trash]                                                                                                                    \n",
       "4     [assault, democracy, sen, josh, hawley, blood, hands, capitol, coup, attempt]                                                                                                                                              \n",
       "5     [sort, editorial, home, state, newspaper, politicians, want]                                                                                                                                                               \n",
       "6     [impeach, remove, president, staging, coup, what's, point, impeachment]                                                                                                                                                    \n",
       "7     [middle, insurrection, spurred, father, fever, dream, attempted, coup, maybe, send, brother, text, ...]                                                                                                                    \n",
       "8     [locked, hours, inciting, coup, main]                                                                                                                                                                                      \n",
       "9     [imagine, obama, lost, spent, next, two, months, inciting, coup, refusing, concede, hundreds, black, protesters, stormed, capitol, building, try, stop, certification, defeat, ..., imagine]                               \n",
       "10    [assault, democracy, sen, josh, hawley, blood, hands, capitol, coup, attempt]                                                                                                                                              \n",
       "11    [@cooper_m, cal, brings, antifa, left, tomorrow, need, slap, enough, enough, coup, d'etat]                                                                                                                                 \n",
       "12    [rosenstein, together, pence's, knowledge, consent, went, help, engineer, entire, coup, attempt, president, trump, ..., promote, pence, presidency, point, pence, would, turn, around, appoint, rod, rosenstein, vp]       \n",
       "13    [make, mistake, so-called, leader, country, swore, protect, defend, constitution, directed, horde, white, supremacist, domestic, terrorists, stage, coup, overturn, legitimately, decided, election, encouraging, #traitor]\n",
       "14    [everyone, supported, president's, attempted, coup, today, led, storming, us, capitol, written, public, life, forever, @hawleymo, @tedcruz, via, @tpm]                                                                     \n",
       "15    [republicans, guilty, participating, trump's, coup, everyone, held, accountable, justice, system, @gop, @gopleader, @kamalaharris, @joebiden, @aoc]                                                                        \n",
       "16    [ughbme]                                                                                                                                                                                                                   \n",
       "17    [every, single, person, participated, attempted, coup, must, held, accountable, full, extent, law]                                                                                                                         \n",
       "18    [twitter, pledges, take, action, calls, violence, capitol, locks, @cnbc, wow, took, trump, account, hours, ..., mr, trump, organize, coup, country, hours]                                                                 \n",
       "19    [every, seditionist, house, member, supported, encouraged, attempted, coup, needs, expelled]                                                                                                                               \n",
       "Name: processed_text, dtype: object"
      ]
     },
     "execution_count": 28,
     "metadata": {},
     "output_type": "execute_result"
    }
   ],
   "source": [
    "pd.set_option('display.max_colwidth', -1)\n",
    "df['processed_text'][:20]"
   ]
  },
  {
   "cell_type": "code",
   "execution_count": 29,
   "metadata": {},
   "outputs": [],
   "source": [
    "ready_for_pos = df['processed_text']"
   ]
  },
  {
   "cell_type": "code",
   "execution_count": 30,
   "metadata": {},
   "outputs": [],
   "source": [
    "# part-of-speech tagging \n",
    "def pos_tagging(text):\n",
    "    pos_tag = [pos_tag(word) for word in ready_for_pos]\n",
    "\n",
    "df['pos_tagged'] = df.processed_text.apply(lambda x: pos_tag(x))"
   ]
  },
  {
   "cell_type": "code",
   "execution_count": 31,
   "metadata": {},
   "outputs": [],
   "source": [
    "pos_tagged = df['pos_tagged']"
   ]
  },
  {
   "cell_type": "code",
   "execution_count": 32,
   "metadata": {},
   "outputs": [],
   "source": [
    "# lemmatizing\n",
    "\n",
    "from nltk.stem import WordNetLemmatizer \n",
    "wordnet = WordNetLemmatizer() \n",
    "\n",
    "lemmatized = [[wordnet.lemmatize(word[0]) for word in words] for words in pos_tagged]"
   ]
  },
  {
   "cell_type": "code",
   "execution_count": 33,
   "metadata": {},
   "outputs": [],
   "source": [
    "df['lemmatized'] = lemmatized"
   ]
  },
  {
   "cell_type": "code",
   "execution_count": 34,
   "metadata": {},
   "outputs": [],
   "source": [
    "df['final_docs'] = df['lemmatized'].apply(lambda x: \" \".join(x))"
   ]
  },
  {
   "cell_type": "code",
   "execution_count": 35,
   "metadata": {},
   "outputs": [
    {
     "data": {
      "text/plain": [
       "31488    call old-fashioned armed insurgent breach capitol building request president i'd call attempted coup                                                                                                \n",
       "31489    anyone elected house senate challenging result presidential election congress part attempted coup inspired president resign insurrection ...                                                        \n",
       "31490    twitter ball facebook none                                                                                                                                                                          \n",
       "31491    almost permanent ban inciting fucking coup attempt ridiculous even ballpark jack twitter fucking disgrace complicit point blank #trumpcoupattempt                                                   \n",
       "31492    @jtylerconway president u staged coup disrupt certification election cannot believe happening one always remember                                                                                   \n",
       "31493    coup etat attempted president united state                                                                                                                                                          \n",
       "31494    republican @repkinzinger @cnn utterly despicable every republican leader call anywhere else around globe we'd call coup attempt we'll look back realize cancer come                                 \n",
       "31495    protestors terrorist stated attempting coup comparing happening today protest racial economic equality past year mind bogglingly wrong                                                              \n",
       "31496    good friend mine dc witnessed antifa people dressed like trump protestors breaking capital done left create narrative president creating coup try arrest president @sidneypowell @genflynn @llinwood\n",
       "31497    watching coup                                                                                                                                                                                       \n",
       "31498    white supremacist qanon believer far right extremist quite literally breaking seat american government name coup attempt                                                                            \n",
       "31499    assault democracy sen josh hawley blood hand capitol coup attempt                                                                                                                                   \n",
       "31500    impeach remove president staging coup what's point impeachment                                                                                                                                      \n",
       "31501    call old-fashioned armed insurgent breach capitol building request president i'd call attempted coup                                                                                                \n",
       "31502    self serving attempt sedition helped inspire terrorist attempted coup                                                                                                                               \n",
       "31503    honey heading done make yeah got furry hat horn yeah never satisfied sexually sleep kevin work nothing enjoy little pretend coup thanks                                                             \n",
       "31504    first thing military operation take communication first censored president united state suspended hr surprisingly medium blaming violence accusing leading coup état insanity                       \n",
       "31507    yeeessss @ossoff @reverendwarnock saved america #demsenatemajority                                                                                                                                  \n",
       "31508    case literal fucking coup state already feel bit come eileen song keep getting faster faster faster                                                                                                 \n",
       "31509    done went sleep missed whole coup                                                                                                                                                                   \n",
       "Name: final_docs, dtype: object"
      ]
     },
     "execution_count": 35,
     "metadata": {},
     "output_type": "execute_result"
    }
   ],
   "source": [
    "df['final_docs'][30000:30020]"
   ]
  },
  {
   "cell_type": "code",
   "execution_count": 36,
   "metadata": {},
   "outputs": [],
   "source": [
    "final_docs = df['final_docs']"
   ]
  },
  {
   "cell_type": "code",
   "execution_count": 37,
   "metadata": {},
   "outputs": [],
   "source": [
    "#create document term matrix with TFIDF\n",
    "\n",
    "from sklearn.feature_extraction.text import TfidfVectorizer\n",
    "# initial tuning of parameters\n",
    "#set max_features to 2000 (specifies the number of most frequently occurring words for which we want to create feature vectors)\n",
    "# set min_df to 5 (word must occur in at least 5 documents)\n",
    "# set max_df to 0.85 (word must not occur in more than 85 percent of the documents) \n",
    "\n",
    "tfidfconverter = TfidfVectorizer(max_features=2000, min_df=5, max_df=0.85, ngram_range=(1, 2), stop_words='english')  \n",
    "doc_term_matrix_1 = tfidfconverter.fit_transform(df['final_docs'].values.astype('U'))"
   ]
  },
  {
   "cell_type": "code",
   "execution_count": 38,
   "metadata": {},
   "outputs": [
    {
     "data": {
      "text/plain": [
       "(396586, 2000)"
      ]
     },
     "execution_count": 38,
     "metadata": {},
     "output_type": "execute_result"
    }
   ],
   "source": [
    "doc_term_matrix_1.shape"
   ]
  },
  {
   "cell_type": "code",
   "execution_count": 39,
   "metadata": {},
   "outputs": [],
   "source": [
    "from sklearn.decomposition import NMF\n",
    "\n",
    "nmf_model = NMF(n_components=10)\n",
    "nmf_Z = nmf_model.fit_transform(doc_term_matrix_1)"
   ]
  },
  {
   "cell_type": "code",
   "execution_count": 40,
   "metadata": {},
   "outputs": [],
   "source": [
    "from sklearn.decomposition import TruncatedSVD\n",
    "\n",
    "lsi_model = TruncatedSVD(n_components=10)\n",
    "lsi_Z = lsi_model.fit_transform(doc_term_matrix_1)"
   ]
  },
  {
   "cell_type": "code",
   "execution_count": 41,
   "metadata": {},
   "outputs": [],
   "source": [
    "from sklearn.decomposition import LatentDirichletAllocation\n",
    "#  LDA model \n",
    "lda_model = LatentDirichletAllocation(n_components = 10, max_iter=10, learning_method='online')\n",
    "lda_Z = lda_model.fit_transform(doc_term_matrix_1)"
   ]
  },
  {
   "cell_type": "code",
   "execution_count": 42,
   "metadata": {},
   "outputs": [
    {
     "name": "stdout",
     "output_type": "stream",
     "text": [
      "LDA Model:\n",
      "Topic 0:\n",
      "[('working', 2185.4006462079947), ('working coup', 1889.4091325613183), ('cruz', 1858.2633569414795), ('hawley', 1774.1264162549417), ('heard', 1595.7936825920865), ('said', 1520.6920394268275), ('thing', 1495.327102673753), ('supposed', 1477.8844474692698), ('ve heard', 1472.034690421095), ('friend', 1469.0647063998829)]\n",
      "Topic 1:\n",
      "[('supporter', 2868.837388799131), ('trump supporter', 2622.9135802725505), ('trump', 2366.6144313051036), ('trying', 2177.7993926581657), ('white', 2116.90602026502), ('nationalist', 2096.0121682476274), ('white nationalist', 2086.262346959691), ('nationalist trump', 1864.6670661495457), ('tweet', 1716.3302006698655), ('coup today', 1699.976821326038)]\n",
      "Topic 2:\n",
      "[('black', 5810.502666063768), ('white', 5647.793057453274), ('ago', 5336.362002103651), ('image', 5141.540752064805), ('cleaning', 5115.875670233713), ('couple', 5083.929740489027), ('supremacist', 5058.537666708727), ('supremacist thug', 5058.111263591265), ('coup couple', 5057.438173291089), ('white supremacist', 5057.324724172086)]\n",
      "Topic 3:\n",
      "[('thug', 5255.209211385595), ('heart', 5164.74707980387), ('cleaning white', 5064.027347737093), ('worker cleaning', 5063.143433668143), ('capitol worker', 5058.807503526385), ('black capitol', 5058.263018292162), ('thug attempted', 5058.134861770041), ('image black', 5056.441918195524), ('couple ago', 5056.111271072414), ('ago heart', 5056.111271072414)]\n",
      "Topic 4:\n",
      "[('impeach', 4513.209709505152), ('remove', 4509.470272691745), ('point', 4454.617319631022), ('impeach remove', 4198.892672152791), ('staging coup', 4181.277109912426), ('staging', 4141.804915922514), ('remove president', 4083.1951907166003), ('coup point', 3930.182892645323), ('point impeachment', 3923.0639719204064), ('president staging', 3923.055756423637)]\n",
      "Topic 5:\n",
      "[('hand', 2662.1343153634803), ('josh', 2654.6210336373247), ('josh hawley', 2643.4338161999863), ('hawley', 2622.133459445251), ('blood', 2323.324172290558), ('capitol coup', 2279.3494007344325), ('paul', 2216.4945523548618), ('capitol', 2207.3701292049464), ('blood hand', 2197.107344306224), ('sen', 2081.724271100994)]\n",
      "Topic 6:\n",
      "[('gop', 2452.3303247618896), ('removal', 2425.886452866247), ('calling', 2105.183630623545), ('arrest', 2000.8189125249573), ('seen', 1994.274323725769), ('shit', 1798.813332760845), ('involved today', 1747.586127865099), ('attempt', 1718.228086463535), ('involved', 1689.996099705003), ('law', 1653.2132412860867)]\n",
      "Topic 7:\n",
      "[('worker', 5175.568710587187), ('coup attempt', 3242.0634402611204), ('attempt', 3092.8216290779746), ('work', 2615.261316662694), ('send', 1800.544019583993), ('sorry', 1552.0071961944295), ('failed', 1449.819943315769), ('cia', 1422.5449657433444), ('arrested', 1350.7382140541154), ('crisis', 1336.9233867958005)]\n",
      "Topic 8:\n",
      "[('let', 1990.2263918533863), ('america', 1851.7085296001496), ('trump', 1596.7848109548588), ('control', 1329.754037154286), ('coup government', 1310.5690105641584), ('attempted', 1294.3445939361202), ('time', 1293.3383053460404), ('order', 1290.6924847162059), ('run', 1168.1483054798243), ('allowed', 1164.7445756010504)]\n",
      "Topic 9:\n",
      "[('today', 3529.9179575865014), ('congress', 3484.930492059372), ('resident', 3233.0144158465237), ('dc resident', 3202.7444515889697), ('representation congress', 3199.7244059732843), ('coup backyard', 3198.0601778068067), ('today curfew', 3198.0570488200174), ('resident endure', 3197.788509975705), ('endure coup', 3197.788509975705), ('pm fear', 3197.788509975705)]\n",
      "====================\n",
      "NMF Model:\n",
      "Topic 0:\n",
      "[('worker cleaning', 2.45360994508398), ('black capitol', 2.4533753034628165), ('capitol worker', 2.4533680297502816), ('cleaning white', 2.453358437053691), ('image black', 2.453135997577879), ('supremacist thug', 2.453110044052785), ('coup couple', 2.4531085880927757), ('cleaning', 2.4530691083791605), ('thug attempted', 2.453007177220112), ('couple ago', 2.4530051615011175)]\n",
      "Topic 1:\n",
      "[('president staging', 3.2200015945704576), ('point impeachment', 3.2197511394139444), ('coup point', 3.219465043648943), ('staging coup', 3.2120188570516146), ('remove president', 3.188346908372329), ('impeach remove', 3.1561070847961763), ('staging', 3.1542635749071586), ('impeach', 3.129488362018558), ('point', 3.124097639311785), ('remove', 3.076093104641909)]\n",
      "Topic 2:\n",
      "[('representation', 2.0679940947536126), ('backyard', 2.0673547007194584), ('representation congress', 2.0670915427357177), ('pm fear', 2.067080646055531), ('thousand dc', 2.067080646055531), ('endure coup', 2.067080646055531), ('curfew pm', 2.067080646055531), ('resident endure', 2.067080646055531), ('backyard today', 2.067080646055531), ('today curfew', 2.0670746949598575)]\n",
      "Topic 3:\n",
      "[('coup attempt', 2.7008643230605314), ('attempt', 2.553928082475205), ('josh', 2.5176988884526255), ('josh hawley', 2.5135638871977126), ('blood', 2.489986157134578), ('blood hand', 2.473946930494238), ('hawley', 2.457562888541005), ('sen', 2.432586661860324), ('hawley blood', 2.4321399648962863), ('hand', 2.430262898402593)]\n",
      "Topic 4:\n",
      "[('removal gop', 2.0387482808491897), ('calling removal', 2.038660655572765), ('member involved', 2.0386403067757333), ('coup sign', 2.0385935463269025), ('send message', 2.0373352127022386), ('petition send', 2.0372148605019738), ('message stand', 2.0372064999329136), ('stand treason', 2.0371825452665084), ('involved today', 2.037108617757025), ('send', 2.024012360484036)]\n",
      "Topic 5:\n",
      "[('th amendment', 1.676662236413806), ('amendment', 1.6746547467976962), ('th', 1.6662780055877713), ('impeachment removal', 1.644785529877342), ('seditious coup', 1.6429676012437313), ('joe biden', 1.6419586346759798), ('expulsion cruz', 1.640277406224604), ('joe', 1.6400463783174153), ('hawley attempted', 1.640021908161329), ('run expulsion', 1.639932366588105)]\n",
      "Topic 6:\n",
      "[('supporter', 2.8983687519215544), ('trump supporter', 2.883395603307931), ('white nationalist', 2.775901787405937), ('nationalist', 2.774073790420358), ('nationalist trump', 2.7681276384309315), ('trump', 2.463808741157662), ('white', 2.0030927926933786), ('violent coup', 0.9908267933114129), ('violent', 0.9772987820670211), ('shooter', 0.9320704417835622)]\n",
      "Topic 7:\n",
      "[('supposed', 1.9291312073864335), ('supposed working', 1.9271727194767685), ('ve', 1.9260571193120117), ('thing ve', 1.913730513577154), ('american thing', 1.9135857436929027), ('coup honestly', 1.9133567663256263), ('honestly american', 1.9128578027543062), ('said supposed', 1.9128382330319624), ('friend said', 1.9128341615656534), ('honestly', 1.9119107208382624)]\n",
      "Topic 8:\n",
      "[('paul', 2.2657396276696025), ('followgoosehead', 1.1759309475720114), ('davis', 1.1492650561579483), ('paul davis', 1.1491524564689117), ('insurance', 1.1420619335697175), ('lawyer', 1.1363247548955724), ('goosehead', 1.1343821492036437), ('goosehead insurance', 1.1328395018954391), ('human resource', 1.131603092416293), ('resource', 1.1311223579260499)]\n",
      "Topic 9:\n",
      "[('attempted coup', 2.672413771943227), ('attempted', 2.5602511461576323), ('today attempted', 1.2525906095663568), ('today', 1.249071922227977), ('president', 1.0623764207496214), ('trump', 0.9470863725528731), ('need', 0.9011444330704832), ('insurrection', 0.8717407357474376), ('act', 0.8361919109719822), ('violence', 0.8180688661382898)]\n",
      "====================\n",
      "LSI Model:\n",
      "Topic 0:\n",
      "[('cleaning', 0.20771754821097788), ('worker cleaning', 0.20767465123607778), ('cleaning white', 0.20765550472835106), ('black capitol', 0.2076505822102612), ('capitol worker', 0.20765022067255964), ('supremacist thug', 0.2076336437544957), ('image black', 0.2076293243485821), ('coup couple', 0.20762788771014634), ('thug attempted', 0.20762599891447964), ('ago heart', 0.20761812318364706)]\n",
      "Topic 1:\n",
      "[('president staging', 0.292812186622733), ('point impeachment', 0.2927896424969314), ('coup point', 0.2927667274347496), ('staging coup', 0.29213960375837095), ('remove president', 0.29002201264098293), ('impeach remove', 0.2874930499971574), ('staging', 0.2868972599764534), ('impeach', 0.28534830044759046), ('point', 0.284377102455961), ('remove', 0.2807467779152971)]\n",
      "Topic 2:\n",
      "[('representation', 0.19871380912705552), ('backyard', 0.1986453860830759), ('representation congress', 0.19861613772781903), ('endure coup', 0.19861456377977668), ('resident endure', 0.19861456377977668), ('curfew pm', 0.19861456377977668), ('backyard today', 0.19861456377977668), ('pm fear', 0.19861456377977668), ('thousand dc', 0.19861456377977668), ('today curfew', 0.1986142928123425)]\n",
      "Topic 3:\n",
      "[('coup attempt', 0.28068749513977154), ('attempt', 0.2753372595159303), ('hawley', 0.2380210863920041), ('josh', 0.23076825502578807), ('josh hawley', 0.23027189882553564), ('blood', 0.22782566475878194), ('blood hand', 0.22586516281200672), ('hand', 0.22277785640670983), ('sen', 0.2218447063208894), ('hawley blood', 0.22156004591136985)]\n",
      "Topic 4:\n",
      "[('involved today', 0.20203040806157763), ('member involved', 0.20179178762593575), ('removal gop', 0.20170337200088245), ('calling removal', 0.20169789785673886), ('coup sign', 0.20169618624036564), ('send message', 0.2015658889398471), ('petition send', 0.20154882095823387), ('message stand', 0.20154827201792966), ('stand treason', 0.2015459063868278), ('send', 0.20070939011057343)]\n",
      "Topic 5:\n",
      "[('attempted', 0.2069588284484795), ('trump', 0.18175436199455902), ('th', 0.133651130826208), ('amendment', 0.1322058439771668), ('th amendment', 0.13203647172455343), ('attempted coup', 0.13080958809391038), ('seditious', 0.1277075595713065), ('cruz', 0.12742814431771637), ('seditious coup', 0.12645821267555996), ('joe', 0.12634307334779907)]\n",
      "Topic 6:\n",
      "[('hawley', 0.11540561550563413), ('removal', 0.11087059598826668), ('expulsion cruz', 0.10757939640472304), ('hawley attempted', 0.10756045593379035), ('removal allowed', 0.10755905844459107), ('run expulsion', 0.10755905844459107), ('attempted seditious', 0.10755404739826777), ('amendment control', 0.10754676407972329), ('arsenal impeachment', 0.10754676407972329), ('operation th', 0.10754676407972329)]\n",
      "Topic 7:\n",
      "[('ve', 0.22168608289720382), ('supposed', 0.22055485851154596), ('supposed working', 0.22038474803459593), ('thing ve', 0.21884571391883187), ('american thing', 0.21883344904230412), ('coup honestly', 0.21880279003375924), ('honestly american', 0.21874726155969), ('said supposed', 0.21874436462489022), ('friend said', 0.2187442123396715), ('honestly', 0.21843648247913863)]\n",
      "Topic 8:\n",
      "[('paul', 0.25362040673168695), ('followgoosehead', 0.13175291181832244), ('capitol building', 0.1307881663121908), ('building', 0.12905269940017913), ('davis', 0.1286272486801225), ('paul davis', 0.12861618890604454), ('insurance', 0.12784867838606437), ('lawyer', 0.12699608782399419), ('goosehead', 0.1269899984878979), ('goosehead insurance', 0.12681840354769883)]\n",
      "Topic 9:\n",
      "[('white nationalist', 0.17822113794254846), ('nationalist', 0.17798245150411593), ('nationalist trump', 0.1779375216376361), ('trump supporter', 0.17446005615493917), ('supporter', 0.17128359424353748), ('paul', 0.1331404819173925), ('white', 0.10230746358495467), ('followgoosehead', 0.06798185395971289), ('davis', 0.06768716405418979), ('paul davis', 0.06768134063413897)]\n",
      "====================\n"
     ]
    }
   ],
   "source": [
    "def print_topics(model, vectorizer, top_n=10):\n",
    "    for idx, topic in enumerate(model.components_):\n",
    "        print(\"Topic %d:\" % (idx))\n",
    "        print([(vectorizer.get_feature_names()[i], topic[i])\n",
    "                        for i in topic.argsort()[:-top_n - 1:-1]])\n",
    " \n",
    "print(\"LDA Model:\")\n",
    "print_topics(lda_model, tfidfconverter )\n",
    "print(\"=\" * 20)\n",
    " \n",
    "print(\"NMF Model:\")\n",
    "print_topics(nmf_model, tfidfconverter )\n",
    "print(\"=\" * 20)\n",
    " \n",
    "print(\"LSI Model:\")\n",
    "print_topics(lsi_model, tfidfconverter )\n",
    "print(\"=\" * 20)"
   ]
  },
  {
   "cell_type": "code",
   "execution_count": 43,
   "metadata": {},
   "outputs": [],
   "source": [
    "import pyLDAvis.sklearn"
   ]
  },
  {
   "cell_type": "code",
   "execution_count": 44,
   "metadata": {},
   "outputs": [
    {
     "data": {
      "text/html": [
       "\n",
       "<link rel=\"stylesheet\" type=\"text/css\" href=\"https://cdn.rawgit.com/bmabey/pyLDAvis/files/ldavis.v1.0.0.css\">\n",
       "\n",
       "\n",
       "<div id=\"ldavis_el437711405721410804004617757872\"></div>\n",
       "<script type=\"text/javascript\">\n",
       "\n",
       "var ldavis_el437711405721410804004617757872_data = {\"mdsDat\": {\"x\": [32.42095184326172, 0.648955225944519, 71.01968383789062, 3.7859814167022705, -42.666500091552734, -3.6216893196105957, -3.632401704788208, -36.58440017700195, 44.391380310058594, 40.235809326171875], \"y\": [8.115229606628418, 71.70709991455078, 9.971006393432617, 33.18513488769531, -9.22206974029541, -43.52651596069336, -4.171707630157471, 35.804412841796875, 50.61538314819336, -31.591665267944336], \"topics\": [1, 2, 3, 4, 5, 6, 7, 8, 9, 10], \"cluster\": [1, 1, 1, 1, 1, 1, 1, 1, 1, 1], \"Freq\": [19.05970189022309, 11.596622333642891, 9.157361875682026, 9.150480153882883, 9.018097988935422, 8.98848717409233, 8.82938174613967, 8.227654507844711, 8.215106944805267, 7.757105384751714]}, \"tinfo\": {\"Term\": [\"worker\", \"thug\", \"heart\", \"cleaning white\", \"worker cleaning\", \"capitol worker\", \"black capitol\", \"thug attempted\", \"image black\", \"ago heart\", \"couple ago\", \"impeach\", \"point\", \"remove\", \"impeach remove\", \"staging coup\", \"remove president\", \"staging\", \"coup point\", \"point impeachment\", \"president staging\", \"impeachment\", \"hawley\", \"curfew\", \"backyard\", \"capitol\", \"resident\", \"white\", \"dc resident\", \"representation congress\", \"ago\", \"image\", \"cleaning\", \"couple\", \"supremacist thug\", \"coup couple\", \"fear\", \"pm\", \"thousand\", \"personal\", \"representation\", \"safety\", \"endure\", \"support\", \"message\", \"think\", \"going\", \"way\", \"support coup\", \"coverage coup\", \"counsel\", \"got\", \"senate\", \"woman\", \"fucking\", \"seditious coup\", \"called\", \"leader\", \"resource\", \"history\", \"black\", \"dc\", \"election\", \"day\", \"supremacist\", \"white supremacist\", \"like\", \"stage\", \"white\", \"stage coup\", \"traitor\", \"police\", \"protest\", \"know\", \"today\", \"republican\", \"trump\", \"attempted coup\", \"people\", \"capitol\", \"attempted\", \"attempt\", \"removal\", \"seen\", \"shit\", \"involved today\", \"calling removal\", \"send message\", \"actual\", \"coverage\", \"actual coup\", \"enforcement\", \"law enforcement\", \"tweeting\", \"ve seen\", \"human\", \"general\", \"live tweeting\", \"dystopian\", \"shit ve\", \"tweeting actual\", \"fact live\", \"dystopian shit\", \"attempt dystopian\", \"joe\", \"joe biden\", \"storm\", \"join\", \"staggering\", \"operation\", \"fuck\", \"helped\", \"arrest\", \"gop\", \"fact\", \"live\", \"law\", \"sedition\", \"calling\", \"involved\", \"biden\", \"seditious\", \"national\", \"attempt\", \"coup attempt\", \"ve\", \"impeach\", \"point\", \"impeach remove\", \"staging coup\", \"remove president\", \"coup point\", \"point impeachment\", \"president staging\", \"curfew\", \"backyard\", \"sign\", \"stand\", \"petition\", \"sign petition\", \"line\", \"coup sign\", \"patriot\", \"watch\", \"happening\", \"look\", \"actor\", \"thread\", \"walked away\", \"police line\", \"police patriot\", \"breached police\", \"away line\", \"actor breached\", \"patriot walked\", \"dc saw\", \"staging\", \"remove\", \"tonight\", \"impeachment\", \"president\", \"penny\", \"security\", \"calling\", \"trying\", \"nationalist\", \"white nationalist\", \"nationalist trump\", \"tweet\", \"th\", \"saw\", \"really\", \"response\", \"amendment\", \"th amendment\", \"forget\", \"fascist coup\", \"backed\", \"difference\", \"backed coup\", \"attention\", \"street\", \"wing\", \"american backed\", \"asking\", \"undergoes\", \"undergoes american\", \"state undergoes\", \"pay\", \"supremacist coup\", \"school\", \"coup police\", \"\\u00e9tat\", \"coup \\u00e9tat\", \"trump supporter\", \"supporter\", \"coup today\", \"white\", \"trump\", \"united\", \"united state\", \"state\", \"violent coup\", \"violent\", \"protestors\", \"fascist\", \"people\", \"let\", \"control\", \"coup government\", \"run\", \"complicit\", \"insurance\", \"real\", \"away\", \"director\", \"nuclear\", \"impeachment removal\", \"trump attempted\", \"allowed run\", \"arsenal\", \"control nuclear\", \"nuclear arsenal\", \"hawley attempted\", \"order operation\", \"expulsion cruz\", \"attempted seditious\", \"run expulsion\", \"removal allowed\", \"operation th\", \"arsenal impeachment\", \"amendment control\", \"coup inaugurating\", \"inaugurating\", \"inaugurating joe\", \"word\", \"literally\", \"america\", \"order\", \"allowed\", \"time\", \"trump\", \"attempted\", \"impeachment\", \"donald\", \"hand\", \"josh hawley\", \"blood\", \"capitol coup\", \"paul\", \"blood hand\", \"sen\", \"hawley blood\", \"color\", \"sen josh\", \"hand capitol\", \"assault\", \"followgoosehead\", \"mayonnaise\", \"coup color\", \"color mayonnaise\", \"assault democracy\", \"inciting\", \"democracy sen\", \"try\", \"lawyer\", \"davis\", \"paul davis\", \"goosehead\", \"instagram\", \"goosehead insurance\", \"human resource\", \"general counsel\", \"director human\", \"documented\", \"josh\", \"capitol building\", \"hawley\", \"stormed\", \"building\", \"stormed capitol\", \"capitol\", \"attempt\", \"democracy\", \"coup attempt\", \"resident\", \"dc resident\", \"representation congress\", \"coup backyard\", \"today curfew\", \"pm fear\", \"resident endure\", \"curfew pm\", \"backyard today\", \"thousand dc\", \"endure coup\", \"personal safety\", \"fear personal\", \"safety representation\", \"gop member\", \"member involved\", \"removal gop\", \"message stand\", \"stand treason\", \"petition send\", \"expelled\", \"watching\", \"administration\", \"trump administration\", \"remembered\", \"coup need\", \"encouraged attempted\", \"remembered traitor\", \"seditionist\", \"need expelled\", \"member\", \"congress\", \"today coup\", \"today\", \"hawleymo\", \"treason\", \"supported\", \"need\", \"house\", \"thug\", \"heart\", \"cleaning white\", \"worker cleaning\", \"capitol worker\", \"black capitol\", \"thug attempted\", \"image black\", \"ago heart\", \"couple ago\", \"act\", \"etat\", \"coup etat\", \"overthrow\", \"facebook\", \"corrupt\", \"violence capitol\", \"kcstar\", \"blame\", \"overthrow democracy\", \"coup act\", \"egged\", \"act insurrection\", \"corrupt president\", \"insurrection egged\", \"president overthrow\", \"egged corrupt\", \"talk\", \"etat attempted\", \"attempted president\", \"today attempted\", \"president united\", \"attempted coup\", \"attempted\", \"capitol\", \"insurrection\", \"violence\", \"president\", \"today\", \"democracy\", \"state\", \"worker\", \"work\", \"send\", \"sorry\", \"cia\", \"crisis\", \"bos\", \"learning\", \"coup involved\", \"learning coup\", \"doomscrolling\", \"crisis learning\", \"cia crisis\", \"doomscrolling coup\", \"sorry bos\", \"work doomscrolling\", \"bos work\", \"damn\", \"successful\", \"work trump\", \"administration tonight\", \"attempt remembered\", \"tonight support\", \"pas\", \"electoral\", \"guy\", \"come\", \"told\", \"staff\", \"college\", \"arrested\", \"vote\", \"coup attempt\", \"attempt\", \"failed\", \"failed coup\", \"involved\", \"working\", \"working coup\", \"cruz\", \"heard\", \"supposed\", \"ve heard\", \"honestly\", \"supposed working\", \"editorial\", \"thing ve\", \"american thing\", \"coup honestly\", \"friend said\", \"honestly american\", \"said supposed\", \"sense\", \"make sense\", \"cruz hawley\", \"editorial board\", \"star\", \"city\", \"home\", \"kansa\", \"kansa city\", \"wednesday\", \"city star\", \"kcstar editorial\", \"pandemic\", \"wednesday coup\", \"responsible wednesday\", \"friend\", \"thing\", \"said\", \"make\", \"ve\", \"hawley\", \"american\", \"senator\", \"coup attempt\", \"attempt\"], \"Freq\": [5511.0, 4849.0, 4766.0, 4673.0, 4672.0, 4668.0, 4667.0, 4667.0, 4666.0, 4666.0, 4666.0, 4771.0, 4709.0, 4943.0, 4439.0, 4420.0, 4316.0, 4529.0, 4155.0, 4147.0, 4147.0, 5453.0, 5064.0, 3461.0, 3398.0, 9760.0, 3159.0, 7610.0, 3129.0, 3126.0, 4234.646793338289, 4080.0472400422545, 4059.680826288099, 4034.33027306472, 4013.8421333244087, 4013.308005452247, 2754.5951005410247, 2612.2925220746993, 2597.593511192455, 2572.8729057864552, 2569.0607225989675, 2556.7978126264165, 2539.0978432164475, 1913.6783899076247, 1583.4548676954016, 1419.8088552477209, 1377.3786030864983, 1198.0085655463647, 1171.087396035786, 1148.4706067039263, 1108.589275089315, 1078.785495671498, 1027.611425746625, 1009.2157452041212, 985.0612671968129, 951.9675454620834, 940.3000700799905, 937.0327314279116, 857.591766064897, 844.9164718297188, 4610.89904935812, 3743.3696924068236, 2100.9484949659422, 1717.5727952631485, 4014.180503658602, 4013.2179783986467, 2345.083995223967, 1661.9984399793723, 4481.78154906932, 1533.0670060475688, 1580.7373274081851, 2336.008873181379, 1449.3617704364428, 1626.4507301942888, 2843.731463267167, 1598.641563724821, 2287.240172019994, 2095.011602177289, 1807.6776132674522, 1918.8182029215707, 1903.831440337065, 1742.0093258668498, 2446.742507735029, 2011.4196829695554, 1814.2782567363383, 1762.6106365875135, 1665.933216617433, 1662.3978440120075, 1640.588049872249, 1501.223395359477, 1460.6064125334792, 1382.0581206580705, 1380.1448319546166, 1353.490369784571, 1279.307044248908, 1268.17788569599, 1234.9187996567373, 1227.1332514707708, 1214.9720619515654, 1206.0660043399423, 1205.7539849175164, 1205.6902514866802, 1205.678111652687, 1205.3648890044954, 1179.2425042608827, 1149.6792436321396, 1113.4278318410138, 1107.7654950588108, 1097.7200257099246, 1081.8840169583586, 1077.4391818215388, 1066.25063093019, 2018.0205375114908, 2473.413725326323, 1548.3600314724922, 1566.5993799241282, 1667.4263987194531, 1487.2897411938472, 2123.282509595094, 1704.525490123021, 1338.5279110290428, 1308.2475431307312, 1391.160023678926, 1733.0001955233076, 1323.245646235028, 1236.7479864512025, 4770.472529201392, 4708.540245016565, 4438.238733596576, 4419.619045799415, 4315.946242794137, 4154.211909235098, 4146.6871944663035, 4146.678510668258, 3460.229633628296, 3397.5342102562527, 2365.8969007223463, 2222.287736578201, 2122.7181690881166, 2094.8606527172105, 1862.1039380699333, 1747.186065757682, 1250.0770024784465, 1184.4119654598433, 1153.095391747253, 1098.5723370000553, 944.8443783048774, 826.9943183686665, 808.2570592648988, 802.6055309272931, 802.5424199916379, 802.2383276059122, 802.2383276059122, 802.2383276059122, 802.2383276059122, 801.9690301828045, 4377.896850462556, 4766.519936314898, 1708.092013673213, 4135.222200575557, 3566.391489835446, 1033.6493083200548, 848.7473278142289, 892.7735261548434, 2225.178299150251, 2141.6117605978056, 2131.6498280049095, 1905.2336522473302, 1753.669658271525, 1721.892229168716, 1623.8673941174004, 1618.0508378957547, 1563.4198046802792, 1499.3394594683562, 1449.4713230673156, 1310.9654157466932, 1235.7773390851671, 1110.153012125806, 1067.5189765816494, 996.38334890817, 993.9500704004704, 913.9851347945179, 902.2424342474376, 878.7526343690594, 877.7943431034339, 877.1966950273811, 877.1966950273811, 877.1966950273811, 854.6083774569355, 853.4779152493063, 846.0033324132289, 828.3655460790429, 825.6163166580668, 825.2620064763513, 2679.9761259209226, 2931.250106353896, 1736.9605045467454, 2162.960166815336, 2418.1010853199914, 1274.7977401397695, 1264.4468294342234, 1340.9435893423315, 1143.6621755590465, 1202.0594005446876, 1031.3553637905504, 1109.861783045161, 1222.8878996949256, 2166.017437625162, 1447.2074353040844, 1426.3278497927995, 1271.3275282443233, 1255.914442311088, 1248.6022991654904, 1198.5274737681416, 1201.4010926375709, 1193.7769067027002, 1143.4593506447504, 1136.433795137891, 1128.6205629657359, 1097.8862406704288, 1095.8693201592257, 1095.8058800251026, 1095.436895729882, 1094.19792515225, 1093.7978713360653, 1093.6721444114278, 1093.552093477432, 1093.4026030052505, 1093.4026030052505, 1093.1404389678275, 1093.1404389678275, 1093.1404389678275, 1092.9974914152679, 1092.9974914152679, 1092.9974914152679, 1070.435975910677, 995.1537453806566, 2015.264685932593, 1404.695686857818, 1267.6231565705439, 1407.5752053108486, 1737.8242790973957, 1408.6703765146463, 1128.062467148372, 1103.6569900593038, 2982.7865933756084, 2961.83363173412, 2603.166997690558, 2553.8954946385197, 2483.469822277341, 2461.7474381298816, 2332.466551785104, 2236.469671306333, 2188.3096762400705, 2167.110767442703, 2162.581589811894, 1942.9261412065505, 1870.7708186113007, 1821.1171989760326, 1815.6497414742907, 1812.314850196169, 1674.4737705214525, 1662.6309162358634, 1601.7770694477597, 1592.8369446227493, 1391.3692772491354, 1260.2314314954117, 1259.1062157850397, 1227.669398608133, 1214.7471418417226, 1212.9150981782022, 1194.4728860621608, 1192.079360611492, 1183.9439686130181, 1182.9257890880374, 2974.3683419464087, 1795.7099930060053, 2937.967661412684, 1553.6630670948534, 1783.1064885931519, 1413.017064703283, 2473.2463685294265, 2095.4095767333224, 1640.115260375816, 1654.3637773457517, 3158.2255365086453, 3128.6558031852073, 3125.705619870797, 3124.0798900663817, 3124.076833462015, 3123.8145066899797, 3123.8145066899797, 3123.8145066899797, 3123.8145066899797, 3123.8145066899797, 3123.8145066899797, 3123.6367604741545, 3123.6024552009917, 3123.6024552009917, 1746.4523388615462, 1660.3602223090393, 1613.1075292274218, 1608.4239753642137, 1607.9765747877364, 1607.9624484467029, 1497.1705491670184, 1454.7104111683202, 1200.4776270581333, 1108.8550288258018, 1067.247084727539, 1057.1741740265413, 1012.5154774650152, 989.0121475768825, 978.8148058663415, 965.9891819851472, 2998.913802591408, 3404.3140726601787, 2091.8047594573886, 3448.2608493136254, 1388.7279231905088, 1741.6033695410315, 1282.3812207132596, 1602.6370980406055, 1342.3351758348263, 4848.7764421936545, 4765.310563884989, 4672.380397936242, 4671.56484492169, 4667.564251399969, 4667.061876124195, 4666.94363110285, 4665.381618137829, 4665.076542941633, 4665.076542941633, 1480.9451271909504, 1381.9564097317536, 1380.8948979610961, 1156.7937367619816, 1074.8244985497138, 1002.143637119387, 999.9991817137677, 839.7191497801356, 808.489684444856, 794.6603454250028, 788.8379250832917, 769.8068700169118, 763.122025111024, 755.4267077468032, 753.2116821301568, 752.9300377712253, 752.8897084246486, 609.7999835686201, 600.2236307050968, 600.0739002804178, 1793.020212531975, 995.0722406127002, 4180.583602675459, 4168.298901458885, 3530.322156371463, 1125.3886309418867, 1101.323310539624, 1292.039824872571, 1290.7102496201244, 915.2826728087865, 844.2346911955859, 5510.517814169106, 2784.514104642636, 1917.070461226195, 1652.4489926784788, 1514.6083094500973, 1423.4455286135549, 1396.5433864509255, 1354.5176994669996, 1341.520190785364, 1336.41613393537, 1336.0284713057456, 1335.3616222817857, 1335.3616222817857, 1324.6538072621968, 1321.7790197950862, 1321.6786456282039, 1320.8161871886034, 1298.054898650254, 1120.8437447806339, 1076.4810861625317, 1075.2404642924273, 1075.1335398065326, 1074.2640827061118, 1004.9935792321477, 965.3327692884503, 961.4625360365928, 930.8996267810361, 841.3241616719088, 812.7646170623975, 743.5655843411579, 1438.1544149144722, 1420.2982369931365, 3451.881202094674, 3292.9808560397023, 1543.6484513549774, 1200.3056741854834, 1300.74502743008, 2618.6605721027695, 2263.9881655541167, 2226.6676793793044, 1912.1628819253394, 1770.8779117581219, 1763.868429004918, 1758.4001409518928, 1628.2389379183514, 1624.1543498321248, 1608.6267734410872, 1606.7655515384922, 1606.5436375628592, 1604.2254957643643, 1603.5813811494143, 1603.4135926526512, 1566.8265245572443, 1422.8854116200523, 1323.5852728810266, 1213.9732565560748, 1186.6506413404582, 1179.0341539467797, 1111.2833142386337, 1064.6954652090035, 1032.3241745324726, 1020.7270692809888, 1003.6130937783324, 991.6327118948119, 927.6949383963206, 911.6029159479684, 903.0224602393379, 1760.3096398787143, 1791.7786072603485, 1822.1721920267892, 1685.9448770887425, 1752.9980348243464, 2125.850426663888, 1724.5635021046855, 1187.1990241563271, 1410.094821146483, 1257.5702233712404], \"Total\": [5511.0, 4849.0, 4766.0, 4673.0, 4672.0, 4668.0, 4667.0, 4667.0, 4666.0, 4666.0, 4666.0, 4771.0, 4709.0, 4943.0, 4439.0, 4420.0, 4316.0, 4529.0, 4155.0, 4147.0, 4147.0, 5453.0, 5064.0, 3461.0, 3398.0, 9760.0, 3159.0, 7610.0, 3129.0, 3126.0, 4235.592798640636, 4080.99325460484, 4060.626840268471, 4035.276286139611, 4014.788147973794, 4014.254020123196, 2755.5411893129376, 2613.238607238122, 2598.5395941558395, 2573.8189930602584, 2570.006809068483, 2557.7440048931235, 2540.0439315676235, 1914.62446641785, 1584.4075575249171, 1420.7548515261976, 1378.3245945264377, 1198.9546178267053, 1172.0335966490914, 1149.4165266923562, 1109.535615814171, 1079.731505818522, 1028.5575050395641, 1010.1616638249366, 986.0072000108019, 952.9170283142603, 941.2460172829261, 937.9786630892802, 858.5381488753052, 845.8624741416068, 4628.962279176595, 3886.776797492236, 2239.731052417467, 1938.9473485769452, 5407.459597889315, 5406.1674082898735, 3048.293907441551, 1956.5048613148524, 7610.186348073604, 1802.4265731178264, 1949.058389282105, 3800.648682205249, 1721.4113304845505, 2186.6628912311485, 9518.592000506318, 2275.391104182187, 9956.01385738148, 10292.027159623127, 4701.705702089714, 9760.210328102914, 11037.851475485226, 11300.431340570698, 2447.6670323224394, 2012.3442316809599, 1815.202699912823, 1763.5350804207144, 1666.857661879337, 1663.3222892962506, 1641.5124537791235, 1502.1477711791458, 1461.5307809686253, 1382.9824992361553, 1381.0692100108681, 1354.4147755256215, 1280.2314045039616, 1269.1054424359832, 1235.8460404363504, 1228.0576098709053, 1215.8964209423298, 1206.9903621988356, 1206.6783426364466, 1206.6146092212143, 1206.6024693958818, 1206.2892467198558, 1180.1671153995858, 1150.6038563377972, 1114.3526195913973, 1108.6898714424426, 1098.6474861555107, 1082.808642692909, 1078.363670782747, 1067.175098762274, 2219.893275395319, 2837.0841978990657, 1742.2603028715719, 1792.23867611119, 1989.3359155280236, 1750.7349486805265, 3532.265376708789, 3006.0885033094146, 1652.9283007409265, 1553.52065598568, 2025.5500837273783, 11300.431340570698, 10401.06100668172, 2990.5506226304587, 4771.392111598986, 4709.459801646991, 4439.158269227074, 4420.538569880841, 4316.8657682021085, 4155.131426790188, 4147.606711769368, 4147.598027965267, 3461.1500721938355, 3398.4546719102614, 2366.8165063216225, 2223.2073829398655, 2123.637754806621, 2095.780237864119, 1863.0235095383046, 1748.1056731654655, 1250.9966169139216, 1185.3336450042796, 1154.0150450110652, 1099.491996186221, 945.763945802925, 827.9181326973536, 809.1765912684189, 803.5250617480835, 803.461950831132, 803.1578584150833, 803.1578584150833, 803.1578584150833, 803.1578584150833, 802.8885610330909, 4529.476191861656, 4943.81002767364, 1929.877822099043, 5453.081175250047, 7999.554470556811, 1749.8594836591296, 972.5741078791825, 3532.265376708789, 2226.1023433905534, 2142.534807974184, 2132.572874760356, 1906.1566941503174, 1754.5927860741656, 1722.815708284188, 1624.7919013528058, 1618.974308621276, 1564.3429207902277, 1500.2629633794886, 1450.3948374660908, 1311.8887033300875, 1236.7004372297363, 1111.0760816128475, 1068.4422150977202, 997.3063972244652, 994.8731737778439, 914.9092772319199, 903.1655819146928, 879.6756762991681, 878.7174213199212, 878.119736930822, 878.119736930822, 878.119736930822, 855.5314377581238, 854.4009771787895, 846.9264081217159, 829.2892751506081, 826.5393873227866, 826.185077148694, 2791.330504390183, 3170.892260095787, 1871.105186470857, 7610.186348073604, 9956.01385738148, 2740.5974671190374, 2718.3936120778712, 3704.4974525782654, 2232.782913851447, 2926.835767851274, 1833.841495019556, 2614.5742468890153, 4701.705702089714, 2166.933962028532, 1448.1238605847004, 1427.2448953471733, 1272.2439414999803, 1256.8310406850378, 1249.5194747174648, 1199.4439448429987, 1202.320041764623, 1194.6941019854817, 1144.3757536179596, 1137.3501956027624, 1129.5372456446073, 1098.8026330070386, 1096.7857124354134, 1096.722272265514, 1096.3532879699776, 1095.1143174917609, 1094.7142636414526, 1094.588536667099, 1094.4684858639764, 1094.3189952294697, 1094.3189952294697, 1094.056831191398, 1094.056831191398, 1094.056831191398, 1093.913883639343, 1093.913883639343, 1093.913883639343, 1071.3524483250917, 996.0702728379068, 2732.064927148447, 1706.5530118207134, 1462.8540847214024, 2258.960031180091, 9956.01385738148, 11037.851475485226, 5453.081175250047, 2228.0376760876143, 2983.6999316861466, 2962.7468320320404, 2604.0801916971827, 2554.808782986557, 2484.3830094222744, 2462.660621355571, 2333.379742731365, 2237.382850472211, 2189.2229824372257, 2168.0239485930533, 2163.4947678346307, 1943.839555682462, 1871.6840336400862, 1822.030371583787, 1816.562914113985, 1813.2280227390795, 1675.3869496997968, 1663.5442430301066, 1602.6902453088771, 1593.7505603284674, 1392.2824713757927, 1261.1446100201465, 1260.0193941659206, 1228.582577702185, 1215.6603273045557, 1213.8282768641252, 1195.38606423132, 1192.9925389109894, 1184.8571463745204, 1183.8389703032296, 3019.544978962042, 2004.1889333042575, 5064.612397561499, 2064.804109897161, 2778.257787998284, 1870.0857176621153, 9760.210328102914, 11300.431340570698, 4254.444128010628, 10401.06100668172, 3159.1530793750803, 3129.583342089749, 3126.63315868039, 3125.007428926905, 3125.004372332038, 3124.7420454587227, 3124.7420454587227, 3124.7420454587227, 3124.7420454587227, 3124.7420454587227, 3124.7420454587227, 3124.5642992633816, 3124.5299939698093, 3124.5299939698093, 1747.379894224927, 1661.2877827490872, 1614.0350861901786, 1609.3515323338918, 1608.9041314708659, 1608.8900051305284, 1498.0980983123457, 1455.638067544853, 1201.4052768039958, 1109.7826646476703, 1068.174735203811, 1058.1017221899406, 1013.4430140285186, 989.9398047104155, 979.7423416200901, 966.9167132489414, 3197.404092792248, 4557.741862946763, 2543.425395721448, 9518.592000506318, 1823.78772476404, 3062.5967881029746, 1657.7160154434857, 3238.8317513036454, 2228.9394928704714, 4849.70947909348, 4766.243536584597, 4673.313360533052, 4672.497807870484, 4668.497213295112, 4667.994837967169, 4667.876592957503, 4666.314579964156, 4666.00950476766, 4666.00950476766, 1481.878167861992, 1382.889383224345, 1381.8278714620678, 1157.7268563046755, 1075.75997997184, 1003.0766096054032, 1000.9321430981086, 840.6534495744121, 809.4226844111106, 795.5933004416033, 789.7708814369354, 770.73982677428, 764.0549769185808, 756.3596596024577, 754.1446335569017, 753.8629891166272, 753.822659769986, 610.7331602605194, 601.1565821627117, 601.0068516690901, 2081.1256951518003, 1204.3608624143385, 10292.027159623127, 11037.851475485226, 9760.210328102914, 2242.1257351511335, 2286.856510701495, 7999.554470556811, 9518.592000506318, 4254.444128010628, 3704.4974525782654, 5511.440104766743, 2785.4329206755183, 1917.9910135831035, 1653.3677640512026, 1515.527069391265, 1424.3642886380965, 1397.4621418533275, 1355.4364488928816, 1342.4389371230648, 1337.33487970029, 1336.9472181813958, 1336.280367990545, 1336.280367990545, 1325.5725529913059, 1322.6977655054236, 1322.5973913444755, 1321.7349328984221, 1298.9736859473, 1121.762502011647, 1077.399865985902, 1076.15924429155, 1076.0523198282758, 1075.1828626254724, 1005.9123971075742, 966.251708429264, 962.381380471132, 931.818654504507, 842.2433452641205, 813.6853735248507, 744.4843413491974, 1764.2906588647068, 1739.509054796096, 10401.06100668172, 11300.431340570698, 2995.2709992328328, 1851.7961503694885, 3006.0885033094146, 2619.5662585773657, 2264.8938167223905, 2227.573437133199, 1913.0683436331856, 1771.7833214034956, 1764.7738760036189, 1759.3055496398426, 1629.144330182602, 1625.0598469039396, 1609.532165855745, 1607.6709438468388, 1607.4490299172544, 1605.1308880409306, 1604.4867734013224, 1604.3189849010153, 1567.7319523261972, 1423.7908045757752, 1324.4912117910826, 1214.878700403889, 1187.5560663165243, 1179.9396027962755, 1112.1889934856567, 1065.6008756818912, 1033.229584059251, 1021.6324840735102, 1004.5185035705686, 992.5382655692914, 928.6004369441104, 912.5083084514902, 903.9278525402569, 2038.771465774219, 2558.7814447375304, 2674.8174774272684, 2664.4957620037803, 2990.5506226304587, 5064.612397561499, 3835.854158813133, 2026.6867067498515, 10401.06100668172, 11300.431340570698], \"Category\": [\"Default\", \"Default\", \"Default\", \"Default\", \"Default\", \"Default\", \"Default\", \"Default\", \"Default\", \"Default\", \"Default\", \"Default\", \"Default\", \"Default\", \"Default\", \"Default\", \"Default\", \"Default\", \"Default\", \"Default\", \"Default\", \"Default\", \"Default\", \"Default\", \"Default\", \"Default\", \"Default\", \"Default\", \"Default\", \"Default\", \"Topic1\", \"Topic1\", \"Topic1\", \"Topic1\", \"Topic1\", \"Topic1\", \"Topic1\", \"Topic1\", \"Topic1\", \"Topic1\", \"Topic1\", \"Topic1\", \"Topic1\", \"Topic1\", \"Topic1\", \"Topic1\", \"Topic1\", \"Topic1\", \"Topic1\", \"Topic1\", \"Topic1\", \"Topic1\", \"Topic1\", \"Topic1\", \"Topic1\", \"Topic1\", \"Topic1\", \"Topic1\", \"Topic1\", \"Topic1\", \"Topic1\", \"Topic1\", \"Topic1\", \"Topic1\", \"Topic1\", \"Topic1\", \"Topic1\", \"Topic1\", \"Topic1\", \"Topic1\", \"Topic1\", \"Topic1\", \"Topic1\", \"Topic1\", \"Topic1\", \"Topic1\", \"Topic1\", \"Topic1\", \"Topic1\", \"Topic1\", \"Topic1\", \"Topic1\", \"Topic2\", \"Topic2\", \"Topic2\", \"Topic2\", \"Topic2\", \"Topic2\", \"Topic2\", \"Topic2\", \"Topic2\", \"Topic2\", \"Topic2\", \"Topic2\", \"Topic2\", \"Topic2\", \"Topic2\", \"Topic2\", \"Topic2\", \"Topic2\", \"Topic2\", \"Topic2\", \"Topic2\", \"Topic2\", \"Topic2\", \"Topic2\", \"Topic2\", \"Topic2\", \"Topic2\", \"Topic2\", \"Topic2\", \"Topic2\", \"Topic2\", \"Topic2\", \"Topic2\", \"Topic2\", \"Topic2\", \"Topic2\", \"Topic2\", \"Topic2\", \"Topic2\", \"Topic2\", \"Topic2\", \"Topic2\", \"Topic2\", \"Topic2\", \"Topic3\", \"Topic3\", \"Topic3\", \"Topic3\", \"Topic3\", \"Topic3\", \"Topic3\", \"Topic3\", \"Topic3\", \"Topic3\", \"Topic3\", \"Topic3\", \"Topic3\", \"Topic3\", \"Topic3\", \"Topic3\", \"Topic3\", \"Topic3\", \"Topic3\", \"Topic3\", \"Topic3\", \"Topic3\", \"Topic3\", \"Topic3\", \"Topic3\", \"Topic3\", \"Topic3\", \"Topic3\", \"Topic3\", \"Topic3\", \"Topic3\", \"Topic3\", \"Topic3\", \"Topic3\", \"Topic3\", \"Topic3\", \"Topic3\", \"Topic3\", \"Topic4\", \"Topic4\", \"Topic4\", \"Topic4\", \"Topic4\", \"Topic4\", \"Topic4\", \"Topic4\", \"Topic4\", \"Topic4\", \"Topic4\", \"Topic4\", \"Topic4\", \"Topic4\", \"Topic4\", \"Topic4\", \"Topic4\", \"Topic4\", \"Topic4\", \"Topic4\", \"Topic4\", \"Topic4\", \"Topic4\", \"Topic4\", \"Topic4\", \"Topic4\", \"Topic4\", \"Topic4\", \"Topic4\", \"Topic4\", \"Topic4\", \"Topic4\", \"Topic4\", \"Topic4\", \"Topic4\", \"Topic4\", \"Topic4\", \"Topic4\", \"Topic4\", \"Topic4\", \"Topic4\", \"Topic4\", \"Topic4\", \"Topic5\", \"Topic5\", \"Topic5\", \"Topic5\", \"Topic5\", \"Topic5\", \"Topic5\", \"Topic5\", \"Topic5\", \"Topic5\", \"Topic5\", \"Topic5\", \"Topic5\", \"Topic5\", \"Topic5\", \"Topic5\", \"Topic5\", \"Topic5\", \"Topic5\", \"Topic5\", \"Topic5\", \"Topic5\", \"Topic5\", \"Topic5\", \"Topic5\", \"Topic5\", \"Topic5\", \"Topic5\", \"Topic5\", \"Topic5\", \"Topic5\", \"Topic5\", \"Topic5\", \"Topic5\", \"Topic5\", \"Topic5\", \"Topic5\", \"Topic5\", \"Topic6\", \"Topic6\", \"Topic6\", \"Topic6\", \"Topic6\", \"Topic6\", \"Topic6\", \"Topic6\", \"Topic6\", \"Topic6\", \"Topic6\", \"Topic6\", \"Topic6\", \"Topic6\", \"Topic6\", \"Topic6\", \"Topic6\", \"Topic6\", \"Topic6\", \"Topic6\", \"Topic6\", \"Topic6\", \"Topic6\", \"Topic6\", \"Topic6\", \"Topic6\", \"Topic6\", \"Topic6\", \"Topic6\", \"Topic6\", \"Topic6\", \"Topic6\", \"Topic6\", \"Topic6\", \"Topic6\", \"Topic6\", \"Topic6\", \"Topic6\", \"Topic6\", \"Topic6\", \"Topic7\", \"Topic7\", \"Topic7\", \"Topic7\", \"Topic7\", \"Topic7\", \"Topic7\", \"Topic7\", \"Topic7\", \"Topic7\", \"Topic7\", \"Topic7\", \"Topic7\", \"Topic7\", \"Topic7\", \"Topic7\", \"Topic7\", \"Topic7\", \"Topic7\", \"Topic7\", \"Topic7\", \"Topic7\", \"Topic7\", \"Topic7\", \"Topic7\", \"Topic7\", \"Topic7\", \"Topic7\", \"Topic7\", \"Topic7\", \"Topic7\", \"Topic7\", \"Topic7\", \"Topic7\", \"Topic7\", \"Topic7\", \"Topic7\", \"Topic7\", \"Topic7\", \"Topic8\", \"Topic8\", \"Topic8\", \"Topic8\", \"Topic8\", \"Topic8\", \"Topic8\", \"Topic8\", \"Topic8\", \"Topic8\", \"Topic8\", \"Topic8\", \"Topic8\", \"Topic8\", \"Topic8\", \"Topic8\", \"Topic8\", \"Topic8\", \"Topic8\", \"Topic8\", \"Topic8\", \"Topic8\", \"Topic8\", \"Topic8\", \"Topic8\", \"Topic8\", \"Topic8\", \"Topic8\", \"Topic8\", \"Topic8\", \"Topic8\", \"Topic8\", \"Topic8\", \"Topic8\", \"Topic8\", \"Topic8\", \"Topic8\", \"Topic8\", \"Topic8\", \"Topic8\", \"Topic8\", \"Topic9\", \"Topic9\", \"Topic9\", \"Topic9\", \"Topic9\", \"Topic9\", \"Topic9\", \"Topic9\", \"Topic9\", \"Topic9\", \"Topic9\", \"Topic9\", \"Topic9\", \"Topic9\", \"Topic9\", \"Topic9\", \"Topic9\", \"Topic9\", \"Topic9\", \"Topic9\", \"Topic9\", \"Topic9\", \"Topic9\", \"Topic9\", \"Topic9\", \"Topic9\", \"Topic9\", \"Topic9\", \"Topic9\", \"Topic9\", \"Topic9\", \"Topic9\", \"Topic9\", \"Topic9\", \"Topic9\", \"Topic9\", \"Topic9\", \"Topic10\", \"Topic10\", \"Topic10\", \"Topic10\", \"Topic10\", \"Topic10\", \"Topic10\", \"Topic10\", \"Topic10\", \"Topic10\", \"Topic10\", \"Topic10\", \"Topic10\", \"Topic10\", \"Topic10\", \"Topic10\", \"Topic10\", \"Topic10\", \"Topic10\", \"Topic10\", \"Topic10\", \"Topic10\", \"Topic10\", \"Topic10\", \"Topic10\", \"Topic10\", \"Topic10\", \"Topic10\", \"Topic10\", \"Topic10\", \"Topic10\", \"Topic10\", \"Topic10\", \"Topic10\", \"Topic10\", \"Topic10\", \"Topic10\", \"Topic10\", \"Topic10\", \"Topic10\"], \"logprob\": [30.0, 29.0, 28.0, 27.0, 26.0, 25.0, 24.0, 23.0, 22.0, 21.0, 20.0, 19.0, 18.0, 17.0, 16.0, 15.0, 14.0, 13.0, 12.0, 11.0, 10.0, 9.0, 8.0, 7.0, 6.0, 5.0, 4.0, 3.0, 2.0, 1.0, -4.1685, -4.2057, -4.2107, -4.2169, -4.222, -4.2221, -4.5985, -4.6515, -4.6572, -4.6667, -4.6682, -4.673, -4.68, -4.9627, -5.1522, -5.2612, -5.2916, -5.4311, -5.4538, -5.4733, -5.5087, -5.5359, -5.5845, -5.6026, -5.6268, -5.661, -5.6733, -5.6768, -5.7654, -5.7803, -4.0833, -4.2918, -4.8694, -5.0709, -4.2219, -4.2222, -4.7594, -5.1037, -4.1117, -5.1845, -5.1539, -4.7633, -5.2406, -5.1254, -4.5666, -5.1426, -4.7844, -4.8722, -5.0197, -4.9601, -4.9679, -5.0567, -4.2201, -4.4161, -4.5192, -4.5481, -4.6045, -4.6066, -4.6198, -4.7086, -4.736, -4.7913, -4.7927, -4.8122, -4.8686, -4.8773, -4.9039, -4.9102, -4.9202, -4.9275, -4.9278, -4.9278, -4.9279, -4.9281, -4.95, -4.9754, -5.0075, -5.0126, -5.0217, -5.0362, -5.0403, -5.0508, -4.4128, -4.2093, -4.6777, -4.666, -4.6036, -4.7179, -4.3619, -4.5816, -4.8233, -4.8462, -4.7848, -4.565, -4.8348, -4.9024, -3.3163, -3.3294, -3.3885, -3.3927, -3.4164, -3.4546, -3.4564, -3.4564, -3.6374, -3.6557, -4.0176, -4.0802, -4.126, -4.1393, -4.257, -4.3207, -4.6555, -4.7095, -4.7363, -4.7847, -4.9355, -5.0687, -5.0916, -5.0986, -5.0987, -5.0991, -5.0991, -5.0991, -5.0991, -5.0994, -3.4022, -3.3171, -4.3434, -3.4592, -3.6072, -4.8456, -5.0427, -4.9922, -4.0782, -4.1164, -4.1211, -4.2334, -4.3163, -4.3346, -4.3932, -4.3968, -4.4311, -4.473, -4.5068, -4.6072, -4.6663, -4.7735, -4.8127, -4.8816, -4.8841, -4.9679, -4.9809, -5.0072, -5.0083, -5.009, -5.009, -5.009, -5.0351, -5.0364, -5.0452, -5.0663, -5.0696, -5.07, -3.8922, -3.8026, -4.3259, -4.1065, -3.995, -4.6352, -4.6434, -4.5846, -4.7438, -4.694, -4.8471, -4.7738, -4.6768, -4.0905, -4.4938, -4.5083, -4.6234, -4.6356, -4.6414, -4.6823, -4.6799, -4.6863, -4.7294, -4.7355, -4.7424, -4.77, -4.7719, -4.7719, -4.7723, -4.7734, -4.7738, -4.7739, -4.774, -4.7741, -4.7741, -4.7744, -4.7744, -4.7744, -4.7745, -4.7745, -4.7745, -4.7954, -4.8683, -4.1627, -4.5236, -4.6263, -4.5216, -4.3108, -4.5208, -4.7429, -4.7648, -3.7673, -3.7743, -3.9034, -3.9225, -3.9505, -3.9593, -4.0132, -4.0552, -4.077, -4.0867, -4.0888, -4.1959, -4.2338, -4.2607, -4.2637, -4.2655, -4.3446, -4.3517, -4.389, -4.3946, -4.5298, -4.6288, -4.6297, -4.655, -4.6656, -4.6671, -4.6824, -4.6844, -4.6913, -4.6921, -3.7701, -4.2747, -3.7824, -4.4195, -4.2818, -4.5144, -3.9546, -4.1204, -4.3654, -4.3567, -3.6923, -3.7017, -3.7026, -3.7031, -3.7031, -3.7032, -3.7032, -3.7032, -3.7032, -3.7032, -3.7032, -3.7033, -3.7033, -3.7033, -4.2847, -4.3352, -4.3641, -4.367, -4.3673, -4.3673, -4.4387, -4.4675, -4.6596, -4.7389, -4.7772, -4.7867, -4.8298, -4.8533, -4.8637, -4.8769, -3.744, -3.6172, -4.1042, -3.6044, -4.5139, -4.2875, -4.5936, -4.3706, -4.5479, -3.193, -3.2103, -3.23, -3.2302, -3.2311, -3.2312, -3.2312, -3.2315, -3.2316, -3.2316, -4.379, -4.4482, -4.449, -4.626, -4.6995, -4.7695, -4.7717, -4.9464, -4.9843, -5.0015, -5.0089, -5.0333, -5.042, -5.0522, -5.0551, -5.0555, -5.0555, -5.2663, -5.2821, -5.2824, -4.1878, -4.7766, -3.3412, -3.3442, -3.5103, -4.6536, -4.6752, -4.5155, -4.5165, -4.8602, -4.941, -3.0635, -3.7461, -4.1194, -4.2679, -4.355, -4.4171, -4.4362, -4.4667, -4.4764, -4.4802, -4.4805, -4.481, -4.481, -4.489, -4.4912, -4.4913, -4.4919, -4.5093, -4.6561, -4.6965, -4.6976, -4.6977, -4.6985, -4.7652, -4.8054, -4.8095, -4.8418, -4.9429, -4.9775, -5.0665, -4.4068, -4.4193, -3.5312, -3.5784, -4.336, -4.5876, -4.5072, -3.7501, -3.8957, -3.9123, -4.0646, -4.1413, -4.1453, -4.1484, -4.2253, -4.2278, -4.2374, -4.2386, -4.2387, -4.2402, -4.2406, -4.2407, -4.2637, -4.3601, -4.4325, -4.5189, -4.5417, -4.5481, -4.6073, -4.6501, -4.681, -4.6923, -4.7092, -4.7212, -4.7878, -4.8053, -4.8148, -4.1473, -4.1296, -4.1128, -4.1905, -4.1515, -3.9586, -4.1678, -4.5412, -4.3691, -4.4836], \"loglift\": [30.0, 29.0, 28.0, 27.0, 26.0, 25.0, 24.0, 23.0, 22.0, 21.0, 20.0, 19.0, 18.0, 17.0, 16.0, 15.0, 14.0, 13.0, 12.0, 11.0, 10.0, 9.0, 8.0, 7.0, 6.0, 5.0, 4.0, 3.0, 2.0, 1.0, 1.6574, 1.6574, 1.6574, 1.6574, 1.6574, 1.6574, 1.6573, 1.6572, 1.6572, 1.6572, 1.6572, 1.6572, 1.6572, 1.6571, 1.657, 1.6569, 1.6569, 1.6568, 1.6568, 1.6568, 1.6567, 1.6567, 1.6567, 1.6567, 1.6566, 1.6566, 1.6566, 1.6566, 1.6565, 1.6565, 1.6537, 1.62, 1.5936, 1.5364, 1.3596, 1.3596, 1.3953, 1.4945, 1.1281, 1.4957, 1.4481, 1.1709, 1.4856, 1.3616, 0.4495, 1.3046, 0.1868, 0.0658, 0.7017, 0.031, -0.0999, -0.2122, 2.1541, 2.154, 2.1539, 2.1539, 2.1539, 2.1539, 2.1539, 2.1538, 2.1538, 2.1538, 2.1538, 2.1538, 2.1537, 2.1537, 2.1537, 2.1537, 2.1537, 2.1537, 2.1537, 2.1537, 2.1537, 2.1537, 2.1537, 2.1537, 2.1536, 2.1536, 2.1536, 2.1536, 2.1536, 2.1536, 2.0591, 2.0173, 2.0365, 2.0199, 1.9779, 1.9914, 1.6455, 1.5871, 1.9435, 1.9826, 1.7788, 0.2795, 0.0926, 1.2715, 2.3904, 2.3904, 2.3904, 2.3904, 2.3904, 2.3904, 2.3904, 2.3904, 2.3903, 2.3903, 2.3902, 2.3902, 2.3902, 2.3902, 2.3901, 2.3901, 2.3899, 2.3898, 2.3898, 2.3898, 2.3896, 2.3895, 2.3895, 2.3895, 2.3895, 2.3895, 2.3895, 2.3895, 2.3895, 2.3895, 2.3566, 2.3541, 2.2685, 2.114, 1.5828, 1.8642, 2.2544, 1.0153, 2.3909, 2.3909, 2.3909, 2.3909, 2.3908, 2.3908, 2.3908, 2.3908, 2.3908, 2.3907, 2.3907, 2.3907, 2.3906, 2.3905, 2.3905, 2.3904, 2.3904, 2.3904, 2.3903, 2.3903, 2.3903, 2.3903, 2.3903, 2.3903, 2.3903, 2.3903, 2.3903, 2.3902, 2.3902, 2.3902, 2.3507, 2.3128, 2.317, 1.1334, 0.9762, 1.626, 1.626, 1.3752, 1.7224, 1.5015, 1.8158, 1.5345, 1.0447, 2.4055, 2.4053, 2.4053, 2.4052, 2.4052, 2.4052, 2.4052, 2.4052, 2.4052, 2.4051, 2.4051, 2.4051, 2.4051, 2.4051, 2.4051, 2.4051, 2.4051, 2.4051, 2.4051, 2.4051, 2.4051, 2.4051, 2.4051, 2.4051, 2.4051, 2.4051, 2.4051, 2.4051, 2.4051, 2.405, 2.1016, 2.2113, 2.2627, 1.9329, 0.6604, 0.3473, 0.8303, 1.7034, 2.4089, 2.4089, 2.4089, 2.4089, 2.4089, 2.4089, 2.4088, 2.4088, 2.4088, 2.4088, 2.4088, 2.4088, 2.4087, 2.4087, 2.4087, 2.4087, 2.4087, 2.4087, 2.4087, 2.4087, 2.4086, 2.4085, 2.4085, 2.4085, 2.4085, 2.4085, 2.4085, 2.4085, 2.4085, 2.4085, 2.3942, 2.2994, 1.8647, 2.1248, 1.9658, 2.129, 1.0364, 0.7241, 1.456, 0.5707, 2.4268, 2.4268, 2.4268, 2.4268, 2.4268, 2.4268, 2.4268, 2.4268, 2.4268, 2.4268, 2.4268, 2.4268, 2.4268, 2.4268, 2.4266, 2.4265, 2.4265, 2.4265, 2.4265, 2.4265, 2.4265, 2.4264, 2.4263, 2.4262, 2.4262, 2.4262, 2.4262, 2.4261, 2.4261, 2.4261, 2.363, 2.1353, 2.2316, 1.4117, 2.1546, 1.8626, 2.1704, 1.7235, 1.92, 2.4975, 2.4975, 2.4975, 2.4975, 2.4975, 2.4975, 2.4975, 2.4975, 2.4975, 2.4975, 2.497, 2.497, 2.497, 2.4969, 2.4968, 2.4967, 2.4967, 2.4966, 2.4965, 2.4965, 2.4965, 2.4965, 2.4964, 2.4964, 2.4964, 2.4964, 2.4964, 2.4961, 2.4961, 2.4961, 2.3487, 2.3068, 1.5968, 1.5238, 1.4807, 1.8084, 1.767, 0.6745, 0.4996, 0.9612, 1.0188, 2.499, 2.4989, 2.4987, 2.4986, 2.4986, 2.4986, 2.4985, 2.4985, 2.4985, 2.4985, 2.4985, 2.4985, 2.4985, 2.4985, 2.4985, 2.4985, 2.4985, 2.4985, 2.4984, 2.4983, 2.4983, 2.4983, 2.4983, 2.4983, 2.4982, 2.4982, 2.4982, 2.4981, 2.4981, 2.498, 2.2948, 2.2965, 1.3962, 1.2661, 1.8363, 2.0656, 1.6615, 2.5562, 2.5562, 2.5562, 2.5561, 2.556, 2.556, 2.556, 2.556, 2.556, 2.556, 2.556, 2.556, 2.556, 2.556, 2.556, 2.556, 2.5559, 2.5559, 2.5558, 2.5558, 2.5558, 2.5557, 2.5557, 2.5557, 2.5557, 2.5557, 2.5556, 2.5556, 2.5556, 2.5556, 2.4097, 2.2002, 2.1727, 2.0989, 2.0224, 1.6885, 1.7571, 2.0218, 0.5583, 0.3609]}, \"token.table\": {\"Topic\": [8, 8, 3, 3, 2, 2, 7, 9, 1, 8, 1, 5, 5, 4, 5, 5, 8, 1, 2, 4, 9, 10, 4, 10, 2, 6, 1, 9, 5, 5, 4, 6, 6, 1, 2, 3, 5, 6, 9, 10, 2, 9, 1, 2, 4, 5, 6, 7, 8, 9, 10, 1, 2, 4, 5, 6, 7, 8, 9, 10, 8, 5, 4, 5, 3, 4, 4, 3, 7, 1, 2, 8, 1, 6, 8, 8, 6, 6, 9, 9, 3, 1, 6, 1, 1, 2, 3, 5, 2, 1, 2, 5, 6, 7, 8, 9, 10, 1, 6, 6, 8, 9, 9, 10, 10, 1, 8, 9, 6, 6, 9, 5, 1, 4, 5, 7, 9, 5, 5, 8, 8, 1, 8, 1, 2, 3, 5, 6, 9, 10, 7, 6, 1, 8, 5, 10, 5, 9, 7, 3, 4, 3, 4, 7, 4, 1, 8, 2, 1, 9, 9, 10, 10, 3, 7, 9, 6, 1, 4, 1, 3, 6, 7, 3, 1, 6, 7, 8, 9, 6, 4, 5, 6, 6, 5, 7, 10, 9, 9, 2, 2, 10, 10, 8, 8, 1, 2, 9, 7, 1, 7, 2, 8, 8, 7, 5, 8, 2, 9, 2, 1, 2, 9, 1, 2, 9, 2, 4, 5, 7, 9, 4, 1, 7, 6, 4, 1, 6, 10, 10, 2, 1, 2, 6, 1, 6, 6, 1, 2, 10, 7, 1, 9, 6, 6, 3, 6, 10, 5, 6, 7, 8, 10, 10, 8, 2, 1, 10, 10, 10, 1, 7, 2, 6, 1, 8, 3, 3, 1, 3, 5, 5, 5, 5, 6, 6, 5, 1, 5, 8, 8, 2, 9, 2, 2, 2, 2, 6, 8, 6, 10, 10, 8, 10, 1, 5, 8, 1, 2, 2, 6, 1, 9, 9, 5, 1, 3, 5, 6, 3, 5, 2, 8, 2, 3, 1, 10, 10, 6, 7, 9, 7, 1, 7, 2, 3, 4, 4, 1, 4, 7, 9, 10, 7, 5, 5, 2, 5, 5, 9, 5, 8, 8, 10, 9, 3, 3, 6, 6, 4, 3, 4, 10, 1, 2, 4, 5, 6, 9, 10, 1, 7, 3, 7, 1, 7, 3, 3, 1, 2, 4, 5, 3, 3, 1, 2, 3, 4, 5, 6, 7, 8, 9, 10, 8, 3, 2, 8, 1, 3, 1, 2, 3, 4, 6, 8, 5, 4, 7, 7, 2, 5, 7, 3, 4, 3, 1, 7, 1, 2, 5, 7, 7, 1, 4, 10, 5, 5, 1, 7, 1, 7, 9, 10, 10, 4, 4, 2, 3, 2, 8, 7, 1, 2, 1, 2, 6, 6, 1, 2, 8, 10, 9, 2, 10, 2, 2, 3, 3, 9, 9, 9, 1, 4, 1, 4, 2, 1, 3, 5, 3, 3, 7, 10, 2, 4, 5, 8, 9, 10, 4, 2, 6, 9, 6, 9, 4, 9, 1, 1, 1, 7, 2, 4, 10, 10, 1, 2, 4, 4, 1, 8, 4, 4, 1, 2, 5, 10, 10, 1, 1, 7, 3, 8, 8, 1, 5, 1, 3, 4, 7, 8, 9, 10, 1, 8, 2, 7, 7, 9, 2, 3, 9, 1, 2, 4, 1, 2, 4, 7, 10, 1, 2, 3, 4, 5, 6, 7, 8, 9, 10, 7, 5, 2, 4, 6, 4, 4, 2, 2, 4, 4, 4, 5, 8, 4, 5, 8, 2, 10, 10, 2, 1, 2, 7, 8, 9, 8, 1, 2, 4, 8, 9, 1, 2, 4, 8, 3, 9, 3, 3, 7, 1, 10, 10, 1, 2, 4, 5, 4, 1, 2, 4, 4, 1, 5, 9, 9, 9, 9, 8, 10, 10, 4], \"Freq\": [0.9994073953709305, 0.9986192395175076, 0.9991922447389592, 0.9985583675700215, 0.9996878160881791, 0.9996368321656055, 0.9988303057834621, 0.9989227948394261, 0.999860043524291, 0.9997836470828814, 0.13261746473979114, 0.8667986870621399, 0.9992695385113503, 0.9991581719936325, 0.9990340253254969, 0.7375373769404253, 0.26207283468453824, 0.22915365485948896, 0.04614356872597218, 0.25522346769902127, 0.019813057758044553, 0.44970427148193226, 0.9992319029417629, 0.9995826609609344, 0.9090527109419863, 0.09054489340898872, 0.1842100100496663, 0.8150584444659081, 0.9992836226561808, 0.9990340253254969, 0.9991835585564657, 0.9995680941464495, 0.999172161571364, 0.15415340773284367, 0.1533569779569564, 0.014866689149895371, 0.08946561149133464, 0.18539115338708811, 0.29140480577741346, 0.11132318422957367, 0.9989312292028123, 0.9990220551464972, 0.1724973382934834, 0.10608948694415392, 0.07374623601412579, 0.12765165423083935, 0.029715928025347983, 0.07447101474645135, 0.37760971954161704, 0.03234325093002814, 0.005888827200145179, 0.20355562296016275, 0.11717808176131565, 0.025359435605060848, 0.07646695716928309, 0.03439555633789862, 0.08919525626607609, 0.40623678262359925, 0.040808287180557686, 0.006898543785284752, 0.9983247251403309, 0.9995719512530262, 0.9991223265428615, 0.9989020878644876, 0.9985583675700215, 0.9990314960148494, 0.998690074356185, 0.9998662121598916, 0.9997625258507975, 0.12523229223385676, 0.8100774845465422, 0.06473360033344287, 0.9961195883454488, 0.003672529386656393, 0.9997868810909821, 0.9982423467509492, 0.9995851926140267, 0.9997317448657593, 0.9996692991963886, 0.9994439634754826, 0.9985583675700215, 0.35777817461502387, 0.6417690999382168, 0.9986762044565958, 0.03991772558475707, 0.6010307192655266, 0.2528122620367948, 0.1058810593524762, 0.9994854618369933, 0.19661461541198108, 0.026331399771172034, 0.021618386582557585, 0.25337568729225074, 0.03165915381047533, 0.3616725338219349, 0.04323677316511517, 0.0654699005983616, 0.10378263074084311, 0.8961231000507415, 0.999683427193478, 0.999893496071135, 0.9996522204044321, 0.9990418418011555, 0.9992036856852259, 0.9994838287510628, 0.9998456296790794, 0.9997189658745883, 0.9993494270835575, 0.999441362324881, 0.9993227422454984, 0.9991214443920504, 0.9993387809036091, 0.15029372452373158, 0.008337462090367592, 0.04453960011433213, 0.7468610777792443, 0.04980536564509062, 0.9992239195725656, 0.9993414264633999, 0.9989266925426297, 0.9982023636702514, 0.999517261269907, 0.999023917625916, 0.143543048064124, 0.12719856168039922, 0.017113638684135343, 0.08556819342067672, 0.15902223810988686, 0.3318892176271641, 0.13556309294736424, 0.9996776235097621, 0.9996901213221896, 0.9996876081790267, 0.9994008866956838, 0.9991277633213251, 0.9997206568240129, 0.9991645744212491, 0.9996730301014619, 0.9989587747880607, 0.9997277037296839, 0.9984453251847807, 0.9993675021010238, 0.9283283551130568, 0.07108098516409703, 0.9985656032994643, 0.9996837177806153, 0.9997836470828814, 0.9992359132695415, 0.9987676123846657, 0.9990421771670498, 0.9990418418011555, 0.9997425731858532, 0.9996291317098146, 0.9996677196394704, 0.9997625258507975, 0.9992504190363256, 0.9990924038281952, 0.8860477832267568, 0.11397937141624753, 0.9630087332040776, 0.009262173228786214, 0.027529237096670135, 0.9998136039127307, 0.998893294690925, 0.183572748049037, 0.38547926606968075, 0.1031862181735304, 0.21506922466692555, 0.1125881514923031, 0.9995693208273417, 0.9995861122937006, 0.9994190127963902, 0.9992765825170206, 0.9992913138321382, 0.4955032905631111, 0.13240350608344, 0.37207629336668396, 0.9992915066739252, 0.9995680711779873, 0.9992627489259035, 0.9995006894058625, 0.9993478105400494, 0.9992767175820952, 0.9990401082848198, 0.998908682620078, 0.9380590574624008, 0.06161454066149991, 0.9987045731269145, 0.9995628624181269, 0.9995890104282649, 0.9997625258507975, 0.9992895794149977, 0.9993568659683602, 0.998076071697409, 0.9992670050689052, 0.9994623215506248, 0.9992935413233536, 0.8885009877390914, 0.11077563994421487, 0.9994906333666795, 0.21367014876581142, 0.27076014163917667, 0.51547923389752, 0.26622800781912836, 0.08532256640045088, 0.648019491648994, 0.2619929423748651, 0.4245433080818981, 0.18588112407910135, 0.06540261773153566, 0.06196037469303378, 0.9994336241755479, 0.9998035996286186, 0.9998303764179469, 0.999634535729433, 0.9993225771913183, 0.05640651830308455, 0.07995010855132853, 0.8632649757689461, 0.9992954543150616, 0.9987354258867445, 0.9989785064340394, 0.9993154159914194, 0.9991680258856477, 0.9990389821587035, 0.9995258131502445, 0.999317632584516, 0.0828315212407244, 0.8716695830991976, 0.04511674348430946, 0.999210306682887, 0.9993225113701137, 0.9985646226130687, 0.9997654148533124, 0.9997713108245111, 0.9991204230694796, 0.5801036228191091, 0.4197754602155977, 0.9989824646852274, 0.9993819339091121, 0.7616017923246564, 0.08992274581802999, 0.14804354494431768, 0.9994415549048516, 0.9997390950388809, 0.9988988697696967, 0.9989803612667864, 0.9989309429488864, 0.999257917625446, 0.9996966173798426, 0.3974984528893568, 0.6020800494102899, 0.99912895934489, 0.9988404882131436, 0.9997566144948368, 0.9997182830386532, 0.9997082378546082, 0.9997390790873344, 0.0346593043319832, 0.7582868963637595, 0.2068555306162807, 0.9988128585127233, 0.9991645744212491, 0.9991645744212491, 0.9996728412650359, 0.9994568159462603, 0.99958426040732, 0.4152309504342961, 0.08251098370606313, 0.5017559819963299, 0.99848220950469, 0.5671822363589625, 0.4327883222891555, 0.9996965864605388, 0.9990110592098724, 0.9994751831097463, 0.9993777597683425, 0.9849166085356019, 0.014571731935294716, 0.9997479258018384, 0.9994361156267756, 0.9988099604596876, 0.9992226885231448, 0.9994576878414025, 0.743598844851901, 0.12759168371075053, 0.12850631943627563, 0.1613603803633123, 0.8379680812013757, 0.999225809971638, 0.9990788712763686, 0.9989566254246585, 0.999678001212644, 0.9990018358748041, 0.9995689937741999, 0.7692827762688312, 0.04297485871693684, 0.13351730914346027, 0.054128638841943355, 0.999450619096826, 0.9989255046886828, 0.8743255130505753, 0.12554131489239276, 0.9991387945790129, 0.9995525240857345, 0.3670488104903251, 0.6327651272870022, 0.9994445781127159, 0.9994344926408162, 0.9379483834278249, 0.06192523505125353, 0.9992248286164146, 0.9991116190286823, 0.9991602006729183, 0.6867270333993957, 0.31300139408714367, 0.9997503853976172, 0.9993931799238399, 0.17845940894192858, 0.09910981015633058, 0.4949315441763175, 0.1874132547192918, 0.03982917604413285, 0.9990519211878538, 0.9987978130315938, 0.9987656460879655, 0.9992531988931138, 0.9990340253254969, 0.8232970146652591, 0.17637893339092028, 0.9993475341783922, 0.9993721694364114, 0.9992542666695735, 0.9993533957984273, 0.9990929656397538, 0.9992033416394202, 0.9985583675700215, 0.9994433187567983, 0.99919096946393, 0.9993788214732162, 0.5909045895718458, 0.2914519735799239, 0.11715226388996942, 0.38454129512964175, 0.09209423716323832, 0.2601183650130265, 0.08209786500002307, 0.025097274792753168, 0.12825132796635727, 0.027649540025914507, 0.9996817985015781, 0.9998193990555693, 0.9996996875737504, 0.9994468203993497, 0.999526025968432, 0.9997625258507975, 0.999902366371865, 0.9998537200338579, 0.6146319208447816, 0.07814455500466615, 0.2044387853152377, 0.1026140621273394, 0.9993465521200531, 0.9994250495239332, 0.08050448338970735, 0.02850158728703925, 0.44577482572623667, 0.032876830949523345, 0.07362910049151807, 0.07950442769542528, 0.007125396821759812, 0.16150899462655574, 0.01937607907671528, 0.07112896125581286, 0.9988552440840233, 0.9998558134223147, 0.1727057117939136, 0.8261643424756926, 0.8417511691363906, 0.15742896261971143, 0.14014297347833726, 0.08615793700224625, 0.1276009953071242, 0.5622078041095943, 0.06216458745731692, 0.021812135949935762, 0.999629874455653, 0.9993981938959207, 0.9989002406019397, 0.999050644588748, 0.9997274824093184, 0.9987946885366884, 0.9993586965989557, 0.9642360797271896, 0.03560007342814881, 0.9997994451881071, 0.9996082465365732, 0.9997974950535428, 0.7027363326950805, 0.10899225172506564, 0.18809953120293588, 0.9996350036398652, 0.9997625258507975, 0.9993731800083547, 0.9991415432176793, 0.9989735325251352, 0.9990222460807998, 0.9987946885366884, 0.9997091167483141, 0.9998303764179469, 0.24525037896453533, 0.042245873205781236, 0.03103015465557383, 0.6811679732825966, 0.9991778537102479, 0.9995126136755442, 0.9989061527508979, 0.12646851176021603, 0.8729411909302716, 0.8493575804382638, 0.1502226251884757, 0.9992423093413901, 0.15706260425947574, 0.8419585507024355, 0.9990376619506081, 0.9993320070891465, 0.9994086934474927, 0.9995277042056119, 0.9994579738742534, 0.28371429983971896, 0.1297684536658193, 0.5856849981039068, 0.9994833064513414, 0.9992050312168846, 0.9995331138559043, 0.9993374294160753, 0.9991794779562022, 0.9996550191705011, 0.9996277100766471, 0.9991727405838304, 0.9994724679185067, 0.9991576922147665, 0.8494739946023273, 0.150267962944094, 0.8505200837936083, 0.1492432501894851, 0.9994106515841797, 0.007064834573475859, 0.9665576800836659, 0.02627235357011335, 0.9998781664558904, 0.9994569184372405, 0.9994380451555934, 0.9995317557357531, 0.06937513206309064, 0.3619924206093562, 0.25860457788498376, 0.22783117300096692, 0.04076126436391707, 0.0415710908082333, 0.9987248470980328, 0.9987861835045595, 0.7526137673551018, 0.2469967962362303, 0.7555803387271787, 0.24383909020494937, 0.9990061558511343, 0.999320264307035, 0.9996738439162337, 0.9991181168764731, 0.2256116225672975, 0.7733532089071534, 0.07537310649362153, 0.9243455026477183, 0.9995578909711854, 0.9992975882115529, 0.7423079039863336, 0.13462883759393396, 0.12279333538787383, 0.9983602813945561, 0.9998036887764074, 0.9987995407680064, 0.9995265260931475, 0.9990383049980185, 0.15280711090200486, 0.040644346633781345, 0.10590978786302638, 0.7003333573820785, 0.9996693661257388, 0.9994686968512642, 0.9997923471487397, 0.9997625258507975, 0.9988910344379555, 0.9998537068876934, 0.9998122073409512, 0.3767220261774325, 0.6232956672829906, 0.2987836856384558, 0.019540705178886352, 0.08583202221048467, 0.36223844869247385, 0.1356293031502273, 0.0757464969568659, 0.022167144047016238, 0.13790613448702135, 0.8615529586593356, 0.17731992483784764, 0.8225128220859806, 0.9996786013034316, 0.9985237695600544, 0.11451502134970806, 0.8850301197524949, 0.9988998498147711, 0.811160921957976, 0.08722160451161032, 0.10107444758110137, 0.099915209598826, 0.2621957951237166, 0.03689679308714816, 0.5687983500691336, 0.03199898869504885, 0.2297104074744128, 0.05905978119587001, 0.0226998478746031, 0.2428682838973022, 0.17456785666398314, 0.013860969056173573, 0.08196051267998287, 0.012956992813379645, 0.08999585706037334, 0.0723180994235143, 0.9992947586292323, 0.999524366596428, 0.03976598250383467, 0.9601156136060982, 0.999529060351632, 0.999504810102812, 0.9996621517659993, 0.9989554340729394, 0.9994378430336585, 0.9987248470980328, 0.9987248470980328, 0.46522702268286836, 0.275852258155489, 0.2587027130056107, 0.46498049229663635, 0.2755303708308391, 0.2589764767221772, 0.41363620152062397, 0.5861796776601891, 0.9995614871603996, 0.9990381391210765, 0.20158676237128137, 0.2566842288762303, 0.015304851806930257, 0.4814469096980061, 0.04416542949999874, 0.9990687249834705, 0.3416659079351577, 0.07379983611399407, 0.4106824213380596, 0.07004151112670733, 0.10352477010435279, 0.28484632162601486, 0.09181367285115259, 0.5123650816669199, 0.11107215057115045, 0.1828102010295518, 0.8163222813269295, 0.9985459400567007, 0.9988748779637696, 0.9995616578330291, 0.9992037915259581, 0.9993809084153351, 0.9994429547141848, 0.588947470535271, 0.12115340647780451, 0.2842243147630056, 0.005518918733262245, 0.9997313691986163, 0.7423003575224888, 0.13466101676460798, 0.12282268562046664, 0.9987094482584005, 0.9988500218662645, 0.9987376252070865, 0.9998445768798434, 0.9995483195805579, 0.9987006996844009, 0.9999201470471641, 0.9998934600098376, 0.9997838349858449, 0.9996053604297953, 0.9993474148587961], \"Term\": [\"act\", \"act insurrection\", \"actor\", \"actor breached\", \"actual\", \"actual coup\", \"administration\", \"administration tonight\", \"ago\", \"ago heart\", \"allowed\", \"allowed\", \"allowed run\", \"amendment\", \"amendment control\", \"america\", \"america\", \"american\", \"american\", \"american\", \"american\", \"american\", \"american backed\", \"american thing\", \"arrest\", \"arrest\", \"arrested\", \"arrested\", \"arsenal\", \"arsenal impeachment\", \"asking\", \"assault\", \"assault democracy\", \"attempt\", \"attempt\", \"attempt\", \"attempt\", \"attempt\", \"attempt\", \"attempt\", \"attempt dystopian\", \"attempt remembered\", \"attempted\", \"attempted\", \"attempted\", \"attempted\", \"attempted\", \"attempted\", \"attempted\", \"attempted\", \"attempted\", \"attempted coup\", \"attempted coup\", \"attempted coup\", \"attempted coup\", \"attempted coup\", \"attempted coup\", \"attempted coup\", \"attempted coup\", \"attempted coup\", \"attempted president\", \"attempted seditious\", \"attention\", \"away\", \"away line\", \"backed\", \"backed coup\", \"backyard\", \"backyard today\", \"biden\", \"biden\", \"biden\", \"black\", \"black\", \"black capitol\", \"blame\", \"blood\", \"blood hand\", \"bos\", \"bos work\", \"breached police\", \"building\", \"building\", \"called\", \"calling\", \"calling\", \"calling\", \"calling\", \"calling removal\", \"capitol\", \"capitol\", \"capitol\", \"capitol\", \"capitol\", \"capitol\", \"capitol\", \"capitol\", \"capitol building\", \"capitol building\", \"capitol coup\", \"capitol worker\", \"cia\", \"cia crisis\", \"city\", \"city star\", \"cleaning\", \"cleaning white\", \"college\", \"color\", \"color mayonnaise\", \"come\", \"complicit\", \"congress\", \"congress\", \"congress\", \"congress\", \"congress\", \"control\", \"control nuclear\", \"corrupt\", \"corrupt president\", \"counsel\", \"coup act\", \"coup attempt\", \"coup attempt\", \"coup attempt\", \"coup attempt\", \"coup attempt\", \"coup attempt\", \"coup attempt\", \"coup backyard\", \"coup color\", \"coup couple\", \"coup etat\", \"coup government\", \"coup honestly\", \"coup inaugurating\", \"coup involved\", \"coup need\", \"coup point\", \"coup police\", \"coup sign\", \"coup today\", \"coup today\", \"coup \\u00e9tat\", \"couple\", \"couple ago\", \"coverage\", \"coverage coup\", \"crisis\", \"crisis learning\", \"cruz\", \"cruz hawley\", \"curfew\", \"curfew pm\", \"damn\", \"davis\", \"day\", \"day\", \"dc\", \"dc\", \"dc\", \"dc resident\", \"dc saw\", \"democracy\", \"democracy\", \"democracy\", \"democracy\", \"democracy\", \"democracy sen\", \"difference\", \"director\", \"director human\", \"documented\", \"donald\", \"donald\", \"donald\", \"doomscrolling\", \"doomscrolling coup\", \"dystopian\", \"dystopian shit\", \"editorial\", \"editorial board\", \"egged\", \"egged corrupt\", \"election\", \"election\", \"electoral\", \"encouraged attempted\", \"endure\", \"endure coup\", \"enforcement\", \"etat\", \"etat attempted\", \"expelled\", \"expulsion cruz\", \"facebook\", \"fact\", \"fact\", \"fact live\", \"failed\", \"failed\", \"failed\", \"failed coup\", \"failed coup\", \"failed coup\", \"fascist\", \"fascist\", \"fascist\", \"fascist\", \"fascist\", \"fascist coup\", \"fear\", \"fear personal\", \"followgoosehead\", \"forget\", \"friend\", \"friend\", \"friend\", \"friend said\", \"fuck\", \"fucking\", \"general\", \"general counsel\", \"going\", \"goosehead\", \"goosehead insurance\", \"gop\", \"gop\", \"gop\", \"gop member\", \"got\", \"guy\", \"hand\", \"hand capitol\", \"happening\", \"hawley\", \"hawley\", \"hawley attempted\", \"hawley blood\", \"hawleymo\", \"hawleymo\", \"hawleymo\", \"heard\", \"heart\", \"helped\", \"history\", \"home\", \"honestly\", \"honestly american\", \"house\", \"house\", \"human\", \"human resource\", \"image\", \"image black\", \"impeach\", \"impeach remove\", \"impeachment\", \"impeachment\", \"impeachment\", \"impeachment removal\", \"inaugurating\", \"inaugurating joe\", \"inciting\", \"instagram\", \"insurance\", \"insurrection\", \"insurrection\", \"insurrection\", \"insurrection egged\", \"involved\", \"involved\", \"involved today\", \"joe\", \"joe biden\", \"join\", \"josh\", \"josh\", \"josh hawley\", \"kansa\", \"kansa city\", \"kcstar\", \"kcstar editorial\", \"know\", \"know\", \"know\", \"law\", \"law\", \"law enforcement\", \"lawyer\", \"leader\", \"learning\", \"learning coup\", \"let\", \"like\", \"like\", \"like\", \"like\", \"line\", \"literally\", \"live\", \"live\", \"live tweeting\", \"look\", \"make\", \"make\", \"make sense\", \"mayonnaise\", \"member\", \"member\", \"member involved\", \"message\", \"message stand\", \"national\", \"national\", \"nationalist\", \"nationalist trump\", \"need\", \"need\", \"need\", \"need\", \"need\", \"need expelled\", \"nuclear\", \"nuclear arsenal\", \"operation\", \"operation th\", \"order\", \"order\", \"order operation\", \"overthrow\", \"overthrow democracy\", \"pandemic\", \"pas\", \"patriot\", \"patriot walked\", \"paul\", \"paul davis\", \"pay\", \"penny\", \"penny\", \"penny\", \"people\", \"people\", \"people\", \"people\", \"people\", \"people\", \"people\", \"personal\", \"personal safety\", \"petition\", \"petition send\", \"pm\", \"pm fear\", \"point\", \"point impeachment\", \"police\", \"police\", \"police\", \"police\", \"police line\", \"police patriot\", \"president\", \"president\", \"president\", \"president\", \"president\", \"president\", \"president\", \"president\", \"president\", \"president\", \"president overthrow\", \"president staging\", \"president united\", \"president united\", \"protest\", \"protest\", \"protestors\", \"protestors\", \"protestors\", \"protestors\", \"protestors\", \"protestors\", \"real\", \"really\", \"remembered\", \"remembered traitor\", \"removal\", \"removal allowed\", \"removal gop\", \"remove\", \"remove\", \"remove president\", \"representation\", \"representation congress\", \"republican\", \"republican\", \"republican\", \"resident\", \"resident endure\", \"resource\", \"response\", \"responsible wednesday\", \"run\", \"run expulsion\", \"safety\", \"safety representation\", \"said\", \"said\", \"said\", \"said\", \"said supposed\", \"saw\", \"school\", \"security\", \"security\", \"sedition\", \"sedition\", \"seditionist\", \"seditious\", \"seditious\", \"seditious coup\", \"seen\", \"sen\", \"sen josh\", \"senate\", \"senator\", \"senator\", \"senator\", \"send\", \"send message\", \"sense\", \"shit\", \"shit ve\", \"sign\", \"sign petition\", \"sorry\", \"sorry bos\", \"staff\", \"stage\", \"stage\", \"stage coup\", \"stage coup\", \"staggering\", \"staging\", \"staging\", \"staging\", \"staging coup\", \"stand\", \"stand treason\", \"star\", \"state\", \"state\", \"state\", \"state\", \"state\", \"state\", \"state undergoes\", \"storm\", \"stormed\", \"stormed\", \"stormed capitol\", \"stormed capitol\", \"street\", \"successful\", \"support\", \"support coup\", \"supported\", \"supported\", \"supporter\", \"supporter\", \"supposed\", \"supposed working\", \"supremacist\", \"supremacist\", \"supremacist\", \"supremacist coup\", \"supremacist thug\", \"talk\", \"th\", \"th amendment\", \"thing\", \"thing\", \"thing\", \"thing\", \"thing ve\", \"think\", \"thousand\", \"thousand dc\", \"thread\", \"thug\", \"thug attempted\", \"time\", \"time\", \"today\", \"today\", \"today\", \"today\", \"today\", \"today\", \"today\", \"today attempted\", \"today attempted\", \"today coup\", \"today coup\", \"today curfew\", \"told\", \"tonight\", \"tonight\", \"tonight support\", \"traitor\", \"traitor\", \"traitor\", \"treason\", \"treason\", \"treason\", \"treason\", \"treason\", \"trump\", \"trump\", \"trump\", \"trump\", \"trump\", \"trump\", \"trump\", \"trump\", \"trump\", \"trump\", \"trump administration\", \"trump attempted\", \"trump supporter\", \"trump supporter\", \"try\", \"trying\", \"tweet\", \"tweeting\", \"tweeting actual\", \"undergoes\", \"undergoes american\", \"united\", \"united\", \"united\", \"united state\", \"united state\", \"united state\", \"ve\", \"ve\", \"ve heard\", \"ve seen\", \"violence\", \"violence\", \"violence\", \"violence\", \"violence\", \"violence capitol\", \"violent\", \"violent\", \"violent\", \"violent\", \"violent\", \"violent coup\", \"violent coup\", \"violent coup\", \"violent coup\", \"vote\", \"vote\", \"walked away\", \"watch\", \"watching\", \"way\", \"wednesday\", \"wednesday coup\", \"white\", \"white\", \"white\", \"white\", \"white nationalist\", \"white supremacist\", \"white supremacist\", \"white supremacist\", \"wing\", \"woman\", \"word\", \"work\", \"work doomscrolling\", \"work trump\", \"worker\", \"worker cleaning\", \"working\", \"working coup\", \"\\u00e9tat\"]}, \"R\": 30, \"lambda.step\": 0.01, \"plot.opts\": {\"xlab\": \"PC1\", \"ylab\": \"PC2\"}, \"topic.order\": [3, 7, 5, 2, 9, 6, 10, 4, 8, 1]};\n",
       "\n",
       "function LDAvis_load_lib(url, callback){\n",
       "  var s = document.createElement('script');\n",
       "  s.src = url;\n",
       "  s.async = true;\n",
       "  s.onreadystatechange = s.onload = callback;\n",
       "  s.onerror = function(){console.warn(\"failed to load library \" + url);};\n",
       "  document.getElementsByTagName(\"head\")[0].appendChild(s);\n",
       "}\n",
       "\n",
       "if(typeof(LDAvis) !== \"undefined\"){\n",
       "   // already loaded: just create the visualization\n",
       "   !function(LDAvis){\n",
       "       new LDAvis(\"#\" + \"ldavis_el437711405721410804004617757872\", ldavis_el437711405721410804004617757872_data);\n",
       "   }(LDAvis);\n",
       "}else if(typeof define === \"function\" && define.amd){\n",
       "   // require.js is available: use it to load d3/LDAvis\n",
       "   require.config({paths: {d3: \"https://cdnjs.cloudflare.com/ajax/libs/d3/3.5.5/d3.min\"}});\n",
       "   require([\"d3\"], function(d3){\n",
       "      window.d3 = d3;\n",
       "      LDAvis_load_lib(\"https://cdn.rawgit.com/bmabey/pyLDAvis/files/ldavis.v1.0.0.js\", function(){\n",
       "        new LDAvis(\"#\" + \"ldavis_el437711405721410804004617757872\", ldavis_el437711405721410804004617757872_data);\n",
       "      });\n",
       "    });\n",
       "}else{\n",
       "    // require.js not available: dynamically load d3 & LDAvis\n",
       "    LDAvis_load_lib(\"https://cdnjs.cloudflare.com/ajax/libs/d3/3.5.5/d3.min.js\", function(){\n",
       "         LDAvis_load_lib(\"https://cdn.rawgit.com/bmabey/pyLDAvis/files/ldavis.v1.0.0.js\", function(){\n",
       "                 new LDAvis(\"#\" + \"ldavis_el437711405721410804004617757872\", ldavis_el437711405721410804004617757872_data);\n",
       "            })\n",
       "         });\n",
       "}\n",
       "</script>"
      ],
      "text/plain": [
       "PreparedData(topic_coordinates=               x          y  topics  cluster       Freq\n",
       "topic                                                  \n",
       "2      32.420952  8.115230   1       1        19.059702\n",
       "6      0.648955   71.707100  2       1        11.596622\n",
       "4      71.019684  9.971006   3       1        9.157362 \n",
       "1      3.785981   33.185135  4       1        9.150480 \n",
       "8     -42.666500 -9.222070   5       1        9.018098 \n",
       "5     -3.621689  -43.526516  6       1        8.988487 \n",
       "9     -3.632402  -4.171708   7       1        8.829382 \n",
       "3     -36.584400  35.804413  8       1        8.227655 \n",
       "7      44.391380  50.615383  9       1        8.215107 \n",
       "0      40.235809 -31.591665  10      1        7.757105 , topic_info=                 Term         Freq         Total Category  logprob  loglift\n",
       "1975  worker           5511.000000  5511.000000   Default  30.0000  30.0000\n",
       "1790  thug             4849.000000  4849.000000   Default  29.0000  29.0000\n",
       "835   heart            4766.000000  4766.000000   Default  28.0000  28.0000\n",
       "315   cleaning white   4673.000000  4673.000000   Default  27.0000  27.0000\n",
       "1976  worker cleaning  4672.000000  4672.000000   Default  26.0000  26.0000\n",
       "...               ...          ...          ...       ...      ...      ...\n",
       "820   hawley           2125.850427  5064.612398   Topic10 -3.9586   1.6885 \n",
       "60    american         1724.563502  3835.854159   Topic10 -4.1678   1.7571 \n",
       "1566  senator          1187.199024  2026.686707   Topic10 -4.5412   2.0218 \n",
       "409   coup attempt     1410.094821  10401.061007  Topic10 -4.3691   0.5583 \n",
       "118   attempt          1257.570223  11300.431341  Topic10 -4.4836   0.3609 \n",
       "\n",
       "[442 rows x 6 columns], token_table=      Topic      Freq              Term\n",
       "term                                   \n",
       "11    8      0.999407  act             \n",
       "12    8      0.998619  act insurrection\n",
       "21    3      0.999192  actor           \n",
       "22    3      0.998558  actor breached  \n",
       "23    2      0.999688  actual          \n",
       "...  ..           ...             ...  \n",
       "1975  9      0.999920  worker          \n",
       "1976  8      0.999893  worker cleaning \n",
       "1977  10     0.999784  working         \n",
       "1978  10     0.999605  working coup    \n",
       "1998  4      0.999347  état            \n",
       "\n",
       "[594 rows x 3 columns], R=30, lambda_step=0.01, plot_opts={'xlab': 'PC1', 'ylab': 'PC2'}, topic_order=[3, 7, 5, 2, 9, 6, 10, 4, 8, 1])"
      ]
     },
     "execution_count": 44,
     "metadata": {},
     "output_type": "execute_result"
    }
   ],
   "source": [
    "pyLDAvis.enable_notebook()\n",
    "panel = pyLDAvis.sklearn.prepare(lda_model, doc_term_matrix_1, tfidfconverter, mds='tsne')\n",
    "panel"
   ]
  },
  {
   "cell_type": "code",
   "execution_count": 45,
   "metadata": {},
   "outputs": [
    {
     "name": "stdout",
     "output_type": "stream",
     "text": [
      "Log Likelihood:  -10212790.256827\n",
      "Perplexity:  1228.8310123398423\n"
     ]
    }
   ],
   "source": [
    "# Log Likelyhood: Higher the better\n",
    "print(\"Log Likelihood: \", lda_model.score(doc_term_matrix_1))\n",
    "\n",
    "# Perplexity: Lower the better. Perplexity = exp(-1. * log-likelihood per word)\n",
    "print(\"Perplexity: \", lda_model.perplexity(doc_term_matrix_1))"
   ]
  },
  {
   "cell_type": "code",
   "execution_count": null,
   "metadata": {},
   "outputs": [],
   "source": [
    "from sklearn.model_selection import GridSearchCV\n",
    "\n",
    "# Define Search Param\n",
    "search_params = {'n_components': [5, 8, 10, 12], 'learning_decay': [.5, .7, .9]}\n",
    "\n",
    "# Init the Model\n",
    "lda = LatentDirichletAllocation()\n",
    "\n",
    "# Init Grid Search Class\n",
    "model = GridSearchCV(lda, param_grid=search_params)\n",
    "\n",
    "# Do the Grid Search\n",
    "model.fit(doc_term_matrix_1)"
   ]
  },
  {
   "cell_type": "code",
   "execution_count": null,
   "metadata": {},
   "outputs": [],
   "source": [
    "# Best Model\n",
    "best_lda_model = model.best_estimator_\n",
    "\n",
    "# Model Parameters\n",
    "print(\"Best Model's Params: \", model.best_params_)\n",
    "\n",
    "# Log Likelihood Score\n",
    "print(\"Best Log Likelihood Score: \", model.best_score_)\n",
    "\n",
    "# Perplexity\n",
    "print(\"Model Perplexity: \", best_lda_model.perplexity(doc_term_matrix_1))"
   ]
  },
  {
   "cell_type": "code",
   "execution_count": null,
   "metadata": {},
   "outputs": [],
   "source": []
  },
  {
   "cell_type": "code",
   "execution_count": null,
   "metadata": {},
   "outputs": [],
   "source": []
  },
  {
   "cell_type": "code",
   "execution_count": null,
   "metadata": {},
   "outputs": [],
   "source": []
  },
  {
   "cell_type": "code",
   "execution_count": null,
   "metadata": {},
   "outputs": [],
   "source": []
  }
 ],
 "metadata": {
  "kernelspec": {
   "display_name": "Python 3",
   "language": "python",
   "name": "python3"
  },
  "language_info": {
   "codemirror_mode": {
    "name": "ipython",
    "version": 3
   },
   "file_extension": ".py",
   "mimetype": "text/x-python",
   "name": "python",
   "nbconvert_exporter": "python",
   "pygments_lexer": "ipython3",
   "version": "3.7.7"
  }
 },
 "nbformat": 4,
 "nbformat_minor": 4
}
