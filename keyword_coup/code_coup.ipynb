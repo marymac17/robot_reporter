{
 "cells": [
  {
   "cell_type": "code",
   "execution_count": 1,
   "metadata": {},
   "outputs": [],
   "source": [
    "import numpy as np\n",
    "import pandas as pd"
   ]
  },
  {
   "cell_type": "code",
   "execution_count": 3,
   "metadata": {},
   "outputs": [],
   "source": [
    "df = pd.read_csv('data/coup.csv')"
   ]
  },
  {
   "cell_type": "code",
   "execution_count": 4,
   "metadata": {},
   "outputs": [
    {
     "name": "stdout",
     "output_type": "stream",
     "text": [
      "<class 'pandas.core.frame.DataFrame'>\n",
      "RangeIndex: 413600 entries, 0 to 413599\n",
      "Data columns (total 37 columns):\n",
      " #   Column                        Non-Null Count   Dtype  \n",
      "---  ------                        --------------   -----  \n",
      " 0   id                            413600 non-null  int64  \n",
      " 1   tweet_url                     413600 non-null  object \n",
      " 2   created_at                    413600 non-null  object \n",
      " 3   parsed_created_at             413600 non-null  object \n",
      " 4   user_screen_name              413600 non-null  object \n",
      " 5   text                          413600 non-null  object \n",
      " 6   tweet_type                    413600 non-null  object \n",
      " 7   coordinates                   7 non-null       object \n",
      " 8   hashtags                      13057 non-null   object \n",
      " 9   media                         11642 non-null   object \n",
      " 10  urls                          52890 non-null   object \n",
      " 11  favorite_count                413600 non-null  int64  \n",
      " 12  in_reply_to_screen_name       31057 non-null   object \n",
      " 13  in_reply_to_status_id         27532 non-null   float64\n",
      " 14  in_reply_to_user_id           31057 non-null   float64\n",
      " 15  lang                          413600 non-null  object \n",
      " 16  place                         1702 non-null    object \n",
      " 17  possibly_sensitive            39368 non-null   object \n",
      " 18  retweet_count                 413600 non-null  int64  \n",
      " 19  retweet_or_quote_id           366954 non-null  float64\n",
      " 20  retweet_or_quote_screen_name  366954 non-null  object \n",
      " 21  retweet_or_quote_user_id      366954 non-null  float64\n",
      " 22  source                        413566 non-null  object \n",
      " 23  user_id                       413600 non-null  int64  \n",
      " 24  user_created_at               413600 non-null  object \n",
      " 25  user_default_profile_image    413600 non-null  bool   \n",
      " 26  user_description              350206 non-null  object \n",
      " 27  user_favourites_count         413600 non-null  int64  \n",
      " 28  user_followers_count          413600 non-null  int64  \n",
      " 29  user_friends_count            413600 non-null  int64  \n",
      " 30  user_listed_count             413600 non-null  int64  \n",
      " 31  user_location                 274043 non-null  object \n",
      " 32  user_name                     413574 non-null  object \n",
      " 33  user_statuses_count           413600 non-null  int64  \n",
      " 34  user_time_zone                0 non-null       float64\n",
      " 35  user_urls                     0 non-null       float64\n",
      " 36  user_verified                 413600 non-null  bool   \n",
      "dtypes: bool(2), float64(6), int64(9), object(20)\n",
      "memory usage: 111.2+ MB\n"
     ]
    }
   ],
   "source": [
    "df.info()"
   ]
  },
  {
   "cell_type": "code",
   "execution_count": 5,
   "metadata": {},
   "outputs": [
    {
     "name": "stdout",
     "output_type": "stream",
     "text": [
      "44 ['en' 'und' 'fr' 'de' 'nl' 'in' 'th' 'ja' 'pt' 'es' 'et' 'ca' 'fa' 'it'\n",
      " 'tr' 'pl' 'ht' 'cy' 'ko' 'ro' 'tl' 'eu' 'zh' 'ar' 'no' 'ru' 'fi' 'pa'\n",
      " 'el' 'vi' 'sv' 'iw' 'sr' 'ur' 'hu' 'lt' 'cs' 'lv' 'da' 'hi' 'is' 'sl'\n",
      " 'ta' 'dv']\n"
     ]
    }
   ],
   "source": [
    "# count number of different languages in data set\n",
    "count_lang = df['lang'].unique()\n",
    "print(len(count_lang), count_lang)"
   ]
  },
  {
   "cell_type": "code",
   "execution_count": 6,
   "metadata": {},
   "outputs": [
    {
     "data": {
      "text/plain": [
       "(396586, 37)"
      ]
     },
     "execution_count": 6,
     "metadata": {},
     "output_type": "execute_result"
    }
   ],
   "source": [
    "# tweets are in 44 different languages. \n",
    "# I'll be working only with tweets in English\n",
    "# so, I'll drop tweets in all other languages\n",
    "df = df[df.lang == 'en']\n",
    "df.shape"
   ]
  },
  {
   "cell_type": "code",
   "execution_count": null,
   "metadata": {},
   "outputs": [],
   "source": [
    "# drop unnecessary columns \n",
    "df = df.drop(['tweet_url', 'created_at', 'media', 'urls','in_reply_to_screen_name',\n",
    "       'in_reply_to_status_id', 'in_reply_to_user_id', 'retweet_or_quote_id',\n",
    "       'retweet_or_quote_screen_name', 'retweet_or_quote_user_id', 'source',\n",
    "       'user_created_at', 'user_name', 'user_verified', 'user_friends_count', 'user_listed_count',\n",
    "       'user_statuses_count', 'user_default_profile_image', 'user_description',\n",
    "       'user_favourites_count', 'user_followers_count', 'coordinates', 'lang', 'user_loc"
   ]
  },
  {
   "cell_type": "code",
   "execution_count": null,
   "metadata": {},
   "outputs": [],
   "source": []
  },
  {
   "cell_type": "code",
   "execution_count": 7,
   "metadata": {},
   "outputs": [],
   "source": [
    "# tokenize, remove stopwords, remove urls, lowercase, remove punctuation, remove numbers\n",
    "\n",
    "import string\n",
    "import re\n",
    "\n",
    "import nltk\n",
    "from nltk.corpus import stopwords\n",
    "from nltk.tokenize import TweetTokenizer\n",
    "from nltk import pos_tag\n",
    "\n",
    "stop = stopwords.words('english')\n",
    "\n",
    "punc = list(set(string.punctuation))\n",
    "\n",
    "def tokenizer(text):\n",
    "    tokenizer = TweetTokenizer()\n",
    "    tokens = tokenizer.tokenize(text)\n",
    "    return tokens\n",
    "\n",
    "def remove_url(text):\n",
    "    url = re.compile(r\"https?://\\S+|www\\.\\S+\")\n",
    "    return url.sub(r'', text)\n",
    "\n",
    "def process_text(text):\n",
    "    text = remove_url(text)\n",
    "    text = tokenizer(text)\n",
    "    text = [word.lower() for word in text]\n",
    "    text = [re.sub('[0-9]+', '', word) for word in text]\n",
    "    text = [word for word in text if word not in punc]\n",
    "    text = [word for word in text if word not in stop]\n",
    "    text = [each for each in text if len(each) > 1]\n",
    "    text = [word for word in text if ' ' not in word]\n",
    "     \n",
    "    return text"
   ]
  },
  {
   "cell_type": "code",
   "execution_count": 8,
   "metadata": {},
   "outputs": [],
   "source": [
    "df['processed_text'] = df['text'].apply(process_text)"
   ]
  },
  {
   "cell_type": "code",
   "execution_count": 9,
   "metadata": {},
   "outputs": [
    {
     "name": "stderr",
     "output_type": "stream",
     "text": [
      "/opt/anaconda3/lib/python3.7/site-packages/ipykernel_launcher.py:1: FutureWarning: Passing a negative integer is deprecated in version 1.0 and will not be supported in future version. Instead, use None to not limit the column width.\n",
      "  \"\"\"Entry point for launching an IPython kernel.\n"
     ]
    },
    {
     "data": {
      "text/plain": [
       "0     [assault, democracy, sen, josh, hawley, blood, hands, capitol, coup, attempt]                                                                                                                                              \n",
       "1     [call, old-fashioned, armed, insurgents, breach, capitol, building, request, president, i'd, call, attempted, coup]                                                                                                        \n",
       "2     [@vritrite, @dreddersart, oh, yeah, like, politics, bad, im, like, ignore, coup, attempt, happening]                                                                                                                       \n",
       "3     [ridiculously, divisive, statement, btw, gun, violence, continues, baltimore, oh, still, picked, trash]                                                                                                                    \n",
       "4     [assault, democracy, sen, josh, hawley, blood, hands, capitol, coup, attempt]                                                                                                                                              \n",
       "5     [sort, editorial, home, state, newspaper, politicians, want]                                                                                                                                                               \n",
       "6     [impeach, remove, president, staging, coup, what's, point, impeachment]                                                                                                                                                    \n",
       "7     [middle, insurrection, spurred, father, fever, dream, attempted, coup, maybe, send, brother, text, ...]                                                                                                                    \n",
       "8     [locked, hours, inciting, coup, main]                                                                                                                                                                                      \n",
       "9     [imagine, obama, lost, spent, next, two, months, inciting, coup, refusing, concede, hundreds, black, protesters, stormed, capitol, building, try, stop, certification, defeat, ..., imagine]                               \n",
       "10    [assault, democracy, sen, josh, hawley, blood, hands, capitol, coup, attempt]                                                                                                                                              \n",
       "11    [@cooper_m, cal, brings, antifa, left, tomorrow, need, slap, enough, enough, coup, d'etat]                                                                                                                                 \n",
       "12    [rosenstein, together, pence's, knowledge, consent, went, help, engineer, entire, coup, attempt, president, trump, ..., promote, pence, presidency, point, pence, would, turn, around, appoint, rod, rosenstein, vp]       \n",
       "13    [make, mistake, so-called, leader, country, swore, protect, defend, constitution, directed, horde, white, supremacist, domestic, terrorists, stage, coup, overturn, legitimately, decided, election, encouraging, #traitor]\n",
       "14    [everyone, supported, president's, attempted, coup, today, led, storming, us, capitol, written, public, life, forever, @hawleymo, @tedcruz, via, @tpm]                                                                     \n",
       "15    [republicans, guilty, participating, trump's, coup, everyone, held, accountable, justice, system, @gop, @gopleader, @kamalaharris, @joebiden, @aoc]                                                                        \n",
       "16    [ughbme]                                                                                                                                                                                                                   \n",
       "17    [every, single, person, participated, attempted, coup, must, held, accountable, full, extent, law]                                                                                                                         \n",
       "18    [twitter, pledges, take, action, calls, violence, capitol, locks, @cnbc, wow, took, trump, account, hours, ..., mr, trump, organize, coup, country, hours]                                                                 \n",
       "19    [every, seditionist, house, member, supported, encouraged, attempted, coup, needs, expelled]                                                                                                                               \n",
       "Name: processed_text, dtype: object"
      ]
     },
     "execution_count": 9,
     "metadata": {},
     "output_type": "execute_result"
    }
   ],
   "source": [
    "pd.set_option('display.max_colwidth', -1)\n",
    "df['processed_text'][:20]"
   ]
  },
  {
   "cell_type": "code",
   "execution_count": 10,
   "metadata": {},
   "outputs": [],
   "source": [
    "ready_for_pos = df['processed_text']"
   ]
  },
  {
   "cell_type": "code",
   "execution_count": 11,
   "metadata": {},
   "outputs": [],
   "source": [
    "# part-of-speech tagging \n",
    "def pos_tagging(text):\n",
    "    pos_tag = [pos_tag(word) for word in ready_for_pos]\n",
    "\n",
    "df['pos_tagged'] = df.processed_text.apply(lambda x: pos_tag(x))"
   ]
  },
  {
   "cell_type": "code",
   "execution_count": 12,
   "metadata": {},
   "outputs": [],
   "source": [
    "pos_tagged = df['pos_tagged']"
   ]
  },
  {
   "cell_type": "code",
   "execution_count": 13,
   "metadata": {},
   "outputs": [],
   "source": [
    "# lemmatizing\n",
    "\n",
    "from nltk.stem import WordNetLemmatizer \n",
    "wordnet = WordNetLemmatizer() \n",
    "\n",
    "lemmatized = [[wordnet.lemmatize(word[0]) for word in words] for words in pos_tagged]"
   ]
  },
  {
   "cell_type": "code",
   "execution_count": 14,
   "metadata": {},
   "outputs": [],
   "source": [
    "df['lemmatized'] = lemmatized"
   ]
  },
  {
   "cell_type": "code",
   "execution_count": 15,
   "metadata": {},
   "outputs": [],
   "source": [
    "df['final_docs'] = df['lemmatized'].apply(lambda x: \" \".join(x))"
   ]
  },
  {
   "cell_type": "code",
   "execution_count": 16,
   "metadata": {},
   "outputs": [
    {
     "data": {
      "text/plain": [
       "31488    call old-fashioned armed insurgent breach capitol building request president i'd call attempted coup                                                                                                \n",
       "31489    anyone elected house senate challenging result presidential election congress part attempted coup inspired president resign insurrection ...                                                        \n",
       "31490    twitter ball facebook none                                                                                                                                                                          \n",
       "31491    almost permanent ban inciting fucking coup attempt ridiculous even ballpark jack twitter fucking disgrace complicit point blank #trumpcoupattempt                                                   \n",
       "31492    @jtylerconway president u staged coup disrupt certification election cannot believe happening one always remember                                                                                   \n",
       "31493    coup etat attempted president united state                                                                                                                                                          \n",
       "31494    republican @repkinzinger @cnn utterly despicable every republican leader call anywhere else around globe we'd call coup attempt we'll look back realize cancer come                                 \n",
       "31495    protestors terrorist stated attempting coup comparing happening today protest racial economic equality past year mind bogglingly wrong                                                              \n",
       "31496    good friend mine dc witnessed antifa people dressed like trump protestors breaking capital done left create narrative president creating coup try arrest president @sidneypowell @genflynn @llinwood\n",
       "31497    watching coup                                                                                                                                                                                       \n",
       "31498    white supremacist qanon believer far right extremist quite literally breaking seat american government name coup attempt                                                                            \n",
       "31499    assault democracy sen josh hawley blood hand capitol coup attempt                                                                                                                                   \n",
       "31500    impeach remove president staging coup what's point impeachment                                                                                                                                      \n",
       "31501    call old-fashioned armed insurgent breach capitol building request president i'd call attempted coup                                                                                                \n",
       "31502    self serving attempt sedition helped inspire terrorist attempted coup                                                                                                                               \n",
       "31503    honey heading done make yeah got furry hat horn yeah never satisfied sexually sleep kevin work nothing enjoy little pretend coup thanks                                                             \n",
       "31504    first thing military operation take communication first censored president united state suspended hr surprisingly medium blaming violence accusing leading coup état insanity                       \n",
       "31507    yeeessss @ossoff @reverendwarnock saved america #demsenatemajority                                                                                                                                  \n",
       "31508    case literal fucking coup state already feel bit come eileen song keep getting faster faster faster                                                                                                 \n",
       "31509    done went sleep missed whole coup                                                                                                                                                                   \n",
       "Name: final_docs, dtype: object"
      ]
     },
     "execution_count": 16,
     "metadata": {},
     "output_type": "execute_result"
    }
   ],
   "source": [
    "df['final_docs'][30000:30020]"
   ]
  },
  {
   "cell_type": "code",
   "execution_count": 17,
   "metadata": {},
   "outputs": [],
   "source": [
    "final_docs = df['final_docs']"
   ]
  },
  {
   "cell_type": "code",
   "execution_count": 18,
   "metadata": {},
   "outputs": [],
   "source": [
    "#create document term matrix with TFIDF\n",
    "\n",
    "from sklearn.feature_extraction.text import TfidfVectorizer\n",
    "# initial tuning of parameters\n",
    "#set max_features to 2000 (specifies the number of most frequently occurring words for which we want to create feature vectors)\n",
    "# set min_df to 5 (word must occur in at least 5 documents)\n",
    "# set max_df to 0.85 (word must not occur in more than 85 percent of the documents) \n",
    "\n",
    "tfidfconverter = TfidfVectorizer(max_features=2000, min_df=5, max_df=0.85, ngram_range=(1, 2), stop_words='english')  \n",
    "doc_term_matrix_1 = tfidfconverter.fit_transform(df['final_docs'].values.astype('U'))"
   ]
  },
  {
   "cell_type": "code",
   "execution_count": 19,
   "metadata": {},
   "outputs": [
    {
     "data": {
      "text/plain": [
       "(396586, 2000)"
      ]
     },
     "execution_count": 19,
     "metadata": {},
     "output_type": "execute_result"
    }
   ],
   "source": [
    "doc_term_matrix_1.shape"
   ]
  },
  {
   "cell_type": "code",
   "execution_count": 20,
   "metadata": {},
   "outputs": [],
   "source": [
    "from sklearn.decomposition import NMF\n",
    "\n",
    "nmf_model = NMF(n_components=10)\n",
    "nmf_Z = nmf_model.fit_transform(doc_term_matrix_1)"
   ]
  },
  {
   "cell_type": "code",
   "execution_count": 21,
   "metadata": {},
   "outputs": [],
   "source": [
    "from sklearn.decomposition import TruncatedSVD\n",
    "\n",
    "lsi_model = TruncatedSVD(n_components=10)\n",
    "lsi_Z = lsi_model.fit_transform(doc_term_matrix_1)"
   ]
  },
  {
   "cell_type": "code",
   "execution_count": 22,
   "metadata": {},
   "outputs": [],
   "source": [
    "from sklearn.decomposition import LatentDirichletAllocation\n",
    "#  LDA model \n",
    "lda_model = LatentDirichletAllocation(n_components = 10, max_iter=10, learning_method='online')\n",
    "lda_Z = lda_model.fit_transform(doc_term_matrix_1)"
   ]
  },
  {
   "cell_type": "code",
   "execution_count": 23,
   "metadata": {},
   "outputs": [
    {
     "name": "stdout",
     "output_type": "stream",
     "text": [
      "LDA Model:\n",
      "Topic 0:\n",
      "[('attempt', 2928.7480570645876), ('coup attempt', 2524.5785410589024), ('paul', 2216.4945536109863), ('stormed', 1750.0832652945248), ('followgoosehead', 1669.661255761883), ('stormed capitol', 1625.7455069543246), ('sorry', 1552.0071837412315), ('took', 1500.0142402168442), ('work', 1432.0448089533866), ('inciting', 1413.9455354934396)]\n",
      "Topic 1:\n",
      "[('white', 6671.515072843163), ('attempted', 5528.417450746919), ('ago', 5336.362101667251), ('heart', 5164.746846557939), ('black', 5145.163059865999), ('attempted coup', 5087.417675848753), ('cleaning white', 5064.0273508805285), ('worker cleaning', 5063.143437365644), ('capitol worker', 5058.807506126885), ('black capitol', 5058.263020948851)]\n",
      "Topic 2:\n",
      "[('couple', 5083.927488426614), ('impeachment', 4701.287679494274), ('remove', 4682.085470533492), ('impeach', 4513.209693305443), ('point', 4454.617308350619), ('staging', 4291.137321346573), ('impeach remove', 4198.89265597706), ('staging coup', 4181.27710879082), ('remove president', 4083.1951872047516), ('coup point', 3930.182892425953)]\n",
      "Topic 3:\n",
      "[('seen', 1994.2744330390824), ('shit', 1798.813335977103), ('live', 1796.796501855856), ('attempt', 1627.6670809834889), ('actual', 1626.603654639065), ('need', 1587.1876605048706), ('traitor', 1538.8456287181093), ('expelled', 1532.624539066229), ('attempted coup', 1506.7638333172765), ('fact', 1482.6678395254085)]\n",
      "Topic 4:\n",
      "[('image', 5141.537166881071), ('trump', 3859.3405625364667), ('fear', 3471.2496319134634), ('thousand', 3273.40139348032), ('personal', 3242.2493096921035), ('endure', 3199.687087857152), ('today', 2796.5794557168592), ('gop', 2579.300804829415), ('failed', 2233.486167196595), ('message', 1995.424307014778)]\n",
      "Topic 5:\n",
      "[('know', 1721.6882777932344), ('let', 1708.8249629500533), ('th', 1685.2297533399937), ('amendment', 1467.4156624378995), ('th amendment', 1418.6093398689698), ('biden', 1372.257942742151), ('control', 1329.7540314391888), ('coup government', 1310.5680989471439), ('human', 1257.369104451079), ('cruz', 1250.6216540741639)]\n",
      "Topic 6:\n",
      "[('cleaning', 5115.873496969513), ('josh', 2702.5947087601367), ('hand', 2662.1343977068714), ('josh hawley', 2643.433819822299), ('hawley', 2613.247734914703), ('support', 2411.554324200587), ('democracy', 2349.2319579471273), ('blood', 2323.324174258951), ('coup attempt', 2311.004217068681), ('capitol coup', 2279.3493828479204)]\n",
      "Topic 7:\n",
      "[('thug', 5255.208958389767), ('worker', 5175.572306826097), ('american', 2581.026391259813), ('police', 2543.5940358435164), ('working', 2185.4008164905017), ('stand', 2102.4426459190795), ('working coup', 1889.4093894113255), ('said', 1722.400911765359), ('thing', 1669.5345661184156), ('act', 1605.0804656627663)]\n",
      "Topic 8:\n",
      "[('curfew', 3273.6215336600717), ('treason', 2456.9287957304746), ('color', 1953.0645225097217), ('send', 1800.5454680791272), ('mayonnaise', 1625.3454398874233), ('coup color', 1620.4657390676252), ('color mayonnaise', 1617.4893516277098), ('response', 1530.1304614524815), ('police', 1492.303635929523), ('protestors', 1470.0638031364279)]\n",
      "Topic 9:\n",
      "[('coup couple', 5057.435394681557), ('congress', 3481.2279187974714), ('pm', 3291.924951858644), ('today', 3237.8909183264564), ('representation', 3237.445677190441), ('resident', 3233.0144156798365), ('safety', 3221.992454725404), ('backyard', 3214.3124195481323), ('representation congress', 3199.7244094841635), ('coup backyard', 3198.060181374647)]\n",
      "====================\n",
      "NMF Model:\n",
      "Topic 0:\n",
      "[('worker cleaning', 2.4537488729525823), ('black capitol', 2.453514216860438), ('capitol worker', 2.453506942738296), ('cleaning white', 2.4534973494381553), ('image black', 2.453274897231302), ('supremacist thug', 2.4532489424198585), ('coup couple', 2.4532474865196394), ('cleaning', 2.453208003060904), ('thug attempted', 2.453146069924765), ('couple ago', 2.4531440537608606)]\n",
      "Topic 1:\n",
      "[('president staging', 3.220001878973969), ('point impeachment', 3.2197514238057288), ('coup point', 3.2194653290526456), ('staging coup', 3.2120191709296413), ('remove president', 3.1883472383312985), ('impeach remove', 3.1561074628409873), ('staging', 3.154263943027287), ('impeach', 3.129488851208427), ('point', 3.1240980818104984), ('remove', 3.0760937116133227)]\n",
      "Topic 2:\n",
      "[('representation', 2.0679733065965773), ('backyard', 2.067333918199098), ('representation congress', 2.06707076214649), ('pm fear', 2.0670598654558865), ('thousand dc', 2.0670598654558865), ('endure coup', 2.0670598654558865), ('curfew pm', 2.0670598654558865), ('resident endure', 2.0670598654558865), ('backyard today', 2.0670598654558865), ('today curfew', 2.0670539144354567)]\n",
      "Topic 3:\n",
      "[('coup attempt', 2.700413381197544), ('attempt', 2.55350286899261), ('josh', 2.5172658433873427), ('josh hawley', 2.5131314689644726), ('blood', 2.48955783074569), ('blood hand', 2.4735211823837666), ('hawley', 2.457142068566275), ('sen', 2.4321679204985833), ('hawley blood', 2.4317211835067), ('hand', 2.4298448812840983)]\n",
      "Topic 4:\n",
      "[('removal gop', 2.0387281210612436), ('calling removal', 2.038640497333029), ('member involved', 2.0386201598080342), ('coup sign', 2.0385733887703026), ('send message', 2.0373150671120945), ('petition send', 2.0371947157493833), ('message stand', 2.037186355271529), ('stand treason', 2.037162400904227), ('involved today', 2.0370885445230202), ('send', 2.023992434692584)]\n",
      "Topic 5:\n",
      "[('th amendment', 1.6767832838465775), ('amendment', 1.6747756747607556), ('th', 1.6663984746882914), ('impeachment removal', 1.6449040046656884), ('seditious coup', 1.6430860657279562), ('joe biden', 1.6420769698815645), ('expulsion cruz', 1.6403955430110797), ('joe', 1.6401645875769655), ('hawley attempted', 1.6401400264669523), ('run expulsion', 1.6400504784093455)]\n",
      "Topic 6:\n",
      "[('supporter', 2.893599141115447), ('trump supporter', 2.8786485553385397), ('white nationalist', 2.771326818335911), ('nationalist', 2.769501870139964), ('nationalist trump', 2.763564697133679), ('trump', 2.4598259360601413), ('white', 1.9998020328320787), ('violent coup', 0.9892100314823068), ('violent', 0.9757080709023396), ('shooter', 0.9305340426026673)]\n",
      "Topic 7:\n",
      "[('supposed', 1.9289571602511364), ('supposed working', 1.9269987471396361), ('ve', 1.9258891093161796), ('thing ve', 1.9135577531366657), ('american thing', 1.9134129943778677), ('coup honestly', 1.9131840326947134), ('honestly american', 1.9126851139166532), ('said supposed', 1.9126655451041004), ('friend said', 1.9126614747937993), ('honestly', 1.9117382032076384)]\n",
      "Topic 8:\n",
      "[('paul', 2.267964281881988), ('followgoosehead', 1.1770856905182425), ('davis', 1.1503934516100855), ('paul davis', 1.150280740660355), ('insurance', 1.1431832666355557), ('lawyer', 1.1374405572942072), ('goosehead', 1.1354959427929705), ('goosehead insurance', 1.1339517777899795), ('human resource', 1.1327141535591656), ('resource', 1.1322329719540711)]\n",
      "Topic 9:\n",
      "[('attempted coup', 2.679695781324155), ('attempted', 2.5672237001084017), ('today attempted', 1.2560172365983826), ('today', 1.2524542195530028), ('president', 1.065240622848619), ('trump', 0.9495808366767072), ('need', 0.9035984038128102), ('insurrection', 0.8741141221161542), ('act', 0.8384723529369175), ('violence', 0.8202943406689867)]\n",
      "====================\n",
      "LSI Model:\n",
      "Topic 0:\n",
      "[('cleaning', 0.2077172890551425), ('worker cleaning', 0.20767439858439937), ('cleaning white', 0.20765525780429306), ('black capitol', 0.20765033559813154), ('capitol worker', 0.20764997397143195), ('supremacist thug', 0.20763339919013774), ('image black', 0.20762907922720958), ('coup couple', 0.20762764118990243), ('thug attempted', 0.2076257519782376), ('couple ago', 0.2076178780639481)]\n",
      "Topic 1:\n",
      "[('president staging', 0.2928114934192021), ('point impeachment', 0.29278894850746984), ('coup point', 0.2927660256325129), ('staging coup', 0.29213826417900784), ('remove president', 0.29002109294010814), ('impeach remove', 0.2874922649375022), ('staging', 0.2868951744502867), ('impeach', 0.28534722593157547), ('point', 0.28437518451422655), ('remove', 0.2807452541347126)]\n",
      "Topic 2:\n",
      "[('representation', 0.1987127117099784), ('backyard', 0.19864428653755875), ('representation congress', 0.19861505390202316), ('thousand dc', 0.1986134754554189), ('resident endure', 0.1986134754554189), ('pm fear', 0.1986134754554189), ('backyard today', 0.1986134754554189), ('curfew pm', 0.1986134754554189), ('endure coup', 0.1986134754554189), ('today curfew', 0.19861320187054546)]\n",
      "Topic 3:\n",
      "[('coup attempt', 0.2809705600707077), ('attempt', 0.27561081431443585), ('hawley', 0.2379552407372613), ('josh', 0.2307256913601428), ('josh hawley', 0.23022940564657227), ('blood', 0.22779664669839686), ('blood hand', 0.2258318931770247), ('hand', 0.222752167325941), ('sen', 0.2218109708143503), ('hawley blood', 0.22152388225901531)]\n",
      "Topic 4:\n",
      "[('involved today', 0.20205418070825773), ('member involved', 0.2018155527774138), ('removal gop', 0.20172775710729238), ('calling removal', 0.20172230015676432), ('coup sign', 0.20172060745016415), ('send message', 0.20159030202109068), ('petition send', 0.20157316910077203), ('message stand', 0.20157262260797462), ('stand treason', 0.20157025712040352), ('send', 0.200729689373744)]\n",
      "Topic 5:\n",
      "[('attempted', 0.20754957809000038), ('trump', 0.17895593175091387), ('th', 0.13416809863406445), ('amendment', 0.13274026068631434), ('th amendment', 0.13257400577933737), ('attempted coup', 0.1308585428960505), ('seditious', 0.12821979232179348), ('cruz', 0.12788773483028473), ('seditious coup', 0.12701310428330417), ('joe', 0.12695333846758744)]\n",
      "Topic 6:\n",
      "[('hawley', 0.11560292078310135), ('removal', 0.1104116425435907), ('expulsion cruz', 0.10670880199968534), ('hawley attempted', 0.10669033332927393), ('removal allowed', 0.10668873412610763), ('run expulsion', 0.10668873412610763), ('attempted seditious', 0.10668375352647742), ('operation th', 0.10667652796503818), ('arsenal impeachment', 0.10667652796503818), ('amendment control', 0.10667652796503818)]\n",
      "Topic 7:\n",
      "[('ve', 0.2233406014067045), ('supposed', 0.21775644188270896), ('supposed working', 0.2175760983711076), ('working', 0.21678081032419402), ('working coup', 0.2166553312398501), ('thing ve', 0.21605389291922827), ('american thing', 0.2160370052332003), ('coup honestly', 0.21600600830761033), ('honestly american', 0.21595213145224962), ('said supposed', 0.21594920047332763)]\n",
      "Topic 8:\n",
      "[('paul', 0.25478511997817743), ('followgoosehead', 0.13227136711611454), ('capitol building', 0.13117159417913346), ('building', 0.12933486280239812), ('davis', 0.12921970836871355), ('paul davis', 0.129208576498448), ('insurance', 0.12843490703865065), ('attempt', 0.12795255676351086), ('lawyer', 0.12760698627480632), ('goosehead', 0.12757286448718763)]\n",
      "Topic 9:\n",
      "[('attempted coup', 0.2841806681130082), ('attempted', 0.23852377475721717), ('today attempted', 0.14401686971117234), ('need', 0.12078026157383465), ('expelled', 0.11491081385326904), ('coup need', 0.11328336442371101), ('house', 0.11285577255144151), ('need expelled', 0.11215717706946347), ('encouraged attempted', 0.11203579544177289), ('member supported', 0.11186683938625643)]\n",
      "====================\n"
     ]
    }
   ],
   "source": [
    "def print_topics(model, vectorizer, top_n=10):\n",
    "    for idx, topic in enumerate(model.components_):\n",
    "        print(\"Topic %d:\" % (idx))\n",
    "        print([(vectorizer.get_feature_names()[i], topic[i])\n",
    "                        for i in topic.argsort()[:-top_n - 1:-1]])\n",
    " \n",
    "print(\"LDA Model:\")\n",
    "print_topics(lda_model, tfidfconverter )\n",
    "print(\"=\" * 20)\n",
    " \n",
    "print(\"NMF Model:\")\n",
    "print_topics(nmf_model, tfidfconverter )\n",
    "print(\"=\" * 20)\n",
    " \n",
    "print(\"LSI Model:\")\n",
    "print_topics(lsi_model, tfidfconverter )\n",
    "print(\"=\" * 20)"
   ]
  },
  {
   "cell_type": "code",
   "execution_count": 24,
   "metadata": {},
   "outputs": [],
   "source": [
    "import pyLDAvis.sklearn"
   ]
  },
  {
   "cell_type": "code",
   "execution_count": 25,
   "metadata": {},
   "outputs": [
    {
     "data": {
      "text/html": [
       "\n",
       "<link rel=\"stylesheet\" type=\"text/css\" href=\"https://cdn.rawgit.com/bmabey/pyLDAvis/files/ldavis.v1.0.0.css\">\n",
       "\n",
       "\n",
       "<div id=\"ldavis_el387211404632908401441313524970\"></div>\n",
       "<script type=\"text/javascript\">\n",
       "\n",
       "var ldavis_el387211404632908401441313524970_data = {\"mdsDat\": {\"x\": [32.42095184326172, 0.648955225944519, 71.01968383789062, 3.7859814167022705, -42.666500091552734, -3.6216893196105957, -3.632401704788208, -36.58440017700195, 44.391380310058594, 40.235809326171875], \"y\": [8.115229606628418, 71.70709991455078, 9.971006393432617, 33.18513488769531, -9.22206974029541, -43.52651596069336, -4.171707630157471, 35.804412841796875, 50.61538314819336, -31.591665267944336], \"topics\": [1, 2, 3, 4, 5, 6, 7, 8, 9, 10], \"cluster\": [1, 1, 1, 1, 1, 1, 1, 1, 1, 1], \"Freq\": [17.03551697322047, 12.300604050956792, 10.369589403850526, 9.568211722746584, 9.45315007872194, 8.987980892726226, 8.50156441772144, 8.260808468925838, 7.905165390146976, 7.617408600983206]}, \"tinfo\": {\"Term\": [\"thug\", \"worker\", \"couple\", \"cleaning\", \"remove\", \"impeach\", \"impeachment\", \"point\", \"staging\", \"impeach remove\", \"staging coup\", \"remove president\", \"coup couple\", \"coup point\", \"point impeachment\", \"president staging\", \"image\", \"curfew\", \"white\", \"ago\", \"police\", \"heart\", \"cleaning white\", \"worker cleaning\", \"capitol worker\", \"black capitol\", \"thug attempted\", \"supremacist thug\", \"image black\", \"couple ago\", \"ago\", \"heart\", \"cleaning white\", \"worker cleaning\", \"capitol worker\", \"black capitol\", \"thug attempted\", \"supremacist thug\", \"image black\", \"couple ago\", \"ago heart\", \"dc\", \"dc resident\", \"supporter\", \"trump supporter\", \"violent coup\", \"nationalist\", \"white nationalist\", \"nationalist trump\", \"line\", \"seditious\", \"really\", \"etat\", \"coup etat\", \"watching\", \"antifa\", \"news\", \"seditious coup\", \"called\", \"facebook\", \"black\", \"try\", \"stage coup\", \"white\", \"supremacist\", \"white supremacist\", \"stage\", \"like\", \"attempted\", \"violent\", \"attempted coup\", \"capitol\", \"trump\", \"right\", \"image\", \"fear\", \"thousand\", \"personal\", \"endure\", \"message\", \"tonight\", \"think\", \"gop member\", \"involved today\", \"tweet\", \"member involved\", \"calling removal\", \"removal gop\", \"send message\", \"message stand\", \"stand treason\", \"petition send\", \"vote\", \"way\", \"coverage\", \"coverage coup\", \"got\", \"complicit\", \"work trump\", \"trump coup\", \"prosecuted\", \"employee\", \"guy\", \"ur\", \"gop\", \"realdonaldtrump\", \"twitter\", \"power\", \"today coup\", \"republican\", \"failed\", \"trump\", \"today\", \"election\", \"day\", \"attempt\", \"coup couple\", \"pm\", \"representation\", \"resident\", \"safety\", \"backyard\", \"representation congress\", \"coup backyard\", \"today curfew\", \"curfew pm\", \"resident endure\", \"endure coup\", \"thousand dc\", \"pm fear\", \"backyard today\", \"personal safety\", \"safety representation\", \"fear personal\", \"coup sign\", \"enforcement\", \"law enforcement\", \"watch\", \"join\", \"staggering\", \"commission\", \"enforcement white\", \"infiltration\", \"supremacist group\", \"arrest today\", \"calling national\", \"group\", \"law\", \"congress\", \"medium\", \"calling\", \"involved\", \"today\", \"event\", \"cleaning\", \"josh\", \"hand\", \"josh hawley\", \"support\", \"blood\", \"capitol coup\", \"blood hand\", \"sen\", \"hawley blood\", \"sen josh\", \"hand capitol\", \"assault\", \"assault democracy\", \"support coup\", \"democracy sen\", \"administration\", \"trump administration\", \"trump attempted\", \"traitor democracy\", \"administration tonight\", \"attempt remembered\", \"tonight support\", \"inside\", \"started\", \"pas\", \"video\", \"security\", \"job\", \"national security\", \"time\", \"hawley\", \"democracy\", \"donald\", \"donald trump\", \"coup attempt\", \"attempt\", \"capitol\", \"america\", \"trump\", \"say\", \"couple\", \"remove\", \"impeach\", \"point\", \"staging\", \"impeach remove\", \"staging coup\", \"remove president\", \"coup point\", \"point impeachment\", \"president staging\", \"removal\", \"petition\", \"sign petition\", \"armed\", \"run\", \"joe biden\", \"operation\", \"impeachment removal\", \"allowed run\", \"request\", \"staff\", \"end\", \"leading\", \"breach\", \"person\", \"rosenstein\", \"military\", \"breach capitol\", \"leading coup\", \"sign\", \"impeachment\", \"allowed\", \"president\", \"member\", \"penny\", \"official\", \"old\", \"building\", \"seen\", \"shit\", \"live\", \"actual\", \"expelled\", \"actual coup\", \"cia\", \"tweeting\", \"crisis\", \"learning\", \"ve seen\", \"coup involved\", \"learning coup\", \"crisis learning\", \"cia crisis\", \"live tweeting\", \"dystopian\", \"shit ve\", \"tweeting actual\", \"fact live\", \"dystopian shit\", \"attempt dystopian\", \"remembered\", \"coup need\", \"helped\", \"encouraged attempted\", \"flag\", \"remembered traitor\", \"seditionist\", \"need expelled\", \"fact\", \"supported\", \"hawleymo\", \"traitor\", \"need\", \"house\", \"encouraged\", \"attempt\", \"attempted coup\", \"coup attempt\", \"attempted\", \"curfew\", \"color\", \"send\", \"mayonnaise\", \"coup color\", \"color mayonnaise\", \"response\", \"attempting\", \"forget\", \"fucking\", \"general\", \"attempting coup\", \"building attempt\", \"difference\", \"attention\", \"street\", \"come\", \"asking\", \"pay\", \"supremacist coup\", \"coup police\", \"police working\", \"god\", \"pay attention\", \"police response\", \"coup protestors\", \"difference police\", \"response white\", \"killed street\", \"protestors asking\", \"treason\", \"protestors\", \"killed\", \"police\", \"trying\", \"protest\", \"white\", \"people\", \"terrorist\", \"supremacist\", \"white supremacist\", \"paul\", \"followgoosehead\", \"sorry\", \"took\", \"counsel\", \"bos\", \"doomscrolling\", \"doomscrolling coup\", \"lawyer\", \"sorry bos\", \"work doomscrolling\", \"bos work\", \"davis\", \"paul davis\", \"goosehead\", \"goosehead insurance\", \"resource\", \"human resource\", \"general counsel\", \"director human\", \"associate\", \"counsel director\", \"successful\", \"associate general\", \"inciting coup\", \"paul lawyer\", \"davis paul\", \"government documented\", \"lawyer associate\", \"resource goosehead\", \"stormed capitol\", \"stormed\", \"editorial\", \"inciting\", \"arrested\", \"attempt\", \"coup attempt\", \"work\", \"capitol building\", \"hour\", \"capitol\", \"thug\", \"worker\", \"working\", \"stand\", \"working coup\", \"act\", \"heard\", \"supposed\", \"ve heard\", \"honestly\", \"supposed working\", \"thing ve\", \"american thing\", \"coup honestly\", \"friend said\", \"honestly american\", \"said supposed\", \"make sense\", \"backed\", \"corrupt\", \"violence capitol\", \"backed coup\", \"overthrow democracy\", \"american backed\", \"undergoes\", \"undergoes american\", \"state undergoes\", \"coup act\", \"egged\", \"act insurrection\", \"friend\", \"patriot\", \"american\", \"sense\", \"saw\", \"thing\", \"police\", \"said\", \"make\", \"ve\", \"fascist\", \"today attempted\", \"state\", \"violence\", \"insurrection\", \"th\", \"amendment\", \"th amendment\", \"control\", \"coup government\", \"human\", \"joe\", \"cruz hawley\", \"nuclear\", \"expulsion\", \"arsenal\", \"control nuclear\", \"nuclear arsenal\", \"hawley attempted\", \"order operation\", \"expulsion cruz\", \"attempted seditious\", \"removal allowed\", \"run expulsion\", \"arsenal impeachment\", \"amendment control\", \"operation th\", \"coup inaugurating\", \"inaugurating\", \"inaugurating joe\", \"believe\", \"word\", \"home\", \"kcstar\", \"use\", \"let\", \"biden\", \"know\", \"cruz\", \"order\", \"hawley\"], \"Freq\": [5531.0, 5447.0, 5510.0, 5489.0, 5075.0, 4892.0, 5617.0, 4828.0, 4651.0, 4551.0, 4532.0, 4426.0, 4575.0, 4260.0, 4252.0, 4252.0, 4703.0, 3659.0, 7577.0, 4351.0, 4699.0, 4211.0, 4129.0, 4129.0, 4125.0, 4125.0, 4124.0, 4124.0, 4123.0, 4123.0, 4350.8774929929505, 4210.955025835771, 4128.835750850378, 4128.115072728393, 4124.579873040203, 4124.135939839785, 4124.0314502675255, 4124.012333358384, 4122.65114864536, 4122.381563280193, 4122.381563280193, 3951.3554674441116, 2611.28039246515, 2532.0140716884653, 2227.801080899552, 1950.2476467437543, 1708.9342816899564, 1700.9849954602435, 1520.312492941755, 1436.347628314291, 1308.6094917221733, 1291.1500221678598, 1221.1914360318144, 1220.2534113924671, 1214.1507938103816, 1151.3033648978924, 1005.7595114537427, 978.095236605895, 966.1089650887192, 949.790129043306, 4194.987845362971, 1137.8078983550213, 1665.7564919653169, 5439.463106434923, 3982.3629364307008, 3981.2480333169283, 1742.5686181038382, 2290.1575930194645, 4507.465310648458, 1998.0007188053519, 4147.906502894405, 3916.921526397098, 2628.5249154300723, 1691.7442015227452, 4702.277763617109, 3174.6887022918054, 2993.7433270161573, 2965.2526740979506, 2926.3266909126464, 1824.9482680582375, 1678.1939758060405, 1636.3389620701362, 1635.0706916914571, 1598.2838243062042, 1569.6981384673281, 1554.4692053164963, 1510.6195726312444, 1510.2300938494238, 1507.4138003210164, 1505.8452381457992, 1505.426370713278, 1505.4131452976926, 1495.4026732198517, 1380.7125049483827, 1361.2654772047176, 1323.6199127346722, 1243.30730158392, 1055.3971971200622, 924.6709131653546, 875.2340699333917, 847.7910196087834, 829.8679449576974, 825.8730736366482, 821.8927416375329, 2358.9421658477368, 1569.8598607960055, 1345.7608717792386, 1251.0323400334373, 1810.0658056959196, 1780.9972618340844, 2042.6716755070934, 3529.6236748686997, 2557.657945859599, 1514.539503193729, 1435.3096537265867, 1384.0126817299051, 4574.917743813047, 2977.850372423254, 2928.5688332835302, 2924.560347691473, 2914.589965312476, 2907.6426636736737, 2894.446460285933, 2892.941012145956, 2892.938181601302, 2892.695263410289, 2892.695263410289, 2892.695263410289, 2892.695263410289, 2892.695263410289, 2892.695263410289, 2892.5306679773676, 2892.4989008108946, 2892.4989008108946, 1495.258179514946, 1239.5425968972029, 1237.8266034562864, 1013.6297771380142, 993.534572295328, 984.5276098711829, 922.7414544079329, 899.0460052598135, 897.2680410781007, 896.2415013386014, 894.4226475822294, 893.1284185386237, 1175.2964709016403, 1647.1471350360011, 3149.092402191076, 1262.5635508367172, 2069.640531124439, 1688.2952971003565, 2928.9715950421028, 1041.744679773159, 5488.335961321007, 2899.3578003347025, 2855.951766098044, 2835.8896879090157, 2587.128146939035, 2492.4743786071417, 2445.2979913810473, 2357.068299248162, 2233.2847356714155, 2141.3698587231975, 2074.9602549613305, 2070.623667077733, 1860.3085731374626, 1603.271314185005, 1583.209424323696, 1533.6658415429067, 1318.376533298352, 1217.7556794869333, 1112.5241237229793, 1089.8483917333747, 1083.4083205474365, 1083.300583626429, 1082.424521838539, 1040.709886961538, 1033.555538927696, 1012.6278258751023, 1000.5682940816363, 992.1682313178463, 765.5066620822228, 754.1960204698671, 2130.9812873455962, 2803.5058974521194, 2520.268385041854, 1464.1125043829923, 1437.6668198068612, 2479.257463816472, 2219.321036721488, 2029.2007296536628, 1370.2776521344706, 1450.425833572371, 1142.0806659919515, 5510.063809877745, 5074.539273951214, 4891.508278606072, 4828.004662433546, 4650.821734061557, 4550.845093272736, 4531.753005656803, 4425.449828090846, 4259.611997034776, 4251.896366150965, 4251.887462026533, 2629.2249998136626, 2176.575473398871, 2148.011159969224, 1384.6230772164165, 1266.0626600614735, 1235.4243131930418, 1162.5729581723874, 1131.7275483650158, 1093.339604045153, 858.883538706712, 827.3446517530148, 812.4389746680465, 808.0831127469323, 806.6731119914684, 725.0424007091285, 660.4403317055157, 660.0845283364578, 659.307249780394, 650.5360445596274, 2386.475181544876, 5095.351017805819, 1278.5757244926792, 4086.596991187519, 1373.4072291325629, 1031.1340276057242, 846.7616268755406, 840.8258806525214, 828.9909210347947, 2077.1736570722073, 1873.5875131226696, 1871.4868420024193, 1694.2193140212767, 1596.333616873088, 1508.3540280448678, 1481.6781804562827, 1397.7363669347042, 1392.4974414984783, 1325.068217416167, 1321.127942226442, 1312.3532951422383, 1307.3602090161935, 1306.3286242599806, 1306.3286242599806, 1267.2485738625592, 1254.6898307046959, 1245.492632358864, 1245.1704128728197, 1245.1045959939, 1245.0920592965062, 1244.768597305357, 1137.9346305582633, 1127.194686067425, 1101.1066845878884, 1079.5780757277246, 1066.2611479040236, 1054.51789742779, 1043.6452852272223, 1029.9701722084023, 1544.3002865744438, 1463.3592052577571, 1481.475381535726, 1602.8133085991046, 1653.1648516431508, 1403.4503345173791, 1229.154127833424, 1695.3269455248844, 1569.397917430178, 1452.983606958442, 1455.349517998223, 3658.2080518863354, 2182.5114139295315, 2012.07435294152, 1816.2917472763418, 1810.8387770272664, 1807.512722263062, 1709.8908706968637, 1489.890149179044, 1433.785835311276, 1387.1750176701294, 1368.2354858389906, 1241.567592875416, 1176.9948507720858, 1167.5316147670644, 1087.0701696855344, 999.6147240299164, 977.0314631802515, 960.0321424147459, 934.673938278099, 933.4375829085382, 905.9724855490426, 885.6666592859403, 821.4795802273711, 820.0849280633477, 814.9497521894698, 805.4667148831683, 799.5406335751961, 795.490861974158, 795.1579604580854, 794.5775979915078, 2745.569886755857, 1642.7675545644647, 1248.8522515390084, 1667.6201328358889, 1192.3343646462545, 1098.9945591958585, 1493.3424438769823, 1200.052510129037, 1098.5094272318047, 955.9494747725533, 955.8314784634804, 2406.1182024464274, 1812.5026893764768, 1684.783176680342, 1628.3421772612414, 1516.523327219524, 1423.8701665724693, 1362.1711291252518, 1350.5738919622074, 1348.032872474779, 1347.64285225904, 1347.54051402249, 1346.661179484661, 1220.9795180541237, 1219.8893489462912, 1189.4316819401909, 1175.1369276954058, 1173.1651850269313, 1157.269127426668, 1154.9501521676357, 1147.0681495924052, 1144.6081737491047, 1144.5973791758126, 1142.7757847049968, 1136.228163262769, 1135.13597971053, 1131.9281713805922, 1131.7579229407706, 1131.7062792957654, 1131.6661231716107, 1131.5330572680164, 1764.8298979374972, 1899.8048939763316, 1436.4869534694312, 1534.910196226779, 1517.3776976589786, 3179.305809257362, 2740.559128039069, 1554.5578832703075, 1359.271654143518, 1246.6175880812602, 1507.3175899339203, 5530.757805570218, 5446.945527936219, 2299.9889671005376, 2212.6810116877987, 1988.4776820760828, 1689.2404059138871, 1679.4667283899066, 1555.3750571323026, 1549.2186343275573, 1544.415733100177, 1430.0942020082196, 1412.868694121385, 1411.233969265406, 1411.039060622884, 1409.0030196332477, 1408.4372890465083, 1408.2899191814856, 1249.7306936393195, 1143.4852165257134, 1143.0953219743405, 1140.649225666775, 1026.299627118893, 906.4295217328688, 905.1370624350684, 903.5344062108458, 903.5344062108458, 903.5344062108458, 899.7881754002074, 878.0804017477313, 870.4553298093413, 1592.9031295918637, 1155.8735994942692, 2716.3585640211945, 1229.5507689513363, 1385.164575907144, 1757.0740585847254, 2676.963500278002, 1812.7123702396811, 1596.8246122896783, 1668.4619215373264, 1522.292296027626, 1365.8217683664964, 1351.9919092414718, 1260.2439702674426, 1262.1109692154143, 1892.579374363991, 1647.965573147784, 1593.1541509963283, 1493.3661406649992, 1471.8195829683893, 1412.0750172671194, 1313.0473437424846, 1240.5062766533774, 1179.9300137153393, 1160.3686123563796, 1130.8220978098634, 1130.7566342873604, 1130.3758812276724, 1129.0973937825718, 1128.6845801772995, 1128.554843187922, 1128.4309633637224, 1128.2767047203038, 1128.2767047203038, 1128.0061789564593, 1128.0061789564593, 1128.0061789564593, 1127.8586720892815, 1127.8586720892815, 1127.8586720892815, 1108.2999727435956, 1104.5775370851636, 1041.5298756828745, 1022.0850323758816, 918.5218199241152, 1919.077723893656, 1541.0997067869794, 1933.523732997106, 1404.4973647911975, 1261.38666690553, 1342.0998534426808], \"Total\": [5531.0, 5447.0, 5510.0, 5489.0, 5075.0, 4892.0, 5617.0, 4828.0, 4651.0, 4551.0, 4532.0, 4426.0, 4575.0, 4260.0, 4252.0, 4252.0, 4703.0, 3659.0, 7577.0, 4351.0, 4699.0, 4211.0, 4129.0, 4129.0, 4125.0, 4125.0, 4124.0, 4124.0, 4123.0, 4123.0, 4351.817133025611, 4211.894880410315, 4129.7753476191065, 4129.054669242455, 4125.519469563531, 4125.075536257604, 4124.9710469068405, 4124.951929833242, 4123.590745051151, 4123.321159685542, 4123.321159685542, 3952.2963147285404, 2612.222286671574, 2532.9537462185517, 2228.7406834612298, 1951.1874116485171, 1709.873881499086, 1701.924592578615, 1521.2520787017515, 1437.287423663801, 1309.5528112611112, 1292.0902529511955, 1222.1310688805715, 1221.1930442971625, 1215.090449867759, 1152.2431199408038, 1006.6991769529419, 979.0405791119354, 967.0486639659988, 950.7304574556093, 4915.843711195348, 1167.06057116514, 1836.0664019398803, 7577.394183211552, 5564.024580454439, 5562.7334339140425, 2016.665968762601, 3103.5420557657467, 10822.233573621033, 2779.0586507272865, 10197.613441758487, 9594.676164066414, 9491.551771440265, 2771.31472132223, 4703.210607208037, 3175.618681828494, 2994.673321171187, 2966.1826647145635, 2927.2566856033777, 1825.8779710637023, 1679.123931034792, 1637.2687518122225, 1636.0003964268717, 1599.2135100580501, 1570.6278993957294, 1555.3988873485146, 1511.5492541618114, 1511.1597753482167, 1508.343481727062, 1506.7749194944968, 1506.3560520611236, 1506.342826640392, 1496.3324390027924, 1381.6425647757258, 1362.1951440166567, 1324.5495747797759, 1244.2371192527232, 1056.3269447986863, 925.6010482791527, 876.1637769456987, 848.7207778958642, 830.7977387833748, 826.8028908000474, 822.8227185901679, 2669.5799922616784, 1695.8529939606228, 1518.386142718337, 1439.823559757928, 2394.560057986186, 2357.667567860947, 2918.2888575929564, 9491.551771440265, 9754.164023215906, 2435.311346179291, 2097.2863949427338, 11181.259681072324, 4575.850904873954, 2978.781047107315, 2929.4994992635607, 2925.491020308336, 2915.5206356135604, 2908.5733291526008, 2895.3771249458223, 2893.8716767913543, 2893.8688463616277, 2893.6259280496106, 2893.6259280496106, 2893.6259280496106, 2893.6259280496106, 2893.6259280496106, 2893.6259280496106, 2893.4613326270974, 2893.429565450146, 2893.429565450146, 1496.1890439159367, 1240.4732763345894, 1238.7572822303778, 1014.5643638518261, 994.465245015744, 985.458270535639, 923.6721207154442, 899.976664604226, 898.1987007871943, 897.1721605123761, 895.35330788005, 894.0590788046015, 1208.8744835417624, 1841.1764662678236, 4391.853367280324, 1393.6942808633073, 3352.124254656723, 2777.891234300243, 9754.164023215906, 1360.1470377297082, 5489.251782644467, 2900.2716642922423, 2856.8657069689093, 2836.8035495557647, 2588.0421489128166, 2493.3882357675584, 2446.21195841416, 2357.9821486553856, 2234.1985898231683, 2142.283704066623, 2075.8741016749923, 2071.5375119402192, 1861.222557367114, 1604.1851561684082, 1584.1233276777425, 1534.5796818080842, 1319.290478982195, 1218.669613555651, 1113.4381330736499, 1090.7622500557425, 1084.322177429724, 1084.214440722833, 1083.3383788583772, 1041.6239522255225, 1034.46981174701, 1013.5417108752573, 1001.4822638349806, 993.082270623137, 766.4207081821494, 755.1100579078121, 2542.345354368071, 4784.66001964623, 4427.406747080302, 2162.6306750867816, 2130.301139829982, 10255.494853058954, 11181.259681072324, 9594.676164066414, 2472.1386404368814, 9491.551771440265, 2182.5261285868105, 5510.978593914066, 5075.4520741234755, 4892.421095200373, 4828.9174489223215, 4651.734486040658, 4551.757865391933, 4532.665750516912, 4426.362575983296, 4260.524733998328, 4252.809102946322, 4252.800198816088, 2630.13787947968, 2177.4882803658547, 2148.9239662762957, 1385.5359771198512, 1266.9756156239305, 1236.3373838071548, 1163.485888518813, 1132.6404795365218, 1094.2525450599412, 859.7963449051175, 828.2622281942179, 813.3520090255863, 808.9959836765457, 807.5859691528976, 725.9554287543302, 661.35307573998, 660.9974377890891, 660.219990919577, 651.44888547044, 2426.4360021950793, 5617.103956350514, 1466.9482817309183, 7909.915628929749, 3313.2796170083084, 1788.954065081079, 1098.780710163601, 1283.133794871686, 2897.7783991809238, 2078.0907210069554, 1874.5045557768706, 1872.403894155688, 1695.1363288349066, 1597.2506008022765, 1509.2710076858398, 1482.5951639151017, 1398.6533531242449, 1393.4144150310435, 1325.9851815705988, 1322.0449059688372, 1313.2702573249994, 1308.277170663508, 1307.245585808195, 1307.245585808195, 1268.165535757557, 1255.60679415467, 1246.4095939775168, 1246.0873744210217, 1246.02155754477, 1246.0090208629676, 1245.685558852771, 1138.8518408679565, 1128.1116586225605, 1102.0237278367715, 1080.495041191188, 1067.1782517139527, 1055.4351260566975, 1044.5622505981273, 1030.8871342719538, 1756.6567815795058, 1871.5209954805937, 1919.2589866285598, 2295.303130229777, 3390.5962963946217, 2467.4585691182333, 1595.9821468364726, 11181.259681072324, 10197.613441758487, 10255.494853058954, 10822.233573621033, 3659.122162823528, 2183.420798976795, 2012.984064200447, 1817.201117730304, 1811.748147504702, 1808.4220926539062, 1710.8010689226387, 1490.7995746228994, 1434.6952847474809, 1388.084474132629, 1369.1467127810224, 1242.4769906413394, 1177.9067284656808, 1168.4410427448431, 1087.9795559429974, 1000.5241117907497, 977.940925450327, 960.941534534446, 935.5833296803115, 934.3469618449762, 906.8825656962373, 886.5767702409369, 822.3893611552885, 820.9942989996266, 815.8591231028106, 806.376085927498, 800.4500039766923, 796.4002324259984, 796.0673308416918, 795.4869683632936, 3519.716062923911, 1957.589592426771, 1472.99658558178, 4699.88818765631, 2371.606510158831, 2075.746443091498, 7577.394183211552, 4746.2099321073365, 3318.0412965612227, 5564.024580454439, 5562.7334339140425, 2407.030778783886, 1813.4152884720436, 1685.6957792714497, 1629.2552408959511, 1517.4361840226782, 1424.7827393490188, 1363.083693508116, 1351.486455274594, 1348.9454519102846, 1348.5554155567809, 1348.4530773312067, 1347.5737427798779, 1221.8920866837104, 1220.8019174633298, 1190.3442506060917, 1176.0494959587113, 1174.0777585803141, 1158.181695518794, 1155.862720383957, 1147.9807175202286, 1145.5207430065088, 1145.5099471255678, 1143.688362472267, 1137.1407312607264, 1136.0485641845562, 1132.8407392986835, 1132.6704908584475, 1132.6188472158292, 1132.5786910898248, 1132.4456251860386, 1823.4551470932802, 2005.4457543436959, 1473.5137745708178, 1610.8667662330836, 1850.0692034755236, 11181.259681072324, 10255.494853058954, 2637.600756496465, 2012.850975421786, 1639.4792293339015, 9594.676164066414, 5531.6739668511345, 5447.861692717575, 2300.9049702990515, 2213.598164253882, 1989.393560135695, 1690.1563963857063, 1680.3826317359706, 1556.2909516573352, 1550.1345120214614, 1545.3316344994114, 1431.0100770952772, 1413.784569334669, 1412.149844375521, 1411.954935754127, 1409.9188947291912, 1409.3531641135912, 1409.2057942425688, 1250.646569446753, 1144.4011094323275, 1144.0112807302378, 1141.565192430687, 1027.2155047039814, 907.3454021348933, 906.0529375081417, 904.450281272347, 904.450281272347, 904.450281272347, 900.7040585691101, 878.9962809869064, 871.3712058989407, 1793.8773957388128, 1225.5835862827255, 3687.9518587826356, 1357.866206579191, 1633.160049194563, 2369.218300307135, 4699.88818765631, 2599.1955715135537, 2512.3177589096877, 2818.9900160043803, 2670.8984991030293, 2278.046175996263, 3468.849532664781, 2350.5687407500154, 2441.123670568795, 1893.4882269121824, 1648.8744006852446, 1594.062975309843, 1494.2750023797657, 1472.7300118969074, 1412.9856814456436, 1313.9561916514288, 1241.4150983849215, 1180.8388441367042, 1161.2774386346205, 1131.7309176160481, 1131.6654540286086, 1131.2847009701884, 1130.0062135198857, 1129.5933999365488, 1129.463662890268, 1129.339783099428, 1129.1855244251099, 1129.1855244251099, 1128.9149986596742, 1128.9149986596742, 1128.9149986596742, 1128.7674917924608, 1128.7674917924608, 1128.7674917924608, 1109.2091704057616, 1105.4864567451782, 1042.438775042301, 1022.9948123503374, 919.43082848492, 2224.975257914084, 1844.7611655548299, 2828.5901815078946, 2022.9953802618431, 1707.7001971259667, 4784.66001964623], \"Category\": [\"Default\", \"Default\", \"Default\", \"Default\", \"Default\", \"Default\", \"Default\", \"Default\", \"Default\", \"Default\", \"Default\", \"Default\", \"Default\", \"Default\", \"Default\", \"Default\", \"Default\", \"Default\", \"Default\", \"Default\", \"Default\", \"Default\", \"Default\", \"Default\", \"Default\", \"Default\", \"Default\", \"Default\", \"Default\", \"Default\", \"Topic1\", \"Topic1\", \"Topic1\", \"Topic1\", \"Topic1\", \"Topic1\", \"Topic1\", \"Topic1\", \"Topic1\", \"Topic1\", \"Topic1\", \"Topic1\", \"Topic1\", \"Topic1\", \"Topic1\", \"Topic1\", \"Topic1\", \"Topic1\", \"Topic1\", \"Topic1\", \"Topic1\", \"Topic1\", \"Topic1\", \"Topic1\", \"Topic1\", \"Topic1\", \"Topic1\", \"Topic1\", \"Topic1\", \"Topic1\", \"Topic1\", \"Topic1\", \"Topic1\", \"Topic1\", \"Topic1\", \"Topic1\", \"Topic1\", \"Topic1\", \"Topic1\", \"Topic1\", \"Topic1\", \"Topic1\", \"Topic1\", \"Topic1\", \"Topic2\", \"Topic2\", \"Topic2\", \"Topic2\", \"Topic2\", \"Topic2\", \"Topic2\", \"Topic2\", \"Topic2\", \"Topic2\", \"Topic2\", \"Topic2\", \"Topic2\", \"Topic2\", \"Topic2\", \"Topic2\", \"Topic2\", \"Topic2\", \"Topic2\", \"Topic2\", \"Topic2\", \"Topic2\", \"Topic2\", \"Topic2\", \"Topic2\", \"Topic2\", \"Topic2\", \"Topic2\", \"Topic2\", \"Topic2\", \"Topic2\", \"Topic2\", \"Topic2\", \"Topic2\", \"Topic2\", \"Topic2\", \"Topic2\", \"Topic2\", \"Topic2\", \"Topic2\", \"Topic2\", \"Topic2\", \"Topic3\", \"Topic3\", \"Topic3\", \"Topic3\", \"Topic3\", \"Topic3\", \"Topic3\", \"Topic3\", \"Topic3\", \"Topic3\", \"Topic3\", \"Topic3\", \"Topic3\", \"Topic3\", \"Topic3\", \"Topic3\", \"Topic3\", \"Topic3\", \"Topic3\", \"Topic3\", \"Topic3\", \"Topic3\", \"Topic3\", \"Topic3\", \"Topic3\", \"Topic3\", \"Topic3\", \"Topic3\", \"Topic3\", \"Topic3\", \"Topic3\", \"Topic3\", \"Topic3\", \"Topic3\", \"Topic3\", \"Topic3\", \"Topic3\", \"Topic3\", \"Topic4\", \"Topic4\", \"Topic4\", \"Topic4\", \"Topic4\", \"Topic4\", \"Topic4\", \"Topic4\", \"Topic4\", \"Topic4\", \"Topic4\", \"Topic4\", \"Topic4\", \"Topic4\", \"Topic4\", \"Topic4\", \"Topic4\", \"Topic4\", \"Topic4\", \"Topic4\", \"Topic4\", \"Topic4\", \"Topic4\", \"Topic4\", \"Topic4\", \"Topic4\", \"Topic4\", \"Topic4\", \"Topic4\", \"Topic4\", \"Topic4\", \"Topic4\", \"Topic4\", \"Topic4\", \"Topic4\", \"Topic4\", \"Topic4\", \"Topic4\", \"Topic4\", \"Topic4\", \"Topic4\", \"Topic5\", \"Topic5\", \"Topic5\", \"Topic5\", \"Topic5\", \"Topic5\", \"Topic5\", \"Topic5\", \"Topic5\", \"Topic5\", \"Topic5\", \"Topic5\", \"Topic5\", \"Topic5\", \"Topic5\", \"Topic5\", \"Topic5\", \"Topic5\", \"Topic5\", \"Topic5\", \"Topic5\", \"Topic5\", \"Topic5\", \"Topic5\", \"Topic5\", \"Topic5\", \"Topic5\", \"Topic5\", \"Topic5\", \"Topic5\", \"Topic5\", \"Topic5\", \"Topic5\", \"Topic5\", \"Topic5\", \"Topic5\", \"Topic5\", \"Topic5\", \"Topic5\", \"Topic6\", \"Topic6\", \"Topic6\", \"Topic6\", \"Topic6\", \"Topic6\", \"Topic6\", \"Topic6\", \"Topic6\", \"Topic6\", \"Topic6\", \"Topic6\", \"Topic6\", \"Topic6\", \"Topic6\", \"Topic6\", \"Topic6\", \"Topic6\", \"Topic6\", \"Topic6\", \"Topic6\", \"Topic6\", \"Topic6\", \"Topic6\", \"Topic6\", \"Topic6\", \"Topic6\", \"Topic6\", \"Topic6\", \"Topic6\", \"Topic6\", \"Topic6\", \"Topic6\", \"Topic6\", \"Topic6\", \"Topic6\", \"Topic6\", \"Topic6\", \"Topic6\", \"Topic6\", \"Topic6\", \"Topic7\", \"Topic7\", \"Topic7\", \"Topic7\", \"Topic7\", \"Topic7\", \"Topic7\", \"Topic7\", \"Topic7\", \"Topic7\", \"Topic7\", \"Topic7\", \"Topic7\", \"Topic7\", \"Topic7\", \"Topic7\", \"Topic7\", \"Topic7\", \"Topic7\", \"Topic7\", \"Topic7\", \"Topic7\", \"Topic7\", \"Topic7\", \"Topic7\", \"Topic7\", \"Topic7\", \"Topic7\", \"Topic7\", \"Topic7\", \"Topic7\", \"Topic7\", \"Topic7\", \"Topic7\", \"Topic7\", \"Topic7\", \"Topic7\", \"Topic7\", \"Topic7\", \"Topic7\", \"Topic7\", \"Topic8\", \"Topic8\", \"Topic8\", \"Topic8\", \"Topic8\", \"Topic8\", \"Topic8\", \"Topic8\", \"Topic8\", \"Topic8\", \"Topic8\", \"Topic8\", \"Topic8\", \"Topic8\", \"Topic8\", \"Topic8\", \"Topic8\", \"Topic8\", \"Topic8\", \"Topic8\", \"Topic8\", \"Topic8\", \"Topic8\", \"Topic8\", \"Topic8\", \"Topic8\", \"Topic8\", \"Topic8\", \"Topic8\", \"Topic8\", \"Topic8\", \"Topic8\", \"Topic8\", \"Topic8\", \"Topic8\", \"Topic8\", \"Topic8\", \"Topic8\", \"Topic8\", \"Topic8\", \"Topic8\", \"Topic9\", \"Topic9\", \"Topic9\", \"Topic9\", \"Topic9\", \"Topic9\", \"Topic9\", \"Topic9\", \"Topic9\", \"Topic9\", \"Topic9\", \"Topic9\", \"Topic9\", \"Topic9\", \"Topic9\", \"Topic9\", \"Topic9\", \"Topic9\", \"Topic9\", \"Topic9\", \"Topic9\", \"Topic9\", \"Topic9\", \"Topic9\", \"Topic9\", \"Topic9\", \"Topic9\", \"Topic9\", \"Topic9\", \"Topic9\", \"Topic9\", \"Topic9\", \"Topic9\", \"Topic9\", \"Topic9\", \"Topic9\", \"Topic9\", \"Topic9\", \"Topic9\", \"Topic9\", \"Topic9\", \"Topic9\", \"Topic9\", \"Topic9\", \"Topic9\", \"Topic10\", \"Topic10\", \"Topic10\", \"Topic10\", \"Topic10\", \"Topic10\", \"Topic10\", \"Topic10\", \"Topic10\", \"Topic10\", \"Topic10\", \"Topic10\", \"Topic10\", \"Topic10\", \"Topic10\", \"Topic10\", \"Topic10\", \"Topic10\", \"Topic10\", \"Topic10\", \"Topic10\", \"Topic10\", \"Topic10\", \"Topic10\", \"Topic10\", \"Topic10\", \"Topic10\", \"Topic10\", \"Topic10\", \"Topic10\", \"Topic10\", \"Topic10\", \"Topic10\", \"Topic10\", \"Topic10\", \"Topic10\"], \"logprob\": [30.0, 29.0, 28.0, 27.0, 26.0, 25.0, 24.0, 23.0, 22.0, 21.0, 20.0, 19.0, 18.0, 17.0, 16.0, 15.0, 14.0, 13.0, 12.0, 11.0, 10.0, 9.0, 8.0, 7.0, 6.0, 5.0, 4.0, 3.0, 2.0, 1.0, -4.0291, -4.0618, -4.0815, -4.0817, -4.0825, -4.0826, -4.0827, -4.0827, -4.083, -4.0831, -4.0831, -4.1254, -4.5396, -4.5705, -4.6985, -4.8315, -4.9636, -4.9683, -5.0806, -5.1374, -5.2305, -5.244, -5.2997, -5.3004, -5.3054, -5.3586, -5.4937, -5.5216, -5.534, -5.551, -4.0656, -5.3704, -4.9892, -3.8058, -4.1176, -4.1179, -4.9441, -4.6709, -3.9938, -4.8073, -4.0769, -4.1342, -4.5331, -4.9737, -3.6258, -4.0186, -4.0773, -4.0869, -4.1001, -4.5723, -4.6561, -4.6814, -4.6821, -4.7049, -4.723, -4.7327, -4.7613, -4.7616, -4.7634, -4.7645, -4.7648, -4.7648, -4.7714, -4.8512, -4.8654, -4.8935, -4.9561, -5.1199, -5.2522, -5.3071, -5.339, -5.3603, -5.3651, -5.37, -4.3156, -4.7228, -4.8769, -4.9499, -4.5805, -4.5967, -4.4596, -3.9126, -4.2347, -4.7587, -4.8125, -4.8488, -3.4825, -3.9119, -3.9286, -3.9299, -3.9333, -3.9357, -3.9403, -3.9408, -3.9408, -3.9409, -3.9409, -3.9409, -3.9409, -3.9409, -3.9409, -3.9409, -3.9409, -3.9409, -4.6008, -4.7883, -4.7897, -4.9895, -5.0096, -5.0187, -5.0835, -5.1095, -5.1115, -5.1126, -5.1146, -5.1161, -4.8415, -4.504, -3.8559, -4.7699, -4.2757, -4.4793, -3.9284, -4.9622, -3.22, -3.8581, -3.8732, -3.8803, -3.9721, -4.0094, -4.0285, -4.0652, -4.1192, -4.1612, -4.1927, -4.1948, -4.3019, -4.4506, -4.4632, -4.495, -4.6462, -4.7256, -4.816, -4.8366, -4.8425, -4.8426, -4.8434, -4.8827, -4.8896, -4.9101, -4.9221, -4.9305, -5.1899, -5.2047, -4.1661, -3.8918, -3.9983, -4.5414, -4.5596, -4.0147, -4.1254, -4.215, -4.6076, -4.5508, -4.7898, -3.204, -3.2863, -3.323, -3.3361, -3.3735, -3.3952, -3.3994, -3.4232, -3.4614, -3.4632, -3.4632, -3.9438, -4.1328, -4.146, -4.5851, -4.6746, -4.6991, -4.7599, -4.7868, -4.8213, -5.0627, -5.1001, -5.1182, -5.1236, -5.1254, -5.2321, -5.3254, -5.3259, -5.3271, -5.3405, -4.0407, -3.2822, -4.6648, -3.5028, -4.5932, -4.8799, -5.0769, -5.0839, -5.0981, -4.1291, -4.2322, -4.2333, -4.3329, -4.3924, -4.4491, -4.4669, -4.5252, -4.529, -4.5786, -4.5816, -4.5883, -4.5921, -4.5929, -4.5929, -4.6232, -4.6332, -4.6405, -4.6408, -4.6409, -4.6409, -4.6411, -4.7309, -4.7403, -4.7638, -4.7835, -4.7959, -4.807, -4.8174, -4.8305, -4.4255, -4.4793, -4.467, -4.3883, -4.3574, -4.5211, -4.6537, -4.3322, -4.4094, -4.4865, -4.4848, -3.5075, -4.024, -4.1053, -4.2076, -4.2106, -4.2125, -4.268, -4.4057, -4.4441, -4.4772, -4.4909, -4.5881, -4.6415, -4.6495, -4.721, -4.8048, -4.8277, -4.8452, -4.872, -4.8733, -4.9032, -4.9259, -5.0011, -5.0028, -5.0091, -5.0208, -5.0282, -5.0332, -5.0337, -5.0344, -3.7944, -4.3081, -4.5822, -4.293, -4.6285, -4.71, -4.4034, -4.6221, -4.7105, -4.8495, -4.8496, -3.8977, -4.181, -4.2541, -4.2881, -4.3593, -4.4223, -4.4666, -4.4752, -4.4771, -4.4774, -4.4774, -4.4781, -4.5761, -4.5769, -4.6022, -4.6143, -4.616, -4.6296, -4.6317, -4.6385, -4.6406, -4.6407, -4.6422, -4.648, -4.649, -4.6518, -4.6519, -4.652, -4.652, -4.6521, -4.2077, -4.134, -4.4135, -4.3472, -4.3587, -3.619, -3.7675, -4.3345, -4.4688, -4.5553, -4.3654, -3.0214, -3.0366, -3.8988, -3.9375, -4.0443, -4.2074, -4.2132, -4.29, -4.294, -4.2971, -4.374, -4.3861, -4.3872, -4.3874, -4.3888, -4.3892, -4.3893, -4.5088, -4.5976, -4.598, -4.6001, -4.7057, -4.8299, -4.8314, -4.8331, -4.8331, -4.8331, -4.8373, -4.8617, -4.8704, -4.2661, -4.5868, -3.7324, -4.5251, -4.4059, -4.1681, -3.747, -4.1369, -4.2637, -4.2198, -4.3115, -4.4199, -4.4301, -4.5004, -4.4989, -4.0567, -4.1951, -4.2289, -4.2936, -4.3081, -4.3496, -4.4223, -4.4791, -4.5292, -4.5459, -4.5717, -4.5717, -4.5721, -4.5732, -4.5736, -4.5737, -4.5738, -4.5739, -4.5739, -4.5742, -4.5742, -4.5742, -4.5743, -4.5743, -4.5743, -4.5918, -4.5952, -4.6539, -4.6728, -4.7796, -4.0428, -4.2621, -4.0353, -4.3549, -4.4624, -4.4004], \"loglift\": [30.0, 29.0, 28.0, 27.0, 26.0, 25.0, 24.0, 23.0, 22.0, 21.0, 20.0, 19.0, 18.0, 17.0, 16.0, 15.0, 14.0, 13.0, 12.0, 11.0, 10.0, 9.0, 8.0, 7.0, 6.0, 5.0, 4.0, 3.0, 2.0, 1.0, 1.7697, 1.7696, 1.7696, 1.7696, 1.7696, 1.7696, 1.7696, 1.7696, 1.7696, 1.7696, 1.7696, 1.7696, 1.7695, 1.7695, 1.7694, 1.7694, 1.7693, 1.7693, 1.7693, 1.7692, 1.7691, 1.7691, 1.7691, 1.7691, 1.7691, 1.7691, 1.7689, 1.7689, 1.7689, 1.7689, 1.6113, 1.7445, 1.6725, 1.4384, 1.4354, 1.4354, 1.6238, 1.4659, 0.894, 1.4399, 0.8703, 0.874, 0.4859, 1.2763, 2.0953, 2.0952, 2.0952, 2.0952, 2.0952, 2.095, 2.095, 2.095, 2.095, 2.0949, 2.0949, 2.0949, 2.0949, 2.0949, 2.0949, 2.0949, 2.0949, 2.0949, 2.0949, 2.0948, 2.0948, 2.0948, 2.0948, 2.0946, 2.0945, 2.0945, 2.0944, 2.0944, 2.0944, 2.0944, 1.9718, 2.0183, 1.9748, 1.955, 1.8157, 1.815, 1.7388, 1.1063, 0.7569, 1.6206, 1.7163, 0.0063, 2.2661, 2.266, 2.266, 2.266, 2.266, 2.266, 2.266, 2.266, 2.266, 2.266, 2.266, 2.266, 2.266, 2.266, 2.266, 2.266, 2.266, 2.266, 2.2657, 2.2655, 2.2655, 2.2654, 2.2654, 2.2653, 2.2653, 2.2653, 2.2653, 2.2653, 2.2653, 2.2653, 2.2381, 2.1549, 1.9337, 2.1675, 1.7841, 1.7683, 1.0632, 1.9996, 2.3466, 2.3464, 2.3464, 2.3464, 2.3464, 2.3464, 2.3464, 2.3463, 2.3463, 2.3463, 2.3463, 2.3463, 2.3462, 2.3462, 2.3461, 2.3461, 2.346, 2.346, 2.3459, 2.3459, 2.3459, 2.3459, 2.3459, 2.3458, 2.3458, 2.3458, 2.3458, 2.3458, 2.3455, 2.3455, 2.1702, 1.8122, 1.7833, 1.9566, 1.9535, 0.9269, 0.7297, 0.7932, 1.7567, 0.4682, 1.6991, 2.3587, 2.3586, 2.3586, 2.3586, 2.3586, 2.3586, 2.3586, 2.3586, 2.3586, 2.3586, 2.3586, 2.3585, 2.3584, 2.3584, 2.3582, 2.3581, 2.3581, 2.358, 2.358, 2.358, 2.3578, 2.3577, 2.3577, 2.3577, 2.3577, 2.3576, 2.3574, 2.3574, 2.3574, 2.3574, 2.3422, 2.2613, 2.2214, 1.6984, 1.4782, 1.8079, 2.0983, 1.9361, 1.1073, 2.4088, 2.4088, 2.4088, 2.4087, 2.4087, 2.4087, 2.4087, 2.4086, 2.4086, 2.4086, 2.4086, 2.4086, 2.4086, 2.4086, 2.4086, 2.4086, 2.4086, 2.4085, 2.4085, 2.4085, 2.4085, 2.4085, 2.4085, 2.4085, 2.4084, 2.4084, 2.4084, 2.4084, 2.4084, 2.4084, 2.2804, 2.1633, 2.1504, 2.0502, 1.691, 1.845, 2.1481, 0.5229, 0.5378, 0.4551, 0.4029, 2.4647, 2.4645, 2.4645, 2.4644, 2.4644, 2.4644, 2.4644, 2.4643, 2.4643, 2.4643, 2.4643, 2.4642, 2.4641, 2.4641, 2.4641, 2.464, 2.464, 2.464, 2.4639, 2.4639, 2.4639, 2.4639, 2.4638, 2.4638, 2.4638, 2.4638, 2.4638, 2.4638, 2.4638, 2.4638, 2.2165, 2.2896, 2.2998, 1.4288, 1.7773, 1.829, 0.8408, 1.0899, 1.3595, 0.7035, 0.7037, 2.4933, 2.4931, 2.4931, 2.4931, 2.493, 2.493, 2.493, 2.493, 2.493, 2.493, 2.493, 2.493, 2.4929, 2.4929, 2.4929, 2.4929, 2.4929, 2.4929, 2.4929, 2.4929, 2.4929, 2.4929, 2.4928, 2.4928, 2.4928, 2.4928, 2.4928, 2.4928, 2.4928, 2.4928, 2.461, 2.4395, 2.4682, 2.4453, 2.2954, 1.2361, 1.174, 1.965, 2.101, 2.2197, 0.6428, 2.5375, 2.5375, 2.5373, 2.5372, 2.5372, 2.5371, 2.5371, 2.5371, 2.5371, 2.5371, 2.537, 2.537, 2.537, 2.537, 2.537, 2.537, 2.537, 2.5369, 2.5369, 2.5369, 2.5369, 2.5368, 2.5366, 2.5366, 2.5366, 2.5366, 2.5366, 2.5366, 2.5366, 2.5366, 2.4188, 2.4791, 2.2319, 2.4384, 2.373, 2.2387, 1.9748, 2.1773, 2.0845, 2.0132, 1.9755, 2.0261, 1.5954, 1.9143, 1.878, 2.5743, 2.5742, 2.5742, 2.5741, 2.5741, 2.5741, 2.574, 2.574, 2.574, 2.574, 2.5739, 2.5739, 2.5739, 2.5739, 2.5739, 2.5739, 2.5739, 2.5739, 2.5739, 2.5739, 2.5739, 2.5739, 2.5739, 2.5739, 2.5739, 2.5739, 2.5739, 2.5739, 2.5738, 2.5737, 2.4268, 2.3949, 2.1943, 2.2098, 2.2718, 1.3036]}, \"token.table\": {\"Topic\": [9, 9, 6, 6, 4, 4, 1, 1, 1, 5, 5, 10, 10, 1, 4, 1, 3, 9, 9, 9, 1, 5, 3, 2, 8, 10, 10, 7, 4, 4, 8, 8, 1, 2, 3, 4, 5, 6, 7, 8, 10, 6, 4, 1, 2, 3, 4, 5, 6, 7, 8, 9, 10, 1, 2, 3, 4, 5, 6, 7, 8, 9, 10, 10, 7, 7, 7, 9, 9, 3, 3, 10, 2, 10, 1, 2, 4, 7, 8, 1, 4, 4, 8, 8, 5, 5, 1, 2, 5, 7, 8, 7, 1, 3, 4, 6, 7, 3, 2, 1, 2, 3, 4, 5, 6, 7, 8, 9, 2, 5, 7, 8, 4, 1, 6, 6, 4, 1, 7, 7, 7, 3, 2, 2, 3, 6, 10, 10, 10, 9, 8, 8, 9, 1, 2, 3, 4, 5, 6, 7, 8, 3, 7, 3, 1, 10, 9, 10, 6, 6, 5, 7, 7, 3, 5, 1, 2, 2, 6, 6, 2, 4, 10, 10, 7, 3, 8, 8, 1, 2, 1, 1, 1, 2, 4, 9, 4, 7, 7, 8, 4, 8, 4, 8, 8, 8, 6, 6, 8, 10, 9, 1, 2, 2, 2, 3, 6, 6, 5, 2, 3, 3, 3, 1, 2, 3, 6, 10, 10, 1, 3, 6, 6, 2, 3, 8, 9, 4, 6, 9, 2, 3, 6, 8, 7, 1, 9, 9, 7, 7, 8, 7, 8, 8, 2, 10, 2, 2, 8, 3, 9, 2, 4, 4, 4, 8, 10, 10, 4, 6, 8, 9, 1, 6, 10, 9, 9, 4, 8, 2, 5, 6, 10, 8, 2, 1, 5, 5, 4, 5, 5, 10, 10, 4, 8, 8, 3, 4, 1, 2, 7, 9, 3, 6, 2, 4, 10, 5, 3, 4, 4, 10, 2, 7, 7, 3, 4, 10, 1, 3, 3, 8, 8, 5, 5, 6, 6, 5, 10, 1, 3, 4, 1, 6, 6, 1, 9, 9, 7, 3, 5, 1, 3, 5, 6, 2, 2, 2, 5, 4, 1, 1, 2, 3, 4, 5, 6, 10, 6, 1, 10, 10, 2, 5, 5, 6, 5, 10, 3, 8, 10, 10, 9, 4, 1, 9, 8, 8, 8, 7, 7, 5, 6, 10, 1, 2, 3, 6, 7, 8, 9, 5, 2, 3, 5, 2, 3, 3, 5, 5, 5, 7, 9, 10, 7, 7, 2, 10, 1, 2, 3, 4, 5, 6, 8, 9, 10, 5, 2, 1, 3, 6, 7, 1, 7, 7, 2, 3, 1, 6, 6, 5, 10, 2, 5, 5, 3, 3, 1, 2, 5, 3, 3, 8, 8, 7, 7, 1, 5, 7, 9, 5, 5, 10, 3, 3, 2, 4, 9, 9, 3, 9, 1, 4, 4, 6, 1, 1, 6, 4, 4, 7, 2, 2, 9, 6, 6, 4, 5, 5, 8, 8, 5, 1, 7, 1, 7, 3, 5, 5, 9, 2, 4, 1, 4, 9, 10, 9, 3, 8, 3, 8, 7, 8, 4, 4, 4, 6, 1, 9, 9, 1, 3, 7, 7, 3, 1, 1, 2, 6, 7, 10, 10, 2, 3, 9, 9, 2, 2, 3, 9, 1, 4, 5, 1, 2, 3, 4, 6, 7, 8, 9, 10, 3, 9, 2, 3, 4, 3, 2, 4, 8, 1, 5, 6, 4, 6, 7, 10, 1, 2, 3, 4, 5, 6, 8, 9, 10, 4, 4, 2, 1, 1, 8, 3, 7, 9, 10, 2, 6, 6, 2, 5, 9, 9, 2, 10, 6, 9, 9, 6, 4, 1, 6, 9, 9, 1, 7, 8, 1, 2, 3, 1, 2, 1, 3, 5, 7, 1, 1, 3, 7, 10, 2, 8, 8, 2, 9, 1, 9, 9], \"Freq\": [0.9993158051005343, 0.9984263814438002, 0.9993296534233989, 0.9991578664935805, 0.9990218386301168, 0.9987806415314145, 0.9998122317641958, 0.9996795884593083, 0.12815721068105437, 0.8718780450056837, 0.9988553418809982, 0.9994696984288911, 0.9991894884373398, 0.4453633716131022, 0.5541760391552679, 0.21800718414621448, 0.04528258675673858, 0.7364521295287544, 0.9988378852222062, 0.999185749033574, 0.998921130515522, 0.9996131626109304, 0.9984885208239703, 0.1794527466195901, 0.8199693271744523, 0.9993541595403369, 0.9991894884373398, 0.9990201958177382, 0.9993431428378756, 0.999261209864802, 0.9995454093610369, 0.9989968424933107, 0.09775284996289231, 0.12377854011769712, 0.03747341640846466, 0.19845706685055628, 0.023700370759530156, 0.1515929374996363, 0.05759637271372611, 0.28431501375300516, 0.025220771902594356, 0.9994496533672571, 0.9988798888142245, 0.4164574687230663, 0.08260771622773937, 0.06967138482742223, 0.044907550432529454, 0.04037983444241846, 0.13444544419615298, 0.02337779888771595, 0.01912728999904032, 0.08436336120349669, 0.08454816593778693, 0.4067618392960691, 0.09011912495493914, 0.08109740624345448, 0.05618961762696422, 0.04412797195834887, 0.1538595288947764, 0.02353491837778606, 0.022162048139081875, 0.0984544085470717, 0.023731042697600947, 0.9988136581040731, 0.9994636605506803, 0.9996160970022526, 0.9990996559286003, 0.9987756832628181, 0.998816699418559, 0.9998028830331165, 0.999783687295741, 0.9989098806266457, 0.16424890422542573, 0.8353384865062081, 0.8533631755717339, 0.029293038684703145, 0.039464232672447294, 0.07343602059151275, 0.004271901474852542, 0.999739268712015, 0.999443233208674, 0.9995834791811525, 0.9994506254691319, 0.9995742401609174, 0.9992744188541162, 0.99815214483603, 0.17910272232918115, 0.04727759722369521, 0.28608122699593674, 0.0973159300516938, 0.389953904107851, 0.9992302204887972, 0.9989156037280502, 0.6175188754188886, 0.22552863276168106, 0.03907969694679923, 0.11783572743500532, 0.9988154263742642, 0.9996366283398975, 0.4082472334678462, 0.0253265452470479, 0.005732345632047878, 0.2114714415895481, 0.04815170330920218, 0.03460252272436174, 0.012402711458430865, 0.15706627031811188, 0.09682452894859053, 0.031795697138775524, 0.27473469558973224, 0.01788507964056123, 0.6751617564311865, 0.9995045570724191, 0.9998740838414741, 0.9995985661294551, 0.9990471677076461, 0.9997719575100518, 0.9998122542865308, 0.9998072753648805, 0.9997665961637934, 0.999037850420368, 0.9992723384192612, 0.9987438124103336, 0.21630958972300388, 0.7170093663555149, 0.015483212738067647, 0.050775830008663016, 0.999146741812762, 0.9994119693004327, 0.9991160220644045, 0.9997125519825671, 0.9995548295963318, 0.9992183241960422, 0.08112724075443668, 0.13358692287689694, 0.03861344632062131, 0.24172407431520257, 0.026912401981039093, 0.14168014521177463, 0.06913367030636491, 0.26727135445662376, 0.999698785264618, 0.9995870576681795, 0.9998140444495147, 0.9990230502026409, 0.9995043138314489, 0.9993236783059106, 0.9993200621048698, 0.9990327525367194, 0.9990145845811771, 0.9998768381757908, 0.9990268136916275, 0.9982934936296936, 0.9992052849733315, 0.9998224282861221, 0.9996795884593083, 0.9991226337710083, 0.9995850855337994, 0.9989849286645911, 0.9990471677076461, 0.0978746674025386, 0.20711861435183673, 0.6940203688543646, 0.9996656248297112, 0.999693324580707, 0.999783687295741, 0.9992699136908795, 0.9994080442071557, 0.31516916411315804, 0.6842174742849951, 0.9996720097317325, 0.9995320893333579, 0.08108584110478355, 0.12422621896276032, 0.5691819487021018, 0.2254141209542451, 0.9996222536926846, 0.9996225374420201, 0.9994378112630937, 0.9991457020965064, 0.6769533128633963, 0.32275506310017116, 0.675021936154419, 0.32483670362924755, 0.9992049692082171, 0.9996400590825787, 0.9995167323420876, 0.999190197786635, 0.9745412800218008, 0.024431396992189994, 0.9988665697358948, 0.377775105200971, 0.6220970482385556, 0.9990397918216014, 0.16604195762795862, 0.06328391592612763, 0.7700587393387213, 0.9995418385348236, 0.99833773198986, 0.9995706951120623, 0.999783687295741, 0.9996184711564381, 0.9989147889688279, 0.9990745109838279, 0.23379825208514973, 0.7660936436249246, 0.999217029061283, 0.9988999711936861, 0.9995894840130743, 0.9992316881720985, 0.12068379106439862, 0.8789423273746767, 0.9991801445660515, 0.7000677793373387, 0.027070658133945057, 0.19703327122808112, 0.07572930946331466, 0.12654917441209798, 0.3032687315792881, 0.5698456906958969, 0.9998051775447618, 0.9995059269915479, 0.9988959185477587, 0.9997709909722922, 0.9995153781051123, 0.11149033957118876, 0.8880205546845185, 0.9993482641216979, 0.9992187261273802, 0.9991624617213642, 0.9992536134536198, 0.9983105798531529, 0.998870704331619, 0.9991076090229895, 0.8836596044464081, 0.11612313581110069, 0.9993885108896938, 0.9990057206672421, 0.9994536138813597, 0.9719784940430566, 0.027298119407166695, 0.999028921150396, 0.9996969731665029, 0.9997405251234307, 0.5860395489933522, 0.13334280750989969, 0.28047969855530624, 0.9991095504539295, 0.9994007777475101, 0.7716519814772776, 0.2276920431502838, 0.9991771923192623, 0.9997875349609324, 0.9990710473731985, 0.9995790879495219, 0.999138285614762, 0.9990398686801528, 0.23910031489649575, 0.7606073792753322, 0.38420097985222734, 0.04660665894831872, 0.5686012391694883, 0.9993024122900982, 0.998979697638664, 0.9997425998303836, 0.9998567401355578, 0.9999139290767947, 0.9998335005036857, 0.0927524226093367, 0.9070510425999433, 0.9994345252989865, 0.9993200621048698, 0.9993200621048698, 0.046558785352175995, 0.9529031402078686, 0.9990770076054726, 0.9986654391882958, 0.9994009813002194, 0.2568489288598417, 0.20932982878369868, 0.016795543992429836, 0.5169750370352794, 0.6076551807202815, 0.39202398803577404, 0.9992411832126118, 0.9994510740933041, 0.999272280417335, 0.9989182695397947, 0.9995321656356763, 0.999561536145769, 0.9997167412047653, 0.9990275489784236, 0.15139206851041215, 0.8479313612982277, 0.9986592455181356, 0.11136289804699685, 0.2046956126006704, 0.6837328407075934, 0.10482428139613512, 0.8945367433131323, 0.9993886758598792, 0.9992991177597688, 0.9994890499932786, 0.9987688644979182, 0.9993109429143994, 0.9992570191701299, 0.9990237766949183, 0.13708017602224382, 0.8624815009399538, 0.7378665920591113, 0.062187009723759165, 0.1994495285958908, 0.9991042684694762, 0.9992502183102321, 0.9990809277458712, 0.3642055216761664, 0.6356679979418991, 0.9994830118575875, 0.9993390287301802, 0.9062245697224571, 0.09327727162622282, 0.016901682463662582, 0.23239813387536049, 0.4143930361180129, 0.3362227547235735, 0.999100624695123, 0.999519151291808, 0.9994857098532296, 0.9984910111112907, 0.9985299389192513, 0.9994889204937618, 0.9991769419945049, 0.15572482060499118, 0.14009335187002048, 0.06871947575939952, 0.08051681065371703, 0.4875248645076713, 0.06724480889760984, 0.9991394457817341, 0.9993054757876547, 0.9992896201366771, 0.9988643875683224, 0.22843502591397677, 0.770854449996567, 0.6554265840095813, 0.343689802078746, 0.9995823855505187, 0.9991894884373398, 0.12648590212938118, 0.1340984795723532, 0.7384200119682856, 0.9994746782899208, 0.9985172106105042, 0.9994655268062037, 0.056299709601432796, 0.943224120279077, 0.9995717633555119, 0.9993431223756627, 0.9992578486370433, 0.9993765069750539, 0.9987889087648499, 0.5763144063474167, 0.18502431474393302, 0.23812797003297723, 0.30150373044384704, 0.2819091483814587, 0.023808470677955777, 0.04445652489423601, 0.25283331693404365, 0.07205749532620244, 0.02338708181639904, 0.9986839016329561, 0.9996012839233968, 0.9998405602929974, 0.9997757598191194, 0.9991085517741091, 0.9997377964022991, 0.999783687295741, 0.9998100094002381, 0.9998097485857614, 0.034894447155301746, 0.3549020600917275, 0.5695880185045291, 0.040639264674772156, 0.9989469712619707, 0.9993494412889026, 0.8688564591972129, 0.13057155421988492, 0.19393380055655005, 0.03249086489115604, 0.026422532148838957, 0.04171978760342993, 0.5166932482885398, 0.007458992329098079, 0.057017043058020904, 0.08015256163810477, 0.04412183598059711, 0.9998118418974138, 0.999150747908339, 0.1869207105190242, 0.19607404428155373, 0.08719754794830768, 0.5294480950010505, 0.16040134316955715, 0.8392974739731923, 0.9993878361523689, 0.9257877926867374, 0.0737092191629568, 0.9991562099097139, 0.999252017832884, 0.9995877282781717, 0.9995673688864155, 0.9989501066038609, 0.9992325263237307, 0.9999109292892784, 0.999692168013825, 0.9998294933098004, 0.9995243711314988, 0.2443092520132473, 0.7554076004090164, 0.9990737982199664, 0.9998321579847871, 0.999783687295741, 0.9990820381593657, 0.9996064930835286, 0.9995317579950174, 0.9982417980696301, 0.6105405448835941, 0.09345744747331611, 0.11763369836409673, 0.17861558493934934, 0.9979540796140306, 0.9992299649559948, 0.9989501066038609, 0.9998214261949647, 0.9995059269915479, 0.20544818014176716, 0.09695307377476652, 0.6975235029906813, 0.9991443448164241, 0.15124053525667291, 0.8480491551841781, 0.47651205013220244, 0.5232468858182454, 0.9989101903687618, 0.9994617356717559, 0.9995778625677731, 0.9989371440427125, 0.9994751331133287, 0.9994635258348887, 0.9995789235607848, 0.9995111415843037, 0.9991092998754344, 0.09352909689088233, 0.9058329856361045, 0.999730832461668, 0.9988690764381727, 0.01607295637087423, 0.9833352282283568, 0.9995700330533812, 0.999587245053345, 0.9995881403534673, 0.9984760524490296, 0.8642978197670887, 0.1353719476743633, 0.9073745907227548, 0.09204460133982327, 0.9995349670814676, 0.9998421049088544, 0.9998531216388863, 0.9997297773988336, 0.9990997798566493, 0.9995458429606403, 0.3747640212578884, 0.17642737000755976, 0.3897545821082039, 0.058520843319501026, 0.9995021492262532, 0.052357437129663176, 0.9474202909177146, 0.03180774700845053, 0.9679426460330204, 0.999476162758525, 0.9993981205939885, 0.9995973215068177, 0.999290883696922, 0.21747017585313555, 0.7817171186072169, 0.9996234648106087, 0.9991704946584953, 0.9992941509557168, 0.7156690166301839, 0.11232876328324082, 0.17181807631804516, 0.9985583922247507, 0.998693494332563, 0.9997692264420448, 0.40837345858362445, 0.04068665454523195, 0.21970793454425255, 0.3312195062608142, 0.9997421547674586, 0.9993331660503334, 0.17389701909131386, 0.08399394854167828, 0.741594811998637, 0.9994450573646888, 0.9992250802986266, 0.9997751603934804, 0.999783687295741, 0.9998781622244598, 0.9997645930369454, 0.8382024087870958, 0.16166175035734226, 0.11605300026795987, 0.26224697410374675, 0.3002820121774332, 0.05013243562812047, 0.044698858760450974, 0.0394703225292973, 0.08785991274703321, 0.0829389374706533, 0.016300730603008497, 0.399904097467028, 0.599636659868233, 0.7558799763503119, 0.15702258072249575, 0.08686355529329552, 0.9996997630481008, 0.9993306443830509, 0.9987645791153568, 0.9992295615417135, 0.2535612801354641, 0.04792395329020799, 0.6983827011291218, 0.9993011767177462, 0.047731122907805935, 0.7801765684811612, 0.17217297906029996, 0.2769831596884469, 0.37190968189433915, 0.01095711244107968, 0.15276743307274554, 0.031290984567314085, 0.026760640000329218, 0.0581569814180383, 0.008007120630019767, 0.06321411023699815, 0.9994505372512758, 0.999606504339455, 0.9986717358371563, 0.999667667276536, 0.9750993462694681, 0.02399189955671802, 0.05102026811011596, 0.5026128891508944, 0.2517280996837952, 0.1943830049484583, 0.9996002239639503, 0.9995328698688739, 0.9991273690406125, 0.8864675210946555, 0.11327816762873756, 0.9995021492262532, 0.9995021492262532, 0.9990001265502518, 0.9995314182735966, 0.40794752498982, 0.591701279724365, 0.9992681202742968, 0.9992096289890612, 0.9995184499492444, 0.39054377950550223, 0.07317378003806795, 0.5360404816742187, 0.999504896930605, 0.7189484826011565, 0.16084583169305153, 0.11982474710019275, 0.9993914415184167, 0.9991095300963465, 0.9994437377539228, 0.99910257720495, 0.9995349269108323, 0.7177929336249431, 0.08393386758328072, 0.00105577191928655, 0.19703343443685237, 0.999456737047783, 0.715655360317867, 0.11235483551837903, 0.17185795640891255, 0.9995599613706617, 0.4102212957495602, 0.5895509379764936, 0.9996640021526716, 0.9993506400189691, 0.999841829186169, 0.9997445736792222, 0.9996066894066755, 0.9992995050533893], \"Term\": [\"act\", \"act insurrection\", \"actual\", \"actual coup\", \"administration\", \"administration tonight\", \"ago\", \"ago heart\", \"allowed\", \"allowed\", \"allowed run\", \"amendment\", \"amendment control\", \"america\", \"america\", \"american\", \"american\", \"american\", \"american backed\", \"american thing\", \"antifa\", \"armed\", \"arrest today\", \"arrested\", \"arrested\", \"arsenal\", \"arsenal impeachment\", \"asking\", \"assault\", \"assault democracy\", \"associate\", \"associate general\", \"attempt\", \"attempt\", \"attempt\", \"attempt\", \"attempt\", \"attempt\", \"attempt\", \"attempt\", \"attempt\", \"attempt dystopian\", \"attempt remembered\", \"attempted\", \"attempted\", \"attempted\", \"attempted\", \"attempted\", \"attempted\", \"attempted\", \"attempted\", \"attempted\", \"attempted\", \"attempted coup\", \"attempted coup\", \"attempted coup\", \"attempted coup\", \"attempted coup\", \"attempted coup\", \"attempted coup\", \"attempted coup\", \"attempted coup\", \"attempted coup\", \"attempted seditious\", \"attempting\", \"attempting coup\", \"attention\", \"backed\", \"backed coup\", \"backyard\", \"backyard today\", \"believe\", \"biden\", \"biden\", \"black\", \"black\", \"black\", \"black\", \"black\", \"black capitol\", \"blood\", \"blood hand\", \"bos\", \"bos work\", \"breach\", \"breach capitol\", \"building\", \"building\", \"building\", \"building\", \"building\", \"building attempt\", \"called\", \"calling\", \"calling\", \"calling\", \"calling\", \"calling national\", \"calling removal\", \"capitol\", \"capitol\", \"capitol\", \"capitol\", \"capitol\", \"capitol\", \"capitol\", \"capitol\", \"capitol\", \"capitol building\", \"capitol building\", \"capitol building\", \"capitol building\", \"capitol coup\", \"capitol worker\", \"cia\", \"cia crisis\", \"cleaning\", \"cleaning white\", \"color\", \"color mayonnaise\", \"come\", \"commission\", \"complicit\", \"congress\", \"congress\", \"congress\", \"congress\", \"control\", \"control nuclear\", \"corrupt\", \"counsel\", \"counsel director\", \"coup act\", \"coup attempt\", \"coup attempt\", \"coup attempt\", \"coup attempt\", \"coup attempt\", \"coup attempt\", \"coup attempt\", \"coup attempt\", \"coup backyard\", \"coup color\", \"coup couple\", \"coup etat\", \"coup government\", \"coup honestly\", \"coup inaugurating\", \"coup involved\", \"coup need\", \"coup point\", \"coup police\", \"coup protestors\", \"coup sign\", \"couple\", \"couple ago\", \"coverage\", \"coverage coup\", \"crisis\", \"crisis learning\", \"cruz\", \"cruz\", \"cruz\", \"cruz hawley\", \"curfew\", \"curfew pm\", \"davis\", \"davis paul\", \"day\", \"day\", \"dc\", \"dc resident\", \"democracy\", \"democracy\", \"democracy\", \"democracy\", \"democracy sen\", \"difference\", \"difference police\", \"director human\", \"donald\", \"donald\", \"donald trump\", \"donald trump\", \"doomscrolling\", \"doomscrolling coup\", \"dystopian\", \"dystopian shit\", \"editorial\", \"editorial\", \"egged\", \"election\", \"election\", \"employee\", \"encouraged\", \"encouraged\", \"encouraged\", \"encouraged attempted\", \"end\", \"endure\", \"endure coup\", \"enforcement\", \"enforcement white\", \"etat\", \"event\", \"event\", \"expelled\", \"expulsion\", \"expulsion cruz\", \"facebook\", \"fact\", \"fact\", \"fact live\", \"failed\", \"failed\", \"failed\", \"failed\", \"fascist\", \"fascist\", \"fascist\", \"fear\", \"fear personal\", \"flag\", \"followgoosehead\", \"forget\", \"friend\", \"friend\", \"friend said\", \"fucking\", \"general\", \"general counsel\", \"god\", \"goosehead\", \"goosehead insurance\", \"gop\", \"gop\", \"gop member\", \"got\", \"government documented\", \"group\", \"group\", \"guy\", \"hand\", \"hand capitol\", \"hawley\", \"hawley\", \"hawley\", \"hawley attempted\", \"hawley blood\", \"hawleymo\", \"hawleymo\", \"heard\", \"heart\", \"helped\", \"home\", \"honestly\", \"honestly american\", \"hour\", \"hour\", \"house\", \"house\", \"house\", \"human\", \"human resource\", \"image\", \"image black\", \"impeach\", \"impeach remove\", \"impeachment\", \"impeachment\", \"impeachment removal\", \"inaugurating\", \"inaugurating joe\", \"inciting\", \"inciting\", \"inciting coup\", \"infiltration\", \"inside\", \"insurrection\", \"insurrection\", \"insurrection\", \"insurrection\", \"involved\", \"involved\", \"involved today\", \"job\", \"joe\", \"joe biden\", \"join\", \"josh\", \"josh hawley\", \"kcstar\", \"killed\", \"killed\", \"killed street\", \"know\", \"know\", \"know\", \"law\", \"law\", \"law enforcement\", \"lawyer\", \"lawyer associate\", \"leading\", \"leading coup\", \"learning\", \"learning coup\", \"let\", \"let\", \"like\", \"like\", \"like\", \"line\", \"live\", \"live tweeting\", \"make\", \"make\", \"make sense\", \"mayonnaise\", \"medium\", \"medium\", \"member\", \"member\", \"member\", \"member\", \"member involved\", \"message\", \"message stand\", \"military\", \"national security\", \"nationalist\", \"nationalist trump\", \"need\", \"need\", \"need\", \"need\", \"need\", \"need\", \"need expelled\", \"news\", \"nuclear\", \"nuclear arsenal\", \"official\", \"official\", \"old\", \"old\", \"operation\", \"operation th\", \"order\", \"order\", \"order\", \"order operation\", \"overthrow democracy\", \"pas\", \"patriot\", \"patriot\", \"paul\", \"paul davis\", \"paul lawyer\", \"pay\", \"pay attention\", \"penny\", \"penny\", \"penny\", \"people\", \"people\", \"people\", \"people\", \"people\", \"people\", \"people\", \"person\", \"personal\", \"personal safety\", \"petition\", \"petition send\", \"pm\", \"pm fear\", \"point\", \"point impeachment\", \"police\", \"police\", \"police\", \"police\", \"police response\", \"police working\", \"power\", \"power\", \"president\", \"president\", \"president\", \"president\", \"president\", \"president\", \"president\", \"president\", \"president\", \"president staging\", \"prosecuted\", \"protest\", \"protest\", \"protest\", \"protest\", \"protestors\", \"protestors\", \"protestors asking\", \"realdonaldtrump\", \"realdonaldtrump\", \"really\", \"remembered\", \"remembered traitor\", \"removal\", \"removal allowed\", \"removal gop\", \"remove\", \"remove president\", \"representation\", \"representation congress\", \"republican\", \"republican\", \"request\", \"resident\", \"resident endure\", \"resource\", \"resource goosehead\", \"response\", \"response white\", \"right\", \"right\", \"right\", \"right\", \"rosenstein\", \"run\", \"run expulsion\", \"safety\", \"safety representation\", \"said\", \"said\", \"said\", \"said supposed\", \"saw\", \"saw\", \"say\", \"say\", \"security\", \"seditionist\", \"seditious\", \"seditious coup\", \"seen\", \"sen\", \"sen josh\", \"send\", \"send message\", \"sense\", \"sense\", \"shit\", \"shit ve\", \"sign\", \"sign\", \"sign petition\", \"sorry\", \"sorry bos\", \"staff\", \"stage\", \"stage\", \"stage coup\", \"stage coup\", \"staggering\", \"staging\", \"staging coup\", \"stand\", \"stand treason\", \"started\", \"state\", \"state\", \"state\", \"state\", \"state undergoes\", \"stormed\", \"stormed\", \"stormed capitol\", \"stormed capitol\", \"street\", \"successful\", \"support\", \"support coup\", \"supported\", \"supported\", \"supporter\", \"supposed\", \"supposed working\", \"supremacist\", \"supremacist\", \"supremacist\", \"supremacist coup\", \"supremacist group\", \"supremacist thug\", \"terrorist\", \"terrorist\", \"terrorist\", \"terrorist\", \"th\", \"th amendment\", \"thing\", \"thing\", \"thing\", \"thing ve\", \"think\", \"thousand\", \"thousand dc\", \"thug\", \"thug attempted\", \"time\", \"time\", \"today\", \"today\", \"today\", \"today\", \"today\", \"today\", \"today\", \"today\", \"today\", \"today attempted\", \"today attempted\", \"today coup\", \"today coup\", \"today coup\", \"today curfew\", \"tonight\", \"tonight support\", \"took\", \"traitor\", \"traitor\", \"traitor\", \"traitor democracy\", \"treason\", \"treason\", \"treason\", \"trump\", \"trump\", \"trump\", \"trump\", \"trump\", \"trump\", \"trump\", \"trump\", \"trump\", \"trump administration\", \"trump attempted\", \"trump coup\", \"trump supporter\", \"try\", \"try\", \"trying\", \"trying\", \"trying\", \"trying\", \"tweet\", \"tweeting\", \"tweeting actual\", \"twitter\", \"twitter\", \"undergoes\", \"undergoes american\", \"ur\", \"use\", \"ve\", \"ve\", \"ve heard\", \"ve seen\", \"video\", \"violence\", \"violence\", \"violence\", \"violence capitol\", \"violent\", \"violent\", \"violent\", \"violent coup\", \"vote\", \"watch\", \"watching\", \"way\", \"white\", \"white\", \"white\", \"white\", \"white nationalist\", \"white supremacist\", \"white supremacist\", \"white supremacist\", \"word\", \"work\", \"work\", \"work doomscrolling\", \"work trump\", \"worker\", \"worker cleaning\", \"working\", \"working coup\"]}, \"R\": 30, \"lambda.step\": 0.01, \"plot.opts\": {\"xlab\": \"PC1\", \"ylab\": \"PC2\"}, \"topic.order\": [2, 5, 10, 7, 3, 4, 9, 1, 8, 6]};\n",
       "\n",
       "function LDAvis_load_lib(url, callback){\n",
       "  var s = document.createElement('script');\n",
       "  s.src = url;\n",
       "  s.async = true;\n",
       "  s.onreadystatechange = s.onload = callback;\n",
       "  s.onerror = function(){console.warn(\"failed to load library \" + url);};\n",
       "  document.getElementsByTagName(\"head\")[0].appendChild(s);\n",
       "}\n",
       "\n",
       "if(typeof(LDAvis) !== \"undefined\"){\n",
       "   // already loaded: just create the visualization\n",
       "   !function(LDAvis){\n",
       "       new LDAvis(\"#\" + \"ldavis_el387211404632908401441313524970\", ldavis_el387211404632908401441313524970_data);\n",
       "   }(LDAvis);\n",
       "}else if(typeof define === \"function\" && define.amd){\n",
       "   // require.js is available: use it to load d3/LDAvis\n",
       "   require.config({paths: {d3: \"https://cdnjs.cloudflare.com/ajax/libs/d3/3.5.5/d3.min\"}});\n",
       "   require([\"d3\"], function(d3){\n",
       "      window.d3 = d3;\n",
       "      LDAvis_load_lib(\"https://cdn.rawgit.com/bmabey/pyLDAvis/files/ldavis.v1.0.0.js\", function(){\n",
       "        new LDAvis(\"#\" + \"ldavis_el387211404632908401441313524970\", ldavis_el387211404632908401441313524970_data);\n",
       "      });\n",
       "    });\n",
       "}else{\n",
       "    // require.js not available: dynamically load d3 & LDAvis\n",
       "    LDAvis_load_lib(\"https://cdnjs.cloudflare.com/ajax/libs/d3/3.5.5/d3.min.js\", function(){\n",
       "         LDAvis_load_lib(\"https://cdn.rawgit.com/bmabey/pyLDAvis/files/ldavis.v1.0.0.js\", function(){\n",
       "                 new LDAvis(\"#\" + \"ldavis_el387211404632908401441313524970\", ldavis_el387211404632908401441313524970_data);\n",
       "            })\n",
       "         });\n",
       "}\n",
       "</script>"
      ],
      "text/plain": [
       "PreparedData(topic_coordinates=               x          y  topics  cluster       Freq\n",
       "topic                                                  \n",
       "1      32.420952  8.115230   1       1        17.035517\n",
       "4      0.648955   71.707100  2       1        12.300604\n",
       "9      71.019684  9.971006   3       1        10.369589\n",
       "6      3.785981   33.185135  4       1        9.568212 \n",
       "2     -42.666500 -9.222070   5       1        9.453150 \n",
       "3     -3.621689  -43.526516  6       1        8.987981 \n",
       "8     -3.632402  -4.171708   7       1        8.501564 \n",
       "0     -36.584400  35.804413  8       1        8.260808 \n",
       "7      44.391380  50.615383  9       1        7.905165 \n",
       "5      40.235809 -31.591665  10      1        7.617409 , topic_info=          Term         Freq        Total Category  logprob  loglift\n",
       "1790  thug      5531.000000  5531.000000  Default  30.0000  30.0000\n",
       "1975  worker    5447.000000  5447.000000  Default  29.0000  29.0000\n",
       "470   couple    5510.000000  5510.000000  Default  28.0000  28.0000\n",
       "314   cleaning  5489.000000  5489.000000  Default  27.0000  27.0000\n",
       "1436  remove    5075.000000  5075.000000  Default  26.0000  26.0000\n",
       "...      ...            ...          ...      ...      ...      ...\n",
       "184   biden     1541.099707  1844.761166  Topic10 -4.2621   2.3949 \n",
       "985   know      1933.523733  2828.590182  Topic10 -4.0353   2.1943 \n",
       "488   cruz      1404.497365  2022.995380  Topic10 -4.3549   2.2098 \n",
       "1222  order     1261.386667  1707.700197  Topic10 -4.4624   2.2718 \n",
       "820   hawley    1342.099853  4784.660020  Topic10 -4.4004   1.3036 \n",
       "\n",
       "[438 rows x 6 columns], token_table=      Topic      Freq              Term\n",
       "term                                   \n",
       "11    9      0.999316  act             \n",
       "12    9      0.998426  act insurrection\n",
       "23    6      0.999330  actual          \n",
       "24    6      0.999158  actual coup     \n",
       "26    4      0.999022  administration  \n",
       "...  ..           ...          ...     \n",
       "1974  2      0.999351  work trump      \n",
       "1975  9      0.999842  worker          \n",
       "1976  1      0.999745  worker cleaning \n",
       "1977  9      0.999607  working         \n",
       "1978  9      0.999300  working coup    \n",
       "\n",
       "[601 rows x 3 columns], R=30, lambda_step=0.01, plot_opts={'xlab': 'PC1', 'ylab': 'PC2'}, topic_order=[2, 5, 10, 7, 3, 4, 9, 1, 8, 6])"
      ]
     },
     "execution_count": 25,
     "metadata": {},
     "output_type": "execute_result"
    }
   ],
   "source": [
    "pyLDAvis.enable_notebook()\n",
    "panel = pyLDAvis.sklearn.prepare(lda_model, doc_term_matrix_1, tfidfconverter, mds='tsne')\n",
    "panel"
   ]
  },
  {
   "cell_type": "code",
   "execution_count": null,
   "metadata": {},
   "outputs": [],
   "source": []
  }
 ],
 "metadata": {
  "kernelspec": {
   "display_name": "Python 3",
   "language": "python",
   "name": "python3"
  },
  "language_info": {
   "codemirror_mode": {
    "name": "ipython",
    "version": 3
   },
   "file_extension": ".py",
   "mimetype": "text/x-python",
   "name": "python",
   "nbconvert_exporter": "python",
   "pygments_lexer": "ipython3",
   "version": "3.7.7"
  }
 },
 "nbformat": 4,
 "nbformat_minor": 4
}
